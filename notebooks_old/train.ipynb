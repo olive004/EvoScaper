{
 "cells": [
  {
   "cell_type": "code",
   "execution_count": 7,
   "metadata": {},
   "outputs": [
    {
     "name": "stdout",
     "output_type": "stream",
     "text": [
      "The autoreload extension is already loaded. To reload it, use:\n",
      "  %reload_ext autoreload\n"
     ]
    }
   ],
   "source": [
    "%load_ext autoreload\n",
    "%autoreload 2"
   ]
  },
  {
   "attachments": {},
   "cell_type": "markdown",
   "metadata": {},
   "source": [
    "# Imports"
   ]
  },
  {
   "cell_type": "code",
   "execution_count": 8,
   "metadata": {},
   "outputs": [],
   "source": [
    "import os\n",
    "import sys\n",
    "import jax\n",
    "import pandas as pd\n",
    "import numpy as np\n",
    "import jax.numpy as jnp\n",
    "import haiku as hk\n",
    "import seaborn as sns\n",
    "import matplotlib.pyplot as plt\n",
    "\n",
    "\n",
    "if __package__ is None:\n",
    "\n",
    "    module_path = os.path.abspath(os.path.join('..'))\n",
    "    sys.path.append(module_path)\n",
    "\n",
    "    __package__ = os.path.basename(module_path)\n",
    "    \n",
    "\n",
    "from src.models.nucleotide_transformer import NucleotideTransformerConfig, build_nucleotide_transformer_fn\n",
    "from src.models.pretrained import FixedSizeNucleotidesKmersTokenizer\n",
    "from src.models.tokenizers_numeric import LogTokenizer\n",
    "\n",
    "\n",
    "root_dir = '..'"
   ]
  },
  {
   "cell_type": "code",
   "execution_count": 9,
   "metadata": {},
   "outputs": [],
   "source": [
    "data_fn = 'data/processed/ensemble_mutation_effect_analysis/2023_06_05_164913/tabulated_mutation_info.csv'\n",
    "# data_fn = 'data/raw/ensemble_mutation_effect_analysis/2023_05_16_174613/tabulated_mutation_info.csv'\n",
    "data_fn = os.path.join(root_dir, data_fn)\n",
    "\n",
    "data = pd.read_csv(data_fn)"
   ]
  },
  {
   "cell_type": "code",
   "execution_count": 10,
   "metadata": {},
   "outputs": [],
   "source": [
    "data['sample_seq'] = 'ACGUACGUACGUACGUACGU'"
   ]
  },
  {
   "attachments": {},
   "cell_type": "markdown",
   "metadata": {},
   "source": [
    "## Model Definition"
   ]
  },
  {
   "cell_type": "code",
   "execution_count": 11,
   "metadata": {},
   "outputs": [],
   "source": [
    "def calculate_max_positions(max_seq_length, circuit_size, k_for_kmers, kmer_overlap):\n",
    "    pad = True\n",
    "    cls = True\n",
    "    return int(\n",
    "        circuit_size * (max_seq_length / (k_for_kmers - kmer_overlap) + 2 * pad + 2 * cls)\n",
    "    )\n",
    "\n",
    "\n",
    "hyperparams = {\n",
    "    'k_for_kmers': 5,\n",
    "    'max_positions': 32,\n",
    "    'embed_scale': 1.0,\n",
    "    'emb_layer_norm_before': False,\n",
    "    'key_size': 64,\n",
    "    'attention_heads': 20,\n",
    "    'embed_dim': 140, # 1280,\n",
    "    'ffn_embed_dim': 512, # 5120,\n",
    "    'num_layers': 24,\n",
    "    'token_dropout': True,\n",
    "    'masking_ratio': 0.15,\n",
    "    'masking_prob': 0.8,\n",
    "    'use_gradient_checkpointing': False,\n",
    "}\n",
    "\n",
    "max_seq_length = data['sample_seq'].apply(len).max()\n",
    "kmer_overlap = 0\n",
    "circuit_size = len(data['sample_name'].unique())\n",
    "\n",
    "tokenizer = FixedSizeNucleotidesKmersTokenizer(\n",
    "    k_mers=hyperparams[\"k_for_kmers\"],\n",
    "    fixed_length=calculate_max_positions(max_seq_length, circuit_size, hyperparams[\"k_for_kmers\"], kmer_overlap),\n",
    "    prepend_cls_token=True,\n",
    "    append_eos_token=True,\n",
    "    nucleotide_type='RNA'\n",
    ")\n",
    "tokenizer_n = LogTokenizer(\n",
    "    granularity=5,\n",
    "    max_exp=6,\n",
    "    min_exp=-13,\n",
    "    prepend_cls_token=True,\n",
    "    append_eos_token=True,\n",
    ")\n",
    "\n",
    "embeddings_layers_to_save = tuple(np.arange(hyperparams[\"num_layers\"]))\n",
    "attention_maps_to_save = ((1, 4, 5), (7, 18))  # t[0] is the layer index, rest is attention map\n",
    "encfg = NucleotideTransformerConfig(\n",
    "    alphabet_size=len(tokenizer.vocabulary) - 2,\n",
    "    pad_token_id=tokenizer.pad_token_id,\n",
    "    mask_token_id=tokenizer.mask_token_id,\n",
    "    max_positions=hyperparams['max_positions'],\n",
    "    embed_scale=hyperparams[\"embed_scale\"],\n",
    "    # architecture\n",
    "    emb_layer_norm_before=hyperparams[\"emb_layer_norm_before\"],\n",
    "    key_size=hyperparams[\"key_dim\"] if \"key_dim\" in hyperparams.keys() else None,\n",
    "    attention_heads=hyperparams[\"attention_heads\"],\n",
    "    embed_dim=hyperparams[\"embed_dim\"],\n",
    "    ffn_embed_dim=hyperparams[\"ffn_embed_dim\"],\n",
    "    num_layers=hyperparams[\"num_layers\"],\n",
    "    # bert\n",
    "    token_dropout=hyperparams[\"token_dropout\"],\n",
    "    masking_ratio=hyperparams[\"masking_ratio\"],\n",
    "    masking_prob=hyperparams[\"masking_prob\"],\n",
    "    # embeddings to save\n",
    "    embeddings_layers_to_save=embeddings_layers_to_save,\n",
    "    attention_maps_to_save=attention_maps_to_save,\n",
    ")\n",
    "\n"
   ]
  },
  {
   "cell_type": "code",
   "execution_count": 12,
   "metadata": {},
   "outputs": [
    {
     "ename": "NameError",
     "evalue": "name 'tokens_ids' is not defined",
     "output_type": "error",
     "traceback": [
      "\u001b[0;31m---------------------------------------------------------------------------\u001b[0m",
      "\u001b[0;31mNameError\u001b[0m                                 Traceback (most recent call last)",
      "Cell \u001b[0;32mIn[12], line 7\u001b[0m\n\u001b[1;32m      5\u001b[0m tokens_n_ids \u001b[39m=\u001b[39m [b[\u001b[39m1\u001b[39m] \u001b[39mfor\u001b[39;00m b \u001b[39min\u001b[39;00m tokenizer_n\u001b[39m.\u001b[39mbatch_tokenize(sensitivities)]\n\u001b[1;32m      6\u001b[0m tokens_n_str \u001b[39m=\u001b[39m [b[\u001b[39m0\u001b[39m] \u001b[39mfor\u001b[39;00m b \u001b[39min\u001b[39;00m tokenizer_n\u001b[39m.\u001b[39mbatch_tokenize(sensitivities)]\n\u001b[0;32m----> 7\u001b[0m tokens_n \u001b[39m=\u001b[39m jnp\u001b[39m.\u001b[39masarray(tokens_ids, dtype\u001b[39m=\u001b[39mjnp\u001b[39m.\u001b[39mint32)\n",
      "\u001b[0;31mNameError\u001b[0m: name 'tokens_ids' is not defined"
     ]
    }
   ],
   "source": [
    "batch_size = 100\n",
    "\n",
    "# sensitivities = data.groupby(['circuit_name', 'mutation_name']).agg({'sensitivity': 'mean'})['sensitivity'].iloc[:batch_size].to_numpy()\n",
    "sensitivities = data.pivot(index=['circuit_name', 'mutation_name'], columns='sample_name', values='sensitivity').iloc[:batch_size].to_numpy()\n",
    "tokens_n_ids = [b[1] for b in tokenizer_n.batch_tokenize(sensitivities)]\n",
    "tokens_n_str = [b[0] for b in tokenizer_n.batch_tokenize(sensitivities)]\n",
    "tokens_n = jnp.asarray(tokens_ids, dtype=jnp.int32)\n"
   ]
  },
  {
   "cell_type": "code",
   "execution_count": null,
   "metadata": {},
   "outputs": [
    {
     "data": {
      "text/plain": [
       "array([[9.9999994e-01, 3.1720175e-04, 3.1720175e-04],\n",
       "       [9.9999994e-01, 3.1720175e-04, 3.1720175e-04],\n",
       "       [9.9999994e-01, 3.1720175e-04, 3.1720175e-04],\n",
       "       [9.9999994e-01, 3.1720175e-04, 3.1720175e-04],\n",
       "       [1.0000000e+00, 4.1887286e-04, 4.1887286e-04],\n",
       "       [9.9999994e-01, 3.1720175e-04, 3.1720175e-04],\n",
       "       [9.9999994e-01, 3.1720175e-04, 3.1720175e-04],\n",
       "       [9.9999994e-01, 3.1720175e-04, 3.1720175e-04],\n",
       "       [9.9999994e-01, 3.1720175e-04, 3.1720175e-04],\n",
       "       [9.9999994e-01, 3.1720175e-04, 3.1720175e-04],\n",
       "       [9.9999994e-01, 3.1720175e-04, 3.1720175e-04],\n",
       "       [1.0000000e+00, 3.5458517e-03, 1.1255274e-01],\n",
       "       [9.9999994e-01, 3.1720175e-04, 3.1720175e-04],\n",
       "       [1.0000000e+00, 1.3784019e-02, 1.8880663e-04],\n",
       "       [1.0000000e+00, 3.1176400e-04, 9.8697010e-04],\n",
       "       [9.9999994e-01, 3.1720175e-04, 3.1720175e-04],\n",
       "       [9.9999994e-01, 3.1720175e-04, 3.1720175e-04],\n",
       "       [9.9999994e-01, 3.1720175e-04, 3.1720175e-04],\n",
       "       [9.9999994e-01, 9.2503910e-04, 3.3910856e-02],\n",
       "       [9.9999994e-01, 3.1720175e-04, 3.1720175e-04],\n",
       "       [9.9999994e-01, 3.1720175e-04, 3.1720175e-04],\n",
       "       [9.9999994e-01, 3.1720175e-04, 3.1720175e-04],\n",
       "       [9.9999994e-01, 3.1720175e-04, 3.1720175e-04],\n",
       "       [9.9999994e-01, 3.1720175e-04, 3.1720175e-04],\n",
       "       [1.0000000e+00, 3.2841307e-04, 3.2841307e-04],\n",
       "       [1.0000000e+00, 5.6432586e-05, 7.2000420e-03],\n",
       "       [1.0000000e+00, 3.3099503e-05, 9.5782430e-03],\n",
       "       [9.9999994e-01, 3.1720175e-04, 3.1720175e-04],\n",
       "       [9.9999994e-01, 3.1720175e-04, 3.1720175e-04],\n",
       "       [9.9999994e-01, 3.1720175e-04, 3.1720175e-04],\n",
       "       [9.9999994e-01, 3.1720175e-04, 3.1720175e-04],\n",
       "       [9.9999994e-01, 3.1720175e-04, 3.1720175e-04],\n",
       "       [9.9999994e-01, 3.1720175e-04, 3.1720175e-04],\n",
       "       [9.9999994e-01, 3.1720175e-04, 3.1720175e-04],\n",
       "       [9.9999994e-01, 3.1720175e-04, 3.1720175e-04],\n",
       "       [9.9999994e-01, 3.1720175e-04, 3.1720175e-04],\n",
       "       [9.9999994e-01, 3.1720175e-04, 3.1720175e-04],\n",
       "       [9.9999994e-01, 3.1720175e-04, 3.1720175e-04],\n",
       "       [9.9999994e-01, 3.1720175e-04, 3.1720175e-04],\n",
       "       [9.9999994e-01, 3.1720175e-04, 3.1720175e-04],\n",
       "       [9.9999994e-01, 3.1720175e-04, 3.1720175e-04],\n",
       "       [9.9999994e-01, 3.1720175e-04, 3.1720175e-04],\n",
       "       [9.9999994e-01, 3.1720175e-04, 3.1720175e-04],\n",
       "       [9.9999994e-01, 3.1720175e-04, 3.1720175e-04],\n",
       "       [9.9999994e-01, 3.1720175e-04, 3.1720175e-04],\n",
       "       [1.0000000e+00, 4.1887286e-04, 4.1887286e-04],\n",
       "       [9.9999994e-01, 3.1720175e-04, 3.1720175e-04],\n",
       "       [1.0000000e+00, 2.1320118e-02, 7.7023870e-01],\n",
       "       [9.9999994e-01, 3.1720175e-04, 3.1720175e-04],\n",
       "       [9.9999994e-01, 3.1720175e-04, 3.1720175e-04],\n",
       "       [9.9999994e-01, 1.3193983e-04, 5.2356576e-03],\n",
       "       [9.9999994e-01, 3.1720175e-04, 3.1720175e-04],\n",
       "       [9.9999994e-01, 3.1720175e-04, 3.1720175e-04],\n",
       "       [9.9999994e-01, 3.1720175e-04, 3.1720175e-04],\n",
       "       [9.9999994e-01, 3.1720175e-04, 3.1720175e-04],\n",
       "       [9.9999994e-01, 3.1720175e-04, 3.1720175e-04],\n",
       "       [1.0000000e+00, 3.3961984e-04, 3.3961984e-04],\n",
       "       [9.9999994e-01, 3.1720175e-04, 3.1720175e-04],\n",
       "       [1.0000000e+00, 6.0503796e-04, 6.0503796e-04],\n",
       "       [9.9999994e-01, 3.1720175e-04, 3.1720175e-04],\n",
       "       [1.0000000e+00, 3.1828988e-04, 3.1828988e-04],\n",
       "       [1.0000000e+00, 3.2971412e-04, 3.2971412e-04],\n",
       "       [1.0000000e+00, 3.3142138e-04, 3.3142138e-04],\n",
       "       [9.9999994e-01, 3.1799165e-04, 3.1799165e-04],\n",
       "       [1.0000000e+00, 3.3411305e-04, 3.3411305e-04],\n",
       "       [1.0000000e+00, 3.2151176e-04, 3.2151176e-04],\n",
       "       [1.0000000e+00, 3.2285132e-04, 3.2285132e-04],\n",
       "       [1.0000000e+00, 3.2108900e-04, 3.2108900e-04],\n",
       "       [9.9999994e-01, 3.1670663e-04, 3.1670663e-04],\n",
       "       [1.0000000e+00, 3.1684962e-04, 3.1684962e-04],\n",
       "       [1.0000000e+00, 3.3497690e-04, 3.3497690e-04],\n",
       "       [1.0000000e+00, 3.3497690e-04, 3.3497690e-04],\n",
       "       [1.0000000e+00, 3.3497690e-04, 3.3497690e-04],\n",
       "       [1.0000000e+00, 9.1048500e-02, 3.5855290e-04],\n",
       "       [1.0000000e+00, 3.3081605e-04, 3.3081605e-04],\n",
       "       [1.0000000e+00, 3.3497690e-04, 3.3497690e-04],\n",
       "       [1.0000000e+00, 3.2462970e-04, 3.3497342e-04],\n",
       "       [9.9999994e-01, 3.1986184e-04, 3.3497160e-04],\n",
       "       [1.0000000e+00, 3.3497690e-04, 3.3497690e-04],\n",
       "       [1.0000000e+00, 2.8702340e-04, 3.3518253e-04],\n",
       "       [9.9999994e-01, 3.3518695e-04, 3.3518695e-04],\n",
       "       [1.0000000e+00, 3.3497690e-04, 3.3497690e-04],\n",
       "       [1.0000000e+00, 3.3497690e-04, 3.3497690e-04],\n",
       "       [1.0000000e+00, 3.3497690e-04, 3.3497690e-04],\n",
       "       [1.0000000e+00, 3.2502960e-04, 3.2502960e-04],\n",
       "       [1.0000000e+00, 3.3497690e-04, 3.3497690e-04],\n",
       "       [9.9999994e-01, 5.9359497e-03, 3.3583693e-04],\n",
       "       [9.9999994e-01, 3.3576760e-04, 3.3576760e-04],\n",
       "       [1.0000000e+00, 3.3497690e-04, 3.3497690e-04],\n",
       "       [1.0000000e+00, 3.3136332e-04, 3.3136332e-04],\n",
       "       [1.0000000e+00, 3.3497690e-04, 3.3497690e-04],\n",
       "       [9.9999994e-01, 3.3423380e-04, 3.3423380e-04],\n",
       "       [9.9999994e-01, 3.3411820e-04, 3.3411820e-04],\n",
       "       [1.0000000e+00, 3.0362088e-04, 3.0362088e-04],\n",
       "       [1.0000000e+00, 3.3497690e-04, 3.3497690e-04],\n",
       "       [9.9999994e-01, 3.3016966e-04, 3.3016966e-04],\n",
       "       [1.0000000e+00, 2.8881940e-04, 2.8881940e-04],\n",
       "       [9.9999994e-01, 2.9161270e-04, 2.9161270e-04],\n",
       "       [1.0000000e+00, 3.3497690e-04, 3.3497690e-04],\n",
       "       [1.0000000e+00, 3.2240563e-04, 3.2240563e-04]])"
      ]
     },
     "execution_count": 23,
     "metadata": {},
     "output_type": "execute_result"
    }
   ],
   "source": [
    "sensitivities"
   ]
  },
  {
   "cell_type": "code",
   "execution_count": null,
   "metadata": {},
   "outputs": [],
   "source": [
    "batch_size = 100\n",
    "\n",
    "sequences = data.groupby(['circuit_name', 'mutation_name']).agg({'sample_seq': lambda x: [*x]})['sample_seq'].iloc[:batch_size].to_numpy()\n",
    "tokens_ids = [b[1] for b in tokenizer.batch_tokenize(sequences)]\n",
    "tokens_str = [b[0] for b in tokenizer.batch_tokenize(sequences)]\n",
    "tokens = jnp.asarray(tokens_ids, dtype=jnp.int32)\n"
   ]
  },
  {
   "cell_type": "code",
   "execution_count": null,
   "metadata": {},
   "outputs": [],
   "source": [
    "forward_fn = build_nucleotide_transformer_fn(encfg)\n",
    "forward_fnt = hk.transform(forward_fn)\n",
    "\n",
    "rng = hk.PRNGSequence(jax.random.PRNGKey(42))\n",
    "params = forward_fnt.init(next(rng), tokens[0, None])"
   ]
  },
  {
   "cell_type": "code",
   "execution_count": null,
   "metadata": {},
   "outputs": [],
   "source": [
    "outs = forward_fnt.apply(params, next(rng), tokens[:100])"
   ]
  },
  {
   "cell_type": "code",
   "execution_count": null,
   "metadata": {},
   "outputs": [
    {
     "data": {
      "text/plain": [
       "dict_keys(['embeddings_1', 'attention_map_layer_1_number_4', 'attention_map_layer_1_number_5', 'embeddings_2', 'embeddings_3', 'embeddings_4', 'embeddings_5', 'embeddings_6', 'embeddings_7', 'attention_map_layer_7_number_18', 'embeddings_8', 'embeddings_9', 'embeddings_10', 'embeddings_11', 'embeddings_12', 'embeddings_13', 'embeddings_14', 'embeddings_15', 'embeddings_16', 'embeddings_17', 'embeddings_18', 'embeddings_19', 'embeddings_20', 'embeddings_21', 'embeddings_22', 'embeddings_23', 'logits'])"
      ]
     },
     "execution_count": 12,
     "metadata": {},
     "output_type": "execute_result"
    }
   ],
   "source": [
    "outs.keys()"
   ]
  },
  {
   "cell_type": "code",
   "execution_count": null,
   "metadata": {},
   "outputs": [
    {
     "data": {
      "text/plain": [
       "(100, 24, 1033)"
      ]
     },
     "execution_count": 13,
     "metadata": {},
     "output_type": "execute_result"
    }
   ],
   "source": [
    "outs['logits'].shape"
   ]
  },
  {
   "attachments": {},
   "cell_type": "markdown",
   "metadata": {},
   "source": [
    "## Outs"
   ]
  },
  {
   "attachments": {},
   "cell_type": "markdown",
   "metadata": {},
   "source": [
    "### Numerical"
   ]
  },
  {
   "cell_type": "code",
   "execution_count": null,
   "metadata": {},
   "outputs": [
    {
     "ename": "TypeError",
     "evalue": "mul got incompatible shapes for broadcasting: (100, 23, 140), (100, 5, 1).",
     "output_type": "error",
     "traceback": [
      "\u001b[0;31m---------------------------------------------------------------------------\u001b[0m",
      "\u001b[0;31mTypeError\u001b[0m                                 Traceback (most recent call last)",
      "Cell \u001b[0;32mIn[15], line 3\u001b[0m\n\u001b[1;32m      1\u001b[0m embeddings \u001b[39m=\u001b[39m outs[\u001b[39m\"\u001b[39m\u001b[39membeddings_20\u001b[39m\u001b[39m\"\u001b[39m][:, \u001b[39m1\u001b[39m:, :]  \u001b[39m# removing CLS token\u001b[39;00m\n\u001b[1;32m      2\u001b[0m padding_mask \u001b[39m=\u001b[39m jnp\u001b[39m.\u001b[39mexpand_dims(tokens_n[:batch_size, \u001b[39m1\u001b[39m:] \u001b[39m!=\u001b[39m tokenizer_n\u001b[39m.\u001b[39mpad_token_id, axis\u001b[39m=\u001b[39m\u001b[39m-\u001b[39m\u001b[39m1\u001b[39m)\n\u001b[0;32m----> 3\u001b[0m masked_embeddings \u001b[39m=\u001b[39m embeddings \u001b[39m*\u001b[39;49m padding_mask  \u001b[39m# multiply by 0 pad tokens_n embeddings\u001b[39;00m\n\u001b[1;32m      4\u001b[0m sequences_lengths \u001b[39m=\u001b[39m jnp\u001b[39m.\u001b[39msum(padding_mask, axis\u001b[39m=\u001b[39m\u001b[39m1\u001b[39m)\n\u001b[1;32m      5\u001b[0m mean_embeddings \u001b[39m=\u001b[39m jnp\u001b[39m.\u001b[39msum(masked_embeddings, axis\u001b[39m=\u001b[39m\u001b[39m1\u001b[39m) \u001b[39m/\u001b[39m sequences_lengths\n",
      "File \u001b[0;32m~/Kode/env_evo/lib/python3.9/site-packages/jax/_src/numpy/array_methods.py:258\u001b[0m, in \u001b[0;36m_defer_to_unrecognized_arg.<locals>.deferring_binary_op\u001b[0;34m(self, other)\u001b[0m\n\u001b[1;32m    256\u001b[0m args \u001b[39m=\u001b[39m (other, \u001b[39mself\u001b[39m) \u001b[39mif\u001b[39;00m swap \u001b[39melse\u001b[39;00m (\u001b[39mself\u001b[39m, other)\n\u001b[1;32m    257\u001b[0m \u001b[39mif\u001b[39;00m \u001b[39misinstance\u001b[39m(other, _accepted_binop_types):\n\u001b[0;32m--> 258\u001b[0m   \u001b[39mreturn\u001b[39;00m binary_op(\u001b[39m*\u001b[39;49margs)\n\u001b[1;32m    259\u001b[0m \u001b[39mif\u001b[39;00m \u001b[39misinstance\u001b[39m(other, _rejected_binop_types):\n\u001b[1;32m    260\u001b[0m   \u001b[39mraise\u001b[39;00m \u001b[39mTypeError\u001b[39;00m(\u001b[39mf\u001b[39m\u001b[39m\"\u001b[39m\u001b[39munsupported operand type(s) for \u001b[39m\u001b[39m{\u001b[39;00mopchar\u001b[39m}\u001b[39;00m\u001b[39m: \u001b[39m\u001b[39m\"\u001b[39m\n\u001b[1;32m    261\u001b[0m                   \u001b[39mf\u001b[39m\u001b[39m\"\u001b[39m\u001b[39m{\u001b[39;00m\u001b[39mtype\u001b[39m(args[\u001b[39m0\u001b[39m])\u001b[39m.\u001b[39m\u001b[39m__name__\u001b[39m\u001b[39m!r}\u001b[39;00m\u001b[39m and \u001b[39m\u001b[39m{\u001b[39;00m\u001b[39mtype\u001b[39m(args[\u001b[39m1\u001b[39m])\u001b[39m.\u001b[39m\u001b[39m__name__\u001b[39m\u001b[39m!r}\u001b[39;00m\u001b[39m\"\u001b[39m)\n",
      "    \u001b[0;31m[... skipping hidden 12 frame]\u001b[0m\n",
      "File \u001b[0;32m~/Kode/env_evo/lib/python3.9/site-packages/jax/_src/numpy/ufuncs.py:97\u001b[0m, in \u001b[0;36m_maybe_bool_binop.<locals>.fn\u001b[0;34m(x1, x2)\u001b[0m\n\u001b[1;32m     95\u001b[0m \u001b[39mdef\u001b[39;00m \u001b[39mfn\u001b[39m(x1, x2, \u001b[39m/\u001b[39m):\n\u001b[1;32m     96\u001b[0m   x1, x2 \u001b[39m=\u001b[39m promote_args(numpy_fn\u001b[39m.\u001b[39m\u001b[39m__name__\u001b[39m, x1, x2)\n\u001b[0;32m---> 97\u001b[0m   \u001b[39mreturn\u001b[39;00m lax_fn(x1, x2) \u001b[39mif\u001b[39;00m x1\u001b[39m.\u001b[39mdtype \u001b[39m!=\u001b[39m np\u001b[39m.\u001b[39mbool_ \u001b[39melse\u001b[39;00m bool_lax_fn(x1, x2)\n",
      "    \u001b[0;31m[... skipping hidden 7 frame]\u001b[0m\n",
      "File \u001b[0;32m~/Kode/env_evo/lib/python3.9/site-packages/jax/_src/lax/lax.py:1578\u001b[0m, in \u001b[0;36mbroadcasting_shape_rule\u001b[0;34m(name, *avals)\u001b[0m\n\u001b[1;32m   1576\u001b[0m       result_shape\u001b[39m.\u001b[39mappend(non_1s[\u001b[39m0\u001b[39m])\n\u001b[1;32m   1577\u001b[0m     \u001b[39melse\u001b[39;00m:\n\u001b[0;32m-> 1578\u001b[0m       \u001b[39mraise\u001b[39;00m \u001b[39mTypeError\u001b[39;00m(\u001b[39mf\u001b[39m\u001b[39m'\u001b[39m\u001b[39m{\u001b[39;00mname\u001b[39m}\u001b[39;00m\u001b[39m got incompatible shapes for broadcasting: \u001b[39m\u001b[39m'\u001b[39m\n\u001b[1;32m   1579\u001b[0m                       \u001b[39mf\u001b[39m\u001b[39m'\u001b[39m\u001b[39m{\u001b[39;00m\u001b[39m\"\u001b[39m\u001b[39m, \u001b[39m\u001b[39m\"\u001b[39m\u001b[39m.\u001b[39mjoin(\u001b[39mmap\u001b[39m(\u001b[39mstr\u001b[39m,\u001b[39m \u001b[39m\u001b[39mmap\u001b[39m(\u001b[39mtuple\u001b[39m,\u001b[39m \u001b[39mshapes)))\u001b[39m}\u001b[39;00m\u001b[39m.\u001b[39m\u001b[39m'\u001b[39m)\n\u001b[1;32m   1581\u001b[0m \u001b[39mreturn\u001b[39;00m \u001b[39mtuple\u001b[39m(result_shape)\n",
      "\u001b[0;31mTypeError\u001b[0m: mul got incompatible shapes for broadcasting: (100, 23, 140), (100, 5, 1)."
     ]
    }
   ],
   "source": [
    "embeddings = outs[\"embeddings_20\"][:, 1:, :]  # removing CLS token\n",
    "padding_mask = jnp.expand_dims(tokens_n[:batch_size, 1:] != tokenizer_n.pad_token_id, axis=-1)\n",
    "masked_embeddings = embeddings * padding_mask  # multiply by 0 pad tokens_n embeddings\n",
    "sequences_lengths = jnp.sum(padding_mask, axis=1)\n",
    "mean_embeddings = jnp.sum(masked_embeddings, axis=1) / sequences_lengths\n",
    "\n",
    "logits = outs[\"logits\"]\n",
    "probabilities = []\n",
    "\n",
    "# get probabilities separately for each seq as they have different lengths\n",
    "for seq_id in range(logits.shape[0]):\n",
    "\n",
    "    logits_seq = logits[seq_id]\n",
    "    seq_length = int(sequences_lengths[seq_id])\n",
    "    logits_seq = logits_seq[1 : (seq_length + 1)]  # remove CLS token and pads\n",
    "    probas = jax.nn.softmax(\n",
    "        logits_seq, axis=-1\n",
    "    )  # use softmax to transform logits into probabilities\n",
    "\n",
    "    probabilities.append(probas)"
   ]
  },
  {
   "cell_type": "code",
   "execution_count": null,
   "metadata": {},
   "outputs": [
    {
     "name": "stdout",
     "output_type": "stream",
     "text": [
      "token: 0.8,\ttoken_id: 56,\t probability: 5.85%\n",
      "token: 60.0,\ttoken_id: 63,\t probability: 5.66%\n",
      "token: 2e-07,\ttoken_id: 29,\t probability: 3.98%\n",
      "token: 80.0,\ttoken_id: 64,\t probability: 3.68%\n",
      "token: 4e-13,\ttoken_id: 6,\t probability: 3.49%\n",
      "token: 8e-09,\ttoken_id: 24,\t probability: 3.42%\n",
      "token: 0.4,\ttoken_id: 54,\t probability: 3.22%\n",
      "token: 4e-09,\ttoken_id: 22,\t probability: 2.70%\n",
      "token: 20.0,\ttoken_id: 61,\t probability: 2.50%\n",
      "token: 400000.0,\ttoken_id: 78,\t probability: 2.38%\n"
     ]
    }
   ],
   "source": [
    "sensitivity_id = 0\n",
    "position_id = 1\n",
    "\n",
    "probs = probabilities[sensitivity_id][position_id]\n",
    "sorted_positions = jnp.argsort(-probs)\n",
    "sorted_probs = probs[sorted_positions]\n",
    "\n",
    "top_k = 10\n",
    "for k in range(top_k):\n",
    "    predicted_token = tokenizer_n.id_to_token(int(sorted_positions[k]))\n",
    "    prob = sorted_probs[k]\n",
    "    print(f\"token: {predicted_token},\\ttoken_id: {int(sorted_positions[k])},\\t probability: {prob * 100:.2f}%\")"
   ]
  },
  {
   "attachments": {},
   "cell_type": "markdown",
   "metadata": {},
   "source": [
    "### Sequences"
   ]
  },
  {
   "cell_type": "code",
   "execution_count": null,
   "metadata": {},
   "outputs": [],
   "source": [
    "embeddings = outs[\"embeddings_20\"][:, 1:, :]  # removing CLS token\n",
    "padding_mask = jnp.expand_dims(tokens[:batch_size, 1:] != tokenizer.pad_token_id, axis=-1)\n",
    "masked_embeddings = embeddings * padding_mask  # multiply by 0 pad tokens embeddings\n",
    "sequences_lengths = jnp.sum(padding_mask, axis=1)\n",
    "mean_embeddings = jnp.sum(masked_embeddings, axis=1) / sequences_lengths\n",
    "\n",
    "logits = outs[\"logits\"]\n",
    "probabilities = []\n",
    "\n",
    "# get probabilities separately for each seq as they have different lengths\n",
    "for seq_id in range(logits.shape[0]):\n",
    "\n",
    "    logits_seq = logits[seq_id]\n",
    "    seq_length = int(sequences_lengths[seq_id])\n",
    "    logits_seq = logits_seq[1 : (seq_length + 1)]  # remove CLS token and pads\n",
    "    probas = jax.nn.softmax(\n",
    "        logits_seq, axis=-1\n",
    "    )  # use softmax to transform logits into probabilities\n",
    "\n",
    "    probabilities.append(probas)"
   ]
  },
  {
   "cell_type": "code",
   "execution_count": null,
   "metadata": {},
   "outputs": [
    {
     "name": "stdout",
     "output_type": "stream",
     "text": [
      "token: UAUAA, probability: 1.37%\n",
      "token: AUAUA, probability: 1.20%\n",
      "token: CCCAA, probability: 0.99%\n",
      "token: ACAUU, probability: 0.77%\n",
      "token: AAGGA, probability: 0.75%\n",
      "token: CUAGU, probability: 0.73%\n",
      "token: CUCGA, probability: 0.66%\n",
      "token: AGAAC, probability: 0.65%\n",
      "token: UUCUG, probability: 0.60%\n",
      "token: UAAAA, probability: 0.60%\n"
     ]
    }
   ],
   "source": [
    "sensitivity_id = 0\n",
    "position_id = 1\n",
    "\n",
    "probs = probabilities[sensitivity_id][position_id]\n",
    "sorted_positions = jnp.argsort(-probs)\n",
    "sorted_probs = probs[sorted_positions]\n",
    "\n",
    "top_k = 10\n",
    "for k in range(top_k):\n",
    "    predicted_token = tokenizer.id_to_token(int(sorted_positions[k]))\n",
    "    prob = sorted_probs[k]\n",
    "    print(f\"token: {predicted_token}, probability: {prob * 100:.2f}%\")"
   ]
  },
  {
   "cell_type": "code",
   "execution_count": null,
   "metadata": {},
   "outputs": [
    {
     "data": {
      "text/plain": [
       "dict_keys(['embeddings_1', 'attention_map_layer_1_number_4', 'attention_map_layer_1_number_5', 'embeddings_2', 'embeddings_3', 'embeddings_4', 'embeddings_5', 'embeddings_6', 'embeddings_7', 'attention_map_layer_7_number_18', 'embeddings_8', 'embeddings_9', 'embeddings_10', 'embeddings_11', 'embeddings_12', 'embeddings_13', 'embeddings_14', 'embeddings_15', 'embeddings_16', 'embeddings_17', 'embeddings_18', 'embeddings_19', 'embeddings_20', 'embeddings_21', 'embeddings_22', 'embeddings_23', 'logits'])"
      ]
     },
     "execution_count": 89,
     "metadata": {},
     "output_type": "execute_result"
    }
   ],
   "source": [
    "outs.keys()"
   ]
  },
  {
   "cell_type": "code",
   "execution_count": null,
   "metadata": {},
   "outputs": [
    {
     "data": {
      "text/plain": [
       "(100, 24, 1280)"
      ]
     },
     "execution_count": 90,
     "metadata": {},
     "output_type": "execute_result"
    }
   ],
   "source": [
    "outs['embeddings_1'].shape"
   ]
  },
  {
   "cell_type": "code",
   "execution_count": null,
   "metadata": {},
   "outputs": [
    {
     "data": {
      "text/plain": [
       "<Axes: ylabel='Count'>"
      ]
     },
     "execution_count": 55,
     "metadata": {},
     "output_type": "execute_result"
    },
    {
     "data": {
      "image/png": "[encoded data removed]",
      "text/plain": [
       "<Figure size 1100x500 with 2 Axes>"
      ]
     },
     "metadata": {},
     "output_type": "display_data"
    }
   ],
   "source": [
    "plt.figure(figsize=(11, 5))\n",
    "ax = plt.subplot(1,2,1)\n",
    "sns.scatterplot(jnp.average(outs_d['embeddings_1'], axis=0).T)\n",
    "ax = plt.subplot(1,2,2)\n",
    "sns.histplot(jnp.average(outs_d['embeddings_1'], axis=0).T, element='step')\n"
   ]
  },
  {
   "attachments": {},
   "cell_type": "markdown",
   "metadata": {},
   "source": [
    "# Train\n",
    "\n",
    "Adapted from https://github.com/deepmind/dm-haiku/blob/main/examples/transformer/train.py"
   ]
  },
  {
   "cell_type": "code",
   "execution_count": null,
   "metadata": {},
   "outputs": [],
   "source": [
    "\n",
    "from pytorch_metric_learning.losses import SelfSupervisedLoss, NTXentLoss\n",
    "\n",
    "import torch\n",
    "from tqdm import tqdm\n",
    "import optax\n",
    "\n",
    "from typing import Any, MutableMapping, NamedTuple, Tuple, Union"
   ]
  },
  {
   "cell_type": "code",
   "execution_count": null,
   "metadata": {},
   "outputs": [],
   "source": [
    "\n",
    "LEARNING_RATE = 3e-4\n",
    "GRAD_CLIP_VALUE = 1"
   ]
  },
  {
   "attachments": {},
   "cell_type": "markdown",
   "metadata": {},
   "source": [
    "Funcs"
   ]
  },
  {
   "cell_type": "code",
   "execution_count": null,
   "metadata": {},
   "outputs": [],
   "source": [
    "\n",
    "def optimiser() -> optax.GradientTransformation:\n",
    "    return optax.chain(\n",
    "        optax.clip_by_global_norm(GRAD_CLIP_VALUE),\n",
    "        optax.adam(LEARNING_RATE, b1=0.9, b2=0.99),\n",
    "    )\n",
    "    "
   ]
  },
  {
   "attachments": {},
   "cell_type": "markdown",
   "metadata": {},
   "source": [
    "Init training"
   ]
  },
  {
   "cell_type": "code",
   "execution_count": null,
   "metadata": {},
   "outputs": [],
   "source": [
    "\n",
    "class TrainingState(NamedTuple):\n",
    "    \"\"\"Container for the training state.\"\"\"\n",
    "    params: hk.Params  # Current network parameters.\n",
    "    opt_state: optax.OptState  # Optimiser state (e.g. gradient moments).\n",
    "    rng_key: jax.Array  # RNG used for e.g. dropout. Split on each update step.\n",
    "    step: jax.Array  # Tracks the number of training steps.\n",
    "\n",
    "\n",
    "@jax.jit\n",
    "def init_train(rng: jax.Array, tokens) -> TrainingState:\n",
    "    \"\"\"Makes an initial training state (random parameters).\"\"\"\n",
    "    # rng, init_rng = jax.random.split(rng)\n",
    "    initial_params = forward_fnt.init(next(rng), tokens[0, None])\n",
    "    initial_opt_state = optimiser().init(initial_params)\n",
    "    return TrainingState(\n",
    "        params=initial_params,\n",
    "        opt_state=initial_opt_state,\n",
    "        rng_key=rng,\n",
    "        step=jnp.array(0),\n",
    "    )\n",
    "\n"
   ]
  },
  {
   "cell_type": "code",
   "execution_count": null,
   "metadata": {},
   "outputs": [],
   "source": [
    "# @hk.transform\n",
    "def loss_fn(logits, pad_token_id) -> jax.Array:\n",
    "    \"\"\"Computes the (scalar) language modelling loss on `data` w.r.t. params.\"\"\"\n",
    "    log_probs = jax.nn.log_softmax(logits)  # [B, T, V]\n",
    "    # SelfSupervisedLoss(NTXentLoss())\n",
    "    onehot_targets = jax.nn.one_hot(data.targets, logits.shape[-1]) #dataset.VOCAB_SIZE)\n",
    "    log_likelihood = jnp.sum(onehot_targets * log_probs, axis=-1)  # [B, T]\n",
    "\n",
    "    # Loss is the average negative log-likelihood per (non-masked) token.\n",
    "    mask = jnp.not_equal(data.inputs, pad_token_id)  # [B, T]\n",
    "    return -jnp.sum(log_likelihood * mask) / jnp.sum(mask)  # []\n"
   ]
  },
  {
   "cell_type": "code",
   "execution_count": null,
   "metadata": {},
   "outputs": [],
   "source": [
    "\n",
    "\n",
    "@jax.jit\n",
    "def update(\n",
    "        state: TrainingState, data) -> Tuple[TrainingState, dict]:\n",
    "    \"\"\"Does an SGD step, returning a new training state and metrics.\"\"\"\n",
    "    rng, net_rng = jax.random.split(state.rng_key)\n",
    "    loss_and_grad_fn = jax.value_and_grad(loss_fn.apply)\n",
    "    loss, gradients = loss_and_grad_fn(state.params, net_rng, data)\n",
    "\n",
    "    updates, new_opt_state = optimiser().update(gradients, state.opt_state)\n",
    "    new_params = optax.apply_updates(state.params, updates)\n",
    "\n",
    "    new_state = TrainingState(\n",
    "        params=new_params,\n",
    "        opt_state=new_opt_state,\n",
    "        rng_key=rng,\n",
    "        step=state.step + 1,\n",
    "    )\n",
    "\n",
    "    metrics = {\n",
    "        'step': state.step,\n",
    "        'loss': loss,\n",
    "    }\n",
    "    return new_state, metrics"
   ]
  },
  {
   "cell_type": "code",
   "execution_count": null,
   "metadata": {},
   "outputs": [
    {
     "name": "stderr",
     "output_type": "stream",
     "text": [
      "  0%|          | 0/1000 [00:00<?, ?it/s]"
     ]
    },
    {
     "name": "stdout",
     "output_type": "stream",
     "text": [
      "[list(['ACGUACGUACGUACGUACGU', 'ACGUACGUACGUACGUACGU', 'ACGUACGUACGUACGUACGU'])\n",
      " list(['ACGUACGUACGUACGUACGU', 'ACGUACGUACGUACGUACGU', 'ACGUACGUACGUACGUACGU'])\n",
      " list(['ACGUACGUACGUACGUACGU', 'ACGUACGUACGUACGUACGU', 'ACGUACGUACGUACGUACGU'])\n",
      " list(['ACGUACGUACGUACGUACGU', 'ACGUACGUACGUACGUACGU', 'ACGUACGUACGUACGUACGU'])\n",
      " list(['ACGUACGUACGUACGUACGU', 'ACGUACGUACGUACGUACGU', 'ACGUACGUACGUACGUACGU'])\n",
      " list(['ACGUACGUACGUACGUACGU', 'ACGUACGUACGUACGUACGU', 'ACGUACGUACGUACGUACGU'])\n",
      " list(['ACGUACGUACGUACGUACGU', 'ACGUACGUACGUACGUACGU', 'ACGUACGUACGUACGUACGU'])\n",
      " list(['ACGUACGUACGUACGUACGU', 'ACGUACGUACGUACGUACGU', 'ACGUACGUACGUACGUACGU'])\n",
      " list(['ACGUACGUACGUACGUACGU', 'ACGUACGUACGUACGUACGU', 'ACGUACGUACGUACGUACGU'])\n",
      " list(['ACGUACGUACGUACGUACGU', 'ACGUACGUACGUACGUACGU', 'ACGUACGUACGUACGUACGU'])]\n"
     ]
    },
    {
     "name": "stderr",
     "output_type": "stream",
     "text": [
      "  0%|          | 0/1000 [00:00<?, ?it/s]\n"
     ]
    },
    {
     "ename": "TypeError",
     "evalue": "loss_fn() takes 2 positional arguments but 4 were given",
     "output_type": "error",
     "traceback": [
      "\u001b[0;31m---------------------------------------------------------------------------\u001b[0m",
      "\u001b[0;31mTypeError\u001b[0m                                 Traceback (most recent call last)",
      "Cell \u001b[0;32mIn[102], line 49\u001b[0m\n\u001b[1;32m     45\u001b[0m \u001b[39m# logits_d = outs_d[\"logits\"]\u001b[39;00m\n\u001b[1;32m     48\u001b[0m loss_and_grad_fn \u001b[39m=\u001b[39m jax\u001b[39m.\u001b[39mvalue_and_grad(loss_fn)\n\u001b[0;32m---> 49\u001b[0m loss, gradients \u001b[39m=\u001b[39m loss_and_grad_fn(params, \u001b[39mnext\u001b[39;49m(rng), logits, tokenizer\u001b[39m.\u001b[39;49mpad_token_id)\n\u001b[1;32m     50\u001b[0m losses\u001b[39m.\u001b[39mappend(loss)\n\u001b[1;32m     52\u001b[0m \u001b[39m# params = jax.tree_util.tree_map(update_rule, params, grads)\u001b[39;00m\n",
      "    \u001b[0;31m[... skipping hidden 7 frame]\u001b[0m\n",
      "File \u001b[0;32m~/Desktop/Kode/Oxford/DPhil/EvoScaper/.venv/lib/python3.11/site-packages/jax/_src/linear_util.py:188\u001b[0m, in \u001b[0;36mWrappedFun.call_wrapped\u001b[0;34m(self, *args, **kwargs)\u001b[0m\n\u001b[1;32m    185\u001b[0m gen \u001b[39m=\u001b[39m gen_static_args \u001b[39m=\u001b[39m out_store \u001b[39m=\u001b[39m \u001b[39mNone\u001b[39;00m\n\u001b[1;32m    187\u001b[0m \u001b[39mtry\u001b[39;00m:\n\u001b[0;32m--> 188\u001b[0m   ans \u001b[39m=\u001b[39m \u001b[39mself\u001b[39;49m\u001b[39m.\u001b[39;49mf(\u001b[39m*\u001b[39;49margs, \u001b[39m*\u001b[39;49m\u001b[39m*\u001b[39;49m\u001b[39mdict\u001b[39;49m(\u001b[39mself\u001b[39;49m\u001b[39m.\u001b[39;49mparams, \u001b[39m*\u001b[39;49m\u001b[39m*\u001b[39;49mkwargs))\n\u001b[1;32m    189\u001b[0m \u001b[39mexcept\u001b[39;00m:\n\u001b[1;32m    190\u001b[0m   \u001b[39m# Some transformations yield from inside context managers, so we have to\u001b[39;00m\n\u001b[1;32m    191\u001b[0m   \u001b[39m# interrupt them before reraising the exception. Otherwise they will only\u001b[39;00m\n\u001b[1;32m    192\u001b[0m   \u001b[39m# get garbage-collected at some later time, running their cleanup tasks\u001b[39;00m\n\u001b[1;32m    193\u001b[0m   \u001b[39m# only after this exception is handled, which can corrupt the global\u001b[39;00m\n\u001b[1;32m    194\u001b[0m   \u001b[39m# state.\u001b[39;00m\n\u001b[1;32m    195\u001b[0m   \u001b[39mwhile\u001b[39;00m stack:\n",
      "\u001b[0;31mTypeError\u001b[0m: loss_fn() takes 2 positional arguments but 4 were given"
     ]
    }
   ],
   "source": [
    "num_epochs = 1000\n",
    "\n",
    "rng = hk.PRNGSequence(jax.random.PRNGKey(42))\n",
    "loss_func = SelfSupervisedLoss(NTXentLoss())\n",
    "losses = []\n",
    "\n",
    "# Get the total number of mini-batches per epoch based on the smallest data loader\n",
    "num_batches = 10  # min(len(go_train_dataloader), len(text_train_dataloader), len(dna_train_dataloader), len(aa_train_dataloader))\n",
    "\n",
    "batch_size = int(len(sequences) / num_batches)\n",
    "tokens_ids = [b[1] for b in tokenizer.batch_tokenize(sequences[:2])]\n",
    "tokens = jnp.asarray(tokens_ids, dtype=jnp.int32)\n",
    "\n",
    "# state = init_train(rng, tokens)\n",
    "initial_params = forward_fnt.init(next(rng), tokens[0, None])\n",
    "initial_opt_state = optimiser().init(initial_params)\n",
    "state = TrainingState(\n",
    "    params=initial_params,\n",
    "    opt_state=initial_opt_state,\n",
    "    rng_key=rng,\n",
    "    step=jnp.array(0),\n",
    ")\n",
    "metrics_all = {\n",
    "    'step': [],\n",
    "    'loss': [],\n",
    "}\n",
    "\n",
    "for epoch in tqdm(range(num_epochs)):\n",
    "    for batch_idx in range(num_batches):\n",
    "        seq_batch = sequences[batch_idx:np.min([batch_idx+batch_size, len(sequences)])]\n",
    "    # for batch_idx, (seq_batch, sens_batch) in enumerate(zip(sequences, sensitivities)):\n",
    "        print(seq_batch)\n",
    "        \n",
    "        # Tokens\n",
    "        tokens_ids = [b[1] for b in tokenizer.batch_tokenize(seq_batch)]\n",
    "        tokens = jnp.asarray(tokens_ids, dtype=jnp.int32)\n",
    "        # tokens_ids = [b[1] for b in tokenizer_n.batch_tokenize(sens_batch)]\n",
    "        # tokens_n = jnp.asarray(tokens_ids, dtype=jnp.int32)\n",
    "\n",
    "        # Apply\n",
    "        outs = forward_fnt.apply(params, next(rng), tokens[:100])\n",
    "        # outs_d = forward_fnt_d.apply(params_d, next(rng), tokens_n[:100])\n",
    "        \n",
    "        logits = outs[\"logits\"]\n",
    "        # logits_d = outs_d[\"logits\"]\n",
    "\n",
    "\n",
    "        loss_and_grad_fn = jax.value_and_grad(loss_fn)\n",
    "        loss, gradients = loss_and_grad_fn(params, next(rng), logits, tokenizer.pad_token_id)\n",
    "        losses.append(loss)\n",
    "\n",
    "        # params = jax.tree_util.tree_map(update_rule, params, grads)\n",
    "        updates, new_opt_state = optimiser().update(gradients, state.opt_state)\n",
    "        new_params = optax.apply_updates(state.params, updates)\n",
    "\n",
    "        metrics_all['step'].append(state.step)\n",
    "        metrics_all['loss'].append(loss)\n",
    "\n",
    "\n",
    "    # if epoch != 0 and (epoch + 1) % 1 == 0:\n",
    "    #     print(f\"Epoch {epoch+1}: joint loss {sum(losses) / num_batches}\")\n",
    "    #     losses = []"
   ]
  },
  {
   "cell_type": "code",
   "execution_count": null,
   "metadata": {},
   "outputs": [],
   "source": []
  }
 ],
 "metadata": {
  "kernelspec": {
   "display_name": "env_evo",
   "language": "python",
   "name": "python3"
  },
  "language_info": {
   "codemirror_mode": {
    "name": "ipython",
    "version": 3
   },
   "file_extension": ".py",
   "mimetype": "text/x-python",
   "name": "python",
   "nbconvert_exporter": "python",
   "pygments_lexer": "ipython3",
   "version": "3.9.16"
  },
  "orig_nbformat": 4
 },
 "nbformat": 4,
 "nbformat_minor": 2
}
