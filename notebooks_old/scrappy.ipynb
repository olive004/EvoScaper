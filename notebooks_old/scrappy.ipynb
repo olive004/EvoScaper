{
 "cells": [
  {
   "cell_type": "code",
   "execution_count": 1,
   "metadata": {},
   "outputs": [],
   "source": [
    "%load_ext autoreload\n",
    "%autoreload 2"
   ]
  },
  {
   "cell_type": "markdown",
   "metadata": {},
   "source": [
    "# Misc"
   ]
  },
  {
   "cell_type": "markdown",
   "metadata": {},
   "source": []
  },
  {
   "cell_type": "code",
   "execution_count": 2,
   "metadata": {},
   "outputs": [],
   "source": [
    "from synbio_morpher.utils.misc.type_handling import flatten_listlike\n",
    "import numpy as np"
   ]
  },
  {
   "cell_type": "code",
   "execution_count": 39,
   "metadata": {},
   "outputs": [],
   "source": [
    "\n",
    "arr = np.arange(6) * 2\n",
    "# def make_symmetrical_matrix_from_sequence(arr, side_length: int):\n",
    "side_length = 3\n",
    "\n",
    "if len(arr) < (side_length ** 2):\n",
    "    p = flatten_listlike([[str(tuple(sorted([i, j]))) for i in range(side_length)] for j in range(side_length)])\n",
    "    # d = {pi: i for i, pi in enumerate(set(p))}\n",
    "    d = np.concatenate([np.where(np.array(sorted(set(p))) == pi)[0] for pi in p]).astype(int)\n",
    "    arr = arr[d]\n",
    "i = np.triu(\n",
    "    np.arange(side_length * side_length).reshape(side_length, side_length))\n",
    "# idxs = np.interp(ii, np.unique(ii), np.arange(len(arr))).astype(int)\n",
    "ii = i + i.T - np.diag(i.diagonal())\n",
    "m = arr[ii.flatten()].reshape(side_length, side_length)\n",
    "\n",
    "\n",
    "# m = make_symmetrical_matrix_from_sequence(np.arange(6), side_length=3)\n"
   ]
  },
  {
   "cell_type": "code",
   "execution_count": 40,
   "metadata": {},
   "outputs": [
    {
     "data": {
      "text/plain": [
       "array([[ 0,  2,  4],\n",
       "       [ 2,  6,  8],\n",
       "       [ 4,  8, 10]])"
      ]
     },
     "execution_count": 40,
     "metadata": {},
     "output_type": "execute_result"
    }
   ],
   "source": [
    "m"
   ]
  },
  {
   "cell_type": "code",
   "execution_count": 35,
   "metadata": {},
   "outputs": [
    {
     "data": {
      "text/plain": [
       "array([], shape=(9, 1, 0), dtype=int64)"
      ]
     },
     "execution_count": 35,
     "metadata": {},
     "output_type": "execute_result"
    }
   ],
   "source": [
    "arr[d]"
   ]
  },
  {
   "cell_type": "code",
   "execution_count": 29,
   "metadata": {},
   "outputs": [
    {
     "data": {
      "text/plain": [
       "array(['(0, 0)', '(0, 1)', '(0, 2)', '(1, 1)', '(1, 2)', '(2, 2)'],\n",
       "      dtype='<U6')"
      ]
     },
     "execution_count": 29,
     "metadata": {},
     "output_type": "execute_result"
    }
   ],
   "source": [
    "np.array(sorted(set(p)))"
   ]
  },
  {
   "cell_type": "code",
   "execution_count": null,
   "metadata": {},
   "outputs": [],
   "source": []
  }
 ],
 "metadata": {
  "kernelspec": {
   "display_name": "env_evo",
   "language": "python",
   "name": "python3"
  },
  "language_info": {
   "codemirror_mode": {
    "name": "ipython",
    "version": 3
   },
   "file_extension": ".py",
   "mimetype": "text/x-python",
   "name": "python",
   "nbconvert_exporter": "python",
   "pygments_lexer": "ipython3",
   "version": "3.10.12"
  }
 },
 "nbformat": 4,
 "nbformat_minor": 2
}
