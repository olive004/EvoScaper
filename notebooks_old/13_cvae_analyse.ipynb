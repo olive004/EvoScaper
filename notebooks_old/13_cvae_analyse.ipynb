{
 "cells": [
  {
   "cell_type": "code",
   "execution_count": 1,
   "metadata": {},
   "outputs": [],
   "source": [
    "%load_ext autoreload\n",
    "%autoreload 2"
   ]
  },
  {
   "cell_type": "markdown",
   "metadata": {},
   "source": [
    "# Imports"
   ]
  },
  {
   "cell_type": "code",
   "execution_count": 2,
   "metadata": {},
   "outputs": [
    {
     "name": "stderr",
     "output_type": "stream",
     "text": [
      "/home/wadh6511/Kode/env_evo/lib/python3.10/site-packages/jaxtyping/__init__.py:221: UserWarning: jaxtyping version >=0.2.23 should be used with Equinox version >=0.11.1\n",
      "  warnings.warn(\n",
      "WARNING: All log messages before absl::InitializeLog() is called are written to STDERR\n",
      "I0000 00:00:1707258073.418828  500006 tfrt_cpu_pjrt_client.cc:349] TfrtCpuClient created.\n",
      "xla_bridge.py:backends():513: Unable to initialize backend 'rocm': NOT_FOUND: Could not find registered platform with name: \"rocm\". Available platform names are: CUDA INFO\n",
      "xla_bridge.py:backends():513: Unable to initialize backend 'tpu': INTERNAL: Failed to open libtpu.so: libtpu.so: cannot open shared object file: No such file or directory INFO\n"
     ]
    }
   ],
   "source": [
    "from synbio_morpher.srv.io.manage.script_manager import script_preamble\n",
    "from synbio_morpher.srv.parameter_prediction.simulator import RawSimulationHandling, make_piecewise_stepcontrol\n",
    "from synbio_morpher.utils.results.analytics.timeseries import generate_analytics\n",
    "from synbio_morpher.utils.common.setup import prepare_config, expand_config, expand_model_config\n",
    "from synbio_morpher.utils.data.data_format_tools.common import load_json_as_dict\n",
    "from synbio_morpher.utils.results.analytics.naming import get_true_interaction_cols\n",
    "from synbio_morpher.utils.misc.numerical import symmetrical_matrix_length\n",
    "from synbio_morpher.utils.misc.type_handling import flatten_listlike, get_unique\n",
    "from synbio_morpher.utils.modelling.deterministic import bioreaction_sim_dfx_expanded\n",
    "from bioreaction.model.data_tools import construct_model_fromnames\n",
    "from bioreaction.model.data_containers import BasicModel, QuantifiedReactions\n",
    "from bioreaction.simulation.manager import simulate_steady_states\n",
    "from functools import partial\n",
    "\n",
    "from scipy.cluster.vq import whiten\n",
    "from scipy.special import factorial\n",
    "from sklearn.manifold import TSNE\n",
    "import os\n",
    "import sys\n",
    "import numpy as np\n",
    "import haiku as hk\n",
    "import jax\n",
    "import diffrax as dfx\n",
    "\n",
    "from sklearn.preprocessing import MinMaxScaler\n",
    "from sklearn.utils import shuffle\n",
    "\n",
    "from datetime import datetime\n",
    "import pandas as pd\n",
    "import seaborn as sns\n",
    "import matplotlib.pyplot as plt\n",
    "\n",
    "jax.config.update('jax_platform_name', 'cpu')\n",
    "\n",
    "module_path = os.path.abspath(os.path.join('..'))\n",
    "sys.path.append(module_path)\n",
    "\n",
    "__package__ = os.path.basename(module_path)\n",
    "\n",
    "\n",
    "jax.devices()\n",
    "\n",
    "np.random.seed(0)\n",
    "rng = jax.random.PRNGKey(0)"
   ]
  },
  {
   "cell_type": "code",
   "execution_count": 11,
   "metadata": {},
   "outputs": [],
   "source": [
    "from src.models.vae import CVAE, sample_z, init_data, VAE_fn\n",
    "from src.models.mlp import MLP\n",
    "from src.models.shared import arrayise\n",
    "from src.losses.losses import loss_wrapper, compute_accuracy_regression, mse_loss\n",
    "from src.utils.data_preprocessing import drop_duplicates_keep_first_n\n",
    "from src.utils.math import make_symmetrical_matrix_from_sequence_nojax"
   ]
  },
  {
   "cell_type": "markdown",
   "metadata": {},
   "source": [
    "# Load Data"
   ]
  },
  {
   "cell_type": "code",
   "execution_count": 12,
   "metadata": {},
   "outputs": [],
   "source": [
    "fn = '../data/processed/ensemble_mutation_effect_analysis/2023_07_17_105328/tabulated_mutation_info.csv'\n",
    "fn_test_data = '../data/raw/ensemble_mutation_effect_analysis/2023_10_03_204819/tabulated_mutation_info.csv'\n",
    "data = pd.read_csv(fn, index_col=0)"
   ]
  },
  {
   "cell_type": "markdown",
   "metadata": {},
   "source": [
    "# Config"
   ]
  },
  {
   "cell_type": "code",
   "execution_count": 13,
   "metadata": {},
   "outputs": [],
   "source": [
    "# Architecture\n",
    "HIDDEN_SIZE = 32 # 64\n",
    "ENC_LS = 64\n",
    "DEC_LS = 64\n",
    "NUM_ENC_LAYERS = 3\n",
    "NUM_DEC_LAYERS = 3\n",
    "enc_layers = [ENC_LS] * NUM_ENC_LAYERS # [128, 128, 64, 64] # \n",
    "dec_layers = [DEC_LS] * NUM_DEC_LAYERS # [64, 64, 128, 128] # \n",
    "\n",
    "\n",
    "BATCH_SIZE = 128\n",
    "N_BATCHES = 1200\n",
    "TOTAL_DS = BATCH_SIZE * N_BATCHES\n",
    "MAX_TOTAL_DS = TOTAL_DS\n",
    "TRAIN_SPLIT = 0.8\n",
    "SCALE_X = False\n",
    "USE_X_LOGSCALE = True\n",
    "X_TYPE = 'binding_rates_dissociation' #  'energies' #\n",
    "LEARNING_RATE = 5e-4\n",
    "LEARNING_RATE_SCHED = 'cosine_decay'\n",
    "# LEARNING_RATE_SCHED = 'constant'\n",
    "WARMUP_EPOCHS = 20\n",
    "L2_REG_ALPHA = 0.01\n",
    "EPOCHS = 1000\n",
    "PRINT_EVERY = EPOCHS // 100\n",
    "SEED = 1\n",
    "\n",
    "INPUT_SPECIES = 'RNA_1'\n",
    "USE_CATEGORICAL = False\n",
    "target_circ_func = 'sensitivity'\n",
    "input_concat_diffs = False\n",
    "input_concat_axis = 0\n",
    "\n",
    "# Training\n",
    "USE_DROPOUT = False\n",
    "USE_L2_REG = False\n",
    "USE_WARMUP = True\n",
    "loss_fn = partial(\n",
    "    loss_wrapper, loss_f=mse_loss, use_l2_reg=USE_L2_REG) \n",
    "compute_accuracy = compute_accuracy_regression\n",
    "\n",
    "\n",
    "rng = jax.random.PRNGKey(SEED)"
   ]
  },
  {
   "cell_type": "markdown",
   "metadata": {},
   "source": [
    "## Init data"
   ]
  },
  {
   "cell_type": "code",
   "execution_count": 14,
   "metadata": {},
   "outputs": [],
   "source": [
    "x, cond, x_scaling, x_unscaling, x_cols, df, filt, N_HEAD = init_data(data,\n",
    "                                                                      BATCH_SIZE, INPUT_SPECIES, MAX_TOTAL_DS,\n",
    "                                                                      SCALE_X, SEED, TOTAL_DS, USE_CATEGORICAL,\n",
    "                                                                      USE_X_LOGSCALE, X_TYPE,\n",
    "                                                                      input_concat_axis, input_concat_diffs, target_circ_func)"
   ]
  },
  {
   "cell_type": "markdown",
   "metadata": {},
   "source": [
    "## Init Model"
   ]
  },
  {
   "cell_type": "code",
   "execution_count": 15,
   "metadata": {},
   "outputs": [
    {
     "name": "stderr",
     "output_type": "stream",
     "text": [
      "/home/wadh6511/Kode/env_evo/lib/python3.10/site-packages/haiku/_src/initializers.py:126: UserWarning: Explicitly requested dtype float64  is not available, and will be truncated to dtype float32. To enable more dtypes, set the jax_enable_x64 configuration option or the JAX_ENABLE_X64 shell environment variable. See https://github.com/google/jax#current-gotchas for more.\n",
      "  unscaled = jax.random.truncated_normal(\n",
      "/home/wadh6511/Kode/env_evo/lib/python3.10/site-packages/haiku/_src/base.py:682: UserWarning: Explicitly requested dtype float64 requested in zeros is not available, and will be truncated to dtype float32. To enable more dtypes, set the jax_enable_x64 configuration option or the JAX_ENABLE_X64 shell environment variable. See https://github.com/google/jax#current-gotchas for more.\n",
      "  param = init(shape, dtype)\n"
     ]
    }
   ],
   "source": [
    "model_fn = partial(VAE_fn, enc_layers=enc_layers, dec_layers=dec_layers, decoder_head=x.shape[-1], HIDDEN_SIZE=HIDDEN_SIZE)\n",
    "model_t = hk.multi_transform(model_fn)\n",
    "params = model_t.init(rng, x, cond, deterministic=False)\n",
    "encoder, decoder, model, h2mu, h2logvar, reparam = model_t.apply"
   ]
  },
  {
   "cell_type": "code",
   "execution_count": 16,
   "metadata": {},
   "outputs": [],
   "source": [
    "fn_saves = os.path.join('weight_saves', '10_cvae', '2024_02_04__15_54_15_saves_test')\n",
    "saves_loaded = load_json_as_dict(fn_saves)\n",
    "\n",
    "p = saves_loaded[str(list(saves_loaded.keys())[-1])]['params']\n",
    "p = arrayise(p)"
   ]
  },
  {
   "cell_type": "markdown",
   "metadata": {},
   "source": [
    "# Load circuit simulations"
   ]
  },
  {
   "cell_type": "code",
   "execution_count": 20,
   "metadata": {},
   "outputs": [],
   "source": [
    "exp_dir = 'data/tests/2024_02_06_144827'\n",
    "analytics = load_json_as_dict(os.path.join(exp_dir, 'analytics.json'))\n",
    "analytics.keys()\n"
   ]
  },
  {
   "cell_type": "code",
   "execution_count": 25,
   "metadata": {},
   "outputs": [],
   "source": [
    "fake_circuits = np.load(os.path.join(exp_dir, 'fake_circuits.npy'))"
   ]
  },
  {
   "cell_type": "code",
   "execution_count": 31,
   "metadata": {},
   "outputs": [],
   "source": [
    "n_to_sample = 10000\n",
    "cond_splits = 10\n",
    "sampled_cond = np.interp(np.random.rand(\n",
    "    n_to_sample//cond_splits, cond.shape[-1]), [0, 1], np.linspace(cond.min(), cond.max(), cond_splits)[0:2])[None, :]\n",
    "for i in range(1, cond_splits):\n",
    "    sampled_cond0 = np.interp(np.random.rand(\n",
    "        n_to_sample//cond_splits, cond.shape[-1]), [0, 1], np.linspace(cond.min(), cond.max(), cond_splits+1)[i:i+2])[None, :]\n",
    "    sampled_cond = np.concatenate([sampled_cond, sampled_cond0], axis=0)\n",
    "mu = np.random.normal(size=(n_to_sample, HIDDEN_SIZE))\n",
    "logvar = np.random.normal(size=(n_to_sample, HIDDEN_SIZE))\n",
    "z = sample_z(mu=mu, logvar=logvar, key=rng)\n",
    "z = np.concatenate([z, sampled_cond.reshape(np.prod(sampled_cond.shape[:-1]), sampled_cond.shape[-1])], axis=-1)\n",
    "\n",
    "num_species = symmetrical_matrix_length(fake_circuits.shape[-1])\n",
    "input_species = [f'RNA_{i}' for i in range(num_species)]\n",
    "fake_circuits_reshaped = np.array(list(map(partial(make_symmetrical_matrix_from_sequence_nojax, side_length=num_species), fake_circuits)))\n",
    "for fn in x_unscaling:\n",
    "\n",
    "    fake_circuits_reshaped = fn(fake_circuits_reshaped)\n",
    "    \n",
    "fake_circuits_reshaped = np.where(fake_circuits_reshaped > df[x_cols[0]].max().max(), df[x_cols[0]].max().max(), fake_circuits_reshaped)"
   ]
  },
  {
   "cell_type": "markdown",
   "metadata": {},
   "source": [
    "# Visualise"
   ]
  },
  {
   "cell_type": "markdown",
   "metadata": {},
   "source": [
    "## TSNE"
   ]
  },
  {
   "cell_type": "code",
   "execution_count": 33,
   "metadata": {},
   "outputs": [
    {
     "data": {
      "text/plain": [
       "(153600, 2)"
      ]
     },
     "execution_count": 33,
     "metadata": {},
     "output_type": "execute_result"
    }
   ],
   "source": [
    "h = encoder(p, rng, np.concatenate([x, cond], axis=-1))\n",
    "\n",
    "mu = h2mu(p, rng, h)\n",
    "logvar = h2logvar(p, rng, h)\n",
    "z = reparam(p, rng, mu, logvar, rng, deterministic=True)\n",
    "z_cond = np.concatenate([z, cond], axis=-1)\n",
    "\n",
    "tsne_inp = whiten(z_cond[:10000])\n",
    "        \n",
    "n_components = 2\n",
    "tsne = TSNE(n_components, perplexity=300, learning_rate=100, n_iter=500)\n",
    "tsne_result = tsne.fit_transform(z_cond)\n",
    "# tsne_result = tsne.fit_transform(fake_circuits)\n",
    "tsne_result.shape"
   ]
  },
  {
   "cell_type": "code",
   "execution_count": 38,
   "metadata": {},
   "outputs": [],
   "source": [
    "output_idxs = np.array([1, 2])"
   ]
  },
  {
   "cell_type": "code",
   "execution_count": 39,
   "metadata": {},
   "outputs": [
    {
     "ename": "TypeError",
     "evalue": "list indices must be integers or slices, not tuple",
     "output_type": "error",
     "traceback": [
      "\u001b[0;31m---------------------------------------------------------------------------\u001b[0m",
      "\u001b[0;31mTypeError\u001b[0m                                 Traceback (most recent call last)",
      "Cell \u001b[0;32mIn[39], line 5\u001b[0m\n\u001b[1;32m      2\u001b[0m fig\u001b[38;5;241m.\u001b[39msubplots_adjust(wspace\u001b[38;5;241m=\u001b[39m\u001b[38;5;241m0.6\u001b[39m)\n\u001b[1;32m      3\u001b[0m \u001b[38;5;66;03m# for i in range(n_components):\u001b[39;00m\n\u001b[1;32m      4\u001b[0m \u001b[38;5;66;03m#     for j in range(i, n_components):\u001b[39;00m\n\u001b[0;32m----> 5\u001b[0m tsne_result_df \u001b[38;5;241m=\u001b[39m pd\u001b[38;5;241m.\u001b[39mDataFrame({\u001b[38;5;124m'\u001b[39m\u001b[38;5;124mTSNE 1\u001b[39m\u001b[38;5;124m'\u001b[39m: tsne_result[:, \u001b[38;5;241m0\u001b[39m], \u001b[38;5;124m'\u001b[39m\u001b[38;5;124mTSNE 2\u001b[39m\u001b[38;5;124m'\u001b[39m: tsne_result[:, \u001b[38;5;241m1\u001b[39m], \u001b[38;5;124m'\u001b[39m\u001b[38;5;124mVAE Conditioning input\u001b[39m\u001b[38;5;124m'\u001b[39m: sampled_cond\u001b[38;5;241m.\u001b[39mflatten()[:\u001b[38;5;241m10000\u001b[39m], \u001b[38;5;124m'\u001b[39m\u001b[38;5;124mLog10 Sensitivity\u001b[39m\u001b[38;5;124m'\u001b[39m: np\u001b[38;5;241m.\u001b[39mlog10(\u001b[43manalytics\u001b[49m\u001b[43m[\u001b[49m\u001b[38;5;124;43m'\u001b[39;49m\u001b[38;5;124;43msensitivity\u001b[39;49m\u001b[38;5;124;43m'\u001b[39;49m\u001b[43m]\u001b[49m\u001b[43m[\u001b[49m\u001b[43m:\u001b[49m\u001b[43m,\u001b[49m\u001b[43m \u001b[49m\u001b[43moutput_idxs\u001b[49m\u001b[43m]\u001b[49m[:\u001b[38;5;241m10000\u001b[39m])})\n\u001b[1;32m      6\u001b[0m ax \u001b[38;5;241m=\u001b[39m plt\u001b[38;5;241m.\u001b[39msubplot(\u001b[38;5;241m1\u001b[39m,\u001b[38;5;28mint\u001b[39m(factorial(n_components)),\u001b[38;5;241m1\u001b[39m)\n\u001b[1;32m      7\u001b[0m sns\u001b[38;5;241m.\u001b[39mscatterplot(x\u001b[38;5;241m=\u001b[39m\u001b[38;5;124m'\u001b[39m\u001b[38;5;124mTSNE 1\u001b[39m\u001b[38;5;124m'\u001b[39m, y\u001b[38;5;241m=\u001b[39m\u001b[38;5;124m'\u001b[39m\u001b[38;5;124mTSNE 2\u001b[39m\u001b[38;5;124m'\u001b[39m, hue\u001b[38;5;241m=\u001b[39m\u001b[38;5;124m'\u001b[39m\u001b[38;5;124mVAE Conditioning input\u001b[39m\u001b[38;5;124m'\u001b[39m, data\u001b[38;5;241m=\u001b[39mtsne_result_df, s\u001b[38;5;241m=\u001b[39m\u001b[38;5;241m20\u001b[39m, palette\u001b[38;5;241m=\u001b[39m\u001b[38;5;124m'\u001b[39m\u001b[38;5;124mviridis\u001b[39m\u001b[38;5;124m'\u001b[39m, alpha\u001b[38;5;241m=\u001b[39m\u001b[38;5;241m1\u001b[39m)\n",
      "\u001b[0;31mTypeError\u001b[0m: list indices must be integers or slices, not tuple"
     ]
    },
    {
     "data": {
      "text/plain": [
       "<Figure size 1200x500 with 0 Axes>"
      ]
     },
     "metadata": {},
     "output_type": "display_data"
    }
   ],
   "source": [
    "fig = plt.figure(figsize=(12, 5))\n",
    "fig.subplots_adjust(wspace=0.6)\n",
    "# for i in range(n_components):\n",
    "#     for j in range(i, n_components):\n",
    "tsne_result_df = pd.DataFrame({'TSNE 1': tsne_result[:, 0], 'TSNE 2': tsne_result[:, 1], 'VAE Conditioning input': sampled_cond.flatten()[:10000], 'Log10 Sensitivity': np.log10(analytics['sensitivity'][:, output_idxs][:10000])})\n",
    "ax = plt.subplot(1,int(factorial(n_components)),1)\n",
    "sns.scatterplot(x='TSNE 1', y='TSNE 2', hue='VAE Conditioning input', data=tsne_result_df, s=20, palette='viridis', alpha=1)\n",
    "sns.move_legend(ax, \"upper left\", bbox_to_anchor=(1, 1))\n",
    "ax = plt.subplot(1,int(factorial(n_components)),2)\n",
    "sns.scatterplot(x='TSNE 1', y='TSNE 2', hue='Log10 Sensitivity', data=tsne_result_df, s=20, palette='viridis', alpha=1)\n",
    "sns.move_legend(ax, \"upper left\", bbox_to_anchor=(1, 1))\n",
    "plt.suptitle('TSNE Generated circuits')"
   ]
  },
  {
   "cell_type": "markdown",
   "metadata": {},
   "source": [
    "### TSNE on real data"
   ]
  },
  {
   "cell_type": "code",
   "execution_count": null,
   "metadata": {},
   "outputs": [],
   "source": [
    "tsne_result2 = tsne.fit_transform(data[filt][x_cols[0]].iloc[:15000].to_numpy())"
   ]
  },
  {
   "cell_type": "code",
   "execution_count": null,
   "metadata": {},
   "outputs": [],
   "source": [
    "fig = plt.figure(figsize=(12, 5))\n",
    "fig.subplots_adjust(wspace=0.6)\n",
    "# for i in range(n_components):\n",
    "#     for j in range(i, n_components):\n",
    "tsne_result_df = pd.DataFrame({'TSNE 1': tsne_result2[:, 0], 'TSNE 2': tsne_result2[:, 1], 'Log10 Sensitivity': np.log10(data[filt][target_circ_func].iloc[:len(tsne_result2)])})\n",
    "ax = plt.subplot(1,int(factorial(n_components)),1)\n",
    "sns.scatterplot(x='TSNE 1', y='TSNE 2', hue='Log10 Sensitivity', data=tsne_result_df, s=20, palette='viridis', alpha=0.1)\n",
    "sns.move_legend(ax, \"upper left\", bbox_to_anchor=(1, 1))\n",
    "plt.title('TSNE Training circuits')\n"
   ]
  },
  {
   "cell_type": "markdown",
   "metadata": {},
   "source": [
    "# Motifs"
   ]
  },
  {
   "cell_type": "code",
   "execution_count": null,
   "metadata": {},
   "outputs": [],
   "source": [
    "sns.histplot(fake_circuits.flatten(), bins=50, element='step')"
   ]
  },
  {
   "cell_type": "code",
   "execution_count": null,
   "metadata": {},
   "outputs": [],
   "source": [
    "data[get_true_interaction_cols(data, 'eqconstants', remove_symmetrical=True, num_species=3)]"
   ]
  }
 ],
 "metadata": {
  "kernelspec": {
   "display_name": "env_evo",
   "language": "python",
   "name": "python3"
  },
  "language_info": {
   "codemirror_mode": {
    "name": "ipython",
    "version": 3
   },
   "file_extension": ".py",
   "mimetype": "text/x-python",
   "name": "python",
   "nbconvert_exporter": "python",
   "pygments_lexer": "ipython3",
   "version": "3.10.12"
  }
 },
 "nbformat": 4,
 "nbformat_minor": 2
}
