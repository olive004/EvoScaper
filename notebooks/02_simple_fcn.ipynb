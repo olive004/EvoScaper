{
 "cells": [
  {
   "cell_type": "code",
   "execution_count": 1,
   "metadata": {},
   "outputs": [],
   "source": [
    "%load_ext autoreload\n",
    "%autoreload 2"
   ]
  },
  {
   "cell_type": "markdown",
   "metadata": {},
   "source": [
    "# Simple representation space tests with an FCN\n"
   ]
  },
  {
   "cell_type": "markdown",
   "metadata": {},
   "source": [
    "## Imports"
   ]
  },
  {
   "cell_type": "code",
   "execution_count": 2,
   "metadata": {},
   "outputs": [
    {
     "name": "stderr",
     "output_type": "stream",
     "text": [
      "WARNING: All log messages before absl::InitializeLog() is called are written to STDERR\n",
      "I0000 00:00:1696008888.035544  569033 tfrt_cpu_pjrt_client.cc:349] TfrtCpuClient created.\n"
     ]
    },
    {
     "data": {
      "text/plain": [
       "[CpuDevice(id=0)]"
      ]
     },
     "execution_count": 2,
     "metadata": {},
     "output_type": "execute_result"
    }
   ],
   "source": [
    "from typing import Optional, List, Callable, Dict, Any, Tuple, Union\n",
    "from functools import partial\n",
    "import logging\n",
    "import os\n",
    "import ast\n",
    "import json\n",
    "\n",
    "import numpy as np\n",
    "import haiku as hk\n",
    "import jax\n",
    "import jax.numpy as jnp\n",
    "import equinox as eqx\n",
    "import optax  # https://github.com/deepmind/optax\n",
    "import torch  # https://pytorch.org\n",
    "from jaxtyping import Array, Float, Int, PyTree  # https://github.com/google/jaxtyping\n",
    "from sklearn.preprocessing import MinMaxScaler\n",
    "from sklearn.metrics import accuracy_score\n",
    "\n",
    "import wandb\n",
    "\n",
    "import pandas as pd\n",
    "import seaborn as sns\n",
    "import matplotlib.pyplot as plt\n",
    "\n",
    "jax.config.update('jax_platform_name', 'cpu')\n",
    "\n",
    "from synbio_morpher.utils.misc.numerical import make_symmetrical_matrix_from_sequence\n",
    "from synbio_morpher.utils.misc.string_handling import convert_liststr_to_list\n",
    "from synbio_morpher.utils.misc.type_handling import flatten_listlike\n",
    "from synbio_morpher.utils.results.analytics.naming import get_true_names_analytics, get_true_interaction_cols\n",
    "\n",
    "jax.devices()"
   ]
  },
  {
   "cell_type": "markdown",
   "metadata": {},
   "source": [
    "## Load data"
   ]
  },
  {
   "cell_type": "code",
   "execution_count": 3,
   "metadata": {},
   "outputs": [],
   "source": [
    "fn = '../data/processed/ensemble_mutation_effect_analysis/2023_07_17_105328/tabulated_mutation_info.csv'\n",
    "data = pd.read_csv(fn)\n",
    "data.drop(columns=['Unnamed: 0'], inplace=True)\n",
    "for c in get_true_interaction_cols(data, interaction_attr='binding_sites_idxs', remove_symmetrical=True) + get_true_interaction_cols(\n",
    "        data, interaction_attr='binding_site_group_range', remove_symmetrical=True):\n",
    "    data[c] = data[c].map(ast.literal_eval)"
   ]
  },
  {
   "cell_type": "markdown",
   "metadata": {},
   "source": [
    "## Model: network of fully connected layers"
   ]
  },
  {
   "cell_type": "code",
   "execution_count": 4,
   "metadata": {},
   "outputs": [],
   "source": [
    "# https://coderzcolumn.com/tutorials/artificial-intelligence/haiku-cnn\n",
    "\n",
    "class FCN(hk.Module):\n",
    "\n",
    "    def __init__(self, layer_sizes: List[int], n_head: int):\n",
    "        super().__init__(name=\"FCN\")\n",
    "        self.layers = self.create_layers(layer_sizes, n_head)\n",
    "        \n",
    "        \n",
    "    def create_layers(self, layer_sizes: List[int], n_head: int):\n",
    "        sizes = layer_sizes + [n_head]\n",
    "        l = []\n",
    "        for i, s in enumerate(sizes):\n",
    "            if l:\n",
    "                l.append(jax.nn.relu)\n",
    "                if np.mod(i, 2) == 0:\n",
    "                    l.append(jax.nn.sigmoid)\n",
    "            # if sj == n_head:\n",
    "            #     l.append(eqx.nn.Dropout(p=0.4))\n",
    "            \n",
    "            # He initialisation\n",
    "            l.append(\n",
    "                hk.Linear(s, w_init=hk.initializers.VarianceScaling(scale=2.0))\n",
    "            )\n",
    "        l.append(jax.nn.log_softmax)\n",
    "        return l\n",
    "        \n",
    "\n",
    "    def __call__(self, x: Float[Array, \" num_interactions\"], inference: bool = False, seed: int = 0) -> Float[Array, \" n_head\"]:\n",
    "        for i, layer in enumerate(self.layers):\n",
    "            kwargs = {} if not type(layer) == eqx.nn.Dropout else {\n",
    "                'inference': inference, 'key': jax.random.PRNGKey(seed)}\n",
    "\n",
    "            x = layer(x, **kwargs)\n",
    "            \n",
    "            # wandb.log({f'emb_{i}_{type(layer)}': x})\n",
    "        return x\n",
    "    \n",
    "    \n",
    "def FCN_fn(x, **kwargs):\n",
    "    model = FCN(**kwargs)\n",
    "    return model(x)"
   ]
  },
  {
   "cell_type": "markdown",
   "metadata": {},
   "source": [
    "## Losses"
   ]
  },
  {
   "cell_type": "code",
   "execution_count": 5,
   "metadata": {},
   "outputs": [],
   "source": [
    "def loss_fn(\n",
    "    params, rng,\n",
    "    model: FCN, x: Float[Array, \" batch n_interactions\"], y: Int[Array, \" batch\"], \n",
    "    l2_reg_alpha: Float,\n",
    ") -> Float[Array, \"\"]:\n",
    "    \n",
    "    pred_y = model.apply(params, rng, x)\n",
    "    loss = cross_entropy(y, pred_y, num_classes=pred_y.shape[-1])\n",
    "    # loss += sum(\n",
    "    #     l2_loss(w, alpha=l2_reg_alpha) \n",
    "    #     for w in jax.tree_util.tree_leaves(params)\n",
    "    # )\n",
    "    return loss\n",
    "\n",
    "\n",
    "def l2_loss(weights, alpha):\n",
    "    return alpha * (weights ** 2).mean()\n",
    "\n",
    "\n",
    "def cross_entropy(y: Int[Array, \" batch\"], pred_y: Float[Array, \"batch 10\"], num_classes: int):\n",
    "    one_hot_actual = jax.nn.one_hot(-y, num_classes=num_classes)\n",
    "    return optax.softmax_cross_entropy(pred_y, one_hot_actual).sum()\n",
    "\n",
    "\n",
    "def update_params(optimiser, params, grads):\n",
    "    updates, optimizer_state = optimiser.update(grads, optimizer_state)\n",
    "    params = optax.apply_updates(params, updates)\n",
    "    return params\n",
    "\n",
    "\n",
    "@eqx.filter_jit\n",
    "def compute_accuracy(\n",
    "    params, rng, model: FCN, x: Float[Array, \"batch num_interactions\"], y: Int[Array, \" batch n_head\"]\n",
    ") -> Float[Array, \"\"]:\n",
    "    pred_y = model.apply(params, rng, x)\n",
    "    pred_y = -1 * jnp.argmax(pred_y, axis=1)\n",
    "    return jnp.mean(y == pred_y)\n",
    "\n"
   ]
  },
  {
   "cell_type": "markdown",
   "metadata": {},
   "source": [
    "## Hyperparameters"
   ]
  },
  {
   "cell_type": "code",
   "execution_count": 56,
   "metadata": {},
   "outputs": [],
   "source": [
    "BATCH_SIZE = 128\n",
    "N_BATCHES = 1000\n",
    "TOTAL_DS = BATCH_SIZE * N_BATCHES\n",
    "TRAIN_SPLIT = int(0.8 * TOTAL_DS)\n",
    "TEST_SPLIT = TOTAL_DS - TRAIN_SPLIT\n",
    "LEARNING_RATE = 1e-4\n",
    "LEARNING_RATE_SCHED = 'cosine_decay'\n",
    "# LEARNING_RATE_SCHED = 'constant'\n",
    "WARMUP_EPOCHS = 20\n",
    "L2_REG_ALPHA = 0.01\n",
    "EPOCHS = 100\n",
    "PRINT_EVERY = EPOCHS // 20\n",
    "SEED = 0\n",
    "INPUT_SPECIES = 'RNA_1'\n",
    "\n",
    "# CNN Architecture\n",
    "N_CHANNELS = 1\n",
    "OUT_CHANNELS = 3\n",
    "KERNEL_SIZE = 1\n",
    "MAX_POOL_KERNEL_SIZE = 1\n",
    "\n",
    "# FCN Architecture\n",
    "LAYER_SIZES = [50, 50, 50]\n",
    "\n",
    "\n",
    "n_samples = len(data['sample_name'].unique())\n",
    "\n",
    "rng = jax.random.PRNGKey(SEED)\n",
    "# rng, subkey = jax.random.split(rng, 2)"
   ]
  },
  {
   "cell_type": "markdown",
   "metadata": {},
   "source": [
    "## Initialise"
   ]
  },
  {
   "cell_type": "markdown",
   "metadata": {},
   "source": [
    "### Input"
   ]
  },
  {
   "cell_type": "code",
   "execution_count": 57,
   "metadata": {},
   "outputs": [],
   "source": [
    "def convert_to_scientific_exponent(x): \n",
    "    return int(f'{x:.0e}'.split('e')[1])\n",
    "\n",
    "vectorized_convert_to_scientific_exponent = np.vectorize(convert_to_scientific_exponent)\n",
    "filt = data['sample_name'] == INPUT_SPECIES\n",
    "\n",
    "x = data[filt][get_true_interaction_cols(data, 'binding_rates_dissociation', remove_symmetrical=True)].iloc[:TOTAL_DS].values\n",
    "x = jax.tree_util.tree_map(vectorized_convert_to_scientific_exponent, x).astype(jnp.float32)\n",
    "x = jax.random.permutation(rng, x, axis=0, independent=True)\n",
    "\n",
    "y = data[filt]['sensitivity_wrt_species-6'].iloc[:TOTAL_DS].to_numpy()\n",
    "y = jax.tree_util.tree_map(vectorized_convert_to_scientific_exponent, y)\n",
    "y = jax.random.permutation(rng, y, axis=0, independent=True)[:, None]\n",
    "\n",
    "N_HEAD = len(np.unique(y))\n",
    "\n",
    "\n",
    "if x.shape[0] < TOTAL_DS:\n",
    "    print(f'WARNING: The filtered data is not as large as the requested total dataset size: {x.shape[0]} vs. requested {TOTAL_DS}')"
   ]
  },
  {
   "cell_type": "markdown",
   "metadata": {},
   "source": [
    "#### Scale input"
   ]
  },
  {
   "cell_type": "code",
   "execution_count": 58,
   "metadata": {},
   "outputs": [],
   "source": [
    "xscaler, yscaler = MinMaxScaler(), MinMaxScaler()\n",
    "x = xscaler.fit_transform(x)\n",
    "y = yscaler.fit_transform(y)\n",
    "# inverse = scaler.inverse_transform(normalized)\n",
    "\n",
    "# scaler = StandardScaler()\n",
    "# x = scaler.fit_transform(x)\n",
    "# y = scaler.fit_transform(y[:, None])\n",
    "# inverse = scaler.inverse_transform(standardized)"
   ]
  },
  {
   "cell_type": "code",
   "execution_count": 59,
   "metadata": {},
   "outputs": [],
   "source": [
    "x_train, y_train = x[:TRAIN_SPLIT], y[:TRAIN_SPLIT]\n",
    "x_val, y_val = x[-TEST_SPLIT:], y[-TEST_SPLIT:]"
   ]
  },
  {
   "cell_type": "markdown",
   "metadata": {},
   "source": [
    "### Initialise model"
   ]
  },
  {
   "cell_type": "code",
   "execution_count": 60,
   "metadata": {},
   "outputs": [],
   "source": [
    "model = hk.transform(partial(FCN_fn, layer_sizes=LAYER_SIZES, n_head=N_HEAD))\n",
    "\n",
    "params = model.init(rng, x[:5])\n"
   ]
  },
  {
   "cell_type": "markdown",
   "metadata": {},
   "source": [
    "### Optimiser"
   ]
  },
  {
   "cell_type": "code",
   "execution_count": 61,
   "metadata": {},
   "outputs": [],
   "source": [
    "if LEARNING_RATE_SCHED == 'cosine_decay':\n",
    "    learning_rate_scheduler = optax.cosine_decay_schedule(LEARNING_RATE, decay_steps=EPOCHS, alpha=L2_REG_ALPHA)\n",
    "else:\n",
    "    learning_rate_scheduler = LEARNING_RATE\n",
    "optimiser = optax.sgd(learning_rate=learning_rate_scheduler)\n",
    "optimiser_state = optimiser.init(x)\n",
    "\n",
    "\n",
    "warmup_fn = optax.linear_schedule(\n",
    "    init_value=0., end_value=LEARNING_RATE,\n",
    "    transition_steps=WARMUP_EPOCHS * N_BATCHES)\n",
    "cosine_epochs = max(EPOCHS - WARMUP_EPOCHS, 1)\n",
    "cosine_fn = optax.cosine_decay_schedule(\n",
    "    init_value=LEARNING_RATE,\n",
    "    decay_steps=cosine_epochs * N_BATCHES)\n",
    "schedule_fn = optax.join_schedules(\n",
    "    schedules=[warmup_fn, cosine_fn],\n",
    "    boundaries=[WARMUP_EPOCHS * N_BATCHES])"
   ]
  },
  {
   "cell_type": "markdown",
   "metadata": {},
   "source": [
    "## Train"
   ]
  },
  {
   "cell_type": "code",
   "execution_count": 62,
   "metadata": {},
   "outputs": [],
   "source": [
    "def train_step(params, rng, model, x, y, optimiser, optimiser_state, l2_reg_alpha):\n",
    "\n",
    "    loss, grads = jax.value_and_grad(loss_fn)(\n",
    "        params, rng, model, x, y, l2_reg_alpha)\n",
    "\n",
    "    updates, optimiser_state = optimiser.update(grads, optimiser_state)\n",
    "    params = optax.apply_updates(params, updates)\n",
    "\n",
    "    return params, loss, grads\n",
    "\n",
    "\n",
    "def eval_step(params, rng, model: FCN, x, y, l2_reg_alpha):\n",
    "    \"\"\" Return the average of loss and accuracy on validation data \"\"\"\n",
    "    # pred_y = model.apply(params, rng, x)\n",
    "    # return accuracy_score(y, jnp.argmax(pred_y, axis=1))\n",
    "    loss = loss_fn(params, rng, model, x, y, l2_reg_alpha)\n",
    "    acc = compute_accuracy(params, rng, model, x, y)\n",
    "    return acc / len(x), loss / len(x)\n",
    "\n",
    "\n",
    "def train(params, rng, model, x_train, y_train, x_val, y_val,\n",
    "          optimiser, optimiser_state,\n",
    "          l2_reg_alpha, epochs, batch_size: int,\n",
    "          save_every: int = 50):\n",
    "    saves = {}\n",
    "    n_batches = (x_train.shape[0]//batch_size)+1\n",
    "    for e in range(epochs):\n",
    "\n",
    "        for batch in range(n_batches):\n",
    "            start = int(batch*batch_size)\n",
    "            end = int((batch+1)*batch_size) if batch != n_batches - 1 else None\n",
    "\n",
    "            # Single batch of data\n",
    "            x_batch, y_batch = x_train[start:end], y_train[start:end]\n",
    "\n",
    "            if len(x_batch) and len(y_batch):\n",
    "                params, train_loss, grads = train_step(\n",
    "                    params, rng, model, x_batch, y_batch, optimiser, optimiser_state, l2_reg_alpha)\n",
    "\n",
    "        val_acc, val_loss = eval_step(\n",
    "            params, rng, model, x_val, y_val, l2_reg_alpha)\n",
    "\n",
    "        if np.mod(e, save_every) == 0:\n",
    "            saves[e] = {\n",
    "                'params': params,\n",
    "                'grads': grads,\n",
    "                'train_loss': train_loss,\n",
    "                'val_loss': val_loss,\n",
    "                'val_accuracy': val_acc\n",
    "            }\n",
    "            print(\n",
    "                f'Epoch {e} / {epochs} -\\t\\t Train loss: {train_loss}\\tVal loss: {val_loss}\\tVal accuracy: {val_acc}')\n",
    "    return params, saves"
   ]
  },
  {
   "cell_type": "code",
   "execution_count": 64,
   "metadata": {},
   "outputs": [
    {
     "name": "stdout",
     "output_type": "stream",
     "text": [
      "Epoch 0 / 100 -\t\t Train loss: 0.0\tVal loss: 0.28346407413482666\tVal accuracy: 6.256103546320446e-08\n"
     ]
    },
    {
     "ename": "KeyboardInterrupt",
     "evalue": "",
     "output_type": "error",
     "traceback": [
      "\u001b[0;31m---------------------------------------------------------------------------\u001b[0m",
      "\u001b[0;31mKeyError\u001b[0m                                  Traceback (most recent call last)",
      "File \u001b[0;32m~/Kode/env_evo/lib/python3.10/site-packages/jax/_src/api_util.py:583\u001b[0m, in \u001b[0;36mshaped_abstractify\u001b[0;34m(x)\u001b[0m\n\u001b[1;32m    582\u001b[0m \u001b[39mtry\u001b[39;00m:\n\u001b[0;32m--> 583\u001b[0m   \u001b[39mreturn\u001b[39;00m _shaped_abstractify_handlers[\u001b[39mtype\u001b[39;49m(x)](x)\n\u001b[1;32m    584\u001b[0m \u001b[39mexcept\u001b[39;00m \u001b[39mKeyError\u001b[39;00m:\n",
      "\u001b[0;31mKeyError\u001b[0m: <class 'jax._src.interpreters.ad.JVPTracer'>",
      "\nDuring handling of the above exception, another exception occurred:\n",
      "\u001b[0;31mKeyboardInterrupt\u001b[0m                         Traceback (most recent call last)",
      "\u001b[1;32m/home/wadh6511/Kode/EvoScaper/notebooks/02_simple_fcn.ipynb Cell 25\u001b[0m line \u001b[0;36m1\n\u001b[0;32m----> <a href='vscode-notebook-cell:/home/wadh6511/Kode/EvoScaper/notebooks/02_simple_fcn.ipynb#X31sZmlsZQ%3D%3D?line=0'>1</a>\u001b[0m params, saves \u001b[39m=\u001b[39m train(params, rng, model, x_train, y_train, x_val, y_val, optimiser, optimiser_state,\n\u001b[1;32m      <a href='vscode-notebook-cell:/home/wadh6511/Kode/EvoScaper/notebooks/02_simple_fcn.ipynb#X31sZmlsZQ%3D%3D?line=1'>2</a>\u001b[0m                       l2_reg_alpha\u001b[39m=\u001b[39;49mL2_REG_ALPHA, epochs\u001b[39m=\u001b[39;49mEPOCHS, batch_size\u001b[39m=\u001b[39;49mBATCH_SIZE, \n\u001b[1;32m      <a href='vscode-notebook-cell:/home/wadh6511/Kode/EvoScaper/notebooks/02_simple_fcn.ipynb#X31sZmlsZQ%3D%3D?line=2'>3</a>\u001b[0m                       save_every\u001b[39m=\u001b[39;49mPRINT_EVERY) \u001b[39m#int(STEPS // 15))\u001b[39;00m\n",
      "\u001b[1;32m/home/wadh6511/Kode/EvoScaper/notebooks/02_simple_fcn.ipynb Cell 25\u001b[0m line \u001b[0;36m3\n\u001b[1;32m     <a href='vscode-notebook-cell:/home/wadh6511/Kode/EvoScaper/notebooks/02_simple_fcn.ipynb#X31sZmlsZQ%3D%3D?line=33'>34</a>\u001b[0m     x_batch, y_batch \u001b[39m=\u001b[39m x_train[start:end], y_train[start:end]\n\u001b[1;32m     <a href='vscode-notebook-cell:/home/wadh6511/Kode/EvoScaper/notebooks/02_simple_fcn.ipynb#X31sZmlsZQ%3D%3D?line=35'>36</a>\u001b[0m     \u001b[39mif\u001b[39;00m \u001b[39mlen\u001b[39m(x_batch) \u001b[39mand\u001b[39;00m \u001b[39mlen\u001b[39m(y_batch):\n\u001b[0;32m---> <a href='vscode-notebook-cell:/home/wadh6511/Kode/EvoScaper/notebooks/02_simple_fcn.ipynb#X31sZmlsZQ%3D%3D?line=36'>37</a>\u001b[0m         params, train_loss, grads \u001b[39m=\u001b[39m train_step(\n\u001b[1;32m     <a href='vscode-notebook-cell:/home/wadh6511/Kode/EvoScaper/notebooks/02_simple_fcn.ipynb#X31sZmlsZQ%3D%3D?line=37'>38</a>\u001b[0m             params, rng, model, x_batch, y_batch, optimiser, optimiser_state, l2_reg_alpha)\n\u001b[1;32m     <a href='vscode-notebook-cell:/home/wadh6511/Kode/EvoScaper/notebooks/02_simple_fcn.ipynb#X31sZmlsZQ%3D%3D?line=39'>40</a>\u001b[0m val_acc, val_loss \u001b[39m=\u001b[39m eval_step(\n\u001b[1;32m     <a href='vscode-notebook-cell:/home/wadh6511/Kode/EvoScaper/notebooks/02_simple_fcn.ipynb#X31sZmlsZQ%3D%3D?line=40'>41</a>\u001b[0m     params, rng, model, x_val, y_val, l2_reg_alpha)\n\u001b[1;32m     <a href='vscode-notebook-cell:/home/wadh6511/Kode/EvoScaper/notebooks/02_simple_fcn.ipynb#X31sZmlsZQ%3D%3D?line=42'>43</a>\u001b[0m \u001b[39mif\u001b[39;00m np\u001b[39m.\u001b[39mmod(e, save_every) \u001b[39m==\u001b[39m \u001b[39m0\u001b[39m:\n",
      "\u001b[1;32m/home/wadh6511/Kode/EvoScaper/notebooks/02_simple_fcn.ipynb Cell 25\u001b[0m line \u001b[0;36m3\n\u001b[1;32m      <a href='vscode-notebook-cell:/home/wadh6511/Kode/EvoScaper/notebooks/02_simple_fcn.ipynb#X31sZmlsZQ%3D%3D?line=0'>1</a>\u001b[0m \u001b[39mdef\u001b[39;00m \u001b[39mtrain_step\u001b[39m(params, rng, model, x, y, optimiser, optimiser_state, l2_reg_alpha):\n\u001b[0;32m----> <a href='vscode-notebook-cell:/home/wadh6511/Kode/EvoScaper/notebooks/02_simple_fcn.ipynb#X31sZmlsZQ%3D%3D?line=2'>3</a>\u001b[0m     loss, grads \u001b[39m=\u001b[39m jax\u001b[39m.\u001b[39;49mvalue_and_grad(loss_fn)(\n\u001b[1;32m      <a href='vscode-notebook-cell:/home/wadh6511/Kode/EvoScaper/notebooks/02_simple_fcn.ipynb#X31sZmlsZQ%3D%3D?line=3'>4</a>\u001b[0m         params, rng, model, x, y, l2_reg_alpha)\n\u001b[1;32m      <a href='vscode-notebook-cell:/home/wadh6511/Kode/EvoScaper/notebooks/02_simple_fcn.ipynb#X31sZmlsZQ%3D%3D?line=5'>6</a>\u001b[0m     updates, optimiser_state \u001b[39m=\u001b[39m optimiser\u001b[39m.\u001b[39mupdate(grads, optimiser_state)\n\u001b[1;32m      <a href='vscode-notebook-cell:/home/wadh6511/Kode/EvoScaper/notebooks/02_simple_fcn.ipynb#X31sZmlsZQ%3D%3D?line=6'>7</a>\u001b[0m     params \u001b[39m=\u001b[39m optax\u001b[39m.\u001b[39mapply_updates(params, updates)\n",
      "    \u001b[0;31m[... skipping hidden 1 frame]\u001b[0m\n",
      "File \u001b[0;32m~/Kode/env_evo/lib/python3.10/site-packages/jax/_src/api.py:742\u001b[0m, in \u001b[0;36mvalue_and_grad.<locals>.value_and_grad_f\u001b[0;34m(*args, **kwargs)\u001b[0m\n\u001b[1;32m    740\u001b[0m   _check_input_dtype_grad(holomorphic, allow_int, leaf)\n\u001b[1;32m    741\u001b[0m \u001b[39mif\u001b[39;00m \u001b[39mnot\u001b[39;00m has_aux:\n\u001b[0;32m--> 742\u001b[0m   ans, vjp_py \u001b[39m=\u001b[39m _vjp(f_partial, \u001b[39m*\u001b[39;49mdyn_args, reduce_axes\u001b[39m=\u001b[39;49mreduce_axes)\n\u001b[1;32m    743\u001b[0m \u001b[39melse\u001b[39;00m:\n\u001b[1;32m    744\u001b[0m   ans, vjp_py, aux \u001b[39m=\u001b[39m _vjp(\n\u001b[1;32m    745\u001b[0m       f_partial, \u001b[39m*\u001b[39mdyn_args, has_aux\u001b[39m=\u001b[39m\u001b[39mTrue\u001b[39;00m, reduce_axes\u001b[39m=\u001b[39mreduce_axes)\n",
      "File \u001b[0;32m~/Kode/env_evo/lib/python3.10/site-packages/jax/_src/api.py:2248\u001b[0m, in \u001b[0;36m_vjp\u001b[0;34m(fun, has_aux, reduce_axes, *primals)\u001b[0m\n\u001b[1;32m   2246\u001b[0m \u001b[39mif\u001b[39;00m \u001b[39mnot\u001b[39;00m has_aux:\n\u001b[1;32m   2247\u001b[0m   flat_fun, out_tree \u001b[39m=\u001b[39m flatten_fun_nokwargs(fun, in_tree)\n\u001b[0;32m-> 2248\u001b[0m   out_primal, out_vjp \u001b[39m=\u001b[39m ad\u001b[39m.\u001b[39;49mvjp(\n\u001b[1;32m   2249\u001b[0m       flat_fun, primals_flat, reduce_axes\u001b[39m=\u001b[39;49mreduce_axes)\n\u001b[1;32m   2250\u001b[0m   out_tree \u001b[39m=\u001b[39m out_tree()\n\u001b[1;32m   2251\u001b[0m \u001b[39melse\u001b[39;00m:\n",
      "File \u001b[0;32m~/Kode/env_evo/lib/python3.10/site-packages/jax/_src/interpreters/ad.py:140\u001b[0m, in \u001b[0;36mvjp\u001b[0;34m(traceable, primals, has_aux, reduce_axes)\u001b[0m\n\u001b[1;32m    138\u001b[0m \u001b[39mdef\u001b[39;00m \u001b[39mvjp\u001b[39m(traceable, primals, has_aux\u001b[39m=\u001b[39m\u001b[39mFalse\u001b[39;00m, reduce_axes\u001b[39m=\u001b[39m()):\n\u001b[1;32m    139\u001b[0m   \u001b[39mif\u001b[39;00m \u001b[39mnot\u001b[39;00m has_aux:\n\u001b[0;32m--> 140\u001b[0m     out_primals, pvals, jaxpr, consts \u001b[39m=\u001b[39m linearize(traceable, \u001b[39m*\u001b[39;49mprimals)\n\u001b[1;32m    141\u001b[0m   \u001b[39melse\u001b[39;00m:\n\u001b[1;32m    142\u001b[0m     out_primals, pvals, jaxpr, consts, aux \u001b[39m=\u001b[39m linearize(traceable, \u001b[39m*\u001b[39mprimals, has_aux\u001b[39m=\u001b[39m\u001b[39mTrue\u001b[39;00m)\n",
      "File \u001b[0;32m~/Kode/env_evo/lib/python3.10/site-packages/jax/_src/interpreters/ad.py:129\u001b[0m, in \u001b[0;36mlinearize\u001b[0;34m(traceable, *primals, **kwargs)\u001b[0m\n\u001b[1;32m    127\u001b[0m _, in_tree \u001b[39m=\u001b[39m tree_flatten(((primals, primals), {}))\n\u001b[1;32m    128\u001b[0m jvpfun_flat, out_tree \u001b[39m=\u001b[39m flatten_fun(jvpfun, in_tree)\n\u001b[0;32m--> 129\u001b[0m jaxpr, out_pvals, consts \u001b[39m=\u001b[39m pe\u001b[39m.\u001b[39;49mtrace_to_jaxpr_nounits(jvpfun_flat, in_pvals)\n\u001b[1;32m    130\u001b[0m out_primals_pvals, out_tangents_pvals \u001b[39m=\u001b[39m tree_unflatten(out_tree(), out_pvals)\n\u001b[1;32m    131\u001b[0m \u001b[39massert\u001b[39;00m \u001b[39mall\u001b[39m(out_primal_pval\u001b[39m.\u001b[39mis_known() \u001b[39mfor\u001b[39;00m out_primal_pval \u001b[39min\u001b[39;00m out_primals_pvals)\n",
      "File \u001b[0;32m~/Kode/env_evo/lib/python3.10/site-packages/jax/_src/profiler.py:314\u001b[0m, in \u001b[0;36mannotate_function.<locals>.wrapper\u001b[0;34m(*args, **kwargs)\u001b[0m\n\u001b[1;32m    311\u001b[0m \u001b[39m@wraps\u001b[39m(func)\n\u001b[1;32m    312\u001b[0m \u001b[39mdef\u001b[39;00m \u001b[39mwrapper\u001b[39m(\u001b[39m*\u001b[39margs, \u001b[39m*\u001b[39m\u001b[39m*\u001b[39mkwargs):\n\u001b[1;32m    313\u001b[0m   \u001b[39mwith\u001b[39;00m TraceAnnotation(name, \u001b[39m*\u001b[39m\u001b[39m*\u001b[39mdecorator_kwargs):\n\u001b[0;32m--> 314\u001b[0m     \u001b[39mreturn\u001b[39;00m func(\u001b[39m*\u001b[39;49margs, \u001b[39m*\u001b[39;49m\u001b[39m*\u001b[39;49mkwargs)\n\u001b[1;32m    315\u001b[0m   \u001b[39mreturn\u001b[39;00m wrapper\n",
      "File \u001b[0;32m~/Kode/env_evo/lib/python3.10/site-packages/jax/_src/interpreters/partial_eval.py:777\u001b[0m, in \u001b[0;36mtrace_to_jaxpr_nounits\u001b[0;34m(fun, pvals, instantiate)\u001b[0m\n\u001b[1;32m    775\u001b[0m \u001b[39mwith\u001b[39;00m core\u001b[39m.\u001b[39mnew_main(JaxprTrace, name_stack\u001b[39m=\u001b[39mcurrent_name_stack) \u001b[39mas\u001b[39;00m main:\n\u001b[1;32m    776\u001b[0m   fun \u001b[39m=\u001b[39m trace_to_subjaxpr_nounits(fun, main, instantiate)\n\u001b[0;32m--> 777\u001b[0m   jaxpr, (out_pvals, consts, env) \u001b[39m=\u001b[39m fun\u001b[39m.\u001b[39;49mcall_wrapped(pvals)\n\u001b[1;32m    778\u001b[0m   \u001b[39massert\u001b[39;00m \u001b[39mnot\u001b[39;00m env\n\u001b[1;32m    779\u001b[0m   \u001b[39mdel\u001b[39;00m main, fun, env\n",
      "File \u001b[0;32m~/Kode/env_evo/lib/python3.10/site-packages/jax/_src/linear_util.py:190\u001b[0m, in \u001b[0;36mWrappedFun.call_wrapped\u001b[0;34m(self, *args, **kwargs)\u001b[0m\n\u001b[1;32m    187\u001b[0m gen \u001b[39m=\u001b[39m gen_static_args \u001b[39m=\u001b[39m out_store \u001b[39m=\u001b[39m \u001b[39mNone\u001b[39;00m\n\u001b[1;32m    189\u001b[0m \u001b[39mtry\u001b[39;00m:\n\u001b[0;32m--> 190\u001b[0m   ans \u001b[39m=\u001b[39m \u001b[39mself\u001b[39;49m\u001b[39m.\u001b[39;49mf(\u001b[39m*\u001b[39;49margs, \u001b[39m*\u001b[39;49m\u001b[39m*\u001b[39;49m\u001b[39mdict\u001b[39;49m(\u001b[39mself\u001b[39;49m\u001b[39m.\u001b[39;49mparams, \u001b[39m*\u001b[39;49m\u001b[39m*\u001b[39;49mkwargs))\n\u001b[1;32m    191\u001b[0m \u001b[39mexcept\u001b[39;00m:\n\u001b[1;32m    192\u001b[0m   \u001b[39m# Some transformations yield from inside context managers, so we have to\u001b[39;00m\n\u001b[1;32m    193\u001b[0m   \u001b[39m# interrupt them before reraising the exception. Otherwise they will only\u001b[39;00m\n\u001b[1;32m    194\u001b[0m   \u001b[39m# get garbage-collected at some later time, running their cleanup tasks\u001b[39;00m\n\u001b[1;32m    195\u001b[0m   \u001b[39m# only after this exception is handled, which can corrupt the global\u001b[39;00m\n\u001b[1;32m    196\u001b[0m   \u001b[39m# state.\u001b[39;00m\n\u001b[1;32m    197\u001b[0m   \u001b[39mwhile\u001b[39;00m stack:\n",
      "\u001b[1;32m/home/wadh6511/Kode/EvoScaper/notebooks/02_simple_fcn.ipynb Cell 25\u001b[0m line \u001b[0;36m7\n\u001b[1;32m      <a href='vscode-notebook-cell:/home/wadh6511/Kode/EvoScaper/notebooks/02_simple_fcn.ipynb#X31sZmlsZQ%3D%3D?line=0'>1</a>\u001b[0m \u001b[39mdef\u001b[39;00m \u001b[39mloss_fn\u001b[39m(\n\u001b[1;32m      <a href='vscode-notebook-cell:/home/wadh6511/Kode/EvoScaper/notebooks/02_simple_fcn.ipynb#X31sZmlsZQ%3D%3D?line=1'>2</a>\u001b[0m     params, rng,\n\u001b[1;32m      <a href='vscode-notebook-cell:/home/wadh6511/Kode/EvoScaper/notebooks/02_simple_fcn.ipynb#X31sZmlsZQ%3D%3D?line=2'>3</a>\u001b[0m     model: FCN, x: Float[Array, \u001b[39m\"\u001b[39m\u001b[39m batch n_interactions\u001b[39m\u001b[39m\"\u001b[39m], y: Int[Array, \u001b[39m\"\u001b[39m\u001b[39m batch\u001b[39m\u001b[39m\"\u001b[39m], \n\u001b[1;32m      <a href='vscode-notebook-cell:/home/wadh6511/Kode/EvoScaper/notebooks/02_simple_fcn.ipynb#X31sZmlsZQ%3D%3D?line=3'>4</a>\u001b[0m     l2_reg_alpha: Float,\n\u001b[1;32m      <a href='vscode-notebook-cell:/home/wadh6511/Kode/EvoScaper/notebooks/02_simple_fcn.ipynb#X31sZmlsZQ%3D%3D?line=4'>5</a>\u001b[0m ) \u001b[39m-\u001b[39m\u001b[39m>\u001b[39m Float[Array, \u001b[39m\"\u001b[39m\u001b[39m\"\u001b[39m]:\n\u001b[0;32m----> <a href='vscode-notebook-cell:/home/wadh6511/Kode/EvoScaper/notebooks/02_simple_fcn.ipynb#X31sZmlsZQ%3D%3D?line=6'>7</a>\u001b[0m     pred_y \u001b[39m=\u001b[39m model\u001b[39m.\u001b[39;49mapply(params, rng, x)\n\u001b[1;32m      <a href='vscode-notebook-cell:/home/wadh6511/Kode/EvoScaper/notebooks/02_simple_fcn.ipynb#X31sZmlsZQ%3D%3D?line=7'>8</a>\u001b[0m     loss \u001b[39m=\u001b[39m cross_entropy(y, pred_y, num_classes\u001b[39m=\u001b[39mpred_y\u001b[39m.\u001b[39mshape[\u001b[39m-\u001b[39m\u001b[39m1\u001b[39m])\n\u001b[1;32m      <a href='vscode-notebook-cell:/home/wadh6511/Kode/EvoScaper/notebooks/02_simple_fcn.ipynb#X31sZmlsZQ%3D%3D?line=8'>9</a>\u001b[0m     \u001b[39m# loss += sum(\u001b[39;00m\n\u001b[1;32m     <a href='vscode-notebook-cell:/home/wadh6511/Kode/EvoScaper/notebooks/02_simple_fcn.ipynb#X31sZmlsZQ%3D%3D?line=9'>10</a>\u001b[0m     \u001b[39m#     l2_loss(w, alpha=l2_reg_alpha) \u001b[39;00m\n\u001b[1;32m     <a href='vscode-notebook-cell:/home/wadh6511/Kode/EvoScaper/notebooks/02_simple_fcn.ipynb#X31sZmlsZQ%3D%3D?line=10'>11</a>\u001b[0m     \u001b[39m#     for w in jax.tree_util.tree_leaves(params)\u001b[39;00m\n\u001b[1;32m     <a href='vscode-notebook-cell:/home/wadh6511/Kode/EvoScaper/notebooks/02_simple_fcn.ipynb#X31sZmlsZQ%3D%3D?line=11'>12</a>\u001b[0m     \u001b[39m# )\u001b[39;00m\n",
      "File \u001b[0;32m~/Kode/env_evo/lib/python3.10/site-packages/haiku/_src/transform.py:187\u001b[0m, in \u001b[0;36mwithout_state.<locals>.apply_fn\u001b[0;34m(params, *args, **kwargs)\u001b[0m\n\u001b[1;32m    180\u001b[0m \u001b[39mif\u001b[39;00m \u001b[39m\"\u001b[39m\u001b[39mstate\u001b[39m\u001b[39m\"\u001b[39m \u001b[39min\u001b[39;00m kwargs:\n\u001b[1;32m    181\u001b[0m   \u001b[39mraise\u001b[39;00m \u001b[39mTypeError\u001b[39;00m(\n\u001b[1;32m    182\u001b[0m       \u001b[39m\"\u001b[39m\u001b[39mHaiku transform adds three arguments (params, state, rng) to apply. \u001b[39m\u001b[39m\"\u001b[39m\n\u001b[1;32m    183\u001b[0m       \u001b[39m\"\u001b[39m\u001b[39mIf the functions you are transforming use the same names you must \u001b[39m\u001b[39m\"\u001b[39m\n\u001b[1;32m    184\u001b[0m       \u001b[39m\"\u001b[39m\u001b[39mpass them positionally (e.g. `f.apply(.., my_state)` and not by \u001b[39m\u001b[39m\"\u001b[39m\n\u001b[1;32m    185\u001b[0m       \u001b[39m\"\u001b[39m\u001b[39mname (e.g. `f.apply(.., state=my_state)`)\u001b[39m\u001b[39m\"\u001b[39m)\n\u001b[0;32m--> 187\u001b[0m out, state \u001b[39m=\u001b[39m f\u001b[39m.\u001b[39;49mapply(params, \u001b[39mNone\u001b[39;49;00m, \u001b[39m*\u001b[39;49margs, \u001b[39m*\u001b[39;49m\u001b[39m*\u001b[39;49mkwargs)\n\u001b[1;32m    188\u001b[0m \u001b[39mif\u001b[39;00m state:\n\u001b[1;32m    189\u001b[0m   \u001b[39mraise\u001b[39;00m base\u001b[39m.\u001b[39mNonEmptyStateError(\n\u001b[1;32m    190\u001b[0m       \u001b[39m\"\u001b[39m\u001b[39mIf your transformed function uses `hk.\u001b[39m\u001b[39m{\u001b[39m\u001b[39mget,set}_state` then use \u001b[39m\u001b[39m\"\u001b[39m\n\u001b[1;32m    191\u001b[0m       \u001b[39m\"\u001b[39m\u001b[39m`hk.transform_with_state`.\u001b[39m\u001b[39m\"\u001b[39m)\n",
      "File \u001b[0;32m~/Kode/env_evo/lib/python3.10/site-packages/haiku/_src/transform.py:457\u001b[0m, in \u001b[0;36mtransform_with_state.<locals>.apply_fn\u001b[0;34m(params, state, rng, *args, **kwargs)\u001b[0m\n\u001b[1;32m    455\u001b[0m \u001b[39mwith\u001b[39;00m base\u001b[39m.\u001b[39mnew_context(params\u001b[39m=\u001b[39mparams, state\u001b[39m=\u001b[39mstate, rng\u001b[39m=\u001b[39mrng) \u001b[39mas\u001b[39;00m ctx:\n\u001b[1;32m    456\u001b[0m   \u001b[39mtry\u001b[39;00m:\n\u001b[0;32m--> 457\u001b[0m     out \u001b[39m=\u001b[39m f(\u001b[39m*\u001b[39;49margs, \u001b[39m*\u001b[39;49m\u001b[39m*\u001b[39;49mkwargs)\n\u001b[1;32m    458\u001b[0m   \u001b[39mexcept\u001b[39;00m jax\u001b[39m.\u001b[39merrors\u001b[39m.\u001b[39mUnexpectedTracerError \u001b[39mas\u001b[39;00m e:\n\u001b[1;32m    459\u001b[0m     \u001b[39mraise\u001b[39;00m jax\u001b[39m.\u001b[39merrors\u001b[39m.\u001b[39mUnexpectedTracerError(unexpected_tracer_hint) \u001b[39mfrom\u001b[39;00m \u001b[39me\u001b[39;00m\n",
      "\u001b[1;32m/home/wadh6511/Kode/EvoScaper/notebooks/02_simple_fcn.ipynb Cell 25\u001b[0m line \u001b[0;36m4\n\u001b[1;32m     <a href='vscode-notebook-cell:/home/wadh6511/Kode/EvoScaper/notebooks/02_simple_fcn.ipynb#X31sZmlsZQ%3D%3D?line=39'>40</a>\u001b[0m \u001b[39mdef\u001b[39;00m \u001b[39mFCN_fn\u001b[39m(x, \u001b[39m*\u001b[39m\u001b[39m*\u001b[39mkwargs):\n\u001b[1;32m     <a href='vscode-notebook-cell:/home/wadh6511/Kode/EvoScaper/notebooks/02_simple_fcn.ipynb#X31sZmlsZQ%3D%3D?line=40'>41</a>\u001b[0m     model \u001b[39m=\u001b[39m FCN(\u001b[39m*\u001b[39m\u001b[39m*\u001b[39mkwargs)\n\u001b[0;32m---> <a href='vscode-notebook-cell:/home/wadh6511/Kode/EvoScaper/notebooks/02_simple_fcn.ipynb#X31sZmlsZQ%3D%3D?line=41'>42</a>\u001b[0m     \u001b[39mreturn\u001b[39;00m model(x)\n",
      "File \u001b[0;32m~/Kode/env_evo/lib/python3.10/site-packages/haiku/_src/module.py:465\u001b[0m, in \u001b[0;36mwrap_method.<locals>.wrapped\u001b[0;34m(self, *args, **kwargs)\u001b[0m\n\u001b[1;32m    462\u001b[0m   \u001b[39mif\u001b[39;00m method_name \u001b[39m!=\u001b[39m \u001b[39m\"\u001b[39m\u001b[39m__call__\u001b[39m\u001b[39m\"\u001b[39m:\n\u001b[1;32m    463\u001b[0m     f \u001b[39m=\u001b[39m jax\u001b[39m.\u001b[39mnamed_call(f, name\u001b[39m=\u001b[39mmethod_name)\n\u001b[0;32m--> 465\u001b[0m out \u001b[39m=\u001b[39m f(\u001b[39m*\u001b[39;49margs, \u001b[39m*\u001b[39;49m\u001b[39m*\u001b[39;49mkwargs)\n\u001b[1;32m    467\u001b[0m \u001b[39m# Module names are set in the constructor. If `f` is the constructor then\u001b[39;00m\n\u001b[1;32m    468\u001b[0m \u001b[39m# its name will only be set **after** `f` has run. For methods other\u001b[39;00m\n\u001b[1;32m    469\u001b[0m \u001b[39m# than `__init__` we need the name before running in order to wrap their\u001b[39;00m\n\u001b[1;32m    470\u001b[0m \u001b[39m# execution with `named_call`.\u001b[39;00m\n\u001b[1;32m    471\u001b[0m \u001b[39mif\u001b[39;00m module_name \u001b[39mis\u001b[39;00m \u001b[39mNone\u001b[39;00m:\n",
      "File \u001b[0;32m/usr/lib/python3.10/contextlib.py:79\u001b[0m, in \u001b[0;36mContextDecorator.__call__.<locals>.inner\u001b[0;34m(*args, **kwds)\u001b[0m\n\u001b[1;32m     76\u001b[0m \u001b[39m@wraps\u001b[39m(func)\n\u001b[1;32m     77\u001b[0m \u001b[39mdef\u001b[39;00m \u001b[39minner\u001b[39m(\u001b[39m*\u001b[39margs, \u001b[39m*\u001b[39m\u001b[39m*\u001b[39mkwds):\n\u001b[1;32m     78\u001b[0m     \u001b[39mwith\u001b[39;00m \u001b[39mself\u001b[39m\u001b[39m.\u001b[39m_recreate_cm():\n\u001b[0;32m---> 79\u001b[0m         \u001b[39mreturn\u001b[39;00m func(\u001b[39m*\u001b[39;49margs, \u001b[39m*\u001b[39;49m\u001b[39m*\u001b[39;49mkwds)\n",
      "File \u001b[0;32m~/Kode/env_evo/lib/python3.10/site-packages/haiku/_src/module.py:306\u001b[0m, in \u001b[0;36mrun_interceptors\u001b[0;34m(bound_method, method_name, self, orig_class, *args, **kwargs)\u001b[0m\n\u001b[1;32m    304\u001b[0m \u001b[39m\u001b[39m\u001b[39m\"\"\"Runs any method interceptors or the original method.\"\"\"\u001b[39;00m\n\u001b[1;32m    305\u001b[0m \u001b[39mif\u001b[39;00m \u001b[39mnot\u001b[39;00m interceptor_stack:\n\u001b[0;32m--> 306\u001b[0m   \u001b[39mreturn\u001b[39;00m bound_method(\u001b[39m*\u001b[39;49margs, \u001b[39m*\u001b[39;49m\u001b[39m*\u001b[39;49mkwargs)\n\u001b[1;32m    308\u001b[0m ctx \u001b[39m=\u001b[39m MethodContext(module\u001b[39m=\u001b[39m\u001b[39mself\u001b[39m,\n\u001b[1;32m    309\u001b[0m                     method_name\u001b[39m=\u001b[39mmethod_name,\n\u001b[1;32m    310\u001b[0m                     orig_method\u001b[39m=\u001b[39mbound_method,\n\u001b[1;32m    311\u001b[0m                     orig_class\u001b[39m=\u001b[39morig_class)\n\u001b[1;32m    312\u001b[0m interceptor_stack_copy \u001b[39m=\u001b[39m interceptor_stack\u001b[39m.\u001b[39mclone()\n",
      "\u001b[1;32m/home/wadh6511/Kode/EvoScaper/notebooks/02_simple_fcn.ipynb Cell 25\u001b[0m line \u001b[0;36m3\n\u001b[1;32m     <a href='vscode-notebook-cell:/home/wadh6511/Kode/EvoScaper/notebooks/02_simple_fcn.ipynb#X31sZmlsZQ%3D%3D?line=29'>30</a>\u001b[0m \u001b[39mfor\u001b[39;00m i, layer \u001b[39min\u001b[39;00m \u001b[39menumerate\u001b[39m(\u001b[39mself\u001b[39m\u001b[39m.\u001b[39mlayers):\n\u001b[1;32m     <a href='vscode-notebook-cell:/home/wadh6511/Kode/EvoScaper/notebooks/02_simple_fcn.ipynb#X31sZmlsZQ%3D%3D?line=30'>31</a>\u001b[0m     kwargs \u001b[39m=\u001b[39m {} \u001b[39mif\u001b[39;00m \u001b[39mnot\u001b[39;00m \u001b[39mtype\u001b[39m(layer) \u001b[39m==\u001b[39m eqx\u001b[39m.\u001b[39mnn\u001b[39m.\u001b[39mDropout \u001b[39melse\u001b[39;00m {\n\u001b[1;32m     <a href='vscode-notebook-cell:/home/wadh6511/Kode/EvoScaper/notebooks/02_simple_fcn.ipynb#X31sZmlsZQ%3D%3D?line=31'>32</a>\u001b[0m         \u001b[39m'\u001b[39m\u001b[39minference\u001b[39m\u001b[39m'\u001b[39m: inference, \u001b[39m'\u001b[39m\u001b[39mkey\u001b[39m\u001b[39m'\u001b[39m: jax\u001b[39m.\u001b[39mrandom\u001b[39m.\u001b[39mPRNGKey(seed)}\n\u001b[0;32m---> <a href='vscode-notebook-cell:/home/wadh6511/Kode/EvoScaper/notebooks/02_simple_fcn.ipynb#X31sZmlsZQ%3D%3D?line=33'>34</a>\u001b[0m     x \u001b[39m=\u001b[39m layer(x, \u001b[39m*\u001b[39;49m\u001b[39m*\u001b[39;49mkwargs)\n\u001b[1;32m     <a href='vscode-notebook-cell:/home/wadh6511/Kode/EvoScaper/notebooks/02_simple_fcn.ipynb#X31sZmlsZQ%3D%3D?line=35'>36</a>\u001b[0m     \u001b[39m# wandb.log({f'emb_{i}_{type(layer)}': x})\u001b[39;00m\n\u001b[1;32m     <a href='vscode-notebook-cell:/home/wadh6511/Kode/EvoScaper/notebooks/02_simple_fcn.ipynb#X31sZmlsZQ%3D%3D?line=36'>37</a>\u001b[0m \u001b[39mreturn\u001b[39;00m x\n",
      "File \u001b[0;32m~/Kode/env_evo/lib/python3.10/site-packages/haiku/_src/module.py:465\u001b[0m, in \u001b[0;36mwrap_method.<locals>.wrapped\u001b[0;34m(self, *args, **kwargs)\u001b[0m\n\u001b[1;32m    462\u001b[0m   \u001b[39mif\u001b[39;00m method_name \u001b[39m!=\u001b[39m \u001b[39m\"\u001b[39m\u001b[39m__call__\u001b[39m\u001b[39m\"\u001b[39m:\n\u001b[1;32m    463\u001b[0m     f \u001b[39m=\u001b[39m jax\u001b[39m.\u001b[39mnamed_call(f, name\u001b[39m=\u001b[39mmethod_name)\n\u001b[0;32m--> 465\u001b[0m out \u001b[39m=\u001b[39m f(\u001b[39m*\u001b[39;49margs, \u001b[39m*\u001b[39;49m\u001b[39m*\u001b[39;49mkwargs)\n\u001b[1;32m    467\u001b[0m \u001b[39m# Module names are set in the constructor. If `f` is the constructor then\u001b[39;00m\n\u001b[1;32m    468\u001b[0m \u001b[39m# its name will only be set **after** `f` has run. For methods other\u001b[39;00m\n\u001b[1;32m    469\u001b[0m \u001b[39m# than `__init__` we need the name before running in order to wrap their\u001b[39;00m\n\u001b[1;32m    470\u001b[0m \u001b[39m# execution with `named_call`.\u001b[39;00m\n\u001b[1;32m    471\u001b[0m \u001b[39mif\u001b[39;00m module_name \u001b[39mis\u001b[39;00m \u001b[39mNone\u001b[39;00m:\n",
      "File \u001b[0;32m/usr/lib/python3.10/contextlib.py:79\u001b[0m, in \u001b[0;36mContextDecorator.__call__.<locals>.inner\u001b[0;34m(*args, **kwds)\u001b[0m\n\u001b[1;32m     76\u001b[0m \u001b[39m@wraps\u001b[39m(func)\n\u001b[1;32m     77\u001b[0m \u001b[39mdef\u001b[39;00m \u001b[39minner\u001b[39m(\u001b[39m*\u001b[39margs, \u001b[39m*\u001b[39m\u001b[39m*\u001b[39mkwds):\n\u001b[1;32m     78\u001b[0m     \u001b[39mwith\u001b[39;00m \u001b[39mself\u001b[39m\u001b[39m.\u001b[39m_recreate_cm():\n\u001b[0;32m---> 79\u001b[0m         \u001b[39mreturn\u001b[39;00m func(\u001b[39m*\u001b[39;49margs, \u001b[39m*\u001b[39;49m\u001b[39m*\u001b[39;49mkwds)\n",
      "File \u001b[0;32m~/Kode/env_evo/lib/python3.10/site-packages/haiku/_src/module.py:306\u001b[0m, in \u001b[0;36mrun_interceptors\u001b[0;34m(bound_method, method_name, self, orig_class, *args, **kwargs)\u001b[0m\n\u001b[1;32m    304\u001b[0m \u001b[39m\u001b[39m\u001b[39m\"\"\"Runs any method interceptors or the original method.\"\"\"\u001b[39;00m\n\u001b[1;32m    305\u001b[0m \u001b[39mif\u001b[39;00m \u001b[39mnot\u001b[39;00m interceptor_stack:\n\u001b[0;32m--> 306\u001b[0m   \u001b[39mreturn\u001b[39;00m bound_method(\u001b[39m*\u001b[39;49margs, \u001b[39m*\u001b[39;49m\u001b[39m*\u001b[39;49mkwargs)\n\u001b[1;32m    308\u001b[0m ctx \u001b[39m=\u001b[39m MethodContext(module\u001b[39m=\u001b[39m\u001b[39mself\u001b[39m,\n\u001b[1;32m    309\u001b[0m                     method_name\u001b[39m=\u001b[39mmethod_name,\n\u001b[1;32m    310\u001b[0m                     orig_method\u001b[39m=\u001b[39mbound_method,\n\u001b[1;32m    311\u001b[0m                     orig_class\u001b[39m=\u001b[39morig_class)\n\u001b[1;32m    312\u001b[0m interceptor_stack_copy \u001b[39m=\u001b[39m interceptor_stack\u001b[39m.\u001b[39mclone()\n",
      "File \u001b[0;32m~/Kode/env_evo/lib/python3.10/site-packages/haiku/_src/basic.py:185\u001b[0m, in \u001b[0;36mLinear.__call__\u001b[0;34m(self, inputs, precision)\u001b[0m\n\u001b[1;32m    183\u001b[0m   b \u001b[39m=\u001b[39m hk\u001b[39m.\u001b[39mget_parameter(\u001b[39m\"\u001b[39m\u001b[39mb\u001b[39m\u001b[39m\"\u001b[39m, [\u001b[39mself\u001b[39m\u001b[39m.\u001b[39moutput_size], dtype, init\u001b[39m=\u001b[39m\u001b[39mself\u001b[39m\u001b[39m.\u001b[39mb_init)\n\u001b[1;32m    184\u001b[0m   b \u001b[39m=\u001b[39m jnp\u001b[39m.\u001b[39mbroadcast_to(b, out\u001b[39m.\u001b[39mshape)\n\u001b[0;32m--> 185\u001b[0m   out \u001b[39m=\u001b[39m out \u001b[39m+\u001b[39;49m b\n\u001b[1;32m    187\u001b[0m \u001b[39mreturn\u001b[39;00m out\n",
      "File \u001b[0;32m~/Kode/env_evo/lib/python3.10/site-packages/jax/_src/numpy/array_methods.py:728\u001b[0m, in \u001b[0;36m_forward_operator_to_aval.<locals>.op\u001b[0;34m(self, *args)\u001b[0m\n\u001b[1;32m    727\u001b[0m \u001b[39mdef\u001b[39;00m \u001b[39mop\u001b[39m(\u001b[39mself\u001b[39m, \u001b[39m*\u001b[39margs):\n\u001b[0;32m--> 728\u001b[0m   \u001b[39mreturn\u001b[39;00m \u001b[39mgetattr\u001b[39;49m(\u001b[39mself\u001b[39;49m\u001b[39m.\u001b[39;49maval, \u001b[39mf\u001b[39;49m\u001b[39m\"\u001b[39;49m\u001b[39m_\u001b[39;49m\u001b[39m{\u001b[39;49;00mname\u001b[39m}\u001b[39;49;00m\u001b[39m\"\u001b[39;49m)(\u001b[39mself\u001b[39;49m, \u001b[39m*\u001b[39;49margs)\n",
      "File \u001b[0;32m~/Kode/env_evo/lib/python3.10/site-packages/jax/_src/numpy/array_methods.py:256\u001b[0m, in \u001b[0;36m_defer_to_unrecognized_arg.<locals>.deferring_binary_op\u001b[0;34m(self, other)\u001b[0m\n\u001b[1;32m    254\u001b[0m args \u001b[39m=\u001b[39m (other, \u001b[39mself\u001b[39m) \u001b[39mif\u001b[39;00m swap \u001b[39melse\u001b[39;00m (\u001b[39mself\u001b[39m, other)\n\u001b[1;32m    255\u001b[0m \u001b[39mif\u001b[39;00m \u001b[39misinstance\u001b[39m(other, _accepted_binop_types):\n\u001b[0;32m--> 256\u001b[0m   \u001b[39mreturn\u001b[39;00m binary_op(\u001b[39m*\u001b[39;49margs)\n\u001b[1;32m    257\u001b[0m \u001b[39m# Note: don't use isinstance here, because we don't want to raise for\u001b[39;00m\n\u001b[1;32m    258\u001b[0m \u001b[39m# subclasses, e.g. NamedTuple objects that may override operators.\u001b[39;00m\n\u001b[1;32m    259\u001b[0m \u001b[39mif\u001b[39;00m \u001b[39mtype\u001b[39m(other) \u001b[39min\u001b[39;00m _rejected_binop_types:\n",
      "    \u001b[0;31m[... skipping hidden 1 frame]\u001b[0m\n",
      "File \u001b[0;32m~/Kode/env_evo/lib/python3.10/site-packages/jax/_src/pjit.py:255\u001b[0m, in \u001b[0;36m_cpp_pjit.<locals>.cache_miss\u001b[0;34m(*args, **kwargs)\u001b[0m\n\u001b[1;32m    253\u001b[0m \u001b[39m@api_boundary\u001b[39m\n\u001b[1;32m    254\u001b[0m \u001b[39mdef\u001b[39;00m \u001b[39mcache_miss\u001b[39m(\u001b[39m*\u001b[39margs, \u001b[39m*\u001b[39m\u001b[39m*\u001b[39mkwargs):\n\u001b[0;32m--> 255\u001b[0m   outs, out_flat, out_tree, args_flat, jaxpr \u001b[39m=\u001b[39m _python_pjit_helper(\n\u001b[1;32m    256\u001b[0m       fun, infer_params_fn, \u001b[39m*\u001b[39;49margs, \u001b[39m*\u001b[39;49m\u001b[39m*\u001b[39;49mkwargs)\n\u001b[1;32m    257\u001b[0m   executable \u001b[39m=\u001b[39m _read_most_recent_pjit_call_executable(jaxpr)\n\u001b[1;32m    258\u001b[0m   fastpath_data \u001b[39m=\u001b[39m _get_fastpath_data(executable, out_tree, args_flat, out_flat)\n",
      "File \u001b[0;32m~/Kode/env_evo/lib/python3.10/site-packages/jax/_src/pjit.py:161\u001b[0m, in \u001b[0;36m_python_pjit_helper\u001b[0;34m(fun, infer_params_fn, *args, **kwargs)\u001b[0m\n\u001b[1;32m    160\u001b[0m \u001b[39mdef\u001b[39;00m \u001b[39m_python_pjit_helper\u001b[39m(fun, infer_params_fn, \u001b[39m*\u001b[39margs, \u001b[39m*\u001b[39m\u001b[39m*\u001b[39mkwargs):\n\u001b[0;32m--> 161\u001b[0m   args_flat, _, params, in_tree, out_tree, _ \u001b[39m=\u001b[39m infer_params_fn(\n\u001b[1;32m    162\u001b[0m       \u001b[39m*\u001b[39;49margs, \u001b[39m*\u001b[39;49m\u001b[39m*\u001b[39;49mkwargs)\n\u001b[1;32m    163\u001b[0m   \u001b[39mfor\u001b[39;00m arg \u001b[39min\u001b[39;00m args_flat:\n\u001b[1;32m    164\u001b[0m     dispatch\u001b[39m.\u001b[39mcheck_arg(arg)\n",
      "File \u001b[0;32m~/Kode/env_evo/lib/python3.10/site-packages/jax/_src/api.py:325\u001b[0m, in \u001b[0;36mjit.<locals>.infer_params\u001b[0;34m(*args, **kwargs)\u001b[0m\n\u001b[1;32m    317\u001b[0m \u001b[39mdef\u001b[39;00m \u001b[39minfer_params\u001b[39m(\u001b[39m*\u001b[39margs, \u001b[39m*\u001b[39m\u001b[39m*\u001b[39mkwargs):\n\u001b[1;32m    318\u001b[0m   pjit_info_args \u001b[39m=\u001b[39m pjit\u001b[39m.\u001b[39mPjitInfo(\n\u001b[1;32m    319\u001b[0m       fun\u001b[39m=\u001b[39mfun, in_shardings\u001b[39m=\u001b[39min_shardings,\n\u001b[1;32m    320\u001b[0m       out_shardings\u001b[39m=\u001b[39mout_shardings, static_argnums\u001b[39m=\u001b[39mstatic_argnums,\n\u001b[0;32m   (...)\u001b[0m\n\u001b[1;32m    323\u001b[0m       keep_unused\u001b[39m=\u001b[39mkeep_unused, inline\u001b[39m=\u001b[39minline, resource_env\u001b[39m=\u001b[39m\u001b[39mNone\u001b[39;00m,\n\u001b[1;32m    324\u001b[0m       abstracted_axes\u001b[39m=\u001b[39mabstracted_axes)\n\u001b[0;32m--> 325\u001b[0m   \u001b[39mreturn\u001b[39;00m pjit\u001b[39m.\u001b[39;49mcommon_infer_params(pjit_info_args, \u001b[39m*\u001b[39;49margs, \u001b[39m*\u001b[39;49m\u001b[39m*\u001b[39;49mkwargs)\n",
      "File \u001b[0;32m~/Kode/env_evo/lib/python3.10/site-packages/jax/_src/pjit.py:474\u001b[0m, in \u001b[0;36mcommon_infer_params\u001b[0;34m(***failed resolving arguments***)\u001b[0m\n\u001b[1;32m    472\u001b[0m \u001b[39mfor\u001b[39;00m i, a \u001b[39min\u001b[39;00m \u001b[39menumerate\u001b[39m(explicit_args):\n\u001b[1;32m    473\u001b[0m   \u001b[39mtry\u001b[39;00m:\n\u001b[0;32m--> 474\u001b[0m     avals\u001b[39m.\u001b[39mappend(shaped_abstractify(a))\n\u001b[1;32m    475\u001b[0m   \u001b[39mexcept\u001b[39;00m \u001b[39mOverflowError\u001b[39;00m \u001b[39mas\u001b[39;00m e:\n\u001b[1;32m    476\u001b[0m     arg_path \u001b[39m=\u001b[39m (\u001b[39mf\u001b[39m\u001b[39m\"\u001b[39m\u001b[39margument path is \u001b[39m\u001b[39m{\u001b[39;00mdbg\u001b[39m.\u001b[39marg_names[i]\u001b[39m}\u001b[39;00m\u001b[39m\"\u001b[39m \u001b[39mif\u001b[39;00m dbg\n\u001b[1;32m    477\u001b[0m                 \u001b[39melse\u001b[39;00m \u001b[39mf\u001b[39m\u001b[39m\"\u001b[39m\u001b[39mflattened argument number is \u001b[39m\u001b[39m{\u001b[39;00mi\u001b[39m}\u001b[39;00m\u001b[39m\"\u001b[39m)\n",
      "File \u001b[0;32m~/Kode/env_evo/lib/python3.10/site-packages/jax/_src/api_util.py:585\u001b[0m, in \u001b[0;36mshaped_abstractify\u001b[0;34m(x)\u001b[0m\n\u001b[1;32m    583\u001b[0m   \u001b[39mreturn\u001b[39;00m _shaped_abstractify_handlers[\u001b[39mtype\u001b[39m(x)](x)\n\u001b[1;32m    584\u001b[0m \u001b[39mexcept\u001b[39;00m \u001b[39mKeyError\u001b[39;00m:\n\u001b[0;32m--> 585\u001b[0m   \u001b[39mreturn\u001b[39;00m _shaped_abstractify_slow(x)\n",
      "File \u001b[0;32m~/Kode/env_evo/lib/python3.10/site-packages/jax/_src/api_util.py:565\u001b[0m, in \u001b[0;36m_shaped_abstractify_slow\u001b[0;34m(x)\u001b[0m\n\u001b[1;32m    562\u001b[0m \u001b[39mdef\u001b[39;00m \u001b[39m_shaped_abstractify_slow\u001b[39m(x):\n\u001b[1;32m    563\u001b[0m   \u001b[39mtry\u001b[39;00m:\n\u001b[1;32m    564\u001b[0m     \u001b[39mreturn\u001b[39;00m core\u001b[39m.\u001b[39mraise_to_shaped(\n\u001b[0;32m--> 565\u001b[0m       x \u001b[39mif\u001b[39;00m \u001b[39misinstance\u001b[39;49m(x, core\u001b[39m.\u001b[39;49mAbstractValue) \u001b[39melse\u001b[39;00m core\u001b[39m.\u001b[39mget_aval(x))\n\u001b[1;32m    566\u001b[0m   \u001b[39mexcept\u001b[39;00m \u001b[39mTypeError\u001b[39;00m:\n\u001b[1;32m    567\u001b[0m     \u001b[39mpass\u001b[39;00m\n",
      "\u001b[0;31mKeyboardInterrupt\u001b[0m: "
     ]
    }
   ],
   "source": [
    "params, saves = train(params, rng, model, x_train, y_train, x_val, y_val, optimiser, optimiser_state,\n",
    "                      l2_reg_alpha=L2_REG_ALPHA, epochs=EPOCHS, batch_size=BATCH_SIZE, \n",
    "                      save_every=PRINT_EVERY) #int(STEPS // 15))"
   ]
  },
  {
   "cell_type": "markdown",
   "metadata": {},
   "source": [
    "## Visualise"
   ]
  },
  {
   "cell_type": "code",
   "execution_count": 13,
   "metadata": {},
   "outputs": [
    {
     "data": {
      "text/plain": [
       "Text(0.5, 0, 'step')"
      ]
     },
     "execution_count": 13,
     "metadata": {},
     "output_type": "execute_result"
    },
    {
     "data": {
      "image/png": "[encoded data removed]",
      "text/plain": [
       "<Figure size 2100x600 with 3 Axes>"
      ]
     },
     "metadata": {},
     "output_type": "display_data"
    }
   ],
   "source": [
    "plt.figure(figsize=(7*3, 6))\n",
    "ax = plt.subplot(1,3,1)\n",
    "plt.plot(list(saves.keys()), [v['train_loss'] for v in saves.values()])\n",
    "plt.ylabel('train_loss')\n",
    "plt.xlabel('step')\n",
    "ax = plt.subplot(1,3,2)\n",
    "plt.plot(list(saves.keys()), [v['val_loss'] for v in saves.values()])\n",
    "plt.ylabel('val_loss')\n",
    "plt.xlabel('step')\n",
    "ax = plt.subplot(1,3,3)\n",
    "plt.plot(list(saves.keys()), [v['val_accuracy'] for v in saves.values()])\n",
    "plt.ylabel('val_accuracy')\n",
    "plt.xlabel('step')"
   ]
  },
  {
   "cell_type": "code",
   "execution_count": null,
   "metadata": {},
   "outputs": [],
   "source": []
  },
  {
   "cell_type": "code",
   "execution_count": null,
   "metadata": {},
   "outputs": [],
   "source": []
  }
 ],
 "metadata": {
  "kernelspec": {
   "display_name": "env_evo",
   "language": "python",
   "name": "python3"
  },
  "language_info": {
   "codemirror_mode": {
    "name": "ipython",
    "version": 3
   },
   "file_extension": ".py",
   "mimetype": "text/x-python",
   "name": "python",
   "nbconvert_exporter": "python",
   "pygments_lexer": "ipython3",
   "version": "3.10.12"
  },
  "orig_nbformat": 4
 },
 "nbformat": 4,
 "nbformat_minor": 2
}
