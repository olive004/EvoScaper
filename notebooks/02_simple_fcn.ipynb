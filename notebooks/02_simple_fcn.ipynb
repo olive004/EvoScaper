{
 "cells": [
  {
   "cell_type": "code",
   "execution_count": 1,
   "metadata": {},
   "outputs": [],
   "source": [
    "%load_ext autoreload\n",
    "%autoreload 2"
   ]
  },
  {
   "cell_type": "markdown",
   "metadata": {},
   "source": [
    "# Simple representation space tests with an FCN\n"
   ]
  },
  {
   "cell_type": "markdown",
   "metadata": {},
   "source": [
    "## Imports"
   ]
  },
  {
   "cell_type": "code",
   "execution_count": 2,
   "metadata": {},
   "outputs": [
    {
     "name": "stderr",
     "output_type": "stream",
     "text": [
      "WARNING: All log messages before absl::InitializeLog() is called are written to STDERR\n",
      "I0000 00:00:1695916111.609101  512820 tfrt_cpu_pjrt_client.cc:349] TfrtCpuClient created.\n"
     ]
    },
    {
     "data": {
      "text/plain": [
       "[CpuDevice(id=0)]"
      ]
     },
     "execution_count": 2,
     "metadata": {},
     "output_type": "execute_result"
    }
   ],
   "source": [
    "from typing import Optional, List, Callable, Dict, Any, Tuple, Union\n",
    "from functools import partial\n",
    "import logging\n",
    "import os\n",
    "import ast\n",
    "import json\n",
    "\n",
    "import numpy as np\n",
    "import haiku as hk\n",
    "import jax\n",
    "import jax.numpy as jnp\n",
    "from sklearn.metrics import accuracy_score\n",
    "import equinox as eqx\n",
    "import optax  # https://github.com/deepmind/optax\n",
    "import torch  # https://pytorch.org\n",
    "from jaxtyping import Array, Float, Int, PyTree  # https://github.com/google/jaxtyping\n",
    "\n",
    "import wandb\n",
    "\n",
    "import pandas as pd\n",
    "import seaborn as sns\n",
    "import matplotlib.pyplot as plt\n",
    "\n",
    "jax.config.update('jax_platform_name', 'cpu')\n",
    "\n",
    "from synbio_morpher.utils.misc.numerical import make_symmetrical_matrix_from_sequence\n",
    "from synbio_morpher.utils.misc.string_handling import convert_liststr_to_list\n",
    "from synbio_morpher.utils.misc.type_handling import flatten_listlike\n",
    "from synbio_morpher.utils.results.analytics.naming import get_true_names_analytics, get_true_interaction_cols\n",
    "\n",
    "jax.devices()"
   ]
  },
  {
   "cell_type": "markdown",
   "metadata": {},
   "source": [
    "## Load data"
   ]
  },
  {
   "cell_type": "code",
   "execution_count": 3,
   "metadata": {},
   "outputs": [],
   "source": [
    "fn = '../data/processed/ensemble_mutation_effect_analysis/2023_07_17_105328/tabulated_mutation_info.csv'\n",
    "data = pd.read_csv(fn)\n",
    "data.drop(columns=['Unnamed: 0'], inplace=True)\n",
    "for c in get_true_interaction_cols(data, interaction_attr='binding_sites_idxs', remove_symmetrical=True) + get_true_interaction_cols(\n",
    "        data, interaction_attr='binding_site_group_range', remove_symmetrical=True):\n",
    "    data[c] = data[c].map(ast.literal_eval)"
   ]
  },
  {
   "cell_type": "markdown",
   "metadata": {},
   "source": [
    "## Model: network of fully connected layers"
   ]
  },
  {
   "cell_type": "code",
   "execution_count": 4,
   "metadata": {},
   "outputs": [],
   "source": [
    "# https://coderzcolumn.com/tutorials/artificial-intelligence/haiku-cnn\n",
    "\n",
    "class FCN(hk.Module):\n",
    "\n",
    "    def __init__(self, layer_sizes: List[int], n_head: int):\n",
    "        super().__init__(name=\"FCN\")\n",
    "        self.layers = self.create_layers(layer_sizes, n_head)\n",
    "        \n",
    "        \n",
    "    def create_layers(self, layer_sizes: List[int], n_head: int):\n",
    "        sizes = layer_sizes + [n_head]\n",
    "        l = []\n",
    "        for i, s in enumerate(sizes):\n",
    "            if l:\n",
    "                l.append(jax.nn.relu)\n",
    "                if np.mod(i, 2) == 0:\n",
    "                    l.append(jax.nn.sigmoid)\n",
    "            # if sj == n_head:\n",
    "            #     l.append(eqx.nn.Dropout(p=0.4))\n",
    "            \n",
    "            # He initialisation\n",
    "            l.append(\n",
    "                hk.Linear(s, w_init=hk.initializers.VarianceScaling(scale=2.0))\n",
    "            )\n",
    "        l.append(jax.nn.log_softmax)\n",
    "        return l\n",
    "        \n",
    "\n",
    "    def __call__(self, x: Float[Array, \" num_interactions\"], inference: bool = False, seed: int = 0) -> Float[Array, \" n_head\"]:\n",
    "        for i, layer in enumerate(self.layers):\n",
    "            kwargs = {} if not type(layer) == eqx.nn.Dropout else {\n",
    "                'inference': inference, 'key': jax.random.PRNGKey(seed)}\n",
    "\n",
    "            x = layer(x, **kwargs)\n",
    "            \n",
    "            # wandb.log({f'emb_{i}_{type(layer)}': x})\n",
    "        return x\n",
    "    \n",
    "    \n",
    "def FCN_fn(x, **kwargs):\n",
    "    model = FCN(**kwargs)\n",
    "    return model(x)"
   ]
  },
  {
   "cell_type": "markdown",
   "metadata": {},
   "source": [
    "## Losses"
   ]
  },
  {
   "cell_type": "code",
   "execution_count": 5,
   "metadata": {},
   "outputs": [],
   "source": [
    "def loss_fn(\n",
    "    params, rng,\n",
    "    model: FCN, x: Float[Array, \" batch n_interactions\"], y: Int[Array, \" batch\"], \n",
    "    l2_reg_alpha: Float,\n",
    ") -> Float[Array, \"\"]:\n",
    "    \n",
    "    pred_y = model.apply(params, rng, x)\n",
    "    loss = cross_entropy(y, pred_y, num_classes=pred_y.shape[-1])\n",
    "    # loss += sum(\n",
    "    #     l2_loss(w, alpha=l2_reg_alpha) \n",
    "    #     for w in jax.tree_util.tree_leaves(params)\n",
    "    # )\n",
    "    return loss\n",
    "\n",
    "\n",
    "def l2_loss(weights, alpha):\n",
    "    return alpha * (weights ** 2).mean()\n",
    "\n",
    "\n",
    "def cross_entropy(y: Int[Array, \" batch\"], pred_y: Float[Array, \"batch 10\"], num_classes: int):\n",
    "    one_hot_actual = jax.nn.one_hot(-y, num_classes=num_classes)\n",
    "    return optax.softmax_cross_entropy(pred_y, one_hot_actual).sum()\n",
    "\n",
    "\n",
    "def update_params(optimiser, params, grads):\n",
    "    updates, optimizer_state = optimiser.update(grads, optimizer_state)\n",
    "    params = optax.apply_updates(params, updates)\n",
    "    return params\n",
    "\n",
    "\n",
    "@eqx.filter_jit\n",
    "def compute_accuracy(\n",
    "    params, rng, model: FCN, x: Float[Array, \"batch num_interactions\"], y: Int[Array, \" batch n_head\"]\n",
    ") -> Float[Array, \"\"]:\n",
    "    pred_y = model.apply(params, rng, x)\n",
    "    pred_y = -1 * jnp.argmax(pred_y, axis=1)\n",
    "    return jnp.mean(y == pred_y)\n",
    "\n"
   ]
  },
  {
   "cell_type": "markdown",
   "metadata": {},
   "source": [
    "## Hyperparameters"
   ]
  },
  {
   "cell_type": "code",
   "execution_count": 31,
   "metadata": {},
   "outputs": [],
   "source": [
    "BATCH_SIZE = 128\n",
    "N_BATCHES = 1000\n",
    "TOTAL_DS = BATCH_SIZE * N_BATCHES\n",
    "TRAIN_SPLIT = int(0.8 * TOTAL_DS)\n",
    "TEST_SPLIT = TOTAL_DS - TRAIN_SPLIT\n",
    "LEARNING_RATE = 1e-4\n",
    "LEARNING_RATE_SCHED = 'cosine_decay'\n",
    "# LEARNING_RATE_SCHED = 'constant'\n",
    "L2_REG_ALPHA = 0.01\n",
    "EPOCHS = 100\n",
    "PRINT_EVERY = EPOCHS // 20\n",
    "SEED = 0\n",
    "INPUT_SPECIES = 'RNA_1'\n",
    "\n",
    "# CNN Architecture\n",
    "N_CHANNELS = 1\n",
    "OUT_CHANNELS = 3\n",
    "KERNEL_SIZE = 1\n",
    "MAX_POOL_KERNEL_SIZE = 1\n",
    "\n",
    "# FCN Architecture\n",
    "LAYER_SIZES = [100, 50, 50]\n",
    "\n",
    "\n",
    "n_samples = len(data['sample_name'].unique())\n",
    "\n",
    "rng = jax.random.PRNGKey(SEED)\n",
    "# rng, subkey = jax.random.split(rng, 2)"
   ]
  },
  {
   "cell_type": "markdown",
   "metadata": {},
   "source": [
    "## Initialise"
   ]
  },
  {
   "cell_type": "markdown",
   "metadata": {},
   "source": [
    "### Input"
   ]
  },
  {
   "cell_type": "code",
   "execution_count": 32,
   "metadata": {},
   "outputs": [],
   "source": [
    "def convert_to_scientific_exponent(x): \n",
    "    return int(f'{x:.0e}'.split('e')[1])\n",
    "\n",
    "vectorized_convert_to_scientific_exponent = np.vectorize(convert_to_scientific_exponent)\n",
    "filt = data['sample_name'] == INPUT_SPECIES\n",
    "\n",
    "x = data[filt][get_true_interaction_cols(data, 'binding_rates_dissociation', remove_symmetrical=True)].iloc[:TOTAL_DS].values\n",
    "x = jax.tree_util.tree_map(vectorized_convert_to_scientific_exponent, x).astype(jnp.float32)\n",
    "x = jax.random.permutation(rng, x, axis=0, independent=True)\n",
    "\n",
    "y = data[filt]['sensitivity_wrt_species-6'].iloc[:TOTAL_DS].to_numpy()\n",
    "y = jax.tree_util.tree_map(vectorized_convert_to_scientific_exponent, y)\n",
    "y = jax.random.permutation(rng, y, axis=0, independent=True)\n",
    "\n",
    "N_HEAD = len(np.unique(y))\n",
    "\n",
    "\n",
    "if x.shape[0] < TOTAL_DS:\n",
    "    print(f'WARNING: The filtered data is not as large as the requested total dataset size: {x.shape[0]} vs. requested {TOTAL_DS}')"
   ]
  },
  {
   "cell_type": "code",
   "execution_count": 33,
   "metadata": {},
   "outputs": [],
   "source": [
    "x_train, y_train = x[:TRAIN_SPLIT], y[:TRAIN_SPLIT]\n",
    "x_val, y_val = x[-TEST_SPLIT:], y[-TEST_SPLIT:]"
   ]
  },
  {
   "cell_type": "markdown",
   "metadata": {},
   "source": [
    "### Initialise model"
   ]
  },
  {
   "cell_type": "code",
   "execution_count": 34,
   "metadata": {},
   "outputs": [],
   "source": [
    "model = hk.transform(partial(FCN_fn, layer_sizes=LAYER_SIZES, n_head=N_HEAD))\n",
    "\n",
    "params = model.init(rng, x[:5])\n"
   ]
  },
  {
   "cell_type": "markdown",
   "metadata": {},
   "source": [
    "### Optimiser"
   ]
  },
  {
   "cell_type": "code",
   "execution_count": 35,
   "metadata": {},
   "outputs": [],
   "source": [
    "if LEARNING_RATE_SCHED == 'cosine_decay':\n",
    "    learning_rate_scheduler = optax.cosine_decay_schedule(LEARNING_RATE, decay_steps=EPOCHS, alpha=L2_REG_ALPHA)\n",
    "else:\n",
    "    learning_rate_scheduler = LEARNING_RATE\n",
    "optimiser = optax.sgd(learning_rate=learning_rate_scheduler)\n",
    "optimiser_state = optimiser.init(x)\n"
   ]
  },
  {
   "cell_type": "markdown",
   "metadata": {},
   "source": [
    "## Train"
   ]
  },
  {
   "cell_type": "code",
   "execution_count": 36,
   "metadata": {},
   "outputs": [],
   "source": [
    "def train_step(params, rng, model, x, y, optimiser, optimiser_state, l2_reg_alpha):\n",
    "\n",
    "    loss, grads = jax.value_and_grad(loss_fn)(\n",
    "        params, rng, model, x, y, l2_reg_alpha)\n",
    "\n",
    "    updates, optimiser_state = optimiser.update(grads, optimiser_state)\n",
    "    params = optax.apply_updates(params, updates)\n",
    "\n",
    "    return params, loss, grads\n",
    "\n",
    "\n",
    "def eval_step(params, rng, model: FCN, x, y, l2_reg_alpha):\n",
    "    # pred_y = model.apply(params, rng, x)\n",
    "    # return accuracy_score(y, jnp.argmax(pred_y, axis=1))\n",
    "    avg_loss = loss_fn(params, rng, model, x, y, l2_reg_alpha)\n",
    "    avg_acc = compute_accuracy(params, rng, model, x, y)\n",
    "    return avg_loss.mean(), avg_acc.mean()\n",
    "\n",
    "\n",
    "def train(params, rng, model, x_train, y_train, x_val, y_val,\n",
    "          optimiser, optimiser_state,\n",
    "          l2_reg_alpha, epochs, batch_size: int,\n",
    "          save_every: int = 50):\n",
    "    saves = {}\n",
    "    n_batches = (x_train.shape[0]//batch_size)+1\n",
    "    for e in range(epochs):\n",
    "\n",
    "        for batch in range(n_batches):\n",
    "            start = int(batch*batch_size)\n",
    "            end = int((batch+1)*batch_size) if batch != n_batches - 1 else None\n",
    "\n",
    "            # Single batch of data\n",
    "            x_batch, y_batch = x_train[start:end], y_train[start:end]\n",
    "\n",
    "            if len(x_batch) and len(y_batch):\n",
    "                params, train_loss, grads = train_step(\n",
    "                    params, rng, model, x_batch, y_batch, optimiser, optimiser_state, l2_reg_alpha)\n",
    "\n",
    "        val_acc, val_loss = eval_step(\n",
    "            params, rng, model, x_val, y_val, l2_reg_alpha)\n",
    "\n",
    "        if np.mod(e, save_every) == 0:\n",
    "            saves[e] = {\n",
    "                'params': params,\n",
    "                'grads': grads,\n",
    "                'train_loss': train_loss,\n",
    "                'val_loss': val_loss,\n",
    "                'val_accuracy': val_acc\n",
    "            }\n",
    "            print(\n",
    "                f'Epoch {e} / {epochs} -\\t Train loss: {train_loss}\\tVal loss: {val_loss}\\tVal accuracy: {val_acc}')\n",
    "    return params, saves"
   ]
  },
  {
   "cell_type": "code",
   "execution_count": 38,
   "metadata": {},
   "outputs": [
    {
     "name": "stdout",
     "output_type": "stream",
     "text": [
      "Epoch 0 / 100 -\t Train loss: 72.8276138305664\tVal loss: 0.8785156011581421\tVal accuracy: 13662.2119140625\n",
      "Epoch 5 / 100 -\t Train loss: 72.51222229003906\tVal loss: 0.8785156011581421\tVal accuracy: 13614.55859375\n"
     ]
    }
   ],
   "source": [
    "params, saves = train(params, rng, model, x_train, y_train, x_val, y_val, optimiser, optimiser_state,\n",
    "                      l2_reg_alpha=L2_REG_ALPHA, epochs=EPOCHS, batch_size=BATCH_SIZE, \n",
    "                      save_every=PRINT_EVERY) #int(STEPS // 15))"
   ]
  },
  {
   "cell_type": "markdown",
   "metadata": {},
   "source": [
    "## Visualise"
   ]
  },
  {
   "cell_type": "code",
   "execution_count": null,
   "metadata": {},
   "outputs": [
    {
     "data": {
      "text/plain": [
       "Text(0.5, 0, 'step')"
      ]
     },
     "execution_count": 30,
     "metadata": {},
     "output_type": "execute_result"
    },
    {
     "data": {
      "image/png": "[encoded data removed]",
      "text/plain": [
       "<Figure size 2100x600 with 3 Axes>"
      ]
     },
     "metadata": {},
     "output_type": "display_data"
    }
   ],
   "source": [
    "plt.figure(figsize=(7*3, 6))\n",
    "ax = plt.subplot(1,3,1)\n",
    "plt.plot(list(saves.keys()), [v['val_loss'] for v in saves.values()])\n",
    "plt.ylabel('test_loss')\n",
    "plt.xlabel('step')\n",
    "ax = plt.subplot(1,3,2)\n",
    "plt.plot(list(saves.keys()), [v['train_loss'] for v in saves.values()])\n",
    "plt.ylabel('train_loss')\n",
    "plt.xlabel('step')\n",
    "ax = plt.subplot(1,3,3)\n",
    "plt.plot(list(saves.keys()), [v['val_accuracy'] for v in saves.values()])\n",
    "plt.ylabel('test_accuracy')\n",
    "plt.xlabel('step')"
   ]
  },
  {
   "cell_type": "code",
   "execution_count": null,
   "metadata": {},
   "outputs": [],
   "source": []
  },
  {
   "cell_type": "code",
   "execution_count": null,
   "metadata": {},
   "outputs": [],
   "source": []
  }
 ],
 "metadata": {
  "kernelspec": {
   "display_name": "env_evo",
   "language": "python",
   "name": "python3"
  },
  "language_info": {
   "codemirror_mode": {
    "name": "ipython",
    "version": 3
   },
   "file_extension": ".py",
   "mimetype": "text/x-python",
   "name": "python",
   "nbconvert_exporter": "python",
   "pygments_lexer": "ipython3",
   "version": "3.10.12"
  },
  "orig_nbformat": 4
 },
 "nbformat": 4,
 "nbformat_minor": 2
}
