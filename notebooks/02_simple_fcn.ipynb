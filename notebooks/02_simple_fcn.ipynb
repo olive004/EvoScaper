{
 "cells": [
  {
   "cell_type": "code",
   "execution_count": 1,
   "metadata": {},
   "outputs": [],
   "source": [
    "%load_ext autoreload\n",
    "%autoreload 2"
   ]
  },
  {
   "cell_type": "markdown",
   "metadata": {},
   "source": [
    "# Simple representation space tests with an FCN\n"
   ]
  },
  {
   "cell_type": "markdown",
   "metadata": {},
   "source": [
    "## Imports"
   ]
  },
  {
   "cell_type": "code",
   "execution_count": 2,
   "metadata": {},
   "outputs": [
    {
     "name": "stderr",
     "output_type": "stream",
     "text": [
      "WARNING: All log messages before absl::InitializeLog() is called are written to STDERR\n",
      "I0000 00:00:1696259578.926425  117224 tfrt_cpu_pjrt_client.cc:349] TfrtCpuClient created.\n"
     ]
    },
    {
     "data": {
      "text/plain": [
       "[gpu(id=0)]"
      ]
     },
     "execution_count": 2,
     "metadata": {},
     "output_type": "execute_result"
    }
   ],
   "source": [
    "from typing import Optional, List, Callable, Dict, Any, Tuple, Union\n",
    "from functools import partial\n",
    "import logging\n",
    "import os\n",
    "import ast\n",
    "import json\n",
    "\n",
    "import numpy as np\n",
    "import haiku as hk\n",
    "import jax\n",
    "import jax.numpy as jnp\n",
    "import equinox as eqx\n",
    "import optax  # https://github.com/deepmind/optax\n",
    "import torch  # https://pytorch.org\n",
    "from jaxtyping import Array, Float, Int, PyTree  # https://github.com/google/jaxtyping\n",
    "from sklearn.preprocessing import MinMaxScaler, StandardScaler\n",
    "from sklearn.metrics import accuracy_score\n",
    "\n",
    "import wandb\n",
    "\n",
    "import pandas as pd\n",
    "import seaborn as sns\n",
    "import matplotlib.pyplot as plt\n",
    "\n",
    "jax.config.update('jax_platform_name', 'gpu')\n",
    "\n",
    "from synbio_morpher.utils.misc.numerical import make_symmetrical_matrix_from_sequence\n",
    "from synbio_morpher.utils.misc.string_handling import convert_liststr_to_list\n",
    "from synbio_morpher.utils.misc.type_handling import flatten_listlike\n",
    "from synbio_morpher.utils.results.analytics.naming import get_true_names_analytics, get_true_interaction_cols\n",
    "\n",
    "jax.devices()"
   ]
  },
  {
   "cell_type": "markdown",
   "metadata": {},
   "source": [
    "## Load data"
   ]
  },
  {
   "cell_type": "code",
   "execution_count": 3,
   "metadata": {},
   "outputs": [],
   "source": [
    "fn = '../data/processed/ensemble_mutation_effect_analysis/2023_07_17_105328/tabulated_mutation_info.csv'\n",
    "data = pd.read_csv(fn)\n",
    "data.drop(columns=['Unnamed: 0'], inplace=True)\n",
    "for c in get_true_interaction_cols(data, interaction_attr='binding_sites_idxs', remove_symmetrical=True) + get_true_interaction_cols(\n",
    "        data, interaction_attr='binding_site_group_range', remove_symmetrical=True):\n",
    "    data[c] = data[c].map(ast.literal_eval)"
   ]
  },
  {
   "cell_type": "markdown",
   "metadata": {},
   "source": [
    "## Model: network of fully connected layers"
   ]
  },
  {
   "cell_type": "code",
   "execution_count": 4,
   "metadata": {},
   "outputs": [],
   "source": [
    "# https://coderzcolumn.com/tutorials/artificial-intelligence/haiku-cnn\n",
    "\n",
    "class FCN(hk.Module):\n",
    "\n",
    "    def __init__(self, layer_sizes: List[int], n_head: int):\n",
    "        super().__init__(name=\"FCN\")\n",
    "        self.layers = self.create_layers(layer_sizes, n_head)\n",
    "        \n",
    "        \n",
    "    def create_layers(self, layer_sizes: List[int], n_head: int):\n",
    "        sizes = layer_sizes + [n_head]\n",
    "        l = []\n",
    "        for i, s in enumerate(sizes):\n",
    "            if l:\n",
    "                l.append(jax.nn.relu)\n",
    "                if np.mod(i, 2) == 0:\n",
    "                    l.append(jax.nn.sigmoid)\n",
    "            # if sj == n_head:\n",
    "            #     l.append(eqx.nn.Dropout(p=0.4))\n",
    "            \n",
    "            # He initialisation\n",
    "            l.append(\n",
    "                hk.Linear(s, w_init=hk.initializers.VarianceScaling(scale=2.0))\n",
    "            )\n",
    "        l.append(jax.nn.log_softmax)\n",
    "        return l\n",
    "        \n",
    "\n",
    "    def __call__(self, x: Float[Array, \" num_interactions\"], inference: bool = False, seed: int = 0) -> Float[Array, \" n_head\"]:\n",
    "        for i, layer in enumerate(self.layers):\n",
    "            kwargs = {} if not type(layer) == eqx.nn.Dropout else {\n",
    "                'inference': inference, 'key': jax.random.PRNGKey(seed)}\n",
    "\n",
    "            x = layer(x, **kwargs)\n",
    "            \n",
    "            # wandb.log({f'emb_{i}_{type(layer)}': x})\n",
    "        return x\n",
    "    \n",
    "    \n",
    "def FCN_fn(x, **kwargs):\n",
    "    model = FCN(**kwargs)\n",
    "    return model(x)"
   ]
  },
  {
   "cell_type": "markdown",
   "metadata": {},
   "source": [
    "## Losses"
   ]
  },
  {
   "cell_type": "code",
   "execution_count": 5,
   "metadata": {},
   "outputs": [],
   "source": [
    "def loss_fn(\n",
    "    params, rng,\n",
    "    model: FCN, x: Float[Array, \" batch n_interactions\"], y: Int[Array, \" batch\"], \n",
    "    l2_reg_alpha: Float,\n",
    ") -> Float[Array, \"\"]:\n",
    "    \n",
    "    pred_y = model.apply(params, rng, x)\n",
    "    loss = cross_entropy(y, pred_y, num_classes=pred_y.shape[-1])\n",
    "    # loss += sum(\n",
    "    #     l2_loss(w, alpha=l2_reg_alpha) \n",
    "    #     for w in jax.tree_util.tree_leaves(params)\n",
    "    # )\n",
    "    return loss\n",
    "\n",
    "\n",
    "def l2_loss(weights, alpha):\n",
    "    return alpha * (weights ** 2).mean()\n",
    "\n",
    "\n",
    "def cross_entropy(y: Int[Array, \" batch\"], pred_y: Float[Array, \"batch 10\"], num_classes: int):\n",
    "    one_hot_actual = jax.nn.one_hot(y, num_classes=num_classes)\n",
    "    return optax.softmax_cross_entropy(pred_y, one_hot_actual).sum()\n",
    "\n",
    "\n",
    "def update_params(optimiser, params, grads):\n",
    "    updates, optimizer_state = optimiser.update(grads, optimizer_state)\n",
    "    params = optax.apply_updates(params, updates)\n",
    "    return params\n",
    "\n",
    "\n",
    "@eqx.filter_jit\n",
    "def compute_accuracy(\n",
    "    params, rng, model: FCN, x: Float[Array, \"batch num_interactions\"], y: Int[Array, \" batch n_head\"]\n",
    ") -> Float[Array, \"\"]:\n",
    "    pred_y = model.apply(params, rng, x)\n",
    "    pred_y = jnp.argmax(pred_y, axis=1)\n",
    "    return jnp.mean(y == pred_y)\n",
    "\n"
   ]
  },
  {
   "cell_type": "markdown",
   "metadata": {},
   "source": [
    "## Hyperparameters"
   ]
  },
  {
   "cell_type": "code",
   "execution_count": 55,
   "metadata": {},
   "outputs": [],
   "source": [
    "BATCH_SIZE = 128\n",
    "N_BATCHES = 800\n",
    "TOTAL_DS = BATCH_SIZE * N_BATCHES\n",
    "TRAIN_SPLIT = int(0.8 * TOTAL_DS)\n",
    "TEST_SPLIT = TOTAL_DS - TRAIN_SPLIT\n",
    "LEARNING_RATE = 1e-4\n",
    "LEARNING_RATE_SCHED = 'cosine_decay'\n",
    "# LEARNING_RATE_SCHED = 'constant'\n",
    "WARMUP_EPOCHS = 20\n",
    "L2_REG_ALPHA = 0.01\n",
    "EPOCHS = 200\n",
    "PRINT_EVERY = EPOCHS // 20\n",
    "SEED = 0\n",
    "INPUT_SPECIES = 'RNA_1'\n",
    "\n",
    "# CNN Architecture\n",
    "N_CHANNELS = 1\n",
    "OUT_CHANNELS = 3\n",
    "KERNEL_SIZE = 1\n",
    "MAX_POOL_KERNEL_SIZE = 1\n",
    "\n",
    "# FCN Architecture\n",
    "LAYER_SIZES = [40, 50, 40]\n",
    "\n",
    "\n",
    "n_samples = len(data['sample_name'].unique())\n",
    "\n",
    "rng = jax.random.PRNGKey(SEED)\n",
    "# rng, subkey = jax.random.split(rng, 2)"
   ]
  },
  {
   "cell_type": "markdown",
   "metadata": {},
   "source": [
    "## Initialise"
   ]
  },
  {
   "cell_type": "markdown",
   "metadata": {},
   "source": [
    "### Input\n",
    "\n",
    "To make sure that there is little repetition in the dataset, the uniqueness of each sample will be judged. For genetic circuits,there is a lot of sparsity, as most biological sequences do not interact. Therefore, there may be an overrepresentation of some circuit topologies. "
   ]
  },
  {
   "cell_type": "code",
   "execution_count": 56,
   "metadata": {},
   "outputs": [],
   "source": [
    "def custom_round(x, base=5):\n",
    "    return base * round(x/base)\n",
    "\n",
    "\n",
    "def convert_to_scientific_exponent(x, numerical_resolution: dict):\n",
    "    exp_not = f'{x:.0e}'.split('e')\n",
    "    resolution = numerical_resolution[int(exp_not[1])]\n",
    "    base = int(10 / resolution)\n",
    "    pre = custom_round(int(exp_not[0]), base=base)\n",
    "    return int(exp_not[1]) + pre / 10\n",
    "\n",
    "\n",
    "def drop_duplicates_keep_first_n(df, column, n):\n",
    "    \"\"\" GCG \"\"\"\n",
    "    indices = df[df.duplicated(subset=column, keep=False)].groupby(\n",
    "        column).head(n).index\n",
    "    all_duplicates_indices = df[df.duplicated(subset=column, keep=False)].index\n",
    "    to_drop = list(set(all_duplicates_indices) - set(indices))\n",
    "    df2 = df.drop(to_drop)\n",
    "    return df2\n",
    "\n",
    "\n",
    "vectorized_convert_to_scientific_exponent = np.vectorize(\n",
    "    convert_to_scientific_exponent)\n",
    "filt = data['sample_name'] == INPUT_SPECIES\n",
    "numerical_resolution = 2\n",
    "\n",
    "# Balance the dataset\n",
    "df = drop_duplicates_keep_first_n(data[filt], get_true_interaction_cols(data, 'energies', remove_symmetrical=True), n=200)\n",
    "df['sensitivity_wrt_species-6'] = df['sensitivity_wrt_species-6'].round(np.abs(int(f'{df[\"sensitivity_wrt_species-6\"].min():.0e}'.split('e')[1]))-1)\n",
    "df = drop_duplicates_keep_first_n(df, column='sensitivity_wrt_species-6', n=200)\n"
   ]
  },
  {
   "cell_type": "code",
   "execution_count": 57,
   "metadata": {},
   "outputs": [],
   "source": [
    "x = df[get_true_interaction_cols(data, 'energies', remove_symmetrical=True)].iloc[:TOTAL_DS].values\n",
    "x = np.abs(x)\n",
    "# x = jax.tree_util.tree_map(vectorized_convert_to_scientific_exponent, x).astype(jnp.float32)\n",
    "x = jax.random.permutation(rng, x, axis=0, independent=True)\n",
    "\n",
    "# y = data[filt]['overshoot'].iloc[:TOTAL_DS].to_numpy() # / data[filt]['initial_steady_states'].iloc[:TOTAL_DS].to_numpy()\n",
    "# / data[filt]['initial_steady_states'].iloc[:TOTAL_DS].to_numpy()\n",
    "y = df['sensitivity_wrt_species-6'].iloc[:TOTAL_DS].to_numpy()\n",
    "y_map = {k: numerical_resolution for k in np.arange(int(f'{y[y != 0].min():.0e}'.split('e')[1])-1, np.max([int(f'{y.max():.0e}'.split('e')[1])+1, 0 +1]))}\n",
    "\n",
    "y_map[-6] = 1\n",
    "y_map[-5] = 1\n",
    "y_map[-4] = 4\n",
    "y_map[-3] = 2\n",
    "y_map[-1] = 3\n",
    "y = jax.tree_util.tree_map(partial(vectorized_convert_to_scientific_exponent, numerical_resolution=y_map), y)\n",
    "y = np.interp(y, sorted(np.unique(y)), np.arange(len(sorted(np.unique(y))))).astype(int)\n",
    "# y = np.abs(y) * numerical_resolution\n",
    "y = jax.random.permutation(rng, y, axis=0, independent=True)\n",
    "\n",
    "N_HEAD = len(np.unique(y))\n",
    "\n",
    "\n",
    "if x.shape[0] < TOTAL_DS:\n",
    "    print(\n",
    "        f'WARNING: The filtered data is not as large as the requested total dataset size: {x.shape[0]} vs. requested {TOTAL_DS}')"
   ]
  },
  {
   "cell_type": "markdown",
   "metadata": {},
   "source": [
    "#### Scale input"
   ]
  },
  {
   "cell_type": "code",
   "execution_count": 58,
   "metadata": {},
   "outputs": [],
   "source": [
    "# xscaler, yscaler = MinMaxScaler(), MinMaxScaler()\n",
    "# x = xscaler.fit_transform(x)\n",
    "# y = yscaler.fit_transform(y)\n",
    "# inverse = scaler.inverse_transform(normalized)\n",
    "\n",
    "# xscaler, yscaler = StandardScaler(), StandardScaler()\n",
    "# x = xscaler.fit_transform(x)\n",
    "# y = yscaler.fit_transform(y)\n",
    "# inverse = scaler.inverse_transform(standardized)"
   ]
  },
  {
   "cell_type": "code",
   "execution_count": 59,
   "metadata": {},
   "outputs": [],
   "source": [
    "x_train, y_train = x[:TRAIN_SPLIT], y[:TRAIN_SPLIT]\n",
    "x_val, y_val = x[-TEST_SPLIT:], y[-TEST_SPLIT:]"
   ]
  },
  {
   "cell_type": "code",
   "execution_count": 60,
   "metadata": {},
   "outputs": [
    {
     "data": {
      "text/plain": [
       "Text(0.5, 1.0, 'y')"
      ]
     },
     "execution_count": 60,
     "metadata": {},
     "output_type": "execute_result"
    },
    {
     "data": {
      "image/png": "[encoded data removed]",
      "text/plain": [
       "<Figure size 1400x500 with 2 Axes>"
      ]
     },
     "metadata": {},
     "output_type": "display_data"
    }
   ],
   "source": [
    "plt.figure(figsize=(2*7, 5))\n",
    "ax = plt.subplot(1,2,1)\n",
    "sns.histplot(x=x.flatten(), element='step', bins=150)\n",
    "plt.title('x')\n",
    "ax = plt.subplot(1,2,2)\n",
    "# y = data[filt]['sensitivity_wrt_species-6'].iloc[:TOTAL_DS].to_numpy() \n",
    "# y = data[filt]['initial_steady_states'].iloc[:TOTAL_DS].to_numpy()\n",
    "sns.histplot(x=(y.flatten()), element='step', bins = 150)\n",
    "plt.title('y')\n"
   ]
  },
  {
   "cell_type": "code",
   "execution_count": 61,
   "metadata": {},
   "outputs": [
    {
     "name": "stdout",
     "output_type": "stream",
     "text": [
      "The sparsity of the dataset x: 0.7228\n",
      "The sparsity of the dataset y: 0.0041\n"
     ]
    }
   ],
   "source": [
    "\n",
    "# Calculate the sparsity of the dataset\n",
    "num_zeros = (x == 0).sum()\n",
    "total_elements = np.size(x)\n",
    "sparsity = num_zeros / total_elements\n",
    "\n",
    "print(f\"The sparsity of the dataset x: {sparsity:.4f}\")\n",
    "\n",
    "num_zeros = (y == 0).sum()\n",
    "total_elements = np.size(y)\n",
    "sparsity = num_zeros / total_elements\n",
    "\n",
    "print(f\"The sparsity of the dataset y: {sparsity:.4f}\")\n"
   ]
  },
  {
   "cell_type": "code",
   "execution_count": 62,
   "metadata": {},
   "outputs": [
    {
     "data": {
      "text/plain": [
       "Text(0.5, 1.0, 'y')"
      ]
     },
     "execution_count": 62,
     "metadata": {},
     "output_type": "execute_result"
    },
    {
     "data": {
      "image/png": "[encoded data removed]",
      "text/plain": [
       "<Figure size 1400x500 with 2 Axes>"
      ]
     },
     "metadata": {},
     "output_type": "display_data"
    }
   ],
   "source": [
    "plt.figure(figsize=(2*7, 5))\n",
    "ax = plt.subplot(1,2,1)\n",
    "sns.histplot(x=x.flatten(), element='step', log_scale=[False, True], bins=100)\n",
    "plt.title('x')\n",
    "ax = plt.subplot(1,2,2)\n",
    "sns.histplot(x=y.flatten(), element='step', log_scale=[False, True], bins=100)\n",
    "plt.title('y')\n"
   ]
  },
  {
   "cell_type": "markdown",
   "metadata": {},
   "source": [
    "### Initialise model"
   ]
  },
  {
   "cell_type": "code",
   "execution_count": 63,
   "metadata": {},
   "outputs": [],
   "source": [
    "model = hk.transform(partial(FCN_fn, layer_sizes=LAYER_SIZES, n_head=N_HEAD))\n",
    "\n",
    "params = model.init(rng, x[:5])\n"
   ]
  },
  {
   "cell_type": "markdown",
   "metadata": {},
   "source": [
    "### Optimiser"
   ]
  },
  {
   "cell_type": "code",
   "execution_count": 64,
   "metadata": {},
   "outputs": [],
   "source": [
    "if LEARNING_RATE_SCHED == 'cosine_decay':\n",
    "    learning_rate_scheduler = optax.cosine_decay_schedule(LEARNING_RATE, decay_steps=EPOCHS, alpha=L2_REG_ALPHA)\n",
    "else:\n",
    "    learning_rate_scheduler = LEARNING_RATE\n",
    "\n",
    "warmup_fn = optax.linear_schedule(\n",
    "    init_value=0., end_value=LEARNING_RATE,\n",
    "    transition_steps=WARMUP_EPOCHS * N_BATCHES)\n",
    "cosine_epochs = max(EPOCHS - WARMUP_EPOCHS, 1)\n",
    "cosine_fn = optax.cosine_decay_schedule(\n",
    "    init_value=LEARNING_RATE,\n",
    "    decay_steps=cosine_epochs * N_BATCHES)\n",
    "schedule_fn = optax.join_schedules(\n",
    "    schedules=[warmup_fn, cosine_fn],\n",
    "    boundaries=[WARMUP_EPOCHS * N_BATCHES])\n",
    "\n",
    "\n",
    "optimiser = optax.sgd(learning_rate=learning_rate_scheduler)\n",
    "optimiser_state = optimiser.init(x)"
   ]
  },
  {
   "cell_type": "markdown",
   "metadata": {},
   "source": [
    "## Train"
   ]
  },
  {
   "cell_type": "code",
   "execution_count": 67,
   "metadata": {},
   "outputs": [],
   "source": [
    "def train_step(params, rng, model, x, y, optimiser, optimiser_state, l2_reg_alpha):\n",
    "\n",
    "    loss, grads = jax.value_and_grad(loss_fn)(\n",
    "        params, rng, model, x, y, l2_reg_alpha)\n",
    "\n",
    "    updates, optimiser_state = optimiser.update(grads, optimiser_state)\n",
    "    params = optax.apply_updates(params, updates)\n",
    "\n",
    "    return params, loss, grads\n",
    "\n",
    "\n",
    "def eval_step(params, rng, model: FCN, x, y, l2_reg_alpha):\n",
    "    \"\"\" Return the average of loss and accuracy on validation data \"\"\"\n",
    "    # pred_y = model.apply(params, rng, x)\n",
    "    # return accuracy_score(y, jnp.argmax(pred_y, axis=1))\n",
    "    loss = loss_fn(params, rng, model, x, y, l2_reg_alpha)\n",
    "    acc = compute_accuracy(params, rng, model, x, y)\n",
    "    return acc / len(x), loss / len(x)\n",
    "\n",
    "\n",
    "def train(params, rng, model, x_train, y_train, x_val, y_val,\n",
    "          optimiser, optimiser_state,\n",
    "          l2_reg_alpha, epochs, batch_size: int,\n",
    "          save_every: int = 50):\n",
    "    saves = {}\n",
    "    n_batches = (x_train.shape[0]//batch_size)+1\n",
    "    for e in range(epochs):\n",
    "\n",
    "        for batch in range(n_batches):\n",
    "            start = int(batch*batch_size)\n",
    "            end = int((batch+1)*batch_size) if batch != n_batches - 1 else None\n",
    "\n",
    "            # Single batch of data\n",
    "            x_batch, y_batch = x_train[start:end], y_train[start:end]\n",
    "\n",
    "            if len(x_batch) and len(y_batch):\n",
    "                params, train_loss, grads = train_step(\n",
    "                    params, rng, model, x_batch, y_batch, optimiser, optimiser_state, l2_reg_alpha)\n",
    "\n",
    "        val_acc, val_loss = eval_step(\n",
    "            params, rng, model, x_val, y_val, l2_reg_alpha)\n",
    "\n",
    "        if np.mod(e, save_every) == 0:\n",
    "            saves[e] = {\n",
    "                'params': params,\n",
    "                'grads': grads,\n",
    "                'train_loss': train_loss,\n",
    "                'val_loss': val_loss,\n",
    "                'val_accuracy': val_acc\n",
    "            }\n",
    "            print(\n",
    "                f'Epoch {e} / {epochs} -\\t\\t Train loss: {train_loss}\\tVal loss: {val_loss}\\tVal accuracy: {val_acc}')\n",
    "    return params, saves"
   ]
  },
  {
   "cell_type": "code",
   "execution_count": 68,
   "metadata": {},
   "outputs": [
    {
     "name": "stdout",
     "output_type": "stream",
     "text": [
      "Epoch 0 / 200 -\t\t Train loss: 290.31939697265625\tVal loss: 2.281369924545288\tVal accuracy: 8.676051947986707e-06\n",
      "Epoch 10 / 200 -\t\t Train loss: 288.6324157714844\tVal loss: 2.272967576980591\tVal accuracy: 8.819103641144466e-06\n",
      "Epoch 20 / 200 -\t\t Train loss: 288.5108947753906\tVal loss: 2.272043228149414\tVal accuracy: 8.859634363034274e-06\n",
      "Epoch 30 / 200 -\t\t Train loss: 288.52313232421875\tVal loss: 2.271648645401001\tVal accuracy: 8.859634363034274e-06\n",
      "Epoch 40 / 200 -\t\t Train loss: 288.5766296386719\tVal loss: 2.2714364528656006\tVal accuracy: 8.859634363034274e-06\n",
      "Epoch 50 / 200 -\t\t Train loss: 288.65533447265625\tVal loss: 2.2713305950164795\tVal accuracy: 8.854865882312879e-06\n",
      "Epoch 60 / 200 -\t\t Train loss: 288.74615478515625\tVal loss: 2.2713096141815186\tVal accuracy: 8.869171324477065e-06\n",
      "Epoch 70 / 200 -\t\t Train loss: 288.73199462890625\tVal loss: 2.2712724208831787\tVal accuracy: 8.869171324477065e-06\n",
      "Epoch 80 / 200 -\t\t Train loss: 288.7442626953125\tVal loss: 2.271270513534546\tVal accuracy: 8.854865882312879e-06\n",
      "Epoch 90 / 200 -\t\t Train loss: 288.7146911621094\tVal loss: 2.271242141723633\tVal accuracy: 8.838177564030048e-06\n",
      "Epoch 100 / 200 -\t\t Train loss: 288.68243408203125\tVal loss: 2.271212100982666\tVal accuracy: 8.842945135256741e-06\n",
      "Epoch 110 / 200 -\t\t Train loss: 288.703857421875\tVal loss: 2.2712349891662598\tVal accuracy: 8.831024388200603e-06\n",
      "Epoch 120 / 200 -\t\t Train loss: 288.6728515625\tVal loss: 2.271261692047119\tVal accuracy: 8.840561349643394e-06\n",
      "Epoch 130 / 200 -\t\t Train loss: 288.67364501953125\tVal loss: 2.271277666091919\tVal accuracy: 8.840561349643394e-06\n",
      "Epoch 140 / 200 -\t\t Train loss: 288.66131591796875\tVal loss: 2.2713534832000732\tVal accuracy: 8.852482096699532e-06\n"
     ]
    }
   ],
   "source": [
    "params, saves = train(params, rng, model, x_train, y_train, x_val, y_val, optimiser, optimiser_state,\n",
    "                      l2_reg_alpha=L2_REG_ALPHA, epochs=EPOCHS, batch_size=BATCH_SIZE, \n",
    "                      save_every=PRINT_EVERY) #int(STEPS // 15))"
   ]
  },
  {
   "cell_type": "markdown",
   "metadata": {},
   "source": [
    "## Visualise"
   ]
  },
  {
   "cell_type": "code",
   "execution_count": null,
   "metadata": {},
   "outputs": [
    {
     "data": {
      "text/plain": [
       "Text(0.5, 0, 'step')"
      ]
     },
     "execution_count": 13,
     "metadata": {},
     "output_type": "execute_result"
    },
    {
     "data": {
      "image/png": "[encoded data removed]",
      "text/plain": [
       "<Figure size 2100x600 with 3 Axes>"
      ]
     },
     "metadata": {},
     "output_type": "display_data"
    }
   ],
   "source": [
    "plt.figure(figsize=(7*3, 6))\n",
    "ax = plt.subplot(1,3,1)\n",
    "plt.plot(list(saves.keys()), [v['train_loss'] for v in saves.values()])\n",
    "plt.ylabel('train_loss')\n",
    "plt.xlabel('step')\n",
    "ax = plt.subplot(1,3,2)\n",
    "plt.plot(list(saves.keys()), [v['val_loss'] for v in saves.values()])\n",
    "plt.ylabel('val_loss')\n",
    "plt.xlabel('step')\n",
    "ax = plt.subplot(1,3,3)\n",
    "plt.plot(list(saves.keys()), [v['val_accuracy'] for v in saves.values()])\n",
    "plt.ylabel('val_accuracy')\n",
    "plt.xlabel('step')"
   ]
  },
  {
   "cell_type": "code",
   "execution_count": null,
   "metadata": {},
   "outputs": [],
   "source": []
  },
  {
   "cell_type": "code",
   "execution_count": null,
   "metadata": {},
   "outputs": [],
   "source": []
  }
 ],
 "metadata": {
  "kernelspec": {
   "display_name": "env_evo",
   "language": "python",
   "name": "python3"
  },
  "language_info": {
   "codemirror_mode": {
    "name": "ipython",
    "version": 3
   },
   "file_extension": ".py",
   "mimetype": "text/x-python",
   "name": "python",
   "nbconvert_exporter": "python",
   "pygments_lexer": "ipython3",
   "version": "3.10.12"
  },
  "orig_nbformat": 4
 },
 "nbformat": 4,
 "nbformat_minor": 2
}
