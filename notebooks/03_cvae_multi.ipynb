{
 "cells": [
  {
   "cell_type": "code",
   "execution_count": 12,
   "metadata": {},
   "outputs": [
    {
     "name": "stdout",
     "output_type": "stream",
     "text": [
      "The autoreload extension is already loaded. To reload it, use:\n",
      "  %reload_ext autoreload\n"
     ]
    }
   ],
   "source": [
    "%load_ext autoreload\n",
    "%autoreload 2"
   ]
  },
  {
   "cell_type": "markdown",
   "metadata": {},
   "source": [
    "# Run VAE models systematically"
   ]
  },
  {
   "cell_type": "markdown",
   "metadata": {},
   "source": [
    "## Imports"
   ]
  },
  {
   "cell_type": "code",
   "execution_count": null,
   "metadata": {},
   "outputs": [],
   "source": [
    "import pandas as pd\n",
    "import numpy as np\n"
   ]
  },
  {
   "cell_type": "markdown",
   "metadata": {},
   "source": [
    "## Create table of all VAE model training settings\n",
    "\n",
    "Parameters for:\n",
    "- Biological dataset generation\n",
    "- Training data\n",
    "    - Input\n",
    "    - Output \n",
    "- Model architecture\n",
    "- Training hyperparameters"
   ]
  },
  {
   "cell_type": "markdown",
   "metadata": {},
   "source": [
    "### Initial parameters"
   ]
  },
  {
   "cell_type": "code",
   "execution_count": null,
   "metadata": {},
   "outputs": [],
   "source": [
    "hpos_architecture = {\n",
    "    'seed_arch': 1,\n",
    "    'hidden_size': 32,\n",
    "    'enc_layers': [64, 64, 64],\n",
    "    'dec_layers': [64, 64, 64],\n",
    "    'model': 'CVAE'\n",
    "}\n",
    "\n",
    "hpos_training = {\n",
    "    'batch_size': 128,\n",
    "    'epochs': 1500,\n",
    "    'learning_rate': 1e-2,\n",
    "    'learning_rate_sched': 'cosine_decay',\n",
    "    'use_dropout': False,\n",
    "    'use_l2_reg': False,\n",
    "    'use_warmup': True,\n",
    "    'warmup_epochs': 20,\n",
    "    'l2_reg_alpha': 0.01,\n",
    "    'print_every': 15,\n",
    "    'loss_func': 'mse',\n",
    "}\n",
    "\n",
    "hpos_optimization = {\n",
    "    'seed_opt': 1,\n",
    "    'opt_method': 'adam',\n",
    "    'opt_metric': 'mean_absolute_error',\n",
    "    'opt_mode': 'min',\n",
    "    'opt_patience': 100,\n",
    "    'opt_factor': 0.5,\n",
    "    'opt_min_lr': 1e-6,\n",
    "    'opt_min_delta': 1e-4\n",
    "}\n",
    "\n",
    "hpos_dataset = {\n",
    "    'seed_dataset': 1,\n",
    "    'include_diffs': False,\n",
    "    'objective_col': 'adaptability',\n",
    "    'output_species': ['RNA_2'],\n",
    "    # 'total_ds': None,   # TO BE RECORDED\n",
    "    'total_ds_max': 3e6,\n",
    "    'train_split': 0.8,\n",
    "    'x_type': 'energies',\n",
    "    # XY transforms:\n",
    "    'rem_x_nans': True,\n",
    "    'rem_y_nans': True,\n",
    "    'rem_sensitivity_nans': True,\n",
    "    'rem_precision_nans': True,\n",
    "    'scale_x_minmax': True,\n",
    "    'scale_y_minmax': True,\n",
    "    'use_x_logscale': False,\n",
    "    'use_y_logscale': False,\n",
    "    'use_y_categorical': False,\n",
    "    'use_x_neg': True\n",
    "}\n",
    "\n",
    "hpos_biological = {\n",
    "    'filenames_train_config': ['EvoScaper/data/raw/summarise_simulation/2024_12_05_210221/ensemble_config.json'], \n",
    "    'filenames_train_table': ['EvoScaper/data/raw/summarise_simulation/2024_12_05_210221/tabulated_mutation_info.csv'],\n",
    "    'filenames_verify_config': ['EvoScaper/data/raw/summarise_simulation/2024_11_21_160955/ensemble_config.json'], \n",
    "    'filenames_verify_table': ['EvoScaper/data/raw/summarise_simulation/2024_11_21_160955/tabulated_mutation_info.csv'],\n",
    "    'n_species': 3,\n",
    "    'sequence_length': 20,\n",
    "    'signal_function': 'step_function',\n",
    "    'signal_target': 2,\n",
    "    'starting_copynumbers_input': [200],\n",
    "    'starting_copynumbers_output': [200],\n",
    "    'starting_copynumbers_other': [200],\n",
    "    'association_binding_rate': 1000000,\n",
    "    'include_prod_deg': False,\n",
    "}\n",
    "\n",
    "info_to_be_recorded = {\n",
    "    'filename_saved_model': 'TO_BE_RECORDED',\n",
    "    'total_ds': 'TO_BE_RECORDED',\n",
    "    'n_batches': 'TO_BE_RECORDED',\n",
    "    'R2_train': 'TO_BE_RECORDED',\n",
    "    'R2_test': 'TO_BE_RECORDED',\n",
    "    'conditionality_fidelity': 'TO_BE_RECORDED',\n",
    "}\n",
    "\n"
   ]
  },
  {
   "cell_type": "code",
   "execution_count": null,
   "metadata": {},
   "outputs": [
    {
     "data": {
      "text/html": [
       "<div>\n",
       "<style scoped>\n",
       "    .dataframe tbody tr th:only-of-type {\n",
       "        vertical-align: middle;\n",
       "    }\n",
       "\n",
       "    .dataframe tbody tr th {\n",
       "        vertical-align: top;\n",
       "    }\n",
       "\n",
       "    .dataframe thead th {\n",
       "        text-align: right;\n",
       "    }\n",
       "</style>\n",
       "<table border=\"1\" class=\"dataframe\">\n",
       "  <thead>\n",
       "    <tr style=\"text-align: right;\">\n",
       "      <th></th>\n",
       "      <th>seed_arch</th>\n",
       "      <th>hidden_size</th>\n",
       "      <th>enc_layers</th>\n",
       "      <th>dec_layers</th>\n",
       "      <th>model</th>\n",
       "      <th>batch_size</th>\n",
       "      <th>epochs</th>\n",
       "      <th>learning_rate</th>\n",
       "      <th>learning_rate_sched</th>\n",
       "      <th>use_dropout</th>\n",
       "      <th>...</th>\n",
       "      <th>total_ds</th>\n",
       "      <th>total_ds_max</th>\n",
       "      <th>train_split</th>\n",
       "      <th>x_type</th>\n",
       "      <th>scale_x_minmax</th>\n",
       "      <th>scale_y_minmax</th>\n",
       "      <th>use_x_logscale</th>\n",
       "      <th>use_y_logscale</th>\n",
       "      <th>use_y_categorical</th>\n",
       "      <th>use_x_neg</th>\n",
       "    </tr>\n",
       "  </thead>\n",
       "  <tbody>\n",
       "    <tr>\n",
       "      <th>0</th>\n",
       "      <td>1</td>\n",
       "      <td>32</td>\n",
       "      <td>[64, 64, 64]</td>\n",
       "      <td>[64, 64, 64]</td>\n",
       "      <td>CVAE</td>\n",
       "      <td>128</td>\n",
       "      <td>1500</td>\n",
       "      <td>0.01</td>\n",
       "      <td>cosine_decay</td>\n",
       "      <td>False</td>\n",
       "      <td>...</td>\n",
       "      <td>None</td>\n",
       "      <td>3000000.0</td>\n",
       "      <td>0.8</td>\n",
       "      <td>energies</td>\n",
       "      <td>True</td>\n",
       "      <td>True</td>\n",
       "      <td>False</td>\n",
       "      <td>False</td>\n",
       "      <td>False</td>\n",
       "      <td>True</td>\n",
       "    </tr>\n",
       "  </tbody>\n",
       "</table>\n",
       "<p>1 rows × 39 columns</p>\n",
       "</div>"
      ],
      "text/plain": [
       "  seed_arch hidden_size    enc_layers    dec_layers model batch_size epochs  \\\n",
       "0         1          32  [64, 64, 64]  [64, 64, 64]  CVAE        128   1500   \n",
       "\n",
       "  learning_rate learning_rate_sched use_dropout  ... total_ds total_ds_max  \\\n",
       "0          0.01        cosine_decay       False  ...     None    3000000.0   \n",
       "\n",
       "  train_split    x_type scale_x_minmax scale_y_minmax use_x_logscale  \\\n",
       "0         0.8  energies           True           True          False   \n",
       "\n",
       "  use_y_logscale use_y_categorical use_x_neg  \n",
       "0          False             False      True  \n",
       "\n",
       "[1 rows x 39 columns]"
      ]
     },
     "execution_count": 19,
     "metadata": {},
     "output_type": "execute_result"
    }
   ],
   "source": [
    "df_hpos = pd.concat([pd.DataFrame.from_dict(hpos, orient='index').T for hpos in [hpos_architecture, hpos_training, hpos_optimization, hpos_dataset]], axis=1)\n",
    "assert df_hpos.columns.duplicated().sum() == 0, 'Change some column names, there are duplicates'\n",
    "df_hpos"
   ]
  },
  {
   "cell_type": "markdown",
   "metadata": {},
   "source": [
    "### All parameters"
   ]
  },
  {
   "cell_type": "code",
   "execution_count": null,
   "metadata": {},
   "outputs": [],
   "source": [
    "hpos_to_vary = {\n",
    "    'hidden_size': [32, 64, 128, 256, 512],\n",
    "    'objective_col': ['adaptability', 'sensitivity_wrt_species-6'],\n",
    "    'total_ds_max': [1e4, 5e4, 1e5, 5e5, 1e6, 5e6],\n",
    "    'x_type': ['energies', 'binding_rates_dissociation'],\n",
    "    \n",
    "}"
   ]
  },
  {
   "cell_type": "markdown",
   "metadata": {},
   "source": [
    "# Use table to create dataset for training"
   ]
  },
  {
   "cell_type": "code",
   "execution_count": null,
   "metadata": {},
   "outputs": [],
   "source": []
  }
 ],
 "metadata": {
  "kernelspec": {
   "display_name": "Python 3",
   "language": "python",
   "name": "python3"
  },
  "language_info": {
   "codemirror_mode": {
    "name": "ipython",
    "version": 3
   },
   "file_extension": ".py",
   "mimetype": "text/x-python",
   "name": "python",
   "nbconvert_exporter": "python",
   "pygments_lexer": "ipython3",
   "version": "3.11.10"
  }
 },
 "nbformat": 4,
 "nbformat_minor": 2
}
