{
 "cells": [
  {
   "cell_type": "code",
   "execution_count": 2,
   "metadata": {},
   "outputs": [],
   "source": [
    "%load_ext autoreload\n",
    "%autoreload 2"
   ]
  },
  {
   "cell_type": "markdown",
   "metadata": {},
   "source": [
    "# Run VAE models systematically"
   ]
  },
  {
   "cell_type": "markdown",
   "metadata": {},
   "source": [
    "## Imports"
   ]
  },
  {
   "cell_type": "code",
   "execution_count": 3,
   "metadata": {},
   "outputs": [],
   "source": [
    "import pandas as pd\n",
    "import itertools\n",
    "import numpy as np\n",
    "import os\n",
    "from evoscaper.scripts.cvae_scan import main as cvae_scan\n",
    "from evoscaper.utils.preprocess import make_datetime_str\n",
    "from synbio_morpher.utils.data.data_format_tools.common import write_json\n",
    "from bioreaction.misc.misc import flatten_listlike\n",
    "\n",
    "# jupyter nbconvert --to notebook --execute 03_cvae_multi.ipynb --output=03_cvae_multi_2.ipynb --ExecutePreprocessor.timeout=-1\n"
   ]
  },
  {
   "cell_type": "markdown",
   "metadata": {},
   "source": [
    "## Create table of all VAE model training settings\n",
    "\n",
    "Parameters for:\n",
    "- Biological dataset generation\n",
    "- Training data\n",
    "    - Input\n",
    "    - Output \n",
    "- Model architecture\n",
    "- Training hyperparameters"
   ]
  },
  {
   "cell_type": "markdown",
   "metadata": {},
   "source": [
    "### Initial parameters"
   ]
  },
  {
   "cell_type": "code",
   "execution_count": 4,
   "metadata": {},
   "outputs": [],
   "source": [
    "data_dir = '../data'\n",
    "\n",
    "hpos_architecture = {\n",
    "    'seed_arch': 1,\n",
    "    'hidden_size': 16,\n",
    "    'enc_ls': 32,\n",
    "    'dec_ls': 32,\n",
    "    'num_enc_layers': 2,\n",
    "    'num_dec_layers': 2,\n",
    "    'factor_expanding_ls': 1,\n",
    "    'factor_contracting_ls': 1,\n",
    "    'model': 'CVAE',\n",
    "    'use_sigmoid_decoder': False,\n",
    "    'enc_init': 'HeNormal',\n",
    "    'dec_init': 'HeNormal',\n",
    "    'init_model_with_random': True,\n",
    "    'activation': 'leaky_relu',\n",
    "}\n",
    "\n",
    "hpos_training = {\n",
    "    'seed_train': 1,\n",
    "    'batch_size': 256,\n",
    "    'epochs': 100,\n",
    "    'patience': 500,\n",
    "    'threshold_early_val_acc': 0.995,\n",
    "    'learning_rate': 1e-2,\n",
    "    'loss_func': 'mse',\n",
    "    'accuracy_func': 'accuracy_regression',\n",
    "    'use_dropout': False,\n",
    "    'dropout_rate': 0.1,\n",
    "    'use_l2_reg': False,\n",
    "    'l2_reg_alpha': 5e-2,\n",
    "    'use_kl_div': True,\n",
    "    # inspired by https://github.com/elttaes/VAE-MNIST-Haiku-Jax/blob/main/cVAE_mnist.ipynb\n",
    "    'kl_weight': 2.5e-4,\n",
    "    'use_grad_clipping': False,\n",
    "    'use_contrastive_loss': False,\n",
    "    'temperature': 1.5,\n",
    "    'contrastive_func': 'info_nce',\n",
    "    'threshold_similarity': 0.9,\n",
    "    'power_factor_distance': 3\n",
    "}\n",
    "hpos_training['print_every'] = hpos_training['epochs'] // 50\n",
    "\n",
    "hpos_optimization = {\n",
    "    'seed_opt': 1,\n",
    "    'opt_method': 'adam',\n",
    "    'opt_min_lr': 1e-6,\n",
    "    'opt_min_delta': 1e-4,\n",
    "    'learning_rate_sched': 'cosine_decay',\n",
    "    'use_warmup': True,\n",
    "    'warmup_epochs': 20,\n",
    "}\n",
    "\n",
    "hpos_dataset = {\n",
    "    'seed_dataset': 1,\n",
    "    'include_diffs': False,\n",
    "    # 'objective_col': ('Log sensitivity', 'Log precision'),\n",
    "    # 'objective_col': 'adaptation',\n",
    "    'objective_col': ('Log sensitivity',),\n",
    "    'output_species': ('RNA_2',),\n",
    "    'signal_species': ('RNA_0',),\n",
    "    'filenames_train_config': f'{data_dir}/raw/summarise_simulation/2024_12_05_210221/ensemble_config.json',\n",
    "    'filenames_train_table': f'{data_dir}/raw/summarise_simulation/2024_12_05_210221/tabulated_mutation_info.csv',\n",
    "    'filenames_verify_config': f'{data_dir}/raw/summarise_simulation/2024_11_21_160955/ensemble_config.json',\n",
    "    'filenames_verify_table': f'{data_dir}/raw/summarise_simulation/2024_11_21_160955/tabulated_mutation_info.csv',\n",
    "    'use_test_data': False,\n",
    "    # 'total_ds': None,   # TO BE RECORDED\n",
    "    'total_ds_max': 5e6,\n",
    "    'train_split': 0.8,\n",
    "    'x_type': 'energies',\n",
    "    # XY filtering:\n",
    "    'filt_x_nans': True,\n",
    "    'filt_y_nans': True,\n",
    "    'filt_sensitivity_nans': True,\n",
    "    'filt_precision_nans': True,\n",
    "    'filt_n_same_x_max': 1,\n",
    "    'filt_n_same_x_max_bins': 50,\n",
    "    'filt_response_time_high': True,\n",
    "    'filt_response_time_perc_max': 0.8,\n",
    "    # XY preprocessing:\n",
    "    'prep_x_standardise': False,\n",
    "    'prep_y_standardise': False,\n",
    "    'prep_x_min_max': True,\n",
    "    'prep_y_min_max': True,\n",
    "    'prep_x_robust_scaling': True,\n",
    "    'prep_y_robust_scaling': True,\n",
    "    'prep_x_logscale': False,\n",
    "    'prep_y_logscale': False,\n",
    "    'prep_x_categorical': False,\n",
    "    'prep_y_categorical': False,\n",
    "    'prep_x_categorical_onehot': False,\n",
    "    'prep_y_categorical_onehot': False,\n",
    "    'prep_x_categorical_n_bins': 10,\n",
    "    'prep_y_categorical_n_bins': 10,\n",
    "    'prep_x_categorical_method': 'quantile',\n",
    "    'prep_y_categorical_method': 'quantile',\n",
    "    'prep_x_negative': True,\n",
    "    'prep_y_negative': False\n",
    "}\n",
    "\n",
    "hpos_biological = {\n",
    "    'n_species': 3,\n",
    "    'sequence_length': 20,\n",
    "    'signal_function': 'step_function',\n",
    "    'signal_target': 2,\n",
    "    'starting_copynumbers_input': 200,\n",
    "    'starting_copynumbers_output': 200,\n",
    "    'starting_copynumbers_other': 200,\n",
    "    'association_binding_rate': 1000000,\n",
    "    'include_prod_deg': False,\n",
    "}\n",
    "\n",
    "hpos_eval = {\n",
    "    'eval_n_to_sample': 1e3\n",
    "}\n",
    "\n",
    "info_to_be_recorded = {\n",
    "    'filename_saved_model': 'TO_BE_RECORDED',\n",
    "    'total_ds': 'TO_BE_RECORDED',\n",
    "    'n_batches': 'TO_BE_RECORDED',\n",
    "    'R2_train': 'TO_BE_RECORDED',\n",
    "    'R2_test': 'TO_BE_RECORDED',\n",
    "    'mutual_information_conditionality': 'TO_BE_RECORDED',\n",
    "    'n_layers_enc': 'TO_BE_RECORDED',\n",
    "    'n_layers_dec': 'TO_BE_RECORDED',\n",
    "    'run_successful': 'TO_BE_RECORDED',\n",
    "    'info_early_stop': 'TO_BE_RECORDED',\n",
    "    'error_msg': 'TO_BE_RECORDED',\n",
    "}\n",
    "\n",
    "hpos_all = {}\n",
    "for d in [hpos_architecture, hpos_training, hpos_optimization, hpos_dataset, hpos_eval, info_to_be_recorded]:\n",
    "    hpos_all.update(d)\n",
    "    "
   ]
  },
  {
   "cell_type": "code",
   "execution_count": 5,
   "metadata": {},
   "outputs": [
    {
     "data": {
      "text/html": [
       "<div>\n",
       "<style scoped>\n",
       "    .dataframe tbody tr th:only-of-type {\n",
       "        vertical-align: middle;\n",
       "    }\n",
       "\n",
       "    .dataframe tbody tr th {\n",
       "        vertical-align: top;\n",
       "    }\n",
       "\n",
       "    .dataframe thead th {\n",
       "        text-align: right;\n",
       "    }\n",
       "</style>\n",
       "<table border=\"1\" class=\"dataframe\">\n",
       "  <thead>\n",
       "    <tr style=\"text-align: right;\">\n",
       "      <th></th>\n",
       "      <th>seed_arch</th>\n",
       "      <th>hidden_size</th>\n",
       "      <th>enc_ls</th>\n",
       "      <th>dec_ls</th>\n",
       "      <th>num_enc_layers</th>\n",
       "      <th>num_dec_layers</th>\n",
       "      <th>factor_expanding_ls</th>\n",
       "      <th>factor_contracting_ls</th>\n",
       "      <th>model</th>\n",
       "      <th>use_sigmoid_decoder</th>\n",
       "      <th>...</th>\n",
       "      <th>total_ds</th>\n",
       "      <th>n_batches</th>\n",
       "      <th>R2_train</th>\n",
       "      <th>R2_test</th>\n",
       "      <th>mutual_information_conditionality</th>\n",
       "      <th>n_layers_enc</th>\n",
       "      <th>n_layers_dec</th>\n",
       "      <th>run_successful</th>\n",
       "      <th>info_early_stop</th>\n",
       "      <th>error_msg</th>\n",
       "    </tr>\n",
       "  </thead>\n",
       "  <tbody>\n",
       "    <tr>\n",
       "      <th>0</th>\n",
       "      <td>1</td>\n",
       "      <td>16</td>\n",
       "      <td>32</td>\n",
       "      <td>32</td>\n",
       "      <td>2</td>\n",
       "      <td>2</td>\n",
       "      <td>1</td>\n",
       "      <td>1</td>\n",
       "      <td>CVAE</td>\n",
       "      <td>False</td>\n",
       "      <td>...</td>\n",
       "      <td>TO_BE_RECORDED</td>\n",
       "      <td>TO_BE_RECORDED</td>\n",
       "      <td>TO_BE_RECORDED</td>\n",
       "      <td>TO_BE_RECORDED</td>\n",
       "      <td>TO_BE_RECORDED</td>\n",
       "      <td>TO_BE_RECORDED</td>\n",
       "      <td>TO_BE_RECORDED</td>\n",
       "      <td>TO_BE_RECORDED</td>\n",
       "      <td>TO_BE_RECORDED</td>\n",
       "      <td>TO_BE_RECORDED</td>\n",
       "    </tr>\n",
       "  </tbody>\n",
       "</table>\n",
       "<p>1 rows × 93 columns</p>\n",
       "</div>"
      ],
      "text/plain": [
       "  seed_arch hidden_size enc_ls dec_ls num_enc_layers num_dec_layers  \\\n",
       "0         1          16     32     32              2              2   \n",
       "\n",
       "  factor_expanding_ls factor_contracting_ls model use_sigmoid_decoder  ...  \\\n",
       "0                   1                     1  CVAE               False  ...   \n",
       "\n",
       "         total_ds       n_batches        R2_train         R2_test  \\\n",
       "0  TO_BE_RECORDED  TO_BE_RECORDED  TO_BE_RECORDED  TO_BE_RECORDED   \n",
       "\n",
       "  mutual_information_conditionality    n_layers_enc    n_layers_dec  \\\n",
       "0                    TO_BE_RECORDED  TO_BE_RECORDED  TO_BE_RECORDED   \n",
       "\n",
       "   run_successful info_early_stop       error_msg  \n",
       "0  TO_BE_RECORDED  TO_BE_RECORDED  TO_BE_RECORDED  \n",
       "\n",
       "[1 rows x 93 columns]"
      ]
     },
     "execution_count": 5,
     "metadata": {},
     "output_type": "execute_result"
    }
   ],
   "source": [
    "df_hpos = pd.DataFrame.from_dict(hpos_all, orient='index').T\n",
    "assert df_hpos.columns.duplicated().sum() == 0, 'Change some column names, there are duplicates'\n",
    "basic_setting = df_hpos.copy()\n",
    "df_hpos"
   ]
  },
  {
   "cell_type": "code",
   "execution_count": 6,
   "metadata": {},
   "outputs": [
    {
     "data": {
      "text/plain": [
       "0    ../data/raw/summarise_simulation/2024_12_05_21...\n",
       "Name: filenames_train_config, dtype: object"
      ]
     },
     "execution_count": 6,
     "metadata": {},
     "output_type": "execute_result"
    }
   ],
   "source": [
    "# for k, v in hpos_all.items():\n",
    "#     if type(v) == tuple:\n",
    "#         print(k, v)\n",
    "#         df_hpos[k] = df_hpos[k].apply(lambda x: tuple(x))\n",
    "df_hpos['filenames_train_config']        "
   ]
  },
  {
   "cell_type": "markdown",
   "metadata": {},
   "source": [
    "### All parameters"
   ]
  },
  {
   "cell_type": "code",
   "execution_count": 7,
   "metadata": {},
   "outputs": [],
   "source": [
    "hpos_to_vary_from_og = [{\n",
    "    'hidden_size': np.arange(2, 32, 2),\n",
    "    'learning_rate': [1e-1, 1e-2, 1e-3, 1e-4]\n",
    "}]\n",
    "hpos_to_vary_together = [{\n",
    "    'objective_col': [('adaptation',), ('Log sensitivity',), ('Log sensitivity', 'Log precision')],\n",
    "    'prep_y_categorical': [False, True],\n",
    "    'use_kl_div': [True],\n",
    "    'kl_weight': [5e-5, 1e-4, 2.5e-4, 4e-4, 5e-4],\n",
    "    'threshold_early_val_acc': [0.995, 0.98, 0.96, 0.9],\n",
    "},\n",
    "    {\n",
    "    'use_contrastive_loss': [True],\n",
    "    'temperature': [0.1, 0.5, 1, 1.5, 2, 4, 8],\n",
    "    'threshold_similarity': [0.95, 0.9, 0.7, 0.5, 0.3, 0.1],\n",
    "    'power_factor_distance': [3, 4],\n",
    "    'threshold_early_val_acc': [0.995, 0.9]\n",
    "}\n",
    "]\n",
    "\n",
    "df_hpos.loc[df_hpos['objective_col'] ==\n",
    "            'sensitivity_wrt_species-6', 'prep_y_logscale'] = True"
   ]
  },
  {
   "cell_type": "code",
   "execution_count": 8,
   "metadata": {},
   "outputs": [
    {
     "data": {
      "text/plain": [
       "305"
      ]
     },
     "execution_count": 8,
     "metadata": {},
     "output_type": "execute_result"
    }
   ],
   "source": [
    "def keep_equal(df):\n",
    "    pairs = {\n",
    "        'enc_ls': 'dec_ls',\n",
    "        'num_enc_layers': 'num_dec_layers',\n",
    "        'factor_expanding_ls': 'factor_contracting_ls',\n",
    "    }\n",
    "    for k1, k2 in pairs.items():\n",
    "        if k1 in df.columns and k2 in df.columns:\n",
    "            df[k2] = df[k1]\n",
    "    return df\n",
    "\n",
    "\n",
    "def add_combinatorial_keys(df_hpos, hpos_to_vary_together, basic_setting):\n",
    "    keys_vary_together = sorted(hpos_to_vary_together.keys())\n",
    "    for i, v in enumerate(itertools.product(*[hpos_to_vary_together[h] for h in keys_vary_together])):\n",
    "        curr = basic_setting.assign(\n",
    "            **{h: [vv] if type(vv) == tuple else vv for h, vv in zip(keys_vary_together, v)})\n",
    "        df_hpos = pd.concat([df_hpos, curr], ignore_index=True)\n",
    "    return df_hpos\n",
    "\n",
    "\n",
    "def add_single_hpos(df_hpos, hpos_to_vary_from_og, basic_setting):\n",
    "    for h, v in hpos_to_vary_from_og.items():\n",
    "        try:\n",
    "            df_hpos = pd.concat(\n",
    "                [df_hpos] + [basic_setting.assign(**{h: vv}) for vv in v], ignore_index=True)\n",
    "        except ValueError:\n",
    "            for vv in v:\n",
    "                b = basic_setting.copy()\n",
    "                b.loc[0, h] = vv\n",
    "                df_hpos = pd.concat([df_hpos, b], ignore_index=True)\n",
    "    return df_hpos\n",
    "\n",
    "\n",
    "def postproc(df_hpos):\n",
    "    df_hpos = keep_equal(df_hpos)\n",
    "    df_hpos.loc[df_hpos['x_type'] ==\n",
    "                'binding_rates_dissociation', 'prep_x_negative'] = False\n",
    "    df_hpos = df_hpos.drop_duplicates().reset_index(drop=True)\n",
    "    return df_hpos\n",
    "\n",
    "\n",
    "for h in hpos_to_vary_from_og:\n",
    "    df_hpos = add_single_hpos(df_hpos, h, basic_setting)\n",
    "for h in hpos_to_vary_together:\n",
    "    df_hpos = add_combinatorial_keys(df_hpos, h, basic_setting)\n",
    "\n",
    "df_hpos = postproc(df_hpos)\n",
    "\n",
    "# Reorder columns\n",
    "cols_priority = list(set(flatten_listlike([list(h.keys(\n",
    ")) for h in hpos_to_vary_from_og] + [list(h.keys()) for h in hpos_to_vary_together])))\n",
    "df_hpos = df_hpos[cols_priority +\n",
    "                  [c for c in df_hpos.columns if c not in cols_priority]]\n",
    "\n",
    "df_hpos.reset_index(drop=True)\n",
    "len(df_hpos)"
   ]
  },
  {
   "cell_type": "markdown",
   "metadata": {},
   "source": [
    "# Use table to create dataset for training"
   ]
  },
  {
   "cell_type": "code",
   "execution_count": 9,
   "metadata": {},
   "outputs": [],
   "source": [
    "# fn = '../data/raw/summarise_simulation/2024_11_21_144918/tabulated_mutation_info.csv'\n",
    "# # fn = '../data/raw/summarise_simulation/2024_11_21_160955/tabulated_mutation_info.csv'\n",
    "# # fn = '../data/raw/summarise_simulation/2024_12_05_210221/tabulated_mutation_info.csv'\n",
    "# data = pd.read_csv(fn).iloc[:100]\n",
    "# len(data)"
   ]
  },
  {
   "cell_type": "code",
   "execution_count": 12,
   "metadata": {},
   "outputs": [
    {
     "data": {
      "text/plain": [
       "objective_col              (Log sensitivity, Log precision)\n",
       "use_contrastive_loss                                  False\n",
       "threshold_early_val_acc                                0.96\n",
       "use_kl_div                                             True\n",
       "temperature                                             1.5\n",
       "                                         ...               \n",
       "n_layers_enc                                 TO_BE_RECORDED\n",
       "n_layers_dec                                 TO_BE_RECORDED\n",
       "run_successful                               TO_BE_RECORDED\n",
       "info_early_stop                              TO_BE_RECORDED\n",
       "error_msg                                    TO_BE_RECORDED\n",
       "Name: 111, Length: 93, dtype: object"
      ]
     },
     "execution_count": 12,
     "metadata": {},
     "output_type": "execute_result"
    }
   ],
   "source": [
    "df_hpos_main = df_hpos.iloc[111:]\n",
    "i = 0\n",
    "df_hpos_main.iloc[i]"
   ]
  },
  {
   "cell_type": "code",
   "execution_count": 9,
   "metadata": {},
   "outputs": [
    {
     "name": "stderr",
     "output_type": "stream",
     "text": [
      "xla_bridge.py:backends():900: Unable to initialize backend 'rocm': NOT_FOUND: Could not find registered platform with name: \"rocm\". Available platform names are: CUDA INFO\n",
      "xla_bridge.py:backends():900: Unable to initialize backend 'tpu': INTERNAL: Failed to open libtpu.so: libtpu.so: cannot open shared object file: No such file or directory INFO\n"
     ]
    },
    {
     "name": "stderr",
     "output_type": "stream",
     "text": [
      "train.py:train():187: Epoch 0 / 100 -\t\t Train loss: 0.13625994324684143\tVal loss: 0.08772104233503342\tVal accuracy: 0.33725741505622864 INFO\n",
      "train.py:train():187: Epoch 10 / 100 -\t\t Train loss: 0.006428841967135668\tVal loss: 0.006101085804402828\tVal accuracy: 0.9633186459541321 INFO\n",
      "train.py:train():197: Early stopping triggered after 11 epochs:\n",
      "Train loss: 0.006428841967135668\n",
      "Val loss: 0.006101085804402828\n",
      "Val accuracy: 0.9633186459541321\n",
      "Epochs no improvement: 0 WARNING\n"
     ]
    },
    {
     "name": "stdout",
     "output_type": "stream",
     "text": [
      "Training complete: 0:00:08.578058\n",
      "Warning: not using the test data for evaluation, but the training data instead of ../data/raw/summarise_simulation/2024_11_21_160955/tabulated_mutation_info.csv\n",
      "The R2 score is  0.9468659162521362\n",
      "The R2 score with weighted variance is  0.9468658566474915\n",
      "Steady states found after 4 mins and 6 secs. Now calculating signal response\n",
      "Signal response found after 4 mins and 5 secs.\n",
      "Shape of passed values is (100000, 3), indices imply (100000, 2)\n"
     ]
    },
    {
     "name": "stderr",
     "output_type": "stream",
     "text": [
      "/tmp/ipykernel_1033092/3832087635.py:40: SettingWithCopyWarning: \n",
      "A value is trying to be set on a copy of a slice from a DataFrame\n",
      "\n",
      "See the caveats in the documentation: https://pandas.pydata.org/pandas-docs/stable/user_guide/indexing.html#returning-a-view-versus-a-copy\n",
      "  df_hpos_main.loc[i] = pd.Series(hpos) if type(\n",
      "train.py:train():187: Epoch 0 / 100 -\t\t Train loss: 0.13625994324684143\tVal loss: 0.08772104233503342\tVal accuracy: 0.33725741505622864 INFO\n",
      "train.py:train():197: Early stopping triggered after 7 epochs:\n",
      "Train loss: 0.009982433170080185\n",
      "Val loss: 0.00913805328309536\n",
      "Val accuracy: 0.9224100708961487\n",
      "Epochs no improvement: 0 WARNING\n"
     ]
    },
    {
     "name": "stdout",
     "output_type": "stream",
     "text": [
      "Training complete: 0:00:04.211753\n",
      "Warning: not using the test data for evaluation, but the training data instead of ../data/raw/summarise_simulation/2024_11_21_160955/tabulated_mutation_info.csv\n",
      "The R2 score is  0.9232878684997559\n",
      "The R2 score with weighted variance is  0.9232878684997559\n",
      "Steady states found after 4 mins and 7 secs. Now calculating signal response\n",
      "Signal response found after 3 mins and 47 secs.\n",
      "Shape of passed values is (100000, 3), indices imply (100000, 2)\n"
     ]
    },
    {
     "name": "stderr",
     "output_type": "stream",
     "text": [
      "/tmp/ipykernel_1033092/3832087635.py:40: SettingWithCopyWarning: \n",
      "A value is trying to be set on a copy of a slice from a DataFrame\n",
      "\n",
      "See the caveats in the documentation: https://pandas.pydata.org/pandas-docs/stable/user_guide/indexing.html#returning-a-view-versus-a-copy\n",
      "  df_hpos_main.loc[i] = pd.Series(hpos) if type(\n",
      "train.py:train():187: Epoch 0 / 100 -\t\t Train loss: 0.18891701102256775\tVal loss: 0.08915050327777863\tVal accuracy: 0.3360801935195923 INFO\n",
      "train.py:train():187: Epoch 10 / 100 -\t\t Train loss: 0.009020058438181877\tVal loss: 0.00892937183380127\tVal accuracy: 0.9047070741653442 INFO\n",
      "train.py:train():187: Epoch 20 / 100 -\t\t Train loss: 0.007351451087743044\tVal loss: 0.007221796549856663\tVal accuracy: 0.9384720921516418 INFO\n",
      "train.py:train():187: Epoch 30 / 100 -\t\t Train loss: 0.006167816463857889\tVal loss: 0.00613897992298007\tVal accuracy: 0.9611514806747437 INFO\n",
      "train.py:train():187: Epoch 40 / 100 -\t\t Train loss: 0.005900237243622541\tVal loss: 0.005872562527656555\tVal accuracy: 0.9638091921806335 INFO\n",
      "train.py:train():187: Epoch 50 / 100 -\t\t Train loss: 0.005714342929422855\tVal loss: 0.005660356488078833\tVal accuracy: 0.9649150371551514 INFO\n",
      "train.py:train():187: Epoch 60 / 100 -\t\t Train loss: 0.005642625968903303\tVal loss: 0.005639825947582722\tVal accuracy: 0.9738512635231018 INFO\n",
      "train.py:train():187: Epoch 70 / 100 -\t\t Train loss: 0.005580781027674675\tVal loss: 0.00557374395430088\tVal accuracy: 0.9735480546951294 INFO\n",
      "train.py:train():187: Epoch 80 / 100 -\t\t Train loss: 0.005595038644969463\tVal loss: 0.005566000007092953\tVal accuracy: 0.9798087477684021 INFO\n",
      "train.py:train():187: Epoch 90 / 100 -\t\t Train loss: 0.0054206871427595615\tVal loss: 0.00538988970220089\tVal accuracy: 0.9764465093612671 INFO\n"
     ]
    },
    {
     "name": "stdout",
     "output_type": "stream",
     "text": [
      "Training complete: 0:01:02.653143\n",
      "Warning: not using the test data for evaluation, but the training data instead of ../data/raw/summarise_simulation/2024_11_21_160955/tabulated_mutation_info.csv\n",
      "The R2 score is  0.9610375761985779\n",
      "The R2 score with weighted variance is  0.9610375761985779\n",
      "Steady states found after 1 mins and 17 secs. Now calculating signal response\n",
      "Signal response found after 1 mins and 6 secs.\n",
      "data/03_cvae_multi/2025_02_08__14_28_33/cvae_scan/hpo_113\n"
     ]
    },
    {
     "name": "stderr",
     "output_type": "stream",
     "text": [
      "/tmp/ipykernel_1033092/3832087635.py:40: SettingWithCopyWarning: \n",
      "A value is trying to be set on a copy of a slice from a DataFrame\n",
      "\n",
      "See the caveats in the documentation: https://pandas.pydata.org/pandas-docs/stable/user_guide/indexing.html#returning-a-view-versus-a-copy\n",
      "  df_hpos_main.loc[i] = pd.Series(hpos) if type(\n",
      "train.py:train():187: Epoch 0 / 100 -\t\t Train loss: 0.18891701102256775\tVal loss: 0.08915050327777863\tVal accuracy: 0.3360801935195923 INFO\n",
      "train.py:train():187: Epoch 10 / 100 -\t\t Train loss: 0.009020058438181877\tVal loss: 0.00892937183380127\tVal accuracy: 0.9047070741653442 INFO\n",
      "train.py:train():187: Epoch 20 / 100 -\t\t Train loss: 0.007351451087743044\tVal loss: 0.007221796549856663\tVal accuracy: 0.9384720921516418 INFO\n",
      "train.py:train():187: Epoch 30 / 100 -\t\t Train loss: 0.006167816463857889\tVal loss: 0.00613897992298007\tVal accuracy: 0.9611514806747437 INFO\n",
      "train.py:train():187: Epoch 40 / 100 -\t\t Train loss: 0.005900237243622541\tVal loss: 0.005872562527656555\tVal accuracy: 0.9638091921806335 INFO\n",
      "train.py:train():187: Epoch 50 / 100 -\t\t Train loss: 0.005714342929422855\tVal loss: 0.005660356488078833\tVal accuracy: 0.9649150371551514 INFO\n",
      "train.py:train():187: Epoch 60 / 100 -\t\t Train loss: 0.005642625968903303\tVal loss: 0.005639825947582722\tVal accuracy: 0.9738512635231018 INFO\n",
      "train.py:train():187: Epoch 70 / 100 -\t\t Train loss: 0.005580781027674675\tVal loss: 0.00557374395430088\tVal accuracy: 0.9735480546951294 INFO\n",
      "train.py:train():197: Early stopping triggered after 77 epochs:\n",
      "Train loss: 0.005631742998957634\n",
      "Val loss: 0.005577035713940859\n",
      "Val accuracy: 0.9817262291908264\n",
      "Epochs no improvement: 11 WARNING\n"
     ]
    },
    {
     "name": "stdout",
     "output_type": "stream",
     "text": [
      "Training complete: 0:00:48.122930\n",
      "Warning: not using the test data for evaluation, but the training data instead of ../data/raw/summarise_simulation/2024_11_21_160955/tabulated_mutation_info.csv\n",
      "The R2 score is  0.962048351764679\n",
      "The R2 score with weighted variance is  0.962048351764679\n",
      "Steady states found after 1 mins and 0 secs. Now calculating signal response\n",
      "Signal response found after 1 mins and 6 secs.\n",
      "data/03_cvae_multi/2025_02_08__14_28_33/cvae_scan/hpo_114\n"
     ]
    },
    {
     "name": "stderr",
     "output_type": "stream",
     "text": [
      "/tmp/ipykernel_1033092/3832087635.py:40: SettingWithCopyWarning: \n",
      "A value is trying to be set on a copy of a slice from a DataFrame\n",
      "\n",
      "See the caveats in the documentation: https://pandas.pydata.org/pandas-docs/stable/user_guide/indexing.html#returning-a-view-versus-a-copy\n",
      "  df_hpos_main.loc[i] = pd.Series(hpos) if type(\n",
      "train.py:train():187: Epoch 0 / 100 -\t\t Train loss: 0.18891701102256775\tVal loss: 0.08915050327777863\tVal accuracy: 0.3360801935195923 INFO\n",
      "train.py:train():187: Epoch 10 / 100 -\t\t Train loss: 0.009020058438181877\tVal loss: 0.00892937183380127\tVal accuracy: 0.9047070741653442 INFO\n",
      "train.py:train():187: Epoch 20 / 100 -\t\t Train loss: 0.007351451087743044\tVal loss: 0.007221796549856663\tVal accuracy: 0.9384720921516418 INFO\n",
      "train.py:train():197: Early stopping triggered after 29 epochs:\n",
      "Train loss: 0.006455824710428715\n",
      "Val loss: 0.006380690727382898\n",
      "Val accuracy: 0.9671714305877686\n",
      "Epochs no improvement: 0 WARNING\n"
     ]
    },
    {
     "name": "stdout",
     "output_type": "stream",
     "text": [
      "Training complete: 0:00:18.748087\n",
      "Warning: not using the test data for evaluation, but the training data instead of ../data/raw/summarise_simulation/2024_11_21_160955/tabulated_mutation_info.csv\n",
      "The R2 score is  0.9503749012947083\n",
      "The R2 score with weighted variance is  0.9503748416900635\n",
      "Steady states found after 1 mins and 12 secs. Now calculating signal response\n",
      "Signal response found after 1 mins and 21 secs.\n",
      "data/03_cvae_multi/2025_02_08__14_28_33/cvae_scan/hpo_115\n"
     ]
    },
    {
     "name": "stderr",
     "output_type": "stream",
     "text": [
      "/tmp/ipykernel_1033092/3832087635.py:40: SettingWithCopyWarning: \n",
      "A value is trying to be set on a copy of a slice from a DataFrame\n",
      "\n",
      "See the caveats in the documentation: https://pandas.pydata.org/pandas-docs/stable/user_guide/indexing.html#returning-a-view-versus-a-copy\n",
      "  df_hpos_main.loc[i] = pd.Series(hpos) if type(\n",
      "train.py:train():187: Epoch 0 / 100 -\t\t Train loss: 0.18891701102256775\tVal loss: 0.08915050327777863\tVal accuracy: 0.3360801935195923 INFO\n",
      "train.py:train():187: Epoch 10 / 100 -\t\t Train loss: 0.009020058438181877\tVal loss: 0.00892937183380127\tVal accuracy: 0.9047070741653442 INFO\n",
      "train.py:train():197: Early stopping triggered after 11 epochs:\n",
      "Train loss: 0.009020058438181877\n",
      "Val loss: 0.00892937183380127\n",
      "Val accuracy: 0.9047070741653442\n",
      "Epochs no improvement: 0 WARNING\n"
     ]
    },
    {
     "name": "stdout",
     "output_type": "stream",
     "text": [
      "Training complete: 0:00:07.387962\n",
      "Warning: not using the test data for evaluation, but the training data instead of ../data/raw/summarise_simulation/2024_11_21_160955/tabulated_mutation_info.csv\n",
      "The R2 score is  0.901857852935791\n",
      "The R2 score with weighted variance is  0.901857852935791\n",
      "Steady states found after 1 mins and 42 secs. Now calculating signal response\n",
      "Signal response found after 1 mins and 21 secs.\n",
      "data/03_cvae_multi/2025_02_08__14_28_33/cvae_scan/hpo_116\n"
     ]
    },
    {
     "name": "stderr",
     "output_type": "stream",
     "text": [
      "/tmp/ipykernel_1033092/3832087635.py:40: SettingWithCopyWarning: \n",
      "A value is trying to be set on a copy of a slice from a DataFrame\n",
      "\n",
      "See the caveats in the documentation: https://pandas.pydata.org/pandas-docs/stable/user_guide/indexing.html#returning-a-view-versus-a-copy\n",
      "  df_hpos_main.loc[i] = pd.Series(hpos) if type(\n",
      "train.py:train():187: Epoch 0 / 100 -\t\t Train loss: 0.1834554523229599\tVal loss: 0.08974720537662506\tVal accuracy: 0.33715930581092834 INFO\n",
      "train.py:train():187: Epoch 10 / 100 -\t\t Train loss: 0.008654079400002956\tVal loss: 0.007916120812296867\tVal accuracy: 0.9362335801124573 INFO\n",
      "train.py:train():187: Epoch 20 / 100 -\t\t Train loss: 0.006383991800248623\tVal loss: 0.006079433485865593\tVal accuracy: 0.9749749898910522 INFO\n",
      "train.py:train():187: Epoch 30 / 100 -\t\t Train loss: 0.005764045286923647\tVal loss: 0.005667523946613073\tVal accuracy: 0.9663419723510742 INFO\n",
      "train.py:train():187: Epoch 40 / 100 -\t\t Train loss: 0.005698841530829668\tVal loss: 0.005842787679284811\tVal accuracy: 0.9623109102249146 INFO\n",
      "train.py:train():187: Epoch 50 / 100 -\t\t Train loss: 0.0056286342442035675\tVal loss: 0.005842495243996382\tVal accuracy: 0.9633008241653442 INFO\n",
      "train.py:train():187: Epoch 60 / 100 -\t\t Train loss: 0.005511304829269648\tVal loss: 0.0055063809268176556\tVal accuracy: 0.9759382009506226 INFO\n",
      "train.py:train():187: Epoch 70 / 100 -\t\t Train loss: 0.005456676706671715\tVal loss: 0.005421395879238844\tVal accuracy: 0.9759827852249146 INFO\n",
      "train.py:train():187: Epoch 80 / 100 -\t\t Train loss: 0.005463277455419302\tVal loss: 0.005428196396678686\tVal accuracy: 0.9776861667633057 INFO\n",
      "train.py:train():187: Epoch 90 / 100 -\t\t Train loss: 0.0053694164380431175\tVal loss: 0.005333190783858299\tVal accuracy: 0.9799782037734985 INFO\n"
     ]
    },
    {
     "name": "stdout",
     "output_type": "stream",
     "text": [
      "Training complete: 0:01:03.078267\n",
      "Warning: not using the test data for evaluation, but the training data instead of ../data/raw/summarise_simulation/2024_11_21_160955/tabulated_mutation_info.csv\n",
      "The R2 score is  0.9613309502601624\n",
      "The R2 score with weighted variance is  0.9613309502601624\n",
      "Steady states found after 1 mins and 2 secs. Now calculating signal response\n",
      "Signal response found after 1 mins and 0 secs.\n",
      "data/03_cvae_multi/2025_02_08__14_28_33/cvae_scan/hpo_117\n"
     ]
    },
    {
     "name": "stderr",
     "output_type": "stream",
     "text": [
      "/tmp/ipykernel_1033092/3832087635.py:40: SettingWithCopyWarning: \n",
      "A value is trying to be set on a copy of a slice from a DataFrame\n",
      "\n",
      "See the caveats in the documentation: https://pandas.pydata.org/pandas-docs/stable/user_guide/indexing.html#returning-a-view-versus-a-copy\n",
      "  df_hpos_main.loc[i] = pd.Series(hpos) if type(\n",
      "train.py:train():187: Epoch 0 / 100 -\t\t Train loss: 0.1834554523229599\tVal loss: 0.08974720537662506\tVal accuracy: 0.33715930581092834 INFO\n",
      "train.py:train():187: Epoch 10 / 100 -\t\t Train loss: 0.008654079400002956\tVal loss: 0.007916120812296867\tVal accuracy: 0.9362335801124573 INFO\n",
      "train.py:train():197: Early stopping triggered after 16 epochs:\n",
      "Train loss: 0.006609280128031969\n",
      "Val loss: 0.006411021575331688\n",
      "Val accuracy: 0.9802725315093994\n",
      "Epochs no improvement: 0 WARNING\n"
     ]
    },
    {
     "name": "stdout",
     "output_type": "stream",
     "text": [
      "Training complete: 0:00:09.812175\n",
      "Warning: not using the test data for evaluation, but the training data instead of ../data/raw/summarise_simulation/2024_11_21_160955/tabulated_mutation_info.csv\n",
      "The R2 score is  0.9586824178695679\n",
      "The R2 score with weighted variance is  0.9586824178695679\n",
      "Steady states found after 1 mins and 8 secs. Now calculating signal response\n",
      "Signal response found after 1 mins and 6 secs.\n",
      "data/03_cvae_multi/2025_02_08__14_28_33/cvae_scan/hpo_118\n"
     ]
    },
    {
     "name": "stderr",
     "output_type": "stream",
     "text": [
      "/tmp/ipykernel_1033092/3832087635.py:40: SettingWithCopyWarning: \n",
      "A value is trying to be set on a copy of a slice from a DataFrame\n",
      "\n",
      "See the caveats in the documentation: https://pandas.pydata.org/pandas-docs/stable/user_guide/indexing.html#returning-a-view-versus-a-copy\n",
      "  df_hpos_main.loc[i] = pd.Series(hpos) if type(\n",
      "train.py:train():187: Epoch 0 / 100 -\t\t Train loss: 0.1834554523229599\tVal loss: 0.08974720537662506\tVal accuracy: 0.33715930581092834 INFO\n",
      "train.py:train():187: Epoch 10 / 100 -\t\t Train loss: 0.008654079400002956\tVal loss: 0.007916120812296867\tVal accuracy: 0.9362335801124573 INFO\n",
      "train.py:train():197: Early stopping triggered after 13 epochs:\n",
      "Train loss: 0.007277526427060366\n",
      "Val loss: 0.00690790731459856\n",
      "Val accuracy: 0.9617133736610413\n",
      "Epochs no improvement: 0 WARNING\n"
     ]
    },
    {
     "name": "stdout",
     "output_type": "stream",
     "text": [
      "Training complete: 0:00:07.954249\n",
      "Warning: not using the test data for evaluation, but the training data instead of ../data/raw/summarise_simulation/2024_11_21_160955/tabulated_mutation_info.csv\n",
      "The R2 score is  0.9466084241867065\n",
      "The R2 score with weighted variance is  0.9466084241867065\n",
      "Steady states found after 1 mins and 7 secs. Now calculating signal response\n",
      "Signal response found after 1 mins and 6 secs.\n",
      "data/03_cvae_multi/2025_02_08__14_28_33/cvae_scan/hpo_119\n"
     ]
    },
    {
     "name": "stderr",
     "output_type": "stream",
     "text": [
      "/tmp/ipykernel_1033092/3832087635.py:40: SettingWithCopyWarning: \n",
      "A value is trying to be set on a copy of a slice from a DataFrame\n",
      "\n",
      "See the caveats in the documentation: https://pandas.pydata.org/pandas-docs/stable/user_guide/indexing.html#returning-a-view-versus-a-copy\n",
      "  df_hpos_main.loc[i] = pd.Series(hpos) if type(\n",
      "train.py:train():187: Epoch 0 / 100 -\t\t Train loss: 0.1834554523229599\tVal loss: 0.08974720537662506\tVal accuracy: 0.33715930581092834 INFO\n",
      "train.py:train():187: Epoch 10 / 100 -\t\t Train loss: 0.008654079400002956\tVal loss: 0.007916120812296867\tVal accuracy: 0.9362335801124573 INFO\n",
      "train.py:train():197: Early stopping triggered after 11 epochs:\n",
      "Train loss: 0.008654079400002956\n",
      "Val loss: 0.007916120812296867\n",
      "Val accuracy: 0.9362335801124573\n",
      "Epochs no improvement: 0 WARNING\n"
     ]
    },
    {
     "name": "stdout",
     "output_type": "stream",
     "text": [
      "Training complete: 0:00:06.695028\n",
      "Warning: not using the test data for evaluation, but the training data instead of ../data/raw/summarise_simulation/2024_11_21_160955/tabulated_mutation_info.csv\n",
      "The R2 score is  0.9301793575286865\n",
      "The R2 score with weighted variance is  0.9301794171333313\n",
      "Steady states found after 1 mins and 38 secs. Now calculating signal response\n",
      "Signal response found after 1 mins and 6 secs.\n",
      "data/03_cvae_multi/2025_02_08__14_28_33/cvae_scan/hpo_120\n"
     ]
    },
    {
     "name": "stderr",
     "output_type": "stream",
     "text": [
      "/tmp/ipykernel_1033092/3832087635.py:40: SettingWithCopyWarning: \n",
      "A value is trying to be set on a copy of a slice from a DataFrame\n",
      "\n",
      "See the caveats in the documentation: https://pandas.pydata.org/pandas-docs/stable/user_guide/indexing.html#returning-a-view-versus-a-copy\n",
      "  df_hpos_main.loc[i] = pd.Series(hpos) if type(\n",
      "train.py:train():187: Epoch 0 / 100 -\t\t Train loss: 0.17993248999118805\tVal loss: 0.08896209299564362\tVal accuracy: 0.3381849229335785 INFO\n",
      "train.py:train():187: Epoch 10 / 100 -\t\t Train loss: 0.009234225377440453\tVal loss: 0.008839750662446022\tVal accuracy: 0.9028698801994324 INFO\n",
      "train.py:train():187: Epoch 20 / 100 -\t\t Train loss: 0.007228389382362366\tVal loss: 0.007147622294723988\tVal accuracy: 0.9378923773765564 INFO\n",
      "train.py:train():187: Epoch 30 / 100 -\t\t Train loss: 0.006235755048692226\tVal loss: 0.0062700011767446995\tVal accuracy: 0.9450716376304626 INFO\n",
      "train.py:train():187: Epoch 40 / 100 -\t\t Train loss: 0.005971788894385099\tVal loss: 0.0060904426500201225\tVal accuracy: 0.9446079134941101 INFO\n",
      "train.py:train():187: Epoch 50 / 100 -\t\t Train loss: 0.005834391340613365\tVal loss: 0.005762329325079918\tVal accuracy: 0.9592340588569641 INFO\n",
      "train.py:train():187: Epoch 60 / 100 -\t\t Train loss: 0.005723610986024141\tVal loss: 0.005687140394002199\tVal accuracy: 0.9628192186355591 INFO\n",
      "train.py:train():187: Epoch 70 / 100 -\t\t Train loss: 0.005651742219924927\tVal loss: 0.005639584269374609\tVal accuracy: 0.9690977931022644 INFO\n",
      "train.py:train():187: Epoch 80 / 100 -\t\t Train loss: 0.005620849784463644\tVal loss: 0.005574961192905903\tVal accuracy: 0.9727275371551514 INFO\n",
      "train.py:train():187: Epoch 90 / 100 -\t\t Train loss: 0.005443166010081768\tVal loss: 0.005429921671748161\tVal accuracy: 0.9744845032691956 INFO\n"
     ]
    },
    {
     "name": "stdout",
     "output_type": "stream",
     "text": [
      "Training complete: 0:01:02.473561\n",
      "Warning: not using the test data for evaluation, but the training data instead of ../data/raw/summarise_simulation/2024_11_21_160955/tabulated_mutation_info.csv\n",
      "The R2 score is  0.9607264399528503\n",
      "The R2 score with weighted variance is  0.9607263803482056\n",
      "Steady states found after 1 mins and 4 secs. Now calculating signal response\n",
      "Signal response found after 1 mins and 0 secs.\n",
      "data/03_cvae_multi/2025_02_08__14_28_33/cvae_scan/hpo_121\n"
     ]
    },
    {
     "name": "stderr",
     "output_type": "stream",
     "text": [
      "/tmp/ipykernel_1033092/3832087635.py:40: SettingWithCopyWarning: \n",
      "A value is trying to be set on a copy of a slice from a DataFrame\n",
      "\n",
      "See the caveats in the documentation: https://pandas.pydata.org/pandas-docs/stable/user_guide/indexing.html#returning-a-view-versus-a-copy\n",
      "  df_hpos_main.loc[i] = pd.Series(hpos) if type(\n",
      "train.py:train():187: Epoch 0 / 100 -\t\t Train loss: 0.17993248999118805\tVal loss: 0.08896209299564362\tVal accuracy: 0.3381849229335785 INFO\n",
      "train.py:train():187: Epoch 10 / 100 -\t\t Train loss: 0.009234225377440453\tVal loss: 0.008839750662446022\tVal accuracy: 0.9028698801994324 INFO\n",
      "train.py:train():187: Epoch 20 / 100 -\t\t Train loss: 0.007228389382362366\tVal loss: 0.007147622294723988\tVal accuracy: 0.9378923773765564 INFO\n",
      "train.py:train():187: Epoch 30 / 100 -\t\t Train loss: 0.006235755048692226\tVal loss: 0.0062700011767446995\tVal accuracy: 0.9450716376304626 INFO\n",
      "train.py:train():187: Epoch 40 / 100 -\t\t Train loss: 0.005971788894385099\tVal loss: 0.0060904426500201225\tVal accuracy: 0.9446079134941101 INFO\n",
      "train.py:train():187: Epoch 50 / 100 -\t\t Train loss: 0.005834391340613365\tVal loss: 0.005762329325079918\tVal accuracy: 0.9592340588569641 INFO\n",
      "train.py:train():187: Epoch 60 / 100 -\t\t Train loss: 0.005723610986024141\tVal loss: 0.005687140394002199\tVal accuracy: 0.9628192186355591 INFO\n",
      "train.py:train():187: Epoch 70 / 100 -\t\t Train loss: 0.005651742219924927\tVal loss: 0.005639584269374609\tVal accuracy: 0.9690977931022644 INFO\n",
      "train.py:train():187: Epoch 80 / 100 -\t\t Train loss: 0.005620849784463644\tVal loss: 0.005574961192905903\tVal accuracy: 0.9727275371551514 INFO\n",
      "train.py:train():187: Epoch 90 / 100 -\t\t Train loss: 0.005443166010081768\tVal loss: 0.005429921671748161\tVal accuracy: 0.9744845032691956 INFO\n"
     ]
    },
    {
     "name": "stdout",
     "output_type": "stream",
     "text": [
      "Training complete: 0:01:02.741909\n",
      "Warning: not using the test data for evaluation, but the training data instead of ../data/raw/summarise_simulation/2024_11_21_160955/tabulated_mutation_info.csv\n",
      "The R2 score is  0.9607264399528503\n",
      "The R2 score with weighted variance is  0.9607263803482056\n",
      "Steady states found after 1 mins and 4 secs. Now calculating signal response\n",
      "Signal response found after 1 mins and 0 secs.\n",
      "data/03_cvae_multi/2025_02_08__14_28_33/cvae_scan/hpo_122\n"
     ]
    },
    {
     "name": "stderr",
     "output_type": "stream",
     "text": [
      "/tmp/ipykernel_1033092/3832087635.py:40: SettingWithCopyWarning: \n",
      "A value is trying to be set on a copy of a slice from a DataFrame\n",
      "\n",
      "See the caveats in the documentation: https://pandas.pydata.org/pandas-docs/stable/user_guide/indexing.html#returning-a-view-versus-a-copy\n",
      "  df_hpos_main.loc[i] = pd.Series(hpos) if type(\n",
      "train.py:train():187: Epoch 0 / 100 -\t\t Train loss: 0.17993248999118805\tVal loss: 0.08896209299564362\tVal accuracy: 0.3381849229335785 INFO\n",
      "train.py:train():187: Epoch 10 / 100 -\t\t Train loss: 0.009234225377440453\tVal loss: 0.008839750662446022\tVal accuracy: 0.9028698801994324 INFO\n",
      "train.py:train():187: Epoch 20 / 100 -\t\t Train loss: 0.007228389382362366\tVal loss: 0.007147622294723988\tVal accuracy: 0.9378923773765564 INFO\n",
      "train.py:train():187: Epoch 30 / 100 -\t\t Train loss: 0.006235755048692226\tVal loss: 0.0062700011767446995\tVal accuracy: 0.9450716376304626 INFO\n",
      "train.py:train():187: Epoch 40 / 100 -\t\t Train loss: 0.005971788894385099\tVal loss: 0.0060904426500201225\tVal accuracy: 0.9446079134941101 INFO\n",
      "train.py:train():197: Early stopping triggered after 44 epochs:\n",
      "Train loss: 0.005957967601716518\n",
      "Val loss: 0.005878182128071785\n",
      "Val accuracy: 0.9628371000289917\n",
      "Epochs no improvement: 2 WARNING\n"
     ]
    },
    {
     "name": "stdout",
     "output_type": "stream",
     "text": [
      "Training complete: 0:00:28.590691\n",
      "Warning: not using the test data for evaluation, but the training data instead of ../data/raw/summarise_simulation/2024_11_21_160955/tabulated_mutation_info.csv\n",
      "The R2 score is  0.948752224445343\n",
      "The R2 score with weighted variance is  0.9487521648406982\n",
      "Steady states found after 1 mins and 6 secs. Now calculating signal response\n",
      "Signal response found after 1 mins and 8 secs.\n",
      "data/03_cvae_multi/2025_02_08__14_28_33/cvae_scan/hpo_123\n"
     ]
    },
    {
     "name": "stderr",
     "output_type": "stream",
     "text": [
      "/tmp/ipykernel_1033092/3832087635.py:40: SettingWithCopyWarning: \n",
      "A value is trying to be set on a copy of a slice from a DataFrame\n",
      "\n",
      "See the caveats in the documentation: https://pandas.pydata.org/pandas-docs/stable/user_guide/indexing.html#returning-a-view-versus-a-copy\n",
      "  df_hpos_main.loc[i] = pd.Series(hpos) if type(\n",
      "train.py:train():187: Epoch 0 / 100 -\t\t Train loss: 0.17993248999118805\tVal loss: 0.08896209299564362\tVal accuracy: 0.3381849229335785 INFO\n",
      "train.py:train():187: Epoch 10 / 100 -\t\t Train loss: 0.009234225377440453\tVal loss: 0.008839750662446022\tVal accuracy: 0.9028698801994324 INFO\n",
      "train.py:train():197: Early stopping triggered after 11 epochs:\n",
      "Train loss: 0.009234225377440453\n",
      "Val loss: 0.008839750662446022\n",
      "Val accuracy: 0.9028698801994324\n",
      "Epochs no improvement: 0 WARNING\n"
     ]
    },
    {
     "name": "stdout",
     "output_type": "stream",
     "text": [
      "Training complete: 0:00:06.707651\n",
      "Warning: not using the test data for evaluation, but the training data instead of ../data/raw/summarise_simulation/2024_11_21_160955/tabulated_mutation_info.csv\n",
      "The R2 score is  0.9027763605117798\n",
      "The R2 score with weighted variance is  0.9027763605117798\n",
      "Steady states found after 1 mins and 5 secs. Now calculating signal response\n",
      "Signal response found after 1 mins and 24 secs.\n",
      "data/03_cvae_multi/2025_02_08__14_28_33/cvae_scan/hpo_124\n"
     ]
    },
    {
     "name": "stderr",
     "output_type": "stream",
     "text": [
      "/tmp/ipykernel_1033092/3832087635.py:40: SettingWithCopyWarning: \n",
      "A value is trying to be set on a copy of a slice from a DataFrame\n",
      "\n",
      "See the caveats in the documentation: https://pandas.pydata.org/pandas-docs/stable/user_guide/indexing.html#returning-a-view-versus-a-copy\n",
      "  df_hpos_main.loc[i] = pd.Series(hpos) if type(\n",
      "train.py:train():187: Epoch 0 / 100 -\t\t Train loss: 0.18350684642791748\tVal loss: 0.08974967151880264\tVal accuracy: 0.33755171298980713 INFO\n",
      "train.py:train():187: Epoch 10 / 100 -\t\t Train loss: 0.007652509491890669\tVal loss: 0.007111189886927605\tVal accuracy: 0.9701501727104187 INFO\n",
      "train.py:train():187: Epoch 20 / 100 -\t\t Train loss: 0.006254573818296194\tVal loss: 0.006089892704039812\tVal accuracy: 0.9759470820426941 INFO\n",
      "train.py:train():187: Epoch 30 / 100 -\t\t Train loss: 0.005808633286505938\tVal loss: 0.005719235632568598\tVal accuracy: 0.9689193964004517 INFO\n",
      "train.py:train():187: Epoch 40 / 100 -\t\t Train loss: 0.005732385907322168\tVal loss: 0.00570677500218153\tVal accuracy: 0.9735123515129089 INFO\n",
      "train.py:train():187: Epoch 50 / 100 -\t\t Train loss: 0.0056097302585840225\tVal loss: 0.005503758788108826\tVal accuracy: 0.9648080468177795 INFO\n",
      "train.py:train():187: Epoch 60 / 100 -\t\t Train loss: 0.005555635783821344\tVal loss: 0.005554564762860537\tVal accuracy: 0.9730218648910522 INFO\n",
      "train.py:train():187: Epoch 70 / 100 -\t\t Train loss: 0.005482080392539501\tVal loss: 0.005432262551039457\tVal accuracy: 0.978194534778595 INFO\n",
      "train.py:train():187: Epoch 80 / 100 -\t\t Train loss: 0.005474736914038658\tVal loss: 0.005451418925076723\tVal accuracy: 0.9784263968467712 INFO\n",
      "train.py:train():187: Epoch 90 / 100 -\t\t Train loss: 0.005354088265448809\tVal loss: 0.0053223976865410805\tVal accuracy: 0.9783818125724792 INFO\n"
     ]
    },
    {
     "name": "stdout",
     "output_type": "stream",
     "text": [
      "Training complete: 0:01:03.224027\n",
      "Warning: not using the test data for evaluation, but the training data instead of ../data/raw/summarise_simulation/2024_11_21_160955/tabulated_mutation_info.csv\n",
      "The R2 score is  0.9608666300773621\n",
      "The R2 score with weighted variance is  0.9608666896820068\n",
      "Steady states found after 1 mins and 1 secs. Now calculating signal response\n",
      "Signal response found after 0 mins and 57 secs.\n",
      "data/03_cvae_multi/2025_02_08__14_28_33/cvae_scan/hpo_125\n"
     ]
    },
    {
     "name": "stderr",
     "output_type": "stream",
     "text": [
      "/tmp/ipykernel_1033092/3832087635.py:40: SettingWithCopyWarning: \n",
      "A value is trying to be set on a copy of a slice from a DataFrame\n",
      "\n",
      "See the caveats in the documentation: https://pandas.pydata.org/pandas-docs/stable/user_guide/indexing.html#returning-a-view-versus-a-copy\n",
      "  df_hpos_main.loc[i] = pd.Series(hpos) if type(\n",
      "train.py:train():187: Epoch 0 / 100 -\t\t Train loss: 0.18350684642791748\tVal loss: 0.08974967151880264\tVal accuracy: 0.33755171298980713 INFO\n",
      "train.py:train():187: Epoch 10 / 100 -\t\t Train loss: 0.007652509491890669\tVal loss: 0.007111189886927605\tVal accuracy: 0.9701501727104187 INFO\n",
      "train.py:train():187: Epoch 20 / 100 -\t\t Train loss: 0.006254573818296194\tVal loss: 0.006089892704039812\tVal accuracy: 0.9759470820426941 INFO\n",
      "train.py:train():187: Epoch 30 / 100 -\t\t Train loss: 0.005808633286505938\tVal loss: 0.005719235632568598\tVal accuracy: 0.9689193964004517 INFO\n",
      "train.py:train():187: Epoch 40 / 100 -\t\t Train loss: 0.005732385907322168\tVal loss: 0.00570677500218153\tVal accuracy: 0.9735123515129089 INFO\n",
      "train.py:train():187: Epoch 50 / 100 -\t\t Train loss: 0.0056097302585840225\tVal loss: 0.005503758788108826\tVal accuracy: 0.9648080468177795 INFO\n",
      "train.py:train():187: Epoch 60 / 100 -\t\t Train loss: 0.005555635783821344\tVal loss: 0.005554564762860537\tVal accuracy: 0.9730218648910522 INFO\n",
      "train.py:train():197: Early stopping triggered after 68 epochs:\n",
      "Train loss: 0.005562538281083107\n",
      "Val loss: 0.005484209395945072\n",
      "Val accuracy: 0.9806827306747437\n",
      "Epochs no improvement: 2 WARNING\n"
     ]
    },
    {
     "name": "stdout",
     "output_type": "stream",
     "text": [
      "Training complete: 0:00:43.846461\n",
      "Warning: not using the test data for evaluation, but the training data instead of ../data/raw/summarise_simulation/2024_11_21_160955/tabulated_mutation_info.csv\n",
      "The R2 score is  0.9611861109733582\n",
      "The R2 score with weighted variance is  0.9611861109733582\n"
     ]
    },
    {
     "name": "stderr",
     "output_type": "stream",
     "text": [
      "/tmp/ipykernel_1033092/3832087635.py:40: SettingWithCopyWarning: \n",
      "A value is trying to be set on a copy of a slice from a DataFrame\n",
      "\n",
      "See the caveats in the documentation: https://pandas.pydata.org/pandas-docs/stable/user_guide/indexing.html#returning-a-view-versus-a-copy\n",
      "  df_hpos_main.loc[i] = pd.Series(hpos) if type(\n",
      "train.py:train():187: Epoch 0 / 100 -\t\t Train loss: 0.18350684642791748\tVal loss: 0.08974967151880264\tVal accuracy: 0.33755171298980713 INFO\n",
      "train.py:train():187: Epoch 10 / 100 -\t\t Train loss: 0.007652509491890669\tVal loss: 0.007111189886927605\tVal accuracy: 0.9701501727104187 INFO\n",
      "train.py:train():197: Early stopping triggered after 11 epochs:\n",
      "Train loss: 0.007652509491890669\n",
      "Val loss: 0.007111189886927605\n",
      "Val accuracy: 0.9701501727104187\n",
      "Epochs no improvement: 0 WARNING\n"
     ]
    },
    {
     "name": "stdout",
     "output_type": "stream",
     "text": [
      "Training complete: 0:00:06.779190\n",
      "Warning: not using the test data for evaluation, but the training data instead of ../data/raw/summarise_simulation/2024_11_21_160955/tabulated_mutation_info.csv\n",
      "The R2 score is  0.9511586427688599\n",
      "The R2 score with weighted variance is  0.9511586427688599\n"
     ]
    },
    {
     "name": "stderr",
     "output_type": "stream",
     "text": [
      "/workdir/src/evoscaper/utils/visualise.py:30: UserWarning: Creating legend with loc=\"best\" can be slow with large amounts of data.\n",
      "  plt.tight_layout()\n",
      "/workdir/src/evoscaper/utils/visualise.py:32: UserWarning: Creating legend with loc=\"best\" can be slow with large amounts of data.\n",
      "  plt.savefig(save_path, transparent=True, dpi=300)\n",
      "/tmp/ipykernel_1033092/3832087635.py:40: SettingWithCopyWarning: \n",
      "A value is trying to be set on a copy of a slice from a DataFrame\n",
      "\n",
      "See the caveats in the documentation: https://pandas.pydata.org/pandas-docs/stable/user_guide/indexing.html#returning-a-view-versus-a-copy\n",
      "  df_hpos_main.loc[i] = pd.Series(hpos) if type(\n",
      "train.py:train():187: Epoch 0 / 100 -\t\t Train loss: 0.18350684642791748\tVal loss: 0.08974967151880264\tVal accuracy: 0.33755171298980713 INFO\n",
      "train.py:train():197: Early stopping triggered after 9 epochs:\n",
      "Train loss: 0.010024549439549446\n",
      "Val loss: 0.008795463480055332\n",
      "Val accuracy: 0.930276095867157\n",
      "Epochs no improvement: 0 WARNING\n"
     ]
    },
    {
     "name": "stdout",
     "output_type": "stream",
     "text": [
      "Training complete: 0:00:05.509460\n",
      "Warning: not using the test data for evaluation, but the training data instead of ../data/raw/summarise_simulation/2024_11_21_160955/tabulated_mutation_info.csv\n",
      "The R2 score is  0.9272488951683044\n",
      "The R2 score with weighted variance is  0.9272488951683044\n"
     ]
    },
    {
     "name": "stderr",
     "output_type": "stream",
     "text": [
      "/tmp/ipykernel_1033092/3832087635.py:40: SettingWithCopyWarning: \n",
      "A value is trying to be set on a copy of a slice from a DataFrame\n",
      "\n",
      "See the caveats in the documentation: https://pandas.pydata.org/pandas-docs/stable/user_guide/indexing.html#returning-a-view-versus-a-copy\n",
      "  df_hpos_main.loc[i] = pd.Series(hpos) if type(\n"
     ]
    },
    {
     "name": "stdout",
     "output_type": "stream",
     "text": [
      "Error tokenizing data. C error: Calling read(nbytes) on source failed. Try engine='python'.\n"
     ]
    },
    {
     "name": "stderr",
     "output_type": "stream",
     "text": [
      "/tmp/ipykernel_1033092/3832087635.py:40: SettingWithCopyWarning: \n",
      "A value is trying to be set on a copy of a slice from a DataFrame\n",
      "\n",
      "See the caveats in the documentation: https://pandas.pydata.org/pandas-docs/stable/user_guide/indexing.html#returning-a-view-versus-a-copy\n",
      "  df_hpos_main.loc[i] = pd.Series(hpos) if type(\n",
      "/tmp/ipykernel_1033092/3832087635.py:40: SettingWithCopyWarning: \n",
      "A value is trying to be set on a copy of a slice from a DataFrame\n",
      "\n",
      "See the caveats in the documentation: https://pandas.pydata.org/pandas-docs/stable/user_guide/indexing.html#returning-a-view-versus-a-copy\n",
      "  df_hpos_main.loc[i] = pd.Series(hpos) if type(\n"
     ]
    },
    {
     "name": "stdout",
     "output_type": "stream",
     "text": [
      "Error tokenizing data. C error: Calling read(nbytes) on source failed. Try engine='python'.\n"
     ]
    },
    {
     "name": "stderr",
     "output_type": "stream",
     "text": [
      "/tmp/ipykernel_1033092/3832087635.py:40: SettingWithCopyWarning: \n",
      "A value is trying to be set on a copy of a slice from a DataFrame\n",
      "\n",
      "See the caveats in the documentation: https://pandas.pydata.org/pandas-docs/stable/user_guide/indexing.html#returning-a-view-versus-a-copy\n",
      "  df_hpos_main.loc[i] = pd.Series(hpos) if type(\n"
     ]
    },
    {
     "name": "stdout",
     "output_type": "stream",
     "text": [
      "Error tokenizing data. C error: Calling read(nbytes) on source failed. Try engine='python'.\n",
      "Error tokenizing data. C error: Calling read(nbytes) on source failed. Try engine='python'.\n"
     ]
    },
    {
     "name": "stderr",
     "output_type": "stream",
     "text": [
      "/tmp/ipykernel_1033092/3832087635.py:40: SettingWithCopyWarning: \n",
      "A value is trying to be set on a copy of a slice from a DataFrame\n",
      "\n",
      "See the caveats in the documentation: https://pandas.pydata.org/pandas-docs/stable/user_guide/indexing.html#returning-a-view-versus-a-copy\n",
      "  df_hpos_main.loc[i] = pd.Series(hpos) if type(\n",
      "/tmp/ipykernel_1033092/3832087635.py:40: SettingWithCopyWarning: \n",
      "A value is trying to be set on a copy of a slice from a DataFrame\n",
      "\n",
      "See the caveats in the documentation: https://pandas.pydata.org/pandas-docs/stable/user_guide/indexing.html#returning-a-view-versus-a-copy\n",
      "  df_hpos_main.loc[i] = pd.Series(hpos) if type(\n"
     ]
    },
    {
     "name": "stdout",
     "output_type": "stream",
     "text": [
      "Error tokenizing data. C error: Calling read(nbytes) on source failed. Try engine='python'.\n",
      "Error tokenizing data. C error: Calling read(nbytes) on source failed. Try engine='python'.\n"
     ]
    },
    {
     "name": "stderr",
     "output_type": "stream",
     "text": [
      "/tmp/ipykernel_1033092/3832087635.py:40: SettingWithCopyWarning: \n",
      "A value is trying to be set on a copy of a slice from a DataFrame\n",
      "\n",
      "See the caveats in the documentation: https://pandas.pydata.org/pandas-docs/stable/user_guide/indexing.html#returning-a-view-versus-a-copy\n",
      "  df_hpos_main.loc[i] = pd.Series(hpos) if type(\n",
      "/tmp/ipykernel_1033092/3832087635.py:40: SettingWithCopyWarning: \n",
      "A value is trying to be set on a copy of a slice from a DataFrame\n",
      "\n",
      "See the caveats in the documentation: https://pandas.pydata.org/pandas-docs/stable/user_guide/indexing.html#returning-a-view-versus-a-copy\n",
      "  df_hpos_main.loc[i] = pd.Series(hpos) if type(\n"
     ]
    },
    {
     "name": "stdout",
     "output_type": "stream",
     "text": [
      "Error tokenizing data. C error: Calling read(nbytes) on source failed. Try engine='python'.\n",
      "Error tokenizing data. C error: Calling read(nbytes) on source failed. Try engine='python'.\n"
     ]
    },
    {
     "name": "stderr",
     "output_type": "stream",
     "text": [
      "/tmp/ipykernel_1033092/3832087635.py:40: SettingWithCopyWarning: \n",
      "A value is trying to be set on a copy of a slice from a DataFrame\n",
      "\n",
      "See the caveats in the documentation: https://pandas.pydata.org/pandas-docs/stable/user_guide/indexing.html#returning-a-view-versus-a-copy\n",
      "  df_hpos_main.loc[i] = pd.Series(hpos) if type(\n",
      "/tmp/ipykernel_1033092/3832087635.py:40: SettingWithCopyWarning: \n",
      "A value is trying to be set on a copy of a slice from a DataFrame\n",
      "\n",
      "See the caveats in the documentation: https://pandas.pydata.org/pandas-docs/stable/user_guide/indexing.html#returning-a-view-versus-a-copy\n",
      "  df_hpos_main.loc[i] = pd.Series(hpos) if type(\n"
     ]
    },
    {
     "name": "stdout",
     "output_type": "stream",
     "text": [
      "Error tokenizing data. C error: Calling read(nbytes) on source failed. Try engine='python'.\n"
     ]
    },
    {
     "name": "stderr",
     "output_type": "stream",
     "text": [
      "/tmp/ipykernel_1033092/3832087635.py:40: SettingWithCopyWarning: \n",
      "A value is trying to be set on a copy of a slice from a DataFrame\n",
      "\n",
      "See the caveats in the documentation: https://pandas.pydata.org/pandas-docs/stable/user_guide/indexing.html#returning-a-view-versus-a-copy\n",
      "  df_hpos_main.loc[i] = pd.Series(hpos) if type(\n",
      "/tmp/ipykernel_1033092/3832087635.py:40: SettingWithCopyWarning: \n",
      "A value is trying to be set on a copy of a slice from a DataFrame\n",
      "\n",
      "See the caveats in the documentation: https://pandas.pydata.org/pandas-docs/stable/user_guide/indexing.html#returning-a-view-versus-a-copy\n",
      "  df_hpos_main.loc[i] = pd.Series(hpos) if type(\n"
     ]
    },
    {
     "name": "stdout",
     "output_type": "stream",
     "text": [
      "Error tokenizing data. C error: Calling read(nbytes) on source failed. Try engine='python'.\n"
     ]
    },
    {
     "name": "stderr",
     "output_type": "stream",
     "text": [
      "/tmp/ipykernel_1033092/3832087635.py:40: SettingWithCopyWarning: \n",
      "A value is trying to be set on a copy of a slice from a DataFrame\n",
      "\n",
      "See the caveats in the documentation: https://pandas.pydata.org/pandas-docs/stable/user_guide/indexing.html#returning-a-view-versus-a-copy\n",
      "  df_hpos_main.loc[i] = pd.Series(hpos) if type(\n"
     ]
    },
    {
     "ename": "",
     "evalue": "",
     "output_type": "error",
     "traceback": [
      "\u001b[1;31mCannot execute code, session has been disposed. Please try restarting the Kernel."
     ]
    },
    {
     "ename": "",
     "evalue": "",
     "output_type": "error",
     "traceback": [
      "\u001b[1;31mCannot execute code, session has been disposed. Please try restarting the Kernel. \n",
      "\u001b[1;31mView Jupyter <a href='command:jupyter.viewOutput'>log</a> for further details."
     ]
    }
   ],
   "source": [
    "from bioreaction.misc.misc import load_json_as_dict\n",
    "\n",
    "top_dir = os.path.join('data', '03_cvae_multi', make_datetime_str())\n",
    "os.makedirs(top_dir, exist_ok=True)\n",
    "\n",
    "# df_hpos2 = pd.DataFrame(load_json_as_dict(\n",
    "#     'data/03_cvae_multi/2025_01_15__10_59_22/df_hpos_main.json'))\n",
    "# df_hpos_main = df_hpos.iloc[df_hpos2[df_hpos2['run_successful'].isin(\n",
    "#     [False, 'TO_BE_RECORDED'])].index]\n",
    "df_hpos_main = df_hpos.iloc[111:]\n",
    "for i in range(len(df_hpos_main)):\n",
    "    hpos = df_hpos_main.reset_index().iloc[i]\n",
    "    top_write_dir = os.path.join(top_dir, 'cvae_scan', f'hpo_{hpos[\"index\"]}')\n",
    "    # hpos['use_grad_clipping'] = True\n",
    "    # hpos = cvae_scan(hpos, top_write_dir=top_write_dir)\n",
    "    try:\n",
    "        try:\n",
    "            hpos = cvae_scan(hpos, top_write_dir=top_write_dir)\n",
    "            hpos.loc['run_successful'] = True\n",
    "            hpos.loc['error_msg'] = ''\n",
    "        except Exception as e:\n",
    "            print(e)\n",
    "            if 'nan' in e.lower() and (hpos['use_grad_clipping'] == False):\n",
    "                try:\n",
    "                    hpos['use_grad_clipping'] = True\n",
    "                    hpos = cvae_scan(hpos, top_write_dir=top_write_dir)\n",
    "                    hpos.loc['run_successful'] = True\n",
    "                    hpos.loc['error_msg'] = ''\n",
    "                except Exception as e:\n",
    "                    print(e)\n",
    "                    hpos.loc['run_successful'] = False\n",
    "                    hpos.loc['error_msg'] = str(e)\n",
    "            else:\n",
    "                hpos.loc['run_successful'] = False\n",
    "                hpos.loc['error_msg'] = str(e)\n",
    "    except:\n",
    "        hpos.loc['run_successful'] = False\n",
    "        hpos.loc['error_msg'] = 'sys exit'\n",
    "\n",
    "    df_hpos_main.iloc[i] = pd.Series(hpos) if type(\n",
    "        hpos) == dict else hpos.drop('index')\n",
    "    # df_hpos_main.loc[i] = pd.DataFrame.from_dict(hpos).drop('index')\n",
    "    if not os.path.exists(top_dir):\n",
    "        os.makedirs(top_dir)\n",
    "    df_hpos_main.to_csv(os.path.join(top_dir, 'df_hpos_main.csv'))\n",
    "    write_json(df_hpos_main.to_dict(), os.path.join(\n",
    "        top_dir, 'df_hpos_main.json'), overwrite=True)"
   ]
  },
  {
   "cell_type": "code",
   "execution_count": null,
   "metadata": {},
   "outputs": [],
   "source": []
  }
 ],
 "metadata": {
  "kernelspec": {
   "display_name": "Python 3",
   "language": "python",
   "name": "python3"
  },
  "language_info": {
   "codemirror_mode": {
    "name": "ipython",
    "version": 3
   },
   "file_extension": ".py",
   "mimetype": "text/x-python",
   "name": "python",
   "nbconvert_exporter": "python",
   "pygments_lexer": "ipython3",
   "version": "3.10.12"
  }
 },
 "nbformat": 4,
 "nbformat_minor": 2
}
