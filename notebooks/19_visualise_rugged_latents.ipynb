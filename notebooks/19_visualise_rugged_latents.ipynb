{
 "cells": [
  {
   "cell_type": "code",
   "execution_count": 1,
   "id": "2c2a60e8",
   "metadata": {},
   "outputs": [],
   "source": [
    "%load_ext autoreload\n",
    "%autoreload 2"
   ]
  },
  {
   "cell_type": "markdown",
   "id": "bd2976a7",
   "metadata": {},
   "source": [
    "# Visualise the 2 circuits for ruggedness"
   ]
  },
  {
   "cell_type": "code",
   "execution_count": 13,
   "id": "ce97e0fa",
   "metadata": {},
   "outputs": [],
   "source": [
    "import os\n",
    "import numpy as np\n",
    "import seaborn as sns\n",
    "from synbio_morpher.utils.data.data_format_tools.common import load_json_as_dict\n"
   ]
  },
  {
   "cell_type": "code",
   "execution_count": 23,
   "id": "5b6deb9c",
   "metadata": {},
   "outputs": [],
   "source": [
    "dir_rugg = 'data/ruggedness/2025_07_01__10_26_40'\n",
    "\n",
    "ys = np.load(os.path.join(dir_rugg, 'batch_0', 'ys.npy'))\n",
    "ts = np.load(os.path.join(dir_rugg, 'batch_0', 'ts.npy'))\n",
    "config = load_json_as_dict(os.path.join(dir_rugg, 'config.json'))"
   ]
  },
  {
   "cell_type": "code",
   "execution_count": null,
   "id": "21e810f2",
   "metadata": {},
   "outputs": [],
   "source": [
    "resimulate_analytics = config.get('resimulate_analytics', False)\n",
    "n_samples = 2\n",
    "n_perturbs = ys.shape[0] // n_samples\n",
    "idx_output = -1\n",
    "ys = ys.reshape(n_samples, n_perturbs, ys.shape[-2], ys.shape[-1])"
   ]
  },
  {
   "cell_type": "code",
   "execution_count": 25,
   "id": "5118ed19",
   "metadata": {},
   "outputs": [
    {
     "data": {
      "text/plain": [
       "<Axes: >"
      ]
     },
     "execution_count": 25,
     "metadata": {},
     "output_type": "execute_result"
    },
    {
     "data": {
      "image/png": "[encoded data removed]",
      "text/plain": [
       "<Figure size 640x480 with 1 Axes>"
      ]
     },
     "metadata": {},
     "output_type": "display_data"
    }
   ],
   "source": [
    "sns.lineplot(ys.reshape(n_perturbs, n_samples, ys.shape[-2], ys.shape[-1])[8, 0, :, -1])"
   ]
  },
  {
   "cell_type": "code",
   "execution_count": null,
   "id": "c774f8a7",
   "metadata": {},
   "outputs": [],
   "source": [
    "fig, axs = sns.subplots(n_samples, 1, figsize=(10, 5 * n_samples), sharex=True)\n",
    "\n",
    "for i_samp in range(n_samples):\n",
    "    ys_p = ys[i_samp, :, :, idx_output]\n",
    "    \n",
    "    for crugg in range(n_perturbs):\n",
    "        ip = i + crugg\n",
    "        ys_p = ys[:, :ys.shape[1]//3, idxs_output]\n",
    "        ys_p = np.interp(ys_p[ip], (0, ys_p[ip].max()), (0, 1))\n",
    "        # ys_p = ys_p[ip] # / ys_p[0]   # (ys_p - ys_p.min()) / (ys_p - ys_p.min()).max(),\n",
    "        sns.lineplot(ys_p,\n",
    "                     ax=ax, alpha=1 if crugg == 0 else 0.3,\n",
    "                     linestyle=('--' if np.mod(crugg, 2) == 0 else 'dotted') if crugg > 0 else '-',\n",
    "                     color='b' if crugg == 0 else 'r')\n",
    "        \n",
    "    ys_p = np.interp(ys_p[ip], (0, ys_p[ip].max()), (0, 1))\n",
    "    \n",
    "    sns.lineplot()\n",
    "    \n",
    "    ip = np.argsort(ts_p)\n",
    "    ts = ts_p[ip]\n",
    "sns.lineplot(x=ts)"
   ]
  }
 ],
 "metadata": {
  "kernelspec": {
   "display_name": "Python 3",
   "language": "python",
   "name": "python3"
  },
  "language_info": {
   "codemirror_mode": {
    "name": "ipython",
    "version": 3
   },
   "file_extension": ".py",
   "mimetype": "text/x-python",
   "name": "python",
   "nbconvert_exporter": "python",
   "pygments_lexer": "ipython3",
   "version": "3.10.12"
  }
 },
 "nbformat": 4,
 "nbformat_minor": 5
}
