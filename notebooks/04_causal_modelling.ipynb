{
 "cells": [
  {
   "cell_type": "code",
   "execution_count": 1,
   "metadata": {},
   "outputs": [],
   "source": [
    "%load_ext autoreload\n",
    "%autoreload 2"
   ]
  },
  {
   "cell_type": "markdown",
   "metadata": {},
   "source": [
    "# Experimenting with causal modelling"
   ]
  },
  {
   "cell_type": "code",
   "execution_count": 2,
   "metadata": {},
   "outputs": [],
   "source": [
    "import numpy as np"
   ]
  },
  {
   "cell_type": "code",
   "execution_count": null,
   "metadata": {},
   "outputs": [],
   "source": [
    "n_species_unbound = 4\n",
    "n_species_bound = np.sum(np.arange(1, n_species_unbound+1))\n",
    "n_species = n_species_unbound + n_species_bound\n",
    "n_reactions = n_species_bound\n",
    "\n",
    "forward_rates = np.ones(n_reactions) * 0.5\n",
    "reverse_rates = np.random.rand(n_reactions)"
   ]
  },
  {
   "cell_type": "code",
   "execution_count": 11,
   "metadata": {},
   "outputs": [
    {
     "ename": "ModuleNotFoundError",
     "evalue": "No module named 'cdt'",
     "output_type": "error",
     "traceback": [
      "\u001b[0;31m---------------------------------------------------------------------------\u001b[0m",
      "\u001b[0;31mModuleNotFoundError\u001b[0m                       Traceback (most recent call last)",
      "\u001b[1;32m/Users/oliviagallup/Desktop/Kode/Oxford/DPhil/EvoScaper/notebooks/04_causal_modelling.ipynb Cell 5\u001b[0m line \u001b[0;36m1\n\u001b[0;32m----> <a href='vscode-notebook-cell:/Users/oliviagallup/Desktop/Kode/Oxford/DPhil/EvoScaper/notebooks/04_causal_modelling.ipynb#X11sZmlsZQ%3D%3D?line=0'>1</a>\u001b[0m \u001b[39mimport\u001b[39;00m \u001b[39mcdt\u001b[39;00m\n",
      "\u001b[0;31mModuleNotFoundError\u001b[0m: No module named 'cdt'"
     ]
    }
   ],
   "source": [
    "import cdt"
   ]
  },
  {
   "cell_type": "code",
   "execution_count": 10,
   "metadata": {},
   "outputs": [
    {
     "name": "stderr",
     "output_type": "stream",
     "text": [
      "/var/folders/89/b14m_l9d4h58lnx67_8_2p440000gn/T/ipykernel_19135/143440746.py:4: DeprecationWarning: adj_matrix is deprecated and will be removed in version 3.0.\n",
      "Use `adjacency_matrix` instead\n",
      "\n",
      "  a = nx.adj_matrix(g).todense()  # Output the adjacency matrix of the graph\n",
      "/Users/oliviagallup/Desktop/Kode/Oxford/DPhil/EvoScaper/.venv/lib/python3.11/site-packages/networkx/linalg/graphmatrix.py:187: FutureWarning: adjacency_matrix will return a scipy.sparse array instead of a matrix in Networkx 3.0.\n",
      "  return adjacency_matrix(G, nodelist, dtype, weight)\n"
     ]
    },
    {
     "ename": "NetworkXError",
     "evalue": "Graph has no nodes or edges",
     "output_type": "error",
     "traceback": [
      "\u001b[0;31m---------------------------------------------------------------------------\u001b[0m",
      "\u001b[0;31mNetworkXError\u001b[0m                             Traceback (most recent call last)",
      "\u001b[1;32m/Users/oliviagallup/Desktop/Kode/Oxford/DPhil/EvoScaper/notebooks/04_causal_modelling.ipynb Cell 5\u001b[0m line \u001b[0;36m4\n\u001b[1;32m      <a href='vscode-notebook-cell:/Users/oliviagallup/Desktop/Kode/Oxford/DPhil/EvoScaper/notebooks/04_causal_modelling.ipynb#W6sZmlsZQ%3D%3D?line=1'>2</a>\u001b[0m g \u001b[39m=\u001b[39m nx\u001b[39m.\u001b[39mDiGraph()  \u001b[39m# initialize a directed graph\u001b[39;00m\n\u001b[1;32m      <a href='vscode-notebook-cell:/Users/oliviagallup/Desktop/Kode/Oxford/DPhil/EvoScaper/notebooks/04_causal_modelling.ipynb#W6sZmlsZQ%3D%3D?line=2'>3</a>\u001b[0m l \u001b[39m=\u001b[39m \u001b[39mlist\u001b[39m(g\u001b[39m.\u001b[39mnodes())  \u001b[39m# list of nodes in the graph\u001b[39;00m\n\u001b[0;32m----> <a href='vscode-notebook-cell:/Users/oliviagallup/Desktop/Kode/Oxford/DPhil/EvoScaper/notebooks/04_causal_modelling.ipynb#W6sZmlsZQ%3D%3D?line=3'>4</a>\u001b[0m a \u001b[39m=\u001b[39m nx\u001b[39m.\u001b[39;49madj_matrix(g)\u001b[39m.\u001b[39mtodense()  \u001b[39m# Output the adjacency matrix of the graph\u001b[39;00m\n\u001b[1;32m      <a href='vscode-notebook-cell:/Users/oliviagallup/Desktop/Kode/Oxford/DPhil/EvoScaper/notebooks/04_causal_modelling.ipynb#W6sZmlsZQ%3D%3D?line=4'>5</a>\u001b[0m e \u001b[39m=\u001b[39m \u001b[39mlist\u001b[39m(g\u001b[39m.\u001b[39medges())  \u001b[39m# list of edges in the graph\u001b[39;00m\n",
      "File \u001b[0;32m~/Desktop/Kode/Oxford/DPhil/EvoScaper/.venv/lib/python3.11/site-packages/networkx/linalg/graphmatrix.py:187\u001b[0m, in \u001b[0;36m_adj_matrix_warning\u001b[0;34m(G, nodelist, dtype, weight)\u001b[0m\n\u001b[1;32m    177\u001b[0m \u001b[39mimport\u001b[39;00m \u001b[39mwarnings\u001b[39;00m\n\u001b[1;32m    179\u001b[0m warnings\u001b[39m.\u001b[39mwarn(\n\u001b[1;32m    180\u001b[0m     (\n\u001b[1;32m    181\u001b[0m         \u001b[39m\"\u001b[39m\u001b[39madj_matrix is deprecated and will be removed in version 3.0.\u001b[39m\u001b[39m\\n\u001b[39;00m\u001b[39m\"\u001b[39m\n\u001b[0;32m   (...)\u001b[0m\n\u001b[1;32m    185\u001b[0m     stacklevel\u001b[39m=\u001b[39m\u001b[39m2\u001b[39m,\n\u001b[1;32m    186\u001b[0m )\n\u001b[0;32m--> 187\u001b[0m \u001b[39mreturn\u001b[39;00m adjacency_matrix(G, nodelist, dtype, weight)\n",
      "File \u001b[0;32m~/Desktop/Kode/Oxford/DPhil/EvoScaper/.venv/lib/python3.11/site-packages/networkx/linalg/graphmatrix.py:173\u001b[0m, in \u001b[0;36madjacency_matrix\u001b[0;34m(G, nodelist, dtype, weight)\u001b[0m\n\u001b[1;32m    167\u001b[0m warnings\u001b[39m.\u001b[39mwarn(\n\u001b[1;32m    168\u001b[0m     \u001b[39m\"\u001b[39m\u001b[39madjacency_matrix will return a scipy.sparse array instead of a matrix in Networkx 3.0.\u001b[39m\u001b[39m\"\u001b[39m,\n\u001b[1;32m    169\u001b[0m     \u001b[39mFutureWarning\u001b[39;00m,\n\u001b[1;32m    170\u001b[0m     stacklevel\u001b[39m=\u001b[39m\u001b[39m2\u001b[39m,\n\u001b[1;32m    171\u001b[0m )\n\u001b[1;32m    172\u001b[0m \u001b[39m# TODO: Change to `to_scipy_sparse_array` for networkx 3.0\u001b[39;00m\n\u001b[0;32m--> 173\u001b[0m \u001b[39mreturn\u001b[39;00m nx\u001b[39m.\u001b[39;49mto_scipy_sparse_matrix(G, nodelist\u001b[39m=\u001b[39;49mnodelist, dtype\u001b[39m=\u001b[39;49mdtype, weight\u001b[39m=\u001b[39;49mweight)\n",
      "File \u001b[0;32m~/Desktop/Kode/Oxford/DPhil/EvoScaper/.venv/lib/python3.11/site-packages/networkx/convert_matrix.py:1021\u001b[0m, in \u001b[0;36mto_scipy_sparse_matrix\u001b[0;34m(G, nodelist, dtype, weight, format)\u001b[0m\n\u001b[1;32m   1011\u001b[0m \u001b[39mimport\u001b[39;00m \u001b[39mscipy\u001b[39;00m\u001b[39m.\u001b[39;00m\u001b[39msparse\u001b[39;00m\n\u001b[1;32m   1013\u001b[0m warnings\u001b[39m.\u001b[39mwarn(\n\u001b[1;32m   1014\u001b[0m     (\n\u001b[1;32m   1015\u001b[0m         \u001b[39m\"\u001b[39m\u001b[39m\\n\u001b[39;00m\u001b[39m\\n\u001b[39;00m\u001b[39mThe scipy.sparse array containers will be used instead of matrices\u001b[39m\u001b[39m\\n\u001b[39;00m\u001b[39m\"\u001b[39m\n\u001b[0;32m   (...)\u001b[0m\n\u001b[1;32m   1019\u001b[0m     stacklevel\u001b[39m=\u001b[39m\u001b[39m2\u001b[39m,\n\u001b[1;32m   1020\u001b[0m )\n\u001b[0;32m-> 1021\u001b[0m A \u001b[39m=\u001b[39m to_scipy_sparse_array(\n\u001b[1;32m   1022\u001b[0m     G, nodelist\u001b[39m=\u001b[39;49mnodelist, dtype\u001b[39m=\u001b[39;49mdtype, weight\u001b[39m=\u001b[39;49mweight, \u001b[39mformat\u001b[39;49m\u001b[39m=\u001b[39;49m\u001b[39mformat\u001b[39;49m\n\u001b[1;32m   1023\u001b[0m )\n\u001b[1;32m   1024\u001b[0m \u001b[39mreturn\u001b[39;00m sp\u001b[39m.\u001b[39msparse\u001b[39m.\u001b[39mcsr_matrix(A)\u001b[39m.\u001b[39masformat(\u001b[39mformat\u001b[39m)\n",
      "File \u001b[0;32m~/Desktop/Kode/Oxford/DPhil/EvoScaper/.venv/lib/python3.11/site-packages/networkx/convert_matrix.py:880\u001b[0m, in \u001b[0;36mto_scipy_sparse_array\u001b[0;34m(G, nodelist, dtype, weight, format)\u001b[0m\n\u001b[1;32m    877\u001b[0m \u001b[39mimport\u001b[39;00m \u001b[39mscipy\u001b[39;00m\u001b[39m.\u001b[39;00m\u001b[39msparse\u001b[39;00m  \u001b[39m# call as sp.sparse\u001b[39;00m\n\u001b[1;32m    879\u001b[0m \u001b[39mif\u001b[39;00m \u001b[39mlen\u001b[39m(G) \u001b[39m==\u001b[39m \u001b[39m0\u001b[39m:\n\u001b[0;32m--> 880\u001b[0m     \u001b[39mraise\u001b[39;00m nx\u001b[39m.\u001b[39mNetworkXError(\u001b[39m\"\u001b[39m\u001b[39mGraph has no nodes or edges\u001b[39m\u001b[39m\"\u001b[39m)\n\u001b[1;32m    882\u001b[0m \u001b[39mif\u001b[39;00m nodelist \u001b[39mis\u001b[39;00m \u001b[39mNone\u001b[39;00m:\n\u001b[1;32m    883\u001b[0m     nodelist \u001b[39m=\u001b[39m \u001b[39mlist\u001b[39m(G)\n",
      "\u001b[0;31mNetworkXError\u001b[0m: Graph has no nodes or edges"
     ]
    }
   ],
   "source": [
    "import networkx as nx\n",
    "g = nx.DiGraph()  # initialize a directed graph\n",
    "l = list(g.nodes())  # list of nodes in the graph\n",
    "a = nx.adj_matrix(g).todense()  # Output the adjacency matrix of the graph\n",
    "e = list(g.edges())  # list of edges in the graph"
   ]
  },
  {
   "cell_type": "code",
   "execution_count": null,
   "metadata": {},
   "outputs": [],
   "source": []
  }
 ],
 "metadata": {
  "kernelspec": {
   "display_name": ".venv",
   "language": "python",
   "name": "python3"
  },
  "language_info": {
   "codemirror_mode": {
    "name": "ipython",
    "version": 3
   },
   "file_extension": ".py",
   "mimetype": "text/x-python",
   "name": "python",
   "nbconvert_exporter": "python",
   "pygments_lexer": "ipython3",
   "version": "3.11.0"
  },
  "orig_nbformat": 4
 },
 "nbformat": 4,
 "nbformat_minor": 2
}
