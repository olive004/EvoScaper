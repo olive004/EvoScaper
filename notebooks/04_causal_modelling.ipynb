{
 "cells": [
  {
   "cell_type": "code",
<<<<<<< HEAD
   "execution_count": 1,
   "metadata": {},
   "outputs": [],
=======
   "execution_count": 5,
   "metadata": {},
   "outputs": [
    {
     "name": "stdout",
     "output_type": "stream",
     "text": [
      "The autoreload extension is already loaded. To reload it, use:\n",
      "  %reload_ext autoreload\n"
     ]
    }
   ],
>>>>>>> 8ae58c3c23bd89eb313ca5458cdecbaf8decc8c2
   "source": [
    "%load_ext autoreload\n",
    "%autoreload 2"
   ]
  },
  {
   "cell_type": "markdown",
   "metadata": {},
   "source": [
<<<<<<< HEAD
    "# Experimenting with causal modelling"
=======
    "# Causality "
>>>>>>> 8ae58c3c23bd89eb313ca5458cdecbaf8decc8c2
   ]
  },
  {
   "cell_type": "code",
<<<<<<< HEAD
   "execution_count": 2,
   "metadata": {},
   "outputs": [],
   "source": [
    "import numpy as np"
=======
   "execution_count": 6,
   "metadata": {},
   "outputs": [],
   "source": [
    "import numpy as np\n",
    "import networkx as nx\n",
    "import cdt"
>>>>>>> 8ae58c3c23bd89eb313ca5458cdecbaf8decc8c2
   ]
  },
  {
   "cell_type": "code",
<<<<<<< HEAD
   "execution_count": null,
   "metadata": {},
   "outputs": [],
   "source": [
    "n_species_unbound = 4\n",
    "n_species_bound = np.sum(np.arange(1, n_species_unbound+1))\n",
    "n_species = n_species_unbound + n_species_bound\n",
    "n_reactions = n_species_bound\n",
    "\n",
    "forward_rates = np.ones(n_reactions) * 0.5\n",
    "reverse_rates = np.random.rand(n_reactions)"
=======
   "execution_count": 7,
   "metadata": {},
   "outputs": [
    {
     "name": "stdout",
     "output_type": "stream",
     "text": [
      "   praf  pmek   plcg   PIP2   PIP3  p44/42  pakts473    PKA    PKC   P38  pjnk\n",
      "0  26.4  13.2   8.82  18.30  58.80    6.61      17.0  414.0  17.00  44.9  40.0\n",
      "1  35.9  16.5  12.30  16.80   8.13   18.60      32.5  352.0   3.37  16.5  61.5\n",
      "2  59.4  44.1  14.60  10.20  13.00   14.90      32.5  403.0  11.40  31.9  19.5\n",
      "3  73.0  82.8  23.10  13.50   1.29    5.83      11.8  528.0  13.70  28.6  23.1\n",
      "4  33.7  19.8   5.19   9.73  24.80   21.10      46.1  305.0   4.66  25.7  81.3\n"
     ]
    }
   ],
   "source": [
    "\n",
    "data, graph = cdt.data.load_dataset('sachs')\n",
    "print(data.head())"
>>>>>>> 8ae58c3c23bd89eb313ca5458cdecbaf8decc8c2
   ]
  },
  {
   "cell_type": "code",
<<<<<<< HEAD
   "execution_count": 11,
   "metadata": {},
   "outputs": [
    {
     "ename": "ModuleNotFoundError",
     "evalue": "No module named 'cdt'",
     "output_type": "error",
     "traceback": [
      "\u001b[0;31m---------------------------------------------------------------------------\u001b[0m",
      "\u001b[0;31mModuleNotFoundError\u001b[0m                       Traceback (most recent call last)",
      "\u001b[1;32m/Users/oliviagallup/Desktop/Kode/Oxford/DPhil/EvoScaper/notebooks/04_causal_modelling.ipynb Cell 5\u001b[0m line \u001b[0;36m1\n\u001b[0;32m----> <a href='vscode-notebook-cell:/Users/oliviagallup/Desktop/Kode/Oxford/DPhil/EvoScaper/notebooks/04_causal_modelling.ipynb#X11sZmlsZQ%3D%3D?line=0'>1</a>\u001b[0m \u001b[39mimport\u001b[39;00m \u001b[39mcdt\u001b[39;00m\n",
      "\u001b[0;31mModuleNotFoundError\u001b[0m: No module named 'cdt'"
=======
   "execution_count": 8,
   "metadata": {},
   "outputs": [
    {
     "name": "stdout",
     "output_type": "stream",
     "text": [
      "DiGraph with 11 nodes and 121 edges\n"
>>>>>>> 8ae58c3c23bd89eb313ca5458cdecbaf8decc8c2
     ]
    }
   ],
   "source": [
<<<<<<< HEAD
    "import cdt"
=======
    "glasso = cdt.independence.graph.Glasso()\n",
    "skeleton = glasso.predict(data)\n",
    "print(skeleton)"
   ]
  },
  {
   "cell_type": "code",
   "execution_count": 9,
   "metadata": {},
   "outputs": [
    {
     "name": "stdout",
     "output_type": "stream",
     "text": [
      "[[ 9.26744031e-04 -6.13751618e-04  1.66612981e-05 -1.10912131e-06\n",
      "  -3.04172363e-05 -9.71526466e-05  7.00340545e-05 -1.93863471e-06\n",
      "  -7.31774543e-06  2.29788237e-06  8.31264711e-06]\n",
      " [-6.13751618e-04  4.14978956e-04 -1.37962487e-05  1.42164753e-06\n",
      "   2.04443539e-05  8.24208108e-05 -5.63238668e-05  1.62688021e-06\n",
      "   8.63444133e-06 -2.88779755e-06 -4.69605195e-06]\n",
      " [ 1.66612981e-05 -1.37962487e-05  2.60824802e-04 -1.35895911e-04\n",
      "   8.78979413e-05  2.17234579e-05 -2.07856535e-05  1.23313600e-06\n",
      "   2.12954874e-05 -3.22869246e-06 -7.47522248e-06]\n",
      " [-1.10912131e-06  1.42164753e-06 -1.35895911e-04  8.68622146e-05\n",
      "  -7.05405720e-05  3.08709259e-06 -2.60810094e-06  9.09261370e-09\n",
      "  -6.25320515e-06  2.56399675e-07  2.85201875e-07]\n",
      " [-3.04172363e-05  2.04443539e-05  8.78979413e-05 -7.05405720e-05\n",
      "   6.09681818e-04 -9.91703900e-06  1.78188074e-05 -5.97491176e-07\n",
      "   6.11896719e-06 -4.30918870e-07  5.79322379e-06]\n",
      " [-9.71526466e-05  8.24208108e-05  2.17234579e-05  3.08709259e-06\n",
      "  -9.91703900e-06  1.10860610e-03 -3.08483289e-04 -1.30867663e-05\n",
      "  -3.31258890e-05  7.76132824e-06  2.10416319e-05]\n",
      " [ 7.00340545e-05 -5.63238668e-05 -2.07856535e-05 -2.60810094e-06\n",
      "   1.78188074e-05 -3.08483289e-04  1.66144775e-04  1.26667898e-06\n",
      "   3.11407736e-05 -7.29116898e-06 -1.86454298e-05]\n",
      " [-1.93863471e-06  1.62688021e-06  1.23313600e-06  9.09261370e-09\n",
      "  -5.97491176e-07 -1.30867663e-05  1.26667898e-06  2.80073467e-06\n",
      "  -3.78879972e-06  8.67580852e-07  6.92379671e-07]\n",
      " [-7.31774543e-06  8.63444133e-06  2.12954874e-05 -6.25320515e-06\n",
      "   6.11896719e-06 -3.31258890e-05  3.11407736e-05 -3.78879972e-06\n",
      "   1.59642510e-03 -2.58155157e-04 -1.01767664e-04]\n",
      " [ 2.29788237e-06 -2.88779755e-06 -3.22869246e-06  2.56399675e-07\n",
      "  -4.30918870e-07  7.76132824e-06 -7.29116898e-06  8.67580852e-07\n",
      "  -2.58155157e-04  5.32997159e-05 -3.35285721e-06]\n",
      " [ 8.31264711e-06 -4.69605195e-06 -7.47522248e-06  2.85201875e-07\n",
      "   5.79322379e-06  2.10416319e-05 -1.86454298e-05  6.92379671e-07\n",
      "  -1.01767664e-04 -3.35285721e-06  7.05796078e-05]]\n",
      "[[9.26744031e-04 0.00000000e+00 1.66612981e-05 0.00000000e+00\n",
      "  0.00000000e+00 0.00000000e+00 7.00340545e-05 0.00000000e+00\n",
      "  0.00000000e+00 2.29788237e-06 8.31264711e-06]\n",
      " [0.00000000e+00 4.14978956e-04 0.00000000e+00 0.00000000e+00\n",
      "  2.04443539e-05 8.24208108e-05 0.00000000e+00 1.62688021e-06\n",
      "  8.63444133e-06 0.00000000e+00 0.00000000e+00]\n",
      " [1.66612981e-05 0.00000000e+00 2.60824802e-04 0.00000000e+00\n",
      "  8.78979413e-05 2.17234579e-05 0.00000000e+00 1.23313600e-06\n",
      "  2.12954874e-05 0.00000000e+00 0.00000000e+00]\n",
      " [0.00000000e+00 0.00000000e+00 0.00000000e+00 8.68622146e-05\n",
      "  0.00000000e+00 3.08709259e-06 0.00000000e+00 9.09261370e-09\n",
      "  0.00000000e+00 0.00000000e+00 0.00000000e+00]\n",
      " [0.00000000e+00 2.04443539e-05 8.78979413e-05 0.00000000e+00\n",
      "  6.09681818e-04 0.00000000e+00 1.78188074e-05 0.00000000e+00\n",
      "  0.00000000e+00 0.00000000e+00 5.79322379e-06]\n",
      " [0.00000000e+00 8.24208108e-05 2.17234579e-05 3.08709259e-06\n",
      "  0.00000000e+00 1.10860610e-03 0.00000000e+00 0.00000000e+00\n",
      "  0.00000000e+00 7.76132824e-06 2.10416319e-05]\n",
      " [7.00340545e-05 0.00000000e+00 0.00000000e+00 0.00000000e+00\n",
      "  1.78188074e-05 0.00000000e+00 1.66144775e-04 1.26667898e-06\n",
      "  3.11407736e-05 0.00000000e+00 0.00000000e+00]\n",
      " [0.00000000e+00 1.62688021e-06 1.23313600e-06 9.09261370e-09\n",
      "  0.00000000e+00 0.00000000e+00 1.26667898e-06 2.80073467e-06\n",
      "  0.00000000e+00 8.67580852e-07 6.92379671e-07]\n",
      " [0.00000000e+00 8.63444133e-06 2.12954874e-05 0.00000000e+00\n",
      "  0.00000000e+00 0.00000000e+00 3.11407736e-05 0.00000000e+00\n",
      "  1.59642510e-03 0.00000000e+00 0.00000000e+00]\n",
      " [2.29788237e-06 0.00000000e+00 0.00000000e+00 0.00000000e+00\n",
      "  0.00000000e+00 7.76132824e-06 0.00000000e+00 8.67580852e-07\n",
      "  0.00000000e+00 5.32997159e-05 0.00000000e+00]\n",
      " [8.31264711e-06 0.00000000e+00 0.00000000e+00 0.00000000e+00\n",
      "  5.79322379e-06 2.10416319e-05 0.00000000e+00 6.92379671e-07\n",
      "  0.00000000e+00 0.00000000e+00 7.05796078e-05]]\n"
     ]
    }
   ],
   "source": [
    "print(nx.adjacency_matrix(skeleton).todense())\n",
    "new_skeleton = cdt.utils.graph.remove_indirect_links(skeleton, alg='aracne')\n",
    "print(nx.adjacency_matrix(new_skeleton).todense())"
>>>>>>> 8ae58c3c23bd89eb313ca5458cdecbaf8decc8c2
   ]
  },
  {
   "cell_type": "code",
   "execution_count": 10,
   "metadata": {},
   "outputs": [
    {
<<<<<<< HEAD
     "name": "stderr",
     "output_type": "stream",
     "text": [
      "/var/folders/89/b14m_l9d4h58lnx67_8_2p440000gn/T/ipykernel_19135/143440746.py:4: DeprecationWarning: adj_matrix is deprecated and will be removed in version 3.0.\n",
      "Use `adjacency_matrix` instead\n",
      "\n",
      "  a = nx.adj_matrix(g).todense()  # Output the adjacency matrix of the graph\n",
      "/Users/oliviagallup/Desktop/Kode/Oxford/DPhil/EvoScaper/.venv/lib/python3.11/site-packages/networkx/linalg/graphmatrix.py:187: FutureWarning: adjacency_matrix will return a scipy.sparse array instead of a matrix in Networkx 3.0.\n",
      "  return adjacency_matrix(G, nodelist, dtype, weight)\n"
     ]
    },
    {
     "ename": "NetworkXError",
     "evalue": "Graph has no nodes or edges",
     "output_type": "error",
     "traceback": [
      "\u001b[0;31m---------------------------------------------------------------------------\u001b[0m",
      "\u001b[0;31mNetworkXError\u001b[0m                             Traceback (most recent call last)",
      "\u001b[1;32m/Users/oliviagallup/Desktop/Kode/Oxford/DPhil/EvoScaper/notebooks/04_causal_modelling.ipynb Cell 5\u001b[0m line \u001b[0;36m4\n\u001b[1;32m      <a href='vscode-notebook-cell:/Users/oliviagallup/Desktop/Kode/Oxford/DPhil/EvoScaper/notebooks/04_causal_modelling.ipynb#W6sZmlsZQ%3D%3D?line=1'>2</a>\u001b[0m g \u001b[39m=\u001b[39m nx\u001b[39m.\u001b[39mDiGraph()  \u001b[39m# initialize a directed graph\u001b[39;00m\n\u001b[1;32m      <a href='vscode-notebook-cell:/Users/oliviagallup/Desktop/Kode/Oxford/DPhil/EvoScaper/notebooks/04_causal_modelling.ipynb#W6sZmlsZQ%3D%3D?line=2'>3</a>\u001b[0m l \u001b[39m=\u001b[39m \u001b[39mlist\u001b[39m(g\u001b[39m.\u001b[39mnodes())  \u001b[39m# list of nodes in the graph\u001b[39;00m\n\u001b[0;32m----> <a href='vscode-notebook-cell:/Users/oliviagallup/Desktop/Kode/Oxford/DPhil/EvoScaper/notebooks/04_causal_modelling.ipynb#W6sZmlsZQ%3D%3D?line=3'>4</a>\u001b[0m a \u001b[39m=\u001b[39m nx\u001b[39m.\u001b[39;49madj_matrix(g)\u001b[39m.\u001b[39mtodense()  \u001b[39m# Output the adjacency matrix of the graph\u001b[39;00m\n\u001b[1;32m      <a href='vscode-notebook-cell:/Users/oliviagallup/Desktop/Kode/Oxford/DPhil/EvoScaper/notebooks/04_causal_modelling.ipynb#W6sZmlsZQ%3D%3D?line=4'>5</a>\u001b[0m e \u001b[39m=\u001b[39m \u001b[39mlist\u001b[39m(g\u001b[39m.\u001b[39medges())  \u001b[39m# list of edges in the graph\u001b[39;00m\n",
      "File \u001b[0;32m~/Desktop/Kode/Oxford/DPhil/EvoScaper/.venv/lib/python3.11/site-packages/networkx/linalg/graphmatrix.py:187\u001b[0m, in \u001b[0;36m_adj_matrix_warning\u001b[0;34m(G, nodelist, dtype, weight)\u001b[0m\n\u001b[1;32m    177\u001b[0m \u001b[39mimport\u001b[39;00m \u001b[39mwarnings\u001b[39;00m\n\u001b[1;32m    179\u001b[0m warnings\u001b[39m.\u001b[39mwarn(\n\u001b[1;32m    180\u001b[0m     (\n\u001b[1;32m    181\u001b[0m         \u001b[39m\"\u001b[39m\u001b[39madj_matrix is deprecated and will be removed in version 3.0.\u001b[39m\u001b[39m\\n\u001b[39;00m\u001b[39m\"\u001b[39m\n\u001b[0;32m   (...)\u001b[0m\n\u001b[1;32m    185\u001b[0m     stacklevel\u001b[39m=\u001b[39m\u001b[39m2\u001b[39m,\n\u001b[1;32m    186\u001b[0m )\n\u001b[0;32m--> 187\u001b[0m \u001b[39mreturn\u001b[39;00m adjacency_matrix(G, nodelist, dtype, weight)\n",
      "File \u001b[0;32m~/Desktop/Kode/Oxford/DPhil/EvoScaper/.venv/lib/python3.11/site-packages/networkx/linalg/graphmatrix.py:173\u001b[0m, in \u001b[0;36madjacency_matrix\u001b[0;34m(G, nodelist, dtype, weight)\u001b[0m\n\u001b[1;32m    167\u001b[0m warnings\u001b[39m.\u001b[39mwarn(\n\u001b[1;32m    168\u001b[0m     \u001b[39m\"\u001b[39m\u001b[39madjacency_matrix will return a scipy.sparse array instead of a matrix in Networkx 3.0.\u001b[39m\u001b[39m\"\u001b[39m,\n\u001b[1;32m    169\u001b[0m     \u001b[39mFutureWarning\u001b[39;00m,\n\u001b[1;32m    170\u001b[0m     stacklevel\u001b[39m=\u001b[39m\u001b[39m2\u001b[39m,\n\u001b[1;32m    171\u001b[0m )\n\u001b[1;32m    172\u001b[0m \u001b[39m# TODO: Change to `to_scipy_sparse_array` for networkx 3.0\u001b[39;00m\n\u001b[0;32m--> 173\u001b[0m \u001b[39mreturn\u001b[39;00m nx\u001b[39m.\u001b[39;49mto_scipy_sparse_matrix(G, nodelist\u001b[39m=\u001b[39;49mnodelist, dtype\u001b[39m=\u001b[39;49mdtype, weight\u001b[39m=\u001b[39;49mweight)\n",
      "File \u001b[0;32m~/Desktop/Kode/Oxford/DPhil/EvoScaper/.venv/lib/python3.11/site-packages/networkx/convert_matrix.py:1021\u001b[0m, in \u001b[0;36mto_scipy_sparse_matrix\u001b[0;34m(G, nodelist, dtype, weight, format)\u001b[0m\n\u001b[1;32m   1011\u001b[0m \u001b[39mimport\u001b[39;00m \u001b[39mscipy\u001b[39;00m\u001b[39m.\u001b[39;00m\u001b[39msparse\u001b[39;00m\n\u001b[1;32m   1013\u001b[0m warnings\u001b[39m.\u001b[39mwarn(\n\u001b[1;32m   1014\u001b[0m     (\n\u001b[1;32m   1015\u001b[0m         \u001b[39m\"\u001b[39m\u001b[39m\\n\u001b[39;00m\u001b[39m\\n\u001b[39;00m\u001b[39mThe scipy.sparse array containers will be used instead of matrices\u001b[39m\u001b[39m\\n\u001b[39;00m\u001b[39m\"\u001b[39m\n\u001b[0;32m   (...)\u001b[0m\n\u001b[1;32m   1019\u001b[0m     stacklevel\u001b[39m=\u001b[39m\u001b[39m2\u001b[39m,\n\u001b[1;32m   1020\u001b[0m )\n\u001b[0;32m-> 1021\u001b[0m A \u001b[39m=\u001b[39m to_scipy_sparse_array(\n\u001b[1;32m   1022\u001b[0m     G, nodelist\u001b[39m=\u001b[39;49mnodelist, dtype\u001b[39m=\u001b[39;49mdtype, weight\u001b[39m=\u001b[39;49mweight, \u001b[39mformat\u001b[39;49m\u001b[39m=\u001b[39;49m\u001b[39mformat\u001b[39;49m\n\u001b[1;32m   1023\u001b[0m )\n\u001b[1;32m   1024\u001b[0m \u001b[39mreturn\u001b[39;00m sp\u001b[39m.\u001b[39msparse\u001b[39m.\u001b[39mcsr_matrix(A)\u001b[39m.\u001b[39masformat(\u001b[39mformat\u001b[39m)\n",
      "File \u001b[0;32m~/Desktop/Kode/Oxford/DPhil/EvoScaper/.venv/lib/python3.11/site-packages/networkx/convert_matrix.py:880\u001b[0m, in \u001b[0;36mto_scipy_sparse_array\u001b[0;34m(G, nodelist, dtype, weight, format)\u001b[0m\n\u001b[1;32m    877\u001b[0m \u001b[39mimport\u001b[39;00m \u001b[39mscipy\u001b[39;00m\u001b[39m.\u001b[39;00m\u001b[39msparse\u001b[39;00m  \u001b[39m# call as sp.sparse\u001b[39;00m\n\u001b[1;32m    879\u001b[0m \u001b[39mif\u001b[39;00m \u001b[39mlen\u001b[39m(G) \u001b[39m==\u001b[39m \u001b[39m0\u001b[39m:\n\u001b[0;32m--> 880\u001b[0m     \u001b[39mraise\u001b[39;00m nx\u001b[39m.\u001b[39mNetworkXError(\u001b[39m\"\u001b[39m\u001b[39mGraph has no nodes or edges\u001b[39m\u001b[39m\"\u001b[39m)\n\u001b[1;32m    882\u001b[0m \u001b[39mif\u001b[39;00m nodelist \u001b[39mis\u001b[39;00m \u001b[39mNone\u001b[39;00m:\n\u001b[1;32m    883\u001b[0m     nodelist \u001b[39m=\u001b[39m \u001b[39mlist\u001b[39m(G)\n",
      "\u001b[0;31mNetworkXError\u001b[0m: Graph has no nodes or edges"
=======
     "name": "stdout",
     "output_type": "stream",
     "text": [
      "R Call errored, is R available ?\n"
     ]
    },
    {
     "ename": "FileNotFoundError",
     "evalue": "[Errno 2] No such file or directory: 'Rscript'",
     "output_type": "error",
     "traceback": [
      "\u001b[0;31m---------------------------------------------------------------------------\u001b[0m",
      "\u001b[0;31mFileNotFoundError\u001b[0m                         Traceback (most recent call last)",
      "\u001b[1;32m/home/wadh6511/Kode/EvoScaper/notebooks/04_causal_modelling.ipynb Cell 7\u001b[0m line \u001b[0;36m1\n\u001b[0;32m----> <a href='vscode-notebook-cell://ssh-remote%2B7b22686f73744e616d65223a2277616468363531312d50432d425832333638312d5453227d/home/wadh6511/Kode/EvoScaper/notebooks/04_causal_modelling.ipynb#W6sdnNjb2RlLXJlbW90ZQ%3D%3D?line=0'>1</a>\u001b[0m model \u001b[39m=\u001b[39m cdt\u001b[39m.\u001b[39;49mcausality\u001b[39m.\u001b[39;49mgraph\u001b[39m.\u001b[39;49mGES()\n\u001b[1;32m      <a href='vscode-notebook-cell://ssh-remote%2B7b22686f73744e616d65223a2277616468363531312d50432d425832333638312d5453227d/home/wadh6511/Kode/EvoScaper/notebooks/04_causal_modelling.ipynb#W6sdnNjb2RlLXJlbW90ZQ%3D%3D?line=1'>2</a>\u001b[0m output_graph \u001b[39m=\u001b[39m model\u001b[39m.\u001b[39mpredict(data, new_skeleton)\n\u001b[1;32m      <a href='vscode-notebook-cell://ssh-remote%2B7b22686f73744e616d65223a2277616468363531312d50432d425832333638312d5453227d/home/wadh6511/Kode/EvoScaper/notebooks/04_causal_modelling.ipynb#W6sdnNjb2RlLXJlbW90ZQ%3D%3D?line=2'>3</a>\u001b[0m \u001b[39mprint\u001b[39m(nx\u001b[39m.\u001b[39madjacency_matrix(output_graph)\u001b[39m.\u001b[39mtodense())\n",
      "File \u001b[0;32m~/Kode/env_evo/lib/python3.10/site-packages/cdt/causality/graph/GES.py:109\u001b[0m, in \u001b[0;36mGES.__init__\u001b[0;34m(self, score, verbose)\u001b[0m\n\u001b[1;32m    107\u001b[0m \u001b[39mdef\u001b[39;00m \u001b[39m__init__\u001b[39m(\u001b[39mself\u001b[39m, score\u001b[39m=\u001b[39m\u001b[39m'\u001b[39m\u001b[39mobs\u001b[39m\u001b[39m'\u001b[39m,verbose\u001b[39m=\u001b[39m\u001b[39mNone\u001b[39;00m):\n\u001b[1;32m    108\u001b[0m \u001b[39m    \u001b[39m\u001b[39m\"\"\"Init the model and its available arguments.\"\"\"\u001b[39;00m\n\u001b[0;32m--> 109\u001b[0m     \u001b[39mif\u001b[39;00m \u001b[39mnot\u001b[39;00m RPackages\u001b[39m.\u001b[39;49mpcalg:\n\u001b[1;32m    110\u001b[0m         \u001b[39mraise\u001b[39;00m \u001b[39mImportError\u001b[39;00m(\u001b[39m\"\u001b[39m\u001b[39mR Package pcalg is not available.\u001b[39m\u001b[39m\"\u001b[39m)\n\u001b[1;32m    112\u001b[0m     \u001b[39msuper\u001b[39m(GES, \u001b[39mself\u001b[39m)\u001b[39m.\u001b[39m\u001b[39m__init__\u001b[39m()\n",
      "File \u001b[0;32m~/Kode/env_evo/lib/python3.10/site-packages/cdt/utils/R.py:132\u001b[0m, in \u001b[0;36mDefaultRPackages.__getattribute__\u001b[0;34m(self, name)\u001b[0m\n\u001b[1;32m    130\u001b[0m out \u001b[39m=\u001b[39m \u001b[39mobject\u001b[39m\u001b[39m.\u001b[39m\u001b[39m__getattribute__\u001b[39m(\u001b[39mself\u001b[39m, name)\n\u001b[1;32m    131\u001b[0m \u001b[39mif\u001b[39;00m out \u001b[39mis\u001b[39;00m \u001b[39mNone\u001b[39;00m \u001b[39mand\u001b[39;00m \u001b[39mnot\u001b[39;00m \u001b[39mobject\u001b[39m\u001b[39m.\u001b[39m\u001b[39m__getattribute__\u001b[39m(\u001b[39mself\u001b[39m, \u001b[39m'\u001b[39m\u001b[39minit\u001b[39m\u001b[39m'\u001b[39m):\n\u001b[0;32m--> 132\u001b[0m     availability \u001b[39m=\u001b[39m \u001b[39mself\u001b[39;49m\u001b[39m.\u001b[39;49mcheck_R_package(name)\n\u001b[1;32m    133\u001b[0m     \u001b[39msetattr\u001b[39m(\u001b[39mself\u001b[39m, name, availability)\n\u001b[1;32m    134\u001b[0m     \u001b[39mreturn\u001b[39;00m availability\n",
      "File \u001b[0;32m~/Kode/env_evo/lib/python3.10/site-packages/cdt/utils/R.py:146\u001b[0m, in \u001b[0;36mDefaultRPackages.check_R_package\u001b[0;34m(self, package)\u001b[0m\n\u001b[1;32m    137\u001b[0m \u001b[39mdef\u001b[39;00m \u001b[39mcheck_R_package\u001b[39m(\u001b[39mself\u001b[39m, package):\n\u001b[1;32m    138\u001b[0m \u001b[39m    \u001b[39m\u001b[39m\"\"\"Execute a subprocess to check the package's availability.\u001b[39;00m\n\u001b[1;32m    139\u001b[0m \n\u001b[1;32m    140\u001b[0m \u001b[39m    Args:\u001b[39;00m\n\u001b[0;32m   (...)\u001b[0m\n\u001b[1;32m    144\u001b[0m \u001b[39m        bool: `True` if the package is available, `False` otherwise\u001b[39;00m\n\u001b[1;32m    145\u001b[0m \u001b[39m    \"\"\"\u001b[39;00m\n\u001b[0;32m--> 146\u001b[0m     test_package \u001b[39m=\u001b[39m \u001b[39mnot\u001b[39;00m \u001b[39mbool\u001b[39m(launch_R_script(Path(\u001b[39m\"\u001b[39;49m\u001b[39m{}\u001b[39;49;00m\u001b[39m/R_templates/test_import.R\u001b[39;49m\u001b[39m\"\u001b[39;49m\u001b[39m.\u001b[39;49mformat(os\u001b[39m.\u001b[39;49mpath\u001b[39m.\u001b[39;49mdirname(os\u001b[39m.\u001b[39;49mpath\u001b[39m.\u001b[39;49mrealpath(\u001b[39m__file__\u001b[39;49m)))),\n\u001b[1;32m    147\u001b[0m                                                  {\u001b[39m\"\u001b[39;49m\u001b[39m{package}\u001b[39;49;00m\u001b[39m\"\u001b[39;49m: package}, verbose\u001b[39m=\u001b[39;49m\u001b[39mTrue\u001b[39;49;00m))\n\u001b[1;32m    148\u001b[0m     \u001b[39mreturn\u001b[39;00m test_package\n",
      "File \u001b[0;32m~/Kode/env_evo/lib/python3.10/site-packages/cdt/utils/R.py:197\u001b[0m, in \u001b[0;36mlaunch_R_script\u001b[0;34m(template, arguments, output_function, verbose, debug)\u001b[0m\n\u001b[1;32m    195\u001b[0m     \u001b[39mexcept\u001b[39;00m \u001b[39mException\u001b[39;00m \u001b[39mas\u001b[39;00m e:\n\u001b[1;32m    196\u001b[0m         \u001b[39mprint\u001b[39m(\u001b[39m\"\u001b[39m\u001b[39mR Call errored, is R available ?\u001b[39m\u001b[39m\"\u001b[39m)\n\u001b[0;32m--> 197\u001b[0m         \u001b[39mraise\u001b[39;00m e\n\u001b[1;32m    199\u001b[0m \u001b[39melse\u001b[39;00m:\n\u001b[1;32m    200\u001b[0m     \u001b[39mtry\u001b[39;00m:\n",
      "File \u001b[0;32m~/Kode/env_evo/lib/python3.10/site-packages/cdt/utils/R.py:192\u001b[0m, in \u001b[0;36mlaunch_R_script\u001b[0;34m(template, arguments, output_function, verbose, debug)\u001b[0m\n\u001b[1;32m    190\u001b[0m \u001b[39mif\u001b[39;00m output_function \u001b[39mis\u001b[39;00m \u001b[39mNone\u001b[39;00m:\n\u001b[1;32m    191\u001b[0m     \u001b[39mtry\u001b[39;00m:\n\u001b[0;32m--> 192\u001b[0m         output \u001b[39m=\u001b[39m subprocess\u001b[39m.\u001b[39;49mcall([\u001b[39mstr\u001b[39;49m(rpath), \u001b[39m\"\u001b[39;49m\u001b[39m--no-restore --no-save --no-site-file\u001b[39;49m\u001b[39m\"\u001b[39;49m, \u001b[39mstr\u001b[39;49m(scriptpath)],\n\u001b[1;32m    193\u001b[0m                                 stdout\u001b[39m=\u001b[39;49msubprocess\u001b[39m.\u001b[39;49mDEVNULL,\n\u001b[1;32m    194\u001b[0m                                 stderr\u001b[39m=\u001b[39;49msubprocess\u001b[39m.\u001b[39;49mDEVNULL)\n\u001b[1;32m    195\u001b[0m     \u001b[39mexcept\u001b[39;00m \u001b[39mException\u001b[39;00m \u001b[39mas\u001b[39;00m e:\n\u001b[1;32m    196\u001b[0m         \u001b[39mprint\u001b[39m(\u001b[39m\"\u001b[39m\u001b[39mR Call errored, is R available ?\u001b[39m\u001b[39m\"\u001b[39m)\n",
      "File \u001b[0;32m/usr/lib/python3.10/subprocess.py:345\u001b[0m, in \u001b[0;36mcall\u001b[0;34m(timeout, *popenargs, **kwargs)\u001b[0m\n\u001b[1;32m    337\u001b[0m \u001b[39mdef\u001b[39;00m \u001b[39mcall\u001b[39m(\u001b[39m*\u001b[39mpopenargs, timeout\u001b[39m=\u001b[39m\u001b[39mNone\u001b[39;00m, \u001b[39m*\u001b[39m\u001b[39m*\u001b[39mkwargs):\n\u001b[1;32m    338\u001b[0m \u001b[39m    \u001b[39m\u001b[39m\"\"\"Run command with arguments.  Wait for command to complete or\u001b[39;00m\n\u001b[1;32m    339\u001b[0m \u001b[39m    timeout, then return the returncode attribute.\u001b[39;00m\n\u001b[1;32m    340\u001b[0m \n\u001b[0;32m   (...)\u001b[0m\n\u001b[1;32m    343\u001b[0m \u001b[39m    retcode = call([\"ls\", \"-l\"])\u001b[39;00m\n\u001b[1;32m    344\u001b[0m \u001b[39m    \"\"\"\u001b[39;00m\n\u001b[0;32m--> 345\u001b[0m     \u001b[39mwith\u001b[39;00m Popen(\u001b[39m*\u001b[39;49mpopenargs, \u001b[39m*\u001b[39;49m\u001b[39m*\u001b[39;49mkwargs) \u001b[39mas\u001b[39;00m p:\n\u001b[1;32m    346\u001b[0m         \u001b[39mtry\u001b[39;00m:\n\u001b[1;32m    347\u001b[0m             \u001b[39mreturn\u001b[39;00m p\u001b[39m.\u001b[39mwait(timeout\u001b[39m=\u001b[39mtimeout)\n",
      "File \u001b[0;32m/usr/lib/python3.10/subprocess.py:971\u001b[0m, in \u001b[0;36mPopen.__init__\u001b[0;34m(self, args, bufsize, executable, stdin, stdout, stderr, preexec_fn, close_fds, shell, cwd, env, universal_newlines, startupinfo, creationflags, restore_signals, start_new_session, pass_fds, user, group, extra_groups, encoding, errors, text, umask, pipesize)\u001b[0m\n\u001b[1;32m    967\u001b[0m         \u001b[39mif\u001b[39;00m \u001b[39mself\u001b[39m\u001b[39m.\u001b[39mtext_mode:\n\u001b[1;32m    968\u001b[0m             \u001b[39mself\u001b[39m\u001b[39m.\u001b[39mstderr \u001b[39m=\u001b[39m io\u001b[39m.\u001b[39mTextIOWrapper(\u001b[39mself\u001b[39m\u001b[39m.\u001b[39mstderr,\n\u001b[1;32m    969\u001b[0m                     encoding\u001b[39m=\u001b[39mencoding, errors\u001b[39m=\u001b[39merrors)\n\u001b[0;32m--> 971\u001b[0m     \u001b[39mself\u001b[39;49m\u001b[39m.\u001b[39;49m_execute_child(args, executable, preexec_fn, close_fds,\n\u001b[1;32m    972\u001b[0m                         pass_fds, cwd, env,\n\u001b[1;32m    973\u001b[0m                         startupinfo, creationflags, shell,\n\u001b[1;32m    974\u001b[0m                         p2cread, p2cwrite,\n\u001b[1;32m    975\u001b[0m                         c2pread, c2pwrite,\n\u001b[1;32m    976\u001b[0m                         errread, errwrite,\n\u001b[1;32m    977\u001b[0m                         restore_signals,\n\u001b[1;32m    978\u001b[0m                         gid, gids, uid, umask,\n\u001b[1;32m    979\u001b[0m                         start_new_session)\n\u001b[1;32m    980\u001b[0m \u001b[39mexcept\u001b[39;00m:\n\u001b[1;32m    981\u001b[0m     \u001b[39m# Cleanup if the child failed starting.\u001b[39;00m\n\u001b[1;32m    982\u001b[0m     \u001b[39mfor\u001b[39;00m f \u001b[39min\u001b[39;00m \u001b[39mfilter\u001b[39m(\u001b[39mNone\u001b[39;00m, (\u001b[39mself\u001b[39m\u001b[39m.\u001b[39mstdin, \u001b[39mself\u001b[39m\u001b[39m.\u001b[39mstdout, \u001b[39mself\u001b[39m\u001b[39m.\u001b[39mstderr)):\n",
      "File \u001b[0;32m/usr/lib/python3.10/subprocess.py:1863\u001b[0m, in \u001b[0;36mPopen._execute_child\u001b[0;34m(self, args, executable, preexec_fn, close_fds, pass_fds, cwd, env, startupinfo, creationflags, shell, p2cread, p2cwrite, c2pread, c2pwrite, errread, errwrite, restore_signals, gid, gids, uid, umask, start_new_session)\u001b[0m\n\u001b[1;32m   1861\u001b[0m     \u001b[39mif\u001b[39;00m errno_num \u001b[39m!=\u001b[39m \u001b[39m0\u001b[39m:\n\u001b[1;32m   1862\u001b[0m         err_msg \u001b[39m=\u001b[39m os\u001b[39m.\u001b[39mstrerror(errno_num)\n\u001b[0;32m-> 1863\u001b[0m     \u001b[39mraise\u001b[39;00m child_exception_type(errno_num, err_msg, err_filename)\n\u001b[1;32m   1864\u001b[0m \u001b[39mraise\u001b[39;00m child_exception_type(err_msg)\n",
      "\u001b[0;31mFileNotFoundError\u001b[0m: [Errno 2] No such file or directory: 'Rscript'"
>>>>>>> 8ae58c3c23bd89eb313ca5458cdecbaf8decc8c2
     ]
    }
   ],
   "source": [
<<<<<<< HEAD
    "import networkx as nx\n",
    "g = nx.DiGraph()  # initialize a directed graph\n",
    "l = list(g.nodes())  # list of nodes in the graph\n",
    "a = nx.adj_matrix(g).todense()  # Output the adjacency matrix of the graph\n",
    "e = list(g.edges())  # list of edges in the graph"
   ]
  },
  {
   "cell_type": "code",
   "execution_count": null,
   "metadata": {},
   "outputs": [],
   "source": []
=======
    "model = cdt.causality.graph.GES()\n",
    "output_graph = model.predict(data, new_skeleton)\n",
    "print(nx.adjacency_matrix(output_graph).todense())"
   ]
>>>>>>> 8ae58c3c23bd89eb313ca5458cdecbaf8decc8c2
  }
 ],
 "metadata": {
  "kernelspec": {
<<<<<<< HEAD
   "display_name": ".venv",
=======
   "display_name": "env_evo",
>>>>>>> 8ae58c3c23bd89eb313ca5458cdecbaf8decc8c2
   "language": "python",
   "name": "python3"
  },
  "language_info": {
   "codemirror_mode": {
    "name": "ipython",
    "version": 3
   },
   "file_extension": ".py",
   "mimetype": "text/x-python",
   "name": "python",
   "nbconvert_exporter": "python",
   "pygments_lexer": "ipython3",
<<<<<<< HEAD
   "version": "3.11.0"
=======
   "version": "3.10.12"
>>>>>>> 8ae58c3c23bd89eb313ca5458cdecbaf8decc8c2
  },
  "orig_nbformat": 4
 },
 "nbformat": 4,
 "nbformat_minor": 2
}
