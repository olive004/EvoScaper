{
 "cells": [
  {
   "cell_type": "code",
   "execution_count": 36,
   "metadata": {},
   "outputs": [
    {
     "name": "stdout",
     "output_type": "stream",
     "text": [
      "The autoreload extension is already loaded. To reload it, use:\n",
      "  %reload_ext autoreload\n"
     ]
    }
   ],
   "source": [
    "%load_ext autoreload\n",
    "%autoreload 2"
   ]
  },
  {
   "cell_type": "markdown",
   "metadata": {},
   "source": [
    "# Misc"
   ]
  },
  {
   "cell_type": "code",
   "execution_count": 37,
   "metadata": {},
   "outputs": [],
   "source": [
    "import jax \n",
    "import jax.numpy as jnp\n",
    "import numpy as np\n",
    "import seaborn as sns\n",
    "import optax\n",
    "from scipy.special import factorial\n",
    "import diffrax as dfx\n",
    "from functools import partial\n",
    "from bioreaction.misc.misc import flatten_listlike\n",
    "\n",
    "jax.config.update('jax_platform_name', 'gpu')\n"
   ]
  },
  {
   "cell_type": "code",
   "execution_count": 38,
   "metadata": {},
   "outputs": [],
   "source": [
    "def one_step_de_sim_expanded(spec_conc, inputs, outputs, forward_rates, reverse_rates):\n",
    "    concentration_factors_in = jnp.prod(\n",
    "        jnp.power(spec_conc, (inputs)), axis=1)\n",
    "    concentration_factors_out = jnp.prod(\n",
    "        jnp.power(spec_conc, (outputs)), axis=1)\n",
    "    forward_delta = concentration_factors_in * forward_rates\n",
    "    reverse_delta = concentration_factors_out * reverse_rates\n",
    "    return (forward_delta - reverse_delta) @ (outputs - inputs)\n",
    "\n",
    "\n",
    "# ODE Terms\n",
    "def bioreaction_sim_expanded(t, y,\n",
    "                             args,\n",
    "                             inputs, outputs,\n",
    "                             #  signal, signal_onehot: jnp.ndarray,\n",
    "                             forward_rates=None, reverse_rates=None):\n",
    "    return one_step_de_sim_expanded(\n",
    "        spec_conc=y, inputs=inputs,\n",
    "        outputs=outputs,\n",
    "        forward_rates=forward_rates,\n",
    "        reverse_rates=reverse_rates)  # + signal(t) * signal_onehot\n",
    "\n",
    "\n",
    "def bioreaction_sim_dfx_expanded(y0, t0, t1, dt0,\n",
    "                                 inputs, outputs, forward_rates, reverse_rates,\n",
    "                                 solver=dfx.Tsit5(),\n",
    "                                 saveat=dfx.SaveAt(\n",
    "                                     t0=True, t1=True, steps=True),\n",
    "                                 max_steps=16**5,\n",
    "                                 stepsize_controller=dfx.ConstantStepSize()):\n",
    "    term = dfx.ODETerm(\n",
    "        partial(bioreaction_sim_expanded,\n",
    "                inputs=inputs, outputs=outputs,\n",
    "                forward_rates=forward_rates.squeeze(), reverse_rates=reverse_rates.squeeze()\n",
    "                )\n",
    "    )\n",
    "    return dfx.diffeqsolve(term, solver,\n",
    "                           t0=t0, t1=t1, dt0=dt0,\n",
    "                           y0=y0.squeeze(),\n",
    "                           saveat=saveat, max_steps=max_steps,\n",
    "                           stepsize_controller=stepsize_controller)\n",
    "\n",
    "\n",
    "def f(reverse_rates, y0, t0, t1, dt0,\n",
    "      inputs, outputs, forward_rates,\n",
    "      output_idxs):\n",
    "    s = bioreaction_sim_dfx_expanded(y0, t0, t1, dt0,\n",
    "                                     inputs, outputs, forward_rates, reverse_rates,\n",
    "                                     saveat=dfx.SaveAt(ts=np.linspace(t0, t1, 100)))\n",
    "    ys = s.ys\n",
    "    # ys = s.ys[:np.argmax(s.ts >= np.inf), :]\n",
    "    # ts = s.ts[:np.argmax(s.ts >= np.inf)]\n",
    "\n",
    "    cost = jnp.sum(jnp.abs(jnp.max(ys, axis=0)[\n",
    "        output_idxs] - ys[-1, output_idxs]))\n",
    "    return cost"
   ]
  },
  {
   "cell_type": "code",
   "execution_count": 39,
   "metadata": {},
   "outputs": [],
   "source": [
    "n_species = 3\n",
    "n_circuits = 5\n",
    "n_reactions = np.sum(np.arange(n_species+1))\n",
    "tot_species = n_species + n_reactions\n",
    "signal_idxs = np.array([0])\n",
    "output_idxs = np.array([1, 2])\n",
    "y0 = np.array([200.0] * n_species + [0.0] * n_reactions) # [None, :] * np.ones((n_circuits, 1))\n",
    "t0, t1, dt0 = 0, 20, 0.001\n",
    "inputs, outputs = np.zeros((n_reactions, tot_species)), np.zeros(\n",
    "    (n_reactions, tot_species))\n",
    "inds = flatten_listlike([[(i, j) for j in range(i, n_species)]\n",
    "                        for i in range(n_species)])\n",
    "for i in range(n_reactions):\n",
    "    inputs[i, inds[i][0]] += 1\n",
    "    inputs[i, inds[i][1]] += 1\n",
    "    outputs[i, i+n_species] += 1\n",
    "    \n",
    "np.seed(0)\n",
    "forward_rates, reverse_rates = np.random.rand(\n",
    "    n_reactions), np.random.rand(n_circuits, n_reactions)\n",
    "\n",
    "f_t = partial(f, y0=y0, t0=t0, t1=t1, dt0=dt0, inputs=inputs, outputs=outputs, forward_rates=forward_rates, output_idxs=output_idxs)"
   ]
  },
  {
   "cell_type": "code",
   "execution_count": 40,
   "metadata": {},
   "outputs": [],
   "source": [
    "# Test it\n",
    "cost = jax.vmap(f_t)(reverse_rates)\n"
   ]
  },
  {
   "cell_type": "code",
   "execution_count": 41,
   "metadata": {},
   "outputs": [
    {
     "data": {
      "text/plain": [
       "Array([391.65076, 391.18182, 390.4265 , 385.1245 , 386.09048], dtype=float32)"
      ]
     },
     "execution_count": 41,
     "metadata": {},
     "output_type": "execute_result"
    }
   ],
   "source": [
    "cost"
   ]
  },
  {
   "cell_type": "code",
   "execution_count": 42,
   "metadata": {},
   "outputs": [],
   "source": [
    "l2_reg_alpha = 0.1\n",
    "learning_rate = 0.01\n",
    "warmup_epochs = 3\n",
    "epochs = 10\n",
    "n_batches = 1\n",
    "warmup_fn = optax.linear_schedule(\n",
    "    init_value=0., end_value=learning_rate,\n",
    "    transition_steps=warmup_epochs * n_batches)\n",
    "cosine_epochs = max(epochs - warmup_epochs, 1)\n",
    "cosine_fn = optax.cosine_decay_schedule(\n",
    "    init_value=0.01, decay_steps=1000) #, alpha=l2_reg_alpha)\n",
    "schedule_fn = optax.join_schedules(\n",
    "    schedules=[warmup_fn, cosine_fn],\n",
    "    boundaries=[warmup_epochs * n_batches])\n",
    "optimiser = optax.sgd(learning_rate=schedule_fn)\n",
    "optimiser_state = optimiser.init(reverse_rates[0])"
   ]
  },
  {
   "cell_type": "code",
   "execution_count": 43,
   "metadata": {},
   "outputs": [],
   "source": [
    "def f_scan(inp, cr):\n",
    "    c, r = cr\n",
    "    reverse_rates, optimiser_state = inp\n",
    "    c, grads = jax.vmap(jax.value_and_grad(f_t, argnums=0))(reverse_rates)\n",
    "    updates, optimiser_state = optimiser.update(grads, optimiser_state)\n",
    "    reverse_rates = optax.apply_updates(reverse_rates, updates)\n",
    "    return [reverse_rates, optimiser_state], [c, reverse_rates]\n",
    "\n",
    "cs = np.zeros([epochs, n_circuits])\n",
    "rs = np.zeros([epochs, *reverse_rates.shape])\n",
    "ro, crs = jax.lax.scan(f_scan, init=[reverse_rates, optimiser_state], xs=[cs, rs])\n",
    "\n",
    "fin_reverse_rates, optimiser_state = ro\n",
    "cs, all_reverse_rates = crs"
   ]
  },
  {
   "cell_type": "code",
   "execution_count": 56,
   "metadata": {},
   "outputs": [],
   "source": [
    "\n",
    "cs = np.zeros([epochs, n_circuits])\n",
    "rs = np.zeros([epochs, *reverse_rates.shape])\n",
    "inp = [reverse_rates, optimiser_state]\n",
    "for i, cr in enumerate(zip(cs, rs)):\n",
    "    inp, crs = f_scan(inp, cr)\n",
    "    fin_reverse_rates, optimiser_state = inp\n",
    "    cs[i] = np.array(crs[0])\n",
    "    rs[i] = crs[1]\n",
    "\n"
   ]
  },
  {
   "cell_type": "code",
   "execution_count": 44,
   "metadata": {},
   "outputs": [
    {
     "data": {
      "text/plain": [
       "<Axes: >"
      ]
     },
     "execution_count": 44,
     "metadata": {},
     "output_type": "execute_result"
    },
    {
     "data": {
      "image/png": "[encoded data removed]",
      "text/plain": [
       "<Figure size 640x480 with 2 Axes>"
      ]
     },
     "metadata": {},
     "output_type": "display_data"
    }
   ],
   "source": [
    "sns.heatmap(all_reverse_rates.reshape([all_reverse_rates.shape[0] * all_reverse_rates.shape[1], all_reverse_rates.shape[-1]]))"
   ]
  },
  {
   "cell_type": "code",
   "execution_count": 45,
   "metadata": {},
   "outputs": [
    {
     "data": {
      "text/plain": [
       "Array([[391.65076, 391.18182, 390.4265 , 385.1245 , 386.09048],\n",
       "       [391.65076, 391.18182, 390.4265 , 385.1245 , 386.09048],\n",
       "       [391.0308 , 390.79492, 389.5329 , 384.867  , 384.47687],\n",
       "       [390.018  , 390.17792, 388.52435, 384.31116,       nan],\n",
       "       [388.82996, 389.44373, 387.63583, 383.07422,       nan],\n",
       "       [387.85345, 388.82275, 386.98758,       nan,       nan],\n",
       "       [386.94373, 388.265  , 386.4378 ,       nan,       nan],\n",
       "       [385.86475, 387.75232, 385.9483 ,       nan,       nan],\n",
       "       [      nan, 387.27472, 385.50183,       nan,       nan],\n",
       "       [      nan, 386.82587, 385.08868,       nan,       nan]],      dtype=float32)"
      ]
     },
     "execution_count": 45,
     "metadata": {},
     "output_type": "execute_result"
    }
   ],
   "source": [
    "cs"
   ]
  },
  {
   "cell_type": "code",
   "execution_count": null,
   "metadata": {},
   "outputs": [],
   "source": []
  }
 ],
 "metadata": {
  "kernelspec": {
   "display_name": "env_evo",
   "language": "python",
   "name": "python3"
  },
  "language_info": {
   "codemirror_mode": {
    "name": "ipython",
    "version": 3
   },
   "file_extension": ".py",
   "mimetype": "text/x-python",
   "name": "python",
   "nbconvert_exporter": "python",
   "pygments_lexer": "ipython3",
   "version": "3.10.12"
  }
 },
 "nbformat": 4,
 "nbformat_minor": 2
}
