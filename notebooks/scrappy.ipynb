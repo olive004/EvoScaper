{
 "cells": [
  {
   "cell_type": "code",
   "execution_count": 1,
   "metadata": {},
   "outputs": [],
   "source": [
    "%load_ext autoreload\n",
    "%autoreload 2"
   ]
  },
  {
   "cell_type": "markdown",
   "metadata": {},
   "source": [
    "# Misc"
   ]
  },
  {
   "cell_type": "code",
   "execution_count": 2,
   "metadata": {},
   "outputs": [
    {
     "name": "stderr",
     "output_type": "stream",
     "text": [
      "/home/wadh6511/Kode/env_evo/lib/python3.10/site-packages/jaxtyping/__init__.py:221: UserWarning: jaxtyping version >=0.2.23 should be used with Equinox version >=0.11.1\n",
      "  warnings.warn(\n"
     ]
    }
   ],
   "source": [
    "import jax \n",
    "import jax.numpy as jnp\n",
    "import numpy as np\n",
    "import optax\n",
    "from scipy.special import factorial\n",
    "import diffrax as dfx\n",
    "from functools import partial\n",
    "from bioreaction.misc.misc import flatten_listlike\n",
    "\n",
    "jax.config.update('jax_platform_name', 'gpu')\n"
   ]
  },
  {
   "cell_type": "code",
   "execution_count": 3,
   "metadata": {},
   "outputs": [],
   "source": [
    "def one_step_de_sim_expanded(spec_conc, inputs, outputs, forward_rates, reverse_rates):\n",
    "    concentration_factors_in = jnp.prod(\n",
    "        jnp.power(spec_conc, (inputs)), axis=1)\n",
    "    concentration_factors_out = jnp.prod(\n",
    "        jnp.power(spec_conc, (outputs)), axis=1)\n",
    "    forward_delta = concentration_factors_in * forward_rates\n",
    "    reverse_delta = concentration_factors_out * reverse_rates\n",
    "    return (forward_delta - reverse_delta) @ (outputs - inputs)\n",
    "\n",
    "\n",
    "# ODE Terms\n",
    "def bioreaction_sim_expanded(t, y,\n",
    "                             args,\n",
    "                             inputs, outputs,\n",
    "                             #  signal, signal_onehot: jnp.ndarray,\n",
    "                             forward_rates=None, reverse_rates=None):\n",
    "    return one_step_de_sim_expanded(\n",
    "        spec_conc=y, inputs=inputs,\n",
    "        outputs=outputs,\n",
    "        forward_rates=forward_rates,\n",
    "        reverse_rates=reverse_rates)  # + signal(t) * signal_onehot\n",
    "\n",
    "\n",
    "def bioreaction_sim_dfx_expanded(y0, t0, t1, dt0,\n",
    "                                 inputs, outputs, forward_rates, reverse_rates,\n",
    "                                 solver=dfx.Tsit5(),\n",
    "                                 saveat=dfx.SaveAt(\n",
    "                                     t0=True, t1=True, steps=True),\n",
    "                                 max_steps=16**5,\n",
    "                                 stepsize_controller=dfx.ConstantStepSize()):\n",
    "    term = dfx.ODETerm(\n",
    "        partial(bioreaction_sim_expanded,\n",
    "                inputs=inputs, outputs=outputs,\n",
    "                forward_rates=forward_rates.squeeze(), reverse_rates=reverse_rates.squeeze()\n",
    "                )\n",
    "    )\n",
    "    return dfx.diffeqsolve(term, solver,\n",
    "                           t0=t0, t1=t1, dt0=dt0,\n",
    "                           y0=y0.squeeze(),\n",
    "                           saveat=saveat, max_steps=max_steps,\n",
    "                           stepsize_controller=stepsize_controller)\n",
    "\n",
    "\n",
    "def f(reverse_rates, y0, t0, t1, dt0,\n",
    "      inputs, outputs, forward_rates,\n",
    "      output_idxs):\n",
    "    s = bioreaction_sim_dfx_expanded(y0, t0, t1, dt0,\n",
    "                                     inputs, outputs, forward_rates, reverse_rates,\n",
    "                                     saveat=dfx.SaveAt(ts=np.linspace(t0, t1, 100)))\n",
    "    ys = s.ys\n",
    "    # ys = s.ys[:np.argmax(s.ts >= np.inf), :]\n",
    "    # ts = s.ts[:np.argmax(s.ts >= np.inf)]\n",
    "\n",
    "    cost = jnp.sum(jnp.abs(jnp.max(ys, axis=0)[\n",
    "        output_idxs] - ys[-1, output_idxs]))\n",
    "    return cost"
   ]
  },
  {
   "cell_type": "code",
   "execution_count": 4,
   "metadata": {},
   "outputs": [],
   "source": [
    "n_species = 4\n",
    "n_circuits = 5\n",
    "n_reactions = np.sum(np.arange(n_species+1))\n",
    "tot_species = n_species + n_reactions\n",
    "signal_idxs = np.array([0])\n",
    "output_idxs = np.array([1, 2])\n",
    "y0 = np.array([200.0] * n_species + [0.0] * n_reactions) # [None, :] * np.ones((n_circuits, 1))\n",
    "t0, t1, dt0 = 0, 20, 0.001\n",
    "inputs, outputs = np.zeros((n_reactions, tot_species)), np.zeros(\n",
    "    (n_reactions, tot_species))\n",
    "inds = flatten_listlike([[(i, j) for j in range(i, n_species)]\n",
    "                        for i in range(n_species)])\n",
    "for i in range(n_reactions):\n",
    "    inputs[i, inds[i][0]] += 1\n",
    "    inputs[i, inds[i][1]] += 1\n",
    "    outputs[i, i+n_species] += 1\n",
    "forward_rates, reverse_rates = np.random.rand(\n",
    "    n_reactions), np.random.rand(n_circuits, n_reactions)\n",
    "\n",
    "f_t = partial(f, y0=y0, t0=t0, t1=t1, dt0=dt0, inputs=inputs, outputs=outputs, forward_rates=forward_rates, output_idxs=output_idxs)"
   ]
  },
  {
   "cell_type": "code",
   "execution_count": 5,
   "metadata": {},
   "outputs": [
    {
     "name": "stderr",
     "output_type": "stream",
     "text": [
      "WARNING: All log messages before absl::InitializeLog() is called are written to STDERR\n",
      "I0000 00:00:1704707362.368089  317070 tfrt_cpu_pjrt_client.cc:349] TfrtCpuClient created.\n"
     ]
    }
   ],
   "source": [
    "cost = jax.vmap(f_t)(reverse_rates)\n"
   ]
  },
  {
   "cell_type": "code",
   "execution_count": 6,
   "metadata": {},
   "outputs": [
    {
     "data": {
      "text/plain": [
       "Array([389.75922, 387.81216, 393.3399 , 393.44666, 390.6364 ], dtype=float32)"
      ]
     },
     "execution_count": 6,
     "metadata": {},
     "output_type": "execute_result"
    }
   ],
   "source": [
    "cost"
   ]
  },
  {
   "cell_type": "code",
   "execution_count": 7,
   "metadata": {},
   "outputs": [],
   "source": [
    "l2_reg_alpha = 0.1\n",
    "learning_rate = 0.001\n",
    "warmup_epochs = 30\n",
    "epochs = 1000\n",
    "n_batches = 10\n",
    "warmup_fn = optax.linear_schedule(\n",
    "    init_value=0., end_value=learning_rate,\n",
    "    transition_steps=warmup_epochs * n_batches)\n",
    "cosine_epochs = max(epochs - warmup_epochs, 1)\n",
    "cosine_fn = optax.cosine_decay_schedule(\n",
    "    init_value=0.01, decay_steps=1000) #, alpha=l2_reg_alpha)\n",
    "schedule_fn = optax.join_schedules(\n",
    "    schedules=[warmup_fn, cosine_fn],\n",
    "    boundaries=[warmup_epochs * n_batches])\n",
    "optimiser = optax.sgd(learning_rate=schedule_fn)\n",
    "optimiser_state = optimiser.init(reverse_rates[0])"
   ]
  },
  {
   "cell_type": "code",
   "execution_count": 8,
   "metadata": {},
   "outputs": [],
   "source": [
    "def f_scan(inp, c):\n",
    "    reverse_rates, optimiser_state = inp\n",
    "    c, grads = jax.vmap(jax.value_and_grad(f_t, argnums=0))(reverse_rates)\n",
    "    updates, optimiser_state = optimiser.update(grads, optimiser_state)\n",
    "    reverse_rates = optax.apply_updates(reverse_rates, updates)\n",
    "    return [reverse_rates, optimiser_state], c\n",
    "\n",
    "cs = np.zeros(10)\n",
    "reverse_rates, cs = jax.lax.scan(f_scan, init=[reverse_rates, optimiser_state], xs=cs)\n"
   ]
  },
  {
   "cell_type": "code",
   "execution_count": 9,
   "metadata": {},
   "outputs": [
    {
     "data": {
      "text/plain": [
       "Array([[389.75922, 387.81216, 393.3399 , 393.44666, 390.6364 ],\n",
       "       [389.75922, 387.81216, 393.3399 , 393.44666, 390.6364 ],\n",
       "       [389.7574 , 387.8116 , 393.33676, 393.44116, 390.6349 ],\n",
       "       [389.75375, 387.81052, 393.3304 , 393.4302 , 390.63184],\n",
       "       [389.74835, 387.80884, 393.32098, 393.41394, 390.62723],\n",
       "       [389.7411 , 387.80664, 393.30847, 393.39246, 390.62122],\n",
       "       [389.73206, 387.80392, 393.29288, 393.3661 , 390.61362],\n",
       "       [389.7214 , 387.80063, 393.27432, 393.33508, 390.60452],\n",
       "       [389.709  , 387.797  , 393.25287, 393.29977, 390.5939 ],\n",
       "       [389.6949 , 387.79272, 393.22858, 393.26044, 390.5818 ],\n",
       "       [389.67923, 387.7878 , 393.20154, 393.21747, 390.56805],\n",
       "       [389.6619 , 387.78238, 393.17188, 393.1713 , 390.5528 ],\n",
       "       [389.64313, 387.77643, 393.1397 , 393.12222, 390.53595],\n",
       "       [389.6229 , 387.76996, 393.1051 , 393.07056, 390.51764],\n",
       "       [389.60114, 387.76294, 393.06827, 393.01675, 390.49762],\n",
       "       [389.57806, 387.75543, 393.02917, 392.96112, 390.47598],\n",
       "       [389.55377, 387.74744, 392.98804, 392.90393, 390.45285],\n",
       "       [389.5282 , 387.73907, 392.94498, 392.8454 , 390.42792],\n",
       "       [389.50137, 387.7303 , 392.90012, 392.78595, 390.40146],\n",
       "       [389.47345, 387.721  , 392.85358, 392.72568, 390.37314],\n",
       "       [389.44458, 387.71133, 392.80536, 392.66486, 390.34314],\n",
       "       [389.4145 , 387.70105, 392.75565, 392.60364, 390.31122],\n",
       "       [389.38348, 387.6903 , 392.7047 , 392.54224, 390.27753],\n",
       "       [389.3517 , 387.67926, 392.65256, 392.4807 , 390.24185],\n",
       "       [389.31906, 387.6678 , 392.59924, 392.4193 , 390.2041 ],\n",
       "       [389.28558, 387.65594, 392.54474, 392.35803, 390.16425],\n",
       "       [389.25128, 387.64368, 392.48938, 392.297  , 390.1222 ],\n",
       "       [389.2164 , 387.63104, 392.4333 , 392.23633, 390.07773],\n",
       "       [389.18085, 387.61816, 392.37628, 392.17596, 390.0307 ],\n",
       "       [389.14465, 387.60474, 392.31873, 392.1161 , 389.9809 ],\n",
       "       [389.1079 , 387.59094, 392.26038, 392.05664, 389.92822],\n",
       "       [389.07065, 387.57678, 392.2017 , 391.99777, 389.87222],\n",
       "       [389.0329 , 387.56238, 392.14246, 391.93936, 389.81265],\n",
       "       [388.9948 , 387.5478 , 392.08286, 391.88153, 389.74908],\n",
       "       [388.95624, 387.53293, 392.02292, 391.82428, 389.681  ],\n",
       "       [388.91724, 387.5175 , 391.9627 , 391.7676 , 389.60773],\n",
       "       [388.87793, 387.50183, 391.90228, 391.7115 , 389.5285 ],\n",
       "       [388.83826, 387.4859 , 391.8416 , 391.656  , 389.44232],\n",
       "       [388.79828, 387.4697 , 391.7809 , 391.601  , 389.34775],\n",
       "       [388.75803, 387.4532 , 391.7201 , 391.54663, 389.24292],\n",
       "       [388.71753, 387.4366 , 391.6592 , 391.4928 , 389.12543],\n",
       "       [388.67682, 387.41977, 391.59833, 391.43954, 388.99164],\n",
       "       [388.63593, 387.40265, 391.5374 , 391.38684, 388.8362 ],\n",
       "       [388.59485, 387.3852 , 391.47656, 391.33463, 388.65073],\n",
       "       [388.5536 , 387.36755, 391.41577, 391.28293, 388.42148],\n",
       "       [388.5122 , 387.3497 , 391.3551 , 391.2318 , 388.1229 ],\n",
       "       [388.4708 , 387.3316 , 391.29456, 391.1811 , 387.70013],\n",
       "       [388.42917, 387.31348, 391.23416, 391.13092, 387.00928],\n",
       "       [388.3874 , 387.2951 , 391.1739 , 391.08124, 385.44485],\n",
       "       [388.3456 , 387.27658, 391.11377, 391.03198, 370.51233],\n",
       "       [388.3037 , 387.25775, 391.0539 , 390.98315,       nan],\n",
       "       [388.26178, 387.2387 , 390.99417, 390.93478,       nan],\n",
       "       [388.2199 , 387.2195 , 390.93466, 390.88684,       nan],\n",
       "       [388.17786, 387.2002 , 390.87537, 390.8393 ,       nan],\n",
       "       [388.1358 , 387.18082, 390.81628, 390.7921 ,       nan],\n",
       "       [388.09375, 387.16125, 390.75745, 390.7453 ,       nan],\n",
       "       [388.05182, 387.14148, 390.69885, 390.6989 ,       nan],\n",
       "       [388.00977, 387.12158, 390.6405 , 390.65277,       nan],\n",
       "       [387.96762, 387.10144, 390.58237, 390.60706,       nan],\n",
       "       [387.92572, 387.08112, 390.52454, 390.5617 ,       nan],\n",
       "       [387.8838 , 387.06073, 390.46692, 390.51654,       nan],\n",
       "       [387.84186, 387.04028, 390.40955, 390.4718 ,       nan],\n",
       "       [387.79993, 387.01962, 390.35248, 390.4273 ,       nan],\n",
       "       [387.75818, 386.99896, 390.29565, 390.38312,       nan],\n",
       "       [387.71646, 386.97818, 390.23907, 390.3392 ,       nan],\n",
       "       [387.67474, 386.9573 , 390.18274, 390.2955 ,       nan],\n",
       "       [387.63312, 386.9364 , 390.12662, 390.25214,       nan],\n",
       "       [387.5916 , 386.9152 , 390.0708 , 390.20898,       nan],\n",
       "       [387.5502 , 386.89383, 390.01517, 390.16608,       nan],\n",
       "       [387.5087 , 386.8723 , 389.95987, 390.12335,       nan],\n",
       "       [387.46753, 386.85083, 389.90475, 390.0809 ,       nan],\n",
       "       [387.42642, 386.8291 , 389.84988, 390.0387 ,       nan],\n",
       "       [387.3854 , 386.80734, 389.79523, 389.99664,       nan],\n",
       "       [387.3442 , 386.78546, 389.74084, 389.95483,       nan],\n",
       "       [387.3034 , 386.7635 , 389.68665, 389.91318,       nan],\n",
       "       [387.2627 , 386.74152, 389.6327 , 389.87164,       nan],\n",
       "       [387.2221 , 386.71936, 389.57898, 389.83035,       nan],\n",
       "       [387.18146, 386.6972 , 389.52548, 389.78925,       nan],\n",
       "       [387.14105, 386.67487, 389.47223, 389.74823,       nan],\n",
       "       [387.10077, 386.6525 , 389.41916, 389.70743,       nan],\n",
       "       [387.06055, 386.63007, 389.36627, 389.66675,       nan],\n",
       "       [387.0205 , 386.60767, 389.3136 , 389.62628,       nan],\n",
       "       [386.9804 , 386.5852 , 389.2611 , 389.58588,       nan],\n",
       "       [386.9408 , 386.56253, 389.20886, 389.5456 ,       nan],\n",
       "       [386.90097, 386.53967, 389.15674, 389.5055 ,       nan],\n",
       "       [386.86142, 386.51666, 389.10483, 389.46542,       nan],\n",
       "       [386.82187, 386.49356, 389.0531 , 389.4256 ,       nan],\n",
       "       [386.78235, 386.47034, 389.00146, 389.3858 ,       nan],\n",
       "       [386.74338, 386.44714, 388.95007, 389.3462 ,       nan],\n",
       "       [386.70422, 386.42377, 388.89877, 389.30658,       nan],\n",
       "       [386.66528, 386.4004 , 388.84772, 389.26715,       nan],\n",
       "       [386.62653, 386.37683, 388.79675, 389.2278 ,       nan],\n",
       "       [386.5876 , 386.3534 , 388.7459 , 389.1885 ,       nan],\n",
       "       [386.54892, 386.32974, 388.69525, 389.1493 ,       nan],\n",
       "       [386.51062, 386.30597, 388.64465, 389.11023,       nan],\n",
       "       [386.4721 , 386.2821 , 388.59424, 389.07123,       nan],\n",
       "       [386.43387, 386.2583 , 388.54398, 389.03217,       nan],\n",
       "       [386.39594, 386.23434, 388.49384, 388.99338,       nan],\n",
       "       [386.35767, 386.21027, 388.44373, 388.9545 ,       nan],\n",
       "       [386.31964, 386.18613, 388.39383, 388.91577,       nan]],      dtype=float32)"
      ]
     },
     "execution_count": 9,
     "metadata": {},
     "output_type": "execute_result"
    }
   ],
   "source": [
    "cs"
   ]
  },
  {
   "cell_type": "code",
   "execution_count": null,
   "metadata": {},
   "outputs": [],
   "source": []
  }
 ],
 "metadata": {
  "kernelspec": {
   "display_name": "env_evo",
   "language": "python",
   "name": "python3"
  },
  "language_info": {
   "codemirror_mode": {
    "name": "ipython",
    "version": 3
   },
   "file_extension": ".py",
   "mimetype": "text/x-python",
   "name": "python",
   "nbconvert_exporter": "python",
   "pygments_lexer": "ipython3",
   "version": "3.10.12"
  }
 },
 "nbformat": 4,
 "nbformat_minor": 2
}
