{
 "cells": [
  {
   "cell_type": "code",
   "execution_count": null,
   "metadata": {},
   "outputs": [],
   "source": [
    "%load_ext autoreload\n",
    "%autoreload 2"
   ]
  },
  {
   "cell_type": "code",
   "execution_count": null,
   "metadata": {},
   "outputs": [],
   "source": [
    "# !pip install cairosvg\n",
    "# !apt install libcairo2\n",
    "import cairosvg\n",
    "\n",
    "# Load the SVG file\n",
    "svg_file_path = '../data/adaptation_m0_log_adaptation.svg'\n",
    "\n",
    "# Convert SVG to PNG\n",
    "png_file_path = svg_file_path.replace('svg', 'png')\n",
    "cairosvg.svg2png(url=svg_file_path, write_to=png_file_path, output_width=500, output_height=500)\n",
    "\n",
    "print(f'SVG file has been converted to PNG and saved at {png_file_path}')\n",
    "\n"
   ]
  }
 ],
 "metadata": {
  "language_info": {
   "name": "python"
  }
 },
 "nbformat": 4,
 "nbformat_minor": 2
}
