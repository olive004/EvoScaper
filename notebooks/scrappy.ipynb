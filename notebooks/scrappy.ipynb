{
 "cells": [
  {
   "cell_type": "code",
   "execution_count": 1,
   "metadata": {},
   "outputs": [],
   "source": [
    "%load_ext autoreload\n",
    "%autoreload 2"
   ]
  },
  {
   "cell_type": "code",
   "execution_count": null,
   "metadata": {},
   "outputs": [],
   "source": [
    "import numpy as np\n",
    "import matplotlib.pyplot as plt\n",
    "import networkx as nx\n",
    "\n",
    "# Create figure\n",
    "fig, axs = plt.subplots(1, 3, figsize=(12, 4))\n",
    "\n",
    "# Left Panel: Microscopic System\n",
    "axs[0].plot(np.sin(np.linspace(0, 10, 100)), label='Component 1', color='black')\n",
    "axs[0].plot(np.cos(np.linspace(0, 10, 100)), label='Component 2', color='black')\n",
    "axs[0].arrow(50, 0.5, 10, 0, head_width=0.1, head_length=5, fc='blue', ec='blue')\n",
    "axs[0].arrow(70, -0.5, -10, 0, head_width=0.1, head_length=5, fc='green', ec='green')\n",
    "axs[0].set_title(\"Microscopic View\")\n",
    "axs[0].axis('off')\n",
    "\n",
    "# Middle Panel: Network Representation\n",
    "G = nx.DiGraph()\n",
    "G.add_edges_from([(0, 1), (1, 2), (2, 0), (2, 3)])\n",
    "pos = nx.spring_layout(G)\n",
    "nx.draw(G, pos, with_labels=True, node_color=['pink', 'blue', 'green', 'purple'], ax=axs[1], edge_color='black')\n",
    "axs[1].set_title(\"Abstracted Network\")\n",
    "\n",
    "# Right Panel: Dynamics Plot\n",
    "t = np.linspace(0, 10, 100)\n",
    "axs[2].plot(t, np.tanh(t - 5), label='Variable 1', color='purple')\n",
    "axs[2].plot(t, -np.tanh(t - 5), label='Variable 2', color='blue')\n",
    "axs[2].plot(t, 0.1 * np.sin(t), label='Variable 3', color='green')\n",
    "axs[2].axvline(5, linestyle='dashed', color='gray')\n",
    "axs[2].legend()\n",
    "axs[2].set_title(\"Macroscopic Dynamics\")\n",
    "\n",
    "plt.tight_layout()\n",
    "plt.show()\n",
    "\n",
    "\n",
    "# New Figure: Curved Arrows for Three Nodes\n",
    "fig, ax = plt.subplots(figsize=(4, 4))\n",
    "G = nx.DiGraph()\n",
    "edges = [(\"RNA 1\", \"RNA 2\"), (\"RNA 2\", \"RNA 3\"), (\"RNA 3\", \"RNA 1\"), (\"RNA 2\", \"RNA 1\"), (\"RNA 3\", \"RNA 2\"), (\"RNA 1\", \"RNA 3\")]\n",
    "G.add_edges_from(edges)\n",
    "for node in G.nodes():\n",
    "    G.add_edge(node, node)\n",
    "pos = {\"RNA 1\": (0, 1), \"RNA 2\": (-1, 0), \"RNA 3\": (1, 0)}\n",
    "\n",
    "# Assign the same opacity for each pair of edges between the same nodes\n",
    "edge_opacity = {}\n",
    "opacities = [0.2, 0.6, 1.0]\n",
    "opacities_iter = iter(opacities)\n",
    "for u, v in edges:\n",
    "    if (v, u) in edge_opacity:\n",
    "        edge_opacity[(u, v)] = edge_opacity[(v, u)]\n",
    "    else:\n",
    "        edge_opacity[(u, v)] = next(opacities_iter)\n",
    "\n",
    "edge_colors = [(0, 0, 0, edge_opacity[edge]) for edge in edges]\n",
    "nx.draw(G, pos, with_labels=True, labels={node: node for node in G.nodes()}, node_color='lightgreen', edge_color=edge_colors, arrows=True, connectionstyle='arc3,rad=0.2', ax=ax, node_size=2000, node_shape='o')\n",
    "ax.set_title(\"Curved Arrows Between Nodes with Paired Opacity\")\n",
    "plt.tight_layout()\n",
    "plt.show()\n"
   ]
  }
 ],
 "metadata": {
  "kernelspec": {
   "display_name": "Python 3",
   "language": "python",
   "name": "python3"
  },
  "language_info": {
   "codemirror_mode": {
    "name": "ipython",
    "version": 3
   },
   "file_extension": ".py",
   "mimetype": "text/x-python",
   "name": "python",
   "nbconvert_exporter": "python",
   "pygments_lexer": "ipython3",
   "version": "3.10.12"
  }
 },
 "nbformat": 4,
 "nbformat_minor": 2
}
