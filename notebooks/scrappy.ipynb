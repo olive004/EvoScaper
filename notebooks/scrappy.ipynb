{
 "cells": [
  {
   "cell_type": "code",
   "execution_count": 52,
   "metadata": {},
   "outputs": [
    {
     "name": "stdout",
     "output_type": "stream",
     "text": [
      "The autoreload extension is already loaded. To reload it, use:\n",
      "  %reload_ext autoreload\n"
     ]
    }
   ],
   "source": [
    "%load_ext autoreload\n",
    "%autoreload 2"
   ]
  },
  {
   "cell_type": "markdown",
   "metadata": {},
   "source": [
    "# Misc"
   ]
  },
  {
   "cell_type": "code",
   "execution_count": 53,
   "metadata": {},
   "outputs": [],
   "source": [
    "import jax \n",
    "import jax.numpy as jnp\n",
    "import numpy as np\n",
    "import seaborn as sns\n",
    "import matplotlib.pyplot as plt\n",
    "import optax\n",
    "from scipy.special import factorial\n",
    "import diffrax as dfx\n",
    "from functools import partial\n",
    "from bioreaction.misc.misc import flatten_listlike\n",
    "\n",
    "jax.config.update('jax_platform_name', 'gpu')\n",
    "\n",
    "np.random.seed(0)\n"
   ]
  },
  {
   "cell_type": "code",
   "execution_count": 54,
   "metadata": {},
   "outputs": [],
   "source": [
    "def one_step_de_sim_expanded(spec_conc, inputs, outputs, forward_rates, reverse_rates):\n",
    "    concentration_factors_in = jnp.prod(\n",
    "        jnp.power(spec_conc, (inputs)), axis=1)\n",
    "    concentration_factors_out = jnp.prod(\n",
    "        jnp.power(spec_conc, (outputs)), axis=1)\n",
    "    forward_delta = concentration_factors_in * forward_rates\n",
    "    reverse_delta = concentration_factors_out * reverse_rates\n",
    "    return (forward_delta - reverse_delta) @ (outputs - inputs)\n",
    "\n",
    "\n",
    "# ODE Terms\n",
    "def bioreaction_sim_expanded(t, y,\n",
    "                             args,\n",
    "                             inputs, outputs,\n",
    "                             #  signal, signal_onehot: jnp.ndarray,\n",
    "                             forward_rates=None, reverse_rates=None):\n",
    "    return one_step_de_sim_expanded(\n",
    "        spec_conc=y, inputs=inputs,\n",
    "        outputs=outputs,\n",
    "        forward_rates=forward_rates,\n",
    "        reverse_rates=reverse_rates)  # + signal(t) * signal_onehot\n",
    "\n",
    "\n",
    "def bioreaction_sim_dfx_expanded(y0, t0, t1, dt0,\n",
    "                                 inputs, outputs, forward_rates, reverse_rates,\n",
    "                                 solver=dfx.Tsit5(),\n",
    "                                 saveat=dfx.SaveAt(\n",
    "                                     t0=True, t1=True, steps=True),\n",
    "                                 max_steps=16**5,\n",
    "                                 stepsize_controller=dfx.ConstantStepSize()):\n",
    "    term = dfx.ODETerm(\n",
    "        partial(bioreaction_sim_expanded,\n",
    "                inputs=inputs, outputs=outputs,\n",
    "                forward_rates=forward_rates.squeeze(), reverse_rates=reverse_rates.squeeze()\n",
    "                )\n",
    "    )\n",
    "    return dfx.diffeqsolve(term, solver,\n",
    "                           t0=t0, t1=t1, dt0=dt0,\n",
    "                           y0=y0.squeeze(),\n",
    "                           saveat=saveat, max_steps=max_steps,\n",
    "                           stepsize_controller=stepsize_controller)\n",
    "\n",
    "\n",
    "def f(reverse_rates, y0, t0, t1, dt0,\n",
    "      inputs, outputs, forward_rates,\n",
    "      output_idxs):\n",
    "    s = bioreaction_sim_dfx_expanded(y0, t0, t1, dt0,\n",
    "                                     inputs, outputs, forward_rates, reverse_rates,\n",
    "                                     saveat=dfx.SaveAt(ts=np.linspace(t0, t1, 100)))\n",
    "    ys = s.ys\n",
    "    # ys = s.ys[:np.argmax(s.ts >= np.inf), :]\n",
    "    # ts = s.ts[:np.argmax(s.ts >= np.inf)]\n",
    "\n",
    "    cost = jnp.sum(jnp.abs(jnp.max(ys, axis=0)[\n",
    "        output_idxs] - ys[-1, output_idxs]))\n",
    "    return -cost"
   ]
  },
  {
   "cell_type": "code",
   "execution_count": 55,
   "metadata": {},
   "outputs": [],
   "source": [
    "n_species = 3\n",
    "n_circuits = 5\n",
    "n_reactions = np.sum(np.arange(n_species+1))\n",
    "tot_species = n_species + n_reactions\n",
    "signal_idxs = np.array([0])\n",
    "output_idxs = np.array([1, 2])\n",
    "y0 = np.array([200.0] * n_species + [0.0] * n_reactions) # [None, :] * np.ones((n_circuits, 1))\n",
    "k1 = 0.00150958097\n",
    "t0, t1, dt0 = 0, 20, 0.001\n",
    "inputs, outputs = np.zeros((n_reactions, tot_species)), np.zeros(\n",
    "    (n_reactions, tot_species))\n",
    "inds = flatten_listlike([[(i, j) for j in range(i, n_species)]\n",
    "                        for i in range(n_species)])\n",
    "for i in range(n_reactions):\n",
    "    inputs[i, inds[i][0]] += 1\n",
    "    inputs[i, inds[i][1]] += 1\n",
    "    outputs[i, i+n_species] += 1\n",
    "    \n",
    "forward_rates = np.ones(n_reactions) * k1\n",
    "reverse_rates = np.random.rand(n_circuits, n_reactions) * 2 * k1\n",
    "\n",
    "f_t = partial(f, y0=y0, t0=t0, t1=t1, dt0=dt0, inputs=inputs, outputs=outputs, forward_rates=forward_rates, output_idxs=output_idxs)"
   ]
  },
  {
   "cell_type": "code",
   "execution_count": 56,
   "metadata": {},
   "outputs": [],
   "source": [
    "# Test it\n",
    "cost = jax.vmap(f_t)(reverse_rates)\n"
   ]
  },
  {
   "cell_type": "code",
   "execution_count": 57,
   "metadata": {},
   "outputs": [
    {
     "data": {
      "text/plain": [
       "Array([-379.9097 , -379.2887 , -381.55658, -378.7838 , -379.63678],      dtype=float32)"
      ]
     },
     "execution_count": 57,
     "metadata": {},
     "output_type": "execute_result"
    }
   ],
   "source": [
    "cost"
   ]
  },
  {
   "cell_type": "code",
   "execution_count": 58,
   "metadata": {},
   "outputs": [],
   "source": [
    "l2_reg_alpha = 0.1\n",
    "learning_rate = 0.001\n",
    "warmup_epochs = 3\n",
    "epochs = 5\n",
    "n_batches = 1\n",
    "warmup_fn = optax.linear_schedule(\n",
    "    init_value=0., end_value=learning_rate,\n",
    "    transition_steps=warmup_epochs * n_batches)\n",
    "cosine_epochs = max(epochs - warmup_epochs, 1)\n",
    "cosine_fn = optax.cosine_decay_schedule(\n",
    "    init_value=0.01, decay_steps=1000) #, alpha=l2_reg_alpha)\n",
    "schedule_fn = optax.join_schedules(\n",
    "    schedules=[warmup_fn, cosine_fn],\n",
    "    boundaries=[warmup_epochs * n_batches])\n",
    "optimiser = optax.sgd(learning_rate=schedule_fn)\n",
    "optimiser_state = optimiser.init(reverse_rates[0])"
   ]
  },
  {
   "cell_type": "code",
   "execution_count": 59,
   "metadata": {},
   "outputs": [],
   "source": [
    "def f_scan(inp, cr):\n",
    "    c, r = cr\n",
    "    reverse_rates, optimiser_state = inp\n",
    "    c, grads = jax.vmap(jax.value_and_grad(f_t, argnums=0))(reverse_rates)\n",
    "    updates, optimiser_state = optimiser.update(grads, optimiser_state)\n",
    "    reverse_rates = optax.apply_updates(reverse_rates, updates)\n",
    "    # reverse_rates = np.where(reverse_rates <= 0, 1e-5, reverse_rates)\n",
    "    return [reverse_rates, optimiser_state], [c, reverse_rates]\n",
    "\n",
    "cs = np.zeros([epochs, n_circuits])\n",
    "rs = np.zeros([epochs, *reverse_rates.shape])"
   ]
  },
  {
   "cell_type": "code",
   "execution_count": 60,
   "metadata": {},
   "outputs": [],
   "source": [
    "ro, crs = jax.lax.scan(f_scan, init=[reverse_rates, optimiser_state], xs=[cs, rs])\n",
    "\n",
    "fin_reverse_rates, optimiser_state = ro\n",
    "cs, all_reverse_rates = crs"
   ]
  },
  {
   "cell_type": "code",
   "execution_count": 61,
   "metadata": {},
   "outputs": [
    {
     "data": {
      "text/plain": [
       "Array([[-379.9097 , -379.2887 , -381.55658, -378.7838 , -379.63678],\n",
       "       [-379.9097 , -379.2887 , -381.55658, -378.7838 , -379.63678],\n",
       "       [       nan,        nan,        nan,        nan,        nan],\n",
       "       [       nan,        nan,        nan,        nan,        nan],\n",
       "       [       nan,        nan,        nan,        nan,        nan]],      dtype=float32)"
      ]
     },
     "execution_count": 61,
     "metadata": {},
     "output_type": "execute_result"
    }
   ],
   "source": [
    "cs"
   ]
  },
  {
   "cell_type": "code",
   "execution_count": 62,
   "metadata": {},
   "outputs": [
    {
     "data": {
      "text/plain": [
       "Array([0.00165696, 0.00215927, 0.00181984, 0.00164509, 0.00127908,\n",
       "       0.00195006], dtype=float32)"
      ]
     },
     "execution_count": 62,
     "metadata": {},
     "output_type": "execute_result"
    }
   ],
   "source": [
    "all_reverse_rates[0, 0]"
   ]
  },
  {
   "cell_type": "code",
   "execution_count": 63,
   "metadata": {},
   "outputs": [
    {
     "data": {
      "image/png": "[encoded data removed]",
      "text/plain": [
       "<Figure size 2500x300 with 10 Axes>"
      ]
     },
     "metadata": {},
     "output_type": "display_data"
    }
   ],
   "source": [
    "fig = plt.figure(figsize=(5*n_circuits, 3))\n",
    "for c in range(n_circuits):\n",
    "    ax = plt.subplot(1, n_circuits, c+1)\n",
    "    sns.heatmap(all_reverse_rates[:, c, :])"
   ]
  },
  {
   "cell_type": "markdown",
   "metadata": {},
   "source": [
    "### Unpacked scan (for loop)"
   ]
  },
  {
   "cell_type": "code",
   "execution_count": 64,
   "metadata": {},
   "outputs": [
    {
     "name": "stdout",
     "output_type": "stream",
     "text": [
      "1\n",
      "[[[ 1.65695684e-03  2.15927251e-03  1.81984024e-03  1.64509057e-03\n",
      "    1.27908245e-03  1.95005892e-03]\n",
      "  [ 1.32114665e-03  2.69240710e-03  2.90945393e-03  1.15767204e-03\n",
      "    2.39034610e-03  1.59681941e-03]\n",
      "  [ 1.71501852e-03  2.79452614e-03  2.14469363e-04  2.63057466e-04\n",
      "    6.10426160e-05  2.51381415e-03]\n",
      "  [ 2.34938125e-03  2.62670757e-03  2.95460725e-03  2.41278912e-03\n",
      "    1.39328093e-03  2.35654398e-03]\n",
      "  [ 3.57089645e-04  1.93202519e-03  4.32806789e-04  2.85210844e-03\n",
      "    1.57554459e-03  1.25193155e-03]]\n",
      "\n",
      " [[ 1.35278678e+00 -2.52873611e+00 -2.55286002e+00 -6.47882605e+00\n",
      "   -6.54178095e+00 -6.42996645e+00]\n",
      "  [ 1.35298288e+00 -2.46813726e+00 -2.44502187e+00 -6.50311375e+00\n",
      "   -6.29504681e+00 -6.42343712e+00]\n",
      "  [ 1.33103323e+00 -2.56864667e+00 -2.75879955e+00 -6.85038853e+00\n",
      "   -6.89273739e+00 -6.47569227e+00]\n",
      "  [ 1.32810998e+00 -2.44758677e+00 -2.42219353e+00 -6.23753691e+00\n",
      "   -6.40338230e+00 -6.24314928e+00]\n",
      "  [ 1.43159437e+00 -2.50057936e+00 -2.65119123e+00 -6.30314875e+00\n",
      "   -6.53150129e+00 -6.60489464e+00]]\n",
      "\n",
      " [[            nan             nan             nan             nan\n",
      "               nan             nan]\n",
      "  [            nan             nan             nan             nan\n",
      "               nan             nan]\n",
      "  [            nan             nan             nan             nan\n",
      "               nan             nan]\n",
      "  [            nan             nan             nan             nan\n",
      "               nan             nan]\n",
      "  [            nan             nan             nan             nan\n",
      "               nan             nan]]\n",
      "\n",
      " [[ 0.00000000e+00  0.00000000e+00  0.00000000e+00  0.00000000e+00\n",
      "    0.00000000e+00  0.00000000e+00]\n",
      "  [ 0.00000000e+00  0.00000000e+00  0.00000000e+00  0.00000000e+00\n",
      "    0.00000000e+00  0.00000000e+00]\n",
      "  [ 0.00000000e+00  0.00000000e+00  0.00000000e+00  0.00000000e+00\n",
      "    0.00000000e+00  0.00000000e+00]\n",
      "  [ 0.00000000e+00  0.00000000e+00  0.00000000e+00  0.00000000e+00\n",
      "    0.00000000e+00  0.00000000e+00]\n",
      "  [ 0.00000000e+00  0.00000000e+00  0.00000000e+00  0.00000000e+00\n",
      "    0.00000000e+00  0.00000000e+00]]\n",
      "\n",
      " [[ 0.00000000e+00  0.00000000e+00  0.00000000e+00  0.00000000e+00\n",
      "    0.00000000e+00  0.00000000e+00]\n",
      "  [ 0.00000000e+00  0.00000000e+00  0.00000000e+00  0.00000000e+00\n",
      "    0.00000000e+00  0.00000000e+00]\n",
      "  [ 0.00000000e+00  0.00000000e+00  0.00000000e+00  0.00000000e+00\n",
      "    0.00000000e+00  0.00000000e+00]\n",
      "  [ 0.00000000e+00  0.00000000e+00  0.00000000e+00  0.00000000e+00\n",
      "    0.00000000e+00  0.00000000e+00]\n",
      "  [ 0.00000000e+00  0.00000000e+00  0.00000000e+00  0.00000000e+00\n",
      "    0.00000000e+00  0.00000000e+00]]\n",
      "\n",
      " [[ 0.00000000e+00  0.00000000e+00  0.00000000e+00  0.00000000e+00\n",
      "    0.00000000e+00  0.00000000e+00]\n",
      "  [ 0.00000000e+00  0.00000000e+00  0.00000000e+00  0.00000000e+00\n",
      "    0.00000000e+00  0.00000000e+00]\n",
      "  [ 0.00000000e+00  0.00000000e+00  0.00000000e+00  0.00000000e+00\n",
      "    0.00000000e+00  0.00000000e+00]\n",
      "  [ 0.00000000e+00  0.00000000e+00  0.00000000e+00  0.00000000e+00\n",
      "    0.00000000e+00  0.00000000e+00]\n",
      "  [ 0.00000000e+00  0.00000000e+00  0.00000000e+00  0.00000000e+00\n",
      "    0.00000000e+00  0.00000000e+00]]]\n",
      "[[[ 1.65695684e-03  2.15927251e-03  1.81984024e-03  1.64509057e-03\n",
      "    1.27908245e-03  1.95005892e-03]\n",
      "  [ 1.32114665e-03  2.69240710e-03  2.90945393e-03  1.15767204e-03\n",
      "    2.39034610e-03  1.59681941e-03]\n",
      "  [ 1.71501852e-03  2.79452614e-03  2.14469363e-04  2.63057466e-04\n",
      "    6.10426160e-05  2.51381415e-03]\n",
      "  [ 2.34938125e-03  2.62670757e-03  2.95460725e-03  2.41278912e-03\n",
      "    1.39328093e-03  2.35654398e-03]\n",
      "  [ 3.57089645e-04  1.93202519e-03  4.32806789e-04  2.85210844e-03\n",
      "    1.57554459e-03  1.25193155e-03]]\n",
      "\n",
      " [[ 1.35278678e+00 -2.52873611e+00 -2.55286002e+00 -6.47882605e+00\n",
      "   -6.54178095e+00 -6.42996645e+00]\n",
      "  [ 1.35298288e+00 -2.46813726e+00 -2.44502187e+00 -6.50311375e+00\n",
      "   -6.29504681e+00 -6.42343712e+00]\n",
      "  [ 1.33103323e+00 -2.56864667e+00 -2.75879955e+00 -6.85038853e+00\n",
      "   -6.89273739e+00 -6.47569227e+00]\n",
      "  [ 1.32810998e+00 -2.44758677e+00 -2.42219353e+00 -6.23753691e+00\n",
      "   -6.40338230e+00 -6.24314928e+00]\n",
      "  [ 1.43159437e+00 -2.50057936e+00 -2.65119123e+00 -6.30314875e+00\n",
      "   -6.53150129e+00 -6.60489464e+00]]\n",
      "\n",
      " [[            nan             nan             nan             nan\n",
      "               nan             nan]\n",
      "  [            nan             nan             nan             nan\n",
      "               nan             nan]\n",
      "  [            nan             nan             nan             nan\n",
      "               nan             nan]\n",
      "  [            nan             nan             nan             nan\n",
      "               nan             nan]\n",
      "  [            nan             nan             nan             nan\n",
      "               nan             nan]]\n",
      "\n",
      " [[            nan             nan             nan             nan\n",
      "               nan             nan]\n",
      "  [            nan             nan             nan             nan\n",
      "               nan             nan]\n",
      "  [            nan             nan             nan             nan\n",
      "               nan             nan]\n",
      "  [            nan             nan             nan             nan\n",
      "               nan             nan]\n",
      "  [            nan             nan             nan             nan\n",
      "               nan             nan]]\n",
      "\n",
      " [[ 0.00000000e+00  0.00000000e+00  0.00000000e+00  0.00000000e+00\n",
      "    0.00000000e+00  0.00000000e+00]\n",
      "  [ 0.00000000e+00  0.00000000e+00  0.00000000e+00  0.00000000e+00\n",
      "    0.00000000e+00  0.00000000e+00]\n",
      "  [ 0.00000000e+00  0.00000000e+00  0.00000000e+00  0.00000000e+00\n",
      "    0.00000000e+00  0.00000000e+00]\n",
      "  [ 0.00000000e+00  0.00000000e+00  0.00000000e+00  0.00000000e+00\n",
      "    0.00000000e+00  0.00000000e+00]\n",
      "  [ 0.00000000e+00  0.00000000e+00  0.00000000e+00  0.00000000e+00\n",
      "    0.00000000e+00  0.00000000e+00]]\n",
      "\n",
      " [[ 0.00000000e+00  0.00000000e+00  0.00000000e+00  0.00000000e+00\n",
      "    0.00000000e+00  0.00000000e+00]\n",
      "  [ 0.00000000e+00  0.00000000e+00  0.00000000e+00  0.00000000e+00\n",
      "    0.00000000e+00  0.00000000e+00]\n",
      "  [ 0.00000000e+00  0.00000000e+00  0.00000000e+00  0.00000000e+00\n",
      "    0.00000000e+00  0.00000000e+00]\n",
      "  [ 0.00000000e+00  0.00000000e+00  0.00000000e+00  0.00000000e+00\n",
      "    0.00000000e+00  0.00000000e+00]\n",
      "  [ 0.00000000e+00  0.00000000e+00  0.00000000e+00  0.00000000e+00\n",
      "    0.00000000e+00  0.00000000e+00]]]\n",
      "[[[ 1.65695684e-03  2.15927251e-03  1.81984024e-03  1.64509057e-03\n",
      "    1.27908245e-03  1.95005892e-03]\n",
      "  [ 1.32114665e-03  2.69240710e-03  2.90945393e-03  1.15767204e-03\n",
      "    2.39034610e-03  1.59681941e-03]\n",
      "  [ 1.71501852e-03  2.79452614e-03  2.14469363e-04  2.63057466e-04\n",
      "    6.10426160e-05  2.51381415e-03]\n",
      "  [ 2.34938125e-03  2.62670757e-03  2.95460725e-03  2.41278912e-03\n",
      "    1.39328093e-03  2.35654398e-03]\n",
      "  [ 3.57089645e-04  1.93202519e-03  4.32806789e-04  2.85210844e-03\n",
      "    1.57554459e-03  1.25193155e-03]]\n",
      "\n",
      " [[ 1.35278678e+00 -2.52873611e+00 -2.55286002e+00 -6.47882605e+00\n",
      "   -6.54178095e+00 -6.42996645e+00]\n",
      "  [ 1.35298288e+00 -2.46813726e+00 -2.44502187e+00 -6.50311375e+00\n",
      "   -6.29504681e+00 -6.42343712e+00]\n",
      "  [ 1.33103323e+00 -2.56864667e+00 -2.75879955e+00 -6.85038853e+00\n",
      "   -6.89273739e+00 -6.47569227e+00]\n",
      "  [ 1.32810998e+00 -2.44758677e+00 -2.42219353e+00 -6.23753691e+00\n",
      "   -6.40338230e+00 -6.24314928e+00]\n",
      "  [ 1.43159437e+00 -2.50057936e+00 -2.65119123e+00 -6.30314875e+00\n",
      "   -6.53150129e+00 -6.60489464e+00]]\n",
      "\n",
      " [[            nan             nan             nan             nan\n",
      "               nan             nan]\n",
      "  [            nan             nan             nan             nan\n",
      "               nan             nan]\n",
      "  [            nan             nan             nan             nan\n",
      "               nan             nan]\n",
      "  [            nan             nan             nan             nan\n",
      "               nan             nan]\n",
      "  [            nan             nan             nan             nan\n",
      "               nan             nan]]\n",
      "\n",
      " [[            nan             nan             nan             nan\n",
      "               nan             nan]\n",
      "  [            nan             nan             nan             nan\n",
      "               nan             nan]\n",
      "  [            nan             nan             nan             nan\n",
      "               nan             nan]\n",
      "  [            nan             nan             nan             nan\n",
      "               nan             nan]\n",
      "  [            nan             nan             nan             nan\n",
      "               nan             nan]]\n",
      "\n",
      " [[            nan             nan             nan             nan\n",
      "               nan             nan]\n",
      "  [            nan             nan             nan             nan\n",
      "               nan             nan]\n",
      "  [            nan             nan             nan             nan\n",
      "               nan             nan]\n",
      "  [            nan             nan             nan             nan\n",
      "               nan             nan]\n",
      "  [            nan             nan             nan             nan\n",
      "               nan             nan]]\n",
      "\n",
      " [[ 0.00000000e+00  0.00000000e+00  0.00000000e+00  0.00000000e+00\n",
      "    0.00000000e+00  0.00000000e+00]\n",
      "  [ 0.00000000e+00  0.00000000e+00  0.00000000e+00  0.00000000e+00\n",
      "    0.00000000e+00  0.00000000e+00]\n",
      "  [ 0.00000000e+00  0.00000000e+00  0.00000000e+00  0.00000000e+00\n",
      "    0.00000000e+00  0.00000000e+00]\n",
      "  [ 0.00000000e+00  0.00000000e+00  0.00000000e+00  0.00000000e+00\n",
      "    0.00000000e+00  0.00000000e+00]\n",
      "  [ 0.00000000e+00  0.00000000e+00  0.00000000e+00  0.00000000e+00\n",
      "    0.00000000e+00  0.00000000e+00]]]\n",
      "[[[ 1.65695684e-03  2.15927251e-03  1.81984024e-03  1.64509057e-03\n",
      "    1.27908245e-03  1.95005892e-03]\n",
      "  [ 1.32114665e-03  2.69240710e-03  2.90945393e-03  1.15767204e-03\n",
      "    2.39034610e-03  1.59681941e-03]\n",
      "  [ 1.71501852e-03  2.79452614e-03  2.14469363e-04  2.63057466e-04\n",
      "    6.10426160e-05  2.51381415e-03]\n",
      "  [ 2.34938125e-03  2.62670757e-03  2.95460725e-03  2.41278912e-03\n",
      "    1.39328093e-03  2.35654398e-03]\n",
      "  [ 3.57089645e-04  1.93202519e-03  4.32806789e-04  2.85210844e-03\n",
      "    1.57554459e-03  1.25193155e-03]]\n",
      "\n",
      " [[ 1.35278678e+00 -2.52873611e+00 -2.55286002e+00 -6.47882605e+00\n",
      "   -6.54178095e+00 -6.42996645e+00]\n",
      "  [ 1.35298288e+00 -2.46813726e+00 -2.44502187e+00 -6.50311375e+00\n",
      "   -6.29504681e+00 -6.42343712e+00]\n",
      "  [ 1.33103323e+00 -2.56864667e+00 -2.75879955e+00 -6.85038853e+00\n",
      "   -6.89273739e+00 -6.47569227e+00]\n",
      "  [ 1.32810998e+00 -2.44758677e+00 -2.42219353e+00 -6.23753691e+00\n",
      "   -6.40338230e+00 -6.24314928e+00]\n",
      "  [ 1.43159437e+00 -2.50057936e+00 -2.65119123e+00 -6.30314875e+00\n",
      "   -6.53150129e+00 -6.60489464e+00]]\n",
      "\n",
      " [[            nan             nan             nan             nan\n",
      "               nan             nan]\n",
      "  [            nan             nan             nan             nan\n",
      "               nan             nan]\n",
      "  [            nan             nan             nan             nan\n",
      "               nan             nan]\n",
      "  [            nan             nan             nan             nan\n",
      "               nan             nan]\n",
      "  [            nan             nan             nan             nan\n",
      "               nan             nan]]\n",
      "\n",
      " [[            nan             nan             nan             nan\n",
      "               nan             nan]\n",
      "  [            nan             nan             nan             nan\n",
      "               nan             nan]\n",
      "  [            nan             nan             nan             nan\n",
      "               nan             nan]\n",
      "  [            nan             nan             nan             nan\n",
      "               nan             nan]\n",
      "  [            nan             nan             nan             nan\n",
      "               nan             nan]]\n",
      "\n",
      " [[            nan             nan             nan             nan\n",
      "               nan             nan]\n",
      "  [            nan             nan             nan             nan\n",
      "               nan             nan]\n",
      "  [            nan             nan             nan             nan\n",
      "               nan             nan]\n",
      "  [            nan             nan             nan             nan\n",
      "               nan             nan]\n",
      "  [            nan             nan             nan             nan\n",
      "               nan             nan]]\n",
      "\n",
      " [[            nan             nan             nan             nan\n",
      "               nan             nan]\n",
      "  [            nan             nan             nan             nan\n",
      "               nan             nan]\n",
      "  [            nan             nan             nan             nan\n",
      "               nan             nan]\n",
      "  [            nan             nan             nan             nan\n",
      "               nan             nan]\n",
      "  [            nan             nan             nan             nan\n",
      "               nan             nan]]]\n"
     ]
    }
   ],
   "source": [
    "cs = np.zeros([epochs, n_circuits])\n",
    "rs = np.zeros([epochs + 1, *reverse_rates.shape])\n",
    "rs[0] = reverse_rates\n",
    "inp = [reverse_rates, optimiser_state]\n",
    "for i, cr in enumerate(zip(cs, rs)):\n",
    "    if i == 1:\n",
    "        print(i)\n",
    "    inp, crs = f_scan(inp, cr)\n",
    "    fin_reverse_rates, optimiser_state = inp\n",
    "    cs[i] = np.array(crs[0])\n",
    "    rs[i+1] = crs[1]\n",
    "    if np.sum(np.isnan(rs[:, 3, :])) > 0:\n",
    "        print(rs)"
   ]
  },
  {
   "cell_type": "code",
   "execution_count": 65,
   "metadata": {},
   "outputs": [
    {
     "name": "stderr",
     "output_type": "stream",
     "text": [
      "/tmp/ipykernel_385840/3882261166.py:4: RuntimeWarning: invalid value encountered in log10\n",
      "  sns.heatmap(np.log10(rs[1:, c, :]))\n",
      "/tmp/ipykernel_385840/3882261166.py:4: RuntimeWarning: invalid value encountered in log10\n",
      "  sns.heatmap(np.log10(rs[1:, c, :]))\n",
      "/tmp/ipykernel_385840/3882261166.py:4: RuntimeWarning: invalid value encountered in log10\n",
      "  sns.heatmap(np.log10(rs[1:, c, :]))\n",
      "/tmp/ipykernel_385840/3882261166.py:4: RuntimeWarning: invalid value encountered in log10\n",
      "  sns.heatmap(np.log10(rs[1:, c, :]))\n",
      "/tmp/ipykernel_385840/3882261166.py:4: RuntimeWarning: invalid value encountered in log10\n",
      "  sns.heatmap(np.log10(rs[1:, c, :]))\n"
     ]
    },
    {
     "data": {
      "image/png": "[encoded data removed]",
      "text/plain": [
       "<Figure size 2500x300 with 10 Axes>"
      ]
     },
     "metadata": {},
     "output_type": "display_data"
    }
   ],
   "source": [
    "fig = plt.figure(figsize=(5*n_circuits, 3))\n",
    "for c in range(n_circuits):\n",
    "    ax = plt.subplot(1, n_circuits, c+1)\n",
    "    sns.heatmap(np.log10(rs[1:, c, :]))"
   ]
  },
  {
   "cell_type": "code",
   "execution_count": null,
   "metadata": {},
   "outputs": [],
   "source": []
  }
 ],
 "metadata": {
  "kernelspec": {
   "display_name": "env_evo",
   "language": "python",
   "name": "python3"
  },
  "language_info": {
   "codemirror_mode": {
    "name": "ipython",
    "version": 3
   },
   "file_extension": ".py",
   "mimetype": "text/x-python",
   "name": "python",
   "nbconvert_exporter": "python",
   "pygments_lexer": "ipython3",
   "version": "3.10.12"
  }
 },
 "nbformat": 4,
 "nbformat_minor": 2
}
