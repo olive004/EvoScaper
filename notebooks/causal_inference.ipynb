{
 "cells": [
  {
   "cell_type": "code",
   "execution_count": 1,
   "metadata": {},
   "outputs": [],
   "source": [
    "%load_ext autoreload\n",
    "%autoreload 2"
   ]
  },
  {
   "cell_type": "code",
   "execution_count": 2,
   "metadata": {},
   "outputs": [
    {
     "ename": "ModuleNotFoundError",
     "evalue": "No module named 'statsmodels.tools.validation'",
     "output_type": "error",
     "traceback": [
      "\u001b[0;31m---------------------------------------------------------------------------\u001b[0m",
      "\u001b[0;31mModuleNotFoundError\u001b[0m                       Traceback (most recent call last)",
      "\u001b[1;32m/home/wadh6511/Kode/EvoScaper/notebooks/causal_inference.ipynb Cell 2\u001b[0m line \u001b[0;36m1\n\u001b[0;32m----> <a href='vscode-notebook-cell:/home/wadh6511/Kode/EvoScaper/notebooks/causal_inference.ipynb#W1sZmlsZQ%3D%3D?line=0'>1</a>\u001b[0m \u001b[39mfrom\u001b[39;00m \u001b[39mdowhy\u001b[39;00m \u001b[39mimport\u001b[39;00m CausalModel\n\u001b[1;32m      <a href='vscode-notebook-cell:/home/wadh6511/Kode/EvoScaper/notebooks/causal_inference.ipynb#W1sZmlsZQ%3D%3D?line=1'>2</a>\u001b[0m \u001b[39mimport\u001b[39;00m \u001b[39mdowhy\u001b[39;00m\u001b[39m.\u001b[39;00m\u001b[39mdatasets\u001b[39;00m\n\u001b[1;32m      <a href='vscode-notebook-cell:/home/wadh6511/Kode/EvoScaper/notebooks/causal_inference.ipynb#W1sZmlsZQ%3D%3D?line=3'>4</a>\u001b[0m \u001b[39m# Generate some sample data\u001b[39;00m\n",
      "File \u001b[0;32m~/Kode/env_evo/lib/python3.10/site-packages/dowhy/__init__.py:4\u001b[0m\n\u001b[1;32m      1\u001b[0m \u001b[39mimport\u001b[39;00m \u001b[39mlogging\u001b[39;00m\n\u001b[1;32m      3\u001b[0m \u001b[39mfrom\u001b[39;00m \u001b[39mdowhy\u001b[39;00m\u001b[39m.\u001b[39;00m\u001b[39mcausal_identifier\u001b[39;00m \u001b[39mimport\u001b[39;00m EstimandType, identify_effect, identify_effect_auto, identify_effect_id\n\u001b[0;32m----> 4\u001b[0m \u001b[39mfrom\u001b[39;00m \u001b[39mdowhy\u001b[39;00m\u001b[39m.\u001b[39;00m\u001b[39mcausal_model\u001b[39;00m \u001b[39mimport\u001b[39;00m CausalModel\n\u001b[1;32m      6\u001b[0m logging\u001b[39m.\u001b[39mgetLogger(\u001b[39m__name__\u001b[39m)\u001b[39m.\u001b[39maddHandler(logging\u001b[39m.\u001b[39mNullHandler())\n\u001b[1;32m      8\u001b[0m \u001b[39m#\u001b[39;00m\n\u001b[1;32m      9\u001b[0m \u001b[39m# 0.0.0 is standard placeholder for poetry-dynamic-versioning\u001b[39;00m\n\u001b[1;32m     10\u001b[0m \u001b[39m# any changes to this should not be checked in\u001b[39;00m\n\u001b[1;32m     11\u001b[0m \u001b[39m#\u001b[39;00m\n",
      "File \u001b[0;32m~/Kode/env_evo/lib/python3.10/site-packages/dowhy/causal_model.py:12\u001b[0m\n\u001b[1;32m      9\u001b[0m \u001b[39mfrom\u001b[39;00m \u001b[39msympy\u001b[39;00m \u001b[39mimport\u001b[39;00m init_printing\n\u001b[1;32m     11\u001b[0m \u001b[39mimport\u001b[39;00m \u001b[39mdowhy\u001b[39;00m\u001b[39m.\u001b[39;00m\u001b[39mcausal_estimators\u001b[39;00m \u001b[39mas\u001b[39;00m \u001b[39mcausal_estimators\u001b[39;00m\n\u001b[0;32m---> 12\u001b[0m \u001b[39mimport\u001b[39;00m \u001b[39mdowhy\u001b[39;00m\u001b[39m.\u001b[39;00m\u001b[39mcausal_refuters\u001b[39;00m \u001b[39mas\u001b[39;00m \u001b[39mcausal_refuters\u001b[39;00m\n\u001b[1;32m     13\u001b[0m \u001b[39mimport\u001b[39;00m \u001b[39mdowhy\u001b[39;00m\u001b[39m.\u001b[39;00m\u001b[39mgraph_learners\u001b[39;00m \u001b[39mas\u001b[39;00m \u001b[39mgraph_learners\u001b[39;00m\n\u001b[1;32m     14\u001b[0m \u001b[39mimport\u001b[39;00m \u001b[39mdowhy\u001b[39;00m\u001b[39m.\u001b[39;00m\u001b[39mutils\u001b[39;00m\u001b[39m.\u001b[39;00m\u001b[39mcli_helpers\u001b[39;00m \u001b[39mas\u001b[39;00m \u001b[39mcli\u001b[39;00m\n",
      "File \u001b[0;32m~/Kode/env_evo/lib/python3.10/site-packages/dowhy/causal_refuters/__init__.py:5\u001b[0m\n\u001b[1;32m      2\u001b[0m \u001b[39mfrom\u001b[39;00m \u001b[39mimportlib\u001b[39;00m \u001b[39mimport\u001b[39;00m import_module\n\u001b[1;32m      4\u001b[0m \u001b[39mfrom\u001b[39;00m \u001b[39mdowhy\u001b[39;00m\u001b[39m.\u001b[39;00m\u001b[39mcausal_refuter\u001b[39;00m \u001b[39mimport\u001b[39;00m CausalRefuter\n\u001b[0;32m----> 5\u001b[0m \u001b[39mfrom\u001b[39;00m \u001b[39mdowhy\u001b[39;00m\u001b[39m.\u001b[39;00m\u001b[39mcausal_refuters\u001b[39;00m\u001b[39m.\u001b[39;00m\u001b[39madd_unobserved_common_cause\u001b[39;00m \u001b[39mimport\u001b[39;00m (\n\u001b[1;32m      6\u001b[0m     AddUnobservedCommonCause,\n\u001b[1;32m      7\u001b[0m     sensitivity_e_value,\n\u001b[1;32m      8\u001b[0m     sensitivity_simulation,\n\u001b[1;32m      9\u001b[0m )\n\u001b[1;32m     10\u001b[0m \u001b[39mfrom\u001b[39;00m \u001b[39mdowhy\u001b[39;00m\u001b[39m.\u001b[39;00m\u001b[39mcausal_refuters\u001b[39;00m\u001b[39m.\u001b[39;00m\u001b[39mbootstrap_refuter\u001b[39;00m \u001b[39mimport\u001b[39;00m BootstrapRefuter, refute_bootstrap\n\u001b[1;32m     11\u001b[0m \u001b[39mfrom\u001b[39;00m \u001b[39mdowhy\u001b[39;00m\u001b[39m.\u001b[39;00m\u001b[39mcausal_refuters\u001b[39;00m\u001b[39m.\u001b[39;00m\u001b[39mdata_subset_refuter\u001b[39;00m \u001b[39mimport\u001b[39;00m DataSubsetRefuter, refute_data_subset\n",
      "File \u001b[0;32m~/Kode/env_evo/lib/python3.10/site-packages/dowhy/causal_refuters/add_unobserved_common_cause.py:9\u001b[0m\n\u001b[1;32m      7\u001b[0m \u001b[39mimport\u001b[39;00m \u001b[39mpandas\u001b[39;00m \u001b[39mas\u001b[39;00m \u001b[39mpd\u001b[39;00m\n\u001b[1;32m      8\u001b[0m \u001b[39mimport\u001b[39;00m \u001b[39mscipy\u001b[39;00m\u001b[39m.\u001b[39;00m\u001b[39mstats\u001b[39;00m\n\u001b[0;32m----> 9\u001b[0m \u001b[39mimport\u001b[39;00m \u001b[39mstatsmodels\u001b[39;00m\u001b[39m.\u001b[39;00m\u001b[39mapi\u001b[39;00m \u001b[39mas\u001b[39;00m \u001b[39msm\u001b[39;00m\n\u001b[1;32m     10\u001b[0m \u001b[39mfrom\u001b[39;00m \u001b[39msklearn\u001b[39;00m\u001b[39m.\u001b[39;00m\u001b[39mlinear_model\u001b[39;00m \u001b[39mimport\u001b[39;00m LogisticRegression\n\u001b[1;32m     11\u001b[0m \u001b[39mfrom\u001b[39;00m \u001b[39msklearn\u001b[39;00m\u001b[39m.\u001b[39;00m\u001b[39mpreprocessing\u001b[39;00m \u001b[39mimport\u001b[39;00m StandardScaler\n",
      "File \u001b[0;32m~/Kode/env_evo/lib/python3.10/site-packages/statsmodels/__init__.py:1\u001b[0m\n\u001b[0;32m----> 1\u001b[0m \u001b[39mfrom\u001b[39;00m \u001b[39mstatsmodels\u001b[39;00m\u001b[39m.\u001b[39;00m\u001b[39mcompat\u001b[39;00m\u001b[39m.\u001b[39;00m\u001b[39mpatsy\u001b[39;00m \u001b[39mimport\u001b[39;00m monkey_patch_cat_dtype\n\u001b[1;32m      3\u001b[0m \u001b[39mfrom\u001b[39;00m \u001b[39mstatsmodels\u001b[39;00m\u001b[39m.\u001b[39;00m\u001b[39m_version\u001b[39;00m \u001b[39mimport\u001b[39;00m __version__, __version_tuple__\n\u001b[1;32m      5\u001b[0m __version_info__ \u001b[39m=\u001b[39m __version_tuple__\n",
      "File \u001b[0;32m~/Kode/env_evo/lib/python3.10/site-packages/statsmodels/compat/__init__.py:1\u001b[0m\n\u001b[0;32m----> 1\u001b[0m \u001b[39mfrom\u001b[39;00m \u001b[39mstatsmodels\u001b[39;00m\u001b[39m.\u001b[39;00m\u001b[39mtools\u001b[39;00m\u001b[39m.\u001b[39;00m\u001b[39m_testing\u001b[39;00m \u001b[39mimport\u001b[39;00m PytestTester\n\u001b[1;32m      3\u001b[0m \u001b[39mfrom\u001b[39;00m \u001b[39m.\u001b[39;00m\u001b[39mpython\u001b[39;00m \u001b[39mimport\u001b[39;00m (\n\u001b[1;32m      4\u001b[0m     PY37,\n\u001b[1;32m      5\u001b[0m     asunicode,\n\u001b[0;32m   (...)\u001b[0m\n\u001b[1;32m     11\u001b[0m     lfilter,\n\u001b[1;32m     12\u001b[0m )\n\u001b[1;32m     14\u001b[0m __all__ \u001b[39m=\u001b[39m [\n\u001b[1;32m     15\u001b[0m     \u001b[39m\"\u001b[39m\u001b[39mPY37\u001b[39m\u001b[39m\"\u001b[39m,\n\u001b[1;32m     16\u001b[0m     \u001b[39m\"\u001b[39m\u001b[39masunicode\u001b[39m\u001b[39m\"\u001b[39m,\n\u001b[0;32m   (...)\u001b[0m\n\u001b[1;32m     23\u001b[0m     \u001b[39m\"\u001b[39m\u001b[39mtest\u001b[39m\u001b[39m\"\u001b[39m,\n\u001b[1;32m     24\u001b[0m ]\n",
      "File \u001b[0;32m~/Kode/env_evo/lib/python3.10/site-packages/statsmodels/tools/__init__.py:1\u001b[0m\n\u001b[0;32m----> 1\u001b[0m \u001b[39mfrom\u001b[39;00m \u001b[39m.\u001b[39;00m\u001b[39mtools\u001b[39;00m \u001b[39mimport\u001b[39;00m add_constant, categorical\n\u001b[1;32m      2\u001b[0m \u001b[39mfrom\u001b[39;00m \u001b[39mstatsmodels\u001b[39;00m\u001b[39m.\u001b[39;00m\u001b[39mtools\u001b[39;00m\u001b[39m.\u001b[39;00m\u001b[39m_testing\u001b[39;00m \u001b[39mimport\u001b[39;00m PytestTester\n\u001b[1;32m      4\u001b[0m __all__ \u001b[39m=\u001b[39m [\u001b[39m'\u001b[39m\u001b[39mtest\u001b[39m\u001b[39m'\u001b[39m, \u001b[39m'\u001b[39m\u001b[39madd_constant\u001b[39m\u001b[39m'\u001b[39m, \u001b[39m'\u001b[39m\u001b[39mcategorical\u001b[39m\u001b[39m'\u001b[39m]\n",
      "File \u001b[0;32m~/Kode/env_evo/lib/python3.10/site-packages/statsmodels/tools/tools.py:9\u001b[0m\n\u001b[1;32m      6\u001b[0m \u001b[39mimport\u001b[39;00m \u001b[39mscipy\u001b[39;00m\u001b[39m.\u001b[39;00m\u001b[39mlinalg\u001b[39;00m\n\u001b[1;32m      8\u001b[0m \u001b[39mfrom\u001b[39;00m \u001b[39mstatsmodels\u001b[39;00m\u001b[39m.\u001b[39;00m\u001b[39mtools\u001b[39;00m\u001b[39m.\u001b[39;00m\u001b[39mdata\u001b[39;00m \u001b[39mimport\u001b[39;00m _is_using_pandas\n\u001b[0;32m----> 9\u001b[0m \u001b[39mfrom\u001b[39;00m \u001b[39mstatsmodels\u001b[39;00m\u001b[39m.\u001b[39;00m\u001b[39mtools\u001b[39;00m\u001b[39m.\u001b[39;00m\u001b[39mvalidation\u001b[39;00m \u001b[39mimport\u001b[39;00m array_like\n\u001b[1;32m     12\u001b[0m \u001b[39mdef\u001b[39;00m \u001b[39masstr2\u001b[39m(s):\n\u001b[1;32m     13\u001b[0m     \u001b[39mif\u001b[39;00m \u001b[39misinstance\u001b[39m(s, \u001b[39mstr\u001b[39m):\n",
      "\u001b[0;31mModuleNotFoundError\u001b[0m: No module named 'statsmodels.tools.validation'"
     ]
    }
   ],
   "source": [
    "from dowhy import CausalModel\n",
    "import dowhy.datasets\n",
    "\n",
    "# Generate some sample data\n",
    "data = dowhy.datasets.linear_dataset(\n",
    "    beta=10,\n",
    "    num_common_causes=5,\n",
    "    num_instruments=2,\n",
    "    num_samples=10000)\n",
    "\n",
    "# Step 1: Create a causal model from the data and given graph.\n",
    "model = CausalModel(\n",
    "    data=data[\"df\"],\n",
    "    treatment=data[\"treatment_name\"],\n",
    "    outcome=data[\"outcome_name\"],\n",
    "    graph=data[\"gml_graph\"])\n",
    "\n",
    "# Step 2: Identify causal effect and return target estimands\n",
    "identified_estimand = model.identify_effect()\n",
    "\n",
    "# Step 3: Estimate the target estimand using a statistical method.\n",
    "estimate = model.estimate_effect(identified_estimand,\n",
    "                                 method_name=\"backdoor.propensity_score_matching\")\n",
    "\n",
    "# Step 4: Refute the obtained estimate using multiple robustness checks.\n",
    "refute_results = model.refute_estimate(identified_estimand, estimate,\n",
    "                                       method_name=\"random_common_cause\")"
   ]
  }
 ],
 "metadata": {
  "kernelspec": {
   "display_name": "env_evo",
   "language": "python",
   "name": "python3"
  },
  "language_info": {
   "codemirror_mode": {
    "name": "ipython",
    "version": 3
   },
   "file_extension": ".py",
   "mimetype": "text/x-python",
   "name": "python",
   "nbconvert_exporter": "python",
   "pygments_lexer": "ipython3",
   "version": "3.10.12"
  }
 },
 "nbformat": 4,
 "nbformat_minor": 2
}
