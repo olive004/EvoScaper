{
 "cells": [
  {
   "cell_type": "code",
   "execution_count": 1,
   "metadata": {},
   "outputs": [],
   "source": [
    "%load_ext autoreload\n",
    "%autoreload 2"
   ]
  },
  {
   "cell_type": "code",
   "execution_count": 2,
   "metadata": {},
   "outputs": [],
   "source": [
    "import haiku as hk\n",
    "import jax\n",
    "import jax.numpy as jnp\n",
    "import numpy as np\n",
    "# import tensorflow as tf\n",
    "# import tensorflow_datasets as tfds\n",
    "jax.config.update('jax_platform_name', 'gpu')"
   ]
  },
  {
   "cell_type": "code",
   "execution_count": 3,
   "metadata": {},
   "outputs": [
    {
     "data": {
      "text/plain": [
       "'0.4.12'"
      ]
     },
     "execution_count": 3,
     "metadata": {},
     "output_type": "execute_result"
    }
   ],
   "source": [
    "jax.__version__"
   ]
  },
  {
   "cell_type": "code",
   "execution_count": 4,
   "metadata": {},
   "outputs": [
    {
     "name": "stderr",
     "output_type": "stream",
     "text": [
      "2023-06-13 17:35:42.322070: E external/xla/xla/stream_executor/cuda/cuda_dnn.cc:427] Loaded runtime CuDNN library: 8.5.0 but source was compiled with: 8.6.0.  CuDNN library needs to have matching major version and equal or higher minor version. If using a binary install, upgrade your CuDNN library.  If building from sources, make sure the library loaded at runtime is compatible with the version specified during compile configuration.\n"
     ]
    },
    {
     "ename": "XlaRuntimeError",
     "evalue": "FAILED_PRECONDITION: DNN library initialization failed. Look at the errors above for more details.",
     "output_type": "error",
     "traceback": [
      "\u001b[0;31m---------------------------------------------------------------------------\u001b[0m",
      "\u001b[0;31mXlaRuntimeError\u001b[0m                           Traceback (most recent call last)",
      "Cell \u001b[0;32mIn[4], line 13\u001b[0m\n\u001b[1;32m      9\u001b[0m \u001b[39mdef\u001b[39;00m \u001b[39mtest_vmap\u001b[39m(m):\n\u001b[1;32m     10\u001b[0m     \u001b[39mreturn\u001b[39;00m jnp\u001b[39m.\u001b[39msin(m)\n\u001b[0;32m---> 13\u001b[0m jax\u001b[39m.\u001b[39mvmap(test_vmap)(jnp\u001b[39m.\u001b[39;49mones(\u001b[39m4\u001b[39;49m))\n\u001b[1;32m     16\u001b[0m \u001b[39m## Numba test\u001b[39;00m\n\u001b[1;32m     17\u001b[0m \u001b[39mfrom\u001b[39;00m \u001b[39mnumba\u001b[39;00m \u001b[39mimport\u001b[39;00m jit, cuda\n",
      "File \u001b[0;32m~/Kode/env_evoscaper/lib/python3.10/site-packages/jax/_src/numpy/lax_numpy.py:2161\u001b[0m, in \u001b[0;36mones\u001b[0;34m(shape, dtype)\u001b[0m\n\u001b[1;32m   2159\u001b[0m shape \u001b[39m=\u001b[39m canonicalize_shape(shape)\n\u001b[1;32m   2160\u001b[0m dtypes\u001b[39m.\u001b[39mcheck_user_dtype_supported(dtype, \u001b[39m\"\u001b[39m\u001b[39mones\u001b[39m\u001b[39m\"\u001b[39m)\n\u001b[0;32m-> 2161\u001b[0m \u001b[39mreturn\u001b[39;00m lax\u001b[39m.\u001b[39;49mfull(shape, \u001b[39m1\u001b[39;49m, _jnp_dtype(dtype))\n",
      "File \u001b[0;32m~/Kode/env_evoscaper/lib/python3.10/site-packages/jax/_src/lax/lax.py:1205\u001b[0m, in \u001b[0;36mfull\u001b[0;34m(shape, fill_value, dtype)\u001b[0m\n\u001b[1;32m   1203\u001b[0m dtype \u001b[39m=\u001b[39m dtypes\u001b[39m.\u001b[39mcanonicalize_dtype(dtype \u001b[39mor\u001b[39;00m _dtype(fill_value))\n\u001b[1;32m   1204\u001b[0m fill_value \u001b[39m=\u001b[39m _convert_element_type(fill_value, dtype, weak_type)\n\u001b[0;32m-> 1205\u001b[0m \u001b[39mreturn\u001b[39;00m broadcast(fill_value, shape)\n",
      "File \u001b[0;32m~/Kode/env_evoscaper/lib/python3.10/site-packages/jax/_src/lax/lax.py:768\u001b[0m, in \u001b[0;36mbroadcast\u001b[0;34m(operand, sizes)\u001b[0m\n\u001b[1;32m    754\u001b[0m \u001b[39m\"\"\"Broadcasts an array, adding new leading dimensions\u001b[39;00m\n\u001b[1;32m    755\u001b[0m \n\u001b[1;32m    756\u001b[0m \u001b[39mArgs:\u001b[39;00m\n\u001b[0;32m   (...)\u001b[0m\n\u001b[1;32m    765\u001b[0m \u001b[39m  jax.lax.broadcast_in_dim : add new dimensions at any location in the array shape.\u001b[39;00m\n\u001b[1;32m    766\u001b[0m \u001b[39m\"\"\"\u001b[39;00m\n\u001b[1;32m    767\u001b[0m dims \u001b[39m=\u001b[39m \u001b[39mtuple\u001b[39m(\u001b[39mrange\u001b[39m(\u001b[39mlen\u001b[39m(sizes), \u001b[39mlen\u001b[39m(sizes) \u001b[39m+\u001b[39m np\u001b[39m.\u001b[39mndim(operand)))\n\u001b[0;32m--> 768\u001b[0m \u001b[39mreturn\u001b[39;00m broadcast_in_dim(operand, \u001b[39mtuple\u001b[39;49m(sizes) \u001b[39m+\u001b[39;49m np\u001b[39m.\u001b[39;49mshape(operand), dims)\n",
      "File \u001b[0;32m~/Kode/env_evoscaper/lib/python3.10/site-packages/jax/_src/lax/lax.py:796\u001b[0m, in \u001b[0;36mbroadcast_in_dim\u001b[0;34m(operand, shape, broadcast_dimensions)\u001b[0m\n\u001b[1;32m    794\u001b[0m \u001b[39melse\u001b[39;00m:\n\u001b[1;32m    795\u001b[0m   dyn_shape, static_shape \u001b[39m=\u001b[39m [], shape  \u001b[39m# type: ignore\u001b[39;00m\n\u001b[0;32m--> 796\u001b[0m \u001b[39mreturn\u001b[39;00m broadcast_in_dim_p\u001b[39m.\u001b[39;49mbind(\n\u001b[1;32m    797\u001b[0m     operand, \u001b[39m*\u001b[39;49mdyn_shape, shape\u001b[39m=\u001b[39;49m\u001b[39mtuple\u001b[39;49m(static_shape),\n\u001b[1;32m    798\u001b[0m     broadcast_dimensions\u001b[39m=\u001b[39;49m\u001b[39mtuple\u001b[39;49m(broadcast_dimensions))\n",
      "File \u001b[0;32m~/Kode/env_evoscaper/lib/python3.10/site-packages/jax/_src/core.py:380\u001b[0m, in \u001b[0;36mPrimitive.bind\u001b[0;34m(self, *args, **params)\u001b[0m\n\u001b[1;32m    377\u001b[0m \u001b[39mdef\u001b[39;00m \u001b[39mbind\u001b[39m(\u001b[39mself\u001b[39m, \u001b[39m*\u001b[39margs, \u001b[39m*\u001b[39m\u001b[39m*\u001b[39mparams):\n\u001b[1;32m    378\u001b[0m   \u001b[39massert\u001b[39;00m (\u001b[39mnot\u001b[39;00m config\u001b[39m.\u001b[39mjax_enable_checks \u001b[39mor\u001b[39;00m\n\u001b[1;32m    379\u001b[0m           \u001b[39mall\u001b[39m(\u001b[39misinstance\u001b[39m(arg, Tracer) \u001b[39mor\u001b[39;00m valid_jaxtype(arg) \u001b[39mfor\u001b[39;00m arg \u001b[39min\u001b[39;00m args)), args\n\u001b[0;32m--> 380\u001b[0m   \u001b[39mreturn\u001b[39;00m \u001b[39mself\u001b[39;49m\u001b[39m.\u001b[39;49mbind_with_trace(find_top_trace(args), args, params)\n",
      "File \u001b[0;32m~/Kode/env_evoscaper/lib/python3.10/site-packages/jax/_src/core.py:383\u001b[0m, in \u001b[0;36mPrimitive.bind_with_trace\u001b[0;34m(self, trace, args, params)\u001b[0m\n\u001b[1;32m    382\u001b[0m \u001b[39mdef\u001b[39;00m \u001b[39mbind_with_trace\u001b[39m(\u001b[39mself\u001b[39m, trace, args, params):\n\u001b[0;32m--> 383\u001b[0m   out \u001b[39m=\u001b[39m trace\u001b[39m.\u001b[39;49mprocess_primitive(\u001b[39mself\u001b[39;49m, \u001b[39mmap\u001b[39;49m(trace\u001b[39m.\u001b[39;49mfull_raise, args), params)\n\u001b[1;32m    384\u001b[0m   \u001b[39mreturn\u001b[39;00m \u001b[39mmap\u001b[39m(full_lower, out) \u001b[39mif\u001b[39;00m \u001b[39mself\u001b[39m\u001b[39m.\u001b[39mmultiple_results \u001b[39melse\u001b[39;00m full_lower(out)\n",
      "File \u001b[0;32m~/Kode/env_evoscaper/lib/python3.10/site-packages/jax/_src/core.py:790\u001b[0m, in \u001b[0;36mEvalTrace.process_primitive\u001b[0;34m(self, primitive, tracers, params)\u001b[0m\n\u001b[1;32m    789\u001b[0m \u001b[39mdef\u001b[39;00m \u001b[39mprocess_primitive\u001b[39m(\u001b[39mself\u001b[39m, primitive, tracers, params):\n\u001b[0;32m--> 790\u001b[0m   \u001b[39mreturn\u001b[39;00m primitive\u001b[39m.\u001b[39;49mimpl(\u001b[39m*\u001b[39;49mtracers, \u001b[39m*\u001b[39;49m\u001b[39m*\u001b[39;49mparams)\n",
      "File \u001b[0;32m~/Kode/env_evoscaper/lib/python3.10/site-packages/jax/_src/dispatch.py:132\u001b[0m, in \u001b[0;36mapply_primitive\u001b[0;34m(prim, *args, **params)\u001b[0m\n\u001b[1;32m    130\u001b[0m \u001b[39mtry\u001b[39;00m:\n\u001b[1;32m    131\u001b[0m   in_avals, in_shardings \u001b[39m=\u001b[39m util\u001b[39m.\u001b[39munzip2([arg_spec(a) \u001b[39mfor\u001b[39;00m a \u001b[39min\u001b[39;00m args])\n\u001b[0;32m--> 132\u001b[0m   compiled_fun \u001b[39m=\u001b[39m xla_primitive_callable(\n\u001b[1;32m    133\u001b[0m       prim, in_avals, OrigShardings(in_shardings), \u001b[39m*\u001b[39;49m\u001b[39m*\u001b[39;49mparams)\n\u001b[1;32m    134\u001b[0m \u001b[39mexcept\u001b[39;00m pxla\u001b[39m.\u001b[39mDeviceAssignmentMismatchError \u001b[39mas\u001b[39;00m e:\n\u001b[1;32m    135\u001b[0m   fails, \u001b[39m=\u001b[39m e\u001b[39m.\u001b[39margs\n",
      "File \u001b[0;32m~/Kode/env_evoscaper/lib/python3.10/site-packages/jax/_src/util.py:284\u001b[0m, in \u001b[0;36mcache.<locals>.wrap.<locals>.wrapper\u001b[0;34m(*args, **kwargs)\u001b[0m\n\u001b[1;32m    282\u001b[0m   \u001b[39mreturn\u001b[39;00m f(\u001b[39m*\u001b[39margs, \u001b[39m*\u001b[39m\u001b[39m*\u001b[39mkwargs)\n\u001b[1;32m    283\u001b[0m \u001b[39melse\u001b[39;00m:\n\u001b[0;32m--> 284\u001b[0m   \u001b[39mreturn\u001b[39;00m cached(config\u001b[39m.\u001b[39;49m_trace_context(), \u001b[39m*\u001b[39;49margs, \u001b[39m*\u001b[39;49m\u001b[39m*\u001b[39;49mkwargs)\n",
      "File \u001b[0;32m~/Kode/env_evoscaper/lib/python3.10/site-packages/jax/_src/util.py:277\u001b[0m, in \u001b[0;36mcache.<locals>.wrap.<locals>.cached\u001b[0;34m(_, *args, **kwargs)\u001b[0m\n\u001b[1;32m    275\u001b[0m \u001b[39m@functools\u001b[39m\u001b[39m.\u001b[39mlru_cache(max_size)\n\u001b[1;32m    276\u001b[0m \u001b[39mdef\u001b[39;00m \u001b[39mcached\u001b[39m(_, \u001b[39m*\u001b[39margs, \u001b[39m*\u001b[39m\u001b[39m*\u001b[39mkwargs):\n\u001b[0;32m--> 277\u001b[0m   \u001b[39mreturn\u001b[39;00m f(\u001b[39m*\u001b[39;49margs, \u001b[39m*\u001b[39;49m\u001b[39m*\u001b[39;49mkwargs)\n",
      "File \u001b[0;32m~/Kode/env_evoscaper/lib/python3.10/site-packages/jax/_src/dispatch.py:223\u001b[0m, in \u001b[0;36mxla_primitive_callable\u001b[0;34m(prim, in_avals, orig_in_shardings, **params)\u001b[0m\n\u001b[1;32m    221\u001b[0m     \u001b[39mreturn\u001b[39;00m out,\n\u001b[1;32m    222\u001b[0m donated_invars \u001b[39m=\u001b[39m (\u001b[39mFalse\u001b[39;00m,) \u001b[39m*\u001b[39m \u001b[39mlen\u001b[39m(in_avals)\n\u001b[0;32m--> 223\u001b[0m compiled \u001b[39m=\u001b[39m _xla_callable_uncached(\n\u001b[1;32m    224\u001b[0m     lu\u001b[39m.\u001b[39;49mwrap_init(prim_fun), prim\u001b[39m.\u001b[39;49mname, donated_invars, \u001b[39mFalse\u001b[39;49;00m, in_avals,\n\u001b[1;32m    225\u001b[0m     orig_in_shardings)\n\u001b[1;32m    226\u001b[0m \u001b[39mif\u001b[39;00m \u001b[39mnot\u001b[39;00m prim\u001b[39m.\u001b[39mmultiple_results:\n\u001b[1;32m    227\u001b[0m   \u001b[39mreturn\u001b[39;00m \u001b[39mlambda\u001b[39;00m \u001b[39m*\u001b[39margs, \u001b[39m*\u001b[39m\u001b[39m*\u001b[39mkw: compiled(\u001b[39m*\u001b[39margs, \u001b[39m*\u001b[39m\u001b[39m*\u001b[39mkw)[\u001b[39m0\u001b[39m]\n",
      "File \u001b[0;32m~/Kode/env_evoscaper/lib/python3.10/site-packages/jax/_src/dispatch.py:253\u001b[0m, in \u001b[0;36m_xla_callable_uncached\u001b[0;34m(fun, name, donated_invars, keep_unused, in_avals, orig_in_shardings)\u001b[0m\n\u001b[1;32m    248\u001b[0m \u001b[39mdef\u001b[39;00m \u001b[39m_xla_callable_uncached\u001b[39m(fun: lu\u001b[39m.\u001b[39mWrappedFun, name, donated_invars,\n\u001b[1;32m    249\u001b[0m                            keep_unused, in_avals, orig_in_shardings):\n\u001b[1;32m    250\u001b[0m   computation \u001b[39m=\u001b[39m sharded_lowering(\n\u001b[1;32m    251\u001b[0m       fun, name, donated_invars, keep_unused, \u001b[39mTrue\u001b[39;00m, in_avals, orig_in_shardings,\n\u001b[1;32m    252\u001b[0m       lowering_platform\u001b[39m=\u001b[39m\u001b[39mNone\u001b[39;00m)\n\u001b[0;32m--> 253\u001b[0m   \u001b[39mreturn\u001b[39;00m computation\u001b[39m.\u001b[39;49mcompile()\u001b[39m.\u001b[39munsafe_call\n",
      "File \u001b[0;32m~/Kode/env_evoscaper/lib/python3.10/site-packages/jax/_src/interpreters/pxla.py:2329\u001b[0m, in \u001b[0;36mMeshComputation.compile\u001b[0;34m(self, compiler_options)\u001b[0m\n\u001b[1;32m   2326\u001b[0m   executable \u001b[39m=\u001b[39m MeshExecutable\u001b[39m.\u001b[39mfrom_trivial_jaxpr(\n\u001b[1;32m   2327\u001b[0m       \u001b[39m*\u001b[39m\u001b[39m*\u001b[39m\u001b[39mself\u001b[39m\u001b[39m.\u001b[39mcompile_args)\n\u001b[1;32m   2328\u001b[0m \u001b[39melse\u001b[39;00m:\n\u001b[0;32m-> 2329\u001b[0m   executable \u001b[39m=\u001b[39m UnloadedMeshExecutable\u001b[39m.\u001b[39;49mfrom_hlo(\n\u001b[1;32m   2330\u001b[0m       \u001b[39mself\u001b[39;49m\u001b[39m.\u001b[39;49m_name,\n\u001b[1;32m   2331\u001b[0m       \u001b[39mself\u001b[39;49m\u001b[39m.\u001b[39;49m_hlo,\n\u001b[1;32m   2332\u001b[0m       \u001b[39m*\u001b[39;49m\u001b[39m*\u001b[39;49m\u001b[39mself\u001b[39;49m\u001b[39m.\u001b[39;49mcompile_args,\n\u001b[1;32m   2333\u001b[0m       compiler_options\u001b[39m=\u001b[39;49mcompiler_options)\n\u001b[1;32m   2334\u001b[0m \u001b[39mif\u001b[39;00m compiler_options \u001b[39mis\u001b[39;00m \u001b[39mNone\u001b[39;00m:\n\u001b[1;32m   2335\u001b[0m   \u001b[39mself\u001b[39m\u001b[39m.\u001b[39m_executable \u001b[39m=\u001b[39m executable\n",
      "File \u001b[0;32m~/Kode/env_evoscaper/lib/python3.10/site-packages/jax/_src/interpreters/pxla.py:2651\u001b[0m, in \u001b[0;36mUnloadedMeshExecutable.from_hlo\u001b[0;34m(***failed resolving arguments***)\u001b[0m\n\u001b[1;32m   2648\u001b[0m       mesh \u001b[39m=\u001b[39m i\u001b[39m.\u001b[39mmesh  \u001b[39m# type: ignore\u001b[39;00m\n\u001b[1;32m   2649\u001b[0m       \u001b[39mbreak\u001b[39;00m\n\u001b[0;32m-> 2651\u001b[0m xla_executable, compile_options \u001b[39m=\u001b[39m _cached_compilation(\n\u001b[1;32m   2652\u001b[0m     hlo, name, mesh, spmd_lowering,\n\u001b[1;32m   2653\u001b[0m     tuple_args, auto_spmd_lowering, allow_prop_to_outputs,\n\u001b[1;32m   2654\u001b[0m     \u001b[39mtuple\u001b[39;49m(host_callbacks), backend, da, pmap_nreps,\n\u001b[1;32m   2655\u001b[0m     compiler_options_keys, compiler_options_values)\n\u001b[1;32m   2657\u001b[0m \u001b[39mif\u001b[39;00m \u001b[39mhasattr\u001b[39m(backend, \u001b[39m\"\u001b[39m\u001b[39mcompile_replicated\u001b[39m\u001b[39m\"\u001b[39m):\n\u001b[1;32m   2658\u001b[0m   semantics_in_shardings \u001b[39m=\u001b[39m SemanticallyEqualShardings(in_shardings)  \u001b[39m# type: ignore\u001b[39;00m\n",
      "File \u001b[0;32m~/Kode/env_evoscaper/lib/python3.10/site-packages/jax/_src/interpreters/pxla.py:2561\u001b[0m, in \u001b[0;36m_cached_compilation\u001b[0;34m(computation, name, mesh, spmd_lowering, tuple_args, auto_spmd_lowering, _allow_propagation_to_outputs, host_callbacks, backend, da, pmap_nreps, compiler_options_keys, compiler_options_values)\u001b[0m\n\u001b[1;32m   2556\u001b[0m   \u001b[39mreturn\u001b[39;00m \u001b[39mNone\u001b[39;00m, compile_options\n\u001b[1;32m   2558\u001b[0m \u001b[39mwith\u001b[39;00m dispatch\u001b[39m.\u001b[39mlog_elapsed_time(\n\u001b[1;32m   2559\u001b[0m     \u001b[39m\"\u001b[39m\u001b[39mFinished XLA compilation of \u001b[39m\u001b[39m{fun_name}\u001b[39;00m\u001b[39m in \u001b[39m\u001b[39m{elapsed_time}\u001b[39;00m\u001b[39m sec\u001b[39m\u001b[39m\"\u001b[39m,\n\u001b[1;32m   2560\u001b[0m     fun_name\u001b[39m=\u001b[39mname, event\u001b[39m=\u001b[39mdispatch\u001b[39m.\u001b[39mBACKEND_COMPILE_EVENT):\n\u001b[0;32m-> 2561\u001b[0m   xla_executable \u001b[39m=\u001b[39m dispatch\u001b[39m.\u001b[39;49mcompile_or_get_cached(\n\u001b[1;32m   2562\u001b[0m       backend, computation, dev, compile_options, host_callbacks)\n\u001b[1;32m   2563\u001b[0m \u001b[39mreturn\u001b[39;00m xla_executable, compile_options\n",
      "File \u001b[0;32m~/Kode/env_evoscaper/lib/python3.10/site-packages/jax/_src/dispatch.py:497\u001b[0m, in \u001b[0;36mcompile_or_get_cached\u001b[0;34m(backend, computation, devices, compile_options, host_callbacks)\u001b[0m\n\u001b[1;32m    493\u001b[0m use_compilation_cache \u001b[39m=\u001b[39m (compilation_cache\u001b[39m.\u001b[39mis_initialized() \u001b[39mand\u001b[39;00m\n\u001b[1;32m    494\u001b[0m                          backend\u001b[39m.\u001b[39mplatform \u001b[39min\u001b[39;00m supported_platforms)\n\u001b[1;32m    496\u001b[0m \u001b[39mif\u001b[39;00m \u001b[39mnot\u001b[39;00m use_compilation_cache:\n\u001b[0;32m--> 497\u001b[0m   \u001b[39mreturn\u001b[39;00m backend_compile(backend, computation, compile_options,\n\u001b[1;32m    498\u001b[0m                          host_callbacks)\n\u001b[1;32m    500\u001b[0m cache_key \u001b[39m=\u001b[39m compilation_cache\u001b[39m.\u001b[39mget_cache_key(\n\u001b[1;32m    501\u001b[0m     computation, devices, compile_options, backend)\n\u001b[1;32m    503\u001b[0m cached_executable \u001b[39m=\u001b[39m _cache_read(module_name, cache_key, compile_options,\n\u001b[1;32m    504\u001b[0m                                 backend)\n",
      "File \u001b[0;32m~/Kode/env_evoscaper/lib/python3.10/site-packages/jax/_src/profiler.py:314\u001b[0m, in \u001b[0;36mannotate_function.<locals>.wrapper\u001b[0;34m(*args, **kwargs)\u001b[0m\n\u001b[1;32m    311\u001b[0m \u001b[39m@wraps\u001b[39m(func)\n\u001b[1;32m    312\u001b[0m \u001b[39mdef\u001b[39;00m \u001b[39mwrapper\u001b[39m(\u001b[39m*\u001b[39margs, \u001b[39m*\u001b[39m\u001b[39m*\u001b[39mkwargs):\n\u001b[1;32m    313\u001b[0m   \u001b[39mwith\u001b[39;00m TraceAnnotation(name, \u001b[39m*\u001b[39m\u001b[39m*\u001b[39mdecorator_kwargs):\n\u001b[0;32m--> 314\u001b[0m     \u001b[39mreturn\u001b[39;00m func(\u001b[39m*\u001b[39;49margs, \u001b[39m*\u001b[39;49m\u001b[39m*\u001b[39;49mkwargs)\n\u001b[1;32m    315\u001b[0m   \u001b[39mreturn\u001b[39;00m wrapper\n",
      "File \u001b[0;32m~/Kode/env_evoscaper/lib/python3.10/site-packages/jax/_src/dispatch.py:465\u001b[0m, in \u001b[0;36mbackend_compile\u001b[0;34m(backend, module, options, host_callbacks)\u001b[0m\n\u001b[1;32m    460\u001b[0m   \u001b[39mreturn\u001b[39;00m backend\u001b[39m.\u001b[39mcompile(built_c, compile_options\u001b[39m=\u001b[39moptions,\n\u001b[1;32m    461\u001b[0m                          host_callbacks\u001b[39m=\u001b[39mhost_callbacks)\n\u001b[1;32m    462\u001b[0m \u001b[39m# Some backends don't have `host_callbacks` option yet\u001b[39;00m\n\u001b[1;32m    463\u001b[0m \u001b[39m# TODO(sharadmv): remove this fallback when all backends allow `compile`\u001b[39;00m\n\u001b[1;32m    464\u001b[0m \u001b[39m# to take in `host_callbacks`\u001b[39;00m\n\u001b[0;32m--> 465\u001b[0m \u001b[39mreturn\u001b[39;00m backend\u001b[39m.\u001b[39;49mcompile(built_c, compile_options\u001b[39m=\u001b[39;49moptions)\n",
      "\u001b[0;31mXlaRuntimeError\u001b[0m: FAILED_PRECONDITION: DNN library initialization failed. Look at the errors above for more details."
     ]
    }
   ],
   "source": [
    "import jax\n",
    "import jax.numpy as jnp\n",
    "\n",
    "\n",
    "## Jax test\n",
    "jax.config.update('jax_platform_name', 'gpu')\n",
    "\n",
    "\n",
    "def test_vmap(m):\n",
    "    return jnp.sin(m)\n",
    "\n",
    "\n",
    "jax.vmap(test_vmap)(jnp.ones(4))\n",
    "\n",
    "\n",
    "## Numba test\n",
    "from numba import jit, cuda\n",
    "import numpy as np\n",
    "# to measure exec time\n",
    "from timeit import default_timer as timer   \n",
    "  \n",
    "# normal function to run on cpu\n",
    "def func(a):                                \n",
    "    for i in range(10000000):\n",
    "        a[i]+= 1      \n",
    "  \n",
    "# function optimized to run on gpu \n",
    "@jit(target_backend='cuda')                         \n",
    "def func2(a):\n",
    "    for i in range(10000000):\n",
    "        a[i]+= 1\n",
    "if __name__==\"__main__\":\n",
    "    n = 10000000                            \n",
    "    a = np.ones(n, dtype = np.float64)\n",
    "      \n",
    "    start = timer()\n",
    "    func(a)\n",
    "    print(\"without GPU:\", timer()-start)    \n",
    "      \n",
    "    start = timer()\n",
    "    func2(a)\n",
    "    print(\"with GPU:\", timer()-start)\n"
   ]
  },
  {
   "cell_type": "code",
   "execution_count": null,
   "metadata": {},
   "outputs": [],
   "source": [
    "class MyLinear1(hk.Module):\n",
    "\n",
    "  def __init__(self, output_size, name=None):\n",
    "    super().__init__(name=name)\n",
    "    self.output_size = output_size\n",
    "\n",
    "  def __call__(self, x):\n",
    "    j, k = x.shape[-1], self.output_size\n",
    "    w_init = hk.initializers.TruncatedNormal(1. / np.sqrt(j))\n",
    "    w = hk.get_parameter(\"w\", shape=[j, k], dtype=x.dtype, init=w_init)\n",
    "    b = hk.get_parameter(\"b\", shape=[k], dtype=x.dtype, init=jnp.ones)\n",
    "    return jnp.dot(x, w) + b"
   ]
  },
  {
   "cell_type": "code",
   "execution_count": null,
   "metadata": {},
   "outputs": [],
   "source": [
    "def _forward_fn_linear1(x):\n",
    "  module = MyLinear1(output_size=2)\n",
    "  return module(x)\n",
    "\n",
    "forward_linear1 = hk.transform(_forward_fn_linear1)"
   ]
  },
  {
   "cell_type": "code",
   "execution_count": null,
   "metadata": {},
   "outputs": [
    {
     "data": {
      "text/plain": [
       "{'my_linear1': {'w': Array([[-0.30350366,  0.5123803 ],\n",
       "         [ 0.08009139, -0.3163005 ],\n",
       "         [ 0.60566676,  0.5820702 ]], dtype=float32),\n",
       "  'b': Array([1., 1.], dtype=float32)}}"
      ]
     },
     "execution_count": 7,
     "metadata": {},
     "output_type": "execute_result"
    }
   ],
   "source": [
    "dummy_x = jnp.array([[1., 2., 3.]])\n",
    "rng_key = jax.random.PRNGKey(42)\n",
    "\n",
    "params = forward_linear1.init(rng=rng_key, x=dummy_x)\n",
    "params"
   ]
  },
  {
   "cell_type": "code",
   "execution_count": null,
   "metadata": {},
   "outputs": [
    {
     "name": "stdout",
     "output_type": "stream",
     "text": [
      "Output 1 : [[2.6736794 2.62599  ]]\n",
      "Output 2 (same as output 1): [[2.6736794 2.62599  ]]\n",
      "Output 3 : [[3.819336  4.9589844]\n",
      " [4.965576  7.2924805]]\n"
     ]
    }
   ],
   "source": [
    "sample_x = jnp.array([[1., 2., 3.]])\n",
    "sample_x_2 = jnp.array([[4., 5., 6.], [7., 8., 9.]])\n",
    "\n",
    "output_1 = forward_linear1.apply(params=params, x=sample_x, rng=rng_key)\n",
    "# Outputs are identical for given inputs since the forward inference is non-stochastic.\n",
    "output_2 = forward_linear1.apply(params=params, x=sample_x, rng=rng_key)\n",
    "\n",
    "output_3 = forward_linear1.apply(params=params, x=sample_x_2, rng=rng_key)\n",
    "\n",
    "print(f'Output 1 : {output_1}')\n",
    "print(f'Output 2 (same as output 1): {output_2}')\n",
    "print(f'Output 3 : {output_3}')"
   ]
  },
  {
   "cell_type": "code",
   "execution_count": null,
   "metadata": {},
   "outputs": [
    {
     "name": "stdout",
     "output_type": "stream",
     "text": [
      "Output without random key in forward pass \n",
      " [[2.6736794 2.62599  ]]\n",
      "Output w random key in forward pass \n",
      " [[2.6736794 2.62599  ]]\n"
     ]
    }
   ],
   "source": [
    "forward_without_rng = hk.without_apply_rng(hk.transform(_forward_fn_linear1))\n",
    "params = forward_without_rng.init(rng=rng_key, x=sample_x)\n",
    "output = forward_without_rng.apply(x=sample_x, params=params)\n",
    "print(f'Output without random key in forward pass \\n {output}')\n",
    "print(f'Output w random key in forward pass \\n {output_1}')"
   ]
  },
  {
   "cell_type": "code",
   "execution_count": null,
   "metadata": {},
   "outputs": [
    {
     "data": {
      "text/plain": [
       "{'my_linear1': {'w': Array([[-0.30350366,  0.5123803 ],\n",
       "         [ 0.08009139, -0.3163005 ],\n",
       "         [ 0.60566676,  0.5820702 ]], dtype=float32),\n",
       "  'b': Array([1., 1.], dtype=float32)}}"
      ]
     },
     "execution_count": 10,
     "metadata": {},
     "output_type": "execute_result"
    }
   ],
   "source": [
    "params"
   ]
  },
  {
   "cell_type": "code",
   "execution_count": null,
   "metadata": {},
   "outputs": [
    {
     "name": "stdout",
     "output_type": "stream",
     "text": [
      "Mutated params \n",
      " : {'my_linear1': {'b': Array([2., 2.], dtype=float32), 'w': Array([[0.69649637, 1.5123804 ],\n",
      "       [1.0800914 , 0.6836995 ],\n",
      "       [1.6056668 , 1.5820701 ]], dtype=float32)}}\n",
      "Output with mutated params \n",
      " [[9.673679 9.62599 ]]\n"
     ]
    }
   ],
   "source": [
    "mutated_params = jax.tree_util.tree_map(lambda x: x+1., params)\n",
    "print(f'Mutated params \\n : {mutated_params}')\n",
    "mutated_output = forward_without_rng.apply(x=sample_x, params=mutated_params)\n",
    "print(f'Output with mutated params \\n {mutated_output}')"
   ]
  },
  {
   "cell_type": "code",
   "execution_count": null,
   "metadata": {},
   "outputs": [
    {
     "name": "stdout",
     "output_type": "stream",
     "text": [
      "Initial params:\n",
      "{'~': {'multiplier': Array([1.], dtype=float32)}}\n",
      "Initial state:\n",
      "{'~': {'counter': Array(1, dtype=int32)}}\n",
      "##########\n",
      "After 1 iterations:\n",
      "Output: [[6.]]\n",
      "State: {'~': {'counter': Array(2, dtype=int32)}}\n",
      "##########\n",
      "After 2 iterations:\n",
      "Output: [[7.]]\n",
      "State: {'~': {'counter': Array(3, dtype=int32)}}\n",
      "##########\n",
      "After 3 iterations:\n",
      "Output: [[8.]]\n",
      "State: {'~': {'counter': Array(4, dtype=int32)}}\n",
      "##########\n"
     ]
    }
   ],
   "source": [
    "def stateful_f(x):\n",
    "  counter = hk.get_state(\"counter\", shape=[], dtype=jnp.int32, init=jnp.ones)\n",
    "  multiplier = hk.get_parameter('multiplier', shape=[1,], dtype=x.dtype, init=jnp.ones)\n",
    "  hk.set_state(\"counter\", counter + 1)\n",
    "  output = x + multiplier * counter\n",
    "  return output\n",
    "\n",
    "stateful_forward = hk.without_apply_rng(hk.transform_with_state(stateful_f))\n",
    "sample_x = jnp.array([[5., ]])\n",
    "params, state = stateful_forward.init(x=sample_x, rng=rng_key)\n",
    "print(f'Initial params:\\n{params}\\nInitial state:\\n{state}')\n",
    "print('##########')\n",
    "for i in range(3):\n",
    "  output, state = stateful_forward.apply(params, state, x=sample_x)\n",
    "  print(f'After {i+1} iterations:\\nOutput: {output}\\nState: {state}')\n",
    "  print('##########')"
   ]
  },
  {
   "cell_type": "code",
   "execution_count": null,
   "metadata": {},
   "outputs": [],
   "source": [
    "\n",
    "def forward(x):\n",
    "  mlp = hk.nets.MLP([300, 100, 10])\n",
    "  return mlp(x)\n",
    "\n",
    "forward = hk.transform(forward)\n",
    "\n",
    "rng = hk.PRNGSequence(jax.random.PRNGKey(42))\n",
    "x = jnp.ones([8, 28 * 28])\n",
    "\n",
    "pool = list('ACTG')\n",
    "r = np.random.choice(pool, 100)\n",
    "# x = jnp.zeros([8, 28 * 28])\n",
    "params = forward.init(next(rng), x)\n",
    "logits = forward.apply(params, next(rng), x)"
   ]
  },
  {
   "cell_type": "code",
   "execution_count": null,
   "metadata": {},
   "outputs": [
    {
     "name": "stdout",
     "output_type": "stream",
     "text": [
      "+-------------------------+------------------------------------------+-----------------+------------+------------+---------------+---------------+\n",
      "| Module                  | Config                                   | Module params   | Input      | Output     |   Param count |   Param bytes |\n",
      "+=========================+==========================================+=================+============+============+===============+===============+\n",
      "| mlp (MLP)               | MLP(output_sizes=[300, 100, 10])         |                 | f32[8,784] | f32[8,10]  |       266,610 |       1.07 MB |\n",
      "+-------------------------+------------------------------------------+-----------------+------------+------------+---------------+---------------+\n",
      "| mlp/~/linear_0 (Linear) | Linear(output_size=300, name='linear_0') | w: f32[784,300] | f32[8,784] | f32[8,300] |       235,500 |     942.00 KB |\n",
      "|  └ mlp (MLP)            |                                          | b: f32[300]     |            |            |               |               |\n",
      "+-------------------------+------------------------------------------+-----------------+------------+------------+---------------+---------------+\n",
      "| mlp/~/linear_1 (Linear) | Linear(output_size=100, name='linear_1') | w: f32[300,100] | f32[8,300] | f32[8,100] |        30,100 |     120.40 KB |\n",
      "|  └ mlp (MLP)            |                                          | b: f32[100]     |            |            |               |               |\n",
      "+-------------------------+------------------------------------------+-----------------+------------+------------+---------------+---------------+\n",
      "| mlp/~/linear_2 (Linear) | Linear(output_size=10, name='linear_2')  | w: f32[100,10]  | f32[8,100] | f32[8,10]  |         1,010 |       4.04 KB |\n",
      "|  └ mlp (MLP)            |                                          | b: f32[10]      |            |            |               |               |\n",
      "+-------------------------+------------------------------------------+-----------------+------------+------------+---------------+---------------+\n"
     ]
    }
   ],
   "source": [
    "\n",
    "def f(x):\n",
    "  return hk.nets.MLP([300, 100, 10])(x)\n",
    "\n",
    "f = hk.transform(f)\n",
    "x = jnp.ones([8, 28 * 28])\n",
    "\n",
    "print(hk.experimental.tabulate(f)(x))"
   ]
  },
  {
   "cell_type": "code",
   "execution_count": null,
   "metadata": {},
   "outputs": [
    {
     "name": "stdout",
     "output_type": "stream",
     "text": [
      "MethodInvocation(module_details=ModuleDetails(module=MLP(output_sizes=[300, 100, 10]), method_name='__call__', params={'mlp/~/linear_0/b': f32[300], 'mlp/~/linear_0/w': f32[784,300], 'mlp/~/linear_1/b': f32[100], 'mlp/~/linear_1/w': f32[300,100], 'mlp/~/linear_2/b': f32[10], 'mlp/~/linear_2/w': f32[100,10]}, state={}), args_spec=(f32[8,784],), kwargs_spec={}, output_spec=f32[8,10], context=MethodContext(module=MLP(output_sizes=[300, 100, 10]), method_name='__call__', orig_method=functools.partial(<function MLP.__call__ at 0x7f09e0b3b3a0>, MLP(output_sizes=[300, 100, 10]))), call_stack=(ModuleDetails(module=MLP(output_sizes=[300, 100, 10]), method_name='__call__', params={'mlp/~/linear_0/b': f32[300], 'mlp/~/linear_0/w': f32[784,300], 'mlp/~/linear_1/b': f32[100], 'mlp/~/linear_1/w': f32[300,100], 'mlp/~/linear_2/b': f32[10], 'mlp/~/linear_2/w': f32[100,10]}, state={}),))\n",
      "MethodInvocation(module_details=ModuleDetails(module=Linear(output_size=300, name='linear_0'), method_name='__call__', params={'mlp/~/linear_0/b': f32[300], 'mlp/~/linear_0/w': f32[784,300]}, state={}), args_spec=(f32[8,784],), kwargs_spec={}, output_spec=f32[8,300], context=MethodContext(module=Linear(output_size=300, name='linear_0'), method_name='__call__', orig_method=functools.partial(<function Linear.__call__ at 0x7f09e0c2ee50>, Linear(output_size=300, name='linear_0'))), call_stack=(ModuleDetails(module=Linear(output_size=300, name='linear_0'), method_name='__call__', params={'mlp/~/linear_0/b': f32[300], 'mlp/~/linear_0/w': f32[784,300]}, state={}), ModuleDetails(module=MLP(output_sizes=[300, 100, 10]), method_name='__call__', params={'mlp/~/linear_0/b': f32[300], 'mlp/~/linear_0/w': f32[784,300], 'mlp/~/linear_1/b': f32[100], 'mlp/~/linear_1/w': f32[300,100], 'mlp/~/linear_2/b': f32[10], 'mlp/~/linear_2/w': f32[100,10]}, state={})))\n",
      "MethodInvocation(module_details=ModuleDetails(module=Linear(output_size=100, name='linear_1'), method_name='__call__', params={'mlp/~/linear_1/b': f32[100], 'mlp/~/linear_1/w': f32[300,100]}, state={}), args_spec=(f32[8,300],), kwargs_spec={}, output_spec=f32[8,100], context=MethodContext(module=Linear(output_size=100, name='linear_1'), method_name='__call__', orig_method=functools.partial(<function Linear.__call__ at 0x7f09e0c2ee50>, Linear(output_size=100, name='linear_1'))), call_stack=(ModuleDetails(module=Linear(output_size=100, name='linear_1'), method_name='__call__', params={'mlp/~/linear_1/b': f32[100], 'mlp/~/linear_1/w': f32[300,100]}, state={}), ModuleDetails(module=MLP(output_sizes=[300, 100, 10]), method_name='__call__', params={'mlp/~/linear_0/b': f32[300], 'mlp/~/linear_0/w': f32[784,300], 'mlp/~/linear_1/b': f32[100], 'mlp/~/linear_1/w': f32[300,100], 'mlp/~/linear_2/b': f32[10], 'mlp/~/linear_2/w': f32[100,10]}, state={})))\n",
      "MethodInvocation(module_details=ModuleDetails(module=Linear(output_size=10, name='linear_2'), method_name='__call__', params={'mlp/~/linear_2/b': f32[10], 'mlp/~/linear_2/w': f32[100,10]}, state={}), args_spec=(f32[8,100],), kwargs_spec={}, output_spec=f32[8,10], context=MethodContext(module=Linear(output_size=10, name='linear_2'), method_name='__call__', orig_method=functools.partial(<function Linear.__call__ at 0x7f09e0c2ee50>, Linear(output_size=10, name='linear_2'))), call_stack=(ModuleDetails(module=Linear(output_size=10, name='linear_2'), method_name='__call__', params={'mlp/~/linear_2/b': f32[10], 'mlp/~/linear_2/w': f32[100,10]}, state={}), ModuleDetails(module=MLP(output_sizes=[300, 100, 10]), method_name='__call__', params={'mlp/~/linear_0/b': f32[300], 'mlp/~/linear_0/w': f32[784,300], 'mlp/~/linear_1/b': f32[100], 'mlp/~/linear_1/w': f32[300,100], 'mlp/~/linear_2/b': f32[10], 'mlp/~/linear_2/w': f32[100,10]}, state={})))\n"
     ]
    }
   ],
   "source": [
    "for method_invocation in hk.experimental.eval_summary(f)(x):\n",
    "  print(method_invocation)"
   ]
  },
  {
   "cell_type": "code",
   "execution_count": null,
   "metadata": {},
   "outputs": [
    {
     "data": {
      "image/svg+xml": [
       "<?xml version=\"1.0\" encoding=\"UTF-8\" standalone=\"no\"?>\n",
       "<?xml-stylesheet href=\"\n",
       "  data:text/css,\n",
       "  @import url(https://fonts.googleapis.com/css?family=Roboto:400,700);\n",
       "  svg text {\n",
       "    font-family: 'Roboto';\n",
       "  }\n",
       "  .node text {\n",
       "    font-size: 12px;\n",
       "  }\n",
       "%23node1396776388324160:hover { stroke-width: 0.2em; }\n",
       "%23node1396776388324160:hover ~ %23node1396776388324161 { stroke-width: 0.2em; }\n",
       "%23node1396776388324161:hover ~ %23node1396776388324160 { stroke-width: 0.2em; }\n",
       "%23node1396776388324161:hover { stroke-width: 0.2em; }\n",
       "\" type=\"text/css\"?>\n",
       "<!DOCTYPE svg PUBLIC \"-//W3C//DTD SVG 1.1//EN\"\n",
       " \"http://www.w3.org/Graphics/SVG/1.1/DTD/svg11.dtd\">\n",
       "<!-- Generated by graphviz version 2.43.0 (0)\n",
       " -->\n",
       "<!-- Title: G Pages: 1 -->\n",
       "<svg width=\"167pt\" height=\"461pt\"\n",
       " viewBox=\"0.00 0.00 167.00 461.00\" xmlns=\"http://www.w3.org/2000/svg\" xmlns:xlink=\"http://www.w3.org/1999/xlink\">\n",
       "<g id=\"graph0\" class=\"graph\" transform=\"scale(1 1) rotate(0) translate(4 457)\">\n",
       "<title>G</title>\n",
       "<polygon fill=\"white\" stroke=\"transparent\" points=\"-4,4 -4,-457 163,-457 163,4 -4,4\"/>\n",
       "<text text-anchor=\"start\" x=\"75\" y=\"-434.8\" font-family=\"Times,serif\" font-weight=\"bold\" font-size=\"19.00\">f</text>\n",
       "<!-- 139677109496736 -->\n",
       "<g id=\"node139677109496736\" class=\"node\">\n",
       "<title>139677109496736</title>\n",
       "<g id=\"a_node139677109496736\"><a xlink:title=\" \">\n",
       "<polygon fill=\"#fff26e\" stroke=\"#ffdb13\" points=\"151.5,-352 92.5,-352 92.5,-316 151.5,-316 151.5,-352\"/>\n",
       "<text text-anchor=\"start\" x=\"109.5\" y=\"-337.8\" font-family=\"Times,serif\" font-weight=\"bold\" font-size=\"14.00\">sin</text>\n",
       "<text text-anchor=\"start\" x=\"100.5\" y=\"-323.8\" font-family=\"Times,serif\" font-size=\"14.00\">f32[1]</text>\n",
       "</a>\n",
       "</g>\n",
       "</g>\n",
       "<!-- 139677109497408 -->\n",
       "<g id=\"node139677109497408\" class=\"node\">\n",
       "<title>139677109497408</title>\n",
       "<g id=\"a_node139677109497408\"><a xlink:title=\" \">\n",
       "<polygon fill=\"#fff26e\" stroke=\"#ffdb13\" points=\"122.5,-280 63.5,-280 63.5,-244 122.5,-244 122.5,-280\"/>\n",
       "<text text-anchor=\"start\" x=\"80\" y=\"-265.8\" font-family=\"Times,serif\" font-weight=\"bold\" font-size=\"14.00\">cos</text>\n",
       "<text text-anchor=\"start\" x=\"71.5\" y=\"-251.8\" font-family=\"Times,serif\" font-size=\"14.00\">f32[1]</text>\n",
       "</a>\n",
       "</g>\n",
       "</g>\n",
       "<!-- 139677109496736&#45;&gt;139677109497408 -->\n",
       "<g id=\"edge2\" class=\"edge\">\n",
       "<title>139677109496736&#45;&gt;139677109497408</title>\n",
       "<path fill=\"none\" stroke=\"black\" d=\"M114.83,-315.7C111.57,-307.81 107.63,-298.3 104,-289.55\"/>\n",
       "<polygon fill=\"black\" stroke=\"black\" points=\"107.15,-288 100.09,-280.1 100.68,-290.68 107.15,-288\"/>\n",
       "</g>\n",
       "<!-- 139677108880096 -->\n",
       "<g id=\"node139677108880096\" class=\"node\">\n",
       "<title>139677108880096</title>\n",
       "<g id=\"a_node139677108880096\"><a xlink:title=\" \">\n",
       "<polygon fill=\"#fff26e\" stroke=\"#ffdb13\" points=\"151.5,-201 92.5,-201 92.5,-165 151.5,-165 151.5,-201\"/>\n",
       "<text text-anchor=\"start\" x=\"107.5\" y=\"-186.8\" font-family=\"Times,serif\" font-weight=\"bold\" font-size=\"14.00\">add</text>\n",
       "<text text-anchor=\"start\" x=\"100.5\" y=\"-172.8\" font-family=\"Times,serif\" font-size=\"14.00\">f32[1]</text>\n",
       "</a>\n",
       "</g>\n",
       "</g>\n",
       "<!-- 139677109496736&#45;&gt;139677108880096 -->\n",
       "<g id=\"edge3\" class=\"edge\">\n",
       "<title>139677109496736&#45;&gt;139677108880096</title>\n",
       "<path fill=\"none\" stroke=\"black\" d=\"M125.65,-315.91C127.68,-305.57 129.98,-292.09 131,-280 132.34,-264.06 132.19,-259.96 131,-244 130.2,-233.24 128.6,-221.49 126.96,-211.26\"/>\n",
       "<polygon fill=\"black\" stroke=\"black\" points=\"130.39,-210.53 125.28,-201.25 123.49,-211.69 130.39,-210.53\"/>\n",
       "</g>\n",
       "<!-- 139677109497408&#45;&gt;139677108880096 -->\n",
       "<g id=\"edge4\" class=\"edge\">\n",
       "<title>139677109497408&#45;&gt;139677108880096</title>\n",
       "<path fill=\"none\" stroke=\"black\" d=\"M99.44,-243.91C103.12,-234.14 107.81,-221.68 111.96,-210.65\"/>\n",
       "<polygon fill=\"black\" stroke=\"black\" points=\"115.33,-211.63 115.58,-201.04 108.78,-209.17 115.33,-211.63\"/>\n",
       "</g>\n",
       "<!-- 139677108880992 -->\n",
       "<g id=\"node139677108880992\" class=\"node\">\n",
       "<title>139677108880992</title>\n",
       "<g id=\"a_node139677108880992\"><a xlink:title=\" \">\n",
       "<polygon fill=\"#fff26e\" stroke=\"#ffdb13\" points=\"108.5,-122 49.5,-122 49.5,-86 108.5,-86 108.5,-122\"/>\n",
       "<text text-anchor=\"start\" x=\"64.5\" y=\"-107.8\" font-family=\"Times,serif\" font-weight=\"bold\" font-size=\"14.00\">add</text>\n",
       "<text text-anchor=\"start\" x=\"57.5\" y=\"-93.8\" font-family=\"Times,serif\" font-size=\"14.00\">f32[1]</text>\n",
       "</a>\n",
       "</g>\n",
       "</g>\n",
       "<!-- 139677108880096&#45;&gt;139677108880992 -->\n",
       "<g id=\"edge6\" class=\"edge\">\n",
       "<title>139677108880096&#45;&gt;139677108880992</title>\n",
       "<path fill=\"none\" stroke=\"black\" d=\"M112.46,-164.91C106.89,-154.94 99.75,-142.17 93.5,-130.97\"/>\n",
       "<polygon fill=\"black\" stroke=\"black\" points=\"96.45,-129.07 88.52,-122.04 90.34,-132.48 96.45,-129.07\"/>\n",
       "</g>\n",
       "<!-- 139677108882336 -->\n",
       "<g id=\"node139677108882336\" class=\"node\">\n",
       "<title>139677108882336</title>\n",
       "<g id=\"a_node139677108882336\"><a xlink:title=\" \">\n",
       "<polygon fill=\"#aabfff\" stroke=\"#0053d6\" stroke-width=\"2\" points=\"114,-50 44,-50 44,0 114,0 114,-50\"/>\n",
       "<text text-anchor=\"start\" x=\"52\" y=\"-35.8\" font-family=\"Times,serif\" font-weight=\"bold\" font-size=\"14.00\">output</text>\n",
       "<text text-anchor=\"start\" x=\"65\" y=\"-21.8\" font-family=\"Times,serif\" font-weight=\"bold\" font-size=\"14.00\">exp</text>\n",
       "<text text-anchor=\"start\" x=\"57.5\" y=\"-7.8\" font-family=\"Times,serif\" font-size=\"14.00\">f32[1]</text>\n",
       "</a>\n",
       "</g>\n",
       "</g>\n",
       "<!-- 139677108880992&#45;&gt;139677108882336 -->\n",
       "<g id=\"edge7\" class=\"edge\">\n",
       "<title>139677108880992&#45;&gt;139677108882336</title>\n",
       "<path fill=\"none\" stroke=\"black\" d=\"M79,-85.91C79,-78.33 79,-69.13 79,-60.23\"/>\n",
       "<polygon fill=\"black\" stroke=\"black\" points=\"82.5,-60.05 79,-50.05 75.5,-60.05 82.5,-60.05\"/>\n",
       "</g>\n",
       "<!-- 1396776388324160 -->\n",
       "<g id=\"node1396776388324160\" class=\"node\">\n",
       "<title>1396776388324160</title>\n",
       "<polygon fill=\"#ffdeaf\" stroke=\"#ff8a4f\" points=\"159,-424 85,-424 85,-388 159,-388 159,-424\"/>\n",
       "<text text-anchor=\"start\" x=\"93\" y=\"-409.8\" font-family=\"Times,serif\" font-weight=\"bold\" font-size=\"14.00\">args[0]</text>\n",
       "<text text-anchor=\"start\" x=\"100.5\" y=\"-395.8\" font-family=\"Times,serif\" font-size=\"14.00\">f32[1]</text>\n",
       "</g>\n",
       "<!-- 1396776388324160&#45;&gt;139677109496736 -->\n",
       "<g id=\"edge1\" class=\"edge\">\n",
       "<title>1396776388324160&#45;&gt;139677109496736</title>\n",
       "<path fill=\"none\" stroke=\"black\" d=\"M122,-387.7C122,-379.98 122,-370.71 122,-362.11\"/>\n",
       "<polygon fill=\"black\" stroke=\"black\" points=\"125.5,-362.1 122,-352.1 118.5,-362.1 125.5,-362.1\"/>\n",
       "</g>\n",
       "<!-- 1396776388324161 -->\n",
       "<g id=\"node1396776388324161\" class=\"node\">\n",
       "<title>1396776388324161</title>\n",
       "<polygon fill=\"#ffeacc\" stroke=\"#ff8a4f\" points=\"74,-208 0,-208 0,-158 74,-158 74,-208\"/>\n",
       "<text text-anchor=\"start\" x=\"8\" y=\"-193.8\" font-family=\"Times,serif\" font-weight=\"bold\" font-size=\"14.00\" fill=\"#565858\">(reuse)</text>\n",
       "<text text-anchor=\"start\" x=\"8\" y=\"-179.8\" font-family=\"Times,serif\" font-weight=\"bold\" font-size=\"14.00\" fill=\"#565858\">args[0]</text>\n",
       "<text text-anchor=\"start\" x=\"15.5\" y=\"-165.8\" font-family=\"Times,serif\" font-size=\"14.00\" fill=\"#565858\">f32[1]</text>\n",
       "</g>\n",
       "<!-- 1396776388324161&#45;&gt;139677108880992 -->\n",
       "<g id=\"edge5\" class=\"edge\">\n",
       "<title>1396776388324161&#45;&gt;139677108880992</title>\n",
       "<path fill=\"none\" stroke=\"black\" d=\"M50.29,-157.64C54.88,-149.22 60.04,-139.77 64.7,-131.21\"/>\n",
       "<polygon fill=\"black\" stroke=\"black\" points=\"67.81,-132.83 69.52,-122.38 61.66,-129.48 67.81,-132.83\"/>\n",
       "</g>\n",
       "</g>\n",
       "</svg>\n"
      ],
      "text/plain": [
       "<graphviz.sources.Source at 0x7f09e0786ee0>"
      ]
     },
     "execution_count": 16,
     "metadata": {},
     "output_type": "execute_result"
    }
   ],
   "source": [
    "def f(a):\n",
    "  b = jnp.sin(a)\n",
    "  c = jnp.cos(b)\n",
    "  d = b + c\n",
    "  e = a + d\n",
    "  e = jnp.exp(e)\n",
    "  return e\n",
    "\n",
    "x = jnp.ones([1])\n",
    "dot = hk.experimental.to_dot(f)(x)\n",
    "\n",
    "import graphviz\n",
    "graphviz.Source(dot)"
   ]
  },
  {
   "cell_type": "code",
   "execution_count": 3,
   "metadata": {},
   "outputs": [
    {
     "data": {
      "text/plain": [
       "<function src.models.nucleotide_transformer.build_nucleotide_transformer_fn.<locals>.nucleotide_transformer_fn(tokens: jax.Array, attention_mask: Optional[jax.Array] = None) -> Dict[str, jax.Array]>"
      ]
     },
     "execution_count": 3,
     "metadata": {},
     "output_type": "execute_result"
    }
   ],
   "source": [
    "import os\n",
    "import sys\n",
    "\n",
    "if __package__ is None:\n",
    "\n",
    "    module_path = os.path.abspath(os.path.join('..'))\n",
    "    sys.path.append(module_path)\n",
    "\n",
    "    __package__ = os.path.basename(module_path)\n",
    "    \n",
    "from src.models.nucleotide_transformer import build_nucleotide_transformer_fn\n",
    "\n",
    "build_nucleotide_transformer_fn(model_config=1)"
   ]
  },
  {
   "cell_type": "code",
   "execution_count": null,
   "metadata": {},
   "outputs": [],
   "source": []
  }
 ],
 "metadata": {
  "kernelspec": {
   "display_name": "env_evoscaper",
   "language": "python",
   "name": "python3"
  },
  "language_info": {
   "codemirror_mode": {
    "name": "ipython",
    "version": 3
   },
   "file_extension": ".py",
   "mimetype": "text/x-python",
   "name": "python",
   "nbconvert_exporter": "python",
   "pygments_lexer": "ipython3",
   "version": "3.9.16"
  },
  "orig_nbformat": 4
 },
 "nbformat": 4,
 "nbformat_minor": 2
}
