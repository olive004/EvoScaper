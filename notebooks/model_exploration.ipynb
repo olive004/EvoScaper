{
 "cells": [
  {
   "cell_type": "code",
   "execution_count": 1,
   "metadata": {},
   "outputs": [],
   "source": [
    "%load_ext autoreload\n",
    "%autoreload 2"
   ]
  },
  {
   "cell_type": "code",
   "execution_count": 2,
   "metadata": {},
   "outputs": [],
   "source": [
    "import haiku as hk\n",
    "import jax\n",
    "import jax.numpy as jnp\n",
    "import numpy as np\n",
    "# import tensorflow as tf\n",
    "# import tensorflow_datasets as tfds\n",
    "jax.config.update('jax_platform_name', 'gpu')"
   ]
  },
  {
   "cell_type": "code",
   "execution_count": null,
   "metadata": {},
   "outputs": [],
   "source": [
    "jax.__version__"
   ]
  },
  {
   "cell_type": "code",
   "execution_count": 1,
   "metadata": {},
   "outputs": [
    {
     "name": "stderr",
     "output_type": "stream",
     "text": [
      "No GPU/TPU found, falling back to CPU. (Set TF_CPP_MIN_LOG_LEVEL=0 and rerun for more info.)\n"
     ]
    },
    {
     "ename": "RuntimeError",
     "evalue": "Unknown backend: 'gpu' requested, but no platforms that are instances of gpu are present. Platforms present are: interpreter,cpu",
     "output_type": "error",
     "traceback": [
      "\u001b[0;31m---------------------------------------------------------------------------\u001b[0m",
      "\u001b[0;31mRuntimeError\u001b[0m                              Traceback (most recent call last)",
      "Cell \u001b[0;32mIn[1], line 13\u001b[0m\n\u001b[1;32m      9\u001b[0m \u001b[39mdef\u001b[39;00m \u001b[39mtest_vmap\u001b[39m(m):\n\u001b[1;32m     10\u001b[0m     \u001b[39mreturn\u001b[39;00m jnp\u001b[39m.\u001b[39msin(m)\n\u001b[0;32m---> 13\u001b[0m jax\u001b[39m.\u001b[39mvmap(test_vmap)(jnp\u001b[39m.\u001b[39;49mones(\u001b[39m4\u001b[39;49m))\n\u001b[1;32m     16\u001b[0m \u001b[39m## Numba test\u001b[39;00m\n\u001b[1;32m     17\u001b[0m \u001b[39mfrom\u001b[39;00m \u001b[39mnumba\u001b[39;00m \u001b[39mimport\u001b[39;00m jit, cuda\n",
      "File \u001b[0;32m~/Kode/env_evoscaper/lib/python3.9/site-packages/jax/_src/numpy/lax_numpy.py:2092\u001b[0m, in \u001b[0;36mones\u001b[0;34m(shape, dtype)\u001b[0m\n\u001b[1;32m   2090\u001b[0m shape \u001b[39m=\u001b[39m canonicalize_shape(shape)\n\u001b[1;32m   2091\u001b[0m dtypes\u001b[39m.\u001b[39mcheck_user_dtype_supported(dtype, \u001b[39m\"\u001b[39m\u001b[39mones\u001b[39m\u001b[39m\"\u001b[39m)\n\u001b[0;32m-> 2092\u001b[0m \u001b[39mreturn\u001b[39;00m lax\u001b[39m.\u001b[39;49mfull(shape, \u001b[39m1\u001b[39;49m, _jnp_dtype(dtype))\n",
      "File \u001b[0;32m~/Kode/env_evoscaper/lib/python3.9/site-packages/jax/_src/lax/lax.py:1189\u001b[0m, in \u001b[0;36mfull\u001b[0;34m(shape, fill_value, dtype)\u001b[0m\n\u001b[1;32m   1187\u001b[0m weak_type \u001b[39m=\u001b[39m dtype \u001b[39mis\u001b[39;00m \u001b[39mNone\u001b[39;00m \u001b[39mand\u001b[39;00m dtypes\u001b[39m.\u001b[39mis_weakly_typed(fill_value)\n\u001b[1;32m   1188\u001b[0m dtype \u001b[39m=\u001b[39m dtypes\u001b[39m.\u001b[39mcanonicalize_dtype(dtype \u001b[39mor\u001b[39;00m _dtype(fill_value))\n\u001b[0;32m-> 1189\u001b[0m fill_value \u001b[39m=\u001b[39m _convert_element_type(fill_value, dtype, weak_type)\n\u001b[1;32m   1190\u001b[0m \u001b[39mreturn\u001b[39;00m broadcast(fill_value, shape)\n",
      "File \u001b[0;32m~/Kode/env_evoscaper/lib/python3.9/site-packages/jax/_src/lax/lax.py:537\u001b[0m, in \u001b[0;36m_convert_element_type\u001b[0;34m(operand, new_dtype, weak_type)\u001b[0m\n\u001b[1;32m    535\u001b[0m   \u001b[39mreturn\u001b[39;00m type_cast(Array, operand)\n\u001b[1;32m    536\u001b[0m \u001b[39melse\u001b[39;00m:\n\u001b[0;32m--> 537\u001b[0m   \u001b[39mreturn\u001b[39;00m convert_element_type_p\u001b[39m.\u001b[39;49mbind(operand, new_dtype\u001b[39m=\u001b[39;49mnew_dtype,\n\u001b[1;32m    538\u001b[0m                                      weak_type\u001b[39m=\u001b[39;49m\u001b[39mbool\u001b[39;49m(weak_type))\n",
      "File \u001b[0;32m~/Kode/env_evoscaper/lib/python3.9/site-packages/jax/_src/core.py:360\u001b[0m, in \u001b[0;36mPrimitive.bind\u001b[0;34m(self, *args, **params)\u001b[0m\n\u001b[1;32m    357\u001b[0m \u001b[39mdef\u001b[39;00m \u001b[39mbind\u001b[39m(\u001b[39mself\u001b[39m, \u001b[39m*\u001b[39margs, \u001b[39m*\u001b[39m\u001b[39m*\u001b[39mparams):\n\u001b[1;32m    358\u001b[0m   \u001b[39massert\u001b[39;00m (\u001b[39mnot\u001b[39;00m config\u001b[39m.\u001b[39mjax_enable_checks \u001b[39mor\u001b[39;00m\n\u001b[1;32m    359\u001b[0m           \u001b[39mall\u001b[39m(\u001b[39misinstance\u001b[39m(arg, Tracer) \u001b[39mor\u001b[39;00m valid_jaxtype(arg) \u001b[39mfor\u001b[39;00m arg \u001b[39min\u001b[39;00m args)), args\n\u001b[0;32m--> 360\u001b[0m   \u001b[39mreturn\u001b[39;00m \u001b[39mself\u001b[39;49m\u001b[39m.\u001b[39;49mbind_with_trace(find_top_trace(args), args, params)\n",
      "File \u001b[0;32m~/Kode/env_evoscaper/lib/python3.9/site-packages/jax/_src/core.py:363\u001b[0m, in \u001b[0;36mPrimitive.bind_with_trace\u001b[0;34m(self, trace, args, params)\u001b[0m\n\u001b[1;32m    362\u001b[0m \u001b[39mdef\u001b[39;00m \u001b[39mbind_with_trace\u001b[39m(\u001b[39mself\u001b[39m, trace, args, params):\n\u001b[0;32m--> 363\u001b[0m   out \u001b[39m=\u001b[39m trace\u001b[39m.\u001b[39;49mprocess_primitive(\u001b[39mself\u001b[39;49m, \u001b[39mmap\u001b[39;49m(trace\u001b[39m.\u001b[39;49mfull_raise, args), params)\n\u001b[1;32m    364\u001b[0m   \u001b[39mreturn\u001b[39;00m \u001b[39mmap\u001b[39m(full_lower, out) \u001b[39mif\u001b[39;00m \u001b[39mself\u001b[39m\u001b[39m.\u001b[39mmultiple_results \u001b[39melse\u001b[39;00m full_lower(out)\n",
      "File \u001b[0;32m~/Kode/env_evoscaper/lib/python3.9/site-packages/jax/_src/core.py:817\u001b[0m, in \u001b[0;36mEvalTrace.process_primitive\u001b[0;34m(self, primitive, tracers, params)\u001b[0m\n\u001b[1;32m    816\u001b[0m \u001b[39mdef\u001b[39;00m \u001b[39mprocess_primitive\u001b[39m(\u001b[39mself\u001b[39m, primitive, tracers, params):\n\u001b[0;32m--> 817\u001b[0m   \u001b[39mreturn\u001b[39;00m primitive\u001b[39m.\u001b[39;49mimpl(\u001b[39m*\u001b[39;49mtracers, \u001b[39m*\u001b[39;49m\u001b[39m*\u001b[39;49mparams)\n",
      "File \u001b[0;32m~/Kode/env_evoscaper/lib/python3.9/site-packages/jax/_src/dispatch.py:117\u001b[0m, in \u001b[0;36mapply_primitive\u001b[0;34m(prim, *args, **params)\u001b[0m\n\u001b[1;32m    114\u001b[0m \u001b[39mfrom\u001b[39;00m \u001b[39mjax\u001b[39;00m\u001b[39m.\u001b[39;00m\u001b[39m_src\u001b[39;00m \u001b[39mimport\u001b[39;00m pjit\n\u001b[1;32m    116\u001b[0m \u001b[39mtry\u001b[39;00m:\n\u001b[0;32m--> 117\u001b[0m   compiled_fun \u001b[39m=\u001b[39m xla_primitive_callable(prim, \u001b[39m*\u001b[39;49munsafe_map(arg_spec, args),\n\u001b[1;32m    118\u001b[0m                                         \u001b[39m*\u001b[39;49m\u001b[39m*\u001b[39;49mparams)\n\u001b[1;32m    119\u001b[0m \u001b[39mexcept\u001b[39;00m pxla\u001b[39m.\u001b[39mDeviceAssignmentMismatchError \u001b[39mas\u001b[39;00m e:\n\u001b[1;32m    120\u001b[0m   fails, \u001b[39m=\u001b[39m e\u001b[39m.\u001b[39margs\n",
      "File \u001b[0;32m~/Kode/env_evoscaper/lib/python3.9/site-packages/jax/_src/util.py:253\u001b[0m, in \u001b[0;36mcache.<locals>.wrap.<locals>.wrapper\u001b[0;34m(*args, **kwargs)\u001b[0m\n\u001b[1;32m    251\u001b[0m   \u001b[39mreturn\u001b[39;00m f(\u001b[39m*\u001b[39margs, \u001b[39m*\u001b[39m\u001b[39m*\u001b[39mkwargs)\n\u001b[1;32m    252\u001b[0m \u001b[39melse\u001b[39;00m:\n\u001b[0;32m--> 253\u001b[0m   \u001b[39mreturn\u001b[39;00m cached(config\u001b[39m.\u001b[39;49m_trace_context(), \u001b[39m*\u001b[39;49margs, \u001b[39m*\u001b[39;49m\u001b[39m*\u001b[39;49mkwargs)\n",
      "File \u001b[0;32m~/Kode/env_evoscaper/lib/python3.9/site-packages/jax/_src/util.py:246\u001b[0m, in \u001b[0;36mcache.<locals>.wrap.<locals>.cached\u001b[0;34m(_, *args, **kwargs)\u001b[0m\n\u001b[1;32m    244\u001b[0m \u001b[39m@functools\u001b[39m\u001b[39m.\u001b[39mlru_cache(max_size)\n\u001b[1;32m    245\u001b[0m \u001b[39mdef\u001b[39;00m \u001b[39mcached\u001b[39m(_, \u001b[39m*\u001b[39margs, \u001b[39m*\u001b[39m\u001b[39m*\u001b[39mkwargs):\n\u001b[0;32m--> 246\u001b[0m   \u001b[39mreturn\u001b[39;00m f(\u001b[39m*\u001b[39;49margs, \u001b[39m*\u001b[39;49m\u001b[39m*\u001b[39;49mkwargs)\n",
      "File \u001b[0;32m~/Kode/env_evoscaper/lib/python3.9/site-packages/jax/_src/dispatch.py:208\u001b[0m, in \u001b[0;36mxla_primitive_callable\u001b[0;34m(prim, *arg_specs, **params)\u001b[0m\n\u001b[1;32m    206\u001b[0m   \u001b[39melse\u001b[39;00m:\n\u001b[1;32m    207\u001b[0m     \u001b[39mreturn\u001b[39;00m out,\n\u001b[0;32m--> 208\u001b[0m compiled \u001b[39m=\u001b[39m _xla_callable_uncached(lu\u001b[39m.\u001b[39;49mwrap_init(prim_fun), prim\u001b[39m.\u001b[39;49mname,\n\u001b[1;32m    209\u001b[0m                                   donated_invars, \u001b[39mFalse\u001b[39;49;00m, \u001b[39m*\u001b[39;49marg_specs)\n\u001b[1;32m    210\u001b[0m \u001b[39mif\u001b[39;00m \u001b[39mnot\u001b[39;00m prim\u001b[39m.\u001b[39mmultiple_results:\n\u001b[1;32m    211\u001b[0m   \u001b[39mreturn\u001b[39;00m \u001b[39mlambda\u001b[39;00m \u001b[39m*\u001b[39margs, \u001b[39m*\u001b[39m\u001b[39m*\u001b[39mkw: compiled(\u001b[39m*\u001b[39margs, \u001b[39m*\u001b[39m\u001b[39m*\u001b[39mkw)[\u001b[39m0\u001b[39m]\n",
      "File \u001b[0;32m~/Kode/env_evoscaper/lib/python3.9/site-packages/jax/_src/dispatch.py:251\u001b[0m, in \u001b[0;36m_xla_callable_uncached\u001b[0;34m(fun, name, donated_invars, keep_unused, *arg_specs)\u001b[0m\n\u001b[1;32m    249\u001b[0m \u001b[39mdef\u001b[39;00m \u001b[39m_xla_callable_uncached\u001b[39m(fun: lu\u001b[39m.\u001b[39mWrappedFun, name, donated_invars,\n\u001b[1;32m    250\u001b[0m                            keep_unused, \u001b[39m*\u001b[39marg_specs):\n\u001b[0;32m--> 251\u001b[0m   computation \u001b[39m=\u001b[39m sharded_lowering(fun, name, donated_invars, keep_unused,\n\u001b[1;32m    252\u001b[0m                                  \u001b[39m*\u001b[39;49marg_specs, lowering_platform\u001b[39m=\u001b[39;49m\u001b[39mNone\u001b[39;49;00m)\n\u001b[1;32m    253\u001b[0m   allow_prop \u001b[39m=\u001b[39m [\u001b[39mTrue\u001b[39;00m] \u001b[39m*\u001b[39m \u001b[39mlen\u001b[39m(computation\u001b[39m.\u001b[39mcompile_args[\u001b[39m'\u001b[39m\u001b[39mglobal_out_avals\u001b[39m\u001b[39m'\u001b[39m])\n\u001b[1;32m    254\u001b[0m   \u001b[39mreturn\u001b[39;00m computation\u001b[39m.\u001b[39mcompile(_allow_propagation_to_outputs\u001b[39m=\u001b[39mallow_prop)\u001b[39m.\u001b[39munsafe_call\n",
      "File \u001b[0;32m~/Kode/env_evoscaper/lib/python3.9/site-packages/jax/_src/dispatch.py:243\u001b[0m, in \u001b[0;36msharded_lowering\u001b[0;34m(fun, name, donated_invars, keep_unused, lowering_platform, *arg_specs)\u001b[0m\n\u001b[1;32m    238\u001b[0m in_shardings \u001b[39m=\u001b[39m [pxla\u001b[39m.\u001b[39m_UNSPECIFIED \u001b[39mif\u001b[39;00m i \u001b[39mis\u001b[39;00m \u001b[39mNone\u001b[39;00m \u001b[39melse\u001b[39;00m i \u001b[39mfor\u001b[39;00m i \u001b[39min\u001b[39;00m in_shardings]  \u001b[39m# type: ignore\u001b[39;00m\n\u001b[1;32m    240\u001b[0m \u001b[39m# Pass in a singleton `_UNSPECIFIED` for out_shardings because we don't know\u001b[39;00m\n\u001b[1;32m    241\u001b[0m \u001b[39m# the number of output avals at this stage. lower_sharding_computation will\u001b[39;00m\n\u001b[1;32m    242\u001b[0m \u001b[39m# apply it to all out_avals.\u001b[39;00m\n\u001b[0;32m--> 243\u001b[0m \u001b[39mreturn\u001b[39;00m pxla\u001b[39m.\u001b[39;49mlower_sharding_computation(\n\u001b[1;32m    244\u001b[0m     fun, \u001b[39m'\u001b[39;49m\u001b[39mjit\u001b[39;49m\u001b[39m'\u001b[39;49m, name, in_shardings, pxla\u001b[39m.\u001b[39;49m_UNSPECIFIED, donated_invars,\n\u001b[1;32m    245\u001b[0m     in_avals, keep_unused\u001b[39m=\u001b[39;49mkeep_unused, always_lower\u001b[39m=\u001b[39;49m\u001b[39mFalse\u001b[39;49;00m,\n\u001b[1;32m    246\u001b[0m     devices_from_context\u001b[39m=\u001b[39;49m\u001b[39mNone\u001b[39;49;00m, lowering_platform\u001b[39m=\u001b[39;49mlowering_platform)\n",
      "File \u001b[0;32m~/Kode/env_evoscaper/lib/python3.9/site-packages/jax/_src/profiler.py:314\u001b[0m, in \u001b[0;36mannotate_function.<locals>.wrapper\u001b[0;34m(*args, **kwargs)\u001b[0m\n\u001b[1;32m    311\u001b[0m \u001b[39m@wraps\u001b[39m(func)\n\u001b[1;32m    312\u001b[0m \u001b[39mdef\u001b[39;00m \u001b[39mwrapper\u001b[39m(\u001b[39m*\u001b[39margs, \u001b[39m*\u001b[39m\u001b[39m*\u001b[39mkwargs):\n\u001b[1;32m    313\u001b[0m   \u001b[39mwith\u001b[39;00m TraceAnnotation(name, \u001b[39m*\u001b[39m\u001b[39m*\u001b[39mdecorator_kwargs):\n\u001b[0;32m--> 314\u001b[0m     \u001b[39mreturn\u001b[39;00m func(\u001b[39m*\u001b[39;49margs, \u001b[39m*\u001b[39;49m\u001b[39m*\u001b[39;49mkwargs)\n\u001b[1;32m    315\u001b[0m   \u001b[39mreturn\u001b[39;00m wrapper\n",
      "File \u001b[0;32m~/Kode/env_evoscaper/lib/python3.9/site-packages/jax/_src/interpreters/pxla.py:2419\u001b[0m, in \u001b[0;36mlower_sharding_computation\u001b[0;34m(fun_or_jaxpr, api_name, fun_name, in_shardings, out_shardings, donated_invars, global_in_avals, keep_unused, always_lower, devices_from_context, lowering_platform)\u001b[0m\n\u001b[1;32m   2416\u001b[0m \u001b[39m# Device assignment across all inputs, outputs and shardings inside jaxpr\u001b[39;00m\n\u001b[1;32m   2417\u001b[0m \u001b[39m# should be the same.\u001b[39;00m\n\u001b[1;32m   2418\u001b[0m jaxpr_sharding \u001b[39m=\u001b[39m \u001b[39mlist\u001b[39m(dispatch\u001b[39m.\u001b[39mjaxpr_shardings(jaxpr))\n\u001b[0;32m-> 2419\u001b[0m backend, device_assignment \u001b[39m=\u001b[39m _get_and_check_device_assignment(\n\u001b[1;32m   2420\u001b[0m     it\u001b[39m.\u001b[39;49mchain([(i, MismatchType\u001b[39m.\u001b[39;49mARG_SHARDING, \u001b[39mNone\u001b[39;49;00m) \u001b[39mfor\u001b[39;49;00m i \u001b[39min\u001b[39;49;00m in_shardings],\n\u001b[1;32m   2421\u001b[0m              [(o, MismatchType\u001b[39m.\u001b[39;49mOUT_SHARDING, \u001b[39mNone\u001b[39;49;00m) \u001b[39mfor\u001b[39;49;00m o \u001b[39min\u001b[39;49;00m out_shardings],  \u001b[39m# type: ignore\u001b[39;49;00m\n\u001b[1;32m   2422\u001b[0m              [(js, MismatchType\u001b[39m.\u001b[39;49mSHARDING_INSIDE_COMPUTATION, source_info)  \u001b[39m# type: ignore\u001b[39;49;00m\n\u001b[1;32m   2423\u001b[0m               \u001b[39mfor\u001b[39;49;00m js, source_info \u001b[39min\u001b[39;49;00m jaxpr_sharding]),\n\u001b[1;32m   2424\u001b[0m     devices_from_context)\n\u001b[1;32m   2426\u001b[0m \u001b[39m# TODO(yashkatariya): Make this logic work after DCE because there can be\u001b[39;00m\n\u001b[1;32m   2427\u001b[0m \u001b[39m# equations inside the jaxpr that don't affect the output so whether the\u001b[39;00m\n\u001b[1;32m   2428\u001b[0m \u001b[39m# output(s) are committed or not should not depend on it.\u001b[39;00m\n\u001b[1;32m   2429\u001b[0m committed \u001b[39m=\u001b[39m \u001b[39mbool\u001b[39m(\n\u001b[1;32m   2430\u001b[0m     devices_from_context \u001b[39mor\u001b[39;00m\n\u001b[1;32m   2431\u001b[0m     \u001b[39mlen\u001b[39m(device_assignment) \u001b[39m>\u001b[39m \u001b[39m1\u001b[39m \u001b[39mor\u001b[39;00m\n\u001b[1;32m   2432\u001b[0m     \u001b[39many\u001b[39m(\u001b[39mnot\u001b[39;00m _is_unspecified(i) \u001b[39mfor\u001b[39;00m i \u001b[39min\u001b[39;00m in_shardings) \u001b[39mor\u001b[39;00m\n\u001b[1;32m   2433\u001b[0m     \u001b[39many\u001b[39m(\u001b[39mnot\u001b[39;00m _is_unspecified(js) \u001b[39mfor\u001b[39;00m js, _ \u001b[39min\u001b[39;00m jaxpr_sharding) \u001b[39mor\u001b[39;00m  \u001b[39m# type: ignore\u001b[39;00m\n\u001b[1;32m   2434\u001b[0m     \u001b[39many\u001b[39m(\u001b[39mnot\u001b[39;00m _is_unspecified(o) \u001b[39mfor\u001b[39;00m o \u001b[39min\u001b[39;00m out_shardings))  \u001b[39m# type: ignore\u001b[39;00m\n",
      "File \u001b[0;32m~/Kode/env_evoscaper/lib/python3.9/site-packages/jax/_src/interpreters/pxla.py:2365\u001b[0m, in \u001b[0;36m_get_and_check_device_assignment\u001b[0;34m(shardings, devices)\u001b[0m\n\u001b[1;32m   2363\u001b[0m   final_device_assignment \u001b[39m=\u001b[39m devices\n\u001b[1;32m   2364\u001b[0m \u001b[39melif\u001b[39;00m first_sharding_info \u001b[39mis\u001b[39;00m \u001b[39mNone\u001b[39;00m:\n\u001b[0;32m-> 2365\u001b[0m   final_device_assignment \u001b[39m=\u001b[39m [_get_default_device()]\n\u001b[1;32m   2366\u001b[0m \u001b[39melse\u001b[39;00m:\n\u001b[1;32m   2367\u001b[0m   final_device_assignment \u001b[39m=\u001b[39m first_sharding_info[\u001b[39m0\u001b[39m]\n",
      "File \u001b[0;32m~/Kode/env_evoscaper/lib/python3.9/site-packages/jax/_src/interpreters/pxla.py:2331\u001b[0m, in \u001b[0;36m_get_default_device\u001b[0;34m()\u001b[0m\n\u001b[1;32m   2330\u001b[0m \u001b[39mdef\u001b[39;00m \u001b[39m_get_default_device\u001b[39m() \u001b[39m-\u001b[39m\u001b[39m>\u001b[39m xc\u001b[39m.\u001b[39mDevice:\n\u001b[0;32m-> 2331\u001b[0m   \u001b[39mreturn\u001b[39;00m config\u001b[39m.\u001b[39mjax_default_device \u001b[39mor\u001b[39;00m xb\u001b[39m.\u001b[39;49mlocal_devices()[\u001b[39m0\u001b[39m]\n",
      "File \u001b[0;32m~/Kode/env_evoscaper/lib/python3.9/site-packages/jax/_src/xla_bridge.py:616\u001b[0m, in \u001b[0;36mlocal_devices\u001b[0;34m(process_index, backend, host_id)\u001b[0m\n\u001b[1;32m    614\u001b[0m   process_index \u001b[39m=\u001b[39m host_id\n\u001b[1;32m    615\u001b[0m \u001b[39mif\u001b[39;00m process_index \u001b[39mis\u001b[39;00m \u001b[39mNone\u001b[39;00m:\n\u001b[0;32m--> 616\u001b[0m   process_index \u001b[39m=\u001b[39m get_backend(backend)\u001b[39m.\u001b[39mprocess_index()\n\u001b[1;32m    617\u001b[0m \u001b[39mif\u001b[39;00m \u001b[39mnot\u001b[39;00m (\u001b[39m0\u001b[39m \u001b[39m<\u001b[39m\u001b[39m=\u001b[39m process_index \u001b[39m<\u001b[39m process_count()):\n\u001b[1;32m    618\u001b[0m   \u001b[39mraise\u001b[39;00m \u001b[39mValueError\u001b[39;00m(\u001b[39mf\u001b[39m\u001b[39m\"\u001b[39m\u001b[39mUnknown process_index \u001b[39m\u001b[39m{\u001b[39;00mprocess_index\u001b[39m}\u001b[39;00m\u001b[39m\"\u001b[39m)\n",
      "File \u001b[0;32m~/Kode/env_evoscaper/lib/python3.9/site-packages/jax/_src/xla_bridge.py:518\u001b[0m, in \u001b[0;36mget_backend\u001b[0;34m(platform)\u001b[0m\n\u001b[1;32m    514\u001b[0m \u001b[39m@lru_cache\u001b[39m(maxsize\u001b[39m=\u001b[39m\u001b[39mNone\u001b[39;00m)  \u001b[39m# don't use util.memoize because there is no X64 dependence.\u001b[39;00m\n\u001b[1;32m    515\u001b[0m \u001b[39mdef\u001b[39;00m \u001b[39mget_backend\u001b[39m(\n\u001b[1;32m    516\u001b[0m     platform: Union[\u001b[39mNone\u001b[39;00m, \u001b[39mstr\u001b[39m, xla_client\u001b[39m.\u001b[39mClient] \u001b[39m=\u001b[39m \u001b[39mNone\u001b[39;00m\n\u001b[1;32m    517\u001b[0m ) \u001b[39m-\u001b[39m\u001b[39m>\u001b[39m xla_client\u001b[39m.\u001b[39mClient:\n\u001b[0;32m--> 518\u001b[0m   \u001b[39mreturn\u001b[39;00m _get_backend_uncached(platform)\n",
      "File \u001b[0;32m~/Kode/env_evoscaper/lib/python3.9/site-packages/jax/_src/xla_bridge.py:501\u001b[0m, in \u001b[0;36m_get_backend_uncached\u001b[0;34m(platform)\u001b[0m\n\u001b[1;32m    499\u001b[0m bs \u001b[39m=\u001b[39m backends()\n\u001b[1;32m    500\u001b[0m \u001b[39mif\u001b[39;00m platform \u001b[39mis\u001b[39;00m \u001b[39mnot\u001b[39;00m \u001b[39mNone\u001b[39;00m:\n\u001b[0;32m--> 501\u001b[0m   platform \u001b[39m=\u001b[39m canonicalize_platform(platform)\n\u001b[1;32m    502\u001b[0m   backend \u001b[39m=\u001b[39m bs\u001b[39m.\u001b[39mget(platform, \u001b[39mNone\u001b[39;00m)\n\u001b[1;32m    503\u001b[0m   \u001b[39mif\u001b[39;00m backend \u001b[39mis\u001b[39;00m \u001b[39mNone\u001b[39;00m:\n",
      "File \u001b[0;32m~/Kode/env_evoscaper/lib/python3.9/site-packages/jax/_src/xla_bridge.py:381\u001b[0m, in \u001b[0;36mcanonicalize_platform\u001b[0;34m(platform)\u001b[0m\n\u001b[1;32m    379\u001b[0m   \u001b[39mif\u001b[39;00m p \u001b[39min\u001b[39;00m b\u001b[39m.\u001b[39mkeys():\n\u001b[1;32m    380\u001b[0m     \u001b[39mreturn\u001b[39;00m p\n\u001b[0;32m--> 381\u001b[0m \u001b[39mraise\u001b[39;00m \u001b[39mRuntimeError\u001b[39;00m(\u001b[39mf\u001b[39m\u001b[39m\"\u001b[39m\u001b[39mUnknown backend: \u001b[39m\u001b[39m'\u001b[39m\u001b[39m{\u001b[39;00mplatform\u001b[39m}\u001b[39;00m\u001b[39m'\u001b[39m\u001b[39m requested, but no \u001b[39m\u001b[39m\"\u001b[39m\n\u001b[1;32m    382\u001b[0m                    \u001b[39mf\u001b[39m\u001b[39m\"\u001b[39m\u001b[39mplatforms that are instances of \u001b[39m\u001b[39m{\u001b[39;00mplatform\u001b[39m}\u001b[39;00m\u001b[39m are present. \u001b[39m\u001b[39m\"\u001b[39m\n\u001b[1;32m    383\u001b[0m                    \u001b[39m\"\u001b[39m\u001b[39mPlatforms present are: \u001b[39m\u001b[39m\"\u001b[39m \u001b[39m+\u001b[39m \u001b[39m\"\u001b[39m\u001b[39m,\u001b[39m\u001b[39m\"\u001b[39m\u001b[39m.\u001b[39mjoin(b\u001b[39m.\u001b[39mkeys()))\n",
      "\u001b[0;31mRuntimeError\u001b[0m: Unknown backend: 'gpu' requested, but no platforms that are instances of gpu are present. Platforms present are: interpreter,cpu"
     ]
    }
   ],
   "source": [
    "import jax\n",
    "import jax.numpy as jnp\n",
    "\n",
    "\n",
    "## Jax test\n",
    "jax.config.update('jax_platform_name', 'gpu')\n",
    "\n",
    "\n",
    "def test_vmap(m):\n",
    "    return jnp.sin(m)\n",
    "\n",
    "\n",
    "jax.vmap(test_vmap)(jnp.ones(4))\n",
    "\n",
    "\n",
    "## Numba test\n",
    "from numba import jit, cuda\n",
    "import numpy as np\n",
    "# to measure exec time\n",
    "from timeit import default_timer as timer   \n",
    "  \n",
    "# normal function to run on cpu\n",
    "def func(a):                                \n",
    "    for i in range(10000000):\n",
    "        a[i]+= 1      \n",
    "  \n",
    "# function optimized to run on gpu \n",
    "@jit(target_backend='cuda')                         \n",
    "def func2(a):\n",
    "    for i in range(10000000):\n",
    "        a[i]+= 1\n",
    "if __name__==\"__main__\":\n",
    "    n = 10000000                            \n",
    "    a = np.ones(n, dtype = np.float64)\n",
    "      \n",
    "    start = timer()\n",
    "    func(a)\n",
    "    print(\"without GPU:\", timer()-start)    \n",
    "      \n",
    "    start = timer()\n",
    "    func2(a)\n",
    "    print(\"with GPU:\", timer()-start)\n"
   ]
  },
  {
   "cell_type": "code",
   "execution_count": null,
   "metadata": {},
   "outputs": [],
   "source": [
    "class MyLinear1(hk.Module):\n",
    "\n",
    "  def __init__(self, output_size, name=None):\n",
    "    super().__init__(name=name)\n",
    "    self.output_size = output_size\n",
    "\n",
    "  def __call__(self, x):\n",
    "    j, k = x.shape[-1], self.output_size\n",
    "    w_init = hk.initializers.TruncatedNormal(1. / np.sqrt(j))\n",
    "    w = hk.get_parameter(\"w\", shape=[j, k], dtype=x.dtype, init=w_init)\n",
    "    b = hk.get_parameter(\"b\", shape=[k], dtype=x.dtype, init=jnp.ones)\n",
    "    return jnp.dot(x, w) + b"
   ]
  },
  {
   "cell_type": "code",
   "execution_count": null,
   "metadata": {},
   "outputs": [],
   "source": [
    "def _forward_fn_linear1(x):\n",
    "  module = MyLinear1(output_size=2)\n",
    "  return module(x)\n",
    "\n",
    "forward_linear1 = hk.transform(_forward_fn_linear1)"
   ]
  },
  {
   "cell_type": "code",
   "execution_count": null,
   "metadata": {},
   "outputs": [
    {
     "name": "stderr",
     "output_type": "stream",
     "text": [
      "No GPU/TPU found, falling back to CPU. (Set TF_CPP_MIN_LOG_LEVEL=0 and rerun for more info.)\n"
     ]
    },
    {
     "ename": "RuntimeError",
     "evalue": "Unknown backend: 'gpu' requested, but no platforms that are instances of gpu are present. Platforms present are: interpreter,cpu",
     "output_type": "error",
     "traceback": [
      "\u001b[0;31m---------------------------------------------------------------------------\u001b[0m",
      "\u001b[0;31mRuntimeError\u001b[0m                              Traceback (most recent call last)",
      "Cell \u001b[0;32mIn[5], line 1\u001b[0m\n\u001b[0;32m----> 1\u001b[0m dummy_x \u001b[39m=\u001b[39m jnp\u001b[39m.\u001b[39;49marray([[\u001b[39m1.\u001b[39;49m, \u001b[39m2.\u001b[39;49m, \u001b[39m3.\u001b[39;49m]])\n\u001b[1;32m      2\u001b[0m rng_key \u001b[39m=\u001b[39m jax\u001b[39m.\u001b[39mrandom\u001b[39m.\u001b[39mPRNGKey(\u001b[39m42\u001b[39m)\n\u001b[1;32m      4\u001b[0m params \u001b[39m=\u001b[39m forward_linear1\u001b[39m.\u001b[39minit(rng\u001b[39m=\u001b[39mrng_key, x\u001b[39m=\u001b[39mdummy_x)\n",
      "File \u001b[0;32m~/Kode/env_evoscaper/lib/python3.9/site-packages/jax/_src/numpy/lax_numpy.py:1993\u001b[0m, in \u001b[0;36marray\u001b[0;34m(object, dtype, copy, order, ndmin)\u001b[0m\n\u001b[1;32m   1989\u001b[0m     \u001b[39mreturn\u001b[39;00m array(np\u001b[39m.\u001b[39masarray(view), dtype, copy, ndmin\u001b[39m=\u001b[39mndmin)\n\u001b[1;32m   1991\u001b[0m   \u001b[39mraise\u001b[39;00m \u001b[39mTypeError\u001b[39;00m(\u001b[39mf\u001b[39m\u001b[39m\"\u001b[39m\u001b[39mUnexpected input type for array: \u001b[39m\u001b[39m{\u001b[39;00m\u001b[39mtype\u001b[39m(\u001b[39mobject\u001b[39m)\u001b[39m}\u001b[39;00m\u001b[39m\"\u001b[39m)\n\u001b[0;32m-> 1993\u001b[0m out_array: Array \u001b[39m=\u001b[39m lax_internal\u001b[39m.\u001b[39;49m_convert_element_type(out, dtype, weak_type\u001b[39m=\u001b[39;49mweak_type)\n\u001b[1;32m   1994\u001b[0m \u001b[39mif\u001b[39;00m ndmin \u001b[39m>\u001b[39m ndim(out_array):\n\u001b[1;32m   1995\u001b[0m   out_array \u001b[39m=\u001b[39m lax\u001b[39m.\u001b[39mexpand_dims(out_array, \u001b[39mrange\u001b[39m(ndmin \u001b[39m-\u001b[39m ndim(out_array)))\n",
      "File \u001b[0;32m~/Kode/env_evoscaper/lib/python3.9/site-packages/jax/_src/lax/lax.py:537\u001b[0m, in \u001b[0;36m_convert_element_type\u001b[0;34m(operand, new_dtype, weak_type)\u001b[0m\n\u001b[1;32m    535\u001b[0m   \u001b[39mreturn\u001b[39;00m type_cast(Array, operand)\n\u001b[1;32m    536\u001b[0m \u001b[39melse\u001b[39;00m:\n\u001b[0;32m--> 537\u001b[0m   \u001b[39mreturn\u001b[39;00m convert_element_type_p\u001b[39m.\u001b[39;49mbind(operand, new_dtype\u001b[39m=\u001b[39;49mnew_dtype,\n\u001b[1;32m    538\u001b[0m                                      weak_type\u001b[39m=\u001b[39;49m\u001b[39mbool\u001b[39;49m(weak_type))\n",
      "File \u001b[0;32m~/Kode/env_evoscaper/lib/python3.9/site-packages/jax/_src/core.py:360\u001b[0m, in \u001b[0;36mPrimitive.bind\u001b[0;34m(self, *args, **params)\u001b[0m\n\u001b[1;32m    357\u001b[0m \u001b[39mdef\u001b[39;00m \u001b[39mbind\u001b[39m(\u001b[39mself\u001b[39m, \u001b[39m*\u001b[39margs, \u001b[39m*\u001b[39m\u001b[39m*\u001b[39mparams):\n\u001b[1;32m    358\u001b[0m   \u001b[39massert\u001b[39;00m (\u001b[39mnot\u001b[39;00m config\u001b[39m.\u001b[39mjax_enable_checks \u001b[39mor\u001b[39;00m\n\u001b[1;32m    359\u001b[0m           \u001b[39mall\u001b[39m(\u001b[39misinstance\u001b[39m(arg, Tracer) \u001b[39mor\u001b[39;00m valid_jaxtype(arg) \u001b[39mfor\u001b[39;00m arg \u001b[39min\u001b[39;00m args)), args\n\u001b[0;32m--> 360\u001b[0m   \u001b[39mreturn\u001b[39;00m \u001b[39mself\u001b[39;49m\u001b[39m.\u001b[39;49mbind_with_trace(find_top_trace(args), args, params)\n",
      "File \u001b[0;32m~/Kode/env_evoscaper/lib/python3.9/site-packages/jax/_src/core.py:363\u001b[0m, in \u001b[0;36mPrimitive.bind_with_trace\u001b[0;34m(self, trace, args, params)\u001b[0m\n\u001b[1;32m    362\u001b[0m \u001b[39mdef\u001b[39;00m \u001b[39mbind_with_trace\u001b[39m(\u001b[39mself\u001b[39m, trace, args, params):\n\u001b[0;32m--> 363\u001b[0m   out \u001b[39m=\u001b[39m trace\u001b[39m.\u001b[39;49mprocess_primitive(\u001b[39mself\u001b[39;49m, \u001b[39mmap\u001b[39;49m(trace\u001b[39m.\u001b[39;49mfull_raise, args), params)\n\u001b[1;32m    364\u001b[0m   \u001b[39mreturn\u001b[39;00m \u001b[39mmap\u001b[39m(full_lower, out) \u001b[39mif\u001b[39;00m \u001b[39mself\u001b[39m\u001b[39m.\u001b[39mmultiple_results \u001b[39melse\u001b[39;00m full_lower(out)\n",
      "File \u001b[0;32m~/Kode/env_evoscaper/lib/python3.9/site-packages/jax/_src/core.py:817\u001b[0m, in \u001b[0;36mEvalTrace.process_primitive\u001b[0;34m(self, primitive, tracers, params)\u001b[0m\n\u001b[1;32m    816\u001b[0m \u001b[39mdef\u001b[39;00m \u001b[39mprocess_primitive\u001b[39m(\u001b[39mself\u001b[39m, primitive, tracers, params):\n\u001b[0;32m--> 817\u001b[0m   \u001b[39mreturn\u001b[39;00m primitive\u001b[39m.\u001b[39;49mimpl(\u001b[39m*\u001b[39;49mtracers, \u001b[39m*\u001b[39;49m\u001b[39m*\u001b[39;49mparams)\n",
      "File \u001b[0;32m~/Kode/env_evoscaper/lib/python3.9/site-packages/jax/_src/dispatch.py:117\u001b[0m, in \u001b[0;36mapply_primitive\u001b[0;34m(prim, *args, **params)\u001b[0m\n\u001b[1;32m    114\u001b[0m \u001b[39mfrom\u001b[39;00m \u001b[39mjax\u001b[39;00m\u001b[39m.\u001b[39;00m\u001b[39m_src\u001b[39;00m \u001b[39mimport\u001b[39;00m pjit\n\u001b[1;32m    116\u001b[0m \u001b[39mtry\u001b[39;00m:\n\u001b[0;32m--> 117\u001b[0m   compiled_fun \u001b[39m=\u001b[39m xla_primitive_callable(prim, \u001b[39m*\u001b[39;49munsafe_map(arg_spec, args),\n\u001b[1;32m    118\u001b[0m                                         \u001b[39m*\u001b[39;49m\u001b[39m*\u001b[39;49mparams)\n\u001b[1;32m    119\u001b[0m \u001b[39mexcept\u001b[39;00m pxla\u001b[39m.\u001b[39mDeviceAssignmentMismatchError \u001b[39mas\u001b[39;00m e:\n\u001b[1;32m    120\u001b[0m   fails, \u001b[39m=\u001b[39m e\u001b[39m.\u001b[39margs\n",
      "File \u001b[0;32m~/Kode/env_evoscaper/lib/python3.9/site-packages/jax/_src/util.py:253\u001b[0m, in \u001b[0;36mcache.<locals>.wrap.<locals>.wrapper\u001b[0;34m(*args, **kwargs)\u001b[0m\n\u001b[1;32m    251\u001b[0m   \u001b[39mreturn\u001b[39;00m f(\u001b[39m*\u001b[39margs, \u001b[39m*\u001b[39m\u001b[39m*\u001b[39mkwargs)\n\u001b[1;32m    252\u001b[0m \u001b[39melse\u001b[39;00m:\n\u001b[0;32m--> 253\u001b[0m   \u001b[39mreturn\u001b[39;00m cached(config\u001b[39m.\u001b[39;49m_trace_context(), \u001b[39m*\u001b[39;49margs, \u001b[39m*\u001b[39;49m\u001b[39m*\u001b[39;49mkwargs)\n",
      "File \u001b[0;32m~/Kode/env_evoscaper/lib/python3.9/site-packages/jax/_src/util.py:246\u001b[0m, in \u001b[0;36mcache.<locals>.wrap.<locals>.cached\u001b[0;34m(_, *args, **kwargs)\u001b[0m\n\u001b[1;32m    244\u001b[0m \u001b[39m@functools\u001b[39m\u001b[39m.\u001b[39mlru_cache(max_size)\n\u001b[1;32m    245\u001b[0m \u001b[39mdef\u001b[39;00m \u001b[39mcached\u001b[39m(_, \u001b[39m*\u001b[39margs, \u001b[39m*\u001b[39m\u001b[39m*\u001b[39mkwargs):\n\u001b[0;32m--> 246\u001b[0m   \u001b[39mreturn\u001b[39;00m f(\u001b[39m*\u001b[39;49margs, \u001b[39m*\u001b[39;49m\u001b[39m*\u001b[39;49mkwargs)\n",
      "File \u001b[0;32m~/Kode/env_evoscaper/lib/python3.9/site-packages/jax/_src/dispatch.py:208\u001b[0m, in \u001b[0;36mxla_primitive_callable\u001b[0;34m(prim, *arg_specs, **params)\u001b[0m\n\u001b[1;32m    206\u001b[0m   \u001b[39melse\u001b[39;00m:\n\u001b[1;32m    207\u001b[0m     \u001b[39mreturn\u001b[39;00m out,\n\u001b[0;32m--> 208\u001b[0m compiled \u001b[39m=\u001b[39m _xla_callable_uncached(lu\u001b[39m.\u001b[39;49mwrap_init(prim_fun), prim\u001b[39m.\u001b[39;49mname,\n\u001b[1;32m    209\u001b[0m                                   donated_invars, \u001b[39mFalse\u001b[39;49;00m, \u001b[39m*\u001b[39;49marg_specs)\n\u001b[1;32m    210\u001b[0m \u001b[39mif\u001b[39;00m \u001b[39mnot\u001b[39;00m prim\u001b[39m.\u001b[39mmultiple_results:\n\u001b[1;32m    211\u001b[0m   \u001b[39mreturn\u001b[39;00m \u001b[39mlambda\u001b[39;00m \u001b[39m*\u001b[39margs, \u001b[39m*\u001b[39m\u001b[39m*\u001b[39mkw: compiled(\u001b[39m*\u001b[39margs, \u001b[39m*\u001b[39m\u001b[39m*\u001b[39mkw)[\u001b[39m0\u001b[39m]\n",
      "File \u001b[0;32m~/Kode/env_evoscaper/lib/python3.9/site-packages/jax/_src/dispatch.py:251\u001b[0m, in \u001b[0;36m_xla_callable_uncached\u001b[0;34m(fun, name, donated_invars, keep_unused, *arg_specs)\u001b[0m\n\u001b[1;32m    249\u001b[0m \u001b[39mdef\u001b[39;00m \u001b[39m_xla_callable_uncached\u001b[39m(fun: lu\u001b[39m.\u001b[39mWrappedFun, name, donated_invars,\n\u001b[1;32m    250\u001b[0m                            keep_unused, \u001b[39m*\u001b[39marg_specs):\n\u001b[0;32m--> 251\u001b[0m   computation \u001b[39m=\u001b[39m sharded_lowering(fun, name, donated_invars, keep_unused,\n\u001b[1;32m    252\u001b[0m                                  \u001b[39m*\u001b[39;49marg_specs, lowering_platform\u001b[39m=\u001b[39;49m\u001b[39mNone\u001b[39;49;00m)\n\u001b[1;32m    253\u001b[0m   allow_prop \u001b[39m=\u001b[39m [\u001b[39mTrue\u001b[39;00m] \u001b[39m*\u001b[39m \u001b[39mlen\u001b[39m(computation\u001b[39m.\u001b[39mcompile_args[\u001b[39m'\u001b[39m\u001b[39mglobal_out_avals\u001b[39m\u001b[39m'\u001b[39m])\n\u001b[1;32m    254\u001b[0m   \u001b[39mreturn\u001b[39;00m computation\u001b[39m.\u001b[39mcompile(_allow_propagation_to_outputs\u001b[39m=\u001b[39mallow_prop)\u001b[39m.\u001b[39munsafe_call\n",
      "File \u001b[0;32m~/Kode/env_evoscaper/lib/python3.9/site-packages/jax/_src/dispatch.py:243\u001b[0m, in \u001b[0;36msharded_lowering\u001b[0;34m(fun, name, donated_invars, keep_unused, lowering_platform, *arg_specs)\u001b[0m\n\u001b[1;32m    238\u001b[0m in_shardings \u001b[39m=\u001b[39m [pxla\u001b[39m.\u001b[39m_UNSPECIFIED \u001b[39mif\u001b[39;00m i \u001b[39mis\u001b[39;00m \u001b[39mNone\u001b[39;00m \u001b[39melse\u001b[39;00m i \u001b[39mfor\u001b[39;00m i \u001b[39min\u001b[39;00m in_shardings]  \u001b[39m# type: ignore\u001b[39;00m\n\u001b[1;32m    240\u001b[0m \u001b[39m# Pass in a singleton `_UNSPECIFIED` for out_shardings because we don't know\u001b[39;00m\n\u001b[1;32m    241\u001b[0m \u001b[39m# the number of output avals at this stage. lower_sharding_computation will\u001b[39;00m\n\u001b[1;32m    242\u001b[0m \u001b[39m# apply it to all out_avals.\u001b[39;00m\n\u001b[0;32m--> 243\u001b[0m \u001b[39mreturn\u001b[39;00m pxla\u001b[39m.\u001b[39;49mlower_sharding_computation(\n\u001b[1;32m    244\u001b[0m     fun, \u001b[39m'\u001b[39;49m\u001b[39mjit\u001b[39;49m\u001b[39m'\u001b[39;49m, name, in_shardings, pxla\u001b[39m.\u001b[39;49m_UNSPECIFIED, donated_invars,\n\u001b[1;32m    245\u001b[0m     in_avals, keep_unused\u001b[39m=\u001b[39;49mkeep_unused, always_lower\u001b[39m=\u001b[39;49m\u001b[39mFalse\u001b[39;49;00m,\n\u001b[1;32m    246\u001b[0m     devices_from_context\u001b[39m=\u001b[39;49m\u001b[39mNone\u001b[39;49;00m, lowering_platform\u001b[39m=\u001b[39;49mlowering_platform)\n",
      "File \u001b[0;32m~/Kode/env_evoscaper/lib/python3.9/site-packages/jax/_src/profiler.py:314\u001b[0m, in \u001b[0;36mannotate_function.<locals>.wrapper\u001b[0;34m(*args, **kwargs)\u001b[0m\n\u001b[1;32m    311\u001b[0m \u001b[39m@wraps\u001b[39m(func)\n\u001b[1;32m    312\u001b[0m \u001b[39mdef\u001b[39;00m \u001b[39mwrapper\u001b[39m(\u001b[39m*\u001b[39margs, \u001b[39m*\u001b[39m\u001b[39m*\u001b[39mkwargs):\n\u001b[1;32m    313\u001b[0m   \u001b[39mwith\u001b[39;00m TraceAnnotation(name, \u001b[39m*\u001b[39m\u001b[39m*\u001b[39mdecorator_kwargs):\n\u001b[0;32m--> 314\u001b[0m     \u001b[39mreturn\u001b[39;00m func(\u001b[39m*\u001b[39;49margs, \u001b[39m*\u001b[39;49m\u001b[39m*\u001b[39;49mkwargs)\n\u001b[1;32m    315\u001b[0m   \u001b[39mreturn\u001b[39;00m wrapper\n",
      "File \u001b[0;32m~/Kode/env_evoscaper/lib/python3.9/site-packages/jax/_src/interpreters/pxla.py:2419\u001b[0m, in \u001b[0;36mlower_sharding_computation\u001b[0;34m(fun_or_jaxpr, api_name, fun_name, in_shardings, out_shardings, donated_invars, global_in_avals, keep_unused, always_lower, devices_from_context, lowering_platform)\u001b[0m\n\u001b[1;32m   2416\u001b[0m \u001b[39m# Device assignment across all inputs, outputs and shardings inside jaxpr\u001b[39;00m\n\u001b[1;32m   2417\u001b[0m \u001b[39m# should be the same.\u001b[39;00m\n\u001b[1;32m   2418\u001b[0m jaxpr_sharding \u001b[39m=\u001b[39m \u001b[39mlist\u001b[39m(dispatch\u001b[39m.\u001b[39mjaxpr_shardings(jaxpr))\n\u001b[0;32m-> 2419\u001b[0m backend, device_assignment \u001b[39m=\u001b[39m _get_and_check_device_assignment(\n\u001b[1;32m   2420\u001b[0m     it\u001b[39m.\u001b[39;49mchain([(i, MismatchType\u001b[39m.\u001b[39;49mARG_SHARDING, \u001b[39mNone\u001b[39;49;00m) \u001b[39mfor\u001b[39;49;00m i \u001b[39min\u001b[39;49;00m in_shardings],\n\u001b[1;32m   2421\u001b[0m              [(o, MismatchType\u001b[39m.\u001b[39;49mOUT_SHARDING, \u001b[39mNone\u001b[39;49;00m) \u001b[39mfor\u001b[39;49;00m o \u001b[39min\u001b[39;49;00m out_shardings],  \u001b[39m# type: ignore\u001b[39;49;00m\n\u001b[1;32m   2422\u001b[0m              [(js, MismatchType\u001b[39m.\u001b[39;49mSHARDING_INSIDE_COMPUTATION, source_info)  \u001b[39m# type: ignore\u001b[39;49;00m\n\u001b[1;32m   2423\u001b[0m               \u001b[39mfor\u001b[39;49;00m js, source_info \u001b[39min\u001b[39;49;00m jaxpr_sharding]),\n\u001b[1;32m   2424\u001b[0m     devices_from_context)\n\u001b[1;32m   2426\u001b[0m \u001b[39m# TODO(yashkatariya): Make this logic work after DCE because there can be\u001b[39;00m\n\u001b[1;32m   2427\u001b[0m \u001b[39m# equations inside the jaxpr that don't affect the output so whether the\u001b[39;00m\n\u001b[1;32m   2428\u001b[0m \u001b[39m# output(s) are committed or not should not depend on it.\u001b[39;00m\n\u001b[1;32m   2429\u001b[0m committed \u001b[39m=\u001b[39m \u001b[39mbool\u001b[39m(\n\u001b[1;32m   2430\u001b[0m     devices_from_context \u001b[39mor\u001b[39;00m\n\u001b[1;32m   2431\u001b[0m     \u001b[39mlen\u001b[39m(device_assignment) \u001b[39m>\u001b[39m \u001b[39m1\u001b[39m \u001b[39mor\u001b[39;00m\n\u001b[1;32m   2432\u001b[0m     \u001b[39many\u001b[39m(\u001b[39mnot\u001b[39;00m _is_unspecified(i) \u001b[39mfor\u001b[39;00m i \u001b[39min\u001b[39;00m in_shardings) \u001b[39mor\u001b[39;00m\n\u001b[1;32m   2433\u001b[0m     \u001b[39many\u001b[39m(\u001b[39mnot\u001b[39;00m _is_unspecified(js) \u001b[39mfor\u001b[39;00m js, _ \u001b[39min\u001b[39;00m jaxpr_sharding) \u001b[39mor\u001b[39;00m  \u001b[39m# type: ignore\u001b[39;00m\n\u001b[1;32m   2434\u001b[0m     \u001b[39many\u001b[39m(\u001b[39mnot\u001b[39;00m _is_unspecified(o) \u001b[39mfor\u001b[39;00m o \u001b[39min\u001b[39;00m out_shardings))  \u001b[39m# type: ignore\u001b[39;00m\n",
      "File \u001b[0;32m~/Kode/env_evoscaper/lib/python3.9/site-packages/jax/_src/interpreters/pxla.py:2365\u001b[0m, in \u001b[0;36m_get_and_check_device_assignment\u001b[0;34m(shardings, devices)\u001b[0m\n\u001b[1;32m   2363\u001b[0m   final_device_assignment \u001b[39m=\u001b[39m devices\n\u001b[1;32m   2364\u001b[0m \u001b[39melif\u001b[39;00m first_sharding_info \u001b[39mis\u001b[39;00m \u001b[39mNone\u001b[39;00m:\n\u001b[0;32m-> 2365\u001b[0m   final_device_assignment \u001b[39m=\u001b[39m [_get_default_device()]\n\u001b[1;32m   2366\u001b[0m \u001b[39melse\u001b[39;00m:\n\u001b[1;32m   2367\u001b[0m   final_device_assignment \u001b[39m=\u001b[39m first_sharding_info[\u001b[39m0\u001b[39m]\n",
      "File \u001b[0;32m~/Kode/env_evoscaper/lib/python3.9/site-packages/jax/_src/interpreters/pxla.py:2331\u001b[0m, in \u001b[0;36m_get_default_device\u001b[0;34m()\u001b[0m\n\u001b[1;32m   2330\u001b[0m \u001b[39mdef\u001b[39;00m \u001b[39m_get_default_device\u001b[39m() \u001b[39m-\u001b[39m\u001b[39m>\u001b[39m xc\u001b[39m.\u001b[39mDevice:\n\u001b[0;32m-> 2331\u001b[0m   \u001b[39mreturn\u001b[39;00m config\u001b[39m.\u001b[39mjax_default_device \u001b[39mor\u001b[39;00m xb\u001b[39m.\u001b[39;49mlocal_devices()[\u001b[39m0\u001b[39m]\n",
      "File \u001b[0;32m~/Kode/env_evoscaper/lib/python3.9/site-packages/jax/_src/xla_bridge.py:616\u001b[0m, in \u001b[0;36mlocal_devices\u001b[0;34m(process_index, backend, host_id)\u001b[0m\n\u001b[1;32m    614\u001b[0m   process_index \u001b[39m=\u001b[39m host_id\n\u001b[1;32m    615\u001b[0m \u001b[39mif\u001b[39;00m process_index \u001b[39mis\u001b[39;00m \u001b[39mNone\u001b[39;00m:\n\u001b[0;32m--> 616\u001b[0m   process_index \u001b[39m=\u001b[39m get_backend(backend)\u001b[39m.\u001b[39mprocess_index()\n\u001b[1;32m    617\u001b[0m \u001b[39mif\u001b[39;00m \u001b[39mnot\u001b[39;00m (\u001b[39m0\u001b[39m \u001b[39m<\u001b[39m\u001b[39m=\u001b[39m process_index \u001b[39m<\u001b[39m process_count()):\n\u001b[1;32m    618\u001b[0m   \u001b[39mraise\u001b[39;00m \u001b[39mValueError\u001b[39;00m(\u001b[39mf\u001b[39m\u001b[39m\"\u001b[39m\u001b[39mUnknown process_index \u001b[39m\u001b[39m{\u001b[39;00mprocess_index\u001b[39m}\u001b[39;00m\u001b[39m\"\u001b[39m)\n",
      "File \u001b[0;32m~/Kode/env_evoscaper/lib/python3.9/site-packages/jax/_src/xla_bridge.py:518\u001b[0m, in \u001b[0;36mget_backend\u001b[0;34m(platform)\u001b[0m\n\u001b[1;32m    514\u001b[0m \u001b[39m@lru_cache\u001b[39m(maxsize\u001b[39m=\u001b[39m\u001b[39mNone\u001b[39;00m)  \u001b[39m# don't use util.memoize because there is no X64 dependence.\u001b[39;00m\n\u001b[1;32m    515\u001b[0m \u001b[39mdef\u001b[39;00m \u001b[39mget_backend\u001b[39m(\n\u001b[1;32m    516\u001b[0m     platform: Union[\u001b[39mNone\u001b[39;00m, \u001b[39mstr\u001b[39m, xla_client\u001b[39m.\u001b[39mClient] \u001b[39m=\u001b[39m \u001b[39mNone\u001b[39;00m\n\u001b[1;32m    517\u001b[0m ) \u001b[39m-\u001b[39m\u001b[39m>\u001b[39m xla_client\u001b[39m.\u001b[39mClient:\n\u001b[0;32m--> 518\u001b[0m   \u001b[39mreturn\u001b[39;00m _get_backend_uncached(platform)\n",
      "File \u001b[0;32m~/Kode/env_evoscaper/lib/python3.9/site-packages/jax/_src/xla_bridge.py:501\u001b[0m, in \u001b[0;36m_get_backend_uncached\u001b[0;34m(platform)\u001b[0m\n\u001b[1;32m    499\u001b[0m bs \u001b[39m=\u001b[39m backends()\n\u001b[1;32m    500\u001b[0m \u001b[39mif\u001b[39;00m platform \u001b[39mis\u001b[39;00m \u001b[39mnot\u001b[39;00m \u001b[39mNone\u001b[39;00m:\n\u001b[0;32m--> 501\u001b[0m   platform \u001b[39m=\u001b[39m canonicalize_platform(platform)\n\u001b[1;32m    502\u001b[0m   backend \u001b[39m=\u001b[39m bs\u001b[39m.\u001b[39mget(platform, \u001b[39mNone\u001b[39;00m)\n\u001b[1;32m    503\u001b[0m   \u001b[39mif\u001b[39;00m backend \u001b[39mis\u001b[39;00m \u001b[39mNone\u001b[39;00m:\n",
      "File \u001b[0;32m~/Kode/env_evoscaper/lib/python3.9/site-packages/jax/_src/xla_bridge.py:381\u001b[0m, in \u001b[0;36mcanonicalize_platform\u001b[0;34m(platform)\u001b[0m\n\u001b[1;32m    379\u001b[0m   \u001b[39mif\u001b[39;00m p \u001b[39min\u001b[39;00m b\u001b[39m.\u001b[39mkeys():\n\u001b[1;32m    380\u001b[0m     \u001b[39mreturn\u001b[39;00m p\n\u001b[0;32m--> 381\u001b[0m \u001b[39mraise\u001b[39;00m \u001b[39mRuntimeError\u001b[39;00m(\u001b[39mf\u001b[39m\u001b[39m\"\u001b[39m\u001b[39mUnknown backend: \u001b[39m\u001b[39m'\u001b[39m\u001b[39m{\u001b[39;00mplatform\u001b[39m}\u001b[39;00m\u001b[39m'\u001b[39m\u001b[39m requested, but no \u001b[39m\u001b[39m\"\u001b[39m\n\u001b[1;32m    382\u001b[0m                    \u001b[39mf\u001b[39m\u001b[39m\"\u001b[39m\u001b[39mplatforms that are instances of \u001b[39m\u001b[39m{\u001b[39;00mplatform\u001b[39m}\u001b[39;00m\u001b[39m are present. \u001b[39m\u001b[39m\"\u001b[39m\n\u001b[1;32m    383\u001b[0m                    \u001b[39m\"\u001b[39m\u001b[39mPlatforms present are: \u001b[39m\u001b[39m\"\u001b[39m \u001b[39m+\u001b[39m \u001b[39m\"\u001b[39m\u001b[39m,\u001b[39m\u001b[39m\"\u001b[39m\u001b[39m.\u001b[39mjoin(b\u001b[39m.\u001b[39mkeys()))\n",
      "\u001b[0;31mRuntimeError\u001b[0m: Unknown backend: 'gpu' requested, but no platforms that are instances of gpu are present. Platforms present are: interpreter,cpu"
     ]
    }
   ],
   "source": [
    "dummy_x = jnp.array([[1., 2., 3.]])\n",
    "rng_key = jax.random.PRNGKey(42)\n",
    "\n",
    "params = forward_linear1.init(rng=rng_key, x=dummy_x)\n",
    "params"
   ]
  },
  {
   "cell_type": "code",
   "execution_count": null,
   "metadata": {},
   "outputs": [
    {
     "name": "stdout",
     "output_type": "stream",
     "text": [
      "Output 1 : [[2.6736789 2.6259897]]\n",
      "Output 2 (same as output 1): [[2.6736789 2.6259897]]\n",
      "Output 3 : [[3.820442 4.960439]\n",
      " [4.967205 7.294889]]\n"
     ]
    }
   ],
   "source": [
    "sample_x = jnp.array([[1., 2., 3.]])\n",
    "sample_x_2 = jnp.array([[4., 5., 6.], [7., 8., 9.]])\n",
    "\n",
    "output_1 = forward_linear1.apply(params=params, x=sample_x, rng=rng_key)\n",
    "# Outputs are identical for given inputs since the forward inference is non-stochastic.\n",
    "output_2 = forward_linear1.apply(params=params, x=sample_x, rng=rng_key)\n",
    "\n",
    "output_3 = forward_linear1.apply(params=params, x=sample_x_2, rng=rng_key)\n",
    "\n",
    "print(f'Output 1 : {output_1}')\n",
    "print(f'Output 2 (same as output 1): {output_2}')\n",
    "print(f'Output 3 : {output_3}')"
   ]
  },
  {
   "cell_type": "code",
   "execution_count": null,
   "metadata": {},
   "outputs": [
    {
     "name": "stdout",
     "output_type": "stream",
     "text": [
      "Output without random key in forward pass \n",
      " [[2.6736789 2.6259897]]\n",
      "Output w random key in forward pass \n",
      " [[2.6736789 2.6259897]]\n"
     ]
    }
   ],
   "source": [
    "forward_without_rng = hk.without_apply_rng(hk.transform(_forward_fn_linear1))\n",
    "params = forward_without_rng.init(rng=rng_key, x=sample_x)\n",
    "output = forward_without_rng.apply(x=sample_x, params=params)\n",
    "print(f'Output without random key in forward pass \\n {output}')\n",
    "print(f'Output w random key in forward pass \\n {output_1}')"
   ]
  },
  {
   "cell_type": "code",
   "execution_count": null,
   "metadata": {},
   "outputs": [
    {
     "data": {
      "text/plain": [
       "{'my_linear1': {'w': Array([[-0.30350363,  0.5123802 ],\n",
       "         [ 0.08009142, -0.3163005 ],\n",
       "         [ 0.6056666 ,  0.5820702 ]], dtype=float32),\n",
       "  'b': Array([1., 1.], dtype=float32)}}"
      ]
     },
     "execution_count": 46,
     "metadata": {},
     "output_type": "execute_result"
    }
   ],
   "source": [
    "params"
   ]
  },
  {
   "cell_type": "code",
   "execution_count": null,
   "metadata": {},
   "outputs": [
    {
     "name": "stdout",
     "output_type": "stream",
     "text": [
      "Mutated params \n",
      " : {'my_linear1': {'b': Array([2., 2.], dtype=float32), 'w': Array([[0.69649637, 1.5123801 ],\n",
      "       [1.0800915 , 0.6836995 ],\n",
      "       [1.6056666 , 1.5820701 ]], dtype=float32)}}\n",
      "Output with mutated params \n",
      " [[9.673679 9.62599 ]]\n"
     ]
    }
   ],
   "source": [
    "mutated_params = jax.tree_util.tree_map(lambda x: x+1., params)\n",
    "print(f'Mutated params \\n : {mutated_params}')\n",
    "mutated_output = forward_without_rng.apply(x=sample_x, params=mutated_params)\n",
    "print(f'Output with mutated params \\n {mutated_output}')"
   ]
  },
  {
   "cell_type": "code",
   "execution_count": null,
   "metadata": {},
   "outputs": [
    {
     "name": "stdout",
     "output_type": "stream",
     "text": [
      "Initial params:\n",
      "{'~': {'multiplier': Array([1.], dtype=float32)}}\n",
      "Initial state:\n",
      "{'~': {'counter': Array(1, dtype=int32)}}\n",
      "##########\n",
      "After 1 iterations:\n",
      "Output: [[6.]]\n",
      "State: {'~': {'counter': Array(2, dtype=int32)}}\n",
      "##########\n",
      "After 2 iterations:\n",
      "Output: [[7.]]\n",
      "State: {'~': {'counter': Array(3, dtype=int32)}}\n",
      "##########\n",
      "After 3 iterations:\n",
      "Output: [[8.]]\n",
      "State: {'~': {'counter': Array(4, dtype=int32)}}\n",
      "##########\n"
     ]
    }
   ],
   "source": [
    "def stateful_f(x):\n",
    "  counter = hk.get_state(\"counter\", shape=[], dtype=jnp.int32, init=jnp.ones)\n",
    "  multiplier = hk.get_parameter('multiplier', shape=[1,], dtype=x.dtype, init=jnp.ones)\n",
    "  hk.set_state(\"counter\", counter + 1)\n",
    "  output = x + multiplier * counter\n",
    "  return output\n",
    "\n",
    "stateful_forward = hk.without_apply_rng(hk.transform_with_state(stateful_f))\n",
    "sample_x = jnp.array([[5., ]])\n",
    "params, state = stateful_forward.init(x=sample_x, rng=rng_key)\n",
    "print(f'Initial params:\\n{params}\\nInitial state:\\n{state}')\n",
    "print('##########')\n",
    "for i in range(3):\n",
    "  output, state = stateful_forward.apply(params, state, x=sample_x)\n",
    "  print(f'After {i+1} iterations:\\nOutput: {output}\\nState: {state}')\n",
    "  print('##########')"
   ]
  },
  {
   "cell_type": "code",
   "execution_count": null,
   "metadata": {},
   "outputs": [],
   "source": [
    "\n",
    "def forward(x):\n",
    "  mlp = hk.nets.MLP([300, 100, 10])\n",
    "  return mlp(x)\n",
    "\n",
    "forward = hk.transform(forward)\n",
    "\n",
    "rng = hk.PRNGSequence(jax.random.PRNGKey(42))\n",
    "x = jnp.ones([8, 28 * 28])\n",
    "\n",
    "pool = list('ACTG')\n",
    "r = np.random.choice(pool, 100)\n",
    "# x = jnp.zeros([8, 28 * 28])\n",
    "params = forward.init(next(rng), x)\n",
    "logits = forward.apply(params, next(rng), x)"
   ]
  },
  {
   "cell_type": "code",
   "execution_count": null,
   "metadata": {},
   "outputs": [
    {
     "name": "stdout",
     "output_type": "stream",
     "text": [
      "+-------------------------+------------------------------------------+-----------------+------------+------------+---------------+---------------+\n",
      "| Module                  | Config                                   | Module params   | Input      | Output     |   Param count |   Param bytes |\n",
      "+=========================+==========================================+=================+============+============+===============+===============+\n",
      "| mlp (MLP)               | MLP(output_sizes=[300, 100, 10])         |                 | f32[8,784] | f32[8,10]  |       266,610 |       1.07 MB |\n",
      "+-------------------------+------------------------------------------+-----------------+------------+------------+---------------+---------------+\n",
      "| mlp/~/linear_0 (Linear) | Linear(output_size=300, name='linear_0') | w: f32[784,300] | f32[8,784] | f32[8,300] |       235,500 |     942.00 KB |\n",
      "|  └ mlp (MLP)            |                                          | b: f32[300]     |            |            |               |               |\n",
      "+-------------------------+------------------------------------------+-----------------+------------+------------+---------------+---------------+\n",
      "| mlp/~/linear_1 (Linear) | Linear(output_size=100, name='linear_1') | w: f32[300,100] | f32[8,300] | f32[8,100] |        30,100 |     120.40 KB |\n",
      "|  └ mlp (MLP)            |                                          | b: f32[100]     |            |            |               |               |\n",
      "+-------------------------+------------------------------------------+-----------------+------------+------------+---------------+---------------+\n",
      "| mlp/~/linear_2 (Linear) | Linear(output_size=10, name='linear_2')  | w: f32[100,10]  | f32[8,100] | f32[8,10]  |         1,010 |       4.04 KB |\n",
      "|  └ mlp (MLP)            |                                          | b: f32[10]      |            |            |               |               |\n",
      "+-------------------------+------------------------------------------+-----------------+------------+------------+---------------+---------------+\n"
     ]
    }
   ],
   "source": [
    "\n",
    "def f(x):\n",
    "  return hk.nets.MLP([300, 100, 10])(x)\n",
    "\n",
    "f = hk.transform(f)\n",
    "x = jnp.ones([8, 28 * 28])\n",
    "\n",
    "print(hk.experimental.tabulate(f)(x))"
   ]
  },
  {
   "cell_type": "code",
   "execution_count": null,
   "metadata": {},
   "outputs": [
    {
     "name": "stdout",
     "output_type": "stream",
     "text": [
      "MethodInvocation(module_details=ModuleDetails(module=MLP(output_sizes=[300, 100, 10]), method_name='__call__', params={'mlp/~/linear_0/b': f32[300], 'mlp/~/linear_0/w': f32[784,300], 'mlp/~/linear_1/b': f32[100], 'mlp/~/linear_1/w': f32[300,100], 'mlp/~/linear_2/b': f32[10], 'mlp/~/linear_2/w': f32[100,10]}, state={}), args_spec=(f32[8,784],), kwargs_spec={}, output_spec=f32[8,10], context=MethodContext(module=MLP(output_sizes=[300, 100, 10]), method_name='__call__', orig_method=functools.partial(<function MLP.__call__ at 0x7ff9c2b07550>, MLP(output_sizes=[300, 100, 10])), orig_class=<class 'haiku._src.nets.mlp.MLP'>), call_stack=(ModuleDetails(module=MLP(output_sizes=[300, 100, 10]), method_name='__call__', params={'mlp/~/linear_0/b': f32[300], 'mlp/~/linear_0/w': f32[784,300], 'mlp/~/linear_1/b': f32[100], 'mlp/~/linear_1/w': f32[300,100], 'mlp/~/linear_2/b': f32[10], 'mlp/~/linear_2/w': f32[100,10]}, state={}),))\n",
      "MethodInvocation(module_details=ModuleDetails(module=Linear(output_size=300, name='linear_0'), method_name='__call__', params={'mlp/~/linear_0/b': f32[300], 'mlp/~/linear_0/w': f32[784,300]}, state={}), args_spec=(f32[8,784],), kwargs_spec={}, output_spec=f32[8,300], context=MethodContext(module=Linear(output_size=300, name='linear_0'), method_name='__call__', orig_method=functools.partial(<function Linear.__call__ at 0x7ff9c2b7c940>, Linear(output_size=300, name='linear_0')), orig_class=<class 'haiku._src.basic.Linear'>), call_stack=(ModuleDetails(module=Linear(output_size=300, name='linear_0'), method_name='__call__', params={'mlp/~/linear_0/b': f32[300], 'mlp/~/linear_0/w': f32[784,300]}, state={}), ModuleDetails(module=MLP(output_sizes=[300, 100, 10]), method_name='__call__', params={'mlp/~/linear_0/b': f32[300], 'mlp/~/linear_0/w': f32[784,300], 'mlp/~/linear_1/b': f32[100], 'mlp/~/linear_1/w': f32[300,100], 'mlp/~/linear_2/b': f32[10], 'mlp/~/linear_2/w': f32[100,10]}, state={})))\n",
      "MethodInvocation(module_details=ModuleDetails(module=Linear(output_size=100, name='linear_1'), method_name='__call__', params={'mlp/~/linear_1/b': f32[100], 'mlp/~/linear_1/w': f32[300,100]}, state={}), args_spec=(f32[8,300],), kwargs_spec={}, output_spec=f32[8,100], context=MethodContext(module=Linear(output_size=100, name='linear_1'), method_name='__call__', orig_method=functools.partial(<function Linear.__call__ at 0x7ff9c2b7c940>, Linear(output_size=100, name='linear_1')), orig_class=<class 'haiku._src.basic.Linear'>), call_stack=(ModuleDetails(module=Linear(output_size=100, name='linear_1'), method_name='__call__', params={'mlp/~/linear_1/b': f32[100], 'mlp/~/linear_1/w': f32[300,100]}, state={}), ModuleDetails(module=MLP(output_sizes=[300, 100, 10]), method_name='__call__', params={'mlp/~/linear_0/b': f32[300], 'mlp/~/linear_0/w': f32[784,300], 'mlp/~/linear_1/b': f32[100], 'mlp/~/linear_1/w': f32[300,100], 'mlp/~/linear_2/b': f32[10], 'mlp/~/linear_2/w': f32[100,10]}, state={})))\n",
      "MethodInvocation(module_details=ModuleDetails(module=Linear(output_size=10, name='linear_2'), method_name='__call__', params={'mlp/~/linear_2/b': f32[10], 'mlp/~/linear_2/w': f32[100,10]}, state={}), args_spec=(f32[8,100],), kwargs_spec={}, output_spec=f32[8,10], context=MethodContext(module=Linear(output_size=10, name='linear_2'), method_name='__call__', orig_method=functools.partial(<function Linear.__call__ at 0x7ff9c2b7c940>, Linear(output_size=10, name='linear_2')), orig_class=<class 'haiku._src.basic.Linear'>), call_stack=(ModuleDetails(module=Linear(output_size=10, name='linear_2'), method_name='__call__', params={'mlp/~/linear_2/b': f32[10], 'mlp/~/linear_2/w': f32[100,10]}, state={}), ModuleDetails(module=MLP(output_sizes=[300, 100, 10]), method_name='__call__', params={'mlp/~/linear_0/b': f32[300], 'mlp/~/linear_0/w': f32[784,300], 'mlp/~/linear_1/b': f32[100], 'mlp/~/linear_1/w': f32[300,100], 'mlp/~/linear_2/b': f32[10], 'mlp/~/linear_2/w': f32[100,10]}, state={})))\n"
     ]
    }
   ],
   "source": [
    "for method_invocation in hk.experimental.eval_summary(f)(x):\n",
    "  print(method_invocation)"
   ]
  },
  {
   "cell_type": "code",
   "execution_count": null,
   "metadata": {},
   "outputs": [
    {
     "data": {
      "image/svg+xml": [
       "<?xml version=\"1.0\" encoding=\"UTF-8\" standalone=\"no\"?>\n",
       "<?xml-stylesheet href=\"\n",
       "  data:text/css,\n",
       "  @import url(https://fonts.googleapis.com/css?family=Roboto:400,700);\n",
       "  svg text {\n",
       "    font-family: 'Roboto';\n",
       "  }\n",
       "  .node text {\n",
       "    font-size: 12px;\n",
       "  }\n",
       "%23node945924167326880:hover { stroke-width: 0.2em; }\n",
       "%23node945924167326880:hover ~ %23node945924167326881 { stroke-width: 0.2em; }\n",
       "%23node945924167326881:hover ~ %23node945924167326880 { stroke-width: 0.2em; }\n",
       "%23node945924167326881:hover { stroke-width: 0.2em; }\n",
       "\" type=\"text/css\"?>\n",
       "<!DOCTYPE svg PUBLIC \"-//W3C//DTD SVG 1.1//EN\"\n",
       " \"http://www.w3.org/Graphics/SVG/1.1/DTD/svg11.dtd\">\n",
       "<!-- Generated by graphviz version 2.43.0 (0)\n",
       " -->\n",
       "<!-- Title: G Pages: 1 -->\n",
       "<svg width=\"167pt\" height=\"461pt\"\n",
       " viewBox=\"0.00 0.00 167.00 461.00\" xmlns=\"http://www.w3.org/2000/svg\" xmlns:xlink=\"http://www.w3.org/1999/xlink\">\n",
       "<g id=\"graph0\" class=\"graph\" transform=\"scale(1 1) rotate(0) translate(4 457)\">\n",
       "<title>G</title>\n",
       "<polygon fill=\"white\" stroke=\"transparent\" points=\"-4,4 -4,-457 163,-457 163,4 -4,4\"/>\n",
       "<text text-anchor=\"start\" x=\"75\" y=\"-434.8\" font-family=\"Times,serif\" font-weight=\"bold\" font-size=\"19.00\">f</text>\n",
       "<!-- 94592421954352 -->\n",
       "<g id=\"node94592421954352\" class=\"node\">\n",
       "<title>94592421954352</title>\n",
       "<g id=\"a_node94592421954352\"><a xlink:title=\" \">\n",
       "<polygon fill=\"#fff26e\" stroke=\"#ffdb13\" points=\"151.5,-352 92.5,-352 92.5,-316 151.5,-316 151.5,-352\"/>\n",
       "<text text-anchor=\"start\" x=\"109.5\" y=\"-337.8\" font-family=\"Times,serif\" font-weight=\"bold\" font-size=\"14.00\">sin</text>\n",
       "<text text-anchor=\"start\" x=\"100.5\" y=\"-323.8\" font-family=\"Times,serif\" font-size=\"14.00\">f32[1]</text>\n",
       "</a>\n",
       "</g>\n",
       "</g>\n",
       "<!-- 94592367657200 -->\n",
       "<g id=\"node94592367657200\" class=\"node\">\n",
       "<title>94592367657200</title>\n",
       "<g id=\"a_node94592367657200\"><a xlink:title=\" \">\n",
       "<polygon fill=\"#fff26e\" stroke=\"#ffdb13\" points=\"122.5,-280 63.5,-280 63.5,-244 122.5,-244 122.5,-280\"/>\n",
       "<text text-anchor=\"start\" x=\"80\" y=\"-265.8\" font-family=\"Times,serif\" font-weight=\"bold\" font-size=\"14.00\">cos</text>\n",
       "<text text-anchor=\"start\" x=\"71.5\" y=\"-251.8\" font-family=\"Times,serif\" font-size=\"14.00\">f32[1]</text>\n",
       "</a>\n",
       "</g>\n",
       "</g>\n",
       "<!-- 94592421954352&#45;&gt;94592367657200 -->\n",
       "<g id=\"edge2\" class=\"edge\">\n",
       "<title>94592421954352&#45;&gt;94592367657200</title>\n",
       "<path fill=\"none\" stroke=\"black\" d=\"M114.83,-315.7C111.57,-307.81 107.63,-298.3 104,-289.55\"/>\n",
       "<polygon fill=\"black\" stroke=\"black\" points=\"107.15,-288 100.09,-280.1 100.68,-290.68 107.15,-288\"/>\n",
       "</g>\n",
       "<!-- 94592419722112 -->\n",
       "<g id=\"node94592419722112\" class=\"node\">\n",
       "<title>94592419722112</title>\n",
       "<g id=\"a_node94592419722112\"><a xlink:title=\" \">\n",
       "<polygon fill=\"#fff26e\" stroke=\"#ffdb13\" points=\"151.5,-201 92.5,-201 92.5,-165 151.5,-165 151.5,-201\"/>\n",
       "<text text-anchor=\"start\" x=\"107.5\" y=\"-186.8\" font-family=\"Times,serif\" font-weight=\"bold\" font-size=\"14.00\">add</text>\n",
       "<text text-anchor=\"start\" x=\"100.5\" y=\"-172.8\" font-family=\"Times,serif\" font-size=\"14.00\">f32[1]</text>\n",
       "</a>\n",
       "</g>\n",
       "</g>\n",
       "<!-- 94592421954352&#45;&gt;94592419722112 -->\n",
       "<g id=\"edge3\" class=\"edge\">\n",
       "<title>94592421954352&#45;&gt;94592419722112</title>\n",
       "<path fill=\"none\" stroke=\"black\" d=\"M125.65,-315.91C127.68,-305.57 129.98,-292.09 131,-280 132.34,-264.06 132.19,-259.96 131,-244 130.2,-233.24 128.6,-221.49 126.96,-211.26\"/>\n",
       "<polygon fill=\"black\" stroke=\"black\" points=\"130.39,-210.53 125.28,-201.25 123.49,-211.69 130.39,-210.53\"/>\n",
       "</g>\n",
       "<!-- 94592367657200&#45;&gt;94592419722112 -->\n",
       "<g id=\"edge4\" class=\"edge\">\n",
       "<title>94592367657200&#45;&gt;94592419722112</title>\n",
       "<path fill=\"none\" stroke=\"black\" d=\"M99.44,-243.91C103.12,-234.14 107.81,-221.68 111.96,-210.65\"/>\n",
       "<polygon fill=\"black\" stroke=\"black\" points=\"115.33,-211.63 115.58,-201.04 108.78,-209.17 115.33,-211.63\"/>\n",
       "</g>\n",
       "<!-- 94592416551344 -->\n",
       "<g id=\"node94592416551344\" class=\"node\">\n",
       "<title>94592416551344</title>\n",
       "<g id=\"a_node94592416551344\"><a xlink:title=\" \">\n",
       "<polygon fill=\"#fff26e\" stroke=\"#ffdb13\" points=\"108.5,-122 49.5,-122 49.5,-86 108.5,-86 108.5,-122\"/>\n",
       "<text text-anchor=\"start\" x=\"64.5\" y=\"-107.8\" font-family=\"Times,serif\" font-weight=\"bold\" font-size=\"14.00\">add</text>\n",
       "<text text-anchor=\"start\" x=\"57.5\" y=\"-93.8\" font-family=\"Times,serif\" font-size=\"14.00\">f32[1]</text>\n",
       "</a>\n",
       "</g>\n",
       "</g>\n",
       "<!-- 94592419722112&#45;&gt;94592416551344 -->\n",
       "<g id=\"edge6\" class=\"edge\">\n",
       "<title>94592419722112&#45;&gt;94592416551344</title>\n",
       "<path fill=\"none\" stroke=\"black\" d=\"M112.46,-164.91C106.89,-154.94 99.75,-142.17 93.5,-130.97\"/>\n",
       "<polygon fill=\"black\" stroke=\"black\" points=\"96.45,-129.07 88.52,-122.04 90.34,-132.48 96.45,-129.07\"/>\n",
       "</g>\n",
       "<!-- 94592424616240 -->\n",
       "<g id=\"node94592424616240\" class=\"node\">\n",
       "<title>94592424616240</title>\n",
       "<g id=\"a_node94592424616240\"><a xlink:title=\" \">\n",
       "<polygon fill=\"#aabfff\" stroke=\"#0053d6\" stroke-width=\"2\" points=\"114,-50 44,-50 44,0 114,0 114,-50\"/>\n",
       "<text text-anchor=\"start\" x=\"52\" y=\"-35.8\" font-family=\"Times,serif\" font-weight=\"bold\" font-size=\"14.00\">output</text>\n",
       "<text text-anchor=\"start\" x=\"65\" y=\"-21.8\" font-family=\"Times,serif\" font-weight=\"bold\" font-size=\"14.00\">exp</text>\n",
       "<text text-anchor=\"start\" x=\"57.5\" y=\"-7.8\" font-family=\"Times,serif\" font-size=\"14.00\">f32[1]</text>\n",
       "</a>\n",
       "</g>\n",
       "</g>\n",
       "<!-- 94592416551344&#45;&gt;94592424616240 -->\n",
       "<g id=\"edge7\" class=\"edge\">\n",
       "<title>94592416551344&#45;&gt;94592424616240</title>\n",
       "<path fill=\"none\" stroke=\"black\" d=\"M79,-85.91C79,-78.33 79,-69.13 79,-60.23\"/>\n",
       "<polygon fill=\"black\" stroke=\"black\" points=\"82.5,-60.05 79,-50.05 75.5,-60.05 82.5,-60.05\"/>\n",
       "</g>\n",
       "<!-- 945924167326880 -->\n",
       "<g id=\"node945924167326880\" class=\"node\">\n",
       "<title>945924167326880</title>\n",
       "<polygon fill=\"#ffdeaf\" stroke=\"#ff8a4f\" points=\"159,-424 85,-424 85,-388 159,-388 159,-424\"/>\n",
       "<text text-anchor=\"start\" x=\"93\" y=\"-409.8\" font-family=\"Times,serif\" font-weight=\"bold\" font-size=\"14.00\">args[0]</text>\n",
       "<text text-anchor=\"start\" x=\"100.5\" y=\"-395.8\" font-family=\"Times,serif\" font-size=\"14.00\">f32[1]</text>\n",
       "</g>\n",
       "<!-- 945924167326880&#45;&gt;94592421954352 -->\n",
       "<g id=\"edge1\" class=\"edge\">\n",
       "<title>945924167326880&#45;&gt;94592421954352</title>\n",
       "<path fill=\"none\" stroke=\"black\" d=\"M122,-387.7C122,-379.98 122,-370.71 122,-362.11\"/>\n",
       "<polygon fill=\"black\" stroke=\"black\" points=\"125.5,-362.1 122,-352.1 118.5,-362.1 125.5,-362.1\"/>\n",
       "</g>\n",
       "<!-- 945924167326881 -->\n",
       "<g id=\"node945924167326881\" class=\"node\">\n",
       "<title>945924167326881</title>\n",
       "<polygon fill=\"#ffeacc\" stroke=\"#ff8a4f\" points=\"74,-208 0,-208 0,-158 74,-158 74,-208\"/>\n",
       "<text text-anchor=\"start\" x=\"8\" y=\"-193.8\" font-family=\"Times,serif\" font-weight=\"bold\" font-size=\"14.00\" fill=\"#565858\">(reuse)</text>\n",
       "<text text-anchor=\"start\" x=\"8\" y=\"-179.8\" font-family=\"Times,serif\" font-weight=\"bold\" font-size=\"14.00\" fill=\"#565858\">args[0]</text>\n",
       "<text text-anchor=\"start\" x=\"15.5\" y=\"-165.8\" font-family=\"Times,serif\" font-size=\"14.00\" fill=\"#565858\">f32[1]</text>\n",
       "</g>\n",
       "<!-- 945924167326881&#45;&gt;94592416551344 -->\n",
       "<g id=\"edge5\" class=\"edge\">\n",
       "<title>945924167326881&#45;&gt;94592416551344</title>\n",
       "<path fill=\"none\" stroke=\"black\" d=\"M50.29,-157.64C54.88,-149.22 60.04,-139.77 64.7,-131.21\"/>\n",
       "<polygon fill=\"black\" stroke=\"black\" points=\"67.81,-132.83 69.52,-122.38 61.66,-129.48 67.81,-132.83\"/>\n",
       "</g>\n",
       "</g>\n",
       "</svg>\n"
      ],
      "text/plain": [
       "<graphviz.sources.Source at 0x7ff9dfaafc10>"
      ]
     },
     "execution_count": 62,
     "metadata": {},
     "output_type": "execute_result"
    }
   ],
   "source": [
    "def f(a):\n",
    "  b = jnp.sin(a)\n",
    "  c = jnp.cos(b)\n",
    "  d = b + c\n",
    "  e = a + d\n",
    "  e = jnp.exp(e)\n",
    "  return e\n",
    "\n",
    "x = jnp.ones([1])\n",
    "dot = hk.experimental.to_dot(f)(x)\n",
    "\n",
    "import graphviz\n",
    "graphviz.Source(dot)"
   ]
  },
  {
   "cell_type": "code",
   "execution_count": null,
   "metadata": {},
   "outputs": [
    {
     "ename": "ValueError",
     "evalue": "No value for 'average' in 'res_net/~/initial_batchnorm/~/mean_ema', perhaps set an init function?",
     "output_type": "error",
     "traceback": [
      "\u001b[0;31m---------------------------------------------------------------------------\u001b[0m",
      "\u001b[0;31mValueError\u001b[0m                                Traceback (most recent call last)",
      "Cell \u001b[0;32mIn[72], line 10\u001b[0m\n\u001b[1;32m      8\u001b[0m rng \u001b[39m=\u001b[39m jax\u001b[39m.\u001b[39mrandom\u001b[39m.\u001b[39mPRNGKey(\u001b[39m42\u001b[39m)\n\u001b[1;32m      9\u001b[0m x \u001b[39m=\u001b[39m jnp\u001b[39m.\u001b[39mones([\u001b[39m8\u001b[39m, \u001b[39m28\u001b[39m, \u001b[39m28\u001b[39m])\n\u001b[0;32m---> 10\u001b[0m params \u001b[39m=\u001b[39m f\u001b[39m.\u001b[39;49minit(rng, x)\n\u001b[1;32m     12\u001b[0m dot \u001b[39m=\u001b[39m hk\u001b[39m.\u001b[39mexperimental\u001b[39m.\u001b[39mto_dot(f\u001b[39m.\u001b[39mapply)(params, \u001b[39mNone\u001b[39;00m, x)\n\u001b[1;32m     13\u001b[0m graphviz\u001b[39m.\u001b[39mSource(dot)\n",
      "File \u001b[0;32m~/Kode/env_evoscaper/lib/python3.9/site-packages/haiku/_src/transform.py:170\u001b[0m, in \u001b[0;36mwithout_state.<locals>.init_fn\u001b[0;34m(*args, **kwargs)\u001b[0m\n\u001b[1;32m    169\u001b[0m \u001b[39mdef\u001b[39;00m \u001b[39minit_fn\u001b[39m(\u001b[39m*\u001b[39margs, \u001b[39m*\u001b[39m\u001b[39m*\u001b[39mkwargs) \u001b[39m-\u001b[39m\u001b[39m>\u001b[39m hk\u001b[39m.\u001b[39mMutableParams:\n\u001b[0;32m--> 170\u001b[0m   params, state \u001b[39m=\u001b[39m f\u001b[39m.\u001b[39;49minit(\u001b[39m*\u001b[39;49margs, \u001b[39m*\u001b[39;49m\u001b[39m*\u001b[39;49mkwargs)\n\u001b[1;32m    171\u001b[0m   \u001b[39mif\u001b[39;00m state:\n\u001b[1;32m    172\u001b[0m     \u001b[39mraise\u001b[39;00m base\u001b[39m.\u001b[39mNonEmptyStateError(\n\u001b[1;32m    173\u001b[0m         \u001b[39m\"\u001b[39m\u001b[39mIf your transformed function uses `hk.\u001b[39m\u001b[39m{\u001b[39m\u001b[39mget,set}_state` then use \u001b[39m\u001b[39m\"\u001b[39m\n\u001b[1;32m    174\u001b[0m         \u001b[39m\"\u001b[39m\u001b[39m`hk.transform_with_state`.\u001b[39m\u001b[39m\"\u001b[39m)\n",
      "File \u001b[0;32m~/Kode/env_evoscaper/lib/python3.9/site-packages/haiku/_src/transform.py:427\u001b[0m, in \u001b[0;36mtransform_with_state.<locals>.init_fn\u001b[0;34m(rng, *args, **kwargs)\u001b[0m\n\u001b[1;32m    425\u001b[0m \u001b[39mwith\u001b[39;00m base\u001b[39m.\u001b[39mnew_context(rng\u001b[39m=\u001b[39mrng) \u001b[39mas\u001b[39;00m ctx:\n\u001b[1;32m    426\u001b[0m   \u001b[39mtry\u001b[39;00m:\n\u001b[0;32m--> 427\u001b[0m     f(\u001b[39m*\u001b[39;49margs, \u001b[39m*\u001b[39;49m\u001b[39m*\u001b[39;49mkwargs)\n\u001b[1;32m    428\u001b[0m   \u001b[39mexcept\u001b[39;00m jax\u001b[39m.\u001b[39merrors\u001b[39m.\u001b[39mUnexpectedTracerError \u001b[39mas\u001b[39;00m e:\n\u001b[1;32m    429\u001b[0m     \u001b[39mraise\u001b[39;00m jax\u001b[39m.\u001b[39merrors\u001b[39m.\u001b[39mUnexpectedTracerError(unexpected_tracer_hint) \u001b[39mfrom\u001b[39;00m \u001b[39me\u001b[39;00m\n",
      "Cell \u001b[0;32mIn[72], line 3\u001b[0m, in \u001b[0;36mf\u001b[0;34m(x)\u001b[0m\n\u001b[1;32m      1\u001b[0m \u001b[39mdef\u001b[39;00m \u001b[39mf\u001b[39m(x):\n\u001b[1;32m      2\u001b[0m     \u001b[39m# return hk.nets.MLP([300, 100, 10])(x)\u001b[39;00m\n\u001b[0;32m----> 3\u001b[0m     \u001b[39mreturn\u001b[39;00m hk\u001b[39m.\u001b[39;49mnets\u001b[39m.\u001b[39;49mResNet([\u001b[39m28\u001b[39;49m \u001b[39m*\u001b[39;49m \u001b[39m28\u001b[39;49m, \u001b[39m10\u001b[39;49m, \u001b[39m5\u001b[39;49m, \u001b[39m5\u001b[39;49m], \u001b[39m1\u001b[39;49m)(x, is_training\u001b[39m=\u001b[39;49m\u001b[39mFalse\u001b[39;49;00m)\n",
      "File \u001b[0;32m~/Kode/env_evoscaper/lib/python3.9/site-packages/haiku/_src/module.py:465\u001b[0m, in \u001b[0;36mwrap_method.<locals>.wrapped\u001b[0;34m(self, *args, **kwargs)\u001b[0m\n\u001b[1;32m    462\u001b[0m   \u001b[39mif\u001b[39;00m method_name \u001b[39m!=\u001b[39m \u001b[39m\"\u001b[39m\u001b[39m__call__\u001b[39m\u001b[39m\"\u001b[39m:\n\u001b[1;32m    463\u001b[0m     f \u001b[39m=\u001b[39m jax\u001b[39m.\u001b[39mnamed_call(f, name\u001b[39m=\u001b[39mmethod_name)\n\u001b[0;32m--> 465\u001b[0m out \u001b[39m=\u001b[39m f(\u001b[39m*\u001b[39;49margs, \u001b[39m*\u001b[39;49m\u001b[39m*\u001b[39;49mkwargs)\n\u001b[1;32m    467\u001b[0m \u001b[39m# Module names are set in the constructor. If `f` is the constructor then\u001b[39;00m\n\u001b[1;32m    468\u001b[0m \u001b[39m# its name will only be set **after** `f` has run. For methods other\u001b[39;00m\n\u001b[1;32m    469\u001b[0m \u001b[39m# than `__init__` we need the name before running in order to wrap their\u001b[39;00m\n\u001b[1;32m    470\u001b[0m \u001b[39m# execution with `named_call`.\u001b[39;00m\n\u001b[1;32m    471\u001b[0m \u001b[39mif\u001b[39;00m module_name \u001b[39mis\u001b[39;00m \u001b[39mNone\u001b[39;00m:\n",
      "File \u001b[0;32m~/miniconda3/lib/python3.9/contextlib.py:79\u001b[0m, in \u001b[0;36mContextDecorator.__call__.<locals>.inner\u001b[0;34m(*args, **kwds)\u001b[0m\n\u001b[1;32m     76\u001b[0m \u001b[39m@wraps\u001b[39m(func)\n\u001b[1;32m     77\u001b[0m \u001b[39mdef\u001b[39;00m \u001b[39minner\u001b[39m(\u001b[39m*\u001b[39margs, \u001b[39m*\u001b[39m\u001b[39m*\u001b[39mkwds):\n\u001b[1;32m     78\u001b[0m     \u001b[39mwith\u001b[39;00m \u001b[39mself\u001b[39m\u001b[39m.\u001b[39m_recreate_cm():\n\u001b[0;32m---> 79\u001b[0m         \u001b[39mreturn\u001b[39;00m func(\u001b[39m*\u001b[39;49margs, \u001b[39m*\u001b[39;49m\u001b[39m*\u001b[39;49mkwds)\n",
      "File \u001b[0;32m~/Kode/env_evoscaper/lib/python3.9/site-packages/haiku/_src/module.py:306\u001b[0m, in \u001b[0;36mrun_interceptors\u001b[0;34m(bound_method, method_name, self, orig_class, *args, **kwargs)\u001b[0m\n\u001b[1;32m    304\u001b[0m \u001b[39m\u001b[39m\u001b[39m\"\"\"Runs any method interceptors or the original method.\"\"\"\u001b[39;00m\n\u001b[1;32m    305\u001b[0m \u001b[39mif\u001b[39;00m \u001b[39mnot\u001b[39;00m interceptor_stack:\n\u001b[0;32m--> 306\u001b[0m   \u001b[39mreturn\u001b[39;00m bound_method(\u001b[39m*\u001b[39;49margs, \u001b[39m*\u001b[39;49m\u001b[39m*\u001b[39;49mkwargs)\n\u001b[1;32m    308\u001b[0m ctx \u001b[39m=\u001b[39m MethodContext(module\u001b[39m=\u001b[39m\u001b[39mself\u001b[39m,\n\u001b[1;32m    309\u001b[0m                     method_name\u001b[39m=\u001b[39mmethod_name,\n\u001b[1;32m    310\u001b[0m                     orig_method\u001b[39m=\u001b[39mbound_method,\n\u001b[1;32m    311\u001b[0m                     orig_class\u001b[39m=\u001b[39morig_class)\n\u001b[1;32m    312\u001b[0m interceptor_stack_copy \u001b[39m=\u001b[39m interceptor_stack\u001b[39m.\u001b[39mclone()\n",
      "File \u001b[0;32m~/Kode/env_evoscaper/lib/python3.9/site-packages/haiku/_src/nets/resnet.py:380\u001b[0m, in \u001b[0;36mResNet.__call__\u001b[0;34m(self, inputs, is_training, test_local_stats)\u001b[0m\n\u001b[1;32m    378\u001b[0m out \u001b[39m=\u001b[39m \u001b[39mself\u001b[39m\u001b[39m.\u001b[39minitial_conv(out)\n\u001b[1;32m    379\u001b[0m \u001b[39mif\u001b[39;00m \u001b[39mnot\u001b[39;00m \u001b[39mself\u001b[39m\u001b[39m.\u001b[39mresnet_v2:\n\u001b[0;32m--> 380\u001b[0m   out \u001b[39m=\u001b[39m \u001b[39mself\u001b[39;49m\u001b[39m.\u001b[39;49minitial_batchnorm(out, is_training, test_local_stats)\n\u001b[1;32m    381\u001b[0m   out \u001b[39m=\u001b[39m jax\u001b[39m.\u001b[39mnn\u001b[39m.\u001b[39mrelu(out)\n\u001b[1;32m    383\u001b[0m out \u001b[39m=\u001b[39m hk\u001b[39m.\u001b[39mmax_pool(out,\n\u001b[1;32m    384\u001b[0m                   window_shape\u001b[39m=\u001b[39m(\u001b[39m1\u001b[39m, \u001b[39m3\u001b[39m, \u001b[39m3\u001b[39m, \u001b[39m1\u001b[39m),\n\u001b[1;32m    385\u001b[0m                   strides\u001b[39m=\u001b[39m(\u001b[39m1\u001b[39m, \u001b[39m2\u001b[39m, \u001b[39m2\u001b[39m, \u001b[39m1\u001b[39m),\n\u001b[1;32m    386\u001b[0m                   padding\u001b[39m=\u001b[39m\u001b[39m\"\u001b[39m\u001b[39mSAME\u001b[39m\u001b[39m\"\u001b[39m)\n",
      "File \u001b[0;32m~/Kode/env_evoscaper/lib/python3.9/site-packages/haiku/_src/module.py:465\u001b[0m, in \u001b[0;36mwrap_method.<locals>.wrapped\u001b[0;34m(self, *args, **kwargs)\u001b[0m\n\u001b[1;32m    462\u001b[0m   \u001b[39mif\u001b[39;00m method_name \u001b[39m!=\u001b[39m \u001b[39m\"\u001b[39m\u001b[39m__call__\u001b[39m\u001b[39m\"\u001b[39m:\n\u001b[1;32m    463\u001b[0m     f \u001b[39m=\u001b[39m jax\u001b[39m.\u001b[39mnamed_call(f, name\u001b[39m=\u001b[39mmethod_name)\n\u001b[0;32m--> 465\u001b[0m out \u001b[39m=\u001b[39m f(\u001b[39m*\u001b[39;49margs, \u001b[39m*\u001b[39;49m\u001b[39m*\u001b[39;49mkwargs)\n\u001b[1;32m    467\u001b[0m \u001b[39m# Module names are set in the constructor. If `f` is the constructor then\u001b[39;00m\n\u001b[1;32m    468\u001b[0m \u001b[39m# its name will only be set **after** `f` has run. For methods other\u001b[39;00m\n\u001b[1;32m    469\u001b[0m \u001b[39m# than `__init__` we need the name before running in order to wrap their\u001b[39;00m\n\u001b[1;32m    470\u001b[0m \u001b[39m# execution with `named_call`.\u001b[39;00m\n\u001b[1;32m    471\u001b[0m \u001b[39mif\u001b[39;00m module_name \u001b[39mis\u001b[39;00m \u001b[39mNone\u001b[39;00m:\n",
      "File \u001b[0;32m~/miniconda3/lib/python3.9/contextlib.py:79\u001b[0m, in \u001b[0;36mContextDecorator.__call__.<locals>.inner\u001b[0;34m(*args, **kwds)\u001b[0m\n\u001b[1;32m     76\u001b[0m \u001b[39m@wraps\u001b[39m(func)\n\u001b[1;32m     77\u001b[0m \u001b[39mdef\u001b[39;00m \u001b[39minner\u001b[39m(\u001b[39m*\u001b[39margs, \u001b[39m*\u001b[39m\u001b[39m*\u001b[39mkwds):\n\u001b[1;32m     78\u001b[0m     \u001b[39mwith\u001b[39;00m \u001b[39mself\u001b[39m\u001b[39m.\u001b[39m_recreate_cm():\n\u001b[0;32m---> 79\u001b[0m         \u001b[39mreturn\u001b[39;00m func(\u001b[39m*\u001b[39;49margs, \u001b[39m*\u001b[39;49m\u001b[39m*\u001b[39;49mkwds)\n",
      "File \u001b[0;32m~/Kode/env_evoscaper/lib/python3.9/site-packages/haiku/_src/module.py:306\u001b[0m, in \u001b[0;36mrun_interceptors\u001b[0;34m(bound_method, method_name, self, orig_class, *args, **kwargs)\u001b[0m\n\u001b[1;32m    304\u001b[0m \u001b[39m\u001b[39m\u001b[39m\"\"\"Runs any method interceptors or the original method.\"\"\"\u001b[39;00m\n\u001b[1;32m    305\u001b[0m \u001b[39mif\u001b[39;00m \u001b[39mnot\u001b[39;00m interceptor_stack:\n\u001b[0;32m--> 306\u001b[0m   \u001b[39mreturn\u001b[39;00m bound_method(\u001b[39m*\u001b[39;49margs, \u001b[39m*\u001b[39;49m\u001b[39m*\u001b[39;49mkwargs)\n\u001b[1;32m    308\u001b[0m ctx \u001b[39m=\u001b[39m MethodContext(module\u001b[39m=\u001b[39m\u001b[39mself\u001b[39m,\n\u001b[1;32m    309\u001b[0m                     method_name\u001b[39m=\u001b[39mmethod_name,\n\u001b[1;32m    310\u001b[0m                     orig_method\u001b[39m=\u001b[39mbound_method,\n\u001b[1;32m    311\u001b[0m                     orig_class\u001b[39m=\u001b[39morig_class)\n\u001b[1;32m    312\u001b[0m interceptor_stack_copy \u001b[39m=\u001b[39m interceptor_stack\u001b[39m.\u001b[39mclone()\n",
      "File \u001b[0;32m~/Kode/env_evoscaper/lib/python3.9/site-packages/haiku/_src/batch_norm.py:183\u001b[0m, in \u001b[0;36mBatchNorm.__call__\u001b[0;34m(self, inputs, is_training, test_local_stats, scale, offset)\u001b[0m\n\u001b[1;32m    181\u001b[0m   var \u001b[39m=\u001b[39m mean_of_squares \u001b[39m-\u001b[39m jnp\u001b[39m.\u001b[39msquare(mean)\n\u001b[1;32m    182\u001b[0m \u001b[39melse\u001b[39;00m:\n\u001b[0;32m--> 183\u001b[0m   mean \u001b[39m=\u001b[39m \u001b[39mself\u001b[39;49m\u001b[39m.\u001b[39;49mmean_ema\u001b[39m.\u001b[39;49maverage\u001b[39m.\u001b[39mastype(inputs\u001b[39m.\u001b[39mdtype)\n\u001b[1;32m    184\u001b[0m   var \u001b[39m=\u001b[39m \u001b[39mself\u001b[39m\u001b[39m.\u001b[39mvar_ema\u001b[39m.\u001b[39maverage\u001b[39m.\u001b[39mastype(inputs\u001b[39m.\u001b[39mdtype)\n\u001b[1;32m    186\u001b[0m \u001b[39mif\u001b[39;00m is_training:\n",
      "File \u001b[0;32m~/Kode/env_evoscaper/lib/python3.9/site-packages/haiku/_src/module.py:465\u001b[0m, in \u001b[0;36mwrap_method.<locals>.wrapped\u001b[0;34m(self, *args, **kwargs)\u001b[0m\n\u001b[1;32m    462\u001b[0m   \u001b[39mif\u001b[39;00m method_name \u001b[39m!=\u001b[39m \u001b[39m\"\u001b[39m\u001b[39m__call__\u001b[39m\u001b[39m\"\u001b[39m:\n\u001b[1;32m    463\u001b[0m     f \u001b[39m=\u001b[39m jax\u001b[39m.\u001b[39mnamed_call(f, name\u001b[39m=\u001b[39mmethod_name)\n\u001b[0;32m--> 465\u001b[0m out \u001b[39m=\u001b[39m f(\u001b[39m*\u001b[39;49margs, \u001b[39m*\u001b[39;49m\u001b[39m*\u001b[39;49mkwargs)\n\u001b[1;32m    467\u001b[0m \u001b[39m# Module names are set in the constructor. If `f` is the constructor then\u001b[39;00m\n\u001b[1;32m    468\u001b[0m \u001b[39m# its name will only be set **after** `f` has run. For methods other\u001b[39;00m\n\u001b[1;32m    469\u001b[0m \u001b[39m# than `__init__` we need the name before running in order to wrap their\u001b[39;00m\n\u001b[1;32m    470\u001b[0m \u001b[39m# execution with `named_call`.\u001b[39;00m\n\u001b[1;32m    471\u001b[0m \u001b[39mif\u001b[39;00m module_name \u001b[39mis\u001b[39;00m \u001b[39mNone\u001b[39;00m:\n",
      "File \u001b[0;32m~/miniconda3/lib/python3.9/contextlib.py:79\u001b[0m, in \u001b[0;36mContextDecorator.__call__.<locals>.inner\u001b[0;34m(*args, **kwds)\u001b[0m\n\u001b[1;32m     76\u001b[0m \u001b[39m@wraps\u001b[39m(func)\n\u001b[1;32m     77\u001b[0m \u001b[39mdef\u001b[39;00m \u001b[39minner\u001b[39m(\u001b[39m*\u001b[39margs, \u001b[39m*\u001b[39m\u001b[39m*\u001b[39mkwds):\n\u001b[1;32m     78\u001b[0m     \u001b[39mwith\u001b[39;00m \u001b[39mself\u001b[39m\u001b[39m.\u001b[39m_recreate_cm():\n\u001b[0;32m---> 79\u001b[0m         \u001b[39mreturn\u001b[39;00m func(\u001b[39m*\u001b[39;49margs, \u001b[39m*\u001b[39;49m\u001b[39m*\u001b[39;49mkwds)\n",
      "File \u001b[0;32m~/miniconda3/lib/python3.9/contextlib.py:79\u001b[0m, in \u001b[0;36mContextDecorator.__call__.<locals>.inner\u001b[0;34m(*args, **kwds)\u001b[0m\n\u001b[1;32m     76\u001b[0m \u001b[39m@wraps\u001b[39m(func)\n\u001b[1;32m     77\u001b[0m \u001b[39mdef\u001b[39;00m \u001b[39minner\u001b[39m(\u001b[39m*\u001b[39margs, \u001b[39m*\u001b[39m\u001b[39m*\u001b[39mkwds):\n\u001b[1;32m     78\u001b[0m     \u001b[39mwith\u001b[39;00m \u001b[39mself\u001b[39m\u001b[39m.\u001b[39m_recreate_cm():\n\u001b[0;32m---> 79\u001b[0m         \u001b[39mreturn\u001b[39;00m func(\u001b[39m*\u001b[39;49margs, \u001b[39m*\u001b[39;49m\u001b[39m*\u001b[39;49mkwds)\n",
      "File \u001b[0;32m~/Kode/env_evoscaper/lib/python3.9/site-packages/haiku/_src/module.py:306\u001b[0m, in \u001b[0;36mrun_interceptors\u001b[0;34m(bound_method, method_name, self, orig_class, *args, **kwargs)\u001b[0m\n\u001b[1;32m    304\u001b[0m \u001b[39m\u001b[39m\u001b[39m\"\"\"Runs any method interceptors or the original method.\"\"\"\u001b[39;00m\n\u001b[1;32m    305\u001b[0m \u001b[39mif\u001b[39;00m \u001b[39mnot\u001b[39;00m interceptor_stack:\n\u001b[0;32m--> 306\u001b[0m   \u001b[39mreturn\u001b[39;00m bound_method(\u001b[39m*\u001b[39;49margs, \u001b[39m*\u001b[39;49m\u001b[39m*\u001b[39;49mkwargs)\n\u001b[1;32m    308\u001b[0m ctx \u001b[39m=\u001b[39m MethodContext(module\u001b[39m=\u001b[39m\u001b[39mself\u001b[39m,\n\u001b[1;32m    309\u001b[0m                     method_name\u001b[39m=\u001b[39mmethod_name,\n\u001b[1;32m    310\u001b[0m                     orig_method\u001b[39m=\u001b[39mbound_method,\n\u001b[1;32m    311\u001b[0m                     orig_class\u001b[39m=\u001b[39morig_class)\n\u001b[1;32m    312\u001b[0m interceptor_stack_copy \u001b[39m=\u001b[39m interceptor_stack\u001b[39m.\u001b[39mclone()\n",
      "File \u001b[0;32m~/Kode/env_evoscaper/lib/python3.9/site-packages/haiku/_src/moving_averages.py:139\u001b[0m, in \u001b[0;36mExponentialMovingAverage.average\u001b[0;34m(self)\u001b[0m\n\u001b[1;32m    137\u001b[0m \u001b[39m@property\u001b[39m\n\u001b[1;32m    138\u001b[0m \u001b[39mdef\u001b[39;00m \u001b[39maverage\u001b[39m(\u001b[39mself\u001b[39m):\n\u001b[0;32m--> 139\u001b[0m   \u001b[39mreturn\u001b[39;00m hk\u001b[39m.\u001b[39;49mget_state(\u001b[39m\"\u001b[39;49m\u001b[39maverage\u001b[39;49m\u001b[39m\"\u001b[39;49m)\n",
      "File \u001b[0;32m~/Kode/env_evoscaper/lib/python3.9/site-packages/haiku/_src/base.py:602\u001b[0m, in \u001b[0;36mreplaceable.<locals>.wrapped\u001b[0;34m(*args, **kwargs)\u001b[0m\n\u001b[1;32m    600\u001b[0m \u001b[39m@functools\u001b[39m\u001b[39m.\u001b[39mwraps(f)\n\u001b[1;32m    601\u001b[0m \u001b[39mdef\u001b[39;00m \u001b[39mwrapped\u001b[39m(\u001b[39m*\u001b[39margs, \u001b[39m*\u001b[39m\u001b[39m*\u001b[39mkwargs):\n\u001b[0;32m--> 602\u001b[0m   \u001b[39mreturn\u001b[39;00m wrapped\u001b[39m.\u001b[39;49m_current(\u001b[39m*\u001b[39;49margs, \u001b[39m*\u001b[39;49m\u001b[39m*\u001b[39;49mkwargs)\n",
      "File \u001b[0;32m~/Kode/env_evoscaper/lib/python3.9/site-packages/haiku/_src/base.py:1331\u001b[0m, in \u001b[0;36mget_state\u001b[0;34m(name, shape, dtype, init)\u001b[0m\n\u001b[1;32m   1329\u001b[0m \u001b[39mif\u001b[39;00m value \u001b[39mis\u001b[39;00m \u001b[39mNone\u001b[39;00m:\n\u001b[1;32m   1330\u001b[0m   \u001b[39mif\u001b[39;00m init \u001b[39mis\u001b[39;00m \u001b[39mNone\u001b[39;00m:\n\u001b[0;32m-> 1331\u001b[0m     \u001b[39mraise\u001b[39;00m \u001b[39mValueError\u001b[39;00m(\u001b[39mf\u001b[39m\u001b[39m\"\u001b[39m\u001b[39mNo value for \u001b[39m\u001b[39m{\u001b[39;00mname\u001b[39m!r}\u001b[39;00m\u001b[39m in \u001b[39m\u001b[39m{\u001b[39;00mbundle_name\u001b[39m!r}\u001b[39;00m\u001b[39m, perhaps \u001b[39m\u001b[39m\"\u001b[39m\n\u001b[1;32m   1332\u001b[0m                      \u001b[39m\"\u001b[39m\u001b[39mset an init function?\u001b[39m\u001b[39m\"\u001b[39m)\n\u001b[1;32m   1333\u001b[0m   \u001b[39mif\u001b[39;00m shape \u001b[39mis\u001b[39;00m \u001b[39mNone\u001b[39;00m \u001b[39mor\u001b[39;00m dtype \u001b[39mis\u001b[39;00m \u001b[39mNone\u001b[39;00m:\n\u001b[1;32m   1334\u001b[0m     \u001b[39mraise\u001b[39;00m \u001b[39mValueError\u001b[39;00m(\u001b[39mf\u001b[39m\u001b[39m\"\u001b[39m\u001b[39mMust provide shape and dtype to initialize \u001b[39m\u001b[39m{\u001b[39;00mname\u001b[39m!r}\u001b[39;00m\u001b[39m \u001b[39m\u001b[39m\"\u001b[39m\n\u001b[1;32m   1335\u001b[0m                      \u001b[39mf\u001b[39m\u001b[39m\"\u001b[39m\u001b[39min \u001b[39m\u001b[39m{\u001b[39;00mbundle_name\u001b[39m!r}\u001b[39;00m\u001b[39m.\u001b[39m\u001b[39m\"\u001b[39m)\n",
      "\u001b[0;31mValueError\u001b[0m: No value for 'average' in 'res_net/~/initial_batchnorm/~/mean_ema', perhaps set an init function?"
     ]
    }
   ],
   "source": [
    "\n",
    "def f(x):\n",
    "    # return hk.nets.MLP([300, 100, 10])(x)\n",
    "    return hk.nets.ResNet([28 * 28, 10, 5, 5], 1)(x, is_training=False)\n",
    "\n",
    "\n",
    "f = hk.transform(f)\n",
    "\n",
    "rng = jax.random.PRNGKey(42)\n",
    "x = jnp.ones([8, 28, 28])\n",
    "params = f.init(rng, x)\n",
    "\n",
    "dot = hk.experimental.to_dot(f.apply)(params, None, x)\n",
    "graphviz.Source(dot)"
   ]
  },
  {
   "attachments": {},
   "cell_type": "markdown",
   "metadata": {},
   "source": [
    "Haiku from https://modelzoo.co/model/dm-haiku"
   ]
  },
  {
   "cell_type": "code",
   "execution_count": null,
   "metadata": {},
   "outputs": [
    {
     "name": "stderr",
     "output_type": "stream",
     "text": [
      "2023-06-09 13:16:16.336942: W tensorflow/tsl/platform/cloud/google_auth_provider.cc:184] All attempts to get a Google authentication bearer token failed, returning an empty token. Retrieving token from files failed with \"NOT_FOUND: Could not locate the credentials file.\". Retrieving token from GCE failed with \"FAILED_PRECONDITION: Error executing an HTTP request: libcurl code 6 meaning 'Couldn't resolve host name', error details: Could not resolve host: metadata.google.internal\".\n"
     ]
    },
    {
     "name": "stdout",
     "output_type": "stream",
     "text": [
      "\u001b[1mDownloading and preparing dataset 11.06 MiB (download: 11.06 MiB, generated: 21.00 MiB, total: 32.06 MiB) to /home/wadh6511/tensorflow_datasets/mnist/3.0.1...\u001b[0m\n"
     ]
    },
    {
     "data": {
      "application/vnd.jupyter.widget-view+json": {
       "model_id": "6497c9431125467a84aa9eb1e65f3584",
       "version_major": 2,
       "version_minor": 0
      },
      "text/plain": [
       "Dl Completed...:   0%|          | 0/5 [00:00<?, ? file/s]"
      ]
     },
     "metadata": {},
     "output_type": "display_data"
    },
    {
     "name": "stdout",
     "output_type": "stream",
     "text": [
      "\u001b[1mDataset mnist downloaded and prepared to /home/wadh6511/tensorflow_datasets/mnist/3.0.1. Subsequent calls will reuse this data.\u001b[0m\n"
     ]
    },
    {
     "ename": "RuntimeError",
     "evalue": "Unknown backend: 'gpu' requested, but no platforms that are instances of gpu are present. Platforms present are: interpreter,cpu",
     "output_type": "error",
     "traceback": [
      "\u001b[0;31m---------------------------------------------------------------------------\u001b[0m",
      "\u001b[0;31mRuntimeError\u001b[0m                              Traceback (most recent call last)",
      "Cell \u001b[0;32mIn[9], line 19\u001b[0m\n\u001b[1;32m     16\u001b[0m loss_fn_t \u001b[39m=\u001b[39m hk\u001b[39m.\u001b[39mtransform(loss_fn)\n\u001b[1;32m     17\u001b[0m loss_fn_t \u001b[39m=\u001b[39m hk\u001b[39m.\u001b[39mwithout_apply_rng(loss_fn_t)\n\u001b[0;32m---> 19\u001b[0m rng \u001b[39m=\u001b[39m jax\u001b[39m.\u001b[39;49mrandom\u001b[39m.\u001b[39;49mPRNGKey(\u001b[39m42\u001b[39;49m)\n\u001b[1;32m     20\u001b[0m dummy_images, dummy_labels \u001b[39m=\u001b[39m \u001b[39mnext\u001b[39m(input_dataset)\n\u001b[1;32m     21\u001b[0m params \u001b[39m=\u001b[39m loss_fn_t\u001b[39m.\u001b[39minit(rng, dummy_images, dummy_labels)\n",
      "File \u001b[0;32m~/Kode/env_evoscaper/lib/python3.9/site-packages/jax/_src/random.py:136\u001b[0m, in \u001b[0;36mPRNGKey\u001b[0;34m(seed)\u001b[0m\n\u001b[1;32m    133\u001b[0m \u001b[39mif\u001b[39;00m np\u001b[39m.\u001b[39mndim(seed):\n\u001b[1;32m    134\u001b[0m   \u001b[39mraise\u001b[39;00m \u001b[39mTypeError\u001b[39;00m(\u001b[39m\"\u001b[39m\u001b[39mPRNGKey accepts a scalar seed, but was given an array of\u001b[39m\u001b[39m\"\u001b[39m\n\u001b[1;32m    135\u001b[0m                   \u001b[39mf\u001b[39m\u001b[39m\"\u001b[39m\u001b[39mshape \u001b[39m\u001b[39m{\u001b[39;00mnp\u001b[39m.\u001b[39mshape(seed)\u001b[39m}\u001b[39;00m\u001b[39m != (). Use jax.vmap for batching\u001b[39m\u001b[39m\"\u001b[39m)\n\u001b[0;32m--> 136\u001b[0m key \u001b[39m=\u001b[39m prng\u001b[39m.\u001b[39;49mseed_with_impl(impl, seed)\n\u001b[1;32m    137\u001b[0m \u001b[39mreturn\u001b[39;00m _return_prng_keys(\u001b[39mTrue\u001b[39;00m, key)\n",
      "File \u001b[0;32m~/Kode/env_evoscaper/lib/python3.9/site-packages/jax/_src/prng.py:270\u001b[0m, in \u001b[0;36mseed_with_impl\u001b[0;34m(impl, seed)\u001b[0m\n\u001b[1;32m    269\u001b[0m \u001b[39mdef\u001b[39;00m \u001b[39mseed_with_impl\u001b[39m(impl: PRNGImpl, seed: Union[\u001b[39mint\u001b[39m, Array]) \u001b[39m-\u001b[39m\u001b[39m>\u001b[39m PRNGKeyArray:\n\u001b[0;32m--> 270\u001b[0m   \u001b[39mreturn\u001b[39;00m random_seed(seed, impl\u001b[39m=\u001b[39;49mimpl)\n",
      "File \u001b[0;32m~/Kode/env_evoscaper/lib/python3.9/site-packages/jax/_src/prng.py:558\u001b[0m, in \u001b[0;36mrandom_seed\u001b[0;34m(seeds, impl)\u001b[0m\n\u001b[1;32m    553\u001b[0m \u001b[39mdef\u001b[39;00m \u001b[39mrandom_seed\u001b[39m(seeds, impl):\n\u001b[1;32m    554\u001b[0m   \u001b[39m# Avoid overflow error in X32 mode by first converting ints to int64.\u001b[39;00m\n\u001b[1;32m    555\u001b[0m   \u001b[39m# This breaks JIT invariance for large ints, but supports the common\u001b[39;00m\n\u001b[1;32m    556\u001b[0m   \u001b[39m# use-case of instantiating with Python hashes in X32 mode.\u001b[39;00m\n\u001b[1;32m    557\u001b[0m   \u001b[39mif\u001b[39;00m \u001b[39misinstance\u001b[39m(seeds, \u001b[39mint\u001b[39m):\n\u001b[0;32m--> 558\u001b[0m     seeds_arr \u001b[39m=\u001b[39m jnp\u001b[39m.\u001b[39;49masarray(np\u001b[39m.\u001b[39;49mint64(seeds))\n\u001b[1;32m    559\u001b[0m   \u001b[39melse\u001b[39;00m:\n\u001b[1;32m    560\u001b[0m     seeds_arr \u001b[39m=\u001b[39m jnp\u001b[39m.\u001b[39masarray(seeds)\n",
      "File \u001b[0;32m~/Kode/env_evoscaper/lib/python3.9/site-packages/jax/_src/numpy/lax_numpy.py:2012\u001b[0m, in \u001b[0;36masarray\u001b[0;34m(a, dtype, order)\u001b[0m\n\u001b[1;32m   2010\u001b[0m dtypes\u001b[39m.\u001b[39mcheck_user_dtype_supported(dtype, \u001b[39m\"\u001b[39m\u001b[39masarray\u001b[39m\u001b[39m\"\u001b[39m)\n\u001b[1;32m   2011\u001b[0m dtype \u001b[39m=\u001b[39m dtypes\u001b[39m.\u001b[39mcanonicalize_dtype(dtype) \u001b[39mif\u001b[39;00m dtype \u001b[39mis\u001b[39;00m \u001b[39mnot\u001b[39;00m \u001b[39mNone\u001b[39;00m \u001b[39melse\u001b[39;00m dtype\n\u001b[0;32m-> 2012\u001b[0m \u001b[39mreturn\u001b[39;00m array(a, dtype\u001b[39m=\u001b[39;49mdtype, copy\u001b[39m=\u001b[39;49m\u001b[39mFalse\u001b[39;49;00m, order\u001b[39m=\u001b[39;49morder)\n",
      "File \u001b[0;32m~/Kode/env_evoscaper/lib/python3.9/site-packages/jax/_src/numpy/lax_numpy.py:1993\u001b[0m, in \u001b[0;36marray\u001b[0;34m(object, dtype, copy, order, ndmin)\u001b[0m\n\u001b[1;32m   1989\u001b[0m     \u001b[39mreturn\u001b[39;00m array(np\u001b[39m.\u001b[39masarray(view), dtype, copy, ndmin\u001b[39m=\u001b[39mndmin)\n\u001b[1;32m   1991\u001b[0m   \u001b[39mraise\u001b[39;00m \u001b[39mTypeError\u001b[39;00m(\u001b[39mf\u001b[39m\u001b[39m\"\u001b[39m\u001b[39mUnexpected input type for array: \u001b[39m\u001b[39m{\u001b[39;00m\u001b[39mtype\u001b[39m(\u001b[39mobject\u001b[39m)\u001b[39m}\u001b[39;00m\u001b[39m\"\u001b[39m)\n\u001b[0;32m-> 1993\u001b[0m out_array: Array \u001b[39m=\u001b[39m lax_internal\u001b[39m.\u001b[39;49m_convert_element_type(out, dtype, weak_type\u001b[39m=\u001b[39;49mweak_type)\n\u001b[1;32m   1994\u001b[0m \u001b[39mif\u001b[39;00m ndmin \u001b[39m>\u001b[39m ndim(out_array):\n\u001b[1;32m   1995\u001b[0m   out_array \u001b[39m=\u001b[39m lax\u001b[39m.\u001b[39mexpand_dims(out_array, \u001b[39mrange\u001b[39m(ndmin \u001b[39m-\u001b[39m ndim(out_array)))\n",
      "File \u001b[0;32m~/Kode/env_evoscaper/lib/python3.9/site-packages/jax/_src/lax/lax.py:537\u001b[0m, in \u001b[0;36m_convert_element_type\u001b[0;34m(operand, new_dtype, weak_type)\u001b[0m\n\u001b[1;32m    535\u001b[0m   \u001b[39mreturn\u001b[39;00m type_cast(Array, operand)\n\u001b[1;32m    536\u001b[0m \u001b[39melse\u001b[39;00m:\n\u001b[0;32m--> 537\u001b[0m   \u001b[39mreturn\u001b[39;00m convert_element_type_p\u001b[39m.\u001b[39;49mbind(operand, new_dtype\u001b[39m=\u001b[39;49mnew_dtype,\n\u001b[1;32m    538\u001b[0m                                      weak_type\u001b[39m=\u001b[39;49m\u001b[39mbool\u001b[39;49m(weak_type))\n",
      "File \u001b[0;32m~/Kode/env_evoscaper/lib/python3.9/site-packages/jax/_src/core.py:360\u001b[0m, in \u001b[0;36mPrimitive.bind\u001b[0;34m(self, *args, **params)\u001b[0m\n\u001b[1;32m    357\u001b[0m \u001b[39mdef\u001b[39;00m \u001b[39mbind\u001b[39m(\u001b[39mself\u001b[39m, \u001b[39m*\u001b[39margs, \u001b[39m*\u001b[39m\u001b[39m*\u001b[39mparams):\n\u001b[1;32m    358\u001b[0m   \u001b[39massert\u001b[39;00m (\u001b[39mnot\u001b[39;00m config\u001b[39m.\u001b[39mjax_enable_checks \u001b[39mor\u001b[39;00m\n\u001b[1;32m    359\u001b[0m           \u001b[39mall\u001b[39m(\u001b[39misinstance\u001b[39m(arg, Tracer) \u001b[39mor\u001b[39;00m valid_jaxtype(arg) \u001b[39mfor\u001b[39;00m arg \u001b[39min\u001b[39;00m args)), args\n\u001b[0;32m--> 360\u001b[0m   \u001b[39mreturn\u001b[39;00m \u001b[39mself\u001b[39;49m\u001b[39m.\u001b[39;49mbind_with_trace(find_top_trace(args), args, params)\n",
      "File \u001b[0;32m~/Kode/env_evoscaper/lib/python3.9/site-packages/jax/_src/core.py:363\u001b[0m, in \u001b[0;36mPrimitive.bind_with_trace\u001b[0;34m(self, trace, args, params)\u001b[0m\n\u001b[1;32m    362\u001b[0m \u001b[39mdef\u001b[39;00m \u001b[39mbind_with_trace\u001b[39m(\u001b[39mself\u001b[39m, trace, args, params):\n\u001b[0;32m--> 363\u001b[0m   out \u001b[39m=\u001b[39m trace\u001b[39m.\u001b[39;49mprocess_primitive(\u001b[39mself\u001b[39;49m, \u001b[39mmap\u001b[39;49m(trace\u001b[39m.\u001b[39;49mfull_raise, args), params)\n\u001b[1;32m    364\u001b[0m   \u001b[39mreturn\u001b[39;00m \u001b[39mmap\u001b[39m(full_lower, out) \u001b[39mif\u001b[39;00m \u001b[39mself\u001b[39m\u001b[39m.\u001b[39mmultiple_results \u001b[39melse\u001b[39;00m full_lower(out)\n",
      "File \u001b[0;32m~/Kode/env_evoscaper/lib/python3.9/site-packages/jax/_src/core.py:817\u001b[0m, in \u001b[0;36mEvalTrace.process_primitive\u001b[0;34m(self, primitive, tracers, params)\u001b[0m\n\u001b[1;32m    816\u001b[0m \u001b[39mdef\u001b[39;00m \u001b[39mprocess_primitive\u001b[39m(\u001b[39mself\u001b[39m, primitive, tracers, params):\n\u001b[0;32m--> 817\u001b[0m   \u001b[39mreturn\u001b[39;00m primitive\u001b[39m.\u001b[39;49mimpl(\u001b[39m*\u001b[39;49mtracers, \u001b[39m*\u001b[39;49m\u001b[39m*\u001b[39;49mparams)\n",
      "File \u001b[0;32m~/Kode/env_evoscaper/lib/python3.9/site-packages/jax/_src/dispatch.py:117\u001b[0m, in \u001b[0;36mapply_primitive\u001b[0;34m(prim, *args, **params)\u001b[0m\n\u001b[1;32m    114\u001b[0m \u001b[39mfrom\u001b[39;00m \u001b[39mjax\u001b[39;00m\u001b[39m.\u001b[39;00m\u001b[39m_src\u001b[39;00m \u001b[39mimport\u001b[39;00m pjit\n\u001b[1;32m    116\u001b[0m \u001b[39mtry\u001b[39;00m:\n\u001b[0;32m--> 117\u001b[0m   compiled_fun \u001b[39m=\u001b[39m xla_primitive_callable(prim, \u001b[39m*\u001b[39;49munsafe_map(arg_spec, args),\n\u001b[1;32m    118\u001b[0m                                         \u001b[39m*\u001b[39;49m\u001b[39m*\u001b[39;49mparams)\n\u001b[1;32m    119\u001b[0m \u001b[39mexcept\u001b[39;00m pxla\u001b[39m.\u001b[39mDeviceAssignmentMismatchError \u001b[39mas\u001b[39;00m e:\n\u001b[1;32m    120\u001b[0m   fails, \u001b[39m=\u001b[39m e\u001b[39m.\u001b[39margs\n",
      "File \u001b[0;32m~/Kode/env_evoscaper/lib/python3.9/site-packages/jax/_src/util.py:253\u001b[0m, in \u001b[0;36mcache.<locals>.wrap.<locals>.wrapper\u001b[0;34m(*args, **kwargs)\u001b[0m\n\u001b[1;32m    251\u001b[0m   \u001b[39mreturn\u001b[39;00m f(\u001b[39m*\u001b[39margs, \u001b[39m*\u001b[39m\u001b[39m*\u001b[39mkwargs)\n\u001b[1;32m    252\u001b[0m \u001b[39melse\u001b[39;00m:\n\u001b[0;32m--> 253\u001b[0m   \u001b[39mreturn\u001b[39;00m cached(config\u001b[39m.\u001b[39;49m_trace_context(), \u001b[39m*\u001b[39;49margs, \u001b[39m*\u001b[39;49m\u001b[39m*\u001b[39;49mkwargs)\n",
      "File \u001b[0;32m~/Kode/env_evoscaper/lib/python3.9/site-packages/jax/_src/util.py:246\u001b[0m, in \u001b[0;36mcache.<locals>.wrap.<locals>.cached\u001b[0;34m(_, *args, **kwargs)\u001b[0m\n\u001b[1;32m    244\u001b[0m \u001b[39m@functools\u001b[39m\u001b[39m.\u001b[39mlru_cache(max_size)\n\u001b[1;32m    245\u001b[0m \u001b[39mdef\u001b[39;00m \u001b[39mcached\u001b[39m(_, \u001b[39m*\u001b[39margs, \u001b[39m*\u001b[39m\u001b[39m*\u001b[39mkwargs):\n\u001b[0;32m--> 246\u001b[0m   \u001b[39mreturn\u001b[39;00m f(\u001b[39m*\u001b[39;49margs, \u001b[39m*\u001b[39;49m\u001b[39m*\u001b[39;49mkwargs)\n",
      "File \u001b[0;32m~/Kode/env_evoscaper/lib/python3.9/site-packages/jax/_src/dispatch.py:208\u001b[0m, in \u001b[0;36mxla_primitive_callable\u001b[0;34m(prim, *arg_specs, **params)\u001b[0m\n\u001b[1;32m    206\u001b[0m   \u001b[39melse\u001b[39;00m:\n\u001b[1;32m    207\u001b[0m     \u001b[39mreturn\u001b[39;00m out,\n\u001b[0;32m--> 208\u001b[0m compiled \u001b[39m=\u001b[39m _xla_callable_uncached(lu\u001b[39m.\u001b[39;49mwrap_init(prim_fun), prim\u001b[39m.\u001b[39;49mname,\n\u001b[1;32m    209\u001b[0m                                   donated_invars, \u001b[39mFalse\u001b[39;49;00m, \u001b[39m*\u001b[39;49marg_specs)\n\u001b[1;32m    210\u001b[0m \u001b[39mif\u001b[39;00m \u001b[39mnot\u001b[39;00m prim\u001b[39m.\u001b[39mmultiple_results:\n\u001b[1;32m    211\u001b[0m   \u001b[39mreturn\u001b[39;00m \u001b[39mlambda\u001b[39;00m \u001b[39m*\u001b[39margs, \u001b[39m*\u001b[39m\u001b[39m*\u001b[39mkw: compiled(\u001b[39m*\u001b[39margs, \u001b[39m*\u001b[39m\u001b[39m*\u001b[39mkw)[\u001b[39m0\u001b[39m]\n",
      "File \u001b[0;32m~/Kode/env_evoscaper/lib/python3.9/site-packages/jax/_src/dispatch.py:251\u001b[0m, in \u001b[0;36m_xla_callable_uncached\u001b[0;34m(fun, name, donated_invars, keep_unused, *arg_specs)\u001b[0m\n\u001b[1;32m    249\u001b[0m \u001b[39mdef\u001b[39;00m \u001b[39m_xla_callable_uncached\u001b[39m(fun: lu\u001b[39m.\u001b[39mWrappedFun, name, donated_invars,\n\u001b[1;32m    250\u001b[0m                            keep_unused, \u001b[39m*\u001b[39marg_specs):\n\u001b[0;32m--> 251\u001b[0m   computation \u001b[39m=\u001b[39m sharded_lowering(fun, name, donated_invars, keep_unused,\n\u001b[1;32m    252\u001b[0m                                  \u001b[39m*\u001b[39;49marg_specs, lowering_platform\u001b[39m=\u001b[39;49m\u001b[39mNone\u001b[39;49;00m)\n\u001b[1;32m    253\u001b[0m   allow_prop \u001b[39m=\u001b[39m [\u001b[39mTrue\u001b[39;00m] \u001b[39m*\u001b[39m \u001b[39mlen\u001b[39m(computation\u001b[39m.\u001b[39mcompile_args[\u001b[39m'\u001b[39m\u001b[39mglobal_out_avals\u001b[39m\u001b[39m'\u001b[39m])\n\u001b[1;32m    254\u001b[0m   \u001b[39mreturn\u001b[39;00m computation\u001b[39m.\u001b[39mcompile(_allow_propagation_to_outputs\u001b[39m=\u001b[39mallow_prop)\u001b[39m.\u001b[39munsafe_call\n",
      "File \u001b[0;32m~/Kode/env_evoscaper/lib/python3.9/site-packages/jax/_src/dispatch.py:243\u001b[0m, in \u001b[0;36msharded_lowering\u001b[0;34m(fun, name, donated_invars, keep_unused, lowering_platform, *arg_specs)\u001b[0m\n\u001b[1;32m    238\u001b[0m in_shardings \u001b[39m=\u001b[39m [pxla\u001b[39m.\u001b[39m_UNSPECIFIED \u001b[39mif\u001b[39;00m i \u001b[39mis\u001b[39;00m \u001b[39mNone\u001b[39;00m \u001b[39melse\u001b[39;00m i \u001b[39mfor\u001b[39;00m i \u001b[39min\u001b[39;00m in_shardings]  \u001b[39m# type: ignore\u001b[39;00m\n\u001b[1;32m    240\u001b[0m \u001b[39m# Pass in a singleton `_UNSPECIFIED` for out_shardings because we don't know\u001b[39;00m\n\u001b[1;32m    241\u001b[0m \u001b[39m# the number of output avals at this stage. lower_sharding_computation will\u001b[39;00m\n\u001b[1;32m    242\u001b[0m \u001b[39m# apply it to all out_avals.\u001b[39;00m\n\u001b[0;32m--> 243\u001b[0m \u001b[39mreturn\u001b[39;00m pxla\u001b[39m.\u001b[39;49mlower_sharding_computation(\n\u001b[1;32m    244\u001b[0m     fun, \u001b[39m'\u001b[39;49m\u001b[39mjit\u001b[39;49m\u001b[39m'\u001b[39;49m, name, in_shardings, pxla\u001b[39m.\u001b[39;49m_UNSPECIFIED, donated_invars,\n\u001b[1;32m    245\u001b[0m     in_avals, keep_unused\u001b[39m=\u001b[39;49mkeep_unused, always_lower\u001b[39m=\u001b[39;49m\u001b[39mFalse\u001b[39;49;00m,\n\u001b[1;32m    246\u001b[0m     devices_from_context\u001b[39m=\u001b[39;49m\u001b[39mNone\u001b[39;49;00m, lowering_platform\u001b[39m=\u001b[39;49mlowering_platform)\n",
      "File \u001b[0;32m~/Kode/env_evoscaper/lib/python3.9/site-packages/jax/_src/profiler.py:314\u001b[0m, in \u001b[0;36mannotate_function.<locals>.wrapper\u001b[0;34m(*args, **kwargs)\u001b[0m\n\u001b[1;32m    311\u001b[0m \u001b[39m@wraps\u001b[39m(func)\n\u001b[1;32m    312\u001b[0m \u001b[39mdef\u001b[39;00m \u001b[39mwrapper\u001b[39m(\u001b[39m*\u001b[39margs, \u001b[39m*\u001b[39m\u001b[39m*\u001b[39mkwargs):\n\u001b[1;32m    313\u001b[0m   \u001b[39mwith\u001b[39;00m TraceAnnotation(name, \u001b[39m*\u001b[39m\u001b[39m*\u001b[39mdecorator_kwargs):\n\u001b[0;32m--> 314\u001b[0m     \u001b[39mreturn\u001b[39;00m func(\u001b[39m*\u001b[39;49margs, \u001b[39m*\u001b[39;49m\u001b[39m*\u001b[39;49mkwargs)\n\u001b[1;32m    315\u001b[0m   \u001b[39mreturn\u001b[39;00m wrapper\n",
      "File \u001b[0;32m~/Kode/env_evoscaper/lib/python3.9/site-packages/jax/_src/interpreters/pxla.py:2419\u001b[0m, in \u001b[0;36mlower_sharding_computation\u001b[0;34m(fun_or_jaxpr, api_name, fun_name, in_shardings, out_shardings, donated_invars, global_in_avals, keep_unused, always_lower, devices_from_context, lowering_platform)\u001b[0m\n\u001b[1;32m   2416\u001b[0m \u001b[39m# Device assignment across all inputs, outputs and shardings inside jaxpr\u001b[39;00m\n\u001b[1;32m   2417\u001b[0m \u001b[39m# should be the same.\u001b[39;00m\n\u001b[1;32m   2418\u001b[0m jaxpr_sharding \u001b[39m=\u001b[39m \u001b[39mlist\u001b[39m(dispatch\u001b[39m.\u001b[39mjaxpr_shardings(jaxpr))\n\u001b[0;32m-> 2419\u001b[0m backend, device_assignment \u001b[39m=\u001b[39m _get_and_check_device_assignment(\n\u001b[1;32m   2420\u001b[0m     it\u001b[39m.\u001b[39;49mchain([(i, MismatchType\u001b[39m.\u001b[39;49mARG_SHARDING, \u001b[39mNone\u001b[39;49;00m) \u001b[39mfor\u001b[39;49;00m i \u001b[39min\u001b[39;49;00m in_shardings],\n\u001b[1;32m   2421\u001b[0m              [(o, MismatchType\u001b[39m.\u001b[39;49mOUT_SHARDING, \u001b[39mNone\u001b[39;49;00m) \u001b[39mfor\u001b[39;49;00m o \u001b[39min\u001b[39;49;00m out_shardings],  \u001b[39m# type: ignore\u001b[39;49;00m\n\u001b[1;32m   2422\u001b[0m              [(js, MismatchType\u001b[39m.\u001b[39;49mSHARDING_INSIDE_COMPUTATION, source_info)  \u001b[39m# type: ignore\u001b[39;49;00m\n\u001b[1;32m   2423\u001b[0m               \u001b[39mfor\u001b[39;49;00m js, source_info \u001b[39min\u001b[39;49;00m jaxpr_sharding]),\n\u001b[1;32m   2424\u001b[0m     devices_from_context)\n\u001b[1;32m   2426\u001b[0m \u001b[39m# TODO(yashkatariya): Make this logic work after DCE because there can be\u001b[39;00m\n\u001b[1;32m   2427\u001b[0m \u001b[39m# equations inside the jaxpr that don't affect the output so whether the\u001b[39;00m\n\u001b[1;32m   2428\u001b[0m \u001b[39m# output(s) are committed or not should not depend on it.\u001b[39;00m\n\u001b[1;32m   2429\u001b[0m committed \u001b[39m=\u001b[39m \u001b[39mbool\u001b[39m(\n\u001b[1;32m   2430\u001b[0m     devices_from_context \u001b[39mor\u001b[39;00m\n\u001b[1;32m   2431\u001b[0m     \u001b[39mlen\u001b[39m(device_assignment) \u001b[39m>\u001b[39m \u001b[39m1\u001b[39m \u001b[39mor\u001b[39;00m\n\u001b[1;32m   2432\u001b[0m     \u001b[39many\u001b[39m(\u001b[39mnot\u001b[39;00m _is_unspecified(i) \u001b[39mfor\u001b[39;00m i \u001b[39min\u001b[39;00m in_shardings) \u001b[39mor\u001b[39;00m\n\u001b[1;32m   2433\u001b[0m     \u001b[39many\u001b[39m(\u001b[39mnot\u001b[39;00m _is_unspecified(js) \u001b[39mfor\u001b[39;00m js, _ \u001b[39min\u001b[39;00m jaxpr_sharding) \u001b[39mor\u001b[39;00m  \u001b[39m# type: ignore\u001b[39;00m\n\u001b[1;32m   2434\u001b[0m     \u001b[39many\u001b[39m(\u001b[39mnot\u001b[39;00m _is_unspecified(o) \u001b[39mfor\u001b[39;00m o \u001b[39min\u001b[39;00m out_shardings))  \u001b[39m# type: ignore\u001b[39;00m\n",
      "File \u001b[0;32m~/Kode/env_evoscaper/lib/python3.9/site-packages/jax/_src/interpreters/pxla.py:2365\u001b[0m, in \u001b[0;36m_get_and_check_device_assignment\u001b[0;34m(shardings, devices)\u001b[0m\n\u001b[1;32m   2363\u001b[0m   final_device_assignment \u001b[39m=\u001b[39m devices\n\u001b[1;32m   2364\u001b[0m \u001b[39melif\u001b[39;00m first_sharding_info \u001b[39mis\u001b[39;00m \u001b[39mNone\u001b[39;00m:\n\u001b[0;32m-> 2365\u001b[0m   final_device_assignment \u001b[39m=\u001b[39m [_get_default_device()]\n\u001b[1;32m   2366\u001b[0m \u001b[39melse\u001b[39;00m:\n\u001b[1;32m   2367\u001b[0m   final_device_assignment \u001b[39m=\u001b[39m first_sharding_info[\u001b[39m0\u001b[39m]\n",
      "File \u001b[0;32m~/Kode/env_evoscaper/lib/python3.9/site-packages/jax/_src/interpreters/pxla.py:2331\u001b[0m, in \u001b[0;36m_get_default_device\u001b[0;34m()\u001b[0m\n\u001b[1;32m   2330\u001b[0m \u001b[39mdef\u001b[39;00m \u001b[39m_get_default_device\u001b[39m() \u001b[39m-\u001b[39m\u001b[39m>\u001b[39m xc\u001b[39m.\u001b[39mDevice:\n\u001b[0;32m-> 2331\u001b[0m   \u001b[39mreturn\u001b[39;00m config\u001b[39m.\u001b[39mjax_default_device \u001b[39mor\u001b[39;00m xb\u001b[39m.\u001b[39;49mlocal_devices()[\u001b[39m0\u001b[39m]\n",
      "File \u001b[0;32m~/Kode/env_evoscaper/lib/python3.9/site-packages/jax/_src/xla_bridge.py:616\u001b[0m, in \u001b[0;36mlocal_devices\u001b[0;34m(process_index, backend, host_id)\u001b[0m\n\u001b[1;32m    614\u001b[0m   process_index \u001b[39m=\u001b[39m host_id\n\u001b[1;32m    615\u001b[0m \u001b[39mif\u001b[39;00m process_index \u001b[39mis\u001b[39;00m \u001b[39mNone\u001b[39;00m:\n\u001b[0;32m--> 616\u001b[0m   process_index \u001b[39m=\u001b[39m get_backend(backend)\u001b[39m.\u001b[39mprocess_index()\n\u001b[1;32m    617\u001b[0m \u001b[39mif\u001b[39;00m \u001b[39mnot\u001b[39;00m (\u001b[39m0\u001b[39m \u001b[39m<\u001b[39m\u001b[39m=\u001b[39m process_index \u001b[39m<\u001b[39m process_count()):\n\u001b[1;32m    618\u001b[0m   \u001b[39mraise\u001b[39;00m \u001b[39mValueError\u001b[39;00m(\u001b[39mf\u001b[39m\u001b[39m\"\u001b[39m\u001b[39mUnknown process_index \u001b[39m\u001b[39m{\u001b[39;00mprocess_index\u001b[39m}\u001b[39;00m\u001b[39m\"\u001b[39m)\n",
      "File \u001b[0;32m~/Kode/env_evoscaper/lib/python3.9/site-packages/jax/_src/xla_bridge.py:518\u001b[0m, in \u001b[0;36mget_backend\u001b[0;34m(platform)\u001b[0m\n\u001b[1;32m    514\u001b[0m \u001b[39m@lru_cache\u001b[39m(maxsize\u001b[39m=\u001b[39m\u001b[39mNone\u001b[39;00m)  \u001b[39m# don't use util.memoize because there is no X64 dependence.\u001b[39;00m\n\u001b[1;32m    515\u001b[0m \u001b[39mdef\u001b[39;00m \u001b[39mget_backend\u001b[39m(\n\u001b[1;32m    516\u001b[0m     platform: Union[\u001b[39mNone\u001b[39;00m, \u001b[39mstr\u001b[39m, xla_client\u001b[39m.\u001b[39mClient] \u001b[39m=\u001b[39m \u001b[39mNone\u001b[39;00m\n\u001b[1;32m    517\u001b[0m ) \u001b[39m-\u001b[39m\u001b[39m>\u001b[39m xla_client\u001b[39m.\u001b[39mClient:\n\u001b[0;32m--> 518\u001b[0m   \u001b[39mreturn\u001b[39;00m _get_backend_uncached(platform)\n",
      "File \u001b[0;32m~/Kode/env_evoscaper/lib/python3.9/site-packages/jax/_src/xla_bridge.py:501\u001b[0m, in \u001b[0;36m_get_backend_uncached\u001b[0;34m(platform)\u001b[0m\n\u001b[1;32m    499\u001b[0m bs \u001b[39m=\u001b[39m backends()\n\u001b[1;32m    500\u001b[0m \u001b[39mif\u001b[39;00m platform \u001b[39mis\u001b[39;00m \u001b[39mnot\u001b[39;00m \u001b[39mNone\u001b[39;00m:\n\u001b[0;32m--> 501\u001b[0m   platform \u001b[39m=\u001b[39m canonicalize_platform(platform)\n\u001b[1;32m    502\u001b[0m   backend \u001b[39m=\u001b[39m bs\u001b[39m.\u001b[39mget(platform, \u001b[39mNone\u001b[39;00m)\n\u001b[1;32m    503\u001b[0m   \u001b[39mif\u001b[39;00m backend \u001b[39mis\u001b[39;00m \u001b[39mNone\u001b[39;00m:\n",
      "File \u001b[0;32m~/Kode/env_evoscaper/lib/python3.9/site-packages/jax/_src/xla_bridge.py:381\u001b[0m, in \u001b[0;36mcanonicalize_platform\u001b[0;34m(platform)\u001b[0m\n\u001b[1;32m    379\u001b[0m   \u001b[39mif\u001b[39;00m p \u001b[39min\u001b[39;00m b\u001b[39m.\u001b[39mkeys():\n\u001b[1;32m    380\u001b[0m     \u001b[39mreturn\u001b[39;00m p\n\u001b[0;32m--> 381\u001b[0m \u001b[39mraise\u001b[39;00m \u001b[39mRuntimeError\u001b[39;00m(\u001b[39mf\u001b[39m\u001b[39m\"\u001b[39m\u001b[39mUnknown backend: \u001b[39m\u001b[39m'\u001b[39m\u001b[39m{\u001b[39;00mplatform\u001b[39m}\u001b[39;00m\u001b[39m'\u001b[39m\u001b[39m requested, but no \u001b[39m\u001b[39m\"\u001b[39m\n\u001b[1;32m    382\u001b[0m                    \u001b[39mf\u001b[39m\u001b[39m\"\u001b[39m\u001b[39mplatforms that are instances of \u001b[39m\u001b[39m{\u001b[39;00mplatform\u001b[39m}\u001b[39;00m\u001b[39m are present. \u001b[39m\u001b[39m\"\u001b[39m\n\u001b[1;32m    383\u001b[0m                    \u001b[39m\"\u001b[39m\u001b[39mPlatforms present are: \u001b[39m\u001b[39m\"\u001b[39m \u001b[39m+\u001b[39m \u001b[39m\"\u001b[39m\u001b[39m,\u001b[39m\u001b[39m\"\u001b[39m\u001b[39m.\u001b[39mjoin(b\u001b[39m.\u001b[39mkeys()))\n",
      "\u001b[0;31mRuntimeError\u001b[0m: Unknown backend: 'gpu' requested, but no platforms that are instances of gpu are present. Platforms present are: interpreter,cpu"
     ]
    }
   ],
   "source": [
    "\n",
    "def softmax_cross_entropy(logits, labels):\n",
    "  one_hot = jax.nn.one_hot(labels, logits.shape[-1])\n",
    "  return -jnp.sum(jax.nn.log_softmax(logits) * one_hot, axis=-1)\n",
    "\n",
    "def loss_fn(images, labels):\n",
    "  mlp = hk.Sequential([\n",
    "      hk.Linear(300), jax.nn.relu,\n",
    "      hk.Linear(100), jax.nn.relu,\n",
    "      hk.Linear(10),\n",
    "  ])\n",
    "  logits = mlp(images)\n",
    "  return jnp.mean(softmax_cross_entropy(logits, labels))\n",
    "\n",
    "input_dataset = tfds.load('MNIST')\n",
    "\n",
    "loss_fn_t = hk.transform(loss_fn)\n",
    "loss_fn_t = hk.without_apply_rng(loss_fn_t)\n",
    "\n",
    "rng = jax.random.PRNGKey(42)\n",
    "dummy_images, dummy_labels = next(input_dataset)\n",
    "params = loss_fn_t.init(rng, dummy_images, dummy_labels)\n",
    "\n",
    "def update_rule(param, update):\n",
    "  return param - 0.01 * update\n",
    "\n",
    "for images, labels in input_dataset:\n",
    "  grads = jax.grad(loss_fn_t.apply)(params, images, labels)\n",
    "  params = jax.tree_util.tree_map(update_rule, params, grads)"
   ]
  },
  {
   "cell_type": "code",
   "execution_count": null,
   "metadata": {},
   "outputs": [],
   "source": []
  }
 ],
 "metadata": {
  "kernelspec": {
   "display_name": "env_evoscaper",
   "language": "python",
   "name": "python3"
  },
  "language_info": {
   "codemirror_mode": {
    "name": "ipython",
    "version": 3
   },
   "file_extension": ".py",
   "mimetype": "text/x-python",
   "name": "python",
   "nbconvert_exporter": "python",
   "pygments_lexer": "ipython3",
   "version": "3.9.12"
  },
  "orig_nbformat": 4
 },
 "nbformat": 4,
 "nbformat_minor": 2
}
