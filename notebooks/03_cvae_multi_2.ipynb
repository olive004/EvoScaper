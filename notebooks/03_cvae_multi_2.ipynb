{
 "cells": [
  {
   "cell_type": "code",
   "execution_count": 1,
   "metadata": {
    "execution": {
     "iopub.execute_input": "2025-01-17T11:36:11.560125Z",
     "iopub.status.busy": "2025-01-17T11:36:11.560015Z",
     "iopub.status.idle": "2025-01-17T11:36:11.570959Z",
     "shell.execute_reply": "2025-01-17T11:36:11.570418Z"
    }
   },
   "outputs": [],
   "source": [
    "%load_ext autoreload\n",
    "%autoreload 2"
   ]
  },
  {
   "cell_type": "markdown",
   "metadata": {},
   "source": [
    "# Run VAE models systematically"
   ]
  },
  {
   "cell_type": "markdown",
   "metadata": {},
   "source": [
    "## Imports"
   ]
  },
  {
   "cell_type": "code",
   "execution_count": 2,
   "metadata": {
    "execution": {
     "iopub.execute_input": "2025-01-17T11:36:11.572640Z",
     "iopub.status.busy": "2025-01-17T11:36:11.572526Z",
     "iopub.status.idle": "2025-01-17T11:36:13.456067Z",
     "shell.execute_reply": "2025-01-17T11:36:13.454791Z"
    }
   },
   "outputs": [],
   "source": [
    "import pandas as pd\n",
    "import itertools\n",
    "import os\n",
    "from evoscaper.scripts.cvae_scan import main as cvae_scan\n",
    "from evoscaper.utils.preprocess import make_datetime_str\n",
    "from synbio_morpher.utils.data.data_format_tools.common import write_json\n"
   ]
  },
  {
   "cell_type": "markdown",
   "metadata": {},
   "source": [
    "## Create table of all VAE model training settings\n",
    "\n",
    "Parameters for:\n",
    "- Biological dataset generation\n",
    "- Training data\n",
    "    - Input\n",
    "    - Output \n",
    "- Model architecture\n",
    "- Training hyperparameters"
   ]
  },
  {
   "cell_type": "markdown",
   "metadata": {},
   "source": [
    "### Initial parameters"
   ]
  },
  {
   "cell_type": "code",
   "execution_count": 3,
   "metadata": {
    "execution": {
     "iopub.execute_input": "2025-01-17T11:36:13.458613Z",
     "iopub.status.busy": "2025-01-17T11:36:13.458372Z",
     "iopub.status.idle": "2025-01-17T11:36:13.487145Z",
     "shell.execute_reply": "2025-01-17T11:36:13.486447Z"
    }
   },
   "outputs": [],
   "source": [
    "data_dir = '../data'\n",
    "\n",
    "hpos_architecture = {\n",
    "    'seed_arch': 1,\n",
    "    'hidden_size': 16,\n",
    "    'enc_ls': 32,\n",
    "    'dec_ls': 32,\n",
    "    'num_enc_layers': 2,\n",
    "    'num_dec_layers': 2,\n",
    "    'factor_expanding_ls': 1,\n",
    "    'factor_contracting_ls': 1,\n",
    "    'model': 'CVAE',\n",
    "    'use_sigmoid_decoder': False,\n",
    "    'enc_init': 'HeNormal',\n",
    "    'dec_init': 'HeNormal',\n",
    "    'init_model_with_random': True,\n",
    "    'activation': 'leaky_relu',\n",
    "}\n",
    "\n",
    "hpos_training = {\n",
    "    'seed_train': 1,\n",
    "    'batch_size': 256,\n",
    "    'epochs': 3000,\n",
    "    'patience': 500,\n",
    "    'learning_rate': 1e-2,\n",
    "    'loss_func': 'mse',\n",
    "    'accuracy_func': 'accuracy_regression',\n",
    "    'use_dropout': False,\n",
    "    'dropout_rate': 0.1,\n",
    "    'use_l2_reg': False,\n",
    "    'l2_reg_alpha': 5e-2,\n",
    "    'use_kl_div': True,\n",
    "    # inspired by https://github.com/elttaes/VAE-MNIST-Haiku-Jax/blob/main/cVAE_mnist.ipynb\n",
    "    'kl_weight': 2.5e-4,\n",
    "    'use_grad_clipping': False\n",
    "}\n",
    "hpos_training['print_every'] = hpos_training['epochs'] // 50\n",
    "\n",
    "hpos_optimization = {\n",
    "    'seed_opt': 1,\n",
    "    'opt_method': 'adam',\n",
    "    'opt_min_lr': 1e-6,\n",
    "    'opt_min_delta': 1e-4,\n",
    "    'learning_rate_sched': 'cosine_decay',\n",
    "    'use_warmup': True,\n",
    "    'warmup_epochs': 20,\n",
    "}\n",
    "\n",
    "hpos_dataset = {\n",
    "    'seed_dataset': 1,\n",
    "    'include_diffs': False,\n",
    "    'objective_col': ('Log sensitivity',),\n",
    "    'output_species': ('RNA_2',),\n",
    "    'signal_species': ('RNA_0',),\n",
    "    'filenames_train_config': f'{data_dir}/raw/summarise_simulation/2024_12_05_210221/ensemble_config.json',\n",
    "    'filenames_train_table': f'{data_dir}/raw/summarise_simulation/2024_12_05_210221/tabulated_mutation_info.csv',\n",
    "    'filenames_verify_config': f'{data_dir}/raw/summarise_simulation/2024_11_21_160955/ensemble_config.json',\n",
    "    'filenames_verify_table': f'{data_dir}/raw/summarise_simulation/2024_11_21_160955/tabulated_mutation_info.csv',\n",
    "    'use_test_data': False,\n",
    "    # 'total_ds': None,   # TO BE RECORDED\n",
    "    'total_ds_max': 5e6,\n",
    "    'train_split': 0.8,\n",
    "    'x_type': 'energies',\n",
    "    # XY filtering:\n",
    "    'filt_x_nans': True,\n",
    "    'filt_y_nans': True,\n",
    "    'filt_sensitivity_nans': True,\n",
    "    'filt_precision_nans': True,\n",
    "    'filt_n_same_x_max': 1,\n",
    "    'filt_n_same_x_max_bins': 50,\n",
    "    # XY preprocessing:\n",
    "    'prep_x_standardise': False,\n",
    "    'prep_y_standardise': False,\n",
    "    'prep_x_min_max': True,\n",
    "    'prep_y_min_max': True,\n",
    "    'prep_x_robust_scaling': True,\n",
    "    'prep_y_robust_scaling': True,\n",
    "    'prep_x_logscale': False,\n",
    "    'prep_y_logscale': False,\n",
    "    'prep_x_categorical': False,\n",
    "    'prep_y_categorical': True,\n",
    "    'prep_x_categorical_onehot': False,\n",
    "    'prep_y_categorical_onehot': True,\n",
    "    'prep_x_categorical_n_bins': 10,\n",
    "    'prep_y_categorical_n_bins': 10,\n",
    "    'prep_x_categorical_method': 'quantile',\n",
    "    'prep_y_categorical_method': 'quantile',\n",
    "    'prep_x_negative': True,\n",
    "    'prep_y_negative': False\n",
    "}\n",
    "\n",
    "hpos_biological = {\n",
    "    'n_species': 3,\n",
    "    'sequence_length': 20,\n",
    "    'signal_function': 'step_function',\n",
    "    'signal_target': 2,\n",
    "    'starting_copynumbers_input': 200,\n",
    "    'starting_copynumbers_output': 200,\n",
    "    'starting_copynumbers_other': 200,\n",
    "    'association_binding_rate': 1000000,\n",
    "    'include_prod_deg': False,\n",
    "}\n",
    "\n",
    "hpos_eval = {\n",
    "    'eval_n_to_sample': 1e3\n",
    "}\n",
    "\n",
    "info_to_be_recorded = {\n",
    "    'filename_saved_model': 'TO_BE_RECORDED',\n",
    "    'total_ds': 'TO_BE_RECORDED',\n",
    "    'n_batches': 'TO_BE_RECORDED',\n",
    "    'R2_train': 'TO_BE_RECORDED',\n",
    "    'R2_test': 'TO_BE_RECORDED',\n",
    "    'mutual_information_conditionality': 'TO_BE_RECORDED',\n",
    "    'n_layers_enc': 'TO_BE_RECORDED',\n",
    "    'n_layers_dec': 'TO_BE_RECORDED',\n",
    "    'run_successful': 'TO_BE_RECORDED',\n",
    "    'info_early_stop': 'TO_BE_RECORDED',\n",
    "    'error_msg': 'TO_BE_RECORDED',\n",
    "}\n",
    "\n",
    "hpos_all = {}\n",
    "for d in [hpos_architecture, hpos_training, hpos_optimization, hpos_dataset, hpos_eval, info_to_be_recorded]:\n",
    "    hpos_all.update(d)"
   ]
  },
  {
   "cell_type": "code",
   "execution_count": 4,
   "metadata": {
    "execution": {
     "iopub.execute_input": "2025-01-17T11:36:13.490734Z",
     "iopub.status.busy": "2025-01-17T11:36:13.490621Z",
     "iopub.status.idle": "2025-01-17T11:36:13.519962Z",
     "shell.execute_reply": "2025-01-17T11:36:13.519442Z"
    }
   },
   "outputs": [
    {
     "data": {
      "text/html": [
       "<div>\n",
       "<style scoped>\n",
       "    .dataframe tbody tr th:only-of-type {\n",
       "        vertical-align: middle;\n",
       "    }\n",
       "\n",
       "    .dataframe tbody tr th {\n",
       "        vertical-align: top;\n",
       "    }\n",
       "\n",
       "    .dataframe thead th {\n",
       "        text-align: right;\n",
       "    }\n",
       "</style>\n",
       "<table border=\"1\" class=\"dataframe\">\n",
       "  <thead>\n",
       "    <tr style=\"text-align: right;\">\n",
       "      <th></th>\n",
       "      <th>seed_arch</th>\n",
       "      <th>hidden_size</th>\n",
       "      <th>enc_ls</th>\n",
       "      <th>dec_ls</th>\n",
       "      <th>num_enc_layers</th>\n",
       "      <th>num_dec_layers</th>\n",
       "      <th>factor_expanding_ls</th>\n",
       "      <th>factor_contracting_ls</th>\n",
       "      <th>model</th>\n",
       "      <th>use_sigmoid_decoder</th>\n",
       "      <th>...</th>\n",
       "      <th>total_ds</th>\n",
       "      <th>n_batches</th>\n",
       "      <th>R2_train</th>\n",
       "      <th>R2_test</th>\n",
       "      <th>mutual_information_conditionality</th>\n",
       "      <th>n_layers_enc</th>\n",
       "      <th>n_layers_dec</th>\n",
       "      <th>run_successful</th>\n",
       "      <th>info_early_stop</th>\n",
       "      <th>error_msg</th>\n",
       "    </tr>\n",
       "  </thead>\n",
       "  <tbody>\n",
       "    <tr>\n",
       "      <th>0</th>\n",
       "      <td>1</td>\n",
       "      <td>16</td>\n",
       "      <td>32</td>\n",
       "      <td>32</td>\n",
       "      <td>2</td>\n",
       "      <td>2</td>\n",
       "      <td>1</td>\n",
       "      <td>1</td>\n",
       "      <td>CVAE</td>\n",
       "      <td>False</td>\n",
       "      <td>...</td>\n",
       "      <td>TO_BE_RECORDED</td>\n",
       "      <td>TO_BE_RECORDED</td>\n",
       "      <td>TO_BE_RECORDED</td>\n",
       "      <td>TO_BE_RECORDED</td>\n",
       "      <td>TO_BE_RECORDED</td>\n",
       "      <td>TO_BE_RECORDED</td>\n",
       "      <td>TO_BE_RECORDED</td>\n",
       "      <td>TO_BE_RECORDED</td>\n",
       "      <td>TO_BE_RECORDED</td>\n",
       "      <td>TO_BE_RECORDED</td>\n",
       "    </tr>\n",
       "  </tbody>\n",
       "</table>\n",
       "<p>1 rows × 85 columns</p>\n",
       "</div>"
      ],
      "text/plain": [
       "  seed_arch hidden_size enc_ls dec_ls num_enc_layers num_dec_layers  \\\n",
       "0         1          16     32     32              2              2   \n",
       "\n",
       "  factor_expanding_ls factor_contracting_ls model use_sigmoid_decoder  ...  \\\n",
       "0                   1                     1  CVAE               False  ...   \n",
       "\n",
       "         total_ds       n_batches        R2_train         R2_test  \\\n",
       "0  TO_BE_RECORDED  TO_BE_RECORDED  TO_BE_RECORDED  TO_BE_RECORDED   \n",
       "\n",
       "  mutual_information_conditionality    n_layers_enc    n_layers_dec  \\\n",
       "0                    TO_BE_RECORDED  TO_BE_RECORDED  TO_BE_RECORDED   \n",
       "\n",
       "   run_successful info_early_stop       error_msg  \n",
       "0  TO_BE_RECORDED  TO_BE_RECORDED  TO_BE_RECORDED  \n",
       "\n",
       "[1 rows x 85 columns]"
      ]
     },
     "execution_count": 4,
     "metadata": {},
     "output_type": "execute_result"
    }
   ],
   "source": [
    "df_hpos = pd.DataFrame.from_dict(hpos_all, orient='index').T\n",
    "assert df_hpos.columns.duplicated().sum() == 0, 'Change some column names, there are duplicates'\n",
    "basic_setting = df_hpos.copy()\n",
    "df_hpos"
   ]
  },
  {
   "cell_type": "code",
   "execution_count": 5,
   "metadata": {
    "execution": {
     "iopub.execute_input": "2025-01-17T11:36:13.543231Z",
     "iopub.status.busy": "2025-01-17T11:36:13.542542Z",
     "iopub.status.idle": "2025-01-17T11:36:13.566992Z",
     "shell.execute_reply": "2025-01-17T11:36:13.566234Z"
    }
   },
   "outputs": [
    {
     "data": {
      "text/plain": [
       "0    ../data/raw/summarise_simulation/2024_12_05_21...\n",
       "Name: filenames_train_config, dtype: object"
      ]
     },
     "execution_count": 5,
     "metadata": {},
     "output_type": "execute_result"
    }
   ],
   "source": [
    "# for k, v in hpos_all.items():\n",
    "#     if type(v) == tuple:\n",
    "#         print(k, v)\n",
    "#         df_hpos[k] = df_hpos[k].apply(lambda x: tuple(x))\n",
    "df_hpos['filenames_train_config']        "
   ]
  },
  {
   "cell_type": "markdown",
   "metadata": {},
   "source": [
    "### All parameters"
   ]
  },
  {
   "cell_type": "code",
   "execution_count": 6,
   "metadata": {
    "execution": {
     "iopub.execute_input": "2025-01-17T11:36:13.568581Z",
     "iopub.status.busy": "2025-01-17T11:36:13.568463Z",
     "iopub.status.idle": "2025-01-17T11:36:13.593788Z",
     "shell.execute_reply": "2025-01-17T11:36:13.592904Z"
    }
   },
   "outputs": [],
   "source": [
    "hpos_to_vary_from_og = {\n",
    "    'seed_arch': [1, 2, 3, 4, 5],\n",
    "    'num_enc_layers': [4, 5],\n",
    "}\n",
    "hpos_to_vary_from_og2 = {\n",
    "    'objective_col': [('adaptation',), ('Log sensitivity',), ('Log sensitivity', 'Log precision')],\n",
    "}\n",
    "hpos_to_vary_from_og3 = {\n",
    "    'hidden_size': list(range(1, 33)),\n",
    "}\n",
    "hpos_to_vary_together = {\n",
    "    'hidden_size': [1, 2, 4, 8, 16, 32, 64, 128],\n",
    "    'enc_ls': [4, 8, 16, 32, 64],\n",
    "    'num_enc_layers': [1, 2, 3],\n",
    "    'factor_expanding_ls': [1, 2, 3],\n",
    "}\n",
    "hpos_to_vary_together2 = {\n",
    "    'hidden_size': [16, 32, 64],\n",
    "    'objective_col': [('adaptation',), ('Log sensitivity',)],\n",
    "    'x_type': ['energies', 'binding_rates_dissociation'],\n",
    "    'learning_rate': [1e-2, 1e-3, 1e-4],\n",
    "    'use_l2_reg': [True],\n",
    "    'l2_reg_alpha': [0, 1e-2, 1e-3, 1e-4],\n",
    "    'kl_weight': [1e-4, 1e-3, 1e-2, 1e-1, 1],\n",
    "}\n",
    "\n",
    "df_hpos.loc[df_hpos['objective_col'] == 'sensitivity_wrt_species-6', 'prep_y_logscale'] = True"
   ]
  },
  {
   "cell_type": "code",
   "execution_count": 7,
   "metadata": {
    "execution": {
     "iopub.execute_input": "2025-01-17T11:36:13.596713Z",
     "iopub.status.busy": "2025-01-17T11:36:13.596073Z",
     "iopub.status.idle": "2025-01-17T11:36:14.529440Z",
     "shell.execute_reply": "2025-01-17T11:36:14.528992Z"
    }
   },
   "outputs": [
    {
     "data": {
      "text/plain": [
       "1114"
      ]
     },
     "execution_count": 7,
     "metadata": {},
     "output_type": "execute_result"
    }
   ],
   "source": [
    "def keep_equal(df):\n",
    "    pairs = {\n",
    "        'enc_ls': 'dec_ls',\n",
    "        'num_enc_layers': 'num_dec_layers',\n",
    "        'factor_expanding_ls': 'factor_contracting_ls',\n",
    "    }\n",
    "    for k1, k2 in pairs.items():\n",
    "        if k1 in df.columns and k2 in df.columns:\n",
    "            df[k2] = df[k1]\n",
    "    return df\n",
    "\n",
    "\n",
    "def add_combinatorial_keys(df_hpos, hpos_to_vary_together, basic_setting):\n",
    "    keys_vary_together = sorted(hpos_to_vary_together.keys())\n",
    "    for v in itertools.product(*[hpos_to_vary_together[h] for h in keys_vary_together]):\n",
    "        curr = basic_setting.assign(\n",
    "            **{h: vv for h, vv in zip(keys_vary_together, v)})\n",
    "        df_hpos = pd.concat([df_hpos, curr], ignore_index=True)\n",
    "    return df_hpos\n",
    "\n",
    "\n",
    "def add_single_hpos(df_hpos, hpos_to_vary_from_og, basic_setting):\n",
    "    for h, v in hpos_to_vary_from_og.items():\n",
    "        try:\n",
    "            df_hpos = pd.concat(\n",
    "                [df_hpos] + [basic_setting.assign(**{h: vv}) for vv in v], ignore_index=True)\n",
    "        except ValueError:\n",
    "            for vv in v:\n",
    "                b = basic_setting.copy()\n",
    "                b.loc[0, h] = vv\n",
    "                df_hpos = pd.concat([df_hpos, b], ignore_index=True)\n",
    "    return df_hpos\n",
    "\n",
    "\n",
    "def postproc(df_hpos):\n",
    "    df_hpos = keep_equal(df_hpos)\n",
    "    df_hpos.loc[df_hpos['x_type'] ==\n",
    "                'binding_rates_dissociation', 'prep_x_negative'] = False\n",
    "    df_hpos = df_hpos.drop_duplicates().reset_index(drop=True)\n",
    "    return df_hpos\n",
    "\n",
    "\n",
    "df_hpos = add_single_hpos(df_hpos, hpos_to_vary_from_og3, basic_setting)\n",
    "df_hpos = add_single_hpos(df_hpos, hpos_to_vary_from_og2, basic_setting)\n",
    "df_hpos = add_combinatorial_keys(df_hpos, hpos_to_vary_together, basic_setting)\n",
    "df_hpos = add_combinatorial_keys(\n",
    "    df_hpos, hpos_to_vary_together2, basic_setting)\n",
    "df_hpos = add_single_hpos(df_hpos, hpos_to_vary_from_og, basic_setting)\n",
    "df_hpos = postproc(df_hpos)\n",
    "\n",
    "# Reorder columns\n",
    "cols_priority = list(set(list(hpos_to_vary_from_og.keys(\n",
    ")) + list(hpos_to_vary_together.keys()) + list(hpos_to_vary_together2.keys())))\n",
    "df_hpos = df_hpos[cols_priority +\n",
    "                  [c for c in df_hpos.columns if c not in cols_priority]]\n",
    "\n",
    "df_hpos.reset_index(drop=True)\n",
    "len(df_hpos)"
   ]
  },
  {
   "cell_type": "markdown",
   "metadata": {},
   "source": [
    "# Use table to create dataset for training"
   ]
  },
  {
   "cell_type": "code",
   "execution_count": 8,
   "metadata": {
    "execution": {
     "iopub.execute_input": "2025-01-17T11:36:14.531994Z",
     "iopub.status.busy": "2025-01-17T11:36:14.531866Z",
     "iopub.status.idle": "2025-01-17T11:36:14.555527Z",
     "shell.execute_reply": "2025-01-17T11:36:14.554619Z"
    }
   },
   "outputs": [],
   "source": [
    "# fn = '../data/raw/summarise_simulation/2024_11_21_144918/tabulated_mutation_info.csv'\n",
    "# # fn = '../data/raw/summarise_simulation/2024_11_21_160955/tabulated_mutation_info.csv'\n",
    "# # fn = '../data/raw/summarise_simulation/2024_12_05_210221/tabulated_mutation_info.csv'\n",
    "# data = pd.read_csv(fn).iloc[:100]\n",
    "# len(data)"
   ]
  },
  {
   "cell_type": "code",
   "execution_count": 9,
   "metadata": {
    "execution": {
     "iopub.execute_input": "2025-01-17T11:36:14.557335Z",
     "iopub.status.busy": "2025-01-17T11:36:14.557117Z",
     "iopub.status.idle": "2025-01-17T13:03:42.291656Z",
     "shell.execute_reply": "2025-01-17T13:03:42.290862Z"
    }
   },
   "outputs": [
    {
     "name": "stderr",
     "output_type": "stream",
     "text": [
      "xla_bridge.py:backends():900: Unable to initialize backend 'rocm': NOT_FOUND: Could not find registered platform with name: \"rocm\". Available platform names are: CUDA INFO\n"
     ]
    },
    {
     "name": "stderr",
     "output_type": "stream",
     "text": [
      "xla_bridge.py:backends():900: Unable to initialize backend 'tpu': INTERNAL: Failed to open libtpu.so: libtpu.so: cannot open shared object file: No such file or directory INFO\n"
     ]
    },
    {
     "name": "stderr",
     "output_type": "stream",
     "text": [
      "train.py:train():160: Epoch 0 / 3000 -\t\t Train loss: 0.0850759968161583\tVal loss: 0.0551363080739975\tVal accuracy: 0.29670390486717224 INFO\n"
     ]
    },
    {
     "name": "stderr",
     "output_type": "stream",
     "text": [
      "train.py:train():160: Epoch 10 / 3000 -\t\t Train loss: 0.030824551358819008\tVal loss: 0.03185836225748062\tVal accuracy: 0.48193779587745667 INFO\n"
     ]
    },
    {
     "name": "stderr",
     "output_type": "stream",
     "text": [
      "train.py:train():160: Epoch 20 / 3000 -\t\t Train loss: 0.026893872767686844\tVal loss: 0.026539215818047523\tVal accuracy: 0.5126285552978516 INFO\n"
     ]
    },
    {
     "name": "stderr",
     "output_type": "stream",
     "text": [
      "train.py:train():160: Epoch 30 / 3000 -\t\t Train loss: 0.02632927894592285\tVal loss: 0.02641090378165245\tVal accuracy: 0.5097823143005371 INFO\n"
     ]
    },
    {
     "name": "stderr",
     "output_type": "stream",
     "text": [
      "train.py:train():160: Epoch 40 / 3000 -\t\t Train loss: 0.026056498289108276\tVal loss: 0.026679838076233864\tVal accuracy: 0.4996494650840759 INFO\n"
     ]
    },
    {
     "name": "stderr",
     "output_type": "stream",
     "text": [
      "train.py:train():160: Epoch 50 / 3000 -\t\t Train loss: 0.024763911962509155\tVal loss: 0.024495312944054604\tVal accuracy: 0.5364083051681519 INFO\n"
     ]
    },
    {
     "name": "stderr",
     "output_type": "stream",
     "text": [
      "train.py:train():160: Epoch 60 / 3000 -\t\t Train loss: 0.024756940081715584\tVal loss: 0.02728247083723545\tVal accuracy: 0.5234917998313904 INFO\n"
     ]
    },
    {
     "name": "stderr",
     "output_type": "stream",
     "text": [
      "train.py:train():160: Epoch 70 / 3000 -\t\t Train loss: 0.024635404348373413\tVal loss: 0.025970617309212685\tVal accuracy: 0.5195103883743286 INFO\n"
     ]
    },
    {
     "name": "stderr",
     "output_type": "stream",
     "text": [
      "train.py:train():160: Epoch 80 / 3000 -\t\t Train loss: 0.025537151843309402\tVal loss: 0.02437947876751423\tVal accuracy: 0.5128914713859558 INFO\n"
     ]
    },
    {
     "name": "stderr",
     "output_type": "stream",
     "text": [
      "train.py:train():160: Epoch 90 / 3000 -\t\t Train loss: 0.023353155702352524\tVal loss: 0.027000678703188896\tVal accuracy: 0.499979168176651 INFO\n"
     ]
    },
    {
     "name": "stderr",
     "output_type": "stream",
     "text": [
      "train.py:train():160: Epoch 100 / 3000 -\t\t Train loss: 0.026153337210416794\tVal loss: 0.02584678865969181\tVal accuracy: 0.5253280401229858 INFO\n"
     ]
    },
    {
     "name": "stderr",
     "output_type": "stream",
     "text": [
      "train.py:train():160: Epoch 110 / 3000 -\t\t Train loss: 0.024488624185323715\tVal loss: 0.02587718702852726\tVal accuracy: 0.5123739838600159 INFO\n"
     ]
    },
    {
     "name": "stdout",
     "output_type": "stream",
     "text": [
      "here\n"
     ]
    },
    {
     "name": "stderr",
     "output_type": "stream",
     "text": [
      "train.py:train():170: Early stopping triggered after 120 epochs:\n",
      "Train loss: nan\n",
      "Val loss: nan\n",
      "Val accuracy: 0.0\n",
      "Epochs no improvement: 43 WARNING\n"
     ]
    },
    {
     "name": "stdout",
     "output_type": "stream",
     "text": [
      "Training complete: 0:01:58.512380\n"
     ]
    },
    {
     "name": "stdout",
     "output_type": "stream",
     "text": [
      "Input contains NaN.\n"
     ]
    },
    {
     "name": "stderr",
     "output_type": "stream",
     "text": [
      "/tmp/ipykernel_3001434/1381821793.py:39: SettingWithCopyWarning: \n",
      "A value is trying to be set on a copy of a slice from a DataFrame\n",
      "\n",
      "See the caveats in the documentation: https://pandas.pydata.org/pandas-docs/stable/user_guide/indexing.html#returning-a-view-versus-a-copy\n",
      "  df_hpos_main.loc[i] = pd.Series(hpos) if type(\n"
     ]
    },
    {
     "name": "stderr",
     "output_type": "stream",
     "text": [
      "train.py:train():160: Epoch 0 / 3000 -\t\t Train loss: 0.08749235421419144\tVal loss: 0.06654199212789536\tVal accuracy: 0.29001402854919434 INFO\n"
     ]
    },
    {
     "name": "stderr",
     "output_type": "stream",
     "text": [
      "train.py:train():160: Epoch 10 / 3000 -\t\t Train loss: 0.019887074828147888\tVal loss: 0.019441241398453712\tVal accuracy: 0.5958366990089417 INFO\n"
     ]
    },
    {
     "name": "stderr",
     "output_type": "stream",
     "text": [
      "train.py:train():160: Epoch 20 / 3000 -\t\t Train loss: 0.014573533087968826\tVal loss: 0.014112775214016438\tVal accuracy: 0.6928628087043762 INFO\n"
     ]
    },
    {
     "name": "stderr",
     "output_type": "stream",
     "text": [
      "train.py:train():160: Epoch 30 / 3000 -\t\t Train loss: 0.01393155287951231\tVal loss: 0.014116065576672554\tVal accuracy: 0.6965687274932861 INFO\n"
     ]
    },
    {
     "name": "stderr",
     "output_type": "stream",
     "text": [
      "train.py:train():160: Epoch 40 / 3000 -\t\t Train loss: 0.013053805567324162\tVal loss: 0.012454534880816936\tVal accuracy: 0.7349926829338074 INFO\n"
     ]
    },
    {
     "name": "stderr",
     "output_type": "stream",
     "text": [
      "train.py:train():160: Epoch 50 / 3000 -\t\t Train loss: 0.01232040487229824\tVal loss: 0.012447250075638294\tVal accuracy: 0.7323718070983887 INFO\n"
     ]
    },
    {
     "name": "stderr",
     "output_type": "stream",
     "text": [
      "train.py:train():160: Epoch 60 / 3000 -\t\t Train loss: 0.012882931157946587\tVal loss: 0.013867043890058994\tVal accuracy: 0.7327641248703003 INFO\n"
     ]
    },
    {
     "name": "stderr",
     "output_type": "stream",
     "text": [
      "train.py:train():160: Epoch 70 / 3000 -\t\t Train loss: 0.012046359479427338\tVal loss: 0.012022786773741245\tVal accuracy: 0.7285323739051819 INFO\n"
     ]
    },
    {
     "name": "stderr",
     "output_type": "stream",
     "text": [
      "train.py:train():160: Epoch 80 / 3000 -\t\t Train loss: 0.011545265093445778\tVal loss: 0.011464874260127544\tVal accuracy: 0.7370125651359558 INFO\n"
     ]
    },
    {
     "name": "stderr",
     "output_type": "stream",
     "text": [
      "train.py:train():160: Epoch 90 / 3000 -\t\t Train loss: 0.011990079656243324\tVal loss: 0.012185773812234402\tVal accuracy: 0.7183118462562561 INFO\n"
     ]
    },
    {
     "name": "stderr",
     "output_type": "stream",
     "text": [
      "train.py:train():160: Epoch 100 / 3000 -\t\t Train loss: 0.011384786106646061\tVal loss: 0.011219451203942299\tVal accuracy: 0.7526835203170776 INFO\n"
     ]
    },
    {
     "name": "stderr",
     "output_type": "stream",
     "text": [
      "train.py:train():160: Epoch 110 / 3000 -\t\t Train loss: 0.011396667920053005\tVal loss: 0.010966936126351357\tVal accuracy: 0.7515107989311218 INFO\n"
     ]
    },
    {
     "name": "stdout",
     "output_type": "stream",
     "text": [
      "here\n"
     ]
    },
    {
     "name": "stderr",
     "output_type": "stream",
     "text": [
      "train.py:train():160: Epoch 120 / 3000 -\t\t Train loss: 0.011237602680921555\tVal loss: 0.011409493163228035\tVal accuracy: 0.7385650873184204 INFO\n"
     ]
    },
    {
     "name": "stderr",
     "output_type": "stream",
     "text": [
      "train.py:train():160: Epoch 130 / 3000 -\t\t Train loss: 0.01126150880008936\tVal loss: 0.011538632214069366\tVal accuracy: 0.7298928499221802 INFO\n"
     ]
    },
    {
     "name": "stderr",
     "output_type": "stream",
     "text": [
      "train.py:train():160: Epoch 140 / 3000 -\t\t Train loss: 0.011190642602741718\tVal loss: 0.0108479680493474\tVal accuracy: 0.754611611366272 INFO\n"
     ]
    },
    {
     "name": "stderr",
     "output_type": "stream",
     "text": [
      "train.py:train():160: Epoch 150 / 3000 -\t\t Train loss: 0.011669282801449299\tVal loss: 0.011737200431525707\tVal accuracy: 0.738694429397583 INFO\n"
     ]
    },
    {
     "name": "stderr",
     "output_type": "stream",
     "text": [
      "train.py:train():160: Epoch 160 / 3000 -\t\t Train loss: 0.011351600289344788\tVal loss: 0.011662068776786327\tVal accuracy: 0.734713077545166 INFO\n"
     ]
    },
    {
     "name": "stderr",
     "output_type": "stream",
     "text": [
      "train.py:train():160: Epoch 170 / 3000 -\t\t Train loss: 0.011631758883595467\tVal loss: 0.011680063791573048\tVal accuracy: 0.737308919429779 INFO\n"
     ]
    },
    {
     "name": "stderr",
     "output_type": "stream",
     "text": [
      "train.py:train():160: Epoch 180 / 3000 -\t\t Train loss: 0.01133568026125431\tVal loss: 0.01114053837954998\tVal accuracy: 0.7458726167678833 INFO\n"
     ]
    },
    {
     "name": "stderr",
     "output_type": "stream",
     "text": [
      "train.py:train():160: Epoch 190 / 3000 -\t\t Train loss: 0.011183070950210094\tVal loss: 0.011059002950787544\tVal accuracy: 0.7606921195983887 INFO\n"
     ]
    },
    {
     "name": "stderr",
     "output_type": "stream",
     "text": [
      "train.py:train():160: Epoch 200 / 3000 -\t\t Train loss: 0.010836245492100716\tVal loss: 0.010749720968306065\tVal accuracy: 0.7542234659194946 INFO\n"
     ]
    },
    {
     "name": "stderr",
     "output_type": "stream",
     "text": [
      "train.py:train():160: Epoch 210 / 3000 -\t\t Train loss: 0.01123771071434021\tVal loss: 0.01142920646816492\tVal accuracy: 0.7545906901359558 INFO\n"
     ]
    },
    {
     "name": "stderr",
     "output_type": "stream",
     "text": [
      "train.py:train():160: Epoch 220 / 3000 -\t\t Train loss: 0.010858866386115551\tVal loss: 0.0108598368242383\tVal accuracy: 0.7617730498313904 INFO\n"
     ]
    },
    {
     "name": "stderr",
     "output_type": "stream",
     "text": [
      "train.py:train():160: Epoch 230 / 3000 -\t\t Train loss: nan\tVal loss: nan\tVal accuracy: 0.0 INFO\n"
     ]
    },
    {
     "name": "stderr",
     "output_type": "stream",
     "text": [
      "train.py:train():170: Early stopping triggered after 231 epochs:\n",
      "Train loss: nan\n",
      "Val loss: nan\n",
      "Val accuracy: 0.0\n",
      "Epochs no improvement: 11 WARNING\n"
     ]
    },
    {
     "name": "stdout",
     "output_type": "stream",
     "text": [
      "Training complete: 0:03:47.948867\n"
     ]
    },
    {
     "name": "stdout",
     "output_type": "stream",
     "text": [
      "Input contains NaN.\n"
     ]
    },
    {
     "name": "stderr",
     "output_type": "stream",
     "text": [
      "/tmp/ipykernel_3001434/1381821793.py:39: SettingWithCopyWarning: \n",
      "A value is trying to be set on a copy of a slice from a DataFrame\n",
      "\n",
      "See the caveats in the documentation: https://pandas.pydata.org/pandas-docs/stable/user_guide/indexing.html#returning-a-view-versus-a-copy\n",
      "  df_hpos_main.loc[i] = pd.Series(hpos) if type(\n"
     ]
    },
    {
     "name": "stderr",
     "output_type": "stream",
     "text": [
      "train.py:train():160: Epoch 0 / 3000 -\t\t Train loss: 0.11706807464361191\tVal loss: 0.07098981738090515\tVal accuracy: 0.29777228832244873 INFO\n"
     ]
    },
    {
     "name": "stderr",
     "output_type": "stream",
     "text": [
      "train.py:train():160: Epoch 10 / 3000 -\t\t Train loss: 0.008409449830651283\tVal loss: 0.00800346303731203\tVal accuracy: 0.8777210712432861 INFO\n"
     ]
    },
    {
     "name": "stderr",
     "output_type": "stream",
     "text": [
      "train.py:train():160: Epoch 20 / 3000 -\t\t Train loss: 0.006179517135024071\tVal loss: 0.005894866771996021\tVal accuracy: 0.9242663979530334 INFO\n"
     ]
    },
    {
     "name": "stderr",
     "output_type": "stream",
     "text": [
      "train.py:train():160: Epoch 30 / 3000 -\t\t Train loss: 0.005633080378174782\tVal loss: 0.005577636882662773\tVal accuracy: 0.9357221722602844 INFO\n"
     ]
    },
    {
     "name": "stderr",
     "output_type": "stream",
     "text": [
      "train.py:train():160: Epoch 40 / 3000 -\t\t Train loss: 0.0053822654299438\tVal loss: 0.005203228443861008\tVal accuracy: 0.944294273853302 INFO\n"
     ]
    },
    {
     "name": "stderr",
     "output_type": "stream",
     "text": [
      "train.py:train():160: Epoch 50 / 3000 -\t\t Train loss: 0.005222848616540432\tVal loss: 0.005198845639824867\tVal accuracy: 0.9470319747924805 INFO\n"
     ]
    },
    {
     "name": "stderr",
     "output_type": "stream",
     "text": [
      "train.py:train():160: Epoch 60 / 3000 -\t\t Train loss: 0.005132758058607578\tVal loss: 0.005103668197989464\tVal accuracy: 0.9445363283157349 INFO\n"
     ]
    },
    {
     "name": "stderr",
     "output_type": "stream",
     "text": [
      "train.py:train():160: Epoch 70 / 3000 -\t\t Train loss: 0.005133011378347874\tVal loss: 0.005012793466448784\tVal accuracy: 0.9493564963340759 INFO\n"
     ]
    },
    {
     "name": "stderr",
     "output_type": "stream",
     "text": [
      "train.py:train():160: Epoch 80 / 3000 -\t\t Train loss: 0.005018562078475952\tVal loss: 0.00522515457123518\tVal accuracy: 0.9425330758094788 INFO\n"
     ]
    },
    {
     "name": "stderr",
     "output_type": "stream",
     "text": [
      "train.py:train():160: Epoch 90 / 3000 -\t\t Train loss: 0.004990752320736647\tVal loss: 0.0050319647416472435\tVal accuracy: 0.9493941068649292 INFO\n"
     ]
    },
    {
     "name": "stderr",
     "output_type": "stream",
     "text": [
      "train.py:train():160: Epoch 100 / 3000 -\t\t Train loss: 0.004959660116583109\tVal loss: 0.004954482428729534\tVal accuracy: 0.9508881568908691 INFO\n"
     ]
    },
    {
     "name": "stderr",
     "output_type": "stream",
     "text": [
      "train.py:train():160: Epoch 110 / 3000 -\t\t Train loss: 0.004983149003237486\tVal loss: 0.0050421301275491714\tVal accuracy: 0.9491353034973145 INFO\n"
     ]
    },
    {
     "name": "stdout",
     "output_type": "stream",
     "text": [
      "here\n"
     ]
    },
    {
     "name": "stderr",
     "output_type": "stream",
     "text": [
      "train.py:train():160: Epoch 120 / 3000 -\t\t Train loss: 0.0048675015568733215\tVal loss: 0.005010548047721386\tVal accuracy: 0.9479376077651978 INFO\n"
     ]
    },
    {
     "name": "stderr",
     "output_type": "stream",
     "text": [
      "train.py:train():160: Epoch 130 / 3000 -\t\t Train loss: 0.004856935702264309\tVal loss: 0.0050966753624379635\tVal accuracy: 0.9475619792938232 INFO\n"
     ]
    },
    {
     "name": "stderr",
     "output_type": "stream",
     "text": [
      "train.py:train():160: Epoch 140 / 3000 -\t\t Train loss: 0.004825890529900789\tVal loss: 0.004950075410306454\tVal accuracy: 0.9506753087043762 INFO\n"
     ]
    },
    {
     "name": "stderr",
     "output_type": "stream",
     "text": [
      "train.py:train():160: Epoch 150 / 3000 -\t\t Train loss: 0.004912031814455986\tVal loss: 0.004921775311231613\tVal accuracy: 0.9535966515541077 INFO\n"
     ]
    },
    {
     "name": "stderr",
     "output_type": "stream",
     "text": [
      "train.py:train():160: Epoch 160 / 3000 -\t\t Train loss: 0.00482336338609457\tVal loss: 0.00490723829716444\tVal accuracy: 0.9516143202781677 INFO\n"
     ]
    },
    {
     "name": "stderr",
     "output_type": "stream",
     "text": [
      "train.py:train():160: Epoch 170 / 3000 -\t\t Train loss: 0.004866127856075764\tVal loss: 0.0048737130127847195\tVal accuracy: 0.9546065926551819 INFO\n"
     ]
    },
    {
     "name": "stderr",
     "output_type": "stream",
     "text": [
      "train.py:train():160: Epoch 180 / 3000 -\t\t Train loss: 0.0048448145389556885\tVal loss: 0.004860324785113335\tVal accuracy: 0.9546650052070618 INFO\n"
     ]
    },
    {
     "name": "stderr",
     "output_type": "stream",
     "text": [
      "train.py:train():160: Epoch 190 / 3000 -\t\t Train loss: 0.0048586903139948845\tVal loss: 0.004774889908730984\tVal accuracy: 0.9565805792808533 INFO\n"
     ]
    },
    {
     "name": "stderr",
     "output_type": "stream",
     "text": [
      "train.py:train():160: Epoch 200 / 3000 -\t\t Train loss: 0.004856528248637915\tVal loss: 0.004812890663743019\tVal accuracy: 0.9542685151100159 INFO\n"
     ]
    },
    {
     "name": "stderr",
     "output_type": "stream",
     "text": [
      "train.py:train():160: Epoch 210 / 3000 -\t\t Train loss: 0.0048687998205423355\tVal loss: 0.004836534149944782\tVal accuracy: 0.9540473818778992 INFO\n"
     ]
    },
    {
     "name": "stderr",
     "output_type": "stream",
     "text": [
      "train.py:train():160: Epoch 220 / 3000 -\t\t Train loss: 0.004811988212168217\tVal loss: 0.004827581811696291\tVal accuracy: 0.9539096355438232 INFO\n"
     ]
    },
    {
     "name": "stderr",
     "output_type": "stream",
     "text": [
      "train.py:train():160: Epoch 230 / 3000 -\t\t Train loss: 0.00474956352263689\tVal loss: 0.004812434781342745\tVal accuracy: 0.9533921480178833 INFO\n"
     ]
    },
    {
     "name": "stderr",
     "output_type": "stream",
     "text": [
      "train.py:train():160: Epoch 240 / 3000 -\t\t Train loss: 0.004738704301416874\tVal loss: 0.0047685434110462666\tVal accuracy: 0.9563385248184204 INFO\n"
     ]
    },
    {
     "name": "stderr",
     "output_type": "stream",
     "text": [
      "train.py:train():160: Epoch 250 / 3000 -\t\t Train loss: 0.004746363032609224\tVal loss: 0.004766308702528477\tVal accuracy: 0.9561381936073303 INFO\n"
     ]
    },
    {
     "name": "stderr",
     "output_type": "stream",
     "text": [
      "train.py:train():160: Epoch 260 / 3000 -\t\t Train loss: 0.004739872179925442\tVal loss: 0.004789145663380623\tVal accuracy: 0.9535048007965088 INFO\n"
     ]
    },
    {
     "name": "stderr",
     "output_type": "stream",
     "text": [
      "train.py:train():160: Epoch 270 / 3000 -\t\t Train loss: 0.004890073090791702\tVal loss: 0.004856572486460209\tVal accuracy: 0.9526159167289734 INFO\n"
     ]
    },
    {
     "name": "stderr",
     "output_type": "stream",
     "text": [
      "train.py:train():160: Epoch 280 / 3000 -\t\t Train loss: 0.004873816389590502\tVal loss: 0.004845753312110901\tVal accuracy: 0.9523321390151978 INFO\n"
     ]
    },
    {
     "name": "stderr",
     "output_type": "stream",
     "text": [
      "train.py:train():160: Epoch 290 / 3000 -\t\t Train loss: 0.004803465213626623\tVal loss: 0.004956240765750408\tVal accuracy: 0.9505167007446289 INFO\n"
     ]
    },
    {
     "name": "stderr",
     "output_type": "stream",
     "text": [
      "train.py:train():160: Epoch 300 / 3000 -\t\t Train loss: 0.004860204644501209\tVal loss: 0.004809028003364801\tVal accuracy: 0.9554495811462402 INFO\n"
     ]
    },
    {
     "name": "stderr",
     "output_type": "stream",
     "text": [
      "train.py:train():160: Epoch 310 / 3000 -\t\t Train loss: 0.00479263998568058\tVal loss: 0.004839410074055195\tVal accuracy: 0.9551658034324646 INFO\n"
     ]
    },
    {
     "name": "stderr",
     "output_type": "stream",
     "text": [
      "train.py:train():160: Epoch 320 / 3000 -\t\t Train loss: 0.004809809848666191\tVal loss: 0.004900707397609949\tVal accuracy: 0.9550907015800476 INFO\n"
     ]
    },
    {
     "name": "stderr",
     "output_type": "stream",
     "text": [
      "train.py:train():160: Epoch 330 / 3000 -\t\t Train loss: 0.004690738394856453\tVal loss: 0.004719648044556379\tVal accuracy: 0.9553953409194946 INFO\n"
     ]
    },
    {
     "name": "stderr",
     "output_type": "stream",
     "text": [
      "train.py:train():160: Epoch 340 / 3000 -\t\t Train loss: 0.004710468463599682\tVal loss: 0.004740312695503235\tVal accuracy: 0.9572775363922119 INFO\n"
     ]
    },
    {
     "name": "stderr",
     "output_type": "stream",
     "text": [
      "train.py:train():160: Epoch 350 / 3000 -\t\t Train loss: 0.004751833621412516\tVal loss: 0.004709381610155106\tVal accuracy: 0.9569185972213745 INFO\n"
     ]
    },
    {
     "name": "stderr",
     "output_type": "stream",
     "text": [
      "train.py:train():160: Epoch 360 / 3000 -\t\t Train loss: 0.004725661128759384\tVal loss: 0.004671500064432621\tVal accuracy: 0.958834171295166 INFO\n"
     ]
    },
    {
     "name": "stderr",
     "output_type": "stream",
     "text": [
      "train.py:train():160: Epoch 370 / 3000 -\t\t Train loss: 0.004664881620556116\tVal loss: 0.004819683730602264\tVal accuracy: 0.9542643427848816 INFO\n"
     ]
    },
    {
     "name": "stderr",
     "output_type": "stream",
     "text": [
      "train.py:train():160: Epoch 380 / 3000 -\t\t Train loss: 0.004700684454292059\tVal loss: 0.004697499796748161\tVal accuracy: 0.9565305113792419 INFO\n"
     ]
    },
    {
     "name": "stderr",
     "output_type": "stream",
     "text": [
      "train.py:train():160: Epoch 390 / 3000 -\t\t Train loss: 0.0047864168882369995\tVal loss: 0.004795313347131014\tVal accuracy: 0.9547860622406006 INFO\n"
     ]
    },
    {
     "name": "stderr",
     "output_type": "stream",
     "text": [
      "train.py:train():160: Epoch 400 / 3000 -\t\t Train loss: 0.004646304063498974\tVal loss: 0.004731271415948868\tVal accuracy: 0.9561757445335388 INFO\n"
     ]
    },
    {
     "name": "stderr",
     "output_type": "stream",
     "text": [
      "train.py:train():170: Early stopping triggered after 405 epochs:\n",
      "Train loss: nan\n",
      "Val loss: nan\n",
      "Val accuracy: 0.0\n",
      "Epochs no improvement: 32 WARNING\n"
     ]
    },
    {
     "name": "stdout",
     "output_type": "stream",
     "text": [
      "Training complete: 0:07:08.833526\n"
     ]
    },
    {
     "name": "stdout",
     "output_type": "stream",
     "text": [
      "Input contains NaN.\n"
     ]
    },
    {
     "name": "stderr",
     "output_type": "stream",
     "text": [
      "train.py:train():160: Epoch 0 / 3000 -\t\t Train loss: 0.13537919521331787\tVal loss: 0.0879412367939949\tVal accuracy: 0.3212014436721802 INFO\n"
     ]
    },
    {
     "name": "stderr",
     "output_type": "stream",
     "text": [
      "train.py:train():160: Epoch 10 / 3000 -\t\t Train loss: 0.009016522206366062\tVal loss: 0.009127588011324406\tVal accuracy: 0.8356579542160034 INFO\n"
     ]
    },
    {
     "name": "stderr",
     "output_type": "stream",
     "text": [
      "train.py:train():160: Epoch 20 / 3000 -\t\t Train loss: 0.006010875105857849\tVal loss: 0.005892908200621605\tVal accuracy: 0.923143744468689 INFO\n"
     ]
    },
    {
     "name": "stderr",
     "output_type": "stream",
     "text": [
      "train.py:train():160: Epoch 30 / 3000 -\t\t Train loss: 0.005841643083840609\tVal loss: 0.006029689684510231\tVal accuracy: 0.9170882105827332 INFO\n"
     ]
    },
    {
     "name": "stderr",
     "output_type": "stream",
     "text": [
      "train.py:train():160: Epoch 40 / 3000 -\t\t Train loss: 0.005488369148224592\tVal loss: 0.00575048103928566\tVal accuracy: 0.9250175952911377 INFO\n"
     ]
    },
    {
     "name": "stderr",
     "output_type": "stream",
     "text": [
      "train.py:train():160: Epoch 50 / 3000 -\t\t Train loss: 0.005542340222746134\tVal loss: 0.00538099929690361\tVal accuracy: 0.9398287534713745 INFO\n"
     ]
    },
    {
     "name": "stderr",
     "output_type": "stream",
     "text": [
      "train.py:train():160: Epoch 60 / 3000 -\t\t Train loss: 0.005342567805200815\tVal loss: 0.005317952483892441\tVal accuracy: 0.9396451711654663 INFO\n"
     ]
    },
    {
     "name": "stderr",
     "output_type": "stream",
     "text": [
      "train.py:train():160: Epoch 70 / 3000 -\t\t Train loss: 0.0053078411146998405\tVal loss: 0.005504224915057421\tVal accuracy: 0.9351754784584045 INFO\n"
     ]
    },
    {
     "name": "stderr",
     "output_type": "stream",
     "text": [
      "train.py:train():160: Epoch 80 / 3000 -\t\t Train loss: 0.005127186421304941\tVal loss: 0.005245190113782883\tVal accuracy: 0.9462097883224487 INFO\n"
     ]
    },
    {
     "name": "stderr",
     "output_type": "stream",
     "text": [
      "train.py:train():160: Epoch 90 / 3000 -\t\t Train loss: 0.005160710774362087\tVal loss: 0.0051513491198420525\tVal accuracy: 0.9420155882835388 INFO\n"
     ]
    },
    {
     "name": "stderr",
     "output_type": "stream",
     "text": [
      "train.py:train():160: Epoch 100 / 3000 -\t\t Train loss: 0.005211543291807175\tVal loss: 0.005114439874887466\tVal accuracy: 0.9479166865348816 INFO\n"
     ]
    },
    {
     "name": "stderr",
     "output_type": "stream",
     "text": [
      "train.py:train():160: Epoch 110 / 3000 -\t\t Train loss: 0.005011065397411585\tVal loss: 0.005042412783950567\tVal accuracy: 0.9484425783157349 INFO\n"
     ]
    },
    {
     "name": "stdout",
     "output_type": "stream",
     "text": [
      "here\n"
     ]
    },
    {
     "name": "stderr",
     "output_type": "stream",
     "text": [
      "train.py:train():160: Epoch 120 / 3000 -\t\t Train loss: 0.005093028768897057\tVal loss: 0.005229216068983078\tVal accuracy: 0.9430631399154663 INFO\n"
     ]
    },
    {
     "name": "stderr",
     "output_type": "stream",
     "text": [
      "train.py:train():160: Epoch 130 / 3000 -\t\t Train loss: 0.005139932502061129\tVal loss: 0.005077267996966839\tVal accuracy: 0.9481378793716431 INFO\n"
     ]
    },
    {
     "name": "stderr",
     "output_type": "stream",
     "text": [
      "train.py:train():160: Epoch 140 / 3000 -\t\t Train loss: 0.00530557194724679\tVal loss: 0.005203883163630962\tVal accuracy: 0.9436390399932861 INFO\n"
     ]
    },
    {
     "name": "stderr",
     "output_type": "stream",
     "text": [
      "train.py:train():160: Epoch 150 / 3000 -\t\t Train loss: 0.005243554711341858\tVal loss: 0.005334239453077316\tVal accuracy: 0.9392945766448975 INFO\n"
     ]
    },
    {
     "name": "stderr",
     "output_type": "stream",
     "text": [
      "train.py:train():160: Epoch 160 / 3000 -\t\t Train loss: 0.005155010614544153\tVal loss: 0.005157356150448322\tVal accuracy: 0.9454460740089417 INFO\n"
     ]
    },
    {
     "name": "stderr",
     "output_type": "stream",
     "text": [
      "train.py:train():160: Epoch 170 / 3000 -\t\t Train loss: 0.005350657273083925\tVal loss: 0.005311423912644386\tVal accuracy: 0.9402836561203003 INFO\n"
     ]
    },
    {
     "name": "stderr",
     "output_type": "stream",
     "text": [
      "train.py:train():160: Epoch 180 / 3000 -\t\t Train loss: 0.005330757237970829\tVal loss: 0.0052725584246218204\tVal accuracy: 0.9385642409324646 INFO\n"
     ]
    },
    {
     "name": "stderr",
     "output_type": "stream",
     "text": [
      "train.py:train():160: Epoch 190 / 3000 -\t\t Train loss: 0.005244093481451273\tVal loss: 0.005345026031136513\tVal accuracy: 0.9355344176292419 INFO\n"
     ]
    },
    {
     "name": "stderr",
     "output_type": "stream",
     "text": [
      "train.py:train():160: Epoch 200 / 3000 -\t\t Train loss: 0.005145857110619545\tVal loss: 0.005081651266664267\tVal accuracy: 0.9419404864311218 INFO\n"
     ]
    },
    {
     "name": "stderr",
     "output_type": "stream",
     "text": [
      "train.py:train():160: Epoch 210 / 3000 -\t\t Train loss: 0.005254482384771109\tVal loss: 0.005120744463056326\tVal accuracy: 0.9439019560813904 INFO\n"
     ]
    },
    {
     "name": "stderr",
     "output_type": "stream",
     "text": [
      "train.py:train():160: Epoch 220 / 3000 -\t\t Train loss: 0.005614214576780796\tVal loss: 0.0055060056038200855\tVal accuracy: 0.9365318417549133 INFO\n"
     ]
    },
    {
     "name": "stderr",
     "output_type": "stream",
     "text": [
      "train.py:train():160: Epoch 230 / 3000 -\t\t Train loss: 0.006004820112138987\tVal loss: 0.006308015435934067\tVal accuracy: 0.9115251302719116 INFO\n"
     ]
    },
    {
     "name": "stderr",
     "output_type": "stream",
     "text": [
      "train.py:train():160: Epoch 240 / 3000 -\t\t Train loss: 0.005383531097322702\tVal loss: 0.005303489975631237\tVal accuracy: 0.9383013248443604 INFO\n"
     ]
    },
    {
     "name": "stderr",
     "output_type": "stream",
     "text": [
      "train.py:train():170: Early stopping triggered after 250 epochs:\n",
      "Train loss: nan\n",
      "Val loss: nan\n",
      "Val accuracy: 0.0\n",
      "Epochs no improvement: 140 WARNING\n"
     ]
    },
    {
     "name": "stdout",
     "output_type": "stream",
     "text": [
      "Training complete: 0:04:33.175842\n"
     ]
    },
    {
     "name": "stdout",
     "output_type": "stream",
     "text": [
      "Input contains NaN.\n"
     ]
    },
    {
     "name": "stderr",
     "output_type": "stream",
     "text": [
      "train.py:train():160: Epoch 0 / 3000 -\t\t Train loss: 0.10724828392267227\tVal loss: 0.07167403399944305\tVal accuracy: 0.306335985660553 INFO\n"
     ]
    },
    {
     "name": "stderr",
     "output_type": "stream",
     "text": [
      "train.py:train():160: Epoch 10 / 3000 -\t\t Train loss: 0.0068930708803236485\tVal loss: 0.00706971250474453\tVal accuracy: 0.8975611329078674 INFO\n"
     ]
    },
    {
     "name": "stderr",
     "output_type": "stream",
     "text": [
      "train.py:train():160: Epoch 20 / 3000 -\t\t Train loss: 0.005796271376311779\tVal loss: 0.005673883482813835\tVal accuracy: 0.9318994283676147 INFO\n"
     ]
    },
    {
     "name": "stderr",
     "output_type": "stream",
     "text": [
      "train.py:train():160: Epoch 30 / 3000 -\t\t Train loss: 0.005509351380169392\tVal loss: 0.005617544986307621\tVal accuracy: 0.9294580221176147 INFO\n"
     ]
    },
    {
     "name": "stderr",
     "output_type": "stream",
     "text": [
      "train.py:train():160: Epoch 40 / 3000 -\t\t Train loss: 0.005402301903814077\tVal loss: 0.0055354004725813866\tVal accuracy: 0.9341530203819275 INFO\n"
     ]
    },
    {
     "name": "stderr",
     "output_type": "stream",
     "text": [
      "train.py:train():160: Epoch 50 / 3000 -\t\t Train loss: 0.005210621748119593\tVal loss: 0.0056404974311590195\tVal accuracy: 0.9293119311332703 INFO\n"
     ]
    },
    {
     "name": "stderr",
     "output_type": "stream",
     "text": [
      "train.py:train():160: Epoch 60 / 3000 -\t\t Train loss: 0.005170851014554501\tVal loss: 0.005251441150903702\tVal accuracy: 0.941898763179779 INFO\n"
     ]
    },
    {
     "name": "stderr",
     "output_type": "stream",
     "text": [
      "train.py:train():160: Epoch 70 / 3000 -\t\t Train loss: 0.005210431758314371\tVal loss: 0.005493782460689545\tVal accuracy: 0.9317616820335388 INFO\n"
     ]
    },
    {
     "name": "stderr",
     "output_type": "stream",
     "text": [
      "train.py:train():160: Epoch 80 / 3000 -\t\t Train loss: 0.0050597405061125755\tVal loss: 0.005134000442922115\tVal accuracy: 0.9444820284843445 INFO\n"
     ]
    },
    {
     "name": "stderr",
     "output_type": "stream",
     "text": [
      "train.py:train():160: Epoch 90 / 3000 -\t\t Train loss: 0.005058313719928265\tVal loss: 0.005000609438866377\tVal accuracy: 0.9499783515930176 INFO\n"
     ]
    },
    {
     "name": "stderr",
     "output_type": "stream",
     "text": [
      "train.py:train():160: Epoch 100 / 3000 -\t\t Train loss: 0.004913825076073408\tVal loss: 0.004921747371554375\tVal accuracy: 0.9517186284065247 INFO\n"
     ]
    },
    {
     "name": "stderr",
     "output_type": "stream",
     "text": [
      "train.py:train():160: Epoch 110 / 3000 -\t\t Train loss: 0.004889160860329866\tVal loss: 0.0048489621840417385\tVal accuracy: 0.954210102558136 INFO\n"
     ]
    },
    {
     "name": "stdout",
     "output_type": "stream",
     "text": [
      "here\n"
     ]
    },
    {
     "name": "stderr",
     "output_type": "stream",
     "text": [
      "train.py:train():160: Epoch 120 / 3000 -\t\t Train loss: 0.0049295574426651\tVal loss: 0.004876065067946911\tVal accuracy: 0.954468846321106 INFO\n"
     ]
    },
    {
     "name": "stderr",
     "output_type": "stream",
     "text": [
      "train.py:train():160: Epoch 130 / 3000 -\t\t Train loss: 0.004871411249041557\tVal loss: 0.004928703885525465\tVal accuracy: 0.9498823881149292 INFO\n"
     ]
    },
    {
     "name": "stderr",
     "output_type": "stream",
     "text": [
      "train.py:train():160: Epoch 140 / 3000 -\t\t Train loss: 0.004972503986209631\tVal loss: 0.004916888661682606\tVal accuracy: 0.9527577757835388 INFO\n"
     ]
    },
    {
     "name": "stderr",
     "output_type": "stream",
     "text": [
      "train.py:train():160: Epoch 150 / 3000 -\t\t Train loss: 0.004868896212428808\tVal loss: 0.0048682801425457\tVal accuracy: 0.9545523524284363 INFO\n"
     ]
    },
    {
     "name": "stderr",
     "output_type": "stream",
     "text": [
      "train.py:train():160: Epoch 160 / 3000 -\t\t Train loss: 0.006952823139727116\tVal loss: 0.006726237945258617\tVal accuracy: 0.9054070115089417 INFO\n"
     ]
    },
    {
     "name": "stderr",
     "output_type": "stream",
     "text": [
      "train.py:train():160: Epoch 170 / 3000 -\t\t Train loss: 0.0056385681964457035\tVal loss: 0.005557681899517775\tVal accuracy: 0.9312400221824646 INFO\n"
     ]
    },
    {
     "name": "stderr",
     "output_type": "stream",
     "text": [
      "train.py:train():160: Epoch 180 / 3000 -\t\t Train loss: 0.005380141083151102\tVal loss: 0.005566023290157318\tVal accuracy: 0.9303051829338074 INFO\n"
     ]
    },
    {
     "name": "stderr",
     "output_type": "stream",
     "text": [
      "train.py:train():160: Epoch 190 / 3000 -\t\t Train loss: 0.0055318186059594154\tVal loss: 0.005350525490939617\tVal accuracy: 0.9372371435165405 INFO\n"
     ]
    },
    {
     "name": "stderr",
     "output_type": "stream",
     "text": [
      "train.py:train():160: Epoch 200 / 3000 -\t\t Train loss: 0.0053984858095645905\tVal loss: 0.005495117045938969\tVal accuracy: 0.9350836873054504 INFO\n"
     ]
    },
    {
     "name": "stderr",
     "output_type": "stream",
     "text": [
      "train.py:train():160: Epoch 210 / 3000 -\t\t Train loss: 0.0053852153941988945\tVal loss: 0.005357774440199137\tVal accuracy: 0.9348666667938232 INFO\n"
     ]
    },
    {
     "name": "stderr",
     "output_type": "stream",
     "text": [
      "train.py:train():160: Epoch 220 / 3000 -\t\t Train loss: 0.008310090750455856\tVal loss: 0.0067900074645876884\tVal accuracy: 0.9130150079727173 INFO\n"
     ]
    },
    {
     "name": "stderr",
     "output_type": "stream",
     "text": [
      "train.py:train():160: Epoch 230 / 3000 -\t\t Train loss: 0.011528447270393372\tVal loss: 0.010992760770022869\tVal accuracy: 0.7924888730049133 INFO\n"
     ]
    },
    {
     "name": "stderr",
     "output_type": "stream",
     "text": [
      "train.py:train():160: Epoch 240 / 3000 -\t\t Train loss: 0.009109681472182274\tVal loss: 0.00930321030318737\tVal accuracy: 0.8215019702911377 INFO\n"
     ]
    },
    {
     "name": "stderr",
     "output_type": "stream",
     "text": [
      "train.py:train():160: Epoch 250 / 3000 -\t\t Train loss: 0.008708740584552288\tVal loss: 0.008593055419623852\tVal accuracy: 0.8364216685295105 INFO\n"
     ]
    },
    {
     "name": "stderr",
     "output_type": "stream",
     "text": [
      "train.py:train():160: Epoch 260 / 3000 -\t\t Train loss: 0.008275502361357212\tVal loss: 0.008305884897708893\tVal accuracy: 0.8372855186462402 INFO\n"
     ]
    },
    {
     "name": "stderr",
     "output_type": "stream",
     "text": [
      "train.py:train():160: Epoch 270 / 3000 -\t\t Train loss: 0.008029462769627571\tVal loss: 0.00801277719438076\tVal accuracy: 0.8437166810035706 INFO\n"
     ]
    },
    {
     "name": "stderr",
     "output_type": "stream",
     "text": [
      "train.py:train():160: Epoch 280 / 3000 -\t\t Train loss: 0.007873385213315487\tVal loss: 0.007883814163506031\tVal accuracy: 0.8478566408157349 INFO\n"
     ]
    },
    {
     "name": "stderr",
     "output_type": "stream",
     "text": [
      "train.py:train():160: Epoch 290 / 3000 -\t\t Train loss: 0.009013100527226925\tVal loss: 0.008886813186109066\tVal accuracy: 0.8258129954338074 INFO\n"
     ]
    },
    {
     "name": "stderr",
     "output_type": "stream",
     "text": [
      "train.py:train():160: Epoch 300 / 3000 -\t\t Train loss: 0.008506249636411667\tVal loss: 0.008449817076325417\tVal accuracy: 0.8342974185943604 INFO\n"
     ]
    },
    {
     "name": "stderr",
     "output_type": "stream",
     "text": [
      "train.py:train():160: Epoch 310 / 3000 -\t\t Train loss: 1.597307801246643\tVal loss: 0.1036326065659523\tVal accuracy: 0.34003573656082153 INFO\n"
     ]
    },
    {
     "name": "stderr",
     "output_type": "stream",
     "text": [
      "train.py:train():170: Early stopping triggered after 313 epochs:\n",
      "Train loss: nan\n",
      "Val loss: nan\n",
      "Val accuracy: 0.0\n",
      "Epochs no improvement: 160 WARNING\n"
     ]
    },
    {
     "name": "stdout",
     "output_type": "stream",
     "text": [
      "Training complete: 0:05:33.519939\n"
     ]
    },
    {
     "name": "stdout",
     "output_type": "stream",
     "text": [
      "Input contains NaN.\n"
     ]
    },
    {
     "name": "stderr",
     "output_type": "stream",
     "text": [
      "/tmp/ipykernel_3001434/1381821793.py:39: SettingWithCopyWarning: \n",
      "A value is trying to be set on a copy of a slice from a DataFrame\n",
      "\n",
      "See the caveats in the documentation: https://pandas.pydata.org/pandas-docs/stable/user_guide/indexing.html#returning-a-view-versus-a-copy\n",
      "  df_hpos_main.loc[i] = pd.Series(hpos) if type(\n"
     ]
    },
    {
     "name": "stderr",
     "output_type": "stream",
     "text": [
      "train.py:train():160: Epoch 0 / 3000 -\t\t Train loss: 0.17571543157100677\tVal loss: 0.1129876971244812\tVal accuracy: 0.34092047810554504 INFO\n"
     ]
    },
    {
     "name": "stderr",
     "output_type": "stream",
     "text": [
      "train.py:train():170: Early stopping triggered after 10 epochs:\n",
      "Train loss: 0.004082746338099241\n",
      "Val loss: 0.004196029156446457\n",
      "Val accuracy: 0.9953426122665405\n",
      "Epochs no improvement: 0 WARNING\n"
     ]
    },
    {
     "name": "stdout",
     "output_type": "stream",
     "text": [
      "Training complete: 0:00:10.677604\n"
     ]
    },
    {
     "name": "stdout",
     "output_type": "stream",
     "text": [
      "Warning: not using the test data for evaluation, but the training data instead of ../data/raw/summarise_simulation/2024_11_21_160955/tabulated_mutation_info.csv\n"
     ]
    },
    {
     "name": "stdout",
     "output_type": "stream",
     "text": [
      "The R2 score is  0.9808192253112793\n",
      "The R2 score with weighted variance is  0.9808192849159241\n"
     ]
    },
    {
     "name": "stderr",
     "output_type": "stream",
     "text": [
      "2025-01-17 12:01:42.534527: W external/xla/xla/service/hlo_rematerialization.cc:3005] Can't reduce memory use below 10.90GiB (11699206430 bytes) by rematerialization; only reduced to 11.18GiB (12000000016 bytes), down from 11.18GiB (12000000016 bytes) originally\n"
     ]
    },
    {
     "name": "stdout",
     "output_type": "stream",
     "text": [
      "Steady states found. Now calculating signal response\n"
     ]
    },
    {
     "name": "stdout",
     "output_type": "stream",
     "text": [
      "data/03_cvae_multi/2025_01_17__11_36_14/cvae_scan/hpo_21\n"
     ]
    },
    {
     "name": "stderr",
     "output_type": "stream",
     "text": [
      "train.py:train():160: Epoch 0 / 3000 -\t\t Train loss: 0.1380673050880432\tVal loss: 0.11349985748529434\tVal accuracy: 0.33710604906082153 INFO\n"
     ]
    },
    {
     "name": "stderr",
     "output_type": "stream",
     "text": [
      "train.py:train():160: Epoch 10 / 3000 -\t\t Train loss: 0.0040001943707466125\tVal loss: 0.0041495016776025295\tVal accuracy: 0.994019627571106 INFO\n"
     ]
    },
    {
     "name": "stderr",
     "output_type": "stream",
     "text": [
      "train.py:train():160: Epoch 20 / 3000 -\t\t Train loss: 0.003794180229306221\tVal loss: 0.004659321159124374\tVal accuracy: 0.9686623811721802 INFO\n"
     ]
    },
    {
     "name": "stderr",
     "output_type": "stream",
     "text": [
      "train.py:train():160: Epoch 30 / 3000 -\t\t Train loss: 0.003603501943871379\tVal loss: 0.0043223146349191666\tVal accuracy: 0.9763872623443604 INFO\n"
     ]
    },
    {
     "name": "stderr",
     "output_type": "stream",
     "text": [
      "train.py:train():160: Epoch 40 / 3000 -\t\t Train loss: 0.0035358290188014507\tVal loss: 0.00401744619011879\tVal accuracy: 0.9875801801681519 INFO\n"
     ]
    },
    {
     "name": "stderr",
     "output_type": "stream",
     "text": [
      "train.py:train():160: Epoch 50 / 3000 -\t\t Train loss: 0.0035482998937368393\tVal loss: 0.003948185592889786\tVal accuracy: 0.9884398579597473 INFO\n"
     ]
    },
    {
     "name": "stderr",
     "output_type": "stream",
     "text": [
      "train.py:train():160: Epoch 60 / 3000 -\t\t Train loss: 0.0034587979316711426\tVal loss: 0.0041933124884963036\tVal accuracy: 0.9771426320075989 INFO\n"
     ]
    },
    {
     "name": "stderr",
     "output_type": "stream",
     "text": [
      "train.py:train():160: Epoch 70 / 3000 -\t\t Train loss: 0.0034547082614153624\tVal loss: 0.0038361717015504837\tVal accuracy: 0.9880017042160034 INFO\n"
     ]
    },
    {
     "name": "stderr",
     "output_type": "stream",
     "text": [
      "train.py:train():160: Epoch 80 / 3000 -\t\t Train loss: 0.00351143185980618\tVal loss: 0.0037697385996580124\tVal accuracy: 0.9916074275970459 INFO\n"
     ]
    },
    {
     "name": "stderr",
     "output_type": "stream",
     "text": [
      "train.py:train():160: Epoch 90 / 3000 -\t\t Train loss: 0.0034575455356389284\tVal loss: 0.003895445726811886\tVal accuracy: 0.9885525703430176 INFO\n"
     ]
    },
    {
     "name": "stderr",
     "output_type": "stream",
     "text": [
      "train.py:train():160: Epoch 100 / 3000 -\t\t Train loss: 0.0034812192898243666\tVal loss: 0.0038679647259414196\tVal accuracy: 0.9886735677719116 INFO\n"
     ]
    },
    {
     "name": "stderr",
     "output_type": "stream",
     "text": [
      "train.py:train():160: Epoch 110 / 3000 -\t\t Train loss: 0.003493734635412693\tVal loss: 0.004166269674897194\tVal accuracy: 0.9868748784065247 INFO\n"
     ]
    },
    {
     "name": "stderr",
     "output_type": "stream",
     "text": [
      "train.py:train():170: Early stopping triggered after 117 epochs:\n",
      "Train loss: 0.0035530701279640198\n",
      "Val loss: 0.003676528576761484\n",
      "Val accuracy: 0.9954302310943604\n",
      "Epochs no improvement: 0 WARNING\n"
     ]
    },
    {
     "name": "stdout",
     "output_type": "stream",
     "text": [
      "Training complete: 0:02:04.625980\n"
     ]
    },
    {
     "name": "stdout",
     "output_type": "stream",
     "text": [
      "Warning: not using the test data for evaluation, but the training data instead of ../data/raw/summarise_simulation/2024_11_21_160955/tabulated_mutation_info.csv\n"
     ]
    },
    {
     "name": "stdout",
     "output_type": "stream",
     "text": [
      "The R2 score is  0.9825236797332764\n",
      "The R2 score with weighted variance is  0.9825236201286316\n"
     ]
    },
    {
     "name": "stdout",
     "output_type": "stream",
     "text": [
      "Steady states found. Now calculating signal response\n"
     ]
    },
    {
     "name": "stdout",
     "output_type": "stream",
     "text": [
      "data/03_cvae_multi/2025_01_17__11_36_14/cvae_scan/hpo_22\n"
     ]
    },
    {
     "name": "stderr",
     "output_type": "stream",
     "text": [
      "/tmp/ipykernel_3001434/1381821793.py:39: SettingWithCopyWarning: \n",
      "A value is trying to be set on a copy of a slice from a DataFrame\n",
      "\n",
      "See the caveats in the documentation: https://pandas.pydata.org/pandas-docs/stable/user_guide/indexing.html#returning-a-view-versus-a-copy\n",
      "  df_hpos_main.loc[i] = pd.Series(hpos) if type(\n"
     ]
    },
    {
     "name": "stderr",
     "output_type": "stream",
     "text": [
      "train.py:train():160: Epoch 0 / 3000 -\t\t Train loss: 0.13408082723617554\tVal loss: 0.11927305161952972\tVal accuracy: 0.3394222557544708 INFO\n"
     ]
    },
    {
     "name": "stderr",
     "output_type": "stream",
     "text": [
      "train.py:train():160: Epoch 10 / 3000 -\t\t Train loss: 0.00389990140683949\tVal loss: 0.004559888504445553\tVal accuracy: 0.978319525718689 INFO\n"
     ]
    },
    {
     "name": "stderr",
     "output_type": "stream",
     "text": [
      "train.py:train():160: Epoch 20 / 3000 -\t\t Train loss: 0.003746087895706296\tVal loss: 0.004624310880899429\tVal accuracy: 0.9678277373313904 INFO\n"
     ]
    },
    {
     "name": "stderr",
     "output_type": "stream",
     "text": [
      "train.py:train():160: Epoch 30 / 3000 -\t\t Train loss: 0.0036328095011413097\tVal loss: 0.00463711516931653\tVal accuracy: 0.9628406167030334 INFO\n"
     ]
    },
    {
     "name": "stderr",
     "output_type": "stream",
     "text": [
      "train.py:train():160: Epoch 40 / 3000 -\t\t Train loss: 0.003513664472848177\tVal loss: 0.0042099482379853725\tVal accuracy: 0.9785448908805847 INFO\n"
     ]
    },
    {
     "name": "stderr",
     "output_type": "stream",
     "text": [
      "train.py:train():160: Epoch 50 / 3000 -\t\t Train loss: 0.003514759475365281\tVal loss: 0.004147158470004797\tVal accuracy: 0.9813786149024963 INFO\n"
     ]
    },
    {
     "name": "stderr",
     "output_type": "stream",
     "text": [
      "train.py:train():160: Epoch 60 / 3000 -\t\t Train loss: 0.003517650766298175\tVal loss: 0.00419694883748889\tVal accuracy: 0.977906346321106 INFO\n"
     ]
    },
    {
     "name": "stderr",
     "output_type": "stream",
     "text": [
      "train.py:train():160: Epoch 70 / 3000 -\t\t Train loss: 0.0035012809094041586\tVal loss: 0.004083023406565189\tVal accuracy: 0.982271671295166 INFO\n"
     ]
    },
    {
     "name": "stderr",
     "output_type": "stream",
     "text": [
      "train.py:train():160: Epoch 80 / 3000 -\t\t Train loss: 0.003482018830254674\tVal loss: 0.004643978551030159\tVal accuracy: 0.985689640045166 INFO\n"
     ]
    },
    {
     "name": "stderr",
     "output_type": "stream",
     "text": [
      "train.py:train():160: Epoch 90 / 3000 -\t\t Train loss: 0.003543967381119728\tVal loss: 0.0038068098947405815\tVal accuracy: 0.991778552532196 INFO\n"
     ]
    },
    {
     "name": "stderr",
     "output_type": "stream",
     "text": [
      "train.py:train():170: Early stopping triggered after 95 epochs:\n",
      "Train loss: 0.003734643803909421\n",
      "Val loss: 0.00391331035643816\n",
      "Val accuracy: 0.9963024854660034\n",
      "Epochs no improvement: 4 WARNING\n"
     ]
    },
    {
     "name": "stdout",
     "output_type": "stream",
     "text": [
      "Training complete: 0:01:38.213775\n"
     ]
    },
    {
     "name": "stdout",
     "output_type": "stream",
     "text": [
      "Warning: not using the test data for evaluation, but the training data instead of ../data/raw/summarise_simulation/2024_11_21_160955/tabulated_mutation_info.csv\n"
     ]
    },
    {
     "name": "stdout",
     "output_type": "stream",
     "text": [
      "The R2 score is  0.9817101955413818\n",
      "The R2 score with weighted variance is  0.9817101359367371\n"
     ]
    },
    {
     "name": "stdout",
     "output_type": "stream",
     "text": [
      "Steady states found. Now calculating signal response\n"
     ]
    },
    {
     "name": "stdout",
     "output_type": "stream",
     "text": [
      "data/03_cvae_multi/2025_01_17__11_36_14/cvae_scan/hpo_23\n"
     ]
    },
    {
     "name": "stderr",
     "output_type": "stream",
     "text": [
      "/tmp/ipykernel_3001434/1381821793.py:39: SettingWithCopyWarning: \n",
      "A value is trying to be set on a copy of a slice from a DataFrame\n",
      "\n",
      "See the caveats in the documentation: https://pandas.pydata.org/pandas-docs/stable/user_guide/indexing.html#returning-a-view-versus-a-copy\n",
      "  df_hpos_main.loc[i] = pd.Series(hpos) if type(\n"
     ]
    },
    {
     "name": "stderr",
     "output_type": "stream",
     "text": [
      "train.py:train():160: Epoch 0 / 3000 -\t\t Train loss: 0.12967747449874878\tVal loss: 0.11162522435188293\tVal accuracy: 0.3463208079338074 INFO\n"
     ]
    },
    {
     "name": "stderr",
     "output_type": "stream",
     "text": [
      "train.py:train():160: Epoch 10 / 3000 -\t\t Train loss: 0.0039039545226842165\tVal loss: 0.004271490033715963\tVal accuracy: 0.9872671961784363 INFO\n"
     ]
    },
    {
     "name": "stderr",
     "output_type": "stream",
     "text": [
      "train.py:train():160: Epoch 20 / 3000 -\t\t Train loss: 0.0037331029307097197\tVal loss: 0.004684583283960819\tVal accuracy: 0.9682409167289734 INFO\n"
     ]
    },
    {
     "name": "stderr",
     "output_type": "stream",
     "text": [
      "train.py:train():160: Epoch 30 / 3000 -\t\t Train loss: 0.003532147966325283\tVal loss: 0.0044520581141114235\tVal accuracy: 0.9673269391059875 INFO\n"
     ]
    },
    {
     "name": "stderr",
     "output_type": "stream",
     "text": [
      "train.py:train():160: Epoch 40 / 3000 -\t\t Train loss: 0.003492612624540925\tVal loss: 0.004209446720778942\tVal accuracy: 0.9814286828041077 INFO\n"
     ]
    },
    {
     "name": "stderr",
     "output_type": "stream",
     "text": [
      "train.py:train():160: Epoch 50 / 3000 -\t\t Train loss: 0.003525275969877839\tVal loss: 0.004174063913524151\tVal accuracy: 0.9802559614181519 INFO\n"
     ]
    },
    {
     "name": "stderr",
     "output_type": "stream",
     "text": [
      "train.py:train():160: Epoch 60 / 3000 -\t\t Train loss: 0.003417516127228737\tVal loss: 0.0040564569644629955\tVal accuracy: 0.9803769588470459 INFO\n"
     ]
    },
    {
     "name": "stderr",
     "output_type": "stream",
     "text": [
      "train.py:train():160: Epoch 70 / 3000 -\t\t Train loss: 0.0034587860573083162\tVal loss: 0.004181588534265757\tVal accuracy: 0.9800723195075989 INFO\n"
     ]
    },
    {
     "name": "stderr",
     "output_type": "stream",
     "text": [
      "train.py:train():160: Epoch 80 / 3000 -\t\t Train loss: 0.003497315803542733\tVal loss: 0.0037639369256794453\tVal accuracy: 0.9924963712692261 INFO\n"
     ]
    },
    {
     "name": "stderr",
     "output_type": "stream",
     "text": [
      "train.py:train():160: Epoch 90 / 3000 -\t\t Train loss: 0.0034943597856909037\tVal loss: 0.004003717564046383\tVal accuracy: 0.9913153052330017 INFO\n"
     ]
    },
    {
     "name": "stderr",
     "output_type": "stream",
     "text": [
      "train.py:train():160: Epoch 100 / 3000 -\t\t Train loss: 0.003654388478025794\tVal loss: 0.003827991895377636\tVal accuracy: 0.9911066293716431 INFO\n"
     ]
    },
    {
     "name": "stderr",
     "output_type": "stream",
     "text": [
      "train.py:train():160: Epoch 110 / 3000 -\t\t Train loss: 0.003627821570262313\tVal loss: 0.0037720156833529472\tVal accuracy: 0.9946539998054504 INFO\n"
     ]
    },
    {
     "name": "stdout",
     "output_type": "stream",
     "text": [
      "here\n"
     ]
    },
    {
     "name": "stderr",
     "output_type": "stream",
     "text": [
      "train.py:train():160: Epoch 120 / 3000 -\t\t Train loss: 0.003631447907537222\tVal loss: 0.003831832204014063\tVal accuracy: 0.9909230470657349 INFO\n"
     ]
    },
    {
     "name": "stderr",
     "output_type": "stream",
     "text": [
      "train.py:train():160: Epoch 130 / 3000 -\t\t Train loss: 0.003453855635598302\tVal loss: 0.0037656547501683235\tVal accuracy: 0.9922042489051819 INFO\n"
     ]
    },
    {
     "name": "stderr",
     "output_type": "stream",
     "text": [
      "train.py:train():160: Epoch 140 / 3000 -\t\t Train loss: 0.0035437503829598427\tVal loss: 0.0037506981752812862\tVal accuracy: 0.9945245981216431 INFO\n"
     ]
    },
    {
     "name": "stderr",
     "output_type": "stream",
     "text": [
      "train.py:train():170: Early stopping triggered after 147 epochs:\n",
      "Train loss: 0.003566170111298561\n",
      "Val loss: 0.003818378783762455\n",
      "Val accuracy: 0.9950045347213745\n",
      "Epochs no improvement: 58 WARNING\n"
     ]
    },
    {
     "name": "stdout",
     "output_type": "stream",
     "text": [
      "Training complete: 0:02:25.289824\n"
     ]
    },
    {
     "name": "stdout",
     "output_type": "stream",
     "text": [
      "Warning: not using the test data for evaluation, but the training data instead of ../data/raw/summarise_simulation/2024_11_21_160955/tabulated_mutation_info.csv\n"
     ]
    },
    {
     "name": "stdout",
     "output_type": "stream",
     "text": [
      "The R2 score is  0.9808653593063354\n",
      "The R2 score with weighted variance is  0.9808653593063354\n"
     ]
    },
    {
     "name": "stdout",
     "output_type": "stream",
     "text": [
      "Steady states found. Now calculating signal response\n"
     ]
    },
    {
     "name": "stdout",
     "output_type": "stream",
     "text": [
      "data/03_cvae_multi/2025_01_17__11_36_14/cvae_scan/hpo_24\n"
     ]
    },
    {
     "name": "stderr",
     "output_type": "stream",
     "text": [
      "train.py:train():160: Epoch 0 / 3000 -\t\t Train loss: 0.14080823957920074\tVal loss: 0.1112191379070282\tVal accuracy: 0.33230671286582947 INFO\n"
     ]
    },
    {
     "name": "stderr",
     "output_type": "stream",
     "text": [
      "train.py:train():160: Epoch 10 / 3000 -\t\t Train loss: 0.0038491669110953808\tVal loss: 0.004496127367019653\tVal accuracy: 0.9800264239311218 INFO\n"
     ]
    },
    {
     "name": "stderr",
     "output_type": "stream",
     "text": [
      "train.py:train():160: Epoch 20 / 3000 -\t\t Train loss: 0.003597148461267352\tVal loss: 0.005763856694102287\tVal accuracy: 0.9178394079208374 INFO\n"
     ]
    },
    {
     "name": "stderr",
     "output_type": "stream",
     "text": [
      "train.py:train():160: Epoch 30 / 3000 -\t\t Train loss: 0.0035195741802453995\tVal loss: 0.005577032454311848\tVal accuracy: 0.9227389097213745 INFO\n"
     ]
    },
    {
     "name": "stderr",
     "output_type": "stream",
     "text": [
      "train.py:train():160: Epoch 40 / 3000 -\t\t Train loss: 0.003549351589754224\tVal loss: 0.004315086640417576\tVal accuracy: 0.9728190302848816 INFO\n"
     ]
    },
    {
     "name": "stderr",
     "output_type": "stream",
     "text": [
      "train.py:train():160: Epoch 50 / 3000 -\t\t Train loss: 0.003499157028272748\tVal loss: 0.004034015350043774\tVal accuracy: 0.984562873840332 INFO\n"
     ]
    },
    {
     "name": "stderr",
     "output_type": "stream",
     "text": [
      "train.py:train():160: Epoch 60 / 3000 -\t\t Train loss: 0.0035019302740693092\tVal loss: 0.003921973053365946\tVal accuracy: 0.9862154722213745 INFO\n"
     ]
    },
    {
     "name": "stderr",
     "output_type": "stream",
     "text": [
      "train.py:train():160: Epoch 70 / 3000 -\t\t Train loss: 0.003494834527373314\tVal loss: 0.003933746833354235\tVal accuracy: 0.9866119623184204 INFO\n"
     ]
    },
    {
     "name": "stderr",
     "output_type": "stream",
     "text": [
      "train.py:train():160: Epoch 80 / 3000 -\t\t Train loss: 0.0034577026963233948\tVal loss: 0.003959841560572386\tVal accuracy: 0.9890992641448975 INFO\n"
     ]
    },
    {
     "name": "stderr",
     "output_type": "stream",
     "text": [
      "train.py:train():160: Epoch 90 / 3000 -\t\t Train loss: 0.003455471247434616\tVal loss: 0.003823629580438137\tVal accuracy: 0.9899464845657349 INFO\n"
     ]
    },
    {
     "name": "stderr",
     "output_type": "stream",
     "text": [
      "train.py:train():170: Early stopping triggered after 95 epochs:\n",
      "Train loss: 0.0034710883628576994\n",
      "Val loss: 0.0036406200379133224\n",
      "Val accuracy: 0.9958475828170776\n",
      "Epochs no improvement: 0 WARNING\n"
     ]
    },
    {
     "name": "stdout",
     "output_type": "stream",
     "text": [
      "Training complete: 0:01:34.545005\n"
     ]
    },
    {
     "name": "stdout",
     "output_type": "stream",
     "text": [
      "Warning: not using the test data for evaluation, but the training data instead of ../data/raw/summarise_simulation/2024_11_21_160955/tabulated_mutation_info.csv\n"
     ]
    },
    {
     "name": "stdout",
     "output_type": "stream",
     "text": [
      "The R2 score is  0.9823257327079773\n",
      "The R2 score with weighted variance is  0.9823256731033325\n"
     ]
    },
    {
     "name": "stdout",
     "output_type": "stream",
     "text": [
      "Steady states found. Now calculating signal response\n"
     ]
    },
    {
     "name": "stdout",
     "output_type": "stream",
     "text": [
      "data/03_cvae_multi/2025_01_17__11_36_14/cvae_scan/hpo_25\n"
     ]
    },
    {
     "name": "stderr",
     "output_type": "stream",
     "text": [
      "/tmp/ipykernel_3001434/1381821793.py:39: SettingWithCopyWarning: \n",
      "A value is trying to be set on a copy of a slice from a DataFrame\n",
      "\n",
      "See the caveats in the documentation: https://pandas.pydata.org/pandas-docs/stable/user_guide/indexing.html#returning-a-view-versus-a-copy\n",
      "  df_hpos_main.loc[i] = pd.Series(hpos) if type(\n"
     ]
    },
    {
     "name": "stderr",
     "output_type": "stream",
     "text": [
      "train.py:train():160: Epoch 0 / 3000 -\t\t Train loss: 0.18499863147735596\tVal loss: 0.11267414689064026\tVal accuracy: 0.3361921012401581 INFO\n"
     ]
    },
    {
     "name": "stderr",
     "output_type": "stream",
     "text": [
      "train.py:train():160: Epoch 10 / 3000 -\t\t Train loss: 0.0038868612609803677\tVal loss: 0.00439669843763113\tVal accuracy: 0.9850344657897949 INFO\n"
     ]
    },
    {
     "name": "stderr",
     "output_type": "stream",
     "text": [
      "train.py:train():160: Epoch 20 / 3000 -\t\t Train loss: 0.0036270052660256624\tVal loss: 0.005385124124586582\tVal accuracy: 0.9329302310943604 INFO\n"
     ]
    },
    {
     "name": "stderr",
     "output_type": "stream",
     "text": [
      "train.py:train():160: Epoch 30 / 3000 -\t\t Train loss: 0.00353605137206614\tVal loss: 0.004929776769131422\tVal accuracy: 0.9490768909454346 INFO\n"
     ]
    },
    {
     "name": "stderr",
     "output_type": "stream",
     "text": [
      "train.py:train():160: Epoch 40 / 3000 -\t\t Train loss: 0.0034458988811820745\tVal loss: 0.0046911779791116714\tVal accuracy: 0.9573109149932861 INFO\n"
     ]
    },
    {
     "name": "stderr",
     "output_type": "stream",
     "text": [
      "train.py:train():160: Epoch 50 / 3000 -\t\t Train loss: 0.0034820563159883022\tVal loss: 0.004622067324817181\tVal accuracy: 0.9628364443778992 INFO\n"
     ]
    },
    {
     "name": "stderr",
     "output_type": "stream",
     "text": [
      "train.py:train():160: Epoch 60 / 3000 -\t\t Train loss: 0.003485281253233552\tVal loss: 0.004059541039168835\tVal accuracy: 0.9825554490089417 INFO\n"
     ]
    },
    {
     "name": "stderr",
     "output_type": "stream",
     "text": [
      "train.py:train():160: Epoch 70 / 3000 -\t\t Train loss: 0.003649599850177765\tVal loss: 0.0040441881865262985\tVal accuracy: 0.9873214364051819 INFO\n"
     ]
    },
    {
     "name": "stderr",
     "output_type": "stream",
     "text": [
      "train.py:train():160: Epoch 80 / 3000 -\t\t Train loss: 0.0034416469279676676\tVal loss: 0.003938664682209492\tVal accuracy: 0.9856687784194946 INFO\n"
     ]
    },
    {
     "name": "stderr",
     "output_type": "stream",
     "text": [
      "train.py:train():160: Epoch 90 / 3000 -\t\t Train loss: 0.0036055392120033503\tVal loss: 0.004655893892049789\tVal accuracy: 0.9879515767097473 INFO\n"
     ]
    },
    {
     "name": "stderr",
     "output_type": "stream",
     "text": [
      "train.py:train():160: Epoch 100 / 3000 -\t\t Train loss: 0.0232109222561121\tVal loss: 0.023069221526384354\tVal accuracy: 0.886309802532196 INFO\n"
     ]
    },
    {
     "name": "stderr",
     "output_type": "stream",
     "text": [
      "train.py:train():160: Epoch 110 / 3000 -\t\t Train loss: 0.01997564360499382\tVal loss: 0.008757472969591618\tVal accuracy: 0.8668996095657349 INFO\n"
     ]
    },
    {
     "name": "stdout",
     "output_type": "stream",
     "text": [
      "here\n"
     ]
    },
    {
     "name": "stderr",
     "output_type": "stream",
     "text": [
      "train.py:train():160: Epoch 120 / 3000 -\t\t Train loss: 0.023784423246979713\tVal loss: 0.023688647896051407\tVal accuracy: 0.8781592845916748 INFO\n"
     ]
    },
    {
     "name": "stderr",
     "output_type": "stream",
     "text": [
      "train.py:train():160: Epoch 130 / 3000 -\t\t Train loss: 0.023109620437026024\tVal loss: 0.023317892104387283\tVal accuracy: 0.8858799338340759 INFO\n"
     ]
    },
    {
     "name": "stderr",
     "output_type": "stream",
     "text": [
      "train.py:train():160: Epoch 140 / 3000 -\t\t Train loss: 0.0427389033138752\tVal loss: 0.042650483548641205\tVal accuracy: 0.7781659364700317 INFO\n"
     ]
    },
    {
     "name": "stderr",
     "output_type": "stream",
     "text": [
      "train.py:train():160: Epoch 150 / 3000 -\t\t Train loss: 0.023191029205918312\tVal loss: 0.023345332592725754\tVal accuracy: 0.8853290677070618 INFO\n"
     ]
    },
    {
     "name": "stderr",
     "output_type": "stream",
     "text": [
      "train.py:train():170: Early stopping triggered after 156 epochs:\n",
      "Train loss: 0.004214319866150618\n",
      "Val loss: 0.00407305546104908\n",
      "Val accuracy: 0.9955971837043762\n",
      "Epochs no improvement: 87 WARNING\n"
     ]
    },
    {
     "name": "stdout",
     "output_type": "stream",
     "text": [
      "Training complete: 0:02:41.291755\n"
     ]
    },
    {
     "name": "stdout",
     "output_type": "stream",
     "text": [
      "Warning: not using the test data for evaluation, but the training data instead of ../data/raw/summarise_simulation/2024_11_21_160955/tabulated_mutation_info.csv\n"
     ]
    },
    {
     "name": "stdout",
     "output_type": "stream",
     "text": [
      "The R2 score is  0.9816939234733582\n",
      "The R2 score with weighted variance is  0.9816939234733582\n"
     ]
    },
    {
     "name": "stderr",
     "output_type": "stream",
     "text": [
      "/workdir/src/evoscaper/utils/visualise.py:30: UserWarning: Creating legend with loc=\"best\" can be slow with large amounts of data.\n",
      "  plt.tight_layout()\n"
     ]
    },
    {
     "name": "stdout",
     "output_type": "stream",
     "text": [
      "Steady states found. Now calculating signal response\n"
     ]
    },
    {
     "name": "stdout",
     "output_type": "stream",
     "text": [
      "data/03_cvae_multi/2025_01_17__11_36_14/cvae_scan/hpo_26\n"
     ]
    },
    {
     "name": "stderr",
     "output_type": "stream",
     "text": [
      "train.py:train():160: Epoch 0 / 3000 -\t\t Train loss: 0.11805235594511032\tVal loss: 0.09109649807214737\tVal accuracy: 0.3266935646533966 INFO\n"
     ]
    },
    {
     "name": "stderr",
     "output_type": "stream",
     "text": [
      "train.py:train():160: Epoch 10 / 3000 -\t\t Train loss: 0.0037169617135077715\tVal loss: 0.004873192869126797\tVal accuracy: 0.9610001444816589 INFO\n"
     ]
    },
    {
     "name": "stderr",
     "output_type": "stream",
     "text": [
      "train.py:train():160: Epoch 20 / 3000 -\t\t Train loss: 0.0037566954270005226\tVal loss: 0.0047127725556492805\tVal accuracy: 0.9649189114570618 INFO\n"
     ]
    },
    {
     "name": "stderr",
     "output_type": "stream",
     "text": [
      "train.py:train():160: Epoch 30 / 3000 -\t\t Train loss: 0.0034567394759505987\tVal loss: 0.004779544658958912\tVal accuracy: 0.9525324106216431 INFO\n"
     ]
    },
    {
     "name": "stderr",
     "output_type": "stream",
     "text": [
      "train.py:train():160: Epoch 40 / 3000 -\t\t Train loss: 0.0034043320920318365\tVal loss: 0.004516253713518381\tVal accuracy: 0.9620267748832703 INFO\n"
     ]
    },
    {
     "name": "stderr",
     "output_type": "stream",
     "text": [
      "train.py:train():160: Epoch 50 / 3000 -\t\t Train loss: 0.0034398806747049093\tVal loss: 0.004674202762544155\tVal accuracy: 0.9604451060295105 INFO\n"
     ]
    },
    {
     "name": "stderr",
     "output_type": "stream",
     "text": [
      "train.py:train():160: Epoch 60 / 3000 -\t\t Train loss: 0.003367349039763212\tVal loss: 0.004474162589758635\tVal accuracy: 0.9634999632835388 INFO\n"
     ]
    },
    {
     "name": "stderr",
     "output_type": "stream",
     "text": [
      "train.py:train():160: Epoch 70 / 3000 -\t\t Train loss: 0.0034256677608937025\tVal loss: 0.004226231947541237\tVal accuracy: 0.9744842052459717 INFO\n"
     ]
    },
    {
     "name": "stderr",
     "output_type": "stream",
     "text": [
      "train.py:train():160: Epoch 80 / 3000 -\t\t Train loss: 0.0034233026672154665\tVal loss: 0.004292134195566177\tVal accuracy: 0.9740167856216431 INFO\n"
     ]
    },
    {
     "name": "stderr",
     "output_type": "stream",
     "text": [
      "train.py:train():160: Epoch 90 / 3000 -\t\t Train loss: 0.0034604049287736416\tVal loss: 0.004028866067528725\tVal accuracy: 0.9832607507705688 INFO\n"
     ]
    },
    {
     "name": "stderr",
     "output_type": "stream",
     "text": [
      "train.py:train():160: Epoch 100 / 3000 -\t\t Train loss: 0.0035455268807709217\tVal loss: 0.0040650442242622375\tVal accuracy: 0.9853683114051819 INFO\n"
     ]
    },
    {
     "name": "stderr",
     "output_type": "stream",
     "text": [
      "train.py:train():160: Epoch 110 / 3000 -\t\t Train loss: 0.0034147901460528374\tVal loss: 0.0038904547691345215\tVal accuracy: 0.9884023070335388 INFO\n"
     ]
    },
    {
     "name": "stderr",
     "output_type": "stream",
     "text": [
      "train.py:train():170: Early stopping triggered after 114 epochs:\n",
      "Train loss: 0.003584321355447173\n",
      "Val loss: 0.0037430140655487776\n",
      "Val accuracy: 0.9951381087303162\n",
      "Epochs no improvement: 0 WARNING\n"
     ]
    },
    {
     "name": "stdout",
     "output_type": "stream",
     "text": [
      "Training complete: 0:02:02.263240\n"
     ]
    },
    {
     "name": "stdout",
     "output_type": "stream",
     "text": [
      "Warning: not using the test data for evaluation, but the training data instead of ../data/raw/summarise_simulation/2024_11_21_160955/tabulated_mutation_info.csv\n"
     ]
    },
    {
     "name": "stdout",
     "output_type": "stream",
     "text": [
      "The R2 score is  0.9818864464759827\n",
      "The R2 score with weighted variance is  0.9818864464759827\n"
     ]
    },
    {
     "name": "stdout",
     "output_type": "stream",
     "text": [
      "Steady states found. Now calculating signal response\n"
     ]
    },
    {
     "name": "stdout",
     "output_type": "stream",
     "text": [
      "data/03_cvae_multi/2025_01_17__11_36_14/cvae_scan/hpo_27\n"
     ]
    },
    {
     "name": "stderr",
     "output_type": "stream",
     "text": [
      "/tmp/ipykernel_3001434/1381821793.py:39: SettingWithCopyWarning: \n",
      "A value is trying to be set on a copy of a slice from a DataFrame\n",
      "\n",
      "See the caveats in the documentation: https://pandas.pydata.org/pandas-docs/stable/user_guide/indexing.html#returning-a-view-versus-a-copy\n",
      "  df_hpos_main.loc[i] = pd.Series(hpos) if type(\n"
     ]
    },
    {
     "name": "stderr",
     "output_type": "stream",
     "text": [
      "train.py:train():160: Epoch 0 / 3000 -\t\t Train loss: 0.14949734508991241\tVal loss: 0.10246828943490982\tVal accuracy: 0.3352530896663666 INFO\n"
     ]
    },
    {
     "name": "stderr",
     "output_type": "stream",
     "text": [
      "train.py:train():160: Epoch 10 / 3000 -\t\t Train loss: 0.0038349058013409376\tVal loss: 0.00504935160279274\tVal accuracy: 0.955904483795166 INFO\n"
     ]
    },
    {
     "name": "stderr",
     "output_type": "stream",
     "text": [
      "train.py:train():160: Epoch 20 / 3000 -\t\t Train loss: 0.0035981021355837584\tVal loss: 0.006006823852658272\tVal accuracy: 0.9118214845657349 INFO\n"
     ]
    },
    {
     "name": "stderr",
     "output_type": "stream",
     "text": [
      "train.py:train():160: Epoch 30 / 3000 -\t\t Train loss: 0.003417488420382142\tVal loss: 0.005696257576346397\tVal accuracy: 0.9186949729919434 INFO\n"
     ]
    },
    {
     "name": "stderr",
     "output_type": "stream",
     "text": [
      "train.py:train():160: Epoch 40 / 3000 -\t\t Train loss: 0.003451209980994463\tVal loss: 0.004771409556269646\tVal accuracy: 0.9543269872665405 INFO\n"
     ]
    },
    {
     "name": "stderr",
     "output_type": "stream",
     "text": [
      "train.py:train():160: Epoch 50 / 3000 -\t\t Train loss: 0.003482536878436804\tVal loss: 0.004523014649748802\tVal accuracy: 0.966266930103302 INFO\n"
     ]
    },
    {
     "name": "stderr",
     "output_type": "stream",
     "text": [
      "train.py:train():160: Epoch 60 / 3000 -\t\t Train loss: 0.003367803758010268\tVal loss: 0.005081218667328358\tVal accuracy: 0.9536884427070618 INFO\n"
     ]
    },
    {
     "name": "stderr",
     "output_type": "stream",
     "text": [
      "train.py:train():160: Epoch 70 / 3000 -\t\t Train loss: 0.003491870826110244\tVal loss: 0.004042349755764008\tVal accuracy: 0.9839702248573303 INFO\n"
     ]
    },
    {
     "name": "stderr",
     "output_type": "stream",
     "text": [
      "train.py:train():160: Epoch 80 / 3000 -\t\t Train loss: 0.003548095468431711\tVal loss: 0.004040914587676525\tVal accuracy: 0.9876177310943604 INFO\n"
     ]
    },
    {
     "name": "stderr",
     "output_type": "stream",
     "text": [
      "train.py:train():160: Epoch 90 / 3000 -\t\t Train loss: 0.0034382950980216265\tVal loss: 0.004103722516447306\tVal accuracy: 0.9820296168327332 INFO\n"
     ]
    },
    {
     "name": "stderr",
     "output_type": "stream",
     "text": [
      "train.py:train():160: Epoch 100 / 3000 -\t\t Train loss: 0.0038713307585567236\tVal loss: 0.003931187093257904\tVal accuracy: 0.9896084070205688 INFO\n"
     ]
    },
    {
     "name": "stderr",
     "output_type": "stream",
     "text": [
      "train.py:train():160: Epoch 110 / 3000 -\t\t Train loss: 0.0034710599575191736\tVal loss: 0.0055162725038826466\tVal accuracy: 0.9881644248962402 INFO\n"
     ]
    },
    {
     "name": "stdout",
     "output_type": "stream",
     "text": [
      "here\n"
     ]
    },
    {
     "name": "stderr",
     "output_type": "stream",
     "text": [
      "train.py:train():160: Epoch 120 / 3000 -\t\t Train loss: 0.0034718376118689775\tVal loss: 0.004134116228669882\tVal accuracy: 0.991428017616272 INFO\n"
     ]
    },
    {
     "name": "stderr",
     "output_type": "stream",
     "text": [
      "train.py:train():160: Epoch 130 / 3000 -\t\t Train loss: 0.0035527644213289022\tVal loss: 0.005419216118752956\tVal accuracy: 0.9880809783935547 INFO\n"
     ]
    },
    {
     "name": "stderr",
     "output_type": "stream",
     "text": [
      "train.py:train():160: Epoch 140 / 3000 -\t\t Train loss: 0.004658899269998074\tVal loss: 0.0039821891114115715\tVal accuracy: 0.9942992329597473 INFO\n"
     ]
    },
    {
     "name": "stderr",
     "output_type": "stream",
     "text": [
      "train.py:train():160: Epoch 150 / 3000 -\t\t Train loss: 0.0036118014249950647\tVal loss: 0.004690627101808786\tVal accuracy: 0.9896584749221802 INFO\n"
     ]
    },
    {
     "name": "stderr",
     "output_type": "stream",
     "text": [
      "train.py:train():160: Epoch 160 / 3000 -\t\t Train loss: 0.12419147789478302\tVal loss: 0.12453919649124146\tVal accuracy: 0.34856605529785156 INFO\n"
     ]
    },
    {
     "name": "stderr",
     "output_type": "stream",
     "text": [
      "train.py:train():160: Epoch 170 / 3000 -\t\t Train loss: 0.0723925307393074\tVal loss: 0.07922238111495972\tVal accuracy: 0.339280366897583 INFO\n"
     ]
    },
    {
     "name": "stderr",
     "output_type": "stream",
     "text": [
      "train.py:train():160: Epoch 180 / 3000 -\t\t Train loss: 0.0437525138258934\tVal loss: 0.041013579815626144\tVal accuracy: 0.42321884632110596 INFO\n"
     ]
    },
    {
     "name": "stderr",
     "output_type": "stream",
     "text": [
      "train.py:train():160: Epoch 190 / 3000 -\t\t Train loss: 0.03565126657485962\tVal loss: 0.03558623790740967\tVal accuracy: 0.4934729039669037 INFO\n"
     ]
    },
    {
     "name": "stderr",
     "output_type": "stream",
     "text": [
      "train.py:train():160: Epoch 200 / 3000 -\t\t Train loss: 0.16421785950660706\tVal loss: 0.06756116449832916\tVal accuracy: 0.34232690930366516 INFO\n"
     ]
    },
    {
     "name": "stderr",
     "output_type": "stream",
     "text": [
      "train.py:train():160: Epoch 210 / 3000 -\t\t Train loss: 0.05988708510994911\tVal loss: 0.05902726575732231\tVal accuracy: 0.38998231291770935 INFO\n"
     ]
    },
    {
     "name": "stderr",
     "output_type": "stream",
     "text": [
      "train.py:train():160: Epoch 220 / 3000 -\t\t Train loss: 0.06736230850219727\tVal loss: 0.06768890470266342\tVal accuracy: 0.3486703932285309 INFO\n"
     ]
    },
    {
     "name": "stderr",
     "output_type": "stream",
     "text": [
      "train.py:train():160: Epoch 230 / 3000 -\t\t Train loss: 0.052818119525909424\tVal loss: 0.052805911749601364\tVal accuracy: 0.3478357195854187 INFO\n"
     ]
    },
    {
     "name": "stderr",
     "output_type": "stream",
     "text": [
      "train.py:train():160: Epoch 240 / 3000 -\t\t Train loss: 0.05446013808250427\tVal loss: 0.05423501133918762\tVal accuracy: 0.32572951912879944 INFO\n"
     ]
    },
    {
     "name": "stderr",
     "output_type": "stream",
     "text": [
      "train.py:train():160: Epoch 250 / 3000 -\t\t Train loss: 0.06353295594453812\tVal loss: 0.07659540325403214\tVal accuracy: 0.3446139097213745 INFO\n"
     ]
    },
    {
     "name": "stderr",
     "output_type": "stream",
     "text": [
      "train.py:train():160: Epoch 260 / 3000 -\t\t Train loss: 0.05310174450278282\tVal loss: 0.053584542125463486\tVal accuracy: 0.34259817004203796 INFO\n"
     ]
    },
    {
     "name": "stderr",
     "output_type": "stream",
     "text": [
      "train.py:train():160: Epoch 270 / 3000 -\t\t Train loss: 0.05154143273830414\tVal loss: 0.05171119421720505\tVal accuracy: 0.3358999490737915 INFO\n"
     ]
    },
    {
     "name": "stderr",
     "output_type": "stream",
     "text": [
      "train.py:train():160: Epoch 280 / 3000 -\t\t Train loss: 0.05046985298395157\tVal loss: 0.05056115612387657\tVal accuracy: 0.3434578776359558 INFO\n"
     ]
    },
    {
     "name": "stderr",
     "output_type": "stream",
     "text": [
      "train.py:train():160: Epoch 290 / 3000 -\t\t Train loss: 0.049863606691360474\tVal loss: 0.05102265253663063\tVal accuracy: 0.3473474383354187 INFO\n"
     ]
    },
    {
     "name": "stderr",
     "output_type": "stream",
     "text": [
      "train.py:train():160: Epoch 300 / 3000 -\t\t Train loss: 0.0493774339556694\tVal loss: 0.0499955490231514\tVal accuracy: 0.3381368815898895 INFO\n"
     ]
    },
    {
     "name": "stderr",
     "output_type": "stream",
     "text": [
      "train.py:train():170: Early stopping triggered after 305 epochs:\n",
      "Train loss: nan\n",
      "Val loss: nan\n",
      "Val accuracy: 0.0\n",
      "Epochs no improvement: 200 WARNING\n"
     ]
    },
    {
     "name": "stdout",
     "output_type": "stream",
     "text": [
      "Training complete: 0:05:11.537606\n"
     ]
    },
    {
     "name": "stdout",
     "output_type": "stream",
     "text": [
      "Input contains NaN.\n"
     ]
    },
    {
     "name": "stderr",
     "output_type": "stream",
     "text": [
      "/tmp/ipykernel_3001434/1381821793.py:39: SettingWithCopyWarning: \n",
      "A value is trying to be set on a copy of a slice from a DataFrame\n",
      "\n",
      "See the caveats in the documentation: https://pandas.pydata.org/pandas-docs/stable/user_guide/indexing.html#returning-a-view-versus-a-copy\n",
      "  df_hpos_main.loc[i] = pd.Series(hpos) if type(\n"
     ]
    },
    {
     "name": "stderr",
     "output_type": "stream",
     "text": [
      "train.py:train():160: Epoch 0 / 3000 -\t\t Train loss: 0.14871375262737274\tVal loss: 0.11809464544057846\tVal accuracy: 0.33738982677459717 INFO\n"
     ]
    },
    {
     "name": "stderr",
     "output_type": "stream",
     "text": [
      "train.py:train():160: Epoch 10 / 3000 -\t\t Train loss: 0.004027282819151878\tVal loss: 0.005059973336756229\tVal accuracy: 0.9599818587303162 INFO\n"
     ]
    },
    {
     "name": "stderr",
     "output_type": "stream",
     "text": [
      "train.py:train():160: Epoch 20 / 3000 -\t\t Train loss: 0.003644279669970274\tVal loss: 0.0053039067424833775\tVal accuracy: 0.9345828890800476 INFO\n"
     ]
    },
    {
     "name": "stderr",
     "output_type": "stream",
     "text": [
      "train.py:train():160: Epoch 30 / 3000 -\t\t Train loss: 0.0034819100983440876\tVal loss: 0.005562706384807825\tVal accuracy: 0.9238490462303162 INFO\n"
     ]
    },
    {
     "name": "stderr",
     "output_type": "stream",
     "text": [
      "train.py:train():160: Epoch 40 / 3000 -\t\t Train loss: 0.0033378279767930508\tVal loss: 0.004817179404199123\tVal accuracy: 0.9497613310813904 INFO\n"
     ]
    },
    {
     "name": "stderr",
     "output_type": "stream",
     "text": [
      "train.py:train():160: Epoch 50 / 3000 -\t\t Train loss: 0.0034065681975334883\tVal loss: 0.004428004380315542\tVal accuracy: 0.9661083221435547 INFO\n"
     ]
    },
    {
     "name": "stderr",
     "output_type": "stream",
     "text": [
      "train.py:train():160: Epoch 60 / 3000 -\t\t Train loss: 0.0033922854345291853\tVal loss: 0.004126232583075762\tVal accuracy: 0.9767085909843445 INFO\n"
     ]
    },
    {
     "name": "stderr",
     "output_type": "stream",
     "text": [
      "train.py:train():160: Epoch 70 / 3000 -\t\t Train loss: 0.0033888816833496094\tVal loss: 0.0040597207844257355\tVal accuracy: 0.9818167686462402 INFO\n"
     ]
    },
    {
     "name": "stderr",
     "output_type": "stream",
     "text": [
      "train.py:train():160: Epoch 80 / 3000 -\t\t Train loss: 0.003407904179766774\tVal loss: 0.00394222280010581\tVal accuracy: 0.9833818078041077 INFO\n"
     ]
    },
    {
     "name": "stderr",
     "output_type": "stream",
     "text": [
      "train.py:train():160: Epoch 90 / 3000 -\t\t Train loss: 0.14564308524131775\tVal loss: 0.13958853483200073\tVal accuracy: 0.3473098874092102 INFO\n"
     ]
    },
    {
     "name": "stderr",
     "output_type": "stream",
     "text": [
      "train.py:train():160: Epoch 100 / 3000 -\t\t Train loss: 0.05102015659213066\tVal loss: 0.05340108647942543\tVal accuracy: 0.3865393102169037 INFO\n"
     ]
    },
    {
     "name": "stderr",
     "output_type": "stream",
     "text": [
      "train.py:train():160: Epoch 110 / 3000 -\t\t Train loss: 0.028140228241682053\tVal loss: 0.029465828090906143\tVal accuracy: 0.5802367329597473 INFO\n"
     ]
    },
    {
     "name": "stdout",
     "output_type": "stream",
     "text": [
      "here\n"
     ]
    },
    {
     "name": "stderr",
     "output_type": "stream",
     "text": [
      "train.py:train():160: Epoch 120 / 3000 -\t\t Train loss: 0.010663422755897045\tVal loss: 0.010408981703221798\tVal accuracy: 0.8695371150970459 INFO\n"
     ]
    },
    {
     "name": "stderr",
     "output_type": "stream",
     "text": [
      "train.py:train():160: Epoch 130 / 3000 -\t\t Train loss: 0.0073463767766952515\tVal loss: 0.006650207098573446\tVal accuracy: 0.9383805990219116 INFO\n"
     ]
    },
    {
     "name": "stderr",
     "output_type": "stream",
     "text": [
      "train.py:train():160: Epoch 140 / 3000 -\t\t Train loss: 0.11930666118860245\tVal loss: 0.1198120042681694\tVal accuracy: 0.34878307580947876 INFO\n"
     ]
    },
    {
     "name": "stderr",
     "output_type": "stream",
     "text": [
      "train.py:train():160: Epoch 150 / 3000 -\t\t Train loss: 0.056295085698366165\tVal loss: 0.05607287213206291\tVal accuracy: 0.5158295035362244 INFO\n"
     ]
    },
    {
     "name": "stderr",
     "output_type": "stream",
     "text": [
      "train.py:train():160: Epoch 160 / 3000 -\t\t Train loss: 0.1333899348974228\tVal loss: 0.13123616576194763\tVal accuracy: 0.34869125485420227 INFO\n"
     ]
    },
    {
     "name": "stderr",
     "output_type": "stream",
     "text": [
      "train.py:train():160: Epoch 170 / 3000 -\t\t Train loss: 0.12067223340272903\tVal loss: 0.12111949920654297\tVal accuracy: 0.3487580418586731 INFO\n"
     ]
    },
    {
     "name": "stderr",
     "output_type": "stream",
     "text": [
      "train.py:train():160: Epoch 180 / 3000 -\t\t Train loss: 0.07668429613113403\tVal loss: 0.07458487898111343\tVal accuracy: 0.47671276330947876 INFO\n"
     ]
    },
    {
     "name": "stderr",
     "output_type": "stream",
     "text": [
      "train.py:train():160: Epoch 190 / 3000 -\t\t Train loss: 0.07059705257415771\tVal loss: 0.06277104467153549\tVal accuracy: 0.45315006375312805 INFO\n"
     ]
    },
    {
     "name": "stderr",
     "output_type": "stream",
     "text": [
      "train.py:train():160: Epoch 200 / 3000 -\t\t Train loss: 0.04784343019127846\tVal loss: 0.047862354665994644\tVal accuracy: 0.4645557999610901 INFO\n"
     ]
    },
    {
     "name": "stderr",
     "output_type": "stream",
     "text": [
      "train.py:train():160: Epoch 210 / 3000 -\t\t Train loss: 0.04640839621424675\tVal loss: 0.046188704669475555\tVal accuracy: 0.4681657552719116 INFO\n"
     ]
    },
    {
     "name": "stderr",
     "output_type": "stream",
     "text": [
      "train.py:train():160: Epoch 220 / 3000 -\t\t Train loss: 0.034512538462877274\tVal loss: 0.03363227844238281\tVal accuracy: 0.4591471552848816 INFO\n"
     ]
    },
    {
     "name": "stderr",
     "output_type": "stream",
     "text": [
      "train.py:train():160: Epoch 230 / 3000 -\t\t Train loss: 9.798807144165039\tVal loss: 0.040228888392448425\tVal accuracy: 0.41571933031082153 INFO\n"
     ]
    },
    {
     "name": "stderr",
     "output_type": "stream",
     "text": [
      "train.py:train():160: Epoch 240 / 3000 -\t\t Train loss: 0.09060639888048172\tVal loss: 0.06406597793102264\tVal accuracy: 0.3461329936981201 INFO\n"
     ]
    },
    {
     "name": "stderr",
     "output_type": "stream",
     "text": [
      "train.py:train():160: Epoch 250 / 3000 -\t\t Train loss: 0.06134535372257233\tVal loss: 0.06148797646164894\tVal accuracy: 0.35753458738327026 INFO\n"
     ]
    },
    {
     "name": "stderr",
     "output_type": "stream",
     "text": [
      "train.py:train():160: Epoch 260 / 3000 -\t\t Train loss: 0.061073798686265945\tVal loss: 0.06114087253808975\tVal accuracy: 0.3535865843296051 INFO\n"
     ]
    },
    {
     "name": "stderr",
     "output_type": "stream",
     "text": [
      "train.py:train():170: Early stopping triggered after 267 epochs:\n",
      "Train loss: nan\n",
      "Val loss: nan\n",
      "Val accuracy: 0.0\n",
      "Epochs no improvement: 197 WARNING\n"
     ]
    },
    {
     "name": "stdout",
     "output_type": "stream",
     "text": [
      "Training complete: 0:04:32.474862\n"
     ]
    },
    {
     "name": "stdout",
     "output_type": "stream",
     "text": [
      "Input contains NaN.\n"
     ]
    },
    {
     "name": "stderr",
     "output_type": "stream",
     "text": [
      "/tmp/ipykernel_3001434/1381821793.py:39: SettingWithCopyWarning: \n",
      "A value is trying to be set on a copy of a slice from a DataFrame\n",
      "\n",
      "See the caveats in the documentation: https://pandas.pydata.org/pandas-docs/stable/user_guide/indexing.html#returning-a-view-versus-a-copy\n",
      "  df_hpos_main.loc[i] = pd.Series(hpos) if type(\n"
     ]
    },
    {
     "name": "stderr",
     "output_type": "stream",
     "text": [
      "train.py:train():160: Epoch 0 / 3000 -\t\t Train loss: 0.12942442297935486\tVal loss: 0.11023221164941788\tVal accuracy: 0.3372229039669037 INFO\n"
     ]
    },
    {
     "name": "stderr",
     "output_type": "stream",
     "text": [
      "train.py:train():160: Epoch 10 / 3000 -\t\t Train loss: 0.0036559724248945713\tVal loss: 0.006098099052906036\tVal accuracy: 0.908311665058136 INFO\n"
     ]
    },
    {
     "name": "stderr",
     "output_type": "stream",
     "text": [
      "train.py:train():160: Epoch 20 / 3000 -\t\t Train loss: 0.003563388017937541\tVal loss: 0.005636317655444145\tVal accuracy: 0.9212573766708374 INFO\n"
     ]
    },
    {
     "name": "stderr",
     "output_type": "stream",
     "text": [
      "train.py:train():160: Epoch 30 / 3000 -\t\t Train loss: 0.0034921762999147177\tVal loss: 0.0053654201328754425\tVal accuracy: 0.9302384257316589 INFO\n"
     ]
    },
    {
     "name": "stderr",
     "output_type": "stream",
     "text": [
      "train.py:train():160: Epoch 40 / 3000 -\t\t Train loss: 0.003417098429054022\tVal loss: 0.004691621288657188\tVal accuracy: 0.9558919668197632 INFO\n"
     ]
    },
    {
     "name": "stderr",
     "output_type": "stream",
     "text": [
      "train.py:train():160: Epoch 50 / 3000 -\t\t Train loss: 0.003378115361556411\tVal loss: 0.00488507654517889\tVal accuracy: 0.9482631087303162 INFO\n"
     ]
    },
    {
     "name": "stderr",
     "output_type": "stream",
     "text": [
      "train.py:train():160: Epoch 60 / 3000 -\t\t Train loss: 0.003429641015827656\tVal loss: 0.004176204092800617\tVal accuracy: 0.9768129587173462 INFO\n"
     ]
    },
    {
     "name": "stderr",
     "output_type": "stream",
     "text": [
      "train.py:train():160: Epoch 70 / 3000 -\t\t Train loss: 0.0034909972455352545\tVal loss: 0.00442950613796711\tVal accuracy: 0.9701982140541077 INFO\n"
     ]
    },
    {
     "name": "stderr",
     "output_type": "stream",
     "text": [
      "train.py:train():160: Epoch 80 / 3000 -\t\t Train loss: 0.003471302567049861\tVal loss: 0.004023274406790733\tVal accuracy: 0.9828601479530334 INFO\n"
     ]
    },
    {
     "name": "stderr",
     "output_type": "stream",
     "text": [
      "train.py:train():160: Epoch 90 / 3000 -\t\t Train loss: 0.0034083351492881775\tVal loss: 0.004043243825435638\tVal accuracy: 0.9822800159454346 INFO\n"
     ]
    },
    {
     "name": "stderr",
     "output_type": "stream",
     "text": [
      "train.py:train():160: Epoch 100 / 3000 -\t\t Train loss: 0.0034883669577538967\tVal loss: 0.003895809408277273\tVal accuracy: 0.9881143569946289 INFO\n"
     ]
    },
    {
     "name": "stderr",
     "output_type": "stream",
     "text": [
      "train.py:train():160: Epoch 110 / 3000 -\t\t Train loss: 0.0033987092319875956\tVal loss: 0.0038805347867310047\tVal accuracy: 0.9868164658546448 INFO\n"
     ]
    },
    {
     "name": "stdout",
     "output_type": "stream",
     "text": [
      "here\n"
     ]
    },
    {
     "name": "stderr",
     "output_type": "stream",
     "text": [
      "train.py:train():160: Epoch 120 / 3000 -\t\t Train loss: 0.003522040555253625\tVal loss: 0.003859044751152396\tVal accuracy: 0.9918411374092102 INFO\n"
     ]
    },
    {
     "name": "stderr",
     "output_type": "stream",
     "text": [
      "train.py:train():160: Epoch 130 / 3000 -\t\t Train loss: 0.005553659051656723\tVal loss: 0.006443461403250694\tVal accuracy: 0.9858649373054504 INFO\n"
     ]
    },
    {
     "name": "stderr",
     "output_type": "stream",
     "text": [
      "train.py:train():160: Epoch 140 / 3000 -\t\t Train loss: 0.00359902111813426\tVal loss: 0.003865491598844528\tVal accuracy: 0.9944536685943604 INFO\n"
     ]
    },
    {
     "name": "stderr",
     "output_type": "stream",
     "text": [
      "train.py:train():160: Epoch 150 / 3000 -\t\t Train loss: 0.003568327520042658\tVal loss: 0.003979532979428768\tVal accuracy: 0.9887821078300476 INFO\n"
     ]
    },
    {
     "name": "stderr",
     "output_type": "stream",
     "text": [
      "train.py:train():160: Epoch 160 / 3000 -\t\t Train loss: 0.003560562152415514\tVal loss: 0.0038354620337486267\tVal accuracy: 0.9935146570205688 INFO\n"
     ]
    },
    {
     "name": "stderr",
     "output_type": "stream",
     "text": [
      "train.py:train():160: Epoch 170 / 3000 -\t\t Train loss: 0.0035041412338614464\tVal loss: 0.0038526158314198256\tVal accuracy: 0.9924880266189575 INFO\n"
     ]
    },
    {
     "name": "stderr",
     "output_type": "stream",
     "text": [
      "train.py:train():160: Epoch 180 / 3000 -\t\t Train loss: 0.0035525448620319366\tVal loss: 0.003839828073978424\tVal accuracy: 0.9925589561462402 INFO\n"
     ]
    },
    {
     "name": "stderr",
     "output_type": "stream",
     "text": [
      "train.py:train():160: Epoch 190 / 3000 -\t\t Train loss: 0.0035820661578327417\tVal loss: 0.0038710860535502434\tVal accuracy: 0.9942658543586731 INFO\n"
     ]
    },
    {
     "name": "stderr",
     "output_type": "stream",
     "text": [
      "train.py:train():170: Early stopping triggered after 195 epochs:\n",
      "Train loss: 0.004499741829931736\n",
      "Val loss: 0.003830934641882777\n",
      "Val accuracy: 0.9965069890022278\n",
      "Epochs no improvement: 82 WARNING\n"
     ]
    },
    {
     "name": "stdout",
     "output_type": "stream",
     "text": [
      "Training complete: 0:03:24.679688\n"
     ]
    },
    {
     "name": "stdout",
     "output_type": "stream",
     "text": [
      "Warning: not using the test data for evaluation, but the training data instead of ../data/raw/summarise_simulation/2024_11_21_160955/tabulated_mutation_info.csv\n"
     ]
    },
    {
     "name": "stdout",
     "output_type": "stream",
     "text": [
      "The R2 score is  0.9824320673942566\n",
      "The R2 score with weighted variance is  0.9824320673942566\n"
     ]
    },
    {
     "name": "stdout",
     "output_type": "stream",
     "text": [
      "Steady states found. Now calculating signal response\n"
     ]
    },
    {
     "name": "stdout",
     "output_type": "stream",
     "text": [
      "data/03_cvae_multi/2025_01_17__11_36_14/cvae_scan/hpo_30\n"
     ]
    },
    {
     "name": "stderr",
     "output_type": "stream",
     "text": [
      "/tmp/ipykernel_3001434/1381821793.py:39: SettingWithCopyWarning: \n",
      "A value is trying to be set on a copy of a slice from a DataFrame\n",
      "\n",
      "See the caveats in the documentation: https://pandas.pydata.org/pandas-docs/stable/user_guide/indexing.html#returning-a-view-versus-a-copy\n",
      "  df_hpos_main.loc[i] = pd.Series(hpos) if type(\n"
     ]
    },
    {
     "name": "stderr",
     "output_type": "stream",
     "text": [
      "train.py:train():160: Epoch 0 / 3000 -\t\t Train loss: 0.14842826128005981\tVal loss: 0.1259952038526535\tVal accuracy: 0.3321439325809479 INFO\n"
     ]
    },
    {
     "name": "stderr",
     "output_type": "stream",
     "text": [
      "train.py:train():160: Epoch 10 / 3000 -\t\t Train loss: 0.0036918313708156347\tVal loss: 0.005585315637290478\tVal accuracy: 0.9252095222473145 INFO\n"
     ]
    },
    {
     "name": "stderr",
     "output_type": "stream",
     "text": [
      "train.py:train():160: Epoch 20 / 3000 -\t\t Train loss: 0.0034971570130437613\tVal loss: 0.00655714888125658\tVal accuracy: 0.8763521909713745 INFO\n"
     ]
    },
    {
     "name": "stderr",
     "output_type": "stream",
     "text": [
      "train.py:train():160: Epoch 30 / 3000 -\t\t Train loss: 0.0034205454867333174\tVal loss: 0.007066648453474045\tVal accuracy: 0.8684937953948975 INFO\n"
     ]
    },
    {
     "name": "stderr",
     "output_type": "stream",
     "text": [
      "train.py:train():160: Epoch 40 / 3000 -\t\t Train loss: 0.0034196150954812765\tVal loss: 0.006026718765497208\tVal accuracy: 0.9041883945465088 INFO\n"
     ]
    },
    {
     "name": "stderr",
     "output_type": "stream",
     "text": [
      "train.py:train():160: Epoch 50 / 3000 -\t\t Train loss: 0.003324234625324607\tVal loss: 0.005234051961451769\tVal accuracy: 0.9357054829597473 INFO\n"
     ]
    },
    {
     "name": "stderr",
     "output_type": "stream",
     "text": [
      "train.py:train():160: Epoch 60 / 3000 -\t\t Train loss: 0.0034775598905980587\tVal loss: 0.004343438893556595\tVal accuracy: 0.9733866453170776 INFO\n"
     ]
    },
    {
     "name": "stderr",
     "output_type": "stream",
     "text": [
      "train.py:train():160: Epoch 70 / 3000 -\t\t Train loss: 0.003409560536965728\tVal loss: 0.004645008593797684\tVal accuracy: 0.9733991622924805 INFO\n"
     ]
    },
    {
     "name": "stderr",
     "output_type": "stream",
     "text": [
      "train.py:train():160: Epoch 80 / 3000 -\t\t Train loss: 0.003539784112945199\tVal loss: 0.004377912729978561\tVal accuracy: 0.9802100658416748 INFO\n"
     ]
    },
    {
     "name": "stderr",
     "output_type": "stream",
     "text": [
      "train.py:train():160: Epoch 90 / 3000 -\t\t Train loss: 0.003502604551613331\tVal loss: 0.004221282433718443\tVal accuracy: 0.9875885248184204 INFO\n"
     ]
    },
    {
     "name": "stderr",
     "output_type": "stream",
     "text": [
      "train.py:train():160: Epoch 100 / 3000 -\t\t Train loss: 0.0035056823398917913\tVal loss: 0.003990501631051302\tVal accuracy: 0.9874967336654663 INFO\n"
     ]
    },
    {
     "name": "stderr",
     "output_type": "stream",
     "text": [
      "train.py:train():160: Epoch 110 / 3000 -\t\t Train loss: 0.003584669204428792\tVal loss: 0.004193262197077274\tVal accuracy: 0.9858065247535706 INFO\n"
     ]
    },
    {
     "name": "stdout",
     "output_type": "stream",
     "text": [
      "here\n"
     ]
    },
    {
     "name": "stderr",
     "output_type": "stream",
     "text": [
      "train.py:train():160: Epoch 120 / 3000 -\t\t Train loss: 0.0034941418562084436\tVal loss: 0.00403009494766593\tVal accuracy: 0.9866578578948975 INFO\n"
     ]
    },
    {
     "name": "stderr",
     "output_type": "stream",
     "text": [
      "train.py:train():160: Epoch 130 / 3000 -\t\t Train loss: 0.0034701277036219835\tVal loss: 0.004127594642341137\tVal accuracy: 0.9826931953430176 INFO\n"
     ]
    },
    {
     "name": "stderr",
     "output_type": "stream",
     "text": [
      "train.py:train():160: Epoch 140 / 3000 -\t\t Train loss: 0.0035210864152759314\tVal loss: 0.004607740789651871\tVal accuracy: 0.9895792007446289 INFO\n"
     ]
    },
    {
     "name": "stderr",
     "output_type": "stream",
     "text": [
      "train.py:train():160: Epoch 150 / 3000 -\t\t Train loss: 0.13393349945545197\tVal loss: 0.1326720416545868\tVal accuracy: 0.3466087579727173 INFO\n"
     ]
    },
    {
     "name": "stderr",
     "output_type": "stream",
     "text": [
      "train.py:train():160: Epoch 160 / 3000 -\t\t Train loss: 0.12209424376487732\tVal loss: 0.12229008972644806\tVal accuracy: 0.34860360622406006 INFO\n"
     ]
    },
    {
     "name": "stderr",
     "output_type": "stream",
     "text": [
      "train.py:train():160: Epoch 170 / 3000 -\t\t Train loss: 0.12973153591156006\tVal loss: 0.12831108272075653\tVal accuracy: 0.34801098704338074 INFO\n"
     ]
    },
    {
     "name": "stderr",
     "output_type": "stream",
     "text": [
      "train.py:train():160: Epoch 180 / 3000 -\t\t Train loss: 0.1197071373462677\tVal loss: 0.12014583498239517\tVal accuracy: 0.34871211647987366 INFO\n"
     ]
    },
    {
     "name": "stderr",
     "output_type": "stream",
     "text": [
      "train.py:train():160: Epoch 190 / 3000 -\t\t Train loss: 0.12027932703495026\tVal loss: 0.1205771267414093\tVal accuracy: 0.34860360622406006 INFO\n"
     ]
    },
    {
     "name": "stderr",
     "output_type": "stream",
     "text": [
      "train.py:train():160: Epoch 200 / 3000 -\t\t Train loss: 0.13530445098876953\tVal loss: 0.13463252782821655\tVal accuracy: 0.3482321798801422 INFO\n"
     ]
    },
    {
     "name": "stderr",
     "output_type": "stream",
     "text": [
      "train.py:train():160: Epoch 210 / 3000 -\t\t Train loss: 0.1436941772699356\tVal loss: 0.13753050565719604\tVal accuracy: 0.34764373302459717 INFO\n"
     ]
    },
    {
     "name": "stderr",
     "output_type": "stream",
     "text": [
      "train.py:train():170: Early stopping triggered after 218 epochs:\n",
      "Train loss: nan\n",
      "Val loss: nan\n",
      "Val accuracy: 0.0\n",
      "Epochs no improvement: 116 WARNING\n"
     ]
    },
    {
     "name": "stdout",
     "output_type": "stream",
     "text": [
      "Training complete: 0:03:28.651043\n"
     ]
    },
    {
     "name": "stdout",
     "output_type": "stream",
     "text": [
      "Input contains NaN.\n"
     ]
    },
    {
     "name": "stderr",
     "output_type": "stream",
     "text": [
      "/tmp/ipykernel_3001434/1381821793.py:39: SettingWithCopyWarning: \n",
      "A value is trying to be set on a copy of a slice from a DataFrame\n",
      "\n",
      "See the caveats in the documentation: https://pandas.pydata.org/pandas-docs/stable/user_guide/indexing.html#returning-a-view-versus-a-copy\n",
      "  df_hpos_main.loc[i] = pd.Series(hpos) if type(\n"
     ]
    }
   ],
   "source": [
    "from bioreaction.misc.misc import load_json_as_dict\n",
    "\n",
    "top_dir = os.path.join('data', '03_cvae_multi', make_datetime_str())\n",
    "os.makedirs(top_dir, exist_ok=True)\n",
    "\n",
    "df_hpos2 = pd.DataFrame(load_json_as_dict(\n",
    "    'data/2025_01_15__10_59_22/df_hpos_main.json'))\n",
    "df_hpos_main = df_hpos.iloc[df_hpos2[df_hpos2['run_successful'].isin(\n",
    "    [False, 'TO_BE_RECORDED'])].index]\n",
    "for i in range(len(df_hpos_main)):\n",
    "    hpos = df_hpos_main.reset_index().iloc[i]\n",
    "    top_write_dir = os.path.join(top_dir, 'cvae_scan', f'hpo_{hpos[\"index\"]}')\n",
    "    # hpos['use_grad_clipping'] = True\n",
    "    # hpos = cvae_scan(hpos, top_write_dir=top_write_dir)\n",
    "    try:\n",
    "        try:\n",
    "            hpos = cvae_scan(hpos, top_write_dir=top_write_dir)\n",
    "            hpos.loc['run_successful'] = True\n",
    "            hpos.loc['error_msg'] = ''\n",
    "        except Exception as e:\n",
    "            print(e)\n",
    "            if 'nan' in e.lower() and (hpos['use_grad_clipping'] == False):\n",
    "                try:\n",
    "                    hpos['use_grad_clipping'] = True\n",
    "                    hpos = cvae_scan(hpos, top_write_dir=top_write_dir)\n",
    "                    hpos.loc['run_successful'] = True\n",
    "                    hpos.loc['error_msg'] = ''\n",
    "                except Exception as e:\n",
    "                    print(e)\n",
    "                    hpos.loc['run_successful'] = False\n",
    "                    hpos.loc['error_msg'] = str(e)\n",
    "            else:\n",
    "                hpos.loc['run_successful'] = False\n",
    "                hpos.loc['error_msg'] = str(e)\n",
    "    except:\n",
    "        hpos.loc['run_successful'] = False\n",
    "        hpos.loc['error_msg'] = 'sys exit'\n",
    "\n",
    "    df_hpos_main.loc[i] = pd.Series(hpos) if type(\n",
    "        hpos) == dict else hpos.drop('index')\n",
    "    # df_hpos_main.loc[i] = pd.DataFrame.from_dict(hpos).drop('index')\n",
    "    if not os.path.exists(top_dir):\n",
    "        os.makedirs(top_dir)\n",
    "    df_hpos_main.to_csv(os.path.join(top_dir, 'df_hpos_main.csv'))\n",
    "    write_json(df_hpos_main.to_dict(), os.path.join(\n",
    "        top_dir, 'df_hpos_main.json'), overwrite=True)"
   ]
  },
  {
   "cell_type": "code",
   "execution_count": null,
   "metadata": {},
   "outputs": [],
   "source": []
  }
 ],
 "metadata": {
  "kernelspec": {
   "display_name": "Python 3",
   "language": "python",
   "name": "python3"
  },
  "language_info": {
   "codemirror_mode": {
    "name": "ipython",
    "version": 3
   },
   "file_extension": ".py",
   "mimetype": "text/x-python",
   "name": "python",
   "nbconvert_exporter": "python",
   "pygments_lexer": "ipython3",
   "version": "3.11.10"
  }
 },
 "nbformat": 4,
 "nbformat_minor": 2
}
