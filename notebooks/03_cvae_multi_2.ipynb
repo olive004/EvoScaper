{
 "cells": [
  {
   "cell_type": "code",
   "execution_count": 1,
   "metadata": {
    "execution": {
     "iopub.execute_input": "2025-01-13T16:31:22.930771Z",
     "iopub.status.busy": "2025-01-13T16:31:22.930564Z",
     "iopub.status.idle": "2025-01-13T16:31:22.941980Z",
     "shell.execute_reply": "2025-01-13T16:31:22.941365Z"
    }
   },
   "outputs": [],
   "source": [
    "%load_ext autoreload\n",
    "%autoreload 2"
   ]
  },
  {
   "cell_type": "markdown",
   "metadata": {},
   "source": [
    "# Run VAE models systematically"
   ]
  },
  {
   "cell_type": "markdown",
   "metadata": {},
   "source": [
    "## Imports"
   ]
  },
  {
   "cell_type": "code",
   "execution_count": 2,
   "metadata": {
    "execution": {
     "iopub.execute_input": "2025-01-13T16:31:22.943917Z",
     "iopub.status.busy": "2025-01-13T16:31:22.943478Z",
     "iopub.status.idle": "2025-01-13T16:31:24.873062Z",
     "shell.execute_reply": "2025-01-13T16:31:24.872486Z"
    }
   },
   "outputs": [],
   "source": [
    "import pandas as pd\n",
    "import itertools\n",
    "import os\n",
    "from evoscaper.scripts.cvae_scan import main as cvae_scan\n",
    "from evoscaper.utils.preprocess import make_datetime_str\n",
    "from synbio_morpher.utils.data.data_format_tools.common import write_json"
   ]
  },
  {
   "cell_type": "markdown",
   "metadata": {},
   "source": [
    "## Create table of all VAE model training settings\n",
    "\n",
    "Parameters for:\n",
    "- Biological dataset generation\n",
    "- Training data\n",
    "    - Input\n",
    "    - Output \n",
    "- Model architecture\n",
    "- Training hyperparameters"
   ]
  },
  {
   "cell_type": "markdown",
   "metadata": {},
   "source": [
    "### Initial parameters"
   ]
  },
  {
   "cell_type": "code",
   "execution_count": 3,
   "metadata": {
    "execution": {
     "iopub.execute_input": "2025-01-13T16:31:24.877482Z",
     "iopub.status.busy": "2025-01-13T16:31:24.877207Z",
     "iopub.status.idle": "2025-01-13T16:31:24.905927Z",
     "shell.execute_reply": "2025-01-13T16:31:24.905452Z"
    }
   },
   "outputs": [],
   "source": [
    "data_dir = '../data'\n",
    "\n",
    "hpos_architecture = {\n",
    "    'seed_arch': 1,\n",
    "    'hidden_size': 16,\n",
    "    'enc_ls': 32,\n",
    "    'dec_ls': 32,\n",
    "    'num_enc_layers': 2,\n",
    "    'num_dec_layers': 2,\n",
    "    'factor_expanding_ls': 1,\n",
    "    'factor_contracting_ls': 1,\n",
    "    'model': 'CVAE',\n",
    "    'use_sigmoid_decoder': False,\n",
    "    'enc_init': 'HeNormal',\n",
    "    'dec_init': 'HeNormal',\n",
    "    'init_model_with_random': True,\n",
    "    'activation': 'leaky_relu',\n",
    "}\n",
    "\n",
    "hpos_training = {\n",
    "    'seed_train': 1,\n",
    "    'batch_size': 256,\n",
    "    'epochs': 3000,\n",
    "    'patience': 500,\n",
    "    'learning_rate': 1e-2,\n",
    "    'loss_func': 'mse',\n",
    "    'accuracy_func': 'accuracy_regression',\n",
    "    'use_dropout': False,\n",
    "    'dropout_rate': 0.1,\n",
    "    'use_l2_reg': False,\n",
    "    'l2_reg_alpha': 5e-2,\n",
    "    'use_kl_div': True,\n",
    "    # inspired by https://github.com/elttaes/VAE-MNIST-Haiku-Jax/blob/main/cVAE_mnist.ipynb\n",
    "    'kl_weight': 2.5e-4,\n",
    "}\n",
    "hpos_training['print_every'] = hpos_training['epochs'] // 50\n",
    "\n",
    "hpos_optimization = {\n",
    "    'seed_opt': 1,\n",
    "    'opt_method': 'adam',\n",
    "    'opt_min_lr': 1e-6,\n",
    "    'opt_min_delta': 1e-4,\n",
    "    'learning_rate_sched': 'cosine_decay',\n",
    "    'use_warmup': True,\n",
    "    'warmup_epochs': 20,\n",
    "}\n",
    "\n",
    "hpos_dataset = {\n",
    "    'seed_dataset': 1,\n",
    "    'include_diffs': False,\n",
    "    'objective_col': ('Log sensitivity',),\n",
    "    'output_species': ('RNA_2',),\n",
    "    'signal_species': ('RNA_0',),\n",
    "    'filenames_train_config': f'{data_dir}/raw/summarise_simulation/2024_12_05_210221/ensemble_config.json',\n",
    "    'filenames_train_table': f'{data_dir}/raw/summarise_simulation/2024_12_05_210221/tabulated_mutation_info.csv',\n",
    "    'filenames_verify_config': f'{data_dir}/raw/summarise_simulation/2024_11_21_160955/ensemble_config.json',\n",
    "    'filenames_verify_table': f'{data_dir}/raw/summarise_simulation/2024_11_21_160955/tabulated_mutation_info.csv',\n",
    "    'use_test_data': False,\n",
    "    # 'total_ds': None,   # TO BE RECORDED\n",
    "    'total_ds_max': 5e6,\n",
    "    'train_split': 0.8,\n",
    "    'x_type': 'energies',\n",
    "    # XY filtering:\n",
    "    'filt_x_nans': True,\n",
    "    'filt_y_nans': True,\n",
    "    'filt_sensitivity_nans': True,\n",
    "    'filt_precision_nans': True,\n",
    "    'filt_n_same_x_max': 1,\n",
    "    'filt_n_same_x_max_bins': 50,\n",
    "    # XY preprocessing:\n",
    "    'prep_x_standardise': False,\n",
    "    'prep_y_standardise': False,\n",
    "    'prep_x_min_max': True,\n",
    "    'prep_y_min_max': True,\n",
    "    'prep_x_robust_scaling': True,\n",
    "    'prep_y_robust_scaling': True,\n",
    "    'prep_x_logscale': False,\n",
    "    'prep_y_logscale': False,\n",
    "    'prep_x_categorical': False,\n",
    "    'prep_y_categorical': True,\n",
    "    'prep_x_categorical_onehot': False,\n",
    "    'prep_y_categorical_onehot': True,\n",
    "    'prep_x_categorical_n_bins': 10,\n",
    "    'prep_y_categorical_n_bins': 10,\n",
    "    'prep_x_categorical_method': 'quantile',\n",
    "    'prep_y_categorical_method': 'quantile',\n",
    "    'prep_x_negative': True,\n",
    "    'prep_y_negative': False\n",
    "}\n",
    "\n",
    "hpos_biological = {\n",
    "    'n_species': 3,\n",
    "    'sequence_length': 20,\n",
    "    'signal_function': 'step_function',\n",
    "    'signal_target': 2,\n",
    "    'starting_copynumbers_input': 200,\n",
    "    'starting_copynumbers_output': 200,\n",
    "    'starting_copynumbers_other': 200,\n",
    "    'association_binding_rate': 1000000,\n",
    "    'include_prod_deg': False,\n",
    "}\n",
    "\n",
    "hpos_eval = {\n",
    "    'eval_n_to_sample': 1e3\n",
    "}\n",
    "\n",
    "info_to_be_recorded = {\n",
    "    'filename_saved_model': 'TO_BE_RECORDED',\n",
    "    'total_ds': 'TO_BE_RECORDED',\n",
    "    'n_batches': 'TO_BE_RECORDED',\n",
    "    'R2_train': 'TO_BE_RECORDED',\n",
    "    'R2_test': 'TO_BE_RECORDED',\n",
    "    'mutual_information_conditionality': 'TO_BE_RECORDED',\n",
    "    'n_layers_enc': 'TO_BE_RECORDED',\n",
    "    'n_layers_dec': 'TO_BE_RECORDED',\n",
    "    'run_successful': 'TO_BE_RECORDED',\n",
    "    'info_early_stop': 'TO_BE_RECORDED',\n",
    "    'error_msg': 'TO_BE_RECORDED',\n",
    "}\n",
    "\n",
    "hpos_all = {}\n",
    "for d in [hpos_architecture, hpos_training, hpos_optimization, hpos_dataset, hpos_eval, info_to_be_recorded]:\n",
    "    hpos_all.update(d)"
   ]
  },
  {
   "cell_type": "code",
   "execution_count": 4,
   "metadata": {
    "execution": {
     "iopub.execute_input": "2025-01-13T16:31:24.908009Z",
     "iopub.status.busy": "2025-01-13T16:31:24.907893Z",
     "iopub.status.idle": "2025-01-13T16:31:24.938943Z",
     "shell.execute_reply": "2025-01-13T16:31:24.937866Z"
    }
   },
   "outputs": [
    {
     "data": {
      "text/html": [
       "<div>\n",
       "<style scoped>\n",
       "    .dataframe tbody tr th:only-of-type {\n",
       "        vertical-align: middle;\n",
       "    }\n",
       "\n",
       "    .dataframe tbody tr th {\n",
       "        vertical-align: top;\n",
       "    }\n",
       "\n",
       "    .dataframe thead th {\n",
       "        text-align: right;\n",
       "    }\n",
       "</style>\n",
       "<table border=\"1\" class=\"dataframe\">\n",
       "  <thead>\n",
       "    <tr style=\"text-align: right;\">\n",
       "      <th></th>\n",
       "      <th>seed_arch</th>\n",
       "      <th>hidden_size</th>\n",
       "      <th>enc_ls</th>\n",
       "      <th>dec_ls</th>\n",
       "      <th>num_enc_layers</th>\n",
       "      <th>num_dec_layers</th>\n",
       "      <th>factor_expanding_ls</th>\n",
       "      <th>factor_contracting_ls</th>\n",
       "      <th>model</th>\n",
       "      <th>use_sigmoid_decoder</th>\n",
       "      <th>...</th>\n",
       "      <th>total_ds</th>\n",
       "      <th>n_batches</th>\n",
       "      <th>R2_train</th>\n",
       "      <th>R2_test</th>\n",
       "      <th>mutual_information_conditionality</th>\n",
       "      <th>n_layers_enc</th>\n",
       "      <th>n_layers_dec</th>\n",
       "      <th>run_successful</th>\n",
       "      <th>info_early_stop</th>\n",
       "      <th>error_msg</th>\n",
       "    </tr>\n",
       "  </thead>\n",
       "  <tbody>\n",
       "    <tr>\n",
       "      <th>0</th>\n",
       "      <td>1</td>\n",
       "      <td>16</td>\n",
       "      <td>32</td>\n",
       "      <td>32</td>\n",
       "      <td>2</td>\n",
       "      <td>2</td>\n",
       "      <td>1</td>\n",
       "      <td>1</td>\n",
       "      <td>CVAE</td>\n",
       "      <td>False</td>\n",
       "      <td>...</td>\n",
       "      <td>TO_BE_RECORDED</td>\n",
       "      <td>TO_BE_RECORDED</td>\n",
       "      <td>TO_BE_RECORDED</td>\n",
       "      <td>TO_BE_RECORDED</td>\n",
       "      <td>TO_BE_RECORDED</td>\n",
       "      <td>TO_BE_RECORDED</td>\n",
       "      <td>TO_BE_RECORDED</td>\n",
       "      <td>TO_BE_RECORDED</td>\n",
       "      <td>TO_BE_RECORDED</td>\n",
       "      <td>TO_BE_RECORDED</td>\n",
       "    </tr>\n",
       "  </tbody>\n",
       "</table>\n",
       "<p>1 rows × 84 columns</p>\n",
       "</div>"
      ],
      "text/plain": [
       "  seed_arch hidden_size enc_ls dec_ls num_enc_layers num_dec_layers  \\\n",
       "0         1          16     32     32              2              2   \n",
       "\n",
       "  factor_expanding_ls factor_contracting_ls model use_sigmoid_decoder  ...  \\\n",
       "0                   1                     1  CVAE               False  ...   \n",
       "\n",
       "         total_ds       n_batches        R2_train         R2_test  \\\n",
       "0  TO_BE_RECORDED  TO_BE_RECORDED  TO_BE_RECORDED  TO_BE_RECORDED   \n",
       "\n",
       "  mutual_information_conditionality    n_layers_enc    n_layers_dec  \\\n",
       "0                    TO_BE_RECORDED  TO_BE_RECORDED  TO_BE_RECORDED   \n",
       "\n",
       "   run_successful info_early_stop       error_msg  \n",
       "0  TO_BE_RECORDED  TO_BE_RECORDED  TO_BE_RECORDED  \n",
       "\n",
       "[1 rows x 84 columns]"
      ]
     },
     "execution_count": 4,
     "metadata": {},
     "output_type": "execute_result"
    }
   ],
   "source": [
    "df_hpos = pd.DataFrame.from_dict(hpos_all, orient='index').T\n",
    "assert df_hpos.columns.duplicated().sum() == 0, 'Change some column names, there are duplicates'\n",
    "basic_setting = df_hpos.copy()\n",
    "df_hpos"
   ]
  },
  {
   "cell_type": "code",
   "execution_count": 5,
   "metadata": {
    "execution": {
     "iopub.execute_input": "2025-01-13T16:31:24.972723Z",
     "iopub.status.busy": "2025-01-13T16:31:24.972281Z",
     "iopub.status.idle": "2025-01-13T16:31:24.997610Z",
     "shell.execute_reply": "2025-01-13T16:31:24.997234Z"
    }
   },
   "outputs": [
    {
     "data": {
      "text/plain": [
       "0    ../data/raw/summarise_simulation/2024_12_05_21...\n",
       "Name: filenames_train_config, dtype: object"
      ]
     },
     "execution_count": 5,
     "metadata": {},
     "output_type": "execute_result"
    }
   ],
   "source": [
    "# for k, v in hpos_all.items():\n",
    "#     if type(v) == tuple:\n",
    "#         print(k, v)\n",
    "#         df_hpos[k] = df_hpos[k].apply(lambda x: tuple(x))\n",
    "df_hpos['filenames_train_config']        "
   ]
  },
  {
   "cell_type": "markdown",
   "metadata": {},
   "source": [
    "### All parameters"
   ]
  },
  {
   "cell_type": "code",
   "execution_count": 6,
   "metadata": {
    "execution": {
     "iopub.execute_input": "2025-01-13T16:31:24.998866Z",
     "iopub.status.busy": "2025-01-13T16:31:24.998730Z",
     "iopub.status.idle": "2025-01-13T16:31:25.024359Z",
     "shell.execute_reply": "2025-01-13T16:31:25.023417Z"
    }
   },
   "outputs": [],
   "source": [
    "hpos_to_vary_from_og = {\n",
    "    'seed_arch': [1, 2, 3, 4, 5],\n",
    "    'num_enc_layers': [4, 5],\n",
    "}\n",
    "hpos_to_vary_from_og2 = {\n",
    "    'objective_col': [('adaptation',), ('Log sensitivity',), ('Log sensitivity', 'Log precision')],\n",
    "}\n",
    "hpos_to_vary_from_og3 = {\n",
    "    'hidden_size': list(range(1, 33)),\n",
    "}\n",
    "hpos_to_vary_together = {\n",
    "    'hidden_size': [1, 2, 4, 8, 16, 32, 64, 128],\n",
    "    'enc_ls': [4, 8, 16, 32, 64],\n",
    "    'num_enc_layers': [1, 2, 3],\n",
    "    'factor_expanding_ls': [1, 2, 3],\n",
    "}\n",
    "hpos_to_vary_together2 = {\n",
    "    'hidden_size': [16, 32, 64],\n",
    "    'objective_col': [('adaptation',), ('Log sensitivity',)],\n",
    "    'x_type': ['energies', 'binding_rates_dissociation'],\n",
    "    'learning_rate': [1e-2, 1e-3, 1e-4],\n",
    "    'use_l2_reg': [True],\n",
    "    'l2_reg_alpha': [0, 1e-2, 1e-3, 1e-4],\n",
    "    'kl_weight': [1e-4, 1e-3, 1e-2, 1e-1, 1],\n",
    "}\n",
    "\n",
    "df_hpos.loc[df_hpos['objective_col'] == 'sensitivity_wrt_species-6', 'prep_y_logscale'] = True"
   ]
  },
  {
   "cell_type": "code",
   "execution_count": 7,
   "metadata": {
    "execution": {
     "iopub.execute_input": "2025-01-13T16:31:25.027698Z",
     "iopub.status.busy": "2025-01-13T16:31:25.027581Z",
     "iopub.status.idle": "2025-01-13T16:31:25.960001Z",
     "shell.execute_reply": "2025-01-13T16:31:25.959540Z"
    }
   },
   "outputs": [
    {
     "data": {
      "text/plain": [
       "1114"
      ]
     },
     "execution_count": 7,
     "metadata": {},
     "output_type": "execute_result"
    }
   ],
   "source": [
    "def keep_equal(df):\n",
    "    pairs = {\n",
    "        'enc_ls': 'dec_ls',\n",
    "        'num_enc_layers': 'num_dec_layers',\n",
    "        'factor_expanding_ls': 'factor_contracting_ls',\n",
    "    }\n",
    "    for k1, k2 in pairs.items():\n",
    "        if k1 in df.columns and k2 in df.columns:\n",
    "            df[k2] = df[k1]\n",
    "    return df\n",
    "\n",
    "\n",
    "def add_combinatorial_keys(df_hpos, hpos_to_vary_together, basic_setting):\n",
    "    keys_vary_together = sorted(hpos_to_vary_together.keys())\n",
    "    for v in itertools.product(*[hpos_to_vary_together[h] for h in keys_vary_together]):\n",
    "        curr = basic_setting.assign(\n",
    "            **{h: vv for h, vv in zip(keys_vary_together, v)})\n",
    "        df_hpos = pd.concat([df_hpos, curr], ignore_index=True)\n",
    "    return df_hpos\n",
    "\n",
    "\n",
    "def add_single_hpos(df_hpos, hpos_to_vary_from_og, basic_setting):\n",
    "    for h, v in hpos_to_vary_from_og.items():\n",
    "        try:\n",
    "            df_hpos = pd.concat(\n",
    "                [df_hpos] + [basic_setting.assign(**{h: vv}) for vv in v], ignore_index=True)\n",
    "        except ValueError:\n",
    "            for vv in v:\n",
    "                b = basic_setting.copy()\n",
    "                b.loc[0, h] = vv\n",
    "                df_hpos = pd.concat([df_hpos, b], ignore_index=True)\n",
    "    return df_hpos\n",
    "\n",
    "\n",
    "def postproc(df_hpos):\n",
    "    df_hpos = keep_equal(df_hpos)\n",
    "    df_hpos.loc[df_hpos['x_type'] ==\n",
    "                'binding_rates_dissociation', 'prep_x_negative'] = False\n",
    "    df_hpos = df_hpos.drop_duplicates().reset_index(drop=True)\n",
    "    return df_hpos\n",
    "\n",
    "\n",
    "df_hpos = add_single_hpos(df_hpos, hpos_to_vary_from_og3, basic_setting)\n",
    "df_hpos = add_single_hpos(df_hpos, hpos_to_vary_from_og2, basic_setting)\n",
    "df_hpos = add_combinatorial_keys(df_hpos, hpos_to_vary_together, basic_setting)\n",
    "df_hpos = add_combinatorial_keys(\n",
    "    df_hpos, hpos_to_vary_together2, basic_setting)\n",
    "df_hpos = add_single_hpos(df_hpos, hpos_to_vary_from_og, basic_setting)\n",
    "df_hpos = postproc(df_hpos)\n",
    "\n",
    "# Reorder columns\n",
    "cols_priority = list(set(list(hpos_to_vary_from_og.keys(\n",
    ")) + list(hpos_to_vary_together.keys()) + list(hpos_to_vary_together2.keys())))\n",
    "df_hpos = df_hpos[cols_priority +\n",
    "                  [c for c in df_hpos.columns if c not in cols_priority]]\n",
    "\n",
    "df_hpos.reset_index(drop=True)\n",
    "len(df_hpos)"
   ]
  },
  {
   "cell_type": "markdown",
   "metadata": {},
   "source": [
    "# Use table to create dataset for training"
   ]
  },
  {
   "cell_type": "code",
   "execution_count": 8,
   "metadata": {
    "execution": {
     "iopub.execute_input": "2025-01-13T16:31:25.962387Z",
     "iopub.status.busy": "2025-01-13T16:31:25.962187Z",
     "iopub.status.idle": "2025-01-13T16:31:25.985866Z",
     "shell.execute_reply": "2025-01-13T16:31:25.985529Z"
    }
   },
   "outputs": [],
   "source": [
    "# fn = '../data/raw/summarise_simulation/2024_11_21_144918/tabulated_mutation_info.csv'\n",
    "# # fn = '../data/raw/summarise_simulation/2024_11_21_160955/tabulated_mutation_info.csv'\n",
    "# # fn = '../data/raw/summarise_simulation/2024_12_05_210221/tabulated_mutation_info.csv'\n",
    "# data = pd.read_csv(fn).iloc[:100]\n",
    "# len(data)"
   ]
  },
  {
   "cell_type": "code",
   "execution_count": 9,
   "metadata": {
    "execution": {
     "iopub.execute_input": "2025-01-13T16:31:25.988534Z",
     "iopub.status.busy": "2025-01-13T16:31:25.988419Z",
     "iopub.status.idle": "2025-01-13T20:45:32.590941Z",
     "shell.execute_reply": "2025-01-13T20:45:32.590093Z"
    }
   },
   "outputs": [
    {
     "name": "stderr",
     "output_type": "stream",
     "text": [
      "xla_bridge.py:backends():900: Unable to initialize backend 'rocm': NOT_FOUND: Could not find registered platform with name: \"rocm\". Available platform names are: CUDA INFO\n"
     ]
    },
    {
     "name": "stderr",
     "output_type": "stream",
     "text": [
      "xla_bridge.py:backends():900: Unable to initialize backend 'tpu': INTERNAL: Failed to open libtpu.so: libtpu.so: cannot open shared object file: No such file or directory INFO\n"
     ]
    },
    {
     "name": "stderr",
     "output_type": "stream",
     "text": [
      "train.py:train():126: Epoch 0 / 3000 -\t\t Train loss: 0.11545269936323166\tVal loss: 0.08440466970205307\tVal accuracy: 0.3213975727558136 INFO\n"
     ]
    },
    {
     "name": "stderr",
     "output_type": "stream",
     "text": [
      "train.py:train():136: Early stopping triggered after 7 epochs:\n",
      "Train loss: 0.004399285186082125\n",
      "Val loss: 0.004476818721741438\n",
      "Val accuracy: 0.9923043847084045\n",
      "Epochs no improvement: 0 WARNING\n"
     ]
    },
    {
     "name": "stdout",
     "output_type": "stream",
     "text": [
      "Training complete: 0:00:09.605822\n"
     ]
    },
    {
     "name": "stdout",
     "output_type": "stream",
     "text": [
      "Warning: not using the test data for evaluation, but the training data instead of ../data/raw/summarise_simulation/2024_11_21_160955/tabulated_mutation_info.csv\n"
     ]
    },
    {
     "name": "stdout",
     "output_type": "stream",
     "text": [
      "The R2 score is  0.9785440564155579\n",
      "The R2 score with weighted variance is  0.9785440564155579\n"
     ]
    },
    {
     "name": "stderr",
     "output_type": "stream",
     "text": [
      "/workdir/src/evoscaper/utils/visualise.py:30: UserWarning: Creating legend with loc=\"best\" can be slow with large amounts of data.\n",
      "  plt.tight_layout()\n"
     ]
    },
    {
     "name": "stderr",
     "output_type": "stream",
     "text": [
      "2025-01-13 16:33:28.450957: W external/xla/xla/service/hlo_rematerialization.cc:3005] Can't reduce memory use below 10.89GiB (11697014906 bytes) by rematerialization; only reduced to 11.18GiB (12000000016 bytes), down from 11.18GiB (12000000016 bytes) originally\n"
     ]
    },
    {
     "name": "stdout",
     "output_type": "stream",
     "text": [
      "Steady states found. Now calculating signal response\n"
     ]
    },
    {
     "name": "stdout",
     "output_type": "stream",
     "text": [
      "data/2025_01_13__16_31_26/cvae_scan/hpo_0\n"
     ]
    },
    {
     "name": "stderr",
     "output_type": "stream",
     "text": [
      "/tmp/ipykernel_1299382/3564072330.py:20: SettingWithCopyWarning: \n",
      "A value is trying to be set on a copy of a slice from a DataFrame\n",
      "\n",
      "See the caveats in the documentation: https://pandas.pydata.org/pandas-docs/stable/user_guide/indexing.html#returning-a-view-versus-a-copy\n",
      "  df_hpos_main.loc[i] = pd.Series(hpos) if type(hpos) == dict else hpos.drop('index')\n"
     ]
    },
    {
     "name": "stderr",
     "output_type": "stream",
     "text": [
      "train.py:train():126: Epoch 0 / 3000 -\t\t Train loss: 0.16091540455818176\tVal loss: 0.07742345333099365\tVal accuracy: 0.30460822582244873 INFO\n"
     ]
    },
    {
     "name": "stderr",
     "output_type": "stream",
     "text": [
      "train.py:train():126: Epoch 10 / 3000 -\t\t Train loss: 0.03709343820810318\tVal loss: 0.03764248639345169\tVal accuracy: 0.44313403964042664 INFO\n"
     ]
    },
    {
     "name": "stderr",
     "output_type": "stream",
     "text": [
      "train.py:train():126: Epoch 20 / 3000 -\t\t Train loss: 0.03594241291284561\tVal loss: 0.03510478511452675\tVal accuracy: 0.4698684811592102 INFO\n"
     ]
    },
    {
     "name": "stderr",
     "output_type": "stream",
     "text": [
      "train.py:train():126: Epoch 30 / 3000 -\t\t Train loss: 0.03192804753780365\tVal loss: 0.03188631683588028\tVal accuracy: 0.4637753963470459 INFO\n"
     ]
    },
    {
     "name": "stderr",
     "output_type": "stream",
     "text": [
      "train.py:train():126: Epoch 40 / 3000 -\t\t Train loss: 0.029730485752224922\tVal loss: 0.03033108077943325\tVal accuracy: 0.45141395926475525 INFO\n"
     ]
    },
    {
     "name": "stderr",
     "output_type": "stream",
     "text": [
      "train.py:train():126: Epoch 50 / 3000 -\t\t Train loss: 0.02855910174548626\tVal loss: 0.028448453173041344\tVal accuracy: 0.47629544138908386 INFO\n"
     ]
    },
    {
     "name": "stderr",
     "output_type": "stream",
     "text": [
      "train.py:train():126: Epoch 60 / 3000 -\t\t Train loss: 0.027591796591877937\tVal loss: 0.027898672968149185\tVal accuracy: 0.4829978346824646 INFO\n"
     ]
    },
    {
     "name": "stderr",
     "output_type": "stream",
     "text": [
      "train.py:train():126: Epoch 70 / 3000 -\t\t Train loss: 0.02782423608005047\tVal loss: 0.02748509682714939\tVal accuracy: 0.48603183031082153 INFO\n"
     ]
    },
    {
     "name": "stderr",
     "output_type": "stream",
     "text": [
      "train.py:train():126: Epoch 80 / 3000 -\t\t Train loss: 0.027373146265745163\tVal loss: 0.027270250022411346\tVal accuracy: 0.48260968923568726 INFO\n"
     ]
    },
    {
     "name": "stderr",
     "output_type": "stream",
     "text": [
      "train.py:train():126: Epoch 90 / 3000 -\t\t Train loss: 0.027998361736536026\tVal loss: 0.02739393152296543\tVal accuracy: 0.4869624972343445 INFO\n"
     ]
    },
    {
     "name": "stderr",
     "output_type": "stream",
     "text": [
      "train.py:train():126: Epoch 100 / 3000 -\t\t Train loss: 0.02705393359065056\tVal loss: 0.026761522516608238\tVal accuracy: 0.5001711249351501 INFO\n"
     ]
    },
    {
     "name": "stderr",
     "output_type": "stream",
     "text": [
      "train.py:train():126: Epoch 110 / 3000 -\t\t Train loss: 0.02733790874481201\tVal loss: 0.027100620791316032\tVal accuracy: 0.5000668168067932 INFO\n"
     ]
    },
    {
     "name": "stderr",
     "output_type": "stream",
     "text": [
      "train.py:train():126: Epoch 120 / 3000 -\t\t Train loss: 0.027082566171884537\tVal loss: 0.027106748893857002\tVal accuracy: 0.48850664496421814 INFO\n"
     ]
    },
    {
     "name": "stderr",
     "output_type": "stream",
     "text": [
      "train.py:train():126: Epoch 130 / 3000 -\t\t Train loss: 0.02693244256079197\tVal loss: 0.026881279423832893\tVal accuracy: 0.49384433031082153 INFO\n"
     ]
    },
    {
     "name": "stderr",
     "output_type": "stream",
     "text": [
      "train.py:train():126: Epoch 140 / 3000 -\t\t Train loss: 0.026366684585809708\tVal loss: 0.026461439207196236\tVal accuracy: 0.5043736696243286 INFO\n"
     ]
    },
    {
     "name": "stderr",
     "output_type": "stream",
     "text": [
      "train.py:train():126: Epoch 150 / 3000 -\t\t Train loss: 0.02676301635801792\tVal loss: 0.026890212669968605\tVal accuracy: 0.49588510394096375 INFO\n"
     ]
    },
    {
     "name": "stderr",
     "output_type": "stream",
     "text": [
      "train.py:train():126: Epoch 160 / 3000 -\t\t Train loss: 0.026321392506361008\tVal loss: 0.0263361856341362\tVal accuracy: 0.5032594203948975 INFO\n"
     ]
    },
    {
     "name": "stderr",
     "output_type": "stream",
     "text": [
      "train.py:train():126: Epoch 170 / 3000 -\t\t Train loss: 0.02742905169725418\tVal loss: 0.027813604101538658\tVal accuracy: 0.4997830092906952 INFO\n"
     ]
    },
    {
     "name": "stderr",
     "output_type": "stream",
     "text": [
      "train.py:train():126: Epoch 180 / 3000 -\t\t Train loss: 0.026476534083485603\tVal loss: 0.02663620188832283\tVal accuracy: 0.5041316151618958 INFO\n"
     ]
    },
    {
     "name": "stderr",
     "output_type": "stream",
     "text": [
      "train.py:train():126: Epoch 190 / 3000 -\t\t Train loss: 0.026157287880778313\tVal loss: 0.02611946500837803\tVal accuracy: 0.5008722543716431 INFO\n"
     ]
    },
    {
     "name": "stderr",
     "output_type": "stream",
     "text": [
      "train.py:train():126: Epoch 200 / 3000 -\t\t Train loss: 0.025797557085752487\tVal loss: 0.026494815945625305\tVal accuracy: 0.5058802962303162 INFO\n"
     ]
    },
    {
     "name": "stderr",
     "output_type": "stream",
     "text": [
      "train.py:train():126: Epoch 210 / 3000 -\t\t Train loss: 0.026301737874746323\tVal loss: 0.025907177478075027\tVal accuracy: 0.5114641785621643 INFO\n"
     ]
    },
    {
     "name": "stderr",
     "output_type": "stream",
     "text": [
      "train.py:train():126: Epoch 220 / 3000 -\t\t Train loss: 0.026310477405786514\tVal loss: 0.026338184252381325\tVal accuracy: 0.5058718919754028 INFO\n"
     ]
    },
    {
     "name": "stderr",
     "output_type": "stream",
     "text": [
      "train.py:train():126: Epoch 230 / 3000 -\t\t Train loss: 0.026096949353814125\tVal loss: 0.02609109878540039\tVal accuracy: 0.5118064284324646 INFO\n"
     ]
    },
    {
     "name": "stderr",
     "output_type": "stream",
     "text": [
      "train.py:train():126: Epoch 240 / 3000 -\t\t Train loss: 0.02593323029577732\tVal loss: 0.02629920281469822\tVal accuracy: 0.4976337254047394 INFO\n"
     ]
    },
    {
     "name": "stderr",
     "output_type": "stream",
     "text": [
      "train.py:train():126: Epoch 250 / 3000 -\t\t Train loss: 0.04768097400665283\tVal loss: 0.04387020692229271\tVal accuracy: 0.3799162209033966 INFO\n"
     ]
    },
    {
     "name": "stderr",
     "output_type": "stream",
     "text": [
      "train.py:train():126: Epoch 260 / 3000 -\t\t Train loss: 0.03714638948440552\tVal loss: 0.037631988525390625\tVal accuracy: 0.4553076922893524 INFO\n"
     ]
    },
    {
     "name": "stderr",
     "output_type": "stream",
     "text": [
      "train.py:train():126: Epoch 270 / 3000 -\t\t Train loss: 0.036872927099466324\tVal loss: 0.03693382814526558\tVal accuracy: 0.44803354144096375 INFO\n"
     ]
    },
    {
     "name": "stderr",
     "output_type": "stream",
     "text": [
      "train.py:train():126: Epoch 280 / 3000 -\t\t Train loss: 0.03539394214749336\tVal loss: 0.0352509431540966\tVal accuracy: 0.4603908061981201 INFO\n"
     ]
    },
    {
     "name": "stderr",
     "output_type": "stream",
     "text": [
      "train.py:train():126: Epoch 290 / 3000 -\t\t Train loss: 0.033926740288734436\tVal loss: 0.03398016840219498\tVal accuracy: 0.46605822443962097 INFO\n"
     ]
    },
    {
     "name": "stderr",
     "output_type": "stream",
     "text": [
      "train.py:train():126: Epoch 300 / 3000 -\t\t Train loss: 0.033363789319992065\tVal loss: 0.03330836817622185\tVal accuracy: 0.44828811287879944 INFO\n"
     ]
    },
    {
     "name": "stderr",
     "output_type": "stream",
     "text": [
      "train.py:train():126: Epoch 310 / 3000 -\t\t Train loss: 0.03083116002380848\tVal loss: 0.03069283254444599\tVal accuracy: 0.46754392981529236 INFO\n"
     ]
    },
    {
     "name": "stderr",
     "output_type": "stream",
     "text": [
      "train.py:train():126: Epoch 320 / 3000 -\t\t Train loss: 0.03346120938658714\tVal loss: 0.03331579267978668\tVal accuracy: 0.44975295662879944 INFO\n"
     ]
    },
    {
     "name": "stderr",
     "output_type": "stream",
     "text": [
      "train.py:train():126: Epoch 330 / 3000 -\t\t Train loss: 0.0330420657992363\tVal loss: 0.03362691402435303\tVal accuracy: 0.44151896238327026 INFO\n"
     ]
    },
    {
     "name": "stderr",
     "output_type": "stream",
     "text": [
      "train.py:train():126: Epoch 340 / 3000 -\t\t Train loss: 0.03323224186897278\tVal loss: 0.0347713939845562\tVal accuracy: 0.43788814544677734 INFO\n"
     ]
    },
    {
     "name": "stderr",
     "output_type": "stream",
     "text": [
      "train.py:train():126: Epoch 350 / 3000 -\t\t Train loss: 0.031570080667734146\tVal loss: 0.03148997202515602\tVal accuracy: 0.46128392219543457 INFO\n"
     ]
    },
    {
     "name": "stderr",
     "output_type": "stream",
     "text": [
      "train.py:train():126: Epoch 360 / 3000 -\t\t Train loss: 0.03401324152946472\tVal loss: 0.03292124345898628\tVal accuracy: 0.4563802182674408 INFO\n"
     ]
    },
    {
     "name": "stderr",
     "output_type": "stream",
     "text": [
      "train.py:train():126: Epoch 370 / 3000 -\t\t Train loss: 0.030899029225111008\tVal loss: 0.030997490510344505\tVal accuracy: 0.4703400731086731 INFO\n"
     ]
    },
    {
     "name": "stderr",
     "output_type": "stream",
     "text": [
      "train.py:train():126: Epoch 380 / 3000 -\t\t Train loss: 0.03045758046209812\tVal loss: 0.030466871336102486\tVal accuracy: 0.4593391418457031 INFO\n"
     ]
    },
    {
     "name": "stderr",
     "output_type": "stream",
     "text": [
      "train.py:train():126: Epoch 390 / 3000 -\t\t Train loss: 0.030774466693401337\tVal loss: 0.030913345515727997\tVal accuracy: 0.4635542035102844 INFO\n"
     ]
    },
    {
     "name": "stderr",
     "output_type": "stream",
     "text": [
      "train.py:train():126: Epoch 400 / 3000 -\t\t Train loss: 0.030038272961974144\tVal loss: 0.030213331803679466\tVal accuracy: 0.4790748655796051 INFO\n"
     ]
    },
    {
     "name": "stderr",
     "output_type": "stream",
     "text": [
      "train.py:train():126: Epoch 410 / 3000 -\t\t Train loss: 0.029528656974434853\tVal loss: 0.029580557718873024\tVal accuracy: 0.4949836730957031 INFO\n"
     ]
    },
    {
     "name": "stderr",
     "output_type": "stream",
     "text": [
      "train.py:train():126: Epoch 420 / 3000 -\t\t Train loss: 0.02940794825553894\tVal loss: 0.030018266290426254\tVal accuracy: 0.49387356638908386 INFO\n"
     ]
    },
    {
     "name": "stderr",
     "output_type": "stream",
     "text": [
      "train.py:train():126: Epoch 430 / 3000 -\t\t Train loss: 0.029194973409175873\tVal loss: 0.029400615021586418\tVal accuracy: 0.48515960574150085 INFO\n"
     ]
    },
    {
     "name": "stderr",
     "output_type": "stream",
     "text": [
      "train.py:train():126: Epoch 440 / 3000 -\t\t Train loss: 0.029698355123400688\tVal loss: 0.029990311712026596\tVal accuracy: 0.46249836683273315 INFO\n"
     ]
    },
    {
     "name": "stderr",
     "output_type": "stream",
     "text": [
      "train.py:train():126: Epoch 450 / 3000 -\t\t Train loss: 0.02947530895471573\tVal loss: 0.02949688769876957\tVal accuracy: 0.451998233795166 INFO\n"
     ]
    },
    {
     "name": "stderr",
     "output_type": "stream",
     "text": [
      "train.py:train():126: Epoch 460 / 3000 -\t\t Train loss: 0.028315337374806404\tVal loss: 0.02832639217376709\tVal accuracy: 0.48036444187164307 INFO\n"
     ]
    },
    {
     "name": "stderr",
     "output_type": "stream",
     "text": [
      "train.py:train():126: Epoch 470 / 3000 -\t\t Train loss: 0.031051555648446083\tVal loss: 0.030767906457185745\tVal accuracy: 0.43962424993515015 INFO\n"
     ]
    },
    {
     "name": "stderr",
     "output_type": "stream",
     "text": [
      "train.py:train():126: Epoch 480 / 3000 -\t\t Train loss: 0.03014530800282955\tVal loss: 0.030126484110951424\tVal accuracy: 0.47079914808273315 INFO\n"
     ]
    },
    {
     "name": "stderr",
     "output_type": "stream",
     "text": [
      "train.py:train():126: Epoch 490 / 3000 -\t\t Train loss: 0.03080538846552372\tVal loss: 0.031045330688357353\tVal accuracy: 0.4744800329208374 INFO\n"
     ]
    },
    {
     "name": "stderr",
     "output_type": "stream",
     "text": [
      "train.py:train():126: Epoch 500 / 3000 -\t\t Train loss: 0.03038438782095909\tVal loss: 0.030428774654865265\tVal accuracy: 0.477159321308136 INFO\n"
     ]
    },
    {
     "name": "stderr",
     "output_type": "stream",
     "text": [
      "train.py:train():126: Epoch 510 / 3000 -\t\t Train loss: 0.03010510466992855\tVal loss: 0.03015710599720478\tVal accuracy: 0.4770257771015167 INFO\n"
     ]
    },
    {
     "name": "stderr",
     "output_type": "stream",
     "text": [
      "train.py:train():126: Epoch 520 / 3000 -\t\t Train loss: 0.029971016570925713\tVal loss: 0.030129587277770042\tVal accuracy: 0.4817166030406952 INFO\n"
     ]
    },
    {
     "name": "stderr",
     "output_type": "stream",
     "text": [
      "train.py:train():126: Epoch 530 / 3000 -\t\t Train loss: 0.0298161581158638\tVal loss: 0.02987854927778244\tVal accuracy: 0.473069429397583 INFO\n"
     ]
    },
    {
     "name": "stderr",
     "output_type": "stream",
     "text": [
      "train.py:train():126: Epoch 540 / 3000 -\t\t Train loss: 0.029868513345718384\tVal loss: 0.029546469449996948\tVal accuracy: 0.47873684763908386 INFO\n"
     ]
    },
    {
     "name": "stderr",
     "output_type": "stream",
     "text": [
      "train.py:train():126: Epoch 550 / 3000 -\t\t Train loss: 0.029185255989432335\tVal loss: 0.02940991148352623\tVal accuracy: 0.4728315472602844 INFO\n"
     ]
    },
    {
     "name": "stderr",
     "output_type": "stream",
     "text": [
      "train.py:train():126: Epoch 560 / 3000 -\t\t Train loss: 0.02907070517539978\tVal loss: 0.02891572192311287\tVal accuracy: 0.4888363182544708 INFO\n"
     ]
    },
    {
     "name": "stderr",
     "output_type": "stream",
     "text": [
      "train.py:train():126: Epoch 570 / 3000 -\t\t Train loss: 0.02904481627047062\tVal loss: 0.029200365766882896\tVal accuracy: 0.4823968708515167 INFO\n"
     ]
    },
    {
     "name": "stderr",
     "output_type": "stream",
     "text": [
      "train.py:train():126: Epoch 580 / 3000 -\t\t Train loss: 0.029005616903305054\tVal loss: 0.02953369915485382\tVal accuracy: 0.47463443875312805 INFO\n"
     ]
    },
    {
     "name": "stderr",
     "output_type": "stream",
     "text": [
      "train.py:train():126: Epoch 590 / 3000 -\t\t Train loss: 0.0290005411952734\tVal loss: 0.02910051867365837\tVal accuracy: 0.48265978693962097 INFO\n"
     ]
    },
    {
     "name": "stderr",
     "output_type": "stream",
     "text": [
      "train.py:train():126: Epoch 600 / 3000 -\t\t Train loss: 0.02875068411231041\tVal loss: 0.02903798408806324\tVal accuracy: 0.47284406423568726 INFO\n"
     ]
    },
    {
     "name": "stderr",
     "output_type": "stream",
     "text": [
      "train.py:train():126: Epoch 610 / 3000 -\t\t Train loss: 0.029278144240379333\tVal loss: 0.03033917024731636\tVal accuracy: 0.48121580481529236 INFO\n"
     ]
    },
    {
     "name": "stderr",
     "output_type": "stream",
     "text": [
      "train.py:train():126: Epoch 620 / 3000 -\t\t Train loss: 0.029937248677015305\tVal loss: 0.030303385108709335\tVal accuracy: 0.4817750155925751 INFO\n"
     ]
    },
    {
     "name": "stderr",
     "output_type": "stream",
     "text": [
      "train.py:train():126: Epoch 630 / 3000 -\t\t Train loss: 0.029120665043592453\tVal loss: 0.029520532116293907\tVal accuracy: 0.4817124307155609 INFO\n"
     ]
    },
    {
     "name": "stderr",
     "output_type": "stream",
     "text": [
      "train.py:train():126: Epoch 640 / 3000 -\t\t Train loss: 0.029673278331756592\tVal loss: 0.030633840709924698\tVal accuracy: 0.46483126282691956 INFO\n"
     ]
    },
    {
     "name": "stderr",
     "output_type": "stream",
     "text": [
      "train.py:train():126: Epoch 650 / 3000 -\t\t Train loss: 0.03144015371799469\tVal loss: 0.03176272660493851\tVal accuracy: 0.4705195128917694 INFO\n"
     ]
    },
    {
     "name": "stderr",
     "output_type": "stream",
     "text": [
      "train.py:train():126: Epoch 660 / 3000 -\t\t Train loss: 0.029275842010974884\tVal loss: 0.029217904433608055\tVal accuracy: 0.4828684329986572 INFO\n"
     ]
    },
    {
     "name": "stderr",
     "output_type": "stream",
     "text": [
      "train.py:train():126: Epoch 670 / 3000 -\t\t Train loss: 0.029912715777754784\tVal loss: 0.030044708400964737\tVal accuracy: 0.4813159704208374 INFO\n"
     ]
    },
    {
     "name": "stderr",
     "output_type": "stream",
     "text": [
      "train.py:train():126: Epoch 680 / 3000 -\t\t Train loss: 0.0295096468180418\tVal loss: 0.029843293130397797\tVal accuracy: 0.48034775257110596 INFO\n"
     ]
    },
    {
     "name": "stderr",
     "output_type": "stream",
     "text": [
      "train.py:train():126: Epoch 690 / 3000 -\t\t Train loss: 0.0290607251226902\tVal loss: 0.029073376208543777\tVal accuracy: 0.48709604144096375 INFO\n"
     ]
    },
    {
     "name": "stderr",
     "output_type": "stream",
     "text": [
      "train.py:train():126: Epoch 700 / 3000 -\t\t Train loss: 0.029823951423168182\tVal loss: 0.030322283506393433\tVal accuracy: 0.48043540120124817 INFO\n"
     ]
    },
    {
     "name": "stderr",
     "output_type": "stream",
     "text": [
      "train.py:train():126: Epoch 710 / 3000 -\t\t Train loss: 0.029005175456404686\tVal loss: 0.029556773602962494\tVal accuracy: 0.4706655740737915 INFO\n"
     ]
    },
    {
     "name": "stderr",
     "output_type": "stream",
     "text": [
      "train.py:train():126: Epoch 720 / 3000 -\t\t Train loss: 0.029180284589529037\tVal loss: 0.02936898171901703\tVal accuracy: 0.47854486107826233 INFO\n"
     ]
    },
    {
     "name": "stderr",
     "output_type": "stream",
     "text": [
      "train.py:train():126: Epoch 730 / 3000 -\t\t Train loss: 0.02937667816877365\tVal loss: 0.02945931814610958\tVal accuracy: 0.4829268753528595 INFO\n"
     ]
    },
    {
     "name": "stderr",
     "output_type": "stream",
     "text": [
      "train.py:train():126: Epoch 740 / 3000 -\t\t Train loss: 0.029755985364317894\tVal loss: 0.029967235401272774\tVal accuracy: 0.4775724709033966 INFO\n"
     ]
    },
    {
     "name": "stderr",
     "output_type": "stream",
     "text": [
      "train.py:train():126: Epoch 750 / 3000 -\t\t Train loss: 0.029578838497400284\tVal loss: 0.02970009297132492\tVal accuracy: 0.4756903052330017 INFO\n"
     ]
    },
    {
     "name": "stderr",
     "output_type": "stream",
     "text": [
      "train.py:train():126: Epoch 760 / 3000 -\t\t Train loss: 0.029627829790115356\tVal loss: 0.02954079397022724\tVal accuracy: 0.4736495316028595 INFO\n"
     ]
    },
    {
     "name": "stderr",
     "output_type": "stream",
     "text": [
      "train.py:train():126: Epoch 770 / 3000 -\t\t Train loss: 0.03114978037774563\tVal loss: 0.031004903838038445\tVal accuracy: 0.4630367159843445 INFO\n"
     ]
    },
    {
     "name": "stderr",
     "output_type": "stream",
     "text": [
      "train.py:train():126: Epoch 780 / 3000 -\t\t Train loss: 0.030426016077399254\tVal loss: 0.030478009954094887\tVal accuracy: 0.47190508246421814 INFO\n"
     ]
    },
    {
     "name": "stderr",
     "output_type": "stream",
     "text": [
      "train.py:train():126: Epoch 790 / 3000 -\t\t Train loss: 0.030176185071468353\tVal loss: 0.030954333022236824\tVal accuracy: 0.47241005301475525 INFO\n"
     ]
    },
    {
     "name": "stderr",
     "output_type": "stream",
     "text": [
      "train.py:train():126: Epoch 800 / 3000 -\t\t Train loss: 0.030240587890148163\tVal loss: 0.03043193370103836\tVal accuracy: 0.47731372714042664 INFO\n"
     ]
    },
    {
     "name": "stderr",
     "output_type": "stream",
     "text": [
      "train.py:train():126: Epoch 810 / 3000 -\t\t Train loss: 0.030248861759901047\tVal loss: 0.03071032650768757\tVal accuracy: 0.4791833758354187 INFO\n"
     ]
    },
    {
     "name": "stderr",
     "output_type": "stream",
     "text": [
      "train.py:train():126: Epoch 820 / 3000 -\t\t Train loss: 0.030241983011364937\tVal loss: 0.030340872704982758\tVal accuracy: 0.4777686297893524 INFO\n"
     ]
    },
    {
     "name": "stderr",
     "output_type": "stream",
     "text": [
      "train.py:train():126: Epoch 830 / 3000 -\t\t Train loss: 0.029969969764351845\tVal loss: 0.030528055503964424\tVal accuracy: 0.47325724363327026 INFO\n"
     ]
    },
    {
     "name": "stderr",
     "output_type": "stream",
     "text": [
      "train.py:train():126: Epoch 840 / 3000 -\t\t Train loss: 0.02984391339123249\tVal loss: 0.030166175216436386\tVal accuracy: 0.4851178824901581 INFO\n"
     ]
    },
    {
     "name": "stderr",
     "output_type": "stream",
     "text": [
      "train.py:train():126: Epoch 850 / 3000 -\t\t Train loss: 0.029685907065868378\tVal loss: 0.029864221811294556\tVal accuracy: 0.476257860660553 INFO\n"
     ]
    },
    {
     "name": "stderr",
     "output_type": "stream",
     "text": [
      "train.py:train():126: Epoch 860 / 3000 -\t\t Train loss: 0.029465392231941223\tVal loss: 0.029401870444417\tVal accuracy: 0.48919522762298584 INFO\n"
     ]
    },
    {
     "name": "stderr",
     "output_type": "stream",
     "text": [
      "train.py:train():126: Epoch 870 / 3000 -\t\t Train loss: 0.03483235090970993\tVal loss: 0.04557042941451073\tVal accuracy: 0.37940290570259094 INFO\n"
     ]
    },
    {
     "name": "stderr",
     "output_type": "stream",
     "text": [
      "train.py:train():126: Epoch 880 / 3000 -\t\t Train loss: 0.03446197137236595\tVal loss: 0.0344867967069149\tVal accuracy: 0.4353298842906952 INFO\n"
     ]
    },
    {
     "name": "stderr",
     "output_type": "stream",
     "text": [
      "train.py:train():126: Epoch 890 / 3000 -\t\t Train loss: 0.047505710273981094\tVal loss: 0.047343991696834564\tVal accuracy: 0.3951823115348816 INFO\n"
     ]
    },
    {
     "name": "stderr",
     "output_type": "stream",
     "text": [
      "train.py:train():126: Epoch 900 / 3000 -\t\t Train loss: 0.03846839442849159\tVal loss: 0.038492679595947266\tVal accuracy: 0.4483173191547394 INFO\n"
     ]
    },
    {
     "name": "stderr",
     "output_type": "stream",
     "text": [
      "train.py:train():126: Epoch 910 / 3000 -\t\t Train loss: 0.0362623855471611\tVal loss: 0.036412160843610764\tVal accuracy: 0.43542587757110596 INFO\n"
     ]
    },
    {
     "name": "stderr",
     "output_type": "stream",
     "text": [
      "train.py:train():126: Epoch 920 / 3000 -\t\t Train loss: 0.034651149064302444\tVal loss: 0.034756168723106384\tVal accuracy: 0.4494524896144867 INFO\n"
     ]
    },
    {
     "name": "stderr",
     "output_type": "stream",
     "text": [
      "train.py:train():126: Epoch 930 / 3000 -\t\t Train loss: 0.03371158987283707\tVal loss: 0.03375906124711037\tVal accuracy: 0.473253071308136 INFO\n"
     ]
    },
    {
     "name": "stderr",
     "output_type": "stream",
     "text": [
      "train.py:train():126: Epoch 940 / 3000 -\t\t Train loss: 0.033306512981653214\tVal loss: 0.033535316586494446\tVal accuracy: 0.46013206243515015 INFO\n"
     ]
    },
    {
     "name": "stderr",
     "output_type": "stream",
     "text": [
      "train.py:train():126: Epoch 950 / 3000 -\t\t Train loss: 0.033106423914432526\tVal loss: 0.03343529254198074\tVal accuracy: 0.45014524459838867 INFO\n"
     ]
    },
    {
     "name": "stderr",
     "output_type": "stream",
     "text": [
      "train.py:train():126: Epoch 960 / 3000 -\t\t Train loss: 0.03268127515912056\tVal loss: 0.03306151181459427\tVal accuracy: 0.45843350887298584 INFO\n"
     ]
    },
    {
     "name": "stderr",
     "output_type": "stream",
     "text": [
      "train.py:train():126: Epoch 970 / 3000 -\t\t Train loss: 0.033259376883506775\tVal loss: 0.033562351018190384\tVal accuracy: 0.4500868320465088 INFO\n"
     ]
    },
    {
     "name": "stderr",
     "output_type": "stream",
     "text": [
      "train.py:train():126: Epoch 980 / 3000 -\t\t Train loss: 0.032518886029720306\tVal loss: 0.032887984067201614\tVal accuracy: 0.4584543704986572 INFO\n"
     ]
    },
    {
     "name": "stderr",
     "output_type": "stream",
     "text": [
      "train.py:train():126: Epoch 990 / 3000 -\t\t Train loss: 0.03215177357196808\tVal loss: 0.03248568996787071\tVal accuracy: 0.4631410539150238 INFO\n"
     ]
    },
    {
     "name": "stderr",
     "output_type": "stream",
     "text": [
      "train.py:train():126: Epoch 1000 / 3000 -\t\t Train loss: 0.032133739441633224\tVal loss: 0.03230265900492668\tVal accuracy: 0.4781024754047394 INFO\n"
     ]
    },
    {
     "name": "stderr",
     "output_type": "stream",
     "text": [
      "train.py:train():126: Epoch 1010 / 3000 -\t\t Train loss: 0.0319882333278656\tVal loss: 0.032394204288721085\tVal accuracy: 0.46953460574150085 INFO\n"
     ]
    },
    {
     "name": "stderr",
     "output_type": "stream",
     "text": [
      "train.py:train():126: Epoch 1020 / 3000 -\t\t Train loss: 0.03192897140979767\tVal loss: 0.032074883580207825\tVal accuracy: 0.4642845392227173 INFO\n"
     ]
    },
    {
     "name": "stderr",
     "output_type": "stream",
     "text": [
      "train.py:train():126: Epoch 1030 / 3000 -\t\t Train loss: 0.031899623572826385\tVal loss: 0.03664310649037361\tVal accuracy: 0.4638630449771881 INFO\n"
     ]
    },
    {
     "name": "stderr",
     "output_type": "stream",
     "text": [
      "train.py:train():126: Epoch 1040 / 3000 -\t\t Train loss: 0.03043677844107151\tVal loss: 0.030733440071344376\tVal accuracy: 0.46466848254203796 INFO\n"
     ]
    },
    {
     "name": "stderr",
     "output_type": "stream",
     "text": [
      "train.py:train():126: Epoch 1050 / 3000 -\t\t Train loss: 0.030220037326216698\tVal loss: 0.030218401923775673\tVal accuracy: 0.4617680311203003 INFO\n"
     ]
    },
    {
     "name": "stderr",
     "output_type": "stream",
     "text": [
      "train.py:train():126: Epoch 1060 / 3000 -\t\t Train loss: 0.029823627322912216\tVal loss: 0.03008626587688923\tVal accuracy: 0.462456613779068 INFO\n"
     ]
    },
    {
     "name": "stderr",
     "output_type": "stream",
     "text": [
      "train.py:train():126: Epoch 1070 / 3000 -\t\t Train loss: 0.029668064787983894\tVal loss: 0.029823191463947296\tVal accuracy: 0.4890908896923065 INFO\n"
     ]
    },
    {
     "name": "stderr",
     "output_type": "stream",
     "text": [
      "train.py:train():126: Epoch 1080 / 3000 -\t\t Train loss: 0.02977249026298523\tVal loss: 0.029995180666446686\tVal accuracy: 0.45729002356529236 INFO\n"
     ]
    },
    {
     "name": "stderr",
     "output_type": "stream",
     "text": [
      "train.py:train():126: Epoch 1090 / 3000 -\t\t Train loss: 0.02950327843427658\tVal loss: 0.02986600250005722\tVal accuracy: 0.47879526019096375 INFO\n"
     ]
    },
    {
     "name": "stderr",
     "output_type": "stream",
     "text": [
      "train.py:train():126: Epoch 1100 / 3000 -\t\t Train loss: 0.0296690221875906\tVal loss: 0.02964511513710022\tVal accuracy: 0.48528480529785156 INFO\n"
     ]
    },
    {
     "name": "stderr",
     "output_type": "stream",
     "text": [
      "train.py:train():126: Epoch 1110 / 3000 -\t\t Train loss: 0.029452722519636154\tVal loss: 0.02964741177856922\tVal accuracy: 0.4795130789279938 INFO\n"
     ]
    },
    {
     "name": "stderr",
     "output_type": "stream",
     "text": [
      "train.py:train():126: Epoch 1120 / 3000 -\t\t Train loss: 0.06257959455251694\tVal loss: 0.06313230097293854\tVal accuracy: 0.312683641910553 INFO\n"
     ]
    },
    {
     "name": "stderr",
     "output_type": "stream",
     "text": [
      "train.py:train():126: Epoch 1130 / 3000 -\t\t Train loss: 0.05259013921022415\tVal loss: 0.05282725393772125\tVal accuracy: 0.34983891248703003 INFO\n"
     ]
    },
    {
     "name": "stderr",
     "output_type": "stream",
     "text": [
      "train.py:train():126: Epoch 1140 / 3000 -\t\t Train loss: 0.052161410450935364\tVal loss: 0.05231565609574318\tVal accuracy: 0.3476562798023224 INFO\n"
     ]
    },
    {
     "name": "stderr",
     "output_type": "stream",
     "text": [
      "train.py:train():126: Epoch 1150 / 3000 -\t\t Train loss: 0.05004170536994934\tVal loss: 0.05044333264231682\tVal accuracy: 0.3481654226779938 INFO\n"
     ]
    },
    {
     "name": "stderr",
     "output_type": "stream",
     "text": [
      "train.py:train():126: Epoch 1160 / 3000 -\t\t Train loss: 0.050016921013593674\tVal loss: 0.050295598804950714\tVal accuracy: 0.3470052182674408 INFO\n"
     ]
    },
    {
     "name": "stderr",
     "output_type": "stream",
     "text": [
      "train.py:train():126: Epoch 1170 / 3000 -\t\t Train loss: 0.04906880110502243\tVal loss: 0.049377359449863434\tVal accuracy: 0.3369307816028595 INFO\n"
     ]
    },
    {
     "name": "stderr",
     "output_type": "stream",
     "text": [
      "train.py:train():126: Epoch 1180 / 3000 -\t\t Train loss: 0.04907386749982834\tVal loss: 0.04927567020058632\tVal accuracy: 0.351358026266098 INFO\n"
     ]
    },
    {
     "name": "stderr",
     "output_type": "stream",
     "text": [
      "train.py:train():126: Epoch 1190 / 3000 -\t\t Train loss: 0.04905569553375244\tVal loss: 0.049194008111953735\tVal accuracy: 0.34769800305366516 INFO\n"
     ]
    },
    {
     "name": "stderr",
     "output_type": "stream",
     "text": [
      "train.py:train():126: Epoch 1200 / 3000 -\t\t Train loss: 0.049041997641325\tVal loss: 0.04927876964211464\tVal accuracy: 0.3495926856994629 INFO\n"
     ]
    },
    {
     "name": "stderr",
     "output_type": "stream",
     "text": [
      "train.py:train():126: Epoch 1210 / 3000 -\t\t Train loss: 0.0494634285569191\tVal loss: 0.0494362898170948\tVal accuracy: 0.3459535539150238 INFO\n"
     ]
    },
    {
     "name": "stderr",
     "output_type": "stream",
     "text": [
      "train.py:train():126: Epoch 1220 / 3000 -\t\t Train loss: 0.049050554633140564\tVal loss: 0.049203597009181976\tVal accuracy: 0.3460829257965088 INFO\n"
     ]
    },
    {
     "name": "stderr",
     "output_type": "stream",
     "text": [
      "train.py:train():126: Epoch 1230 / 3000 -\t\t Train loss: 0.04902177304029465\tVal loss: 0.04921501502394676\tVal accuracy: 0.34529832005500793 INFO\n"
     ]
    },
    {
     "name": "stderr",
     "output_type": "stream",
     "text": [
      "train.py:train():126: Epoch 1240 / 3000 -\t\t Train loss: 0.04901226982474327\tVal loss: 0.049217451363801956\tVal accuracy: 0.3499015271663666 INFO\n"
     ]
    },
    {
     "name": "stderr",
     "output_type": "stream",
     "text": [
      "train.py:train():136: Early stopping triggered after 1248 epochs:\n",
      "Train loss: 0.04900697246193886\n",
      "Val loss: 0.04916113615036011\n",
      "Val accuracy: 0.35240551829338074\n",
      "Epochs no improvement: 1001 WARNING\n"
     ]
    },
    {
     "name": "stdout",
     "output_type": "stream",
     "text": [
      "Training complete: 0:21:53.741888\n"
     ]
    },
    {
     "name": "stdout",
     "output_type": "stream",
     "text": [
      "Warning: not using the test data for evaluation, but the training data instead of ../data/raw/summarise_simulation/2024_11_21_160955/tabulated_mutation_info.csv\n"
     ]
    },
    {
     "name": "stdout",
     "output_type": "stream",
     "text": [
      "The R2 score is  0.13535159826278687\n",
      "The R2 score with weighted variance is  0.13535159826278687\n"
     ]
    },
    {
     "name": "stderr",
     "output_type": "stream",
     "text": [
      "/workdir/src/evoscaper/utils/visualise.py:30: UserWarning: Creating legend with loc=\"best\" can be slow with large amounts of data.\n",
      "  plt.tight_layout()\n"
     ]
    },
    {
     "name": "stderr",
     "output_type": "stream",
     "text": [
      "/workdir/src/evoscaper/utils/visualise.py:32: UserWarning: Creating legend with loc=\"best\" can be slow with large amounts of data.\n",
      "  plt.savefig(save_path, transparent=True, dpi=300)\n"
     ]
    },
    {
     "name": "stderr",
     "output_type": "stream",
     "text": [
      "/tmp/ipykernel_1299382/3564072330.py:20: SettingWithCopyWarning: \n",
      "A value is trying to be set on a copy of a slice from a DataFrame\n",
      "\n",
      "See the caveats in the documentation: https://pandas.pydata.org/pandas-docs/stable/user_guide/indexing.html#returning-a-view-versus-a-copy\n",
      "  df_hpos_main.loc[i] = pd.Series(hpos) if type(hpos) == dict else hpos.drop('index')\n"
     ]
    },
    {
     "name": "stderr",
     "output_type": "stream",
     "text": [
      "train.py:train():126: Epoch 0 / 3000 -\t\t Train loss: 0.0850759968161583\tVal loss: 0.0551363080739975\tVal accuracy: 0.29670390486717224 INFO\n"
     ]
    },
    {
     "name": "stderr",
     "output_type": "stream",
     "text": [
      "train.py:train():126: Epoch 10 / 3000 -\t\t Train loss: 0.030824551358819008\tVal loss: 0.03185836225748062\tVal accuracy: 0.48193779587745667 INFO\n"
     ]
    },
    {
     "name": "stderr",
     "output_type": "stream",
     "text": [
      "train.py:train():126: Epoch 20 / 3000 -\t\t Train loss: 0.026893872767686844\tVal loss: 0.026539215818047523\tVal accuracy: 0.5126285552978516 INFO\n"
     ]
    },
    {
     "name": "stderr",
     "output_type": "stream",
     "text": [
      "train.py:train():126: Epoch 30 / 3000 -\t\t Train loss: 0.02632927894592285\tVal loss: 0.02641090378165245\tVal accuracy: 0.5097823143005371 INFO\n"
     ]
    },
    {
     "name": "stderr",
     "output_type": "stream",
     "text": [
      "train.py:train():126: Epoch 40 / 3000 -\t\t Train loss: 0.026056498289108276\tVal loss: 0.026679838076233864\tVal accuracy: 0.4996494650840759 INFO\n"
     ]
    },
    {
     "name": "stderr",
     "output_type": "stream",
     "text": [
      "train.py:train():126: Epoch 50 / 3000 -\t\t Train loss: 0.024763911962509155\tVal loss: 0.024495312944054604\tVal accuracy: 0.5364083051681519 INFO\n"
     ]
    },
    {
     "name": "stderr",
     "output_type": "stream",
     "text": [
      "train.py:train():126: Epoch 60 / 3000 -\t\t Train loss: 0.024756940081715584\tVal loss: 0.02728247083723545\tVal accuracy: 0.5234917998313904 INFO\n"
     ]
    },
    {
     "name": "stderr",
     "output_type": "stream",
     "text": [
      "train.py:train():126: Epoch 70 / 3000 -\t\t Train loss: 0.024635404348373413\tVal loss: 0.025970617309212685\tVal accuracy: 0.5195103883743286 INFO\n"
     ]
    },
    {
     "name": "stderr",
     "output_type": "stream",
     "text": [
      "train.py:train():126: Epoch 80 / 3000 -\t\t Train loss: 0.025537151843309402\tVal loss: 0.02437947876751423\tVal accuracy: 0.5128914713859558 INFO\n"
     ]
    },
    {
     "name": "stderr",
     "output_type": "stream",
     "text": [
      "train.py:train():126: Epoch 90 / 3000 -\t\t Train loss: 0.023353155702352524\tVal loss: 0.027000678703188896\tVal accuracy: 0.499979168176651 INFO\n"
     ]
    },
    {
     "name": "stderr",
     "output_type": "stream",
     "text": [
      "train.py:train():126: Epoch 100 / 3000 -\t\t Train loss: 0.026153337210416794\tVal loss: 0.02584678865969181\tVal accuracy: 0.5253280401229858 INFO\n"
     ]
    },
    {
     "name": "stderr",
     "output_type": "stream",
     "text": [
      "train.py:train():126: Epoch 110 / 3000 -\t\t Train loss: 0.024488624185323715\tVal loss: 0.02587718702852726\tVal accuracy: 0.5123739838600159 INFO\n"
     ]
    },
    {
     "name": "stderr",
     "output_type": "stream",
     "text": [
      "train.py:train():136: Early stopping triggered after 120 epochs:\n",
      "Train loss: nan\n",
      "Val loss: nan\n",
      "Val accuracy: 0.0\n",
      "Epochs no improvement: 43 WARNING\n"
     ]
    },
    {
     "name": "stdout",
     "output_type": "stream",
     "text": [
      "Training complete: 0:02:01.982720\n"
     ]
    },
    {
     "name": "stdout",
     "output_type": "stream",
     "text": [
      "Input contains NaN.\n"
     ]
    },
    {
     "name": "stderr",
     "output_type": "stream",
     "text": [
      "/tmp/ipykernel_1299382/3564072330.py:20: SettingWithCopyWarning: \n",
      "A value is trying to be set on a copy of a slice from a DataFrame\n",
      "\n",
      "See the caveats in the documentation: https://pandas.pydata.org/pandas-docs/stable/user_guide/indexing.html#returning-a-view-versus-a-copy\n",
      "  df_hpos_main.loc[i] = pd.Series(hpos) if type(hpos) == dict else hpos.drop('index')\n"
     ]
    },
    {
     "name": "stderr",
     "output_type": "stream",
     "text": [
      "train.py:train():126: Epoch 0 / 3000 -\t\t Train loss: 0.08749235421419144\tVal loss: 0.06654199212789536\tVal accuracy: 0.29001402854919434 INFO\n"
     ]
    },
    {
     "name": "stderr",
     "output_type": "stream",
     "text": [
      "train.py:train():126: Epoch 10 / 3000 -\t\t Train loss: 0.019887074828147888\tVal loss: 0.019441241398453712\tVal accuracy: 0.5958366990089417 INFO\n"
     ]
    },
    {
     "name": "stderr",
     "output_type": "stream",
     "text": [
      "train.py:train():126: Epoch 20 / 3000 -\t\t Train loss: 0.014573533087968826\tVal loss: 0.014112775214016438\tVal accuracy: 0.6928628087043762 INFO\n"
     ]
    },
    {
     "name": "stderr",
     "output_type": "stream",
     "text": [
      "train.py:train():126: Epoch 30 / 3000 -\t\t Train loss: 0.01393155287951231\tVal loss: 0.014116065576672554\tVal accuracy: 0.6965687274932861 INFO\n"
     ]
    },
    {
     "name": "stderr",
     "output_type": "stream",
     "text": [
      "train.py:train():126: Epoch 40 / 3000 -\t\t Train loss: 0.013053805567324162\tVal loss: 0.012454534880816936\tVal accuracy: 0.7349926829338074 INFO\n"
     ]
    },
    {
     "name": "stderr",
     "output_type": "stream",
     "text": [
      "train.py:train():126: Epoch 50 / 3000 -\t\t Train loss: 0.01232040487229824\tVal loss: 0.012447250075638294\tVal accuracy: 0.7323718070983887 INFO\n"
     ]
    },
    {
     "name": "stderr",
     "output_type": "stream",
     "text": [
      "train.py:train():126: Epoch 60 / 3000 -\t\t Train loss: 0.012882931157946587\tVal loss: 0.013867043890058994\tVal accuracy: 0.7327641248703003 INFO\n"
     ]
    },
    {
     "name": "stderr",
     "output_type": "stream",
     "text": [
      "train.py:train():126: Epoch 70 / 3000 -\t\t Train loss: 0.012046359479427338\tVal loss: 0.012022786773741245\tVal accuracy: 0.7285323739051819 INFO\n"
     ]
    },
    {
     "name": "stderr",
     "output_type": "stream",
     "text": [
      "train.py:train():126: Epoch 80 / 3000 -\t\t Train loss: 0.011545265093445778\tVal loss: 0.011464874260127544\tVal accuracy: 0.7370125651359558 INFO\n"
     ]
    },
    {
     "name": "stderr",
     "output_type": "stream",
     "text": [
      "train.py:train():126: Epoch 90 / 3000 -\t\t Train loss: 0.011990079656243324\tVal loss: 0.012185773812234402\tVal accuracy: 0.7183118462562561 INFO\n"
     ]
    },
    {
     "name": "stderr",
     "output_type": "stream",
     "text": [
      "train.py:train():126: Epoch 100 / 3000 -\t\t Train loss: 0.011384786106646061\tVal loss: 0.011219451203942299\tVal accuracy: 0.7526835203170776 INFO\n"
     ]
    },
    {
     "name": "stderr",
     "output_type": "stream",
     "text": [
      "train.py:train():126: Epoch 110 / 3000 -\t\t Train loss: 0.011396667920053005\tVal loss: 0.010966936126351357\tVal accuracy: 0.7515107989311218 INFO\n"
     ]
    },
    {
     "name": "stderr",
     "output_type": "stream",
     "text": [
      "train.py:train():126: Epoch 120 / 3000 -\t\t Train loss: 0.011237602680921555\tVal loss: 0.011409493163228035\tVal accuracy: 0.7385650873184204 INFO\n"
     ]
    },
    {
     "name": "stderr",
     "output_type": "stream",
     "text": [
      "train.py:train():126: Epoch 130 / 3000 -\t\t Train loss: 0.01126150880008936\tVal loss: 0.011538632214069366\tVal accuracy: 0.7298928499221802 INFO\n"
     ]
    },
    {
     "name": "stderr",
     "output_type": "stream",
     "text": [
      "train.py:train():126: Epoch 140 / 3000 -\t\t Train loss: 0.011190642602741718\tVal loss: 0.0108479680493474\tVal accuracy: 0.754611611366272 INFO\n"
     ]
    },
    {
     "name": "stderr",
     "output_type": "stream",
     "text": [
      "train.py:train():126: Epoch 150 / 3000 -\t\t Train loss: 0.011669282801449299\tVal loss: 0.011737200431525707\tVal accuracy: 0.738694429397583 INFO\n"
     ]
    },
    {
     "name": "stderr",
     "output_type": "stream",
     "text": [
      "train.py:train():126: Epoch 160 / 3000 -\t\t Train loss: 0.011351600289344788\tVal loss: 0.011662068776786327\tVal accuracy: 0.734713077545166 INFO\n"
     ]
    },
    {
     "name": "stderr",
     "output_type": "stream",
     "text": [
      "train.py:train():126: Epoch 170 / 3000 -\t\t Train loss: 0.011631758883595467\tVal loss: 0.011680063791573048\tVal accuracy: 0.737308919429779 INFO\n"
     ]
    },
    {
     "name": "stderr",
     "output_type": "stream",
     "text": [
      "train.py:train():126: Epoch 180 / 3000 -\t\t Train loss: 0.01133568026125431\tVal loss: 0.01114053837954998\tVal accuracy: 0.7458726167678833 INFO\n"
     ]
    },
    {
     "name": "stderr",
     "output_type": "stream",
     "text": [
      "train.py:train():126: Epoch 190 / 3000 -\t\t Train loss: 0.011183070950210094\tVal loss: 0.011059002950787544\tVal accuracy: 0.7606921195983887 INFO\n"
     ]
    },
    {
     "name": "stderr",
     "output_type": "stream",
     "text": [
      "train.py:train():126: Epoch 200 / 3000 -\t\t Train loss: 0.010836245492100716\tVal loss: 0.010749720968306065\tVal accuracy: 0.7542234659194946 INFO\n"
     ]
    },
    {
     "name": "stderr",
     "output_type": "stream",
     "text": [
      "train.py:train():126: Epoch 210 / 3000 -\t\t Train loss: 0.01123771071434021\tVal loss: 0.01142920646816492\tVal accuracy: 0.7545906901359558 INFO\n"
     ]
    },
    {
     "name": "stderr",
     "output_type": "stream",
     "text": [
      "train.py:train():126: Epoch 220 / 3000 -\t\t Train loss: 0.010858866386115551\tVal loss: 0.0108598368242383\tVal accuracy: 0.7617730498313904 INFO\n"
     ]
    },
    {
     "name": "stderr",
     "output_type": "stream",
     "text": [
      "train.py:train():126: Epoch 230 / 3000 -\t\t Train loss: nan\tVal loss: nan\tVal accuracy: 0.0 INFO\n"
     ]
    },
    {
     "name": "stderr",
     "output_type": "stream",
     "text": [
      "train.py:train():136: Early stopping triggered after 231 epochs:\n",
      "Train loss: nan\n",
      "Val loss: nan\n",
      "Val accuracy: 0.0\n",
      "Epochs no improvement: 11 WARNING\n"
     ]
    },
    {
     "name": "stdout",
     "output_type": "stream",
     "text": [
      "Training complete: 0:03:56.793438\n"
     ]
    },
    {
     "name": "stdout",
     "output_type": "stream",
     "text": [
      "Input contains NaN.\n"
     ]
    },
    {
     "name": "stderr",
     "output_type": "stream",
     "text": [
      "/tmp/ipykernel_1299382/3564072330.py:20: SettingWithCopyWarning: \n",
      "A value is trying to be set on a copy of a slice from a DataFrame\n",
      "\n",
      "See the caveats in the documentation: https://pandas.pydata.org/pandas-docs/stable/user_guide/indexing.html#returning-a-view-versus-a-copy\n",
      "  df_hpos_main.loc[i] = pd.Series(hpos) if type(hpos) == dict else hpos.drop('index')\n"
     ]
    },
    {
     "name": "stderr",
     "output_type": "stream",
     "text": [
      "train.py:train():126: Epoch 0 / 3000 -\t\t Train loss: 0.08396986871957779\tVal loss: 0.0557137168943882\tVal accuracy: 0.2979225218296051 INFO\n"
     ]
    },
    {
     "name": "stderr",
     "output_type": "stream",
     "text": [
      "train.py:train():126: Epoch 10 / 3000 -\t\t Train loss: 0.007545871660113335\tVal loss: 0.007346311584115028\tVal accuracy: 0.9041049480438232 INFO\n"
     ]
    },
    {
     "name": "stderr",
     "output_type": "stream",
     "text": [
      "train.py:train():126: Epoch 20 / 3000 -\t\t Train loss: 0.006114653777331114\tVal loss: 0.00604935921728611\tVal accuracy: 0.9259106516838074 INFO\n"
     ]
    },
    {
     "name": "stderr",
     "output_type": "stream",
     "text": [
      "train.py:train():126: Epoch 30 / 3000 -\t\t Train loss: 0.0057942490093410015\tVal loss: 0.005963821895420551\tVal accuracy: 0.924838125705719 INFO\n"
     ]
    },
    {
     "name": "stderr",
     "output_type": "stream",
     "text": [
      "train.py:train():126: Epoch 40 / 3000 -\t\t Train loss: 0.005602793302386999\tVal loss: 0.005679389461874962\tVal accuracy: 0.9319828748703003 INFO\n"
     ]
    },
    {
     "name": "stderr",
     "output_type": "stream",
     "text": [
      "train.py:train():126: Epoch 50 / 3000 -\t\t Train loss: 0.0055165886878967285\tVal loss: 0.005357144866138697\tVal accuracy: 0.9443944096565247 INFO\n"
     ]
    },
    {
     "name": "stderr",
     "output_type": "stream",
     "text": [
      "train.py:train():126: Epoch 60 / 3000 -\t\t Train loss: 0.005547617096453905\tVal loss: 0.005457771942019463\tVal accuracy: 0.9421658515930176 INFO\n"
     ]
    },
    {
     "name": "stderr",
     "output_type": "stream",
     "text": [
      "train.py:train():126: Epoch 70 / 3000 -\t\t Train loss: 0.005345185287296772\tVal loss: 0.005505721550434828\tVal accuracy: 0.9400040507316589 INFO\n"
     ]
    },
    {
     "name": "stderr",
     "output_type": "stream",
     "text": [
      "train.py:train():126: Epoch 80 / 3000 -\t\t Train loss: 0.005260999780148268\tVal loss: 0.005445408634841442\tVal accuracy: 0.9441481828689575 INFO\n"
     ]
    },
    {
     "name": "stderr",
     "output_type": "stream",
     "text": [
      "train.py:train():126: Epoch 90 / 3000 -\t\t Train loss: 0.005348327104002237\tVal loss: 0.005249000620096922\tVal accuracy: 0.9484926462173462 INFO\n"
     ]
    },
    {
     "name": "stderr",
     "output_type": "stream",
     "text": [
      "train.py:train():126: Epoch 100 / 3000 -\t\t Train loss: 0.005279530305415392\tVal loss: 0.005267991218715906\tVal accuracy: 0.9468525052070618 INFO\n"
     ]
    },
    {
     "name": "stderr",
     "output_type": "stream",
     "text": [
      "train.py:train():126: Epoch 110 / 3000 -\t\t Train loss: 0.005150021985173225\tVal loss: 0.005243765655905008\tVal accuracy: 0.9481545686721802 INFO\n"
     ]
    },
    {
     "name": "stderr",
     "output_type": "stream",
     "text": [
      "train.py:train():126: Epoch 120 / 3000 -\t\t Train loss: 0.0053650205954909325\tVal loss: 0.005429739598184824\tVal accuracy: 0.9412894248962402 INFO\n"
     ]
    },
    {
     "name": "stderr",
     "output_type": "stream",
     "text": [
      "train.py:train():126: Epoch 130 / 3000 -\t\t Train loss: 0.005106297787278891\tVal loss: 0.005151074845343828\tVal accuracy: 0.9492438435554504 INFO\n"
     ]
    },
    {
     "name": "stderr",
     "output_type": "stream",
     "text": [
      "train.py:train():126: Epoch 140 / 3000 -\t\t Train loss: 0.005128887481987476\tVal loss: 0.005058686248958111\tVal accuracy: 0.951050877571106 INFO\n"
     ]
    },
    {
     "name": "stderr",
     "output_type": "stream",
     "text": [
      "train.py:train():126: Epoch 150 / 3000 -\t\t Train loss: 0.005028558894991875\tVal loss: 0.0050558121874928474\tVal accuracy: 0.9552492499351501 INFO\n"
     ]
    },
    {
     "name": "stderr",
     "output_type": "stream",
     "text": [
      "train.py:train():126: Epoch 160 / 3000 -\t\t Train loss: 0.0051104300655424595\tVal loss: 0.005209728609770536\tVal accuracy: 0.9500659704208374 INFO\n"
     ]
    },
    {
     "name": "stderr",
     "output_type": "stream",
     "text": [
      "train.py:train():126: Epoch 170 / 3000 -\t\t Train loss: 0.005097458139061928\tVal loss: 0.004938893020153046\tVal accuracy: 0.956956148147583 INFO\n"
     ]
    },
    {
     "name": "stderr",
     "output_type": "stream",
     "text": [
      "train.py:train():126: Epoch 180 / 3000 -\t\t Train loss: 0.004981415346264839\tVal loss: 0.0051476797088980675\tVal accuracy: 0.9516518712043762 INFO\n"
     ]
    },
    {
     "name": "stderr",
     "output_type": "stream",
     "text": [
      "train.py:train():126: Epoch 190 / 3000 -\t\t Train loss: 0.005016866140067577\tVal loss: 0.005101163871586323\tVal accuracy: 0.9521151185035706 INFO\n"
     ]
    },
    {
     "name": "stderr",
     "output_type": "stream",
     "text": [
      "train.py:train():126: Epoch 200 / 3000 -\t\t Train loss: 0.005053369794040918\tVal loss: 0.004908202216029167\tVal accuracy: 0.9567850828170776 INFO\n"
     ]
    },
    {
     "name": "stderr",
     "output_type": "stream",
     "text": [
      "train.py:train():126: Epoch 210 / 3000 -\t\t Train loss: 0.004958160221576691\tVal loss: 0.0047951145097613335\tVal accuracy: 0.9616553783416748 INFO\n"
     ]
    },
    {
     "name": "stderr",
     "output_type": "stream",
     "text": [
      "train.py:train():126: Epoch 220 / 3000 -\t\t Train loss: 0.005242623388767242\tVal loss: 0.00510958768427372\tVal accuracy: 0.9501369595527649 INFO\n"
     ]
    },
    {
     "name": "stderr",
     "output_type": "stream",
     "text": [
      "train.py:train():126: Epoch 230 / 3000 -\t\t Train loss: 0.005224966909736395\tVal loss: 0.0051498147659003735\tVal accuracy: 0.9500868320465088 INFO\n"
     ]
    },
    {
     "name": "stderr",
     "output_type": "stream",
     "text": [
      "train.py:train():126: Epoch 240 / 3000 -\t\t Train loss: 0.005127379670739174\tVal loss: 0.0052637383341789246\tVal accuracy: 0.9467565417289734 INFO\n"
     ]
    },
    {
     "name": "stderr",
     "output_type": "stream",
     "text": [
      "train.py:train():126: Epoch 250 / 3000 -\t\t Train loss: 0.005212356802076101\tVal loss: 0.004828895907849073\tVal accuracy: 0.9598524570465088 INFO\n"
     ]
    },
    {
     "name": "stderr",
     "output_type": "stream",
     "text": [
      "train.py:train():126: Epoch 260 / 3000 -\t\t Train loss: 0.005038590170443058\tVal loss: 0.005076718516647816\tVal accuracy: 0.9517853856086731 INFO\n"
     ]
    },
    {
     "name": "stderr",
     "output_type": "stream",
     "text": [
      "train.py:train():126: Epoch 270 / 3000 -\t\t Train loss: 0.005034282337874174\tVal loss: 0.004907193593680859\tVal accuracy: 0.9589969515800476 INFO\n"
     ]
    },
    {
     "name": "stderr",
     "output_type": "stream",
     "text": [
      "train.py:train():126: Epoch 280 / 3000 -\t\t Train loss: 0.00494874594733119\tVal loss: 0.004885069560259581\tVal accuracy: 0.9589135050773621 INFO\n"
     ]
    },
    {
     "name": "stderr",
     "output_type": "stream",
     "text": [
      "train.py:train():126: Epoch 290 / 3000 -\t\t Train loss: 0.005035979673266411\tVal loss: 0.005037697963416576\tVal accuracy: 0.954255998134613 INFO\n"
     ]
    },
    {
     "name": "stderr",
     "output_type": "stream",
     "text": [
      "train.py:train():126: Epoch 300 / 3000 -\t\t Train loss: 0.0049043092876672745\tVal loss: 0.004885237663984299\tVal accuracy: 0.9589802622795105 INFO\n"
     ]
    },
    {
     "name": "stderr",
     "output_type": "stream",
     "text": [
      "train.py:train():126: Epoch 310 / 3000 -\t\t Train loss: 0.0049593038856983185\tVal loss: 0.0049294657073915005\tVal accuracy: 0.958863377571106 INFO\n"
     ]
    },
    {
     "name": "stderr",
     "output_type": "stream",
     "text": [
      "train.py:train():126: Epoch 320 / 3000 -\t\t Train loss: 0.005057917442172766\tVal loss: 0.005034944042563438\tVal accuracy: 0.952411413192749 INFO\n"
     ]
    },
    {
     "name": "stderr",
     "output_type": "stream",
     "text": [
      "train.py:train():126: Epoch 330 / 3000 -\t\t Train loss: 0.004994737450033426\tVal loss: 0.004883445333689451\tVal accuracy: 0.9605869650840759 INFO\n"
     ]
    },
    {
     "name": "stderr",
     "output_type": "stream",
     "text": [
      "train.py:train():126: Epoch 340 / 3000 -\t\t Train loss: 0.004992704372853041\tVal loss: 0.005011285655200481\tVal accuracy: 0.9531041979789734 INFO\n"
     ]
    },
    {
     "name": "stderr",
     "output_type": "stream",
     "text": [
      "train.py:train():126: Epoch 350 / 3000 -\t\t Train loss: 0.005034317262470722\tVal loss: 0.005026697181165218\tVal accuracy: 0.9544438123703003 INFO\n"
     ]
    },
    {
     "name": "stderr",
     "output_type": "stream",
     "text": [
      "train.py:train():126: Epoch 360 / 3000 -\t\t Train loss: 0.004974925424903631\tVal loss: 0.005004341714084148\tVal accuracy: 0.9543395042419434 INFO\n"
     ]
    },
    {
     "name": "stderr",
     "output_type": "stream",
     "text": [
      "train.py:train():126: Epoch 370 / 3000 -\t\t Train loss: 0.004881692118942738\tVal loss: 0.004845328629016876\tVal accuracy: 0.9595853686332703 INFO\n"
     ]
    },
    {
     "name": "stderr",
     "output_type": "stream",
     "text": [
      "train.py:train():126: Epoch 380 / 3000 -\t\t Train loss: 0.004809329751878977\tVal loss: 0.004851055331528187\tVal accuracy: 0.9597064256668091 INFO\n"
     ]
    },
    {
     "name": "stderr",
     "output_type": "stream",
     "text": [
      "train.py:train():126: Epoch 390 / 3000 -\t\t Train loss: 0.004808750469237566\tVal loss: 0.004765626043081284\tVal accuracy: 0.960637092590332 INFO\n"
     ]
    },
    {
     "name": "stderr",
     "output_type": "stream",
     "text": [
      "train.py:train():126: Epoch 400 / 3000 -\t\t Train loss: 0.0048299990594387054\tVal loss: 0.004761788062751293\tVal accuracy: 0.959994375705719 INFO\n"
     ]
    },
    {
     "name": "stderr",
     "output_type": "stream",
     "text": [
      "train.py:train():126: Epoch 410 / 3000 -\t\t Train loss: 0.007449868135154247\tVal loss: 0.006335408892482519\tVal accuracy: 0.9184278845787048 INFO\n"
     ]
    },
    {
     "name": "stderr",
     "output_type": "stream",
     "text": [
      "train.py:train():126: Epoch 420 / 3000 -\t\t Train loss: 0.005151274148374796\tVal loss: 0.005024826154112816\tVal accuracy: 0.9524781703948975 INFO\n"
     ]
    },
    {
     "name": "stderr",
     "output_type": "stream",
     "text": [
      "train.py:train():126: Epoch 430 / 3000 -\t\t Train loss: 0.005041403230279684\tVal loss: 0.00501363817602396\tVal accuracy: 0.9568184614181519 INFO\n"
     ]
    },
    {
     "name": "stderr",
     "output_type": "stream",
     "text": [
      "train.py:train():126: Epoch 440 / 3000 -\t\t Train loss: 0.005126136355102062\tVal loss: 0.00518710445612669\tVal accuracy: 0.9505667686462402 INFO\n"
     ]
    },
    {
     "name": "stderr",
     "output_type": "stream",
     "text": [
      "train.py:train():126: Epoch 450 / 3000 -\t\t Train loss: 0.005175808444619179\tVal loss: 0.005099652335047722\tVal accuracy: 0.9530206918716431 INFO\n"
     ]
    },
    {
     "name": "stderr",
     "output_type": "stream",
     "text": [
      "train.py:train():126: Epoch 460 / 3000 -\t\t Train loss: 0.005039126146584749\tVal loss: 0.005073390901088715\tVal accuracy: 0.9530165195465088 INFO\n"
     ]
    },
    {
     "name": "stderr",
     "output_type": "stream",
     "text": [
      "train.py:train():126: Epoch 470 / 3000 -\t\t Train loss: 0.0048721665516495705\tVal loss: 0.004873486235737801\tVal accuracy: 0.959322452545166 INFO\n"
     ]
    },
    {
     "name": "stderr",
     "output_type": "stream",
     "text": [
      "train.py:train():126: Epoch 480 / 3000 -\t\t Train loss: 0.004854382481426001\tVal loss: 0.004848756827414036\tVal accuracy: 0.9599526524543762 INFO\n"
     ]
    },
    {
     "name": "stderr",
     "output_type": "stream",
     "text": [
      "train.py:train():126: Epoch 490 / 3000 -\t\t Train loss: 0.004865945316851139\tVal loss: 0.0046547530218958855\tVal accuracy: 0.9642553329467773 INFO\n"
     ]
    },
    {
     "name": "stderr",
     "output_type": "stream",
     "text": [
      "train.py:train():126: Epoch 500 / 3000 -\t\t Train loss: 0.004844554699957371\tVal loss: 0.004782729782164097\tVal accuracy: 0.960895836353302 INFO\n"
     ]
    },
    {
     "name": "stderr",
     "output_type": "stream",
     "text": [
      "train.py:train():126: Epoch 510 / 3000 -\t\t Train loss: 0.004821325186640024\tVal loss: 0.004878799431025982\tVal accuracy: 0.9593725204467773 INFO\n"
     ]
    },
    {
     "name": "stderr",
     "output_type": "stream",
     "text": [
      "train.py:train():126: Epoch 520 / 3000 -\t\t Train loss: 0.004777815658599138\tVal loss: 0.004849652294069529\tVal accuracy: 0.9616929292678833 INFO\n"
     ]
    },
    {
     "name": "stderr",
     "output_type": "stream",
     "text": [
      "train.py:train():126: Epoch 530 / 3000 -\t\t Train loss: 0.0052179088816046715\tVal loss: 0.004961496219038963\tVal accuracy: 0.9599693417549133 INFO\n"
     ]
    },
    {
     "name": "stderr",
     "output_type": "stream",
     "text": [
      "train.py:train():126: Epoch 540 / 3000 -\t\t Train loss: 0.004850244615226984\tVal loss: 0.004861685447394848\tVal accuracy: 0.9583333730697632 INFO\n"
     ]
    },
    {
     "name": "stderr",
     "output_type": "stream",
     "text": [
      "train.py:train():126: Epoch 550 / 3000 -\t\t Train loss: 0.004968884401023388\tVal loss: 0.004947017878293991\tVal accuracy: 0.9563510417938232 INFO\n"
     ]
    },
    {
     "name": "stderr",
     "output_type": "stream",
     "text": [
      "train.py:train():126: Epoch 560 / 3000 -\t\t Train loss: 0.0050135161727666855\tVal loss: 0.005072435364127159\tVal accuracy: 0.9539847373962402 INFO\n"
     ]
    },
    {
     "name": "stderr",
     "output_type": "stream",
     "text": [
      "train.py:train():126: Epoch 570 / 3000 -\t\t Train loss: 0.0049615176394581795\tVal loss: 0.004950092174112797\tVal accuracy: 0.9554997086524963 INFO\n"
     ]
    },
    {
     "name": "stderr",
     "output_type": "stream",
     "text": [
      "train.py:train():126: Epoch 580 / 3000 -\t\t Train loss: 0.004983947146683931\tVal loss: 0.005070491693913937\tVal accuracy: 0.9508589506149292 INFO\n"
     ]
    },
    {
     "name": "stderr",
     "output_type": "stream",
     "text": [
      "train.py:train():126: Epoch 590 / 3000 -\t\t Train loss: 0.00487064104527235\tVal loss: 0.004760417155921459\tVal accuracy: 0.9615676999092102 INFO\n"
     ]
    },
    {
     "name": "stderr",
     "output_type": "stream",
     "text": [
      "train.py:train():126: Epoch 600 / 3000 -\t\t Train loss: 0.004771040752530098\tVal loss: 0.004737669602036476\tVal accuracy: 0.9602197408676147 INFO\n"
     ]
    },
    {
     "name": "stderr",
     "output_type": "stream",
     "text": [
      "train.py:train():126: Epoch 610 / 3000 -\t\t Train loss: 0.004855866078287363\tVal loss: 0.00476820208132267\tVal accuracy: 0.9600819945335388 INFO\n"
     ]
    },
    {
     "name": "stderr",
     "output_type": "stream",
     "text": [
      "train.py:train():126: Epoch 620 / 3000 -\t\t Train loss: 0.004874282982200384\tVal loss: 0.004774253815412521\tVal accuracy: 0.9599735140800476 INFO\n"
     ]
    },
    {
     "name": "stderr",
     "output_type": "stream",
     "text": [
      "train.py:train():126: Epoch 630 / 3000 -\t\t Train loss: 0.004980603698641062\tVal loss: 0.005006326362490654\tVal accuracy: 0.957248330116272 INFO\n"
     ]
    },
    {
     "name": "stderr",
     "output_type": "stream",
     "text": [
      "train.py:train():126: Epoch 640 / 3000 -\t\t Train loss: 0.004889733158051968\tVal loss: 0.004868239630013704\tVal accuracy: 0.9600235819816589 INFO\n"
     ]
    },
    {
     "name": "stderr",
     "output_type": "stream",
     "text": [
      "train.py:train():126: Epoch 650 / 3000 -\t\t Train loss: 0.004741016309708357\tVal loss: 0.004689247813075781\tVal accuracy: 0.9650357961654663 INFO\n"
     ]
    },
    {
     "name": "stderr",
     "output_type": "stream",
     "text": [
      "train.py:train():126: Epoch 660 / 3000 -\t\t Train loss: 0.004854387603700161\tVal loss: 0.0047743115574121475\tVal accuracy: 0.962769627571106 INFO\n"
     ]
    },
    {
     "name": "stderr",
     "output_type": "stream",
     "text": [
      "train.py:train():126: Epoch 670 / 3000 -\t\t Train loss: 0.004765224177390337\tVal loss: 0.004857896827161312\tVal accuracy: 0.9589719176292419 INFO\n"
     ]
    },
    {
     "name": "stderr",
     "output_type": "stream",
     "text": [
      "train.py:train():126: Epoch 680 / 3000 -\t\t Train loss: 0.0048853736370801926\tVal loss: 0.004878922365605831\tVal accuracy: 0.9593600034713745 INFO\n"
     ]
    },
    {
     "name": "stderr",
     "output_type": "stream",
     "text": [
      "train.py:train():126: Epoch 690 / 3000 -\t\t Train loss: 0.004815376829355955\tVal loss: 0.00482940673828125\tVal accuracy: 0.9617346525192261 INFO\n"
     ]
    },
    {
     "name": "stderr",
     "output_type": "stream",
     "text": [
      "train.py:train():126: Epoch 700 / 3000 -\t\t Train loss: 0.00484276982024312\tVal loss: 0.00475125340744853\tVal accuracy: 0.9633581042289734 INFO\n"
     ]
    },
    {
     "name": "stderr",
     "output_type": "stream",
     "text": [
      "train.py:train():126: Epoch 710 / 3000 -\t\t Train loss: 0.004769700579345226\tVal loss: 0.004797746427357197\tVal accuracy: 0.960374116897583 INFO\n"
     ]
    },
    {
     "name": "stderr",
     "output_type": "stream",
     "text": [
      "train.py:train():126: Epoch 720 / 3000 -\t\t Train loss: 0.004744900856167078\tVal loss: 0.004820754751563072\tVal accuracy: 0.9645850658416748 INFO\n"
     ]
    },
    {
     "name": "stderr",
     "output_type": "stream",
     "text": [
      "train.py:train():126: Epoch 730 / 3000 -\t\t Train loss: 0.004743829369544983\tVal loss: 0.004838434513658285\tVal accuracy: 0.9613339900970459 INFO\n"
     ]
    },
    {
     "name": "stderr",
     "output_type": "stream",
     "text": [
      "train.py:train():126: Epoch 740 / 3000 -\t\t Train loss: 0.004858621396124363\tVal loss: 0.004806276876479387\tVal accuracy: 0.9628698229789734 INFO\n"
     ]
    },
    {
     "name": "stderr",
     "output_type": "stream",
     "text": [
      "train.py:train():126: Epoch 750 / 3000 -\t\t Train loss: 0.00480694929137826\tVal loss: 0.004783643409609795\tVal accuracy: 0.9634415507316589 INFO\n"
     ]
    },
    {
     "name": "stderr",
     "output_type": "stream",
     "text": [
      "train.py:train():126: Epoch 760 / 3000 -\t\t Train loss: 0.0048015848733484745\tVal loss: 0.00468981359153986\tVal accuracy: 0.9662377238273621 INFO\n"
     ]
    },
    {
     "name": "stderr",
     "output_type": "stream",
     "text": [
      "train.py:train():126: Epoch 770 / 3000 -\t\t Train loss: 0.004781374242156744\tVal loss: 0.004808872006833553\tVal accuracy: 0.9621186256408691 INFO\n"
     ]
    },
    {
     "name": "stderr",
     "output_type": "stream",
     "text": [
      "train.py:train():126: Epoch 780 / 3000 -\t\t Train loss: 0.004721866454929113\tVal loss: 0.004735860042273998\tVal accuracy: 0.9645308256149292 INFO\n"
     ]
    },
    {
     "name": "stderr",
     "output_type": "stream",
     "text": [
      "train.py:train():126: Epoch 790 / 3000 -\t\t Train loss: 0.0047611151821911335\tVal loss: 0.004712245427072048\tVal accuracy: 0.9632871150970459 INFO\n"
     ]
    },
    {
     "name": "stderr",
     "output_type": "stream",
     "text": [
      "train.py:train():126: Epoch 800 / 3000 -\t\t Train loss: 0.004714360926300287\tVal loss: 0.004691112786531448\tVal accuracy: 0.9650274515151978 INFO\n"
     ]
    },
    {
     "name": "stderr",
     "output_type": "stream",
     "text": [
      "train.py:train():126: Epoch 810 / 3000 -\t\t Train loss: 0.004734104033559561\tVal loss: 0.004656405188143253\tVal accuracy: 0.9670222997665405 INFO\n"
     ]
    },
    {
     "name": "stderr",
     "output_type": "stream",
     "text": [
      "train.py:train():126: Epoch 820 / 3000 -\t\t Train loss: 0.004747382365167141\tVal loss: 0.004680082201957703\tVal accuracy: 0.9644848704338074 INFO\n"
     ]
    },
    {
     "name": "stderr",
     "output_type": "stream",
     "text": [
      "train.py:train():126: Epoch 830 / 3000 -\t\t Train loss: 0.004592123441398144\tVal loss: 0.004576891660690308\tVal accuracy: 0.9700437784194946 INFO\n"
     ]
    },
    {
     "name": "stderr",
     "output_type": "stream",
     "text": [
      "train.py:train():126: Epoch 840 / 3000 -\t\t Train loss: 0.004665111191570759\tVal loss: 0.004623249638825655\tVal accuracy: 0.9687667489051819 INFO\n"
     ]
    },
    {
     "name": "stderr",
     "output_type": "stream",
     "text": [
      "train.py:train():126: Epoch 850 / 3000 -\t\t Train loss: 0.0045983572490513325\tVal loss: 0.004641221836209297\tVal accuracy: 0.9690046310424805 INFO\n"
     ]
    },
    {
     "name": "stderr",
     "output_type": "stream",
     "text": [
      "train.py:train():126: Epoch 860 / 3000 -\t\t Train loss: 0.004609851166605949\tVal loss: 0.00452464772388339\tVal accuracy: 0.9715795516967773 INFO\n"
     ]
    },
    {
     "name": "stderr",
     "output_type": "stream",
     "text": [
      "train.py:train():126: Epoch 870 / 3000 -\t\t Train loss: 0.004674901720136404\tVal loss: 0.004694729577749968\tVal accuracy: 0.9648938775062561 INFO\n"
     ]
    },
    {
     "name": "stderr",
     "output_type": "stream",
     "text": [
      "train.py:train():126: Epoch 880 / 3000 -\t\t Train loss: 0.004635225981473923\tVal loss: 0.004674003459513187\tVal accuracy: 0.9679111838340759 INFO\n"
     ]
    },
    {
     "name": "stderr",
     "output_type": "stream",
     "text": [
      "train.py:train():126: Epoch 890 / 3000 -\t\t Train loss: 0.0047783697955310345\tVal loss: 0.004741080105304718\tVal accuracy: 0.9664004445075989 INFO\n"
     ]
    },
    {
     "name": "stderr",
     "output_type": "stream",
     "text": [
      "train.py:train():126: Epoch 900 / 3000 -\t\t Train loss: 0.00491541251540184\tVal loss: 0.0049546645022928715\tVal accuracy: 0.9590511918067932 INFO\n"
     ]
    },
    {
     "name": "stderr",
     "output_type": "stream",
     "text": [
      "train.py:train():126: Epoch 910 / 3000 -\t\t Train loss: 0.004873374477028847\tVal loss: 0.00488092377781868\tVal accuracy: 0.9606329202651978 INFO\n"
     ]
    },
    {
     "name": "stderr",
     "output_type": "stream",
     "text": [
      "train.py:train():126: Epoch 920 / 3000 -\t\t Train loss: 0.005012283567339182\tVal loss: 0.005042657256126404\tVal accuracy: 0.9556165337562561 INFO\n"
     ]
    },
    {
     "name": "stderr",
     "output_type": "stream",
     "text": [
      "train.py:train():126: Epoch 930 / 3000 -\t\t Train loss: 0.005047407001256943\tVal loss: 0.004883662797510624\tVal accuracy: 0.9612672328948975 INFO\n"
     ]
    },
    {
     "name": "stderr",
     "output_type": "stream",
     "text": [
      "train.py:train():126: Epoch 940 / 3000 -\t\t Train loss: 0.004755391273647547\tVal loss: 0.004908968694508076\tVal accuracy: 0.9605535864830017 INFO\n"
     ]
    },
    {
     "name": "stderr",
     "output_type": "stream",
     "text": [
      "train.py:train():126: Epoch 950 / 3000 -\t\t Train loss: 0.004686759784817696\tVal loss: 0.004625641740858555\tVal accuracy: 0.9677276015281677 INFO\n"
     ]
    },
    {
     "name": "stderr",
     "output_type": "stream",
     "text": [
      "train.py:train():126: Epoch 960 / 3000 -\t\t Train loss: 0.00471819331869483\tVal loss: 0.0046864771284163\tVal accuracy: 0.9668470025062561 INFO\n"
     ]
    },
    {
     "name": "stderr",
     "output_type": "stream",
     "text": [
      "train.py:train():126: Epoch 970 / 3000 -\t\t Train loss: 0.004647956695407629\tVal loss: 0.004700209945440292\tVal accuracy: 0.966083288192749 INFO\n"
     ]
    },
    {
     "name": "stderr",
     "output_type": "stream",
     "text": [
      "train.py:train():126: Epoch 980 / 3000 -\t\t Train loss: 0.004613504279404879\tVal loss: 0.004613732919096947\tVal accuracy: 0.9680489301681519 INFO\n"
     ]
    },
    {
     "name": "stderr",
     "output_type": "stream",
     "text": [
      "train.py:train():126: Epoch 990 / 3000 -\t\t Train loss: 0.00464146351441741\tVal loss: 0.004695223644375801\tVal accuracy: 0.9646726846694946 INFO\n"
     ]
    },
    {
     "name": "stderr",
     "output_type": "stream",
     "text": [
      "train.py:train():126: Epoch 1000 / 3000 -\t\t Train loss: 0.004780496004968882\tVal loss: 0.004864932037889957\tVal accuracy: 0.9624733328819275 INFO\n"
     ]
    },
    {
     "name": "stderr",
     "output_type": "stream",
     "text": [
      "train.py:train():126: Epoch 1010 / 3000 -\t\t Train loss: 0.004793263506144285\tVal loss: 0.004754350520670414\tVal accuracy: 0.9631327390670776 INFO\n"
     ]
    },
    {
     "name": "stderr",
     "output_type": "stream",
     "text": [
      "train.py:train():126: Epoch 1020 / 3000 -\t\t Train loss: 0.004682202823460102\tVal loss: 0.004715438932180405\tVal accuracy: 0.9639089703559875 INFO\n"
     ]
    },
    {
     "name": "stderr",
     "output_type": "stream",
     "text": [
      "train.py:train():126: Epoch 1030 / 3000 -\t\t Train loss: 0.004691941197961569\tVal loss: 0.004611019045114517\tVal accuracy: 0.9683577418327332 INFO\n"
     ]
    },
    {
     "name": "stderr",
     "output_type": "stream",
     "text": [
      "train.py:train():126: Epoch 1040 / 3000 -\t\t Train loss: 0.0047264075838029385\tVal loss: 0.004687953274697065\tVal accuracy: 0.9647102355957031 INFO\n"
     ]
    },
    {
     "name": "stderr",
     "output_type": "stream",
     "text": [
      "train.py:train():126: Epoch 1050 / 3000 -\t\t Train loss: 0.004706734791398048\tVal loss: 0.004735901486128569\tVal accuracy: 0.9651150703430176 INFO\n"
     ]
    },
    {
     "name": "stderr",
     "output_type": "stream",
     "text": [
      "train.py:train():126: Epoch 1060 / 3000 -\t\t Train loss: 0.004717853385955095\tVal loss: 0.0046952152624726295\tVal accuracy: 0.9655574560165405 INFO\n"
     ]
    },
    {
     "name": "stderr",
     "output_type": "stream",
     "text": [
      "train.py:train():126: Epoch 1070 / 3000 -\t\t Train loss: 0.004763979464769363\tVal loss: 0.0065036965534091\tVal accuracy: 0.9222923517227173 INFO\n"
     ]
    },
    {
     "name": "stderr",
     "output_type": "stream",
     "text": [
      "train.py:train():126: Epoch 1080 / 3000 -\t\t Train loss: 0.004717078059911728\tVal loss: 0.004703570622950792\tVal accuracy: 0.967364490032196 INFO\n"
     ]
    },
    {
     "name": "stderr",
     "output_type": "stream",
     "text": [
      "train.py:train():126: Epoch 1090 / 3000 -\t\t Train loss: 0.004656023811548948\tVal loss: 0.004747240804135799\tVal accuracy: 0.9646601676940918 INFO\n"
     ]
    },
    {
     "name": "stderr",
     "output_type": "stream",
     "text": [
      "train.py:train():126: Epoch 1100 / 3000 -\t\t Train loss: 0.004692186135798693\tVal loss: 0.004665618762373924\tVal accuracy: 0.9680989980697632 INFO\n"
     ]
    },
    {
     "name": "stderr",
     "output_type": "stream",
     "text": [
      "train.py:train():126: Epoch 1110 / 3000 -\t\t Train loss: 0.004759085364639759\tVal loss: 0.004853480961173773\tVal accuracy: 0.9595102667808533 INFO\n"
     ]
    },
    {
     "name": "stderr",
     "output_type": "stream",
     "text": [
      "train.py:train():126: Epoch 1120 / 3000 -\t\t Train loss: 0.0048559000715613365\tVal loss: 0.004870393313467503\tVal accuracy: 0.9623105525970459 INFO\n"
     ]
    },
    {
     "name": "stderr",
     "output_type": "stream",
     "text": [
      "train.py:train():126: Epoch 1130 / 3000 -\t\t Train loss: 0.004776040092110634\tVal loss: 0.004627744667232037\tVal accuracy: 0.9672476649284363 INFO\n"
     ]
    },
    {
     "name": "stderr",
     "output_type": "stream",
     "text": [
      "train.py:train():126: Epoch 1140 / 3000 -\t\t Train loss: 0.004806357901543379\tVal loss: 0.004868191666901112\tVal accuracy: 0.9595978856086731 INFO\n"
     ]
    },
    {
     "name": "stderr",
     "output_type": "stream",
     "text": [
      "train.py:train():126: Epoch 1150 / 3000 -\t\t Train loss: 0.004735390190035105\tVal loss: 0.004668727982789278\tVal accuracy: 0.963337242603302 INFO\n"
     ]
    },
    {
     "name": "stderr",
     "output_type": "stream",
     "text": [
      "train.py:train():126: Epoch 1160 / 3000 -\t\t Train loss: 0.004701843019574881\tVal loss: 0.004700740799307823\tVal accuracy: 0.9634999632835388 INFO\n"
     ]
    },
    {
     "name": "stderr",
     "output_type": "stream",
     "text": [
      "train.py:train():126: Epoch 1170 / 3000 -\t\t Train loss: 0.004931989591568708\tVal loss: 0.0049657439813017845\tVal accuracy: 0.9548861980438232 INFO\n"
     ]
    },
    {
     "name": "stderr",
     "output_type": "stream",
     "text": [
      "train.py:train():126: Epoch 1180 / 3000 -\t\t Train loss: 0.004810371436178684\tVal loss: 0.004778225440531969\tVal accuracy: 0.9600903391838074 INFO\n"
     ]
    },
    {
     "name": "stderr",
     "output_type": "stream",
     "text": [
      "train.py:train():126: Epoch 1190 / 3000 -\t\t Train loss: 0.004662119783461094\tVal loss: 0.004743676632642746\tVal accuracy: 0.9630534052848816 INFO\n"
     ]
    },
    {
     "name": "stderr",
     "output_type": "stream",
     "text": [
      "train.py:train():126: Epoch 1200 / 3000 -\t\t Train loss: 0.004644899629056454\tVal loss: 0.004655768163502216\tVal accuracy: 0.9661500453948975 INFO\n"
     ]
    },
    {
     "name": "stderr",
     "output_type": "stream",
     "text": [
      "train.py:train():126: Epoch 1210 / 3000 -\t\t Train loss: 0.004544886294752359\tVal loss: 0.004640620667487383\tVal accuracy: 0.9655324220657349 INFO\n"
     ]
    },
    {
     "name": "stderr",
     "output_type": "stream",
     "text": [
      "train.py:train():126: Epoch 1220 / 3000 -\t\t Train loss: 0.0045954580418765545\tVal loss: 0.004632988478988409\tVal accuracy: 0.9647269248962402 INFO\n"
     ]
    },
    {
     "name": "stderr",
     "output_type": "stream",
     "text": [
      "train.py:train():126: Epoch 1230 / 3000 -\t\t Train loss: 0.004683544393628836\tVal loss: 0.004651734605431557\tVal accuracy: 0.9655658006668091 INFO\n"
     ]
    },
    {
     "name": "stderr",
     "output_type": "stream",
     "text": [
      "train.py:train():126: Epoch 1240 / 3000 -\t\t Train loss: 0.0047283293679356575\tVal loss: 0.004646815359592438\tVal accuracy: 0.9640425443649292 INFO\n"
     ]
    },
    {
     "name": "stderr",
     "output_type": "stream",
     "text": [
      "train.py:train():126: Epoch 1250 / 3000 -\t\t Train loss: 0.0047704558819532394\tVal loss: 0.004728031810373068\tVal accuracy: 0.9620518088340759 INFO\n"
     ]
    },
    {
     "name": "stderr",
     "output_type": "stream",
     "text": [
      "train.py:train():126: Epoch 1260 / 3000 -\t\t Train loss: 0.004674816038459539\tVal loss: 0.004875469021499157\tVal accuracy: 0.9616178274154663 INFO\n"
     ]
    },
    {
     "name": "stderr",
     "output_type": "stream",
     "text": [
      "train.py:train():126: Epoch 1270 / 3000 -\t\t Train loss: 0.0047247582115232944\tVal loss: 0.0048447344452142715\tVal accuracy: 0.9631577730178833 INFO\n"
     ]
    },
    {
     "name": "stderr",
     "output_type": "stream",
     "text": [
      "train.py:train():126: Epoch 1280 / 3000 -\t\t Train loss: 0.004645196255296469\tVal loss: 0.004667577799409628\tVal accuracy: 0.968829333782196 INFO\n"
     ]
    },
    {
     "name": "stderr",
     "output_type": "stream",
     "text": [
      "train.py:train():126: Epoch 1290 / 3000 -\t\t Train loss: 0.0046156891621649265\tVal loss: 0.004596709739416838\tVal accuracy: 0.9713124632835388 INFO\n"
     ]
    },
    {
     "name": "stderr",
     "output_type": "stream",
     "text": [
      "train.py:train():126: Epoch 1300 / 3000 -\t\t Train loss: 0.004598235711455345\tVal loss: 0.004564953967928886\tVal accuracy: 0.969117283821106 INFO\n"
     ]
    },
    {
     "name": "stderr",
     "output_type": "stream",
     "text": [
      "train.py:train():126: Epoch 1310 / 3000 -\t\t Train loss: 0.004487427417188883\tVal loss: 0.004481262061744928\tVal accuracy: 0.973407506942749 INFO\n"
     ]
    },
    {
     "name": "stderr",
     "output_type": "stream",
     "text": [
      "train.py:train():126: Epoch 1320 / 3000 -\t\t Train loss: 0.004493364132940769\tVal loss: 0.004676636308431625\tVal accuracy: 0.9663044810295105 INFO\n"
     ]
    },
    {
     "name": "stderr",
     "output_type": "stream",
     "text": [
      "train.py:train():126: Epoch 1330 / 3000 -\t\t Train loss: 0.0045793429017066956\tVal loss: 0.00455568078905344\tVal accuracy: 0.9687417149543762 INFO\n"
     ]
    },
    {
     "name": "stderr",
     "output_type": "stream",
     "text": [
      "train.py:train():126: Epoch 1340 / 3000 -\t\t Train loss: 0.0045374976471066475\tVal loss: 0.004542735405266285\tVal accuracy: 0.9697099328041077 INFO\n"
     ]
    },
    {
     "name": "stderr",
     "output_type": "stream",
     "text": [
      "train.py:train():126: Epoch 1350 / 3000 -\t\t Train loss: 0.004581907764077187\tVal loss: 0.004603933542966843\tVal accuracy: 0.9674437642097473 INFO\n"
     ]
    },
    {
     "name": "stderr",
     "output_type": "stream",
     "text": [
      "train.py:train():126: Epoch 1360 / 3000 -\t\t Train loss: 0.004543189890682697\tVal loss: 0.004492764826864004\tVal accuracy: 0.9701105356216431 INFO\n"
     ]
    },
    {
     "name": "stderr",
     "output_type": "stream",
     "text": [
      "train.py:train():126: Epoch 1370 / 3000 -\t\t Train loss: 0.005258610472083092\tVal loss: 0.005139036104083061\tVal accuracy: 0.9503414034843445 INFO\n"
     ]
    },
    {
     "name": "stderr",
     "output_type": "stream",
     "text": [
      "train.py:train():126: Epoch 1380 / 3000 -\t\t Train loss: 0.005195828154683113\tVal loss: 0.005209396127611399\tVal accuracy: 0.9478999972343445 INFO\n"
     ]
    },
    {
     "name": "stderr",
     "output_type": "stream",
     "text": [
      "train.py:train():126: Epoch 1390 / 3000 -\t\t Train loss: 0.00513896718621254\tVal loss: 0.005117647349834442\tVal accuracy: 0.9524573087692261 INFO\n"
     ]
    },
    {
     "name": "stderr",
     "output_type": "stream",
     "text": [
      "train.py:train():126: Epoch 1400 / 3000 -\t\t Train loss: 0.00513418996706605\tVal loss: 0.005055194720625877\tVal accuracy: 0.9519064426422119 INFO\n"
     ]
    },
    {
     "name": "stderr",
     "output_type": "stream",
     "text": [
      "train.py:train():126: Epoch 1410 / 3000 -\t\t Train loss: 0.005016278009861708\tVal loss: 0.005068979226052761\tVal accuracy: 0.9506001472473145 INFO\n"
     ]
    },
    {
     "name": "stderr",
     "output_type": "stream",
     "text": [
      "train.py:train():126: Epoch 1420 / 3000 -\t\t Train loss: 0.00500243715941906\tVal loss: 0.00510788569226861\tVal accuracy: 0.9485594034194946 INFO\n"
     ]
    },
    {
     "name": "stderr",
     "output_type": "stream",
     "text": [
      "train.py:train():126: Epoch 1430 / 3000 -\t\t Train loss: 0.005004038102924824\tVal loss: 0.005048441234976053\tVal accuracy: 0.9502621293067932 INFO\n"
     ]
    },
    {
     "name": "stderr",
     "output_type": "stream",
     "text": [
      "train.py:train():126: Epoch 1440 / 3000 -\t\t Train loss: 0.005013931076973677\tVal loss: 0.005209633149206638\tVal accuracy: 0.9451205730438232 INFO\n"
     ]
    },
    {
     "name": "stderr",
     "output_type": "stream",
     "text": [
      "train.py:train():126: Epoch 1450 / 3000 -\t\t Train loss: 0.004969992209225893\tVal loss: 0.0050632837228477\tVal accuracy: 0.9507504105567932 INFO\n"
     ]
    },
    {
     "name": "stderr",
     "output_type": "stream",
     "text": [
      "train.py:train():126: Epoch 1460 / 3000 -\t\t Train loss: 0.005030069965869188\tVal loss: 0.005054512061178684\tVal accuracy: 0.9526868462562561 INFO\n"
     ]
    },
    {
     "name": "stderr",
     "output_type": "stream",
     "text": [
      "train.py:train():126: Epoch 1470 / 3000 -\t\t Train loss: 0.004950487520545721\tVal loss: 0.004923769272863865\tVal accuracy: 0.9532377123832703 INFO\n"
     ]
    },
    {
     "name": "stderr",
     "output_type": "stream",
     "text": [
      "train.py:train():126: Epoch 1480 / 3000 -\t\t Train loss: 0.0049906265921890736\tVal loss: 0.00502651184797287\tVal accuracy: 0.951251208782196 INFO\n"
     ]
    },
    {
     "name": "stderr",
     "output_type": "stream",
     "text": [
      "train.py:train():126: Epoch 1490 / 3000 -\t\t Train loss: 0.0049336873926222324\tVal loss: 0.0048910751938819885\tVal accuracy: 0.954777717590332 INFO\n"
     ]
    },
    {
     "name": "stderr",
     "output_type": "stream",
     "text": [
      "train.py:train():126: Epoch 1500 / 3000 -\t\t Train loss: 0.00488983653485775\tVal loss: 0.004919317550957203\tVal accuracy: 0.9537844061851501 INFO\n"
     ]
    },
    {
     "name": "stderr",
     "output_type": "stream",
     "text": [
      "train.py:train():126: Epoch 1510 / 3000 -\t\t Train loss: 0.004927157424390316\tVal loss: 0.004933505319058895\tVal accuracy: 0.9530666470527649 INFO\n"
     ]
    },
    {
     "name": "stderr",
     "output_type": "stream",
     "text": [
      "train.py:train():126: Epoch 1520 / 3000 -\t\t Train loss: 0.0049344818107783794\tVal loss: 0.004959860350936651\tVal accuracy: 0.9547484517097473 INFO\n"
     ]
    },
    {
     "name": "stderr",
     "output_type": "stream",
     "text": [
      "train.py:train():126: Epoch 1530 / 3000 -\t\t Train loss: 0.004918086342513561\tVal loss: 0.004903912544250488\tVal accuracy: 0.9559921622276306 INFO\n"
     ]
    },
    {
     "name": "stderr",
     "output_type": "stream",
     "text": [
      "train.py:train():126: Epoch 1540 / 3000 -\t\t Train loss: 0.004838330205529928\tVal loss: 0.00497322715818882\tVal accuracy: 0.9515266418457031 INFO\n"
     ]
    },
    {
     "name": "stderr",
     "output_type": "stream",
     "text": [
      "train.py:train():126: Epoch 1550 / 3000 -\t\t Train loss: 0.0048915669322013855\tVal loss: 0.004911729134619236\tVal accuracy: 0.9546107649803162 INFO\n"
     ]
    },
    {
     "name": "stderr",
     "output_type": "stream",
     "text": [
      "train.py:train():126: Epoch 1560 / 3000 -\t\t Train loss: 0.0048790196888148785\tVal loss: 0.004961235448718071\tVal accuracy: 0.9540306329727173 INFO\n"
     ]
    },
    {
     "name": "stderr",
     "output_type": "stream",
     "text": [
      "train.py:train():126: Epoch 1570 / 3000 -\t\t Train loss: 0.004900682717561722\tVal loss: 0.004944726824760437\tVal accuracy: 0.9545022249221802 INFO\n"
     ]
    },
    {
     "name": "stderr",
     "output_type": "stream",
     "text": [
      "train.py:train():126: Epoch 1580 / 3000 -\t\t Train loss: 0.004955057520419359\tVal loss: 0.005076838657259941\tVal accuracy: 0.9515808820724487 INFO\n"
     ]
    },
    {
     "name": "stderr",
     "output_type": "stream",
     "text": [
      "train.py:train():126: Epoch 1590 / 3000 -\t\t Train loss: 0.005156904458999634\tVal loss: 0.004933501593768597\tVal accuracy: 0.9576990604400635 INFO\n"
     ]
    },
    {
     "name": "stderr",
     "output_type": "stream",
     "text": [
      "train.py:train():126: Epoch 1600 / 3000 -\t\t Train loss: 0.0048644887283444405\tVal loss: 0.004861258435994387\tVal accuracy: 0.9567934274673462 INFO\n"
     ]
    },
    {
     "name": "stderr",
     "output_type": "stream",
     "text": [
      "train.py:train():126: Epoch 1610 / 3000 -\t\t Train loss: 0.004842292983084917\tVal loss: 0.004892025142908096\tVal accuracy: 0.9552033543586731 INFO\n"
     ]
    },
    {
     "name": "stderr",
     "output_type": "stream",
     "text": [
      "train.py:train():126: Epoch 1620 / 3000 -\t\t Train loss: 0.004846447147428989\tVal loss: 0.00489787058904767\tVal accuracy: 0.9564553499221802 INFO\n"
     ]
    },
    {
     "name": "stderr",
     "output_type": "stream",
     "text": [
      "train.py:train():126: Epoch 1630 / 3000 -\t\t Train loss: 0.004913049750030041\tVal loss: 0.00496592465788126\tVal accuracy: 0.9563593864440918 INFO\n"
     ]
    },
    {
     "name": "stderr",
     "output_type": "stream",
     "text": [
      "train.py:train():126: Epoch 1640 / 3000 -\t\t Train loss: 0.004865396302193403\tVal loss: 0.004906157031655312\tVal accuracy: 0.9550656676292419 INFO\n"
     ]
    },
    {
     "name": "stderr",
     "output_type": "stream",
     "text": [
      "train.py:train():126: Epoch 1650 / 3000 -\t\t Train loss: 0.004876674618571997\tVal loss: 0.004814941436052322\tVal accuracy: 0.9590345025062561 INFO\n"
     ]
    },
    {
     "name": "stderr",
     "output_type": "stream",
     "text": [
      "train.py:train():126: Epoch 1660 / 3000 -\t\t Train loss: 0.0048376331105828285\tVal loss: 0.004810499493032694\tVal accuracy: 0.9594351649284363 INFO\n"
     ]
    },
    {
     "name": "stderr",
     "output_type": "stream",
     "text": [
      "train.py:train():126: Epoch 1670 / 3000 -\t\t Train loss: 0.004866105038672686\tVal loss: 0.0048227556981146336\tVal accuracy: 0.9591346383094788 INFO\n"
     ]
    },
    {
     "name": "stderr",
     "output_type": "stream",
     "text": [
      "train.py:train():126: Epoch 1680 / 3000 -\t\t Train loss: 0.004891665186733007\tVal loss: 0.004903166554868221\tVal accuracy: 0.956576406955719 INFO\n"
     ]
    },
    {
     "name": "stderr",
     "output_type": "stream",
     "text": [
      "train.py:train():126: Epoch 1690 / 3000 -\t\t Train loss: 0.004833805374801159\tVal loss: 0.004804493859410286\tVal accuracy: 0.9602781534194946 INFO\n"
     ]
    },
    {
     "name": "stderr",
     "output_type": "stream",
     "text": [
      "train.py:train():126: Epoch 1700 / 3000 -\t\t Train loss: 0.004778305534273386\tVal loss: 0.00468678493052721\tVal accuracy: 0.9631577730178833 INFO\n"
     ]
    },
    {
     "name": "stderr",
     "output_type": "stream",
     "text": [
      "train.py:train():126: Epoch 1710 / 3000 -\t\t Train loss: 0.004785287659615278\tVal loss: 0.004808207508176565\tVal accuracy: 0.9583208560943604 INFO\n"
     ]
    },
    {
     "name": "stderr",
     "output_type": "stream",
     "text": [
      "train.py:train():126: Epoch 1720 / 3000 -\t\t Train loss: 0.004829732235521078\tVal loss: 0.00479099340736866\tVal accuracy: 0.9596229195594788 INFO\n"
     ]
    },
    {
     "name": "stderr",
     "output_type": "stream",
     "text": [
      "train.py:train():126: Epoch 1730 / 3000 -\t\t Train loss: 0.00484859524294734\tVal loss: 0.004966977518051863\tVal accuracy: 0.9543728828430176 INFO\n"
     ]
    },
    {
     "name": "stderr",
     "output_type": "stream",
     "text": [
      "train.py:train():126: Epoch 1740 / 3000 -\t\t Train loss: 0.004746837075799704\tVal loss: 0.004676870536059141\tVal accuracy: 0.963487446308136 INFO\n"
     ]
    },
    {
     "name": "stderr",
     "output_type": "stream",
     "text": [
      "train.py:train():126: Epoch 1750 / 3000 -\t\t Train loss: 0.004718563985079527\tVal loss: 0.004726848099380732\tVal accuracy: 0.960637092590332 INFO\n"
     ]
    },
    {
     "name": "stderr",
     "output_type": "stream",
     "text": [
      "train.py:train():126: Epoch 1760 / 3000 -\t\t Train loss: 0.004707698244601488\tVal loss: 0.004728442057967186\tVal accuracy: 0.9604743123054504 INFO\n"
     ]
    },
    {
     "name": "stderr",
     "output_type": "stream",
     "text": [
      "train.py:train():126: Epoch 1770 / 3000 -\t\t Train loss: 0.0047378502786159515\tVal loss: 0.00479353591799736\tVal accuracy: 0.9576990604400635 INFO\n"
     ]
    },
    {
     "name": "stderr",
     "output_type": "stream",
     "text": [
      "train.py:train():126: Epoch 1780 / 3000 -\t\t Train loss: 0.00472711306065321\tVal loss: 0.004663678817451\tVal accuracy: 0.9626152515411377 INFO\n"
     ]
    },
    {
     "name": "stderr",
     "output_type": "stream",
     "text": [
      "train.py:train():126: Epoch 1790 / 3000 -\t\t Train loss: 0.0048175049014389515\tVal loss: 0.005182559601962566\tVal accuracy: 0.9496152400970459 INFO\n"
     ]
    },
    {
     "name": "stderr",
     "output_type": "stream",
     "text": [
      "train.py:train():126: Epoch 1800 / 3000 -\t\t Train loss: 0.004707840736955404\tVal loss: 0.004729030188173056\tVal accuracy: 0.9603198766708374 INFO\n"
     ]
    },
    {
     "name": "stderr",
     "output_type": "stream",
     "text": [
      "train.py:train():126: Epoch 1810 / 3000 -\t\t Train loss: 0.004635249264538288\tVal loss: 0.004701884463429451\tVal accuracy: 0.9625192284584045 INFO\n"
     ]
    },
    {
     "name": "stderr",
     "output_type": "stream",
     "text": [
      "train.py:train():126: Epoch 1820 / 3000 -\t\t Train loss: 0.004705291241407394\tVal loss: 0.004721904173493385\tVal accuracy: 0.9605243802070618 INFO\n"
     ]
    },
    {
     "name": "stderr",
     "output_type": "stream",
     "text": [
      "train.py:train():126: Epoch 1830 / 3000 -\t\t Train loss: 0.004672425799071789\tVal loss: 0.004688960500061512\tVal accuracy: 0.9618807435035706 INFO\n"
     ]
    },
    {
     "name": "stderr",
     "output_type": "stream",
     "text": [
      "train.py:train():126: Epoch 1840 / 3000 -\t\t Train loss: 0.004706704523414373\tVal loss: 0.00471765361726284\tVal accuracy: 0.9601195454597473 INFO\n"
     ]
    },
    {
     "name": "stderr",
     "output_type": "stream",
     "text": [
      "train.py:train():126: Epoch 1850 / 3000 -\t\t Train loss: 0.004749645479023457\tVal loss: 0.004646483808755875\tVal accuracy: 0.9649606347084045 INFO\n"
     ]
    },
    {
     "name": "stderr",
     "output_type": "stream",
     "text": [
      "train.py:train():126: Epoch 1860 / 3000 -\t\t Train loss: 0.004616323858499527\tVal loss: 0.004661512561142445\tVal accuracy: 0.9640592336654663 INFO\n"
     ]
    },
    {
     "name": "stderr",
     "output_type": "stream",
     "text": [
      "train.py:train():126: Epoch 1870 / 3000 -\t\t Train loss: 0.004716883879154921\tVal loss: 0.004749836400151253\tVal accuracy: 0.9601404666900635 INFO\n"
     ]
    },
    {
     "name": "stderr",
     "output_type": "stream",
     "text": [
      "train.py:train():126: Epoch 1880 / 3000 -\t\t Train loss: 0.004776632413268089\tVal loss: 0.004762043245136738\tVal accuracy: 0.9620559811592102 INFO\n"
     ]
    },
    {
     "name": "stderr",
     "output_type": "stream",
     "text": [
      "train.py:train():126: Epoch 1890 / 3000 -\t\t Train loss: 0.004671833943575621\tVal loss: 0.004733942914754152\tVal accuracy: 0.9608916640281677 INFO\n"
     ]
    },
    {
     "name": "stderr",
     "output_type": "stream",
     "text": [
      "train.py:train():126: Epoch 1900 / 3000 -\t\t Train loss: 0.004662655293941498\tVal loss: 0.004678674973547459\tVal accuracy: 0.9638046622276306 INFO\n"
     ]
    },
    {
     "name": "stderr",
     "output_type": "stream",
     "text": [
      "train.py:train():126: Epoch 1910 / 3000 -\t\t Train loss: 0.004610625561326742\tVal loss: 0.004658352583646774\tVal accuracy: 0.9654447436332703 INFO\n"
     ]
    },
    {
     "name": "stderr",
     "output_type": "stream",
     "text": [
      "train.py:train():126: Epoch 1920 / 3000 -\t\t Train loss: 0.004643284250050783\tVal loss: 0.004659868776798248\tVal accuracy: 0.9653154015541077 INFO\n"
     ]
    },
    {
     "name": "stderr",
     "output_type": "stream",
     "text": [
      "train.py:train():126: Epoch 1930 / 3000 -\t\t Train loss: 0.004656205419450998\tVal loss: 0.0046288552694022655\tVal accuracy: 0.9639673829078674 INFO\n"
     ]
    },
    {
     "name": "stderr",
     "output_type": "stream",
     "text": [
      "train.py:train():126: Epoch 1940 / 3000 -\t\t Train loss: 0.00461609847843647\tVal loss: 0.004555936902761459\tVal accuracy: 0.9680989980697632 INFO\n"
     ]
    },
    {
     "name": "stderr",
     "output_type": "stream",
     "text": [
      "train.py:train():126: Epoch 1950 / 3000 -\t\t Train loss: 0.004564848728477955\tVal loss: 0.004600670654326677\tVal accuracy: 0.9659413695335388 INFO\n"
     ]
    },
    {
     "name": "stderr",
     "output_type": "stream",
     "text": [
      "train.py:train():126: Epoch 1960 / 3000 -\t\t Train loss: 0.004600845742970705\tVal loss: 0.00463365763425827\tVal accuracy: 0.9643638730049133 INFO\n"
     ]
    },
    {
     "name": "stderr",
     "output_type": "stream",
     "text": [
      "train.py:train():126: Epoch 1970 / 3000 -\t\t Train loss: 0.004641955718398094\tVal loss: 0.004611654207110405\tVal accuracy: 0.9659163355827332 INFO\n"
     ]
    },
    {
     "name": "stderr",
     "output_type": "stream",
     "text": [
      "train.py:train():126: Epoch 1980 / 3000 -\t\t Train loss: 0.004632627125829458\tVal loss: 0.004641391336917877\tVal accuracy: 0.9655449390411377 INFO\n"
     ]
    },
    {
     "name": "stderr",
     "output_type": "stream",
     "text": [
      "train.py:train():126: Epoch 1990 / 3000 -\t\t Train loss: 0.004560457076877356\tVal loss: 0.0045472318306565285\tVal accuracy: 0.968937873840332 INFO\n"
     ]
    },
    {
     "name": "stderr",
     "output_type": "stream",
     "text": [
      "train.py:train():126: Epoch 2000 / 3000 -\t\t Train loss: 0.004569979850202799\tVal loss: 0.004558485001325607\tVal accuracy: 0.9694803953170776 INFO\n"
     ]
    },
    {
     "name": "stderr",
     "output_type": "stream",
     "text": [
      "train.py:train():126: Epoch 2010 / 3000 -\t\t Train loss: 0.004638370126485825\tVal loss: 0.004663882311433554\tVal accuracy: 0.9672935605049133 INFO\n"
     ]
    },
    {
     "name": "stderr",
     "output_type": "stream",
     "text": [
      "train.py:train():126: Epoch 2020 / 3000 -\t\t Train loss: 0.004607760347425938\tVal loss: 0.004612017422914505\tVal accuracy: 0.9666091203689575 INFO\n"
     ]
    },
    {
     "name": "stderr",
     "output_type": "stream",
     "text": [
      "train.py:train():126: Epoch 2030 / 3000 -\t\t Train loss: 0.004633048549294472\tVal loss: 0.004610227886587381\tVal accuracy: 0.967013955116272 INFO\n"
     ]
    },
    {
     "name": "stderr",
     "output_type": "stream",
     "text": [
      "train.py:train():126: Epoch 2040 / 3000 -\t\t Train loss: 0.004563760012388229\tVal loss: 0.004606775939464569\tVal accuracy: 0.9674187302589417 INFO\n"
     ]
    },
    {
     "name": "stderr",
     "output_type": "stream",
     "text": [
      "train.py:train():126: Epoch 2050 / 3000 -\t\t Train loss: 0.004610795062035322\tVal loss: 0.004625082015991211\tVal accuracy: 0.9684704542160034 INFO\n"
     ]
    },
    {
     "name": "stderr",
     "output_type": "stream",
     "text": [
      "train.py:train():126: Epoch 2060 / 3000 -\t\t Train loss: 0.00457037566229701\tVal loss: 0.004570021294057369\tVal accuracy: 0.969455361366272 INFO\n"
     ]
    },
    {
     "name": "stderr",
     "output_type": "stream",
     "text": [
      "train.py:train():126: Epoch 2070 / 3000 -\t\t Train loss: 0.0045127859339118\tVal loss: 0.004566115327179432\tVal accuracy: 0.9681950211524963 INFO\n"
     ]
    },
    {
     "name": "stderr",
     "output_type": "stream",
     "text": [
      "train.py:train():126: Epoch 2080 / 3000 -\t\t Train loss: 0.0045467945747077465\tVal loss: 0.004525689873844385\tVal accuracy: 0.9693551659584045 INFO\n"
     ]
    },
    {
     "name": "stderr",
     "output_type": "stream",
     "text": [
      "train.py:train():126: Epoch 2090 / 3000 -\t\t Train loss: 0.00452613877132535\tVal loss: 0.004487760365009308\tVal accuracy: 0.9709076881408691 INFO\n"
     ]
    },
    {
     "name": "stderr",
     "output_type": "stream",
     "text": [
      "train.py:train():126: Epoch 2100 / 3000 -\t\t Train loss: 0.004500397946685553\tVal loss: 0.004502716939896345\tVal accuracy: 0.9710537195205688 INFO\n"
     ]
    },
    {
     "name": "stderr",
     "output_type": "stream",
     "text": [
      "train.py:train():126: Epoch 2110 / 3000 -\t\t Train loss: 0.00455106608569622\tVal loss: 0.004534638486802578\tVal accuracy: 0.970402717590332 INFO\n"
     ]
    },
    {
     "name": "stderr",
     "output_type": "stream",
     "text": [
      "train.py:train():126: Epoch 2120 / 3000 -\t\t Train loss: 0.004503045696765184\tVal loss: 0.004585628397762775\tVal accuracy: 0.9681740999221802 INFO\n"
     ]
    },
    {
     "name": "stderr",
     "output_type": "stream",
     "text": [
      "train.py:train():126: Epoch 2130 / 3000 -\t\t Train loss: 0.004515913315117359\tVal loss: 0.004500254988670349\tVal accuracy: 0.9698768258094788 INFO\n"
     ]
    },
    {
     "name": "stderr",
     "output_type": "stream",
     "text": [
      "train.py:train():126: Epoch 2140 / 3000 -\t\t Train loss: 0.004560269881039858\tVal loss: 0.004546560347080231\tVal accuracy: 0.968629002571106 INFO\n"
     ]
    },
    {
     "name": "stderr",
     "output_type": "stream",
     "text": [
      "train.py:train():126: Epoch 2150 / 3000 -\t\t Train loss: 0.0046113706193864346\tVal loss: 0.004577190615236759\tVal accuracy: 0.9667050838470459 INFO\n"
     ]
    },
    {
     "name": "stderr",
     "output_type": "stream",
     "text": [
      "train.py:train():126: Epoch 2160 / 3000 -\t\t Train loss: 0.004569999873638153\tVal loss: 0.004517086781561375\tVal accuracy: 0.9688084721565247 INFO\n"
     ]
    },
    {
     "name": "stderr",
     "output_type": "stream",
     "text": [
      "train.py:train():126: Epoch 2170 / 3000 -\t\t Train loss: 0.004489358980208635\tVal loss: 0.010173499584197998\tVal accuracy: 0.9714502096176147 INFO\n"
     ]
    },
    {
     "name": "stderr",
     "output_type": "stream",
     "text": [
      "train.py:train():126: Epoch 2180 / 3000 -\t\t Train loss: 0.004552219528704882\tVal loss: 0.1703273355960846\tVal accuracy: 0.9705862998962402 INFO\n"
     ]
    },
    {
     "name": "stderr",
     "output_type": "stream",
     "text": [
      "train.py:train():126: Epoch 2190 / 3000 -\t\t Train loss: 0.004523909650743008\tVal loss: 0.024528058245778084\tVal accuracy: 0.9724643230438232 INFO\n"
     ]
    },
    {
     "name": "stderr",
     "output_type": "stream",
     "text": [
      "train.py:train():126: Epoch 2200 / 3000 -\t\t Train loss: 0.004544783383607864\tVal loss: 0.004570135846734047\tVal accuracy: 0.9708659052848816 INFO\n"
     ]
    },
    {
     "name": "stderr",
     "output_type": "stream",
     "text": [
      "train.py:train():126: Epoch 2210 / 3000 -\t\t Train loss: 0.004513828549534082\tVal loss: 0.0062056249007582664\tVal accuracy: 0.973223865032196 INFO\n"
     ]
    },
    {
     "name": "stderr",
     "output_type": "stream",
     "text": [
      "train.py:train():126: Epoch 2220 / 3000 -\t\t Train loss: 0.004499194212257862\tVal loss: 0.004574393853545189\tVal accuracy: 0.9684746265411377 INFO\n"
     ]
    },
    {
     "name": "stderr",
     "output_type": "stream",
     "text": [
      "train.py:train():126: Epoch 2230 / 3000 -\t\t Train loss: 0.0044783069752156734\tVal loss: 0.004508697893470526\tVal accuracy: 0.9697850346565247 INFO\n"
     ]
    },
    {
     "name": "stderr",
     "output_type": "stream",
     "text": [
      "train.py:train():126: Epoch 2240 / 3000 -\t\t Train loss: 0.004430956672877073\tVal loss: 0.004477139096707106\tVal accuracy: 0.9707449078559875 INFO\n"
     ]
    },
    {
     "name": "stderr",
     "output_type": "stream",
     "text": [
      "train.py:train():126: Epoch 2250 / 3000 -\t\t Train loss: 0.004440178629010916\tVal loss: 0.004457244649529457\tVal accuracy: 0.9721763730049133 INFO\n"
     ]
    },
    {
     "name": "stderr",
     "output_type": "stream",
     "text": [
      "train.py:train():126: Epoch 2260 / 3000 -\t\t Train loss: 0.004460513591766357\tVal loss: 0.004377142526209354\tVal accuracy: 0.9745885729789734 INFO\n"
     ]
    },
    {
     "name": "stderr",
     "output_type": "stream",
     "text": [
      "train.py:train():126: Epoch 2270 / 3000 -\t\t Train loss: 0.004418953321874142\tVal loss: 0.00447997497394681\tVal accuracy: 0.9722222685813904 INFO\n"
     ]
    },
    {
     "name": "stderr",
     "output_type": "stream",
     "text": [
      "train.py:train():126: Epoch 2280 / 3000 -\t\t Train loss: 0.004469395615160465\tVal loss: 0.004460519179701805\tVal accuracy: 0.9738039970397949 INFO\n"
     ]
    },
    {
     "name": "stderr",
     "output_type": "stream",
     "text": [
      "train.py:train():126: Epoch 2290 / 3000 -\t\t Train loss: 0.004483008291572332\tVal loss: 0.0045335376635193825\tVal accuracy: 0.9721388220787048 INFO\n"
     ]
    },
    {
     "name": "stderr",
     "output_type": "stream",
     "text": [
      "train.py:train():126: Epoch 2300 / 3000 -\t\t Train loss: 0.00447544502094388\tVal loss: 0.004551637452095747\tVal accuracy: 0.9725895524024963 INFO\n"
     ]
    },
    {
     "name": "stderr",
     "output_type": "stream",
     "text": [
      "train.py:train():126: Epoch 2310 / 3000 -\t\t Train loss: 0.004478549584746361\tVal loss: 0.004394175484776497\tVal accuracy: 0.9758155345916748 INFO\n"
     ]
    },
    {
     "name": "stderr",
     "output_type": "stream",
     "text": [
      "train.py:train():126: Epoch 2320 / 3000 -\t\t Train loss: 0.0045045772567391396\tVal loss: 0.00451365252956748\tVal accuracy: 0.9737288355827332 INFO\n"
     ]
    },
    {
     "name": "stderr",
     "output_type": "stream",
     "text": [
      "train.py:train():126: Epoch 2330 / 3000 -\t\t Train loss: 0.0044793132692575455\tVal loss: 0.00448579341173172\tVal accuracy: 0.9730068445205688 INFO\n"
     ]
    },
    {
     "name": "stderr",
     "output_type": "stream",
     "text": [
      "train.py:train():126: Epoch 2340 / 3000 -\t\t Train loss: 0.004466516897082329\tVal loss: 0.004425257444381714\tVal accuracy: 0.9740836024284363 INFO\n"
     ]
    },
    {
     "name": "stderr",
     "output_type": "stream",
     "text": [
      "train.py:train():126: Epoch 2350 / 3000 -\t\t Train loss: 0.004458329640328884\tVal loss: 0.004649920389056206\tVal accuracy: 0.9688919186592102 INFO\n"
     ]
    },
    {
     "name": "stderr",
     "output_type": "stream",
     "text": [
      "train.py:train():126: Epoch 2360 / 3000 -\t\t Train loss: 0.004473978653550148\tVal loss: 0.0044410815462470055\tVal accuracy: 0.974079430103302 INFO\n"
     ]
    },
    {
     "name": "stderr",
     "output_type": "stream",
     "text": [
      "train.py:train():126: Epoch 2370 / 3000 -\t\t Train loss: 0.004447577986866236\tVal loss: 0.005218401551246643\tVal accuracy: 0.972873330116272 INFO\n"
     ]
    },
    {
     "name": "stderr",
     "output_type": "stream",
     "text": [
      "train.py:train():126: Epoch 2380 / 3000 -\t\t Train loss: 0.004466176964342594\tVal loss: 0.004857769701629877\tVal accuracy: 0.9704736471176147 INFO\n"
     ]
    },
    {
     "name": "stderr",
     "output_type": "stream",
     "text": [
      "train.py:train():126: Epoch 2390 / 3000 -\t\t Train loss: 0.004444692749530077\tVal loss: 0.004640472587198019\tVal accuracy: 0.9736704230308533 INFO\n"
     ]
    },
    {
     "name": "stderr",
     "output_type": "stream",
     "text": [
      "train.py:train():126: Epoch 2400 / 3000 -\t\t Train loss: 0.004455560352653265\tVal loss: 0.004620837513357401\tVal accuracy: 0.9724225997924805 INFO\n"
     ]
    },
    {
     "name": "stderr",
     "output_type": "stream",
     "text": [
      "train.py:train():126: Epoch 2410 / 3000 -\t\t Train loss: 0.004472644533962011\tVal loss: 0.004414582625031471\tVal accuracy: 0.973482608795166 INFO\n"
     ]
    },
    {
     "name": "stderr",
     "output_type": "stream",
     "text": [
      "train.py:train():126: Epoch 2420 / 3000 -\t\t Train loss: 0.004432217683643103\tVal loss: 0.004440301563590765\tVal accuracy: 0.9737747311592102 INFO\n"
     ]
    },
    {
     "name": "stderr",
     "output_type": "stream",
     "text": [
      "train.py:train():126: Epoch 2430 / 3000 -\t\t Train loss: 0.00445903604850173\tVal loss: 0.004566264804452658\tVal accuracy: 0.9731946587562561 INFO\n"
     ]
    },
    {
     "name": "stderr",
     "output_type": "stream",
     "text": [
      "train.py:train():126: Epoch 2440 / 3000 -\t\t Train loss: 0.004426300060003996\tVal loss: 0.004736888222396374\tVal accuracy: 0.9758405685424805 INFO\n"
     ]
    },
    {
     "name": "stderr",
     "output_type": "stream",
     "text": [
      "train.py:train():126: Epoch 2450 / 3000 -\t\t Train loss: 0.004415448755025864\tVal loss: 0.004632753785699606\tVal accuracy: 0.9734241962432861 INFO\n"
     ]
    },
    {
     "name": "stderr",
     "output_type": "stream",
     "text": [
      "train.py:train():126: Epoch 2460 / 3000 -\t\t Train loss: 0.004373663570731878\tVal loss: 0.0046813953667879105\tVal accuracy: 0.972919225692749 INFO\n"
     ]
    },
    {
     "name": "stderr",
     "output_type": "stream",
     "text": [
      "train.py:train():126: Epoch 2470 / 3000 -\t\t Train loss: 0.004397648852318525\tVal loss: 0.004559955094009638\tVal accuracy: 0.9740209579467773 INFO\n"
     ]
    },
    {
     "name": "stderr",
     "output_type": "stream",
     "text": [
      "train.py:train():126: Epoch 2480 / 3000 -\t\t Train loss: 0.00437431363388896\tVal loss: 0.004372850060462952\tVal accuracy: 0.9742964506149292 INFO\n"
     ]
    },
    {
     "name": "stderr",
     "output_type": "stream",
     "text": [
      "train.py:train():126: Epoch 2490 / 3000 -\t\t Train loss: 0.004385636653751135\tVal loss: 0.004397041629999876\tVal accuracy: 0.9738123416900635 INFO\n"
     ]
    },
    {
     "name": "stderr",
     "output_type": "stream",
     "text": [
      "train.py:train():126: Epoch 2500 / 3000 -\t\t Train loss: 0.004367292392998934\tVal loss: 0.004413969349116087\tVal accuracy: 0.973666250705719 INFO\n"
     ]
    },
    {
     "name": "stderr",
     "output_type": "stream",
     "text": [
      "train.py:train():126: Epoch 2510 / 3000 -\t\t Train loss: 0.004391619004309177\tVal loss: 0.004391521215438843\tVal accuracy: 0.9743047952651978 INFO\n"
     ]
    },
    {
     "name": "stderr",
     "output_type": "stream",
     "text": [
      "train.py:train():126: Epoch 2520 / 3000 -\t\t Train loss: 0.004368147347122431\tVal loss: 0.004363291896879673\tVal accuracy: 0.9759740829467773 INFO\n"
     ]
    },
    {
     "name": "stderr",
     "output_type": "stream",
     "text": [
      "train.py:train():126: Epoch 2530 / 3000 -\t\t Train loss: 0.0043538762256503105\tVal loss: 0.0043366882018744946\tVal accuracy: 0.9763538837432861 INFO\n"
     ]
    },
    {
     "name": "stderr",
     "output_type": "stream",
     "text": [
      "train.py:train():126: Epoch 2540 / 3000 -\t\t Train loss: 0.004357637371867895\tVal loss: 0.004397086799144745\tVal accuracy: 0.9755150675773621 INFO\n"
     ]
    },
    {
     "name": "stderr",
     "output_type": "stream",
     "text": [
      "train.py:train():126: Epoch 2550 / 3000 -\t\t Train loss: 0.004404664505273104\tVal loss: 0.004390518646687269\tVal accuracy: 0.9752103686332703 INFO\n"
     ]
    },
    {
     "name": "stderr",
     "output_type": "stream",
     "text": [
      "train.py:train():126: Epoch 2560 / 3000 -\t\t Train loss: 0.004400323610752821\tVal loss: 0.004375981632620096\tVal accuracy: 0.9751519560813904 INFO\n"
     ]
    },
    {
     "name": "stderr",
     "output_type": "stream",
     "text": [
      "train.py:train():126: Epoch 2570 / 3000 -\t\t Train loss: 0.00436424370855093\tVal loss: 0.004397008568048477\tVal accuracy: 0.9736453890800476 INFO\n"
     ]
    },
    {
     "name": "stderr",
     "output_type": "stream",
     "text": [
      "train.py:train():126: Epoch 2580 / 3000 -\t\t Train loss: 0.004359645769000053\tVal loss: 0.004365317523479462\tVal accuracy: 0.973970890045166 INFO\n"
     ]
    },
    {
     "name": "stderr",
     "output_type": "stream",
     "text": [
      "train.py:train():126: Epoch 2590 / 3000 -\t\t Train loss: 0.004443985875695944\tVal loss: 0.004430525936186314\tVal accuracy: 0.9741587042808533 INFO\n"
     ]
    },
    {
     "name": "stderr",
     "output_type": "stream",
     "text": [
      "train.py:train():126: Epoch 2600 / 3000 -\t\t Train loss: 0.004362356383353472\tVal loss: 0.0043624397367239\tVal accuracy: 0.9739625453948975 INFO\n"
     ]
    },
    {
     "name": "stderr",
     "output_type": "stream",
     "text": [
      "train.py:train():126: Epoch 2610 / 3000 -\t\t Train loss: 0.004360062535852194\tVal loss: 0.004381999839097261\tVal accuracy: 0.9755526185035706 INFO\n"
     ]
    },
    {
     "name": "stderr",
     "output_type": "stream",
     "text": [
      "train.py:train():126: Epoch 2620 / 3000 -\t\t Train loss: 0.004374753683805466\tVal loss: 0.0043571763671934605\tVal accuracy: 0.9760408997535706 INFO\n"
     ]
    },
    {
     "name": "stderr",
     "output_type": "stream",
     "text": [
      "train.py:train():126: Epoch 2630 / 3000 -\t\t Train loss: 0.004355187062174082\tVal loss: 0.004384808242321014\tVal accuracy: 0.974079430103302 INFO\n"
     ]
    },
    {
     "name": "stderr",
     "output_type": "stream",
     "text": [
      "train.py:train():126: Epoch 2640 / 3000 -\t\t Train loss: 0.004353857599198818\tVal loss: 0.004350767936557531\tVal accuracy: 0.9750309586524963 INFO\n"
     ]
    },
    {
     "name": "stderr",
     "output_type": "stream",
     "text": [
      "train.py:train():126: Epoch 2650 / 3000 -\t\t Train loss: 0.004377725999802351\tVal loss: 0.004375356249511242\tVal accuracy: 0.975252091884613 INFO\n"
     ]
    },
    {
     "name": "stderr",
     "output_type": "stream",
     "text": [
      "train.py:train():126: Epoch 2660 / 3000 -\t\t Train loss: 0.004347098059952259\tVal loss: 0.004389282315969467\tVal accuracy: 0.9754065275192261 INFO\n"
     ]
    },
    {
     "name": "stderr",
     "output_type": "stream",
     "text": [
      "train.py:train():126: Epoch 2670 / 3000 -\t\t Train loss: 0.004295425955206156\tVal loss: 0.004345574416220188\tVal accuracy: 0.9751853346824646 INFO\n"
     ]
    },
    {
     "name": "stderr",
     "output_type": "stream",
     "text": [
      "train.py:train():126: Epoch 2680 / 3000 -\t\t Train loss: 0.004294001497328281\tVal loss: 0.004341751802712679\tVal accuracy: 0.9754983186721802 INFO\n"
     ]
    },
    {
     "name": "stderr",
     "output_type": "stream",
     "text": [
      "train.py:train():126: Epoch 2690 / 3000 -\t\t Train loss: 0.004355827812105417\tVal loss: 0.004307905212044716\tVal accuracy: 0.9771926999092102 INFO\n"
     ]
    },
    {
     "name": "stderr",
     "output_type": "stream",
     "text": [
      "train.py:train():126: Epoch 2700 / 3000 -\t\t Train loss: 0.004313317593187094\tVal loss: 0.00431813532486558\tVal accuracy: 0.9765875935554504 INFO\n"
     ]
    },
    {
     "name": "stderr",
     "output_type": "stream",
     "text": [
      "train.py:train():126: Epoch 2710 / 3000 -\t\t Train loss: 0.004306682385504246\tVal loss: 0.004354959353804588\tVal accuracy: 0.9741294980049133 INFO\n"
     ]
    },
    {
     "name": "stderr",
     "output_type": "stream",
     "text": [
      "train.py:train():126: Epoch 2720 / 3000 -\t\t Train loss: 0.004330828785896301\tVal loss: 0.004338988568633795\tVal accuracy: 0.9752562642097473 INFO\n"
     ]
    },
    {
     "name": "stderr",
     "output_type": "stream",
     "text": [
      "train.py:train():126: Epoch 2730 / 3000 -\t\t Train loss: 0.004304797854274511\tVal loss: 0.004332749173045158\tVal accuracy: 0.975619375705719 INFO\n"
     ]
    },
    {
     "name": "stderr",
     "output_type": "stream",
     "text": [
      "train.py:train():126: Epoch 2740 / 3000 -\t\t Train loss: 0.004325532354414463\tVal loss: 0.004310169257223606\tVal accuracy: 0.9756110310554504 INFO\n"
     ]
    },
    {
     "name": "stderr",
     "output_type": "stream",
     "text": [
      "train.py:train():126: Epoch 2750 / 3000 -\t\t Train loss: 0.00434928759932518\tVal loss: 0.00434348126873374\tVal accuracy: 0.9745802283287048 INFO\n"
     ]
    },
    {
     "name": "stderr",
     "output_type": "stream",
     "text": [
      "train.py:train():126: Epoch 2760 / 3000 -\t\t Train loss: 0.004348783753812313\tVal loss: 0.004359901417046785\tVal accuracy: 0.9747679829597473 INFO\n"
     ]
    },
    {
     "name": "stderr",
     "output_type": "stream",
     "text": [
      "train.py:train():126: Epoch 2770 / 3000 -\t\t Train loss: 0.004264002665877342\tVal loss: 0.004346783272922039\tVal accuracy: 0.9749265909194946 INFO\n"
     ]
    },
    {
     "name": "stderr",
     "output_type": "stream",
     "text": [
      "train.py:train():126: Epoch 2780 / 3000 -\t\t Train loss: 0.004286159295588732\tVal loss: 0.004339070525020361\tVal accuracy: 0.9751185774803162 INFO\n"
     ]
    },
    {
     "name": "stderr",
     "output_type": "stream",
     "text": [
      "train.py:train():126: Epoch 2790 / 3000 -\t\t Train loss: 0.004327538888901472\tVal loss: 0.004321446642279625\tVal accuracy: 0.9760993123054504 INFO\n"
     ]
    },
    {
     "name": "stderr",
     "output_type": "stream",
     "text": [
      "train.py:train():126: Epoch 2800 / 3000 -\t\t Train loss: 0.004287355579435825\tVal loss: 0.0042944918386638165\tVal accuracy: 0.9764958024024963 INFO\n"
     ]
    },
    {
     "name": "stderr",
     "output_type": "stream",
     "text": [
      "train.py:train():126: Epoch 2810 / 3000 -\t\t Train loss: 0.004287354648113251\tVal loss: 0.004320208914577961\tVal accuracy: 0.9762829542160034 INFO\n"
     ]
    },
    {
     "name": "stderr",
     "output_type": "stream",
     "text": [
      "train.py:train():126: Epoch 2820 / 3000 -\t\t Train loss: 0.004290306009352207\tVal loss: 0.004292414057999849\tVal accuracy: 0.9761201739311218 INFO\n"
     ]
    },
    {
     "name": "stderr",
     "output_type": "stream",
     "text": [
      "train.py:train():126: Epoch 2830 / 3000 -\t\t Train loss: 0.004301248583942652\tVal loss: 0.004256050102412701\tVal accuracy: 0.977985680103302 INFO\n"
     ]
    },
    {
     "name": "stderr",
     "output_type": "stream",
     "text": [
      "train.py:train():126: Epoch 2840 / 3000 -\t\t Train loss: 0.004260395187884569\tVal loss: 0.004255857318639755\tVal accuracy: 0.9779940247535706 INFO\n"
     ]
    },
    {
     "name": "stderr",
     "output_type": "stream",
     "text": [
      "train.py:train():126: Epoch 2850 / 3000 -\t\t Train loss: 0.004277762025594711\tVal loss: 0.00431797606870532\tVal accuracy: 0.9763455390930176 INFO\n"
     ]
    },
    {
     "name": "stderr",
     "output_type": "stream",
     "text": [
      "train.py:train():126: Epoch 2860 / 3000 -\t\t Train loss: 0.004274115897715092\tVal loss: 0.004292015917599201\tVal accuracy: 0.9767962694168091 INFO\n"
     ]
    },
    {
     "name": "stderr",
     "output_type": "stream",
     "text": [
      "train.py:train():126: Epoch 2870 / 3000 -\t\t Train loss: 0.004269993863999844\tVal loss: 0.004277465865015984\tVal accuracy: 0.9776100516319275 INFO\n"
     ]
    },
    {
     "name": "stderr",
     "output_type": "stream",
     "text": [
      "train.py:train():126: Epoch 2880 / 3000 -\t\t Train loss: 0.004273043945431709\tVal loss: 0.00427207862958312\tVal accuracy: 0.9784113168716431 INFO\n"
     ]
    },
    {
     "name": "stderr",
     "output_type": "stream",
     "text": [
      "train.py:train():126: Epoch 2890 / 3000 -\t\t Train loss: 0.004266426432877779\tVal loss: 0.00427610520273447\tVal accuracy: 0.978290319442749 INFO\n"
     ]
    },
    {
     "name": "stderr",
     "output_type": "stream",
     "text": [
      "train.py:train():126: Epoch 2900 / 3000 -\t\t Train loss: 0.0042205676436424255\tVal loss: 0.004271096549928188\tVal accuracy: 0.9779272079467773 INFO\n"
     ]
    },
    {
     "name": "stderr",
     "output_type": "stream",
     "text": [
      "train.py:train():126: Epoch 2910 / 3000 -\t\t Train loss: 0.0042600492015480995\tVal loss: 0.004247847944498062\tVal accuracy: 0.9784363508224487 INFO\n"
     ]
    },
    {
     "name": "stderr",
     "output_type": "stream",
     "text": [
      "train.py:train():126: Epoch 2920 / 3000 -\t\t Train loss: 0.004296403378248215\tVal loss: 0.004278320353478193\tVal accuracy: 0.9783320426940918 INFO\n"
     ]
    },
    {
     "name": "stderr",
     "output_type": "stream",
     "text": [
      "train.py:train():126: Epoch 2930 / 3000 -\t\t Train loss: 0.004222230054438114\tVal loss: 0.004255490377545357\tVal accuracy: 0.9775891900062561 INFO\n"
     ]
    },
    {
     "name": "stderr",
     "output_type": "stream",
     "text": [
      "train.py:train():126: Epoch 2940 / 3000 -\t\t Train loss: 0.004293379373848438\tVal loss: 0.0042573525570333\tVal accuracy: 0.9783570766448975 INFO\n"
     ]
    },
    {
     "name": "stderr",
     "output_type": "stream",
     "text": [
      "train.py:train():126: Epoch 2950 / 3000 -\t\t Train loss: 0.004240007605403662\tVal loss: 0.004260021727532148\tVal accuracy: 0.9774640202522278 INFO\n"
     ]
    },
    {
     "name": "stderr",
     "output_type": "stream",
     "text": [
      "train.py:train():126: Epoch 2960 / 3000 -\t\t Train loss: 0.004237422253936529\tVal loss: 0.004269087687134743\tVal accuracy: 0.9766501784324646 INFO\n"
     ]
    },
    {
     "name": "stderr",
     "output_type": "stream",
     "text": [
      "train.py:train():126: Epoch 2970 / 3000 -\t\t Train loss: 0.004216781817376614\tVal loss: 0.00428251875564456\tVal accuracy: 0.9767211079597473 INFO\n"
     ]
    },
    {
     "name": "stderr",
     "output_type": "stream",
     "text": [
      "train.py:train():126: Epoch 2980 / 3000 -\t\t Train loss: 0.004188238177448511\tVal loss: 0.004244248382747173\tVal accuracy: 0.9767462015151978 INFO\n"
     ]
    },
    {
     "name": "stderr",
     "output_type": "stream",
     "text": [
      "train.py:train():126: Epoch 2990 / 3000 -\t\t Train loss: 0.0042449552565813065\tVal loss: 0.004254926461726427\tVal accuracy: 0.9771760106086731 INFO\n"
     ]
    },
    {
     "name": "stdout",
     "output_type": "stream",
     "text": [
      "Training complete: 0:53:33.281464\n"
     ]
    },
    {
     "name": "stdout",
     "output_type": "stream",
     "text": [
      "Warning: not using the test data for evaluation, but the training data instead of ../data/raw/summarise_simulation/2024_11_21_160955/tabulated_mutation_info.csv\n"
     ]
    },
    {
     "name": "stdout",
     "output_type": "stream",
     "text": [
      "The R2 score is  0.972635805606842\n",
      "The R2 score with weighted variance is  0.9726357460021973\n"
     ]
    },
    {
     "name": "stderr",
     "output_type": "stream",
     "text": [
      "2025-01-13 18:03:30.694858: W external/xla/xla/service/hlo_rematerialization.cc:3005] Can't reduce memory use below 10.89GiB (11697014906 bytes) by rematerialization; only reduced to 11.18GiB (12000000016 bytes), down from 11.18GiB (12000000016 bytes) originally\n"
     ]
    },
    {
     "name": "stdout",
     "output_type": "stream",
     "text": [
      "Steady states found. Now calculating signal response\n"
     ]
    },
    {
     "name": "stdout",
     "output_type": "stream",
     "text": [
      "data/2025_01_13__16_31_26/cvae_scan/hpo_4\n"
     ]
    },
    {
     "name": "stderr",
     "output_type": "stream",
     "text": [
      "/tmp/ipykernel_1299382/3564072330.py:20: SettingWithCopyWarning: \n",
      "A value is trying to be set on a copy of a slice from a DataFrame\n",
      "\n",
      "See the caveats in the documentation: https://pandas.pydata.org/pandas-docs/stable/user_guide/indexing.html#returning-a-view-versus-a-copy\n",
      "  df_hpos_main.loc[i] = pd.Series(hpos) if type(hpos) == dict else hpos.drop('index')\n"
     ]
    },
    {
     "name": "stderr",
     "output_type": "stream",
     "text": [
      "train.py:train():126: Epoch 0 / 3000 -\t\t Train loss: 0.11706807464361191\tVal loss: 0.07098981738090515\tVal accuracy: 0.29777228832244873 INFO\n"
     ]
    },
    {
     "name": "stderr",
     "output_type": "stream",
     "text": [
      "train.py:train():126: Epoch 10 / 3000 -\t\t Train loss: 0.008409449830651283\tVal loss: 0.00800346303731203\tVal accuracy: 0.8777210712432861 INFO\n"
     ]
    },
    {
     "name": "stderr",
     "output_type": "stream",
     "text": [
      "train.py:train():126: Epoch 20 / 3000 -\t\t Train loss: 0.006179517135024071\tVal loss: 0.005894866771996021\tVal accuracy: 0.9242663979530334 INFO\n"
     ]
    },
    {
     "name": "stderr",
     "output_type": "stream",
     "text": [
      "train.py:train():126: Epoch 30 / 3000 -\t\t Train loss: 0.005633080378174782\tVal loss: 0.005577636882662773\tVal accuracy: 0.9357221722602844 INFO\n"
     ]
    },
    {
     "name": "stderr",
     "output_type": "stream",
     "text": [
      "train.py:train():126: Epoch 40 / 3000 -\t\t Train loss: 0.0053822654299438\tVal loss: 0.005203228443861008\tVal accuracy: 0.944294273853302 INFO\n"
     ]
    },
    {
     "name": "stderr",
     "output_type": "stream",
     "text": [
      "train.py:train():126: Epoch 50 / 3000 -\t\t Train loss: 0.005222848616540432\tVal loss: 0.005198845639824867\tVal accuracy: 0.9470319747924805 INFO\n"
     ]
    },
    {
     "name": "stderr",
     "output_type": "stream",
     "text": [
      "train.py:train():126: Epoch 60 / 3000 -\t\t Train loss: 0.005132758058607578\tVal loss: 0.005103668197989464\tVal accuracy: 0.9445363283157349 INFO\n"
     ]
    },
    {
     "name": "stderr",
     "output_type": "stream",
     "text": [
      "train.py:train():126: Epoch 70 / 3000 -\t\t Train loss: 0.005133011378347874\tVal loss: 0.005012793466448784\tVal accuracy: 0.9493564963340759 INFO\n"
     ]
    },
    {
     "name": "stderr",
     "output_type": "stream",
     "text": [
      "train.py:train():126: Epoch 80 / 3000 -\t\t Train loss: 0.005018562078475952\tVal loss: 0.00522515457123518\tVal accuracy: 0.9425330758094788 INFO\n"
     ]
    },
    {
     "name": "stderr",
     "output_type": "stream",
     "text": [
      "train.py:train():126: Epoch 90 / 3000 -\t\t Train loss: 0.004990752320736647\tVal loss: 0.0050319647416472435\tVal accuracy: 0.9493941068649292 INFO\n"
     ]
    },
    {
     "name": "stderr",
     "output_type": "stream",
     "text": [
      "train.py:train():126: Epoch 100 / 3000 -\t\t Train loss: 0.004959660116583109\tVal loss: 0.004954482428729534\tVal accuracy: 0.9508881568908691 INFO\n"
     ]
    },
    {
     "name": "stderr",
     "output_type": "stream",
     "text": [
      "train.py:train():126: Epoch 110 / 3000 -\t\t Train loss: 0.004983149003237486\tVal loss: 0.0050421301275491714\tVal accuracy: 0.9491353034973145 INFO\n"
     ]
    },
    {
     "name": "stderr",
     "output_type": "stream",
     "text": [
      "train.py:train():126: Epoch 120 / 3000 -\t\t Train loss: 0.0048675015568733215\tVal loss: 0.005010548047721386\tVal accuracy: 0.9479376077651978 INFO\n"
     ]
    },
    {
     "name": "stderr",
     "output_type": "stream",
     "text": [
      "train.py:train():126: Epoch 130 / 3000 -\t\t Train loss: 0.004856935702264309\tVal loss: 0.0050966753624379635\tVal accuracy: 0.9475619792938232 INFO\n"
     ]
    },
    {
     "name": "stderr",
     "output_type": "stream",
     "text": [
      "train.py:train():126: Epoch 140 / 3000 -\t\t Train loss: 0.004825890529900789\tVal loss: 0.004950075410306454\tVal accuracy: 0.9506753087043762 INFO\n"
     ]
    },
    {
     "name": "stderr",
     "output_type": "stream",
     "text": [
      "train.py:train():126: Epoch 150 / 3000 -\t\t Train loss: 0.004912031814455986\tVal loss: 0.004921775311231613\tVal accuracy: 0.9535966515541077 INFO\n"
     ]
    },
    {
     "name": "stderr",
     "output_type": "stream",
     "text": [
      "train.py:train():126: Epoch 160 / 3000 -\t\t Train loss: 0.00482336338609457\tVal loss: 0.00490723829716444\tVal accuracy: 0.9516143202781677 INFO\n"
     ]
    },
    {
     "name": "stderr",
     "output_type": "stream",
     "text": [
      "train.py:train():126: Epoch 170 / 3000 -\t\t Train loss: 0.004866127856075764\tVal loss: 0.0048737130127847195\tVal accuracy: 0.9546065926551819 INFO\n"
     ]
    },
    {
     "name": "stderr",
     "output_type": "stream",
     "text": [
      "train.py:train():126: Epoch 180 / 3000 -\t\t Train loss: 0.0048448145389556885\tVal loss: 0.004860324785113335\tVal accuracy: 0.9546650052070618 INFO\n"
     ]
    },
    {
     "name": "stderr",
     "output_type": "stream",
     "text": [
      "train.py:train():126: Epoch 190 / 3000 -\t\t Train loss: 0.0048586903139948845\tVal loss: 0.004774889908730984\tVal accuracy: 0.9565805792808533 INFO\n"
     ]
    },
    {
     "name": "stderr",
     "output_type": "stream",
     "text": [
      "train.py:train():126: Epoch 200 / 3000 -\t\t Train loss: 0.004856528248637915\tVal loss: 0.004812890663743019\tVal accuracy: 0.9542685151100159 INFO\n"
     ]
    },
    {
     "name": "stderr",
     "output_type": "stream",
     "text": [
      "train.py:train():126: Epoch 210 / 3000 -\t\t Train loss: 0.0048687998205423355\tVal loss: 0.004836534149944782\tVal accuracy: 0.9540473818778992 INFO\n"
     ]
    },
    {
     "name": "stderr",
     "output_type": "stream",
     "text": [
      "train.py:train():126: Epoch 220 / 3000 -\t\t Train loss: 0.004811988212168217\tVal loss: 0.004827581811696291\tVal accuracy: 0.9539096355438232 INFO\n"
     ]
    },
    {
     "name": "stderr",
     "output_type": "stream",
     "text": [
      "train.py:train():126: Epoch 230 / 3000 -\t\t Train loss: 0.00474956352263689\tVal loss: 0.004812434781342745\tVal accuracy: 0.9533921480178833 INFO\n"
     ]
    },
    {
     "name": "stderr",
     "output_type": "stream",
     "text": [
      "train.py:train():126: Epoch 240 / 3000 -\t\t Train loss: 0.004738704301416874\tVal loss: 0.0047685434110462666\tVal accuracy: 0.9563385248184204 INFO\n"
     ]
    },
    {
     "name": "stderr",
     "output_type": "stream",
     "text": [
      "train.py:train():126: Epoch 250 / 3000 -\t\t Train loss: 0.004746363032609224\tVal loss: 0.004766308702528477\tVal accuracy: 0.9561381936073303 INFO\n"
     ]
    },
    {
     "name": "stderr",
     "output_type": "stream",
     "text": [
      "train.py:train():126: Epoch 260 / 3000 -\t\t Train loss: 0.004739872179925442\tVal loss: 0.004789145663380623\tVal accuracy: 0.9535048007965088 INFO\n"
     ]
    },
    {
     "name": "stderr",
     "output_type": "stream",
     "text": [
      "train.py:train():126: Epoch 270 / 3000 -\t\t Train loss: 0.004890073090791702\tVal loss: 0.004856572486460209\tVal accuracy: 0.9526159167289734 INFO\n"
     ]
    },
    {
     "name": "stderr",
     "output_type": "stream",
     "text": [
      "train.py:train():126: Epoch 280 / 3000 -\t\t Train loss: 0.004873816389590502\tVal loss: 0.004845753312110901\tVal accuracy: 0.9523321390151978 INFO\n"
     ]
    },
    {
     "name": "stderr",
     "output_type": "stream",
     "text": [
      "train.py:train():126: Epoch 290 / 3000 -\t\t Train loss: 0.004803465213626623\tVal loss: 0.004956240765750408\tVal accuracy: 0.9505167007446289 INFO\n"
     ]
    },
    {
     "name": "stderr",
     "output_type": "stream",
     "text": [
      "train.py:train():126: Epoch 300 / 3000 -\t\t Train loss: 0.004860204644501209\tVal loss: 0.004809028003364801\tVal accuracy: 0.9554495811462402 INFO\n"
     ]
    },
    {
     "name": "stderr",
     "output_type": "stream",
     "text": [
      "train.py:train():126: Epoch 310 / 3000 -\t\t Train loss: 0.00479263998568058\tVal loss: 0.004839410074055195\tVal accuracy: 0.9551658034324646 INFO\n"
     ]
    },
    {
     "name": "stderr",
     "output_type": "stream",
     "text": [
      "train.py:train():126: Epoch 320 / 3000 -\t\t Train loss: 0.004809809848666191\tVal loss: 0.004900707397609949\tVal accuracy: 0.9550907015800476 INFO\n"
     ]
    },
    {
     "name": "stderr",
     "output_type": "stream",
     "text": [
      "train.py:train():126: Epoch 330 / 3000 -\t\t Train loss: 0.004690738394856453\tVal loss: 0.004719648044556379\tVal accuracy: 0.9553953409194946 INFO\n"
     ]
    },
    {
     "name": "stderr",
     "output_type": "stream",
     "text": [
      "train.py:train():126: Epoch 340 / 3000 -\t\t Train loss: 0.004710468463599682\tVal loss: 0.004740312695503235\tVal accuracy: 0.9572775363922119 INFO\n"
     ]
    },
    {
     "name": "stderr",
     "output_type": "stream",
     "text": [
      "train.py:train():126: Epoch 350 / 3000 -\t\t Train loss: 0.004751833621412516\tVal loss: 0.004709381610155106\tVal accuracy: 0.9569185972213745 INFO\n"
     ]
    },
    {
     "name": "stderr",
     "output_type": "stream",
     "text": [
      "train.py:train():126: Epoch 360 / 3000 -\t\t Train loss: 0.004725661128759384\tVal loss: 0.004671500064432621\tVal accuracy: 0.958834171295166 INFO\n"
     ]
    },
    {
     "name": "stderr",
     "output_type": "stream",
     "text": [
      "train.py:train():126: Epoch 370 / 3000 -\t\t Train loss: 0.004664881620556116\tVal loss: 0.004819683730602264\tVal accuracy: 0.9542643427848816 INFO\n"
     ]
    },
    {
     "name": "stderr",
     "output_type": "stream",
     "text": [
      "train.py:train():126: Epoch 380 / 3000 -\t\t Train loss: 0.004700684454292059\tVal loss: 0.004697499796748161\tVal accuracy: 0.9565305113792419 INFO\n"
     ]
    },
    {
     "name": "stderr",
     "output_type": "stream",
     "text": [
      "train.py:train():126: Epoch 390 / 3000 -\t\t Train loss: 0.0047864168882369995\tVal loss: 0.004795313347131014\tVal accuracy: 0.9547860622406006 INFO\n"
     ]
    },
    {
     "name": "stderr",
     "output_type": "stream",
     "text": [
      "train.py:train():126: Epoch 400 / 3000 -\t\t Train loss: 0.004646304063498974\tVal loss: 0.004731271415948868\tVal accuracy: 0.9561757445335388 INFO\n"
     ]
    },
    {
     "name": "stderr",
     "output_type": "stream",
     "text": [
      "train.py:train():136: Early stopping triggered after 405 epochs:\n",
      "Train loss: nan\n",
      "Val loss: nan\n",
      "Val accuracy: 0.0\n",
      "Epochs no improvement: 32 WARNING\n"
     ]
    },
    {
     "name": "stdout",
     "output_type": "stream",
     "text": [
      "Training complete: 0:08:01.758357\n"
     ]
    },
    {
     "name": "stdout",
     "output_type": "stream",
     "text": [
      "Input contains NaN.\n"
     ]
    },
    {
     "name": "stderr",
     "output_type": "stream",
     "text": [
      "/tmp/ipykernel_1299382/3564072330.py:20: SettingWithCopyWarning: \n",
      "A value is trying to be set on a copy of a slice from a DataFrame\n",
      "\n",
      "See the caveats in the documentation: https://pandas.pydata.org/pandas-docs/stable/user_guide/indexing.html#returning-a-view-versus-a-copy\n",
      "  df_hpos_main.loc[i] = pd.Series(hpos) if type(hpos) == dict else hpos.drop('index')\n"
     ]
    },
    {
     "name": "stderr",
     "output_type": "stream",
     "text": [
      "train.py:train():126: Epoch 0 / 3000 -\t\t Train loss: 0.11755361407995224\tVal loss: 0.05887795612215996\tVal accuracy: 0.29391610622406006 INFO\n"
     ]
    },
    {
     "name": "stderr",
     "output_type": "stream",
     "text": [
      "train.py:train():126: Epoch 10 / 3000 -\t\t Train loss: 0.008793845772743225\tVal loss: 0.00853990949690342\tVal accuracy: 0.8596254587173462 INFO\n"
     ]
    },
    {
     "name": "stderr",
     "output_type": "stream",
     "text": [
      "train.py:train():126: Epoch 20 / 3000 -\t\t Train loss: 0.006487736944109201\tVal loss: 0.006711231544613838\tVal accuracy: 0.9013171792030334 INFO\n"
     ]
    },
    {
     "name": "stderr",
     "output_type": "stream",
     "text": [
      "train.py:train():126: Epoch 30 / 3000 -\t\t Train loss: 0.006196736358106136\tVal loss: 0.006225233897566795\tVal accuracy: 0.9171716570854187 INFO\n"
     ]
    },
    {
     "name": "stderr",
     "output_type": "stream",
     "text": [
      "train.py:train():126: Epoch 40 / 3000 -\t\t Train loss: 0.0057805259712040424\tVal loss: 0.005837098695337772\tVal accuracy: 0.9265116453170776 INFO\n"
     ]
    },
    {
     "name": "stderr",
     "output_type": "stream",
     "text": [
      "train.py:train():126: Epoch 50 / 3000 -\t\t Train loss: 0.005874008405953646\tVal loss: 0.005850458983331919\tVal accuracy: 0.927738606929779 INFO\n"
     ]
    },
    {
     "name": "stderr",
     "output_type": "stream",
     "text": [
      "train.py:train():126: Epoch 60 / 3000 -\t\t Train loss: 0.005679389927536249\tVal loss: 0.005715383216738701\tVal accuracy: 0.9267536997795105 INFO\n"
     ]
    },
    {
     "name": "stderr",
     "output_type": "stream",
     "text": [
      "train.py:train():126: Epoch 70 / 3000 -\t\t Train loss: 0.005867733154445887\tVal loss: 0.006040915381163359\tVal accuracy: 0.9208859801292419 INFO\n"
     ]
    },
    {
     "name": "stderr",
     "output_type": "stream",
     "text": [
      "train.py:train():126: Epoch 80 / 3000 -\t\t Train loss: 0.005642883479595184\tVal loss: 0.0055158440954983234\tVal accuracy: 0.935839056968689 INFO\n"
     ]
    },
    {
     "name": "stderr",
     "output_type": "stream",
     "text": [
      "train.py:train():126: Epoch 90 / 3000 -\t\t Train loss: 0.005568362772464752\tVal loss: 0.005526688881218433\tVal accuracy: 0.9356971383094788 INFO\n"
     ]
    },
    {
     "name": "stderr",
     "output_type": "stream",
     "text": [
      "train.py:train():126: Epoch 100 / 3000 -\t\t Train loss: 0.005489022471010685\tVal loss: 0.005273870192468166\tVal accuracy: 0.9427667856216431 INFO\n"
     ]
    },
    {
     "name": "stderr",
     "output_type": "stream",
     "text": [
      "train.py:train():126: Epoch 110 / 3000 -\t\t Train loss: 0.005361716262996197\tVal loss: 0.005251194350421429\tVal accuracy: 0.9441565275192261 INFO\n"
     ]
    },
    {
     "name": "stderr",
     "output_type": "stream",
     "text": [
      "train.py:train():126: Epoch 120 / 3000 -\t\t Train loss: 0.0053927176631987095\tVal loss: 0.005325167905539274\tVal accuracy: 0.942232608795166 INFO\n"
     ]
    },
    {
     "name": "stderr",
     "output_type": "stream",
     "text": [
      "train.py:train():126: Epoch 130 / 3000 -\t\t Train loss: 0.005171583034098148\tVal loss: 0.005198490805923939\tVal accuracy: 0.9459260106086731 INFO\n"
     ]
    },
    {
     "name": "stderr",
     "output_type": "stream",
     "text": [
      "train.py:train():126: Epoch 140 / 3000 -\t\t Train loss: 0.005206733476370573\tVal loss: 0.005325388628989458\tVal accuracy: 0.9410014748573303 INFO\n"
     ]
    },
    {
     "name": "stderr",
     "output_type": "stream",
     "text": [
      "train.py:train():126: Epoch 150 / 3000 -\t\t Train loss: 0.005076802335679531\tVal loss: 0.005045585799962282\tVal accuracy: 0.9492271542549133 INFO\n"
     ]
    },
    {
     "name": "stderr",
     "output_type": "stream",
     "text": [
      "train.py:train():126: Epoch 160 / 3000 -\t\t Train loss: 0.005296919960528612\tVal loss: 0.005274678114801645\tVal accuracy: 0.9457924962043762 INFO\n"
     ]
    },
    {
     "name": "stderr",
     "output_type": "stream",
     "text": [
      "train.py:train():126: Epoch 170 / 3000 -\t\t Train loss: 0.005435658618807793\tVal loss: 0.005296105984598398\tVal accuracy: 0.942570686340332 INFO\n"
     ]
    },
    {
     "name": "stderr",
     "output_type": "stream",
     "text": [
      "train.py:train():126: Epoch 180 / 3000 -\t\t Train loss: 0.005414631217718124\tVal loss: 0.005300411023199558\tVal accuracy: 0.9406551122665405 INFO\n"
     ]
    },
    {
     "name": "stderr",
     "output_type": "stream",
     "text": [
      "train.py:train():126: Epoch 190 / 3000 -\t\t Train loss: 0.005602080374956131\tVal loss: 0.0056581050157547\tVal accuracy: 0.9276467561721802 INFO\n"
     ]
    },
    {
     "name": "stderr",
     "output_type": "stream",
     "text": [
      "train.py:train():126: Epoch 200 / 3000 -\t\t Train loss: 0.011921833269298077\tVal loss: 0.00722957868129015\tVal accuracy: 0.9067925810813904 INFO\n"
     ]
    },
    {
     "name": "stderr",
     "output_type": "stream",
     "text": [
      "train.py:train():126: Epoch 210 / 3000 -\t\t Train loss: 0.011086087673902512\tVal loss: 0.010818703100085258\tVal accuracy: 0.8894815444946289 INFO\n"
     ]
    },
    {
     "name": "stderr",
     "output_type": "stream",
     "text": [
      "train.py:train():126: Epoch 220 / 3000 -\t\t Train loss: 0.01620151847600937\tVal loss: 0.012949086725711823\tVal accuracy: 0.8158011436462402 INFO\n"
     ]
    },
    {
     "name": "stderr",
     "output_type": "stream",
     "text": [
      "train.py:train():126: Epoch 230 / 3000 -\t\t Train loss: 0.00924798846244812\tVal loss: 0.00942730251699686\tVal accuracy: 0.8498181104660034 INFO\n"
     ]
    },
    {
     "name": "stderr",
     "output_type": "stream",
     "text": [
      "train.py:train():126: Epoch 240 / 3000 -\t\t Train loss: 0.008370509371161461\tVal loss: 0.008444825187325478\tVal accuracy: 0.8575679659843445 INFO\n"
     ]
    },
    {
     "name": "stderr",
     "output_type": "stream",
     "text": [
      "train.py:train():126: Epoch 250 / 3000 -\t\t Train loss: 0.007658411283046007\tVal loss: 0.007612895220518112\tVal accuracy: 0.8775082230567932 INFO\n"
     ]
    },
    {
     "name": "stderr",
     "output_type": "stream",
     "text": [
      "train.py:train():126: Epoch 260 / 3000 -\t\t Train loss: 0.006983587052673101\tVal loss: 0.006741959601640701\tVal accuracy: 0.8940847516059875 INFO\n"
     ]
    },
    {
     "name": "stderr",
     "output_type": "stream",
     "text": [
      "train.py:train():126: Epoch 270 / 3000 -\t\t Train loss: 0.006363702472299337\tVal loss: 0.006209487095475197\tVal accuracy: 0.9088082909584045 INFO\n"
     ]
    },
    {
     "name": "stderr",
     "output_type": "stream",
     "text": [
      "train.py:train():126: Epoch 280 / 3000 -\t\t Train loss: 0.006100188009440899\tVal loss: 0.006192253436893225\tVal accuracy: 0.9152436256408691 INFO\n"
     ]
    },
    {
     "name": "stderr",
     "output_type": "stream",
     "text": [
      "train.py:train():126: Epoch 290 / 3000 -\t\t Train loss: 0.005955606698989868\tVal loss: 0.006059026345610619\tVal accuracy: 0.9214159846305847 INFO\n"
     ]
    },
    {
     "name": "stderr",
     "output_type": "stream",
     "text": [
      "train.py:train():126: Epoch 300 / 3000 -\t\t Train loss: 0.005929482169449329\tVal loss: 0.005920949392020702\tVal accuracy: 0.9192208051681519 INFO\n"
     ]
    },
    {
     "name": "stderr",
     "output_type": "stream",
     "text": [
      "train.py:train():126: Epoch 310 / 3000 -\t\t Train loss: 0.005937997251749039\tVal loss: 0.00614734273403883\tVal accuracy: 0.9121302962303162 INFO\n"
     ]
    },
    {
     "name": "stderr",
     "output_type": "stream",
     "text": [
      "train.py:train():126: Epoch 320 / 3000 -\t\t Train loss: 0.005853462964296341\tVal loss: 0.005818339064717293\tVal accuracy: 0.9248673319816589 INFO\n"
     ]
    },
    {
     "name": "stderr",
     "output_type": "stream",
     "text": [
      "train.py:train():126: Epoch 330 / 3000 -\t\t Train loss: 0.0057355379685759544\tVal loss: 0.0058756000362336636\tVal accuracy: 0.920856773853302 INFO\n"
     ]
    },
    {
     "name": "stderr",
     "output_type": "stream",
     "text": [
      "train.py:train():126: Epoch 340 / 3000 -\t\t Train loss: 0.0734608918428421\tVal loss: 0.06635794043540955\tVal accuracy: 0.47602832317352295 INFO\n"
     ]
    },
    {
     "name": "stderr",
     "output_type": "stream",
     "text": [
      "train.py:train():126: Epoch 350 / 3000 -\t\t Train loss: 0.027725685387849808\tVal loss: 0.02680305577814579\tVal accuracy: 0.7157410383224487 INFO\n"
     ]
    },
    {
     "name": "stderr",
     "output_type": "stream",
     "text": [
      "train.py:train():126: Epoch 360 / 3000 -\t\t Train loss: 0.015689553692936897\tVal loss: 0.01531648263335228\tVal accuracy: 0.8082765936851501 INFO\n"
     ]
    },
    {
     "name": "stderr",
     "output_type": "stream",
     "text": [
      "train.py:train():126: Epoch 370 / 3000 -\t\t Train loss: 0.12704940140247345\tVal loss: 0.12746351957321167\tVal accuracy: 0.34878724813461304 INFO\n"
     ]
    },
    {
     "name": "stderr",
     "output_type": "stream",
     "text": [
      "train.py:train():126: Epoch 380 / 3000 -\t\t Train loss: 0.11950905621051788\tVal loss: 0.11835098266601562\tVal accuracy: 0.3468591570854187 INFO\n"
     ]
    },
    {
     "name": "stderr",
     "output_type": "stream",
     "text": [
      "train.py:train():126: Epoch 390 / 3000 -\t\t Train loss: 0.11219833791255951\tVal loss: 0.11179246008396149\tVal accuracy: 0.33793655037879944 INFO\n"
     ]
    },
    {
     "name": "stderr",
     "output_type": "stream",
     "text": [
      "train.py:train():126: Epoch 400 / 3000 -\t\t Train loss: 0.06892918795347214\tVal loss: 0.06053782254457474\tVal accuracy: 0.48378241062164307 INFO\n"
     ]
    },
    {
     "name": "stderr",
     "output_type": "stream",
     "text": [
      "train.py:train():126: Epoch 410 / 3000 -\t\t Train loss: 0.06744462251663208\tVal loss: 0.06710057705640793\tVal accuracy: 0.5975769758224487 INFO\n"
     ]
    },
    {
     "name": "stderr",
     "output_type": "stream",
     "text": [
      "train.py:train():126: Epoch 420 / 3000 -\t\t Train loss: 0.10185178369283676\tVal loss: 0.1020791083574295\tVal accuracy: 0.44290032982826233 INFO\n"
     ]
    },
    {
     "name": "stderr",
     "output_type": "stream",
     "text": [
      "train.py:train():126: Epoch 430 / 3000 -\t\t Train loss: 0.10015775263309479\tVal loss: 0.10056509077548981\tVal accuracy: 0.4571564793586731 INFO\n"
     ]
    },
    {
     "name": "stderr",
     "output_type": "stream",
     "text": [
      "train.py:train():126: Epoch 440 / 3000 -\t\t Train loss: 0.10190587490797043\tVal loss: 0.10224540531635284\tVal accuracy: 0.42646151781082153 INFO\n"
     ]
    },
    {
     "name": "stderr",
     "output_type": "stream",
     "text": [
      "train.py:train():126: Epoch 450 / 3000 -\t\t Train loss: 0.07026786357164383\tVal loss: 0.07076305150985718\tVal accuracy: 0.5388956069946289 INFO\n"
     ]
    },
    {
     "name": "stderr",
     "output_type": "stream",
     "text": [
      "train.py:train():126: Epoch 460 / 3000 -\t\t Train loss: 0.040332578122615814\tVal loss: 0.039421457797288895\tVal accuracy: 0.5459277033805847 INFO\n"
     ]
    },
    {
     "name": "stderr",
     "output_type": "stream",
     "text": [
      "train.py:train():126: Epoch 470 / 3000 -\t\t Train loss: 0.03404521197080612\tVal loss: 0.033821433782577515\tVal accuracy: 0.6257387399673462 INFO\n"
     ]
    },
    {
     "name": "stderr",
     "output_type": "stream",
     "text": [
      "train.py:train():126: Epoch 480 / 3000 -\t\t Train loss: 0.0458308644592762\tVal loss: 0.047867946326732635\tVal accuracy: 0.49664464592933655 INFO\n"
     ]
    },
    {
     "name": "stderr",
     "output_type": "stream",
     "text": [
      "train.py:train():126: Epoch 490 / 3000 -\t\t Train loss: 0.05626136437058449\tVal loss: 0.055439215153455734\tVal accuracy: 0.4785657227039337 INFO\n"
     ]
    },
    {
     "name": "stderr",
     "output_type": "stream",
     "text": [
      "train.py:train():126: Epoch 500 / 3000 -\t\t Train loss: 0.04718015715479851\tVal loss: 0.04604967683553696\tVal accuracy: 0.46574103832244873 INFO\n"
     ]
    },
    {
     "name": "stderr",
     "output_type": "stream",
     "text": [
      "train.py:train():126: Epoch 510 / 3000 -\t\t Train loss: 0.04687323793768883\tVal loss: 0.04438577964901924\tVal accuracy: 0.5099325776100159 INFO\n"
     ]
    },
    {
     "name": "stderr",
     "output_type": "stream",
     "text": [
      "train.py:train():126: Epoch 520 / 3000 -\t\t Train loss: 0.04273736849427223\tVal loss: 0.042670417577028275\tVal accuracy: 0.5247938632965088 INFO\n"
     ]
    },
    {
     "name": "stderr",
     "output_type": "stream",
     "text": [
      "train.py:train():126: Epoch 530 / 3000 -\t\t Train loss: 0.02994992583990097\tVal loss: 0.0298293586820364\tVal accuracy: 0.504014790058136 INFO\n"
     ]
    },
    {
     "name": "stderr",
     "output_type": "stream",
     "text": [
      "train.py:train():126: Epoch 540 / 3000 -\t\t Train loss: 0.0662996768951416\tVal loss: 0.066519595682621\tVal accuracy: 0.36162444949150085 INFO\n"
     ]
    },
    {
     "name": "stderr",
     "output_type": "stream",
     "text": [
      "train.py:train():126: Epoch 550 / 3000 -\t\t Train loss: 0.06054278463125229\tVal loss: 0.06029447540640831\tVal accuracy: 0.3575971722602844 INFO\n"
     ]
    },
    {
     "name": "stderr",
     "output_type": "stream",
     "text": [
      "train.py:train():126: Epoch 560 / 3000 -\t\t Train loss: 0.08119643479585648\tVal loss: 0.04232995584607124\tVal accuracy: 0.39893415570259094 INFO\n"
     ]
    },
    {
     "name": "stderr",
     "output_type": "stream",
     "text": [
      "train.py:train():126: Epoch 570 / 3000 -\t\t Train loss: 0.05704469978809357\tVal loss: 0.057152360677719116\tVal accuracy: 0.38911426067352295 INFO\n"
     ]
    },
    {
     "name": "stderr",
     "output_type": "stream",
     "text": [
      "train.py:train():126: Epoch 580 / 3000 -\t\t Train loss: 0.05229077860713005\tVal loss: 0.05205458775162697\tVal accuracy: 0.4090837240219116 INFO\n"
     ]
    },
    {
     "name": "stderr",
     "output_type": "stream",
     "text": [
      "train.py:train():126: Epoch 590 / 3000 -\t\t Train loss: 0.039786625653505325\tVal loss: 0.03899182006716728\tVal accuracy: 0.43936967849731445 INFO\n"
     ]
    },
    {
     "name": "stderr",
     "output_type": "stream",
     "text": [
      "train.py:train():126: Epoch 600 / 3000 -\t\t Train loss: 0.03464946523308754\tVal loss: 0.034896381199359894\tVal accuracy: 0.44998666644096375 INFO\n"
     ]
    },
    {
     "name": "stderr",
     "output_type": "stream",
     "text": [
      "train.py:train():126: Epoch 610 / 3000 -\t\t Train loss: 0.03279314562678337\tVal loss: 0.03307191655039787\tVal accuracy: 0.46302419900894165 INFO\n"
     ]
    },
    {
     "name": "stderr",
     "output_type": "stream",
     "text": [
      "train.py:train():126: Epoch 620 / 3000 -\t\t Train loss: 0.03290271759033203\tVal loss: 0.03604883328080177\tVal accuracy: 0.4706321954727173 INFO\n"
     ]
    },
    {
     "name": "stderr",
     "output_type": "stream",
     "text": [
      "train.py:train():126: Epoch 630 / 3000 -\t\t Train loss: 0.071015864610672\tVal loss: 0.07149379700422287\tVal accuracy: 0.3713149428367615 INFO\n"
     ]
    },
    {
     "name": "stderr",
     "output_type": "stream",
     "text": [
      "train.py:train():126: Epoch 640 / 3000 -\t\t Train loss: 0.04934162274003029\tVal loss: 0.05134037882089615\tVal accuracy: 0.3532235026359558 INFO\n"
     ]
    },
    {
     "name": "stderr",
     "output_type": "stream",
     "text": [
      "train.py:train():126: Epoch 650 / 3000 -\t\t Train loss: 0.04927041009068489\tVal loss: 0.049483198672533035\tVal accuracy: 0.34439271688461304 INFO\n"
     ]
    },
    {
     "name": "stderr",
     "output_type": "stream",
     "text": [
      "train.py:train():126: Epoch 660 / 3000 -\t\t Train loss: 0.04930778220295906\tVal loss: 0.049455709755420685\tVal accuracy: 0.34136703610420227 INFO\n"
     ]
    },
    {
     "name": "stderr",
     "output_type": "stream",
     "text": [
      "train.py:train():126: Epoch 670 / 3000 -\t\t Train loss: 0.04109708219766617\tVal loss: 0.04117005318403244\tVal accuracy: 0.40746447443962097 INFO\n"
     ]
    },
    {
     "name": "stderr",
     "output_type": "stream",
     "text": [
      "train.py:train():136: Early stopping triggered after 678 epochs:\n",
      "Train loss: nan\n",
      "Val loss: nan\n",
      "Val accuracy: 0.0\n",
      "Epochs no improvement: 524 WARNING\n"
     ]
    },
    {
     "name": "stdout",
     "output_type": "stream",
     "text": [
      "Training complete: 0:13:09.341563\n"
     ]
    },
    {
     "name": "stdout",
     "output_type": "stream",
     "text": [
      "Input contains NaN.\n"
     ]
    },
    {
     "name": "stderr",
     "output_type": "stream",
     "text": [
      "/tmp/ipykernel_1299382/3564072330.py:20: SettingWithCopyWarning: \n",
      "A value is trying to be set on a copy of a slice from a DataFrame\n",
      "\n",
      "See the caveats in the documentation: https://pandas.pydata.org/pandas-docs/stable/user_guide/indexing.html#returning-a-view-versus-a-copy\n",
      "  df_hpos_main.loc[i] = pd.Series(hpos) if type(hpos) == dict else hpos.drop('index')\n"
     ]
    },
    {
     "name": "stderr",
     "output_type": "stream",
     "text": [
      "train.py:train():126: Epoch 0 / 3000 -\t\t Train loss: 0.17865118384361267\tVal loss: 0.0889625996351242\tVal accuracy: 0.32415616512298584 INFO\n"
     ]
    },
    {
     "name": "stderr",
     "output_type": "stream",
     "text": [
      "train.py:train():126: Epoch 10 / 3000 -\t\t Train loss: 0.00582867581397295\tVal loss: 0.005779611878097057\tVal accuracy: 0.9473825097084045 INFO\n"
     ]
    },
    {
     "name": "stderr",
     "output_type": "stream",
     "text": [
      "train.py:train():126: Epoch 20 / 3000 -\t\t Train loss: 0.004490331746637821\tVal loss: 0.0045006005093455315\tVal accuracy: 0.9727230668067932 INFO\n"
     ]
    },
    {
     "name": "stderr",
     "output_type": "stream",
     "text": [
      "train.py:train():126: Epoch 30 / 3000 -\t\t Train loss: 0.00430064694955945\tVal loss: 0.00436780322343111\tVal accuracy: 0.9766877293586731 INFO\n"
     ]
    },
    {
     "name": "stderr",
     "output_type": "stream",
     "text": [
      "train.py:train():126: Epoch 40 / 3000 -\t\t Train loss: 0.0042145042680203915\tVal loss: 0.004588204436004162\tVal accuracy: 0.9709535837173462 INFO\n"
     ]
    },
    {
     "name": "stderr",
     "output_type": "stream",
     "text": [
      "train.py:train():126: Epoch 50 / 3000 -\t\t Train loss: 0.004149409476667643\tVal loss: 0.004187782295048237\tVal accuracy: 0.9833818078041077 INFO\n"
     ]
    },
    {
     "name": "stderr",
     "output_type": "stream",
     "text": [
      "train.py:train():126: Epoch 60 / 3000 -\t\t Train loss: 0.004073096439242363\tVal loss: 0.004125379025936127\tVal accuracy: 0.9830896854400635 INFO\n"
     ]
    },
    {
     "name": "stderr",
     "output_type": "stream",
     "text": [
      "train.py:train():126: Epoch 70 / 3000 -\t\t Train loss: 0.004079593811184168\tVal loss: 0.004074281081557274\tVal accuracy: 0.9839743971824646 INFO\n"
     ]
    },
    {
     "name": "stderr",
     "output_type": "stream",
     "text": [
      "train.py:train():126: Epoch 80 / 3000 -\t\t Train loss: 0.0040542930364608765\tVal loss: 0.004150796215981245\tVal accuracy: 0.984592080116272 INFO\n"
     ]
    },
    {
     "name": "stderr",
     "output_type": "stream",
     "text": [
      "train.py:train():126: Epoch 90 / 3000 -\t\t Train loss: 0.004043950233608484\tVal loss: 0.004121755715459585\tVal accuracy: 0.9824720025062561 INFO\n"
     ]
    },
    {
     "name": "stderr",
     "output_type": "stream",
     "text": [
      "train.py:train():126: Epoch 100 / 3000 -\t\t Train loss: 0.0040772040374577045\tVal loss: 0.003989892080426216\tVal accuracy: 0.9862655997276306 INFO\n"
     ]
    },
    {
     "name": "stderr",
     "output_type": "stream",
     "text": [
      "train.py:train():126: Epoch 110 / 3000 -\t\t Train loss: 0.003963381517678499\tVal loss: 0.004025617614388466\tVal accuracy: 0.9846296310424805 INFO\n"
     ]
    },
    {
     "name": "stderr",
     "output_type": "stream",
     "text": [
      "train.py:train():126: Epoch 120 / 3000 -\t\t Train loss: 0.003994479309767485\tVal loss: 0.004192597698420286\tVal accuracy: 0.9802559614181519 INFO\n"
     ]
    },
    {
     "name": "stderr",
     "output_type": "stream",
     "text": [
      "train.py:train():126: Epoch 130 / 3000 -\t\t Train loss: 0.0039610969834029675\tVal loss: 0.004045184701681137\tVal accuracy: 0.9815914034843445 INFO\n"
     ]
    },
    {
     "name": "stderr",
     "output_type": "stream",
     "text": [
      "train.py:train():126: Epoch 140 / 3000 -\t\t Train loss: 0.003992932382971048\tVal loss: 0.003983712755143642\tVal accuracy: 0.9856646060943604 INFO\n"
     ]
    },
    {
     "name": "stderr",
     "output_type": "stream",
     "text": [
      "train.py:train():126: Epoch 150 / 3000 -\t\t Train loss: 0.00391734205186367\tVal loss: 0.003976854495704174\tVal accuracy: 0.9851429462432861 INFO\n"
     ]
    },
    {
     "name": "stderr",
     "output_type": "stream",
     "text": [
      "train.py:train():126: Epoch 160 / 3000 -\t\t Train loss: 0.003931073006242514\tVal loss: 0.0039237383753061295\tVal accuracy: 0.9861820936203003 INFO\n"
     ]
    },
    {
     "name": "stderr",
     "output_type": "stream",
     "text": [
      "train.py:train():126: Epoch 170 / 3000 -\t\t Train loss: 0.003929538186639547\tVal loss: 0.0039816140197217464\tVal accuracy: 0.9851721525192261 INFO\n"
     ]
    },
    {
     "name": "stderr",
     "output_type": "stream",
     "text": [
      "train.py:train():126: Epoch 180 / 3000 -\t\t Train loss: 0.0041224355809390545\tVal loss: 0.004164494574069977\tVal accuracy: 0.980577290058136 INFO\n"
     ]
    },
    {
     "name": "stderr",
     "output_type": "stream",
     "text": [
      "train.py:train():126: Epoch 190 / 3000 -\t\t Train loss: 0.0040815239772200584\tVal loss: 0.004072176292538643\tVal accuracy: 0.9842081069946289 INFO\n"
     ]
    },
    {
     "name": "stderr",
     "output_type": "stream",
     "text": [
      "train.py:train():126: Epoch 200 / 3000 -\t\t Train loss: 0.0039962283335626125\tVal loss: 0.003991144243627787\tVal accuracy: 0.9846880435943604 INFO\n"
     ]
    },
    {
     "name": "stderr",
     "output_type": "stream",
     "text": [
      "train.py:train():126: Epoch 210 / 3000 -\t\t Train loss: 0.004082422703504562\tVal loss: 0.004033383913338184\tVal accuracy: 0.9841163158416748 INFO\n"
     ]
    },
    {
     "name": "stderr",
     "output_type": "stream",
     "text": [
      "train.py:train():126: Epoch 220 / 3000 -\t\t Train loss: 0.004003368318080902\tVal loss: 0.004030217882245779\tVal accuracy: 0.9833734631538391 INFO\n"
     ]
    },
    {
     "name": "stderr",
     "output_type": "stream",
     "text": [
      "train.py:train():126: Epoch 230 / 3000 -\t\t Train loss: 0.003971396945416927\tVal loss: 0.004175278358161449\tVal accuracy: 0.9806399345397949 INFO\n"
     ]
    },
    {
     "name": "stderr",
     "output_type": "stream",
     "text": [
      "train.py:train():126: Epoch 240 / 3000 -\t\t Train loss: 0.003926388919353485\tVal loss: 0.003957738168537617\tVal accuracy: 0.983966052532196 INFO\n"
     ]
    },
    {
     "name": "stderr",
     "output_type": "stream",
     "text": [
      "train.py:train():126: Epoch 250 / 3000 -\t\t Train loss: 0.003961633890867233\tVal loss: 0.004038549028337002\tVal accuracy: 0.9837573766708374 INFO\n"
     ]
    },
    {
     "name": "stderr",
     "output_type": "stream",
     "text": [
      "train.py:train():126: Epoch 260 / 3000 -\t\t Train loss: 0.00398143008351326\tVal loss: 0.0039689671248197556\tVal accuracy: 0.9856729507446289 INFO\n"
     ]
    },
    {
     "name": "stderr",
     "output_type": "stream",
     "text": [
      "train.py:train():126: Epoch 270 / 3000 -\t\t Train loss: 0.0039630490355193615\tVal loss: 0.003988121636211872\tVal accuracy: 0.9834569096565247 INFO\n"
     ]
    },
    {
     "name": "stderr",
     "output_type": "stream",
     "text": [
      "train.py:train():126: Epoch 280 / 3000 -\t\t Train loss: 0.00394881796091795\tVal loss: 0.00398174487054348\tVal accuracy: 0.9839535355567932 INFO\n"
     ]
    },
    {
     "name": "stderr",
     "output_type": "stream",
     "text": [
      "train.py:train():126: Epoch 290 / 3000 -\t\t Train loss: 0.004071442410349846\tVal loss: 0.003973166923969984\tVal accuracy: 0.9843541979789734 INFO\n"
     ]
    },
    {
     "name": "stderr",
     "output_type": "stream",
     "text": [
      "train.py:train():126: Epoch 300 / 3000 -\t\t Train loss: 0.0039388020522892475\tVal loss: 0.00397686380892992\tVal accuracy: 0.9843041300773621 INFO\n"
     ]
    },
    {
     "name": "stderr",
     "output_type": "stream",
     "text": [
      "train.py:train():126: Epoch 310 / 3000 -\t\t Train loss: 0.003984170500189066\tVal loss: 0.00399475684389472\tVal accuracy: 0.9846171140670776 INFO\n"
     ]
    },
    {
     "name": "stderr",
     "output_type": "stream",
     "text": [
      "train.py:train():126: Epoch 320 / 3000 -\t\t Train loss: 0.003969855140894651\tVal loss: 0.003970878664404154\tVal accuracy: 0.9835821390151978 INFO\n"
     ]
    },
    {
     "name": "stderr",
     "output_type": "stream",
     "text": [
      "train.py:train():126: Epoch 330 / 3000 -\t\t Train loss: 0.003971292171627283\tVal loss: 0.003948927391320467\tVal accuracy: 0.984971821308136 INFO\n"
     ]
    },
    {
     "name": "stderr",
     "output_type": "stream",
     "text": [
      "train.py:train():126: Epoch 340 / 3000 -\t\t Train loss: 0.003941581584513187\tVal loss: 0.003967681899666786\tVal accuracy: 0.9842164516448975 INFO\n"
     ]
    },
    {
     "name": "stderr",
     "output_type": "stream",
     "text": [
      "train.py:train():126: Epoch 350 / 3000 -\t\t Train loss: 0.003980264533311129\tVal loss: 0.003945201635360718\tVal accuracy: 0.9856520891189575 INFO\n"
     ]
    },
    {
     "name": "stderr",
     "output_type": "stream",
     "text": [
      "train.py:train():126: Epoch 360 / 3000 -\t\t Train loss: 0.004280585329979658\tVal loss: 0.004200546070933342\tVal accuracy: 0.9821757078170776 INFO\n"
     ]
    },
    {
     "name": "stderr",
     "output_type": "stream",
     "text": [
      "train.py:train():126: Epoch 370 / 3000 -\t\t Train loss: 0.003999871667474508\tVal loss: 0.004052604548633099\tVal accuracy: 0.9829310774803162 INFO\n"
     ]
    },
    {
     "name": "stderr",
     "output_type": "stream",
     "text": [
      "train.py:train():126: Epoch 380 / 3000 -\t\t Train loss: 0.004006432369351387\tVal loss: 0.004017604049295187\tVal accuracy: 0.9838032722473145 INFO\n"
     ]
    },
    {
     "name": "stderr",
     "output_type": "stream",
     "text": [
      "train.py:train():126: Epoch 390 / 3000 -\t\t Train loss: 0.004014073871076107\tVal loss: 0.004024839960038662\tVal accuracy: 0.9836989641189575 INFO\n"
     ]
    },
    {
     "name": "stderr",
     "output_type": "stream",
     "text": [
      "train.py:train():126: Epoch 400 / 3000 -\t\t Train loss: 0.003999016713351011\tVal loss: 0.004004604183137417\tVal accuracy: 0.9850010275840759 INFO\n"
     ]
    },
    {
     "name": "stderr",
     "output_type": "stream",
     "text": [
      "train.py:train():126: Epoch 410 / 3000 -\t\t Train loss: 0.003986754920333624\tVal loss: 0.004007784184068441\tVal accuracy: 0.9836071729660034 INFO\n"
     ]
    },
    {
     "name": "stderr",
     "output_type": "stream",
     "text": [
      "train.py:train():126: Epoch 420 / 3000 -\t\t Train loss: 0.003943601157516241\tVal loss: 0.004017665050923824\tVal accuracy: 0.9845545291900635 INFO\n"
     ]
    },
    {
     "name": "stderr",
     "output_type": "stream",
     "text": [
      "train.py:train():126: Epoch 430 / 3000 -\t\t Train loss: 0.004112051334232092\tVal loss: 0.004118443466722965\tVal accuracy: 0.9819795489311218 INFO\n"
     ]
    },
    {
     "name": "stderr",
     "output_type": "stream",
     "text": [
      "train.py:train():126: Epoch 440 / 3000 -\t\t Train loss: 0.00403154781088233\tVal loss: 0.004015426617115736\tVal accuracy: 0.9847172498703003 INFO\n"
     ]
    },
    {
     "name": "stderr",
     "output_type": "stream",
     "text": [
      "train.py:train():126: Epoch 450 / 3000 -\t\t Train loss: 0.003982926718890667\tVal loss: 0.004069285932928324\tVal accuracy: 0.984224796295166 INFO\n"
     ]
    },
    {
     "name": "stderr",
     "output_type": "stream",
     "text": [
      "train.py:train():126: Epoch 460 / 3000 -\t\t Train loss: 0.003959785681217909\tVal loss: 0.003967760596424341\tVal accuracy: 0.9844626784324646 INFO\n"
     ]
    },
    {
     "name": "stderr",
     "output_type": "stream",
     "text": [
      "train.py:train():126: Epoch 470 / 3000 -\t\t Train loss: 0.003936334513127804\tVal loss: 0.004083734937012196\tVal accuracy: 0.9818042516708374 INFO\n"
     ]
    },
    {
     "name": "stderr",
     "output_type": "stream",
     "text": [
      "train.py:train():126: Epoch 480 / 3000 -\t\t Train loss: 0.003976169042289257\tVal loss: 0.003983702510595322\tVal accuracy: 0.9849050641059875 INFO\n"
     ]
    },
    {
     "name": "stderr",
     "output_type": "stream",
     "text": [
      "train.py:train():126: Epoch 490 / 3000 -\t\t Train loss: 0.003970597870647907\tVal loss: 0.003965046256780624\tVal accuracy: 0.9851888418197632 INFO\n"
     ]
    },
    {
     "name": "stderr",
     "output_type": "stream",
     "text": [
      "train.py:train():126: Epoch 500 / 3000 -\t\t Train loss: 0.003954813349992037\tVal loss: 0.003974634688347578\tVal accuracy: 0.983845055103302 INFO\n"
     ]
    },
    {
     "name": "stderr",
     "output_type": "stream",
     "text": [
      "train.py:train():126: Epoch 510 / 3000 -\t\t Train loss: 0.003946085460484028\tVal loss: 0.003995505627244711\tVal accuracy: 0.9825804829597473 INFO\n"
     ]
    },
    {
     "name": "stderr",
     "output_type": "stream",
     "text": [
      "train.py:train():126: Epoch 520 / 3000 -\t\t Train loss: 0.003966666292399168\tVal loss: 0.003964697942137718\tVal accuracy: 0.9850051999092102 INFO\n"
     ]
    },
    {
     "name": "stderr",
     "output_type": "stream",
     "text": [
      "train.py:train():126: Epoch 530 / 3000 -\t\t Train loss: 0.003927739802747965\tVal loss: 0.003999374806880951\tVal accuracy: 0.983586311340332 INFO\n"
     ]
    },
    {
     "name": "stderr",
     "output_type": "stream",
     "text": [
      "train.py:train():126: Epoch 540 / 3000 -\t\t Train loss: 0.003941178787499666\tVal loss: 0.0040357341058552265\tVal accuracy: 0.9836572408676147 INFO\n"
     ]
    },
    {
     "name": "stderr",
     "output_type": "stream",
     "text": [
      "train.py:train():126: Epoch 550 / 3000 -\t\t Train loss: 0.007395253051072359\tVal loss: 0.006110495887696743\tVal accuracy: 0.9516059756278992 INFO\n"
     ]
    },
    {
     "name": "stderr",
     "output_type": "stream",
     "text": [
      "train.py:train():126: Epoch 560 / 3000 -\t\t Train loss: 0.004339245613664389\tVal loss: 0.004354024305939674\tVal accuracy: 0.9772845506668091 INFO\n"
     ]
    },
    {
     "name": "stderr",
     "output_type": "stream",
     "text": [
      "train.py:train():126: Epoch 570 / 3000 -\t\t Train loss: 0.004196611698716879\tVal loss: 0.004158835858106613\tVal accuracy: 0.9811532497406006 INFO\n"
     ]
    },
    {
     "name": "stderr",
     "output_type": "stream",
     "text": [
      "train.py:train():126: Epoch 580 / 3000 -\t\t Train loss: 0.00411453191190958\tVal loss: 0.0041810390539467335\tVal accuracy: 0.9802601337432861 INFO\n"
     ]
    },
    {
     "name": "stderr",
     "output_type": "stream",
     "text": [
      "train.py:train():126: Epoch 590 / 3000 -\t\t Train loss: 0.004147267900407314\tVal loss: 0.004103894345462322\tVal accuracy: 0.9826639890670776 INFO\n"
     ]
    },
    {
     "name": "stderr",
     "output_type": "stream",
     "text": [
      "train.py:train():126: Epoch 600 / 3000 -\t\t Train loss: 0.004112626425921917\tVal loss: 0.004127826076000929\tVal accuracy: 0.982150673866272 INFO\n"
     ]
    },
    {
     "name": "stderr",
     "output_type": "stream",
     "text": [
      "train.py:train():126: Epoch 610 / 3000 -\t\t Train loss: 0.0040753744542598724\tVal loss: 0.004066571593284607\tVal accuracy: 0.9827390909194946 INFO\n"
     ]
    },
    {
     "name": "stderr",
     "output_type": "stream",
     "text": [
      "train.py:train():126: Epoch 620 / 3000 -\t\t Train loss: 0.0041093407198786736\tVal loss: 0.004054553806781769\tVal accuracy: 0.9826264381408691 INFO\n"
     ]
    },
    {
     "name": "stderr",
     "output_type": "stream",
     "text": [
      "train.py:train():126: Epoch 630 / 3000 -\t\t Train loss: 0.004110061563551426\tVal loss: 0.004151923581957817\tVal accuracy: 0.9799972176551819 INFO\n"
     ]
    },
    {
     "name": "stderr",
     "output_type": "stream",
     "text": [
      "train.py:train():126: Epoch 640 / 3000 -\t\t Train loss: 0.004057582467794418\tVal loss: 0.004433149471879005\tVal accuracy: 0.9750768542289734 INFO\n"
     ]
    },
    {
     "name": "stderr",
     "output_type": "stream",
     "text": [
      "train.py:train():126: Epoch 650 / 3000 -\t\t Train loss: 0.004052409436553717\tVal loss: 0.0040316772647202015\tVal accuracy: 0.9824970364570618 INFO\n"
     ]
    },
    {
     "name": "stderr",
     "output_type": "stream",
     "text": [
      "train.py:train():126: Epoch 660 / 3000 -\t\t Train loss: 0.008417980745434761\tVal loss: 0.005873602814972401\tVal accuracy: 0.9658161997795105 INFO\n"
     ]
    },
    {
     "name": "stderr",
     "output_type": "stream",
     "text": [
      "train.py:train():126: Epoch 670 / 3000 -\t\t Train loss: 0.0043339803814888\tVal loss: 0.0043435231782495975\tVal accuracy: 0.9776434302330017 INFO\n"
     ]
    },
    {
     "name": "stderr",
     "output_type": "stream",
     "text": [
      "train.py:train():126: Epoch 680 / 3000 -\t\t Train loss: 0.004194412846118212\tVal loss: 0.004195109475404024\tVal accuracy: 0.9782986640930176 INFO\n"
     ]
    },
    {
     "name": "stderr",
     "output_type": "stream",
     "text": [
      "train.py:train():126: Epoch 690 / 3000 -\t\t Train loss: 0.004200836643576622\tVal loss: 0.0041973646730184555\tVal accuracy: 0.9781275391578674 INFO\n"
     ]
    },
    {
     "name": "stderr",
     "output_type": "stream",
     "text": [
      "train.py:train():126: Epoch 700 / 3000 -\t\t Train loss: 0.004173922352492809\tVal loss: 0.004141373559832573\tVal accuracy: 0.9796341061592102 INFO\n"
     ]
    },
    {
     "name": "stderr",
     "output_type": "stream",
     "text": [
      "train.py:train():126: Epoch 710 / 3000 -\t\t Train loss: 0.004170298110693693\tVal loss: 0.004196052439510822\tVal accuracy: 0.9770717024803162 INFO\n"
     ]
    },
    {
     "name": "stderr",
     "output_type": "stream",
     "text": [
      "train.py:train():126: Epoch 720 / 3000 -\t\t Train loss: 0.00407662196084857\tVal loss: 0.004176984075456858\tVal accuracy: 0.9767420291900635 INFO\n"
     ]
    },
    {
     "name": "stderr",
     "output_type": "stream",
     "text": [
      "train.py:train():126: Epoch 730 / 3000 -\t\t Train loss: 0.004165592137724161\tVal loss: 0.004184875637292862\tVal accuracy: 0.9797384738922119 INFO\n"
     ]
    },
    {
     "name": "stderr",
     "output_type": "stream",
     "text": [
      "train.py:train():126: Epoch 740 / 3000 -\t\t Train loss: 0.004035226535052061\tVal loss: 0.004149133805185556\tVal accuracy: 0.9777936935424805 INFO\n"
     ]
    },
    {
     "name": "stderr",
     "output_type": "stream",
     "text": [
      "train.py:train():126: Epoch 750 / 3000 -\t\t Train loss: 0.004097263794392347\tVal loss: 0.004098120145499706\tVal accuracy: 0.9804813265800476 INFO\n"
     ]
    },
    {
     "name": "stderr",
     "output_type": "stream",
     "text": [
      "train.py:train():126: Epoch 760 / 3000 -\t\t Train loss: 0.004079299978911877\tVal loss: 0.004123544320464134\tVal accuracy: 0.9808610677719116 INFO\n"
     ]
    },
    {
     "name": "stderr",
     "output_type": "stream",
     "text": [
      "train.py:train():126: Epoch 770 / 3000 -\t\t Train loss: 0.004101371858268976\tVal loss: 0.004111690446734428\tVal accuracy: 0.9806816577911377 INFO\n"
     ]
    },
    {
     "name": "stderr",
     "output_type": "stream",
     "text": [
      "train.py:train():126: Epoch 780 / 3000 -\t\t Train loss: 0.004107532557100058\tVal loss: 0.004115139599889517\tVal accuracy: 0.9802976846694946 INFO\n"
     ]
    },
    {
     "name": "stderr",
     "output_type": "stream",
     "text": [
      "train.py:train():126: Epoch 790 / 3000 -\t\t Train loss: 0.004125654231756926\tVal loss: 0.004196766763925552\tVal accuracy: 0.9791625142097473 INFO\n"
     ]
    },
    {
     "name": "stderr",
     "output_type": "stream",
     "text": [
      "train.py:train():126: Epoch 800 / 3000 -\t\t Train loss: 0.004100717604160309\tVal loss: 0.004210487008094788\tVal accuracy: 0.9792460203170776 INFO\n"
     ]
    },
    {
     "name": "stderr",
     "output_type": "stream",
     "text": [
      "train.py:train():136: Early stopping triggered after 803 epochs:\n",
      "Train loss: 0.004804697353392839\n",
      "Val loss: nan\n",
      "Val accuracy: 0.9602406024932861\n",
      "Epochs no improvement: 646 WARNING\n"
     ]
    },
    {
     "name": "stdout",
     "output_type": "stream",
     "text": [
      "Training complete: 0:16:18.165622\n"
     ]
    },
    {
     "name": "stdout",
     "output_type": "stream",
     "text": [
      "Warning: not using the test data for evaluation, but the training data instead of ../data/raw/summarise_simulation/2024_11_21_160955/tabulated_mutation_info.csv\n"
     ]
    },
    {
     "name": "stdout",
     "output_type": "stream",
     "text": [
      "Input contains NaN.\n"
     ]
    },
    {
     "name": "stderr",
     "output_type": "stream",
     "text": [
      "/tmp/ipykernel_1299382/3564072330.py:20: SettingWithCopyWarning: \n",
      "A value is trying to be set on a copy of a slice from a DataFrame\n",
      "\n",
      "See the caveats in the documentation: https://pandas.pydata.org/pandas-docs/stable/user_guide/indexing.html#returning-a-view-versus-a-copy\n",
      "  df_hpos_main.loc[i] = pd.Series(hpos) if type(hpos) == dict else hpos.drop('index')\n"
     ]
    },
    {
     "name": "stderr",
     "output_type": "stream",
     "text": [
      "train.py:train():126: Epoch 0 / 3000 -\t\t Train loss: 0.13537919521331787\tVal loss: 0.0879412367939949\tVal accuracy: 0.3212014436721802 INFO\n"
     ]
    },
    {
     "name": "stderr",
     "output_type": "stream",
     "text": [
      "train.py:train():126: Epoch 10 / 3000 -\t\t Train loss: 0.009016522206366062\tVal loss: 0.009127588011324406\tVal accuracy: 0.8356579542160034 INFO\n"
     ]
    },
    {
     "name": "stderr",
     "output_type": "stream",
     "text": [
      "train.py:train():126: Epoch 20 / 3000 -\t\t Train loss: 0.006010875105857849\tVal loss: 0.005892908200621605\tVal accuracy: 0.923143744468689 INFO\n"
     ]
    },
    {
     "name": "stderr",
     "output_type": "stream",
     "text": [
      "train.py:train():126: Epoch 30 / 3000 -\t\t Train loss: 0.005841643083840609\tVal loss: 0.006029689684510231\tVal accuracy: 0.9170882105827332 INFO\n"
     ]
    },
    {
     "name": "stderr",
     "output_type": "stream",
     "text": [
      "train.py:train():126: Epoch 40 / 3000 -\t\t Train loss: 0.005488369148224592\tVal loss: 0.00575048103928566\tVal accuracy: 0.9250175952911377 INFO\n"
     ]
    },
    {
     "name": "stderr",
     "output_type": "stream",
     "text": [
      "train.py:train():126: Epoch 50 / 3000 -\t\t Train loss: 0.005542340222746134\tVal loss: 0.00538099929690361\tVal accuracy: 0.9398287534713745 INFO\n"
     ]
    },
    {
     "name": "stderr",
     "output_type": "stream",
     "text": [
      "train.py:train():126: Epoch 60 / 3000 -\t\t Train loss: 0.005342567805200815\tVal loss: 0.005317952483892441\tVal accuracy: 0.9396451711654663 INFO\n"
     ]
    },
    {
     "name": "stderr",
     "output_type": "stream",
     "text": [
      "train.py:train():126: Epoch 70 / 3000 -\t\t Train loss: 0.0053078411146998405\tVal loss: 0.005504224915057421\tVal accuracy: 0.9351754784584045 INFO\n"
     ]
    },
    {
     "name": "stderr",
     "output_type": "stream",
     "text": [
      "train.py:train():126: Epoch 80 / 3000 -\t\t Train loss: 0.005127186421304941\tVal loss: 0.005245190113782883\tVal accuracy: 0.9462097883224487 INFO\n"
     ]
    },
    {
     "name": "stderr",
     "output_type": "stream",
     "text": [
      "train.py:train():126: Epoch 90 / 3000 -\t\t Train loss: 0.005160710774362087\tVal loss: 0.0051513491198420525\tVal accuracy: 0.9420155882835388 INFO\n"
     ]
    },
    {
     "name": "stderr",
     "output_type": "stream",
     "text": [
      "train.py:train():126: Epoch 100 / 3000 -\t\t Train loss: 0.005211543291807175\tVal loss: 0.005114439874887466\tVal accuracy: 0.9479166865348816 INFO\n"
     ]
    },
    {
     "name": "stderr",
     "output_type": "stream",
     "text": [
      "train.py:train():126: Epoch 110 / 3000 -\t\t Train loss: 0.005011065397411585\tVal loss: 0.005042412783950567\tVal accuracy: 0.9484425783157349 INFO\n"
     ]
    },
    {
     "name": "stderr",
     "output_type": "stream",
     "text": [
      "train.py:train():126: Epoch 120 / 3000 -\t\t Train loss: 0.005093028768897057\tVal loss: 0.005229216068983078\tVal accuracy: 0.9430631399154663 INFO\n"
     ]
    },
    {
     "name": "stderr",
     "output_type": "stream",
     "text": [
      "train.py:train():126: Epoch 130 / 3000 -\t\t Train loss: 0.005139932502061129\tVal loss: 0.005077267996966839\tVal accuracy: 0.9481378793716431 INFO\n"
     ]
    },
    {
     "name": "stderr",
     "output_type": "stream",
     "text": [
      "train.py:train():126: Epoch 140 / 3000 -\t\t Train loss: 0.00530557194724679\tVal loss: 0.005203883163630962\tVal accuracy: 0.9436390399932861 INFO\n"
     ]
    },
    {
     "name": "stderr",
     "output_type": "stream",
     "text": [
      "train.py:train():126: Epoch 150 / 3000 -\t\t Train loss: 0.005243554711341858\tVal loss: 0.005334239453077316\tVal accuracy: 0.9392945766448975 INFO\n"
     ]
    },
    {
     "name": "stderr",
     "output_type": "stream",
     "text": [
      "train.py:train():126: Epoch 160 / 3000 -\t\t Train loss: 0.005155010614544153\tVal loss: 0.005157356150448322\tVal accuracy: 0.9454460740089417 INFO\n"
     ]
    },
    {
     "name": "stderr",
     "output_type": "stream",
     "text": [
      "train.py:train():126: Epoch 170 / 3000 -\t\t Train loss: 0.005350657273083925\tVal loss: 0.005311423912644386\tVal accuracy: 0.9402836561203003 INFO\n"
     ]
    },
    {
     "name": "stderr",
     "output_type": "stream",
     "text": [
      "train.py:train():126: Epoch 180 / 3000 -\t\t Train loss: 0.005330757237970829\tVal loss: 0.0052725584246218204\tVal accuracy: 0.9385642409324646 INFO\n"
     ]
    },
    {
     "name": "stderr",
     "output_type": "stream",
     "text": [
      "train.py:train():126: Epoch 190 / 3000 -\t\t Train loss: 0.005244093481451273\tVal loss: 0.005345026031136513\tVal accuracy: 0.9355344176292419 INFO\n"
     ]
    },
    {
     "name": "stderr",
     "output_type": "stream",
     "text": [
      "train.py:train():126: Epoch 200 / 3000 -\t\t Train loss: 0.005145857110619545\tVal loss: 0.005081651266664267\tVal accuracy: 0.9419404864311218 INFO\n"
     ]
    },
    {
     "name": "stderr",
     "output_type": "stream",
     "text": [
      "train.py:train():126: Epoch 210 / 3000 -\t\t Train loss: 0.005254482384771109\tVal loss: 0.005120744463056326\tVal accuracy: 0.9439019560813904 INFO\n"
     ]
    },
    {
     "name": "stderr",
     "output_type": "stream",
     "text": [
      "train.py:train():126: Epoch 220 / 3000 -\t\t Train loss: 0.005614214576780796\tVal loss: 0.0055060056038200855\tVal accuracy: 0.9365318417549133 INFO\n"
     ]
    },
    {
     "name": "stderr",
     "output_type": "stream",
     "text": [
      "train.py:train():126: Epoch 230 / 3000 -\t\t Train loss: 0.006004820112138987\tVal loss: 0.006308015435934067\tVal accuracy: 0.9115251302719116 INFO\n"
     ]
    },
    {
     "name": "stderr",
     "output_type": "stream",
     "text": [
      "train.py:train():126: Epoch 240 / 3000 -\t\t Train loss: 0.005383531097322702\tVal loss: 0.005303489975631237\tVal accuracy: 0.9383013248443604 INFO\n"
     ]
    },
    {
     "name": "stderr",
     "output_type": "stream",
     "text": [
      "train.py:train():136: Early stopping triggered after 250 epochs:\n",
      "Train loss: nan\n",
      "Val loss: nan\n",
      "Val accuracy: 0.0\n",
      "Epochs no improvement: 140 WARNING\n"
     ]
    },
    {
     "name": "stdout",
     "output_type": "stream",
     "text": [
      "Training complete: 0:05:11.739582\n"
     ]
    },
    {
     "name": "stdout",
     "output_type": "stream",
     "text": [
      "Input contains NaN.\n"
     ]
    },
    {
     "name": "stderr",
     "output_type": "stream",
     "text": [
      "/tmp/ipykernel_1299382/3564072330.py:20: SettingWithCopyWarning: \n",
      "A value is trying to be set on a copy of a slice from a DataFrame\n",
      "\n",
      "See the caveats in the documentation: https://pandas.pydata.org/pandas-docs/stable/user_guide/indexing.html#returning-a-view-versus-a-copy\n",
      "  df_hpos_main.loc[i] = pd.Series(hpos) if type(hpos) == dict else hpos.drop('index')\n"
     ]
    },
    {
     "name": "stderr",
     "output_type": "stream",
     "text": [
      "train.py:train():126: Epoch 0 / 3000 -\t\t Train loss: 0.11935694515705109\tVal loss: 0.07922977209091187\tVal accuracy: 0.32245343923568726 INFO\n"
     ]
    },
    {
     "name": "stderr",
     "output_type": "stream",
     "text": [
      "train.py:train():126: Epoch 10 / 3000 -\t\t Train loss: 0.005237923935055733\tVal loss: 0.005048809107393026\tVal accuracy: 0.9622896909713745 INFO\n"
     ]
    },
    {
     "name": "stderr",
     "output_type": "stream",
     "text": [
      "train.py:train():136: Early stopping triggered after 15 epochs:\n",
      "Train loss: 0.004014805890619755\n",
      "Val loss: 0.004104492254555225\n",
      "Val accuracy: 0.9950295686721802\n",
      "Epochs no improvement: 0 WARNING\n"
     ]
    },
    {
     "name": "stdout",
     "output_type": "stream",
     "text": [
      "Training complete: 0:00:17.828201\n"
     ]
    },
    {
     "name": "stdout",
     "output_type": "stream",
     "text": [
      "Warning: not using the test data for evaluation, but the training data instead of ../data/raw/summarise_simulation/2024_11_21_160955/tabulated_mutation_info.csv\n"
     ]
    },
    {
     "name": "stdout",
     "output_type": "stream",
     "text": [
      "The R2 score is  0.9802213311195374\n",
      "The R2 score with weighted variance is  0.9802213311195374\n"
     ]
    },
    {
     "name": "stderr",
     "output_type": "stream",
     "text": [
      "2025-01-13 18:51:01.988237: W external/xla/xla/service/hlo_rematerialization.cc:3005] Can't reduce memory use below 10.89GiB (11697014906 bytes) by rematerialization; only reduced to 11.18GiB (12000000016 bytes), down from 11.18GiB (12000000016 bytes) originally\n"
     ]
    },
    {
     "name": "stdout",
     "output_type": "stream",
     "text": [
      "Steady states found. Now calculating signal response\n"
     ]
    },
    {
     "name": "stdout",
     "output_type": "stream",
     "text": [
      "data/2025_01_13__16_31_26/cvae_scan/hpo_9\n"
     ]
    },
    {
     "name": "stderr",
     "output_type": "stream",
     "text": [
      "/tmp/ipykernel_1299382/3564072330.py:20: SettingWithCopyWarning: \n",
      "A value is trying to be set on a copy of a slice from a DataFrame\n",
      "\n",
      "See the caveats in the documentation: https://pandas.pydata.org/pandas-docs/stable/user_guide/indexing.html#returning-a-view-versus-a-copy\n",
      "  df_hpos_main.loc[i] = pd.Series(hpos) if type(hpos) == dict else hpos.drop('index')\n"
     ]
    },
    {
     "name": "stderr",
     "output_type": "stream",
     "text": [
      "train.py:train():126: Epoch 0 / 3000 -\t\t Train loss: 0.10724828392267227\tVal loss: 0.07167403399944305\tVal accuracy: 0.306335985660553 INFO\n"
     ]
    },
    {
     "name": "stderr",
     "output_type": "stream",
     "text": [
      "train.py:train():126: Epoch 10 / 3000 -\t\t Train loss: 0.0068930708803236485\tVal loss: 0.00706971250474453\tVal accuracy: 0.8975611329078674 INFO\n"
     ]
    },
    {
     "name": "stderr",
     "output_type": "stream",
     "text": [
      "train.py:train():126: Epoch 20 / 3000 -\t\t Train loss: 0.005796271376311779\tVal loss: 0.005673883482813835\tVal accuracy: 0.9318994283676147 INFO\n"
     ]
    },
    {
     "name": "stderr",
     "output_type": "stream",
     "text": [
      "train.py:train():126: Epoch 30 / 3000 -\t\t Train loss: 0.005509351380169392\tVal loss: 0.005617544986307621\tVal accuracy: 0.9294580221176147 INFO\n"
     ]
    },
    {
     "name": "stderr",
     "output_type": "stream",
     "text": [
      "train.py:train():126: Epoch 40 / 3000 -\t\t Train loss: 0.005402301903814077\tVal loss: 0.0055354004725813866\tVal accuracy: 0.9341530203819275 INFO\n"
     ]
    },
    {
     "name": "stderr",
     "output_type": "stream",
     "text": [
      "train.py:train():126: Epoch 50 / 3000 -\t\t Train loss: 0.005210621748119593\tVal loss: 0.0056404974311590195\tVal accuracy: 0.9293119311332703 INFO\n"
     ]
    },
    {
     "name": "stderr",
     "output_type": "stream",
     "text": [
      "train.py:train():126: Epoch 60 / 3000 -\t\t Train loss: 0.005170851014554501\tVal loss: 0.005251441150903702\tVal accuracy: 0.941898763179779 INFO\n"
     ]
    },
    {
     "name": "stderr",
     "output_type": "stream",
     "text": [
      "train.py:train():126: Epoch 70 / 3000 -\t\t Train loss: 0.005210431758314371\tVal loss: 0.005493782460689545\tVal accuracy: 0.9317616820335388 INFO\n"
     ]
    },
    {
     "name": "stderr",
     "output_type": "stream",
     "text": [
      "train.py:train():126: Epoch 80 / 3000 -\t\t Train loss: 0.0050597405061125755\tVal loss: 0.005134000442922115\tVal accuracy: 0.9444820284843445 INFO\n"
     ]
    },
    {
     "name": "stderr",
     "output_type": "stream",
     "text": [
      "train.py:train():126: Epoch 90 / 3000 -\t\t Train loss: 0.005058313719928265\tVal loss: 0.005000609438866377\tVal accuracy: 0.9499783515930176 INFO\n"
     ]
    },
    {
     "name": "stderr",
     "output_type": "stream",
     "text": [
      "train.py:train():126: Epoch 100 / 3000 -\t\t Train loss: 0.004913825076073408\tVal loss: 0.004921747371554375\tVal accuracy: 0.9517186284065247 INFO\n"
     ]
    },
    {
     "name": "stderr",
     "output_type": "stream",
     "text": [
      "train.py:train():126: Epoch 110 / 3000 -\t\t Train loss: 0.004889160860329866\tVal loss: 0.0048489621840417385\tVal accuracy: 0.954210102558136 INFO\n"
     ]
    },
    {
     "name": "stderr",
     "output_type": "stream",
     "text": [
      "train.py:train():126: Epoch 120 / 3000 -\t\t Train loss: 0.0049295574426651\tVal loss: 0.004876065067946911\tVal accuracy: 0.954468846321106 INFO\n"
     ]
    },
    {
     "name": "stderr",
     "output_type": "stream",
     "text": [
      "train.py:train():126: Epoch 130 / 3000 -\t\t Train loss: 0.004871411249041557\tVal loss: 0.004928703885525465\tVal accuracy: 0.9498823881149292 INFO\n"
     ]
    },
    {
     "name": "stderr",
     "output_type": "stream",
     "text": [
      "train.py:train():126: Epoch 140 / 3000 -\t\t Train loss: 0.004972503986209631\tVal loss: 0.004916888661682606\tVal accuracy: 0.9527577757835388 INFO\n"
     ]
    },
    {
     "name": "stderr",
     "output_type": "stream",
     "text": [
      "train.py:train():126: Epoch 150 / 3000 -\t\t Train loss: 0.004868896212428808\tVal loss: 0.0048682801425457\tVal accuracy: 0.9545523524284363 INFO\n"
     ]
    },
    {
     "name": "stderr",
     "output_type": "stream",
     "text": [
      "train.py:train():126: Epoch 160 / 3000 -\t\t Train loss: 0.006952823139727116\tVal loss: 0.006726237945258617\tVal accuracy: 0.9054070115089417 INFO\n"
     ]
    },
    {
     "name": "stderr",
     "output_type": "stream",
     "text": [
      "train.py:train():126: Epoch 170 / 3000 -\t\t Train loss: 0.0056385681964457035\tVal loss: 0.005557681899517775\tVal accuracy: 0.9312400221824646 INFO\n"
     ]
    },
    {
     "name": "stderr",
     "output_type": "stream",
     "text": [
      "train.py:train():126: Epoch 180 / 3000 -\t\t Train loss: 0.005380141083151102\tVal loss: 0.005566023290157318\tVal accuracy: 0.9303051829338074 INFO\n"
     ]
    },
    {
     "name": "stderr",
     "output_type": "stream",
     "text": [
      "train.py:train():126: Epoch 190 / 3000 -\t\t Train loss: 0.0055318186059594154\tVal loss: 0.005350525490939617\tVal accuracy: 0.9372371435165405 INFO\n"
     ]
    },
    {
     "name": "stderr",
     "output_type": "stream",
     "text": [
      "train.py:train():126: Epoch 200 / 3000 -\t\t Train loss: 0.0053984858095645905\tVal loss: 0.005495117045938969\tVal accuracy: 0.9350836873054504 INFO\n"
     ]
    },
    {
     "name": "stderr",
     "output_type": "stream",
     "text": [
      "train.py:train():126: Epoch 210 / 3000 -\t\t Train loss: 0.0053852153941988945\tVal loss: 0.005357774440199137\tVal accuracy: 0.9348666667938232 INFO\n"
     ]
    },
    {
     "name": "stderr",
     "output_type": "stream",
     "text": [
      "train.py:train():126: Epoch 220 / 3000 -\t\t Train loss: 0.008310090750455856\tVal loss: 0.0067900074645876884\tVal accuracy: 0.9130150079727173 INFO\n"
     ]
    },
    {
     "name": "stderr",
     "output_type": "stream",
     "text": [
      "train.py:train():126: Epoch 230 / 3000 -\t\t Train loss: 0.011528447270393372\tVal loss: 0.010992760770022869\tVal accuracy: 0.7924888730049133 INFO\n"
     ]
    },
    {
     "name": "stderr",
     "output_type": "stream",
     "text": [
      "train.py:train():126: Epoch 240 / 3000 -\t\t Train loss: 0.009109681472182274\tVal loss: 0.00930321030318737\tVal accuracy: 0.8215019702911377 INFO\n"
     ]
    },
    {
     "name": "stderr",
     "output_type": "stream",
     "text": [
      "train.py:train():126: Epoch 250 / 3000 -\t\t Train loss: 0.008708740584552288\tVal loss: 0.008593055419623852\tVal accuracy: 0.8364216685295105 INFO\n"
     ]
    },
    {
     "name": "stderr",
     "output_type": "stream",
     "text": [
      "train.py:train():126: Epoch 260 / 3000 -\t\t Train loss: 0.008275502361357212\tVal loss: 0.008305884897708893\tVal accuracy: 0.8372855186462402 INFO\n"
     ]
    },
    {
     "name": "stderr",
     "output_type": "stream",
     "text": [
      "train.py:train():126: Epoch 270 / 3000 -\t\t Train loss: 0.008029462769627571\tVal loss: 0.00801277719438076\tVal accuracy: 0.8437166810035706 INFO\n"
     ]
    },
    {
     "name": "stderr",
     "output_type": "stream",
     "text": [
      "train.py:train():126: Epoch 280 / 3000 -\t\t Train loss: 0.007873385213315487\tVal loss: 0.007883814163506031\tVal accuracy: 0.8478566408157349 INFO\n"
     ]
    },
    {
     "name": "stderr",
     "output_type": "stream",
     "text": [
      "train.py:train():126: Epoch 290 / 3000 -\t\t Train loss: 0.009013100527226925\tVal loss: 0.008886813186109066\tVal accuracy: 0.8258129954338074 INFO\n"
     ]
    },
    {
     "name": "stderr",
     "output_type": "stream",
     "text": [
      "train.py:train():126: Epoch 300 / 3000 -\t\t Train loss: 0.008506249636411667\tVal loss: 0.008449817076325417\tVal accuracy: 0.8342974185943604 INFO\n"
     ]
    },
    {
     "name": "stderr",
     "output_type": "stream",
     "text": [
      "train.py:train():126: Epoch 310 / 3000 -\t\t Train loss: 1.597307801246643\tVal loss: 0.1036326065659523\tVal accuracy: 0.34003573656082153 INFO\n"
     ]
    },
    {
     "name": "stderr",
     "output_type": "stream",
     "text": [
      "train.py:train():136: Early stopping triggered after 313 epochs:\n",
      "Train loss: nan\n",
      "Val loss: nan\n",
      "Val accuracy: 0.0\n",
      "Epochs no improvement: 160 WARNING\n"
     ]
    },
    {
     "name": "stdout",
     "output_type": "stream",
     "text": [
      "Training complete: 0:06:17.375660\n"
     ]
    },
    {
     "name": "stdout",
     "output_type": "stream",
     "text": [
      "Input contains NaN.\n"
     ]
    },
    {
     "name": "stderr",
     "output_type": "stream",
     "text": [
      "/tmp/ipykernel_1299382/3564072330.py:20: SettingWithCopyWarning: \n",
      "A value is trying to be set on a copy of a slice from a DataFrame\n",
      "\n",
      "See the caveats in the documentation: https://pandas.pydata.org/pandas-docs/stable/user_guide/indexing.html#returning-a-view-versus-a-copy\n",
      "  df_hpos_main.loc[i] = pd.Series(hpos) if type(hpos) == dict else hpos.drop('index')\n"
     ]
    },
    {
     "name": "stderr",
     "output_type": "stream",
     "text": [
      "train.py:train():126: Epoch 0 / 3000 -\t\t Train loss: 0.09935712814331055\tVal loss: 0.05434487387537956\tVal accuracy: 0.32966914772987366 INFO\n"
     ]
    },
    {
     "name": "stderr",
     "output_type": "stream",
     "text": [
      "train.py:train():136: Early stopping triggered after 5 epochs:\n",
      "Train loss: 0.005767900496721268\n",
      "Val loss: 0.005432461388409138\n",
      "Val accuracy: 0.9904347658157349\n",
      "Epochs no improvement: 0 WARNING\n"
     ]
    },
    {
     "name": "stdout",
     "output_type": "stream",
     "text": [
      "Training complete: 0:00:06.841096\n"
     ]
    },
    {
     "name": "stdout",
     "output_type": "stream",
     "text": [
      "Warning: not using the test data for evaluation, but the training data instead of ../data/raw/summarise_simulation/2024_11_21_160955/tabulated_mutation_info.csv\n"
     ]
    },
    {
     "name": "stdout",
     "output_type": "stream",
     "text": [
      "The R2 score is  0.97629714012146\n",
      "The R2 score with weighted variance is  0.97629714012146\n"
     ]
    },
    {
     "name": "stdout",
     "output_type": "stream",
     "text": [
      "Steady states found. Now calculating signal response\n"
     ]
    },
    {
     "name": "stdout",
     "output_type": "stream",
     "text": [
      "data/2025_01_13__16_31_26/cvae_scan/hpo_11\n"
     ]
    },
    {
     "name": "stderr",
     "output_type": "stream",
     "text": [
      "/tmp/ipykernel_1299382/3564072330.py:20: SettingWithCopyWarning: \n",
      "A value is trying to be set on a copy of a slice from a DataFrame\n",
      "\n",
      "See the caveats in the documentation: https://pandas.pydata.org/pandas-docs/stable/user_guide/indexing.html#returning-a-view-versus-a-copy\n",
      "  df_hpos_main.loc[i] = pd.Series(hpos) if type(hpos) == dict else hpos.drop('index')\n"
     ]
    },
    {
     "name": "stderr",
     "output_type": "stream",
     "text": [
      "train.py:train():126: Epoch 0 / 3000 -\t\t Train loss: 0.11379542201757431\tVal loss: 0.06673159450292587\tVal accuracy: 0.30955779552459717 INFO\n"
     ]
    },
    {
     "name": "stderr",
     "output_type": "stream",
     "text": [
      "train.py:train():136: Early stopping triggered after 5 epochs:\n",
      "Train loss: 0.005751679185777903\n",
      "Val loss: 0.0051142871379852295\n",
      "Val accuracy: 0.9932559132575989\n",
      "Epochs no improvement: 0 WARNING\n"
     ]
    },
    {
     "name": "stdout",
     "output_type": "stream",
     "text": [
      "Training complete: 0:00:07.233044\n"
     ]
    },
    {
     "name": "stdout",
     "output_type": "stream",
     "text": [
      "Warning: not using the test data for evaluation, but the training data instead of ../data/raw/summarise_simulation/2024_11_21_160955/tabulated_mutation_info.csv\n"
     ]
    },
    {
     "name": "stdout",
     "output_type": "stream",
     "text": [
      "The R2 score is  0.9790365099906921\n",
      "The R2 score with weighted variance is  0.9790364503860474\n"
     ]
    },
    {
     "name": "stdout",
     "output_type": "stream",
     "text": [
      "Steady states found. Now calculating signal response\n"
     ]
    },
    {
     "name": "stdout",
     "output_type": "stream",
     "text": [
      "data/2025_01_13__16_31_26/cvae_scan/hpo_12\n"
     ]
    },
    {
     "name": "stderr",
     "output_type": "stream",
     "text": [
      "/tmp/ipykernel_1299382/3564072330.py:20: SettingWithCopyWarning: \n",
      "A value is trying to be set on a copy of a slice from a DataFrame\n",
      "\n",
      "See the caveats in the documentation: https://pandas.pydata.org/pandas-docs/stable/user_guide/indexing.html#returning-a-view-versus-a-copy\n",
      "  df_hpos_main.loc[i] = pd.Series(hpos) if type(hpos) == dict else hpos.drop('index')\n"
     ]
    },
    {
     "name": "stderr",
     "output_type": "stream",
     "text": [
      "train.py:train():126: Epoch 0 / 3000 -\t\t Train loss: 0.15548785030841827\tVal loss: 0.10544818639755249\tVal accuracy: 0.33128005266189575 INFO\n"
     ]
    },
    {
     "name": "stderr",
     "output_type": "stream",
     "text": [
      "train.py:train():136: Early stopping triggered after 7 epochs:\n",
      "Train loss: 0.005378031171858311\n",
      "Val loss: 0.004982533864676952\n",
      "Val accuracy: 0.9920164346694946\n",
      "Epochs no improvement: 0 WARNING\n"
     ]
    },
    {
     "name": "stdout",
     "output_type": "stream",
     "text": [
      "Training complete: 0:00:09.814334\n"
     ]
    },
    {
     "name": "stdout",
     "output_type": "stream",
     "text": [
      "Warning: not using the test data for evaluation, but the training data instead of ../data/raw/summarise_simulation/2024_11_21_160955/tabulated_mutation_info.csv\n"
     ]
    },
    {
     "name": "stdout",
     "output_type": "stream",
     "text": [
      "The R2 score is  0.9778358340263367\n",
      "The R2 score with weighted variance is  0.9778358340263367\n"
     ]
    },
    {
     "name": "stderr",
     "output_type": "stream",
     "text": [
      "/workdir/src/evoscaper/utils/visualise.py:30: UserWarning: Creating legend with loc=\"best\" can be slow with large amounts of data.\n",
      "  plt.tight_layout()\n"
     ]
    },
    {
     "name": "stdout",
     "output_type": "stream",
     "text": [
      "Steady states found. Now calculating signal response\n"
     ]
    },
    {
     "name": "stdout",
     "output_type": "stream",
     "text": [
      "data/2025_01_13__16_31_26/cvae_scan/hpo_13\n"
     ]
    },
    {
     "name": "stderr",
     "output_type": "stream",
     "text": [
      "/tmp/ipykernel_1299382/3564072330.py:20: SettingWithCopyWarning: \n",
      "A value is trying to be set on a copy of a slice from a DataFrame\n",
      "\n",
      "See the caveats in the documentation: https://pandas.pydata.org/pandas-docs/stable/user_guide/indexing.html#returning-a-view-versus-a-copy\n",
      "  df_hpos_main.loc[i] = pd.Series(hpos) if type(hpos) == dict else hpos.drop('index')\n"
     ]
    },
    {
     "name": "stderr",
     "output_type": "stream",
     "text": [
      "train.py:train():126: Epoch 0 / 3000 -\t\t Train loss: 0.1223720833659172\tVal loss: 0.06043684482574463\tVal accuracy: 0.3198743164539337 INFO\n"
     ]
    },
    {
     "name": "stderr",
     "output_type": "stream",
     "text": [
      "train.py:train():136: Early stopping triggered after 6 epochs:\n",
      "Train loss: 0.005105711054056883\n",
      "Val loss: 0.004747049417346716\n",
      "Val accuracy: 0.9949628114700317\n",
      "Epochs no improvement: 0 WARNING\n"
     ]
    },
    {
     "name": "stdout",
     "output_type": "stream",
     "text": [
      "Training complete: 0:00:08.466541\n"
     ]
    },
    {
     "name": "stdout",
     "output_type": "stream",
     "text": [
      "Warning: not using the test data for evaluation, but the training data instead of ../data/raw/summarise_simulation/2024_11_21_160955/tabulated_mutation_info.csv\n"
     ]
    },
    {
     "name": "stdout",
     "output_type": "stream",
     "text": [
      "The R2 score is  0.9811994433403015\n",
      "The R2 score with weighted variance is  0.9811993837356567\n"
     ]
    },
    {
     "name": "stderr",
     "output_type": "stream",
     "text": [
      "/workdir/src/evoscaper/utils/visualise.py:30: UserWarning: Creating legend with loc=\"best\" can be slow with large amounts of data.\n",
      "  plt.tight_layout()\n"
     ]
    },
    {
     "name": "stderr",
     "output_type": "stream",
     "text": [
      "/workdir/src/evoscaper/utils/visualise.py:32: UserWarning: Creating legend with loc=\"best\" can be slow with large amounts of data.\n",
      "  plt.savefig(save_path, transparent=True, dpi=300)\n"
     ]
    },
    {
     "name": "stdout",
     "output_type": "stream",
     "text": [
      "Steady states found. Now calculating signal response\n"
     ]
    },
    {
     "name": "stdout",
     "output_type": "stream",
     "text": [
      "data/2025_01_13__16_31_26/cvae_scan/hpo_14\n"
     ]
    },
    {
     "name": "stderr",
     "output_type": "stream",
     "text": [
      "/tmp/ipykernel_1299382/3564072330.py:20: SettingWithCopyWarning: \n",
      "A value is trying to be set on a copy of a slice from a DataFrame\n",
      "\n",
      "See the caveats in the documentation: https://pandas.pydata.org/pandas-docs/stable/user_guide/indexing.html#returning-a-view-versus-a-copy\n",
      "  df_hpos_main.loc[i] = pd.Series(hpos) if type(hpos) == dict else hpos.drop('index')\n"
     ]
    },
    {
     "name": "stderr",
     "output_type": "stream",
     "text": [
      "train.py:train():126: Epoch 0 / 3000 -\t\t Train loss: 0.15593522787094116\tVal loss: 0.11320917308330536\tVal accuracy: 0.3408203423023224 INFO\n"
     ]
    },
    {
     "name": "stderr",
     "output_type": "stream",
     "text": [
      "train.py:train():136: Early stopping triggered after 8 epochs:\n",
      "Train loss: 0.004735332913696766\n",
      "Val loss: 0.004533668048679829\n",
      "Val accuracy: 0.9943243265151978\n",
      "Epochs no improvement: 0 WARNING\n"
     ]
    },
    {
     "name": "stdout",
     "output_type": "stream",
     "text": [
      "Training complete: 0:00:11.185182\n"
     ]
    },
    {
     "name": "stdout",
     "output_type": "stream",
     "text": [
      "Warning: not using the test data for evaluation, but the training data instead of ../data/raw/summarise_simulation/2024_11_21_160955/tabulated_mutation_info.csv\n"
     ]
    },
    {
     "name": "stdout",
     "output_type": "stream",
     "text": [
      "The R2 score is  0.9805792570114136\n",
      "The R2 score with weighted variance is  0.9805792570114136\n"
     ]
    },
    {
     "name": "stderr",
     "output_type": "stream",
     "text": [
      "/workdir/src/evoscaper/utils/visualise.py:30: UserWarning: Creating legend with loc=\"best\" can be slow with large amounts of data.\n",
      "  plt.tight_layout()\n"
     ]
    },
    {
     "name": "stderr",
     "output_type": "stream",
     "text": [
      "/workdir/src/evoscaper/utils/visualise.py:32: UserWarning: Creating legend with loc=\"best\" can be slow with large amounts of data.\n",
      "  plt.savefig(save_path, transparent=True, dpi=300)\n"
     ]
    },
    {
     "name": "stdout",
     "output_type": "stream",
     "text": [
      "Steady states found. Now calculating signal response\n"
     ]
    },
    {
     "name": "stdout",
     "output_type": "stream",
     "text": [
      "data/2025_01_13__16_31_26/cvae_scan/hpo_15\n"
     ]
    },
    {
     "name": "stderr",
     "output_type": "stream",
     "text": [
      "/tmp/ipykernel_1299382/3564072330.py:20: SettingWithCopyWarning: \n",
      "A value is trying to be set on a copy of a slice from a DataFrame\n",
      "\n",
      "See the caveats in the documentation: https://pandas.pydata.org/pandas-docs/stable/user_guide/indexing.html#returning-a-view-versus-a-copy\n",
      "  df_hpos_main.loc[i] = pd.Series(hpos) if type(hpos) == dict else hpos.drop('index')\n"
     ]
    },
    {
     "name": "stderr",
     "output_type": "stream",
     "text": [
      "train.py:train():126: Epoch 0 / 3000 -\t\t Train loss: 0.11839126795530319\tVal loss: 0.08437718451023102\tVal accuracy: 0.33372563123703003 INFO\n"
     ]
    },
    {
     "name": "stderr",
     "output_type": "stream",
     "text": [
      "train.py:train():136: Early stopping triggered after 6 epochs:\n",
      "Train loss: 0.00499691953882575\n",
      "Val loss: 0.004769487306475639\n",
      "Val accuracy: 0.9945245981216431\n",
      "Epochs no improvement: 0 WARNING\n"
     ]
    },
    {
     "name": "stdout",
     "output_type": "stream",
     "text": [
      "Training complete: 0:00:08.284945\n"
     ]
    },
    {
     "name": "stdout",
     "output_type": "stream",
     "text": [
      "Warning: not using the test data for evaluation, but the training data instead of ../data/raw/summarise_simulation/2024_11_21_160955/tabulated_mutation_info.csv\n"
     ]
    },
    {
     "name": "stdout",
     "output_type": "stream",
     "text": [
      "The R2 score is  0.9802798628807068\n",
      "The R2 score with weighted variance is  0.9802798628807068\n"
     ]
    },
    {
     "name": "stdout",
     "output_type": "stream",
     "text": [
      "Steady states found. Now calculating signal response\n"
     ]
    },
    {
     "name": "stdout",
     "output_type": "stream",
     "text": [
      "data/2025_01_13__16_31_26/cvae_scan/hpo_16\n"
     ]
    },
    {
     "name": "stderr",
     "output_type": "stream",
     "text": [
      "/tmp/ipykernel_1299382/3564072330.py:20: SettingWithCopyWarning: \n",
      "A value is trying to be set on a copy of a slice from a DataFrame\n",
      "\n",
      "See the caveats in the documentation: https://pandas.pydata.org/pandas-docs/stable/user_guide/indexing.html#returning-a-view-versus-a-copy\n",
      "  df_hpos_main.loc[i] = pd.Series(hpos) if type(hpos) == dict else hpos.drop('index')\n"
     ]
    },
    {
     "name": "stderr",
     "output_type": "stream",
     "text": [
      "train.py:train():126: Epoch 0 / 3000 -\t\t Train loss: 0.14509183168411255\tVal loss: 0.10958969593048096\tVal accuracy: 0.33680975437164307 INFO\n"
     ]
    },
    {
     "name": "stderr",
     "output_type": "stream",
     "text": [
      "train.py:train():136: Early stopping triggered after 7 epochs:\n",
      "Train loss: 0.004377012141048908\n",
      "Val loss: 0.004418627824634314\n",
      "Val accuracy: 0.9938569068908691\n",
      "Epochs no improvement: 0 WARNING\n"
     ]
    },
    {
     "name": "stdout",
     "output_type": "stream",
     "text": [
      "Training complete: 0:00:09.488201\n"
     ]
    },
    {
     "name": "stdout",
     "output_type": "stream",
     "text": [
      "Warning: not using the test data for evaluation, but the training data instead of ../data/raw/summarise_simulation/2024_11_21_160955/tabulated_mutation_info.csv\n"
     ]
    },
    {
     "name": "stdout",
     "output_type": "stream",
     "text": [
      "The R2 score is  0.980631947517395\n",
      "The R2 score with weighted variance is  0.9806318879127502\n"
     ]
    },
    {
     "name": "stderr",
     "output_type": "stream",
     "text": [
      "/workdir/src/evoscaper/utils/visualise.py:30: UserWarning: Creating legend with loc=\"best\" can be slow with large amounts of data.\n",
      "  plt.tight_layout()\n"
     ]
    },
    {
     "name": "stderr",
     "output_type": "stream",
     "text": [
      "/workdir/src/evoscaper/utils/visualise.py:32: UserWarning: Creating legend with loc=\"best\" can be slow with large amounts of data.\n",
      "  plt.savefig(save_path, transparent=True, dpi=300)\n"
     ]
    },
    {
     "name": "stdout",
     "output_type": "stream",
     "text": [
      "Steady states found. Now calculating signal response\n"
     ]
    },
    {
     "name": "stdout",
     "output_type": "stream",
     "text": [
      "data/2025_01_13__16_31_26/cvae_scan/hpo_17\n"
     ]
    },
    {
     "name": "stderr",
     "output_type": "stream",
     "text": [
      "/tmp/ipykernel_1299382/3564072330.py:20: SettingWithCopyWarning: \n",
      "A value is trying to be set on a copy of a slice from a DataFrame\n",
      "\n",
      "See the caveats in the documentation: https://pandas.pydata.org/pandas-docs/stable/user_guide/indexing.html#returning-a-view-versus-a-copy\n",
      "  df_hpos_main.loc[i] = pd.Series(hpos) if type(hpos) == dict else hpos.drop('index')\n"
     ]
    },
    {
     "name": "stderr",
     "output_type": "stream",
     "text": [
      "train.py:train():126: Epoch 0 / 3000 -\t\t Train loss: 0.1694382280111313\tVal loss: 0.11974436044692993\tVal accuracy: 0.34324920177459717 INFO\n"
     ]
    },
    {
     "name": "stderr",
     "output_type": "stream",
     "text": [
      "train.py:train():136: Early stopping triggered after 7 epochs:\n",
      "Train loss: 0.004825446289032698\n",
      "Val loss: 0.004772371146827936\n",
      "Val accuracy: 0.9941532015800476\n",
      "Epochs no improvement: 0 WARNING\n"
     ]
    },
    {
     "name": "stdout",
     "output_type": "stream",
     "text": [
      "Training complete: 0:00:09.503534\n"
     ]
    },
    {
     "name": "stdout",
     "output_type": "stream",
     "text": [
      "Warning: not using the test data for evaluation, but the training data instead of ../data/raw/summarise_simulation/2024_11_21_160955/tabulated_mutation_info.csv\n"
     ]
    },
    {
     "name": "stdout",
     "output_type": "stream",
     "text": [
      "The R2 score is  0.9790583252906799\n",
      "The R2 score with weighted variance is  0.9790583252906799\n"
     ]
    },
    {
     "name": "stdout",
     "output_type": "stream",
     "text": [
      "Steady states found. Now calculating signal response\n"
     ]
    },
    {
     "name": "stdout",
     "output_type": "stream",
     "text": [
      "data/2025_01_13__16_31_26/cvae_scan/hpo_18\n"
     ]
    },
    {
     "name": "stderr",
     "output_type": "stream",
     "text": [
      "/tmp/ipykernel_1299382/3564072330.py:20: SettingWithCopyWarning: \n",
      "A value is trying to be set on a copy of a slice from a DataFrame\n",
      "\n",
      "See the caveats in the documentation: https://pandas.pydata.org/pandas-docs/stable/user_guide/indexing.html#returning-a-view-versus-a-copy\n",
      "  df_hpos_main.loc[i] = pd.Series(hpos) if type(hpos) == dict else hpos.drop('index')\n"
     ]
    },
    {
     "name": "stderr",
     "output_type": "stream",
     "text": [
      "train.py:train():126: Epoch 0 / 3000 -\t\t Train loss: 0.22208856046199799\tVal loss: 0.11556410044431686\tVal accuracy: 0.3376151919364929 INFO\n"
     ]
    },
    {
     "name": "stderr",
     "output_type": "stream",
     "text": [
      "train.py:train():136: Early stopping triggered after 9 epochs:\n",
      "Train loss: 0.004354031290858984\n",
      "Val loss: 0.004288417752832174\n",
      "Val accuracy: 0.9960687756538391\n",
      "Epochs no improvement: 0 WARNING\n"
     ]
    },
    {
     "name": "stdout",
     "output_type": "stream",
     "text": [
      "Training complete: 0:00:12.454106\n"
     ]
    },
    {
     "name": "stdout",
     "output_type": "stream",
     "text": [
      "Warning: not using the test data for evaluation, but the training data instead of ../data/raw/summarise_simulation/2024_11_21_160955/tabulated_mutation_info.csv\n"
     ]
    },
    {
     "name": "stdout",
     "output_type": "stream",
     "text": [
      "The R2 score is  0.9818146228790283\n",
      "The R2 score with weighted variance is  0.9818146228790283\n"
     ]
    },
    {
     "name": "stderr",
     "output_type": "stream",
     "text": [
      "/workdir/src/evoscaper/utils/visualise.py:30: UserWarning: Creating legend with loc=\"best\" can be slow with large amounts of data.\n",
      "  plt.tight_layout()\n"
     ]
    },
    {
     "name": "stdout",
     "output_type": "stream",
     "text": [
      "Steady states found. Now calculating signal response\n"
     ]
    },
    {
     "name": "stdout",
     "output_type": "stream",
     "text": [
      "data/2025_01_13__16_31_26/cvae_scan/hpo_19\n"
     ]
    },
    {
     "name": "stderr",
     "output_type": "stream",
     "text": [
      "/tmp/ipykernel_1299382/3564072330.py:20: SettingWithCopyWarning: \n",
      "A value is trying to be set on a copy of a slice from a DataFrame\n",
      "\n",
      "See the caveats in the documentation: https://pandas.pydata.org/pandas-docs/stable/user_guide/indexing.html#returning-a-view-versus-a-copy\n",
      "  df_hpos_main.loc[i] = pd.Series(hpos) if type(hpos) == dict else hpos.drop('index')\n"
     ]
    },
    {
     "name": "stderr",
     "output_type": "stream",
     "text": [
      "train.py:train():126: Epoch 0 / 3000 -\t\t Train loss: 0.1449156403541565\tVal loss: 0.10817096382379532\tVal accuracy: 0.3348900079727173 INFO\n"
     ]
    },
    {
     "name": "stderr",
     "output_type": "stream",
     "text": [
      "train.py:train():136: Early stopping triggered after 6 epochs:\n",
      "Train loss: 0.004697849508374929\n",
      "Val loss: 0.0046541946940124035\n",
      "Val accuracy: 0.9920039176940918\n",
      "Epochs no improvement: 0 WARNING\n"
     ]
    },
    {
     "name": "stdout",
     "output_type": "stream",
     "text": [
      "Training complete: 0:00:08.312481\n"
     ]
    },
    {
     "name": "stdout",
     "output_type": "stream",
     "text": [
      "Warning: not using the test data for evaluation, but the training data instead of ../data/raw/summarise_simulation/2024_11_21_160955/tabulated_mutation_info.csv\n"
     ]
    },
    {
     "name": "stdout",
     "output_type": "stream",
     "text": [
      "The R2 score is  0.9798977375030518\n",
      "The R2 score with weighted variance is  0.9798977375030518\n"
     ]
    },
    {
     "name": "stderr",
     "output_type": "stream",
     "text": [
      "/workdir/src/evoscaper/utils/visualise.py:30: UserWarning: Creating legend with loc=\"best\" can be slow with large amounts of data.\n",
      "  plt.tight_layout()\n"
     ]
    },
    {
     "name": "stderr",
     "output_type": "stream",
     "text": [
      "/workdir/src/evoscaper/utils/visualise.py:32: UserWarning: Creating legend with loc=\"best\" can be slow with large amounts of data.\n",
      "  plt.savefig(save_path, transparent=True, dpi=300)\n"
     ]
    },
    {
     "name": "stdout",
     "output_type": "stream",
     "text": [
      "Steady states found. Now calculating signal response\n"
     ]
    },
    {
     "name": "stdout",
     "output_type": "stream",
     "text": [
      "data/2025_01_13__16_31_26/cvae_scan/hpo_20\n"
     ]
    },
    {
     "name": "stderr",
     "output_type": "stream",
     "text": [
      "/tmp/ipykernel_1299382/3564072330.py:20: SettingWithCopyWarning: \n",
      "A value is trying to be set on a copy of a slice from a DataFrame\n",
      "\n",
      "See the caveats in the documentation: https://pandas.pydata.org/pandas-docs/stable/user_guide/indexing.html#returning-a-view-versus-a-copy\n",
      "  df_hpos_main.loc[i] = pd.Series(hpos) if type(hpos) == dict else hpos.drop('index')\n"
     ]
    },
    {
     "name": "stderr",
     "output_type": "stream",
     "text": [
      "train.py:train():126: Epoch 0 / 3000 -\t\t Train loss: 0.17571543157100677\tVal loss: 0.1129876971244812\tVal accuracy: 0.34092047810554504 INFO\n"
     ]
    },
    {
     "name": "stderr",
     "output_type": "stream",
     "text": [
      "train.py:train():136: Early stopping triggered after 8 epochs:\n",
      "Train loss: 0.004548226483166218\n",
      "Val loss: 0.004479945637285709\n",
      "Val accuracy: 0.9928886890411377\n",
      "Epochs no improvement: 0 WARNING\n"
     ]
    },
    {
     "name": "stdout",
     "output_type": "stream",
     "text": [
      "Training complete: 0:00:10.788283\n"
     ]
    },
    {
     "name": "stdout",
     "output_type": "stream",
     "text": [
      "Warning: not using the test data for evaluation, but the training data instead of ../data/raw/summarise_simulation/2024_11_21_160955/tabulated_mutation_info.csv\n"
     ]
    },
    {
     "name": "stdout",
     "output_type": "stream",
     "text": [
      "The R2 score is  0.9799143671989441\n",
      "The R2 score with weighted variance is  0.9799143671989441\n"
     ]
    },
    {
     "name": "stderr",
     "output_type": "stream",
     "text": [
      "/workdir/src/evoscaper/utils/visualise.py:30: UserWarning: Creating legend with loc=\"best\" can be slow with large amounts of data.\n",
      "  plt.tight_layout()\n"
     ]
    },
    {
     "name": "stdout",
     "output_type": "stream",
     "text": [
      "Steady states found. Now calculating signal response\n"
     ]
    },
    {
     "name": "stdout",
     "output_type": "stream",
     "text": [
      "data/2025_01_13__16_31_26/cvae_scan/hpo_21\n"
     ]
    },
    {
     "name": "stderr",
     "output_type": "stream",
     "text": [
      "/tmp/ipykernel_1299382/3564072330.py:20: SettingWithCopyWarning: \n",
      "A value is trying to be set on a copy of a slice from a DataFrame\n",
      "\n",
      "See the caveats in the documentation: https://pandas.pydata.org/pandas-docs/stable/user_guide/indexing.html#returning-a-view-versus-a-copy\n",
      "  df_hpos_main.loc[i] = pd.Series(hpos) if type(hpos) == dict else hpos.drop('index')\n"
     ]
    },
    {
     "name": "stderr",
     "output_type": "stream",
     "text": [
      "train.py:train():126: Epoch 0 / 3000 -\t\t Train loss: 0.1380673050880432\tVal loss: 0.11349985748529434\tVal accuracy: 0.33710604906082153 INFO\n"
     ]
    },
    {
     "name": "stderr",
     "output_type": "stream",
     "text": [
      "train.py:train():136: Early stopping triggered after 7 epochs:\n",
      "Train loss: 0.004541922360658646\n",
      "Val loss: 0.0045394860208034515\n",
      "Val accuracy: 0.9940154552459717\n",
      "Epochs no improvement: 0 WARNING\n"
     ]
    },
    {
     "name": "stdout",
     "output_type": "stream",
     "text": [
      "Training complete: 0:00:09.688298\n"
     ]
    },
    {
     "name": "stdout",
     "output_type": "stream",
     "text": [
      "Warning: not using the test data for evaluation, but the training data instead of ../data/raw/summarise_simulation/2024_11_21_160955/tabulated_mutation_info.csv\n"
     ]
    },
    {
     "name": "stdout",
     "output_type": "stream",
     "text": [
      "The R2 score is  0.980278730392456\n",
      "The R2 score with weighted variance is  0.980278730392456\n"
     ]
    },
    {
     "name": "stderr",
     "output_type": "stream",
     "text": [
      "/workdir/src/evoscaper/utils/visualise.py:30: UserWarning: Creating legend with loc=\"best\" can be slow with large amounts of data.\n",
      "  plt.tight_layout()\n"
     ]
    },
    {
     "name": "stderr",
     "output_type": "stream",
     "text": [
      "/workdir/src/evoscaper/utils/visualise.py:32: UserWarning: Creating legend with loc=\"best\" can be slow with large amounts of data.\n",
      "  plt.savefig(save_path, transparent=True, dpi=300)\n"
     ]
    },
    {
     "name": "stdout",
     "output_type": "stream",
     "text": [
      "Steady states found. Now calculating signal response\n"
     ]
    },
    {
     "name": "stdout",
     "output_type": "stream",
     "text": [
      "data/2025_01_13__16_31_26/cvae_scan/hpo_22\n"
     ]
    },
    {
     "name": "stderr",
     "output_type": "stream",
     "text": [
      "/tmp/ipykernel_1299382/3564072330.py:20: SettingWithCopyWarning: \n",
      "A value is trying to be set on a copy of a slice from a DataFrame\n",
      "\n",
      "See the caveats in the documentation: https://pandas.pydata.org/pandas-docs/stable/user_guide/indexing.html#returning-a-view-versus-a-copy\n",
      "  df_hpos_main.loc[i] = pd.Series(hpos) if type(hpos) == dict else hpos.drop('index')\n"
     ]
    },
    {
     "name": "stderr",
     "output_type": "stream",
     "text": [
      "train.py:train():126: Epoch 0 / 3000 -\t\t Train loss: 0.13408082723617554\tVal loss: 0.11927305161952972\tVal accuracy: 0.3394222557544708 INFO\n"
     ]
    },
    {
     "name": "stderr",
     "output_type": "stream",
     "text": [
      "train.py:train():126: Epoch 10 / 3000 -\t\t Train loss: 0.00389990140683949\tVal loss: 0.004559888504445553\tVal accuracy: 0.978319525718689 INFO\n"
     ]
    },
    {
     "name": "stderr",
     "output_type": "stream",
     "text": [
      "train.py:train():126: Epoch 20 / 3000 -\t\t Train loss: 0.003746087895706296\tVal loss: 0.004624310880899429\tVal accuracy: 0.9678277373313904 INFO\n"
     ]
    },
    {
     "name": "stderr",
     "output_type": "stream",
     "text": [
      "train.py:train():126: Epoch 30 / 3000 -\t\t Train loss: 0.0036328095011413097\tVal loss: 0.00463711516931653\tVal accuracy: 0.9628406167030334 INFO\n"
     ]
    },
    {
     "name": "stderr",
     "output_type": "stream",
     "text": [
      "train.py:train():126: Epoch 40 / 3000 -\t\t Train loss: 0.003513664472848177\tVal loss: 0.0042099482379853725\tVal accuracy: 0.9785448908805847 INFO\n"
     ]
    },
    {
     "name": "stderr",
     "output_type": "stream",
     "text": [
      "train.py:train():126: Epoch 50 / 3000 -\t\t Train loss: 0.003514759475365281\tVal loss: 0.004147158470004797\tVal accuracy: 0.9813786149024963 INFO\n"
     ]
    },
    {
     "name": "stderr",
     "output_type": "stream",
     "text": [
      "train.py:train():126: Epoch 60 / 3000 -\t\t Train loss: 0.003517650766298175\tVal loss: 0.00419694883748889\tVal accuracy: 0.977906346321106 INFO\n"
     ]
    },
    {
     "name": "stderr",
     "output_type": "stream",
     "text": [
      "train.py:train():126: Epoch 70 / 3000 -\t\t Train loss: 0.0035012809094041586\tVal loss: 0.004083023406565189\tVal accuracy: 0.982271671295166 INFO\n"
     ]
    },
    {
     "name": "stderr",
     "output_type": "stream",
     "text": [
      "train.py:train():126: Epoch 80 / 3000 -\t\t Train loss: 0.003482018830254674\tVal loss: 0.004643978551030159\tVal accuracy: 0.985689640045166 INFO\n"
     ]
    },
    {
     "name": "stderr",
     "output_type": "stream",
     "text": [
      "train.py:train():136: Early stopping triggered after 88 epochs:\n",
      "Train loss: 0.003573838621377945\n",
      "Val loss: 0.0038230279460549355\n",
      "Val accuracy: 0.990084171295166\n",
      "Epochs no improvement: 0 WARNING\n"
     ]
    },
    {
     "name": "stdout",
     "output_type": "stream",
     "text": [
      "Training complete: 0:01:47.117563\n"
     ]
    },
    {
     "name": "stdout",
     "output_type": "stream",
     "text": [
      "Warning: not using the test data for evaluation, but the training data instead of ../data/raw/summarise_simulation/2024_11_21_160955/tabulated_mutation_info.csv\n"
     ]
    },
    {
     "name": "stdout",
     "output_type": "stream",
     "text": [
      "The R2 score is  0.9781206250190735\n",
      "The R2 score with weighted variance is  0.9781206250190735\n"
     ]
    },
    {
     "name": "stderr",
     "output_type": "stream",
     "text": [
      "/workdir/src/evoscaper/utils/visualise.py:30: UserWarning: Creating legend with loc=\"best\" can be slow with large amounts of data.\n",
      "  plt.tight_layout()\n"
     ]
    },
    {
     "name": "stderr",
     "output_type": "stream",
     "text": [
      "/workdir/src/evoscaper/utils/visualise.py:32: UserWarning: Creating legend with loc=\"best\" can be slow with large amounts of data.\n",
      "  plt.savefig(save_path, transparent=True, dpi=300)\n"
     ]
    },
    {
     "name": "stdout",
     "output_type": "stream",
     "text": [
      "Steady states found. Now calculating signal response\n"
     ]
    },
    {
     "name": "stdout",
     "output_type": "stream",
     "text": [
      "data/2025_01_13__16_31_26/cvae_scan/hpo_23\n"
     ]
    },
    {
     "name": "stderr",
     "output_type": "stream",
     "text": [
      "/tmp/ipykernel_1299382/3564072330.py:20: SettingWithCopyWarning: \n",
      "A value is trying to be set on a copy of a slice from a DataFrame\n",
      "\n",
      "See the caveats in the documentation: https://pandas.pydata.org/pandas-docs/stable/user_guide/indexing.html#returning-a-view-versus-a-copy\n",
      "  df_hpos_main.loc[i] = pd.Series(hpos) if type(hpos) == dict else hpos.drop('index')\n"
     ]
    },
    {
     "name": "stderr",
     "output_type": "stream",
     "text": [
      "train.py:train():126: Epoch 0 / 3000 -\t\t Train loss: 0.12967747449874878\tVal loss: 0.11162522435188293\tVal accuracy: 0.3463208079338074 INFO\n"
     ]
    },
    {
     "name": "stderr",
     "output_type": "stream",
     "text": [
      "train.py:train():136: Early stopping triggered after 8 epochs:\n",
      "Train loss: 0.0041485982947051525\n",
      "Val loss: 0.004344121553003788\n",
      "Val accuracy: 0.9928761720657349\n",
      "Epochs no improvement: 0 WARNING\n"
     ]
    },
    {
     "name": "stdout",
     "output_type": "stream",
     "text": [
      "Training complete: 0:00:10.066534\n"
     ]
    },
    {
     "name": "stdout",
     "output_type": "stream",
     "text": [
      "Warning: not using the test data for evaluation, but the training data instead of ../data/raw/summarise_simulation/2024_11_21_160955/tabulated_mutation_info.csv\n"
     ]
    },
    {
     "name": "stdout",
     "output_type": "stream",
     "text": [
      "The R2 score is  0.9784356951713562\n",
      "The R2 score with weighted variance is  0.9784356951713562\n"
     ]
    },
    {
     "name": "stdout",
     "output_type": "stream",
     "text": [
      "Steady states found. Now calculating signal response\n"
     ]
    },
    {
     "name": "stdout",
     "output_type": "stream",
     "text": [
      "data/2025_01_13__16_31_26/cvae_scan/hpo_24\n"
     ]
    },
    {
     "name": "stderr",
     "output_type": "stream",
     "text": [
      "/tmp/ipykernel_1299382/3564072330.py:20: SettingWithCopyWarning: \n",
      "A value is trying to be set on a copy of a slice from a DataFrame\n",
      "\n",
      "See the caveats in the documentation: https://pandas.pydata.org/pandas-docs/stable/user_guide/indexing.html#returning-a-view-versus-a-copy\n",
      "  df_hpos_main.loc[i] = pd.Series(hpos) if type(hpos) == dict else hpos.drop('index')\n"
     ]
    },
    {
     "name": "stderr",
     "output_type": "stream",
     "text": [
      "train.py:train():126: Epoch 0 / 3000 -\t\t Train loss: 0.14080823957920074\tVal loss: 0.1112191379070282\tVal accuracy: 0.33230671286582947 INFO\n"
     ]
    },
    {
     "name": "stderr",
     "output_type": "stream",
     "text": [
      "train.py:train():126: Epoch 10 / 3000 -\t\t Train loss: 0.0038491669110953808\tVal loss: 0.004496127367019653\tVal accuracy: 0.9800264239311218 INFO\n"
     ]
    },
    {
     "name": "stderr",
     "output_type": "stream",
     "text": [
      "train.py:train():126: Epoch 20 / 3000 -\t\t Train loss: 0.003597148461267352\tVal loss: 0.005763856694102287\tVal accuracy: 0.9178394079208374 INFO\n"
     ]
    },
    {
     "name": "stderr",
     "output_type": "stream",
     "text": [
      "train.py:train():126: Epoch 30 / 3000 -\t\t Train loss: 0.0035195741802453995\tVal loss: 0.005577032454311848\tVal accuracy: 0.9227389097213745 INFO\n"
     ]
    },
    {
     "name": "stderr",
     "output_type": "stream",
     "text": [
      "train.py:train():126: Epoch 40 / 3000 -\t\t Train loss: 0.003549351589754224\tVal loss: 0.004315086640417576\tVal accuracy: 0.9728190302848816 INFO\n"
     ]
    },
    {
     "name": "stderr",
     "output_type": "stream",
     "text": [
      "train.py:train():126: Epoch 50 / 3000 -\t\t Train loss: 0.003499157028272748\tVal loss: 0.004034015350043774\tVal accuracy: 0.984562873840332 INFO\n"
     ]
    },
    {
     "name": "stderr",
     "output_type": "stream",
     "text": [
      "train.py:train():136: Early stopping triggered after 56 epochs:\n",
      "Train loss: 0.003525496693328023\n",
      "Val loss: 0.0038137519732117653\n",
      "Val accuracy: 0.9907811284065247\n",
      "Epochs no improvement: 0 WARNING\n"
     ]
    },
    {
     "name": "stdout",
     "output_type": "stream",
     "text": [
      "Training complete: 0:01:05.145526\n"
     ]
    },
    {
     "name": "stdout",
     "output_type": "stream",
     "text": [
      "Warning: not using the test data for evaluation, but the training data instead of ../data/raw/summarise_simulation/2024_11_21_160955/tabulated_mutation_info.csv\n"
     ]
    },
    {
     "name": "stdout",
     "output_type": "stream",
     "text": [
      "The R2 score is  0.9787935018539429\n",
      "The R2 score with weighted variance is  0.9787935018539429\n"
     ]
    },
    {
     "name": "stdout",
     "output_type": "stream",
     "text": [
      "Steady states found. Now calculating signal response\n"
     ]
    },
    {
     "name": "stdout",
     "output_type": "stream",
     "text": [
      "data/2025_01_13__16_31_26/cvae_scan/hpo_25\n"
     ]
    },
    {
     "name": "stderr",
     "output_type": "stream",
     "text": [
      "/tmp/ipykernel_1299382/3564072330.py:20: SettingWithCopyWarning: \n",
      "A value is trying to be set on a copy of a slice from a DataFrame\n",
      "\n",
      "See the caveats in the documentation: https://pandas.pydata.org/pandas-docs/stable/user_guide/indexing.html#returning-a-view-versus-a-copy\n",
      "  df_hpos_main.loc[i] = pd.Series(hpos) if type(hpos) == dict else hpos.drop('index')\n"
     ]
    },
    {
     "name": "stderr",
     "output_type": "stream",
     "text": [
      "train.py:train():126: Epoch 0 / 3000 -\t\t Train loss: 0.18499863147735596\tVal loss: 0.11267414689064026\tVal accuracy: 0.3361921012401581 INFO\n"
     ]
    },
    {
     "name": "stderr",
     "output_type": "stream",
     "text": [
      "train.py:train():136: Early stopping triggered after 10 epochs:\n",
      "Train loss: 0.004011812154203653\n",
      "Val loss: 0.004298780113458633\n",
      "Val accuracy: 0.9914071559906006\n",
      "Epochs no improvement: 0 WARNING\n"
     ]
    },
    {
     "name": "stdout",
     "output_type": "stream",
     "text": [
      "Training complete: 0:00:13.139984\n"
     ]
    },
    {
     "name": "stdout",
     "output_type": "stream",
     "text": [
      "Warning: not using the test data for evaluation, but the training data instead of ../data/raw/summarise_simulation/2024_11_21_160955/tabulated_mutation_info.csv\n"
     ]
    },
    {
     "name": "stdout",
     "output_type": "stream",
     "text": [
      "The R2 score is  0.9771273732185364\n",
      "The R2 score with weighted variance is  0.9771273732185364\n"
     ]
    },
    {
     "name": "stdout",
     "output_type": "stream",
     "text": [
      "Steady states found. Now calculating signal response\n"
     ]
    },
    {
     "name": "stdout",
     "output_type": "stream",
     "text": [
      "data/2025_01_13__16_31_26/cvae_scan/hpo_26\n"
     ]
    },
    {
     "name": "stderr",
     "output_type": "stream",
     "text": [
      "/tmp/ipykernel_1299382/3564072330.py:20: SettingWithCopyWarning: \n",
      "A value is trying to be set on a copy of a slice from a DataFrame\n",
      "\n",
      "See the caveats in the documentation: https://pandas.pydata.org/pandas-docs/stable/user_guide/indexing.html#returning-a-view-versus-a-copy\n",
      "  df_hpos_main.loc[i] = pd.Series(hpos) if type(hpos) == dict else hpos.drop('index')\n"
     ]
    },
    {
     "name": "stderr",
     "output_type": "stream",
     "text": [
      "train.py:train():126: Epoch 0 / 3000 -\t\t Train loss: 0.11805235594511032\tVal loss: 0.09109649807214737\tVal accuracy: 0.3266935646533966 INFO\n"
     ]
    },
    {
     "name": "stderr",
     "output_type": "stream",
     "text": [
      "train.py:train():126: Epoch 10 / 3000 -\t\t Train loss: 0.0037169617135077715\tVal loss: 0.004873192869126797\tVal accuracy: 0.9610001444816589 INFO\n"
     ]
    },
    {
     "name": "stderr",
     "output_type": "stream",
     "text": [
      "train.py:train():126: Epoch 20 / 3000 -\t\t Train loss: 0.0037566954270005226\tVal loss: 0.0047127725556492805\tVal accuracy: 0.9649189114570618 INFO\n"
     ]
    },
    {
     "name": "stderr",
     "output_type": "stream",
     "text": [
      "train.py:train():126: Epoch 30 / 3000 -\t\t Train loss: 0.0034567394759505987\tVal loss: 0.004779544658958912\tVal accuracy: 0.9525324106216431 INFO\n"
     ]
    },
    {
     "name": "stderr",
     "output_type": "stream",
     "text": [
      "train.py:train():126: Epoch 40 / 3000 -\t\t Train loss: 0.0034043320920318365\tVal loss: 0.004516253713518381\tVal accuracy: 0.9620267748832703 INFO\n"
     ]
    },
    {
     "name": "stderr",
     "output_type": "stream",
     "text": [
      "train.py:train():126: Epoch 50 / 3000 -\t\t Train loss: 0.0034398806747049093\tVal loss: 0.004674202762544155\tVal accuracy: 0.9604451060295105 INFO\n"
     ]
    },
    {
     "name": "stderr",
     "output_type": "stream",
     "text": [
      "train.py:train():126: Epoch 60 / 3000 -\t\t Train loss: 0.003367349039763212\tVal loss: 0.004474162589758635\tVal accuracy: 0.9634999632835388 INFO\n"
     ]
    },
    {
     "name": "stderr",
     "output_type": "stream",
     "text": [
      "train.py:train():126: Epoch 70 / 3000 -\t\t Train loss: 0.0034256677608937025\tVal loss: 0.004226231947541237\tVal accuracy: 0.9744842052459717 INFO\n"
     ]
    },
    {
     "name": "stderr",
     "output_type": "stream",
     "text": [
      "train.py:train():126: Epoch 80 / 3000 -\t\t Train loss: 0.0034233026672154665\tVal loss: 0.004292134195566177\tVal accuracy: 0.9740167856216431 INFO\n"
     ]
    },
    {
     "name": "stderr",
     "output_type": "stream",
     "text": [
      "train.py:train():126: Epoch 90 / 3000 -\t\t Train loss: 0.0034604049287736416\tVal loss: 0.004028866067528725\tVal accuracy: 0.9832607507705688 INFO\n"
     ]
    },
    {
     "name": "stderr",
     "output_type": "stream",
     "text": [
      "train.py:train():126: Epoch 100 / 3000 -\t\t Train loss: 0.0035455268807709217\tVal loss: 0.0040650442242622375\tVal accuracy: 0.9853683114051819 INFO\n"
     ]
    },
    {
     "name": "stderr",
     "output_type": "stream",
     "text": [
      "train.py:train():136: Early stopping triggered after 102 epochs:\n",
      "Train loss: 0.0035532512702047825\n",
      "Val loss: 0.003883726429194212\n",
      "Val accuracy: 0.9909939765930176\n",
      "Epochs no improvement: 0 WARNING\n"
     ]
    },
    {
     "name": "stdout",
     "output_type": "stream",
     "text": [
      "Training complete: 0:02:17.128470\n"
     ]
    },
    {
     "name": "stdout",
     "output_type": "stream",
     "text": [
      "Warning: not using the test data for evaluation, but the training data instead of ../data/raw/summarise_simulation/2024_11_21_160955/tabulated_mutation_info.csv\n"
     ]
    },
    {
     "name": "stdout",
     "output_type": "stream",
     "text": [
      "The R2 score is  0.978610634803772\n",
      "The R2 score with weighted variance is  0.978610634803772\n"
     ]
    },
    {
     "name": "stdout",
     "output_type": "stream",
     "text": [
      "Steady states found. Now calculating signal response\n"
     ]
    },
    {
     "name": "stdout",
     "output_type": "stream",
     "text": [
      "data/2025_01_13__16_31_26/cvae_scan/hpo_27\n"
     ]
    },
    {
     "name": "stderr",
     "output_type": "stream",
     "text": [
      "/tmp/ipykernel_1299382/3564072330.py:20: SettingWithCopyWarning: \n",
      "A value is trying to be set on a copy of a slice from a DataFrame\n",
      "\n",
      "See the caveats in the documentation: https://pandas.pydata.org/pandas-docs/stable/user_guide/indexing.html#returning-a-view-versus-a-copy\n",
      "  df_hpos_main.loc[i] = pd.Series(hpos) if type(hpos) == dict else hpos.drop('index')\n"
     ]
    },
    {
     "name": "stderr",
     "output_type": "stream",
     "text": [
      "train.py:train():126: Epoch 0 / 3000 -\t\t Train loss: 0.14949734508991241\tVal loss: 0.10246828943490982\tVal accuracy: 0.3352530896663666 INFO\n"
     ]
    },
    {
     "name": "stderr",
     "output_type": "stream",
     "text": [
      "train.py:train():126: Epoch 10 / 3000 -\t\t Train loss: 0.0038349058013409376\tVal loss: 0.00504935160279274\tVal accuracy: 0.955904483795166 INFO\n"
     ]
    },
    {
     "name": "stderr",
     "output_type": "stream",
     "text": [
      "train.py:train():126: Epoch 20 / 3000 -\t\t Train loss: 0.0035981021355837584\tVal loss: 0.006006823852658272\tVal accuracy: 0.9118214845657349 INFO\n"
     ]
    },
    {
     "name": "stderr",
     "output_type": "stream",
     "text": [
      "train.py:train():126: Epoch 30 / 3000 -\t\t Train loss: 0.003417488420382142\tVal loss: 0.005696257576346397\tVal accuracy: 0.9186949729919434 INFO\n"
     ]
    },
    {
     "name": "stderr",
     "output_type": "stream",
     "text": [
      "train.py:train():126: Epoch 40 / 3000 -\t\t Train loss: 0.003451209980994463\tVal loss: 0.004771409556269646\tVal accuracy: 0.9543269872665405 INFO\n"
     ]
    },
    {
     "name": "stderr",
     "output_type": "stream",
     "text": [
      "train.py:train():126: Epoch 50 / 3000 -\t\t Train loss: 0.003482536878436804\tVal loss: 0.004523014649748802\tVal accuracy: 0.966266930103302 INFO\n"
     ]
    },
    {
     "name": "stderr",
     "output_type": "stream",
     "text": [
      "train.py:train():126: Epoch 60 / 3000 -\t\t Train loss: 0.003367803758010268\tVal loss: 0.005081218667328358\tVal accuracy: 0.9536884427070618 INFO\n"
     ]
    },
    {
     "name": "stderr",
     "output_type": "stream",
     "text": [
      "train.py:train():126: Epoch 70 / 3000 -\t\t Train loss: 0.003491870826110244\tVal loss: 0.004042349755764008\tVal accuracy: 0.9839702248573303 INFO\n"
     ]
    },
    {
     "name": "stderr",
     "output_type": "stream",
     "text": [
      "train.py:train():126: Epoch 80 / 3000 -\t\t Train loss: 0.003548095468431711\tVal loss: 0.004040914587676525\tVal accuracy: 0.9876177310943604 INFO\n"
     ]
    },
    {
     "name": "stderr",
     "output_type": "stream",
     "text": [
      "train.py:train():136: Early stopping triggered after 83 epochs:\n",
      "Train loss: 0.0035892121959477663\n",
      "Val loss: 0.00431451853364706\n",
      "Val accuracy: 0.9900507926940918\n",
      "Epochs no improvement: 10 WARNING\n"
     ]
    },
    {
     "name": "stdout",
     "output_type": "stream",
     "text": [
      "Training complete: 0:01:35.476309\n"
     ]
    },
    {
     "name": "stdout",
     "output_type": "stream",
     "text": [
      "Warning: not using the test data for evaluation, but the training data instead of ../data/raw/summarise_simulation/2024_11_21_160955/tabulated_mutation_info.csv\n"
     ]
    },
    {
     "name": "stdout",
     "output_type": "stream",
     "text": [
      "The R2 score is  0.9723658561706543\n",
      "The R2 score with weighted variance is  0.9723657965660095\n"
     ]
    },
    {
     "name": "stderr",
     "output_type": "stream",
     "text": [
      "/workdir/src/evoscaper/utils/visualise.py:30: UserWarning: Creating legend with loc=\"best\" can be slow with large amounts of data.\n",
      "  plt.tight_layout()\n"
     ]
    },
    {
     "name": "stderr",
     "output_type": "stream",
     "text": [
      "/workdir/src/evoscaper/utils/visualise.py:32: UserWarning: Creating legend with loc=\"best\" can be slow with large amounts of data.\n",
      "  plt.savefig(save_path, transparent=True, dpi=300)\n"
     ]
    },
    {
     "name": "stdout",
     "output_type": "stream",
     "text": [
      "Steady states found. Now calculating signal response\n"
     ]
    },
    {
     "name": "stdout",
     "output_type": "stream",
     "text": [
      "data/2025_01_13__16_31_26/cvae_scan/hpo_28\n"
     ]
    },
    {
     "name": "stderr",
     "output_type": "stream",
     "text": [
      "/tmp/ipykernel_1299382/3564072330.py:20: SettingWithCopyWarning: \n",
      "A value is trying to be set on a copy of a slice from a DataFrame\n",
      "\n",
      "See the caveats in the documentation: https://pandas.pydata.org/pandas-docs/stable/user_guide/indexing.html#returning-a-view-versus-a-copy\n",
      "  df_hpos_main.loc[i] = pd.Series(hpos) if type(hpos) == dict else hpos.drop('index')\n"
     ]
    },
    {
     "name": "stderr",
     "output_type": "stream",
     "text": [
      "train.py:train():126: Epoch 0 / 3000 -\t\t Train loss: 0.14871375262737274\tVal loss: 0.11809464544057846\tVal accuracy: 0.33738982677459717 INFO\n"
     ]
    },
    {
     "name": "stderr",
     "output_type": "stream",
     "text": [
      "train.py:train():126: Epoch 10 / 3000 -\t\t Train loss: 0.004027282819151878\tVal loss: 0.005059973336756229\tVal accuracy: 0.9599818587303162 INFO\n"
     ]
    },
    {
     "name": "stderr",
     "output_type": "stream",
     "text": [
      "train.py:train():126: Epoch 20 / 3000 -\t\t Train loss: 0.003644279669970274\tVal loss: 0.0053039067424833775\tVal accuracy: 0.9345828890800476 INFO\n"
     ]
    },
    {
     "name": "stderr",
     "output_type": "stream",
     "text": [
      "train.py:train():126: Epoch 30 / 3000 -\t\t Train loss: 0.0034819100983440876\tVal loss: 0.005562706384807825\tVal accuracy: 0.9238490462303162 INFO\n"
     ]
    },
    {
     "name": "stderr",
     "output_type": "stream",
     "text": [
      "train.py:train():126: Epoch 40 / 3000 -\t\t Train loss: 0.0033378279767930508\tVal loss: 0.004817179404199123\tVal accuracy: 0.9497613310813904 INFO\n"
     ]
    },
    {
     "name": "stderr",
     "output_type": "stream",
     "text": [
      "train.py:train():126: Epoch 50 / 3000 -\t\t Train loss: 0.0034065681975334883\tVal loss: 0.004428004380315542\tVal accuracy: 0.9661083221435547 INFO\n"
     ]
    },
    {
     "name": "stderr",
     "output_type": "stream",
     "text": [
      "train.py:train():126: Epoch 60 / 3000 -\t\t Train loss: 0.0033922854345291853\tVal loss: 0.004126232583075762\tVal accuracy: 0.9767085909843445 INFO\n"
     ]
    },
    {
     "name": "stderr",
     "output_type": "stream",
     "text": [
      "train.py:train():126: Epoch 70 / 3000 -\t\t Train loss: 0.0033888816833496094\tVal loss: 0.0040597207844257355\tVal accuracy: 0.9818167686462402 INFO\n"
     ]
    },
    {
     "name": "stderr",
     "output_type": "stream",
     "text": [
      "train.py:train():126: Epoch 80 / 3000 -\t\t Train loss: 0.003407904179766774\tVal loss: 0.00394222280010581\tVal accuracy: 0.9833818078041077 INFO\n"
     ]
    },
    {
     "name": "stderr",
     "output_type": "stream",
     "text": [
      "train.py:train():136: Early stopping triggered after 83 epochs:\n",
      "Train loss: 0.0058314064517617226\n",
      "Val loss: 0.004073147661983967\n",
      "Val accuracy: 0.9921333193778992\n",
      "Epochs no improvement: 13 WARNING\n"
     ]
    },
    {
     "name": "stdout",
     "output_type": "stream",
     "text": [
      "Training complete: 0:01:32.456617\n"
     ]
    },
    {
     "name": "stdout",
     "output_type": "stream",
     "text": [
      "Warning: not using the test data for evaluation, but the training data instead of ../data/raw/summarise_simulation/2024_11_21_160955/tabulated_mutation_info.csv\n"
     ]
    },
    {
     "name": "stdout",
     "output_type": "stream",
     "text": [
      "The R2 score is  0.9784298539161682\n",
      "The R2 score with weighted variance is  0.9784297943115234\n"
     ]
    },
    {
     "name": "stdout",
     "output_type": "stream",
     "text": [
      "Steady states found. Now calculating signal response\n"
     ]
    },
    {
     "name": "stdout",
     "output_type": "stream",
     "text": [
      "data/2025_01_13__16_31_26/cvae_scan/hpo_29\n"
     ]
    },
    {
     "name": "stderr",
     "output_type": "stream",
     "text": [
      "/tmp/ipykernel_1299382/3564072330.py:20: SettingWithCopyWarning: \n",
      "A value is trying to be set on a copy of a slice from a DataFrame\n",
      "\n",
      "See the caveats in the documentation: https://pandas.pydata.org/pandas-docs/stable/user_guide/indexing.html#returning-a-view-versus-a-copy\n",
      "  df_hpos_main.loc[i] = pd.Series(hpos) if type(hpos) == dict else hpos.drop('index')\n"
     ]
    },
    {
     "name": "stderr",
     "output_type": "stream",
     "text": [
      "train.py:train():126: Epoch 0 / 3000 -\t\t Train loss: 0.12942442297935486\tVal loss: 0.11023221164941788\tVal accuracy: 0.3372229039669037 INFO\n"
     ]
    },
    {
     "name": "stderr",
     "output_type": "stream",
     "text": [
      "train.py:train():126: Epoch 10 / 3000 -\t\t Train loss: 0.0036559724248945713\tVal loss: 0.006098099052906036\tVal accuracy: 0.908311665058136 INFO\n"
     ]
    },
    {
     "name": "stderr",
     "output_type": "stream",
     "text": [
      "train.py:train():126: Epoch 20 / 3000 -\t\t Train loss: 0.003563388017937541\tVal loss: 0.005636317655444145\tVal accuracy: 0.9212573766708374 INFO\n"
     ]
    },
    {
     "name": "stderr",
     "output_type": "stream",
     "text": [
      "train.py:train():126: Epoch 30 / 3000 -\t\t Train loss: 0.0034921762999147177\tVal loss: 0.0053654201328754425\tVal accuracy: 0.9302384257316589 INFO\n"
     ]
    },
    {
     "name": "stderr",
     "output_type": "stream",
     "text": [
      "train.py:train():126: Epoch 40 / 3000 -\t\t Train loss: 0.003417098429054022\tVal loss: 0.004691621288657188\tVal accuracy: 0.9558919668197632 INFO\n"
     ]
    },
    {
     "name": "stderr",
     "output_type": "stream",
     "text": [
      "train.py:train():126: Epoch 50 / 3000 -\t\t Train loss: 0.003378115361556411\tVal loss: 0.00488507654517889\tVal accuracy: 0.9482631087303162 INFO\n"
     ]
    },
    {
     "name": "stderr",
     "output_type": "stream",
     "text": [
      "train.py:train():126: Epoch 60 / 3000 -\t\t Train loss: 0.003429641015827656\tVal loss: 0.004176204092800617\tVal accuracy: 0.9768129587173462 INFO\n"
     ]
    },
    {
     "name": "stderr",
     "output_type": "stream",
     "text": [
      "train.py:train():126: Epoch 70 / 3000 -\t\t Train loss: 0.0034909972455352545\tVal loss: 0.00442950613796711\tVal accuracy: 0.9701982140541077 INFO\n"
     ]
    },
    {
     "name": "stderr",
     "output_type": "stream",
     "text": [
      "train.py:train():126: Epoch 80 / 3000 -\t\t Train loss: 0.003471302567049861\tVal loss: 0.004023274406790733\tVal accuracy: 0.9828601479530334 INFO\n"
     ]
    },
    {
     "name": "stderr",
     "output_type": "stream",
     "text": [
      "train.py:train():126: Epoch 90 / 3000 -\t\t Train loss: 0.0034083351492881775\tVal loss: 0.004043243825435638\tVal accuracy: 0.9822800159454346 INFO\n"
     ]
    },
    {
     "name": "stderr",
     "output_type": "stream",
     "text": [
      "train.py:train():136: Early stopping triggered after 99 epochs:\n",
      "Train loss: 0.0034366948530077934\n",
      "Val loss: 0.0037667087744921446\n",
      "Val accuracy: 0.9904639720916748\n",
      "Epochs no improvement: 0 WARNING\n"
     ]
    },
    {
     "name": "stdout",
     "output_type": "stream",
     "text": [
      "Training complete: 0:01:53.008125\n"
     ]
    },
    {
     "name": "stdout",
     "output_type": "stream",
     "text": [
      "Warning: not using the test data for evaluation, but the training data instead of ../data/raw/summarise_simulation/2024_11_21_160955/tabulated_mutation_info.csv\n"
     ]
    },
    {
     "name": "stdout",
     "output_type": "stream",
     "text": [
      "The R2 score is  0.978797972202301\n",
      "The R2 score with weighted variance is  0.978797972202301\n"
     ]
    },
    {
     "name": "stdout",
     "output_type": "stream",
     "text": [
      "Steady states found. Now calculating signal response\n"
     ]
    },
    {
     "name": "stdout",
     "output_type": "stream",
     "text": [
      "data/2025_01_13__16_31_26/cvae_scan/hpo_30\n"
     ]
    },
    {
     "name": "stderr",
     "output_type": "stream",
     "text": [
      "/tmp/ipykernel_1299382/3564072330.py:20: SettingWithCopyWarning: \n",
      "A value is trying to be set on a copy of a slice from a DataFrame\n",
      "\n",
      "See the caveats in the documentation: https://pandas.pydata.org/pandas-docs/stable/user_guide/indexing.html#returning-a-view-versus-a-copy\n",
      "  df_hpos_main.loc[i] = pd.Series(hpos) if type(hpos) == dict else hpos.drop('index')\n"
     ]
    },
    {
     "name": "stderr",
     "output_type": "stream",
     "text": [
      "train.py:train():126: Epoch 0 / 3000 -\t\t Train loss: 0.14842826128005981\tVal loss: 0.1259952038526535\tVal accuracy: 0.3321439325809479 INFO\n"
     ]
    },
    {
     "name": "stderr",
     "output_type": "stream",
     "text": [
      "train.py:train():126: Epoch 10 / 3000 -\t\t Train loss: 0.0036918313708156347\tVal loss: 0.005585315637290478\tVal accuracy: 0.9252095222473145 INFO\n"
     ]
    },
    {
     "name": "stderr",
     "output_type": "stream",
     "text": [
      "train.py:train():126: Epoch 20 / 3000 -\t\t Train loss: 0.0034971570130437613\tVal loss: 0.00655714888125658\tVal accuracy: 0.8763521909713745 INFO\n"
     ]
    },
    {
     "name": "stderr",
     "output_type": "stream",
     "text": [
      "train.py:train():126: Epoch 30 / 3000 -\t\t Train loss: 0.0034205454867333174\tVal loss: 0.007066648453474045\tVal accuracy: 0.8684937953948975 INFO\n"
     ]
    },
    {
     "name": "stderr",
     "output_type": "stream",
     "text": [
      "train.py:train():126: Epoch 40 / 3000 -\t\t Train loss: 0.0034196150954812765\tVal loss: 0.006026718765497208\tVal accuracy: 0.9041883945465088 INFO\n"
     ]
    },
    {
     "name": "stderr",
     "output_type": "stream",
     "text": [
      "train.py:train():126: Epoch 50 / 3000 -\t\t Train loss: 0.003324234625324607\tVal loss: 0.005234051961451769\tVal accuracy: 0.9357054829597473 INFO\n"
     ]
    },
    {
     "name": "stderr",
     "output_type": "stream",
     "text": [
      "train.py:train():126: Epoch 60 / 3000 -\t\t Train loss: 0.0034775598905980587\tVal loss: 0.004343438893556595\tVal accuracy: 0.9733866453170776 INFO\n"
     ]
    },
    {
     "name": "stderr",
     "output_type": "stream",
     "text": [
      "train.py:train():126: Epoch 70 / 3000 -\t\t Train loss: 0.003409560536965728\tVal loss: 0.004645008593797684\tVal accuracy: 0.9733991622924805 INFO\n"
     ]
    },
    {
     "name": "stderr",
     "output_type": "stream",
     "text": [
      "train.py:train():126: Epoch 80 / 3000 -\t\t Train loss: 0.003539784112945199\tVal loss: 0.004377912729978561\tVal accuracy: 0.9802100658416748 INFO\n"
     ]
    },
    {
     "name": "stderr",
     "output_type": "stream",
     "text": [
      "train.py:train():126: Epoch 90 / 3000 -\t\t Train loss: 0.003502604551613331\tVal loss: 0.004221282433718443\tVal accuracy: 0.9875885248184204 INFO\n"
     ]
    },
    {
     "name": "stderr",
     "output_type": "stream",
     "text": [
      "train.py:train():126: Epoch 100 / 3000 -\t\t Train loss: 0.0035056823398917913\tVal loss: 0.003990501631051302\tVal accuracy: 0.9874967336654663 INFO\n"
     ]
    },
    {
     "name": "stderr",
     "output_type": "stream",
     "text": [
      "train.py:train():136: Early stopping triggered after 102 epochs:\n",
      "Train loss: 0.003514902200549841\n",
      "Val loss: 0.0038758241571485996\n",
      "Val accuracy: 0.9908854365348816\n",
      "Epochs no improvement: 0 WARNING\n"
     ]
    },
    {
     "name": "stdout",
     "output_type": "stream",
     "text": [
      "Training complete: 0:02:07.252556\n"
     ]
    },
    {
     "name": "stdout",
     "output_type": "stream",
     "text": [
      "Warning: not using the test data for evaluation, but the training data instead of ../data/raw/summarise_simulation/2024_11_21_160955/tabulated_mutation_info.csv\n"
     ]
    },
    {
     "name": "stdout",
     "output_type": "stream",
     "text": [
      "The R2 score is  0.9777870178222656\n",
      "The R2 score with weighted variance is  0.9777869582176208\n"
     ]
    },
    {
     "name": "stdout",
     "output_type": "stream",
     "text": [
      "Steady states found. Now calculating signal response\n"
     ]
    },
    {
     "name": "stdout",
     "output_type": "stream",
     "text": [
      "data/2025_01_13__16_31_26/cvae_scan/hpo_31\n"
     ]
    },
    {
     "name": "stderr",
     "output_type": "stream",
     "text": [
      "/tmp/ipykernel_1299382/3564072330.py:20: SettingWithCopyWarning: \n",
      "A value is trying to be set on a copy of a slice from a DataFrame\n",
      "\n",
      "See the caveats in the documentation: https://pandas.pydata.org/pandas-docs/stable/user_guide/indexing.html#returning-a-view-versus-a-copy\n",
      "  df_hpos_main.loc[i] = pd.Series(hpos) if type(hpos) == dict else hpos.drop('index')\n"
     ]
    }
   ],
   "source": [
    "\n",
    "top_dir = os.path.join('data', make_datetime_str())\n",
    "df_hpos_main = df_hpos.iloc[:32]\n",
    "for i in range(len(df_hpos_main)):\n",
    "    hpos = df_hpos_main.reset_index().iloc[i]\n",
    "    top_write_dir = os.path.join(top_dir, 'cvae_scan', f'hpo_{hpos[\"index\"]}')\n",
    "    # hpos = cvae_scan(hpos, top_write_dir=top_write_dir)\n",
    "    try:\n",
    "        try:\n",
    "            hpos = cvae_scan(hpos, top_write_dir=top_write_dir)\n",
    "            hpos.loc['run_successful'] = True\n",
    "            hpos.loc['error_msg'] = ''\n",
    "        except Exception as e:\n",
    "            print(e)\n",
    "            hpos.loc['run_successful'] = False\n",
    "            hpos.loc['error_msg'] = str(e)\n",
    "    except:\n",
    "        hpos.loc['run_successful'] = False\n",
    "        hpos.loc['error_msg'] = 'sys exit'\n",
    "        \n",
    "    df_hpos_main.loc[i] = pd.Series(hpos) if type(hpos) == dict else hpos.drop('index')\n",
    "    # df_hpos_main.loc[i] = pd.DataFrame.from_dict(hpos).drop('index')\n",
    "    if not os.path.exists(top_dir):\n",
    "        os.makedirs(top_dir)\n",
    "    df_hpos_main.to_csv(os.path.join(top_dir, 'df_hpos_main.csv'))\n",
    "    write_json(df_hpos_main.to_dict(), os.path.join(top_dir, 'df_hpos_main.json'), overwrite=True)\n"
   ]
  },
  {
   "cell_type": "code",
   "execution_count": 10,
   "metadata": {
    "execution": {
     "iopub.execute_input": "2025-01-13T20:45:32.593701Z",
     "iopub.status.busy": "2025-01-13T20:45:32.593566Z",
     "iopub.status.idle": "2025-01-13T20:45:32.624237Z",
     "shell.execute_reply": "2025-01-13T20:45:32.623767Z"
    }
   },
   "outputs": [],
   "source": [
    "# # REMINDER: Total ds is 3 and the test data is not being used\n",
    "# # cvae_scan(hpos, top_dir=os.path.join('data', make_datetime_str()))\n",
    "\n",
    "# top_dir = os.path.join('data', make_datetime_str())\n",
    "# for i in range(len(df_hpos)):\n",
    "#     hpos = df_hpos.reset_index().iloc[i]\n",
    "#     top_write_dir = os.path.join(top_dir, 'cvae_scan', f'hpo_{hpos[\"index\"]}')\n",
    "#     # hpos = cvae_scan(hpos, top_write_dir=top_write_dir)\n",
    "#     try:\n",
    "#         try:\n",
    "#             hpos = cvae_scan(hpos, top_write_dir=top_write_dir)\n",
    "#             hpos.loc['run_successful'] = True\n",
    "#             hpos.loc['error_msg'] = ''\n",
    "#         except Exception as e:\n",
    "#             print(e)\n",
    "#             hpos.loc['run_successful'] = False\n",
    "#             hpos.loc['error_msg'] = str(e)\n",
    "#     except:\n",
    "#         hpos.loc['run_successful'] = False\n",
    "#         hpos.loc['error_msg'] = 'sys exit'\n",
    "        \n",
    "#     df_hpos.loc[i] = pd.Series(hpos) if type(hpos) == dict else hpos.drop('index')\n",
    "#     # df_hpos.loc[i] = pd.DataFrame.from_dict(hpos).drop('index')\n",
    "#     if not os.path.exists(top_dir):\n",
    "#         os.makedirs(top_dir)\n",
    "#     df_hpos.to_csv(os.path.join(top_dir, 'df_hpos.csv'))"
   ]
  },
  {
   "cell_type": "code",
   "execution_count": null,
   "metadata": {},
   "outputs": [],
   "source": []
  }
 ],
 "metadata": {
  "kernelspec": {
   "display_name": "Python 3",
   "language": "python",
   "name": "python3"
  },
  "language_info": {
   "codemirror_mode": {
    "name": "ipython",
    "version": 3
   },
   "file_extension": ".py",
   "mimetype": "text/x-python",
   "name": "python",
   "nbconvert_exporter": "python",
   "pygments_lexer": "ipython3",
   "version": "3.11.10"
  }
 },
 "nbformat": 4,
 "nbformat_minor": 2
}
