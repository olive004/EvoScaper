{
 "cells": [
  {
   "cell_type": "code",
   "execution_count": 1,
   "metadata": {
    "execution": {
     "iopub.execute_input": "2025-01-13T13:50:40.063472Z",
     "iopub.status.busy": "2025-01-13T13:50:40.063364Z",
     "iopub.status.idle": "2025-01-13T13:50:40.074489Z",
     "shell.execute_reply": "2025-01-13T13:50:40.073953Z"
    }
   },
   "outputs": [],
   "source": [
    "%load_ext autoreload\n",
    "%autoreload 2"
   ]
  },
  {
   "cell_type": "markdown",
   "metadata": {},
   "source": [
    "# Run VAE models systematically"
   ]
  },
  {
   "cell_type": "markdown",
   "metadata": {},
   "source": [
    "## Imports"
   ]
  },
  {
   "cell_type": "code",
   "execution_count": 2,
   "metadata": {
    "execution": {
     "iopub.execute_input": "2025-01-13T13:50:40.076125Z",
     "iopub.status.busy": "2025-01-13T13:50:40.076010Z",
     "iopub.status.idle": "2025-01-13T13:50:41.986589Z",
     "shell.execute_reply": "2025-01-13T13:50:41.986093Z"
    }
   },
   "outputs": [],
   "source": [
    "import pandas as pd\n",
    "import itertools\n",
    "import os\n",
    "from evoscaper.scripts.cvae_scan import main as cvae_scan\n",
    "from evoscaper.utils.preprocess import make_datetime_str\n",
    "from synbio_morpher.utils.data.data_format_tools.common import write_json"
   ]
  },
  {
   "cell_type": "markdown",
   "metadata": {},
   "source": [
    "## Create table of all VAE model training settings\n",
    "\n",
    "Parameters for:\n",
    "- Biological dataset generation\n",
    "- Training data\n",
    "    - Input\n",
    "    - Output \n",
    "- Model architecture\n",
    "- Training hyperparameters"
   ]
  },
  {
   "cell_type": "markdown",
   "metadata": {},
   "source": [
    "### Initial parameters"
   ]
  },
  {
   "cell_type": "code",
   "execution_count": 3,
   "metadata": {
    "execution": {
     "iopub.execute_input": "2025-01-13T13:50:41.990250Z",
     "iopub.status.busy": "2025-01-13T13:50:41.990008Z",
     "iopub.status.idle": "2025-01-13T13:50:42.018441Z",
     "shell.execute_reply": "2025-01-13T13:50:42.017626Z"
    }
   },
   "outputs": [],
   "source": [
    "data_dir = '../data'\n",
    "\n",
    "hpos_architecture = {\n",
    "    'seed_arch': 1,\n",
    "    'hidden_size': 16,\n",
    "    'enc_ls': 32,\n",
    "    'dec_ls': 32,\n",
    "    'num_enc_layers': 2,\n",
    "    'num_dec_layers': 2,\n",
    "    'factor_expanding_ls': 1,\n",
    "    'factor_contracting_ls': 1,\n",
    "    'model': 'CVAE',\n",
    "    'use_sigmoid_decoder': False,\n",
    "    'enc_init': 'HeNormal',\n",
    "    'dec_init': 'HeNormal',\n",
    "    'init_model_with_random': True,\n",
    "    'activation': 'leaky_relu',\n",
    "}\n",
    "\n",
    "hpos_training = {\n",
    "    'seed_train': 1,\n",
    "    'batch_size': 256,\n",
    "    'epochs': 3000,\n",
    "    'patience': 500,\n",
    "    'learning_rate': 1e-2,\n",
    "    'loss_func': 'mse',\n",
    "    'accuracy_func': 'accuracy_regression',\n",
    "    'use_dropout': False,\n",
    "    'dropout_rate': 0.1,\n",
    "    'use_l2_reg': False,\n",
    "    'l2_reg_alpha': 5e-2,\n",
    "    'use_kl_div': True,\n",
    "    # inspired by https://github.com/elttaes/VAE-MNIST-Haiku-Jax/blob/main/cVAE_mnist.ipynb\n",
    "    'kl_weight': 2.5e-4,\n",
    "}\n",
    "hpos_training['print_every'] = hpos_training['epochs'] // 50\n",
    "\n",
    "hpos_optimization = {\n",
    "    'seed_opt': 1,\n",
    "    'opt_method': 'adam',\n",
    "    'opt_min_lr': 1e-6,\n",
    "    'opt_min_delta': 1e-4,\n",
    "    'learning_rate_sched': 'cosine_decay',\n",
    "    'use_warmup': True,\n",
    "    'warmup_epochs': 20,\n",
    "}\n",
    "\n",
    "hpos_dataset = {\n",
    "    'seed_dataset': 1,\n",
    "    'include_diffs': False,\n",
    "    'objective_col': ('Log sensitivity',),\n",
    "    'output_species': ('RNA_2',),\n",
    "    'signal_species': ('RNA_0',),\n",
    "    'filenames_train_config': f'{data_dir}/raw/summarise_simulation/2024_12_05_210221/ensemble_config.json',\n",
    "    'filenames_train_table': f'{data_dir}/raw/summarise_simulation/2024_12_05_210221/tabulated_mutation_info.csv',\n",
    "    'filenames_verify_config': f'{data_dir}/raw/summarise_simulation/2024_11_21_160955/ensemble_config.json',\n",
    "    'filenames_verify_table': f'{data_dir}/raw/summarise_simulation/2024_11_21_160955/tabulated_mutation_info.csv',\n",
    "    'use_test_data': False,\n",
    "    # 'total_ds': None,   # TO BE RECORDED\n",
    "    'total_ds_max': 5e6,\n",
    "    'train_split': 0.8,\n",
    "    'x_type': 'energies',\n",
    "    # XY filtering:\n",
    "    'filt_x_nans': True,\n",
    "    'filt_y_nans': True,\n",
    "    'filt_sensitivity_nans': True,\n",
    "    'filt_precision_nans': True,\n",
    "    'filt_n_same_x_max': 1,\n",
    "    'filt_n_same_x_max_bins': 50,\n",
    "    # XY preprocessing:\n",
    "    'prep_x_standardise': False,\n",
    "    'prep_y_standardise': False,\n",
    "    'prep_x_min_max': True,\n",
    "    'prep_y_min_max': True,\n",
    "    'prep_x_robust_scaling': True,\n",
    "    'prep_y_robust_scaling': True,\n",
    "    'prep_x_logscale': False,\n",
    "    'prep_y_logscale': False,\n",
    "    'prep_x_categorical': False,\n",
    "    'prep_y_categorical': True,\n",
    "    'prep_x_categorical_onehot': False,\n",
    "    'prep_y_categorical_onehot': True,\n",
    "    'prep_x_categorical_n_bins': 10,\n",
    "    'prep_y_categorical_n_bins': 10,\n",
    "    'prep_x_categorical_method': 'quantile',\n",
    "    'prep_y_categorical_method': 'quantile',\n",
    "    'prep_x_negative': True,\n",
    "    'prep_y_negative': False\n",
    "}\n",
    "\n",
    "hpos_biological = {\n",
    "    'n_species': 3,\n",
    "    'sequence_length': 20,\n",
    "    'signal_function': 'step_function',\n",
    "    'signal_target': 2,\n",
    "    'starting_copynumbers_input': 200,\n",
    "    'starting_copynumbers_output': 200,\n",
    "    'starting_copynumbers_other': 200,\n",
    "    'association_binding_rate': 1000000,\n",
    "    'include_prod_deg': False,\n",
    "}\n",
    "\n",
    "hpos_eval = {\n",
    "    'eval_n_to_sample': 1e3\n",
    "}\n",
    "\n",
    "info_to_be_recorded = {\n",
    "    'filename_saved_model': 'TO_BE_RECORDED',\n",
    "    'total_ds': 'TO_BE_RECORDED',\n",
    "    'n_batches': 'TO_BE_RECORDED',\n",
    "    'R2_train': 'TO_BE_RECORDED',\n",
    "    'R2_test': 'TO_BE_RECORDED',\n",
    "    'mutual_information_conditionality': 'TO_BE_RECORDED',\n",
    "    'n_layers_enc': 'TO_BE_RECORDED',\n",
    "    'n_layers_dec': 'TO_BE_RECORDED',\n",
    "    'run_successful': 'TO_BE_RECORDED',\n",
    "    'info_early_stop': 'TO_BE_RECORDED',\n",
    "    'error_msg': 'TO_BE_RECORDED',\n",
    "}\n",
    "\n",
    "hpos_all = {}\n",
    "for d in [hpos_architecture, hpos_training, hpos_optimization, hpos_dataset, hpos_eval, info_to_be_recorded]:\n",
    "    hpos_all.update(d)"
   ]
  },
  {
   "cell_type": "code",
   "execution_count": 4,
   "metadata": {
    "execution": {
     "iopub.execute_input": "2025-01-13T13:50:42.021037Z",
     "iopub.status.busy": "2025-01-13T13:50:42.020916Z",
     "iopub.status.idle": "2025-01-13T13:50:42.050569Z",
     "shell.execute_reply": "2025-01-13T13:50:42.050141Z"
    }
   },
   "outputs": [
    {
     "data": {
      "text/html": [
       "<div>\n",
       "<style scoped>\n",
       "    .dataframe tbody tr th:only-of-type {\n",
       "        vertical-align: middle;\n",
       "    }\n",
       "\n",
       "    .dataframe tbody tr th {\n",
       "        vertical-align: top;\n",
       "    }\n",
       "\n",
       "    .dataframe thead th {\n",
       "        text-align: right;\n",
       "    }\n",
       "</style>\n",
       "<table border=\"1\" class=\"dataframe\">\n",
       "  <thead>\n",
       "    <tr style=\"text-align: right;\">\n",
       "      <th></th>\n",
       "      <th>seed_arch</th>\n",
       "      <th>hidden_size</th>\n",
       "      <th>enc_ls</th>\n",
       "      <th>dec_ls</th>\n",
       "      <th>num_enc_layers</th>\n",
       "      <th>num_dec_layers</th>\n",
       "      <th>factor_expanding_ls</th>\n",
       "      <th>factor_contracting_ls</th>\n",
       "      <th>model</th>\n",
       "      <th>use_sigmoid_decoder</th>\n",
       "      <th>...</th>\n",
       "      <th>total_ds</th>\n",
       "      <th>n_batches</th>\n",
       "      <th>R2_train</th>\n",
       "      <th>R2_test</th>\n",
       "      <th>mutual_information_conditionality</th>\n",
       "      <th>n_layers_enc</th>\n",
       "      <th>n_layers_dec</th>\n",
       "      <th>run_successful</th>\n",
       "      <th>info_early_stop</th>\n",
       "      <th>error_msg</th>\n",
       "    </tr>\n",
       "  </thead>\n",
       "  <tbody>\n",
       "    <tr>\n",
       "      <th>0</th>\n",
       "      <td>1</td>\n",
       "      <td>16</td>\n",
       "      <td>32</td>\n",
       "      <td>32</td>\n",
       "      <td>2</td>\n",
       "      <td>2</td>\n",
       "      <td>1</td>\n",
       "      <td>1</td>\n",
       "      <td>CVAE</td>\n",
       "      <td>False</td>\n",
       "      <td>...</td>\n",
       "      <td>TO_BE_RECORDED</td>\n",
       "      <td>TO_BE_RECORDED</td>\n",
       "      <td>TO_BE_RECORDED</td>\n",
       "      <td>TO_BE_RECORDED</td>\n",
       "      <td>TO_BE_RECORDED</td>\n",
       "      <td>TO_BE_RECORDED</td>\n",
       "      <td>TO_BE_RECORDED</td>\n",
       "      <td>TO_BE_RECORDED</td>\n",
       "      <td>TO_BE_RECORDED</td>\n",
       "      <td>TO_BE_RECORDED</td>\n",
       "    </tr>\n",
       "  </tbody>\n",
       "</table>\n",
       "<p>1 rows × 84 columns</p>\n",
       "</div>"
      ],
      "text/plain": [
       "  seed_arch hidden_size enc_ls dec_ls num_enc_layers num_dec_layers  \\\n",
       "0         1          16     32     32              2              2   \n",
       "\n",
       "  factor_expanding_ls factor_contracting_ls model use_sigmoid_decoder  ...  \\\n",
       "0                   1                     1  CVAE               False  ...   \n",
       "\n",
       "         total_ds       n_batches        R2_train         R2_test  \\\n",
       "0  TO_BE_RECORDED  TO_BE_RECORDED  TO_BE_RECORDED  TO_BE_RECORDED   \n",
       "\n",
       "  mutual_information_conditionality    n_layers_enc    n_layers_dec  \\\n",
       "0                    TO_BE_RECORDED  TO_BE_RECORDED  TO_BE_RECORDED   \n",
       "\n",
       "   run_successful info_early_stop       error_msg  \n",
       "0  TO_BE_RECORDED  TO_BE_RECORDED  TO_BE_RECORDED  \n",
       "\n",
       "[1 rows x 84 columns]"
      ]
     },
     "execution_count": 4,
     "metadata": {},
     "output_type": "execute_result"
    }
   ],
   "source": [
    "df_hpos = pd.DataFrame.from_dict(hpos_all, orient='index').T\n",
    "assert df_hpos.columns.duplicated().sum() == 0, 'Change some column names, there are duplicates'\n",
    "basic_setting = df_hpos.copy()\n",
    "df_hpos"
   ]
  },
  {
   "cell_type": "code",
   "execution_count": 5,
   "metadata": {
    "execution": {
     "iopub.execute_input": "2025-01-13T13:50:42.072868Z",
     "iopub.status.busy": "2025-01-13T13:50:42.072089Z",
     "iopub.status.idle": "2025-01-13T13:50:42.106863Z",
     "shell.execute_reply": "2025-01-13T13:50:42.105864Z"
    }
   },
   "outputs": [
    {
     "data": {
      "text/plain": [
       "0    ../data/raw/summarise_simulation/2024_12_05_21...\n",
       "Name: filenames_train_config, dtype: object"
      ]
     },
     "execution_count": 5,
     "metadata": {},
     "output_type": "execute_result"
    }
   ],
   "source": [
    "# for k, v in hpos_all.items():\n",
    "#     if type(v) == tuple:\n",
    "#         print(k, v)\n",
    "#         df_hpos[k] = df_hpos[k].apply(lambda x: tuple(x))\n",
    "df_hpos['filenames_train_config']        "
   ]
  },
  {
   "cell_type": "markdown",
   "metadata": {},
   "source": [
    "### All parameters"
   ]
  },
  {
   "cell_type": "code",
   "execution_count": 6,
   "metadata": {
    "execution": {
     "iopub.execute_input": "2025-01-13T13:50:42.108851Z",
     "iopub.status.busy": "2025-01-13T13:50:42.108720Z",
     "iopub.status.idle": "2025-01-13T13:50:42.134332Z",
     "shell.execute_reply": "2025-01-13T13:50:42.133337Z"
    }
   },
   "outputs": [],
   "source": [
    "hpos_to_vary_from_og = {\n",
    "    'seed_arch': [1, 2, 3, 4, 5],\n",
    "    'num_enc_layers': [4, 5],\n",
    "}\n",
    "hpos_to_vary_from_og2 = {\n",
    "    'objective_col': [('adaptation',), ('Log sensitivity',), ('Log sensitivity', 'Log precision')],\n",
    "}\n",
    "hpos_to_vary_from_og3 = {\n",
    "    'hidden_size': list(range(1, 17)),\n",
    "}\n",
    "hpos_to_vary_together = {\n",
    "    'hidden_size': [1, 2, 4, 8, 16, 32, 64, 128],\n",
    "    'enc_ls': [4, 8, 16, 32, 64],\n",
    "    'num_enc_layers': [1, 2, 3],\n",
    "    'factor_expanding_ls': [1, 2, 3],\n",
    "}\n",
    "hpos_to_vary_together2 = {\n",
    "    'hidden_size': [16, 32, 64],\n",
    "    'objective_col': [('adaptation',), ('Log sensitivity',)],\n",
    "    'x_type': ['energies', 'binding_rates_dissociation'],\n",
    "    'learning_rate': [1e-2, 1e-3, 1e-4],\n",
    "    'use_l2_reg': [True],\n",
    "    'l2_reg_alpha': [0, 1e-2, 1e-3, 1e-4],\n",
    "    'kl_weight': [1e-4, 1e-3, 1e-2, 1e-1, 1],\n",
    "}\n",
    "\n",
    "df_hpos.loc[df_hpos['objective_col'] == 'sensitivity_wrt_species-6', 'prep_y_logscale'] = True"
   ]
  },
  {
   "cell_type": "code",
   "execution_count": 7,
   "metadata": {
    "execution": {
     "iopub.execute_input": "2025-01-13T13:50:42.137174Z",
     "iopub.status.busy": "2025-01-13T13:50:42.136617Z",
     "iopub.status.idle": "2025-01-13T13:50:43.070237Z",
     "shell.execute_reply": "2025-01-13T13:50:43.069204Z"
    }
   },
   "outputs": [
    {
     "data": {
      "text/plain": [
       "1099"
      ]
     },
     "execution_count": 7,
     "metadata": {},
     "output_type": "execute_result"
    }
   ],
   "source": [
    "def keep_equal(df):\n",
    "    pairs = {\n",
    "        'enc_ls': 'dec_ls',\n",
    "        'num_enc_layers': 'num_dec_layers',\n",
    "        'factor_expanding_ls': 'factor_contracting_ls',\n",
    "    }\n",
    "    for k1, k2 in pairs.items():\n",
    "        if k1 in df.columns and k2 in df.columns:\n",
    "            df[k2] = df[k1]\n",
    "    return df\n",
    "\n",
    "\n",
    "def add_combinatorial_keys(df_hpos, hpos_to_vary_together, basic_setting):\n",
    "    keys_vary_together = sorted(hpos_to_vary_together.keys())\n",
    "    for v in itertools.product(*[hpos_to_vary_together[h] for h in keys_vary_together]):\n",
    "        curr = basic_setting.assign(\n",
    "            **{h: vv for h, vv in zip(keys_vary_together, v)})\n",
    "        df_hpos = pd.concat([df_hpos, curr], ignore_index=True)\n",
    "    return df_hpos\n",
    "\n",
    "\n",
    "def add_single_hpos(df_hpos, hpos_to_vary_from_og, basic_setting):\n",
    "    for h, v in hpos_to_vary_from_og.items():\n",
    "        try:\n",
    "            df_hpos = pd.concat(\n",
    "                [df_hpos] + [basic_setting.assign(**{h: vv}) for vv in v], ignore_index=True)\n",
    "        except ValueError:\n",
    "            for vv in v:\n",
    "                b = basic_setting.copy()\n",
    "                b.loc[0, h] = vv\n",
    "                df_hpos = pd.concat([df_hpos, b], ignore_index=True)\n",
    "    return df_hpos\n",
    "\n",
    "\n",
    "def postproc(df_hpos):\n",
    "    df_hpos = keep_equal(df_hpos)\n",
    "    df_hpos.loc[df_hpos['x_type'] ==\n",
    "                'binding_rates_dissociation', 'prep_x_negative'] = False\n",
    "    df_hpos = df_hpos.drop_duplicates().reset_index(drop=True)\n",
    "    return df_hpos\n",
    "\n",
    "\n",
    "df_hpos = add_single_hpos(df_hpos, hpos_to_vary_from_og3, basic_setting)\n",
    "df_hpos = add_single_hpos(df_hpos, hpos_to_vary_from_og2, basic_setting)\n",
    "df_hpos = add_combinatorial_keys(df_hpos, hpos_to_vary_together, basic_setting)\n",
    "df_hpos = add_combinatorial_keys(\n",
    "    df_hpos, hpos_to_vary_together2, basic_setting)\n",
    "df_hpos = add_single_hpos(df_hpos, hpos_to_vary_from_og, basic_setting)\n",
    "df_hpos = postproc(df_hpos)\n",
    "\n",
    "# Reorder columns\n",
    "cols_priority = list(set(list(hpos_to_vary_from_og.keys(\n",
    ")) + list(hpos_to_vary_together.keys()) + list(hpos_to_vary_together2.keys())))\n",
    "df_hpos = df_hpos[cols_priority +\n",
    "                  [c for c in df_hpos.columns if c not in cols_priority]]\n",
    "\n",
    "df_hpos.reset_index(drop=True)\n",
    "len(df_hpos)"
   ]
  },
  {
   "cell_type": "markdown",
   "metadata": {},
   "source": [
    "# Use table to create dataset for training"
   ]
  },
  {
   "cell_type": "code",
   "execution_count": 8,
   "metadata": {
    "execution": {
     "iopub.execute_input": "2025-01-13T13:50:43.073176Z",
     "iopub.status.busy": "2025-01-13T13:50:43.072466Z",
     "iopub.status.idle": "2025-01-13T13:50:43.101412Z",
     "shell.execute_reply": "2025-01-13T13:50:43.100757Z"
    }
   },
   "outputs": [],
   "source": [
    "# fn = '../data/raw/summarise_simulation/2024_11_21_144918/tabulated_mutation_info.csv'\n",
    "# # fn = '../data/raw/summarise_simulation/2024_11_21_160955/tabulated_mutation_info.csv'\n",
    "# # fn = '../data/raw/summarise_simulation/2024_12_05_210221/tabulated_mutation_info.csv'\n",
    "# data = pd.read_csv(fn).iloc[:100]\n",
    "# len(data)"
   ]
  },
  {
   "cell_type": "code",
   "execution_count": 9,
   "metadata": {
    "execution": {
     "iopub.execute_input": "2025-01-13T13:50:43.104724Z",
     "iopub.status.busy": "2025-01-13T13:50:43.104605Z",
     "iopub.status.idle": "2025-01-13T14:55:40.289630Z",
     "shell.execute_reply": "2025-01-13T14:55:40.289020Z"
    }
   },
   "outputs": [
    {
     "name": "stderr",
     "output_type": "stream",
     "text": [
      "xla_bridge.py:backends():900: Unable to initialize backend 'rocm': NOT_FOUND: Could not find registered platform with name: \"rocm\". Available platform names are: CUDA INFO\n"
     ]
    },
    {
     "name": "stderr",
     "output_type": "stream",
     "text": [
      "xla_bridge.py:backends():900: Unable to initialize backend 'tpu': INTERNAL: Failed to open libtpu.so: libtpu.so: cannot open shared object file: No such file or directory INFO\n"
     ]
    },
    {
     "name": "stderr",
     "output_type": "stream",
     "text": [
      "train.py:train():126: Epoch 0 / 3000 -\t\t Train loss: 0.11545269936323166\tVal loss: 0.08440466970205307\tVal accuracy: 0.3213975727558136 INFO\n"
     ]
    },
    {
     "name": "stderr",
     "output_type": "stream",
     "text": [
      "train.py:train():136: Early stopping triggered after 7 epochs:\n",
      "Train loss: 0.004399285186082125\n",
      "Val loss: 0.004476818721741438\n",
      "Val accuracy: 0.9923043847084045\n",
      "Epochs no improvement: 0 WARNING\n"
     ]
    },
    {
     "name": "stdout",
     "output_type": "stream",
     "text": [
      "Training complete: 0:00:09.815943\n"
     ]
    },
    {
     "name": "stdout",
     "output_type": "stream",
     "text": [
      "Warning: not using the test data for evaluation, but the training data instead of ../data/raw/summarise_simulation/2024_11_21_160955/tabulated_mutation_info.csv\n"
     ]
    },
    {
     "name": "stdout",
     "output_type": "stream",
     "text": [
      "The R2 score is  0.9785440564155579\n",
      "The R2 score with weighted variance is  0.9785440564155579\n"
     ]
    },
    {
     "name": "stderr",
     "output_type": "stream",
     "text": [
      "/workdir/src/evoscaper/utils/visualise.py:30: UserWarning: Creating legend with loc=\"best\" can be slow with large amounts of data.\n",
      "  plt.tight_layout()\n"
     ]
    },
    {
     "name": "stderr",
     "output_type": "stream",
     "text": [
      "2025-01-13 13:53:10.684148: W external/xla/xla/service/hlo_rematerialization.cc:3005] Can't reduce memory use below 10.90GiB (11699206430 bytes) by rematerialization; only reduced to 11.18GiB (12000000016 bytes), down from 11.18GiB (12000000016 bytes) originally\n"
     ]
    },
    {
     "name": "stdout",
     "output_type": "stream",
     "text": [
      "Steady states found. Now calculating signal response\n"
     ]
    },
    {
     "name": "stdout",
     "output_type": "stream",
     "text": [
      "data/2025_01_13__13_50_43/cvae_scan/hpo_0\n"
     ]
    },
    {
     "name": "stderr",
     "output_type": "stream",
     "text": [
      "/tmp/ipykernel_1065353/1628586949.py:20: SettingWithCopyWarning: \n",
      "A value is trying to be set on a copy of a slice from a DataFrame\n",
      "\n",
      "See the caveats in the documentation: https://pandas.pydata.org/pandas-docs/stable/user_guide/indexing.html#returning-a-view-versus-a-copy\n",
      "  df_hpos_main.loc[i] = pd.Series(hpos) if type(hpos) == dict else hpos.drop('index')\n"
     ]
    },
    {
     "name": "stderr",
     "output_type": "stream",
     "text": [
      "train.py:train():126: Epoch 0 / 3000 -\t\t Train loss: 0.16091540455818176\tVal loss: 0.07742345333099365\tVal accuracy: 0.30460822582244873 INFO\n"
     ]
    },
    {
     "name": "stderr",
     "output_type": "stream",
     "text": [
      "train.py:train():126: Epoch 10 / 3000 -\t\t Train loss: 0.03709343820810318\tVal loss: 0.03764248639345169\tVal accuracy: 0.44313403964042664 INFO\n"
     ]
    },
    {
     "name": "stderr",
     "output_type": "stream",
     "text": [
      "train.py:train():126: Epoch 20 / 3000 -\t\t Train loss: 0.03594241291284561\tVal loss: 0.03510478511452675\tVal accuracy: 0.4698684811592102 INFO\n"
     ]
    },
    {
     "name": "stderr",
     "output_type": "stream",
     "text": [
      "train.py:train():126: Epoch 30 / 3000 -\t\t Train loss: 0.03192804753780365\tVal loss: 0.03188631683588028\tVal accuracy: 0.4637753963470459 INFO\n"
     ]
    },
    {
     "name": "stderr",
     "output_type": "stream",
     "text": [
      "train.py:train():126: Epoch 40 / 3000 -\t\t Train loss: 0.029730485752224922\tVal loss: 0.03033108077943325\tVal accuracy: 0.45141395926475525 INFO\n"
     ]
    },
    {
     "name": "stderr",
     "output_type": "stream",
     "text": [
      "train.py:train():126: Epoch 50 / 3000 -\t\t Train loss: 0.02855910174548626\tVal loss: 0.028448453173041344\tVal accuracy: 0.47629544138908386 INFO\n"
     ]
    },
    {
     "name": "stderr",
     "output_type": "stream",
     "text": [
      "train.py:train():126: Epoch 60 / 3000 -\t\t Train loss: 0.027591796591877937\tVal loss: 0.027898672968149185\tVal accuracy: 0.4829978346824646 INFO\n"
     ]
    },
    {
     "name": "stderr",
     "output_type": "stream",
     "text": [
      "train.py:train():126: Epoch 70 / 3000 -\t\t Train loss: 0.02782423608005047\tVal loss: 0.02748509682714939\tVal accuracy: 0.48603183031082153 INFO\n"
     ]
    },
    {
     "name": "stderr",
     "output_type": "stream",
     "text": [
      "train.py:train():126: Epoch 80 / 3000 -\t\t Train loss: 0.027373146265745163\tVal loss: 0.027270250022411346\tVal accuracy: 0.48260968923568726 INFO\n"
     ]
    },
    {
     "name": "stderr",
     "output_type": "stream",
     "text": [
      "train.py:train():126: Epoch 90 / 3000 -\t\t Train loss: 0.027998361736536026\tVal loss: 0.02739393152296543\tVal accuracy: 0.4869624972343445 INFO\n"
     ]
    },
    {
     "name": "stderr",
     "output_type": "stream",
     "text": [
      "train.py:train():126: Epoch 100 / 3000 -\t\t Train loss: 0.02705393359065056\tVal loss: 0.026761522516608238\tVal accuracy: 0.5001711249351501 INFO\n"
     ]
    },
    {
     "name": "stderr",
     "output_type": "stream",
     "text": [
      "train.py:train():126: Epoch 110 / 3000 -\t\t Train loss: 0.02733790874481201\tVal loss: 0.027100620791316032\tVal accuracy: 0.5000668168067932 INFO\n"
     ]
    },
    {
     "name": "stderr",
     "output_type": "stream",
     "text": [
      "train.py:train():126: Epoch 120 / 3000 -\t\t Train loss: 0.027082566171884537\tVal loss: 0.027106748893857002\tVal accuracy: 0.48850664496421814 INFO\n"
     ]
    },
    {
     "name": "stderr",
     "output_type": "stream",
     "text": [
      "train.py:train():126: Epoch 130 / 3000 -\t\t Train loss: 0.02693244256079197\tVal loss: 0.026881279423832893\tVal accuracy: 0.49384433031082153 INFO\n"
     ]
    },
    {
     "name": "stderr",
     "output_type": "stream",
     "text": [
      "train.py:train():126: Epoch 140 / 3000 -\t\t Train loss: 0.026366684585809708\tVal loss: 0.026461439207196236\tVal accuracy: 0.5043736696243286 INFO\n"
     ]
    },
    {
     "name": "stderr",
     "output_type": "stream",
     "text": [
      "train.py:train():126: Epoch 150 / 3000 -\t\t Train loss: 0.02676301635801792\tVal loss: 0.026890212669968605\tVal accuracy: 0.49588510394096375 INFO\n"
     ]
    },
    {
     "name": "stderr",
     "output_type": "stream",
     "text": [
      "train.py:train():126: Epoch 160 / 3000 -\t\t Train loss: 0.026321392506361008\tVal loss: 0.0263361856341362\tVal accuracy: 0.5032594203948975 INFO\n"
     ]
    },
    {
     "name": "stderr",
     "output_type": "stream",
     "text": [
      "train.py:train():126: Epoch 170 / 3000 -\t\t Train loss: 0.02742905169725418\tVal loss: 0.027813604101538658\tVal accuracy: 0.4997830092906952 INFO\n"
     ]
    },
    {
     "name": "stderr",
     "output_type": "stream",
     "text": [
      "train.py:train():126: Epoch 180 / 3000 -\t\t Train loss: 0.026476534083485603\tVal loss: 0.02663620188832283\tVal accuracy: 0.5041316151618958 INFO\n"
     ]
    },
    {
     "name": "stderr",
     "output_type": "stream",
     "text": [
      "train.py:train():126: Epoch 190 / 3000 -\t\t Train loss: 0.026157287880778313\tVal loss: 0.02611946500837803\tVal accuracy: 0.5008722543716431 INFO\n"
     ]
    },
    {
     "name": "stderr",
     "output_type": "stream",
     "text": [
      "train.py:train():126: Epoch 200 / 3000 -\t\t Train loss: 0.025797557085752487\tVal loss: 0.026494815945625305\tVal accuracy: 0.5058802962303162 INFO\n"
     ]
    },
    {
     "name": "stderr",
     "output_type": "stream",
     "text": [
      "train.py:train():126: Epoch 210 / 3000 -\t\t Train loss: 0.026301737874746323\tVal loss: 0.025907177478075027\tVal accuracy: 0.5114641785621643 INFO\n"
     ]
    },
    {
     "name": "stderr",
     "output_type": "stream",
     "text": [
      "train.py:train():126: Epoch 220 / 3000 -\t\t Train loss: 0.026310477405786514\tVal loss: 0.026338184252381325\tVal accuracy: 0.5058718919754028 INFO\n"
     ]
    },
    {
     "name": "stderr",
     "output_type": "stream",
     "text": [
      "train.py:train():126: Epoch 230 / 3000 -\t\t Train loss: 0.026096949353814125\tVal loss: 0.02609109878540039\tVal accuracy: 0.5118064284324646 INFO\n"
     ]
    },
    {
     "name": "stderr",
     "output_type": "stream",
     "text": [
      "train.py:train():126: Epoch 240 / 3000 -\t\t Train loss: 0.02593323029577732\tVal loss: 0.02629920281469822\tVal accuracy: 0.4976337254047394 INFO\n"
     ]
    },
    {
     "name": "stderr",
     "output_type": "stream",
     "text": [
      "train.py:train():126: Epoch 250 / 3000 -\t\t Train loss: 0.04768097400665283\tVal loss: 0.04387020692229271\tVal accuracy: 0.3799162209033966 INFO\n"
     ]
    },
    {
     "name": "stderr",
     "output_type": "stream",
     "text": [
      "train.py:train():126: Epoch 260 / 3000 -\t\t Train loss: 0.03714638948440552\tVal loss: 0.037631988525390625\tVal accuracy: 0.4553076922893524 INFO\n"
     ]
    },
    {
     "name": "stderr",
     "output_type": "stream",
     "text": [
      "train.py:train():126: Epoch 270 / 3000 -\t\t Train loss: 0.036872927099466324\tVal loss: 0.03693382814526558\tVal accuracy: 0.44803354144096375 INFO\n"
     ]
    },
    {
     "name": "stderr",
     "output_type": "stream",
     "text": [
      "train.py:train():126: Epoch 280 / 3000 -\t\t Train loss: 0.03539394214749336\tVal loss: 0.0352509431540966\tVal accuracy: 0.4603908061981201 INFO\n"
     ]
    },
    {
     "name": "stderr",
     "output_type": "stream",
     "text": [
      "train.py:train():126: Epoch 290 / 3000 -\t\t Train loss: 0.033926740288734436\tVal loss: 0.03398016840219498\tVal accuracy: 0.46605822443962097 INFO\n"
     ]
    },
    {
     "name": "stderr",
     "output_type": "stream",
     "text": [
      "train.py:train():126: Epoch 300 / 3000 -\t\t Train loss: 0.033363789319992065\tVal loss: 0.03330836817622185\tVal accuracy: 0.44828811287879944 INFO\n"
     ]
    },
    {
     "name": "stderr",
     "output_type": "stream",
     "text": [
      "train.py:train():126: Epoch 310 / 3000 -\t\t Train loss: 0.03083116002380848\tVal loss: 0.03069283254444599\tVal accuracy: 0.46754392981529236 INFO\n"
     ]
    },
    {
     "name": "stderr",
     "output_type": "stream",
     "text": [
      "train.py:train():126: Epoch 320 / 3000 -\t\t Train loss: 0.03346120938658714\tVal loss: 0.03331579267978668\tVal accuracy: 0.44975295662879944 INFO\n"
     ]
    },
    {
     "name": "stderr",
     "output_type": "stream",
     "text": [
      "train.py:train():126: Epoch 330 / 3000 -\t\t Train loss: 0.0330420657992363\tVal loss: 0.03362691402435303\tVal accuracy: 0.44151896238327026 INFO\n"
     ]
    },
    {
     "name": "stderr",
     "output_type": "stream",
     "text": [
      "train.py:train():126: Epoch 340 / 3000 -\t\t Train loss: 0.03323224186897278\tVal loss: 0.0347713939845562\tVal accuracy: 0.43788814544677734 INFO\n"
     ]
    },
    {
     "name": "stderr",
     "output_type": "stream",
     "text": [
      "train.py:train():126: Epoch 350 / 3000 -\t\t Train loss: 0.031570080667734146\tVal loss: 0.03148997202515602\tVal accuracy: 0.46128392219543457 INFO\n"
     ]
    },
    {
     "name": "stderr",
     "output_type": "stream",
     "text": [
      "train.py:train():126: Epoch 360 / 3000 -\t\t Train loss: 0.03401324152946472\tVal loss: 0.03292124345898628\tVal accuracy: 0.4563802182674408 INFO\n"
     ]
    },
    {
     "name": "stderr",
     "output_type": "stream",
     "text": [
      "train.py:train():126: Epoch 370 / 3000 -\t\t Train loss: 0.030899029225111008\tVal loss: 0.030997490510344505\tVal accuracy: 0.4703400731086731 INFO\n"
     ]
    },
    {
     "name": "stderr",
     "output_type": "stream",
     "text": [
      "train.py:train():126: Epoch 380 / 3000 -\t\t Train loss: 0.03045758046209812\tVal loss: 0.030466871336102486\tVal accuracy: 0.4593391418457031 INFO\n"
     ]
    },
    {
     "name": "stderr",
     "output_type": "stream",
     "text": [
      "train.py:train():126: Epoch 390 / 3000 -\t\t Train loss: 0.030774466693401337\tVal loss: 0.030913345515727997\tVal accuracy: 0.4635542035102844 INFO\n"
     ]
    },
    {
     "name": "stderr",
     "output_type": "stream",
     "text": [
      "train.py:train():126: Epoch 400 / 3000 -\t\t Train loss: 0.030038272961974144\tVal loss: 0.030213331803679466\tVal accuracy: 0.4790748655796051 INFO\n"
     ]
    },
    {
     "name": "stderr",
     "output_type": "stream",
     "text": [
      "train.py:train():126: Epoch 410 / 3000 -\t\t Train loss: 0.029528656974434853\tVal loss: 0.029580557718873024\tVal accuracy: 0.4949836730957031 INFO\n"
     ]
    },
    {
     "name": "stderr",
     "output_type": "stream",
     "text": [
      "train.py:train():126: Epoch 420 / 3000 -\t\t Train loss: 0.02940794825553894\tVal loss: 0.030018266290426254\tVal accuracy: 0.49387356638908386 INFO\n"
     ]
    },
    {
     "name": "stderr",
     "output_type": "stream",
     "text": [
      "train.py:train():126: Epoch 430 / 3000 -\t\t Train loss: 0.029194973409175873\tVal loss: 0.029400615021586418\tVal accuracy: 0.48515960574150085 INFO\n"
     ]
    },
    {
     "name": "stderr",
     "output_type": "stream",
     "text": [
      "train.py:train():126: Epoch 440 / 3000 -\t\t Train loss: 0.029698355123400688\tVal loss: 0.029990311712026596\tVal accuracy: 0.46249836683273315 INFO\n"
     ]
    },
    {
     "name": "stderr",
     "output_type": "stream",
     "text": [
      "train.py:train():126: Epoch 450 / 3000 -\t\t Train loss: 0.02947530895471573\tVal loss: 0.02949688769876957\tVal accuracy: 0.451998233795166 INFO\n"
     ]
    },
    {
     "name": "stderr",
     "output_type": "stream",
     "text": [
      "train.py:train():126: Epoch 460 / 3000 -\t\t Train loss: 0.028315337374806404\tVal loss: 0.02832639217376709\tVal accuracy: 0.48036444187164307 INFO\n"
     ]
    },
    {
     "name": "stderr",
     "output_type": "stream",
     "text": [
      "train.py:train():126: Epoch 470 / 3000 -\t\t Train loss: 0.031051555648446083\tVal loss: 0.030767906457185745\tVal accuracy: 0.43962424993515015 INFO\n"
     ]
    },
    {
     "name": "stderr",
     "output_type": "stream",
     "text": [
      "train.py:train():126: Epoch 480 / 3000 -\t\t Train loss: 0.03014530800282955\tVal loss: 0.030126484110951424\tVal accuracy: 0.47079914808273315 INFO\n"
     ]
    },
    {
     "name": "stderr",
     "output_type": "stream",
     "text": [
      "train.py:train():126: Epoch 490 / 3000 -\t\t Train loss: 0.03080538846552372\tVal loss: 0.031045330688357353\tVal accuracy: 0.4744800329208374 INFO\n"
     ]
    },
    {
     "name": "stderr",
     "output_type": "stream",
     "text": [
      "train.py:train():126: Epoch 500 / 3000 -\t\t Train loss: 0.03038438782095909\tVal loss: 0.030428774654865265\tVal accuracy: 0.477159321308136 INFO\n"
     ]
    },
    {
     "name": "stderr",
     "output_type": "stream",
     "text": [
      "train.py:train():126: Epoch 510 / 3000 -\t\t Train loss: 0.03010510466992855\tVal loss: 0.03015710599720478\tVal accuracy: 0.4770257771015167 INFO\n"
     ]
    },
    {
     "name": "stderr",
     "output_type": "stream",
     "text": [
      "train.py:train():126: Epoch 520 / 3000 -\t\t Train loss: 0.029971016570925713\tVal loss: 0.030129587277770042\tVal accuracy: 0.4817166030406952 INFO\n"
     ]
    },
    {
     "name": "stderr",
     "output_type": "stream",
     "text": [
      "train.py:train():126: Epoch 530 / 3000 -\t\t Train loss: 0.0298161581158638\tVal loss: 0.02987854927778244\tVal accuracy: 0.473069429397583 INFO\n"
     ]
    },
    {
     "name": "stderr",
     "output_type": "stream",
     "text": [
      "train.py:train():126: Epoch 540 / 3000 -\t\t Train loss: 0.029868513345718384\tVal loss: 0.029546469449996948\tVal accuracy: 0.47873684763908386 INFO\n"
     ]
    },
    {
     "name": "stderr",
     "output_type": "stream",
     "text": [
      "train.py:train():126: Epoch 550 / 3000 -\t\t Train loss: 0.029185255989432335\tVal loss: 0.02940991148352623\tVal accuracy: 0.4728315472602844 INFO\n"
     ]
    },
    {
     "name": "stderr",
     "output_type": "stream",
     "text": [
      "train.py:train():126: Epoch 560 / 3000 -\t\t Train loss: 0.02907070517539978\tVal loss: 0.02891572192311287\tVal accuracy: 0.4888363182544708 INFO\n"
     ]
    },
    {
     "name": "stderr",
     "output_type": "stream",
     "text": [
      "train.py:train():126: Epoch 570 / 3000 -\t\t Train loss: 0.02904481627047062\tVal loss: 0.029200365766882896\tVal accuracy: 0.4823968708515167 INFO\n"
     ]
    },
    {
     "name": "stderr",
     "output_type": "stream",
     "text": [
      "train.py:train():126: Epoch 580 / 3000 -\t\t Train loss: 0.029005616903305054\tVal loss: 0.02953369915485382\tVal accuracy: 0.47463443875312805 INFO\n"
     ]
    },
    {
     "name": "stderr",
     "output_type": "stream",
     "text": [
      "train.py:train():126: Epoch 590 / 3000 -\t\t Train loss: 0.0290005411952734\tVal loss: 0.02910051867365837\tVal accuracy: 0.48265978693962097 INFO\n"
     ]
    },
    {
     "name": "stderr",
     "output_type": "stream",
     "text": [
      "train.py:train():126: Epoch 600 / 3000 -\t\t Train loss: 0.02875068411231041\tVal loss: 0.02903798408806324\tVal accuracy: 0.47284406423568726 INFO\n"
     ]
    },
    {
     "name": "stderr",
     "output_type": "stream",
     "text": [
      "train.py:train():126: Epoch 610 / 3000 -\t\t Train loss: 0.029278144240379333\tVal loss: 0.03033917024731636\tVal accuracy: 0.48121580481529236 INFO\n"
     ]
    },
    {
     "name": "stderr",
     "output_type": "stream",
     "text": [
      "train.py:train():126: Epoch 620 / 3000 -\t\t Train loss: 0.029937248677015305\tVal loss: 0.030303385108709335\tVal accuracy: 0.4817750155925751 INFO\n"
     ]
    },
    {
     "name": "stderr",
     "output_type": "stream",
     "text": [
      "train.py:train():126: Epoch 630 / 3000 -\t\t Train loss: 0.029120665043592453\tVal loss: 0.029520532116293907\tVal accuracy: 0.4817124307155609 INFO\n"
     ]
    },
    {
     "name": "stderr",
     "output_type": "stream",
     "text": [
      "train.py:train():126: Epoch 640 / 3000 -\t\t Train loss: 0.029673278331756592\tVal loss: 0.030633840709924698\tVal accuracy: 0.46483126282691956 INFO\n"
     ]
    },
    {
     "name": "stderr",
     "output_type": "stream",
     "text": [
      "train.py:train():126: Epoch 650 / 3000 -\t\t Train loss: 0.03144015371799469\tVal loss: 0.03176272660493851\tVal accuracy: 0.4705195128917694 INFO\n"
     ]
    },
    {
     "name": "stderr",
     "output_type": "stream",
     "text": [
      "train.py:train():126: Epoch 660 / 3000 -\t\t Train loss: 0.029275842010974884\tVal loss: 0.029217904433608055\tVal accuracy: 0.4828684329986572 INFO\n"
     ]
    },
    {
     "name": "stderr",
     "output_type": "stream",
     "text": [
      "train.py:train():126: Epoch 670 / 3000 -\t\t Train loss: 0.029912715777754784\tVal loss: 0.030044708400964737\tVal accuracy: 0.4813159704208374 INFO\n"
     ]
    },
    {
     "name": "stderr",
     "output_type": "stream",
     "text": [
      "train.py:train():126: Epoch 680 / 3000 -\t\t Train loss: 0.0295096468180418\tVal loss: 0.029843293130397797\tVal accuracy: 0.48034775257110596 INFO\n"
     ]
    },
    {
     "name": "stderr",
     "output_type": "stream",
     "text": [
      "train.py:train():126: Epoch 690 / 3000 -\t\t Train loss: 0.0290607251226902\tVal loss: 0.029073376208543777\tVal accuracy: 0.48709604144096375 INFO\n"
     ]
    },
    {
     "name": "stderr",
     "output_type": "stream",
     "text": [
      "train.py:train():126: Epoch 700 / 3000 -\t\t Train loss: 0.029823951423168182\tVal loss: 0.030322283506393433\tVal accuracy: 0.48043540120124817 INFO\n"
     ]
    },
    {
     "name": "stderr",
     "output_type": "stream",
     "text": [
      "train.py:train():126: Epoch 710 / 3000 -\t\t Train loss: 0.029005175456404686\tVal loss: 0.029556773602962494\tVal accuracy: 0.4706655740737915 INFO\n"
     ]
    },
    {
     "name": "stderr",
     "output_type": "stream",
     "text": [
      "train.py:train():126: Epoch 720 / 3000 -\t\t Train loss: 0.029180284589529037\tVal loss: 0.02936898171901703\tVal accuracy: 0.47854486107826233 INFO\n"
     ]
    },
    {
     "name": "stderr",
     "output_type": "stream",
     "text": [
      "train.py:train():126: Epoch 730 / 3000 -\t\t Train loss: 0.02937667816877365\tVal loss: 0.02945931814610958\tVal accuracy: 0.4829268753528595 INFO\n"
     ]
    },
    {
     "name": "stderr",
     "output_type": "stream",
     "text": [
      "train.py:train():126: Epoch 740 / 3000 -\t\t Train loss: 0.029755985364317894\tVal loss: 0.029967235401272774\tVal accuracy: 0.4775724709033966 INFO\n"
     ]
    },
    {
     "name": "stderr",
     "output_type": "stream",
     "text": [
      "train.py:train():126: Epoch 750 / 3000 -\t\t Train loss: 0.029578838497400284\tVal loss: 0.02970009297132492\tVal accuracy: 0.4756903052330017 INFO\n"
     ]
    },
    {
     "name": "stderr",
     "output_type": "stream",
     "text": [
      "train.py:train():126: Epoch 760 / 3000 -\t\t Train loss: 0.029627829790115356\tVal loss: 0.02954079397022724\tVal accuracy: 0.4736495316028595 INFO\n"
     ]
    },
    {
     "name": "stderr",
     "output_type": "stream",
     "text": [
      "train.py:train():126: Epoch 770 / 3000 -\t\t Train loss: 0.03114978037774563\tVal loss: 0.031004903838038445\tVal accuracy: 0.4630367159843445 INFO\n"
     ]
    },
    {
     "name": "stderr",
     "output_type": "stream",
     "text": [
      "train.py:train():126: Epoch 780 / 3000 -\t\t Train loss: 0.030426016077399254\tVal loss: 0.030478009954094887\tVal accuracy: 0.47190508246421814 INFO\n"
     ]
    },
    {
     "name": "stderr",
     "output_type": "stream",
     "text": [
      "train.py:train():126: Epoch 790 / 3000 -\t\t Train loss: 0.030176185071468353\tVal loss: 0.030954333022236824\tVal accuracy: 0.47241005301475525 INFO\n"
     ]
    },
    {
     "name": "stderr",
     "output_type": "stream",
     "text": [
      "train.py:train():126: Epoch 800 / 3000 -\t\t Train loss: 0.030240587890148163\tVal loss: 0.03043193370103836\tVal accuracy: 0.47731372714042664 INFO\n"
     ]
    },
    {
     "name": "stderr",
     "output_type": "stream",
     "text": [
      "train.py:train():126: Epoch 810 / 3000 -\t\t Train loss: 0.030248861759901047\tVal loss: 0.03071032650768757\tVal accuracy: 0.4791833758354187 INFO\n"
     ]
    },
    {
     "name": "stderr",
     "output_type": "stream",
     "text": [
      "train.py:train():126: Epoch 820 / 3000 -\t\t Train loss: 0.030241983011364937\tVal loss: 0.030340872704982758\tVal accuracy: 0.4777686297893524 INFO\n"
     ]
    },
    {
     "name": "stderr",
     "output_type": "stream",
     "text": [
      "train.py:train():126: Epoch 830 / 3000 -\t\t Train loss: 0.029969969764351845\tVal loss: 0.030528055503964424\tVal accuracy: 0.47325724363327026 INFO\n"
     ]
    },
    {
     "name": "stderr",
     "output_type": "stream",
     "text": [
      "train.py:train():126: Epoch 840 / 3000 -\t\t Train loss: 0.02984391339123249\tVal loss: 0.030166175216436386\tVal accuracy: 0.4851178824901581 INFO\n"
     ]
    },
    {
     "name": "stderr",
     "output_type": "stream",
     "text": [
      "train.py:train():126: Epoch 850 / 3000 -\t\t Train loss: 0.029685907065868378\tVal loss: 0.029864221811294556\tVal accuracy: 0.476257860660553 INFO\n"
     ]
    },
    {
     "name": "stderr",
     "output_type": "stream",
     "text": [
      "train.py:train():126: Epoch 860 / 3000 -\t\t Train loss: 0.029465392231941223\tVal loss: 0.029401870444417\tVal accuracy: 0.48919522762298584 INFO\n"
     ]
    },
    {
     "name": "stderr",
     "output_type": "stream",
     "text": [
      "train.py:train():126: Epoch 870 / 3000 -\t\t Train loss: 0.03483235090970993\tVal loss: 0.04557042941451073\tVal accuracy: 0.37940290570259094 INFO\n"
     ]
    },
    {
     "name": "stderr",
     "output_type": "stream",
     "text": [
      "train.py:train():126: Epoch 880 / 3000 -\t\t Train loss: 0.03446197137236595\tVal loss: 0.0344867967069149\tVal accuracy: 0.4353298842906952 INFO\n"
     ]
    },
    {
     "name": "stderr",
     "output_type": "stream",
     "text": [
      "train.py:train():126: Epoch 890 / 3000 -\t\t Train loss: 0.047505710273981094\tVal loss: 0.047343991696834564\tVal accuracy: 0.3951823115348816 INFO\n"
     ]
    },
    {
     "name": "stderr",
     "output_type": "stream",
     "text": [
      "train.py:train():126: Epoch 900 / 3000 -\t\t Train loss: 0.03846839442849159\tVal loss: 0.038492679595947266\tVal accuracy: 0.4483173191547394 INFO\n"
     ]
    },
    {
     "name": "stderr",
     "output_type": "stream",
     "text": [
      "train.py:train():126: Epoch 910 / 3000 -\t\t Train loss: 0.0362623855471611\tVal loss: 0.036412160843610764\tVal accuracy: 0.43542587757110596 INFO\n"
     ]
    },
    {
     "name": "stderr",
     "output_type": "stream",
     "text": [
      "train.py:train():126: Epoch 920 / 3000 -\t\t Train loss: 0.034651149064302444\tVal loss: 0.034756168723106384\tVal accuracy: 0.4494524896144867 INFO\n"
     ]
    },
    {
     "name": "stderr",
     "output_type": "stream",
     "text": [
      "train.py:train():126: Epoch 930 / 3000 -\t\t Train loss: 0.03371158987283707\tVal loss: 0.03375906124711037\tVal accuracy: 0.473253071308136 INFO\n"
     ]
    },
    {
     "name": "stderr",
     "output_type": "stream",
     "text": [
      "train.py:train():126: Epoch 940 / 3000 -\t\t Train loss: 0.033306512981653214\tVal loss: 0.033535316586494446\tVal accuracy: 0.46013206243515015 INFO\n"
     ]
    },
    {
     "name": "stderr",
     "output_type": "stream",
     "text": [
      "train.py:train():126: Epoch 950 / 3000 -\t\t Train loss: 0.033106423914432526\tVal loss: 0.03343529254198074\tVal accuracy: 0.45014524459838867 INFO\n"
     ]
    },
    {
     "name": "stderr",
     "output_type": "stream",
     "text": [
      "train.py:train():126: Epoch 960 / 3000 -\t\t Train loss: 0.03268127515912056\tVal loss: 0.03306151181459427\tVal accuracy: 0.45843350887298584 INFO\n"
     ]
    },
    {
     "name": "stderr",
     "output_type": "stream",
     "text": [
      "train.py:train():126: Epoch 970 / 3000 -\t\t Train loss: 0.033259376883506775\tVal loss: 0.033562351018190384\tVal accuracy: 0.4500868320465088 INFO\n"
     ]
    },
    {
     "name": "stderr",
     "output_type": "stream",
     "text": [
      "train.py:train():126: Epoch 980 / 3000 -\t\t Train loss: 0.032518886029720306\tVal loss: 0.032887984067201614\tVal accuracy: 0.4584543704986572 INFO\n"
     ]
    },
    {
     "name": "stderr",
     "output_type": "stream",
     "text": [
      "train.py:train():126: Epoch 990 / 3000 -\t\t Train loss: 0.03215177357196808\tVal loss: 0.03248568996787071\tVal accuracy: 0.4631410539150238 INFO\n"
     ]
    },
    {
     "name": "stderr",
     "output_type": "stream",
     "text": [
      "train.py:train():126: Epoch 1000 / 3000 -\t\t Train loss: 0.032133739441633224\tVal loss: 0.03230265900492668\tVal accuracy: 0.4781024754047394 INFO\n"
     ]
    },
    {
     "name": "stderr",
     "output_type": "stream",
     "text": [
      "train.py:train():126: Epoch 1010 / 3000 -\t\t Train loss: 0.0319882333278656\tVal loss: 0.032394204288721085\tVal accuracy: 0.46953460574150085 INFO\n"
     ]
    },
    {
     "name": "stderr",
     "output_type": "stream",
     "text": [
      "train.py:train():126: Epoch 1020 / 3000 -\t\t Train loss: 0.03192897140979767\tVal loss: 0.032074883580207825\tVal accuracy: 0.4642845392227173 INFO\n"
     ]
    },
    {
     "name": "stderr",
     "output_type": "stream",
     "text": [
      "train.py:train():126: Epoch 1030 / 3000 -\t\t Train loss: 0.031899623572826385\tVal loss: 0.03664310649037361\tVal accuracy: 0.4638630449771881 INFO\n"
     ]
    },
    {
     "name": "stderr",
     "output_type": "stream",
     "text": [
      "train.py:train():126: Epoch 1040 / 3000 -\t\t Train loss: 0.03043677844107151\tVal loss: 0.030733440071344376\tVal accuracy: 0.46466848254203796 INFO\n"
     ]
    },
    {
     "name": "stderr",
     "output_type": "stream",
     "text": [
      "train.py:train():126: Epoch 1050 / 3000 -\t\t Train loss: 0.030220037326216698\tVal loss: 0.030218401923775673\tVal accuracy: 0.4617680311203003 INFO\n"
     ]
    },
    {
     "name": "stderr",
     "output_type": "stream",
     "text": [
      "train.py:train():126: Epoch 1060 / 3000 -\t\t Train loss: 0.029823627322912216\tVal loss: 0.03008626587688923\tVal accuracy: 0.462456613779068 INFO\n"
     ]
    },
    {
     "name": "stderr",
     "output_type": "stream",
     "text": [
      "train.py:train():126: Epoch 1070 / 3000 -\t\t Train loss: 0.029668064787983894\tVal loss: 0.029823191463947296\tVal accuracy: 0.4890908896923065 INFO\n"
     ]
    },
    {
     "name": "stderr",
     "output_type": "stream",
     "text": [
      "train.py:train():126: Epoch 1080 / 3000 -\t\t Train loss: 0.02977249026298523\tVal loss: 0.029995180666446686\tVal accuracy: 0.45729002356529236 INFO\n"
     ]
    },
    {
     "name": "stderr",
     "output_type": "stream",
     "text": [
      "train.py:train():126: Epoch 1090 / 3000 -\t\t Train loss: 0.02950327843427658\tVal loss: 0.02986600250005722\tVal accuracy: 0.47879526019096375 INFO\n"
     ]
    },
    {
     "name": "stderr",
     "output_type": "stream",
     "text": [
      "train.py:train():126: Epoch 1100 / 3000 -\t\t Train loss: 0.0296690221875906\tVal loss: 0.02964511513710022\tVal accuracy: 0.48528480529785156 INFO\n"
     ]
    },
    {
     "name": "stderr",
     "output_type": "stream",
     "text": [
      "train.py:train():126: Epoch 1110 / 3000 -\t\t Train loss: 0.029452722519636154\tVal loss: 0.02964741177856922\tVal accuracy: 0.4795130789279938 INFO\n"
     ]
    },
    {
     "name": "stderr",
     "output_type": "stream",
     "text": [
      "train.py:train():126: Epoch 1120 / 3000 -\t\t Train loss: 0.06257959455251694\tVal loss: 0.06313230097293854\tVal accuracy: 0.312683641910553 INFO\n"
     ]
    },
    {
     "name": "stderr",
     "output_type": "stream",
     "text": [
      "train.py:train():126: Epoch 1130 / 3000 -\t\t Train loss: 0.05259013921022415\tVal loss: 0.05282725393772125\tVal accuracy: 0.34983891248703003 INFO\n"
     ]
    },
    {
     "name": "stderr",
     "output_type": "stream",
     "text": [
      "train.py:train():126: Epoch 1140 / 3000 -\t\t Train loss: 0.052161410450935364\tVal loss: 0.05231565609574318\tVal accuracy: 0.3476562798023224 INFO\n"
     ]
    },
    {
     "name": "stderr",
     "output_type": "stream",
     "text": [
      "train.py:train():126: Epoch 1150 / 3000 -\t\t Train loss: 0.05004170536994934\tVal loss: 0.05044333264231682\tVal accuracy: 0.3481654226779938 INFO\n"
     ]
    },
    {
     "name": "stderr",
     "output_type": "stream",
     "text": [
      "train.py:train():126: Epoch 1160 / 3000 -\t\t Train loss: 0.050016921013593674\tVal loss: 0.050295598804950714\tVal accuracy: 0.3470052182674408 INFO\n"
     ]
    },
    {
     "name": "stderr",
     "output_type": "stream",
     "text": [
      "train.py:train():126: Epoch 1170 / 3000 -\t\t Train loss: 0.04906880110502243\tVal loss: 0.049377359449863434\tVal accuracy: 0.3369307816028595 INFO\n"
     ]
    },
    {
     "name": "stderr",
     "output_type": "stream",
     "text": [
      "train.py:train():126: Epoch 1180 / 3000 -\t\t Train loss: 0.04907386749982834\tVal loss: 0.04927567020058632\tVal accuracy: 0.351358026266098 INFO\n"
     ]
    },
    {
     "name": "stderr",
     "output_type": "stream",
     "text": [
      "train.py:train():126: Epoch 1190 / 3000 -\t\t Train loss: 0.04905569553375244\tVal loss: 0.049194008111953735\tVal accuracy: 0.34769800305366516 INFO\n"
     ]
    },
    {
     "name": "stderr",
     "output_type": "stream",
     "text": [
      "train.py:train():126: Epoch 1200 / 3000 -\t\t Train loss: 0.049041997641325\tVal loss: 0.04927876964211464\tVal accuracy: 0.3495926856994629 INFO\n"
     ]
    },
    {
     "name": "stderr",
     "output_type": "stream",
     "text": [
      "train.py:train():126: Epoch 1210 / 3000 -\t\t Train loss: 0.0494634285569191\tVal loss: 0.0494362898170948\tVal accuracy: 0.3459535539150238 INFO\n"
     ]
    },
    {
     "name": "stderr",
     "output_type": "stream",
     "text": [
      "train.py:train():126: Epoch 1220 / 3000 -\t\t Train loss: 0.049050554633140564\tVal loss: 0.049203597009181976\tVal accuracy: 0.3460829257965088 INFO\n"
     ]
    },
    {
     "name": "stderr",
     "output_type": "stream",
     "text": [
      "train.py:train():126: Epoch 1230 / 3000 -\t\t Train loss: 0.04902177304029465\tVal loss: 0.04921501502394676\tVal accuracy: 0.34529832005500793 INFO\n"
     ]
    },
    {
     "name": "stderr",
     "output_type": "stream",
     "text": [
      "train.py:train():126: Epoch 1240 / 3000 -\t\t Train loss: 0.04901226982474327\tVal loss: 0.049217451363801956\tVal accuracy: 0.3499015271663666 INFO\n"
     ]
    },
    {
     "name": "stderr",
     "output_type": "stream",
     "text": [
      "train.py:train():136: Early stopping triggered after 1248 epochs:\n",
      "Train loss: 0.04900697246193886\n",
      "Val loss: 0.04916113615036011\n",
      "Val accuracy: 0.35240551829338074\n",
      "Epochs no improvement: 1001 WARNING\n"
     ]
    },
    {
     "name": "stdout",
     "output_type": "stream",
     "text": [
      "Training complete: 0:22:57.036931\n"
     ]
    },
    {
     "name": "stdout",
     "output_type": "stream",
     "text": [
      "Warning: not using the test data for evaluation, but the training data instead of ../data/raw/summarise_simulation/2024_11_21_160955/tabulated_mutation_info.csv\n"
     ]
    },
    {
     "name": "stdout",
     "output_type": "stream",
     "text": [
      "The R2 score is  0.13535159826278687\n",
      "The R2 score with weighted variance is  0.13535159826278687\n"
     ]
    },
    {
     "name": "stderr",
     "output_type": "stream",
     "text": [
      "/workdir/src/evoscaper/utils/visualise.py:30: UserWarning: Creating legend with loc=\"best\" can be slow with large amounts of data.\n",
      "  plt.tight_layout()\n"
     ]
    },
    {
     "name": "stderr",
     "output_type": "stream",
     "text": [
      "/workdir/src/evoscaper/utils/visualise.py:32: UserWarning: Creating legend with loc=\"best\" can be slow with large amounts of data.\n",
      "  plt.savefig(save_path, transparent=True, dpi=300)\n"
     ]
    },
    {
     "name": "stdout",
     "output_type": "stream",
     "text": [
      "RESOURCE_EXHAUSTED: Failed to allocate request for 3.74GiB (4016777216B) on device ordinal 0\n"
     ]
    },
    {
     "name": "stderr",
     "output_type": "stream",
     "text": [
      "/tmp/ipykernel_1065353/1628586949.py:20: SettingWithCopyWarning: \n",
      "A value is trying to be set on a copy of a slice from a DataFrame\n",
      "\n",
      "See the caveats in the documentation: https://pandas.pydata.org/pandas-docs/stable/user_guide/indexing.html#returning-a-view-versus-a-copy\n",
      "  df_hpos_main.loc[i] = pd.Series(hpos) if type(hpos) == dict else hpos.drop('index')\n"
     ]
    },
    {
     "name": "stderr",
     "output_type": "stream",
     "text": [
      "train.py:train():126: Epoch 0 / 3000 -\t\t Train loss: 0.0850759968161583\tVal loss: 0.0551363080739975\tVal accuracy: 0.29670390486717224 INFO\n"
     ]
    },
    {
     "name": "stderr",
     "output_type": "stream",
     "text": [
      "train.py:train():126: Epoch 10 / 3000 -\t\t Train loss: 0.030824551358819008\tVal loss: 0.03185836225748062\tVal accuracy: 0.48193779587745667 INFO\n"
     ]
    },
    {
     "name": "stderr",
     "output_type": "stream",
     "text": [
      "train.py:train():126: Epoch 20 / 3000 -\t\t Train loss: 0.026893872767686844\tVal loss: 0.026539215818047523\tVal accuracy: 0.5126285552978516 INFO\n"
     ]
    },
    {
     "name": "stderr",
     "output_type": "stream",
     "text": [
      "train.py:train():126: Epoch 30 / 3000 -\t\t Train loss: 0.02632927894592285\tVal loss: 0.02641090378165245\tVal accuracy: 0.5097823143005371 INFO\n"
     ]
    },
    {
     "name": "stderr",
     "output_type": "stream",
     "text": [
      "train.py:train():126: Epoch 40 / 3000 -\t\t Train loss: 0.026056498289108276\tVal loss: 0.026679838076233864\tVal accuracy: 0.4996494650840759 INFO\n"
     ]
    },
    {
     "name": "stderr",
     "output_type": "stream",
     "text": [
      "train.py:train():126: Epoch 50 / 3000 -\t\t Train loss: 0.024763911962509155\tVal loss: 0.024495312944054604\tVal accuracy: 0.5364083051681519 INFO\n"
     ]
    },
    {
     "name": "stderr",
     "output_type": "stream",
     "text": [
      "train.py:train():126: Epoch 60 / 3000 -\t\t Train loss: 0.024756940081715584\tVal loss: 0.02728247083723545\tVal accuracy: 0.5234917998313904 INFO\n"
     ]
    },
    {
     "name": "stderr",
     "output_type": "stream",
     "text": [
      "train.py:train():126: Epoch 70 / 3000 -\t\t Train loss: 0.024635404348373413\tVal loss: 0.025970617309212685\tVal accuracy: 0.5195103883743286 INFO\n"
     ]
    },
    {
     "name": "stderr",
     "output_type": "stream",
     "text": [
      "train.py:train():126: Epoch 80 / 3000 -\t\t Train loss: 0.025537151843309402\tVal loss: 0.02437947876751423\tVal accuracy: 0.5128914713859558 INFO\n"
     ]
    },
    {
     "name": "stderr",
     "output_type": "stream",
     "text": [
      "train.py:train():126: Epoch 90 / 3000 -\t\t Train loss: 0.023353155702352524\tVal loss: 0.027000678703188896\tVal accuracy: 0.499979168176651 INFO\n"
     ]
    },
    {
     "name": "stderr",
     "output_type": "stream",
     "text": [
      "train.py:train():126: Epoch 100 / 3000 -\t\t Train loss: 0.026153337210416794\tVal loss: 0.02584678865969181\tVal accuracy: 0.5253280401229858 INFO\n"
     ]
    },
    {
     "name": "stderr",
     "output_type": "stream",
     "text": [
      "train.py:train():126: Epoch 110 / 3000 -\t\t Train loss: 0.024488624185323715\tVal loss: 0.02587718702852726\tVal accuracy: 0.5123739838600159 INFO\n"
     ]
    },
    {
     "name": "stderr",
     "output_type": "stream",
     "text": [
      "train.py:train():136: Early stopping triggered after 120 epochs:\n",
      "Train loss: nan\n",
      "Val loss: nan\n",
      "Val accuracy: 0.0\n",
      "Epochs no improvement: 43 WARNING\n"
     ]
    },
    {
     "name": "stdout",
     "output_type": "stream",
     "text": [
      "Training complete: 0:02:04.444379\n"
     ]
    },
    {
     "name": "stdout",
     "output_type": "stream",
     "text": [
      "Input contains NaN.\n"
     ]
    },
    {
     "name": "stderr",
     "output_type": "stream",
     "text": [
      "/tmp/ipykernel_1065353/1628586949.py:20: SettingWithCopyWarning: \n",
      "A value is trying to be set on a copy of a slice from a DataFrame\n",
      "\n",
      "See the caveats in the documentation: https://pandas.pydata.org/pandas-docs/stable/user_guide/indexing.html#returning-a-view-versus-a-copy\n",
      "  df_hpos_main.loc[i] = pd.Series(hpos) if type(hpos) == dict else hpos.drop('index')\n"
     ]
    },
    {
     "name": "stderr",
     "output_type": "stream",
     "text": [
      "train.py:train():126: Epoch 0 / 3000 -\t\t Train loss: 0.08749235421419144\tVal loss: 0.06654199212789536\tVal accuracy: 0.29001402854919434 INFO\n"
     ]
    },
    {
     "name": "stderr",
     "output_type": "stream",
     "text": [
      "train.py:train():126: Epoch 10 / 3000 -\t\t Train loss: 0.019887074828147888\tVal loss: 0.019441241398453712\tVal accuracy: 0.5958366990089417 INFO\n"
     ]
    },
    {
     "name": "stderr",
     "output_type": "stream",
     "text": [
      "train.py:train():126: Epoch 20 / 3000 -\t\t Train loss: 0.014573533087968826\tVal loss: 0.014112775214016438\tVal accuracy: 0.6928628087043762 INFO\n"
     ]
    },
    {
     "name": "stderr",
     "output_type": "stream",
     "text": [
      "train.py:train():126: Epoch 30 / 3000 -\t\t Train loss: 0.01393155287951231\tVal loss: 0.014116065576672554\tVal accuracy: 0.6965687274932861 INFO\n"
     ]
    },
    {
     "name": "stderr",
     "output_type": "stream",
     "text": [
      "train.py:train():126: Epoch 40 / 3000 -\t\t Train loss: 0.013053805567324162\tVal loss: 0.012454534880816936\tVal accuracy: 0.7349926829338074 INFO\n"
     ]
    },
    {
     "name": "stderr",
     "output_type": "stream",
     "text": [
      "train.py:train():126: Epoch 50 / 3000 -\t\t Train loss: 0.01232040487229824\tVal loss: 0.012447250075638294\tVal accuracy: 0.7323718070983887 INFO\n"
     ]
    },
    {
     "name": "stderr",
     "output_type": "stream",
     "text": [
      "train.py:train():126: Epoch 60 / 3000 -\t\t Train loss: 0.012882931157946587\tVal loss: 0.013867043890058994\tVal accuracy: 0.7327641248703003 INFO\n"
     ]
    },
    {
     "name": "stderr",
     "output_type": "stream",
     "text": [
      "train.py:train():126: Epoch 70 / 3000 -\t\t Train loss: 0.012046359479427338\tVal loss: 0.012022786773741245\tVal accuracy: 0.7285323739051819 INFO\n"
     ]
    },
    {
     "name": "stderr",
     "output_type": "stream",
     "text": [
      "train.py:train():126: Epoch 80 / 3000 -\t\t Train loss: 0.011545265093445778\tVal loss: 0.011464874260127544\tVal accuracy: 0.7370125651359558 INFO\n"
     ]
    },
    {
     "name": "stderr",
     "output_type": "stream",
     "text": [
      "train.py:train():126: Epoch 90 / 3000 -\t\t Train loss: 0.011990079656243324\tVal loss: 0.012185773812234402\tVal accuracy: 0.7183118462562561 INFO\n"
     ]
    },
    {
     "name": "stderr",
     "output_type": "stream",
     "text": [
      "train.py:train():126: Epoch 100 / 3000 -\t\t Train loss: 0.011384786106646061\tVal loss: 0.011219451203942299\tVal accuracy: 0.7526835203170776 INFO\n"
     ]
    },
    {
     "name": "stderr",
     "output_type": "stream",
     "text": [
      "train.py:train():126: Epoch 110 / 3000 -\t\t Train loss: 0.011396667920053005\tVal loss: 0.010966936126351357\tVal accuracy: 0.7515107989311218 INFO\n"
     ]
    },
    {
     "name": "stderr",
     "output_type": "stream",
     "text": [
      "train.py:train():126: Epoch 120 / 3000 -\t\t Train loss: 0.011237602680921555\tVal loss: 0.011409493163228035\tVal accuracy: 0.7385650873184204 INFO\n"
     ]
    },
    {
     "name": "stderr",
     "output_type": "stream",
     "text": [
      "train.py:train():126: Epoch 130 / 3000 -\t\t Train loss: 0.01126150880008936\tVal loss: 0.011538632214069366\tVal accuracy: 0.7298928499221802 INFO\n"
     ]
    },
    {
     "name": "stderr",
     "output_type": "stream",
     "text": [
      "train.py:train():126: Epoch 140 / 3000 -\t\t Train loss: 0.011190642602741718\tVal loss: 0.0108479680493474\tVal accuracy: 0.754611611366272 INFO\n"
     ]
    },
    {
     "name": "stderr",
     "output_type": "stream",
     "text": [
      "train.py:train():126: Epoch 150 / 3000 -\t\t Train loss: 0.011669282801449299\tVal loss: 0.011737200431525707\tVal accuracy: 0.738694429397583 INFO\n"
     ]
    },
    {
     "name": "stderr",
     "output_type": "stream",
     "text": [
      "train.py:train():126: Epoch 160 / 3000 -\t\t Train loss: 0.011351600289344788\tVal loss: 0.011662068776786327\tVal accuracy: 0.734713077545166 INFO\n"
     ]
    },
    {
     "name": "stderr",
     "output_type": "stream",
     "text": [
      "train.py:train():126: Epoch 170 / 3000 -\t\t Train loss: 0.011631758883595467\tVal loss: 0.011680063791573048\tVal accuracy: 0.737308919429779 INFO\n"
     ]
    },
    {
     "name": "stderr",
     "output_type": "stream",
     "text": [
      "train.py:train():126: Epoch 180 / 3000 -\t\t Train loss: 0.01133568026125431\tVal loss: 0.01114053837954998\tVal accuracy: 0.7458726167678833 INFO\n"
     ]
    },
    {
     "name": "stderr",
     "output_type": "stream",
     "text": [
      "train.py:train():126: Epoch 190 / 3000 -\t\t Train loss: 0.011183070950210094\tVal loss: 0.011059002950787544\tVal accuracy: 0.7606921195983887 INFO\n"
     ]
    },
    {
     "name": "stderr",
     "output_type": "stream",
     "text": [
      "train.py:train():126: Epoch 200 / 3000 -\t\t Train loss: 0.010836245492100716\tVal loss: 0.010749720968306065\tVal accuracy: 0.7542234659194946 INFO\n"
     ]
    },
    {
     "name": "stderr",
     "output_type": "stream",
     "text": [
      "train.py:train():126: Epoch 210 / 3000 -\t\t Train loss: 0.01123771071434021\tVal loss: 0.01142920646816492\tVal accuracy: 0.7545906901359558 INFO\n"
     ]
    },
    {
     "name": "stderr",
     "output_type": "stream",
     "text": [
      "train.py:train():126: Epoch 220 / 3000 -\t\t Train loss: 0.010858866386115551\tVal loss: 0.0108598368242383\tVal accuracy: 0.7617730498313904 INFO\n"
     ]
    },
    {
     "name": "stderr",
     "output_type": "stream",
     "text": [
      "train.py:train():126: Epoch 230 / 3000 -\t\t Train loss: nan\tVal loss: nan\tVal accuracy: 0.0 INFO\n"
     ]
    },
    {
     "name": "stderr",
     "output_type": "stream",
     "text": [
      "train.py:train():136: Early stopping triggered after 231 epochs:\n",
      "Train loss: nan\n",
      "Val loss: nan\n",
      "Val accuracy: 0.0\n",
      "Epochs no improvement: 11 WARNING\n"
     ]
    },
    {
     "name": "stdout",
     "output_type": "stream",
     "text": [
      "Training complete: 0:03:58.914548\n"
     ]
    },
    {
     "name": "stdout",
     "output_type": "stream",
     "text": [
      "Input contains NaN.\n"
     ]
    },
    {
     "name": "stderr",
     "output_type": "stream",
     "text": [
      "/tmp/ipykernel_1065353/1628586949.py:20: SettingWithCopyWarning: \n",
      "A value is trying to be set on a copy of a slice from a DataFrame\n",
      "\n",
      "See the caveats in the documentation: https://pandas.pydata.org/pandas-docs/stable/user_guide/indexing.html#returning-a-view-versus-a-copy\n",
      "  df_hpos_main.loc[i] = pd.Series(hpos) if type(hpos) == dict else hpos.drop('index')\n"
     ]
    },
    {
     "name": "stderr",
     "output_type": "stream",
     "text": [
      "train.py:train():126: Epoch 0 / 3000 -\t\t Train loss: 0.08396986871957779\tVal loss: 0.0557137168943882\tVal accuracy: 0.2979225218296051 INFO\n"
     ]
    },
    {
     "name": "stderr",
     "output_type": "stream",
     "text": [
      "train.py:train():126: Epoch 10 / 3000 -\t\t Train loss: 0.007545871660113335\tVal loss: 0.007346311584115028\tVal accuracy: 0.9041049480438232 INFO\n"
     ]
    },
    {
     "name": "stderr",
     "output_type": "stream",
     "text": [
      "train.py:train():126: Epoch 20 / 3000 -\t\t Train loss: 0.006114653777331114\tVal loss: 0.00604935921728611\tVal accuracy: 0.9259106516838074 INFO\n"
     ]
    },
    {
     "name": "stderr",
     "output_type": "stream",
     "text": [
      "train.py:train():126: Epoch 30 / 3000 -\t\t Train loss: 0.0057942490093410015\tVal loss: 0.005963821895420551\tVal accuracy: 0.924838125705719 INFO\n"
     ]
    },
    {
     "name": "stderr",
     "output_type": "stream",
     "text": [
      "train.py:train():126: Epoch 40 / 3000 -\t\t Train loss: 0.005602793302386999\tVal loss: 0.005679389461874962\tVal accuracy: 0.9319828748703003 INFO\n"
     ]
    },
    {
     "name": "stderr",
     "output_type": "stream",
     "text": [
      "train.py:train():126: Epoch 50 / 3000 -\t\t Train loss: 0.0055165886878967285\tVal loss: 0.005357144866138697\tVal accuracy: 0.9443944096565247 INFO\n"
     ]
    },
    {
     "name": "stderr",
     "output_type": "stream",
     "text": [
      "train.py:train():126: Epoch 60 / 3000 -\t\t Train loss: 0.005547617096453905\tVal loss: 0.005457771942019463\tVal accuracy: 0.9421658515930176 INFO\n"
     ]
    },
    {
     "name": "stderr",
     "output_type": "stream",
     "text": [
      "train.py:train():126: Epoch 70 / 3000 -\t\t Train loss: 0.005345185287296772\tVal loss: 0.005505721550434828\tVal accuracy: 0.9400040507316589 INFO\n"
     ]
    },
    {
     "name": "stderr",
     "output_type": "stream",
     "text": [
      "train.py:train():126: Epoch 80 / 3000 -\t\t Train loss: 0.005260999780148268\tVal loss: 0.005445408634841442\tVal accuracy: 0.9441481828689575 INFO\n"
     ]
    },
    {
     "name": "stderr",
     "output_type": "stream",
     "text": [
      "train.py:train():126: Epoch 90 / 3000 -\t\t Train loss: 0.005348327104002237\tVal loss: 0.005249000620096922\tVal accuracy: 0.9484926462173462 INFO\n"
     ]
    },
    {
     "name": "stderr",
     "output_type": "stream",
     "text": [
      "train.py:train():126: Epoch 100 / 3000 -\t\t Train loss: 0.005279530305415392\tVal loss: 0.005267991218715906\tVal accuracy: 0.9468525052070618 INFO\n"
     ]
    },
    {
     "name": "stderr",
     "output_type": "stream",
     "text": [
      "train.py:train():126: Epoch 110 / 3000 -\t\t Train loss: 0.005150021985173225\tVal loss: 0.005243765655905008\tVal accuracy: 0.9481545686721802 INFO\n"
     ]
    },
    {
     "name": "stderr",
     "output_type": "stream",
     "text": [
      "train.py:train():126: Epoch 120 / 3000 -\t\t Train loss: 0.0053650205954909325\tVal loss: 0.005429739598184824\tVal accuracy: 0.9412894248962402 INFO\n"
     ]
    },
    {
     "name": "stderr",
     "output_type": "stream",
     "text": [
      "train.py:train():126: Epoch 130 / 3000 -\t\t Train loss: 0.005106297787278891\tVal loss: 0.005151074845343828\tVal accuracy: 0.9492438435554504 INFO\n"
     ]
    },
    {
     "name": "stderr",
     "output_type": "stream",
     "text": [
      "train.py:train():126: Epoch 140 / 3000 -\t\t Train loss: 0.005128887481987476\tVal loss: 0.005058686248958111\tVal accuracy: 0.951050877571106 INFO\n"
     ]
    },
    {
     "name": "stderr",
     "output_type": "stream",
     "text": [
      "train.py:train():126: Epoch 150 / 3000 -\t\t Train loss: 0.005028558894991875\tVal loss: 0.0050558121874928474\tVal accuracy: 0.9552492499351501 INFO\n"
     ]
    },
    {
     "name": "stderr",
     "output_type": "stream",
     "text": [
      "train.py:train():126: Epoch 160 / 3000 -\t\t Train loss: 0.0051104300655424595\tVal loss: 0.005209728609770536\tVal accuracy: 0.9500659704208374 INFO\n"
     ]
    },
    {
     "name": "stderr",
     "output_type": "stream",
     "text": [
      "train.py:train():126: Epoch 170 / 3000 -\t\t Train loss: 0.005097458139061928\tVal loss: 0.004938893020153046\tVal accuracy: 0.956956148147583 INFO\n"
     ]
    },
    {
     "name": "stderr",
     "output_type": "stream",
     "text": [
      "train.py:train():126: Epoch 180 / 3000 -\t\t Train loss: 0.004981415346264839\tVal loss: 0.0051476797088980675\tVal accuracy: 0.9516518712043762 INFO\n"
     ]
    },
    {
     "name": "stderr",
     "output_type": "stream",
     "text": [
      "train.py:train():126: Epoch 190 / 3000 -\t\t Train loss: 0.005016866140067577\tVal loss: 0.005101163871586323\tVal accuracy: 0.9521151185035706 INFO\n"
     ]
    },
    {
     "name": "stderr",
     "output_type": "stream",
     "text": [
      "train.py:train():126: Epoch 200 / 3000 -\t\t Train loss: 0.005053369794040918\tVal loss: 0.004908202216029167\tVal accuracy: 0.9567850828170776 INFO\n"
     ]
    },
    {
     "name": "stderr",
     "output_type": "stream",
     "text": [
      "train.py:train():126: Epoch 210 / 3000 -\t\t Train loss: 0.004958160221576691\tVal loss: 0.0047951145097613335\tVal accuracy: 0.9616553783416748 INFO\n"
     ]
    },
    {
     "name": "stderr",
     "output_type": "stream",
     "text": [
      "train.py:train():126: Epoch 220 / 3000 -\t\t Train loss: 0.005242623388767242\tVal loss: 0.00510958768427372\tVal accuracy: 0.9501369595527649 INFO\n"
     ]
    },
    {
     "name": "stderr",
     "output_type": "stream",
     "text": [
      "train.py:train():126: Epoch 230 / 3000 -\t\t Train loss: 0.005224966909736395\tVal loss: 0.0051498147659003735\tVal accuracy: 0.9500868320465088 INFO\n"
     ]
    },
    {
     "name": "stderr",
     "output_type": "stream",
     "text": [
      "train.py:train():126: Epoch 240 / 3000 -\t\t Train loss: 0.005127379670739174\tVal loss: 0.0052637383341789246\tVal accuracy: 0.9467565417289734 INFO\n"
     ]
    },
    {
     "name": "stderr",
     "output_type": "stream",
     "text": [
      "train.py:train():126: Epoch 250 / 3000 -\t\t Train loss: 0.005212356802076101\tVal loss: 0.004828895907849073\tVal accuracy: 0.9598524570465088 INFO\n"
     ]
    },
    {
     "name": "stderr",
     "output_type": "stream",
     "text": [
      "train.py:train():126: Epoch 260 / 3000 -\t\t Train loss: 0.005038590170443058\tVal loss: 0.005076718516647816\tVal accuracy: 0.9517853856086731 INFO\n"
     ]
    },
    {
     "name": "stderr",
     "output_type": "stream",
     "text": [
      "train.py:train():126: Epoch 270 / 3000 -\t\t Train loss: 0.005034282337874174\tVal loss: 0.004907193593680859\tVal accuracy: 0.9589969515800476 INFO\n"
     ]
    },
    {
     "name": "stderr",
     "output_type": "stream",
     "text": [
      "train.py:train():126: Epoch 280 / 3000 -\t\t Train loss: 0.00494874594733119\tVal loss: 0.004885069560259581\tVal accuracy: 0.9589135050773621 INFO\n"
     ]
    },
    {
     "name": "stderr",
     "output_type": "stream",
     "text": [
      "train.py:train():126: Epoch 290 / 3000 -\t\t Train loss: 0.005035979673266411\tVal loss: 0.005037697963416576\tVal accuracy: 0.954255998134613 INFO\n"
     ]
    },
    {
     "name": "stderr",
     "output_type": "stream",
     "text": [
      "train.py:train():126: Epoch 300 / 3000 -\t\t Train loss: 0.0049043092876672745\tVal loss: 0.004885237663984299\tVal accuracy: 0.9589802622795105 INFO\n"
     ]
    },
    {
     "name": "stderr",
     "output_type": "stream",
     "text": [
      "train.py:train():126: Epoch 310 / 3000 -\t\t Train loss: 0.0049593038856983185\tVal loss: 0.0049294657073915005\tVal accuracy: 0.958863377571106 INFO\n"
     ]
    },
    {
     "name": "stderr",
     "output_type": "stream",
     "text": [
      "train.py:train():126: Epoch 320 / 3000 -\t\t Train loss: 0.005057917442172766\tVal loss: 0.005034944042563438\tVal accuracy: 0.952411413192749 INFO\n"
     ]
    },
    {
     "name": "stderr",
     "output_type": "stream",
     "text": [
      "train.py:train():126: Epoch 330 / 3000 -\t\t Train loss: 0.004994737450033426\tVal loss: 0.004883445333689451\tVal accuracy: 0.9605869650840759 INFO\n"
     ]
    },
    {
     "name": "stderr",
     "output_type": "stream",
     "text": [
      "train.py:train():126: Epoch 340 / 3000 -\t\t Train loss: 0.004992704372853041\tVal loss: 0.005011285655200481\tVal accuracy: 0.9531041979789734 INFO\n"
     ]
    },
    {
     "name": "stderr",
     "output_type": "stream",
     "text": [
      "train.py:train():126: Epoch 350 / 3000 -\t\t Train loss: 0.005034317262470722\tVal loss: 0.005026697181165218\tVal accuracy: 0.9544438123703003 INFO\n"
     ]
    },
    {
     "name": "stderr",
     "output_type": "stream",
     "text": [
      "train.py:train():126: Epoch 360 / 3000 -\t\t Train loss: 0.004974925424903631\tVal loss: 0.005004341714084148\tVal accuracy: 0.9543395042419434 INFO\n"
     ]
    },
    {
     "name": "stderr",
     "output_type": "stream",
     "text": [
      "train.py:train():126: Epoch 370 / 3000 -\t\t Train loss: 0.004881692118942738\tVal loss: 0.004845328629016876\tVal accuracy: 0.9595853686332703 INFO\n"
     ]
    },
    {
     "name": "stderr",
     "output_type": "stream",
     "text": [
      "train.py:train():126: Epoch 380 / 3000 -\t\t Train loss: 0.004809329751878977\tVal loss: 0.004851055331528187\tVal accuracy: 0.9597064256668091 INFO\n"
     ]
    },
    {
     "name": "stderr",
     "output_type": "stream",
     "text": [
      "train.py:train():126: Epoch 390 / 3000 -\t\t Train loss: 0.004808750469237566\tVal loss: 0.004765626043081284\tVal accuracy: 0.960637092590332 INFO\n"
     ]
    },
    {
     "name": "stderr",
     "output_type": "stream",
     "text": [
      "train.py:train():126: Epoch 400 / 3000 -\t\t Train loss: 0.0048299990594387054\tVal loss: 0.004761788062751293\tVal accuracy: 0.959994375705719 INFO\n"
     ]
    },
    {
     "name": "stderr",
     "output_type": "stream",
     "text": [
      "train.py:train():126: Epoch 410 / 3000 -\t\t Train loss: 0.007449868135154247\tVal loss: 0.006335408892482519\tVal accuracy: 0.9184278845787048 INFO\n"
     ]
    },
    {
     "name": "stderr",
     "output_type": "stream",
     "text": [
      "train.py:train():126: Epoch 420 / 3000 -\t\t Train loss: 0.005151274148374796\tVal loss: 0.005024826154112816\tVal accuracy: 0.9524781703948975 INFO\n"
     ]
    },
    {
     "name": "stderr",
     "output_type": "stream",
     "text": [
      "train.py:train():126: Epoch 430 / 3000 -\t\t Train loss: 0.005041403230279684\tVal loss: 0.00501363817602396\tVal accuracy: 0.9568184614181519 INFO\n"
     ]
    },
    {
     "name": "stderr",
     "output_type": "stream",
     "text": [
      "train.py:train():126: Epoch 440 / 3000 -\t\t Train loss: 0.005126136355102062\tVal loss: 0.00518710445612669\tVal accuracy: 0.9505667686462402 INFO\n"
     ]
    },
    {
     "name": "stderr",
     "output_type": "stream",
     "text": [
      "train.py:train():126: Epoch 450 / 3000 -\t\t Train loss: 0.005175808444619179\tVal loss: 0.005099652335047722\tVal accuracy: 0.9530206918716431 INFO\n"
     ]
    },
    {
     "name": "stderr",
     "output_type": "stream",
     "text": [
      "train.py:train():126: Epoch 460 / 3000 -\t\t Train loss: 0.005039126146584749\tVal loss: 0.005073390901088715\tVal accuracy: 0.9530165195465088 INFO\n"
     ]
    },
    {
     "name": "stderr",
     "output_type": "stream",
     "text": [
      "train.py:train():126: Epoch 470 / 3000 -\t\t Train loss: 0.0048721665516495705\tVal loss: 0.004873486235737801\tVal accuracy: 0.959322452545166 INFO\n"
     ]
    },
    {
     "name": "stderr",
     "output_type": "stream",
     "text": [
      "train.py:train():126: Epoch 480 / 3000 -\t\t Train loss: 0.004854382481426001\tVal loss: 0.004848756827414036\tVal accuracy: 0.9599526524543762 INFO\n"
     ]
    },
    {
     "name": "stderr",
     "output_type": "stream",
     "text": [
      "train.py:train():126: Epoch 490 / 3000 -\t\t Train loss: 0.004865945316851139\tVal loss: 0.0046547530218958855\tVal accuracy: 0.9642553329467773 INFO\n"
     ]
    },
    {
     "name": "stderr",
     "output_type": "stream",
     "text": [
      "train.py:train():126: Epoch 500 / 3000 -\t\t Train loss: 0.004844554699957371\tVal loss: 0.004782729782164097\tVal accuracy: 0.960895836353302 INFO\n"
     ]
    },
    {
     "name": "stderr",
     "output_type": "stream",
     "text": [
      "train.py:train():126: Epoch 510 / 3000 -\t\t Train loss: 0.004821325186640024\tVal loss: 0.004878799431025982\tVal accuracy: 0.9593725204467773 INFO\n"
     ]
    },
    {
     "name": "stderr",
     "output_type": "stream",
     "text": [
      "train.py:train():126: Epoch 520 / 3000 -\t\t Train loss: 0.004777815658599138\tVal loss: 0.004849652294069529\tVal accuracy: 0.9616929292678833 INFO\n"
     ]
    },
    {
     "name": "stderr",
     "output_type": "stream",
     "text": [
      "train.py:train():126: Epoch 530 / 3000 -\t\t Train loss: 0.0052179088816046715\tVal loss: 0.004961496219038963\tVal accuracy: 0.9599693417549133 INFO\n"
     ]
    },
    {
     "name": "stderr",
     "output_type": "stream",
     "text": [
      "train.py:train():126: Epoch 540 / 3000 -\t\t Train loss: 0.004850244615226984\tVal loss: 0.004861685447394848\tVal accuracy: 0.9583333730697632 INFO\n"
     ]
    },
    {
     "name": "stderr",
     "output_type": "stream",
     "text": [
      "train.py:train():126: Epoch 550 / 3000 -\t\t Train loss: 0.004968884401023388\tVal loss: 0.004947017878293991\tVal accuracy: 0.9563510417938232 INFO\n"
     ]
    },
    {
     "name": "stderr",
     "output_type": "stream",
     "text": [
      "train.py:train():126: Epoch 560 / 3000 -\t\t Train loss: 0.0050135161727666855\tVal loss: 0.005072435364127159\tVal accuracy: 0.9539847373962402 INFO\n"
     ]
    },
    {
     "name": "stderr",
     "output_type": "stream",
     "text": [
      "train.py:train():126: Epoch 570 / 3000 -\t\t Train loss: 0.0049615176394581795\tVal loss: 0.004950092174112797\tVal accuracy: 0.9554997086524963 INFO\n"
     ]
    },
    {
     "name": "stderr",
     "output_type": "stream",
     "text": [
      "train.py:train():126: Epoch 580 / 3000 -\t\t Train loss: 0.004983947146683931\tVal loss: 0.005070491693913937\tVal accuracy: 0.9508589506149292 INFO\n"
     ]
    },
    {
     "name": "stderr",
     "output_type": "stream",
     "text": [
      "train.py:train():126: Epoch 590 / 3000 -\t\t Train loss: 0.00487064104527235\tVal loss: 0.004760417155921459\tVal accuracy: 0.9615676999092102 INFO\n"
     ]
    },
    {
     "name": "stderr",
     "output_type": "stream",
     "text": [
      "train.py:train():126: Epoch 600 / 3000 -\t\t Train loss: 0.004771040752530098\tVal loss: 0.004737669602036476\tVal accuracy: 0.9602197408676147 INFO\n"
     ]
    },
    {
     "name": "stderr",
     "output_type": "stream",
     "text": [
      "train.py:train():126: Epoch 610 / 3000 -\t\t Train loss: 0.004855866078287363\tVal loss: 0.00476820208132267\tVal accuracy: 0.9600819945335388 INFO\n"
     ]
    },
    {
     "name": "stderr",
     "output_type": "stream",
     "text": [
      "train.py:train():126: Epoch 620 / 3000 -\t\t Train loss: 0.004874282982200384\tVal loss: 0.004774253815412521\tVal accuracy: 0.9599735140800476 INFO\n"
     ]
    },
    {
     "name": "stderr",
     "output_type": "stream",
     "text": [
      "train.py:train():126: Epoch 630 / 3000 -\t\t Train loss: 0.004980603698641062\tVal loss: 0.005006326362490654\tVal accuracy: 0.957248330116272 INFO\n"
     ]
    },
    {
     "name": "stderr",
     "output_type": "stream",
     "text": [
      "train.py:train():126: Epoch 640 / 3000 -\t\t Train loss: 0.004889733158051968\tVal loss: 0.004868239630013704\tVal accuracy: 0.9600235819816589 INFO\n"
     ]
    },
    {
     "name": "stderr",
     "output_type": "stream",
     "text": [
      "train.py:train():126: Epoch 650 / 3000 -\t\t Train loss: 0.004741016309708357\tVal loss: 0.004689247813075781\tVal accuracy: 0.9650357961654663 INFO\n"
     ]
    },
    {
     "name": "stderr",
     "output_type": "stream",
     "text": [
      "train.py:train():126: Epoch 660 / 3000 -\t\t Train loss: 0.004854387603700161\tVal loss: 0.0047743115574121475\tVal accuracy: 0.962769627571106 INFO\n"
     ]
    },
    {
     "name": "stderr",
     "output_type": "stream",
     "text": [
      "train.py:train():126: Epoch 670 / 3000 -\t\t Train loss: 0.004765224177390337\tVal loss: 0.004857896827161312\tVal accuracy: 0.9589719176292419 INFO\n"
     ]
    },
    {
     "name": "stderr",
     "output_type": "stream",
     "text": [
      "train.py:train():126: Epoch 680 / 3000 -\t\t Train loss: 0.0048853736370801926\tVal loss: 0.004878922365605831\tVal accuracy: 0.9593600034713745 INFO\n"
     ]
    },
    {
     "name": "stderr",
     "output_type": "stream",
     "text": [
      "train.py:train():126: Epoch 690 / 3000 -\t\t Train loss: 0.004815376829355955\tVal loss: 0.00482940673828125\tVal accuracy: 0.9617346525192261 INFO\n"
     ]
    },
    {
     "name": "stderr",
     "output_type": "stream",
     "text": [
      "train.py:train():126: Epoch 700 / 3000 -\t\t Train loss: 0.00484276982024312\tVal loss: 0.00475125340744853\tVal accuracy: 0.9633581042289734 INFO\n"
     ]
    },
    {
     "name": "stderr",
     "output_type": "stream",
     "text": [
      "train.py:train():126: Epoch 710 / 3000 -\t\t Train loss: 0.004769700579345226\tVal loss: 0.004797746427357197\tVal accuracy: 0.960374116897583 INFO\n"
     ]
    },
    {
     "name": "stderr",
     "output_type": "stream",
     "text": [
      "train.py:train():126: Epoch 720 / 3000 -\t\t Train loss: 0.004744900856167078\tVal loss: 0.004820754751563072\tVal accuracy: 0.9645850658416748 INFO\n"
     ]
    },
    {
     "name": "stderr",
     "output_type": "stream",
     "text": [
      "train.py:train():126: Epoch 730 / 3000 -\t\t Train loss: 0.004743829369544983\tVal loss: 0.004838434513658285\tVal accuracy: 0.9613339900970459 INFO\n"
     ]
    },
    {
     "name": "stderr",
     "output_type": "stream",
     "text": [
      "train.py:train():126: Epoch 740 / 3000 -\t\t Train loss: 0.004858621396124363\tVal loss: 0.004806276876479387\tVal accuracy: 0.9628698229789734 INFO\n"
     ]
    },
    {
     "name": "stderr",
     "output_type": "stream",
     "text": [
      "train.py:train():126: Epoch 750 / 3000 -\t\t Train loss: 0.00480694929137826\tVal loss: 0.004783643409609795\tVal accuracy: 0.9634415507316589 INFO\n"
     ]
    },
    {
     "name": "stderr",
     "output_type": "stream",
     "text": [
      "train.py:train():126: Epoch 760 / 3000 -\t\t Train loss: 0.0048015848733484745\tVal loss: 0.00468981359153986\tVal accuracy: 0.9662377238273621 INFO\n"
     ]
    },
    {
     "name": "stderr",
     "output_type": "stream",
     "text": [
      "train.py:train():126: Epoch 770 / 3000 -\t\t Train loss: 0.004781374242156744\tVal loss: 0.004808872006833553\tVal accuracy: 0.9621186256408691 INFO\n"
     ]
    },
    {
     "name": "stderr",
     "output_type": "stream",
     "text": [
      "train.py:train():126: Epoch 780 / 3000 -\t\t Train loss: 0.004721866454929113\tVal loss: 0.004735860042273998\tVal accuracy: 0.9645308256149292 INFO\n"
     ]
    },
    {
     "name": "stderr",
     "output_type": "stream",
     "text": [
      "train.py:train():126: Epoch 790 / 3000 -\t\t Train loss: 0.0047611151821911335\tVal loss: 0.004712245427072048\tVal accuracy: 0.9632871150970459 INFO\n"
     ]
    },
    {
     "name": "stderr",
     "output_type": "stream",
     "text": [
      "train.py:train():126: Epoch 800 / 3000 -\t\t Train loss: 0.004714360926300287\tVal loss: 0.004691112786531448\tVal accuracy: 0.9650274515151978 INFO\n"
     ]
    },
    {
     "name": "stderr",
     "output_type": "stream",
     "text": [
      "train.py:train():126: Epoch 810 / 3000 -\t\t Train loss: 0.004734104033559561\tVal loss: 0.004656405188143253\tVal accuracy: 0.9670222997665405 INFO\n"
     ]
    },
    {
     "name": "stderr",
     "output_type": "stream",
     "text": [
      "train.py:train():126: Epoch 820 / 3000 -\t\t Train loss: 0.004747382365167141\tVal loss: 0.004680082201957703\tVal accuracy: 0.9644848704338074 INFO\n"
     ]
    },
    {
     "name": "stderr",
     "output_type": "stream",
     "text": [
      "train.py:train():126: Epoch 830 / 3000 -\t\t Train loss: 0.004592123441398144\tVal loss: 0.004576891660690308\tVal accuracy: 0.9700437784194946 INFO\n"
     ]
    },
    {
     "name": "stderr",
     "output_type": "stream",
     "text": [
      "train.py:train():126: Epoch 840 / 3000 -\t\t Train loss: 0.004665111191570759\tVal loss: 0.004623249638825655\tVal accuracy: 0.9687667489051819 INFO\n"
     ]
    },
    {
     "name": "stderr",
     "output_type": "stream",
     "text": [
      "train.py:train():126: Epoch 850 / 3000 -\t\t Train loss: 0.0045983572490513325\tVal loss: 0.004641221836209297\tVal accuracy: 0.9690046310424805 INFO\n"
     ]
    },
    {
     "name": "stderr",
     "output_type": "stream",
     "text": [
      "train.py:train():126: Epoch 860 / 3000 -\t\t Train loss: 0.004609851166605949\tVal loss: 0.00452464772388339\tVal accuracy: 0.9715795516967773 INFO\n"
     ]
    },
    {
     "name": "stderr",
     "output_type": "stream",
     "text": [
      "train.py:train():126: Epoch 870 / 3000 -\t\t Train loss: 0.004674901720136404\tVal loss: 0.004694729577749968\tVal accuracy: 0.9648938775062561 INFO\n"
     ]
    },
    {
     "name": "stderr",
     "output_type": "stream",
     "text": [
      "train.py:train():126: Epoch 880 / 3000 -\t\t Train loss: 0.004635225981473923\tVal loss: 0.004674003459513187\tVal accuracy: 0.9679111838340759 INFO\n"
     ]
    },
    {
     "name": "stderr",
     "output_type": "stream",
     "text": [
      "train.py:train():126: Epoch 890 / 3000 -\t\t Train loss: 0.0047783697955310345\tVal loss: 0.004741080105304718\tVal accuracy: 0.9664004445075989 INFO\n"
     ]
    },
    {
     "name": "stderr",
     "output_type": "stream",
     "text": [
      "train.py:train():126: Epoch 900 / 3000 -\t\t Train loss: 0.00491541251540184\tVal loss: 0.0049546645022928715\tVal accuracy: 0.9590511918067932 INFO\n"
     ]
    },
    {
     "name": "stderr",
     "output_type": "stream",
     "text": [
      "train.py:train():126: Epoch 910 / 3000 -\t\t Train loss: 0.004873374477028847\tVal loss: 0.00488092377781868\tVal accuracy: 0.9606329202651978 INFO\n"
     ]
    },
    {
     "name": "stderr",
     "output_type": "stream",
     "text": [
      "train.py:train():126: Epoch 920 / 3000 -\t\t Train loss: 0.005012283567339182\tVal loss: 0.005042657256126404\tVal accuracy: 0.9556165337562561 INFO\n"
     ]
    },
    {
     "name": "stderr",
     "output_type": "stream",
     "text": [
      "train.py:train():126: Epoch 930 / 3000 -\t\t Train loss: 0.005047407001256943\tVal loss: 0.004883662797510624\tVal accuracy: 0.9612672328948975 INFO\n"
     ]
    },
    {
     "name": "stderr",
     "output_type": "stream",
     "text": [
      "train.py:train():126: Epoch 940 / 3000 -\t\t Train loss: 0.004755391273647547\tVal loss: 0.004908968694508076\tVal accuracy: 0.9605535864830017 INFO\n"
     ]
    },
    {
     "name": "stderr",
     "output_type": "stream",
     "text": [
      "train.py:train():126: Epoch 950 / 3000 -\t\t Train loss: 0.004686759784817696\tVal loss: 0.004625641740858555\tVal accuracy: 0.9677276015281677 INFO\n"
     ]
    },
    {
     "name": "stderr",
     "output_type": "stream",
     "text": [
      "train.py:train():126: Epoch 960 / 3000 -\t\t Train loss: 0.00471819331869483\tVal loss: 0.0046864771284163\tVal accuracy: 0.9668470025062561 INFO\n"
     ]
    },
    {
     "name": "stderr",
     "output_type": "stream",
     "text": [
      "train.py:train():126: Epoch 970 / 3000 -\t\t Train loss: 0.004647956695407629\tVal loss: 0.004700209945440292\tVal accuracy: 0.966083288192749 INFO\n"
     ]
    },
    {
     "name": "stderr",
     "output_type": "stream",
     "text": [
      "train.py:train():126: Epoch 980 / 3000 -\t\t Train loss: 0.004613504279404879\tVal loss: 0.004613732919096947\tVal accuracy: 0.9680489301681519 INFO\n"
     ]
    },
    {
     "name": "stderr",
     "output_type": "stream",
     "text": [
      "train.py:train():126: Epoch 990 / 3000 -\t\t Train loss: 0.00464146351441741\tVal loss: 0.004695223644375801\tVal accuracy: 0.9646726846694946 INFO\n"
     ]
    },
    {
     "name": "stderr",
     "output_type": "stream",
     "text": [
      "train.py:train():126: Epoch 1000 / 3000 -\t\t Train loss: 0.004780496004968882\tVal loss: 0.004864932037889957\tVal accuracy: 0.9624733328819275 INFO\n"
     ]
    },
    {
     "name": "stderr",
     "output_type": "stream",
     "text": [
      "train.py:train():126: Epoch 1010 / 3000 -\t\t Train loss: 0.004793263506144285\tVal loss: 0.004754350520670414\tVal accuracy: 0.9631327390670776 INFO\n"
     ]
    },
    {
     "name": "stderr",
     "output_type": "stream",
     "text": [
      "train.py:train():126: Epoch 1020 / 3000 -\t\t Train loss: 0.004682202823460102\tVal loss: 0.004715438932180405\tVal accuracy: 0.9639089703559875 INFO\n"
     ]
    },
    {
     "name": "stderr",
     "output_type": "stream",
     "text": [
      "train.py:train():126: Epoch 1030 / 3000 -\t\t Train loss: 0.004691941197961569\tVal loss: 0.004611019045114517\tVal accuracy: 0.9683577418327332 INFO\n"
     ]
    },
    {
     "name": "stderr",
     "output_type": "stream",
     "text": [
      "train.py:train():126: Epoch 1040 / 3000 -\t\t Train loss: 0.0047264075838029385\tVal loss: 0.004687953274697065\tVal accuracy: 0.9647102355957031 INFO\n"
     ]
    },
    {
     "name": "stderr",
     "output_type": "stream",
     "text": [
      "train.py:train():126: Epoch 1050 / 3000 -\t\t Train loss: 0.004706734791398048\tVal loss: 0.004735901486128569\tVal accuracy: 0.9651150703430176 INFO\n"
     ]
    },
    {
     "name": "stderr",
     "output_type": "stream",
     "text": [
      "train.py:train():126: Epoch 1060 / 3000 -\t\t Train loss: 0.004717853385955095\tVal loss: 0.0046952152624726295\tVal accuracy: 0.9655574560165405 INFO\n"
     ]
    },
    {
     "name": "stderr",
     "output_type": "stream",
     "text": [
      "train.py:train():126: Epoch 1070 / 3000 -\t\t Train loss: 0.004763979464769363\tVal loss: 0.0065036965534091\tVal accuracy: 0.9222923517227173 INFO\n"
     ]
    },
    {
     "name": "stderr",
     "output_type": "stream",
     "text": [
      "train.py:train():126: Epoch 1080 / 3000 -\t\t Train loss: 0.004717078059911728\tVal loss: 0.004703570622950792\tVal accuracy: 0.967364490032196 INFO\n"
     ]
    },
    {
     "name": "stderr",
     "output_type": "stream",
     "text": [
      "train.py:train():126: Epoch 1090 / 3000 -\t\t Train loss: 0.004656023811548948\tVal loss: 0.004747240804135799\tVal accuracy: 0.9646601676940918 INFO\n"
     ]
    },
    {
     "name": "stderr",
     "output_type": "stream",
     "text": [
      "train.py:train():126: Epoch 1100 / 3000 -\t\t Train loss: 0.004692186135798693\tVal loss: 0.004665618762373924\tVal accuracy: 0.9680989980697632 INFO\n"
     ]
    },
    {
     "name": "stderr",
     "output_type": "stream",
     "text": [
      "train.py:train():126: Epoch 1110 / 3000 -\t\t Train loss: 0.004759085364639759\tVal loss: 0.004853480961173773\tVal accuracy: 0.9595102667808533 INFO\n"
     ]
    },
    {
     "name": "stderr",
     "output_type": "stream",
     "text": [
      "train.py:train():126: Epoch 1120 / 3000 -\t\t Train loss: 0.0048559000715613365\tVal loss: 0.004870393313467503\tVal accuracy: 0.9623105525970459 INFO\n"
     ]
    },
    {
     "name": "stderr",
     "output_type": "stream",
     "text": [
      "train.py:train():126: Epoch 1130 / 3000 -\t\t Train loss: 0.004776040092110634\tVal loss: 0.004627744667232037\tVal accuracy: 0.9672476649284363 INFO\n"
     ]
    },
    {
     "name": "stderr",
     "output_type": "stream",
     "text": [
      "train.py:train():126: Epoch 1140 / 3000 -\t\t Train loss: 0.004806357901543379\tVal loss: 0.004868191666901112\tVal accuracy: 0.9595978856086731 INFO\n"
     ]
    },
    {
     "name": "stderr",
     "output_type": "stream",
     "text": [
      "train.py:train():126: Epoch 1150 / 3000 -\t\t Train loss: 0.004735390190035105\tVal loss: 0.004668727982789278\tVal accuracy: 0.963337242603302 INFO\n"
     ]
    },
    {
     "name": "stderr",
     "output_type": "stream",
     "text": [
      "train.py:train():126: Epoch 1160 / 3000 -\t\t Train loss: 0.004701843019574881\tVal loss: 0.004700740799307823\tVal accuracy: 0.9634999632835388 INFO\n"
     ]
    },
    {
     "name": "stderr",
     "output_type": "stream",
     "text": [
      "train.py:train():126: Epoch 1170 / 3000 -\t\t Train loss: 0.004931989591568708\tVal loss: 0.0049657439813017845\tVal accuracy: 0.9548861980438232 INFO\n"
     ]
    },
    {
     "name": "stderr",
     "output_type": "stream",
     "text": [
      "train.py:train():126: Epoch 1180 / 3000 -\t\t Train loss: 0.004810371436178684\tVal loss: 0.004778225440531969\tVal accuracy: 0.9600903391838074 INFO\n"
     ]
    },
    {
     "name": "stderr",
     "output_type": "stream",
     "text": [
      "train.py:train():126: Epoch 1190 / 3000 -\t\t Train loss: 0.004662119783461094\tVal loss: 0.004743676632642746\tVal accuracy: 0.9630534052848816 INFO\n"
     ]
    },
    {
     "name": "stderr",
     "output_type": "stream",
     "text": [
      "train.py:train():126: Epoch 1200 / 3000 -\t\t Train loss: 0.004644899629056454\tVal loss: 0.004655768163502216\tVal accuracy: 0.9661500453948975 INFO\n"
     ]
    },
    {
     "name": "stderr",
     "output_type": "stream",
     "text": [
      "train.py:train():126: Epoch 1210 / 3000 -\t\t Train loss: 0.004544886294752359\tVal loss: 0.004640620667487383\tVal accuracy: 0.9655324220657349 INFO\n"
     ]
    },
    {
     "name": "stderr",
     "output_type": "stream",
     "text": [
      "train.py:train():126: Epoch 1220 / 3000 -\t\t Train loss: 0.0045954580418765545\tVal loss: 0.004632988478988409\tVal accuracy: 0.9647269248962402 INFO\n"
     ]
    },
    {
     "name": "stderr",
     "output_type": "stream",
     "text": [
      "train.py:train():126: Epoch 1230 / 3000 -\t\t Train loss: 0.004683544393628836\tVal loss: 0.004651734605431557\tVal accuracy: 0.9655658006668091 INFO\n"
     ]
    },
    {
     "name": "stderr",
     "output_type": "stream",
     "text": [
      "train.py:train():126: Epoch 1240 / 3000 -\t\t Train loss: 0.0047283293679356575\tVal loss: 0.004646815359592438\tVal accuracy: 0.9640425443649292 INFO\n"
     ]
    },
    {
     "name": "stderr",
     "output_type": "stream",
     "text": [
      "train.py:train():126: Epoch 1250 / 3000 -\t\t Train loss: 0.0047704558819532394\tVal loss: 0.004728031810373068\tVal accuracy: 0.9620518088340759 INFO\n"
     ]
    },
    {
     "name": "stderr",
     "output_type": "stream",
     "text": [
      "train.py:train():126: Epoch 1260 / 3000 -\t\t Train loss: 0.004674816038459539\tVal loss: 0.004875469021499157\tVal accuracy: 0.9616178274154663 INFO\n"
     ]
    },
    {
     "name": "stderr",
     "output_type": "stream",
     "text": [
      "train.py:train():126: Epoch 1270 / 3000 -\t\t Train loss: 0.0047247582115232944\tVal loss: 0.0048447344452142715\tVal accuracy: 0.9631577730178833 INFO\n"
     ]
    },
    {
     "name": "stderr",
     "output_type": "stream",
     "text": [
      "train.py:train():126: Epoch 1280 / 3000 -\t\t Train loss: 0.004645196255296469\tVal loss: 0.004667577799409628\tVal accuracy: 0.968829333782196 INFO\n"
     ]
    },
    {
     "name": "stderr",
     "output_type": "stream",
     "text": [
      "train.py:train():126: Epoch 1290 / 3000 -\t\t Train loss: 0.0046156891621649265\tVal loss: 0.004596709739416838\tVal accuracy: 0.9713124632835388 INFO\n"
     ]
    },
    {
     "name": "stderr",
     "output_type": "stream",
     "text": [
      "train.py:train():126: Epoch 1300 / 3000 -\t\t Train loss: 0.004598235711455345\tVal loss: 0.004564953967928886\tVal accuracy: 0.969117283821106 INFO\n"
     ]
    },
    {
     "name": "stderr",
     "output_type": "stream",
     "text": [
      "train.py:train():126: Epoch 1310 / 3000 -\t\t Train loss: 0.004487427417188883\tVal loss: 0.004481262061744928\tVal accuracy: 0.973407506942749 INFO\n"
     ]
    },
    {
     "name": "stderr",
     "output_type": "stream",
     "text": [
      "train.py:train():126: Epoch 1320 / 3000 -\t\t Train loss: 0.004493364132940769\tVal loss: 0.004676636308431625\tVal accuracy: 0.9663044810295105 INFO\n"
     ]
    },
    {
     "name": "stderr",
     "output_type": "stream",
     "text": [
      "train.py:train():126: Epoch 1330 / 3000 -\t\t Train loss: 0.0045793429017066956\tVal loss: 0.00455568078905344\tVal accuracy: 0.9687417149543762 INFO\n"
     ]
    },
    {
     "name": "stderr",
     "output_type": "stream",
     "text": [
      "train.py:train():126: Epoch 1340 / 3000 -\t\t Train loss: 0.0045374976471066475\tVal loss: 0.004542735405266285\tVal accuracy: 0.9697099328041077 INFO\n"
     ]
    },
    {
     "name": "stderr",
     "output_type": "stream",
     "text": [
      "train.py:train():126: Epoch 1350 / 3000 -\t\t Train loss: 0.004581907764077187\tVal loss: 0.004603933542966843\tVal accuracy: 0.9674437642097473 INFO\n"
     ]
    },
    {
     "name": "stderr",
     "output_type": "stream",
     "text": [
      "train.py:train():126: Epoch 1360 / 3000 -\t\t Train loss: 0.004543189890682697\tVal loss: 0.004492764826864004\tVal accuracy: 0.9701105356216431 INFO\n"
     ]
    },
    {
     "name": "stderr",
     "output_type": "stream",
     "text": [
      "train.py:train():126: Epoch 1370 / 3000 -\t\t Train loss: 0.005258610472083092\tVal loss: 0.005139036104083061\tVal accuracy: 0.9503414034843445 INFO\n"
     ]
    },
    {
     "name": "stderr",
     "output_type": "stream",
     "text": [
      "train.py:train():126: Epoch 1380 / 3000 -\t\t Train loss: 0.005195828154683113\tVal loss: 0.005209396127611399\tVal accuracy: 0.9478999972343445 INFO\n"
     ]
    },
    {
     "name": "stderr",
     "output_type": "stream",
     "text": [
      "train.py:train():126: Epoch 1390 / 3000 -\t\t Train loss: 0.00513896718621254\tVal loss: 0.005117647349834442\tVal accuracy: 0.9524573087692261 INFO\n"
     ]
    },
    {
     "name": "stderr",
     "output_type": "stream",
     "text": [
      "train.py:train():126: Epoch 1400 / 3000 -\t\t Train loss: 0.00513418996706605\tVal loss: 0.005055194720625877\tVal accuracy: 0.9519064426422119 INFO\n"
     ]
    },
    {
     "name": "stderr",
     "output_type": "stream",
     "text": [
      "train.py:train():126: Epoch 1410 / 3000 -\t\t Train loss: 0.005016278009861708\tVal loss: 0.005068979226052761\tVal accuracy: 0.9506001472473145 INFO\n"
     ]
    },
    {
     "name": "stderr",
     "output_type": "stream",
     "text": [
      "train.py:train():126: Epoch 1420 / 3000 -\t\t Train loss: 0.00500243715941906\tVal loss: 0.00510788569226861\tVal accuracy: 0.9485594034194946 INFO\n"
     ]
    },
    {
     "name": "stdout",
     "output_type": "stream",
     "text": [
      "RESOURCE_EXHAUSTED: Failed to allocate request for 4.88MiB (5111808B) on device ordinal 0\n"
     ]
    },
    {
     "name": "stderr",
     "output_type": "stream",
     "text": [
      "E0113 14:55:02.678276 1065353 pjrt_stream_executor_client.cc:2985] Execution of replica 0 failed: RESOURCE_EXHAUSTED: Failed to allocate request for 4.88MiB (5111808B) on device ordinal 0\n",
      "/tmp/ipykernel_1065353/1628586949.py:20: SettingWithCopyWarning: \n",
      "A value is trying to be set on a copy of a slice from a DataFrame\n",
      "\n",
      "See the caveats in the documentation: https://pandas.pydata.org/pandas-docs/stable/user_guide/indexing.html#returning-a-view-versus-a-copy\n",
      "  df_hpos_main.loc[i] = pd.Series(hpos) if type(hpos) == dict else hpos.drop('index')\n"
     ]
    },
    {
     "name": "stdout",
     "output_type": "stream",
     "text": [
      "RESOURCE_EXHAUSTED: Failed to allocate request for 24.34MiB (25526272B) on device ordinal 0\n"
     ]
    },
    {
     "name": "stderr",
     "output_type": "stream",
     "text": [
      "E0113 14:55:06.421308 1065353 pjrt_stream_executor_client.cc:2985] Execution of replica 0 failed: RESOURCE_EXHAUSTED: Failed to allocate request for 24.34MiB (25526272B) on device ordinal 0\n",
      "/tmp/ipykernel_1065353/1628586949.py:20: SettingWithCopyWarning: \n",
      "A value is trying to be set on a copy of a slice from a DataFrame\n",
      "\n",
      "See the caveats in the documentation: https://pandas.pydata.org/pandas-docs/stable/user_guide/indexing.html#returning-a-view-versus-a-copy\n",
      "  df_hpos_main.loc[i] = pd.Series(hpos) if type(hpos) == dict else hpos.drop('index')\n"
     ]
    },
    {
     "name": "stdout",
     "output_type": "stream",
     "text": [
      "RESOURCE_EXHAUSTED: Failed to allocate request for 24.34MiB (25526272B) on device ordinal 0\n"
     ]
    },
    {
     "name": "stderr",
     "output_type": "stream",
     "text": [
      "E0113 14:55:09.818720 1065353 pjrt_stream_executor_client.cc:2985] Execution of replica 0 failed: RESOURCE_EXHAUSTED: Failed to allocate request for 24.34MiB (25526272B) on device ordinal 0\n",
      "/tmp/ipykernel_1065353/1628586949.py:20: SettingWithCopyWarning: \n",
      "A value is trying to be set on a copy of a slice from a DataFrame\n",
      "\n",
      "See the caveats in the documentation: https://pandas.pydata.org/pandas-docs/stable/user_guide/indexing.html#returning-a-view-versus-a-copy\n",
      "  df_hpos_main.loc[i] = pd.Series(hpos) if type(hpos) == dict else hpos.drop('index')\n"
     ]
    },
    {
     "name": "stdout",
     "output_type": "stream",
     "text": [
      "RESOURCE_EXHAUSTED: Failed to allocate request for 24.34MiB (25526272B) on device ordinal 0\n"
     ]
    },
    {
     "name": "stderr",
     "output_type": "stream",
     "text": [
      "E0113 14:55:13.197170 1065353 pjrt_stream_executor_client.cc:2985] Execution of replica 0 failed: RESOURCE_EXHAUSTED: Failed to allocate request for 24.34MiB (25526272B) on device ordinal 0\n",
      "/tmp/ipykernel_1065353/1628586949.py:20: SettingWithCopyWarning: \n",
      "A value is trying to be set on a copy of a slice from a DataFrame\n",
      "\n",
      "See the caveats in the documentation: https://pandas.pydata.org/pandas-docs/stable/user_guide/indexing.html#returning-a-view-versus-a-copy\n",
      "  df_hpos_main.loc[i] = pd.Series(hpos) if type(hpos) == dict else hpos.drop('index')\n"
     ]
    },
    {
     "name": "stdout",
     "output_type": "stream",
     "text": [
      "RESOURCE_EXHAUSTED: Failed to allocate request for 24.34MiB (25526272B) on device ordinal 0\n"
     ]
    },
    {
     "name": "stderr",
     "output_type": "stream",
     "text": [
      "E0113 14:55:16.574993 1065353 pjrt_stream_executor_client.cc:2985] Execution of replica 0 failed: RESOURCE_EXHAUSTED: Failed to allocate request for 24.34MiB (25526272B) on device ordinal 0\n",
      "/tmp/ipykernel_1065353/1628586949.py:20: SettingWithCopyWarning: \n",
      "A value is trying to be set on a copy of a slice from a DataFrame\n",
      "\n",
      "See the caveats in the documentation: https://pandas.pydata.org/pandas-docs/stable/user_guide/indexing.html#returning-a-view-versus-a-copy\n",
      "  df_hpos_main.loc[i] = pd.Series(hpos) if type(hpos) == dict else hpos.drop('index')\n"
     ]
    },
    {
     "name": "stdout",
     "output_type": "stream",
     "text": [
      "RESOURCE_EXHAUSTED: Failed to allocate request for 24.34MiB (25526272B) on device ordinal 0\n"
     ]
    },
    {
     "name": "stderr",
     "output_type": "stream",
     "text": [
      "E0113 14:55:19.950257 1065353 pjrt_stream_executor_client.cc:2985] Execution of replica 0 failed: RESOURCE_EXHAUSTED: Failed to allocate request for 24.34MiB (25526272B) on device ordinal 0\n",
      "/tmp/ipykernel_1065353/1628586949.py:20: SettingWithCopyWarning: \n",
      "A value is trying to be set on a copy of a slice from a DataFrame\n",
      "\n",
      "See the caveats in the documentation: https://pandas.pydata.org/pandas-docs/stable/user_guide/indexing.html#returning-a-view-versus-a-copy\n",
      "  df_hpos_main.loc[i] = pd.Series(hpos) if type(hpos) == dict else hpos.drop('index')\n"
     ]
    },
    {
     "name": "stdout",
     "output_type": "stream",
     "text": [
      "RESOURCE_EXHAUSTED: Failed to allocate request for 24.34MiB (25526272B) on device ordinal 0\n"
     ]
    },
    {
     "name": "stderr",
     "output_type": "stream",
     "text": [
      "E0113 14:55:23.331937 1065353 pjrt_stream_executor_client.cc:2985] Execution of replica 0 failed: RESOURCE_EXHAUSTED: Failed to allocate request for 24.34MiB (25526272B) on device ordinal 0\n",
      "/tmp/ipykernel_1065353/1628586949.py:20: SettingWithCopyWarning: \n",
      "A value is trying to be set on a copy of a slice from a DataFrame\n",
      "\n",
      "See the caveats in the documentation: https://pandas.pydata.org/pandas-docs/stable/user_guide/indexing.html#returning-a-view-versus-a-copy\n",
      "  df_hpos_main.loc[i] = pd.Series(hpos) if type(hpos) == dict else hpos.drop('index')\n"
     ]
    },
    {
     "name": "stdout",
     "output_type": "stream",
     "text": [
      "RESOURCE_EXHAUSTED: Failed to allocate request for 24.34MiB (25526272B) on device ordinal 0\n"
     ]
    },
    {
     "name": "stderr",
     "output_type": "stream",
     "text": [
      "E0113 14:55:26.697327 1065353 pjrt_stream_executor_client.cc:2985] Execution of replica 0 failed: RESOURCE_EXHAUSTED: Failed to allocate request for 24.34MiB (25526272B) on device ordinal 0\n",
      "/tmp/ipykernel_1065353/1628586949.py:20: SettingWithCopyWarning: \n",
      "A value is trying to be set on a copy of a slice from a DataFrame\n",
      "\n",
      "See the caveats in the documentation: https://pandas.pydata.org/pandas-docs/stable/user_guide/indexing.html#returning-a-view-versus-a-copy\n",
      "  df_hpos_main.loc[i] = pd.Series(hpos) if type(hpos) == dict else hpos.drop('index')\n"
     ]
    },
    {
     "name": "stdout",
     "output_type": "stream",
     "text": [
      "RESOURCE_EXHAUSTED: Failed to allocate request for 24.34MiB (25526272B) on device ordinal 0\n"
     ]
    },
    {
     "name": "stderr",
     "output_type": "stream",
     "text": [
      "E0113 14:55:30.082331 1065353 pjrt_stream_executor_client.cc:2985] Execution of replica 0 failed: RESOURCE_EXHAUSTED: Failed to allocate request for 24.34MiB (25526272B) on device ordinal 0\n",
      "/tmp/ipykernel_1065353/1628586949.py:20: SettingWithCopyWarning: \n",
      "A value is trying to be set on a copy of a slice from a DataFrame\n",
      "\n",
      "See the caveats in the documentation: https://pandas.pydata.org/pandas-docs/stable/user_guide/indexing.html#returning-a-view-versus-a-copy\n",
      "  df_hpos_main.loc[i] = pd.Series(hpos) if type(hpos) == dict else hpos.drop('index')\n"
     ]
    },
    {
     "name": "stdout",
     "output_type": "stream",
     "text": [
      "RESOURCE_EXHAUSTED: Failed to allocate request for 24.34MiB (25526272B) on device ordinal 0\n"
     ]
    },
    {
     "name": "stderr",
     "output_type": "stream",
     "text": [
      "E0113 14:55:33.490877 1065353 pjrt_stream_executor_client.cc:2985] Execution of replica 0 failed: RESOURCE_EXHAUSTED: Failed to allocate request for 24.34MiB (25526272B) on device ordinal 0\n",
      "/tmp/ipykernel_1065353/1628586949.py:20: SettingWithCopyWarning: \n",
      "A value is trying to be set on a copy of a slice from a DataFrame\n",
      "\n",
      "See the caveats in the documentation: https://pandas.pydata.org/pandas-docs/stable/user_guide/indexing.html#returning-a-view-versus-a-copy\n",
      "  df_hpos_main.loc[i] = pd.Series(hpos) if type(hpos) == dict else hpos.drop('index')\n"
     ]
    },
    {
     "name": "stdout",
     "output_type": "stream",
     "text": [
      "RESOURCE_EXHAUSTED: Failed to allocate request for 24.34MiB (25526272B) on device ordinal 0\n"
     ]
    },
    {
     "name": "stderr",
     "output_type": "stream",
     "text": [
      "E0113 14:55:36.875025 1065353 pjrt_stream_executor_client.cc:2985] Execution of replica 0 failed: RESOURCE_EXHAUSTED: Failed to allocate request for 24.34MiB (25526272B) on device ordinal 0\n",
      "/tmp/ipykernel_1065353/1628586949.py:20: SettingWithCopyWarning: \n",
      "A value is trying to be set on a copy of a slice from a DataFrame\n",
      "\n",
      "See the caveats in the documentation: https://pandas.pydata.org/pandas-docs/stable/user_guide/indexing.html#returning-a-view-versus-a-copy\n",
      "  df_hpos_main.loc[i] = pd.Series(hpos) if type(hpos) == dict else hpos.drop('index')\n"
     ]
    },
    {
     "name": "stdout",
     "output_type": "stream",
     "text": [
      "RESOURCE_EXHAUSTED: Failed to allocate request for 24.34MiB (25526272B) on device ordinal 0\n"
     ]
    },
    {
     "name": "stderr",
     "output_type": "stream",
     "text": [
      "E0113 14:55:40.245126 1065353 pjrt_stream_executor_client.cc:2985] Execution of replica 0 failed: RESOURCE_EXHAUSTED: Failed to allocate request for 24.34MiB (25526272B) on device ordinal 0\n",
      "/tmp/ipykernel_1065353/1628586949.py:20: SettingWithCopyWarning: \n",
      "A value is trying to be set on a copy of a slice from a DataFrame\n",
      "\n",
      "See the caveats in the documentation: https://pandas.pydata.org/pandas-docs/stable/user_guide/indexing.html#returning-a-view-versus-a-copy\n",
      "  df_hpos_main.loc[i] = pd.Series(hpos) if type(hpos) == dict else hpos.drop('index')\n"
     ]
    }
   ],
   "source": [
    "\n",
    "top_dir = os.path.join('data', make_datetime_str())\n",
    "df_hpos_main = df_hpos.iloc[:16]\n",
    "for i in range(len(df_hpos_main)):\n",
    "    hpos = df_hpos_main.reset_index().iloc[i]\n",
    "    top_write_dir = os.path.join(top_dir, 'cvae_scan', f'hpo_{hpos[\"index\"]}')\n",
    "    # hpos = cvae_scan(hpos, top_write_dir=top_write_dir)\n",
    "    try:\n",
    "        try:\n",
    "            hpos = cvae_scan(hpos, top_write_dir=top_write_dir)\n",
    "            hpos.loc['run_successful'] = True\n",
    "            hpos.loc['error_msg'] = ''\n",
    "        except Exception as e:\n",
    "            print(e)\n",
    "            hpos.loc['run_successful'] = False\n",
    "            hpos.loc['error_msg'] = str(e)\n",
    "    except:\n",
    "        hpos.loc['run_successful'] = False\n",
    "        hpos.loc['error_msg'] = 'sys exit'\n",
    "        \n",
    "    df_hpos_main.loc[i] = pd.Series(hpos) if type(hpos) == dict else hpos.drop('index')\n",
    "    # df_hpos_main.loc[i] = pd.DataFrame.from_dict(hpos).drop('index')\n",
    "    if not os.path.exists(top_dir):\n",
    "        os.makedirs(top_dir)\n",
    "    df_hpos_main.to_csv(os.path.join(top_dir, 'df_hpos_main.csv'))\n",
    "    write_json(df_hpos_main.to_dict(), os.path.join(top_dir, 'df_hpos_main.json'), overwrite=True)\n"
   ]
  },
  {
   "cell_type": "code",
   "execution_count": 10,
   "metadata": {
    "execution": {
     "iopub.execute_input": "2025-01-13T14:55:40.292651Z",
     "iopub.status.busy": "2025-01-13T14:55:40.292287Z",
     "iopub.status.idle": "2025-01-13T14:55:40.387708Z",
     "shell.execute_reply": "2025-01-13T14:55:40.386850Z"
    }
   },
   "outputs": [],
   "source": [
    "# # REMINDER: Total ds is 3 and the test data is not being used\n",
    "# # cvae_scan(hpos, top_dir=os.path.join('data', make_datetime_str()))\n",
    "\n",
    "# top_dir = os.path.join('data', make_datetime_str())\n",
    "# for i in range(len(df_hpos)):\n",
    "#     hpos = df_hpos.reset_index().iloc[i]\n",
    "#     top_write_dir = os.path.join(top_dir, 'cvae_scan', f'hpo_{hpos[\"index\"]}')\n",
    "#     # hpos = cvae_scan(hpos, top_write_dir=top_write_dir)\n",
    "#     try:\n",
    "#         try:\n",
    "#             hpos = cvae_scan(hpos, top_write_dir=top_write_dir)\n",
    "#             hpos.loc['run_successful'] = True\n",
    "#             hpos.loc['error_msg'] = ''\n",
    "#         except Exception as e:\n",
    "#             print(e)\n",
    "#             hpos.loc['run_successful'] = False\n",
    "#             hpos.loc['error_msg'] = str(e)\n",
    "#     except:\n",
    "#         hpos.loc['run_successful'] = False\n",
    "#         hpos.loc['error_msg'] = 'sys exit'\n",
    "        \n",
    "#     df_hpos.loc[i] = pd.Series(hpos) if type(hpos) == dict else hpos.drop('index')\n",
    "#     # df_hpos.loc[i] = pd.DataFrame.from_dict(hpos).drop('index')\n",
    "#     if not os.path.exists(top_dir):\n",
    "#         os.makedirs(top_dir)\n",
    "#     df_hpos.to_csv(os.path.join(top_dir, 'df_hpos.csv'))"
   ]
  },
  {
   "cell_type": "code",
   "execution_count": null,
   "metadata": {},
   "outputs": [],
   "source": []
  }
 ],
 "metadata": {
  "kernelspec": {
   "display_name": "Python 3",
   "language": "python",
   "name": "python3"
  },
  "language_info": {
   "codemirror_mode": {
    "name": "ipython",
    "version": 3
   },
   "file_extension": ".py",
   "mimetype": "text/x-python",
   "name": "python",
   "nbconvert_exporter": "python",
   "pygments_lexer": "ipython3",
   "version": "3.11.10"
  }
 },
 "nbformat": 4,
 "nbformat_minor": 2
}
