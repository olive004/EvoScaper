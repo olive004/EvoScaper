{
 "cells": [
  {
   "cell_type": "code",
   "execution_count": 1,
   "metadata": {
    "execution": {
     "iopub.execute_input": "2025-02-08T22:15:27.715540Z",
     "iopub.status.busy": "2025-02-08T22:15:27.715076Z",
     "iopub.status.idle": "2025-02-08T22:15:27.751398Z",
     "shell.execute_reply": "2025-02-08T22:15:27.750088Z"
    }
   },
   "outputs": [],
   "source": [
    "%load_ext autoreload\n",
    "%autoreload 2"
   ]
  },
  {
   "cell_type": "markdown",
   "metadata": {},
   "source": [
    "# Run VAE models systematically"
   ]
  },
  {
   "cell_type": "markdown",
   "metadata": {},
   "source": [
    "## Imports"
   ]
  },
  {
   "cell_type": "code",
   "execution_count": 2,
   "metadata": {
    "execution": {
     "iopub.execute_input": "2025-02-08T22:15:27.755385Z",
     "iopub.status.busy": "2025-02-08T22:15:27.754977Z",
     "iopub.status.idle": "2025-02-08T22:15:29.478902Z",
     "shell.execute_reply": "2025-02-08T22:15:29.478540Z"
    }
   },
   "outputs": [],
   "source": [
    "import pandas as pd\n",
    "import itertools\n",
    "import numpy as np\n",
    "import os\n",
    "from evoscaper.scripts.cvae_scan import main as cvae_scan\n",
    "from evoscaper.utils.preprocess import make_datetime_str\n",
    "from synbio_morpher.utils.data.data_format_tools.common import write_json\n",
    "from bioreaction.misc.misc import flatten_listlike\n",
    "\n",
    "# jupyter nbconvert --to notebook --execute 03_cvae_multi.ipynb --output=03_cvae_multi_2.ipynb --ExecutePreprocessor.timeout=-1\n"
   ]
  },
  {
   "cell_type": "markdown",
   "metadata": {},
   "source": [
    "## Create table of all VAE model training settings\n",
    "\n",
    "Parameters for:\n",
    "- Biological dataset generation\n",
    "- Training data\n",
    "    - Input\n",
    "    - Output \n",
    "- Model architecture\n",
    "- Training hyperparameters"
   ]
  },
  {
   "cell_type": "markdown",
   "metadata": {},
   "source": [
    "### Initial parameters"
   ]
  },
  {
   "cell_type": "code",
   "execution_count": 3,
   "metadata": {
    "execution": {
     "iopub.execute_input": "2025-02-08T22:15:29.480522Z",
     "iopub.status.busy": "2025-02-08T22:15:29.480327Z",
     "iopub.status.idle": "2025-02-08T22:15:29.496068Z",
     "shell.execute_reply": "2025-02-08T22:15:29.495829Z"
    }
   },
   "outputs": [],
   "source": [
    "data_dir = '../data'\n",
    "\n",
    "hpos_architecture = {\n",
    "    'seed_arch': 1,\n",
    "    'hidden_size': 16,\n",
    "    'enc_ls': 32,\n",
    "    'dec_ls': 32,\n",
    "    'num_enc_layers': 2,\n",
    "    'num_dec_layers': 2,\n",
    "    'factor_expanding_ls': 1,\n",
    "    'factor_contracting_ls': 1,\n",
    "    'model': 'CVAE',\n",
    "    'use_sigmoid_decoder': False,\n",
    "    'enc_init': 'HeNormal',\n",
    "    'dec_init': 'HeNormal',\n",
    "    'init_model_with_random': True,\n",
    "    'activation': 'leaky_relu',\n",
    "}\n",
    "\n",
    "hpos_training = {\n",
    "    'seed_train': 1,\n",
    "    'batch_size': 256,\n",
    "    'epochs': 100,\n",
    "    'patience': 500,\n",
    "    'threshold_early_val_acc': 0.995,\n",
    "    'learning_rate': 1e-2,\n",
    "    'loss_func': 'mse',\n",
    "    'accuracy_func': 'accuracy_regression',\n",
    "    'use_dropout': False,\n",
    "    'dropout_rate': 0.1,\n",
    "    'use_l2_reg': False,\n",
    "    'l2_reg_alpha': 5e-2,\n",
    "    'use_kl_div': True,\n",
    "    # inspired by https://github.com/elttaes/VAE-MNIST-Haiku-Jax/blob/main/cVAE_mnist.ipynb\n",
    "    'kl_weight': 2.5e-4,\n",
    "    'use_grad_clipping': False,\n",
    "    'use_contrastive_loss': False,\n",
    "    'temperature': 1.5,\n",
    "    'contrastive_func': 'info_nce',\n",
    "    'threshold_similarity': 0.9,\n",
    "    'power_factor_distance': 3\n",
    "}\n",
    "hpos_training['print_every'] = hpos_training['epochs'] // 50\n",
    "\n",
    "hpos_optimization = {\n",
    "    'seed_opt': 1,\n",
    "    'opt_method': 'adam',\n",
    "    'opt_min_lr': 1e-6,\n",
    "    'opt_min_delta': 1e-4,\n",
    "    'learning_rate_sched': 'cosine_decay',\n",
    "    'use_warmup': True,\n",
    "    'warmup_epochs': 20,\n",
    "}\n",
    "\n",
    "hpos_dataset = {\n",
    "    'seed_dataset': 1,\n",
    "    'include_diffs': False,\n",
    "    # 'objective_col': ('Log sensitivity', 'Log precision'),\n",
    "    # 'objective_col': 'adaptation',\n",
    "    'objective_col': ('Log sensitivity',),\n",
    "    'output_species': ('RNA_2',),\n",
    "    'signal_species': ('RNA_0',),\n",
    "    'filenames_train_config': f'{data_dir}/raw/summarise_simulation/2024_12_05_210221/ensemble_config.json',\n",
    "    'filenames_train_table': f'{data_dir}/raw/summarise_simulation/2024_12_05_210221/tabulated_mutation_info.csv',\n",
    "    'filenames_verify_config': f'{data_dir}/raw/summarise_simulation/2024_11_21_160955/ensemble_config.json',\n",
    "    'filenames_verify_table': f'{data_dir}/raw/summarise_simulation/2024_11_21_160955/tabulated_mutation_info.csv',\n",
    "    'use_test_data': False,\n",
    "    # 'total_ds': None,   # TO BE RECORDED\n",
    "    'total_ds_max': 5e6,\n",
    "    'train_split': 0.8,\n",
    "    'x_type': 'energies',\n",
    "    # XY filtering:\n",
    "    'filt_x_nans': True,\n",
    "    'filt_y_nans': True,\n",
    "    'filt_sensitivity_nans': True,\n",
    "    'filt_precision_nans': True,\n",
    "    'filt_n_same_x_max': 1,\n",
    "    'filt_n_same_x_max_bins': 50,\n",
    "    'filt_response_time_high': True,\n",
    "    'filt_response_time_perc_max': 0.8,\n",
    "    # XY preprocessing:\n",
    "    'prep_x_standardise': False,\n",
    "    'prep_y_standardise': False,\n",
    "    'prep_x_min_max': True,\n",
    "    'prep_y_min_max': True,\n",
    "    'prep_x_robust_scaling': True,\n",
    "    'prep_y_robust_scaling': True,\n",
    "    'prep_x_logscale': False,\n",
    "    'prep_y_logscale': False,\n",
    "    'prep_x_categorical': False,\n",
    "    'prep_y_categorical': False,\n",
    "    'prep_x_categorical_onehot': False,\n",
    "    'prep_y_categorical_onehot': False,\n",
    "    'prep_x_categorical_n_bins': 10,\n",
    "    'prep_y_categorical_n_bins': 10,\n",
    "    'prep_x_categorical_method': 'quantile',\n",
    "    'prep_y_categorical_method': 'quantile',\n",
    "    'prep_x_negative': True,\n",
    "    'prep_y_negative': False\n",
    "}\n",
    "\n",
    "hpos_biological = {\n",
    "    'n_species': 3,\n",
    "    'sequence_length': 20,\n",
    "    'signal_function': 'step_function',\n",
    "    'signal_target': 2,\n",
    "    'starting_copynumbers_input': 200,\n",
    "    'starting_copynumbers_output': 200,\n",
    "    'starting_copynumbers_other': 200,\n",
    "    'association_binding_rate': 1000000,\n",
    "    'include_prod_deg': False,\n",
    "}\n",
    "\n",
    "hpos_eval = {\n",
    "    'eval_n_to_sample': 2, #1e3\n",
    "}\n",
    "\n",
    "info_to_be_recorded = {\n",
    "    'filename_saved_model': 'TO_BE_RECORDED',\n",
    "    'total_ds': 'TO_BE_RECORDED',\n",
    "    'n_batches': 'TO_BE_RECORDED',\n",
    "    'R2_train': 'TO_BE_RECORDED',\n",
    "    'R2_test': 'TO_BE_RECORDED',\n",
    "    'mutual_information_conditionality': 'TO_BE_RECORDED',\n",
    "    'n_layers_enc': 'TO_BE_RECORDED',\n",
    "    'n_layers_dec': 'TO_BE_RECORDED',\n",
    "    'run_successful': 'TO_BE_RECORDED',\n",
    "    'info_early_stop': 'TO_BE_RECORDED',\n",
    "    'error_msg': 'TO_BE_RECORDED',\n",
    "}\n",
    "\n",
    "hpos_all = {}\n",
    "for d in [hpos_architecture, hpos_training, hpos_optimization, hpos_dataset, hpos_eval, info_to_be_recorded]:\n",
    "    hpos_all.update(d)\n",
    "    "
   ]
  },
  {
   "cell_type": "code",
   "execution_count": 4,
   "metadata": {
    "execution": {
     "iopub.execute_input": "2025-02-08T22:15:29.496969Z",
     "iopub.status.busy": "2025-02-08T22:15:29.496888Z",
     "iopub.status.idle": "2025-02-08T22:15:29.517017Z",
     "shell.execute_reply": "2025-02-08T22:15:29.516667Z"
    }
   },
   "outputs": [
    {
     "data": {
      "text/html": [
       "<div>\n",
       "<style scoped>\n",
       "    .dataframe tbody tr th:only-of-type {\n",
       "        vertical-align: middle;\n",
       "    }\n",
       "\n",
       "    .dataframe tbody tr th {\n",
       "        vertical-align: top;\n",
       "    }\n",
       "\n",
       "    .dataframe thead th {\n",
       "        text-align: right;\n",
       "    }\n",
       "</style>\n",
       "<table border=\"1\" class=\"dataframe\">\n",
       "  <thead>\n",
       "    <tr style=\"text-align: right;\">\n",
       "      <th></th>\n",
       "      <th>seed_arch</th>\n",
       "      <th>hidden_size</th>\n",
       "      <th>enc_ls</th>\n",
       "      <th>dec_ls</th>\n",
       "      <th>num_enc_layers</th>\n",
       "      <th>num_dec_layers</th>\n",
       "      <th>factor_expanding_ls</th>\n",
       "      <th>factor_contracting_ls</th>\n",
       "      <th>model</th>\n",
       "      <th>use_sigmoid_decoder</th>\n",
       "      <th>...</th>\n",
       "      <th>total_ds</th>\n",
       "      <th>n_batches</th>\n",
       "      <th>R2_train</th>\n",
       "      <th>R2_test</th>\n",
       "      <th>mutual_information_conditionality</th>\n",
       "      <th>n_layers_enc</th>\n",
       "      <th>n_layers_dec</th>\n",
       "      <th>run_successful</th>\n",
       "      <th>info_early_stop</th>\n",
       "      <th>error_msg</th>\n",
       "    </tr>\n",
       "  </thead>\n",
       "  <tbody>\n",
       "    <tr>\n",
       "      <th>0</th>\n",
       "      <td>1</td>\n",
       "      <td>16</td>\n",
       "      <td>32</td>\n",
       "      <td>32</td>\n",
       "      <td>2</td>\n",
       "      <td>2</td>\n",
       "      <td>1</td>\n",
       "      <td>1</td>\n",
       "      <td>CVAE</td>\n",
       "      <td>False</td>\n",
       "      <td>...</td>\n",
       "      <td>TO_BE_RECORDED</td>\n",
       "      <td>TO_BE_RECORDED</td>\n",
       "      <td>TO_BE_RECORDED</td>\n",
       "      <td>TO_BE_RECORDED</td>\n",
       "      <td>TO_BE_RECORDED</td>\n",
       "      <td>TO_BE_RECORDED</td>\n",
       "      <td>TO_BE_RECORDED</td>\n",
       "      <td>TO_BE_RECORDED</td>\n",
       "      <td>TO_BE_RECORDED</td>\n",
       "      <td>TO_BE_RECORDED</td>\n",
       "    </tr>\n",
       "  </tbody>\n",
       "</table>\n",
       "<p>1 rows × 93 columns</p>\n",
       "</div>"
      ],
      "text/plain": [
       "  seed_arch hidden_size enc_ls dec_ls num_enc_layers num_dec_layers  \\\n",
       "0         1          16     32     32              2              2   \n",
       "\n",
       "  factor_expanding_ls factor_contracting_ls model use_sigmoid_decoder  ...  \\\n",
       "0                   1                     1  CVAE               False  ...   \n",
       "\n",
       "         total_ds       n_batches        R2_train         R2_test  \\\n",
       "0  TO_BE_RECORDED  TO_BE_RECORDED  TO_BE_RECORDED  TO_BE_RECORDED   \n",
       "\n",
       "  mutual_information_conditionality    n_layers_enc    n_layers_dec  \\\n",
       "0                    TO_BE_RECORDED  TO_BE_RECORDED  TO_BE_RECORDED   \n",
       "\n",
       "   run_successful info_early_stop       error_msg  \n",
       "0  TO_BE_RECORDED  TO_BE_RECORDED  TO_BE_RECORDED  \n",
       "\n",
       "[1 rows x 93 columns]"
      ]
     },
     "execution_count": 4,
     "metadata": {},
     "output_type": "execute_result"
    }
   ],
   "source": [
    "df_hpos = pd.DataFrame.from_dict(hpos_all, orient='index').T\n",
    "assert df_hpos.columns.duplicated().sum() == 0, 'Change some column names, there are duplicates'\n",
    "basic_setting = df_hpos.copy()\n",
    "df_hpos"
   ]
  },
  {
   "cell_type": "code",
   "execution_count": 5,
   "metadata": {
    "execution": {
     "iopub.execute_input": "2025-02-08T22:15:29.532754Z",
     "iopub.status.busy": "2025-02-08T22:15:29.532614Z",
     "iopub.status.idle": "2025-02-08T22:15:29.547891Z",
     "shell.execute_reply": "2025-02-08T22:15:29.547641Z"
    }
   },
   "outputs": [
    {
     "data": {
      "text/plain": [
       "0    ../data/raw/summarise_simulation/2024_12_05_21...\n",
       "Name: filenames_train_config, dtype: object"
      ]
     },
     "execution_count": 5,
     "metadata": {},
     "output_type": "execute_result"
    }
   ],
   "source": [
    "# for k, v in hpos_all.items():\n",
    "#     if type(v) == tuple:\n",
    "#         print(k, v)\n",
    "#         df_hpos[k] = df_hpos[k].apply(lambda x: tuple(x))\n",
    "df_hpos['filenames_train_config']        "
   ]
  },
  {
   "cell_type": "markdown",
   "metadata": {},
   "source": [
    "### All parameters"
   ]
  },
  {
   "cell_type": "code",
   "execution_count": 6,
   "metadata": {
    "execution": {
     "iopub.execute_input": "2025-02-08T22:15:29.548861Z",
     "iopub.status.busy": "2025-02-08T22:15:29.548738Z",
     "iopub.status.idle": "2025-02-08T22:15:29.563230Z",
     "shell.execute_reply": "2025-02-08T22:15:29.563017Z"
    }
   },
   "outputs": [],
   "source": [
    "hpos_to_vary_from_og = [{\n",
    "    'hidden_size': np.arange(2, 32, 2),\n",
    "    'learning_rate': [1e-1, 1e-2, 1e-3, 1e-4]\n",
    "}]\n",
    "hpos_to_vary_together = [{\n",
    "    'objective_col': [('adaptation',), ('Log sensitivity',), ('Log sensitivity', 'Log precision')],\n",
    "    'prep_y_categorical': [False, True],\n",
    "    'use_kl_div': [True],\n",
    "    'kl_weight': [5e-5, 1e-4, 2.5e-4, 4e-4, 5e-4],\n",
    "    'threshold_early_val_acc': [0.995, 0.98, 0.96, 0.9],\n",
    "},\n",
    "    {\n",
    "    'use_contrastive_loss': [True],\n",
    "    'temperature': [0.1, 0.5, 1, 1.5, 2, 4, 8],\n",
    "    'threshold_similarity': [0.95, 0.9, 0.7, 0.5, 0.3, 0.1],\n",
    "    'power_factor_distance': [3, 4],\n",
    "    'threshold_early_val_acc': [0.995, 0.9]\n",
    "}\n",
    "]\n",
    "\n",
    "df_hpos.loc[df_hpos['objective_col'] ==\n",
    "            'sensitivity_wrt_species-6', 'prep_y_logscale'] = True"
   ]
  },
  {
   "cell_type": "code",
   "execution_count": 7,
   "metadata": {
    "execution": {
     "iopub.execute_input": "2025-02-08T22:15:29.564227Z",
     "iopub.status.busy": "2025-02-08T22:15:29.564122Z",
     "iopub.status.idle": "2025-02-08T22:15:29.713020Z",
     "shell.execute_reply": "2025-02-08T22:15:29.712787Z"
    }
   },
   "outputs": [
    {
     "data": {
      "text/plain": [
       "305"
      ]
     },
     "execution_count": 7,
     "metadata": {},
     "output_type": "execute_result"
    }
   ],
   "source": [
    "def keep_equal(df):\n",
    "    pairs = {\n",
    "        'enc_ls': 'dec_ls',\n",
    "        'num_enc_layers': 'num_dec_layers',\n",
    "        'factor_expanding_ls': 'factor_contracting_ls',\n",
    "    }\n",
    "    for k1, k2 in pairs.items():\n",
    "        if k1 in df.columns and k2 in df.columns:\n",
    "            df[k2] = df[k1]\n",
    "    return df\n",
    "\n",
    "\n",
    "def add_combinatorial_keys(df_hpos, hpos_to_vary_together, basic_setting):\n",
    "    keys_vary_together = sorted(hpos_to_vary_together.keys())\n",
    "    for i, v in enumerate(itertools.product(*[hpos_to_vary_together[h] for h in keys_vary_together])):\n",
    "        curr = basic_setting.assign(\n",
    "            **{h: [vv] if type(vv) == tuple else vv for h, vv in zip(keys_vary_together, v)})\n",
    "        df_hpos = pd.concat([df_hpos, curr], ignore_index=True)\n",
    "    return df_hpos\n",
    "\n",
    "\n",
    "def add_single_hpos(df_hpos, hpos_to_vary_from_og, basic_setting):\n",
    "    for h, v in hpos_to_vary_from_og.items():\n",
    "        try:\n",
    "            df_hpos = pd.concat(\n",
    "                [df_hpos] + [basic_setting.assign(**{h: vv}) for vv in v], ignore_index=True)\n",
    "        except ValueError:\n",
    "            for vv in v:\n",
    "                b = basic_setting.copy()\n",
    "                b.loc[0, h] = vv\n",
    "                df_hpos = pd.concat([df_hpos, b], ignore_index=True)\n",
    "    return df_hpos\n",
    "\n",
    "\n",
    "def postproc(df_hpos):\n",
    "    df_hpos = keep_equal(df_hpos)\n",
    "    df_hpos.loc[df_hpos['x_type'] ==\n",
    "                'binding_rates_dissociation', 'prep_x_negative'] = False\n",
    "    df_hpos = df_hpos.drop_duplicates().reset_index(drop=True)\n",
    "    return df_hpos\n",
    "\n",
    "\n",
    "for h in hpos_to_vary_from_og:\n",
    "    df_hpos = add_single_hpos(df_hpos, h, basic_setting)\n",
    "for h in hpos_to_vary_together:\n",
    "    df_hpos = add_combinatorial_keys(df_hpos, h, basic_setting)\n",
    "\n",
    "df_hpos = postproc(df_hpos)\n",
    "\n",
    "# Reorder columns\n",
    "cols_priority = list(set(flatten_listlike([list(h.keys(\n",
    ")) for h in hpos_to_vary_from_og] + [list(h.keys()) for h in hpos_to_vary_together])))\n",
    "df_hpos = df_hpos[cols_priority +\n",
    "                  [c for c in df_hpos.columns if c not in cols_priority]]\n",
    "\n",
    "df_hpos.reset_index(drop=True)\n",
    "len(df_hpos)"
   ]
  },
  {
   "cell_type": "markdown",
   "metadata": {},
   "source": [
    "# Use table to create dataset for training"
   ]
  },
  {
   "cell_type": "code",
   "execution_count": 8,
   "metadata": {
    "execution": {
     "iopub.execute_input": "2025-02-08T22:15:29.714184Z",
     "iopub.status.busy": "2025-02-08T22:15:29.714104Z",
     "iopub.status.idle": "2025-02-08T22:15:29.727362Z",
     "shell.execute_reply": "2025-02-08T22:15:29.727148Z"
    }
   },
   "outputs": [],
   "source": [
    "# fn = '../data/raw/summarise_simulation/2024_11_21_144918/tabulated_mutation_info.csv'\n",
    "# # fn = '../data/raw/summarise_simulation/2024_11_21_160955/tabulated_mutation_info.csv'\n",
    "# # fn = '../data/raw/summarise_simulation/2024_12_05_210221/tabulated_mutation_info.csv'\n",
    "# data = pd.read_csv(fn).iloc[:100]\n",
    "# len(data)"
   ]
  },
  {
   "cell_type": "code",
   "execution_count": 9,
   "metadata": {
    "execution": {
     "iopub.execute_input": "2025-02-08T22:15:29.728377Z",
     "iopub.status.busy": "2025-02-08T22:15:29.728214Z",
     "iopub.status.idle": "2025-02-08T22:15:29.742041Z",
     "shell.execute_reply": "2025-02-08T22:15:29.741820Z"
    }
   },
   "outputs": [
    {
     "data": {
      "text/plain": [
       "threshold_similarity                0.9\n",
       "power_factor_distance                 3\n",
       "use_kl_div                         True\n",
       "temperature                         1.5\n",
       "use_contrastive_loss              False\n",
       "                              ...      \n",
       "n_layers_enc             TO_BE_RECORDED\n",
       "n_layers_dec             TO_BE_RECORDED\n",
       "run_successful           TO_BE_RECORDED\n",
       "info_early_stop          TO_BE_RECORDED\n",
       "error_msg                TO_BE_RECORDED\n",
       "Name: 111, Length: 93, dtype: object"
      ]
     },
     "execution_count": 9,
     "metadata": {},
     "output_type": "execute_result"
    }
   ],
   "source": [
    "df_hpos_main = df_hpos.iloc[111:]\n",
    "i = 0\n",
    "df_hpos_main.iloc[i]"
   ]
  },
  {
   "cell_type": "code",
   "execution_count": 10,
   "metadata": {
    "execution": {
     "iopub.execute_input": "2025-02-08T22:15:29.742875Z",
     "iopub.status.busy": "2025-02-08T22:15:29.742747Z",
     "iopub.status.idle": "2025-02-09T01:18:06.627438Z",
     "shell.execute_reply": "2025-02-09T01:18:06.627108Z"
    }
   },
   "outputs": [
    {
     "name": "stderr",
     "output_type": "stream",
     "text": [
      "xla_bridge.py:backends():900: Unable to initialize backend 'rocm': NOT_FOUND: Could not find registered platform with name: \"rocm\". Available platform names are: CUDA INFO\n"
     ]
    },
    {
     "name": "stderr",
     "output_type": "stream",
     "text": [
      "xla_bridge.py:backends():900: Unable to initialize backend 'tpu': INTERNAL: Failed to open libtpu.so: libtpu.so: cannot open shared object file: No such file or directory INFO\n"
     ]
    },
    {
     "name": "stderr",
     "output_type": "stream",
     "text": [
      "train.py:train():187: Epoch 0 / 100 -\t\t Train loss: 0.13515780866146088\tVal loss: 0.04077830910682678\tVal accuracy: 0.3360355794429779 INFO\n"
     ]
    },
    {
     "name": "stderr",
     "output_type": "stream",
     "text": [
      "train.py:train():187: Epoch 10 / 100 -\t\t Train loss: -0.017800942063331604\tVal loss: -0.017788292840123177\tVal accuracy: 0.7622448801994324 INFO\n"
     ]
    },
    {
     "name": "stderr",
     "output_type": "stream",
     "text": [
      "train.py:train():197: Early stopping triggered after 12 epochs:\n",
      "Train loss: -0.03399423509836197\n",
      "Val loss: -0.04373631998896599\n",
      "Val accuracy: 0.9632205367088318\n",
      "Epochs no improvement: 0 WARNING\n"
     ]
    },
    {
     "name": "stdout",
     "output_type": "stream",
     "text": [
      "Training complete: 0:00:12.426129\n"
     ]
    },
    {
     "name": "stdout",
     "output_type": "stream",
     "text": [
      "Warning: not using the test data for evaluation, but the training data instead of ../data/raw/summarise_simulation/2024_11_21_160955/tabulated_mutation_info.csv\n"
     ]
    },
    {
     "name": "stdout",
     "output_type": "stream",
     "text": [
      "The R2 score is  0.9469610452651978\n",
      "The R2 score with weighted variance is  0.9469610452651978\n"
     ]
    },
    {
     "name": "stdout",
     "output_type": "stream",
     "text": [
      "Steady states found after 0 mins and 30 secs. Now calculating signal response\n"
     ]
    },
    {
     "name": "stdout",
     "output_type": "stream",
     "text": [
      "Signal response found after 0 mins and 28 secs.\n"
     ]
    },
    {
     "name": "stdout",
     "output_type": "stream",
     "text": [
      "data/03_cvae_multi/2025_02_08__22_15_29/cvae_scan/hpo_196\n"
     ]
    },
    {
     "name": "stderr",
     "output_type": "stream",
     "text": [
      "/tmp/ipykernel_1299886/1985358741.py:40: SettingWithCopyWarning: \n",
      "A value is trying to be set on a copy of a slice from a DataFrame\n",
      "\n",
      "See the caveats in the documentation: https://pandas.pydata.org/pandas-docs/stable/user_guide/indexing.html#returning-a-view-versus-a-copy\n",
      "  df_hpos_main.iloc[i] = pd.Series(hpos) if type(\n"
     ]
    },
    {
     "name": "stderr",
     "output_type": "stream",
     "text": [
      "train.py:train():187: Epoch 0 / 100 -\t\t Train loss: 0.15779881179332733\tVal loss: 0.06537824869155884\tVal accuracy: 0.3371949791908264 INFO\n"
     ]
    },
    {
     "name": "stderr",
     "output_type": "stream",
     "text": [
      "train.py:train():187: Epoch 10 / 100 -\t\t Train loss: -0.016428522765636444\tVal loss: -0.01699456386268139\tVal accuracy: 0.8930864334106445 INFO\n"
     ]
    },
    {
     "name": "stderr",
     "output_type": "stream",
     "text": [
      "train.py:train():187: Epoch 20 / 100 -\t\t Train loss: -0.019533764570951462\tVal loss: -0.01868247240781784\tVal accuracy: 0.9161671996116638 INFO\n"
     ]
    },
    {
     "name": "stderr",
     "output_type": "stream",
     "text": [
      "train.py:train():197: Early stopping triggered after 25 epochs:\n",
      "Train loss: -0.020584587007761\n",
      "Val loss: -0.020963074639439583\n",
      "Val accuracy: 0.9965307116508484\n",
      "Epochs no improvement: 0 WARNING\n"
     ]
    },
    {
     "name": "stdout",
     "output_type": "stream",
     "text": [
      "Training complete: 0:00:20.354074\n",
      "Warning: not using the test data for evaluation, but the training data instead of ../data/raw/summarise_simulation/2024_11_21_160955/tabulated_mutation_info.csv\n"
     ]
    },
    {
     "name": "stdout",
     "output_type": "stream",
     "text": [
      "The R2 score is  0.9758061766624451\n",
      "The R2 score with weighted variance is  0.9758061766624451\n"
     ]
    },
    {
     "name": "stdout",
     "output_type": "stream",
     "text": [
      "Steady states found after 0 mins and 24 secs. Now calculating signal response\n"
     ]
    },
    {
     "name": "stdout",
     "output_type": "stream",
     "text": [
      "Signal response found after 0 mins and 21 secs.\n"
     ]
    },
    {
     "name": "stdout",
     "output_type": "stream",
     "text": [
      "data/03_cvae_multi/2025_02_08__22_15_29/cvae_scan/hpo_197\n"
     ]
    },
    {
     "name": "stderr",
     "output_type": "stream",
     "text": [
      "/tmp/ipykernel_1299886/1985358741.py:40: SettingWithCopyWarning: \n",
      "A value is trying to be set on a copy of a slice from a DataFrame\n",
      "\n",
      "See the caveats in the documentation: https://pandas.pydata.org/pandas-docs/stable/user_guide/indexing.html#returning-a-view-versus-a-copy\n",
      "  df_hpos_main.iloc[i] = pd.Series(hpos) if type(\n"
     ]
    },
    {
     "name": "stderr",
     "output_type": "stream",
     "text": [
      "train.py:train():187: Epoch 0 / 100 -\t\t Train loss: 0.15779881179332733\tVal loss: 0.06537824869155884\tVal accuracy: 0.3371949791908264 INFO\n"
     ]
    },
    {
     "name": "stderr",
     "output_type": "stream",
     "text": [
      "train.py:train():187: Epoch 10 / 100 -\t\t Train loss: -0.016428522765636444\tVal loss: -0.01699456386268139\tVal accuracy: 0.8930864334106445 INFO\n"
     ]
    },
    {
     "name": "stderr",
     "output_type": "stream",
     "text": [
      "train.py:train():187: Epoch 20 / 100 -\t\t Train loss: -0.019533764570951462\tVal loss: -0.01868247240781784\tVal accuracy: 0.9161671996116638 INFO\n"
     ]
    },
    {
     "name": "stderr",
     "output_type": "stream",
     "text": [
      "train.py:train():197: Early stopping triggered after 25 epochs:\n",
      "Train loss: -0.020584587007761\n",
      "Val loss: -0.020963074639439583\n",
      "Val accuracy: 0.9965307116508484\n",
      "Epochs no improvement: 0 WARNING\n"
     ]
    },
    {
     "name": "stdout",
     "output_type": "stream",
     "text": [
      "Training complete: 0:00:20.407357\n",
      "Warning: not using the test data for evaluation, but the training data instead of ../data/raw/summarise_simulation/2024_11_21_160955/tabulated_mutation_info.csv\n"
     ]
    },
    {
     "name": "stdout",
     "output_type": "stream",
     "text": [
      "The R2 score is  0.9758061766624451\n",
      "The R2 score with weighted variance is  0.9758061766624451\n"
     ]
    },
    {
     "name": "stdout",
     "output_type": "stream",
     "text": [
      "Steady states found after 0 mins and 23 secs. Now calculating signal response\n"
     ]
    },
    {
     "name": "stdout",
     "output_type": "stream",
     "text": [
      "Signal response found after 0 mins and 21 secs.\n"
     ]
    },
    {
     "name": "stdout",
     "output_type": "stream",
     "text": [
      "data/03_cvae_multi/2025_02_08__22_15_29/cvae_scan/hpo_198\n"
     ]
    },
    {
     "name": "stderr",
     "output_type": "stream",
     "text": [
      "/tmp/ipykernel_1299886/1985358741.py:40: SettingWithCopyWarning: \n",
      "A value is trying to be set on a copy of a slice from a DataFrame\n",
      "\n",
      "See the caveats in the documentation: https://pandas.pydata.org/pandas-docs/stable/user_guide/indexing.html#returning-a-view-versus-a-copy\n",
      "  df_hpos_main.iloc[i] = pd.Series(hpos) if type(\n"
     ]
    },
    {
     "name": "stderr",
     "output_type": "stream",
     "text": [
      "train.py:train():187: Epoch 0 / 100 -\t\t Train loss: 0.15779881179332733\tVal loss: 0.06537824869155884\tVal accuracy: 0.3371949791908264 INFO\n"
     ]
    },
    {
     "name": "stderr",
     "output_type": "stream",
     "text": [
      "train.py:train():187: Epoch 10 / 100 -\t\t Train loss: -0.016428522765636444\tVal loss: -0.01699456386268139\tVal accuracy: 0.8930864334106445 INFO\n"
     ]
    },
    {
     "name": "stderr",
     "output_type": "stream",
     "text": [
      "train.py:train():187: Epoch 20 / 100 -\t\t Train loss: -0.019533764570951462\tVal loss: -0.01868247240781784\tVal accuracy: 0.9161671996116638 INFO\n"
     ]
    },
    {
     "name": "stderr",
     "output_type": "stream",
     "text": [
      "train.py:train():197: Early stopping triggered after 25 epochs:\n",
      "Train loss: -0.020584587007761\n",
      "Val loss: -0.020963074639439583\n",
      "Val accuracy: 0.9965307116508484\n",
      "Epochs no improvement: 0 WARNING\n"
     ]
    },
    {
     "name": "stdout",
     "output_type": "stream",
     "text": [
      "Training complete: 0:00:20.153783\n",
      "Warning: not using the test data for evaluation, but the training data instead of ../data/raw/summarise_simulation/2024_11_21_160955/tabulated_mutation_info.csv\n"
     ]
    },
    {
     "name": "stdout",
     "output_type": "stream",
     "text": [
      "The R2 score is  0.9758061766624451\n",
      "The R2 score with weighted variance is  0.9758061766624451\n"
     ]
    },
    {
     "name": "stdout",
     "output_type": "stream",
     "text": [
      "Steady states found after 0 mins and 23 secs. Now calculating signal response\n"
     ]
    },
    {
     "name": "stdout",
     "output_type": "stream",
     "text": [
      "Signal response found after 0 mins and 21 secs.\n"
     ]
    },
    {
     "name": "stdout",
     "output_type": "stream",
     "text": [
      "data/03_cvae_multi/2025_02_08__22_15_29/cvae_scan/hpo_199\n"
     ]
    },
    {
     "name": "stderr",
     "output_type": "stream",
     "text": [
      "/tmp/ipykernel_1299886/1985358741.py:40: SettingWithCopyWarning: \n",
      "A value is trying to be set on a copy of a slice from a DataFrame\n",
      "\n",
      "See the caveats in the documentation: https://pandas.pydata.org/pandas-docs/stable/user_guide/indexing.html#returning-a-view-versus-a-copy\n",
      "  df_hpos_main.iloc[i] = pd.Series(hpos) if type(\n"
     ]
    },
    {
     "name": "stderr",
     "output_type": "stream",
     "text": [
      "train.py:train():187: Epoch 0 / 100 -\t\t Train loss: 0.15779881179332733\tVal loss: 0.06537824869155884\tVal accuracy: 0.3371949791908264 INFO\n"
     ]
    },
    {
     "name": "stderr",
     "output_type": "stream",
     "text": [
      "train.py:train():187: Epoch 10 / 100 -\t\t Train loss: -0.016428522765636444\tVal loss: -0.01699456386268139\tVal accuracy: 0.8930864334106445 INFO\n"
     ]
    },
    {
     "name": "stderr",
     "output_type": "stream",
     "text": [
      "train.py:train():187: Epoch 20 / 100 -\t\t Train loss: -0.019533764570951462\tVal loss: -0.01868247240781784\tVal accuracy: 0.9161671996116638 INFO\n"
     ]
    },
    {
     "name": "stderr",
     "output_type": "stream",
     "text": [
      "train.py:train():197: Early stopping triggered after 25 epochs:\n",
      "Train loss: -0.020584587007761\n",
      "Val loss: -0.020963074639439583\n",
      "Val accuracy: 0.9965307116508484\n",
      "Epochs no improvement: 0 WARNING\n"
     ]
    },
    {
     "name": "stdout",
     "output_type": "stream",
     "text": [
      "Training complete: 0:00:20.299387\n",
      "Warning: not using the test data for evaluation, but the training data instead of ../data/raw/summarise_simulation/2024_11_21_160955/tabulated_mutation_info.csv\n"
     ]
    },
    {
     "name": "stdout",
     "output_type": "stream",
     "text": [
      "The R2 score is  0.9758061766624451\n",
      "The R2 score with weighted variance is  0.9758061766624451\n"
     ]
    },
    {
     "name": "stdout",
     "output_type": "stream",
     "text": [
      "Steady states found after 0 mins and 23 secs. Now calculating signal response\n"
     ]
    },
    {
     "name": "stdout",
     "output_type": "stream",
     "text": [
      "Signal response found after 0 mins and 21 secs.\n"
     ]
    },
    {
     "name": "stdout",
     "output_type": "stream",
     "text": [
      "data/03_cvae_multi/2025_02_08__22_15_29/cvae_scan/hpo_200\n"
     ]
    },
    {
     "name": "stderr",
     "output_type": "stream",
     "text": [
      "/tmp/ipykernel_1299886/1985358741.py:40: SettingWithCopyWarning: \n",
      "A value is trying to be set on a copy of a slice from a DataFrame\n",
      "\n",
      "See the caveats in the documentation: https://pandas.pydata.org/pandas-docs/stable/user_guide/indexing.html#returning-a-view-versus-a-copy\n",
      "  df_hpos_main.iloc[i] = pd.Series(hpos) if type(\n"
     ]
    },
    {
     "name": "stderr",
     "output_type": "stream",
     "text": [
      "train.py:train():187: Epoch 0 / 100 -\t\t Train loss: 0.15779881179332733\tVal loss: 0.06537824869155884\tVal accuracy: 0.3371949791908264 INFO\n"
     ]
    },
    {
     "name": "stderr",
     "output_type": "stream",
     "text": [
      "train.py:train():187: Epoch 10 / 100 -\t\t Train loss: -0.016428522765636444\tVal loss: -0.01699456386268139\tVal accuracy: 0.8930864334106445 INFO\n"
     ]
    },
    {
     "name": "stderr",
     "output_type": "stream",
     "text": [
      "train.py:train():187: Epoch 20 / 100 -\t\t Train loss: -0.019533764570951462\tVal loss: -0.01868247240781784\tVal accuracy: 0.9161671996116638 INFO\n"
     ]
    },
    {
     "name": "stderr",
     "output_type": "stream",
     "text": [
      "train.py:train():197: Early stopping triggered after 25 epochs:\n",
      "Train loss: -0.020584587007761\n",
      "Val loss: -0.020963074639439583\n",
      "Val accuracy: 0.9965307116508484\n",
      "Epochs no improvement: 0 WARNING\n"
     ]
    },
    {
     "name": "stdout",
     "output_type": "stream",
     "text": [
      "Training complete: 0:00:20.362592\n",
      "Warning: not using the test data for evaluation, but the training data instead of ../data/raw/summarise_simulation/2024_11_21_160955/tabulated_mutation_info.csv\n"
     ]
    },
    {
     "name": "stdout",
     "output_type": "stream",
     "text": [
      "The R2 score is  0.9758061766624451\n",
      "The R2 score with weighted variance is  0.9758061766624451\n"
     ]
    },
    {
     "name": "stdout",
     "output_type": "stream",
     "text": [
      "Steady states found after 0 mins and 23 secs. Now calculating signal response\n"
     ]
    },
    {
     "name": "stdout",
     "output_type": "stream",
     "text": [
      "Signal response found after 0 mins and 21 secs.\n"
     ]
    },
    {
     "name": "stdout",
     "output_type": "stream",
     "text": [
      "data/03_cvae_multi/2025_02_08__22_15_29/cvae_scan/hpo_201\n"
     ]
    },
    {
     "name": "stderr",
     "output_type": "stream",
     "text": [
      "/tmp/ipykernel_1299886/1985358741.py:40: SettingWithCopyWarning: \n",
      "A value is trying to be set on a copy of a slice from a DataFrame\n",
      "\n",
      "See the caveats in the documentation: https://pandas.pydata.org/pandas-docs/stable/user_guide/indexing.html#returning-a-view-versus-a-copy\n",
      "  df_hpos_main.iloc[i] = pd.Series(hpos) if type(\n"
     ]
    },
    {
     "name": "stderr",
     "output_type": "stream",
     "text": [
      "train.py:train():187: Epoch 0 / 100 -\t\t Train loss: 0.15779881179332733\tVal loss: 0.06537824869155884\tVal accuracy: 0.3371949791908264 INFO\n"
     ]
    },
    {
     "name": "stderr",
     "output_type": "stream",
     "text": [
      "train.py:train():187: Epoch 10 / 100 -\t\t Train loss: -0.016428522765636444\tVal loss: -0.01699456386268139\tVal accuracy: 0.8930864334106445 INFO\n"
     ]
    },
    {
     "name": "stderr",
     "output_type": "stream",
     "text": [
      "train.py:train():187: Epoch 20 / 100 -\t\t Train loss: -0.019533764570951462\tVal loss: -0.01868247240781784\tVal accuracy: 0.9161671996116638 INFO\n"
     ]
    },
    {
     "name": "stderr",
     "output_type": "stream",
     "text": [
      "train.py:train():197: Early stopping triggered after 25 epochs:\n",
      "Train loss: -0.020584587007761\n",
      "Val loss: -0.020963074639439583\n",
      "Val accuracy: 0.9965307116508484\n",
      "Epochs no improvement: 0 WARNING\n"
     ]
    },
    {
     "name": "stdout",
     "output_type": "stream",
     "text": [
      "Training complete: 0:00:20.244894\n",
      "Warning: not using the test data for evaluation, but the training data instead of ../data/raw/summarise_simulation/2024_11_21_160955/tabulated_mutation_info.csv\n"
     ]
    },
    {
     "name": "stdout",
     "output_type": "stream",
     "text": [
      "The R2 score is  0.9758061766624451\n",
      "The R2 score with weighted variance is  0.9758061766624451\n"
     ]
    },
    {
     "name": "stdout",
     "output_type": "stream",
     "text": [
      "Steady states found after 0 mins and 24 secs. Now calculating signal response\n"
     ]
    },
    {
     "name": "stdout",
     "output_type": "stream",
     "text": [
      "Signal response found after 0 mins and 21 secs.\n"
     ]
    },
    {
     "name": "stdout",
     "output_type": "stream",
     "text": [
      "data/03_cvae_multi/2025_02_08__22_15_29/cvae_scan/hpo_202\n"
     ]
    },
    {
     "name": "stderr",
     "output_type": "stream",
     "text": [
      "/tmp/ipykernel_1299886/1985358741.py:40: SettingWithCopyWarning: \n",
      "A value is trying to be set on a copy of a slice from a DataFrame\n",
      "\n",
      "See the caveats in the documentation: https://pandas.pydata.org/pandas-docs/stable/user_guide/indexing.html#returning-a-view-versus-a-copy\n",
      "  df_hpos_main.iloc[i] = pd.Series(hpos) if type(\n"
     ]
    },
    {
     "name": "stderr",
     "output_type": "stream",
     "text": [
      "train.py:train():187: Epoch 0 / 100 -\t\t Train loss: 0.15779881179332733\tVal loss: 0.06537824869155884\tVal accuracy: 0.3371949791908264 INFO\n"
     ]
    },
    {
     "name": "stderr",
     "output_type": "stream",
     "text": [
      "train.py:train():187: Epoch 10 / 100 -\t\t Train loss: -0.016428522765636444\tVal loss: -0.01699456386268139\tVal accuracy: 0.8930864334106445 INFO\n"
     ]
    },
    {
     "name": "stderr",
     "output_type": "stream",
     "text": [
      "train.py:train():197: Early stopping triggered after 12 epochs:\n",
      "Train loss: -0.017314566299319267\n",
      "Val loss: -0.0179197546094656\n",
      "Val accuracy: 0.915783703327179\n",
      "Epochs no improvement: 0 WARNING\n"
     ]
    },
    {
     "name": "stdout",
     "output_type": "stream",
     "text": [
      "Training complete: 0:00:09.508462\n",
      "Warning: not using the test data for evaluation, but the training data instead of ../data/raw/summarise_simulation/2024_11_21_160955/tabulated_mutation_info.csv\n"
     ]
    },
    {
     "name": "stdout",
     "output_type": "stream",
     "text": [
      "The R2 score is  0.9130368232727051\n",
      "The R2 score with weighted variance is  0.9130368232727051\n"
     ]
    },
    {
     "name": "stdout",
     "output_type": "stream",
     "text": [
      "Steady states found after 0 mins and 25 secs. Now calculating signal response\n"
     ]
    },
    {
     "name": "stdout",
     "output_type": "stream",
     "text": [
      "Signal response found after 0 mins and 24 secs.\n"
     ]
    },
    {
     "name": "stdout",
     "output_type": "stream",
     "text": [
      "data/03_cvae_multi/2025_02_08__22_15_29/cvae_scan/hpo_203\n"
     ]
    },
    {
     "name": "stderr",
     "output_type": "stream",
     "text": [
      "/tmp/ipykernel_1299886/1985358741.py:40: SettingWithCopyWarning: \n",
      "A value is trying to be set on a copy of a slice from a DataFrame\n",
      "\n",
      "See the caveats in the documentation: https://pandas.pydata.org/pandas-docs/stable/user_guide/indexing.html#returning-a-view-versus-a-copy\n",
      "  df_hpos_main.iloc[i] = pd.Series(hpos) if type(\n"
     ]
    },
    {
     "name": "stderr",
     "output_type": "stream",
     "text": [
      "train.py:train():187: Epoch 0 / 100 -\t\t Train loss: 0.15779881179332733\tVal loss: 0.06537824869155884\tVal accuracy: 0.3371949791908264 INFO\n"
     ]
    },
    {
     "name": "stderr",
     "output_type": "stream",
     "text": [
      "train.py:train():187: Epoch 10 / 100 -\t\t Train loss: -0.016428522765636444\tVal loss: -0.01699456386268139\tVal accuracy: 0.8930864334106445 INFO\n"
     ]
    },
    {
     "name": "stderr",
     "output_type": "stream",
     "text": [
      "train.py:train():197: Early stopping triggered after 12 epochs:\n",
      "Train loss: -0.017314566299319267\n",
      "Val loss: -0.0179197546094656\n",
      "Val accuracy: 0.915783703327179\n",
      "Epochs no improvement: 0 WARNING\n"
     ]
    },
    {
     "name": "stdout",
     "output_type": "stream",
     "text": [
      "Training complete: 0:00:09.360840\n",
      "Warning: not using the test data for evaluation, but the training data instead of ../data/raw/summarise_simulation/2024_11_21_160955/tabulated_mutation_info.csv\n"
     ]
    },
    {
     "name": "stdout",
     "output_type": "stream",
     "text": [
      "The R2 score is  0.9130368232727051\n",
      "The R2 score with weighted variance is  0.9130368232727051\n"
     ]
    },
    {
     "name": "stdout",
     "output_type": "stream",
     "text": [
      "Steady states found after 0 mins and 25 secs. Now calculating signal response\n"
     ]
    },
    {
     "name": "stdout",
     "output_type": "stream",
     "text": [
      "Signal response found after 0 mins and 24 secs.\n"
     ]
    },
    {
     "name": "stdout",
     "output_type": "stream",
     "text": [
      "data/03_cvae_multi/2025_02_08__22_15_29/cvae_scan/hpo_204\n"
     ]
    },
    {
     "name": "stderr",
     "output_type": "stream",
     "text": [
      "/tmp/ipykernel_1299886/1985358741.py:40: SettingWithCopyWarning: \n",
      "A value is trying to be set on a copy of a slice from a DataFrame\n",
      "\n",
      "See the caveats in the documentation: https://pandas.pydata.org/pandas-docs/stable/user_guide/indexing.html#returning-a-view-versus-a-copy\n",
      "  df_hpos_main.iloc[i] = pd.Series(hpos) if type(\n"
     ]
    },
    {
     "name": "stderr",
     "output_type": "stream",
     "text": [
      "train.py:train():187: Epoch 0 / 100 -\t\t Train loss: 0.15779881179332733\tVal loss: 0.06537824869155884\tVal accuracy: 0.3371949791908264 INFO\n"
     ]
    },
    {
     "name": "stderr",
     "output_type": "stream",
     "text": [
      "train.py:train():187: Epoch 10 / 100 -\t\t Train loss: -0.016428522765636444\tVal loss: -0.01699456386268139\tVal accuracy: 0.8930864334106445 INFO\n"
     ]
    },
    {
     "name": "stderr",
     "output_type": "stream",
     "text": [
      "train.py:train():197: Early stopping triggered after 12 epochs:\n",
      "Train loss: -0.017314566299319267\n",
      "Val loss: -0.0179197546094656\n",
      "Val accuracy: 0.915783703327179\n",
      "Epochs no improvement: 0 WARNING\n"
     ]
    },
    {
     "name": "stdout",
     "output_type": "stream",
     "text": [
      "Training complete: 0:00:10.378387\n",
      "Warning: not using the test data for evaluation, but the training data instead of ../data/raw/summarise_simulation/2024_11_21_160955/tabulated_mutation_info.csv\n"
     ]
    },
    {
     "name": "stdout",
     "output_type": "stream",
     "text": [
      "The R2 score is  0.9130368232727051\n",
      "The R2 score with weighted variance is  0.9130368232727051\n"
     ]
    },
    {
     "name": "stdout",
     "output_type": "stream",
     "text": [
      "Steady states found after 0 mins and 25 secs. Now calculating signal response\n"
     ]
    },
    {
     "name": "stdout",
     "output_type": "stream",
     "text": [
      "Signal response found after 0 mins and 24 secs.\n"
     ]
    },
    {
     "name": "stdout",
     "output_type": "stream",
     "text": [
      "data/03_cvae_multi/2025_02_08__22_15_29/cvae_scan/hpo_205\n"
     ]
    },
    {
     "name": "stderr",
     "output_type": "stream",
     "text": [
      "/tmp/ipykernel_1299886/1985358741.py:40: SettingWithCopyWarning: \n",
      "A value is trying to be set on a copy of a slice from a DataFrame\n",
      "\n",
      "See the caveats in the documentation: https://pandas.pydata.org/pandas-docs/stable/user_guide/indexing.html#returning-a-view-versus-a-copy\n",
      "  df_hpos_main.iloc[i] = pd.Series(hpos) if type(\n"
     ]
    },
    {
     "name": "stderr",
     "output_type": "stream",
     "text": [
      "train.py:train():187: Epoch 0 / 100 -\t\t Train loss: 0.15779881179332733\tVal loss: 0.06537824869155884\tVal accuracy: 0.3371949791908264 INFO\n"
     ]
    },
    {
     "name": "stderr",
     "output_type": "stream",
     "text": [
      "train.py:train():187: Epoch 10 / 100 -\t\t Train loss: -0.016428522765636444\tVal loss: -0.01699456386268139\tVal accuracy: 0.8930864334106445 INFO\n"
     ]
    },
    {
     "name": "stderr",
     "output_type": "stream",
     "text": [
      "train.py:train():197: Early stopping triggered after 12 epochs:\n",
      "Train loss: -0.017314566299319267\n",
      "Val loss: -0.0179197546094656\n",
      "Val accuracy: 0.915783703327179\n",
      "Epochs no improvement: 0 WARNING\n"
     ]
    },
    {
     "name": "stdout",
     "output_type": "stream",
     "text": [
      "Training complete: 0:00:09.442485\n",
      "Warning: not using the test data for evaluation, but the training data instead of ../data/raw/summarise_simulation/2024_11_21_160955/tabulated_mutation_info.csv\n"
     ]
    },
    {
     "name": "stdout",
     "output_type": "stream",
     "text": [
      "The R2 score is  0.9130368232727051\n",
      "The R2 score with weighted variance is  0.9130368232727051\n"
     ]
    },
    {
     "name": "stdout",
     "output_type": "stream",
     "text": [
      "Steady states found after 0 mins and 25 secs. Now calculating signal response\n"
     ]
    },
    {
     "name": "stdout",
     "output_type": "stream",
     "text": [
      "Signal response found after 0 mins and 24 secs.\n"
     ]
    },
    {
     "name": "stdout",
     "output_type": "stream",
     "text": [
      "data/03_cvae_multi/2025_02_08__22_15_29/cvae_scan/hpo_206\n"
     ]
    },
    {
     "name": "stderr",
     "output_type": "stream",
     "text": [
      "/tmp/ipykernel_1299886/1985358741.py:40: SettingWithCopyWarning: \n",
      "A value is trying to be set on a copy of a slice from a DataFrame\n",
      "\n",
      "See the caveats in the documentation: https://pandas.pydata.org/pandas-docs/stable/user_guide/indexing.html#returning-a-view-versus-a-copy\n",
      "  df_hpos_main.iloc[i] = pd.Series(hpos) if type(\n"
     ]
    },
    {
     "name": "stderr",
     "output_type": "stream",
     "text": [
      "train.py:train():187: Epoch 0 / 100 -\t\t Train loss: 0.15779881179332733\tVal loss: 0.06537824869155884\tVal accuracy: 0.3371949791908264 INFO\n"
     ]
    },
    {
     "name": "stderr",
     "output_type": "stream",
     "text": [
      "train.py:train():187: Epoch 10 / 100 -\t\t Train loss: -0.016428522765636444\tVal loss: -0.01699456386268139\tVal accuracy: 0.8930864334106445 INFO\n"
     ]
    },
    {
     "name": "stderr",
     "output_type": "stream",
     "text": [
      "train.py:train():197: Early stopping triggered after 12 epochs:\n",
      "Train loss: -0.017314566299319267\n",
      "Val loss: -0.0179197546094656\n",
      "Val accuracy: 0.915783703327179\n",
      "Epochs no improvement: 0 WARNING\n"
     ]
    },
    {
     "name": "stdout",
     "output_type": "stream",
     "text": [
      "Training complete: 0:00:09.541608\n",
      "Warning: not using the test data for evaluation, but the training data instead of ../data/raw/summarise_simulation/2024_11_21_160955/tabulated_mutation_info.csv\n"
     ]
    },
    {
     "name": "stdout",
     "output_type": "stream",
     "text": [
      "The R2 score is  0.9130368232727051\n",
      "The R2 score with weighted variance is  0.9130368232727051\n"
     ]
    },
    {
     "name": "stdout",
     "output_type": "stream",
     "text": [
      "Steady states found after 0 mins and 25 secs. Now calculating signal response\n"
     ]
    },
    {
     "name": "stdout",
     "output_type": "stream",
     "text": [
      "Signal response found after 0 mins and 24 secs.\n"
     ]
    },
    {
     "name": "stdout",
     "output_type": "stream",
     "text": [
      "data/03_cvae_multi/2025_02_08__22_15_29/cvae_scan/hpo_207\n"
     ]
    },
    {
     "name": "stderr",
     "output_type": "stream",
     "text": [
      "/tmp/ipykernel_1299886/1985358741.py:40: SettingWithCopyWarning: \n",
      "A value is trying to be set on a copy of a slice from a DataFrame\n",
      "\n",
      "See the caveats in the documentation: https://pandas.pydata.org/pandas-docs/stable/user_guide/indexing.html#returning-a-view-versus-a-copy\n",
      "  df_hpos_main.iloc[i] = pd.Series(hpos) if type(\n"
     ]
    },
    {
     "name": "stderr",
     "output_type": "stream",
     "text": [
      "train.py:train():187: Epoch 0 / 100 -\t\t Train loss: 0.15779881179332733\tVal loss: 0.06537824869155884\tVal accuracy: 0.3371949791908264 INFO\n"
     ]
    },
    {
     "name": "stderr",
     "output_type": "stream",
     "text": [
      "train.py:train():187: Epoch 10 / 100 -\t\t Train loss: -0.016428522765636444\tVal loss: -0.01699456386268139\tVal accuracy: 0.8930864334106445 INFO\n"
     ]
    },
    {
     "name": "stderr",
     "output_type": "stream",
     "text": [
      "train.py:train():197: Early stopping triggered after 12 epochs:\n",
      "Train loss: -0.017314566299319267\n",
      "Val loss: -0.0179197546094656\n",
      "Val accuracy: 0.915783703327179\n",
      "Epochs no improvement: 0 WARNING\n"
     ]
    },
    {
     "name": "stdout",
     "output_type": "stream",
     "text": [
      "Training complete: 0:00:09.433455\n",
      "Warning: not using the test data for evaluation, but the training data instead of ../data/raw/summarise_simulation/2024_11_21_160955/tabulated_mutation_info.csv\n"
     ]
    },
    {
     "name": "stdout",
     "output_type": "stream",
     "text": [
      "The R2 score is  0.9130368232727051\n",
      "The R2 score with weighted variance is  0.9130368232727051\n"
     ]
    },
    {
     "name": "stdout",
     "output_type": "stream",
     "text": [
      "Steady states found after 0 mins and 25 secs. Now calculating signal response\n"
     ]
    },
    {
     "name": "stdout",
     "output_type": "stream",
     "text": [
      "Signal response found after 0 mins and 24 secs.\n"
     ]
    },
    {
     "name": "stdout",
     "output_type": "stream",
     "text": [
      "data/03_cvae_multi/2025_02_08__22_15_29/cvae_scan/hpo_208\n"
     ]
    },
    {
     "name": "stderr",
     "output_type": "stream",
     "text": [
      "/tmp/ipykernel_1299886/1985358741.py:40: SettingWithCopyWarning: \n",
      "A value is trying to be set on a copy of a slice from a DataFrame\n",
      "\n",
      "See the caveats in the documentation: https://pandas.pydata.org/pandas-docs/stable/user_guide/indexing.html#returning-a-view-versus-a-copy\n",
      "  df_hpos_main.iloc[i] = pd.Series(hpos) if type(\n"
     ]
    },
    {
     "name": "stderr",
     "output_type": "stream",
     "text": [
      "train.py:train():187: Epoch 0 / 100 -\t\t Train loss: 0.16883546113967896\tVal loss: 0.07718240469694138\tVal accuracy: 0.33735549449920654 INFO\n"
     ]
    },
    {
     "name": "stderr",
     "output_type": "stream",
     "text": [
      "train.py:train():187: Epoch 10 / 100 -\t\t Train loss: 0.007145437877625227\tVal loss: 0.006749055813997984\tVal accuracy: 0.8843374848365784 INFO\n"
     ]
    },
    {
     "name": "stderr",
     "output_type": "stream",
     "text": [
      "train.py:train():187: Epoch 20 / 100 -\t\t Train loss: -0.00700882775709033\tVal loss: -0.007119163870811462\tVal accuracy: 0.9471318125724792 INFO\n"
     ]
    },
    {
     "name": "stderr",
     "output_type": "stream",
     "text": [
      "train.py:train():187: Epoch 30 / 100 -\t\t Train loss: -0.008123409934341908\tVal loss: -0.007823371328413486\tVal accuracy: 0.9686340093612671 INFO\n"
     ]
    },
    {
     "name": "stderr",
     "output_type": "stream",
     "text": [
      "train.py:train():197: Early stopping triggered after 37 epochs:\n",
      "Train loss: -0.008575369603931904\n",
      "Val loss: -0.008653326891362667\n",
      "Val accuracy: 0.9959955811500549\n",
      "Epochs no improvement: 1 WARNING\n"
     ]
    },
    {
     "name": "stdout",
     "output_type": "stream",
     "text": [
      "Training complete: 0:00:30.506627\n",
      "Warning: not using the test data for evaluation, but the training data instead of ../data/raw/summarise_simulation/2024_11_21_160955/tabulated_mutation_info.csv\n"
     ]
    },
    {
     "name": "stdout",
     "output_type": "stream",
     "text": [
      "The R2 score is  0.9751905202865601\n",
      "The R2 score with weighted variance is  0.9751905798912048\n"
     ]
    },
    {
     "name": "stdout",
     "output_type": "stream",
     "text": [
      "Steady states found after 0 mins and 26 secs. Now calculating signal response\n"
     ]
    },
    {
     "name": "stdout",
     "output_type": "stream",
     "text": [
      "Signal response found after 0 mins and 23 secs.\n"
     ]
    },
    {
     "name": "stdout",
     "output_type": "stream",
     "text": [
      "data/03_cvae_multi/2025_02_08__22_15_29/cvae_scan/hpo_209\n"
     ]
    },
    {
     "name": "stderr",
     "output_type": "stream",
     "text": [
      "/tmp/ipykernel_1299886/1985358741.py:40: SettingWithCopyWarning: \n",
      "A value is trying to be set on a copy of a slice from a DataFrame\n",
      "\n",
      "See the caveats in the documentation: https://pandas.pydata.org/pandas-docs/stable/user_guide/indexing.html#returning-a-view-versus-a-copy\n",
      "  df_hpos_main.iloc[i] = pd.Series(hpos) if type(\n"
     ]
    },
    {
     "name": "stderr",
     "output_type": "stream",
     "text": [
      "train.py:train():187: Epoch 0 / 100 -\t\t Train loss: 0.16883546113967896\tVal loss: 0.07718240469694138\tVal accuracy: 0.33735549449920654 INFO\n"
     ]
    },
    {
     "name": "stderr",
     "output_type": "stream",
     "text": [
      "train.py:train():187: Epoch 10 / 100 -\t\t Train loss: 0.007145437877625227\tVal loss: 0.006749055813997984\tVal accuracy: 0.8843374848365784 INFO\n"
     ]
    },
    {
     "name": "stderr",
     "output_type": "stream",
     "text": [
      "train.py:train():187: Epoch 20 / 100 -\t\t Train loss: -0.00700882775709033\tVal loss: -0.007119163870811462\tVal accuracy: 0.9471318125724792 INFO\n"
     ]
    },
    {
     "name": "stderr",
     "output_type": "stream",
     "text": [
      "train.py:train():187: Epoch 30 / 100 -\t\t Train loss: -0.008123409934341908\tVal loss: -0.007823371328413486\tVal accuracy: 0.9686340093612671 INFO\n"
     ]
    },
    {
     "name": "stderr",
     "output_type": "stream",
     "text": [
      "train.py:train():197: Early stopping triggered after 37 epochs:\n",
      "Train loss: -0.008575369603931904\n",
      "Val loss: -0.008653326891362667\n",
      "Val accuracy: 0.9959955811500549\n",
      "Epochs no improvement: 1 WARNING\n"
     ]
    },
    {
     "name": "stdout",
     "output_type": "stream",
     "text": [
      "Training complete: 0:00:29.231842\n",
      "Warning: not using the test data for evaluation, but the training data instead of ../data/raw/summarise_simulation/2024_11_21_160955/tabulated_mutation_info.csv\n"
     ]
    },
    {
     "name": "stdout",
     "output_type": "stream",
     "text": [
      "The R2 score is  0.9751905202865601\n",
      "The R2 score with weighted variance is  0.9751905798912048\n"
     ]
    },
    {
     "name": "stdout",
     "output_type": "stream",
     "text": [
      "Steady states found after 0 mins and 26 secs. Now calculating signal response\n"
     ]
    },
    {
     "name": "stdout",
     "output_type": "stream",
     "text": [
      "Signal response found after 0 mins and 23 secs.\n"
     ]
    },
    {
     "name": "stdout",
     "output_type": "stream",
     "text": [
      "data/03_cvae_multi/2025_02_08__22_15_29/cvae_scan/hpo_210\n"
     ]
    },
    {
     "name": "stderr",
     "output_type": "stream",
     "text": [
      "/tmp/ipykernel_1299886/1985358741.py:40: SettingWithCopyWarning: \n",
      "A value is trying to be set on a copy of a slice from a DataFrame\n",
      "\n",
      "See the caveats in the documentation: https://pandas.pydata.org/pandas-docs/stable/user_guide/indexing.html#returning-a-view-versus-a-copy\n",
      "  df_hpos_main.iloc[i] = pd.Series(hpos) if type(\n"
     ]
    },
    {
     "name": "stderr",
     "output_type": "stream",
     "text": [
      "train.py:train():187: Epoch 0 / 100 -\t\t Train loss: 0.16883546113967896\tVal loss: 0.07718240469694138\tVal accuracy: 0.33735549449920654 INFO\n"
     ]
    },
    {
     "name": "stderr",
     "output_type": "stream",
     "text": [
      "train.py:train():187: Epoch 10 / 100 -\t\t Train loss: 0.007145437877625227\tVal loss: 0.006749055813997984\tVal accuracy: 0.8843374848365784 INFO\n"
     ]
    },
    {
     "name": "stderr",
     "output_type": "stream",
     "text": [
      "train.py:train():187: Epoch 20 / 100 -\t\t Train loss: -0.00700882775709033\tVal loss: -0.007119163870811462\tVal accuracy: 0.9471318125724792 INFO\n"
     ]
    },
    {
     "name": "stderr",
     "output_type": "stream",
     "text": [
      "train.py:train():187: Epoch 30 / 100 -\t\t Train loss: -0.008123409934341908\tVal loss: -0.007823371328413486\tVal accuracy: 0.9686340093612671 INFO\n"
     ]
    },
    {
     "name": "stderr",
     "output_type": "stream",
     "text": [
      "train.py:train():197: Early stopping triggered after 37 epochs:\n",
      "Train loss: -0.008575369603931904\n",
      "Val loss: -0.008653326891362667\n",
      "Val accuracy: 0.9959955811500549\n",
      "Epochs no improvement: 1 WARNING\n"
     ]
    },
    {
     "name": "stdout",
     "output_type": "stream",
     "text": [
      "Training complete: 0:00:30.634854\n",
      "Warning: not using the test data for evaluation, but the training data instead of ../data/raw/summarise_simulation/2024_11_21_160955/tabulated_mutation_info.csv\n"
     ]
    },
    {
     "name": "stdout",
     "output_type": "stream",
     "text": [
      "The R2 score is  0.9751905202865601\n",
      "The R2 score with weighted variance is  0.9751905798912048\n"
     ]
    },
    {
     "name": "stdout",
     "output_type": "stream",
     "text": [
      "Steady states found after 0 mins and 27 secs. Now calculating signal response\n"
     ]
    },
    {
     "name": "stdout",
     "output_type": "stream",
     "text": [
      "Signal response found after 0 mins and 24 secs.\n"
     ]
    },
    {
     "name": "stdout",
     "output_type": "stream",
     "text": [
      "data/03_cvae_multi/2025_02_08__22_15_29/cvae_scan/hpo_211\n"
     ]
    },
    {
     "name": "stderr",
     "output_type": "stream",
     "text": [
      "/tmp/ipykernel_1299886/1985358741.py:40: SettingWithCopyWarning: \n",
      "A value is trying to be set on a copy of a slice from a DataFrame\n",
      "\n",
      "See the caveats in the documentation: https://pandas.pydata.org/pandas-docs/stable/user_guide/indexing.html#returning-a-view-versus-a-copy\n",
      "  df_hpos_main.iloc[i] = pd.Series(hpos) if type(\n"
     ]
    },
    {
     "name": "stderr",
     "output_type": "stream",
     "text": [
      "train.py:train():187: Epoch 0 / 100 -\t\t Train loss: 0.16883546113967896\tVal loss: 0.07718240469694138\tVal accuracy: 0.33735549449920654 INFO\n"
     ]
    },
    {
     "name": "stderr",
     "output_type": "stream",
     "text": [
      "train.py:train():187: Epoch 10 / 100 -\t\t Train loss: 0.007145437877625227\tVal loss: 0.006749055813997984\tVal accuracy: 0.8843374848365784 INFO\n"
     ]
    },
    {
     "name": "stderr",
     "output_type": "stream",
     "text": [
      "train.py:train():187: Epoch 20 / 100 -\t\t Train loss: -0.00700882775709033\tVal loss: -0.007119163870811462\tVal accuracy: 0.9471318125724792 INFO\n"
     ]
    },
    {
     "name": "stderr",
     "output_type": "stream",
     "text": [
      "train.py:train():187: Epoch 30 / 100 -\t\t Train loss: -0.008123409934341908\tVal loss: -0.007823371328413486\tVal accuracy: 0.9686340093612671 INFO\n"
     ]
    },
    {
     "name": "stderr",
     "output_type": "stream",
     "text": [
      "train.py:train():197: Early stopping triggered after 37 epochs:\n",
      "Train loss: -0.008575369603931904\n",
      "Val loss: -0.008653326891362667\n",
      "Val accuracy: 0.9959955811500549\n",
      "Epochs no improvement: 1 WARNING\n"
     ]
    },
    {
     "name": "stdout",
     "output_type": "stream",
     "text": [
      "Training complete: 0:00:30.838533\n",
      "Warning: not using the test data for evaluation, but the training data instead of ../data/raw/summarise_simulation/2024_11_21_160955/tabulated_mutation_info.csv\n"
     ]
    },
    {
     "name": "stdout",
     "output_type": "stream",
     "text": [
      "The R2 score is  0.9751905202865601\n",
      "The R2 score with weighted variance is  0.9751905798912048\n"
     ]
    },
    {
     "name": "stdout",
     "output_type": "stream",
     "text": [
      "Steady states found after 0 mins and 27 secs. Now calculating signal response\n"
     ]
    },
    {
     "name": "stdout",
     "output_type": "stream",
     "text": [
      "Signal response found after 0 mins and 24 secs.\n"
     ]
    },
    {
     "name": "stdout",
     "output_type": "stream",
     "text": [
      "data/03_cvae_multi/2025_02_08__22_15_29/cvae_scan/hpo_212\n"
     ]
    },
    {
     "name": "stderr",
     "output_type": "stream",
     "text": [
      "/tmp/ipykernel_1299886/1985358741.py:40: SettingWithCopyWarning: \n",
      "A value is trying to be set on a copy of a slice from a DataFrame\n",
      "\n",
      "See the caveats in the documentation: https://pandas.pydata.org/pandas-docs/stable/user_guide/indexing.html#returning-a-view-versus-a-copy\n",
      "  df_hpos_main.iloc[i] = pd.Series(hpos) if type(\n"
     ]
    },
    {
     "name": "stderr",
     "output_type": "stream",
     "text": [
      "train.py:train():187: Epoch 0 / 100 -\t\t Train loss: 0.16883546113967896\tVal loss: 0.07718240469694138\tVal accuracy: 0.33735549449920654 INFO\n"
     ]
    },
    {
     "name": "stderr",
     "output_type": "stream",
     "text": [
      "train.py:train():187: Epoch 10 / 100 -\t\t Train loss: 0.007145437877625227\tVal loss: 0.006749055813997984\tVal accuracy: 0.8843374848365784 INFO\n"
     ]
    },
    {
     "name": "stderr",
     "output_type": "stream",
     "text": [
      "train.py:train():187: Epoch 20 / 100 -\t\t Train loss: -0.00700882775709033\tVal loss: -0.007119163870811462\tVal accuracy: 0.9471318125724792 INFO\n"
     ]
    },
    {
     "name": "stderr",
     "output_type": "stream",
     "text": [
      "train.py:train():187: Epoch 30 / 100 -\t\t Train loss: -0.008123409934341908\tVal loss: -0.007823371328413486\tVal accuracy: 0.9686340093612671 INFO\n"
     ]
    },
    {
     "name": "stderr",
     "output_type": "stream",
     "text": [
      "train.py:train():197: Early stopping triggered after 37 epochs:\n",
      "Train loss: -0.008575369603931904\n",
      "Val loss: -0.008653326891362667\n",
      "Val accuracy: 0.9959955811500549\n",
      "Epochs no improvement: 1 WARNING\n"
     ]
    },
    {
     "name": "stdout",
     "output_type": "stream",
     "text": [
      "Training complete: 0:00:29.320057\n",
      "Warning: not using the test data for evaluation, but the training data instead of ../data/raw/summarise_simulation/2024_11_21_160955/tabulated_mutation_info.csv\n"
     ]
    },
    {
     "name": "stdout",
     "output_type": "stream",
     "text": [
      "The R2 score is  0.9751905202865601\n",
      "The R2 score with weighted variance is  0.9751905798912048\n"
     ]
    },
    {
     "name": "stdout",
     "output_type": "stream",
     "text": [
      "Steady states found after 0 mins and 27 secs. Now calculating signal response\n"
     ]
    },
    {
     "name": "stdout",
     "output_type": "stream",
     "text": [
      "Signal response found after 0 mins and 24 secs.\n"
     ]
    },
    {
     "name": "stdout",
     "output_type": "stream",
     "text": [
      "data/03_cvae_multi/2025_02_08__22_15_29/cvae_scan/hpo_213\n"
     ]
    },
    {
     "name": "stderr",
     "output_type": "stream",
     "text": [
      "/tmp/ipykernel_1299886/1985358741.py:40: SettingWithCopyWarning: \n",
      "A value is trying to be set on a copy of a slice from a DataFrame\n",
      "\n",
      "See the caveats in the documentation: https://pandas.pydata.org/pandas-docs/stable/user_guide/indexing.html#returning-a-view-versus-a-copy\n",
      "  df_hpos_main.iloc[i] = pd.Series(hpos) if type(\n"
     ]
    },
    {
     "name": "stderr",
     "output_type": "stream",
     "text": [
      "train.py:train():187: Epoch 0 / 100 -\t\t Train loss: 0.16883546113967896\tVal loss: 0.07718240469694138\tVal accuracy: 0.33735549449920654 INFO\n"
     ]
    },
    {
     "name": "stderr",
     "output_type": "stream",
     "text": [
      "train.py:train():187: Epoch 10 / 100 -\t\t Train loss: 0.007145437877625227\tVal loss: 0.006749055813997984\tVal accuracy: 0.8843374848365784 INFO\n"
     ]
    },
    {
     "name": "stderr",
     "output_type": "stream",
     "text": [
      "train.py:train():187: Epoch 20 / 100 -\t\t Train loss: -0.00700882775709033\tVal loss: -0.007119163870811462\tVal accuracy: 0.9471318125724792 INFO\n"
     ]
    },
    {
     "name": "stderr",
     "output_type": "stream",
     "text": [
      "train.py:train():187: Epoch 30 / 100 -\t\t Train loss: -0.008123409934341908\tVal loss: -0.007823371328413486\tVal accuracy: 0.9686340093612671 INFO\n"
     ]
    },
    {
     "name": "stderr",
     "output_type": "stream",
     "text": [
      "train.py:train():197: Early stopping triggered after 37 epochs:\n",
      "Train loss: -0.008575369603931904\n",
      "Val loss: -0.008653326891362667\n",
      "Val accuracy: 0.9959955811500549\n",
      "Epochs no improvement: 1 WARNING\n"
     ]
    },
    {
     "name": "stdout",
     "output_type": "stream",
     "text": [
      "Training complete: 0:00:31.158546\n",
      "Warning: not using the test data for evaluation, but the training data instead of ../data/raw/summarise_simulation/2024_11_21_160955/tabulated_mutation_info.csv\n"
     ]
    },
    {
     "name": "stdout",
     "output_type": "stream",
     "text": [
      "The R2 score is  0.9751905202865601\n",
      "The R2 score with weighted variance is  0.9751905798912048\n"
     ]
    },
    {
     "name": "stdout",
     "output_type": "stream",
     "text": [
      "Steady states found after 0 mins and 26 secs. Now calculating signal response\n"
     ]
    },
    {
     "name": "stdout",
     "output_type": "stream",
     "text": [
      "Signal response found after 0 mins and 23 secs.\n"
     ]
    },
    {
     "name": "stdout",
     "output_type": "stream",
     "text": [
      "data/03_cvae_multi/2025_02_08__22_15_29/cvae_scan/hpo_214\n"
     ]
    },
    {
     "name": "stderr",
     "output_type": "stream",
     "text": [
      "/tmp/ipykernel_1299886/1985358741.py:40: SettingWithCopyWarning: \n",
      "A value is trying to be set on a copy of a slice from a DataFrame\n",
      "\n",
      "See the caveats in the documentation: https://pandas.pydata.org/pandas-docs/stable/user_guide/indexing.html#returning-a-view-versus-a-copy\n",
      "  df_hpos_main.iloc[i] = pd.Series(hpos) if type(\n"
     ]
    },
    {
     "name": "stderr",
     "output_type": "stream",
     "text": [
      "train.py:train():187: Epoch 0 / 100 -\t\t Train loss: 0.16883546113967896\tVal loss: 0.07718240469694138\tVal accuracy: 0.33735549449920654 INFO\n"
     ]
    },
    {
     "name": "stderr",
     "output_type": "stream",
     "text": [
      "train.py:train():187: Epoch 10 / 100 -\t\t Train loss: 0.007145437877625227\tVal loss: 0.006749055813997984\tVal accuracy: 0.8843374848365784 INFO\n"
     ]
    },
    {
     "name": "stderr",
     "output_type": "stream",
     "text": [
      "train.py:train():197: Early stopping triggered after 18 epochs:\n",
      "Train loss: -0.006353514734655619\n",
      "Val loss: -0.006773042492568493\n",
      "Val accuracy: 0.9380350708961487\n",
      "Epochs no improvement: 0 WARNING\n"
     ]
    },
    {
     "name": "stdout",
     "output_type": "stream",
     "text": [
      "Training complete: 0:00:14.263574\n",
      "Warning: not using the test data for evaluation, but the training data instead of ../data/raw/summarise_simulation/2024_11_21_160955/tabulated_mutation_info.csv\n"
     ]
    },
    {
     "name": "stdout",
     "output_type": "stream",
     "text": [
      "The R2 score is  0.9287000298500061\n",
      "The R2 score with weighted variance is  0.9287000298500061\n"
     ]
    },
    {
     "name": "stdout",
     "output_type": "stream",
     "text": [
      "Steady states found after 0 mins and 29 secs. Now calculating signal response\n"
     ]
    },
    {
     "name": "stdout",
     "output_type": "stream",
     "text": [
      "Signal response found after 0 mins and 29 secs.\n"
     ]
    },
    {
     "name": "stdout",
     "output_type": "stream",
     "text": [
      "data/03_cvae_multi/2025_02_08__22_15_29/cvae_scan/hpo_215\n"
     ]
    },
    {
     "name": "stderr",
     "output_type": "stream",
     "text": [
      "/tmp/ipykernel_1299886/1985358741.py:40: SettingWithCopyWarning: \n",
      "A value is trying to be set on a copy of a slice from a DataFrame\n",
      "\n",
      "See the caveats in the documentation: https://pandas.pydata.org/pandas-docs/stable/user_guide/indexing.html#returning-a-view-versus-a-copy\n",
      "  df_hpos_main.iloc[i] = pd.Series(hpos) if type(\n"
     ]
    },
    {
     "name": "stderr",
     "output_type": "stream",
     "text": [
      "train.py:train():187: Epoch 0 / 100 -\t\t Train loss: 0.16883546113967896\tVal loss: 0.07718240469694138\tVal accuracy: 0.33735549449920654 INFO\n"
     ]
    },
    {
     "name": "stderr",
     "output_type": "stream",
     "text": [
      "train.py:train():187: Epoch 10 / 100 -\t\t Train loss: 0.007145437877625227\tVal loss: 0.006749055813997984\tVal accuracy: 0.8843374848365784 INFO\n"
     ]
    },
    {
     "name": "stderr",
     "output_type": "stream",
     "text": [
      "train.py:train():197: Early stopping triggered after 18 epochs:\n",
      "Train loss: -0.006353514734655619\n",
      "Val loss: -0.006773042492568493\n",
      "Val accuracy: 0.9380350708961487\n",
      "Epochs no improvement: 0 WARNING\n"
     ]
    },
    {
     "name": "stdout",
     "output_type": "stream",
     "text": [
      "Training complete: 0:00:14.350596\n",
      "Warning: not using the test data for evaluation, but the training data instead of ../data/raw/summarise_simulation/2024_11_21_160955/tabulated_mutation_info.csv\n"
     ]
    },
    {
     "name": "stdout",
     "output_type": "stream",
     "text": [
      "The R2 score is  0.9287000298500061\n",
      "The R2 score with weighted variance is  0.9287000298500061\n"
     ]
    },
    {
     "name": "stdout",
     "output_type": "stream",
     "text": [
      "Steady states found after 0 mins and 29 secs. Now calculating signal response\n"
     ]
    },
    {
     "name": "stdout",
     "output_type": "stream",
     "text": [
      "Signal response found after 0 mins and 30 secs.\n"
     ]
    },
    {
     "name": "stdout",
     "output_type": "stream",
     "text": [
      "data/03_cvae_multi/2025_02_08__22_15_29/cvae_scan/hpo_216\n"
     ]
    },
    {
     "name": "stderr",
     "output_type": "stream",
     "text": [
      "/tmp/ipykernel_1299886/1985358741.py:40: SettingWithCopyWarning: \n",
      "A value is trying to be set on a copy of a slice from a DataFrame\n",
      "\n",
      "See the caveats in the documentation: https://pandas.pydata.org/pandas-docs/stable/user_guide/indexing.html#returning-a-view-versus-a-copy\n",
      "  df_hpos_main.iloc[i] = pd.Series(hpos) if type(\n"
     ]
    },
    {
     "name": "stderr",
     "output_type": "stream",
     "text": [
      "train.py:train():187: Epoch 0 / 100 -\t\t Train loss: 0.16883546113967896\tVal loss: 0.07718240469694138\tVal accuracy: 0.33735549449920654 INFO\n"
     ]
    },
    {
     "name": "stderr",
     "output_type": "stream",
     "text": [
      "train.py:train():187: Epoch 10 / 100 -\t\t Train loss: 0.007145437877625227\tVal loss: 0.006749055813997984\tVal accuracy: 0.8843374848365784 INFO\n"
     ]
    },
    {
     "name": "stderr",
     "output_type": "stream",
     "text": [
      "train.py:train():197: Early stopping triggered after 18 epochs:\n",
      "Train loss: -0.006353514734655619\n",
      "Val loss: -0.006773042492568493\n",
      "Val accuracy: 0.9380350708961487\n",
      "Epochs no improvement: 0 WARNING\n"
     ]
    },
    {
     "name": "stdout",
     "output_type": "stream",
     "text": [
      "Training complete: 0:00:14.332019\n",
      "Warning: not using the test data for evaluation, but the training data instead of ../data/raw/summarise_simulation/2024_11_21_160955/tabulated_mutation_info.csv\n"
     ]
    },
    {
     "name": "stdout",
     "output_type": "stream",
     "text": [
      "The R2 score is  0.9287000298500061\n",
      "The R2 score with weighted variance is  0.9287000298500061\n"
     ]
    },
    {
     "name": "stdout",
     "output_type": "stream",
     "text": [
      "Steady states found after 0 mins and 29 secs. Now calculating signal response\n"
     ]
    },
    {
     "name": "stdout",
     "output_type": "stream",
     "text": [
      "Signal response found after 0 mins and 29 secs.\n"
     ]
    },
    {
     "name": "stdout",
     "output_type": "stream",
     "text": [
      "data/03_cvae_multi/2025_02_08__22_15_29/cvae_scan/hpo_217\n"
     ]
    },
    {
     "name": "stderr",
     "output_type": "stream",
     "text": [
      "/tmp/ipykernel_1299886/1985358741.py:40: SettingWithCopyWarning: \n",
      "A value is trying to be set on a copy of a slice from a DataFrame\n",
      "\n",
      "See the caveats in the documentation: https://pandas.pydata.org/pandas-docs/stable/user_guide/indexing.html#returning-a-view-versus-a-copy\n",
      "  df_hpos_main.iloc[i] = pd.Series(hpos) if type(\n"
     ]
    },
    {
     "name": "stderr",
     "output_type": "stream",
     "text": [
      "train.py:train():187: Epoch 0 / 100 -\t\t Train loss: 0.16883546113967896\tVal loss: 0.07718240469694138\tVal accuracy: 0.33735549449920654 INFO\n"
     ]
    },
    {
     "name": "stderr",
     "output_type": "stream",
     "text": [
      "train.py:train():187: Epoch 10 / 100 -\t\t Train loss: 0.007145437877625227\tVal loss: 0.006749055813997984\tVal accuracy: 0.8843374848365784 INFO\n"
     ]
    },
    {
     "name": "stderr",
     "output_type": "stream",
     "text": [
      "train.py:train():197: Early stopping triggered after 18 epochs:\n",
      "Train loss: -0.006353514734655619\n",
      "Val loss: -0.006773042492568493\n",
      "Val accuracy: 0.9380350708961487\n",
      "Epochs no improvement: 0 WARNING\n"
     ]
    },
    {
     "name": "stdout",
     "output_type": "stream",
     "text": [
      "Training complete: 0:00:14.169827\n",
      "Warning: not using the test data for evaluation, but the training data instead of ../data/raw/summarise_simulation/2024_11_21_160955/tabulated_mutation_info.csv\n"
     ]
    },
    {
     "name": "stdout",
     "output_type": "stream",
     "text": [
      "The R2 score is  0.9287000298500061\n",
      "The R2 score with weighted variance is  0.9287000298500061\n"
     ]
    },
    {
     "name": "stdout",
     "output_type": "stream",
     "text": [
      "Steady states found after 0 mins and 30 secs. Now calculating signal response\n"
     ]
    },
    {
     "name": "stdout",
     "output_type": "stream",
     "text": [
      "Signal response found after 0 mins and 31 secs.\n"
     ]
    },
    {
     "name": "stdout",
     "output_type": "stream",
     "text": [
      "data/03_cvae_multi/2025_02_08__22_15_29/cvae_scan/hpo_218\n"
     ]
    },
    {
     "name": "stderr",
     "output_type": "stream",
     "text": [
      "/tmp/ipykernel_1299886/1985358741.py:40: SettingWithCopyWarning: \n",
      "A value is trying to be set on a copy of a slice from a DataFrame\n",
      "\n",
      "See the caveats in the documentation: https://pandas.pydata.org/pandas-docs/stable/user_guide/indexing.html#returning-a-view-versus-a-copy\n",
      "  df_hpos_main.iloc[i] = pd.Series(hpos) if type(\n"
     ]
    },
    {
     "name": "stderr",
     "output_type": "stream",
     "text": [
      "train.py:train():187: Epoch 0 / 100 -\t\t Train loss: 0.16883546113967896\tVal loss: 0.07718240469694138\tVal accuracy: 0.33735549449920654 INFO\n"
     ]
    },
    {
     "name": "stderr",
     "output_type": "stream",
     "text": [
      "train.py:train():187: Epoch 10 / 100 -\t\t Train loss: 0.007145437877625227\tVal loss: 0.006749055813997984\tVal accuracy: 0.8843374848365784 INFO\n"
     ]
    },
    {
     "name": "stderr",
     "output_type": "stream",
     "text": [
      "train.py:train():197: Early stopping triggered after 18 epochs:\n",
      "Train loss: -0.006353514734655619\n",
      "Val loss: -0.006773042492568493\n",
      "Val accuracy: 0.9380350708961487\n",
      "Epochs no improvement: 0 WARNING\n"
     ]
    },
    {
     "name": "stdout",
     "output_type": "stream",
     "text": [
      "Training complete: 0:00:14.231964\n",
      "Warning: not using the test data for evaluation, but the training data instead of ../data/raw/summarise_simulation/2024_11_21_160955/tabulated_mutation_info.csv\n"
     ]
    },
    {
     "name": "stdout",
     "output_type": "stream",
     "text": [
      "The R2 score is  0.9287000298500061\n",
      "The R2 score with weighted variance is  0.9287000298500061\n"
     ]
    },
    {
     "name": "stdout",
     "output_type": "stream",
     "text": [
      "Steady states found after 0 mins and 29 secs. Now calculating signal response\n"
     ]
    },
    {
     "name": "stdout",
     "output_type": "stream",
     "text": [
      "Signal response found after 0 mins and 30 secs.\n"
     ]
    },
    {
     "name": "stdout",
     "output_type": "stream",
     "text": [
      "data/03_cvae_multi/2025_02_08__22_15_29/cvae_scan/hpo_219\n"
     ]
    },
    {
     "name": "stderr",
     "output_type": "stream",
     "text": [
      "/tmp/ipykernel_1299886/1985358741.py:40: SettingWithCopyWarning: \n",
      "A value is trying to be set on a copy of a slice from a DataFrame\n",
      "\n",
      "See the caveats in the documentation: https://pandas.pydata.org/pandas-docs/stable/user_guide/indexing.html#returning-a-view-versus-a-copy\n",
      "  df_hpos_main.iloc[i] = pd.Series(hpos) if type(\n"
     ]
    },
    {
     "name": "stderr",
     "output_type": "stream",
     "text": [
      "train.py:train():187: Epoch 0 / 100 -\t\t Train loss: 0.16883546113967896\tVal loss: 0.07718240469694138\tVal accuracy: 0.33735549449920654 INFO\n"
     ]
    },
    {
     "name": "stderr",
     "output_type": "stream",
     "text": [
      "train.py:train():187: Epoch 10 / 100 -\t\t Train loss: 0.007145437877625227\tVal loss: 0.006749055813997984\tVal accuracy: 0.8843374848365784 INFO\n"
     ]
    },
    {
     "name": "stderr",
     "output_type": "stream",
     "text": [
      "train.py:train():197: Early stopping triggered after 18 epochs:\n",
      "Train loss: -0.006353514734655619\n",
      "Val loss: -0.006773042492568493\n",
      "Val accuracy: 0.9380350708961487\n",
      "Epochs no improvement: 0 WARNING\n"
     ]
    },
    {
     "name": "stdout",
     "output_type": "stream",
     "text": [
      "Training complete: 0:00:14.353691\n",
      "Warning: not using the test data for evaluation, but the training data instead of ../data/raw/summarise_simulation/2024_11_21_160955/tabulated_mutation_info.csv\n"
     ]
    },
    {
     "name": "stdout",
     "output_type": "stream",
     "text": [
      "The R2 score is  0.9287000298500061\n",
      "The R2 score with weighted variance is  0.9287000298500061\n"
     ]
    },
    {
     "name": "stdout",
     "output_type": "stream",
     "text": [
      "Steady states found after 0 mins and 30 secs. Now calculating signal response\n"
     ]
    },
    {
     "name": "stdout",
     "output_type": "stream",
     "text": [
      "Signal response found after 0 mins and 30 secs.\n"
     ]
    },
    {
     "name": "stdout",
     "output_type": "stream",
     "text": [
      "data/03_cvae_multi/2025_02_08__22_15_29/cvae_scan/hpo_220\n"
     ]
    },
    {
     "name": "stderr",
     "output_type": "stream",
     "text": [
      "/tmp/ipykernel_1299886/1985358741.py:40: SettingWithCopyWarning: \n",
      "A value is trying to be set on a copy of a slice from a DataFrame\n",
      "\n",
      "See the caveats in the documentation: https://pandas.pydata.org/pandas-docs/stable/user_guide/indexing.html#returning-a-view-versus-a-copy\n",
      "  df_hpos_main.iloc[i] = pd.Series(hpos) if type(\n"
     ]
    },
    {
     "name": "stderr",
     "output_type": "stream",
     "text": [
      "train.py:train():187: Epoch 0 / 100 -\t\t Train loss: -0.7719485759735107\tVal loss: -0.9027228951454163\tVal accuracy: 0.33366328477859497 INFO\n"
     ]
    },
    {
     "name": "stderr",
     "output_type": "stream",
     "text": [
      "train.py:train():187: Epoch 10 / 100 -\t\t Train loss: -0.9672527313232422\tVal loss: -0.9689731001853943\tVal accuracy: 0.5235623121261597 INFO\n"
     ]
    },
    {
     "name": "stderr",
     "output_type": "stream",
     "text": [
      "train.py:train():187: Epoch 20 / 100 -\t\t Train loss: -0.9721143245697021\tVal loss: -0.9718458652496338\tVal accuracy: 0.5271207690238953 INFO\n"
     ]
    },
    {
     "name": "stderr",
     "output_type": "stream",
     "text": [
      "train.py:train():187: Epoch 30 / 100 -\t\t Train loss: -0.9738792777061462\tVal loss: -0.974571943283081\tVal accuracy: 0.5268353819847107 INFO\n"
     ]
    },
    {
     "name": "stderr",
     "output_type": "stream",
     "text": [
      "train.py:train():187: Epoch 40 / 100 -\t\t Train loss: -0.974118173122406\tVal loss: -0.976080060005188\tVal accuracy: 0.585116982460022 INFO\n"
     ]
    },
    {
     "name": "stderr",
     "output_type": "stream",
     "text": [
      "train.py:train():187: Epoch 50 / 100 -\t\t Train loss: -0.9738609790802002\tVal loss: -0.9752047657966614\tVal accuracy: 0.5731306672096252 INFO\n"
     ]
    },
    {
     "name": "stderr",
     "output_type": "stream",
     "text": [
      "train.py:train():187: Epoch 60 / 100 -\t\t Train loss: -0.9755324721336365\tVal loss: -0.9766308665275574\tVal accuracy: 0.5851526856422424 INFO\n"
     ]
    },
    {
     "name": "stderr",
     "output_type": "stream",
     "text": [
      "train.py:train():187: Epoch 70 / 100 -\t\t Train loss: -0.9763846397399902\tVal loss: -0.9767763018608093\tVal accuracy: 0.5846889019012451 INFO\n"
     ]
    },
    {
     "name": "stderr",
     "output_type": "stream",
     "text": [
      "train.py:train():187: Epoch 80 / 100 -\t\t Train loss: -0.977294385433197\tVal loss: -0.978206992149353\tVal accuracy: 0.6165899634361267 INFO\n"
     ]
    },
    {
     "name": "stderr",
     "output_type": "stream",
     "text": [
      "train.py:train():187: Epoch 90 / 100 -\t\t Train loss: -0.978049099445343\tVal loss: -0.9791193604469299\tVal accuracy: 0.6140749454498291 INFO\n"
     ]
    },
    {
     "name": "stdout",
     "output_type": "stream",
     "text": [
      "Training complete: 0:01:21.975454\n",
      "Warning: not using the test data for evaluation, but the training data instead of ../data/raw/summarise_simulation/2024_11_21_160955/tabulated_mutation_info.csv\n"
     ]
    },
    {
     "name": "stderr",
     "output_type": "stream",
     "text": [
      "/workdir/src/evoscaper/utils/visualise.py:80: UserWarning: Data has no positive values, and therefore cannot be log-scaled.\n",
      "  plt.yscale('log')\n"
     ]
    },
    {
     "name": "stdout",
     "output_type": "stream",
     "text": [
      "The R2 score is  0.6279169321060181\n",
      "The R2 score with weighted variance is  0.6279169321060181\n"
     ]
    },
    {
     "name": "stderr",
     "output_type": "stream",
     "text": [
      "/tmp/ipykernel_1299886/1985358741.py:40: SettingWithCopyWarning: \n",
      "A value is trying to be set on a copy of a slice from a DataFrame\n",
      "\n",
      "See the caveats in the documentation: https://pandas.pydata.org/pandas-docs/stable/user_guide/indexing.html#returning-a-view-versus-a-copy\n",
      "  df_hpos_main.iloc[i] = pd.Series(hpos) if type(\n"
     ]
    },
    {
     "name": "stderr",
     "output_type": "stream",
     "text": [
      "train.py:train():187: Epoch 0 / 100 -\t\t Train loss: -0.7719485759735107\tVal loss: -0.9027228951454163\tVal accuracy: 0.33366328477859497 INFO\n"
     ]
    },
    {
     "name": "stderr",
     "output_type": "stream",
     "text": [
      "train.py:train():187: Epoch 10 / 100 -\t\t Train loss: -0.9672527313232422\tVal loss: -0.9689731001853943\tVal accuracy: 0.5235623121261597 INFO\n"
     ]
    },
    {
     "name": "stderr",
     "output_type": "stream",
     "text": [
      "train.py:train():187: Epoch 20 / 100 -\t\t Train loss: -0.9721143245697021\tVal loss: -0.9718458652496338\tVal accuracy: 0.5271207690238953 INFO\n"
     ]
    },
    {
     "name": "stderr",
     "output_type": "stream",
     "text": [
      "train.py:train():187: Epoch 30 / 100 -\t\t Train loss: -0.9738792777061462\tVal loss: -0.974571943283081\tVal accuracy: 0.5268353819847107 INFO\n"
     ]
    },
    {
     "name": "stderr",
     "output_type": "stream",
     "text": [
      "train.py:train():187: Epoch 40 / 100 -\t\t Train loss: -0.974118173122406\tVal loss: -0.976080060005188\tVal accuracy: 0.585116982460022 INFO\n"
     ]
    },
    {
     "name": "stderr",
     "output_type": "stream",
     "text": [
      "train.py:train():187: Epoch 50 / 100 -\t\t Train loss: -0.9738609790802002\tVal loss: -0.9752047657966614\tVal accuracy: 0.5731306672096252 INFO\n"
     ]
    },
    {
     "name": "stderr",
     "output_type": "stream",
     "text": [
      "train.py:train():187: Epoch 60 / 100 -\t\t Train loss: -0.9755324721336365\tVal loss: -0.9766308665275574\tVal accuracy: 0.5851526856422424 INFO\n"
     ]
    },
    {
     "name": "stderr",
     "output_type": "stream",
     "text": [
      "train.py:train():187: Epoch 70 / 100 -\t\t Train loss: -0.9763846397399902\tVal loss: -0.9767763018608093\tVal accuracy: 0.5846889019012451 INFO\n"
     ]
    },
    {
     "name": "stderr",
     "output_type": "stream",
     "text": [
      "train.py:train():187: Epoch 80 / 100 -\t\t Train loss: -0.977294385433197\tVal loss: -0.978206992149353\tVal accuracy: 0.6165899634361267 INFO\n"
     ]
    },
    {
     "name": "stderr",
     "output_type": "stream",
     "text": [
      "train.py:train():187: Epoch 90 / 100 -\t\t Train loss: -0.978049099445343\tVal loss: -0.9791193604469299\tVal accuracy: 0.6140749454498291 INFO\n"
     ]
    },
    {
     "name": "stdout",
     "output_type": "stream",
     "text": [
      "Training complete: 0:01:22.415870\n",
      "Warning: not using the test data for evaluation, but the training data instead of ../data/raw/summarise_simulation/2024_11_21_160955/tabulated_mutation_info.csv\n"
     ]
    },
    {
     "name": "stderr",
     "output_type": "stream",
     "text": [
      "/workdir/src/evoscaper/utils/visualise.py:80: UserWarning: Data has no positive values, and therefore cannot be log-scaled.\n",
      "  plt.yscale('log')\n"
     ]
    },
    {
     "name": "stdout",
     "output_type": "stream",
     "text": [
      "The R2 score is  0.6279169321060181\n",
      "The R2 score with weighted variance is  0.6279169321060181\n"
     ]
    },
    {
     "name": "stderr",
     "output_type": "stream",
     "text": [
      "/tmp/ipykernel_1299886/1985358741.py:40: SettingWithCopyWarning: \n",
      "A value is trying to be set on a copy of a slice from a DataFrame\n",
      "\n",
      "See the caveats in the documentation: https://pandas.pydata.org/pandas-docs/stable/user_guide/indexing.html#returning-a-view-versus-a-copy\n",
      "  df_hpos_main.iloc[i] = pd.Series(hpos) if type(\n"
     ]
    },
    {
     "name": "stderr",
     "output_type": "stream",
     "text": [
      "train.py:train():187: Epoch 0 / 100 -\t\t Train loss: -0.7719485759735107\tVal loss: -0.9027228951454163\tVal accuracy: 0.33366328477859497 INFO\n"
     ]
    },
    {
     "name": "stderr",
     "output_type": "stream",
     "text": [
      "train.py:train():187: Epoch 10 / 100 -\t\t Train loss: -0.9672527313232422\tVal loss: -0.9689731001853943\tVal accuracy: 0.5235623121261597 INFO\n"
     ]
    },
    {
     "name": "stderr",
     "output_type": "stream",
     "text": [
      "train.py:train():187: Epoch 20 / 100 -\t\t Train loss: -0.9721143245697021\tVal loss: -0.9718458652496338\tVal accuracy: 0.5271207690238953 INFO\n"
     ]
    },
    {
     "name": "stderr",
     "output_type": "stream",
     "text": [
      "train.py:train():187: Epoch 30 / 100 -\t\t Train loss: -0.9738792777061462\tVal loss: -0.974571943283081\tVal accuracy: 0.5268353819847107 INFO\n"
     ]
    },
    {
     "name": "stderr",
     "output_type": "stream",
     "text": [
      "train.py:train():187: Epoch 40 / 100 -\t\t Train loss: -0.974118173122406\tVal loss: -0.976080060005188\tVal accuracy: 0.585116982460022 INFO\n"
     ]
    },
    {
     "name": "stderr",
     "output_type": "stream",
     "text": [
      "train.py:train():187: Epoch 50 / 100 -\t\t Train loss: -0.9738609790802002\tVal loss: -0.9752047657966614\tVal accuracy: 0.5731306672096252 INFO\n"
     ]
    },
    {
     "name": "stderr",
     "output_type": "stream",
     "text": [
      "train.py:train():187: Epoch 60 / 100 -\t\t Train loss: -0.9755324721336365\tVal loss: -0.9766308665275574\tVal accuracy: 0.5851526856422424 INFO\n"
     ]
    },
    {
     "name": "stderr",
     "output_type": "stream",
     "text": [
      "train.py:train():187: Epoch 70 / 100 -\t\t Train loss: -0.9763846397399902\tVal loss: -0.9767763018608093\tVal accuracy: 0.5846889019012451 INFO\n"
     ]
    },
    {
     "name": "stderr",
     "output_type": "stream",
     "text": [
      "train.py:train():187: Epoch 80 / 100 -\t\t Train loss: -0.977294385433197\tVal loss: -0.978206992149353\tVal accuracy: 0.6165899634361267 INFO\n"
     ]
    },
    {
     "name": "stderr",
     "output_type": "stream",
     "text": [
      "train.py:train():187: Epoch 90 / 100 -\t\t Train loss: -0.978049099445343\tVal loss: -0.9791193604469299\tVal accuracy: 0.6140749454498291 INFO\n"
     ]
    },
    {
     "name": "stdout",
     "output_type": "stream",
     "text": [
      "Training complete: 0:01:22.652275\n",
      "Warning: not using the test data for evaluation, but the training data instead of ../data/raw/summarise_simulation/2024_11_21_160955/tabulated_mutation_info.csv\n"
     ]
    },
    {
     "name": "stderr",
     "output_type": "stream",
     "text": [
      "/workdir/src/evoscaper/utils/visualise.py:80: UserWarning: Data has no positive values, and therefore cannot be log-scaled.\n",
      "  plt.yscale('log')\n"
     ]
    },
    {
     "name": "stdout",
     "output_type": "stream",
     "text": [
      "The R2 score is  0.6279169321060181\n",
      "The R2 score with weighted variance is  0.6279169321060181\n"
     ]
    },
    {
     "name": "stderr",
     "output_type": "stream",
     "text": [
      "/tmp/ipykernel_1299886/1985358741.py:40: SettingWithCopyWarning: \n",
      "A value is trying to be set on a copy of a slice from a DataFrame\n",
      "\n",
      "See the caveats in the documentation: https://pandas.pydata.org/pandas-docs/stable/user_guide/indexing.html#returning-a-view-versus-a-copy\n",
      "  df_hpos_main.iloc[i] = pd.Series(hpos) if type(\n"
     ]
    },
    {
     "name": "stderr",
     "output_type": "stream",
     "text": [
      "train.py:train():187: Epoch 0 / 100 -\t\t Train loss: -0.7719485759735107\tVal loss: -0.9027228951454163\tVal accuracy: 0.33366328477859497 INFO\n"
     ]
    },
    {
     "name": "stderr",
     "output_type": "stream",
     "text": [
      "train.py:train():187: Epoch 10 / 100 -\t\t Train loss: -0.9672527313232422\tVal loss: -0.9689731001853943\tVal accuracy: 0.5235623121261597 INFO\n"
     ]
    },
    {
     "name": "stderr",
     "output_type": "stream",
     "text": [
      "train.py:train():187: Epoch 20 / 100 -\t\t Train loss: -0.9721143245697021\tVal loss: -0.9718458652496338\tVal accuracy: 0.5271207690238953 INFO\n"
     ]
    },
    {
     "name": "stderr",
     "output_type": "stream",
     "text": [
      "train.py:train():187: Epoch 30 / 100 -\t\t Train loss: -0.9738792777061462\tVal loss: -0.974571943283081\tVal accuracy: 0.5268353819847107 INFO\n"
     ]
    },
    {
     "name": "stderr",
     "output_type": "stream",
     "text": [
      "train.py:train():187: Epoch 40 / 100 -\t\t Train loss: -0.974118173122406\tVal loss: -0.976080060005188\tVal accuracy: 0.585116982460022 INFO\n"
     ]
    },
    {
     "name": "stderr",
     "output_type": "stream",
     "text": [
      "train.py:train():187: Epoch 50 / 100 -\t\t Train loss: -0.9738609790802002\tVal loss: -0.9752047657966614\tVal accuracy: 0.5731306672096252 INFO\n"
     ]
    },
    {
     "name": "stderr",
     "output_type": "stream",
     "text": [
      "train.py:train():187: Epoch 60 / 100 -\t\t Train loss: -0.9755324721336365\tVal loss: -0.9766308665275574\tVal accuracy: 0.5851526856422424 INFO\n"
     ]
    },
    {
     "name": "stderr",
     "output_type": "stream",
     "text": [
      "train.py:train():187: Epoch 70 / 100 -\t\t Train loss: -0.9763846397399902\tVal loss: -0.9767763018608093\tVal accuracy: 0.5846889019012451 INFO\n"
     ]
    },
    {
     "name": "stderr",
     "output_type": "stream",
     "text": [
      "train.py:train():187: Epoch 80 / 100 -\t\t Train loss: -0.977294385433197\tVal loss: -0.978206992149353\tVal accuracy: 0.6165899634361267 INFO\n"
     ]
    },
    {
     "name": "stderr",
     "output_type": "stream",
     "text": [
      "train.py:train():187: Epoch 90 / 100 -\t\t Train loss: -0.978049099445343\tVal loss: -0.9791193604469299\tVal accuracy: 0.6140749454498291 INFO\n"
     ]
    },
    {
     "name": "stdout",
     "output_type": "stream",
     "text": [
      "Training complete: 0:01:19.914248\n",
      "Warning: not using the test data for evaluation, but the training data instead of ../data/raw/summarise_simulation/2024_11_21_160955/tabulated_mutation_info.csv\n"
     ]
    },
    {
     "name": "stderr",
     "output_type": "stream",
     "text": [
      "/workdir/src/evoscaper/utils/visualise.py:80: UserWarning: Data has no positive values, and therefore cannot be log-scaled.\n",
      "  plt.yscale('log')\n"
     ]
    },
    {
     "name": "stdout",
     "output_type": "stream",
     "text": [
      "The R2 score is  0.6279169321060181\n",
      "The R2 score with weighted variance is  0.6279169321060181\n"
     ]
    },
    {
     "name": "stderr",
     "output_type": "stream",
     "text": [
      "/tmp/ipykernel_1299886/1985358741.py:40: SettingWithCopyWarning: \n",
      "A value is trying to be set on a copy of a slice from a DataFrame\n",
      "\n",
      "See the caveats in the documentation: https://pandas.pydata.org/pandas-docs/stable/user_guide/indexing.html#returning-a-view-versus-a-copy\n",
      "  df_hpos_main.iloc[i] = pd.Series(hpos) if type(\n"
     ]
    },
    {
     "name": "stderr",
     "output_type": "stream",
     "text": [
      "train.py:train():187: Epoch 0 / 100 -\t\t Train loss: -0.7719485759735107\tVal loss: -0.9027228951454163\tVal accuracy: 0.33366328477859497 INFO\n"
     ]
    },
    {
     "name": "stderr",
     "output_type": "stream",
     "text": [
      "train.py:train():187: Epoch 10 / 100 -\t\t Train loss: -0.9672527313232422\tVal loss: -0.9689731001853943\tVal accuracy: 0.5235623121261597 INFO\n"
     ]
    },
    {
     "name": "stderr",
     "output_type": "stream",
     "text": [
      "train.py:train():187: Epoch 20 / 100 -\t\t Train loss: -0.9721143245697021\tVal loss: -0.9718458652496338\tVal accuracy: 0.5271207690238953 INFO\n"
     ]
    },
    {
     "name": "stderr",
     "output_type": "stream",
     "text": [
      "train.py:train():187: Epoch 30 / 100 -\t\t Train loss: -0.9738792777061462\tVal loss: -0.974571943283081\tVal accuracy: 0.5268353819847107 INFO\n"
     ]
    },
    {
     "name": "stderr",
     "output_type": "stream",
     "text": [
      "train.py:train():187: Epoch 40 / 100 -\t\t Train loss: -0.974118173122406\tVal loss: -0.976080060005188\tVal accuracy: 0.585116982460022 INFO\n"
     ]
    },
    {
     "name": "stderr",
     "output_type": "stream",
     "text": [
      "train.py:train():187: Epoch 50 / 100 -\t\t Train loss: -0.9738609790802002\tVal loss: -0.9752047657966614\tVal accuracy: 0.5731306672096252 INFO\n"
     ]
    },
    {
     "name": "stderr",
     "output_type": "stream",
     "text": [
      "train.py:train():187: Epoch 60 / 100 -\t\t Train loss: -0.9755324721336365\tVal loss: -0.9766308665275574\tVal accuracy: 0.5851526856422424 INFO\n"
     ]
    },
    {
     "name": "stderr",
     "output_type": "stream",
     "text": [
      "train.py:train():187: Epoch 70 / 100 -\t\t Train loss: -0.9763846397399902\tVal loss: -0.9767763018608093\tVal accuracy: 0.5846889019012451 INFO\n"
     ]
    },
    {
     "name": "stderr",
     "output_type": "stream",
     "text": [
      "train.py:train():187: Epoch 80 / 100 -\t\t Train loss: -0.977294385433197\tVal loss: -0.978206992149353\tVal accuracy: 0.6165899634361267 INFO\n"
     ]
    },
    {
     "name": "stderr",
     "output_type": "stream",
     "text": [
      "train.py:train():187: Epoch 90 / 100 -\t\t Train loss: -0.978049099445343\tVal loss: -0.9791193604469299\tVal accuracy: 0.6140749454498291 INFO\n"
     ]
    },
    {
     "name": "stdout",
     "output_type": "stream",
     "text": [
      "Training complete: 0:01:22.882112\n",
      "Warning: not using the test data for evaluation, but the training data instead of ../data/raw/summarise_simulation/2024_11_21_160955/tabulated_mutation_info.csv\n"
     ]
    },
    {
     "name": "stderr",
     "output_type": "stream",
     "text": [
      "/workdir/src/evoscaper/utils/visualise.py:80: UserWarning: Data has no positive values, and therefore cannot be log-scaled.\n",
      "  plt.yscale('log')\n"
     ]
    },
    {
     "name": "stdout",
     "output_type": "stream",
     "text": [
      "The R2 score is  0.6279169321060181\n",
      "The R2 score with weighted variance is  0.6279169321060181\n"
     ]
    },
    {
     "name": "stderr",
     "output_type": "stream",
     "text": [
      "/tmp/ipykernel_1299886/1985358741.py:40: SettingWithCopyWarning: \n",
      "A value is trying to be set on a copy of a slice from a DataFrame\n",
      "\n",
      "See the caveats in the documentation: https://pandas.pydata.org/pandas-docs/stable/user_guide/indexing.html#returning-a-view-versus-a-copy\n",
      "  df_hpos_main.iloc[i] = pd.Series(hpos) if type(\n"
     ]
    },
    {
     "name": "stderr",
     "output_type": "stream",
     "text": [
      "train.py:train():187: Epoch 0 / 100 -\t\t Train loss: -0.7719485759735107\tVal loss: -0.9027228951454163\tVal accuracy: 0.33366328477859497 INFO\n"
     ]
    },
    {
     "name": "stderr",
     "output_type": "stream",
     "text": [
      "train.py:train():187: Epoch 10 / 100 -\t\t Train loss: -0.9672527313232422\tVal loss: -0.9689731001853943\tVal accuracy: 0.5235623121261597 INFO\n"
     ]
    },
    {
     "name": "stderr",
     "output_type": "stream",
     "text": [
      "train.py:train():187: Epoch 20 / 100 -\t\t Train loss: -0.9721143245697021\tVal loss: -0.9718458652496338\tVal accuracy: 0.5271207690238953 INFO\n"
     ]
    },
    {
     "name": "stderr",
     "output_type": "stream",
     "text": [
      "train.py:train():187: Epoch 30 / 100 -\t\t Train loss: -0.9738792777061462\tVal loss: -0.974571943283081\tVal accuracy: 0.5268353819847107 INFO\n"
     ]
    },
    {
     "name": "stderr",
     "output_type": "stream",
     "text": [
      "train.py:train():187: Epoch 40 / 100 -\t\t Train loss: -0.974118173122406\tVal loss: -0.976080060005188\tVal accuracy: 0.585116982460022 INFO\n"
     ]
    },
    {
     "name": "stderr",
     "output_type": "stream",
     "text": [
      "train.py:train():187: Epoch 50 / 100 -\t\t Train loss: -0.9738609790802002\tVal loss: -0.9752047657966614\tVal accuracy: 0.5731306672096252 INFO\n"
     ]
    },
    {
     "name": "stderr",
     "output_type": "stream",
     "text": [
      "train.py:train():187: Epoch 60 / 100 -\t\t Train loss: -0.9755324721336365\tVal loss: -0.9766308665275574\tVal accuracy: 0.5851526856422424 INFO\n"
     ]
    },
    {
     "name": "stderr",
     "output_type": "stream",
     "text": [
      "train.py:train():187: Epoch 70 / 100 -\t\t Train loss: -0.9763846397399902\tVal loss: -0.9767763018608093\tVal accuracy: 0.5846889019012451 INFO\n"
     ]
    },
    {
     "name": "stderr",
     "output_type": "stream",
     "text": [
      "train.py:train():187: Epoch 80 / 100 -\t\t Train loss: -0.977294385433197\tVal loss: -0.978206992149353\tVal accuracy: 0.6165899634361267 INFO\n"
     ]
    },
    {
     "name": "stderr",
     "output_type": "stream",
     "text": [
      "train.py:train():187: Epoch 90 / 100 -\t\t Train loss: -0.978049099445343\tVal loss: -0.9791193604469299\tVal accuracy: 0.6140749454498291 INFO\n"
     ]
    },
    {
     "name": "stdout",
     "output_type": "stream",
     "text": [
      "Training complete: 0:01:23.748684\n",
      "Warning: not using the test data for evaluation, but the training data instead of ../data/raw/summarise_simulation/2024_11_21_160955/tabulated_mutation_info.csv\n"
     ]
    },
    {
     "name": "stderr",
     "output_type": "stream",
     "text": [
      "/workdir/src/evoscaper/utils/visualise.py:80: UserWarning: Data has no positive values, and therefore cannot be log-scaled.\n",
      "  plt.yscale('log')\n"
     ]
    },
    {
     "name": "stdout",
     "output_type": "stream",
     "text": [
      "The R2 score is  0.6279169321060181\n",
      "The R2 score with weighted variance is  0.6279169321060181\n"
     ]
    },
    {
     "name": "stderr",
     "output_type": "stream",
     "text": [
      "/tmp/ipykernel_1299886/1985358741.py:40: SettingWithCopyWarning: \n",
      "A value is trying to be set on a copy of a slice from a DataFrame\n",
      "\n",
      "See the caveats in the documentation: https://pandas.pydata.org/pandas-docs/stable/user_guide/indexing.html#returning-a-view-versus-a-copy\n",
      "  df_hpos_main.iloc[i] = pd.Series(hpos) if type(\n"
     ]
    },
    {
     "name": "stderr",
     "output_type": "stream",
     "text": [
      "train.py:train():187: Epoch 0 / 100 -\t\t Train loss: -0.7719485759735107\tVal loss: -0.9027228951454163\tVal accuracy: 0.33366328477859497 INFO\n"
     ]
    },
    {
     "name": "stderr",
     "output_type": "stream",
     "text": [
      "train.py:train():187: Epoch 10 / 100 -\t\t Train loss: -0.9672527313232422\tVal loss: -0.9689731001853943\tVal accuracy: 0.5235623121261597 INFO\n"
     ]
    },
    {
     "name": "stderr",
     "output_type": "stream",
     "text": [
      "train.py:train():187: Epoch 20 / 100 -\t\t Train loss: -0.9721143245697021\tVal loss: -0.9718458652496338\tVal accuracy: 0.5271207690238953 INFO\n"
     ]
    },
    {
     "name": "stderr",
     "output_type": "stream",
     "text": [
      "train.py:train():187: Epoch 30 / 100 -\t\t Train loss: -0.9738792777061462\tVal loss: -0.974571943283081\tVal accuracy: 0.5268353819847107 INFO\n"
     ]
    },
    {
     "name": "stderr",
     "output_type": "stream",
     "text": [
      "train.py:train():187: Epoch 40 / 100 -\t\t Train loss: -0.974118173122406\tVal loss: -0.976080060005188\tVal accuracy: 0.585116982460022 INFO\n"
     ]
    },
    {
     "name": "stderr",
     "output_type": "stream",
     "text": [
      "train.py:train():187: Epoch 50 / 100 -\t\t Train loss: -0.9738609790802002\tVal loss: -0.9752047657966614\tVal accuracy: 0.5731306672096252 INFO\n"
     ]
    },
    {
     "name": "stderr",
     "output_type": "stream",
     "text": [
      "train.py:train():187: Epoch 60 / 100 -\t\t Train loss: -0.9755324721336365\tVal loss: -0.9766308665275574\tVal accuracy: 0.5851526856422424 INFO\n"
     ]
    },
    {
     "name": "stderr",
     "output_type": "stream",
     "text": [
      "train.py:train():187: Epoch 70 / 100 -\t\t Train loss: -0.9763846397399902\tVal loss: -0.9767763018608093\tVal accuracy: 0.5846889019012451 INFO\n"
     ]
    },
    {
     "name": "stderr",
     "output_type": "stream",
     "text": [
      "train.py:train():187: Epoch 80 / 100 -\t\t Train loss: -0.977294385433197\tVal loss: -0.978206992149353\tVal accuracy: 0.6165899634361267 INFO\n"
     ]
    },
    {
     "name": "stderr",
     "output_type": "stream",
     "text": [
      "train.py:train():187: Epoch 90 / 100 -\t\t Train loss: -0.978049099445343\tVal loss: -0.9791193604469299\tVal accuracy: 0.6140749454498291 INFO\n"
     ]
    },
    {
     "name": "stdout",
     "output_type": "stream",
     "text": [
      "Training complete: 0:01:20.089317\n",
      "Warning: not using the test data for evaluation, but the training data instead of ../data/raw/summarise_simulation/2024_11_21_160955/tabulated_mutation_info.csv\n"
     ]
    },
    {
     "name": "stderr",
     "output_type": "stream",
     "text": [
      "/workdir/src/evoscaper/utils/visualise.py:80: UserWarning: Data has no positive values, and therefore cannot be log-scaled.\n",
      "  plt.yscale('log')\n"
     ]
    },
    {
     "name": "stdout",
     "output_type": "stream",
     "text": [
      "The R2 score is  0.6279169321060181\n",
      "The R2 score with weighted variance is  0.6279169321060181\n"
     ]
    },
    {
     "name": "stderr",
     "output_type": "stream",
     "text": [
      "/tmp/ipykernel_1299886/1985358741.py:40: SettingWithCopyWarning: \n",
      "A value is trying to be set on a copy of a slice from a DataFrame\n",
      "\n",
      "See the caveats in the documentation: https://pandas.pydata.org/pandas-docs/stable/user_guide/indexing.html#returning-a-view-versus-a-copy\n",
      "  df_hpos_main.iloc[i] = pd.Series(hpos) if type(\n"
     ]
    },
    {
     "name": "stderr",
     "output_type": "stream",
     "text": [
      "train.py:train():187: Epoch 0 / 100 -\t\t Train loss: -0.7719485759735107\tVal loss: -0.9027228951454163\tVal accuracy: 0.33366328477859497 INFO\n"
     ]
    },
    {
     "name": "stderr",
     "output_type": "stream",
     "text": [
      "train.py:train():187: Epoch 10 / 100 -\t\t Train loss: -0.9672527313232422\tVal loss: -0.9689731001853943\tVal accuracy: 0.5235623121261597 INFO\n"
     ]
    },
    {
     "name": "stderr",
     "output_type": "stream",
     "text": [
      "train.py:train():187: Epoch 20 / 100 -\t\t Train loss: -0.9721143245697021\tVal loss: -0.9718458652496338\tVal accuracy: 0.5271207690238953 INFO\n"
     ]
    },
    {
     "name": "stderr",
     "output_type": "stream",
     "text": [
      "train.py:train():187: Epoch 30 / 100 -\t\t Train loss: -0.9738792777061462\tVal loss: -0.974571943283081\tVal accuracy: 0.5268353819847107 INFO\n"
     ]
    },
    {
     "name": "stderr",
     "output_type": "stream",
     "text": [
      "train.py:train():187: Epoch 40 / 100 -\t\t Train loss: -0.974118173122406\tVal loss: -0.976080060005188\tVal accuracy: 0.585116982460022 INFO\n"
     ]
    },
    {
     "name": "stderr",
     "output_type": "stream",
     "text": [
      "train.py:train():187: Epoch 50 / 100 -\t\t Train loss: -0.9738609790802002\tVal loss: -0.9752047657966614\tVal accuracy: 0.5731306672096252 INFO\n"
     ]
    },
    {
     "name": "stderr",
     "output_type": "stream",
     "text": [
      "train.py:train():187: Epoch 60 / 100 -\t\t Train loss: -0.9755324721336365\tVal loss: -0.9766308665275574\tVal accuracy: 0.5851526856422424 INFO\n"
     ]
    },
    {
     "name": "stderr",
     "output_type": "stream",
     "text": [
      "train.py:train():187: Epoch 70 / 100 -\t\t Train loss: -0.9763846397399902\tVal loss: -0.9767763018608093\tVal accuracy: 0.5846889019012451 INFO\n"
     ]
    },
    {
     "name": "stderr",
     "output_type": "stream",
     "text": [
      "train.py:train():187: Epoch 80 / 100 -\t\t Train loss: -0.977294385433197\tVal loss: -0.978206992149353\tVal accuracy: 0.6165899634361267 INFO\n"
     ]
    },
    {
     "name": "stderr",
     "output_type": "stream",
     "text": [
      "train.py:train():187: Epoch 90 / 100 -\t\t Train loss: -0.978049099445343\tVal loss: -0.9791193604469299\tVal accuracy: 0.6140749454498291 INFO\n"
     ]
    },
    {
     "name": "stdout",
     "output_type": "stream",
     "text": [
      "Training complete: 0:01:24.399158\n",
      "Warning: not using the test data for evaluation, but the training data instead of ../data/raw/summarise_simulation/2024_11_21_160955/tabulated_mutation_info.csv\n"
     ]
    },
    {
     "name": "stderr",
     "output_type": "stream",
     "text": [
      "/workdir/src/evoscaper/utils/visualise.py:80: UserWarning: Data has no positive values, and therefore cannot be log-scaled.\n",
      "  plt.yscale('log')\n"
     ]
    },
    {
     "name": "stdout",
     "output_type": "stream",
     "text": [
      "The R2 score is  0.6279169321060181\n",
      "The R2 score with weighted variance is  0.6279169321060181\n"
     ]
    },
    {
     "name": "stderr",
     "output_type": "stream",
     "text": [
      "/tmp/ipykernel_1299886/1985358741.py:40: SettingWithCopyWarning: \n",
      "A value is trying to be set on a copy of a slice from a DataFrame\n",
      "\n",
      "See the caveats in the documentation: https://pandas.pydata.org/pandas-docs/stable/user_guide/indexing.html#returning-a-view-versus-a-copy\n",
      "  df_hpos_main.iloc[i] = pd.Series(hpos) if type(\n"
     ]
    },
    {
     "name": "stderr",
     "output_type": "stream",
     "text": [
      "train.py:train():187: Epoch 0 / 100 -\t\t Train loss: -0.7719485759735107\tVal loss: -0.9027228951454163\tVal accuracy: 0.33366328477859497 INFO\n"
     ]
    },
    {
     "name": "stderr",
     "output_type": "stream",
     "text": [
      "train.py:train():187: Epoch 10 / 100 -\t\t Train loss: -0.9672527313232422\tVal loss: -0.9689731001853943\tVal accuracy: 0.5235623121261597 INFO\n"
     ]
    },
    {
     "name": "stderr",
     "output_type": "stream",
     "text": [
      "train.py:train():187: Epoch 20 / 100 -\t\t Train loss: -0.9721143245697021\tVal loss: -0.9718458652496338\tVal accuracy: 0.5271207690238953 INFO\n"
     ]
    },
    {
     "name": "stderr",
     "output_type": "stream",
     "text": [
      "train.py:train():187: Epoch 30 / 100 -\t\t Train loss: -0.9738792777061462\tVal loss: -0.974571943283081\tVal accuracy: 0.5268353819847107 INFO\n"
     ]
    },
    {
     "name": "stderr",
     "output_type": "stream",
     "text": [
      "train.py:train():187: Epoch 40 / 100 -\t\t Train loss: -0.974118173122406\tVal loss: -0.976080060005188\tVal accuracy: 0.585116982460022 INFO\n"
     ]
    },
    {
     "name": "stderr",
     "output_type": "stream",
     "text": [
      "train.py:train():187: Epoch 50 / 100 -\t\t Train loss: -0.9738609790802002\tVal loss: -0.9752047657966614\tVal accuracy: 0.5731306672096252 INFO\n"
     ]
    },
    {
     "name": "stderr",
     "output_type": "stream",
     "text": [
      "train.py:train():187: Epoch 60 / 100 -\t\t Train loss: -0.9755324721336365\tVal loss: -0.9766308665275574\tVal accuracy: 0.5851526856422424 INFO\n"
     ]
    },
    {
     "name": "stderr",
     "output_type": "stream",
     "text": [
      "train.py:train():187: Epoch 70 / 100 -\t\t Train loss: -0.9763846397399902\tVal loss: -0.9767763018608093\tVal accuracy: 0.5846889019012451 INFO\n"
     ]
    },
    {
     "name": "stderr",
     "output_type": "stream",
     "text": [
      "train.py:train():187: Epoch 80 / 100 -\t\t Train loss: -0.977294385433197\tVal loss: -0.978206992149353\tVal accuracy: 0.6165899634361267 INFO\n"
     ]
    },
    {
     "name": "stderr",
     "output_type": "stream",
     "text": [
      "train.py:train():187: Epoch 90 / 100 -\t\t Train loss: -0.978049099445343\tVal loss: -0.9791193604469299\tVal accuracy: 0.6140749454498291 INFO\n"
     ]
    },
    {
     "name": "stdout",
     "output_type": "stream",
     "text": [
      "Training complete: 0:01:19.753928\n",
      "Warning: not using the test data for evaluation, but the training data instead of ../data/raw/summarise_simulation/2024_11_21_160955/tabulated_mutation_info.csv\n"
     ]
    },
    {
     "name": "stderr",
     "output_type": "stream",
     "text": [
      "/workdir/src/evoscaper/utils/visualise.py:80: UserWarning: Data has no positive values, and therefore cannot be log-scaled.\n",
      "  plt.yscale('log')\n"
     ]
    },
    {
     "name": "stdout",
     "output_type": "stream",
     "text": [
      "The R2 score is  0.6279169321060181\n",
      "The R2 score with weighted variance is  0.6279169321060181\n"
     ]
    },
    {
     "name": "stderr",
     "output_type": "stream",
     "text": [
      "/tmp/ipykernel_1299886/1985358741.py:40: SettingWithCopyWarning: \n",
      "A value is trying to be set on a copy of a slice from a DataFrame\n",
      "\n",
      "See the caveats in the documentation: https://pandas.pydata.org/pandas-docs/stable/user_guide/indexing.html#returning-a-view-versus-a-copy\n",
      "  df_hpos_main.iloc[i] = pd.Series(hpos) if type(\n"
     ]
    },
    {
     "name": "stderr",
     "output_type": "stream",
     "text": [
      "train.py:train():187: Epoch 0 / 100 -\t\t Train loss: -0.7719485759735107\tVal loss: -0.9027228951454163\tVal accuracy: 0.33366328477859497 INFO\n"
     ]
    },
    {
     "name": "stderr",
     "output_type": "stream",
     "text": [
      "train.py:train():187: Epoch 10 / 100 -\t\t Train loss: -0.9672527313232422\tVal loss: -0.9689731001853943\tVal accuracy: 0.5235623121261597 INFO\n"
     ]
    },
    {
     "name": "stderr",
     "output_type": "stream",
     "text": [
      "train.py:train():187: Epoch 20 / 100 -\t\t Train loss: -0.9721143245697021\tVal loss: -0.9718458652496338\tVal accuracy: 0.5271207690238953 INFO\n"
     ]
    },
    {
     "name": "stderr",
     "output_type": "stream",
     "text": [
      "train.py:train():187: Epoch 30 / 100 -\t\t Train loss: -0.9738792777061462\tVal loss: -0.974571943283081\tVal accuracy: 0.5268353819847107 INFO\n"
     ]
    },
    {
     "name": "stderr",
     "output_type": "stream",
     "text": [
      "train.py:train():187: Epoch 40 / 100 -\t\t Train loss: -0.974118173122406\tVal loss: -0.976080060005188\tVal accuracy: 0.585116982460022 INFO\n"
     ]
    },
    {
     "name": "stderr",
     "output_type": "stream",
     "text": [
      "train.py:train():187: Epoch 50 / 100 -\t\t Train loss: -0.9738609790802002\tVal loss: -0.9752047657966614\tVal accuracy: 0.5731306672096252 INFO\n"
     ]
    },
    {
     "name": "stderr",
     "output_type": "stream",
     "text": [
      "train.py:train():187: Epoch 60 / 100 -\t\t Train loss: -0.9755324721336365\tVal loss: -0.9766308665275574\tVal accuracy: 0.5851526856422424 INFO\n"
     ]
    },
    {
     "name": "stderr",
     "output_type": "stream",
     "text": [
      "train.py:train():187: Epoch 70 / 100 -\t\t Train loss: -0.9763846397399902\tVal loss: -0.9767763018608093\tVal accuracy: 0.5846889019012451 INFO\n"
     ]
    },
    {
     "name": "stderr",
     "output_type": "stream",
     "text": [
      "train.py:train():187: Epoch 80 / 100 -\t\t Train loss: -0.977294385433197\tVal loss: -0.978206992149353\tVal accuracy: 0.6165899634361267 INFO\n"
     ]
    },
    {
     "name": "stderr",
     "output_type": "stream",
     "text": [
      "train.py:train():187: Epoch 90 / 100 -\t\t Train loss: -0.978049099445343\tVal loss: -0.9791193604469299\tVal accuracy: 0.6140749454498291 INFO\n"
     ]
    },
    {
     "name": "stdout",
     "output_type": "stream",
     "text": [
      "Training complete: 0:01:25.345966\n",
      "Warning: not using the test data for evaluation, but the training data instead of ../data/raw/summarise_simulation/2024_11_21_160955/tabulated_mutation_info.csv\n"
     ]
    },
    {
     "name": "stderr",
     "output_type": "stream",
     "text": [
      "/workdir/src/evoscaper/utils/visualise.py:80: UserWarning: Data has no positive values, and therefore cannot be log-scaled.\n",
      "  plt.yscale('log')\n"
     ]
    },
    {
     "name": "stdout",
     "output_type": "stream",
     "text": [
      "The R2 score is  0.6279169321060181\n",
      "The R2 score with weighted variance is  0.6279169321060181\n"
     ]
    },
    {
     "name": "stderr",
     "output_type": "stream",
     "text": [
      "/tmp/ipykernel_1299886/1985358741.py:40: SettingWithCopyWarning: \n",
      "A value is trying to be set on a copy of a slice from a DataFrame\n",
      "\n",
      "See the caveats in the documentation: https://pandas.pydata.org/pandas-docs/stable/user_guide/indexing.html#returning-a-view-versus-a-copy\n",
      "  df_hpos_main.iloc[i] = pd.Series(hpos) if type(\n"
     ]
    },
    {
     "name": "stderr",
     "output_type": "stream",
     "text": [
      "train.py:train():187: Epoch 0 / 100 -\t\t Train loss: -0.7719485759735107\tVal loss: -0.9027228951454163\tVal accuracy: 0.33366328477859497 INFO\n"
     ]
    },
    {
     "name": "stderr",
     "output_type": "stream",
     "text": [
      "train.py:train():187: Epoch 10 / 100 -\t\t Train loss: -0.9672527313232422\tVal loss: -0.9689731001853943\tVal accuracy: 0.5235623121261597 INFO\n"
     ]
    },
    {
     "name": "stderr",
     "output_type": "stream",
     "text": [
      "train.py:train():187: Epoch 20 / 100 -\t\t Train loss: -0.9721143245697021\tVal loss: -0.9718458652496338\tVal accuracy: 0.5271207690238953 INFO\n"
     ]
    },
    {
     "name": "stderr",
     "output_type": "stream",
     "text": [
      "train.py:train():187: Epoch 30 / 100 -\t\t Train loss: -0.9738792777061462\tVal loss: -0.974571943283081\tVal accuracy: 0.5268353819847107 INFO\n"
     ]
    },
    {
     "name": "stderr",
     "output_type": "stream",
     "text": [
      "train.py:train():187: Epoch 40 / 100 -\t\t Train loss: -0.974118173122406\tVal loss: -0.976080060005188\tVal accuracy: 0.585116982460022 INFO\n"
     ]
    },
    {
     "name": "stderr",
     "output_type": "stream",
     "text": [
      "train.py:train():187: Epoch 50 / 100 -\t\t Train loss: -0.9738609790802002\tVal loss: -0.9752047657966614\tVal accuracy: 0.5731306672096252 INFO\n"
     ]
    },
    {
     "name": "stderr",
     "output_type": "stream",
     "text": [
      "train.py:train():187: Epoch 60 / 100 -\t\t Train loss: -0.9755324721336365\tVal loss: -0.9766308665275574\tVal accuracy: 0.5851526856422424 INFO\n"
     ]
    },
    {
     "name": "stderr",
     "output_type": "stream",
     "text": [
      "train.py:train():187: Epoch 70 / 100 -\t\t Train loss: -0.9763846397399902\tVal loss: -0.9767763018608093\tVal accuracy: 0.5846889019012451 INFO\n"
     ]
    },
    {
     "name": "stderr",
     "output_type": "stream",
     "text": [
      "train.py:train():187: Epoch 80 / 100 -\t\t Train loss: -0.977294385433197\tVal loss: -0.978206992149353\tVal accuracy: 0.6165899634361267 INFO\n"
     ]
    },
    {
     "name": "stderr",
     "output_type": "stream",
     "text": [
      "train.py:train():187: Epoch 90 / 100 -\t\t Train loss: -0.978049099445343\tVal loss: -0.9791193604469299\tVal accuracy: 0.6140749454498291 INFO\n"
     ]
    },
    {
     "name": "stdout",
     "output_type": "stream",
     "text": [
      "Training complete: 0:01:20.297015\n",
      "Warning: not using the test data for evaluation, but the training data instead of ../data/raw/summarise_simulation/2024_11_21_160955/tabulated_mutation_info.csv\n"
     ]
    },
    {
     "name": "stderr",
     "output_type": "stream",
     "text": [
      "/workdir/src/evoscaper/utils/visualise.py:80: UserWarning: Data has no positive values, and therefore cannot be log-scaled.\n",
      "  plt.yscale('log')\n"
     ]
    },
    {
     "name": "stdout",
     "output_type": "stream",
     "text": [
      "The R2 score is  0.6279169321060181\n",
      "The R2 score with weighted variance is  0.6279169321060181\n"
     ]
    },
    {
     "name": "stderr",
     "output_type": "stream",
     "text": [
      "/tmp/ipykernel_1299886/1985358741.py:40: SettingWithCopyWarning: \n",
      "A value is trying to be set on a copy of a slice from a DataFrame\n",
      "\n",
      "See the caveats in the documentation: https://pandas.pydata.org/pandas-docs/stable/user_guide/indexing.html#returning-a-view-versus-a-copy\n",
      "  df_hpos_main.iloc[i] = pd.Series(hpos) if type(\n"
     ]
    },
    {
     "name": "stderr",
     "output_type": "stream",
     "text": [
      "train.py:train():187: Epoch 0 / 100 -\t\t Train loss: -0.7719485759735107\tVal loss: -0.9027228951454163\tVal accuracy: 0.33366328477859497 INFO\n"
     ]
    },
    {
     "name": "stderr",
     "output_type": "stream",
     "text": [
      "train.py:train():187: Epoch 10 / 100 -\t\t Train loss: -0.9672527313232422\tVal loss: -0.9689731001853943\tVal accuracy: 0.5235623121261597 INFO\n"
     ]
    },
    {
     "name": "stderr",
     "output_type": "stream",
     "text": [
      "train.py:train():187: Epoch 20 / 100 -\t\t Train loss: -0.9721143245697021\tVal loss: -0.9718458652496338\tVal accuracy: 0.5271207690238953 INFO\n"
     ]
    },
    {
     "name": "stderr",
     "output_type": "stream",
     "text": [
      "train.py:train():187: Epoch 30 / 100 -\t\t Train loss: -0.9738792777061462\tVal loss: -0.974571943283081\tVal accuracy: 0.5268353819847107 INFO\n"
     ]
    },
    {
     "name": "stderr",
     "output_type": "stream",
     "text": [
      "train.py:train():187: Epoch 40 / 100 -\t\t Train loss: -0.974118173122406\tVal loss: -0.976080060005188\tVal accuracy: 0.585116982460022 INFO\n"
     ]
    },
    {
     "name": "stderr",
     "output_type": "stream",
     "text": [
      "train.py:train():187: Epoch 50 / 100 -\t\t Train loss: -0.9738609790802002\tVal loss: -0.9752047657966614\tVal accuracy: 0.5731306672096252 INFO\n"
     ]
    },
    {
     "name": "stderr",
     "output_type": "stream",
     "text": [
      "train.py:train():187: Epoch 60 / 100 -\t\t Train loss: -0.9755324721336365\tVal loss: -0.9766308665275574\tVal accuracy: 0.5851526856422424 INFO\n"
     ]
    },
    {
     "name": "stderr",
     "output_type": "stream",
     "text": [
      "train.py:train():187: Epoch 70 / 100 -\t\t Train loss: -0.9763846397399902\tVal loss: -0.9767763018608093\tVal accuracy: 0.5846889019012451 INFO\n"
     ]
    },
    {
     "name": "stderr",
     "output_type": "stream",
     "text": [
      "train.py:train():187: Epoch 80 / 100 -\t\t Train loss: -0.977294385433197\tVal loss: -0.978206992149353\tVal accuracy: 0.6165899634361267 INFO\n"
     ]
    },
    {
     "name": "stderr",
     "output_type": "stream",
     "text": [
      "train.py:train():187: Epoch 90 / 100 -\t\t Train loss: -0.978049099445343\tVal loss: -0.9791193604469299\tVal accuracy: 0.6140749454498291 INFO\n"
     ]
    },
    {
     "name": "stdout",
     "output_type": "stream",
     "text": [
      "Training complete: 0:01:20.666168\n",
      "Warning: not using the test data for evaluation, but the training data instead of ../data/raw/summarise_simulation/2024_11_21_160955/tabulated_mutation_info.csv\n"
     ]
    },
    {
     "name": "stderr",
     "output_type": "stream",
     "text": [
      "/workdir/src/evoscaper/utils/visualise.py:80: UserWarning: Data has no positive values, and therefore cannot be log-scaled.\n",
      "  plt.yscale('log')\n"
     ]
    },
    {
     "name": "stdout",
     "output_type": "stream",
     "text": [
      "The R2 score is  0.6279169321060181\n",
      "The R2 score with weighted variance is  0.6279169321060181\n"
     ]
    },
    {
     "name": "stderr",
     "output_type": "stream",
     "text": [
      "/tmp/ipykernel_1299886/1985358741.py:40: SettingWithCopyWarning: \n",
      "A value is trying to be set on a copy of a slice from a DataFrame\n",
      "\n",
      "See the caveats in the documentation: https://pandas.pydata.org/pandas-docs/stable/user_guide/indexing.html#returning-a-view-versus-a-copy\n",
      "  df_hpos_main.iloc[i] = pd.Series(hpos) if type(\n"
     ]
    },
    {
     "name": "stderr",
     "output_type": "stream",
     "text": [
      "train.py:train():187: Epoch 0 / 100 -\t\t Train loss: -0.005860303994268179\tVal loss: -0.10789097845554352\tVal accuracy: 0.3352775275707245 INFO\n"
     ]
    },
    {
     "name": "stderr",
     "output_type": "stream",
     "text": [
      "train.py:train():187: Epoch 10 / 100 -\t\t Train loss: -0.18746234476566315\tVal loss: -0.18760260939598083\tVal accuracy: 0.7974724769592285 INFO\n"
     ]
    },
    {
     "name": "stderr",
     "output_type": "stream",
     "text": [
      "train.py:train():187: Epoch 20 / 100 -\t\t Train loss: -0.1913062036037445\tVal loss: -0.19187504053115845\tVal accuracy: 0.8929437398910522 INFO\n"
     ]
    },
    {
     "name": "stderr",
     "output_type": "stream",
     "text": [
      "train.py:train():187: Epoch 30 / 100 -\t\t Train loss: -0.19242529571056366\tVal loss: -0.19253958761692047\tVal accuracy: 0.9064105153083801 INFO\n"
     ]
    },
    {
     "name": "stderr",
     "output_type": "stream",
     "text": [
      "train.py:train():187: Epoch 40 / 100 -\t\t Train loss: -0.1931575983762741\tVal loss: -0.19368095695972443\tVal accuracy: 0.9392569065093994 INFO\n"
     ]
    },
    {
     "name": "stderr",
     "output_type": "stream",
     "text": [
      "train.py:train():187: Epoch 50 / 100 -\t\t Train loss: -0.19364383816719055\tVal loss: -0.1939733326435089\tVal accuracy: 0.9415221214294434 INFO\n"
     ]
    },
    {
     "name": "stderr",
     "output_type": "stream",
     "text": [
      "train.py:train():187: Epoch 60 / 100 -\t\t Train loss: -0.19393335282802582\tVal loss: -0.19355551898479462\tVal accuracy: 0.9248626232147217 INFO\n"
     ]
    },
    {
     "name": "stderr",
     "output_type": "stream",
     "text": [
      "train.py:train():187: Epoch 70 / 100 -\t\t Train loss: -0.19427432119846344\tVal loss: -0.1944369226694107\tVal accuracy: 0.9551315903663635 INFO\n"
     ]
    },
    {
     "name": "stderr",
     "output_type": "stream",
     "text": [
      "train.py:train():187: Epoch 80 / 100 -\t\t Train loss: -0.19447749853134155\tVal loss: -0.19473302364349365\tVal accuracy: 0.9621503353118896 INFO\n"
     ]
    },
    {
     "name": "stderr",
     "output_type": "stream",
     "text": [
      "train.py:train():187: Epoch 90 / 100 -\t\t Train loss: -0.194626584649086\tVal loss: -0.1946924775838852\tVal accuracy: 0.9618114829063416 INFO\n"
     ]
    },
    {
     "name": "stdout",
     "output_type": "stream",
     "text": [
      "Training complete: 0:01:20.108838\n",
      "Warning: not using the test data for evaluation, but the training data instead of ../data/raw/summarise_simulation/2024_11_21_160955/tabulated_mutation_info.csv\n"
     ]
    },
    {
     "name": "stderr",
     "output_type": "stream",
     "text": [
      "/workdir/src/evoscaper/utils/visualise.py:80: UserWarning: Data has no positive values, and therefore cannot be log-scaled.\n",
      "  plt.yscale('log')\n"
     ]
    },
    {
     "name": "stdout",
     "output_type": "stream",
     "text": [
      "The R2 score is  0.9548395276069641\n",
      "The R2 score with weighted variance is  0.9548395276069641\n"
     ]
    },
    {
     "name": "stdout",
     "output_type": "stream",
     "text": [
      "Steady states found after 0 mins and 25 secs. Now calculating signal response\n"
     ]
    },
    {
     "name": "stdout",
     "output_type": "stream",
     "text": [
      "Signal response found after 0 mins and 27 secs.\n"
     ]
    },
    {
     "name": "stdout",
     "output_type": "stream",
     "text": [
      "data/03_cvae_multi/2025_02_08__22_15_29/cvae_scan/hpo_233\n"
     ]
    },
    {
     "name": "stderr",
     "output_type": "stream",
     "text": [
      "/tmp/ipykernel_1299886/1985358741.py:40: SettingWithCopyWarning: \n",
      "A value is trying to be set on a copy of a slice from a DataFrame\n",
      "\n",
      "See the caveats in the documentation: https://pandas.pydata.org/pandas-docs/stable/user_guide/indexing.html#returning-a-view-versus-a-copy\n",
      "  df_hpos_main.iloc[i] = pd.Series(hpos) if type(\n"
     ]
    },
    {
     "name": "stderr",
     "output_type": "stream",
     "text": [
      "train.py:train():187: Epoch 0 / 100 -\t\t Train loss: -0.005860303994268179\tVal loss: -0.10789097845554352\tVal accuracy: 0.3352775275707245 INFO\n"
     ]
    },
    {
     "name": "stderr",
     "output_type": "stream",
     "text": [
      "train.py:train():187: Epoch 10 / 100 -\t\t Train loss: -0.18746234476566315\tVal loss: -0.18760260939598083\tVal accuracy: 0.7974724769592285 INFO\n"
     ]
    },
    {
     "name": "stderr",
     "output_type": "stream",
     "text": [
      "train.py:train():187: Epoch 20 / 100 -\t\t Train loss: -0.1913062036037445\tVal loss: -0.19187504053115845\tVal accuracy: 0.8929437398910522 INFO\n"
     ]
    },
    {
     "name": "stderr",
     "output_type": "stream",
     "text": [
      "train.py:train():187: Epoch 30 / 100 -\t\t Train loss: -0.19242529571056366\tVal loss: -0.19253958761692047\tVal accuracy: 0.9064105153083801 INFO\n"
     ]
    },
    {
     "name": "stderr",
     "output_type": "stream",
     "text": [
      "train.py:train():187: Epoch 40 / 100 -\t\t Train loss: -0.1931575983762741\tVal loss: -0.19368095695972443\tVal accuracy: 0.9392569065093994 INFO\n"
     ]
    },
    {
     "name": "stderr",
     "output_type": "stream",
     "text": [
      "train.py:train():187: Epoch 50 / 100 -\t\t Train loss: -0.19364383816719055\tVal loss: -0.1939733326435089\tVal accuracy: 0.9415221214294434 INFO\n"
     ]
    },
    {
     "name": "stderr",
     "output_type": "stream",
     "text": [
      "train.py:train():187: Epoch 60 / 100 -\t\t Train loss: -0.19393335282802582\tVal loss: -0.19355551898479462\tVal accuracy: 0.9248626232147217 INFO\n"
     ]
    },
    {
     "name": "stderr",
     "output_type": "stream",
     "text": [
      "train.py:train():187: Epoch 70 / 100 -\t\t Train loss: -0.19427432119846344\tVal loss: -0.1944369226694107\tVal accuracy: 0.9551315903663635 INFO\n"
     ]
    },
    {
     "name": "stderr",
     "output_type": "stream",
     "text": [
      "train.py:train():187: Epoch 80 / 100 -\t\t Train loss: -0.19447749853134155\tVal loss: -0.19473302364349365\tVal accuracy: 0.9621503353118896 INFO\n"
     ]
    },
    {
     "name": "stderr",
     "output_type": "stream",
     "text": [
      "train.py:train():187: Epoch 90 / 100 -\t\t Train loss: -0.194626584649086\tVal loss: -0.1946924775838852\tVal accuracy: 0.9618114829063416 INFO\n"
     ]
    },
    {
     "name": "stdout",
     "output_type": "stream",
     "text": [
      "Training complete: 0:01:20.423590\n",
      "Warning: not using the test data for evaluation, but the training data instead of ../data/raw/summarise_simulation/2024_11_21_160955/tabulated_mutation_info.csv\n"
     ]
    },
    {
     "name": "stderr",
     "output_type": "stream",
     "text": [
      "/workdir/src/evoscaper/utils/visualise.py:80: UserWarning: Data has no positive values, and therefore cannot be log-scaled.\n",
      "  plt.yscale('log')\n"
     ]
    },
    {
     "name": "stdout",
     "output_type": "stream",
     "text": [
      "The R2 score is  0.9548395276069641\n",
      "The R2 score with weighted variance is  0.9548395276069641\n"
     ]
    },
    {
     "name": "stdout",
     "output_type": "stream",
     "text": [
      "Steady states found after 0 mins and 25 secs. Now calculating signal response\n"
     ]
    },
    {
     "name": "stdout",
     "output_type": "stream",
     "text": [
      "Signal response found after 0 mins and 26 secs.\n"
     ]
    },
    {
     "name": "stdout",
     "output_type": "stream",
     "text": [
      "data/03_cvae_multi/2025_02_08__22_15_29/cvae_scan/hpo_234\n"
     ]
    },
    {
     "name": "stderr",
     "output_type": "stream",
     "text": [
      "/tmp/ipykernel_1299886/1985358741.py:40: SettingWithCopyWarning: \n",
      "A value is trying to be set on a copy of a slice from a DataFrame\n",
      "\n",
      "See the caveats in the documentation: https://pandas.pydata.org/pandas-docs/stable/user_guide/indexing.html#returning-a-view-versus-a-copy\n",
      "  df_hpos_main.iloc[i] = pd.Series(hpos) if type(\n"
     ]
    },
    {
     "name": "stderr",
     "output_type": "stream",
     "text": [
      "train.py:train():187: Epoch 0 / 100 -\t\t Train loss: -0.005860303994268179\tVal loss: -0.10789097845554352\tVal accuracy: 0.3352775275707245 INFO\n"
     ]
    },
    {
     "name": "stderr",
     "output_type": "stream",
     "text": [
      "train.py:train():187: Epoch 10 / 100 -\t\t Train loss: -0.18746234476566315\tVal loss: -0.18760260939598083\tVal accuracy: 0.7974724769592285 INFO\n"
     ]
    },
    {
     "name": "stderr",
     "output_type": "stream",
     "text": [
      "train.py:train():187: Epoch 20 / 100 -\t\t Train loss: -0.1913062036037445\tVal loss: -0.19187504053115845\tVal accuracy: 0.8929437398910522 INFO\n"
     ]
    },
    {
     "name": "stderr",
     "output_type": "stream",
     "text": [
      "train.py:train():187: Epoch 30 / 100 -\t\t Train loss: -0.19242529571056366\tVal loss: -0.19253958761692047\tVal accuracy: 0.9064105153083801 INFO\n"
     ]
    },
    {
     "name": "stderr",
     "output_type": "stream",
     "text": [
      "train.py:train():187: Epoch 40 / 100 -\t\t Train loss: -0.1931575983762741\tVal loss: -0.19368095695972443\tVal accuracy: 0.9392569065093994 INFO\n"
     ]
    },
    {
     "name": "stderr",
     "output_type": "stream",
     "text": [
      "train.py:train():187: Epoch 50 / 100 -\t\t Train loss: -0.19364383816719055\tVal loss: -0.1939733326435089\tVal accuracy: 0.9415221214294434 INFO\n"
     ]
    },
    {
     "name": "stderr",
     "output_type": "stream",
     "text": [
      "train.py:train():187: Epoch 60 / 100 -\t\t Train loss: -0.19393335282802582\tVal loss: -0.19355551898479462\tVal accuracy: 0.9248626232147217 INFO\n"
     ]
    },
    {
     "name": "stderr",
     "output_type": "stream",
     "text": [
      "train.py:train():187: Epoch 70 / 100 -\t\t Train loss: -0.19427432119846344\tVal loss: -0.1944369226694107\tVal accuracy: 0.9551315903663635 INFO\n"
     ]
    },
    {
     "name": "stderr",
     "output_type": "stream",
     "text": [
      "train.py:train():187: Epoch 80 / 100 -\t\t Train loss: -0.19447749853134155\tVal loss: -0.19473302364349365\tVal accuracy: 0.9621503353118896 INFO\n"
     ]
    },
    {
     "name": "stderr",
     "output_type": "stream",
     "text": [
      "train.py:train():187: Epoch 90 / 100 -\t\t Train loss: -0.194626584649086\tVal loss: -0.1946924775838852\tVal accuracy: 0.9618114829063416 INFO\n"
     ]
    },
    {
     "name": "stdout",
     "output_type": "stream",
     "text": [
      "Training complete: 0:01:26.804412\n",
      "Warning: not using the test data for evaluation, but the training data instead of ../data/raw/summarise_simulation/2024_11_21_160955/tabulated_mutation_info.csv\n"
     ]
    },
    {
     "name": "stderr",
     "output_type": "stream",
     "text": [
      "/workdir/src/evoscaper/utils/visualise.py:80: UserWarning: Data has no positive values, and therefore cannot be log-scaled.\n",
      "  plt.yscale('log')\n"
     ]
    },
    {
     "name": "stdout",
     "output_type": "stream",
     "text": [
      "The R2 score is  0.9548395276069641\n",
      "The R2 score with weighted variance is  0.9548395276069641\n"
     ]
    },
    {
     "name": "stdout",
     "output_type": "stream",
     "text": [
      "Steady states found after 0 mins and 24 secs. Now calculating signal response\n"
     ]
    },
    {
     "name": "stdout",
     "output_type": "stream",
     "text": [
      "Signal response found after 0 mins and 25 secs.\n"
     ]
    },
    {
     "name": "stdout",
     "output_type": "stream",
     "text": [
      "data/03_cvae_multi/2025_02_08__22_15_29/cvae_scan/hpo_235\n"
     ]
    },
    {
     "name": "stderr",
     "output_type": "stream",
     "text": [
      "/tmp/ipykernel_1299886/1985358741.py:40: SettingWithCopyWarning: \n",
      "A value is trying to be set on a copy of a slice from a DataFrame\n",
      "\n",
      "See the caveats in the documentation: https://pandas.pydata.org/pandas-docs/stable/user_guide/indexing.html#returning-a-view-versus-a-copy\n",
      "  df_hpos_main.iloc[i] = pd.Series(hpos) if type(\n"
     ]
    },
    {
     "name": "stderr",
     "output_type": "stream",
     "text": [
      "train.py:train():187: Epoch 0 / 100 -\t\t Train loss: -0.005860303994268179\tVal loss: -0.10789097845554352\tVal accuracy: 0.3352775275707245 INFO\n"
     ]
    },
    {
     "name": "stderr",
     "output_type": "stream",
     "text": [
      "train.py:train():187: Epoch 10 / 100 -\t\t Train loss: -0.18746234476566315\tVal loss: -0.18760260939598083\tVal accuracy: 0.7974724769592285 INFO\n"
     ]
    },
    {
     "name": "stderr",
     "output_type": "stream",
     "text": [
      "train.py:train():187: Epoch 20 / 100 -\t\t Train loss: -0.1913062036037445\tVal loss: -0.19187504053115845\tVal accuracy: 0.8929437398910522 INFO\n"
     ]
    },
    {
     "name": "stderr",
     "output_type": "stream",
     "text": [
      "train.py:train():187: Epoch 30 / 100 -\t\t Train loss: -0.19242529571056366\tVal loss: -0.19253958761692047\tVal accuracy: 0.9064105153083801 INFO\n"
     ]
    },
    {
     "name": "stderr",
     "output_type": "stream",
     "text": [
      "train.py:train():187: Epoch 40 / 100 -\t\t Train loss: -0.1931575983762741\tVal loss: -0.19368095695972443\tVal accuracy: 0.9392569065093994 INFO\n"
     ]
    },
    {
     "name": "stderr",
     "output_type": "stream",
     "text": [
      "train.py:train():187: Epoch 50 / 100 -\t\t Train loss: -0.19364383816719055\tVal loss: -0.1939733326435089\tVal accuracy: 0.9415221214294434 INFO\n"
     ]
    },
    {
     "name": "stderr",
     "output_type": "stream",
     "text": [
      "train.py:train():187: Epoch 60 / 100 -\t\t Train loss: -0.19393335282802582\tVal loss: -0.19355551898479462\tVal accuracy: 0.9248626232147217 INFO\n"
     ]
    },
    {
     "name": "stderr",
     "output_type": "stream",
     "text": [
      "train.py:train():187: Epoch 70 / 100 -\t\t Train loss: -0.19427432119846344\tVal loss: -0.1944369226694107\tVal accuracy: 0.9551315903663635 INFO\n"
     ]
    },
    {
     "name": "stderr",
     "output_type": "stream",
     "text": [
      "train.py:train():187: Epoch 80 / 100 -\t\t Train loss: -0.19447749853134155\tVal loss: -0.19473302364349365\tVal accuracy: 0.9621503353118896 INFO\n"
     ]
    },
    {
     "name": "stderr",
     "output_type": "stream",
     "text": [
      "train.py:train():187: Epoch 90 / 100 -\t\t Train loss: -0.194626584649086\tVal loss: -0.1946924775838852\tVal accuracy: 0.9618114829063416 INFO\n"
     ]
    },
    {
     "name": "stdout",
     "output_type": "stream",
     "text": [
      "Training complete: 0:01:20.491163\n",
      "Warning: not using the test data for evaluation, but the training data instead of ../data/raw/summarise_simulation/2024_11_21_160955/tabulated_mutation_info.csv\n"
     ]
    },
    {
     "name": "stderr",
     "output_type": "stream",
     "text": [
      "/workdir/src/evoscaper/utils/visualise.py:80: UserWarning: Data has no positive values, and therefore cannot be log-scaled.\n",
      "  plt.yscale('log')\n"
     ]
    },
    {
     "name": "stdout",
     "output_type": "stream",
     "text": [
      "The R2 score is  0.9548395276069641\n",
      "The R2 score with weighted variance is  0.9548395276069641\n"
     ]
    },
    {
     "name": "stdout",
     "output_type": "stream",
     "text": [
      "Steady states found after 0 mins and 24 secs. Now calculating signal response\n"
     ]
    },
    {
     "name": "stdout",
     "output_type": "stream",
     "text": [
      "Signal response found after 0 mins and 25 secs.\n"
     ]
    },
    {
     "name": "stdout",
     "output_type": "stream",
     "text": [
      "data/03_cvae_multi/2025_02_08__22_15_29/cvae_scan/hpo_236\n"
     ]
    },
    {
     "name": "stderr",
     "output_type": "stream",
     "text": [
      "/tmp/ipykernel_1299886/1985358741.py:40: SettingWithCopyWarning: \n",
      "A value is trying to be set on a copy of a slice from a DataFrame\n",
      "\n",
      "See the caveats in the documentation: https://pandas.pydata.org/pandas-docs/stable/user_guide/indexing.html#returning-a-view-versus-a-copy\n",
      "  df_hpos_main.iloc[i] = pd.Series(hpos) if type(\n"
     ]
    },
    {
     "name": "stderr",
     "output_type": "stream",
     "text": [
      "train.py:train():187: Epoch 0 / 100 -\t\t Train loss: -0.005860303994268179\tVal loss: -0.10789097845554352\tVal accuracy: 0.3352775275707245 INFO\n"
     ]
    },
    {
     "name": "stderr",
     "output_type": "stream",
     "text": [
      "train.py:train():187: Epoch 10 / 100 -\t\t Train loss: -0.18746234476566315\tVal loss: -0.18760260939598083\tVal accuracy: 0.7974724769592285 INFO\n"
     ]
    },
    {
     "name": "stderr",
     "output_type": "stream",
     "text": [
      "train.py:train():187: Epoch 20 / 100 -\t\t Train loss: -0.1913062036037445\tVal loss: -0.19187504053115845\tVal accuracy: 0.8929437398910522 INFO\n"
     ]
    },
    {
     "name": "stderr",
     "output_type": "stream",
     "text": [
      "train.py:train():187: Epoch 30 / 100 -\t\t Train loss: -0.19242529571056366\tVal loss: -0.19253958761692047\tVal accuracy: 0.9064105153083801 INFO\n"
     ]
    },
    {
     "name": "stderr",
     "output_type": "stream",
     "text": [
      "train.py:train():187: Epoch 40 / 100 -\t\t Train loss: -0.1931575983762741\tVal loss: -0.19368095695972443\tVal accuracy: 0.9392569065093994 INFO\n"
     ]
    },
    {
     "name": "stderr",
     "output_type": "stream",
     "text": [
      "train.py:train():187: Epoch 50 / 100 -\t\t Train loss: -0.19364383816719055\tVal loss: -0.1939733326435089\tVal accuracy: 0.9415221214294434 INFO\n"
     ]
    },
    {
     "name": "stderr",
     "output_type": "stream",
     "text": [
      "train.py:train():187: Epoch 60 / 100 -\t\t Train loss: -0.19393335282802582\tVal loss: -0.19355551898479462\tVal accuracy: 0.9248626232147217 INFO\n"
     ]
    },
    {
     "name": "stderr",
     "output_type": "stream",
     "text": [
      "train.py:train():187: Epoch 70 / 100 -\t\t Train loss: -0.19427432119846344\tVal loss: -0.1944369226694107\tVal accuracy: 0.9551315903663635 INFO\n"
     ]
    },
    {
     "name": "stderr",
     "output_type": "stream",
     "text": [
      "train.py:train():187: Epoch 80 / 100 -\t\t Train loss: -0.19447749853134155\tVal loss: -0.19473302364349365\tVal accuracy: 0.9621503353118896 INFO\n"
     ]
    },
    {
     "name": "stderr",
     "output_type": "stream",
     "text": [
      "train.py:train():187: Epoch 90 / 100 -\t\t Train loss: -0.194626584649086\tVal loss: -0.1946924775838852\tVal accuracy: 0.9618114829063416 INFO\n"
     ]
    },
    {
     "name": "stdout",
     "output_type": "stream",
     "text": [
      "Training complete: 0:01:28.636417\n",
      "Warning: not using the test data for evaluation, but the training data instead of ../data/raw/summarise_simulation/2024_11_21_160955/tabulated_mutation_info.csv\n"
     ]
    },
    {
     "name": "stderr",
     "output_type": "stream",
     "text": [
      "/workdir/src/evoscaper/utils/visualise.py:80: UserWarning: Data has no positive values, and therefore cannot be log-scaled.\n",
      "  plt.yscale('log')\n"
     ]
    },
    {
     "name": "stdout",
     "output_type": "stream",
     "text": [
      "The R2 score is  0.9548395276069641\n",
      "The R2 score with weighted variance is  0.9548395276069641\n"
     ]
    },
    {
     "name": "stdout",
     "output_type": "stream",
     "text": [
      "Steady states found after 0 mins and 24 secs. Now calculating signal response\n"
     ]
    },
    {
     "name": "stdout",
     "output_type": "stream",
     "text": [
      "Signal response found after 0 mins and 25 secs.\n"
     ]
    },
    {
     "name": "stdout",
     "output_type": "stream",
     "text": [
      "data/03_cvae_multi/2025_02_08__22_15_29/cvae_scan/hpo_237\n"
     ]
    },
    {
     "name": "stderr",
     "output_type": "stream",
     "text": [
      "/tmp/ipykernel_1299886/1985358741.py:40: SettingWithCopyWarning: \n",
      "A value is trying to be set on a copy of a slice from a DataFrame\n",
      "\n",
      "See the caveats in the documentation: https://pandas.pydata.org/pandas-docs/stable/user_guide/indexing.html#returning-a-view-versus-a-copy\n",
      "  df_hpos_main.iloc[i] = pd.Series(hpos) if type(\n"
     ]
    },
    {
     "name": "stderr",
     "output_type": "stream",
     "text": [
      "train.py:train():187: Epoch 0 / 100 -\t\t Train loss: -0.005860303994268179\tVal loss: -0.10789097845554352\tVal accuracy: 0.3352775275707245 INFO\n"
     ]
    },
    {
     "name": "stderr",
     "output_type": "stream",
     "text": [
      "train.py:train():187: Epoch 10 / 100 -\t\t Train loss: -0.18746234476566315\tVal loss: -0.18760260939598083\tVal accuracy: 0.7974724769592285 INFO\n"
     ]
    },
    {
     "name": "stderr",
     "output_type": "stream",
     "text": [
      "train.py:train():187: Epoch 20 / 100 -\t\t Train loss: -0.1913062036037445\tVal loss: -0.19187504053115845\tVal accuracy: 0.8929437398910522 INFO\n"
     ]
    },
    {
     "name": "stderr",
     "output_type": "stream",
     "text": [
      "train.py:train():187: Epoch 30 / 100 -\t\t Train loss: -0.19242529571056366\tVal loss: -0.19253958761692047\tVal accuracy: 0.9064105153083801 INFO\n"
     ]
    },
    {
     "name": "stderr",
     "output_type": "stream",
     "text": [
      "train.py:train():187: Epoch 40 / 100 -\t\t Train loss: -0.1931575983762741\tVal loss: -0.19368095695972443\tVal accuracy: 0.9392569065093994 INFO\n"
     ]
    },
    {
     "name": "stderr",
     "output_type": "stream",
     "text": [
      "train.py:train():187: Epoch 50 / 100 -\t\t Train loss: -0.19364383816719055\tVal loss: -0.1939733326435089\tVal accuracy: 0.9415221214294434 INFO\n"
     ]
    },
    {
     "name": "stderr",
     "output_type": "stream",
     "text": [
      "train.py:train():187: Epoch 60 / 100 -\t\t Train loss: -0.19393335282802582\tVal loss: -0.19355551898479462\tVal accuracy: 0.9248626232147217 INFO\n"
     ]
    },
    {
     "name": "stderr",
     "output_type": "stream",
     "text": [
      "train.py:train():187: Epoch 70 / 100 -\t\t Train loss: -0.19427432119846344\tVal loss: -0.1944369226694107\tVal accuracy: 0.9551315903663635 INFO\n"
     ]
    },
    {
     "name": "stderr",
     "output_type": "stream",
     "text": [
      "train.py:train():187: Epoch 80 / 100 -\t\t Train loss: -0.19447749853134155\tVal loss: -0.19473302364349365\tVal accuracy: 0.9621503353118896 INFO\n"
     ]
    },
    {
     "name": "stderr",
     "output_type": "stream",
     "text": [
      "train.py:train():187: Epoch 90 / 100 -\t\t Train loss: -0.194626584649086\tVal loss: -0.1946924775838852\tVal accuracy: 0.9618114829063416 INFO\n"
     ]
    },
    {
     "name": "stdout",
     "output_type": "stream",
     "text": [
      "Training complete: 0:01:21.058095\n",
      "Warning: not using the test data for evaluation, but the training data instead of ../data/raw/summarise_simulation/2024_11_21_160955/tabulated_mutation_info.csv\n"
     ]
    },
    {
     "name": "stderr",
     "output_type": "stream",
     "text": [
      "/workdir/src/evoscaper/utils/visualise.py:80: UserWarning: Data has no positive values, and therefore cannot be log-scaled.\n",
      "  plt.yscale('log')\n"
     ]
    },
    {
     "name": "stdout",
     "output_type": "stream",
     "text": [
      "The R2 score is  0.9548395276069641\n",
      "The R2 score with weighted variance is  0.9548395276069641\n"
     ]
    },
    {
     "name": "stdout",
     "output_type": "stream",
     "text": [
      "Steady states found after 0 mins and 25 secs. Now calculating signal response\n"
     ]
    },
    {
     "name": "stdout",
     "output_type": "stream",
     "text": [
      "Signal response found after 0 mins and 27 secs.\n"
     ]
    },
    {
     "name": "stdout",
     "output_type": "stream",
     "text": [
      "data/03_cvae_multi/2025_02_08__22_15_29/cvae_scan/hpo_238\n"
     ]
    },
    {
     "name": "stderr",
     "output_type": "stream",
     "text": [
      "/tmp/ipykernel_1299886/1985358741.py:40: SettingWithCopyWarning: \n",
      "A value is trying to be set on a copy of a slice from a DataFrame\n",
      "\n",
      "See the caveats in the documentation: https://pandas.pydata.org/pandas-docs/stable/user_guide/indexing.html#returning-a-view-versus-a-copy\n",
      "  df_hpos_main.iloc[i] = pd.Series(hpos) if type(\n"
     ]
    },
    {
     "name": "stderr",
     "output_type": "stream",
     "text": [
      "train.py:train():187: Epoch 0 / 100 -\t\t Train loss: -0.005860303994268179\tVal loss: -0.10789097845554352\tVal accuracy: 0.3352775275707245 INFO\n"
     ]
    },
    {
     "name": "stderr",
     "output_type": "stream",
     "text": [
      "train.py:train():187: Epoch 10 / 100 -\t\t Train loss: -0.18746234476566315\tVal loss: -0.18760260939598083\tVal accuracy: 0.7974724769592285 INFO\n"
     ]
    },
    {
     "name": "stderr",
     "output_type": "stream",
     "text": [
      "train.py:train():197: Early stopping triggered after 20 epochs:\n",
      "Train loss: -0.19097408652305603\n",
      "Val loss: -0.19170573353767395\n",
      "Val accuracy: 0.904386043548584\n",
      "Epochs no improvement: 0 WARNING\n"
     ]
    },
    {
     "name": "stdout",
     "output_type": "stream",
     "text": [
      "Training complete: 0:00:16.117038\n",
      "Warning: not using the test data for evaluation, but the training data instead of ../data/raw/summarise_simulation/2024_11_21_160955/tabulated_mutation_info.csv\n"
     ]
    },
    {
     "name": "stderr",
     "output_type": "stream",
     "text": [
      "/workdir/src/evoscaper/utils/visualise.py:80: UserWarning: Data has no positive values, and therefore cannot be log-scaled.\n",
      "  plt.yscale('log')\n"
     ]
    },
    {
     "name": "stdout",
     "output_type": "stream",
     "text": [
      "The R2 score is  0.8947726488113403\n",
      "The R2 score with weighted variance is  0.8947726488113403\n"
     ]
    },
    {
     "name": "stdout",
     "output_type": "stream",
     "text": [
      "Steady states found after 0 mins and 29 secs. Now calculating signal response\n"
     ]
    },
    {
     "name": "stdout",
     "output_type": "stream",
     "text": [
      "Signal response found after 0 mins and 26 secs.\n"
     ]
    },
    {
     "name": "stdout",
     "output_type": "stream",
     "text": [
      "data/03_cvae_multi/2025_02_08__22_15_29/cvae_scan/hpo_239\n"
     ]
    },
    {
     "name": "stderr",
     "output_type": "stream",
     "text": [
      "/tmp/ipykernel_1299886/1985358741.py:40: SettingWithCopyWarning: \n",
      "A value is trying to be set on a copy of a slice from a DataFrame\n",
      "\n",
      "See the caveats in the documentation: https://pandas.pydata.org/pandas-docs/stable/user_guide/indexing.html#returning-a-view-versus-a-copy\n",
      "  df_hpos_main.iloc[i] = pd.Series(hpos) if type(\n"
     ]
    },
    {
     "name": "stderr",
     "output_type": "stream",
     "text": [
      "train.py:train():187: Epoch 0 / 100 -\t\t Train loss: -0.005860303994268179\tVal loss: -0.10789097845554352\tVal accuracy: 0.3352775275707245 INFO\n"
     ]
    },
    {
     "name": "stderr",
     "output_type": "stream",
     "text": [
      "train.py:train():187: Epoch 10 / 100 -\t\t Train loss: -0.18746234476566315\tVal loss: -0.18760260939598083\tVal accuracy: 0.7974724769592285 INFO\n"
     ]
    },
    {
     "name": "stderr",
     "output_type": "stream",
     "text": [
      "train.py:train():197: Early stopping triggered after 20 epochs:\n",
      "Train loss: -0.19097408652305603\n",
      "Val loss: -0.19170573353767395\n",
      "Val accuracy: 0.904386043548584\n",
      "Epochs no improvement: 0 WARNING\n"
     ]
    },
    {
     "name": "stdout",
     "output_type": "stream",
     "text": [
      "Training complete: 0:00:16.176505\n",
      "Warning: not using the test data for evaluation, but the training data instead of ../data/raw/summarise_simulation/2024_11_21_160955/tabulated_mutation_info.csv\n"
     ]
    },
    {
     "name": "stderr",
     "output_type": "stream",
     "text": [
      "/workdir/src/evoscaper/utils/visualise.py:80: UserWarning: Data has no positive values, and therefore cannot be log-scaled.\n",
      "  plt.yscale('log')\n"
     ]
    },
    {
     "name": "stdout",
     "output_type": "stream",
     "text": [
      "The R2 score is  0.8947726488113403\n",
      "The R2 score with weighted variance is  0.8947726488113403\n"
     ]
    },
    {
     "name": "stdout",
     "output_type": "stream",
     "text": [
      "Steady states found after 0 mins and 29 secs. Now calculating signal response\n"
     ]
    },
    {
     "name": "stdout",
     "output_type": "stream",
     "text": [
      "Signal response found after 0 mins and 26 secs.\n"
     ]
    },
    {
     "name": "stdout",
     "output_type": "stream",
     "text": [
      "data/03_cvae_multi/2025_02_08__22_15_29/cvae_scan/hpo_240\n"
     ]
    },
    {
     "name": "stderr",
     "output_type": "stream",
     "text": [
      "/tmp/ipykernel_1299886/1985358741.py:40: SettingWithCopyWarning: \n",
      "A value is trying to be set on a copy of a slice from a DataFrame\n",
      "\n",
      "See the caveats in the documentation: https://pandas.pydata.org/pandas-docs/stable/user_guide/indexing.html#returning-a-view-versus-a-copy\n",
      "  df_hpos_main.iloc[i] = pd.Series(hpos) if type(\n"
     ]
    },
    {
     "name": "stderr",
     "output_type": "stream",
     "text": [
      "train.py:train():187: Epoch 0 / 100 -\t\t Train loss: -0.005860303994268179\tVal loss: -0.10789097845554352\tVal accuracy: 0.3352775275707245 INFO\n"
     ]
    },
    {
     "name": "stderr",
     "output_type": "stream",
     "text": [
      "train.py:train():187: Epoch 10 / 100 -\t\t Train loss: -0.18746234476566315\tVal loss: -0.18760260939598083\tVal accuracy: 0.7974724769592285 INFO\n"
     ]
    },
    {
     "name": "stderr",
     "output_type": "stream",
     "text": [
      "train.py:train():197: Early stopping triggered after 20 epochs:\n",
      "Train loss: -0.19097408652305603\n",
      "Val loss: -0.19170573353767395\n",
      "Val accuracy: 0.904386043548584\n",
      "Epochs no improvement: 0 WARNING\n"
     ]
    },
    {
     "name": "stdout",
     "output_type": "stream",
     "text": [
      "Training complete: 0:00:16.155774\n",
      "Warning: not using the test data for evaluation, but the training data instead of ../data/raw/summarise_simulation/2024_11_21_160955/tabulated_mutation_info.csv\n"
     ]
    },
    {
     "name": "stderr",
     "output_type": "stream",
     "text": [
      "/workdir/src/evoscaper/utils/visualise.py:80: UserWarning: Data has no positive values, and therefore cannot be log-scaled.\n",
      "  plt.yscale('log')\n"
     ]
    },
    {
     "name": "stdout",
     "output_type": "stream",
     "text": [
      "The R2 score is  0.8947726488113403\n",
      "The R2 score with weighted variance is  0.8947726488113403\n"
     ]
    },
    {
     "name": "stdout",
     "output_type": "stream",
     "text": [
      "Steady states found after 0 mins and 29 secs. Now calculating signal response\n"
     ]
    },
    {
     "name": "stdout",
     "output_type": "stream",
     "text": [
      "Signal response found after 0 mins and 25 secs.\n"
     ]
    },
    {
     "name": "stdout",
     "output_type": "stream",
     "text": [
      "data/03_cvae_multi/2025_02_08__22_15_29/cvae_scan/hpo_241\n"
     ]
    },
    {
     "name": "stderr",
     "output_type": "stream",
     "text": [
      "/tmp/ipykernel_1299886/1985358741.py:40: SettingWithCopyWarning: \n",
      "A value is trying to be set on a copy of a slice from a DataFrame\n",
      "\n",
      "See the caveats in the documentation: https://pandas.pydata.org/pandas-docs/stable/user_guide/indexing.html#returning-a-view-versus-a-copy\n",
      "  df_hpos_main.iloc[i] = pd.Series(hpos) if type(\n"
     ]
    },
    {
     "name": "stderr",
     "output_type": "stream",
     "text": [
      "train.py:train():187: Epoch 0 / 100 -\t\t Train loss: -0.005860303994268179\tVal loss: -0.10789097845554352\tVal accuracy: 0.3352775275707245 INFO\n"
     ]
    },
    {
     "name": "stderr",
     "output_type": "stream",
     "text": [
      "train.py:train():187: Epoch 10 / 100 -\t\t Train loss: -0.18746234476566315\tVal loss: -0.18760260939598083\tVal accuracy: 0.7974724769592285 INFO\n"
     ]
    },
    {
     "name": "stderr",
     "output_type": "stream",
     "text": [
      "train.py:train():197: Early stopping triggered after 20 epochs:\n",
      "Train loss: -0.19097408652305603\n",
      "Val loss: -0.19170573353767395\n",
      "Val accuracy: 0.904386043548584\n",
      "Epochs no improvement: 0 WARNING\n"
     ]
    },
    {
     "name": "stdout",
     "output_type": "stream",
     "text": [
      "Training complete: 0:00:16.122955\n",
      "Warning: not using the test data for evaluation, but the training data instead of ../data/raw/summarise_simulation/2024_11_21_160955/tabulated_mutation_info.csv\n"
     ]
    },
    {
     "name": "stderr",
     "output_type": "stream",
     "text": [
      "/workdir/src/evoscaper/utils/visualise.py:80: UserWarning: Data has no positive values, and therefore cannot be log-scaled.\n",
      "  plt.yscale('log')\n"
     ]
    },
    {
     "name": "stdout",
     "output_type": "stream",
     "text": [
      "The R2 score is  0.8947726488113403\n",
      "The R2 score with weighted variance is  0.8947726488113403\n"
     ]
    },
    {
     "name": "stdout",
     "output_type": "stream",
     "text": [
      "Steady states found after 0 mins and 29 secs. Now calculating signal response\n"
     ]
    },
    {
     "name": "stdout",
     "output_type": "stream",
     "text": [
      "Signal response found after 0 mins and 26 secs.\n"
     ]
    },
    {
     "name": "stdout",
     "output_type": "stream",
     "text": [
      "data/03_cvae_multi/2025_02_08__22_15_29/cvae_scan/hpo_242\n"
     ]
    },
    {
     "name": "stderr",
     "output_type": "stream",
     "text": [
      "/tmp/ipykernel_1299886/1985358741.py:40: SettingWithCopyWarning: \n",
      "A value is trying to be set on a copy of a slice from a DataFrame\n",
      "\n",
      "See the caveats in the documentation: https://pandas.pydata.org/pandas-docs/stable/user_guide/indexing.html#returning-a-view-versus-a-copy\n",
      "  df_hpos_main.iloc[i] = pd.Series(hpos) if type(\n"
     ]
    },
    {
     "name": "stderr",
     "output_type": "stream",
     "text": [
      "train.py:train():187: Epoch 0 / 100 -\t\t Train loss: -0.005860303994268179\tVal loss: -0.10789097845554352\tVal accuracy: 0.3352775275707245 INFO\n"
     ]
    },
    {
     "name": "stderr",
     "output_type": "stream",
     "text": [
      "train.py:train():187: Epoch 10 / 100 -\t\t Train loss: -0.18746234476566315\tVal loss: -0.18760260939598083\tVal accuracy: 0.7974724769592285 INFO\n"
     ]
    },
    {
     "name": "stderr",
     "output_type": "stream",
     "text": [
      "train.py:train():197: Early stopping triggered after 20 epochs:\n",
      "Train loss: -0.19097408652305603\n",
      "Val loss: -0.19170573353767395\n",
      "Val accuracy: 0.904386043548584\n",
      "Epochs no improvement: 0 WARNING\n"
     ]
    },
    {
     "name": "stdout",
     "output_type": "stream",
     "text": [
      "Training complete: 0:00:16.227165\n",
      "Warning: not using the test data for evaluation, but the training data instead of ../data/raw/summarise_simulation/2024_11_21_160955/tabulated_mutation_info.csv\n"
     ]
    },
    {
     "name": "stderr",
     "output_type": "stream",
     "text": [
      "/workdir/src/evoscaper/utils/visualise.py:80: UserWarning: Data has no positive values, and therefore cannot be log-scaled.\n",
      "  plt.yscale('log')\n"
     ]
    },
    {
     "name": "stdout",
     "output_type": "stream",
     "text": [
      "The R2 score is  0.8947726488113403\n",
      "The R2 score with weighted variance is  0.8947726488113403\n"
     ]
    },
    {
     "name": "stdout",
     "output_type": "stream",
     "text": [
      "Steady states found after 0 mins and 28 secs. Now calculating signal response\n"
     ]
    },
    {
     "name": "stdout",
     "output_type": "stream",
     "text": [
      "Signal response found after 0 mins and 25 secs.\n"
     ]
    },
    {
     "name": "stdout",
     "output_type": "stream",
     "text": [
      "data/03_cvae_multi/2025_02_08__22_15_29/cvae_scan/hpo_243\n"
     ]
    },
    {
     "name": "stderr",
     "output_type": "stream",
     "text": [
      "/tmp/ipykernel_1299886/1985358741.py:40: SettingWithCopyWarning: \n",
      "A value is trying to be set on a copy of a slice from a DataFrame\n",
      "\n",
      "See the caveats in the documentation: https://pandas.pydata.org/pandas-docs/stable/user_guide/indexing.html#returning-a-view-versus-a-copy\n",
      "  df_hpos_main.iloc[i] = pd.Series(hpos) if type(\n"
     ]
    },
    {
     "name": "stderr",
     "output_type": "stream",
     "text": [
      "train.py:train():187: Epoch 0 / 100 -\t\t Train loss: -0.005860303994268179\tVal loss: -0.10789097845554352\tVal accuracy: 0.3352775275707245 INFO\n"
     ]
    },
    {
     "name": "stderr",
     "output_type": "stream",
     "text": [
      "train.py:train():187: Epoch 10 / 100 -\t\t Train loss: -0.18746234476566315\tVal loss: -0.18760260939598083\tVal accuracy: 0.7974724769592285 INFO\n"
     ]
    },
    {
     "name": "stderr",
     "output_type": "stream",
     "text": [
      "train.py:train():197: Early stopping triggered after 20 epochs:\n",
      "Train loss: -0.19097408652305603\n",
      "Val loss: -0.19170573353767395\n",
      "Val accuracy: 0.904386043548584\n",
      "Epochs no improvement: 0 WARNING\n"
     ]
    },
    {
     "name": "stdout",
     "output_type": "stream",
     "text": [
      "Training complete: 0:00:16.205865\n",
      "Warning: not using the test data for evaluation, but the training data instead of ../data/raw/summarise_simulation/2024_11_21_160955/tabulated_mutation_info.csv\n"
     ]
    },
    {
     "name": "stderr",
     "output_type": "stream",
     "text": [
      "/workdir/src/evoscaper/utils/visualise.py:80: UserWarning: Data has no positive values, and therefore cannot be log-scaled.\n",
      "  plt.yscale('log')\n"
     ]
    },
    {
     "name": "stdout",
     "output_type": "stream",
     "text": [
      "The R2 score is  0.8947726488113403\n",
      "The R2 score with weighted variance is  0.8947726488113403\n"
     ]
    },
    {
     "name": "stdout",
     "output_type": "stream",
     "text": [
      "Steady states found after 0 mins and 28 secs. Now calculating signal response\n"
     ]
    },
    {
     "name": "stdout",
     "output_type": "stream",
     "text": [
      "Signal response found after 0 mins and 25 secs.\n"
     ]
    },
    {
     "name": "stdout",
     "output_type": "stream",
     "text": [
      "data/03_cvae_multi/2025_02_08__22_15_29/cvae_scan/hpo_244\n"
     ]
    },
    {
     "name": "stderr",
     "output_type": "stream",
     "text": [
      "/tmp/ipykernel_1299886/1985358741.py:40: SettingWithCopyWarning: \n",
      "A value is trying to be set on a copy of a slice from a DataFrame\n",
      "\n",
      "See the caveats in the documentation: https://pandas.pydata.org/pandas-docs/stable/user_guide/indexing.html#returning-a-view-versus-a-copy\n",
      "  df_hpos_main.iloc[i] = pd.Series(hpos) if type(\n"
     ]
    },
    {
     "name": "stderr",
     "output_type": "stream",
     "text": [
      "train.py:train():187: Epoch 0 / 100 -\t\t Train loss: 0.08861459046602249\tVal loss: -0.008966228924691677\tVal accuracy: 0.3357412815093994 INFO\n"
     ]
    },
    {
     "name": "stderr",
     "output_type": "stream",
     "text": [
      "train.py:train():187: Epoch 10 / 100 -\t\t Train loss: -0.07712356746196747\tVal loss: -0.07783747464418411\tVal accuracy: 0.8076929450035095 INFO\n"
     ]
    },
    {
     "name": "stderr",
     "output_type": "stream",
     "text": [
      "train.py:train():187: Epoch 20 / 100 -\t\t Train loss: -0.09387368708848953\tVal loss: -0.09413980692625046\tVal accuracy: 0.9466859102249146 INFO\n"
     ]
    },
    {
     "name": "stderr",
     "output_type": "stream",
     "text": [
      "train.py:train():187: Epoch 30 / 100 -\t\t Train loss: -0.09524726867675781\tVal loss: -0.09535308927297592\tVal accuracy: 0.978328287601471 INFO\n"
     ]
    },
    {
     "name": "stderr",
     "output_type": "stream",
     "text": [
      "train.py:train():187: Epoch 40 / 100 -\t\t Train loss: -0.09547287225723267\tVal loss: -0.09559622406959534\tVal accuracy: 0.9825823903083801 INFO\n"
     ]
    },
    {
     "name": "stderr",
     "output_type": "stream",
     "text": [
      "train.py:train():187: Epoch 50 / 100 -\t\t Train loss: -0.09567428380250931\tVal loss: -0.09582678973674774\tVal accuracy: 0.9870237112045288 INFO\n"
     ]
    },
    {
     "name": "stderr",
     "output_type": "stream",
     "text": [
      "train.py:train():187: Epoch 60 / 100 -\t\t Train loss: -0.09581100195646286\tVal loss: -0.09592731297016144\tVal accuracy: 0.9886468648910522 INFO\n"
     ]
    },
    {
     "name": "stderr",
     "output_type": "stream",
     "text": [
      "train.py:train():187: Epoch 70 / 100 -\t\t Train loss: -0.09594640880823135\tVal loss: -0.0960327684879303\tVal accuracy: 0.9893870949745178 INFO\n"
     ]
    },
    {
     "name": "stderr",
     "output_type": "stream",
     "text": [
      "train.py:train():187: Epoch 80 / 100 -\t\t Train loss: -0.09602313488721848\tVal loss: -0.09615498036146164\tVal accuracy: 0.9902164936065674 INFO\n"
     ]
    },
    {
     "name": "stderr",
     "output_type": "stream",
     "text": [
      "train.py:train():187: Epoch 90 / 100 -\t\t Train loss: -0.09610001742839813\tVal loss: -0.09620287269353867\tVal accuracy: 0.9911618232727051 INFO\n"
     ]
    },
    {
     "name": "stdout",
     "output_type": "stream",
     "text": [
      "Training complete: 0:01:21.414291\n",
      "Warning: not using the test data for evaluation, but the training data instead of ../data/raw/summarise_simulation/2024_11_21_160955/tabulated_mutation_info.csv\n"
     ]
    },
    {
     "name": "stderr",
     "output_type": "stream",
     "text": [
      "/workdir/src/evoscaper/utils/visualise.py:80: UserWarning: Data has no positive values, and therefore cannot be log-scaled.\n",
      "  plt.yscale('log')\n"
     ]
    },
    {
     "name": "stdout",
     "output_type": "stream",
     "text": [
      "The R2 score is  0.9752135872840881\n",
      "The R2 score with weighted variance is  0.9752135872840881\n"
     ]
    },
    {
     "name": "stdout",
     "output_type": "stream",
     "text": [
      "Steady states found after 0 mins and 18 secs. Now calculating signal response\n"
     ]
    },
    {
     "name": "stdout",
     "output_type": "stream",
     "text": [
      "Signal response found after 0 mins and 21 secs.\n"
     ]
    },
    {
     "name": "stdout",
     "output_type": "stream",
     "text": [
      "data/03_cvae_multi/2025_02_08__22_15_29/cvae_scan/hpo_245\n"
     ]
    },
    {
     "name": "stderr",
     "output_type": "stream",
     "text": [
      "/tmp/ipykernel_1299886/1985358741.py:40: SettingWithCopyWarning: \n",
      "A value is trying to be set on a copy of a slice from a DataFrame\n",
      "\n",
      "See the caveats in the documentation: https://pandas.pydata.org/pandas-docs/stable/user_guide/indexing.html#returning-a-view-versus-a-copy\n",
      "  df_hpos_main.iloc[i] = pd.Series(hpos) if type(\n"
     ]
    },
    {
     "name": "stderr",
     "output_type": "stream",
     "text": [
      "train.py:train():187: Epoch 0 / 100 -\t\t Train loss: 0.08861459046602249\tVal loss: -0.008966228924691677\tVal accuracy: 0.3357412815093994 INFO\n"
     ]
    },
    {
     "name": "stderr",
     "output_type": "stream",
     "text": [
      "train.py:train():187: Epoch 10 / 100 -\t\t Train loss: -0.07712356746196747\tVal loss: -0.07783747464418411\tVal accuracy: 0.8076929450035095 INFO\n"
     ]
    },
    {
     "name": "stderr",
     "output_type": "stream",
     "text": [
      "train.py:train():187: Epoch 20 / 100 -\t\t Train loss: -0.09387368708848953\tVal loss: -0.09413980692625046\tVal accuracy: 0.9466859102249146 INFO\n"
     ]
    },
    {
     "name": "stderr",
     "output_type": "stream",
     "text": [
      "train.py:train():187: Epoch 30 / 100 -\t\t Train loss: -0.09524726867675781\tVal loss: -0.09535308927297592\tVal accuracy: 0.978328287601471 INFO\n"
     ]
    },
    {
     "name": "stderr",
     "output_type": "stream",
     "text": [
      "train.py:train():187: Epoch 40 / 100 -\t\t Train loss: -0.09547287225723267\tVal loss: -0.09559622406959534\tVal accuracy: 0.9825823903083801 INFO\n"
     ]
    },
    {
     "name": "stderr",
     "output_type": "stream",
     "text": [
      "train.py:train():187: Epoch 50 / 100 -\t\t Train loss: -0.09567428380250931\tVal loss: -0.09582678973674774\tVal accuracy: 0.9870237112045288 INFO\n"
     ]
    },
    {
     "name": "stderr",
     "output_type": "stream",
     "text": [
      "train.py:train():187: Epoch 60 / 100 -\t\t Train loss: -0.09581100195646286\tVal loss: -0.09592731297016144\tVal accuracy: 0.9886468648910522 INFO\n"
     ]
    },
    {
     "name": "stderr",
     "output_type": "stream",
     "text": [
      "train.py:train():187: Epoch 70 / 100 -\t\t Train loss: -0.09594640880823135\tVal loss: -0.0960327684879303\tVal accuracy: 0.9893870949745178 INFO\n"
     ]
    },
    {
     "name": "stderr",
     "output_type": "stream",
     "text": [
      "train.py:train():187: Epoch 80 / 100 -\t\t Train loss: -0.09602313488721848\tVal loss: -0.09615498036146164\tVal accuracy: 0.9902164936065674 INFO\n"
     ]
    },
    {
     "name": "stderr",
     "output_type": "stream",
     "text": [
      "train.py:train():187: Epoch 90 / 100 -\t\t Train loss: -0.09610001742839813\tVal loss: -0.09620287269353867\tVal accuracy: 0.9911618232727051 INFO\n"
     ]
    },
    {
     "name": "stdout",
     "output_type": "stream",
     "text": [
      "Training complete: 0:01:21.664067\n",
      "Warning: not using the test data for evaluation, but the training data instead of ../data/raw/summarise_simulation/2024_11_21_160955/tabulated_mutation_info.csv\n"
     ]
    },
    {
     "name": "stderr",
     "output_type": "stream",
     "text": [
      "/workdir/src/evoscaper/utils/visualise.py:80: UserWarning: Data has no positive values, and therefore cannot be log-scaled.\n",
      "  plt.yscale('log')\n"
     ]
    },
    {
     "name": "stdout",
     "output_type": "stream",
     "text": [
      "The R2 score is  0.9752135872840881\n",
      "The R2 score with weighted variance is  0.9752135872840881\n"
     ]
    },
    {
     "name": "stdout",
     "output_type": "stream",
     "text": [
      "Steady states found after 0 mins and 18 secs. Now calculating signal response\n"
     ]
    },
    {
     "name": "stdout",
     "output_type": "stream",
     "text": [
      "Signal response found after 0 mins and 21 secs.\n"
     ]
    },
    {
     "name": "stdout",
     "output_type": "stream",
     "text": [
      "data/03_cvae_multi/2025_02_08__22_15_29/cvae_scan/hpo_246\n"
     ]
    },
    {
     "name": "stderr",
     "output_type": "stream",
     "text": [
      "/tmp/ipykernel_1299886/1985358741.py:40: SettingWithCopyWarning: \n",
      "A value is trying to be set on a copy of a slice from a DataFrame\n",
      "\n",
      "See the caveats in the documentation: https://pandas.pydata.org/pandas-docs/stable/user_guide/indexing.html#returning-a-view-versus-a-copy\n",
      "  df_hpos_main.iloc[i] = pd.Series(hpos) if type(\n"
     ]
    },
    {
     "name": "stderr",
     "output_type": "stream",
     "text": [
      "train.py:train():187: Epoch 0 / 100 -\t\t Train loss: 0.08861459046602249\tVal loss: -0.008966228924691677\tVal accuracy: 0.3357412815093994 INFO\n"
     ]
    },
    {
     "name": "stderr",
     "output_type": "stream",
     "text": [
      "train.py:train():187: Epoch 10 / 100 -\t\t Train loss: -0.07712356746196747\tVal loss: -0.07783747464418411\tVal accuracy: 0.8076929450035095 INFO\n"
     ]
    },
    {
     "name": "stderr",
     "output_type": "stream",
     "text": [
      "train.py:train():187: Epoch 20 / 100 -\t\t Train loss: -0.09387368708848953\tVal loss: -0.09413980692625046\tVal accuracy: 0.9466859102249146 INFO\n"
     ]
    },
    {
     "name": "stderr",
     "output_type": "stream",
     "text": [
      "train.py:train():187: Epoch 30 / 100 -\t\t Train loss: -0.09524726867675781\tVal loss: -0.09535308927297592\tVal accuracy: 0.978328287601471 INFO\n"
     ]
    },
    {
     "name": "stderr",
     "output_type": "stream",
     "text": [
      "train.py:train():187: Epoch 40 / 100 -\t\t Train loss: -0.09547287225723267\tVal loss: -0.09559622406959534\tVal accuracy: 0.9825823903083801 INFO\n"
     ]
    },
    {
     "name": "stderr",
     "output_type": "stream",
     "text": [
      "train.py:train():187: Epoch 50 / 100 -\t\t Train loss: -0.09567428380250931\tVal loss: -0.09582678973674774\tVal accuracy: 0.9870237112045288 INFO\n"
     ]
    },
    {
     "name": "stderr",
     "output_type": "stream",
     "text": [
      "train.py:train():187: Epoch 60 / 100 -\t\t Train loss: -0.09581100195646286\tVal loss: -0.09592731297016144\tVal accuracy: 0.9886468648910522 INFO\n"
     ]
    },
    {
     "name": "stderr",
     "output_type": "stream",
     "text": [
      "train.py:train():187: Epoch 70 / 100 -\t\t Train loss: -0.09594640880823135\tVal loss: -0.0960327684879303\tVal accuracy: 0.9893870949745178 INFO\n"
     ]
    },
    {
     "name": "stderr",
     "output_type": "stream",
     "text": [
      "train.py:train():187: Epoch 80 / 100 -\t\t Train loss: -0.09602313488721848\tVal loss: -0.09615498036146164\tVal accuracy: 0.9902164936065674 INFO\n"
     ]
    },
    {
     "name": "stderr",
     "output_type": "stream",
     "text": [
      "train.py:train():187: Epoch 90 / 100 -\t\t Train loss: -0.09610001742839813\tVal loss: -0.09620287269353867\tVal accuracy: 0.9911618232727051 INFO\n"
     ]
    },
    {
     "name": "stdout",
     "output_type": "stream",
     "text": [
      "Training complete: 0:01:22.123471\n",
      "Warning: not using the test data for evaluation, but the training data instead of ../data/raw/summarise_simulation/2024_11_21_160955/tabulated_mutation_info.csv\n"
     ]
    },
    {
     "name": "stderr",
     "output_type": "stream",
     "text": [
      "/workdir/src/evoscaper/utils/visualise.py:80: UserWarning: Data has no positive values, and therefore cannot be log-scaled.\n",
      "  plt.yscale('log')\n"
     ]
    },
    {
     "name": "stdout",
     "output_type": "stream",
     "text": [
      "The R2 score is  0.9752135872840881\n",
      "The R2 score with weighted variance is  0.9752135872840881\n"
     ]
    },
    {
     "name": "stdout",
     "output_type": "stream",
     "text": [
      "Steady states found after 0 mins and 18 secs. Now calculating signal response\n"
     ]
    },
    {
     "name": "stdout",
     "output_type": "stream",
     "text": [
      "Signal response found after 0 mins and 21 secs.\n"
     ]
    },
    {
     "name": "stdout",
     "output_type": "stream",
     "text": [
      "data/03_cvae_multi/2025_02_08__22_15_29/cvae_scan/hpo_247\n"
     ]
    },
    {
     "name": "stderr",
     "output_type": "stream",
     "text": [
      "/tmp/ipykernel_1299886/1985358741.py:40: SettingWithCopyWarning: \n",
      "A value is trying to be set on a copy of a slice from a DataFrame\n",
      "\n",
      "See the caveats in the documentation: https://pandas.pydata.org/pandas-docs/stable/user_guide/indexing.html#returning-a-view-versus-a-copy\n",
      "  df_hpos_main.iloc[i] = pd.Series(hpos) if type(\n"
     ]
    },
    {
     "name": "stderr",
     "output_type": "stream",
     "text": [
      "train.py:train():187: Epoch 0 / 100 -\t\t Train loss: 0.08861459046602249\tVal loss: -0.008966228924691677\tVal accuracy: 0.3357412815093994 INFO\n"
     ]
    },
    {
     "name": "stderr",
     "output_type": "stream",
     "text": [
      "train.py:train():187: Epoch 10 / 100 -\t\t Train loss: -0.07712356746196747\tVal loss: -0.07783747464418411\tVal accuracy: 0.8076929450035095 INFO\n"
     ]
    },
    {
     "name": "stderr",
     "output_type": "stream",
     "text": [
      "train.py:train():187: Epoch 20 / 100 -\t\t Train loss: -0.09387368708848953\tVal loss: -0.09413980692625046\tVal accuracy: 0.9466859102249146 INFO\n"
     ]
    },
    {
     "name": "stderr",
     "output_type": "stream",
     "text": [
      "train.py:train():187: Epoch 30 / 100 -\t\t Train loss: -0.09524726867675781\tVal loss: -0.09535308927297592\tVal accuracy: 0.978328287601471 INFO\n"
     ]
    },
    {
     "name": "stderr",
     "output_type": "stream",
     "text": [
      "train.py:train():187: Epoch 40 / 100 -\t\t Train loss: -0.09547287225723267\tVal loss: -0.09559622406959534\tVal accuracy: 0.9825823903083801 INFO\n"
     ]
    },
    {
     "name": "stderr",
     "output_type": "stream",
     "text": [
      "train.py:train():187: Epoch 50 / 100 -\t\t Train loss: -0.09567428380250931\tVal loss: -0.09582678973674774\tVal accuracy: 0.9870237112045288 INFO\n"
     ]
    },
    {
     "name": "stderr",
     "output_type": "stream",
     "text": [
      "train.py:train():187: Epoch 60 / 100 -\t\t Train loss: -0.09581100195646286\tVal loss: -0.09592731297016144\tVal accuracy: 0.9886468648910522 INFO\n"
     ]
    },
    {
     "name": "stderr",
     "output_type": "stream",
     "text": [
      "train.py:train():187: Epoch 70 / 100 -\t\t Train loss: -0.09594640880823135\tVal loss: -0.0960327684879303\tVal accuracy: 0.9893870949745178 INFO\n"
     ]
    },
    {
     "name": "stderr",
     "output_type": "stream",
     "text": [
      "train.py:train():187: Epoch 80 / 100 -\t\t Train loss: -0.09602313488721848\tVal loss: -0.09615498036146164\tVal accuracy: 0.9902164936065674 INFO\n"
     ]
    },
    {
     "name": "stderr",
     "output_type": "stream",
     "text": [
      "train.py:train():187: Epoch 90 / 100 -\t\t Train loss: -0.09610001742839813\tVal loss: -0.09620287269353867\tVal accuracy: 0.9911618232727051 INFO\n"
     ]
    },
    {
     "name": "stdout",
     "output_type": "stream",
     "text": [
      "Training complete: 0:01:31.044843\n",
      "Warning: not using the test data for evaluation, but the training data instead of ../data/raw/summarise_simulation/2024_11_21_160955/tabulated_mutation_info.csv\n"
     ]
    },
    {
     "name": "stderr",
     "output_type": "stream",
     "text": [
      "/workdir/src/evoscaper/utils/visualise.py:80: UserWarning: Data has no positive values, and therefore cannot be log-scaled.\n",
      "  plt.yscale('log')\n"
     ]
    },
    {
     "name": "stdout",
     "output_type": "stream",
     "text": [
      "The R2 score is  0.9752135872840881\n",
      "The R2 score with weighted variance is  0.9752135872840881\n"
     ]
    },
    {
     "name": "stdout",
     "output_type": "stream",
     "text": [
      "Steady states found after 0 mins and 18 secs. Now calculating signal response\n"
     ]
    },
    {
     "name": "stdout",
     "output_type": "stream",
     "text": [
      "Signal response found after 0 mins and 21 secs.\n"
     ]
    },
    {
     "name": "stdout",
     "output_type": "stream",
     "text": [
      "data/03_cvae_multi/2025_02_08__22_15_29/cvae_scan/hpo_248\n"
     ]
    },
    {
     "name": "stderr",
     "output_type": "stream",
     "text": [
      "/tmp/ipykernel_1299886/1985358741.py:40: SettingWithCopyWarning: \n",
      "A value is trying to be set on a copy of a slice from a DataFrame\n",
      "\n",
      "See the caveats in the documentation: https://pandas.pydata.org/pandas-docs/stable/user_guide/indexing.html#returning-a-view-versus-a-copy\n",
      "  df_hpos_main.iloc[i] = pd.Series(hpos) if type(\n"
     ]
    },
    {
     "name": "stderr",
     "output_type": "stream",
     "text": [
      "train.py:train():187: Epoch 0 / 100 -\t\t Train loss: 0.08861459046602249\tVal loss: -0.008966228924691677\tVal accuracy: 0.3357412815093994 INFO\n"
     ]
    },
    {
     "name": "stderr",
     "output_type": "stream",
     "text": [
      "train.py:train():187: Epoch 10 / 100 -\t\t Train loss: -0.07712356746196747\tVal loss: -0.07783747464418411\tVal accuracy: 0.8076929450035095 INFO\n"
     ]
    },
    {
     "name": "stderr",
     "output_type": "stream",
     "text": [
      "train.py:train():187: Epoch 20 / 100 -\t\t Train loss: -0.09387368708848953\tVal loss: -0.09413980692625046\tVal accuracy: 0.9466859102249146 INFO\n"
     ]
    },
    {
     "name": "stderr",
     "output_type": "stream",
     "text": [
      "train.py:train():187: Epoch 30 / 100 -\t\t Train loss: -0.09524726867675781\tVal loss: -0.09535308927297592\tVal accuracy: 0.978328287601471 INFO\n"
     ]
    },
    {
     "name": "stderr",
     "output_type": "stream",
     "text": [
      "train.py:train():187: Epoch 40 / 100 -\t\t Train loss: -0.09547287225723267\tVal loss: -0.09559622406959534\tVal accuracy: 0.9825823903083801 INFO\n"
     ]
    },
    {
     "name": "stderr",
     "output_type": "stream",
     "text": [
      "train.py:train():187: Epoch 50 / 100 -\t\t Train loss: -0.09567428380250931\tVal loss: -0.09582678973674774\tVal accuracy: 0.9870237112045288 INFO\n"
     ]
    },
    {
     "name": "stderr",
     "output_type": "stream",
     "text": [
      "train.py:train():187: Epoch 60 / 100 -\t\t Train loss: -0.09581100195646286\tVal loss: -0.09592731297016144\tVal accuracy: 0.9886468648910522 INFO\n"
     ]
    },
    {
     "name": "stderr",
     "output_type": "stream",
     "text": [
      "train.py:train():187: Epoch 70 / 100 -\t\t Train loss: -0.09594640880823135\tVal loss: -0.0960327684879303\tVal accuracy: 0.9893870949745178 INFO\n"
     ]
    },
    {
     "name": "stderr",
     "output_type": "stream",
     "text": [
      "train.py:train():187: Epoch 80 / 100 -\t\t Train loss: -0.09602313488721848\tVal loss: -0.09615498036146164\tVal accuracy: 0.9902164936065674 INFO\n"
     ]
    },
    {
     "name": "stderr",
     "output_type": "stream",
     "text": [
      "train.py:train():187: Epoch 90 / 100 -\t\t Train loss: -0.09610001742839813\tVal loss: -0.09620287269353867\tVal accuracy: 0.9911618232727051 INFO\n"
     ]
    },
    {
     "name": "stdout",
     "output_type": "stream",
     "text": [
      "Training complete: 0:01:21.931754\n",
      "Warning: not using the test data for evaluation, but the training data instead of ../data/raw/summarise_simulation/2024_11_21_160955/tabulated_mutation_info.csv\n"
     ]
    },
    {
     "name": "stderr",
     "output_type": "stream",
     "text": [
      "/workdir/src/evoscaper/utils/visualise.py:80: UserWarning: Data has no positive values, and therefore cannot be log-scaled.\n",
      "  plt.yscale('log')\n"
     ]
    },
    {
     "name": "stdout",
     "output_type": "stream",
     "text": [
      "The R2 score is  0.9752135872840881\n",
      "The R2 score with weighted variance is  0.9752135872840881\n"
     ]
    },
    {
     "name": "stdout",
     "output_type": "stream",
     "text": [
      "Steady states found after 0 mins and 17 secs. Now calculating signal response\n"
     ]
    },
    {
     "name": "stdout",
     "output_type": "stream",
     "text": [
      "Signal response found after 0 mins and 20 secs.\n"
     ]
    },
    {
     "name": "stdout",
     "output_type": "stream",
     "text": [
      "data/03_cvae_multi/2025_02_08__22_15_29/cvae_scan/hpo_249\n"
     ]
    },
    {
     "name": "stderr",
     "output_type": "stream",
     "text": [
      "/tmp/ipykernel_1299886/1985358741.py:40: SettingWithCopyWarning: \n",
      "A value is trying to be set on a copy of a slice from a DataFrame\n",
      "\n",
      "See the caveats in the documentation: https://pandas.pydata.org/pandas-docs/stable/user_guide/indexing.html#returning-a-view-versus-a-copy\n",
      "  df_hpos_main.iloc[i] = pd.Series(hpos) if type(\n"
     ]
    },
    {
     "name": "stderr",
     "output_type": "stream",
     "text": [
      "train.py:train():187: Epoch 0 / 100 -\t\t Train loss: 0.08861459046602249\tVal loss: -0.008966228924691677\tVal accuracy: 0.3357412815093994 INFO\n"
     ]
    },
    {
     "name": "stderr",
     "output_type": "stream",
     "text": [
      "train.py:train():187: Epoch 10 / 100 -\t\t Train loss: -0.07712356746196747\tVal loss: -0.07783747464418411\tVal accuracy: 0.8076929450035095 INFO\n"
     ]
    },
    {
     "name": "stderr",
     "output_type": "stream",
     "text": [
      "train.py:train():187: Epoch 20 / 100 -\t\t Train loss: -0.09387368708848953\tVal loss: -0.09413980692625046\tVal accuracy: 0.9466859102249146 INFO\n"
     ]
    },
    {
     "name": "stderr",
     "output_type": "stream",
     "text": [
      "train.py:train():187: Epoch 30 / 100 -\t\t Train loss: -0.09524726867675781\tVal loss: -0.09535308927297592\tVal accuracy: 0.978328287601471 INFO\n"
     ]
    },
    {
     "name": "stderr",
     "output_type": "stream",
     "text": [
      "train.py:train():187: Epoch 40 / 100 -\t\t Train loss: -0.09547287225723267\tVal loss: -0.09559622406959534\tVal accuracy: 0.9825823903083801 INFO\n"
     ]
    },
    {
     "name": "stderr",
     "output_type": "stream",
     "text": [
      "train.py:train():187: Epoch 50 / 100 -\t\t Train loss: -0.09567428380250931\tVal loss: -0.09582678973674774\tVal accuracy: 0.9870237112045288 INFO\n"
     ]
    },
    {
     "name": "stderr",
     "output_type": "stream",
     "text": [
      "train.py:train():187: Epoch 60 / 100 -\t\t Train loss: -0.09581100195646286\tVal loss: -0.09592731297016144\tVal accuracy: 0.9886468648910522 INFO\n"
     ]
    },
    {
     "name": "stderr",
     "output_type": "stream",
     "text": [
      "train.py:train():187: Epoch 70 / 100 -\t\t Train loss: -0.09594640880823135\tVal loss: -0.0960327684879303\tVal accuracy: 0.9893870949745178 INFO\n"
     ]
    },
    {
     "name": "stderr",
     "output_type": "stream",
     "text": [
      "train.py:train():187: Epoch 80 / 100 -\t\t Train loss: -0.09602313488721848\tVal loss: -0.09615498036146164\tVal accuracy: 0.9902164936065674 INFO\n"
     ]
    },
    {
     "name": "stderr",
     "output_type": "stream",
     "text": [
      "train.py:train():187: Epoch 90 / 100 -\t\t Train loss: -0.09610001742839813\tVal loss: -0.09620287269353867\tVal accuracy: 0.9911618232727051 INFO\n"
     ]
    },
    {
     "name": "stdout",
     "output_type": "stream",
     "text": [
      "Training complete: 0:01:21.779929\n",
      "Warning: not using the test data for evaluation, but the training data instead of ../data/raw/summarise_simulation/2024_11_21_160955/tabulated_mutation_info.csv\n"
     ]
    },
    {
     "name": "stderr",
     "output_type": "stream",
     "text": [
      "/workdir/src/evoscaper/utils/visualise.py:80: UserWarning: Data has no positive values, and therefore cannot be log-scaled.\n",
      "  plt.yscale('log')\n"
     ]
    },
    {
     "name": "stdout",
     "output_type": "stream",
     "text": [
      "The R2 score is  0.9752135872840881\n",
      "The R2 score with weighted variance is  0.9752135872840881\n"
     ]
    },
    {
     "name": "stdout",
     "output_type": "stream",
     "text": [
      "Steady states found after 0 mins and 17 secs. Now calculating signal response\n"
     ]
    },
    {
     "name": "stdout",
     "output_type": "stream",
     "text": [
      "Signal response found after 0 mins and 20 secs.\n"
     ]
    },
    {
     "name": "stdout",
     "output_type": "stream",
     "text": [
      "data/03_cvae_multi/2025_02_08__22_15_29/cvae_scan/hpo_250\n"
     ]
    },
    {
     "name": "stderr",
     "output_type": "stream",
     "text": [
      "/tmp/ipykernel_1299886/1985358741.py:40: SettingWithCopyWarning: \n",
      "A value is trying to be set on a copy of a slice from a DataFrame\n",
      "\n",
      "See the caveats in the documentation: https://pandas.pydata.org/pandas-docs/stable/user_guide/indexing.html#returning-a-view-versus-a-copy\n",
      "  df_hpos_main.iloc[i] = pd.Series(hpos) if type(\n"
     ]
    },
    {
     "name": "stderr",
     "output_type": "stream",
     "text": [
      "train.py:train():187: Epoch 0 / 100 -\t\t Train loss: 0.08861459046602249\tVal loss: -0.008966228924691677\tVal accuracy: 0.3357412815093994 INFO\n"
     ]
    },
    {
     "name": "stderr",
     "output_type": "stream",
     "text": [
      "train.py:train():187: Epoch 10 / 100 -\t\t Train loss: -0.07712356746196747\tVal loss: -0.07783747464418411\tVal accuracy: 0.8076929450035095 INFO\n"
     ]
    },
    {
     "name": "stderr",
     "output_type": "stream",
     "text": [
      "train.py:train():197: Early stopping triggered after 18 epochs:\n",
      "Train loss: -0.09270738810300827\n",
      "Val loss: -0.09332887083292007\n",
      "Val accuracy: 0.920189380645752\n",
      "Epochs no improvement: 0 WARNING\n"
     ]
    },
    {
     "name": "stdout",
     "output_type": "stream",
     "text": [
      "Training complete: 0:00:14.805599\n",
      "Warning: not using the test data for evaluation, but the training data instead of ../data/raw/summarise_simulation/2024_11_21_160955/tabulated_mutation_info.csv\n"
     ]
    },
    {
     "name": "stderr",
     "output_type": "stream",
     "text": [
      "/workdir/src/evoscaper/utils/visualise.py:80: UserWarning: Data has no positive values, and therefore cannot be log-scaled.\n",
      "  plt.yscale('log')\n"
     ]
    },
    {
     "name": "stdout",
     "output_type": "stream",
     "text": [
      "The R2 score is  0.9162386059761047\n",
      "The R2 score with weighted variance is  0.91623854637146\n"
     ]
    },
    {
     "name": "stdout",
     "output_type": "stream",
     "text": [
      "Steady states found after 0 mins and 27 secs. Now calculating signal response\n"
     ]
    },
    {
     "name": "stdout",
     "output_type": "stream",
     "text": [
      "Signal response found after 0 mins and 23 secs.\n"
     ]
    },
    {
     "name": "stdout",
     "output_type": "stream",
     "text": [
      "data/03_cvae_multi/2025_02_08__22_15_29/cvae_scan/hpo_251\n"
     ]
    },
    {
     "name": "stderr",
     "output_type": "stream",
     "text": [
      "/tmp/ipykernel_1299886/1985358741.py:40: SettingWithCopyWarning: \n",
      "A value is trying to be set on a copy of a slice from a DataFrame\n",
      "\n",
      "See the caveats in the documentation: https://pandas.pydata.org/pandas-docs/stable/user_guide/indexing.html#returning-a-view-versus-a-copy\n",
      "  df_hpos_main.iloc[i] = pd.Series(hpos) if type(\n"
     ]
    },
    {
     "name": "stderr",
     "output_type": "stream",
     "text": [
      "train.py:train():187: Epoch 0 / 100 -\t\t Train loss: 0.08861459046602249\tVal loss: -0.008966228924691677\tVal accuracy: 0.3357412815093994 INFO\n"
     ]
    },
    {
     "name": "stderr",
     "output_type": "stream",
     "text": [
      "train.py:train():187: Epoch 10 / 100 -\t\t Train loss: -0.07712356746196747\tVal loss: -0.07783747464418411\tVal accuracy: 0.8076929450035095 INFO\n"
     ]
    },
    {
     "name": "stderr",
     "output_type": "stream",
     "text": [
      "train.py:train():197: Early stopping triggered after 18 epochs:\n",
      "Train loss: -0.09270738810300827\n",
      "Val loss: -0.09332887083292007\n",
      "Val accuracy: 0.920189380645752\n",
      "Epochs no improvement: 0 WARNING\n"
     ]
    },
    {
     "name": "stdout",
     "output_type": "stream",
     "text": [
      "Training complete: 0:00:14.700493\n",
      "Warning: not using the test data for evaluation, but the training data instead of ../data/raw/summarise_simulation/2024_11_21_160955/tabulated_mutation_info.csv\n"
     ]
    },
    {
     "name": "stderr",
     "output_type": "stream",
     "text": [
      "/workdir/src/evoscaper/utils/visualise.py:80: UserWarning: Data has no positive values, and therefore cannot be log-scaled.\n",
      "  plt.yscale('log')\n"
     ]
    },
    {
     "name": "stdout",
     "output_type": "stream",
     "text": [
      "The R2 score is  0.9162386059761047\n",
      "The R2 score with weighted variance is  0.91623854637146\n"
     ]
    },
    {
     "name": "stdout",
     "output_type": "stream",
     "text": [
      "Steady states found after 0 mins and 27 secs. Now calculating signal response\n"
     ]
    },
    {
     "name": "stdout",
     "output_type": "stream",
     "text": [
      "Signal response found after 0 mins and 23 secs.\n"
     ]
    },
    {
     "name": "stdout",
     "output_type": "stream",
     "text": [
      "data/03_cvae_multi/2025_02_08__22_15_29/cvae_scan/hpo_252\n"
     ]
    },
    {
     "name": "stderr",
     "output_type": "stream",
     "text": [
      "/tmp/ipykernel_1299886/1985358741.py:40: SettingWithCopyWarning: \n",
      "A value is trying to be set on a copy of a slice from a DataFrame\n",
      "\n",
      "See the caveats in the documentation: https://pandas.pydata.org/pandas-docs/stable/user_guide/indexing.html#returning-a-view-versus-a-copy\n",
      "  df_hpos_main.iloc[i] = pd.Series(hpos) if type(\n"
     ]
    },
    {
     "name": "stderr",
     "output_type": "stream",
     "text": [
      "train.py:train():187: Epoch 0 / 100 -\t\t Train loss: 0.08861459046602249\tVal loss: -0.008966228924691677\tVal accuracy: 0.3357412815093994 INFO\n"
     ]
    },
    {
     "name": "stderr",
     "output_type": "stream",
     "text": [
      "train.py:train():187: Epoch 10 / 100 -\t\t Train loss: -0.07712356746196747\tVal loss: -0.07783747464418411\tVal accuracy: 0.8076929450035095 INFO\n"
     ]
    },
    {
     "name": "stderr",
     "output_type": "stream",
     "text": [
      "train.py:train():197: Early stopping triggered after 18 epochs:\n",
      "Train loss: -0.09270738810300827\n",
      "Val loss: -0.09332887083292007\n",
      "Val accuracy: 0.920189380645752\n",
      "Epochs no improvement: 0 WARNING\n"
     ]
    },
    {
     "name": "stdout",
     "output_type": "stream",
     "text": [
      "Training complete: 0:00:25.337119\n",
      "Warning: not using the test data for evaluation, but the training data instead of ../data/raw/summarise_simulation/2024_11_21_160955/tabulated_mutation_info.csv\n"
     ]
    },
    {
     "name": "stderr",
     "output_type": "stream",
     "text": [
      "/workdir/src/evoscaper/utils/visualise.py:80: UserWarning: Data has no positive values, and therefore cannot be log-scaled.\n",
      "  plt.yscale('log')\n"
     ]
    },
    {
     "name": "stdout",
     "output_type": "stream",
     "text": [
      "The R2 score is  0.9162386059761047\n",
      "The R2 score with weighted variance is  0.91623854637146\n"
     ]
    },
    {
     "name": "stdout",
     "output_type": "stream",
     "text": [
      "Steady states found after 0 mins and 28 secs. Now calculating signal response\n"
     ]
    },
    {
     "name": "stdout",
     "output_type": "stream",
     "text": [
      "Signal response found after 0 mins and 23 secs.\n"
     ]
    },
    {
     "name": "stdout",
     "output_type": "stream",
     "text": [
      "data/03_cvae_multi/2025_02_08__22_15_29/cvae_scan/hpo_253\n"
     ]
    },
    {
     "name": "stderr",
     "output_type": "stream",
     "text": [
      "/tmp/ipykernel_1299886/1985358741.py:40: SettingWithCopyWarning: \n",
      "A value is trying to be set on a copy of a slice from a DataFrame\n",
      "\n",
      "See the caveats in the documentation: https://pandas.pydata.org/pandas-docs/stable/user_guide/indexing.html#returning-a-view-versus-a-copy\n",
      "  df_hpos_main.iloc[i] = pd.Series(hpos) if type(\n"
     ]
    },
    {
     "name": "stderr",
     "output_type": "stream",
     "text": [
      "train.py:train():187: Epoch 0 / 100 -\t\t Train loss: 0.08861459046602249\tVal loss: -0.008966228924691677\tVal accuracy: 0.3357412815093994 INFO\n"
     ]
    },
    {
     "name": "stderr",
     "output_type": "stream",
     "text": [
      "train.py:train():187: Epoch 10 / 100 -\t\t Train loss: -0.07712356746196747\tVal loss: -0.07783747464418411\tVal accuracy: 0.8076929450035095 INFO\n"
     ]
    },
    {
     "name": "stderr",
     "output_type": "stream",
     "text": [
      "train.py:train():197: Early stopping triggered after 18 epochs:\n",
      "Train loss: -0.09270738810300827\n",
      "Val loss: -0.09332887083292007\n",
      "Val accuracy: 0.920189380645752\n",
      "Epochs no improvement: 0 WARNING\n"
     ]
    },
    {
     "name": "stdout",
     "output_type": "stream",
     "text": [
      "Training complete: 0:00:14.460198\n",
      "Warning: not using the test data for evaluation, but the training data instead of ../data/raw/summarise_simulation/2024_11_21_160955/tabulated_mutation_info.csv\n"
     ]
    },
    {
     "name": "stderr",
     "output_type": "stream",
     "text": [
      "/workdir/src/evoscaper/utils/visualise.py:80: UserWarning: Data has no positive values, and therefore cannot be log-scaled.\n",
      "  plt.yscale('log')\n"
     ]
    },
    {
     "name": "stdout",
     "output_type": "stream",
     "text": [
      "The R2 score is  0.9162386059761047\n",
      "The R2 score with weighted variance is  0.91623854637146\n"
     ]
    },
    {
     "name": "stdout",
     "output_type": "stream",
     "text": [
      "Steady states found after 0 mins and 27 secs. Now calculating signal response\n"
     ]
    },
    {
     "name": "stdout",
     "output_type": "stream",
     "text": [
      "Signal response found after 0 mins and 22 secs.\n"
     ]
    },
    {
     "name": "stdout",
     "output_type": "stream",
     "text": [
      "data/03_cvae_multi/2025_02_08__22_15_29/cvae_scan/hpo_254\n"
     ]
    },
    {
     "name": "stderr",
     "output_type": "stream",
     "text": [
      "/tmp/ipykernel_1299886/1985358741.py:40: SettingWithCopyWarning: \n",
      "A value is trying to be set on a copy of a slice from a DataFrame\n",
      "\n",
      "See the caveats in the documentation: https://pandas.pydata.org/pandas-docs/stable/user_guide/indexing.html#returning-a-view-versus-a-copy\n",
      "  df_hpos_main.iloc[i] = pd.Series(hpos) if type(\n"
     ]
    },
    {
     "name": "stderr",
     "output_type": "stream",
     "text": [
      "train.py:train():187: Epoch 0 / 100 -\t\t Train loss: 0.08861459046602249\tVal loss: -0.008966228924691677\tVal accuracy: 0.3357412815093994 INFO\n"
     ]
    },
    {
     "name": "stderr",
     "output_type": "stream",
     "text": [
      "train.py:train():187: Epoch 10 / 100 -\t\t Train loss: -0.07712356746196747\tVal loss: -0.07783747464418411\tVal accuracy: 0.8076929450035095 INFO\n"
     ]
    },
    {
     "name": "stderr",
     "output_type": "stream",
     "text": [
      "train.py:train():197: Early stopping triggered after 18 epochs:\n",
      "Train loss: -0.09270738810300827\n",
      "Val loss: -0.09332887083292007\n",
      "Val accuracy: 0.920189380645752\n",
      "Epochs no improvement: 0 WARNING\n"
     ]
    },
    {
     "name": "stdout",
     "output_type": "stream",
     "text": [
      "Training complete: 0:00:14.468214\n",
      "Warning: not using the test data for evaluation, but the training data instead of ../data/raw/summarise_simulation/2024_11_21_160955/tabulated_mutation_info.csv\n"
     ]
    },
    {
     "name": "stderr",
     "output_type": "stream",
     "text": [
      "/workdir/src/evoscaper/utils/visualise.py:80: UserWarning: Data has no positive values, and therefore cannot be log-scaled.\n",
      "  plt.yscale('log')\n"
     ]
    },
    {
     "name": "stdout",
     "output_type": "stream",
     "text": [
      "The R2 score is  0.9162386059761047\n",
      "The R2 score with weighted variance is  0.91623854637146\n"
     ]
    },
    {
     "name": "stdout",
     "output_type": "stream",
     "text": [
      "Steady states found after 0 mins and 27 secs. Now calculating signal response\n"
     ]
    },
    {
     "name": "stdout",
     "output_type": "stream",
     "text": [
      "Signal response found after 0 mins and 22 secs.\n"
     ]
    },
    {
     "name": "stdout",
     "output_type": "stream",
     "text": [
      "data/03_cvae_multi/2025_02_08__22_15_29/cvae_scan/hpo_255\n"
     ]
    },
    {
     "name": "stderr",
     "output_type": "stream",
     "text": [
      "/tmp/ipykernel_1299886/1985358741.py:40: SettingWithCopyWarning: \n",
      "A value is trying to be set on a copy of a slice from a DataFrame\n",
      "\n",
      "See the caveats in the documentation: https://pandas.pydata.org/pandas-docs/stable/user_guide/indexing.html#returning-a-view-versus-a-copy\n",
      "  df_hpos_main.iloc[i] = pd.Series(hpos) if type(\n"
     ]
    },
    {
     "name": "stderr",
     "output_type": "stream",
     "text": [
      "train.py:train():187: Epoch 0 / 100 -\t\t Train loss: 0.08861459046602249\tVal loss: -0.008966228924691677\tVal accuracy: 0.3357412815093994 INFO\n"
     ]
    },
    {
     "name": "stderr",
     "output_type": "stream",
     "text": [
      "train.py:train():187: Epoch 10 / 100 -\t\t Train loss: -0.07712356746196747\tVal loss: -0.07783747464418411\tVal accuracy: 0.8076929450035095 INFO\n"
     ]
    },
    {
     "name": "stderr",
     "output_type": "stream",
     "text": [
      "train.py:train():197: Early stopping triggered after 18 epochs:\n",
      "Train loss: -0.09270738810300827\n",
      "Val loss: -0.09332887083292007\n",
      "Val accuracy: 0.920189380645752\n",
      "Epochs no improvement: 0 WARNING\n"
     ]
    },
    {
     "name": "stdout",
     "output_type": "stream",
     "text": [
      "Training complete: 0:00:14.847385\n",
      "Warning: not using the test data for evaluation, but the training data instead of ../data/raw/summarise_simulation/2024_11_21_160955/tabulated_mutation_info.csv\n"
     ]
    },
    {
     "name": "stderr",
     "output_type": "stream",
     "text": [
      "/workdir/src/evoscaper/utils/visualise.py:80: UserWarning: Data has no positive values, and therefore cannot be log-scaled.\n",
      "  plt.yscale('log')\n"
     ]
    },
    {
     "name": "stdout",
     "output_type": "stream",
     "text": [
      "The R2 score is  0.9162386059761047\n",
      "The R2 score with weighted variance is  0.91623854637146\n"
     ]
    },
    {
     "name": "stdout",
     "output_type": "stream",
     "text": [
      "Steady states found after 0 mins and 27 secs. Now calculating signal response\n"
     ]
    },
    {
     "name": "stdout",
     "output_type": "stream",
     "text": [
      "Signal response found after 0 mins and 22 secs.\n"
     ]
    },
    {
     "name": "stdout",
     "output_type": "stream",
     "text": [
      "data/03_cvae_multi/2025_02_08__22_15_29/cvae_scan/hpo_256\n"
     ]
    },
    {
     "name": "stderr",
     "output_type": "stream",
     "text": [
      "/tmp/ipykernel_1299886/1985358741.py:40: SettingWithCopyWarning: \n",
      "A value is trying to be set on a copy of a slice from a DataFrame\n",
      "\n",
      "See the caveats in the documentation: https://pandas.pydata.org/pandas-docs/stable/user_guide/indexing.html#returning-a-view-versus-a-copy\n",
      "  df_hpos_main.iloc[i] = pd.Series(hpos) if type(\n"
     ]
    },
    {
     "name": "stderr",
     "output_type": "stream",
     "text": [
      "train.py:train():187: Epoch 0 / 100 -\t\t Train loss: 0.11972803622484207\tVal loss: 0.02410837635397911\tVal accuracy: 0.33584830164909363 INFO\n"
     ]
    },
    {
     "name": "stderr",
     "output_type": "stream",
     "text": [
      "train.py:train():187: Epoch 10 / 100 -\t\t Train loss: -0.046341244131326675\tVal loss: -0.0468018464744091\tVal accuracy: 0.8040899634361267 INFO\n"
     ]
    },
    {
     "name": "stderr",
     "output_type": "stream",
     "text": [
      "train.py:train():187: Epoch 20 / 100 -\t\t Train loss: -0.058596037328243256\tVal loss: -0.05901666358113289\tVal accuracy: 0.8840520977973938 INFO\n"
     ]
    },
    {
     "name": "stderr",
     "output_type": "stream",
     "text": [
      "train.py:train():197: Early stopping triggered after 27 epochs:\n",
      "Train loss: -0.06222914159297943\n",
      "Val loss: -0.062462132424116135\n",
      "Val accuracy: 0.9964593648910522\n",
      "Epochs no improvement: 0 WARNING\n"
     ]
    },
    {
     "name": "stdout",
     "output_type": "stream",
     "text": [
      "Training complete: 0:00:21.948756\n",
      "Warning: not using the test data for evaluation, but the training data instead of ../data/raw/summarise_simulation/2024_11_21_160955/tabulated_mutation_info.csv\n"
     ]
    },
    {
     "name": "stdout",
     "output_type": "stream",
     "text": [
      "The R2 score is  0.9751362800598145\n",
      "The R2 score with weighted variance is  0.9751362800598145\n"
     ]
    },
    {
     "name": "stdout",
     "output_type": "stream",
     "text": [
      "Steady states found after 0 mins and 29 secs. Now calculating signal response\n"
     ]
    },
    {
     "name": "stdout",
     "output_type": "stream",
     "text": [
      "Signal response found after 0 mins and 28 secs.\n"
     ]
    },
    {
     "name": "stdout",
     "output_type": "stream",
     "text": [
      "data/03_cvae_multi/2025_02_08__22_15_29/cvae_scan/hpo_257\n"
     ]
    },
    {
     "name": "stderr",
     "output_type": "stream",
     "text": [
      "/tmp/ipykernel_1299886/1985358741.py:40: SettingWithCopyWarning: \n",
      "A value is trying to be set on a copy of a slice from a DataFrame\n",
      "\n",
      "See the caveats in the documentation: https://pandas.pydata.org/pandas-docs/stable/user_guide/indexing.html#returning-a-view-versus-a-copy\n",
      "  df_hpos_main.iloc[i] = pd.Series(hpos) if type(\n"
     ]
    },
    {
     "name": "stderr",
     "output_type": "stream",
     "text": [
      "train.py:train():187: Epoch 0 / 100 -\t\t Train loss: 0.11972803622484207\tVal loss: 0.02410837635397911\tVal accuracy: 0.33584830164909363 INFO\n"
     ]
    },
    {
     "name": "stderr",
     "output_type": "stream",
     "text": [
      "train.py:train():187: Epoch 10 / 100 -\t\t Train loss: -0.046341244131326675\tVal loss: -0.0468018464744091\tVal accuracy: 0.8040899634361267 INFO\n"
     ]
    },
    {
     "name": "stderr",
     "output_type": "stream",
     "text": [
      "train.py:train():187: Epoch 20 / 100 -\t\t Train loss: -0.058596037328243256\tVal loss: -0.05901666358113289\tVal accuracy: 0.8840520977973938 INFO\n"
     ]
    },
    {
     "name": "stderr",
     "output_type": "stream",
     "text": [
      "train.py:train():197: Early stopping triggered after 27 epochs:\n",
      "Train loss: -0.06222914159297943\n",
      "Val loss: -0.062462132424116135\n",
      "Val accuracy: 0.9964593648910522\n",
      "Epochs no improvement: 0 WARNING\n"
     ]
    },
    {
     "name": "stdout",
     "output_type": "stream",
     "text": [
      "Training complete: 0:00:21.843884\n",
      "Warning: not using the test data for evaluation, but the training data instead of ../data/raw/summarise_simulation/2024_11_21_160955/tabulated_mutation_info.csv\n"
     ]
    },
    {
     "name": "stdout",
     "output_type": "stream",
     "text": [
      "The R2 score is  0.9751362800598145\n",
      "The R2 score with weighted variance is  0.9751362800598145\n"
     ]
    },
    {
     "name": "stdout",
     "output_type": "stream",
     "text": [
      "Steady states found after 0 mins and 29 secs. Now calculating signal response\n"
     ]
    },
    {
     "name": "stdout",
     "output_type": "stream",
     "text": [
      "Signal response found after 0 mins and 28 secs.\n"
     ]
    },
    {
     "name": "stdout",
     "output_type": "stream",
     "text": [
      "data/03_cvae_multi/2025_02_08__22_15_29/cvae_scan/hpo_258\n"
     ]
    },
    {
     "name": "stderr",
     "output_type": "stream",
     "text": [
      "/tmp/ipykernel_1299886/1985358741.py:40: SettingWithCopyWarning: \n",
      "A value is trying to be set on a copy of a slice from a DataFrame\n",
      "\n",
      "See the caveats in the documentation: https://pandas.pydata.org/pandas-docs/stable/user_guide/indexing.html#returning-a-view-versus-a-copy\n",
      "  df_hpos_main.iloc[i] = pd.Series(hpos) if type(\n"
     ]
    },
    {
     "name": "stderr",
     "output_type": "stream",
     "text": [
      "train.py:train():187: Epoch 0 / 100 -\t\t Train loss: 0.11972803622484207\tVal loss: 0.02410837635397911\tVal accuracy: 0.33584830164909363 INFO\n"
     ]
    },
    {
     "name": "stderr",
     "output_type": "stream",
     "text": [
      "train.py:train():187: Epoch 10 / 100 -\t\t Train loss: -0.046341244131326675\tVal loss: -0.0468018464744091\tVal accuracy: 0.8040899634361267 INFO\n"
     ]
    },
    {
     "name": "stderr",
     "output_type": "stream",
     "text": [
      "train.py:train():187: Epoch 20 / 100 -\t\t Train loss: -0.058596037328243256\tVal loss: -0.05901666358113289\tVal accuracy: 0.8840520977973938 INFO\n"
     ]
    },
    {
     "name": "stderr",
     "output_type": "stream",
     "text": [
      "train.py:train():197: Early stopping triggered after 27 epochs:\n",
      "Train loss: -0.06222914159297943\n",
      "Val loss: -0.062462132424116135\n",
      "Val accuracy: 0.9964593648910522\n",
      "Epochs no improvement: 0 WARNING\n"
     ]
    },
    {
     "name": "stdout",
     "output_type": "stream",
     "text": [
      "Training complete: 0:00:21.944426\n",
      "Warning: not using the test data for evaluation, but the training data instead of ../data/raw/summarise_simulation/2024_11_21_160955/tabulated_mutation_info.csv\n"
     ]
    },
    {
     "name": "stdout",
     "output_type": "stream",
     "text": [
      "The R2 score is  0.9751362800598145\n",
      "The R2 score with weighted variance is  0.9751362800598145\n"
     ]
    },
    {
     "name": "stdout",
     "output_type": "stream",
     "text": [
      "Steady states found after 0 mins and 29 secs. Now calculating signal response\n"
     ]
    },
    {
     "name": "stdout",
     "output_type": "stream",
     "text": [
      "Signal response found after 0 mins and 28 secs.\n"
     ]
    },
    {
     "name": "stdout",
     "output_type": "stream",
     "text": [
      "data/03_cvae_multi/2025_02_08__22_15_29/cvae_scan/hpo_259\n"
     ]
    },
    {
     "name": "stderr",
     "output_type": "stream",
     "text": [
      "/tmp/ipykernel_1299886/1985358741.py:40: SettingWithCopyWarning: \n",
      "A value is trying to be set on a copy of a slice from a DataFrame\n",
      "\n",
      "See the caveats in the documentation: https://pandas.pydata.org/pandas-docs/stable/user_guide/indexing.html#returning-a-view-versus-a-copy\n",
      "  df_hpos_main.iloc[i] = pd.Series(hpos) if type(\n"
     ]
    },
    {
     "name": "stderr",
     "output_type": "stream",
     "text": [
      "train.py:train():187: Epoch 0 / 100 -\t\t Train loss: 0.11972803622484207\tVal loss: 0.02410837635397911\tVal accuracy: 0.33584830164909363 INFO\n"
     ]
    },
    {
     "name": "stderr",
     "output_type": "stream",
     "text": [
      "train.py:train():187: Epoch 10 / 100 -\t\t Train loss: -0.046341244131326675\tVal loss: -0.0468018464744091\tVal accuracy: 0.8040899634361267 INFO\n"
     ]
    },
    {
     "name": "stderr",
     "output_type": "stream",
     "text": [
      "train.py:train():187: Epoch 20 / 100 -\t\t Train loss: -0.058596037328243256\tVal loss: -0.05901666358113289\tVal accuracy: 0.8840520977973938 INFO\n"
     ]
    },
    {
     "name": "stderr",
     "output_type": "stream",
     "text": [
      "train.py:train():197: Early stopping triggered after 27 epochs:\n",
      "Train loss: -0.06222914159297943\n",
      "Val loss: -0.062462132424116135\n",
      "Val accuracy: 0.9964593648910522\n",
      "Epochs no improvement: 0 WARNING\n"
     ]
    },
    {
     "name": "stdout",
     "output_type": "stream",
     "text": [
      "Training complete: 0:00:21.818064\n",
      "Warning: not using the test data for evaluation, but the training data instead of ../data/raw/summarise_simulation/2024_11_21_160955/tabulated_mutation_info.csv\n"
     ]
    },
    {
     "name": "stdout",
     "output_type": "stream",
     "text": [
      "The R2 score is  0.9751362800598145\n",
      "The R2 score with weighted variance is  0.9751362800598145\n"
     ]
    },
    {
     "name": "stdout",
     "output_type": "stream",
     "text": [
      "Steady states found after 0 mins and 29 secs. Now calculating signal response\n"
     ]
    },
    {
     "name": "stdout",
     "output_type": "stream",
     "text": [
      "Signal response found after 0 mins and 28 secs.\n"
     ]
    },
    {
     "name": "stdout",
     "output_type": "stream",
     "text": [
      "data/03_cvae_multi/2025_02_08__22_15_29/cvae_scan/hpo_260\n"
     ]
    },
    {
     "name": "stderr",
     "output_type": "stream",
     "text": [
      "/tmp/ipykernel_1299886/1985358741.py:40: SettingWithCopyWarning: \n",
      "A value is trying to be set on a copy of a slice from a DataFrame\n",
      "\n",
      "See the caveats in the documentation: https://pandas.pydata.org/pandas-docs/stable/user_guide/indexing.html#returning-a-view-versus-a-copy\n",
      "  df_hpos_main.iloc[i] = pd.Series(hpos) if type(\n"
     ]
    },
    {
     "name": "stderr",
     "output_type": "stream",
     "text": [
      "train.py:train():187: Epoch 0 / 100 -\t\t Train loss: 0.11972803622484207\tVal loss: 0.02410837635397911\tVal accuracy: 0.33584830164909363 INFO\n"
     ]
    },
    {
     "name": "stderr",
     "output_type": "stream",
     "text": [
      "train.py:train():187: Epoch 10 / 100 -\t\t Train loss: -0.046341244131326675\tVal loss: -0.0468018464744091\tVal accuracy: 0.8040899634361267 INFO\n"
     ]
    },
    {
     "name": "stderr",
     "output_type": "stream",
     "text": [
      "train.py:train():187: Epoch 20 / 100 -\t\t Train loss: -0.058596037328243256\tVal loss: -0.05901666358113289\tVal accuracy: 0.8840520977973938 INFO\n"
     ]
    },
    {
     "name": "stderr",
     "output_type": "stream",
     "text": [
      "train.py:train():197: Early stopping triggered after 27 epochs:\n",
      "Train loss: -0.06222914159297943\n",
      "Val loss: -0.062462132424116135\n",
      "Val accuracy: 0.9964593648910522\n",
      "Epochs no improvement: 0 WARNING\n"
     ]
    },
    {
     "name": "stdout",
     "output_type": "stream",
     "text": [
      "Training complete: 0:00:21.843731\n",
      "Warning: not using the test data for evaluation, but the training data instead of ../data/raw/summarise_simulation/2024_11_21_160955/tabulated_mutation_info.csv\n"
     ]
    },
    {
     "name": "stdout",
     "output_type": "stream",
     "text": [
      "The R2 score is  0.9751362800598145\n",
      "The R2 score with weighted variance is  0.9751362800598145\n"
     ]
    },
    {
     "name": "stdout",
     "output_type": "stream",
     "text": [
      "Steady states found after 0 mins and 29 secs. Now calculating signal response\n"
     ]
    },
    {
     "name": "stdout",
     "output_type": "stream",
     "text": [
      "Signal response found after 0 mins and 28 secs.\n"
     ]
    },
    {
     "name": "stdout",
     "output_type": "stream",
     "text": [
      "data/03_cvae_multi/2025_02_08__22_15_29/cvae_scan/hpo_261\n"
     ]
    },
    {
     "name": "stderr",
     "output_type": "stream",
     "text": [
      "/tmp/ipykernel_1299886/1985358741.py:40: SettingWithCopyWarning: \n",
      "A value is trying to be set on a copy of a slice from a DataFrame\n",
      "\n",
      "See the caveats in the documentation: https://pandas.pydata.org/pandas-docs/stable/user_guide/indexing.html#returning-a-view-versus-a-copy\n",
      "  df_hpos_main.iloc[i] = pd.Series(hpos) if type(\n"
     ]
    },
    {
     "name": "stderr",
     "output_type": "stream",
     "text": [
      "train.py:train():187: Epoch 0 / 100 -\t\t Train loss: 0.11972803622484207\tVal loss: 0.02410837635397911\tVal accuracy: 0.33584830164909363 INFO\n"
     ]
    },
    {
     "name": "stderr",
     "output_type": "stream",
     "text": [
      "train.py:train():187: Epoch 10 / 100 -\t\t Train loss: -0.046341244131326675\tVal loss: -0.0468018464744091\tVal accuracy: 0.8040899634361267 INFO\n"
     ]
    },
    {
     "name": "stderr",
     "output_type": "stream",
     "text": [
      "train.py:train():187: Epoch 20 / 100 -\t\t Train loss: -0.058596037328243256\tVal loss: -0.05901666358113289\tVal accuracy: 0.8840520977973938 INFO\n"
     ]
    },
    {
     "name": "stderr",
     "output_type": "stream",
     "text": [
      "train.py:train():197: Early stopping triggered after 27 epochs:\n",
      "Train loss: -0.06222914159297943\n",
      "Val loss: -0.062462132424116135\n",
      "Val accuracy: 0.9964593648910522\n",
      "Epochs no improvement: 0 WARNING\n"
     ]
    },
    {
     "name": "stdout",
     "output_type": "stream",
     "text": [
      "Training complete: 0:00:21.895431\n",
      "Warning: not using the test data for evaluation, but the training data instead of ../data/raw/summarise_simulation/2024_11_21_160955/tabulated_mutation_info.csv\n"
     ]
    },
    {
     "name": "stdout",
     "output_type": "stream",
     "text": [
      "The R2 score is  0.9751362800598145\n",
      "The R2 score with weighted variance is  0.9751362800598145\n"
     ]
    },
    {
     "name": "stdout",
     "output_type": "stream",
     "text": [
      "Steady states found after 0 mins and 29 secs. Now calculating signal response\n"
     ]
    },
    {
     "name": "stdout",
     "output_type": "stream",
     "text": [
      "Signal response found after 0 mins and 28 secs.\n"
     ]
    },
    {
     "name": "stdout",
     "output_type": "stream",
     "text": [
      "data/03_cvae_multi/2025_02_08__22_15_29/cvae_scan/hpo_262\n"
     ]
    },
    {
     "name": "stderr",
     "output_type": "stream",
     "text": [
      "/tmp/ipykernel_1299886/1985358741.py:40: SettingWithCopyWarning: \n",
      "A value is trying to be set on a copy of a slice from a DataFrame\n",
      "\n",
      "See the caveats in the documentation: https://pandas.pydata.org/pandas-docs/stable/user_guide/indexing.html#returning-a-view-versus-a-copy\n",
      "  df_hpos_main.iloc[i] = pd.Series(hpos) if type(\n"
     ]
    },
    {
     "name": "stderr",
     "output_type": "stream",
     "text": [
      "train.py:train():187: Epoch 0 / 100 -\t\t Train loss: 0.11972803622484207\tVal loss: 0.02410837635397911\tVal accuracy: 0.33584830164909363 INFO\n"
     ]
    },
    {
     "name": "stderr",
     "output_type": "stream",
     "text": [
      "train.py:train():187: Epoch 10 / 100 -\t\t Train loss: -0.046341244131326675\tVal loss: -0.0468018464744091\tVal accuracy: 0.8040899634361267 INFO\n"
     ]
    },
    {
     "name": "stderr",
     "output_type": "stream",
     "text": [
      "train.py:train():187: Epoch 20 / 100 -\t\t Train loss: -0.058596037328243256\tVal loss: -0.05901666358113289\tVal accuracy: 0.8840520977973938 INFO\n"
     ]
    },
    {
     "name": "stderr",
     "output_type": "stream",
     "text": [
      "train.py:train():197: Early stopping triggered after 22 epochs:\n",
      "Train loss: -0.059744853526353836\n",
      "Val loss: -0.0606079176068306\n",
      "Val accuracy: 0.9403271079063416\n",
      "Epochs no improvement: 0 WARNING\n"
     ]
    },
    {
     "name": "stdout",
     "output_type": "stream",
     "text": [
      "Training complete: 0:00:17.946121\n",
      "Warning: not using the test data for evaluation, but the training data instead of ../data/raw/summarise_simulation/2024_11_21_160955/tabulated_mutation_info.csv\n"
     ]
    },
    {
     "name": "stdout",
     "output_type": "stream",
     "text": [
      "The R2 score is  0.9299905896186829\n",
      "The R2 score with weighted variance is  0.9299905896186829\n"
     ]
    },
    {
     "name": "stdout",
     "output_type": "stream",
     "text": [
      "Steady states found after 0 mins and 27 secs. Now calculating signal response\n"
     ]
    },
    {
     "name": "stdout",
     "output_type": "stream",
     "text": [
      "Signal response found after 0 mins and 23 secs.\n"
     ]
    },
    {
     "name": "stdout",
     "output_type": "stream",
     "text": [
      "data/03_cvae_multi/2025_02_08__22_15_29/cvae_scan/hpo_263\n"
     ]
    },
    {
     "name": "stderr",
     "output_type": "stream",
     "text": [
      "/tmp/ipykernel_1299886/1985358741.py:40: SettingWithCopyWarning: \n",
      "A value is trying to be set on a copy of a slice from a DataFrame\n",
      "\n",
      "See the caveats in the documentation: https://pandas.pydata.org/pandas-docs/stable/user_guide/indexing.html#returning-a-view-versus-a-copy\n",
      "  df_hpos_main.iloc[i] = pd.Series(hpos) if type(\n"
     ]
    },
    {
     "name": "stderr",
     "output_type": "stream",
     "text": [
      "train.py:train():187: Epoch 0 / 100 -\t\t Train loss: 0.11972803622484207\tVal loss: 0.02410837635397911\tVal accuracy: 0.33584830164909363 INFO\n"
     ]
    },
    {
     "name": "stderr",
     "output_type": "stream",
     "text": [
      "train.py:train():187: Epoch 10 / 100 -\t\t Train loss: -0.046341244131326675\tVal loss: -0.0468018464744091\tVal accuracy: 0.8040899634361267 INFO\n"
     ]
    },
    {
     "name": "stderr",
     "output_type": "stream",
     "text": [
      "train.py:train():187: Epoch 20 / 100 -\t\t Train loss: -0.058596037328243256\tVal loss: -0.05901666358113289\tVal accuracy: 0.8840520977973938 INFO\n"
     ]
    },
    {
     "name": "stderr",
     "output_type": "stream",
     "text": [
      "train.py:train():197: Early stopping triggered after 22 epochs:\n",
      "Train loss: -0.059744853526353836\n",
      "Val loss: -0.0606079176068306\n",
      "Val accuracy: 0.9403271079063416\n",
      "Epochs no improvement: 0 WARNING\n"
     ]
    },
    {
     "name": "stdout",
     "output_type": "stream",
     "text": [
      "Training complete: 0:00:17.816527\n",
      "Warning: not using the test data for evaluation, but the training data instead of ../data/raw/summarise_simulation/2024_11_21_160955/tabulated_mutation_info.csv\n"
     ]
    },
    {
     "name": "stdout",
     "output_type": "stream",
     "text": [
      "The R2 score is  0.9299905896186829\n",
      "The R2 score with weighted variance is  0.9299905896186829\n"
     ]
    },
    {
     "name": "stdout",
     "output_type": "stream",
     "text": [
      "Steady states found after 0 mins and 27 secs. Now calculating signal response\n"
     ]
    },
    {
     "name": "stdout",
     "output_type": "stream",
     "text": [
      "Signal response found after 0 mins and 22 secs.\n"
     ]
    },
    {
     "name": "stdout",
     "output_type": "stream",
     "text": [
      "data/03_cvae_multi/2025_02_08__22_15_29/cvae_scan/hpo_264\n"
     ]
    },
    {
     "name": "stderr",
     "output_type": "stream",
     "text": [
      "/tmp/ipykernel_1299886/1985358741.py:40: SettingWithCopyWarning: \n",
      "A value is trying to be set on a copy of a slice from a DataFrame\n",
      "\n",
      "See the caveats in the documentation: https://pandas.pydata.org/pandas-docs/stable/user_guide/indexing.html#returning-a-view-versus-a-copy\n",
      "  df_hpos_main.iloc[i] = pd.Series(hpos) if type(\n"
     ]
    },
    {
     "name": "stderr",
     "output_type": "stream",
     "text": [
      "train.py:train():187: Epoch 0 / 100 -\t\t Train loss: 0.11972803622484207\tVal loss: 0.02410837635397911\tVal accuracy: 0.33584830164909363 INFO\n"
     ]
    },
    {
     "name": "stderr",
     "output_type": "stream",
     "text": [
      "train.py:train():187: Epoch 10 / 100 -\t\t Train loss: -0.046341244131326675\tVal loss: -0.0468018464744091\tVal accuracy: 0.8040899634361267 INFO\n"
     ]
    },
    {
     "name": "stderr",
     "output_type": "stream",
     "text": [
      "train.py:train():187: Epoch 20 / 100 -\t\t Train loss: -0.058596037328243256\tVal loss: -0.05901666358113289\tVal accuracy: 0.8840520977973938 INFO\n"
     ]
    },
    {
     "name": "stderr",
     "output_type": "stream",
     "text": [
      "train.py:train():197: Early stopping triggered after 22 epochs:\n",
      "Train loss: -0.059744853526353836\n",
      "Val loss: -0.0606079176068306\n",
      "Val accuracy: 0.9403271079063416\n",
      "Epochs no improvement: 0 WARNING\n"
     ]
    },
    {
     "name": "stdout",
     "output_type": "stream",
     "text": [
      "Training complete: 0:00:31.094952\n",
      "Warning: not using the test data for evaluation, but the training data instead of ../data/raw/summarise_simulation/2024_11_21_160955/tabulated_mutation_info.csv\n"
     ]
    },
    {
     "name": "stdout",
     "output_type": "stream",
     "text": [
      "The R2 score is  0.9299905896186829\n",
      "The R2 score with weighted variance is  0.9299905896186829\n"
     ]
    },
    {
     "name": "stdout",
     "output_type": "stream",
     "text": [
      "Steady states found after 0 mins and 27 secs. Now calculating signal response\n"
     ]
    },
    {
     "name": "stdout",
     "output_type": "stream",
     "text": [
      "Signal response found after 0 mins and 22 secs.\n"
     ]
    },
    {
     "name": "stdout",
     "output_type": "stream",
     "text": [
      "data/03_cvae_multi/2025_02_08__22_15_29/cvae_scan/hpo_265\n"
     ]
    },
    {
     "name": "stderr",
     "output_type": "stream",
     "text": [
      "/tmp/ipykernel_1299886/1985358741.py:40: SettingWithCopyWarning: \n",
      "A value is trying to be set on a copy of a slice from a DataFrame\n",
      "\n",
      "See the caveats in the documentation: https://pandas.pydata.org/pandas-docs/stable/user_guide/indexing.html#returning-a-view-versus-a-copy\n",
      "  df_hpos_main.iloc[i] = pd.Series(hpos) if type(\n"
     ]
    },
    {
     "name": "stderr",
     "output_type": "stream",
     "text": [
      "train.py:train():187: Epoch 0 / 100 -\t\t Train loss: 0.11972803622484207\tVal loss: 0.02410837635397911\tVal accuracy: 0.33584830164909363 INFO\n"
     ]
    },
    {
     "name": "stderr",
     "output_type": "stream",
     "text": [
      "train.py:train():187: Epoch 10 / 100 -\t\t Train loss: -0.046341244131326675\tVal loss: -0.0468018464744091\tVal accuracy: 0.8040899634361267 INFO\n"
     ]
    },
    {
     "name": "stderr",
     "output_type": "stream",
     "text": [
      "train.py:train():187: Epoch 20 / 100 -\t\t Train loss: -0.058596037328243256\tVal loss: -0.05901666358113289\tVal accuracy: 0.8840520977973938 INFO\n"
     ]
    },
    {
     "name": "stderr",
     "output_type": "stream",
     "text": [
      "train.py:train():197: Early stopping triggered after 22 epochs:\n",
      "Train loss: -0.059744853526353836\n",
      "Val loss: -0.0606079176068306\n",
      "Val accuracy: 0.9403271079063416\n",
      "Epochs no improvement: 0 WARNING\n"
     ]
    },
    {
     "name": "stdout",
     "output_type": "stream",
     "text": [
      "Training complete: 0:00:17.615615\n",
      "Warning: not using the test data for evaluation, but the training data instead of ../data/raw/summarise_simulation/2024_11_21_160955/tabulated_mutation_info.csv\n"
     ]
    },
    {
     "name": "stdout",
     "output_type": "stream",
     "text": [
      "The R2 score is  0.9299905896186829\n",
      "The R2 score with weighted variance is  0.9299905896186829\n"
     ]
    },
    {
     "name": "stdout",
     "output_type": "stream",
     "text": [
      "Steady states found after 0 mins and 26 secs. Now calculating signal response\n"
     ]
    },
    {
     "name": "stdout",
     "output_type": "stream",
     "text": [
      "Signal response found after 0 mins and 22 secs.\n"
     ]
    },
    {
     "name": "stdout",
     "output_type": "stream",
     "text": [
      "data/03_cvae_multi/2025_02_08__22_15_29/cvae_scan/hpo_266\n"
     ]
    },
    {
     "name": "stderr",
     "output_type": "stream",
     "text": [
      "/tmp/ipykernel_1299886/1985358741.py:40: SettingWithCopyWarning: \n",
      "A value is trying to be set on a copy of a slice from a DataFrame\n",
      "\n",
      "See the caveats in the documentation: https://pandas.pydata.org/pandas-docs/stable/user_guide/indexing.html#returning-a-view-versus-a-copy\n",
      "  df_hpos_main.iloc[i] = pd.Series(hpos) if type(\n"
     ]
    },
    {
     "name": "stderr",
     "output_type": "stream",
     "text": [
      "train.py:train():187: Epoch 0 / 100 -\t\t Train loss: 0.11972803622484207\tVal loss: 0.02410837635397911\tVal accuracy: 0.33584830164909363 INFO\n"
     ]
    },
    {
     "name": "stderr",
     "output_type": "stream",
     "text": [
      "train.py:train():187: Epoch 10 / 100 -\t\t Train loss: -0.046341244131326675\tVal loss: -0.0468018464744091\tVal accuracy: 0.8040899634361267 INFO\n"
     ]
    },
    {
     "name": "stderr",
     "output_type": "stream",
     "text": [
      "train.py:train():187: Epoch 20 / 100 -\t\t Train loss: -0.058596037328243256\tVal loss: -0.05901666358113289\tVal accuracy: 0.8840520977973938 INFO\n"
     ]
    },
    {
     "name": "stderr",
     "output_type": "stream",
     "text": [
      "train.py:train():197: Early stopping triggered after 22 epochs:\n",
      "Train loss: -0.059744853526353836\n",
      "Val loss: -0.0606079176068306\n",
      "Val accuracy: 0.9403271079063416\n",
      "Epochs no improvement: 0 WARNING\n"
     ]
    },
    {
     "name": "stdout",
     "output_type": "stream",
     "text": [
      "Training complete: 0:00:17.666198\n",
      "Warning: not using the test data for evaluation, but the training data instead of ../data/raw/summarise_simulation/2024_11_21_160955/tabulated_mutation_info.csv\n"
     ]
    },
    {
     "name": "stdout",
     "output_type": "stream",
     "text": [
      "The R2 score is  0.9299905896186829\n",
      "The R2 score with weighted variance is  0.9299905896186829\n"
     ]
    },
    {
     "name": "stdout",
     "output_type": "stream",
     "text": [
      "Steady states found after 0 mins and 27 secs. Now calculating signal response\n"
     ]
    },
    {
     "name": "stdout",
     "output_type": "stream",
     "text": [
      "Signal response found after 0 mins and 22 secs.\n"
     ]
    },
    {
     "name": "stdout",
     "output_type": "stream",
     "text": [
      "data/03_cvae_multi/2025_02_08__22_15_29/cvae_scan/hpo_267\n"
     ]
    },
    {
     "name": "stderr",
     "output_type": "stream",
     "text": [
      "/tmp/ipykernel_1299886/1985358741.py:40: SettingWithCopyWarning: \n",
      "A value is trying to be set on a copy of a slice from a DataFrame\n",
      "\n",
      "See the caveats in the documentation: https://pandas.pydata.org/pandas-docs/stable/user_guide/indexing.html#returning-a-view-versus-a-copy\n",
      "  df_hpos_main.iloc[i] = pd.Series(hpos) if type(\n"
     ]
    },
    {
     "name": "stderr",
     "output_type": "stream",
     "text": [
      "train.py:train():187: Epoch 0 / 100 -\t\t Train loss: 0.11972803622484207\tVal loss: 0.02410837635397911\tVal accuracy: 0.33584830164909363 INFO\n"
     ]
    },
    {
     "name": "stderr",
     "output_type": "stream",
     "text": [
      "train.py:train():187: Epoch 10 / 100 -\t\t Train loss: -0.046341244131326675\tVal loss: -0.0468018464744091\tVal accuracy: 0.8040899634361267 INFO\n"
     ]
    },
    {
     "name": "stderr",
     "output_type": "stream",
     "text": [
      "train.py:train():187: Epoch 20 / 100 -\t\t Train loss: -0.058596037328243256\tVal loss: -0.05901666358113289\tVal accuracy: 0.8840520977973938 INFO\n"
     ]
    },
    {
     "name": "stderr",
     "output_type": "stream",
     "text": [
      "train.py:train():197: Early stopping triggered after 22 epochs:\n",
      "Train loss: -0.059744853526353836\n",
      "Val loss: -0.0606079176068306\n",
      "Val accuracy: 0.9403271079063416\n",
      "Epochs no improvement: 0 WARNING\n"
     ]
    },
    {
     "name": "stdout",
     "output_type": "stream",
     "text": [
      "Training complete: 0:00:17.601516\n",
      "Warning: not using the test data for evaluation, but the training data instead of ../data/raw/summarise_simulation/2024_11_21_160955/tabulated_mutation_info.csv\n"
     ]
    },
    {
     "name": "stdout",
     "output_type": "stream",
     "text": [
      "The R2 score is  0.9299905896186829\n",
      "The R2 score with weighted variance is  0.9299905896186829\n"
     ]
    },
    {
     "name": "stdout",
     "output_type": "stream",
     "text": [
      "Steady states found after 0 mins and 27 secs. Now calculating signal response\n"
     ]
    },
    {
     "name": "stdout",
     "output_type": "stream",
     "text": [
      "Signal response found after 0 mins and 23 secs.\n"
     ]
    },
    {
     "name": "stdout",
     "output_type": "stream",
     "text": [
      "data/03_cvae_multi/2025_02_08__22_15_29/cvae_scan/hpo_268\n"
     ]
    },
    {
     "name": "stderr",
     "output_type": "stream",
     "text": [
      "/tmp/ipykernel_1299886/1985358741.py:40: SettingWithCopyWarning: \n",
      "A value is trying to be set on a copy of a slice from a DataFrame\n",
      "\n",
      "See the caveats in the documentation: https://pandas.pydata.org/pandas-docs/stable/user_guide/indexing.html#returning-a-view-versus-a-copy\n",
      "  df_hpos_main.iloc[i] = pd.Series(hpos) if type(\n"
     ]
    },
    {
     "name": "stderr",
     "output_type": "stream",
     "text": [
      "train.py:train():187: Epoch 0 / 100 -\t\t Train loss: 0.13515780866146088\tVal loss: 0.04077830910682678\tVal accuracy: 0.3360355794429779 INFO\n"
     ]
    },
    {
     "name": "stderr",
     "output_type": "stream",
     "text": [
      "train.py:train():187: Epoch 10 / 100 -\t\t Train loss: -0.017800942063331604\tVal loss: -0.017788292840123177\tVal accuracy: 0.7622448801994324 INFO\n"
     ]
    },
    {
     "name": "stderr",
     "output_type": "stream",
     "text": [
      "train.py:train():197: Early stopping triggered after 16 epochs:\n",
      "Train loss: -0.04523467645049095\n",
      "Val loss: -0.045501355081796646\n",
      "Val accuracy: 0.9956923723220825\n",
      "Epochs no improvement: 0 WARNING\n"
     ]
    },
    {
     "name": "stdout",
     "output_type": "stream",
     "text": [
      "Training complete: 0:00:12.892601\n",
      "Warning: not using the test data for evaluation, but the training data instead of ../data/raw/summarise_simulation/2024_11_21_160955/tabulated_mutation_info.csv\n"
     ]
    },
    {
     "name": "stdout",
     "output_type": "stream",
     "text": [
      "The R2 score is  0.9738385677337646\n",
      "The R2 score with weighted variance is  0.9738385677337646\n"
     ]
    },
    {
     "name": "stdout",
     "output_type": "stream",
     "text": [
      "Steady states found after 0 mins and 30 secs. Now calculating signal response\n"
     ]
    },
    {
     "name": "stdout",
     "output_type": "stream",
     "text": [
      "Signal response found after 0 mins and 30 secs.\n"
     ]
    },
    {
     "name": "stdout",
     "output_type": "stream",
     "text": [
      "data/03_cvae_multi/2025_02_08__22_15_29/cvae_scan/hpo_269\n"
     ]
    },
    {
     "name": "stderr",
     "output_type": "stream",
     "text": [
      "/tmp/ipykernel_1299886/1985358741.py:40: SettingWithCopyWarning: \n",
      "A value is trying to be set on a copy of a slice from a DataFrame\n",
      "\n",
      "See the caveats in the documentation: https://pandas.pydata.org/pandas-docs/stable/user_guide/indexing.html#returning-a-view-versus-a-copy\n",
      "  df_hpos_main.iloc[i] = pd.Series(hpos) if type(\n"
     ]
    },
    {
     "name": "stderr",
     "output_type": "stream",
     "text": [
      "train.py:train():187: Epoch 0 / 100 -\t\t Train loss: 0.13515780866146088\tVal loss: 0.04077830910682678\tVal accuracy: 0.3360355794429779 INFO\n"
     ]
    },
    {
     "name": "stderr",
     "output_type": "stream",
     "text": [
      "train.py:train():187: Epoch 10 / 100 -\t\t Train loss: -0.017800942063331604\tVal loss: -0.017788292840123177\tVal accuracy: 0.7622448801994324 INFO\n"
     ]
    },
    {
     "name": "stderr",
     "output_type": "stream",
     "text": [
      "train.py:train():197: Early stopping triggered after 16 epochs:\n",
      "Train loss: -0.04523467645049095\n",
      "Val loss: -0.045501355081796646\n",
      "Val accuracy: 0.9956923723220825\n",
      "Epochs no improvement: 0 WARNING\n"
     ]
    },
    {
     "name": "stdout",
     "output_type": "stream",
     "text": [
      "Training complete: 0:00:12.817949\n",
      "Warning: not using the test data for evaluation, but the training data instead of ../data/raw/summarise_simulation/2024_11_21_160955/tabulated_mutation_info.csv\n"
     ]
    },
    {
     "name": "stdout",
     "output_type": "stream",
     "text": [
      "The R2 score is  0.9738385677337646\n",
      "The R2 score with weighted variance is  0.9738385677337646\n"
     ]
    },
    {
     "name": "stdout",
     "output_type": "stream",
     "text": [
      "Steady states found after 0 mins and 29 secs. Now calculating signal response\n"
     ]
    },
    {
     "name": "stdout",
     "output_type": "stream",
     "text": [
      "Signal response found after 0 mins and 29 secs.\n"
     ]
    },
    {
     "name": "stdout",
     "output_type": "stream",
     "text": [
      "data/03_cvae_multi/2025_02_08__22_15_29/cvae_scan/hpo_270\n"
     ]
    },
    {
     "name": "stderr",
     "output_type": "stream",
     "text": [
      "/tmp/ipykernel_1299886/1985358741.py:40: SettingWithCopyWarning: \n",
      "A value is trying to be set on a copy of a slice from a DataFrame\n",
      "\n",
      "See the caveats in the documentation: https://pandas.pydata.org/pandas-docs/stable/user_guide/indexing.html#returning-a-view-versus-a-copy\n",
      "  df_hpos_main.iloc[i] = pd.Series(hpos) if type(\n"
     ]
    },
    {
     "name": "stderr",
     "output_type": "stream",
     "text": [
      "train.py:train():187: Epoch 0 / 100 -\t\t Train loss: 0.13515780866146088\tVal loss: 0.04077830910682678\tVal accuracy: 0.3360355794429779 INFO\n"
     ]
    },
    {
     "name": "stderr",
     "output_type": "stream",
     "text": [
      "train.py:train():187: Epoch 10 / 100 -\t\t Train loss: -0.017800942063331604\tVal loss: -0.017788292840123177\tVal accuracy: 0.7622448801994324 INFO\n"
     ]
    },
    {
     "name": "stderr",
     "output_type": "stream",
     "text": [
      "train.py:train():197: Early stopping triggered after 16 epochs:\n",
      "Train loss: -0.04523467645049095\n",
      "Val loss: -0.045501355081796646\n",
      "Val accuracy: 0.9956923723220825\n",
      "Epochs no improvement: 0 WARNING\n"
     ]
    },
    {
     "name": "stdout",
     "output_type": "stream",
     "text": [
      "Training complete: 0:00:12.881362\n",
      "Warning: not using the test data for evaluation, but the training data instead of ../data/raw/summarise_simulation/2024_11_21_160955/tabulated_mutation_info.csv\n"
     ]
    },
    {
     "name": "stdout",
     "output_type": "stream",
     "text": [
      "The R2 score is  0.9738385677337646\n",
      "The R2 score with weighted variance is  0.9738385677337646\n"
     ]
    },
    {
     "name": "stdout",
     "output_type": "stream",
     "text": [
      "Steady states found after 0 mins and 29 secs. Now calculating signal response\n"
     ]
    },
    {
     "name": "stdout",
     "output_type": "stream",
     "text": [
      "Signal response found after 0 mins and 29 secs.\n"
     ]
    },
    {
     "name": "stdout",
     "output_type": "stream",
     "text": [
      "data/03_cvae_multi/2025_02_08__22_15_29/cvae_scan/hpo_271\n"
     ]
    },
    {
     "name": "stderr",
     "output_type": "stream",
     "text": [
      "/tmp/ipykernel_1299886/1985358741.py:40: SettingWithCopyWarning: \n",
      "A value is trying to be set on a copy of a slice from a DataFrame\n",
      "\n",
      "See the caveats in the documentation: https://pandas.pydata.org/pandas-docs/stable/user_guide/indexing.html#returning-a-view-versus-a-copy\n",
      "  df_hpos_main.iloc[i] = pd.Series(hpos) if type(\n"
     ]
    },
    {
     "name": "stderr",
     "output_type": "stream",
     "text": [
      "train.py:train():187: Epoch 0 / 100 -\t\t Train loss: 0.13515780866146088\tVal loss: 0.04077830910682678\tVal accuracy: 0.3360355794429779 INFO\n"
     ]
    },
    {
     "name": "stderr",
     "output_type": "stream",
     "text": [
      "train.py:train():187: Epoch 10 / 100 -\t\t Train loss: -0.017800942063331604\tVal loss: -0.017788292840123177\tVal accuracy: 0.7622448801994324 INFO\n"
     ]
    },
    {
     "name": "stderr",
     "output_type": "stream",
     "text": [
      "train.py:train():197: Early stopping triggered after 16 epochs:\n",
      "Train loss: -0.04523467645049095\n",
      "Val loss: -0.045501355081796646\n",
      "Val accuracy: 0.9956923723220825\n",
      "Epochs no improvement: 0 WARNING\n"
     ]
    },
    {
     "name": "stdout",
     "output_type": "stream",
     "text": [
      "Training complete: 0:00:12.955887\n",
      "Warning: not using the test data for evaluation, but the training data instead of ../data/raw/summarise_simulation/2024_11_21_160955/tabulated_mutation_info.csv\n"
     ]
    },
    {
     "name": "stdout",
     "output_type": "stream",
     "text": [
      "The R2 score is  0.9738385677337646\n",
      "The R2 score with weighted variance is  0.9738385677337646\n"
     ]
    },
    {
     "name": "stdout",
     "output_type": "stream",
     "text": [
      "Steady states found after 0 mins and 29 secs. Now calculating signal response\n"
     ]
    },
    {
     "name": "stdout",
     "output_type": "stream",
     "text": [
      "Signal response found after 0 mins and 28 secs.\n"
     ]
    },
    {
     "name": "stdout",
     "output_type": "stream",
     "text": [
      "data/03_cvae_multi/2025_02_08__22_15_29/cvae_scan/hpo_272\n"
     ]
    },
    {
     "name": "stderr",
     "output_type": "stream",
     "text": [
      "/tmp/ipykernel_1299886/1985358741.py:40: SettingWithCopyWarning: \n",
      "A value is trying to be set on a copy of a slice from a DataFrame\n",
      "\n",
      "See the caveats in the documentation: https://pandas.pydata.org/pandas-docs/stable/user_guide/indexing.html#returning-a-view-versus-a-copy\n",
      "  df_hpos_main.iloc[i] = pd.Series(hpos) if type(\n"
     ]
    },
    {
     "name": "stderr",
     "output_type": "stream",
     "text": [
      "train.py:train():187: Epoch 0 / 100 -\t\t Train loss: 0.13515780866146088\tVal loss: 0.04077830910682678\tVal accuracy: 0.3360355794429779 INFO\n"
     ]
    },
    {
     "name": "stderr",
     "output_type": "stream",
     "text": [
      "train.py:train():187: Epoch 10 / 100 -\t\t Train loss: -0.017800942063331604\tVal loss: -0.017788292840123177\tVal accuracy: 0.7622448801994324 INFO\n"
     ]
    },
    {
     "name": "stderr",
     "output_type": "stream",
     "text": [
      "train.py:train():197: Early stopping triggered after 16 epochs:\n",
      "Train loss: -0.04523467645049095\n",
      "Val loss: -0.045501355081796646\n",
      "Val accuracy: 0.9956923723220825\n",
      "Epochs no improvement: 0 WARNING\n"
     ]
    },
    {
     "name": "stdout",
     "output_type": "stream",
     "text": [
      "Training complete: 0:00:12.905562\n",
      "Warning: not using the test data for evaluation, but the training data instead of ../data/raw/summarise_simulation/2024_11_21_160955/tabulated_mutation_info.csv\n"
     ]
    },
    {
     "name": "stdout",
     "output_type": "stream",
     "text": [
      "The R2 score is  0.9738385677337646\n",
      "The R2 score with weighted variance is  0.9738385677337646\n"
     ]
    },
    {
     "name": "stdout",
     "output_type": "stream",
     "text": [
      "Steady states found after 0 mins and 29 secs. Now calculating signal response\n"
     ]
    },
    {
     "name": "stdout",
     "output_type": "stream",
     "text": [
      "Signal response found after 0 mins and 29 secs.\n"
     ]
    },
    {
     "name": "stdout",
     "output_type": "stream",
     "text": [
      "data/03_cvae_multi/2025_02_08__22_15_29/cvae_scan/hpo_273\n"
     ]
    },
    {
     "name": "stderr",
     "output_type": "stream",
     "text": [
      "/tmp/ipykernel_1299886/1985358741.py:40: SettingWithCopyWarning: \n",
      "A value is trying to be set on a copy of a slice from a DataFrame\n",
      "\n",
      "See the caveats in the documentation: https://pandas.pydata.org/pandas-docs/stable/user_guide/indexing.html#returning-a-view-versus-a-copy\n",
      "  df_hpos_main.iloc[i] = pd.Series(hpos) if type(\n"
     ]
    },
    {
     "name": "stderr",
     "output_type": "stream",
     "text": [
      "train.py:train():187: Epoch 0 / 100 -\t\t Train loss: 0.13515780866146088\tVal loss: 0.04077830910682678\tVal accuracy: 0.3360355794429779 INFO\n"
     ]
    },
    {
     "name": "stderr",
     "output_type": "stream",
     "text": [
      "train.py:train():187: Epoch 10 / 100 -\t\t Train loss: -0.017800942063331604\tVal loss: -0.017788292840123177\tVal accuracy: 0.7622448801994324 INFO\n"
     ]
    },
    {
     "name": "stderr",
     "output_type": "stream",
     "text": [
      "train.py:train():197: Early stopping triggered after 16 epochs:\n",
      "Train loss: -0.04523467645049095\n",
      "Val loss: -0.045501355081796646\n",
      "Val accuracy: 0.9956923723220825\n",
      "Epochs no improvement: 0 WARNING\n"
     ]
    },
    {
     "name": "stdout",
     "output_type": "stream",
     "text": [
      "Training complete: 0:00:12.950964\n",
      "Warning: not using the test data for evaluation, but the training data instead of ../data/raw/summarise_simulation/2024_11_21_160955/tabulated_mutation_info.csv\n"
     ]
    },
    {
     "name": "stdout",
     "output_type": "stream",
     "text": [
      "The R2 score is  0.9738385677337646\n",
      "The R2 score with weighted variance is  0.9738385677337646\n"
     ]
    },
    {
     "name": "stdout",
     "output_type": "stream",
     "text": [
      "Steady states found after 0 mins and 29 secs. Now calculating signal response\n"
     ]
    },
    {
     "name": "stdout",
     "output_type": "stream",
     "text": [
      "Signal response found after 0 mins and 28 secs.\n"
     ]
    },
    {
     "name": "stdout",
     "output_type": "stream",
     "text": [
      "data/03_cvae_multi/2025_02_08__22_15_29/cvae_scan/hpo_274\n"
     ]
    },
    {
     "name": "stderr",
     "output_type": "stream",
     "text": [
      "/tmp/ipykernel_1299886/1985358741.py:40: SettingWithCopyWarning: \n",
      "A value is trying to be set on a copy of a slice from a DataFrame\n",
      "\n",
      "See the caveats in the documentation: https://pandas.pydata.org/pandas-docs/stable/user_guide/indexing.html#returning-a-view-versus-a-copy\n",
      "  df_hpos_main.iloc[i] = pd.Series(hpos) if type(\n"
     ]
    },
    {
     "name": "stderr",
     "output_type": "stream",
     "text": [
      "train.py:train():187: Epoch 0 / 100 -\t\t Train loss: 0.13515780866146088\tVal loss: 0.04077830910682678\tVal accuracy: 0.3360355794429779 INFO\n"
     ]
    },
    {
     "name": "stderr",
     "output_type": "stream",
     "text": [
      "train.py:train():187: Epoch 10 / 100 -\t\t Train loss: -0.017800942063331604\tVal loss: -0.017788292840123177\tVal accuracy: 0.7622448801994324 INFO\n"
     ]
    },
    {
     "name": "stderr",
     "output_type": "stream",
     "text": [
      "train.py:train():197: Early stopping triggered after 12 epochs:\n",
      "Train loss: -0.03399423509836197\n",
      "Val loss: -0.04373631998896599\n",
      "Val accuracy: 0.9632205367088318\n",
      "Epochs no improvement: 0 WARNING\n"
     ]
    },
    {
     "name": "stdout",
     "output_type": "stream",
     "text": [
      "Training complete: 0:00:09.727414\n",
      "Warning: not using the test data for evaluation, but the training data instead of ../data/raw/summarise_simulation/2024_11_21_160955/tabulated_mutation_info.csv\n"
     ]
    },
    {
     "name": "stdout",
     "output_type": "stream",
     "text": [
      "The R2 score is  0.9469610452651978\n",
      "The R2 score with weighted variance is  0.9469610452651978\n"
     ]
    },
    {
     "name": "stdout",
     "output_type": "stream",
     "text": [
      "Steady states found after 0 mins and 29 secs. Now calculating signal response\n"
     ]
    },
    {
     "name": "stdout",
     "output_type": "stream",
     "text": [
      "Signal response found after 0 mins and 27 secs.\n"
     ]
    },
    {
     "name": "stdout",
     "output_type": "stream",
     "text": [
      "data/03_cvae_multi/2025_02_08__22_15_29/cvae_scan/hpo_275\n"
     ]
    },
    {
     "name": "stderr",
     "output_type": "stream",
     "text": [
      "/tmp/ipykernel_1299886/1985358741.py:40: SettingWithCopyWarning: \n",
      "A value is trying to be set on a copy of a slice from a DataFrame\n",
      "\n",
      "See the caveats in the documentation: https://pandas.pydata.org/pandas-docs/stable/user_guide/indexing.html#returning-a-view-versus-a-copy\n",
      "  df_hpos_main.iloc[i] = pd.Series(hpos) if type(\n"
     ]
    },
    {
     "name": "stderr",
     "output_type": "stream",
     "text": [
      "train.py:train():187: Epoch 0 / 100 -\t\t Train loss: 0.13515780866146088\tVal loss: 0.04077830910682678\tVal accuracy: 0.3360355794429779 INFO\n"
     ]
    },
    {
     "name": "stderr",
     "output_type": "stream",
     "text": [
      "train.py:train():187: Epoch 10 / 100 -\t\t Train loss: -0.017800942063331604\tVal loss: -0.017788292840123177\tVal accuracy: 0.7622448801994324 INFO\n"
     ]
    },
    {
     "name": "stderr",
     "output_type": "stream",
     "text": [
      "train.py:train():197: Early stopping triggered after 12 epochs:\n",
      "Train loss: -0.03399423509836197\n",
      "Val loss: -0.04373631998896599\n",
      "Val accuracy: 0.9632205367088318\n",
      "Epochs no improvement: 0 WARNING\n"
     ]
    },
    {
     "name": "stdout",
     "output_type": "stream",
     "text": [
      "Training complete: 0:00:09.747980\n",
      "Warning: not using the test data for evaluation, but the training data instead of ../data/raw/summarise_simulation/2024_11_21_160955/tabulated_mutation_info.csv\n"
     ]
    },
    {
     "name": "stdout",
     "output_type": "stream",
     "text": [
      "The R2 score is  0.9469610452651978\n",
      "The R2 score with weighted variance is  0.9469610452651978\n"
     ]
    },
    {
     "name": "stdout",
     "output_type": "stream",
     "text": [
      "Steady states found after 0 mins and 29 secs. Now calculating signal response\n"
     ]
    },
    {
     "name": "stdout",
     "output_type": "stream",
     "text": [
      "Signal response found after 0 mins and 27 secs.\n"
     ]
    },
    {
     "name": "stdout",
     "output_type": "stream",
     "text": [
      "data/03_cvae_multi/2025_02_08__22_15_29/cvae_scan/hpo_276\n"
     ]
    },
    {
     "name": "stderr",
     "output_type": "stream",
     "text": [
      "/tmp/ipykernel_1299886/1985358741.py:40: SettingWithCopyWarning: \n",
      "A value is trying to be set on a copy of a slice from a DataFrame\n",
      "\n",
      "See the caveats in the documentation: https://pandas.pydata.org/pandas-docs/stable/user_guide/indexing.html#returning-a-view-versus-a-copy\n",
      "  df_hpos_main.iloc[i] = pd.Series(hpos) if type(\n"
     ]
    },
    {
     "name": "stderr",
     "output_type": "stream",
     "text": [
      "train.py:train():187: Epoch 0 / 100 -\t\t Train loss: 0.13515780866146088\tVal loss: 0.04077830910682678\tVal accuracy: 0.3360355794429779 INFO\n"
     ]
    },
    {
     "name": "stderr",
     "output_type": "stream",
     "text": [
      "train.py:train():187: Epoch 10 / 100 -\t\t Train loss: -0.017800942063331604\tVal loss: -0.017788292840123177\tVal accuracy: 0.7622448801994324 INFO\n"
     ]
    },
    {
     "name": "stderr",
     "output_type": "stream",
     "text": [
      "train.py:train():197: Early stopping triggered after 12 epochs:\n",
      "Train loss: -0.03399423509836197\n",
      "Val loss: -0.04373631998896599\n",
      "Val accuracy: 0.9632205367088318\n",
      "Epochs no improvement: 0 WARNING\n"
     ]
    },
    {
     "name": "stdout",
     "output_type": "stream",
     "text": [
      "Training complete: 0:00:09.728791\n",
      "Warning: not using the test data for evaluation, but the training data instead of ../data/raw/summarise_simulation/2024_11_21_160955/tabulated_mutation_info.csv\n"
     ]
    },
    {
     "name": "stdout",
     "output_type": "stream",
     "text": [
      "The R2 score is  0.9469610452651978\n",
      "The R2 score with weighted variance is  0.9469610452651978\n"
     ]
    },
    {
     "name": "stdout",
     "output_type": "stream",
     "text": [
      "Steady states found after 0 mins and 30 secs. Now calculating signal response\n"
     ]
    },
    {
     "name": "stdout",
     "output_type": "stream",
     "text": [
      "Signal response found after 0 mins and 28 secs.\n"
     ]
    },
    {
     "name": "stdout",
     "output_type": "stream",
     "text": [
      "data/03_cvae_multi/2025_02_08__22_15_29/cvae_scan/hpo_277\n"
     ]
    },
    {
     "name": "stderr",
     "output_type": "stream",
     "text": [
      "/tmp/ipykernel_1299886/1985358741.py:40: SettingWithCopyWarning: \n",
      "A value is trying to be set on a copy of a slice from a DataFrame\n",
      "\n",
      "See the caveats in the documentation: https://pandas.pydata.org/pandas-docs/stable/user_guide/indexing.html#returning-a-view-versus-a-copy\n",
      "  df_hpos_main.iloc[i] = pd.Series(hpos) if type(\n"
     ]
    },
    {
     "name": "stderr",
     "output_type": "stream",
     "text": [
      "train.py:train():187: Epoch 0 / 100 -\t\t Train loss: 0.13515780866146088\tVal loss: 0.04077830910682678\tVal accuracy: 0.3360355794429779 INFO\n"
     ]
    },
    {
     "name": "stderr",
     "output_type": "stream",
     "text": [
      "train.py:train():187: Epoch 10 / 100 -\t\t Train loss: -0.017800942063331604\tVal loss: -0.017788292840123177\tVal accuracy: 0.7622448801994324 INFO\n"
     ]
    },
    {
     "name": "stderr",
     "output_type": "stream",
     "text": [
      "train.py:train():197: Early stopping triggered after 12 epochs:\n",
      "Train loss: -0.03399423509836197\n",
      "Val loss: -0.04373631998896599\n",
      "Val accuracy: 0.9632205367088318\n",
      "Epochs no improvement: 0 WARNING\n"
     ]
    },
    {
     "name": "stdout",
     "output_type": "stream",
     "text": [
      "Training complete: 0:00:09.751073\n",
      "Warning: not using the test data for evaluation, but the training data instead of ../data/raw/summarise_simulation/2024_11_21_160955/tabulated_mutation_info.csv\n"
     ]
    },
    {
     "name": "stdout",
     "output_type": "stream",
     "text": [
      "The R2 score is  0.9469610452651978\n",
      "The R2 score with weighted variance is  0.9469610452651978\n"
     ]
    },
    {
     "name": "stdout",
     "output_type": "stream",
     "text": [
      "Steady states found after 0 mins and 29 secs. Now calculating signal response\n"
     ]
    },
    {
     "name": "stdout",
     "output_type": "stream",
     "text": [
      "Signal response found after 0 mins and 28 secs.\n"
     ]
    },
    {
     "name": "stdout",
     "output_type": "stream",
     "text": [
      "data/03_cvae_multi/2025_02_08__22_15_29/cvae_scan/hpo_278\n"
     ]
    },
    {
     "name": "stderr",
     "output_type": "stream",
     "text": [
      "/tmp/ipykernel_1299886/1985358741.py:40: SettingWithCopyWarning: \n",
      "A value is trying to be set on a copy of a slice from a DataFrame\n",
      "\n",
      "See the caveats in the documentation: https://pandas.pydata.org/pandas-docs/stable/user_guide/indexing.html#returning-a-view-versus-a-copy\n",
      "  df_hpos_main.iloc[i] = pd.Series(hpos) if type(\n"
     ]
    },
    {
     "name": "stderr",
     "output_type": "stream",
     "text": [
      "train.py:train():187: Epoch 0 / 100 -\t\t Train loss: 0.13515780866146088\tVal loss: 0.04077830910682678\tVal accuracy: 0.3360355794429779 INFO\n"
     ]
    },
    {
     "name": "stderr",
     "output_type": "stream",
     "text": [
      "train.py:train():187: Epoch 10 / 100 -\t\t Train loss: -0.017800942063331604\tVal loss: -0.017788292840123177\tVal accuracy: 0.7622448801994324 INFO\n"
     ]
    },
    {
     "name": "stderr",
     "output_type": "stream",
     "text": [
      "train.py:train():197: Early stopping triggered after 12 epochs:\n",
      "Train loss: -0.03399423509836197\n",
      "Val loss: -0.04373631998896599\n",
      "Val accuracy: 0.9632205367088318\n",
      "Epochs no improvement: 0 WARNING\n"
     ]
    },
    {
     "name": "stdout",
     "output_type": "stream",
     "text": [
      "Training complete: 0:00:09.711728\n",
      "Warning: not using the test data for evaluation, but the training data instead of ../data/raw/summarise_simulation/2024_11_21_160955/tabulated_mutation_info.csv\n"
     ]
    },
    {
     "name": "stdout",
     "output_type": "stream",
     "text": [
      "The R2 score is  0.9469610452651978\n",
      "The R2 score with weighted variance is  0.9469610452651978\n"
     ]
    },
    {
     "name": "stdout",
     "output_type": "stream",
     "text": [
      "Steady states found after 0 mins and 30 secs. Now calculating signal response\n"
     ]
    },
    {
     "name": "stdout",
     "output_type": "stream",
     "text": [
      "Signal response found after 0 mins and 28 secs.\n"
     ]
    },
    {
     "name": "stdout",
     "output_type": "stream",
     "text": [
      "data/03_cvae_multi/2025_02_08__22_15_29/cvae_scan/hpo_279\n"
     ]
    },
    {
     "name": "stderr",
     "output_type": "stream",
     "text": [
      "/tmp/ipykernel_1299886/1985358741.py:40: SettingWithCopyWarning: \n",
      "A value is trying to be set on a copy of a slice from a DataFrame\n",
      "\n",
      "See the caveats in the documentation: https://pandas.pydata.org/pandas-docs/stable/user_guide/indexing.html#returning-a-view-versus-a-copy\n",
      "  df_hpos_main.iloc[i] = pd.Series(hpos) if type(\n"
     ]
    },
    {
     "name": "stderr",
     "output_type": "stream",
     "text": [
      "train.py:train():187: Epoch 0 / 100 -\t\t Train loss: 0.13515780866146088\tVal loss: 0.04077830910682678\tVal accuracy: 0.3360355794429779 INFO\n"
     ]
    },
    {
     "name": "stderr",
     "output_type": "stream",
     "text": [
      "train.py:train():187: Epoch 10 / 100 -\t\t Train loss: -0.017800942063331604\tVal loss: -0.017788292840123177\tVal accuracy: 0.7622448801994324 INFO\n"
     ]
    },
    {
     "name": "stderr",
     "output_type": "stream",
     "text": [
      "train.py:train():197: Early stopping triggered after 12 epochs:\n",
      "Train loss: -0.03399423509836197\n",
      "Val loss: -0.04373631998896599\n",
      "Val accuracy: 0.9632205367088318\n",
      "Epochs no improvement: 0 WARNING\n"
     ]
    },
    {
     "name": "stdout",
     "output_type": "stream",
     "text": [
      "Training complete: 0:00:09.756971\n",
      "Warning: not using the test data for evaluation, but the training data instead of ../data/raw/summarise_simulation/2024_11_21_160955/tabulated_mutation_info.csv\n"
     ]
    },
    {
     "name": "stdout",
     "output_type": "stream",
     "text": [
      "The R2 score is  0.9469610452651978\n",
      "The R2 score with weighted variance is  0.9469610452651978\n"
     ]
    },
    {
     "name": "stdout",
     "output_type": "stream",
     "text": [
      "Steady states found after 0 mins and 29 secs. Now calculating signal response\n"
     ]
    },
    {
     "name": "stdout",
     "output_type": "stream",
     "text": [
      "Signal response found after 0 mins and 27 secs.\n"
     ]
    },
    {
     "name": "stdout",
     "output_type": "stream",
     "text": [
      "data/03_cvae_multi/2025_02_08__22_15_29/cvae_scan/hpo_280\n"
     ]
    },
    {
     "name": "stderr",
     "output_type": "stream",
     "text": [
      "/tmp/ipykernel_1299886/1985358741.py:40: SettingWithCopyWarning: \n",
      "A value is trying to be set on a copy of a slice from a DataFrame\n",
      "\n",
      "See the caveats in the documentation: https://pandas.pydata.org/pandas-docs/stable/user_guide/indexing.html#returning-a-view-versus-a-copy\n",
      "  df_hpos_main.iloc[i] = pd.Series(hpos) if type(\n"
     ]
    },
    {
     "name": "stderr",
     "output_type": "stream",
     "text": [
      "train.py:train():187: Epoch 0 / 100 -\t\t Train loss: 0.15779881179332733\tVal loss: 0.06537824869155884\tVal accuracy: 0.3371949791908264 INFO\n"
     ]
    },
    {
     "name": "stderr",
     "output_type": "stream",
     "text": [
      "train.py:train():187: Epoch 10 / 100 -\t\t Train loss: -0.016428522765636444\tVal loss: -0.01699456386268139\tVal accuracy: 0.8930864334106445 INFO\n"
     ]
    },
    {
     "name": "stderr",
     "output_type": "stream",
     "text": [
      "train.py:train():187: Epoch 20 / 100 -\t\t Train loss: -0.019533764570951462\tVal loss: -0.01868247240781784\tVal accuracy: 0.9161671996116638 INFO\n"
     ]
    },
    {
     "name": "stderr",
     "output_type": "stream",
     "text": [
      "train.py:train():197: Early stopping triggered after 25 epochs:\n",
      "Train loss: -0.020584587007761\n",
      "Val loss: -0.020963074639439583\n",
      "Val accuracy: 0.9965307116508484\n",
      "Epochs no improvement: 0 WARNING\n"
     ]
    },
    {
     "name": "stdout",
     "output_type": "stream",
     "text": [
      "Training complete: 0:00:20.485362\n",
      "Warning: not using the test data for evaluation, but the training data instead of ../data/raw/summarise_simulation/2024_11_21_160955/tabulated_mutation_info.csv\n"
     ]
    },
    {
     "name": "stdout",
     "output_type": "stream",
     "text": [
      "The R2 score is  0.9758061766624451\n",
      "The R2 score with weighted variance is  0.9758061766624451\n"
     ]
    },
    {
     "name": "stdout",
     "output_type": "stream",
     "text": [
      "Steady states found after 0 mins and 24 secs. Now calculating signal response\n"
     ]
    },
    {
     "name": "stdout",
     "output_type": "stream",
     "text": [
      "Signal response found after 0 mins and 21 secs.\n"
     ]
    },
    {
     "name": "stdout",
     "output_type": "stream",
     "text": [
      "data/03_cvae_multi/2025_02_08__22_15_29/cvae_scan/hpo_281\n"
     ]
    },
    {
     "name": "stderr",
     "output_type": "stream",
     "text": [
      "/tmp/ipykernel_1299886/1985358741.py:40: SettingWithCopyWarning: \n",
      "A value is trying to be set on a copy of a slice from a DataFrame\n",
      "\n",
      "See the caveats in the documentation: https://pandas.pydata.org/pandas-docs/stable/user_guide/indexing.html#returning-a-view-versus-a-copy\n",
      "  df_hpos_main.iloc[i] = pd.Series(hpos) if type(\n"
     ]
    },
    {
     "name": "stderr",
     "output_type": "stream",
     "text": [
      "train.py:train():187: Epoch 0 / 100 -\t\t Train loss: 0.15779881179332733\tVal loss: 0.06537824869155884\tVal accuracy: 0.3371949791908264 INFO\n"
     ]
    },
    {
     "name": "stderr",
     "output_type": "stream",
     "text": [
      "train.py:train():187: Epoch 10 / 100 -\t\t Train loss: -0.016428522765636444\tVal loss: -0.01699456386268139\tVal accuracy: 0.8930864334106445 INFO\n"
     ]
    },
    {
     "name": "stderr",
     "output_type": "stream",
     "text": [
      "train.py:train():187: Epoch 20 / 100 -\t\t Train loss: -0.019533764570951462\tVal loss: -0.01868247240781784\tVal accuracy: 0.9161671996116638 INFO\n"
     ]
    },
    {
     "name": "stderr",
     "output_type": "stream",
     "text": [
      "train.py:train():197: Early stopping triggered after 25 epochs:\n",
      "Train loss: -0.020584587007761\n",
      "Val loss: -0.020963074639439583\n",
      "Val accuracy: 0.9965307116508484\n",
      "Epochs no improvement: 0 WARNING\n"
     ]
    },
    {
     "name": "stdout",
     "output_type": "stream",
     "text": [
      "Training complete: 0:00:34.059128\n",
      "Warning: not using the test data for evaluation, but the training data instead of ../data/raw/summarise_simulation/2024_11_21_160955/tabulated_mutation_info.csv\n"
     ]
    },
    {
     "name": "stdout",
     "output_type": "stream",
     "text": [
      "The R2 score is  0.9758061766624451\n",
      "The R2 score with weighted variance is  0.9758061766624451\n"
     ]
    },
    {
     "name": "stdout",
     "output_type": "stream",
     "text": [
      "Steady states found after 0 mins and 23 secs. Now calculating signal response\n"
     ]
    },
    {
     "name": "stdout",
     "output_type": "stream",
     "text": [
      "Signal response found after 0 mins and 21 secs.\n"
     ]
    },
    {
     "name": "stdout",
     "output_type": "stream",
     "text": [
      "data/03_cvae_multi/2025_02_08__22_15_29/cvae_scan/hpo_282\n"
     ]
    },
    {
     "name": "stderr",
     "output_type": "stream",
     "text": [
      "/tmp/ipykernel_1299886/1985358741.py:40: SettingWithCopyWarning: \n",
      "A value is trying to be set on a copy of a slice from a DataFrame\n",
      "\n",
      "See the caveats in the documentation: https://pandas.pydata.org/pandas-docs/stable/user_guide/indexing.html#returning-a-view-versus-a-copy\n",
      "  df_hpos_main.iloc[i] = pd.Series(hpos) if type(\n"
     ]
    },
    {
     "name": "stderr",
     "output_type": "stream",
     "text": [
      "train.py:train():187: Epoch 0 / 100 -\t\t Train loss: 0.15779881179332733\tVal loss: 0.06537824869155884\tVal accuracy: 0.3371949791908264 INFO\n"
     ]
    },
    {
     "name": "stderr",
     "output_type": "stream",
     "text": [
      "train.py:train():187: Epoch 10 / 100 -\t\t Train loss: -0.016428522765636444\tVal loss: -0.01699456386268139\tVal accuracy: 0.8930864334106445 INFO\n"
     ]
    },
    {
     "name": "stderr",
     "output_type": "stream",
     "text": [
      "train.py:train():187: Epoch 20 / 100 -\t\t Train loss: -0.019533764570951462\tVal loss: -0.01868247240781784\tVal accuracy: 0.9161671996116638 INFO\n"
     ]
    },
    {
     "name": "stderr",
     "output_type": "stream",
     "text": [
      "train.py:train():197: Early stopping triggered after 25 epochs:\n",
      "Train loss: -0.020584587007761\n",
      "Val loss: -0.020963074639439583\n",
      "Val accuracy: 0.9965307116508484\n",
      "Epochs no improvement: 0 WARNING\n"
     ]
    },
    {
     "name": "stdout",
     "output_type": "stream",
     "text": [
      "Training complete: 0:00:20.261738\n",
      "Warning: not using the test data for evaluation, but the training data instead of ../data/raw/summarise_simulation/2024_11_21_160955/tabulated_mutation_info.csv\n"
     ]
    },
    {
     "name": "stdout",
     "output_type": "stream",
     "text": [
      "The R2 score is  0.9758061766624451\n",
      "The R2 score with weighted variance is  0.9758061766624451\n"
     ]
    },
    {
     "name": "stdout",
     "output_type": "stream",
     "text": [
      "Steady states found after 0 mins and 24 secs. Now calculating signal response\n"
     ]
    },
    {
     "name": "stdout",
     "output_type": "stream",
     "text": [
      "Signal response found after 0 mins and 21 secs.\n"
     ]
    },
    {
     "name": "stdout",
     "output_type": "stream",
     "text": [
      "data/03_cvae_multi/2025_02_08__22_15_29/cvae_scan/hpo_283\n"
     ]
    },
    {
     "name": "stderr",
     "output_type": "stream",
     "text": [
      "/tmp/ipykernel_1299886/1985358741.py:40: SettingWithCopyWarning: \n",
      "A value is trying to be set on a copy of a slice from a DataFrame\n",
      "\n",
      "See the caveats in the documentation: https://pandas.pydata.org/pandas-docs/stable/user_guide/indexing.html#returning-a-view-versus-a-copy\n",
      "  df_hpos_main.iloc[i] = pd.Series(hpos) if type(\n"
     ]
    },
    {
     "name": "stderr",
     "output_type": "stream",
     "text": [
      "train.py:train():187: Epoch 0 / 100 -\t\t Train loss: 0.15779881179332733\tVal loss: 0.06537824869155884\tVal accuracy: 0.3371949791908264 INFO\n"
     ]
    },
    {
     "name": "stderr",
     "output_type": "stream",
     "text": [
      "train.py:train():187: Epoch 10 / 100 -\t\t Train loss: -0.016428522765636444\tVal loss: -0.01699456386268139\tVal accuracy: 0.8930864334106445 INFO\n"
     ]
    },
    {
     "name": "stderr",
     "output_type": "stream",
     "text": [
      "train.py:train():187: Epoch 20 / 100 -\t\t Train loss: -0.019533764570951462\tVal loss: -0.01868247240781784\tVal accuracy: 0.9161671996116638 INFO\n"
     ]
    },
    {
     "name": "stderr",
     "output_type": "stream",
     "text": [
      "train.py:train():197: Early stopping triggered after 25 epochs:\n",
      "Train loss: -0.020584587007761\n",
      "Val loss: -0.020963074639439583\n",
      "Val accuracy: 0.9965307116508484\n",
      "Epochs no improvement: 0 WARNING\n"
     ]
    },
    {
     "name": "stdout",
     "output_type": "stream",
     "text": [
      "Training complete: 0:00:20.087953\n",
      "Warning: not using the test data for evaluation, but the training data instead of ../data/raw/summarise_simulation/2024_11_21_160955/tabulated_mutation_info.csv\n"
     ]
    },
    {
     "name": "stdout",
     "output_type": "stream",
     "text": [
      "The R2 score is  0.9758061766624451\n",
      "The R2 score with weighted variance is  0.9758061766624451\n"
     ]
    },
    {
     "name": "stdout",
     "output_type": "stream",
     "text": [
      "Steady states found after 0 mins and 23 secs. Now calculating signal response\n"
     ]
    },
    {
     "name": "stdout",
     "output_type": "stream",
     "text": [
      "Signal response found after 0 mins and 21 secs.\n"
     ]
    },
    {
     "name": "stdout",
     "output_type": "stream",
     "text": [
      "data/03_cvae_multi/2025_02_08__22_15_29/cvae_scan/hpo_284\n"
     ]
    },
    {
     "name": "stderr",
     "output_type": "stream",
     "text": [
      "/tmp/ipykernel_1299886/1985358741.py:40: SettingWithCopyWarning: \n",
      "A value is trying to be set on a copy of a slice from a DataFrame\n",
      "\n",
      "See the caveats in the documentation: https://pandas.pydata.org/pandas-docs/stable/user_guide/indexing.html#returning-a-view-versus-a-copy\n",
      "  df_hpos_main.iloc[i] = pd.Series(hpos) if type(\n"
     ]
    },
    {
     "name": "stderr",
     "output_type": "stream",
     "text": [
      "train.py:train():187: Epoch 0 / 100 -\t\t Train loss: 0.15779881179332733\tVal loss: 0.06537824869155884\tVal accuracy: 0.3371949791908264 INFO\n"
     ]
    },
    {
     "name": "stderr",
     "output_type": "stream",
     "text": [
      "train.py:train():187: Epoch 10 / 100 -\t\t Train loss: -0.016428522765636444\tVal loss: -0.01699456386268139\tVal accuracy: 0.8930864334106445 INFO\n"
     ]
    },
    {
     "name": "stderr",
     "output_type": "stream",
     "text": [
      "train.py:train():187: Epoch 20 / 100 -\t\t Train loss: -0.019533764570951462\tVal loss: -0.01868247240781784\tVal accuracy: 0.9161671996116638 INFO\n"
     ]
    },
    {
     "name": "stderr",
     "output_type": "stream",
     "text": [
      "train.py:train():197: Early stopping triggered after 25 epochs:\n",
      "Train loss: -0.020584587007761\n",
      "Val loss: -0.020963074639439583\n",
      "Val accuracy: 0.9965307116508484\n",
      "Epochs no improvement: 0 WARNING\n"
     ]
    },
    {
     "name": "stdout",
     "output_type": "stream",
     "text": [
      "Training complete: 0:00:20.020494\n",
      "Warning: not using the test data for evaluation, but the training data instead of ../data/raw/summarise_simulation/2024_11_21_160955/tabulated_mutation_info.csv\n"
     ]
    },
    {
     "name": "stdout",
     "output_type": "stream",
     "text": [
      "The R2 score is  0.9758061766624451\n",
      "The R2 score with weighted variance is  0.9758061766624451\n"
     ]
    },
    {
     "name": "stdout",
     "output_type": "stream",
     "text": [
      "Steady states found after 0 mins and 24 secs. Now calculating signal response\n"
     ]
    },
    {
     "name": "stdout",
     "output_type": "stream",
     "text": [
      "Signal response found after 0 mins and 21 secs.\n"
     ]
    },
    {
     "name": "stdout",
     "output_type": "stream",
     "text": [
      "data/03_cvae_multi/2025_02_08__22_15_29/cvae_scan/hpo_285\n"
     ]
    },
    {
     "name": "stderr",
     "output_type": "stream",
     "text": [
      "/tmp/ipykernel_1299886/1985358741.py:40: SettingWithCopyWarning: \n",
      "A value is trying to be set on a copy of a slice from a DataFrame\n",
      "\n",
      "See the caveats in the documentation: https://pandas.pydata.org/pandas-docs/stable/user_guide/indexing.html#returning-a-view-versus-a-copy\n",
      "  df_hpos_main.iloc[i] = pd.Series(hpos) if type(\n"
     ]
    },
    {
     "name": "stderr",
     "output_type": "stream",
     "text": [
      "train.py:train():187: Epoch 0 / 100 -\t\t Train loss: 0.15779881179332733\tVal loss: 0.06537824869155884\tVal accuracy: 0.3371949791908264 INFO\n"
     ]
    },
    {
     "name": "stderr",
     "output_type": "stream",
     "text": [
      "train.py:train():187: Epoch 10 / 100 -\t\t Train loss: -0.016428522765636444\tVal loss: -0.01699456386268139\tVal accuracy: 0.8930864334106445 INFO\n"
     ]
    },
    {
     "name": "stderr",
     "output_type": "stream",
     "text": [
      "train.py:train():187: Epoch 20 / 100 -\t\t Train loss: -0.019533764570951462\tVal loss: -0.01868247240781784\tVal accuracy: 0.9161671996116638 INFO\n"
     ]
    },
    {
     "name": "stderr",
     "output_type": "stream",
     "text": [
      "train.py:train():197: Early stopping triggered after 25 epochs:\n",
      "Train loss: -0.020584587007761\n",
      "Val loss: -0.020963074639439583\n",
      "Val accuracy: 0.9965307116508484\n",
      "Epochs no improvement: 0 WARNING\n"
     ]
    },
    {
     "name": "stdout",
     "output_type": "stream",
     "text": [
      "Training complete: 0:00:20.115186\n",
      "Warning: not using the test data for evaluation, but the training data instead of ../data/raw/summarise_simulation/2024_11_21_160955/tabulated_mutation_info.csv\n"
     ]
    },
    {
     "name": "stdout",
     "output_type": "stream",
     "text": [
      "The R2 score is  0.9758061766624451\n",
      "The R2 score with weighted variance is  0.9758061766624451\n"
     ]
    },
    {
     "name": "stdout",
     "output_type": "stream",
     "text": [
      "Steady states found after 0 mins and 24 secs. Now calculating signal response\n"
     ]
    },
    {
     "name": "stdout",
     "output_type": "stream",
     "text": [
      "Signal response found after 0 mins and 21 secs.\n"
     ]
    },
    {
     "name": "stdout",
     "output_type": "stream",
     "text": [
      "data/03_cvae_multi/2025_02_08__22_15_29/cvae_scan/hpo_286\n"
     ]
    },
    {
     "name": "stderr",
     "output_type": "stream",
     "text": [
      "/tmp/ipykernel_1299886/1985358741.py:40: SettingWithCopyWarning: \n",
      "A value is trying to be set on a copy of a slice from a DataFrame\n",
      "\n",
      "See the caveats in the documentation: https://pandas.pydata.org/pandas-docs/stable/user_guide/indexing.html#returning-a-view-versus-a-copy\n",
      "  df_hpos_main.iloc[i] = pd.Series(hpos) if type(\n"
     ]
    },
    {
     "name": "stderr",
     "output_type": "stream",
     "text": [
      "train.py:train():187: Epoch 0 / 100 -\t\t Train loss: 0.15779881179332733\tVal loss: 0.06537824869155884\tVal accuracy: 0.3371949791908264 INFO\n"
     ]
    },
    {
     "name": "stderr",
     "output_type": "stream",
     "text": [
      "train.py:train():187: Epoch 10 / 100 -\t\t Train loss: -0.016428522765636444\tVal loss: -0.01699456386268139\tVal accuracy: 0.8930864334106445 INFO\n"
     ]
    },
    {
     "name": "stderr",
     "output_type": "stream",
     "text": [
      "train.py:train():197: Early stopping triggered after 12 epochs:\n",
      "Train loss: -0.017314566299319267\n",
      "Val loss: -0.0179197546094656\n",
      "Val accuracy: 0.915783703327179\n",
      "Epochs no improvement: 0 WARNING\n"
     ]
    },
    {
     "name": "stdout",
     "output_type": "stream",
     "text": [
      "Training complete: 0:00:09.679925\n",
      "Warning: not using the test data for evaluation, but the training data instead of ../data/raw/summarise_simulation/2024_11_21_160955/tabulated_mutation_info.csv\n"
     ]
    },
    {
     "name": "stdout",
     "output_type": "stream",
     "text": [
      "The R2 score is  0.9130368232727051\n",
      "The R2 score with weighted variance is  0.9130368232727051\n"
     ]
    },
    {
     "name": "stdout",
     "output_type": "stream",
     "text": [
      "Steady states found after 0 mins and 26 secs. Now calculating signal response\n"
     ]
    },
    {
     "name": "stdout",
     "output_type": "stream",
     "text": [
      "Signal response found after 0 mins and 25 secs.\n"
     ]
    },
    {
     "name": "stdout",
     "output_type": "stream",
     "text": [
      "data/03_cvae_multi/2025_02_08__22_15_29/cvae_scan/hpo_287\n"
     ]
    },
    {
     "name": "stderr",
     "output_type": "stream",
     "text": [
      "/tmp/ipykernel_1299886/1985358741.py:40: SettingWithCopyWarning: \n",
      "A value is trying to be set on a copy of a slice from a DataFrame\n",
      "\n",
      "See the caveats in the documentation: https://pandas.pydata.org/pandas-docs/stable/user_guide/indexing.html#returning-a-view-versus-a-copy\n",
      "  df_hpos_main.iloc[i] = pd.Series(hpos) if type(\n"
     ]
    },
    {
     "name": "stderr",
     "output_type": "stream",
     "text": [
      "train.py:train():187: Epoch 0 / 100 -\t\t Train loss: 0.15779881179332733\tVal loss: 0.06537824869155884\tVal accuracy: 0.3371949791908264 INFO\n"
     ]
    },
    {
     "name": "stderr",
     "output_type": "stream",
     "text": [
      "train.py:train():187: Epoch 10 / 100 -\t\t Train loss: -0.016428522765636444\tVal loss: -0.01699456386268139\tVal accuracy: 0.8930864334106445 INFO\n"
     ]
    },
    {
     "name": "stderr",
     "output_type": "stream",
     "text": [
      "train.py:train():197: Early stopping triggered after 12 epochs:\n",
      "Train loss: -0.017314566299319267\n",
      "Val loss: -0.0179197546094656\n",
      "Val accuracy: 0.915783703327179\n",
      "Epochs no improvement: 0 WARNING\n"
     ]
    },
    {
     "name": "stdout",
     "output_type": "stream",
     "text": [
      "Training complete: 0:00:09.609134\n",
      "Warning: not using the test data for evaluation, but the training data instead of ../data/raw/summarise_simulation/2024_11_21_160955/tabulated_mutation_info.csv\n"
     ]
    },
    {
     "name": "stdout",
     "output_type": "stream",
     "text": [
      "The R2 score is  0.9130368232727051\n",
      "The R2 score with weighted variance is  0.9130368232727051\n"
     ]
    },
    {
     "name": "stdout",
     "output_type": "stream",
     "text": [
      "Steady states found after 0 mins and 25 secs. Now calculating signal response\n"
     ]
    },
    {
     "name": "stdout",
     "output_type": "stream",
     "text": [
      "Signal response found after 0 mins and 24 secs.\n"
     ]
    },
    {
     "name": "stdout",
     "output_type": "stream",
     "text": [
      "data/03_cvae_multi/2025_02_08__22_15_29/cvae_scan/hpo_288\n"
     ]
    },
    {
     "name": "stderr",
     "output_type": "stream",
     "text": [
      "/tmp/ipykernel_1299886/1985358741.py:40: SettingWithCopyWarning: \n",
      "A value is trying to be set on a copy of a slice from a DataFrame\n",
      "\n",
      "See the caveats in the documentation: https://pandas.pydata.org/pandas-docs/stable/user_guide/indexing.html#returning-a-view-versus-a-copy\n",
      "  df_hpos_main.iloc[i] = pd.Series(hpos) if type(\n"
     ]
    },
    {
     "name": "stderr",
     "output_type": "stream",
     "text": [
      "train.py:train():187: Epoch 0 / 100 -\t\t Train loss: 0.15779881179332733\tVal loss: 0.06537824869155884\tVal accuracy: 0.3371949791908264 INFO\n"
     ]
    },
    {
     "name": "stderr",
     "output_type": "stream",
     "text": [
      "train.py:train():187: Epoch 10 / 100 -\t\t Train loss: -0.016428522765636444\tVal loss: -0.01699456386268139\tVal accuracy: 0.8930864334106445 INFO\n"
     ]
    },
    {
     "name": "stderr",
     "output_type": "stream",
     "text": [
      "train.py:train():197: Early stopping triggered after 12 epochs:\n",
      "Train loss: -0.017314566299319267\n",
      "Val loss: -0.0179197546094656\n",
      "Val accuracy: 0.915783703327179\n",
      "Epochs no improvement: 0 WARNING\n"
     ]
    },
    {
     "name": "stdout",
     "output_type": "stream",
     "text": [
      "Training complete: 0:00:09.747965\n",
      "Warning: not using the test data for evaluation, but the training data instead of ../data/raw/summarise_simulation/2024_11_21_160955/tabulated_mutation_info.csv\n"
     ]
    },
    {
     "name": "stdout",
     "output_type": "stream",
     "text": [
      "The R2 score is  0.9130368232727051\n",
      "The R2 score with weighted variance is  0.9130368232727051\n"
     ]
    },
    {
     "name": "stdout",
     "output_type": "stream",
     "text": [
      "Steady states found after 0 mins and 26 secs. Now calculating signal response\n"
     ]
    },
    {
     "name": "stdout",
     "output_type": "stream",
     "text": [
      "Signal response found after 0 mins and 24 secs.\n"
     ]
    },
    {
     "name": "stdout",
     "output_type": "stream",
     "text": [
      "data/03_cvae_multi/2025_02_08__22_15_29/cvae_scan/hpo_289\n"
     ]
    },
    {
     "name": "stderr",
     "output_type": "stream",
     "text": [
      "/tmp/ipykernel_1299886/1985358741.py:40: SettingWithCopyWarning: \n",
      "A value is trying to be set on a copy of a slice from a DataFrame\n",
      "\n",
      "See the caveats in the documentation: https://pandas.pydata.org/pandas-docs/stable/user_guide/indexing.html#returning-a-view-versus-a-copy\n",
      "  df_hpos_main.iloc[i] = pd.Series(hpos) if type(\n"
     ]
    },
    {
     "name": "stderr",
     "output_type": "stream",
     "text": [
      "train.py:train():187: Epoch 0 / 100 -\t\t Train loss: 0.15779881179332733\tVal loss: 0.06537824869155884\tVal accuracy: 0.3371949791908264 INFO\n"
     ]
    },
    {
     "name": "stderr",
     "output_type": "stream",
     "text": [
      "train.py:train():187: Epoch 10 / 100 -\t\t Train loss: -0.016428522765636444\tVal loss: -0.01699456386268139\tVal accuracy: 0.8930864334106445 INFO\n"
     ]
    },
    {
     "name": "stderr",
     "output_type": "stream",
     "text": [
      "train.py:train():197: Early stopping triggered after 12 epochs:\n",
      "Train loss: -0.017314566299319267\n",
      "Val loss: -0.0179197546094656\n",
      "Val accuracy: 0.915783703327179\n",
      "Epochs no improvement: 0 WARNING\n"
     ]
    },
    {
     "name": "stdout",
     "output_type": "stream",
     "text": [
      "Training complete: 0:00:09.706916\n",
      "Warning: not using the test data for evaluation, but the training data instead of ../data/raw/summarise_simulation/2024_11_21_160955/tabulated_mutation_info.csv\n"
     ]
    },
    {
     "name": "stdout",
     "output_type": "stream",
     "text": [
      "The R2 score is  0.9130368232727051\n",
      "The R2 score with weighted variance is  0.9130368232727051\n"
     ]
    },
    {
     "name": "stdout",
     "output_type": "stream",
     "text": [
      "Steady states found after 0 mins and 26 secs. Now calculating signal response\n"
     ]
    },
    {
     "name": "stdout",
     "output_type": "stream",
     "text": [
      "Signal response found after 0 mins and 24 secs.\n"
     ]
    },
    {
     "name": "stdout",
     "output_type": "stream",
     "text": [
      "data/03_cvae_multi/2025_02_08__22_15_29/cvae_scan/hpo_290\n"
     ]
    },
    {
     "name": "stderr",
     "output_type": "stream",
     "text": [
      "/tmp/ipykernel_1299886/1985358741.py:40: SettingWithCopyWarning: \n",
      "A value is trying to be set on a copy of a slice from a DataFrame\n",
      "\n",
      "See the caveats in the documentation: https://pandas.pydata.org/pandas-docs/stable/user_guide/indexing.html#returning-a-view-versus-a-copy\n",
      "  df_hpos_main.iloc[i] = pd.Series(hpos) if type(\n"
     ]
    },
    {
     "name": "stderr",
     "output_type": "stream",
     "text": [
      "train.py:train():187: Epoch 0 / 100 -\t\t Train loss: 0.15779881179332733\tVal loss: 0.06537824869155884\tVal accuracy: 0.3371949791908264 INFO\n"
     ]
    },
    {
     "name": "stderr",
     "output_type": "stream",
     "text": [
      "train.py:train():187: Epoch 10 / 100 -\t\t Train loss: -0.016428522765636444\tVal loss: -0.01699456386268139\tVal accuracy: 0.8930864334106445 INFO\n"
     ]
    },
    {
     "name": "stderr",
     "output_type": "stream",
     "text": [
      "train.py:train():197: Early stopping triggered after 12 epochs:\n",
      "Train loss: -0.017314566299319267\n",
      "Val loss: -0.0179197546094656\n",
      "Val accuracy: 0.915783703327179\n",
      "Epochs no improvement: 0 WARNING\n"
     ]
    },
    {
     "name": "stdout",
     "output_type": "stream",
     "text": [
      "Training complete: 0:00:09.778383\n",
      "Warning: not using the test data for evaluation, but the training data instead of ../data/raw/summarise_simulation/2024_11_21_160955/tabulated_mutation_info.csv\n"
     ]
    },
    {
     "name": "stdout",
     "output_type": "stream",
     "text": [
      "The R2 score is  0.9130368232727051\n",
      "The R2 score with weighted variance is  0.9130368232727051\n"
     ]
    },
    {
     "name": "stdout",
     "output_type": "stream",
     "text": [
      "Steady states found after 0 mins and 25 secs. Now calculating signal response\n"
     ]
    },
    {
     "name": "stdout",
     "output_type": "stream",
     "text": [
      "Signal response found after 0 mins and 24 secs.\n"
     ]
    },
    {
     "name": "stdout",
     "output_type": "stream",
     "text": [
      "data/03_cvae_multi/2025_02_08__22_15_29/cvae_scan/hpo_291\n"
     ]
    },
    {
     "name": "stderr",
     "output_type": "stream",
     "text": [
      "/tmp/ipykernel_1299886/1985358741.py:40: SettingWithCopyWarning: \n",
      "A value is trying to be set on a copy of a slice from a DataFrame\n",
      "\n",
      "See the caveats in the documentation: https://pandas.pydata.org/pandas-docs/stable/user_guide/indexing.html#returning-a-view-versus-a-copy\n",
      "  df_hpos_main.iloc[i] = pd.Series(hpos) if type(\n"
     ]
    },
    {
     "name": "stderr",
     "output_type": "stream",
     "text": [
      "train.py:train():187: Epoch 0 / 100 -\t\t Train loss: 0.15779881179332733\tVal loss: 0.06537824869155884\tVal accuracy: 0.3371949791908264 INFO\n"
     ]
    },
    {
     "name": "stderr",
     "output_type": "stream",
     "text": [
      "train.py:train():187: Epoch 10 / 100 -\t\t Train loss: -0.016428522765636444\tVal loss: -0.01699456386268139\tVal accuracy: 0.8930864334106445 INFO\n"
     ]
    },
    {
     "name": "stderr",
     "output_type": "stream",
     "text": [
      "train.py:train():197: Early stopping triggered after 12 epochs:\n",
      "Train loss: -0.017314566299319267\n",
      "Val loss: -0.0179197546094656\n",
      "Val accuracy: 0.915783703327179\n",
      "Epochs no improvement: 0 WARNING\n"
     ]
    },
    {
     "name": "stdout",
     "output_type": "stream",
     "text": [
      "Training complete: 0:00:09.704134\n",
      "Warning: not using the test data for evaluation, but the training data instead of ../data/raw/summarise_simulation/2024_11_21_160955/tabulated_mutation_info.csv\n"
     ]
    },
    {
     "name": "stdout",
     "output_type": "stream",
     "text": [
      "The R2 score is  0.9130368232727051\n",
      "The R2 score with weighted variance is  0.9130368232727051\n"
     ]
    },
    {
     "name": "stdout",
     "output_type": "stream",
     "text": [
      "Steady states found after 0 mins and 25 secs. Now calculating signal response\n"
     ]
    },
    {
     "name": "stdout",
     "output_type": "stream",
     "text": [
      "Signal response found after 0 mins and 24 secs.\n"
     ]
    },
    {
     "name": "stdout",
     "output_type": "stream",
     "text": [
      "data/03_cvae_multi/2025_02_08__22_15_29/cvae_scan/hpo_292\n"
     ]
    },
    {
     "name": "stderr",
     "output_type": "stream",
     "text": [
      "/tmp/ipykernel_1299886/1985358741.py:40: SettingWithCopyWarning: \n",
      "A value is trying to be set on a copy of a slice from a DataFrame\n",
      "\n",
      "See the caveats in the documentation: https://pandas.pydata.org/pandas-docs/stable/user_guide/indexing.html#returning-a-view-versus-a-copy\n",
      "  df_hpos_main.iloc[i] = pd.Series(hpos) if type(\n"
     ]
    },
    {
     "name": "stderr",
     "output_type": "stream",
     "text": [
      "train.py:train():187: Epoch 0 / 100 -\t\t Train loss: 0.16883546113967896\tVal loss: 0.07718240469694138\tVal accuracy: 0.33735549449920654 INFO\n"
     ]
    },
    {
     "name": "stderr",
     "output_type": "stream",
     "text": [
      "train.py:train():187: Epoch 10 / 100 -\t\t Train loss: 0.007145437877625227\tVal loss: 0.006749055813997984\tVal accuracy: 0.8843374848365784 INFO\n"
     ]
    },
    {
     "name": "stderr",
     "output_type": "stream",
     "text": [
      "train.py:train():187: Epoch 20 / 100 -\t\t Train loss: -0.00700882775709033\tVal loss: -0.007119163870811462\tVal accuracy: 0.9471318125724792 INFO\n"
     ]
    },
    {
     "name": "stderr",
     "output_type": "stream",
     "text": [
      "train.py:train():187: Epoch 30 / 100 -\t\t Train loss: -0.008123409934341908\tVal loss: -0.007823371328413486\tVal accuracy: 0.9686340093612671 INFO\n"
     ]
    },
    {
     "name": "stderr",
     "output_type": "stream",
     "text": [
      "train.py:train():197: Early stopping triggered after 37 epochs:\n",
      "Train loss: -0.008575369603931904\n",
      "Val loss: -0.008653326891362667\n",
      "Val accuracy: 0.9959955811500549\n",
      "Epochs no improvement: 1 WARNING\n"
     ]
    },
    {
     "name": "stdout",
     "output_type": "stream",
     "text": [
      "Training complete: 0:00:29.894861\n",
      "Warning: not using the test data for evaluation, but the training data instead of ../data/raw/summarise_simulation/2024_11_21_160955/tabulated_mutation_info.csv\n"
     ]
    },
    {
     "name": "stdout",
     "output_type": "stream",
     "text": [
      "The R2 score is  0.9751905202865601\n",
      "The R2 score with weighted variance is  0.9751905798912048\n"
     ]
    },
    {
     "name": "stdout",
     "output_type": "stream",
     "text": [
      "Steady states found after 0 mins and 26 secs. Now calculating signal response\n"
     ]
    },
    {
     "name": "stdout",
     "output_type": "stream",
     "text": [
      "Signal response found after 0 mins and 23 secs.\n"
     ]
    },
    {
     "name": "stdout",
     "output_type": "stream",
     "text": [
      "data/03_cvae_multi/2025_02_08__22_15_29/cvae_scan/hpo_293\n"
     ]
    },
    {
     "name": "stderr",
     "output_type": "stream",
     "text": [
      "/tmp/ipykernel_1299886/1985358741.py:40: SettingWithCopyWarning: \n",
      "A value is trying to be set on a copy of a slice from a DataFrame\n",
      "\n",
      "See the caveats in the documentation: https://pandas.pydata.org/pandas-docs/stable/user_guide/indexing.html#returning-a-view-versus-a-copy\n",
      "  df_hpos_main.iloc[i] = pd.Series(hpos) if type(\n"
     ]
    },
    {
     "name": "stderr",
     "output_type": "stream",
     "text": [
      "train.py:train():187: Epoch 0 / 100 -\t\t Train loss: 0.16883546113967896\tVal loss: 0.07718240469694138\tVal accuracy: 0.33735549449920654 INFO\n"
     ]
    },
    {
     "name": "stderr",
     "output_type": "stream",
     "text": [
      "train.py:train():187: Epoch 10 / 100 -\t\t Train loss: 0.007145437877625227\tVal loss: 0.006749055813997984\tVal accuracy: 0.8843374848365784 INFO\n"
     ]
    },
    {
     "name": "stderr",
     "output_type": "stream",
     "text": [
      "train.py:train():187: Epoch 20 / 100 -\t\t Train loss: -0.00700882775709033\tVal loss: -0.007119163870811462\tVal accuracy: 0.9471318125724792 INFO\n"
     ]
    },
    {
     "name": "stderr",
     "output_type": "stream",
     "text": [
      "train.py:train():187: Epoch 30 / 100 -\t\t Train loss: -0.008123409934341908\tVal loss: -0.007823371328413486\tVal accuracy: 0.9686340093612671 INFO\n"
     ]
    },
    {
     "name": "stderr",
     "output_type": "stream",
     "text": [
      "train.py:train():197: Early stopping triggered after 37 epochs:\n",
      "Train loss: -0.008575369603931904\n",
      "Val loss: -0.008653326891362667\n",
      "Val accuracy: 0.9959955811500549\n",
      "Epochs no improvement: 1 WARNING\n"
     ]
    },
    {
     "name": "stdout",
     "output_type": "stream",
     "text": [
      "Training complete: 0:00:30.144313\n",
      "Warning: not using the test data for evaluation, but the training data instead of ../data/raw/summarise_simulation/2024_11_21_160955/tabulated_mutation_info.csv\n"
     ]
    },
    {
     "name": "stdout",
     "output_type": "stream",
     "text": [
      "The R2 score is  0.9751905202865601\n",
      "The R2 score with weighted variance is  0.9751905798912048\n"
     ]
    },
    {
     "name": "stdout",
     "output_type": "stream",
     "text": [
      "Steady states found after 0 mins and 26 secs. Now calculating signal response\n"
     ]
    },
    {
     "name": "stdout",
     "output_type": "stream",
     "text": [
      "Signal response found after 0 mins and 24 secs.\n"
     ]
    },
    {
     "name": "stdout",
     "output_type": "stream",
     "text": [
      "data/03_cvae_multi/2025_02_08__22_15_29/cvae_scan/hpo_294\n"
     ]
    },
    {
     "name": "stderr",
     "output_type": "stream",
     "text": [
      "/tmp/ipykernel_1299886/1985358741.py:40: SettingWithCopyWarning: \n",
      "A value is trying to be set on a copy of a slice from a DataFrame\n",
      "\n",
      "See the caveats in the documentation: https://pandas.pydata.org/pandas-docs/stable/user_guide/indexing.html#returning-a-view-versus-a-copy\n",
      "  df_hpos_main.iloc[i] = pd.Series(hpos) if type(\n"
     ]
    },
    {
     "name": "stderr",
     "output_type": "stream",
     "text": [
      "train.py:train():187: Epoch 0 / 100 -\t\t Train loss: 0.16883546113967896\tVal loss: 0.07718240469694138\tVal accuracy: 0.33735549449920654 INFO\n"
     ]
    },
    {
     "name": "stderr",
     "output_type": "stream",
     "text": [
      "train.py:train():187: Epoch 10 / 100 -\t\t Train loss: 0.007145437877625227\tVal loss: 0.006749055813997984\tVal accuracy: 0.8843374848365784 INFO\n"
     ]
    },
    {
     "name": "stderr",
     "output_type": "stream",
     "text": [
      "train.py:train():187: Epoch 20 / 100 -\t\t Train loss: -0.00700882775709033\tVal loss: -0.007119163870811462\tVal accuracy: 0.9471318125724792 INFO\n"
     ]
    },
    {
     "name": "stderr",
     "output_type": "stream",
     "text": [
      "train.py:train():187: Epoch 30 / 100 -\t\t Train loss: -0.008123409934341908\tVal loss: -0.007823371328413486\tVal accuracy: 0.9686340093612671 INFO\n"
     ]
    },
    {
     "name": "stderr",
     "output_type": "stream",
     "text": [
      "train.py:train():197: Early stopping triggered after 37 epochs:\n",
      "Train loss: -0.008575369603931904\n",
      "Val loss: -0.008653326891362667\n",
      "Val accuracy: 0.9959955811500549\n",
      "Epochs no improvement: 1 WARNING\n"
     ]
    },
    {
     "name": "stdout",
     "output_type": "stream",
     "text": [
      "Training complete: 0:00:29.980659\n",
      "Warning: not using the test data for evaluation, but the training data instead of ../data/raw/summarise_simulation/2024_11_21_160955/tabulated_mutation_info.csv\n"
     ]
    },
    {
     "name": "stdout",
     "output_type": "stream",
     "text": [
      "The R2 score is  0.9751905202865601\n",
      "The R2 score with weighted variance is  0.9751905798912048\n"
     ]
    },
    {
     "name": "stdout",
     "output_type": "stream",
     "text": [
      "Steady states found after 0 mins and 26 secs. Now calculating signal response\n"
     ]
    },
    {
     "name": "stdout",
     "output_type": "stream",
     "text": [
      "Signal response found after 0 mins and 23 secs.\n"
     ]
    },
    {
     "name": "stdout",
     "output_type": "stream",
     "text": [
      "data/03_cvae_multi/2025_02_08__22_15_29/cvae_scan/hpo_295\n"
     ]
    },
    {
     "name": "stderr",
     "output_type": "stream",
     "text": [
      "/tmp/ipykernel_1299886/1985358741.py:40: SettingWithCopyWarning: \n",
      "A value is trying to be set on a copy of a slice from a DataFrame\n",
      "\n",
      "See the caveats in the documentation: https://pandas.pydata.org/pandas-docs/stable/user_guide/indexing.html#returning-a-view-versus-a-copy\n",
      "  df_hpos_main.iloc[i] = pd.Series(hpos) if type(\n"
     ]
    },
    {
     "name": "stderr",
     "output_type": "stream",
     "text": [
      "train.py:train():187: Epoch 0 / 100 -\t\t Train loss: 0.16883546113967896\tVal loss: 0.07718240469694138\tVal accuracy: 0.33735549449920654 INFO\n"
     ]
    },
    {
     "name": "stderr",
     "output_type": "stream",
     "text": [
      "train.py:train():187: Epoch 10 / 100 -\t\t Train loss: 0.007145437877625227\tVal loss: 0.006749055813997984\tVal accuracy: 0.8843374848365784 INFO\n"
     ]
    },
    {
     "name": "stderr",
     "output_type": "stream",
     "text": [
      "train.py:train():187: Epoch 20 / 100 -\t\t Train loss: -0.00700882775709033\tVal loss: -0.007119163870811462\tVal accuracy: 0.9471318125724792 INFO\n"
     ]
    },
    {
     "name": "stderr",
     "output_type": "stream",
     "text": [
      "train.py:train():187: Epoch 30 / 100 -\t\t Train loss: -0.008123409934341908\tVal loss: -0.007823371328413486\tVal accuracy: 0.9686340093612671 INFO\n"
     ]
    },
    {
     "name": "stderr",
     "output_type": "stream",
     "text": [
      "train.py:train():197: Early stopping triggered after 37 epochs:\n",
      "Train loss: -0.008575369603931904\n",
      "Val loss: -0.008653326891362667\n",
      "Val accuracy: 0.9959955811500549\n",
      "Epochs no improvement: 1 WARNING\n"
     ]
    },
    {
     "name": "stdout",
     "output_type": "stream",
     "text": [
      "Training complete: 0:00:30.661584\n",
      "Warning: not using the test data for evaluation, but the training data instead of ../data/raw/summarise_simulation/2024_11_21_160955/tabulated_mutation_info.csv\n"
     ]
    },
    {
     "name": "stdout",
     "output_type": "stream",
     "text": [
      "The R2 score is  0.9751905202865601\n",
      "The R2 score with weighted variance is  0.9751905798912048\n"
     ]
    },
    {
     "name": "stdout",
     "output_type": "stream",
     "text": [
      "Steady states found after 0 mins and 27 secs. Now calculating signal response\n"
     ]
    },
    {
     "name": "stdout",
     "output_type": "stream",
     "text": [
      "Signal response found after 0 mins and 23 secs.\n"
     ]
    },
    {
     "name": "stdout",
     "output_type": "stream",
     "text": [
      "data/03_cvae_multi/2025_02_08__22_15_29/cvae_scan/hpo_296\n"
     ]
    },
    {
     "name": "stderr",
     "output_type": "stream",
     "text": [
      "/tmp/ipykernel_1299886/1985358741.py:40: SettingWithCopyWarning: \n",
      "A value is trying to be set on a copy of a slice from a DataFrame\n",
      "\n",
      "See the caveats in the documentation: https://pandas.pydata.org/pandas-docs/stable/user_guide/indexing.html#returning-a-view-versus-a-copy\n",
      "  df_hpos_main.iloc[i] = pd.Series(hpos) if type(\n"
     ]
    },
    {
     "name": "stderr",
     "output_type": "stream",
     "text": [
      "train.py:train():187: Epoch 0 / 100 -\t\t Train loss: 0.16883546113967896\tVal loss: 0.07718240469694138\tVal accuracy: 0.33735549449920654 INFO\n"
     ]
    },
    {
     "name": "stderr",
     "output_type": "stream",
     "text": [
      "train.py:train():187: Epoch 10 / 100 -\t\t Train loss: 0.007145437877625227\tVal loss: 0.006749055813997984\tVal accuracy: 0.8843374848365784 INFO\n"
     ]
    },
    {
     "name": "stderr",
     "output_type": "stream",
     "text": [
      "train.py:train():187: Epoch 20 / 100 -\t\t Train loss: -0.00700882775709033\tVal loss: -0.007119163870811462\tVal accuracy: 0.9471318125724792 INFO\n"
     ]
    },
    {
     "name": "stderr",
     "output_type": "stream",
     "text": [
      "train.py:train():187: Epoch 30 / 100 -\t\t Train loss: -0.008123409934341908\tVal loss: -0.007823371328413486\tVal accuracy: 0.9686340093612671 INFO\n"
     ]
    },
    {
     "name": "stderr",
     "output_type": "stream",
     "text": [
      "train.py:train():197: Early stopping triggered after 37 epochs:\n",
      "Train loss: -0.008575369603931904\n",
      "Val loss: -0.008653326891362667\n",
      "Val accuracy: 0.9959955811500549\n",
      "Epochs no improvement: 1 WARNING\n"
     ]
    },
    {
     "name": "stdout",
     "output_type": "stream",
     "text": [
      "Training complete: 0:00:45.887402\n",
      "Warning: not using the test data for evaluation, but the training data instead of ../data/raw/summarise_simulation/2024_11_21_160955/tabulated_mutation_info.csv\n"
     ]
    },
    {
     "name": "stdout",
     "output_type": "stream",
     "text": [
      "The R2 score is  0.9751905202865601\n",
      "The R2 score with weighted variance is  0.9751905798912048\n"
     ]
    },
    {
     "name": "stdout",
     "output_type": "stream",
     "text": [
      "Steady states found after 0 mins and 26 secs. Now calculating signal response\n"
     ]
    },
    {
     "name": "stdout",
     "output_type": "stream",
     "text": [
      "Signal response found after 0 mins and 23 secs.\n"
     ]
    },
    {
     "name": "stdout",
     "output_type": "stream",
     "text": [
      "data/03_cvae_multi/2025_02_08__22_15_29/cvae_scan/hpo_297\n"
     ]
    },
    {
     "name": "stderr",
     "output_type": "stream",
     "text": [
      "/tmp/ipykernel_1299886/1985358741.py:40: SettingWithCopyWarning: \n",
      "A value is trying to be set on a copy of a slice from a DataFrame\n",
      "\n",
      "See the caveats in the documentation: https://pandas.pydata.org/pandas-docs/stable/user_guide/indexing.html#returning-a-view-versus-a-copy\n",
      "  df_hpos_main.iloc[i] = pd.Series(hpos) if type(\n"
     ]
    },
    {
     "name": "stderr",
     "output_type": "stream",
     "text": [
      "train.py:train():187: Epoch 0 / 100 -\t\t Train loss: 0.16883546113967896\tVal loss: 0.07718240469694138\tVal accuracy: 0.33735549449920654 INFO\n"
     ]
    },
    {
     "name": "stderr",
     "output_type": "stream",
     "text": [
      "train.py:train():187: Epoch 10 / 100 -\t\t Train loss: 0.007145437877625227\tVal loss: 0.006749055813997984\tVal accuracy: 0.8843374848365784 INFO\n"
     ]
    },
    {
     "name": "stderr",
     "output_type": "stream",
     "text": [
      "train.py:train():187: Epoch 20 / 100 -\t\t Train loss: -0.00700882775709033\tVal loss: -0.007119163870811462\tVal accuracy: 0.9471318125724792 INFO\n"
     ]
    },
    {
     "name": "stderr",
     "output_type": "stream",
     "text": [
      "train.py:train():187: Epoch 30 / 100 -\t\t Train loss: -0.008123409934341908\tVal loss: -0.007823371328413486\tVal accuracy: 0.9686340093612671 INFO\n"
     ]
    },
    {
     "name": "stderr",
     "output_type": "stream",
     "text": [
      "train.py:train():197: Early stopping triggered after 37 epochs:\n",
      "Train loss: -0.008575369603931904\n",
      "Val loss: -0.008653326891362667\n",
      "Val accuracy: 0.9959955811500549\n",
      "Epochs no improvement: 1 WARNING\n"
     ]
    },
    {
     "name": "stdout",
     "output_type": "stream",
     "text": [
      "Training complete: 0:00:30.179528\n",
      "Warning: not using the test data for evaluation, but the training data instead of ../data/raw/summarise_simulation/2024_11_21_160955/tabulated_mutation_info.csv\n"
     ]
    },
    {
     "name": "stdout",
     "output_type": "stream",
     "text": [
      "The R2 score is  0.9751905202865601\n",
      "The R2 score with weighted variance is  0.9751905798912048\n"
     ]
    },
    {
     "name": "stdout",
     "output_type": "stream",
     "text": [
      "Steady states found after 0 mins and 26 secs. Now calculating signal response\n"
     ]
    },
    {
     "name": "stdout",
     "output_type": "stream",
     "text": [
      "Signal response found after 0 mins and 23 secs.\n"
     ]
    },
    {
     "name": "stdout",
     "output_type": "stream",
     "text": [
      "data/03_cvae_multi/2025_02_08__22_15_29/cvae_scan/hpo_298\n"
     ]
    },
    {
     "name": "stderr",
     "output_type": "stream",
     "text": [
      "/tmp/ipykernel_1299886/1985358741.py:40: SettingWithCopyWarning: \n",
      "A value is trying to be set on a copy of a slice from a DataFrame\n",
      "\n",
      "See the caveats in the documentation: https://pandas.pydata.org/pandas-docs/stable/user_guide/indexing.html#returning-a-view-versus-a-copy\n",
      "  df_hpos_main.iloc[i] = pd.Series(hpos) if type(\n"
     ]
    },
    {
     "name": "stderr",
     "output_type": "stream",
     "text": [
      "train.py:train():187: Epoch 0 / 100 -\t\t Train loss: 0.16883546113967896\tVal loss: 0.07718240469694138\tVal accuracy: 0.33735549449920654 INFO\n"
     ]
    },
    {
     "name": "stderr",
     "output_type": "stream",
     "text": [
      "train.py:train():187: Epoch 10 / 100 -\t\t Train loss: 0.007145437877625227\tVal loss: 0.006749055813997984\tVal accuracy: 0.8843374848365784 INFO\n"
     ]
    },
    {
     "name": "stderr",
     "output_type": "stream",
     "text": [
      "train.py:train():197: Early stopping triggered after 18 epochs:\n",
      "Train loss: -0.006353514734655619\n",
      "Val loss: -0.006773042492568493\n",
      "Val accuracy: 0.9380350708961487\n",
      "Epochs no improvement: 0 WARNING\n"
     ]
    },
    {
     "name": "stdout",
     "output_type": "stream",
     "text": [
      "Training complete: 0:00:14.820864\n",
      "Warning: not using the test data for evaluation, but the training data instead of ../data/raw/summarise_simulation/2024_11_21_160955/tabulated_mutation_info.csv\n"
     ]
    },
    {
     "name": "stdout",
     "output_type": "stream",
     "text": [
      "The R2 score is  0.9287000298500061\n",
      "The R2 score with weighted variance is  0.9287000298500061\n"
     ]
    },
    {
     "name": "stdout",
     "output_type": "stream",
     "text": [
      "Steady states found after 0 mins and 29 secs. Now calculating signal response\n"
     ]
    },
    {
     "name": "stdout",
     "output_type": "stream",
     "text": [
      "Signal response found after 0 mins and 29 secs.\n"
     ]
    },
    {
     "name": "stdout",
     "output_type": "stream",
     "text": [
      "data/03_cvae_multi/2025_02_08__22_15_29/cvae_scan/hpo_299\n"
     ]
    },
    {
     "name": "stderr",
     "output_type": "stream",
     "text": [
      "/tmp/ipykernel_1299886/1985358741.py:40: SettingWithCopyWarning: \n",
      "A value is trying to be set on a copy of a slice from a DataFrame\n",
      "\n",
      "See the caveats in the documentation: https://pandas.pydata.org/pandas-docs/stable/user_guide/indexing.html#returning-a-view-versus-a-copy\n",
      "  df_hpos_main.iloc[i] = pd.Series(hpos) if type(\n"
     ]
    },
    {
     "name": "stderr",
     "output_type": "stream",
     "text": [
      "train.py:train():187: Epoch 0 / 100 -\t\t Train loss: 0.16883546113967896\tVal loss: 0.07718240469694138\tVal accuracy: 0.33735549449920654 INFO\n"
     ]
    },
    {
     "name": "stderr",
     "output_type": "stream",
     "text": [
      "train.py:train():187: Epoch 10 / 100 -\t\t Train loss: 0.007145437877625227\tVal loss: 0.006749055813997984\tVal accuracy: 0.8843374848365784 INFO\n"
     ]
    },
    {
     "name": "stderr",
     "output_type": "stream",
     "text": [
      "train.py:train():197: Early stopping triggered after 18 epochs:\n",
      "Train loss: -0.006353514734655619\n",
      "Val loss: -0.006773042492568493\n",
      "Val accuracy: 0.9380350708961487\n",
      "Epochs no improvement: 0 WARNING\n"
     ]
    },
    {
     "name": "stdout",
     "output_type": "stream",
     "text": [
      "Training complete: 0:00:14.705522\n",
      "Warning: not using the test data for evaluation, but the training data instead of ../data/raw/summarise_simulation/2024_11_21_160955/tabulated_mutation_info.csv\n"
     ]
    },
    {
     "name": "stdout",
     "output_type": "stream",
     "text": [
      "The R2 score is  0.9287000298500061\n",
      "The R2 score with weighted variance is  0.9287000298500061\n"
     ]
    },
    {
     "name": "stdout",
     "output_type": "stream",
     "text": [
      "Steady states found after 0 mins and 29 secs. Now calculating signal response\n"
     ]
    },
    {
     "name": "stdout",
     "output_type": "stream",
     "text": [
      "Signal response found after 0 mins and 29 secs.\n"
     ]
    },
    {
     "name": "stdout",
     "output_type": "stream",
     "text": [
      "data/03_cvae_multi/2025_02_08__22_15_29/cvae_scan/hpo_300\n"
     ]
    },
    {
     "name": "stderr",
     "output_type": "stream",
     "text": [
      "/tmp/ipykernel_1299886/1985358741.py:40: SettingWithCopyWarning: \n",
      "A value is trying to be set on a copy of a slice from a DataFrame\n",
      "\n",
      "See the caveats in the documentation: https://pandas.pydata.org/pandas-docs/stable/user_guide/indexing.html#returning-a-view-versus-a-copy\n",
      "  df_hpos_main.iloc[i] = pd.Series(hpos) if type(\n"
     ]
    },
    {
     "name": "stderr",
     "output_type": "stream",
     "text": [
      "train.py:train():187: Epoch 0 / 100 -\t\t Train loss: 0.16883546113967896\tVal loss: 0.07718240469694138\tVal accuracy: 0.33735549449920654 INFO\n"
     ]
    },
    {
     "name": "stderr",
     "output_type": "stream",
     "text": [
      "train.py:train():187: Epoch 10 / 100 -\t\t Train loss: 0.007145437877625227\tVal loss: 0.006749055813997984\tVal accuracy: 0.8843374848365784 INFO\n"
     ]
    },
    {
     "name": "stderr",
     "output_type": "stream",
     "text": [
      "train.py:train():197: Early stopping triggered after 18 epochs:\n",
      "Train loss: -0.006353514734655619\n",
      "Val loss: -0.006773042492568493\n",
      "Val accuracy: 0.9380350708961487\n",
      "Epochs no improvement: 0 WARNING\n"
     ]
    },
    {
     "name": "stdout",
     "output_type": "stream",
     "text": [
      "Training complete: 0:00:14.710327\n",
      "Warning: not using the test data for evaluation, but the training data instead of ../data/raw/summarise_simulation/2024_11_21_160955/tabulated_mutation_info.csv\n"
     ]
    },
    {
     "name": "stdout",
     "output_type": "stream",
     "text": [
      "The R2 score is  0.9287000298500061\n",
      "The R2 score with weighted variance is  0.9287000298500061\n"
     ]
    },
    {
     "name": "stdout",
     "output_type": "stream",
     "text": [
      "Steady states found after 0 mins and 29 secs. Now calculating signal response\n"
     ]
    },
    {
     "name": "stdout",
     "output_type": "stream",
     "text": [
      "Signal response found after 0 mins and 29 secs.\n"
     ]
    },
    {
     "name": "stdout",
     "output_type": "stream",
     "text": [
      "data/03_cvae_multi/2025_02_08__22_15_29/cvae_scan/hpo_301\n"
     ]
    },
    {
     "name": "stderr",
     "output_type": "stream",
     "text": [
      "/tmp/ipykernel_1299886/1985358741.py:40: SettingWithCopyWarning: \n",
      "A value is trying to be set on a copy of a slice from a DataFrame\n",
      "\n",
      "See the caveats in the documentation: https://pandas.pydata.org/pandas-docs/stable/user_guide/indexing.html#returning-a-view-versus-a-copy\n",
      "  df_hpos_main.iloc[i] = pd.Series(hpos) if type(\n"
     ]
    },
    {
     "name": "stderr",
     "output_type": "stream",
     "text": [
      "train.py:train():187: Epoch 0 / 100 -\t\t Train loss: 0.16883546113967896\tVal loss: 0.07718240469694138\tVal accuracy: 0.33735549449920654 INFO\n"
     ]
    },
    {
     "name": "stderr",
     "output_type": "stream",
     "text": [
      "train.py:train():187: Epoch 10 / 100 -\t\t Train loss: 0.007145437877625227\tVal loss: 0.006749055813997984\tVal accuracy: 0.8843374848365784 INFO\n"
     ]
    },
    {
     "name": "stderr",
     "output_type": "stream",
     "text": [
      "train.py:train():197: Early stopping triggered after 18 epochs:\n",
      "Train loss: -0.006353514734655619\n",
      "Val loss: -0.006773042492568493\n",
      "Val accuracy: 0.9380350708961487\n",
      "Epochs no improvement: 0 WARNING\n"
     ]
    },
    {
     "name": "stdout",
     "output_type": "stream",
     "text": [
      "Training complete: 0:00:14.781210\n",
      "Warning: not using the test data for evaluation, but the training data instead of ../data/raw/summarise_simulation/2024_11_21_160955/tabulated_mutation_info.csv\n"
     ]
    },
    {
     "name": "stdout",
     "output_type": "stream",
     "text": [
      "The R2 score is  0.9287000298500061\n",
      "The R2 score with weighted variance is  0.9287000298500061\n"
     ]
    },
    {
     "name": "stdout",
     "output_type": "stream",
     "text": [
      "Steady states found after 0 mins and 30 secs. Now calculating signal response\n"
     ]
    },
    {
     "name": "stdout",
     "output_type": "stream",
     "text": [
      "Signal response found after 0 mins and 31 secs.\n"
     ]
    },
    {
     "name": "stdout",
     "output_type": "stream",
     "text": [
      "data/03_cvae_multi/2025_02_08__22_15_29/cvae_scan/hpo_302\n"
     ]
    },
    {
     "name": "stderr",
     "output_type": "stream",
     "text": [
      "/tmp/ipykernel_1299886/1985358741.py:40: SettingWithCopyWarning: \n",
      "A value is trying to be set on a copy of a slice from a DataFrame\n",
      "\n",
      "See the caveats in the documentation: https://pandas.pydata.org/pandas-docs/stable/user_guide/indexing.html#returning-a-view-versus-a-copy\n",
      "  df_hpos_main.iloc[i] = pd.Series(hpos) if type(\n"
     ]
    },
    {
     "name": "stderr",
     "output_type": "stream",
     "text": [
      "train.py:train():187: Epoch 0 / 100 -\t\t Train loss: 0.16883546113967896\tVal loss: 0.07718240469694138\tVal accuracy: 0.33735549449920654 INFO\n"
     ]
    },
    {
     "name": "stderr",
     "output_type": "stream",
     "text": [
      "train.py:train():187: Epoch 10 / 100 -\t\t Train loss: 0.007145437877625227\tVal loss: 0.006749055813997984\tVal accuracy: 0.8843374848365784 INFO\n"
     ]
    },
    {
     "name": "stderr",
     "output_type": "stream",
     "text": [
      "train.py:train():197: Early stopping triggered after 18 epochs:\n",
      "Train loss: -0.006353514734655619\n",
      "Val loss: -0.006773042492568493\n",
      "Val accuracy: 0.9380350708961487\n",
      "Epochs no improvement: 0 WARNING\n"
     ]
    },
    {
     "name": "stdout",
     "output_type": "stream",
     "text": [
      "Training complete: 0:00:14.715114\n",
      "Warning: not using the test data for evaluation, but the training data instead of ../data/raw/summarise_simulation/2024_11_21_160955/tabulated_mutation_info.csv\n"
     ]
    },
    {
     "name": "stdout",
     "output_type": "stream",
     "text": [
      "The R2 score is  0.9287000298500061\n",
      "The R2 score with weighted variance is  0.9287000298500061\n"
     ]
    },
    {
     "name": "stdout",
     "output_type": "stream",
     "text": [
      "Steady states found after 0 mins and 30 secs. Now calculating signal response\n"
     ]
    },
    {
     "name": "stdout",
     "output_type": "stream",
     "text": [
      "Signal response found after 0 mins and 31 secs.\n"
     ]
    },
    {
     "name": "stdout",
     "output_type": "stream",
     "text": [
      "data/03_cvae_multi/2025_02_08__22_15_29/cvae_scan/hpo_303\n"
     ]
    },
    {
     "name": "stderr",
     "output_type": "stream",
     "text": [
      "/tmp/ipykernel_1299886/1985358741.py:40: SettingWithCopyWarning: \n",
      "A value is trying to be set on a copy of a slice from a DataFrame\n",
      "\n",
      "See the caveats in the documentation: https://pandas.pydata.org/pandas-docs/stable/user_guide/indexing.html#returning-a-view-versus-a-copy\n",
      "  df_hpos_main.iloc[i] = pd.Series(hpos) if type(\n"
     ]
    },
    {
     "name": "stderr",
     "output_type": "stream",
     "text": [
      "train.py:train():187: Epoch 0 / 100 -\t\t Train loss: 0.16883546113967896\tVal loss: 0.07718240469694138\tVal accuracy: 0.33735549449920654 INFO\n"
     ]
    },
    {
     "name": "stderr",
     "output_type": "stream",
     "text": [
      "train.py:train():187: Epoch 10 / 100 -\t\t Train loss: 0.007145437877625227\tVal loss: 0.006749055813997984\tVal accuracy: 0.8843374848365784 INFO\n"
     ]
    },
    {
     "name": "stderr",
     "output_type": "stream",
     "text": [
      "train.py:train():197: Early stopping triggered after 18 epochs:\n",
      "Train loss: -0.006353514734655619\n",
      "Val loss: -0.006773042492568493\n",
      "Val accuracy: 0.9380350708961487\n",
      "Epochs no improvement: 0 WARNING\n"
     ]
    },
    {
     "name": "stdout",
     "output_type": "stream",
     "text": [
      "Training complete: 0:00:14.750549\n",
      "Warning: not using the test data for evaluation, but the training data instead of ../data/raw/summarise_simulation/2024_11_21_160955/tabulated_mutation_info.csv\n"
     ]
    },
    {
     "name": "stdout",
     "output_type": "stream",
     "text": [
      "The R2 score is  0.9287000298500061\n",
      "The R2 score with weighted variance is  0.9287000298500061\n"
     ]
    },
    {
     "name": "stdout",
     "output_type": "stream",
     "text": [
      "Steady states found after 0 mins and 29 secs. Now calculating signal response\n"
     ]
    },
    {
     "name": "stdout",
     "output_type": "stream",
     "text": [
      "Signal response found after 0 mins and 30 secs.\n"
     ]
    },
    {
     "name": "stdout",
     "output_type": "stream",
     "text": [
      "data/03_cvae_multi/2025_02_08__22_15_29/cvae_scan/hpo_304\n"
     ]
    },
    {
     "name": "stderr",
     "output_type": "stream",
     "text": [
      "/tmp/ipykernel_1299886/1985358741.py:40: SettingWithCopyWarning: \n",
      "A value is trying to be set on a copy of a slice from a DataFrame\n",
      "\n",
      "See the caveats in the documentation: https://pandas.pydata.org/pandas-docs/stable/user_guide/indexing.html#returning-a-view-versus-a-copy\n",
      "  df_hpos_main.iloc[i] = pd.Series(hpos) if type(\n"
     ]
    }
   ],
   "source": [
    "from bioreaction.misc.misc import load_json_as_dict\n",
    "\n",
    "top_dir = os.path.join('data', '03_cvae_multi', make_datetime_str())\n",
    "os.makedirs(top_dir, exist_ok=True)\n",
    "\n",
    "# df_hpos2 = pd.DataFrame(load_json_as_dict(\n",
    "#     'data/03_cvae_multi/2025_01_15__10_59_22/df_hpos_main.json'))\n",
    "# df_hpos_main = df_hpos.iloc[df_hpos2[df_hpos2['run_successful'].isin(\n",
    "#     [False, 'TO_BE_RECORDED'])].index]\n",
    "df_hpos_main = df_hpos.iloc[196:]\n",
    "for i in range(len(df_hpos_main)):\n",
    "    hpos = df_hpos_main.reset_index().iloc[i]\n",
    "    top_write_dir = os.path.join(top_dir, 'cvae_scan', f'hpo_{hpos[\"index\"]}')\n",
    "    # hpos['use_grad_clipping'] = True\n",
    "    hpos = cvae_scan(hpos, top_write_dir=top_write_dir)\n",
    "    # try:\n",
    "    #     try:\n",
    "    #         hpos = cvae_scan(hpos, top_write_dir=top_write_dir)\n",
    "    #         hpos.loc['run_successful'] = True\n",
    "    #         hpos.loc['error_msg'] = ''\n",
    "    #     except Exception as e:\n",
    "    #         print(e)\n",
    "    #         if 'nan' in e.lower() and (hpos['use_grad_clipping'] == False):\n",
    "    #             try:\n",
    "    #                 hpos['use_grad_clipping'] = True\n",
    "    #                 hpos = cvae_scan(hpos, top_write_dir=top_write_dir)\n",
    "    #                 hpos.loc['run_successful'] = True\n",
    "    #                 hpos.loc['error_msg'] = ''\n",
    "    #             except Exception as e:\n",
    "    #                 print(e)\n",
    "    #                 hpos.loc['run_successful'] = False\n",
    "    #                 hpos.loc['error_msg'] = str(e)\n",
    "    #         else:\n",
    "    #             hpos.loc['run_successful'] = False\n",
    "    #             hpos.loc['error_msg'] = str(e)\n",
    "    # except:\n",
    "    #     hpos.loc['run_successful'] = False\n",
    "    #     hpos.loc['error_msg'] = 'sys exit'\n",
    "\n",
    "    df_hpos_main.iloc[i] = pd.Series(hpos) if type(\n",
    "        hpos) == dict else hpos.drop('index')\n",
    "    # df_hpos_main.loc[i] = pd.DataFrame.from_dict(hpos).drop('index')\n",
    "    if not os.path.exists(top_dir):\n",
    "        os.makedirs(top_dir)\n",
    "    df_hpos_main.to_csv(os.path.join(top_dir, 'df_hpos_main.csv'))\n",
    "    write_json(df_hpos_main.to_dict(), os.path.join(\n",
    "        top_dir, 'df_hpos_main.json'), overwrite=True)"
   ]
  },
  {
   "cell_type": "code",
   "execution_count": null,
   "metadata": {},
   "outputs": [],
   "source": []
  }
 ],
 "metadata": {
  "kernelspec": {
   "display_name": "Python 3",
   "language": "python",
   "name": "python3"
  },
  "language_info": {
   "codemirror_mode": {
    "name": "ipython",
    "version": 3
   },
   "file_extension": ".py",
   "mimetype": "text/x-python",
   "name": "python",
   "nbconvert_exporter": "python",
   "pygments_lexer": "ipython3",
   "version": "3.10.12"
  }
 },
 "nbformat": 4,
 "nbformat_minor": 2
}
