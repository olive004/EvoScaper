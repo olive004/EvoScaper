{
 "cells": [
  {
   "cell_type": "code",
   "execution_count": null,
   "metadata": {},
   "outputs": [],
   "source": []
  },
  {
   "cell_type": "code",
   "execution_count": 1,
   "metadata": {},
   "outputs": [],
   "source": [
    "import haiku as hk\n",
    "import jax\n",
    "import jax.numpy as jnp\n",
    "from typing import Union, Optional\n"
   ]
  },
  {
   "cell_type": "code",
   "execution_count": null,
   "metadata": {},
   "outputs": [],
   "source": [
    "\n",
    "def cross_entropy_loss(x):\n",
    "    return 1\n",
    "\n",
    "def loss_func(x, y):\n",
    "    return cross_entropy_loss(x)\n",
    "\n",
    "def compute_grads(params, x, y, model):\n",
    "    logits = model.apply(params, None, x)\n",
    "    return loss_func(logits, y)\n",
    "\n",
    "def update(params, grads, lr = 0.1):\n",
    "    return jax.tree_util.tree_map(lambda p, g: p - g * lr, params, grads)\n",
    "\n",
    "def train_step(params, x, y, model):\n",
    "    params_grads = jax.grad(compute_grads)(params, x, y, model)\n",
    "    return update(params, params_grads)\n",
    "\n",
    "def train(iterations, params, xdata, ydata, model):\n",
    "    for i in iterations:\n",
    "        x = next(xdata)\n",
    "        y = next(ydata)\n",
    "        params = train_step(params, x, y, model)\n",
    "    return params\n",
    "\n"
   ]
  },
  {
   "cell_type": "code",
   "execution_count": 3,
   "metadata": {},
   "outputs": [
    {
     "data": {
      "text/plain": [
       "['/home/wadh6511/Kode/env_evo/lib/python3.9/site-packages/haiku']"
      ]
     },
     "execution_count": 3,
     "metadata": {},
     "output_type": "execute_result"
    }
   ],
   "source": [
    "\n",
    "class OKConfig:\n",
    "\n",
    "    ok: int\n",
    "\n",
    "class OK(hk.module):\n",
    "    \n",
    "    def __init__(\n",
    "        self,\n",
    "        config: OKConfig,\n",
    "        name: Optional[str] = None,\n",
    "    ) -> None: \n",
    "        \n",
    "        self._config = config\n",
    "        super().__init__(name=name)\n",
    "        \n",
    "        # Layer declarations incl norms\n",
    "        \n",
    "        # Prcoess config if needed\n",
    "        \n",
    "        # Check config compatibility\n",
    "        \n",
    "    def __call__(self):\n",
    "        \n",
    "        # Compute embeddings\n",
    "        \n",
    "        # If masked, scale\n",
    "        \n",
    "        # If requirements on inputs, check\n",
    "        \n",
    "        # Positional embeddings\n",
    "        \n",
    "        # Construct layers, eg attention / Head\n",
    "        \n",
    "        \n",
    "        \n",
    "        "
   ]
  },
  {
   "cell_type": "code",
   "execution_count": null,
   "metadata": {},
   "outputs": [],
   "source": []
  }
 ],
 "metadata": {
  "kernelspec": {
   "display_name": "env_evo",
   "language": "python",
   "name": "python3"
  },
  "language_info": {
   "codemirror_mode": {
    "name": "ipython",
    "version": 3
   },
   "file_extension": ".py",
   "mimetype": "text/x-python",
   "name": "python",
   "nbconvert_exporter": "python",
   "pygments_lexer": "ipython3",
   "version": "3.9.16"
  },
  "orig_nbformat": 4
 },
 "nbformat": 4,
 "nbformat_minor": 2
}
