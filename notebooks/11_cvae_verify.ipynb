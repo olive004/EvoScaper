{
 "cells": [
  {
   "cell_type": "code",
   "execution_count": 1,
   "metadata": {},
   "outputs": [],
   "source": [
    "%load_ext autoreload\n",
    "%autoreload 2"
   ]
  },
  {
   "cell_type": "markdown",
   "metadata": {},
   "source": [
    "# Verify conditional circuit generation\n",
    "\n",
    "We have previously trained a neural network known as a conditional variational autoencoder on genetic circuits. The conditioning variable was made to be one of the characteristics of the genetic circuit's dynamics, for example the sensitivity of the circuit to a signal. While the distributions for each class of conditional variables differ in the AI-generated circuits, the verification of their ground-truth label is still necessary to assess the validity of the conditionality."
   ]
  },
  {
   "cell_type": "markdown",
   "metadata": {},
   "source": [
    "## Imports"
   ]
  },
  {
   "cell_type": "code",
   "execution_count": 2,
   "metadata": {},
   "outputs": [
    {
     "name": "stderr",
     "output_type": "stream",
     "text": [
      "/home/wadh6511/Kode/env_evo/lib/python3.10/site-packages/jaxtyping/__init__.py:221: UserWarning: jaxtyping version >=0.2.23 should be used with Equinox version >=0.11.1\n",
      "  warnings.warn(\n"
     ]
    },
    {
     "name": "stderr",
     "output_type": "stream",
     "text": [
      "WARNING: All log messages before absl::InitializeLog() is called are written to STDERR\n",
      "I0000 00:00:1702899944.861753   37106 tfrt_cpu_pjrt_client.cc:349] TfrtCpuClient created.\n",
      "xla_bridge.py:backends():513: Unable to initialize backend 'rocm': NOT_FOUND: Could not find registered platform with name: \"rocm\". Available platform names are: CUDA INFO\n",
      "xla_bridge.py:backends():513: Unable to initialize backend 'tpu': INTERNAL: Failed to open libtpu.so: libtpu.so: cannot open shared object file: No such file or directory INFO\n"
     ]
    },
    {
     "data": {
      "text/plain": [
       "[gpu(id=0)]"
      ]
     },
     "execution_count": 2,
     "metadata": {},
     "output_type": "execute_result"
    }
   ],
   "source": [
    "from synbio_morpher.srv.io.manage.script_manager import script_preamble\n",
    "from synbio_morpher.srv.parameter_prediction.simulator import RawSimulationHandling, make_piecewise_stepcontrol\n",
    "from synbio_morpher.utils.results.analytics.timeseries import generate_analytics\n",
    "from synbio_morpher.utils.common.setup import prepare_config, expand_config, expand_model_config\n",
    "from synbio_morpher.utils.data.data_format_tools.common import load_json_as_dict\n",
    "from synbio_morpher.utils.results.analytics.naming import get_true_interaction_cols\n",
    "from synbio_morpher.utils.data.data_format_tools.common import write_json\n",
    "from synbio_morpher.utils.misc.numerical import symmetrical_matrix_length, make_symmetrical_matrix_from_sequence\n",
    "from synbio_morpher.utils.misc.string_handling import prettify_keys_for_label\n",
    "from synbio_morpher.utils.misc.type_handling import flatten_listlike, get_unique\n",
    "from synbio_morpher.utils.modelling.deterministic import bioreaction_sim_dfx_expanded\n",
    "from bioreaction.simulation.simfuncs.basic_de import bioreaction_sim, bioreaction_sim_expanded\n",
    "from bioreaction.model.data_tools import construct_model_fromnames\n",
    "from bioreaction.model.data_containers import BasicModel, QuantifiedReactions\n",
    "from bioreaction.simulation.manager import simulate_steady_states\n",
    "from functools import partial\n",
    "\n",
    "from sklearn.metrics import r2_score  \n",
    "import os\n",
    "import sys\n",
    "import numpy as np\n",
    "import haiku as hk\n",
    "import jax\n",
    "import diffrax as dfx\n",
    "\n",
    "from sklearn.preprocessing import MinMaxScaler\n",
    "from sklearn.utils import shuffle\n",
    "                \n",
    "import wandb\n",
    "\n",
    "from datetime import datetime\n",
    "import pandas as pd\n",
    "import seaborn as sns\n",
    "import matplotlib.pyplot as plt\n",
    "\n",
    "jax.config.update('jax_platform_name', 'gpu')\n",
    "\n",
    "\n",
    "# if __package__ is None:\n",
    "\n",
    "module_path = os.path.abspath(os.path.join('..'))\n",
    "sys.path.append(module_path)\n",
    "\n",
    "__package__ = os.path.basename(module_path)\n",
    "\n",
    "\n",
    "jax.devices()"
   ]
  },
  {
   "cell_type": "code",
   "execution_count": 3,
   "metadata": {},
   "outputs": [],
   "source": [
    "from src.models.vae import CVAE, sample_z\n",
    "from src.models.mlp import MLP\n",
    "from src.models.shared import arrayise\n",
    "from src.losses.losses import loss_wrapper, compute_accuracy_regression, mse_loss, accuracy_regression\n",
    "from src.utils.data_preprocessing import drop_duplicates_keep_first_n\n",
    "from src.utils.optimiser import make_optimiser\n",
    "from src.utils.train import make_saves"
   ]
  },
  {
   "cell_type": "markdown",
   "metadata": {},
   "source": [
    "## Load data"
   ]
  },
  {
   "cell_type": "code",
   "execution_count": 4,
   "metadata": {},
   "outputs": [],
   "source": [
    "fn = '../data/processed/ensemble_mutation_effect_analysis/2023_07_17_105328/tabulated_mutation_info.csv'\n",
    "fn_test_data = '../data/raw/ensemble_mutation_effect_analysis/2023_10_03_204819/tabulated_mutation_info.csv'\n",
    "data = pd.read_csv(fn)\n",
    "try:\n",
    "    data.drop(columns=['Unnamed: 0'], inplace=True)\n",
    "except:\n",
    "    pass"
   ]
  },
  {
   "cell_type": "markdown",
   "metadata": {},
   "source": [
    "## Load model"
   ]
  },
  {
   "cell_type": "markdown",
   "metadata": {},
   "source": [
    "### Hyperparameters"
   ]
  },
  {
   "cell_type": "code",
   "execution_count": 5,
   "metadata": {},
   "outputs": [],
   "source": [
    "# Architecture\n",
    "HIDDEN_SIZE = 32\n",
    "NUM_ENC_LAYERS = 3\n",
    "NUM_DEC_LAYERS = 3\n",
    "\n",
    "\n",
    "BATCH_SIZE = 128\n",
    "N_BATCHES = 1200\n",
    "TOTAL_DS = BATCH_SIZE * N_BATCHES\n",
    "MAX_TOTAL_DS = TOTAL_DS\n",
    "TRAIN_SPLIT = 0.8\n",
    "SCALE_X = False\n",
    "LEARNING_RATE = 5e-4\n",
    "LEARNING_RATE_SCHED = 'cosine_decay'\n",
    "# LEARNING_RATE_SCHED = 'constant'\n",
    "WARMUP_EPOCHS = 20\n",
    "L2_REG_ALPHA = 0.01\n",
    "EPOCHS = 1000\n",
    "PRINT_EVERY = EPOCHS // 100\n",
    "SEED = 1\n",
    "\n",
    "INPUT_SPECIES = 'RNA_1'\n",
    "USE_CATEGORICAL = False\n",
    "target_circ_func = 'sensitivity_wrt_species-6'\n",
    "input_concat_diffs = False\n",
    "input_concat_axis = 0\n",
    "\n",
    "# Training\n",
    "USE_DROPOUT = False\n",
    "USE_L2_REG = False\n",
    "USE_WARMUP = True\n",
    "\n",
    "loss_fn = partial(\n",
    "    loss_wrapper, loss_f=mse_loss, use_l2_reg=USE_L2_REG) \n",
    "compute_accuracy = compute_accuracy_regression\n",
    "\n",
    "rng = jax.random.PRNGKey(SEED)"
   ]
  },
  {
   "cell_type": "markdown",
   "metadata": {},
   "source": [
    "### Init data"
   ]
  },
  {
   "cell_type": "code",
   "execution_count": 6,
   "metadata": {},
   "outputs": [],
   "source": [
    "filt = data['sample_name'] == INPUT_SPECIES\n",
    "\n",
    "# Balance the dataset\n",
    "df = drop_duplicates_keep_first_n(data[filt], get_true_interaction_cols(\n",
    "    data, 'energies', remove_symmetrical=True), n=100)\n",
    "\n",
    "TOTAL_DS = np.min([TOTAL_DS, MAX_TOTAL_DS, len(df)])\n",
    "N_BATCHES = TOTAL_DS // BATCH_SIZE\n",
    "TOTAL_DS = N_BATCHES * BATCH_SIZE\n",
    "\n",
    "x_cols = [get_true_interaction_cols(data, 'energies', remove_symmetrical=True)]\n",
    "if input_concat_diffs:\n",
    "    k = 'energies'\n",
    "    x_cols = x_cols + \\\n",
    "        [[f'{i}_diffs' for i in get_true_interaction_cols(\n",
    "            data, k, remove_symmetrical=True)]]\n",
    "\n",
    "x = [df[i].iloc[:TOTAL_DS].values[:, :, None] for i in x_cols]\n",
    "x = np.concatenate(x, axis=input_concat_axis+1).squeeze()\n",
    "\n",
    "if SCALE_X:\n",
    "    xscaler = MinMaxScaler()\n",
    "    x = xscaler.fit_transform(x)\n",
    "    \n",
    "cond = df[target_circ_func].iloc[:TOTAL_DS].to_numpy()\n",
    "\n",
    "if USE_CATEGORICAL:\n",
    "    from src.utils.math import convert_to_scientific_exponent\n",
    "\n",
    "    vectorized_convert_to_scientific_exponent = np.vectorize(\n",
    "        convert_to_scientific_exponent)\n",
    "    numerical_resolution = 2\n",
    "    cond_map = {k: numerical_resolution for k in np.arange(int(f'{cond[cond != 0].min():.0e}'.split(\n",
    "        'e')[1])-1, np.max([int(f'{cond.max():.0e}'.split('e')[1])+1, 0 + 1]))}\n",
    "    cond_map[-6] = 1\n",
    "    cond_map[-5] = 1\n",
    "    cond_map[-4] = 4\n",
    "    cond_map[-3] = 2\n",
    "    cond_map[-1] = 3\n",
    "    cond = jax.tree_util.tree_map(partial(\n",
    "        vectorized_convert_to_scientific_exponent, numerical_resolution=cond_map), cond)\n",
    "    cond = np.interp(cond, sorted(np.unique(cond)), np.arange(\n",
    "        len(sorted(np.unique(cond))))).astype(int)\n",
    "else:\n",
    "    zero_log_replacement = -10.0\n",
    "    cond = np.where(cond != 0, np.log10(cond), zero_log_replacement)\n",
    "\n",
    "cond = cond[:, None]\n",
    "N_HEAD = x.shape[-1]\n",
    "\n",
    "x, cond = shuffle(x, cond, random_state=SEED)\n",
    "\n",
    "if x.shape[0] < TOTAL_DS:\n",
    "    print(\n",
    "        f'WARNING: The filtered data is not as large as the requested total dataset size: {x.shape[0]} vs. requested {TOTAL_DS}')"
   ]
  },
  {
   "cell_type": "markdown",
   "metadata": {},
   "source": [
    "### Init model"
   ]
  },
  {
   "cell_type": "code",
   "execution_count": 7,
   "metadata": {},
   "outputs": [
    {
     "name": "stderr",
     "output_type": "stream",
     "text": [
      "/home/wadh6511/Kode/env_evo/lib/python3.10/site-packages/haiku/_src/initializers.py:126: UserWarning: Explicitly requested dtype float64  is not available, and will be truncated to dtype float32. To enable more dtypes, set the jax_enable_x64 configuration option or the JAX_ENABLE_X64 shell environment variable. See https://github.com/google/jax#current-gotchas for more.\n",
      "  unscaled = jax.random.truncated_normal(\n",
      "/home/wadh6511/Kode/env_evo/lib/python3.10/site-packages/haiku/_src/base.py:682: UserWarning: Explicitly requested dtype float64 requested in zeros is not available, and will be truncated to dtype float32. To enable more dtypes, set the jax_enable_x64 configuration option or the JAX_ENABLE_X64 shell environment variable. See https://github.com/google/jax#current-gotchas for more.\n",
      "  param = init(shape, dtype)\n"
     ]
    }
   ],
   "source": [
    "enc_layers = [64] * NUM_ENC_LAYERS\n",
    "dec_layers = [64] * NUM_DEC_LAYERS\n",
    "\n",
    "def VAE_fn(enc_layers: list, dec_layers: list, call_kwargs: dict = {}):\n",
    "    encoder = MLP(layer_sizes=enc_layers, n_head=dec_layers[0], use_categorical=False, name='encoder')\n",
    "    decoder = MLP(layer_sizes=dec_layers, n_head=x.shape[-1], use_categorical=False, name='decoder')\n",
    "    model = CVAE(encoder=encoder, decoder=decoder, embed_size=HIDDEN_SIZE)\n",
    "    \n",
    "    def init(x: np.ndarray, cond: np.ndarray, deterministic: bool):\n",
    "        h = model.encoder(np.concatenate([x, cond], axis=-1))\n",
    "\n",
    "        mu = model.h2mu(h)\n",
    "        logvar = model.h2logvar(h)\n",
    "        z = model.reparameterize(mu, logvar, hk.next_rng_key(), deterministic)\n",
    "        z_cond = np.concatenate([z, cond], axis=-1)\n",
    "\n",
    "        y = model.decoder(z_cond)\n",
    "        return y\n",
    "        \n",
    "    return init, (encoder, decoder, model)\n",
    "\n",
    "model_fn = partial(VAE_fn, enc_layers=enc_layers, dec_layers=dec_layers)\n",
    "# model = hk.transform(model_fn)\n",
    "model_t = hk.multi_transform(model_fn)\n",
    "params = model_t.init(rng, x, cond, deterministic=False)\n",
    "encoder, decoder, model = model_t.apply"
   ]
  },
  {
   "cell_type": "code",
   "execution_count": 8,
   "metadata": {},
   "outputs": [],
   "source": [
    "fn_saves = os.path.join('weight_saves', '10_cvae', '2023_12_14__11_37_03_saves_test')\n",
    "saves_loaded = load_json_as_dict(fn_saves)\n",
    "\n",
    "p = saves_loaded[str(list(saves_loaded.keys())[-1])]['params']\n",
    "p = arrayise(p)"
   ]
  },
  {
   "cell_type": "markdown",
   "metadata": {},
   "source": [
    "### Sample circuits"
   ]
  },
  {
   "cell_type": "code",
   "execution_count": 9,
   "metadata": {},
   "outputs": [
    {
     "data": {
      "text/plain": [
       "(10000, 1)"
      ]
     },
     "execution_count": 9,
     "metadata": {},
     "output_type": "execute_result"
    }
   ],
   "source": [
    "n_to_sample = 10000\n",
    "\n",
    "sampled_cond = np.interp(np.random.rand(n_to_sample, cond.shape[-1]), [0, 1], [cond.min(), cond.max()])\n",
    "mu = np.random.normal(size=(n_to_sample, HIDDEN_SIZE)) \n",
    "logvar = np.random.normal(size=(n_to_sample, HIDDEN_SIZE)) \n",
    "z = sample_z(mu=mu, logvar=logvar, key=rng)\n",
    "z = np.concatenate([z, sampled_cond], axis=-1)\n",
    "\n",
    "fake_circuits = decoder(p, rng, z)\n",
    "fake_circuits = np.where(fake_circuits > 0, 0, fake_circuits)\n",
    "sampled_cond.shape"
   ]
  },
  {
   "cell_type": "markdown",
   "metadata": {},
   "source": [
    "# Simulate "
   ]
  },
  {
   "cell_type": "markdown",
   "metadata": {},
   "source": [
    "## Construct circuits"
   ]
  },
  {
   "cell_type": "markdown",
   "metadata": {},
   "source": [
    "### Config"
   ]
  },
  {
   "cell_type": "code",
   "execution_count": 10,
   "metadata": {},
   "outputs": [],
   "source": [
    "run_intarna = True\n",
    "\n",
    "config = {\n",
    "    \"system_type\": \"RNA\",\n",
    "    \"include_prod_deg\": False,\n",
    "    \"data\": {},\n",
    "    \"experiment\": {\n",
    "        \"purpose\": \"tests\",\n",
    "        \"debug_mode\": False\n",
    "    },\n",
    "    \"interaction_simulator\": {\n",
    "        \"name\": \"IntaRNA\",\n",
    "        \"postprocess\": True,\n",
    "        \"simulator_kwargs\": {\n",
    "            \"outcsvcols\": \"id1, id2, E, E_norm, bpList, hybridDPfull, seedPu1, seedPu2, seedStart1, seedStart2, seedEnd1, seedEnd2\",\n",
    "            \"threads\": 12,\n",
    "            \"n\": 1,\n",
    "            \"raw_stdout\": True\n",
    "        }\n",
    "    },\n",
    "    \"molecular_params_factor\": 1,\n",
    "    \"molecular_params\": {\n",
    "        \"avg_mRNA_per_cell\": 100,\n",
    "        \"cell_doubling_time\": 1200,\n",
    "        \"creation_rate\": 2.35,\n",
    "        \"starting_copynumbers\": 200,\n",
    "        \"degradation_rate\": 0.01175,\n",
    "        \"association_binding_rate\": 1000000\n",
    "    },\n",
    "    \"signal\": {\n",
    "        \"inputs\": [\"RNA_0\"],\n",
    "        \"outputs\": [\"RNA_1\"],\n",
    "        \"function_name\": \"step_function\",\n",
    "        \"function_kwargs\": {\n",
    "            \"impulse_center\": 1, \n",
    "            \"impulse_halfwidth\": 5, \n",
    "            \"target\": 2\n",
    "        }\n",
    "    },\n",
    "    \"simulation\": {\n",
    "        \"dt0\": 0.1,\n",
    "        \"t0\": 0,\n",
    "        \"t1\": 100,\n",
    "        \"tmax\": 2000,\n",
    "        \"solver\": \"diffrax\",\n",
    "        \"use_batch_mutations\": True,\n",
    "        \"interaction_factor\": 1,\n",
    "        \"batch_size\": 20000,\n",
    "        \"max_circuits\": 60000,\n",
    "        \"device\": \"gpu\",\n",
    "        \"threshold_steady_states\": 0.05, \n",
    "        \"use_rate_scaling\": True\n",
    "    },\n",
    "    \"system_type\": \"RNA\",\n",
    "}\n",
    "\n",
    "\n",
    "if run_intarna:\n",
    "    data_writer = None\n",
    "    config, data_writer = script_preamble(config, data_writer)\n",
    "    config = prepare_config(expand_config(config=config))"
   ]
  },
  {
   "cell_type": "markdown",
   "metadata": {},
   "source": [
    "### Circuits"
   ]
  },
  {
   "cell_type": "code",
   "execution_count": 11,
   "metadata": {},
   "outputs": [],
   "source": [
    "def make_symmetrical_matrix_from_sequence_nojax(arr, side_length: int):\n",
    "    \"\"\" For a flat 1D array, make a symmetrical 2D matrix filling\n",
    "    in the upper triangle with the 1D array. Not jax-friendly. \"\"\"\n",
    "    n = np.zeros((side_length, side_length))\n",
    "    n[np.triu_indices(side_length)] = arr\n",
    "    return n\n",
    "\n",
    "def update_species_simulated_rates(ordered_species: list, forward_interactions, reverse_interactions, model: BasicModel, qreactions: QuantifiedReactions):\n",
    "    for i, r in enumerate(model.reactions):\n",
    "        if len(r.input) == 2:\n",
    "            model.reactions[i].forward_rate = forward_interactions[\n",
    "                ordered_species.index(r.input[0]), ordered_species.index(r.input[1])]\n",
    "            \n",
    "            model.reactions[i].reverse_rate = reverse_interactions[\n",
    "                ordered_species.index(r.input[0]), ordered_species.index(r.input[1])]\n",
    "    qreactions.reactions = qreactions.init_reactions(\n",
    "        model)\n",
    "    return model, qreactions"
   ]
  },
  {
   "cell_type": "markdown",
   "metadata": {},
   "source": [
    "Reshape the generated circuit energies into a 3x3 symmetrical matrix."
   ]
  },
  {
   "cell_type": "code",
   "execution_count": 12,
   "metadata": {},
   "outputs": [],
   "source": [
    "num_species = symmetrical_matrix_length(fake_circuits.shape[-1])\n",
    "input_species = [f'RNA_{i}' for i in range(num_species)]\n",
    "config.update(expand_model_config(config, {}, input_species))\n",
    "fake_circuits = np.array(list(map(partial(make_symmetrical_matrix_from_sequence_nojax, side_length=num_species), fake_circuits)))"
   ]
  },
  {
   "cell_type": "markdown",
   "metadata": {},
   "source": [
    "Initialise barebones circuit models"
   ]
  },
  {
   "cell_type": "code",
   "execution_count": 13,
   "metadata": {},
   "outputs": [],
   "source": [
    "model_brn = construct_model_fromnames(sample_names=input_species, include_prod_deg=config['include_prod_deg'])\n",
    "ordered_species = sorted(get_unique(flatten_listlike([r.input for r in model_brn.reactions if r.output])))\n",
    "signal_species = ['RNA_0']\n",
    "output_species = ['RNA_1']\n",
    "qreactions = QuantifiedReactions()\n",
    "qreactions.init_properties(model_brn, config['starting_concentration'])\n",
    "for i in range(len(model_brn.reactions)):\n",
    "    model_brn.reactions[i].forward_rate = 0\n",
    "    model_brn.reactions[i].reverse_rate = 0\n",
    "    if (not model_brn.reactions[i].input) and config['include_prod_deg']:\n",
    "        model_brn.reactions[i].forward_rate = config['molecular_params'].get(\n",
    "            'creation_rate')\n",
    "    elif (not model_brn.reactions[i].output) and config['include_prod_deg']:\n",
    "        model_brn.reactions[i].forward_rate = config['molecular_params'].get(\n",
    "            'degradation_rate')\n",
    "        \n",
    "\n",
    "reactant_species = [\n",
    "    r.species for r in qreactions.reactants]\n",
    "quantities = [r.quantity for r in qreactions.reactants if r.species.name in input_species]\n",
    "postproc = RawSimulationHandling(config['interaction_simulator']).get_postprocessing(initial=quantities)\n",
    "eqconstants, (a_rates, d_rates) = postproc(fake_circuits[0])\n",
    "model_brn, qreactions = update_species_simulated_rates(ordered_species, a_rates, d_rates, model_brn, qreactions)\n"
   ]
  },
  {
   "cell_type": "markdown",
   "metadata": {},
   "source": [
    "## Run simulator"
   ]
  },
  {
   "cell_type": "code",
   "execution_count": 29,
   "metadata": {},
   "outputs": [],
   "source": [
    "def compute_analytics(y, t, labels, signal_onehot):\n",
    "    y = np.swapaxes(y, 0, 1)\n",
    "\n",
    "    analytics_func = partial(\n",
    "        generate_analytics, time=t, labels=labels,\n",
    "        signal_onehot=signal_onehot, signal_time=t[1],\n",
    "        ref_circuit_data=None)\n",
    "    return analytics_func(data=y, time=t, labels=labels)\n",
    "\n",
    "\n",
    "def sim(y00, forward_rates, reverse_rates,\n",
    "        qreactions,\n",
    "        signal_onehot, signal_target,\n",
    "        t0, t1, dt0, dt1,\n",
    "        save_steps, max_steps):\n",
    "    sim_func = jax.jit(jax.vmap(partial(bioreaction_sim_dfx_expanded,\n",
    "                                t0=t0, t1=t1, dt0=dt0,\n",
    "                                signal=None, signal_onehot=None,\n",
    "                                inputs=qreactions.reactions.inputs,\n",
    "                                outputs=qreactions.reactions.outputs,\n",
    "                                forward_rates=forward_rates,\n",
    "                                solver=dfx.Tsit5(),\n",
    "                                saveat=dfx.SaveAt(\n",
    "                                    ts=np.linspace(t0, t1, save_steps)),\n",
    "                                max_steps=max_steps,\n",
    "                                stepsize_controller=make_piecewise_stepcontrol(\n",
    "                                    t0=t0, t1=t1, dt0=dt0, dt1=dt1)\n",
    "                                )))\n",
    "    \"\"\" Concentrations should be in the form [circuits, time, species] \"\"\"\n",
    "\n",
    "    y00s, ts0 = simulate_steady_states(y0=y00, total_time=t1-t0, sim_func=sim_func, t0=t0,\n",
    "                                   t1=t1, threshold=0.05, reverse_rates=reverse_rates, disable_logging=True)\n",
    "    y0 = np.array(y00s[:, -1, :]).reshape(y00.shape)\n",
    "\n",
    "    # Signal\n",
    "    y0m = y0 * ((signal_onehot == 0) * 1) + y00 * signal_target * signal_onehot\n",
    "    ys, ts = simulate_steady_states(y0m, total_time=t1-t0, sim_func=sim_func, t0=t0,\n",
    "                                  t1=t1, threshold=0.05, reverse_rates=reverse_rates, disable_logging=True)\n",
    "    ys = np.concatenate([y0, ys.squeeze()[:, :-1, :]], axis=1)\n",
    "\n",
    "    analytics = jax.vmap(partial(compute_analytics, t=ts, labels=np.arange(\n",
    "        ys.shape[-1]), signal_onehot=signal_onehot))(ys)\n",
    "\n",
    "    return analytics, ys, ts, y0m, y00s, ts0"
   ]
  },
  {
   "cell_type": "code",
   "execution_count": 30,
   "metadata": {},
   "outputs": [],
   "source": [
    "signal_onehot = np.where([r.species.name in input_species for r in qreactions.reactants], 1, 0)\n",
    "eqconstants, (forward_rates, reverse_rates) = postproc(fake_circuits)\n",
    "forward_rates, reverse_rates = np.array(list(map(lambda i: i[np.triu_indices(n=forward_rates.shape[-1])], forward_rates))), np.array(list(map(lambda i: i[np.triu_indices(n=reverse_rates.shape[-1])], reverse_rates)))\n",
    "signal_target = 2\n",
    "y00 = np.repeat(np.array([r.quantity for r in qreactions.reactants])[None, None, :], repeats=len(fake_circuits), axis=0)\n",
    "t0, t1, dt0, dt1 = 0, 1, 0.001, 0.0008\n",
    "save_steps, max_steps = 10, 16**5\n",
    "\n",
    "analytics, ys, ts, y0m, y00s, ts0 = sim(y00, forward_rates[0], reverse_rates,\n",
    "    qreactions,\n",
    "    signal_onehot, signal_target,\n",
    "    t0, t1, dt0, dt1,\n",
    "    save_steps, max_steps)"
   ]
  },
  {
   "cell_type": "code",
   "execution_count": 58,
   "metadata": {},
   "outputs": [
    {
     "data": {
      "image/png": "[encoded data removed]",
      "text/plain": [
       "<Figure size 640x480 with 1 Axes>"
      ]
     },
     "metadata": {},
     "output_type": "display_data"
    }
   ],
   "source": [
    "plt.plot(np.repeat(ts0[None, :], repeats=500, axis=0).T, y00s[:500, :, 6].T, alpha=0.05, color='b')\n",
    "plt.show()\n",
    "plt.close()"
   ]
  },
  {
   "cell_type": "code",
   "execution_count": null,
   "metadata": {},
   "outputs": [],
   "source": [
    "analytics, ys, ts, y0m, y00s, ts0"
   ]
  },
  {
   "cell_type": "markdown",
   "metadata": {},
   "source": []
  }
 ],
 "metadata": {
  "kernelspec": {
   "display_name": "env_evo",
   "language": "python",
   "name": "python3"
  },
  "language_info": {
   "codemirror_mode": {
    "name": "ipython",
    "version": 3
   },
   "file_extension": ".py",
   "mimetype": "text/x-python",
   "name": "python",
   "nbconvert_exporter": "python",
   "pygments_lexer": "ipython3",
   "version": "3.10.12"
  }
 },
 "nbformat": 4,
 "nbformat_minor": 2
}
