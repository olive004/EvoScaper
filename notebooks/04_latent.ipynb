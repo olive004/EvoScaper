{
 "cells": [
  {
   "cell_type": "code",
   "execution_count": 1,
   "metadata": {},
   "outputs": [],
   "source": [
    "%load_ext autoreload\n",
    "%autoreload 2"
   ]
  },
  {
   "cell_type": "markdown",
   "metadata": {},
   "source": [
    "# Imports\n",
    "\n",
    "Here we will analyse the latent space of the neural networks trained in different ways. To do this easily, we need to look at the TSNE or UMAP of the encoding for each sample and the resulting actual value of the objective (adaptation + sensitivity + precision). First we will create the model according to the settings for each run, load its weights, load the real data, run it through the encoder to get the *z*, and plot that with the actual functionality of the circuit."
   ]
  },
  {
   "cell_type": "code",
   "execution_count": 2,
   "metadata": {},
   "outputs": [],
   "source": [
    "from evoscaper.scripts.init_from_hpos import init_from_hpos\n",
    "from evoscaper.utils.math import arrayise\n",
    "from evoscaper.utils.preprocess import make_datetime_str\n",
    "from bioreaction.misc.misc import load_json_as_dict\n",
    "import numpy as np\n",
    "import pandas as pd\n",
    "import matplotlib.pyplot as plt\n",
    "from sklearn.manifold import TSNE\n",
    "import seaborn as sns\n",
    "import os"
   ]
  },
  {
   "cell_type": "code",
   "execution_count": 3,
   "metadata": {},
   "outputs": [],
   "source": [
    "fn_saves = os.path.join('weight_saves', '01_cvae',\n",
    "                        '2024_12_19__16_10_53_saves_hs16_ls32_nlayers2_adam')\n",
    "# fn_saves = os.path.join('weight_saves', '01_cvae', 'saves_2025_01_09__15_33_42_adapt')\n",
    "# fn_saves = os.path.join('weight_saves', '01_cvae', 'saves_2025_01_09__21_26_05_prec_sens') \n",
    "saves_loaded = load_json_as_dict(fn_saves)\n",
    "df_hpos = pd.DataFrame(load_json_as_dict('data/2025_01_10__20_18_58/df_hpos_main.json'))\n",
    "top_write_dir = os.path.join('data', '04_latent', make_datetime_str())\n",
    "os.makedirs(top_write_dir, exist_ok=True)\n",
    "\n",
    "params = saves_loaded[str(list(saves_loaded.keys())[-1])]['params']\n",
    "params = arrayise(params)"
   ]
  },
  {
   "cell_type": "code",
   "execution_count": 4,
   "metadata": {},
   "outputs": [],
   "source": [
    "# for hpos in df_hpos.iterrows():\n",
    "\n",
    "hpos = df_hpos.iloc[0]\n",
    "(\n",
    "    rng, rng_model, rng_dataset,\n",
    "    config_norm_x, config_norm_y, config_filter, config_optimisation, config_dataset, config_training, config_model,\n",
    "    data, x_cols, df,\n",
    "    x, cond, y, x_train, cond_train, y_train, x_val, cond_val, y_val,\n",
    "    total_ds, n_batches, BATCH_SIZE, x_datanormaliser, x_methods_preprocessing, y_datanormaliser, y_methods_preprocessing,\n",
    "    _, \n",
    "    encoder, decoder, model, h2mu, h2logvar, reparam\n",
    ") = init_from_hpos(hpos)"
   ]
  },
  {
   "cell_type": "code",
   "execution_count": 5,
   "metadata": {},
   "outputs": [],
   "source": [
    "h_all = encoder(params, rng, np.concatenate([x, cond], axis=-1))\n",
    "h_all = h_all.reshape(np.prod(h_all.shape[:-1]), -1)\n",
    "cond_rev_all = y_datanormaliser.create_chain_preprocessor_inverse(y_methods_preprocessing)(cond, col=config_dataset.objective_col[0]).reshape(np.prod(cond.shape[:-1]), -1).squeeze()\n",
    "x_rev_all = x_datanormaliser.create_chain_preprocessor_inverse(x_methods_preprocessing)(x).reshape(np.prod(x.shape[:-1]), -1).squeeze()\n"
   ]
  },
  {
   "cell_type": "code",
   "execution_count": 6,
   "metadata": {},
   "outputs": [],
   "source": [
    "def bin_array(data, num_bins=10):\n",
    "    original_shape = data.shape\n",
    "    flattened_data = data.flatten()\n",
    "    bin_edges = np.linspace(flattened_data.min(), flattened_data.max(), num_bins + 1)\n",
    "    bin_means = [(bin_edges[i] + bin_edges[i+1]) / 2 for i in range(num_bins)]\n",
    "    bin_indices = np.clip(np.digitize(flattened_data, bin_edges) - 1, 0, num_bins - 1)\n",
    "    binned_data = np.array([bin_means[idx] for idx in bin_indices])\n",
    "    binned_data = binned_data.reshape(original_shape)\n",
    "    bin_labels = [f\"Bin {i}: [{bin_edges[i]:.2f}, {bin_edges[i+1]:.2f}), Mean: {bin_means[i]:.2f}\"\n",
    "                 for i in range(num_bins)]\n",
    "    return binned_data, bin_edges, bin_labels\n",
    "\n",
    "x_bin_all, edges, labels = bin_array(x_rev_all, num_bins=10)\n",
    "x_bin_all = np.round(x_bin_all, 1)\n"
   ]
  },
  {
   "cell_type": "markdown",
   "metadata": {},
   "source": [
    "# TSNE by condition"
   ]
  },
  {
   "cell_type": "code",
   "execution_count": null,
   "metadata": {},
   "outputs": [],
   "source": [
    "perplexity = 30\n",
    "tsne_results = []\n",
    "random_state = 1\n",
    "\n",
    "\n",
    "for i_cond in np.arange(cond.shape[-1]):\n",
    "    idxs_cond = np.where(np.argmax(cond.reshape(np.prod(cond.shape[:-1]), -1), axis=-1) == i_cond)\n",
    "    # idxs_cond = np.where(np.argmax(cond, axis=-1) == i_cond)\n",
    "\n",
    "    h = h_all[idxs_cond]\n",
    "    tsne = TSNE(n_components=2, random_state=random_state, perplexity=perplexity, max_iter=1000)\n",
    "    tsne_result = tsne.fit_transform(h)\n",
    "    tsne_results.append(tsne_result)\n",
    "\n",
    "np.save(os.path.join(top_write_dir, 'tsne_results.npy'), np.array([t[:min([len(t) for t in tsne_results])] for t in tsne_results]))\n"
   ]
  },
  {
   "cell_type": "code",
   "execution_count": null,
   "metadata": {},
   "outputs": [],
   "source": [
    "def plot_tsne(tsne_result, hue, ax, title, palette='viridis', f=sns.scatterplot):\n",
    "    f(x=tsne_result[:, 0], y=tsne_result[:, 1], hue=hue[:len(tsne_result)], palette=palette, s=50, alpha=0.2, ax=ax)\n",
    "    plt.xlabel(\"t-SNE Dimension 1\")\n",
    "    plt.ylabel(\"t-SNE Dimension 2\")\n",
    "    plt.title(title)\n",
    "\n",
    "\n",
    "obj_col = config_dataset.objective_col[0] if len(config_dataset.objective_col) == 1 else config_dataset.objective_col\n",
    "\n",
    "# for i_cond, tsne_result in enumerate(tsne_results):\n",
    "#     idxs_cond = np.where(np.argmax(cond.reshape(np.prod(cond.shape[:-1]), -1), axis=-1) == i_cond)\n",
    "#     x_bin = np.round(x_bin_all[idxs_cond], 1)\n",
    "    \n",
    "#     # plot_tsne(tsne_result, x_bin.sum(axis=-1), perplexity, ax=plt.subplot(111), palette='magma', f=sns.kdeplot)\n",
    "#     plt.figure(figsize=(8*x.shape[-1] + 1, 6))\n",
    "#     for i in np.arange(x.shape[-1]):\n",
    "#         plot_tsne(tsne_result, x_bin[..., i], ax=plt.subplot(1, x.shape[-1] + 1, i+1), title=f\"Interaction {i+1}\")\n",
    "#     plot_tsne(tsne_result, cond_rev_all[idxs_cond], ax=plt.subplot(1, x.shape[-1] + 1, i+2), title=obj_col)\n",
    "#     plt.suptitle(f\"t-SNE Visualization of Encoder Output (perplexity={perplexity}, rnd={random_state}): cond = {np.unique(cond_rev_all)[i_cond]:.2f}\", fontsize=14)\n",
    "#     plt.tight_layout()\n",
    "\n",
    "#     os.makedirs(os.path.join(top_write_dir, 'cond'), exist_ok=True)\n",
    "#     plt.savefig(os.path.join(top_write_dir, 'cond', f'tsne_cond_{i_cond}.png'), dpi=300)\n",
    "#     plt.close()"
   ]
  },
  {
   "cell_type": "code",
   "execution_count": null,
   "metadata": {},
   "outputs": [],
   "source": [
    "plt.figure(figsize=(8*x.shape[-1] + 1, 6 * (len(tsne_results))))\n",
    "ncol = x.shape[-1] + 1\n",
    "for i_cond, tsne_result in enumerate(tsne_results):\n",
    "    idxs_cond = np.where(np.argmax(cond.reshape(np.prod(cond.shape[:-1]), -1), axis=-1) == i_cond)\n",
    "    x_bin = np.round(x_bin_all[idxs_cond], 1)\n",
    "    \n",
    "    p_i = ncol * i_cond\n",
    "    for i in np.arange(x.shape[-1]):\n",
    "        plot_tsne(tsne_result, x_bin[..., i], ax=plt.subplot(len(tsne_results), ncol, p_i + i+1), title=f\"Interaction {i+1}, cond = {np.unique(cond_rev_all)[i_cond]}\")\n",
    "    plot_tsne(tsne_result, cond_rev_all[idxs_cond], ax=plt.subplot(len(tsne_results), ncol, p_i + i+2), title=obj_col + f', cond = {np.unique(cond_rev_all)[i_cond]}')\n",
    "\n",
    "plt.suptitle(f\"t-SNE Visualization of Encoder Output (perplexity={perplexity}, rnd={random_state}): cond = {np.unique(cond_rev_all)[i_cond]:.2f}\", fontsize=14)\n",
    "plt.tight_layout()\n",
    "plt.savefig(os.path.join(top_write_dir, 'cond', f'tsne_cond_{i_cond}.png'), dpi=300)\n",
    "plt.close()"
   ]
  },
  {
   "cell_type": "code",
   "execution_count": 21,
   "metadata": {},
   "outputs": [
    {
     "data": {
      "text/plain": [
       "Text(0.5, 1.0, 'Embedding of model')"
      ]
     },
     "execution_count": 21,
     "metadata": {},
     "output_type": "execute_result"
    },
    {
     "data": {
      "image/png": "[encoded data removed]",
      "text/plain": [
       "<Figure size 640x480 with 1 Axes>"
      ]
     },
     "metadata": {},
     "output_type": "display_data"
    }
   ],
   "source": [
    "i_enc = encoder(params, rng, np.concatenate([x, cond], axis=-1))\n",
    "sns.histplot(i_enc.reshape(np.prod(i_enc.shape[:-1]), -1), bins=100, log_scale=[False, True], element='step', fill=False, legend=False)\n",
    "plt.title('Embedding of model')"
   ]
  },
  {
   "cell_type": "markdown",
   "metadata": {},
   "source": [
    "# TSNE 2 components"
   ]
  },
  {
   "cell_type": "code",
   "execution_count": 22,
   "metadata": {},
   "outputs": [],
   "source": [
    "perplexity = 30\n",
    "tsne = TSNE(n_components=2, random_state=random_state, perplexity=perplexity, max_iter=1000)\n",
    "tsne_result_2 = tsne.fit_transform(h_all)\n",
    "\n",
    "np.save(os.path.join(top_write_dir, 'tsne_result_2.npy'), tsne_result_2)\n"
   ]
  },
  {
   "cell_type": "code",
   "execution_count": 27,
   "metadata": {},
   "outputs": [],
   "source": [
    "def plot2(tsne_result, hue, ax, i_d1, i_d2, hue_label, n_comps, palette='viridis', f=sns.scatterplot):\n",
    "    d = pd.DataFrame(data=np.array([tsne_result[:, i_d1], tsne_result[:, i_d2], hue[:len(tsne_result)]]).T, columns=[f't-SNE Dimension {i_d1+1}', f't-SNE Dimension {i_d2+1}', hue_label])\n",
    "    f(d, x=f't-SNE Dimension {i_d1+1}', y=f't-SNE Dimension {i_d2+1}', hue=hue_label, palette=palette, s=50, alpha=0.2, ax=ax)\n",
    "    plt.suptitle(f\"t-SNE of Encoder Output (perplexity={perplexity}, n={n_comps}, rnd={random_state}, dimensions {i_d1, i_d2})\", fontsize=14)\n",
    "\n",
    "obj_col = config_dataset.objective_col[0] if len(config_dataset.objective_col) == 1 else config_dataset.objective_col\n",
    "x_bin = np.round(x_bin_all, 1)\n",
    "plt.figure(figsize=(8*(x.shape[-1]), 6 ))\n",
    "for i in np.arange(x.shape[-1]):\n",
    "    ax=plt.subplot(1, x.shape[-1], i+1)\n",
    "    plot2(tsne_result_2, x_bin[..., i], ax, 0, 1, f'Energy (kcal)', n_comps=2)\n",
    "    plt.title(f\"Energy {i+1}\")\n",
    "plt.tight_layout()\n",
    "plt.savefig(os.path.join(top_write_dir, 'tsne2.png'), dpi=300)\n",
    "plt.close()\n",
    "\n",
    "\n",
    "plot2(tsne_result_2, cond_rev_all, None, 0, 1, obj_col, n_comps=2, palette='magma', f=sns.jointplot)\n",
    "plt.savefig(os.path.join(top_write_dir, f'tsne2_j.png'), dpi=300)\n",
    "plt.close()"
   ]
  },
  {
   "cell_type": "markdown",
   "metadata": {},
   "source": [
    "# TSNE 3 components"
   ]
  },
  {
   "cell_type": "code",
   "execution_count": 28,
   "metadata": {},
   "outputs": [],
   "source": [
    "perplexity = 30\n",
    "\n",
    "tsne = TSNE(n_components=3, random_state=random_state, perplexity=perplexity, max_iter=1000)\n",
    "tsne_result_3 = tsne.fit_transform(h_all)\n",
    "\n",
    "np.save(os.path.join(top_write_dir, 'tsne_result_3.npy'), tsne_result_3)\n"
   ]
  },
  {
   "cell_type": "code",
   "execution_count": null,
   "metadata": {},
   "outputs": [],
   "source": [
    "dims = [(0, 1), (0, 2), (1, 2)]\n",
    "plt.figure(figsize=(8*(x.shape[-1]), 6 * len(dims)))\n",
    "for ii, (i_d1, i_d2) in enumerate(dims):\n",
    "    for i in np.arange(x.shape[-1]):\n",
    "        ax=plt.subplot(len(dims), x.shape[-1], x.shape[-1] * ii + i+1)\n",
    "        plot2(tsne_result_3, x_bin[..., i], ax, i_d1, i_d2, f'Energy (kcal)', n_comps=3)\n",
    "        plt.title(f\"Energy {i+1}\")\n",
    "plt.tight_layout()\n",
    "plt.savefig(os.path.join(top_write_dir, 'tsne3.png'), dpi=300)\n",
    "plt.close()\n",
    "\n",
    "os.makedirs(os.path.join(top_write_dir, 'tsne3_joint'), exist_ok=True)\n",
    "for i, (i_d1, i_d2) in enumerate(dims):\n",
    "    ax=None\n",
    "    plot2(tsne_result_3, cond_rev_all, ax, i_d1, i_d2, obj_col, n_comps=3, palette='magma', f=sns.jointplot)\n",
    "    plt.tight_layout()\n",
    "    plt.savefig(os.path.join(top_write_dir, 'tsne3_joint', f'tsne3_j{i}.png'), dpi=300)\n",
    "    plt.close()\n",
    "    \n"
   ]
  },
  {
   "cell_type": "code",
   "execution_count": null,
   "metadata": {},
   "outputs": [],
   "source": []
  }
 ],
 "metadata": {
  "kernelspec": {
   "display_name": "Python 3",
   "language": "python",
   "name": "python3"
  },
  "language_info": {
   "codemirror_mode": {
    "name": "ipython",
    "version": 3
   },
   "file_extension": ".py",
   "mimetype": "text/x-python",
   "name": "python",
   "nbconvert_exporter": "python",
   "pygments_lexer": "ipython3",
   "version": "3.11.10"
  }
 },
 "nbformat": 4,
 "nbformat_minor": 2
}
