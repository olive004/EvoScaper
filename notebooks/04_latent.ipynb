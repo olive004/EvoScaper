{
 "cells": [
  {
   "cell_type": "code",
   "execution_count": 17,
   "metadata": {},
   "outputs": [
    {
     "name": "stdout",
     "output_type": "stream",
     "text": [
      "The autoreload extension is already loaded. To reload it, use:\n",
      "  %reload_ext autoreload\n"
     ]
    }
   ],
   "source": [
    "%load_ext autoreload\n",
    "%autoreload 2"
   ]
  },
  {
   "cell_type": "markdown",
   "metadata": {},
   "source": [
    "# Imports\n",
    "\n",
    "Here we will analyse the latent space of the neural networks trained in different ways. To do this easily, we need to look at the TSNE or UMAP of the encoding for each sample and the resulting actual value of the objective (adaptation + sensitivity + precision). First we will create the model according to the settings for each run, load its weights, load the real data, run it through the encoder to get the *z*, and plot that with the actual functionality of the circuit."
   ]
  },
  {
   "cell_type": "code",
   "execution_count": 18,
   "metadata": {},
   "outputs": [],
   "source": [
    "from evoscaper.model.vae import sample_z\n",
    "from evoscaper.scripts.init_from_hpos import init_from_hpos\n",
    "from evoscaper.utils.math import arrayise\n",
    "from evoscaper.utils.preprocess import make_datetime_str\n",
    "from bioreaction.misc.misc import load_json_as_dict\n",
    "import numpy as np\n",
    "import pandas as pd\n",
    "import matplotlib.pyplot as plt\n",
    "from sklearn.manifold import TSNE\n",
    "import seaborn as sns\n",
    "import os"
   ]
  },
  {
   "cell_type": "code",
   "execution_count": 19,
   "metadata": {},
   "outputs": [
    {
     "name": "stdout",
     "output_type": "stream",
     "text": [
      "data/01_cvae/2025_01_26__16_44_57 data/04_latent/2025_01_26__17_07_59\n"
     ]
    }
   ],
   "source": [
    "dir_src = os.path.join('data', '01_cvae', '2025_01_26__16_44_57')\n",
    "fn_saves = os.path.join(dir_src, 'saves_2025_01_26__16_44_57_sens_kl_5e4_epochs100')\n",
    "saves_loaded = load_json_as_dict(fn_saves)\n",
    "\n",
    "# df_hpos = pd.DataFrame(load_json_as_dict('data/03_cvae_multi/2025_01_15__10_59_22/df_hpos_main.json'))\n",
    "# hpos = df_hpos.iloc[11]\n",
    "hpos = pd.Series(load_json_as_dict(os.path.join(dir_src, 'hpos_all.json')))\n",
    "\n",
    "top_write_dir = os.path.join('data', '04_latent', make_datetime_str())\n",
    "os.makedirs(top_write_dir, exist_ok=True)\n",
    "\n",
    "params = saves_loaded[str(list(saves_loaded.keys())[-1])]['params']\n",
    "params = arrayise(params)\n",
    "\n",
    "print(dir_src, top_write_dir)"
   ]
  },
  {
   "cell_type": "code",
   "execution_count": 20,
   "metadata": {},
   "outputs": [],
   "source": [
    "# for hpos in df_hpos.iterrows():\n",
    "\n",
    "(\n",
    "    rng, rng_model, rng_dataset,\n",
    "    config_norm_x, config_norm_y, config_filter, config_optimisation, config_dataset, config_training, config_model,\n",
    "    data, x_cols, df,\n",
    "    x, cond, y, x_train, cond_train, y_train, x_val, cond_val, y_val,\n",
    "    total_ds, n_batches, BATCH_SIZE, x_datanormaliser, x_methods_preprocessing, y_datanormaliser, y_methods_preprocessing,\n",
    "    _, \n",
    "    encoder, decoder, model, h2mu, h2logvar, reparam\n",
    ") = init_from_hpos(hpos)"
   ]
  },
  {
   "cell_type": "code",
   "execution_count": null,
   "metadata": {},
   "outputs": [],
   "source": [
    "h_all = encoder(params, rng, np.concatenate([x, cond], axis=-1))\n",
    "h_all = h_all.reshape(np.prod(h_all.shape[:-1]), -1)\n",
    "\n",
    "mu = h2mu(params, rng, h_all)\n",
    "logvar = h2logvar(params, rng, h_all)\n",
    "z_all = sample_z(mu, logvar, rng, deterministic=False)\n",
    "\n",
    "\n",
    "cond_rev_all = np.concatenate([y_datanormaliser.create_chain_preprocessor_inverse(y_methods_preprocessing)(\n",
    "    cond[..., i], col=c).flatten() for i, c in enumerate(config_dataset.objective_col)]).reshape(np.prod(cond.shape[:-1]), -1).squeeze()\n",
    "# cond_rev_all = y_datanormaliser.create_chain_preprocessor_inverse(y_methods_preprocessing)(cond, col=config_dataset.objective_col[0]).reshape(np.prod(cond.shape[:-1]), -1).squeeze()\n",
    "x_rev_all = x_datanormaliser.create_chain_preprocessor_inverse(x_methods_preprocessing)(x).reshape(np.prod(x.shape[:-1]), -1).squeeze()\n"
   ]
  },
  {
   "cell_type": "code",
   "execution_count": 22,
   "metadata": {},
   "outputs": [],
   "source": [
    "def bin_array(data, num_bins=10):\n",
    "    original_shape = data.shape\n",
    "    flattened_data = data.flatten()\n",
    "    bin_edges = np.linspace(flattened_data.min(), flattened_data.max(), num_bins + 1)\n",
    "    bin_means = [(bin_edges[i] + bin_edges[i+1]) / 2 for i in range(num_bins)]\n",
    "    bin_indices = np.clip(np.digitize(flattened_data, bin_edges) - 1, 0, num_bins - 1)\n",
    "    binned_data = np.array([bin_means[idx] for idx in bin_indices])\n",
    "    binned_data = binned_data.reshape(original_shape)\n",
    "    bin_labels = [f\"Bin {i}: [{bin_edges[i]:.2f}, {bin_edges[i+1]:.2f}), Mean: {bin_means[i]:.2f}\"\n",
    "                 for i in range(num_bins)]\n",
    "    return binned_data, bin_edges, bin_labels\n",
    "\n",
    "x_bin_all, edges, labels = bin_array(x_rev_all, num_bins=10)\n",
    "x_bin_all = np.round(x_bin_all, 1)\n"
   ]
  },
  {
   "cell_type": "code",
   "execution_count": 23,
   "metadata": {},
   "outputs": [],
   "source": [
    "plot_energy_spaces = False\n",
    "\n",
    "if plot_energy_spaces:\n",
    "    \n",
    "    def plot_energy_spaces(x_rev_all, cond_rev_all):\n",
    "        idxs = np.array([[(i, j) for j in range(x_rev_all.shape[-1])] for i in range(x_rev_all.shape[-1])])\n",
    "\n",
    "        nrows = x_rev_all.shape[-1]\n",
    "        ncols = x_rev_all.shape[-1]\n",
    "        fig, axs = plt.subplots(nrows, ncols, figsize=(20, 20),\n",
    "                                sharex=True, sharey=True)\n",
    "        for i in range(nrows):\n",
    "            for j in range(ncols):\n",
    "                sns.scatterplot(x=x_rev_all[..., idxs[i, j][0]], y=x_rev_all[..., idxs[i, j][1]], hue=cond_rev_all, palette='viridis', ax=axs[i, j],\n",
    "                                alpha=0.1,\n",
    "                                legend=True if (np.sum([i, j] != idxs[-1, -1]) == 0) else False)\n",
    "                axs[i, j].set_title(f\"{idxs[i, j][0]} vs. {idxs[i, j][1]}\")\n",
    "                # axs[i, j].set_xlabel(str(idxs[i, j][0]))\n",
    "                # axs[i, j].set_ylabel(str(idxs[i, j][1]))\n",
    "                \n",
    "    plot_energy_spaces(x_rev_all, cond_rev_all)\n",
    "    plt.savefig(os.path.join(top_write_dir, f\"energy_space.png\"), dpi=300)\n",
    "\n",
    "        \n",
    "    cond_rev_all_binned = bin_array(cond_rev_all, num_bins=10)[0] if not hpos.loc['prep_y_categorical'] else cond_rev_all\n",
    "    for i, c in enumerate(np.unique(cond_rev_all_binned)):\n",
    "        idxs = np.where(cond_rev_all_binned == c)\n",
    "        x_rev_all_c = x_rev_all[idxs]\n",
    "        cond_rev_all_c = cond_rev_all_binned[idxs]\n",
    "        plot_energy_spaces(x_rev_all_c, cond_rev_all_c)\n",
    "        plt.savefig(os.path.join(top_write_dir, f\"energy_space_{c:.2f}.png\"), dpi=300)\n",
    "        plt.close()"
   ]
  },
  {
   "cell_type": "markdown",
   "metadata": {},
   "source": [
    "# TSNE by condition"
   ]
  },
  {
   "cell_type": "code",
   "execution_count": 24,
   "metadata": {},
   "outputs": [],
   "source": [
    "perplexity = 30\n",
    "tsne_results = []\n",
    "random_state = 0\n",
    "\n",
    "if not hpos.loc['prep_y_categorical']:\n",
    "    cond_binned = bin_array(\n",
    "        cond_rev_all, num_bins=hpos.loc['prep_y_categorical_n_bins'])[0]\n",
    "\n",
    "for i_cond in np.arange(hpos.loc['prep_y_categorical_n_bins']):\n",
    "    if hpos.loc['prep_x_categorical_onehot']:\n",
    "        idxs_cond = np.where(np.argmax(cond.reshape(\n",
    "            np.prod(cond.shape[:-1]), -1), axis=-1) == i_cond)\n",
    "        # idxs_cond = np.where(np.argmax(cond, axis=-1) == i_cond)\n",
    "    else:\n",
    "        idxs_cond = np.where(cond_binned.reshape(int(np.prod(\n",
    "            cond_binned.shape[:-1])), -1).squeeze() == np.unique(cond_binned)[i_cond])\n",
    "\n",
    "    h = h_all[idxs_cond]\n",
    "    tsne = TSNE(n_components=2, random_state=random_state, perplexity=perplexity if len(\n",
    "        h) > perplexity else len(h) - 1, max_iter=1000)\n",
    "    tsne_result = tsne.fit_transform(h)\n",
    "    tsne_results.append(tsne_result)\n",
    "\n",
    "np.save(os.path.join(top_write_dir, 'tsne_results.npy'), np.array(\n",
    "    [t[:min([len(t) for t in tsne_results])] for t in tsne_results]))"
   ]
  },
  {
   "cell_type": "code",
   "execution_count": 25,
   "metadata": {},
   "outputs": [],
   "source": [
    "def plot_tsne(tsne_result, hue, ax, title, palette='viridis', f=sns.scatterplot):\n",
    "    f(x=tsne_result[:, 0], y=tsne_result[:, 1], hue=hue[:len(tsne_result)], palette=palette, s=50, alpha=0.2, ax=ax)\n",
    "    ax.set_xlabel(\"t-SNE Dimension 1\")\n",
    "    ax.set_ylabel(\"t-SNE Dimension 2\")\n",
    "    ax.set_title(title)\n",
    "\n",
    "\n",
    "obj_col = config_dataset.objective_col[0] if len(config_dataset.objective_col) == 1 else config_dataset.objective_col\n",
    "\n",
    "# for i_cond, tsne_result in enumerate(tsne_results):\n",
    "#     idxs_cond = np.where(np.argmax(cond.reshape(np.prod(cond.shape[:-1]), -1), axis=-1) == i_cond)\n",
    "#     x_bin = np.round(x_bin_all[idxs_cond], 1)\n",
    "    \n",
    "#     # plot_tsne(tsne_result, x_bin.sum(axis=-1), perplexity, ax=plt.subplot(111), palette='magma', f=sns.kdeplot)\n",
    "#     plt.figure(figsize=(8*x.shape[-1] + 1, 6))\n",
    "#     for i in np.arange(x.shape[-1]):\n",
    "#         plot_tsne(tsne_result, x_bin[..., i], ax=plt.subplot(1, x.shape[-1] + 1, i+1), title=f\"Interaction {i+1}\")\n",
    "#     plot_tsne(tsne_result, cond_rev_all[idxs_cond], ax=plt.subplot(1, x.shape[-1] + 1, i+2), title=obj_col)\n",
    "#     plt.suptitle(f\"t-SNE Visualization of Encoder Output (perplexity={perplexity}, rnd={random_state}): cond = {np.unique(cond_rev_all)[i_cond]:.2f}\", fontsize=14)\n",
    "#     plt.tight_layout()\n",
    "\n",
    "#     os.makedirs(os.path.join(top_write_dir, 'cond'), exist_ok=True)\n",
    "#     plt.savefig(os.path.join(top_write_dir, 'cond', f'tsne_cond_{i_cond}.png'), dpi=300)\n",
    "#     plt.close()"
   ]
  },
  {
   "cell_type": "code",
   "execution_count": 26,
   "metadata": {},
   "outputs": [],
   "source": [
    "ncol = x.shape[-1] + 1\n",
    "fig, axes = plt.subplots(len(tsne_results), ncol, figsize=(6*ncol, 5 * len(tsne_results)), sharex=True, sharey=True)\n",
    "fig.subplots_adjust(top=0.8)\n",
    "for i_cond, tsne_result in enumerate(tsne_results):\n",
    "    if hpos.loc['prep_x_categorical_onehot']:\n",
    "        idxs_cond = np.where(np.argmax(cond.reshape(\n",
    "            np.prod(cond.shape[:-1]), -1), axis=-1) == i_cond)\n",
    "        # idxs_cond = np.where(np.argmax(cond, axis=-1) == i_cond)\n",
    "        txt_cond = f'cond = {np.unique(cond_rev_all)[i_cond]:.2f}'\n",
    "    else:\n",
    "        idxs_cond = np.where(cond_binned.reshape(int(np.prod(\n",
    "            cond_binned.shape[:-1])), -1).squeeze() == np.unique(cond_binned)[i_cond])\n",
    "        txt_cond = f'cond = {np.unique(cond_binned)[i_cond]:.2f}'\n",
    "\n",
    "    x_bin = np.round(x_bin_all[idxs_cond], 1)\n",
    "    \n",
    "    p_i = ncol * i_cond\n",
    "    for i in np.arange(x.shape[-1]):\n",
    "        plot_tsne(tsne_result, x_bin[..., i], ax=axes[i_cond, i], title=f\"Interaction {i+1}, {txt_cond}\")\n",
    "    plot_tsne(tsne_result, cond_rev_all[idxs_cond], ax=axes[i_cond, i + 1], title=obj_col + f', {txt_cond}')\n",
    "\n",
    "plt.suptitle(f\"t-SNE Visualization of Encoder Output (perplexity={perplexity}, rnd={random_state}): {txt_cond}\", fontsize=16)\n",
    "plt.tight_layout()\n",
    "plt.savefig(os.path.join(top_write_dir, f'tsne_cond_all.png'))\n",
    "plt.close()"
   ]
  },
  {
   "cell_type": "code",
   "execution_count": 27,
   "metadata": {},
   "outputs": [
    {
     "data": {
      "text/plain": [
       "Text(0.5, 1.0, 'Embedding of model')"
      ]
     },
     "execution_count": 27,
     "metadata": {},
     "output_type": "execute_result"
    },
    {
     "data": {
      "image/png": "[encoded data removed]",
      "text/plain": [
       "<Figure size 640x480 with 1 Axes>"
      ]
     },
     "metadata": {},
     "output_type": "display_data"
    }
   ],
   "source": [
    "i_enc = encoder(params, rng, np.concatenate([x, cond], axis=-1))\n",
    "sns.histplot(i_enc.reshape(np.prod(i_enc.shape[:-1]), -1), bins=100, log_scale=[False, True], element='step', fill=False, legend=False)\n",
    "plt.title('Embedding of model')"
   ]
  },
  {
   "cell_type": "markdown",
   "metadata": {},
   "source": [
    "# TSNE 2 components"
   ]
  },
  {
   "cell_type": "code",
   "execution_count": 28,
   "metadata": {},
   "outputs": [],
   "source": [
    "perplexity = 30\n",
    "tsne = TSNE(n_components=2, random_state=random_state, perplexity=perplexity, max_iter=1000)\n",
    "tsne_result_2 = tsne.fit_transform(h_all)\n",
    "\n",
    "np.save(os.path.join(top_write_dir, 'tsne_result_2.npy'), tsne_result_2)\n"
   ]
  },
  {
   "cell_type": "code",
   "execution_count": 29,
   "metadata": {},
   "outputs": [],
   "source": [
    "def plot2(tsne_result, hue, ax, i_d1, i_d2, hue_label, n_comps, palette='viridis', f=sns.scatterplot):\n",
    "    d = pd.DataFrame(data=np.array([tsne_result[:, i_d1], tsne_result[:, i_d2], hue[:len(tsne_result)]]).T, columns=[f't-SNE Dimension {i_d1+1}', f't-SNE Dimension {i_d2+1}', hue_label])\n",
    "    f(d, x=f't-SNE Dimension {i_d1+1}', y=f't-SNE Dimension {i_d2+1}', hue=hue_label, palette=palette, s=50, alpha=0.2, ax=ax)\n",
    "    plt.suptitle(f\"t-SNE of Encoder Output (perplexity={perplexity}, n={n_comps}, rnd={random_state}, dimensions {i_d1, i_d2})\", fontsize=14)\n",
    "\n",
    "obj_col = config_dataset.objective_col[0] if len(config_dataset.objective_col) == 1 else config_dataset.objective_col\n",
    "x_bin = np.round(x_bin_all, 1)\n",
    "plt.figure(figsize=(7*x.shape[-1], 6))\n",
    "for i in np.arange(x.shape[-1]):\n",
    "    ax=plt.subplot(1, x.shape[-1], i+1)\n",
    "    plot2(tsne_result_2, x_bin[..., i], ax, 0, 1, f'Energy (kcal)', n_comps=2)\n",
    "    plt.title(f\"Energy {i+1}\")\n",
    "plt.tight_layout()\n",
    "plt.savefig(os.path.join(top_write_dir, 'tsne2.png'))\n",
    "plt.close()\n",
    "\n",
    "\n",
    "cond_rev_all_binned = bin_array(cond_rev_all, num_bins=10)[0] if not hpos.loc['prep_y_categorical'] else cond_rev_all\n",
    "plot2(tsne_result_2, cond_rev_all_binned, None, 0, 1, obj_col, n_comps=2, palette='magma', f=sns.jointplot)\n",
    "plt.savefig(os.path.join(top_write_dir, f'tsne2_j.png'))\n",
    "plt.close()"
   ]
  },
  {
   "cell_type": "markdown",
   "metadata": {},
   "source": [
    "# TSNE 3 components"
   ]
  },
  {
   "cell_type": "code",
   "execution_count": 30,
   "metadata": {},
   "outputs": [],
   "source": [
    "perplexity = 30\n",
    "\n",
    "tsne = TSNE(n_components=3, random_state=random_state, perplexity=perplexity, max_iter=1000)\n",
    "tsne_result_3 = tsne.fit_transform(h_all)\n",
    "\n",
    "np.save(os.path.join(top_write_dir, 'tsne_result_3.npy'), tsne_result_3)\n"
   ]
  },
  {
   "cell_type": "code",
   "execution_count": 31,
   "metadata": {},
   "outputs": [],
   "source": [
    "dims = [(0, 1), (0, 2), (1, 2)]\n",
    "plt.figure(figsize=(8*(x.shape[-1]), 6 * len(dims)))\n",
    "for ii, (i_d1, i_d2) in enumerate(dims):\n",
    "    for i in np.arange(x.shape[-1]):\n",
    "        ax=plt.subplot(len(dims), x.shape[-1], x.shape[-1] * ii + i+1)\n",
    "        plot2(tsne_result_3, x_bin[..., i], ax, i_d1, i_d2, f'Energy (kcal)', n_comps=3)\n",
    "        plt.title(f\"Energy {i+1}\")\n",
    "plt.tight_layout()\n",
    "plt.savefig(os.path.join(top_write_dir, 'tsne3.png'), dpi=300)\n",
    "plt.close()\n",
    "\n",
    "os.makedirs(os.path.join(top_write_dir, 'tsne3_joint'), exist_ok=True)\n",
    "for i, (i_d1, i_d2) in enumerate(dims):\n",
    "    ax=None\n",
    "    cond_rev_all_binned = bin_array(cond_rev_all, num_bins=10)[0] if not hpos.loc['prep_y_categorical'] else cond_rev_all\n",
    "    plot2(tsne_result_3, cond_rev_all_binned, ax, i_d1, i_d2, obj_col, n_comps=3, palette='magma', f=sns.jointplot)\n",
    "    plt.tight_layout()\n",
    "    plt.savefig(os.path.join(top_write_dir, 'tsne3_joint', f'tsne3_j{i}.png'), dpi=300)\n",
    "    plt.close()\n",
    "    \n"
   ]
  },
  {
   "cell_type": "code",
   "execution_count": 32,
   "metadata": {},
   "outputs": [
    {
     "name": "stdout",
     "output_type": "stream",
     "text": [
      "data/04_latent/2025_01_26__17_07_59 data/01_cvae/2025_01_26__16_44_57/saves_2025_01_26__16_44_57_sens_kl_5e4_epochs100\n"
     ]
    }
   ],
   "source": [
    "print(top_write_dir, fn_saves)"
   ]
  },
  {
   "cell_type": "code",
   "execution_count": null,
   "metadata": {},
   "outputs": [],
   "source": []
  }
 ],
 "metadata": {
  "kernelspec": {
   "display_name": "Python 3",
   "language": "python",
   "name": "python3"
  },
  "language_info": {
   "codemirror_mode": {
    "name": "ipython",
    "version": 3
   },
   "file_extension": ".py",
   "mimetype": "text/x-python",
   "name": "python",
   "nbconvert_exporter": "python",
   "pygments_lexer": "ipython3",
   "version": "3.10.12"
  }
 },
 "nbformat": 4,
 "nbformat_minor": 2
}
