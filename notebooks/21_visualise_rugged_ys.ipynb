{
 "cells": [
  {
   "cell_type": "code",
   "execution_count": null,
   "id": "5e343e1d",
   "metadata": {},
   "outputs": [],
   "source": [
    "%load_ext autoreload\n",
    "%autoreload 2"
   ]
  },
  {
   "cell_type": "markdown",
   "id": "fc2a1b6f",
   "metadata": {},
   "source": [
    "# Visualise only the time series for ruggedness data"
   ]
  },
  {
   "cell_type": "code",
   "execution_count": null,
   "id": "2f3468ae",
   "metadata": {},
   "outputs": [],
   "source": [
    "from synbio_morpher.utils.data.data_format_tools.common import load_json_as_dict\n",
    "from evoscaper.scripts.init_from_hpos import init_from_hpos\n",
    "from evoscaper.utils.evolution import calculate_ruggedness_core\n",
    "from evoscaper.utils.math import arrayise, make_flat_triangle, make_batch_symmetrical_matrices\n",
    "from evoscaper.utils.preprocess import make_datetime_str\n",
    "from evoscaper.run.ruggedness import get_perturbations\n",
    "from common import load_stitch_analytics, make_df_rugg, load_stitch_ys\n",
    "\n",
    "import os\n",
    "import json\n",
    "import sys\n",
    "import numpy as np\n",
    "import jax\n",
    "\n",
    "import pandas as pd\n",
    "import seaborn as sns\n",
    "import matplotlib.pyplot as plt\n",
    "\n",
    "jax.config.update('jax_platform_name', 'cpu')\n",
    "\n",
    "\n",
    "sns.set_style('whitegrid')\n",
    "sns.set_context(\"notebook\", font_scale=1.2)\n",
    "custom_palette = sns.blend_palette(\n",
    "    ['#ff9f9b', '#ffb482', '#fffea3', '#c1f6b8', '#a0e7e0', '#b9d3ee', '#d6a4ef', '#ff77a7'], n_colors=9)\n",
    "\n",
    "# if __package__ is None:\n",
    "\n",
    "module_path = os.path.abspath(os.path.join('..'))\n",
    "sys.path.append(module_path)\n",
    "\n",
    "__package__ = os.path.basename(module_path)\n",
    "\n",
    "\n",
    "np.random.seed(0)\n",
    "PRNG = jax.random.PRNGKey(0)\n",
    "\n",
    "jax.devices()\n",
    "\n",
    "# jupyter nbconvert --to notebook --execute 02_cvae_verify.ipynb --output=02_cvae_verify_2.ipynb --ExecutePreprocessor.timeout=-1"
   ]
  },
  {
   "cell_type": "markdown",
   "id": "fc3921ee",
   "metadata": {},
   "source": [
    "# Load"
   ]
  },
  {
   "cell_type": "code",
   "execution_count": null,
   "id": "68eb8280",
   "metadata": {},
   "outputs": [],
   "source": [
    "dir_src_rugg = os.path.join('data', 'ruggedness', '2025_07_05__15_10_09')\n",
    "\n",
    "config_rugg = load_json_as_dict(os.path.join(dir_src_rugg, 'config.json'))\n",
    "fn_df_hpos_loaded = config_rugg['fn_df_hpos_loaded'].replace('notebooks/', '')\n",
    "hpos = pd.Series(load_json_as_dict(fn_df_hpos_loaded))\n",
    "dir_src_nn = os.path.dirname(fn_df_hpos_loaded)\n",
    "fn_saves = os.path.join(dir_src_nn, [i for i in os.listdir(\n",
    "    dir_src_nn) if i.startswith('saves')][0])\n",
    "idx_output = -1\n",
    "idx_perturbations_og = -1\n",
    "\n",
    "config = {'fn_saves': fn_saves,\n",
    "          'dir_src_rugg': dir_src_rugg}\n",
    "top_write_dir = os.path.join(\n",
    "    'data', '21_visualise_rugged_ys', make_datetime_str())\n",
    "os.makedirs(top_write_dir, exist_ok=True)\n",
    "with open(os.path.join(top_write_dir, 'config.json'), 'w') as f:\n",
    "    json.dump(config, f)\n",
    "print('top_write_dir:', top_write_dir)"
   ]
  },
  {
   "cell_type": "code",
   "execution_count": null,
   "id": "5bbba127",
   "metadata": {},
   "outputs": [],
   "source": [
    "saves_loaded = load_json_as_dict(fn_saves)\n",
    "(\n",
    "    rng, rng_model, rng_dataset,\n",
    "    config_norm_x, config_norm_y, config_filter, config_optimisation, config_dataset, config_training, config_model,\n",
    "    data, x_cols, df,\n",
    "    x, cond, y, x_train, cond_train, y_train, x_val, cond_val, y_val,\n",
    "    total_ds, n_batches, BATCH_SIZE, x_datanormaliser, x_methods_preprocessing, y_datanormaliser, y_methods_preprocessing,\n",
    "    params, encoder, decoder, model, h2mu, h2logvar, reparam\n",
    ") = init_from_hpos(hpos)\n",
    "\n",
    "params = saves_loaded[str(list(saves_loaded.keys())[-1])]['params']\n",
    "params = arrayise(params)\n",
    "\n",
    "config_bio = load_json_as_dict(config_dataset.filenames_verify_config)"
   ]
  },
  {
   "cell_type": "code",
   "execution_count": null,
   "id": "2d5a88be",
   "metadata": {},
   "outputs": [],
   "source": [
    "all_fake_circuits = np.load(os.path.join(\n",
    "    dir_src_rugg, 'all_fake_circuits.npy'))\n",
    "n_species = all_fake_circuits.shape[-1]\n",
    "\n",
    "all_sampled_cond = np.load(os.path.join(\n",
    "    dir_src_rugg, 'sampled_cond', 'sampled_cond_0.npy'))\n",
    "\n",
    "if config_rugg['perturb_once']:\n",
    "    eps = np.load('data/ruggedness/2025_07_05__15_10_09/batch_104/eps.npy')\n",
    "    # all_fake_circuits = jax.vmap(\n",
    "    #     partial(create_perturbations, eps=eps))(all_fake_circuits)\n",
    "    n_samples = all_fake_circuits.shape[0]\n",
    "    all_fake_circuits, eps, n_perturbs = get_perturbations(\n",
    "        make_flat_triangle(all_fake_circuits), config_rugg['eps_perc'], n_samples, config_rugg['n_perturbs'], config_rugg['resimulate_analytics'], config_rugg['perturb_once'])\n",
    "    all_fake_circuits = make_batch_symmetrical_matrices(all_fake_circuits.reshape(-1, all_fake_circuits.shape[-1]), side_length=n_species)\n"
   ]
  },
  {
   "cell_type": "code",
   "execution_count": null,
   "id": "2a3f27ca",
   "metadata": {},
   "outputs": [],
   "source": [
    "analytics_rugg = load_stitch_analytics(dir_src_rugg, last_idx=idx_output)\n",
    "for k in analytics_rugg.keys(): \n",
    "    analytics_rugg[k] = analytics_rugg[k].reshape(\n",
    "        -1, n_perturbs, analytics_rugg[k].shape[-1] if analytics_rugg[k].ndim > 1 else 1)"
   ]
  },
  {
   "cell_type": "code",
   "execution_count": null,
   "id": "6c95144a",
   "metadata": {},
   "outputs": [],
   "source": [
    "n_samples = all_fake_circuits.reshape(-1, n_perturbs, *all_fake_circuits.shape[1:]).shape[0]\n",
    "n_interactions = make_flat_triangle(all_fake_circuits[0]).shape[-1]\n",
    "n_perturbs = n_interactions + config_rugg['resimulate_analytics']\n",
    "eps = config_rugg['eps_perc'] * np.abs(all_fake_circuits).max()\n",
    "\n",
    "ruggedness = {}\n",
    "for analytic in analytics_rugg.keys():\n",
    "    ruggedness[analytic] = calculate_ruggedness_core(analytics_rugg, None, analytic,\n",
    "                                                     config_rugg['resimulate_analytics'], n_samples, n_perturbs, eps)\n",
    "\n",
    "if config_rugg['resimulate_analytics']:\n",
    "    # n_max = n_samples * n_perturbs\n",
    "    analytics_og = {k: np.array(v).reshape(\n",
    "        n_samples, n_perturbs, -1)[:, -1, :] for k, v in analytics_rugg.items()}\n",
    "else:\n",
    "    analytics_og = {}\n",
    "\n",
    "k_rugg = 'Log ruggedness (adaptation)'\n",
    "\n",
    "ruggedness[k_rugg] = np.log10(ruggedness['Log sensitivity'])"
   ]
  },
  {
   "cell_type": "code",
   "execution_count": null,
   "id": "a2acdf67",
   "metadata": {},
   "outputs": [],
   "source": [
    "n_interactions = make_flat_triangle(all_fake_circuits).shape[-1]\n",
    "n_perturbs = config_bio['n_perturbs'] if not config_rugg['perturb_once'] else n_interactions + config_rugg['resimulate_analytics']\n",
    "\n",
    "ys_out, ts = load_stitch_ys(dir_src_rugg, idx_output, len(all_fake_circuits))\n",
    "assert len(ys_out) == len(all_fake_circuits), 'Probably stitched ys together wrong'"
   ]
  },
  {
   "cell_type": "code",
   "execution_count": null,
   "id": "f6cfbc7c",
   "metadata": {},
   "outputs": [],
   "source": [
    "i = 0\n",
    "i = i + 1\n",
    "plt.figure(figsize=(10, 5))\n",
    "for ii in range(n_perturbs):\n",
    "    ti = len(ts) // 10\n",
    "    is_og = ii == (n_perturbs - 1)\n",
    "    plt.plot(ts[:ti], ys_out.reshape(-1, n_perturbs, *ys_out.shape[1:])[i, ii, :ti],\n",
    "             color='b' if is_og else 'r',\n",
    "             alpha=1 if is_og else 0.5)\n",
    "plt.title(f'Circuit {i}')\n",
    "plt.xlabel('Time')\n",
    "plt.ylabel('Signal')\n"
   ]
  },
  {
   "cell_type": "code",
   "execution_count": null,
   "id": "83e9fa76",
   "metadata": {},
   "outputs": [],
   "source": [
    "df_rugg = make_df_rugg(analytics_og, ruggedness, idx_output, all_sampled_cond, \n",
    "                 y_datanormaliser, y_methods_preprocessing, config_dataset, k_rugg)\n",
    "\n",
    "for k in ['adaptation', 'Log ruggedness (adaptation)']:\n",
    "    df_rugg[f'{k} norm'] = y_datanormaliser.create_chain_preprocessor(\n",
    "        y_methods_preprocessing)(df_rugg[f'{k}'].values, col=k, use_precomputed=True)\n",
    "    data[f'{k} norm'] = y_datanormaliser.create_chain_preprocessor(\n",
    "        y_methods_preprocessing)(data[f'{k}'].values, col=k, use_precomputed=True)\n",
    "\n",
    "data['Log ruggedness (adaptation) bin'] = pd.cut(\n",
    "    data['Log ruggedness (adaptation)'], bins=10)\n",
    "data['Log ruggedness (adaptation) bin'] = data['Log ruggedness (adaptation) bin'].apply(\n",
    "    lambda x: x.mid).astype(float).round(2)\n",
    "\n",
    "sampled_rugg = all_sampled_cond[...,\n",
    "                                config_dataset.objective_col.index(k_rugg)]\n",
    "rugg_k = ruggedness[k_rugg]\n",
    "sampled_rugg = y_datanormaliser.create_chain_preprocessor_inverse(\n",
    "    y_methods_preprocessing)(sampled_rugg, col=k_rugg)\n"
   ]
  },
  {
   "cell_type": "code",
   "execution_count": null,
   "id": "bcf84e8e",
   "metadata": {},
   "outputs": [],
   "source": [
    "# ys_out.reshape(n_samples, n_perturbs, ys_out.shape[-2], ys_out.shape[-1]).shape\n",
    "filt = df_rugg[df_rugg['Log ruggedness (adaptation)'] < 0].index.to_numpy()\n",
    "assert ys_out.ndim == 3, 'Expected ys_out to be 3D: (n_samples, time_steps, species out)'\n",
    "ys_p = ys_out.reshape(n_samples, n_perturbs, *ys_out.shape[1:])[\n",
    "    filt][:, idx_perturbations_og, ...].reshape(-1, *ys_out.shape[1:])"
   ]
  },
  {
   "cell_type": "code",
   "execution_count": null,
   "id": "6062aef8",
   "metadata": {},
   "outputs": [],
   "source": [
    "plt.figure(figsize=(8, 6))\n",
    "for i in range(800):\n",
    "    sns.lineplot(ys_p[i, :, -1], legend=False, alpha=0.1, color='b')"
   ]
  }
 ],
 "metadata": {
  "language_info": {
   "name": "python"
  }
 },
 "nbformat": 4,
 "nbformat_minor": 5
}
