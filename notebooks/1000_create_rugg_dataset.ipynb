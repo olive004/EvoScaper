{
 "cells": [
  {
   "cell_type": "code",
   "execution_count": null,
   "metadata": {},
   "outputs": [],
   "source": [
    "%load_ext autoreload\n",
    "%autoreload 2"
   ]
  },
  {
   "cell_type": "markdown",
   "metadata": {},
   "source": [
    "# Create a new dataset combining ruggedness"
   ]
  },
  {
   "cell_type": "code",
   "execution_count": null,
   "metadata": {},
   "outputs": [],
   "source": [
    "# fn = '../data/raw/summarise_simulation/2024_11_21_144918/tabulated_mutation_info.csv'\n",
    "# fn = '../data/raw/summarise_simulation/2024_11_21_160955/tabulated_mutation_info.csv'\n",
    "fn = '../data/raw/summarise_simulation/2024_12_05_210221/tabulated_mutation_info.csv'\n",
    "# fn = './data/simulate_circuits/2025_01_29__18_12_38/tabulated_mutation_info.json'\n",
    "\n",
    "dir_ruggedness = 'data/07_ruggedness/2025_02_07__15_33_55'\n",
    "ruggedness = np.load(os.path.join(dir_ruggedness, 'ruggedness.npy'))\n",
    "analytics = load_json_as_dict(os.path.join(dir_ruggedness, 'analytics.json'))\n",
    "resimulate_analytics = True\n",
    "\n",
    "# fn_test_data = '../data/raw/summarise_simulation/2023_07_17_222747/tabulated_mutation_info.csv'\n",
    "# data = pd.concat([pd.read_csv(fn), pd.read_csv(fn_test_data)])\n",
    "data = pd.read_json(fn) if fn.endswith('.json') else pd.read_csv(fn)\n",
    "len(data)"
   ]
  }
 ],
 "metadata": {
  "language_info": {
   "name": "python"
  }
 },
 "nbformat": 4,
 "nbformat_minor": 2
}
