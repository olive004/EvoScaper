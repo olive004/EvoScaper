{
 "cells": [
  {
   "cell_type": "code",
   "execution_count": 22,
   "metadata": {},
   "outputs": [
    {
     "name": "stdout",
     "output_type": "stream",
     "text": [
      "The autoreload extension is already loaded. To reload it, use:\n",
      "  %reload_ext autoreload\n"
     ]
    }
   ],
   "source": [
    "%load_ext autoreload\n",
    "%autoreload 2"
   ]
  },
  {
   "cell_type": "markdown",
   "metadata": {},
   "source": [
    "# Verify conditional circuit generation\n",
    "\n",
    "We have previously trained a neural network known as a conditional variational autoencoder on genetic circuits. The conditioning variable was made to be one of the characteristics of the genetic circuit's dynamics, for example the sensitivity of the circuit to a signal. While the distributions for each class of conditional variables differ in the AI-generated circuits, the verification of their ground-truth label is still necessary to assess the validity of the conditionality."
   ]
  },
  {
   "cell_type": "markdown",
   "metadata": {},
   "source": [
    "## Imports"
   ]
  },
  {
   "cell_type": "code",
   "execution_count": null,
   "metadata": {},
   "outputs": [
    {
     "data": {
      "text/plain": [
       "[cuda(id=0), cuda(id=1)]"
      ]
     },
     "execution_count": 23,
     "metadata": {},
     "output_type": "execute_result"
    }
   ],
   "source": [
    "from synbio_morpher.srv.io.manage.script_manager import script_preamble\n",
    "from synbio_morpher.srv.parameter_prediction.simulator import RawSimulationHandling, make_piecewise_stepcontrol\n",
    "from synbio_morpher.utils.results.analytics.timeseries import generate_analytics\n",
    "from synbio_morpher.utils.common.setup import prepare_config, expand_config, expand_model_config\n",
    "from synbio_morpher.utils.data.data_format_tools.common import load_json_as_dict\n",
    "from synbio_morpher.utils.results.analytics.naming import get_true_interaction_cols\n",
    "from synbio_morpher.utils.misc.numerical import symmetrical_matrix_length\n",
    "from synbio_morpher.utils.misc.type_handling import flatten_listlike, get_unique\n",
    "from synbio_morpher.utils.modelling.deterministic import bioreaction_sim_dfx_expanded\n",
    "from synbio_morpher.utils.modelling.solvers import simulate_steady_states\n",
    "from bioreaction.model.data_tools import construct_model_fromnames\n",
    "from bioreaction.model.data_containers import BasicModel, QuantifiedReactions\n",
    "# from bioreaction.simulation.manager import simulate_steady_states\n",
    "from functools import partial\n",
    "\n",
    "from scipy.cluster.vq import whiten\n",
    "from scipy.special import factorial\n",
    "from sklearn.manifold import TSNE\n",
    "import os\n",
    "import sys\n",
    "import numpy as np\n",
    "import haiku as hk\n",
    "import jax\n",
    "import diffrax as dfx\n",
    "\n",
    "from sklearn.preprocessing import MinMaxScaler\n",
    "from sklearn.utils import shuffle\n",
    "\n",
    "from datetime import datetime\n",
    "import pandas as pd\n",
    "import seaborn as sns\n",
    "import matplotlib.pyplot as plt\n",
    "\n",
    "jax.config.update('jax_platform_name', 'gpu')\n",
    "\n",
    "\n",
    "# if __package__ is None:\n",
    "\n",
    "module_path = os.path.abspath(os.path.join('..'))\n",
    "sys.path.append(module_path)\n",
    "\n",
    "__package__ = os.path.basename(module_path)\n",
    "\n",
    "\n",
    "np.random.seed(0)\n",
    "PRNG = jax.random.PRNGKey(0)\n",
    "\n",
    "jax.devices()"
   ]
  },
  {
   "cell_type": "code",
   "execution_count": 24,
   "metadata": {},
   "outputs": [],
   "source": [
    "from evoscaper.model.vae import CVAE, sample_z, VAE_fn\n",
    "from evoscaper.model.mlp import MLP\n",
    "from evoscaper.model.shared import arrayise\n",
    "from evoscaper.model.loss import loss_wrapper, compute_accuracy_regression, mse_loss\n",
    "from evoscaper.utils.math import make_symmetrical_matrix_from_sequence_nojax\n",
    "from common import init_data\n"
   ]
  },
  {
   "cell_type": "markdown",
   "metadata": {},
   "source": [
    "## Load data"
   ]
  },
  {
   "cell_type": "code",
   "execution_count": 25,
   "metadata": {},
   "outputs": [
    {
     "data": {
      "text/plain": [
       "897109"
      ]
     },
     "execution_count": 25,
     "metadata": {},
     "output_type": "execute_result"
    }
   ],
   "source": [
    "fn = '../data/raw/summarise_simulation/2024_11_21_144918/tabulated_mutation_info.csv'\n",
    "# fn = '../data/raw/summarise_simulation/2024_11_21_160955/tabulated_mutation_info.csv'\n",
    "fn_test_data = '../data/raw/summarise_simulation/2023_07_17_222747/tabulated_mutation_info.csv'\n",
    "data = pd.concat([pd.read_csv(fn), pd.read_csv(fn_test_data)])\n",
    "len(data)"
   ]
  },
  {
   "cell_type": "markdown",
   "metadata": {},
   "source": [
    "## Load model"
   ]
  },
  {
   "cell_type": "markdown",
   "metadata": {},
   "source": [
    "### Hyperparameters"
   ]
  },
  {
   "cell_type": "code",
   "execution_count": 26,
   "metadata": {},
   "outputs": [],
   "source": [
    "# Stats\n",
    "SEED = 1\n",
    "PRNG = jax.random.PRNGKey(SEED)\n",
    "\n",
    "# Architecture\n",
    "HIDDEN_SIZE = 32 # 64\n",
    "ENC_LS = 64\n",
    "DEC_LS = 64\n",
    "NUM_ENC_LAYERS = 3\n",
    "NUM_DEC_LAYERS = 3\n",
    "enc_layers = [ENC_LS] * NUM_ENC_LAYERS # [128, 128, 64, 64] # \n",
    "dec_layers = [DEC_LS] * NUM_DEC_LAYERS # [64, 64, 128, 128] # \n",
    "\n",
    "# Dataset \n",
    "OBJECTIVE_COL = 'adaptability'\n",
    "include_diffs = False\n",
    "input_concat_axis = 0\n",
    "X_TYPE = 'energies'  # 'binding_rates_dissociation' #  \n",
    "OUTPUT_SPECIES = ['RNA_1', 'RNA_2']\n",
    "\n",
    "# Dataset training\n",
    "BATCH_SIZE = 128\n",
    "SCALE_X_MINMAX = True\n",
    "SCALE_Y_MINMAX = True\n",
    "TOTAL_DS = None\n",
    "TOTAL_DS_MAX = 3e6\n",
    "N_BATCHES = int(TOTAL_DS_MAX // BATCH_SIZE)\n",
    "USE_X_LOGSCALE = False\n",
    "USE_Y_LOGSCALE = False\n",
    "USE_CATEGORICAL = False\n",
    "USE_NEG_ENERGY = True\n",
    "\n",
    "# Training\n",
    "EPOCHS = 1000\n",
    "LEARNING_RATE = 1e-2\n",
    "LEARNING_RATE_SCHED = 'cosine_decay'  # 'constant\n",
    "TRAIN_SPLIT = 0.8\n",
    "USE_DROPOUT = False\n",
    "USE_L2_REG = False\n",
    "USE_WARMUP = True\n",
    "WARMUP_EPOCHS = 20\n",
    "L2_REG_ALPHA = 0.01\n",
    "PRINT_EVERY = EPOCHS // 100\n",
    "\n",
    "# Loss\n",
    "loss_fn = partial(\n",
    "    loss_wrapper, loss_f=mse_loss, use_l2_reg=USE_L2_REG) \n",
    "compute_accuracy = compute_accuracy_regression\n",
    "\n",
    "# Save \n",
    "TASK = '_test'\n",
    "save_path = str(datetime.now()).split(' ')[0].replace(\n",
    "    '-', '_') + '__' + str(datetime.now()).split(' ')[-1].split('.')[0].replace(':', '_') + '_saves' + TASK\n",
    "save_path = os.path.join('weight_saves', '01_cvae', save_path)\n",
    "X_COLS = list(get_true_interaction_cols(data, X_TYPE, remove_symmetrical=True))\n",
    "if include_diffs:\n",
    "    X_COLS = X_COLS + \\\n",
    "        [[f'{i}_diffs' for i in get_true_interaction_cols(\n",
    "            data, X_TYPE, remove_symmetrical=True)]]\n",
    "\n"
   ]
  },
  {
   "cell_type": "markdown",
   "metadata": {},
   "source": [
    "### Init data"
   ]
  },
  {
   "cell_type": "code",
   "execution_count": 27,
   "metadata": {},
   "outputs": [
    {
     "name": "stderr",
     "output_type": "stream",
     "text": [
      "/workdir/notebooks/common.py:138: FutureWarning: Setting an item of incompatible dtype is deprecated and will raise in a future error of pandas. Value '[654.5 654.5 654.5 ... 654.5 651.8 654.5]' has dtype incompatible with float32, please explicitly cast to a compatible dtype first.\n",
      "  df.loc[:, 'adaptability'] = df['adaptability'].apply(\n"
     ]
    }
   ],
   "source": [
    "(df, x, cond, TOTAL_DS, N_BATCHES, x_scaling, x_unscaling, y_scaling, y_unscaling) = init_data(\n",
    "    data, OUTPUT_SPECIES, X_COLS, TOTAL_DS, TOTAL_DS_MAX, BATCH_SIZE, SEED,\n",
    "    USE_NEG_ENERGY, USE_X_LOGSCALE, SCALE_X_MINMAX,\n",
    "    OBJECTIVE_COL, USE_Y_LOGSCALE, SCALE_Y_MINMAX, USE_CATEGORICAL)"
   ]
  },
  {
   "cell_type": "markdown",
   "metadata": {},
   "source": [
    "### Init model"
   ]
  },
  {
   "cell_type": "code",
   "execution_count": 28,
   "metadata": {},
   "outputs": [
    {
     "name": "stderr",
     "output_type": "stream",
     "text": [
      "/usr/local/lib/python3.11/dist-packages/haiku/_src/initializers.py:127: UserWarning: Explicitly requested dtype float64  is not available, and will be truncated to dtype float32. To enable more dtypes, set the jax_enable_x64 configuration option or the JAX_ENABLE_X64 shell environment variable. See https://github.com/google/jax#current-gotchas for more.\n",
      "  unscaled = jax.random.truncated_normal(\n",
      "/usr/local/lib/python3.11/dist-packages/haiku/_src/base.py:661: UserWarning: Explicitly requested dtype float64 requested in zeros is not available, and will be truncated to dtype float32. To enable more dtypes, set the jax_enable_x64 configuration option or the JAX_ENABLE_X64 shell environment variable. See https://github.com/google/jax#current-gotchas for more.\n",
      "  param = init(shape, dtype)\n"
     ]
    }
   ],
   "source": [
    "model_fn = partial(VAE_fn, enc_layers=enc_layers, dec_layers=dec_layers, decoder_head=x.shape[-1], HIDDEN_SIZE=HIDDEN_SIZE)\n",
    "model_t = hk.multi_transform(model_fn)\n",
    "params = model_t.init(PRNG, x, cond, deterministic=False)\n",
    "encoder, decoder, model, h2mu, h2logvar, reparam = model_t.apply"
   ]
  },
  {
   "cell_type": "code",
   "execution_count": 29,
   "metadata": {},
   "outputs": [
    {
     "data": {
      "text/plain": [
       "(18816, 6)"
      ]
     },
     "execution_count": 29,
     "metadata": {},
     "output_type": "execute_result"
    }
   ],
   "source": [
    "fn_saves = os.path.join('weight_saves', '01_cvae', '2024_11_29__10_43_59_saves_test')\n",
    "saves_loaded = load_json_as_dict(fn_saves)\n",
    "\n",
    "p = saves_loaded[str(list(saves_loaded.keys())[-1])]['params']\n",
    "p = arrayise(p)\n",
    "# p['vae/~/h2mu'] = p.pop('vae/~/linear')\n",
    "# p['vae/~/h2logvar'] = p.pop('vae/~/linear_1')\n",
    "\n",
    "pred_y = model(p, PRNG, x, cond)\n",
    "pred_y.shape"
   ]
  },
  {
   "cell_type": "markdown",
   "metadata": {},
   "source": [
    "### Sample circuits"
   ]
  },
  {
   "cell_type": "code",
   "execution_count": 30,
   "metadata": {},
   "outputs": [
    {
     "data": {
      "text/plain": [
       "((10, 1000, 1), (10000, 6))"
      ]
     },
     "execution_count": 30,
     "metadata": {},
     "output_type": "execute_result"
    }
   ],
   "source": [
    "n_to_sample = 10000\n",
    "cond_splits = 10\n",
    "sampled_cond = np.interp(np.random.rand(\n",
    "    n_to_sample//cond_splits, cond.shape[-1]), [0, 1], np.linspace(cond.min(), cond.max(), cond_splits)[0:2])[None, :]\n",
    "for i in range(1, cond_splits):\n",
    "    sampled_cond0 = np.interp(np.random.rand(\n",
    "        n_to_sample//cond_splits, cond.shape[-1]), [0, 1], np.linspace(cond.min(), cond.max(), cond_splits+1)[i:i+2])[None, :]\n",
    "    sampled_cond = np.concatenate([sampled_cond, sampled_cond0], axis=0)\n",
    "mu = np.random.normal(size=(n_to_sample, HIDDEN_SIZE))\n",
    "logvar = np.random.normal(size=(n_to_sample, HIDDEN_SIZE))\n",
    "z = sample_z(mu=mu, logvar=logvar, key=PRNG)\n",
    "z = np.concatenate([z, sampled_cond.reshape(np.prod(sampled_cond.shape[:-1]), sampled_cond.shape[-1])], axis=-1)\n",
    "\n",
    "fake_circuits = decoder(p, PRNG, z)\n",
    "# fake_circuits = np.where(fake_circuits > 0, 0, fake_circuits)\n",
    "sampled_cond.shape, fake_circuits.shape"
   ]
  },
  {
   "cell_type": "code",
   "execution_count": 31,
   "metadata": {},
   "outputs": [
    {
     "data": {
      "text/plain": [
       "Text(0.5, 1.0, 'Sampled conditioning variable (log sensitivity)')"
      ]
     },
     "execution_count": 31,
     "metadata": {},
     "output_type": "execute_result"
    },
    {
     "data": {
      "image/png": "[encoded data removed]",
      "text/plain": [
       "<Figure size 640x480 with 1 Axes>"
      ]
     },
     "metadata": {},
     "output_type": "display_data"
    }
   ],
   "source": [
    "sns.histplot(sampled_cond.squeeze().T, element='step')\n",
    "plt.title('Sampled conditioning variable (log sensitivity)')"
   ]
  },
  {
   "cell_type": "markdown",
   "metadata": {},
   "source": [
    "# Simulate "
   ]
  },
  {
   "cell_type": "markdown",
   "metadata": {},
   "source": [
    "## Construct circuits"
   ]
  },
  {
   "cell_type": "markdown",
   "metadata": {},
   "source": [
    "### Config"
   ]
  },
  {
   "cell_type": "code",
   "execution_count": 32,
   "metadata": {},
   "outputs": [],
   "source": [
    "run_intarna = True\n",
    "\n",
    "config = {\n",
    "    \"system_type\": \"RNA\",\n",
    "    \"include_prod_deg\": False,\n",
    "    \"data\": {},\n",
    "    \"experiment\": {\n",
    "        \"purpose\": \"tests\",\n",
    "        \"debug_mode\": False\n",
    "    },\n",
    "    \"interaction_simulator\": {\n",
    "        \"name\": \"IntaRNA\",\n",
    "        \"postprocess\": True,\n",
    "        \"simulator_kwargs\": {\n",
    "            \"outcsvcols\": \"id1, id2, E, E_norm, bpList, hybridDPfull, seedPu1, seedPu2, seedStart1, seedStart2, seedEnd1, seedEnd2\",\n",
    "            \"threads\": 12,\n",
    "            \"n\": 1,\n",
    "            \"raw_stdout\": True\n",
    "        }\n",
    "    },\n",
    "    \"molecular_params_factor\": 1,\n",
    "    \"molecular_params\": {\n",
    "        \"avg_mRNA_per_cell\": 100,\n",
    "        \"cell_doubling_time\": 1200,\n",
    "        \"creation_rate\": 2.35,\n",
    "        \"starting_copynumbers\": 200,\n",
    "        \"degradation_rate\": 0.01175,\n",
    "        \"association_binding_rate\": 1000000\n",
    "    },\n",
    "    \"signal\": {\n",
    "        \"inputs\": [\"RNA_0\"],\n",
    "        \"outputs\": [\"RNA_1\"],\n",
    "        \"function_name\": \"step_function\",\n",
    "        \"function_kwargs\": {\n",
    "            \"impulse_center\": 1, \n",
    "            \"impulse_halfwidth\": 5, \n",
    "            \"target\": 2\n",
    "        }\n",
    "    },\n",
    "    \"simulation\": {\n",
    "        \"dt0\": 0.1,\n",
    "        \"t0\": 0,\n",
    "        \"t1\": 100,\n",
    "        \"tmax\": 2000,\n",
    "        \"solver\": \"diffrax\",\n",
    "        \"use_batch_mutations\": True,\n",
    "        \"interaction_factor\": 1,\n",
    "        \"batch_size\": 20000,\n",
    "        \"max_circuits\": 60000,\n",
    "        \"device\": \"gpu\",\n",
    "        \"threshold_steady_states\": 0.05, \n",
    "        \"use_rate_scaling\": True\n",
    "    },\n",
    "    \"system_type\": \"RNA\",\n",
    "}\n",
    "\n",
    "\n",
    "if run_intarna:\n",
    "    data_writer = None\n",
    "    config, data_writer = script_preamble(config, data_writer)\n",
    "    config = prepare_config(expand_config(config=config))"
   ]
  },
  {
   "cell_type": "markdown",
   "metadata": {},
   "source": [
    "### Circuits"
   ]
  },
  {
   "cell_type": "code",
   "execution_count": 33,
   "metadata": {},
   "outputs": [],
   "source": [
    "def update_species_simulated_rates(ordered_species: list, forward_interactions, reverse_interactions, model: BasicModel, qreactions: QuantifiedReactions):\n",
    "    for i, r in enumerate(model.reactions):\n",
    "        if len(r.input) == 2:\n",
    "            model.reactions[i].forward_rate = forward_interactions[\n",
    "                ordered_species.index(r.input[0]), ordered_species.index(r.input[1])]\n",
    "            \n",
    "            model.reactions[i].reverse_rate = reverse_interactions[\n",
    "                ordered_species.index(r.input[0]), ordered_species.index(r.input[1])]\n",
    "    qreactions.reactions = qreactions.init_reactions(\n",
    "        model)\n",
    "    return model, qreactions"
   ]
  },
  {
   "cell_type": "markdown",
   "metadata": {},
   "source": [
    "Reshape the generated circuit energies into a 3x3 symmetrical matrix."
   ]
  },
  {
   "cell_type": "code",
   "execution_count": 34,
   "metadata": {},
   "outputs": [
    {
     "data": {
      "text/plain": [
       "[<bound method MinMaxScaler.inverse_transform of MinMaxScaler()>,\n",
       " <function common.make_x.<locals>.<lambda>(x)>]"
      ]
     },
     "execution_count": 34,
     "metadata": {},
     "output_type": "execute_result"
    }
   ],
   "source": [
    "x_unscaling"
   ]
  },
  {
   "cell_type": "code",
   "execution_count": null,
   "metadata": {},
   "outputs": [],
   "source": [
    "num_species = symmetrical_matrix_length(fake_circuits.shape[-1])\n",
    "input_species = [f'RNA_{i}' for i in range(num_species)]\n",
    "config.update(expand_model_config(config, {}, input_species))\n",
    "for fn in x_unscaling:\n",
    "    fake_circuits = fn(fake_circuits)\n",
    "    \n",
    "# fake_circuits_reshaped = np.where(fake_circuits_reshaped > df[X_COLS[0]].max().max(), df[X_COLS[0]].max().max(), fake_circuits_reshaped)\n",
    "fake_circuits = np.where(fake_circuits > x.max(), x.max(), np.where(fake_circuits < x.min(), x.min(), fake_circuits))\n",
    "fake_circuits_reshaped = np.array(list(map(partial(make_symmetrical_matrix_from_sequence_nojax, side_length=num_species), fake_circuits)))\n"
   ]
  },
  {
   "cell_type": "code",
   "execution_count": 36,
   "metadata": {},
   "outputs": [
    {
     "data": {
      "text/plain": [
       "(10000, 3, 3)"
      ]
     },
     "execution_count": 36,
     "metadata": {},
     "output_type": "execute_result"
    }
   ],
   "source": [
    "fake_circuits_reshaped.shape"
   ]
  },
  {
   "cell_type": "markdown",
   "metadata": {},
   "source": [
    "Initialise barebones circuit models"
   ]
  },
  {
   "cell_type": "code",
   "execution_count": 37,
   "metadata": {},
   "outputs": [
    {
     "name": "stderr",
     "output_type": "stream",
     "text": [
      "/workdir/src/core-bioreaction-simulation/src/bioreaction/model/data_containers.py:230: FutureWarning: None encountered in jnp.array(); this is currently treated as NaN. In the future this will result in an error.\n",
      "  forward_rates = jnp.array([r.forward_rate for r in model.reactions])\n",
      "/workdir/src/core-bioreaction-simulation/src/bioreaction/model/data_containers.py:231: FutureWarning: None encountered in jnp.array(); this is currently treated as NaN. In the future this will result in an error.\n",
      "  reverse_rates = jnp.array([r.reverse_rate for r in model.reactions])\n"
     ]
    }
   ],
   "source": [
    "model_brn = construct_model_fromnames(sample_names=input_species, include_prod_deg=config['include_prod_deg'])\n",
    "ordered_species = sorted(get_unique(flatten_listlike([r.input for r in model_brn.reactions if r.output])))\n",
    "signal_species = ['RNA_0']\n",
    "output_species = ['RNA_1', 'RNA_2']\n",
    "qreactions = QuantifiedReactions()\n",
    "qreactions.init_properties(model_brn, config['starting_concentration'])\n",
    "for i in range(len(model_brn.reactions)):\n",
    "    model_brn.reactions[i].forward_rate = 0\n",
    "    model_brn.reactions[i].reverse_rate = 0\n",
    "    if (not model_brn.reactions[i].input) and config['include_prod_deg']:\n",
    "        model_brn.reactions[i].forward_rate = config['molecular_params'].get(\n",
    "            'creation_rate')\n",
    "    elif (not model_brn.reactions[i].output) and config['include_prod_deg']:\n",
    "        model_brn.reactions[i].forward_rate = config['molecular_params'].get(\n",
    "            'degradation_rate')\n",
    "        \n",
    "\n",
    "reactant_species = [\n",
    "    r.species for r in qreactions.reactants]\n",
    "quantities = np.array([r.quantity for r in qreactions.reactants if r.species.name in input_species])\n",
    "postproc = RawSimulationHandling(config['interaction_simulator']).get_postprocessing(initial=quantities)\n",
    "eqconstants, (a_rates, d_rates) = postproc(np.array(fake_circuits_reshaped[0]))\n",
    "model_brn, qreactions = update_species_simulated_rates(ordered_species, a_rates, d_rates, model_brn, qreactions)\n"
   ]
  },
  {
   "cell_type": "markdown",
   "metadata": {},
   "source": [
    "## Run simulator"
   ]
  },
  {
   "cell_type": "code",
   "execution_count": 38,
   "metadata": {},
   "outputs": [],
   "source": [
    "def compute_analytics(y, t, labels, signal_onehot):\n",
    "    y = np.swapaxes(y, 0, 1)\n",
    "\n",
    "    analytics_func = partial(\n",
    "        generate_analytics, time=t, labels=labels,\n",
    "        signal_onehot=signal_onehot, signal_time=t[1],\n",
    "        ref_circuit_data=None)\n",
    "    return analytics_func(data=y, time=t, labels=labels)\n",
    "\n",
    "\n",
    "def sim(y00, forward_rates, reverse_rates,\n",
    "        qreactions,\n",
    "        signal_onehot, signal_target,\n",
    "        t0, t1, dt0, dt1,\n",
    "        save_steps, max_steps):\n",
    "    sim_func = jax.jit(jax.vmap(partial(bioreaction_sim_dfx_expanded,\n",
    "                                t0=t0, t1=t1, dt0=dt0,\n",
    "                                signal=None, signal_onehot=None,\n",
    "                                inputs=qreactions.reactions.inputs,\n",
    "                                outputs=qreactions.reactions.outputs,\n",
    "                                forward_rates=forward_rates,\n",
    "                                solver=dfx.Tsit5(),\n",
    "                                saveat=dfx.SaveAt(\n",
    "                                    ts=np.linspace(t0, t1, save_steps)),\n",
    "                                max_steps=max_steps,\n",
    "                                stepsize_controller=make_piecewise_stepcontrol(\n",
    "                                    t0=t0, t1=t1, dt0=dt0, dt1=dt1)\n",
    "                                )))\n",
    "    \"\"\" Concentrations should be in the form [circuits, time, species] \"\"\"\n",
    "\n",
    "    y00s, ts0 = simulate_steady_states(y0=y00, total_time=t1-t0, sim_func=sim_func, t0=t0,\n",
    "                                   t1=t1, threshold=0.05, reverse_rates=reverse_rates, disable_logging=True)\n",
    "    y0 = np.array(y00s[:, -1, :]).reshape(y00.shape)\n",
    "    print('Steady states found. Now calculating signal response')\n",
    "\n",
    "    # Signal\n",
    "    y0m = y0 * ((signal_onehot == 0) * 1) + y00 * signal_target * signal_onehot\n",
    "    ys, ts = simulate_steady_states(y0m, total_time=t1-t0, sim_func=sim_func, t0=t0,\n",
    "                                  t1=t1, threshold=0.05, reverse_rates=reverse_rates, disable_logging=True)\n",
    "    ys = np.concatenate([y0, ys.squeeze()[:, :-1, :]], axis=1)\n",
    "\n",
    "    analytics = jax.vmap(partial(compute_analytics, t=ts, labels=np.arange(\n",
    "        ys.shape[-1]), signal_onehot=signal_onehot))(ys)\n",
    "\n",
    "    return analytics, ys, ts, y0m, y00s, ts0"
   ]
  },
  {
   "cell_type": "code",
   "execution_count": null,
   "metadata": {},
   "outputs": [
    {
     "name": "stdout",
     "output_type": "stream",
     "text": [
      "Steady states found. Now calculating signal response\n"
     ]
    }
   ],
   "source": [
    "eqconstants, (forward_rates, reverse_rates) = postproc(fake_circuits_reshaped)\n",
    "if 'binding_rates_dissociation' == X_TYPE:\n",
    "    reverse_rates = fake_circuits_reshaped\n",
    "    eqconstants = forward_rates[0, 0, 0] / reverse_rates\n",
    "\n",
    "signal_onehot = np.where([r.species.name in signal_species for r in qreactions.reactants], 1, 0)\n",
    "forward_rates, reverse_rates = np.array(list(map(lambda i: i[np.triu_indices(n=forward_rates.shape[-1])], forward_rates))), np.array(list(map(lambda i: i[np.triu_indices(n=reverse_rates.shape[-1])], reverse_rates)))\n",
    "signal_target = 2\n",
    "y00 = np.repeat(np.array([r.quantity for r in qreactions.reactants])[None, None, :], repeats=len(fake_circuits_reshaped), axis=0)\n",
    "t0, t1, dt0, dt1 = 0, 100, 0.001, 0.0008\n",
    "save_steps, max_steps = 50, 16**5\n",
    "\n",
    "analytics, ys, ts, y0m, y00s, ts0 = sim(y00, forward_rates[0], reverse_rates,\n",
    "    qreactions,\n",
    "    signal_onehot, signal_target,\n",
    "    t0, t1, dt0, dt1,\n",
    "    save_steps, max_steps)"
   ]
  },
  {
   "cell_type": "code",
   "execution_count": 40,
   "metadata": {},
   "outputs": [
    {
     "data": {
      "image/png": "[encoded data removed]",
      "text/plain": [
       "<Figure size 640x480 with 1 Axes>"
      ]
     },
     "metadata": {},
     "output_type": "display_data"
    }
   ],
   "source": [
    "plt.plot(np.repeat(ts[None, :], repeats=500, axis=0).T, ys[:500, :, 0].T, alpha=0.05, color='b')\n",
    "plt.show()\n",
    "plt.close()"
   ]
  },
  {
   "cell_type": "code",
   "execution_count": 41,
   "metadata": {},
   "outputs": [
    {
     "name": "stdout",
     "output_type": "stream",
     "text": [
      "./data/tests/2024_12_02_111537\n"
     ]
    }
   ],
   "source": [
    "print(data_writer.top_write_dir)\n",
    "data_writer.output(data=analytics, out_type='json', out_name='analytics')\n",
    "data_writer.output(data=ys, out_type='npy', out_name='ys')\n",
    "data_writer.output(data=ts, out_type='npy', out_name='ts')\n",
    "data_writer.output(data=y0m, out_type='npy', out_name='y0m')\n",
    "data_writer.output(data=fake_circuits, out_type='npy', out_name='fake_circuits')"
   ]
  },
  {
   "cell_type": "code",
   "execution_count": 42,
   "metadata": {},
   "outputs": [],
   "source": [
    "analytics['sensitivity_wrt_species-6'] = np.array(analytics['sensitivity_wrt_species-6'])\n",
    "analytics['precision_wrt_species-6'] = np.array(analytics['precision_wrt_species-6'])"
   ]
  },
  {
   "cell_type": "markdown",
   "metadata": {},
   "source": [
    "# Visualise"
   ]
  },
  {
   "cell_type": "code",
   "execution_count": 43,
   "metadata": {},
   "outputs": [
    {
     "data": {
      "image/png": "[encoded data removed]",
      "text/plain": [
       "<Figure size 1300x400 with 2 Axes>"
      ]
     },
     "metadata": {},
     "output_type": "display_data"
    }
   ],
   "source": [
    "fig = plt.figure(figsize=(13, 4))\n",
    "fig.subplots_adjust(wspace=0.6)\n",
    "for i, output_specie in enumerate(output_species):\n",
    "    output_idx = [s.name for s in model_brn.species].index(output_species[i])\n",
    "\n",
    "    s = analytics['sensitivity_wrt_species-6']\n",
    "    s = np.where(s == 0, 1e-7, s)\n",
    "\n",
    "    ax = plt.subplot(1, 2, i+1)\n",
    "    pal = sns.color_palette('viridis', cond_splits)\n",
    "    sample_conds_ave = np.mean(np.array([np.linspace(cond.min(), cond.max(\n",
    "    ), cond_splits+1)[i:m+2] for i, m in zip(range(2), range(cond_splits-2, cond_splits+1))]), axis=0)\n",
    "    for i in range(cond_splits):\n",
    "        sns.histplot(analytics['sensitivity_wrt_species-6'][(i*n_to_sample//cond_splits):((i+1) *\n",
    "                                                            n_to_sample//cond_splits), output_idx],  element='poly', log_scale=[True, False],\n",
    "                     kde=False, fill=False, color=pal[i], bins=20, label=f'{str(sample_conds_ave[i])[:5]}')\n",
    "        # plt.vlines(np.percentile(analytics['sensitivity_wrt_species-6'][i*n_to_sample//cond_splits:(i+1) * n_to_sample//cond_splits,\n",
    "        #            output_idx], q=50), ymin=0, ymax=170, color=sns.color_palette('viridis', n_colors=cond_splits)[i], linestyles='dashed')\n",
    "    # sns.histplot(s.reshape(cond_splits, np.prod(s.shape)//cond_splits).T, element='step', log_scale=[True, False], kde=True, fill=False)\n",
    "    # plt.vlines(np.percentile(analytics['sensitivity_wrt_species-6']\n",
    "    #            [:n_to_sample//2, output_idx], q=[25, 50, 75]), ymin=0, ymax=350)\n",
    "    # ax2 = plt.subplot(1,2,2, sharex=ax)\n",
    "    # sns.histplot(analytics['sensitivity_wrt_species-6'][n_to_sample//2:,\n",
    "    #              output_idx], element='step', log_scale=[True, False], kde=True)\n",
    "    # plt.vlines(np.percentile(analytics['sensitivity_wrt_species-6'][n_to_sample //\n",
    "    #            2:, output_idx], q=[25, 50, 75]), ymin=0, ymax=350, color='orange')\n",
    "    # plt.vlines(np.power(10, sample_conds_ave), ymin=0, ymax=170, color=sns.color_palette(\n",
    "    #     'viridis', n_colors=cond_splits), linestyles='dashed')\n",
    "\n",
    "    plt.legend(title='VAE conditional input')\n",
    "    sns.move_legend(ax, \"upper left\", bbox_to_anchor=(1, 1))\n",
    "    plt.title(f'Sensitivity of generated circuits: species {output_specie}')\n",
    "    plt.xlabel(f'Log10 of sensitivity to signal {signal_species}')"
   ]
  },
  {
   "cell_type": "code",
   "execution_count": 44,
   "metadata": {},
   "outputs": [
    {
     "name": "stderr",
     "output_type": "stream",
     "text": [
      "/usr/local/lib/python3.11/dist-packages/numpy/lib/_function_base_impl.py:4779: RuntimeWarning: invalid value encountered in subtract\n",
      "  diff_b_a = subtract(b, a)\n",
      "category.py:update():223: Using categorical units to plot a list of strings that are all parsable as floats or dates. If these strings should be plotted as numbers, cast to the appropriate data type before plotting. INFO\n",
      "category.py:update():223: Using categorical units to plot a list of strings that are all parsable as floats or dates. If these strings should be plotted as numbers, cast to the appropriate data type before plotting. INFO\n",
      "/usr/local/lib/python3.11/dist-packages/numpy/lib/_function_base_impl.py:4779: RuntimeWarning: invalid value encountered in subtract\n",
      "  diff_b_a = subtract(b, a)\n",
      "category.py:update():223: Using categorical units to plot a list of strings that are all parsable as floats or dates. If these strings should be plotted as numbers, cast to the appropriate data type before plotting. INFO\n",
      "category.py:update():223: Using categorical units to plot a list of strings that are all parsable as floats or dates. If these strings should be plotted as numbers, cast to the appropriate data type before plotting. INFO\n"
     ]
    },
    {
     "name": "stdout",
     "output_type": "stream",
     "text": [
      "Diffs: [nan nan nan nan nan nan nan nan nan nan] nan\n"
     ]
    },
    {
     "data": {
      "image/png": "[encoded data removed]",
      "text/plain": [
       "<Figure size 1300x400 with 2 Axes>"
      ]
     },
     "metadata": {},
     "output_type": "display_data"
    }
   ],
   "source": [
    "# fig = plt.figure(figsize=(13, 4))\n",
    "fig, axs = plt.subplots(1, 2, sharey=True, figsize=(13, 4))\n",
    "fig.subplots_adjust(hspace=0.3, top=0.8)\n",
    "for i, output_specie in enumerate(output_species):\n",
    "    output_idx = [s.name for s in model_brn.species].index(output_species[i])\n",
    "\n",
    "    diffs_conditional_real_sens = np.log10(np.array([np.percentile(\n",
    "        analytics['sensitivity_wrt_species-6'][i*n_to_sample//cond_splits:(i+1) * n_to_sample//cond_splits, output_idx], \n",
    "        q=[25, 50, 75]) for i in range(cond_splits)])) - sample_conds_ave[:, None]\n",
    "\n",
    "    plt.axes(axs[i])\n",
    "    sns.barplot(pd.DataFrame(diffs_conditional_real_sens.T, columns=[\n",
    "                str(i)[:5] for i in sample_conds_ave]), palette='viridis', ax=axs[i])\n",
    "    plt.xlabel('VAE conditioning input')\n",
    "    plt.ylabel('Difference in Log10 sensitivity')\n",
    "    plt.title(f'Specie {output_specie}')\n",
    "\n",
    "plt.suptitle('Difference between VAE output and conditioning\\ninput in 50th percentile of sensitivity')\n",
    "print('Diffs:', diffs_conditional_real_sens[:, 1], np.sum(np.abs(diffs_conditional_real_sens[:, 1])))"
   ]
  },
  {
   "cell_type": "code",
   "execution_count": 45,
   "metadata": {},
   "outputs": [
    {
     "data": {
      "text/plain": [
       "Text(0.5, 0.98, 'Generated circuits: sensitivity vs. precision')"
      ]
     },
     "execution_count": 45,
     "metadata": {},
     "output_type": "execute_result"
    },
    {
     "data": {
      "image/png": "[encoded data removed]",
      "text/plain": [
       "<Figure size 1300x400 with 2 Axes>"
      ]
     },
     "metadata": {},
     "output_type": "display_data"
    }
   ],
   "source": [
    "\n",
    "# fig, axs = plt.subplots(1, 2, sharey=True, figsize=(13, 4))\n",
    "fig = plt.figure(figsize=(13, 4))\n",
    "# fig.subplots_adjust(hspace=0.3, top=0.8)\n",
    "for i, output_specie in enumerate(output_species):\n",
    "    output_idx = [s.name for s in model_brn.species].index(output_species[i])\n",
    "    d = pd.DataFrame()\n",
    "    d['Sensitivity'] = analytics['sensitivity_wrt_species-6'][:, output_idx]\n",
    "    d['Precision'] = analytics['precision_wrt_species-6'][:, output_idx]\n",
    "    d['VAE conditioning input'] = sampled_cond.flatten()\n",
    "    ax = plt.subplot(1,2,i+1)\n",
    "    sns.scatterplot(d, x='Sensitivity', y='Precision', alpha=0.2, hue='VAE conditioning input', palette='viridis', s=20)\n",
    "    plt.xscale('log')\n",
    "    plt.yscale('log')\n",
    "    plt.title(f'Specie {output_specie}')\n",
    "plt.suptitle('Generated circuits: sensitivity vs. precision')\n",
    "# sns.move_legend(ax, \"upper left\", bbox_to_anchor=(1, 1))"
   ]
  },
  {
   "cell_type": "code",
   "execution_count": null,
   "metadata": {},
   "outputs": [],
   "source": []
  }
 ],
 "metadata": {
  "kernelspec": {
   "display_name": "Python 3",
   "language": "python",
   "name": "python3"
  },
  "language_info": {
   "codemirror_mode": {
    "name": "ipython",
    "version": 3
   },
   "file_extension": ".py",
   "mimetype": "text/x-python",
   "name": "python",
   "nbconvert_exporter": "python",
   "pygments_lexer": "ipython3",
   "version": "3.11.10"
  }
 },
 "nbformat": 4,
 "nbformat_minor": 2
}
