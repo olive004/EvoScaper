{
 "cells": [
  {
   "cell_type": "code",
   "execution_count": 12,
   "metadata": {},
   "outputs": [
    {
     "name": "stdout",
     "output_type": "stream",
     "text": [
      "The autoreload extension is already loaded. To reload it, use:\n",
      "  %reload_ext autoreload\n"
     ]
    }
   ],
   "source": [
    "%load_ext autoreload\n",
    "%autoreload 2"
   ]
  },
  {
   "cell_type": "markdown",
   "metadata": {},
   "source": [
    "# Comparison between RNA circuits and classical, activation / repression circuits\n",
    "\n",
    "RNA circuits can only bind to each other. Does this mean that all RNAs are essentially repressing each other indirectly? "
   ]
  },
  {
   "cell_type": "markdown",
   "metadata": {},
   "source": [
    "# Imports"
   ]
  },
  {
   "cell_type": "code",
   "execution_count": 13,
   "metadata": {},
   "outputs": [],
   "source": [
    "import networkx as nx\n",
    "import numpy as np\n",
    "import jax \n",
    "import jax.numpy as jnp \n",
    "import matplotlib.pyplot as plt"
   ]
  },
  {
   "cell_type": "code",
   "execution_count": 14,
   "metadata": {},
   "outputs": [],
   "source": [
    "seed = 0\n",
    "rng = jax.random.PRNGKey(seed)\n",
    "\n",
    "n_nodes = 5\n",
    "n_circuits = int(1e2)\n",
    "i_in = 0\n",
    "i_out = -1\n",
    "w = jax.random.normal(rng, (n_circuits, n_nodes, n_nodes))\n",
    "y00 = jax.random.uniform(rng, (n_circuits, n_nodes, 1))\n"
   ]
  },
  {
   "cell_type": "markdown",
   "metadata": {},
   "source": [
    "# Paper on Robust Perfect Adaptation\n",
    "\n",
    "https://link.springer.com/protocol/10.1007/978-1-0716-3008-2_1#Fig8"
   ]
  },
  {
   "cell_type": "code",
   "execution_count": 15,
   "metadata": {},
   "outputs": [
    {
     "name": "stdout",
     "output_type": "stream",
     "text": [
      "Circuit topologies with perfect robust adaptation\n",
      " []\n"
     ]
    }
   ],
   "source": [
    "\n",
    "m_ij = jnp.delete(w, i_in, axis=1)  # delete row i_in\n",
    "m_ij = jnp.delete(m_ij, i_out, axis=2)  # delete column i_out\n",
    "\n",
    "det_w = jax.vmap(jnp.linalg.det)(w)\n",
    "det_m_ij = jax.vmap(jnp.linalg.det)(m_ij)\n",
    "\n",
    "idxs_rpa = np.where((np.abs(det_m_ij / det_w) < 1e-5) & (det_w != 0))[0]\n",
    "\n",
    "print('Circuit topologies with perfect robust adaptation\\n', w[idxs_rpa])"
   ]
  },
  {
   "cell_type": "markdown",
   "metadata": {},
   "source": [
    "# Simulate"
   ]
  },
  {
   "cell_type": "code",
   "execution_count": 16,
   "metadata": {},
   "outputs": [],
   "source": [
    "from functools import partial\n",
    "import diffrax as dfx\n",
    "from synbio_morpher.utils.modelling.solvers import make_stepsize_controller\n",
    "from evoscaper.utils.simulation import simulate_steady_states\n",
    "\n",
    "def de_sim(t, x, args, rates):\n",
    "    return (x * rates).sum(axis=0)\n",
    "\n",
    "\n",
    "def sim(y0, t0, t1, dt0, rates, solver, saveat, max_steps, stepsize_controller):\n",
    "    \n",
    "    term = dfx.ODETerm(partial(de_sim, rates=rates))\n",
    "    sol = dfx.diffeqsolve(term, solver,\n",
    "                          t0=t0, t1=t1, dt0=dt0,\n",
    "                          y0=y0.squeeze(),\n",
    "                          saveat=saveat, max_steps=max_steps,\n",
    "                          stepsize_controller=stepsize_controller)\n",
    "    \n",
    "    return sol.ts, sol.ys"
   ]
  },
  {
   "cell_type": "code",
   "execution_count": 21,
   "metadata": {},
   "outputs": [
    {
     "name": "stdout",
     "output_type": "stream",
     "text": [
      "Done:  0:00:00.970618\n"
     ]
    }
   ],
   "source": [
    "dt0 = 0.01\n",
    "dt1_factor = 5\n",
    "t0 = 0\n",
    "t1 = 10\n",
    "save_steps = 100\n",
    "max_steps = int(1e8)\n",
    "stepsize_controller = 'adaptive'\n",
    "threshold = 1e-5\n",
    "total_time = None\n",
    "signal_target = 2\n",
    "signal_onehot = np.zeros(n_nodes)\n",
    "signal_onehot[i_in] = 1\n",
    "\n",
    "rate_max = w.max()\n",
    "dt0 = np.min([1 / (5 * rate_max), dt0])\n",
    "dt1 = dt1_factor * dt0\n",
    "total_time = t1 - t0 if total_time is None else total_time\n",
    "\n",
    "sim_func = jax.jit(jax.vmap(partial(sim,\n",
    "                            t0=t0,\n",
    "                            t1=t1,\n",
    "                            dt0=dt0,\n",
    "                            solver=dfx.Tsit5(),\n",
    "                            saveat=dfx.SaveAt(\n",
    "                                ts=np.linspace(t0, t1, save_steps)),\n",
    "                            max_steps=max_steps,\n",
    "                            stepsize_controller=make_stepsize_controller(\n",
    "                                t0=t0, t1=t1, dt0=dt0, dt1=dt1, choice=stepsize_controller),\n",
    "                            )))\n",
    "\n",
    "y00s, ts0 = simulate_steady_states(y0=y00, total_time=total_time, sim_func=sim_func, t0=t0,\n",
    "                                   t1=t1, threshold=threshold, disable_logging=False, rates=w)\n",
    "# y0 = np.array(y00s[:, -1, :]).reshape(y00.shape)\n",
    "\n",
    "# # Signal\n",
    "# y0m = y0 * ((signal_onehot == 0) * 1) + y00 * signal_target * signal_onehot\n",
    "# ys, ts = simulate_steady_states(t0=y0m, total_time=total_time, sim_func=sim_func, t0=t0,\n",
    "#                                 t1=t1, threshold=threshold, disable_logging=False, rates=w)\n",
    "# ys = np.concatenate([y0m, ys.squeeze()[:, :-1, :]], axis=1)"
   ]
  },
  {
   "cell_type": "code",
   "execution_count": 22,
   "metadata": {},
   "outputs": [
    {
     "data": {
      "text/plain": [
       "[<matplotlib.lines.Line2D at 0x7fe38cc1be80>,\n",
       " <matplotlib.lines.Line2D at 0x7fe38cc1ada0>,\n",
       " <matplotlib.lines.Line2D at 0x7fe38cc1bb80>,\n",
       " <matplotlib.lines.Line2D at 0x7fe38cc1a470>,\n",
       " <matplotlib.lines.Line2D at 0x7fe38cc2c3d0>]"
      ]
     },
     "execution_count": 22,
     "metadata": {},
     "output_type": "execute_result"
    },
    {
     "data": {
      "image/png": "[encoded data removed]",
      "text/plain": [
       "<Figure size 640x480 with 1 Axes>"
      ]
     },
     "metadata": {},
     "output_type": "display_data"
    }
   ],
   "source": [
    "plt.plot(ts0, y00s[0, :, :])"
   ]
  },
  {
   "cell_type": "code",
   "execution_count": null,
   "metadata": {},
   "outputs": [],
   "source": []
  }
 ],
 "metadata": {
  "kernelspec": {
   "display_name": "Python 3",
   "language": "python",
   "name": "python3"
  },
  "language_info": {
   "codemirror_mode": {
    "name": "ipython",
    "version": 3
   },
   "file_extension": ".py",
   "mimetype": "text/x-python",
   "name": "python",
   "nbconvert_exporter": "python",
   "pygments_lexer": "ipython3",
   "version": "3.10.12"
  }
 },
 "nbformat": 4,
 "nbformat_minor": 2
}
