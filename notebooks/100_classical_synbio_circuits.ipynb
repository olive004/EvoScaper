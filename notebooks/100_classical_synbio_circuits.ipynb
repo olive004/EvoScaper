{
 "cells": [
  {
   "cell_type": "code",
   "execution_count": 33,
   "metadata": {},
   "outputs": [
    {
     "name": "stdout",
     "output_type": "stream",
     "text": [
      "The autoreload extension is already loaded. To reload it, use:\n",
      "  %reload_ext autoreload\n"
     ]
    }
   ],
   "source": [
    "%load_ext autoreload\n",
    "%autoreload 2"
   ]
  },
  {
   "cell_type": "markdown",
   "metadata": {},
   "source": [
    "# Comparison between RNA circuits and classical, activation / repression circuits\n",
    "\n",
    "RNA circuits can only bind to each other. Does this mean that all RNAs are essentially repressing each other indirectly? "
   ]
  },
  {
   "cell_type": "markdown",
   "metadata": {},
   "source": [
    "# Imports"
   ]
  },
  {
   "cell_type": "code",
   "execution_count": 34,
   "metadata": {},
   "outputs": [],
   "source": [
    "import networkx as nx\n",
    "import numpy as np\n",
    "import jax \n",
    "import jax.numpy as jnp \n",
    "import matplotlib.pyplot as plt"
   ]
  },
  {
   "cell_type": "code",
   "execution_count": 35,
   "metadata": {},
   "outputs": [],
   "source": [
    "seed = 0\n",
    "rng = jax.random.PRNGKey(seed)\n",
    "\n",
    "n_nodes = 5\n",
    "n_circuits = int(1e5)\n",
    "i_in = 0\n",
    "i_out = -1\n",
    "w = jax.random.normal(rng, (n_circuits, n_nodes, n_nodes))\n",
    "x = jax.random.normal(rng, (n_circuits, n_nodes,))\n"
   ]
  },
  {
   "cell_type": "markdown",
   "metadata": {},
   "source": [
    "# Paper on Robust Perfect Adaptation\n",
    "\n",
    "https://link.springer.com/protocol/10.1007/978-1-0716-3008-2_1#Fig8"
   ]
  },
  {
   "cell_type": "code",
   "execution_count": 37,
   "metadata": {},
   "outputs": [
    {
     "name": "stdout",
     "output_type": "stream",
     "text": [
      "Circuit topologies with perfect robust adaptation\n",
      " [[[-3.0919709e-04  1.2407045e+00 -1.1404103e+00  2.6394987e-01\n",
      "    2.7160960e-01]\n",
      "  [-7.1900450e-02  8.5676616e-01  2.9939511e-01 -2.0947373e+00\n",
      "    7.5995606e-01]\n",
      "  [-1.2607771e+00 -7.6881272e-01  1.1154226e+00  1.6869893e+00\n",
      "    5.2316546e-01]\n",
      "  [-1.2370211e+00  8.7236083e-01  1.0365158e+00  5.4233474e-01\n",
      "   -8.5253727e-01]\n",
      "  [ 6.0383672e-01  2.1961947e-01 -7.0074540e-01  3.0394402e-01\n",
      "   -2.9485719e-02]]\n",
      "\n",
      " [[-8.7887272e-02 -1.7399609e+00  2.0067649e+00  4.6096301e-01\n",
      "   -8.1981528e-01]\n",
      "  [-7.5925010e-01 -1.4011464e-01 -1.3585201e-01  9.6262348e-01\n",
      "   -2.5531435e-01]\n",
      "  [ 3.9536640e-01  3.9003396e-01  1.2122730e-01 -6.1387688e-01\n",
      "   -1.1201512e+00]\n",
      "  [ 1.3619567e-01 -1.0142797e-01 -4.0315315e-01  5.1023579e-01\n",
      "   -3.1866100e-01]\n",
      "  [ 6.2992680e-01  7.7983105e-01 -6.1706632e-01  2.7413544e-01\n",
      "    5.8756953e-01]]]\n"
     ]
    }
   ],
   "source": [
    "\n",
    "m_ij = jnp.delete(w, i_in, axis=1)  # delete row i_in\n",
    "m_ij = jnp.delete(m_ij, i_out, axis=2)  # delete column i_out\n",
    "\n",
    "det_w = jax.vmap(jnp.linalg.det)(w)\n",
    "det_m_ij = jax.vmap(jnp.linalg.det)(m_ij)\n",
    "\n",
    "idxs_rpa = np.where((np.abs(det_m_ij / det_w) < 1e-5) & (det_w != 0))[0]\n",
    "\n",
    "print('Circuit topologies with perfect robust adaptation\\n', w[idxs_rpa])"
   ]
  },
  {
   "cell_type": "code",
   "execution_count": null,
   "metadata": {},
   "outputs": [],
   "source": []
  }
 ],
 "metadata": {
  "kernelspec": {
   "display_name": "Python 3",
   "language": "python",
   "name": "python3"
  },
  "language_info": {
   "codemirror_mode": {
    "name": "ipython",
    "version": 3
   },
   "file_extension": ".py",
   "mimetype": "text/x-python",
   "name": "python",
   "nbconvert_exporter": "python",
   "pygments_lexer": "ipython3",
   "version": "3.10.12"
  }
 },
 "nbformat": 4,
 "nbformat_minor": 2
}
