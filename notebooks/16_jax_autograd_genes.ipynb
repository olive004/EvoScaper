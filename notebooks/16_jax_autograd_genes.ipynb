{
 "cells": [
  {
   "cell_type": "code",
   "execution_count": 1,
   "metadata": {},
   "outputs": [],
   "source": [
    "%load_ext autoreload\n",
    "%autoreload 2"
   ]
  },
  {
   "cell_type": "markdown",
   "metadata": {},
   "source": [
    "# Automatic differentiation for genetic circuit optimisation: a JAX showcase\n",
    "\n",
    "In this notebook, we will set up a simple genetic circuit and try to achieve robust adaptation."
   ]
  },
  {
   "cell_type": "markdown",
   "metadata": {},
   "source": [
    "## Imports "
   ]
  },
  {
   "cell_type": "code",
   "execution_count": 2,
   "metadata": {},
   "outputs": [
    {
     "name": "stderr",
     "output_type": "stream",
     "text": [
      "/home/hslab/Olive/env_evo2/lib/python3.10/site-packages/diffrax/adjoint.py:657: UserWarning: As of Equinox 0.10.7, `equinox.filter_custom_vjp.defvjp` is deprecated in favour of `.def_fwd` and `.def_bwd`. This new API supports symbolic zeros, which allow for more efficient autodifferentiation rules. In particular:\n",
      "- the fwd and bwd functions take an extra `perturbed` argument, which     indicates which primals actually need a gradient. You can use this     to skip computing the gradient for any unperturbed value. (You can     also safely just ignore this if you wish.)\n",
      "- `None` was previously passed to indicate a symbolic zero gradient for     all objects that weren't inexact arrays, but all inexact arrays     always had an array-valued gradient. Now, `None` may also be passed     to indicate that an inexact array has a symbolic zero gradient.\n",
      "  _loop_backsolve.defvjp(_loop_backsolve_fwd, _loop_backsolve_bwd)\n",
      "2024-04-18 01:23:32.672049: W external/xla/xla/service/gpu/nvptx_compiler.cc:742] The NVIDIA driver's CUDA version is 12.2 which is older than the ptxas CUDA version (12.4.99). Because the driver is older than the ptxas version, XLA is disabling parallel compilation, which may slow down compilation. You should update your NVIDIA driver or use the NVIDIA-provided CUDA forward compatibility packages.\n"
     ]
    },
    {
     "data": {
      "text/plain": [
       "[cuda(id=0), cuda(id=1)]"
      ]
     },
     "execution_count": 2,
     "metadata": {},
     "output_type": "execute_result"
    }
   ],
   "source": [
    "import os\n",
    "import sys\n",
    "import numpy as np\n",
    "import jax.numpy as jnp\n",
    "import jax\n",
    "import diffrax as dfx\n",
    "import optax\n",
    "\n",
    "from typing import NamedTuple, Tuple\n",
    "import pandas as pd\n",
    "import seaborn as sns\n",
    "import matplotlib.pyplot as plt\n",
    "from functools import partial\n",
    "\n",
    "from synbio_morpher.utils.results.analytics.timeseries import compute_precision, compute_sensitivity, compute_peaks\n",
    "\n",
    "jax.config.update('jax_platform_name', 'gpu')\n",
    "\n",
    "\n",
    "# if __package__ is None:\n",
    "\n",
    "module_path = os.path.abspath(os.path.join('..'))\n",
    "sys.path.append(module_path)\n",
    "\n",
    "__package__ = os.path.basename(module_path)\n",
    "\n",
    "rng = jax.random.PRNGKey(0)\n",
    "\n",
    "jax.devices()\n",
    "\n"
   ]
  },
  {
   "cell_type": "markdown",
   "metadata": {},
   "source": [
    "## Set up circuits"
   ]
  },
  {
   "cell_type": "code",
   "execution_count": 3,
   "metadata": {},
   "outputs": [],
   "source": [
    "n_species = 4\n",
    "n_circuits = 100\n",
    "species_idx_in = 0\n",
    "\n",
    "jr = jax.random.PRNGKey(42)\n",
    "\n",
    "circuit_params = jax.random.uniform(jr, shape=(n_circuits, n_species, n_species)) - 0.5"
   ]
  },
  {
   "cell_type": "markdown",
   "metadata": {},
   "source": [
    "## Set up gene circuits"
   ]
  },
  {
   "cell_type": "code",
   "execution_count": 4,
   "metadata": {},
   "outputs": [],
   "source": [
    "def make_params(mag, sign):\n",
    "    return mag * sign\n",
    "\n",
    "def init_circuit():\n",
    "    \"\"\"\n",
    "    y: abundance of each species\n",
    "    n: size of circuit\n",
    "    \"\"\"\n",
    "    tf_names = ['P0', 'P1', 'P2']\n",
    "    \n",
    "    n = len(tf_names)\n",
    "    y = np.zeros(n)\n",
    "    \n",
    "    # Activation / repression strength between tfs in log scale. Direction is from row index to column index.\n",
    "    # Repression is negative in the direction matrix\n",
    "    magnitudes = np.zeros((n, n))\n",
    "    directions = np.zeros((n, n))  # [-1, 1]\n",
    "    \n",
    "    return tf_names, y, magnitudes, directions, n\n",
    "\n",
    "\n",
    "# def ensure_adaptable(directions, relevant_species_idxs):\n",
    "#     \"\"\" Ensure that conditions for robust adaptation are met, as described in \n",
    "#     Bhattacharya et al. 2022, \"Discovering adaptation-capable biological network structures using control-theoretic approaches\"\n",
    "#     https://journals.plos.org/ploscompbiol/article?id=10.1371/journal.pcbi.1009769#sec005  \n",
    "#     \"\"\"\n",
    "#     nodes_that_matter_mask = np.ones_like(directions)\n",
    "#     nodes_that_matter_mask[relevant_species_idxs] = 0.0\n",
    "#     np.where(directions * nodes_that_matter_mask == -1)\n",
    "    \n",
    "    \n",
    "def adaptable_motifs():\n",
    "    \"\"\" Fromm Bhattacharya et al. 2022, \"Discovering adaptation-capable biological network structures using control-theoretic approaches\"\n",
    "    https://journals.plos.org/ploscompbiol/article?id=10.1371/journal.pcbi.1009769#sec005 \"\"\"\n",
    "    \n",
    "    motif1 = np.array(\n",
    "        [[0, -1, 1,],\n",
    "         [0, 0, 1],\n",
    "         [0, 0, 0]]\n",
    "    )\n",
    "    \n",
    "    motif2 = np.array(\n",
    "        [[0, -1, 1,],\n",
    "         [1, 0, 0],\n",
    "         [0, 0, 0]]\n",
    "    )\n",
    "    \n",
    "    return [motif1, motif2]\n",
    "    \n",
    "\n",
    "def make_rand_circuits():\n",
    "    tf_names, y, magnitudes, directions, n = init_circuit()\n",
    "    n_circ = 100\n",
    "    mag_hi = 1e1\n",
    "    y0_max = 10\n",
    "    species_idx_in = 0\n",
    "    species_idx_out = n-1\n",
    "    \n",
    "    # y0 = np.random.randint(1, y0_max, y.size * n_circ).reshape((n_circ, *y.shape))\n",
    "    # y0 = np.random.rand(n_circ, *y.shape)\n",
    "    # y0[:, species_idx_in] = 0\n",
    "    y0 = np.zeros((n_circ, *y.shape))\n",
    "    \n",
    "    # magnitudes = (np.random.rand(n_circ, *magnitudes.shape) - 0.5) * mag_hi\n",
    "    # magnitudes = np.power(10, magnitudes)\n",
    "    # magnitudes = np.random.rand(*magnitudes.shape) + 1\n",
    "    # magnitudes = magnitudes / magnitudes.max()\n",
    "    \n",
    "    # directions = np.where(np.random.rand(n_circ, *directions.shape) > 0.5, 1.0, -1.0)\n",
    "    # kd = np.random.randint(1, 50, size=y0.size).reshape(y0.shape) / 50\n",
    "    \n",
    "    # Attempt 2\n",
    "    magnitudes = np.abs(np.random.normal(0,0.1,(n_circ, n, n)))\n",
    "    directions = np.ones((n_circ, n, n)) * adaptable_motifs()[0]\n",
    "    kt = np.abs(np.random.normal(0,0.1,y0.shape))   # Transcription baseline rate\n",
    "    kd = np.abs(np.random.normal(0,0.1,y0.shape))   # Degradation baseline rate\n",
    "    \n",
    "    # jax.vmap(partial(ensure_adaptable, relevant_species_idxs=np.array([species_idx_in, species_idx_out])))(directions)\n",
    "    \n",
    "    return y0, magnitudes, directions, kt, kd, tf_names, species_idx_in, species_idx_out, n_circ\n",
    "\n",
    "\n",
    "y0, magnitudes, directions, kt, kd, tf_names, species_idx_in, species_idx_out, n_circ = make_rand_circuits()\n",
    "params = make_params(magnitudes, directions)\n",
    "\n"
   ]
  },
  {
   "cell_type": "code",
   "execution_count": 5,
   "metadata": {},
   "outputs": [
    {
     "data": {
      "text/plain": [
       "(array([[ 0.        , -0.14344404,  0.02579073],\n",
       "        [ 0.        ,  0.        ,  0.06860682],\n",
       "        [ 0.        ,  0.        ,  0.        ]]),\n",
       " array([0.12135457, 0.14524557, 0.29887243]),\n",
       " array([0.03759366, 0.02069964, 0.14388535]),\n",
       " array([0., 0., 0.]))"
      ]
     },
     "execution_count": 5,
     "metadata": {},
     "output_type": "execute_result"
    }
   ],
   "source": [
    "params[0], kt[0], kd[0], y0[0]"
   ]
  },
  {
   "cell_type": "markdown",
   "metadata": {},
   "source": [
    "## Set up equations"
   ]
  },
  {
   "cell_type": "code",
   "execution_count": 6,
   "metadata": {},
   "outputs": [],
   "source": [
    "def one_step_de_sim_expanded(y, inputs, outputs, kf, kr):\n",
    "    y_factors_in = jnp.prod(\n",
    "        jnp.power(y, (inputs)), axis=1)\n",
    "    y_factors_out = jnp.prod(\n",
    "        jnp.power(y, (outputs)), axis=1)\n",
    "    df = y_factors_in * kf\n",
    "    dr = y_factors_out * kr\n",
    "    return (df - dr) @ (outputs - inputs)\n"
   ]
  },
  {
   "cell_type": "code",
   "execution_count": 7,
   "metadata": {},
   "outputs": [],
   "source": [
    "class SignalParams(NamedTuple):\n",
    "    t_thresh: jnp.float64\n",
    "    sig_hi: jnp.float64\n",
    "    sig_lo: jnp.float64\n",
    "    signal_mask: jax.Array\n",
    "\n",
    "\n",
    "def signal(t, signal_params: SignalParams, as_deriv = True):\n",
    "\n",
    "    t_bound = 2.0\n",
    "\n",
    "    if as_deriv:\n",
    "        return jnp.where((t > signal_params.t_thresh - t_bound) & (t < signal_params.t_thresh + t_bound), \n",
    "                     signal_params.sig_hi, signal_params.sig_lo) * signal_params.signal_mask\n",
    "    return jnp.where(t > signal_params.t_thresh, signal_params.sig_hi, signal_params.sig_lo) * signal_params.signal_mask\n",
    "\n",
    "\n",
    "def make_ode(params, kt, kd, sig_params):\n",
    "    def ode(t, y, args) -> jnp.ndarray:\n",
    "        \"\"\"\n",
    "        Args:\n",
    "            t (np.ndarray): time (1D)\n",
    "            y (np.ndarray): amount of each species (axes [t, n_species])\n",
    "            params (np.ndarray): parameters governing ode\n",
    "            sig_params (dict): kwargs to signal function\n",
    "        Returns:\n",
    "            jnp.ndarray: derivative term of y\n",
    "        \"\"\"\n",
    "\n",
    "        x_sig = signal(t, sig_params)\n",
    "        y_sig = y + x_sig\n",
    "\n",
    "        # phi = 1/(jnp.exp(-t)+1)\n",
    "        phi = 1\n",
    "        # x_interactions = jnp.dot(params, y)\n",
    "        x_interactions = (params * y_sig[None, :].T).sum(axis=0) \n",
    "\n",
    "        # dx = phi * x_interactions - kd * y + x_sig\n",
    "        dx = phi * jnp.where(x_interactions > 0, x_interactions, x_interactions * y) + kt - kd * y + x_sig\n",
    "        # dx = phi * x_interactions + kt - kd * y\n",
    "\n",
    "        return dx\n",
    "    return ode"
   ]
  },
  {
   "cell_type": "code",
   "execution_count": 8,
   "metadata": {},
   "outputs": [],
   "source": [
    "def compute_robustness(y, signal_idx):\n",
    "    y0, y1 = y[0, :], y[-1, :]\n",
    "    y_min = jnp.where(y.min(axis=0) == 0, 1.0, y.min(axis=0))\n",
    "    y0 = jnp.where(y[0, :] == 0, jnp.ones_like(y[0, :]), y[0, :])\n",
    "    # y1 = jnp.where(y[-1, :] == 0, 1, y[-1, :])\n",
    "    sig_0, sig_1 = y0[signal_idx], y1[signal_idx]\n",
    "\n",
    "    sig_0_corrected = jnp.where(sig_0 == 0, 1, sig_0)\n",
    "\n",
    "    s = compute_sensitivity(signal_idx, starting_states=y0, peaks=compute_peaks(\n",
    "        y0, y1, y.max(axis=0), y_min))\n",
    "    p = compute_precision(starting_states=y0,\n",
    "                          steady_states=y1, signal_0=sig_0_corrected, signal_1=sig_1)\n",
    "    s_crct = jnp.where((jnp.abs(1.0 - s) * 1e-2) < 1e-7, 0.0, s)\n",
    "    p_crct = jnp.where((jnp.abs(1.0 - p) * 1e-2) < 1e-7, 0.0, p)\n",
    "\n",
    "    denom = (jnp.log10(p * 1e-2))\n",
    "    numer = jnp.log10(s_crct)\n",
    "    r = jnp.where(numer == -jnp.inf, 0, numer) / denom \n",
    "    return r\n",
    "\n",
    "\n",
    "def cost_f(y, signal_idx, output_idx):\n",
    "\n",
    "    robustness = compute_robustness(y, signal_idx)\n",
    "    return - robustness[..., output_idx]\n",
    "\n",
    "\n",
    "def sim_jax(f_dx, y0, t0, t1, dt0):\n",
    "\n",
    "    solver = dfx.Dopri5()\n",
    "    stepsize_controller = dfx.PIDController(rtol=1e-7, atol=1e-9)\n",
    "    saveat = dfx.SaveAt(ts=jnp.linspace(t0, t1, 100))\n",
    "\n",
    "    term = dfx.ODETerm(f_dx)\n",
    "    sol = dfx.diffeqsolve(\n",
    "        term, solver, t0, t1, dt0, y0, saveat=saveat,\n",
    "        stepsize_controller=stepsize_controller, max_steps=16**6\n",
    "    )\n",
    "    ys, ts = sol.ys, sol.ts\n",
    "    return ys, ts\n",
    "\n",
    "\n",
    "def sim_nojax(f_dx, y0, t0, t1, dt0):\n",
    "\n",
    "    ts = np.arange(t0, t1, dt0)\n",
    "    ys = np.zeros((len(ts), *y0.shape))\n",
    "    ys[0] = y0\n",
    "    for i, ti in enumerate(ts):\n",
    "        if i == 0:\n",
    "            continue\n",
    "        y0 += f_dx(ti, y0, None) * dt0\n",
    "        ys[i] = y0\n",
    "    return ys, ts\n",
    "\n",
    "\n",
    "def train_loop(y0, params, kt, kd, use_jax=True):\n",
    "\n",
    "    t0, t1, dt0 = 0.0, 100.0, 0.001\n",
    "\n",
    "    signal_mask = np.zeros(y0.shape)\n",
    "    signal_mask[species_idx_in] = 1.0\n",
    "    sig_params = SignalParams(t_thresh=0, sig_lo=0.0,\n",
    "                              sig_hi=100.0, signal_mask=signal_mask)\n",
    "\n",
    "    f_dx = make_ode(params, kt, kd, sig_params)\n",
    "\n",
    "    if use_jax:\n",
    "        ys, ts = sim_jax(f_dx, y0, t0, t1, dt0)\n",
    "    else:\n",
    "        ys, ts = sim_nojax(f_dx, y0, t0, t1, dt0)\n",
    "\n",
    "    return ys, ts\n",
    "\n",
    "\n",
    "# ys, ts = jax.jit(jax.vmap(train_loop))(y0, params, kd)\n",
    "ys, ts = jax.vmap(partial(train_loop, use_jax=True))(y0, params, kt, kd)\n",
    "# ys, ts = train_loop(y0[0], params[0], kt[0], kd[0], use_jax=True)"
   ]
  },
  {
   "cell_type": "markdown",
   "metadata": {},
   "source": [
    "### Visualise"
   ]
  },
  {
   "cell_type": "code",
   "execution_count": 9,
   "metadata": {},
   "outputs": [],
   "source": [
    "\n",
    "# signal_mask = np.zeros(y0.shape)\n",
    "# signal_mask[species_idx_in] = 1.0\n",
    "# sig_params = SignalParams(t_thresh=0, sig_lo=0.0, sig_hi=100.0, signal_mask=signal_mask[0])\n",
    "\n",
    "# plt.plot(ts[0], ys[0], label=tf_names)\n",
    "# # plt.plot(ts, ys, label=tf_names)\n",
    "# # plt.plot(ts, jax.vmap(partial(signal, signal_params=sig_params, as_deriv=False))(ts)[:, 0], label='signal function')\n",
    "# plt.legend()"
   ]
  },
  {
   "cell_type": "code",
   "execution_count": 10,
   "metadata": {},
   "outputs": [
    {
     "name": "stderr",
     "output_type": "stream",
     "text": [
      "E0418 01:23:34.913495  158272 pjrt_stream_executor_client.cc:2804] Execution of replica 0 failed: RESOURCE_EXHAUSTED: CUDA driver ran out of memory trying to instantiate CUDA graph with 100 nodes and 0 conditionals (total of 0 alive CUDA graphs in the process). You can try to (a) Give more memory to CUDA driver by reducing XLA_PYTHON_CLIENT_MEM_FRACTION (b) Disable CUDA graph with 'XLA_FLAGS=--xla_gpu_enable_command_buffer=' (empty set). Original error: Failed to instantiate CUDA graph:CUDA_ERROR_OUT_OF_MEMORY: out of memory\n"
     ]
    },
    {
     "ename": "XlaRuntimeError",
     "evalue": "RESOURCE_EXHAUSTED: CUDA driver ran out of memory trying to instantiate CUDA graph with 100 nodes and 0 conditionals (total of 0 alive CUDA graphs in the process). You can try to (a) Give more memory to CUDA driver by reducing XLA_PYTHON_CLIENT_MEM_FRACTION (b) Disable CUDA graph with 'XLA_FLAGS=--xla_gpu_enable_command_buffer=' (empty set). Original error: Failed to instantiate CUDA graph:CUDA_ERROR_OUT_OF_MEMORY: out of memory",
     "output_type": "error",
     "traceback": [
      "\u001b[0;31m---------------------------------------------------------------------------\u001b[0m",
      "\u001b[0;31mXlaRuntimeError\u001b[0m                           Traceback (most recent call last)",
      "Cell \u001b[0;32mIn[10], line 1\u001b[0m\n\u001b[0;32m----> 1\u001b[0m \u001b[43mplt\u001b[49m\u001b[38;5;241;43m.\u001b[39;49m\u001b[43mplot\u001b[49m\u001b[43m(\u001b[49m\u001b[43mts\u001b[49m\u001b[43m[\u001b[49m\u001b[38;5;241;43m0\u001b[39;49m\u001b[43m]\u001b[49m\u001b[43m,\u001b[49m\u001b[43m \u001b[49m\u001b[43mys\u001b[49m\u001b[43m[\u001b[49m\u001b[43m:\u001b[49m\u001b[43m,\u001b[49m\u001b[43m \u001b[49m\u001b[43m:\u001b[49m\u001b[43m,\u001b[49m\u001b[43m \u001b[49m\u001b[38;5;241;43m2\u001b[39;49m\u001b[43m]\u001b[49m\u001b[38;5;241;43m.\u001b[39;49m\u001b[43mT\u001b[49m\u001b[43m,\u001b[49m\u001b[43m \u001b[49m\u001b[43mcolor\u001b[49m\u001b[38;5;241;43m=\u001b[39;49m\u001b[38;5;124;43m'\u001b[39;49m\u001b[38;5;124;43mg\u001b[39;49m\u001b[38;5;124;43m'\u001b[39;49m\u001b[43m,\u001b[49m\u001b[43m \u001b[49m\u001b[43malpha\u001b[49m\u001b[38;5;241;43m=\u001b[39;49m\u001b[38;5;241;43m0.1\u001b[39;49m\u001b[43m)\u001b[49m\n\u001b[1;32m      2\u001b[0m plt\u001b[38;5;241m.\u001b[39mshow()\n",
      "File \u001b[0;32m~/Olive/env_evo2/lib/python3.10/site-packages/matplotlib/pyplot.py:3590\u001b[0m, in \u001b[0;36mplot\u001b[0;34m(scalex, scaley, data, *args, **kwargs)\u001b[0m\n\u001b[1;32m   3582\u001b[0m \u001b[38;5;129m@_copy_docstring_and_deprecators\u001b[39m(Axes\u001b[38;5;241m.\u001b[39mplot)\n\u001b[1;32m   3583\u001b[0m \u001b[38;5;28;01mdef\u001b[39;00m \u001b[38;5;21mplot\u001b[39m(\n\u001b[1;32m   3584\u001b[0m     \u001b[38;5;241m*\u001b[39margs: \u001b[38;5;28mfloat\u001b[39m \u001b[38;5;241m|\u001b[39m ArrayLike \u001b[38;5;241m|\u001b[39m \u001b[38;5;28mstr\u001b[39m,\n\u001b[0;32m   (...)\u001b[0m\n\u001b[1;32m   3588\u001b[0m     \u001b[38;5;241m*\u001b[39m\u001b[38;5;241m*\u001b[39mkwargs,\n\u001b[1;32m   3589\u001b[0m ) \u001b[38;5;241m-\u001b[39m\u001b[38;5;241m>\u001b[39m \u001b[38;5;28mlist\u001b[39m[Line2D]:\n\u001b[0;32m-> 3590\u001b[0m     \u001b[38;5;28;01mreturn\u001b[39;00m \u001b[43mgca\u001b[49m\u001b[43m(\u001b[49m\u001b[43m)\u001b[49m\u001b[38;5;241;43m.\u001b[39;49m\u001b[43mplot\u001b[49m\u001b[43m(\u001b[49m\n\u001b[1;32m   3591\u001b[0m \u001b[43m        \u001b[49m\u001b[38;5;241;43m*\u001b[39;49m\u001b[43margs\u001b[49m\u001b[43m,\u001b[49m\n\u001b[1;32m   3592\u001b[0m \u001b[43m        \u001b[49m\u001b[43mscalex\u001b[49m\u001b[38;5;241;43m=\u001b[39;49m\u001b[43mscalex\u001b[49m\u001b[43m,\u001b[49m\n\u001b[1;32m   3593\u001b[0m \u001b[43m        \u001b[49m\u001b[43mscaley\u001b[49m\u001b[38;5;241;43m=\u001b[39;49m\u001b[43mscaley\u001b[49m\u001b[43m,\u001b[49m\n\u001b[1;32m   3594\u001b[0m \u001b[43m        \u001b[49m\u001b[38;5;241;43m*\u001b[39;49m\u001b[38;5;241;43m*\u001b[39;49m\u001b[43m(\u001b[49m\u001b[43m{\u001b[49m\u001b[38;5;124;43m\"\u001b[39;49m\u001b[38;5;124;43mdata\u001b[39;49m\u001b[38;5;124;43m\"\u001b[39;49m\u001b[43m:\u001b[49m\u001b[43m \u001b[49m\u001b[43mdata\u001b[49m\u001b[43m}\u001b[49m\u001b[43m \u001b[49m\u001b[38;5;28;43;01mif\u001b[39;49;00m\u001b[43m \u001b[49m\u001b[43mdata\u001b[49m\u001b[43m \u001b[49m\u001b[38;5;129;43;01mis\u001b[39;49;00m\u001b[43m \u001b[49m\u001b[38;5;129;43;01mnot\u001b[39;49;00m\u001b[43m \u001b[49m\u001b[38;5;28;43;01mNone\u001b[39;49;00m\u001b[43m \u001b[49m\u001b[38;5;28;43;01melse\u001b[39;49;00m\u001b[43m \u001b[49m\u001b[43m{\u001b[49m\u001b[43m}\u001b[49m\u001b[43m)\u001b[49m\u001b[43m,\u001b[49m\n\u001b[1;32m   3595\u001b[0m \u001b[43m        \u001b[49m\u001b[38;5;241;43m*\u001b[39;49m\u001b[38;5;241;43m*\u001b[39;49m\u001b[43mkwargs\u001b[49m\u001b[43m,\u001b[49m\n\u001b[1;32m   3596\u001b[0m \u001b[43m    \u001b[49m\u001b[43m)\u001b[49m\n",
      "File \u001b[0;32m~/Olive/env_evo2/lib/python3.10/site-packages/matplotlib/axes/_axes.py:1724\u001b[0m, in \u001b[0;36mAxes.plot\u001b[0;34m(self, scalex, scaley, data, *args, **kwargs)\u001b[0m\n\u001b[1;32m   1481\u001b[0m \u001b[38;5;250m\u001b[39m\u001b[38;5;124;03m\"\"\"\u001b[39;00m\n\u001b[1;32m   1482\u001b[0m \u001b[38;5;124;03mPlot y versus x as lines and/or markers.\u001b[39;00m\n\u001b[1;32m   1483\u001b[0m \n\u001b[0;32m   (...)\u001b[0m\n\u001b[1;32m   1721\u001b[0m \u001b[38;5;124;03m(``'green'``) or hex strings (``'#008000'``).\u001b[39;00m\n\u001b[1;32m   1722\u001b[0m \u001b[38;5;124;03m\"\"\"\u001b[39;00m\n\u001b[1;32m   1723\u001b[0m kwargs \u001b[38;5;241m=\u001b[39m cbook\u001b[38;5;241m.\u001b[39mnormalize_kwargs(kwargs, mlines\u001b[38;5;241m.\u001b[39mLine2D)\n\u001b[0;32m-> 1724\u001b[0m lines \u001b[38;5;241m=\u001b[39m [\u001b[38;5;241m*\u001b[39m\u001b[38;5;28mself\u001b[39m\u001b[38;5;241m.\u001b[39m_get_lines(\u001b[38;5;28mself\u001b[39m, \u001b[38;5;241m*\u001b[39margs, data\u001b[38;5;241m=\u001b[39mdata, \u001b[38;5;241m*\u001b[39m\u001b[38;5;241m*\u001b[39mkwargs)]\n\u001b[1;32m   1725\u001b[0m \u001b[38;5;28;01mfor\u001b[39;00m line \u001b[38;5;129;01min\u001b[39;00m lines:\n\u001b[1;32m   1726\u001b[0m     \u001b[38;5;28mself\u001b[39m\u001b[38;5;241m.\u001b[39madd_line(line)\n",
      "File \u001b[0;32m~/Olive/env_evo2/lib/python3.10/site-packages/matplotlib/axes/_base.py:303\u001b[0m, in \u001b[0;36m_process_plot_var_args.__call__\u001b[0;34m(self, axes, data, *args, **kwargs)\u001b[0m\n\u001b[1;32m    301\u001b[0m     this \u001b[38;5;241m+\u001b[39m\u001b[38;5;241m=\u001b[39m args[\u001b[38;5;241m0\u001b[39m],\n\u001b[1;32m    302\u001b[0m     args \u001b[38;5;241m=\u001b[39m args[\u001b[38;5;241m1\u001b[39m:]\n\u001b[0;32m--> 303\u001b[0m \u001b[38;5;28;01myield from\u001b[39;00m \u001b[38;5;28;43mself\u001b[39;49m\u001b[38;5;241;43m.\u001b[39;49m\u001b[43m_plot_args\u001b[49m\u001b[43m(\u001b[49m\n\u001b[1;32m    304\u001b[0m \u001b[43m    \u001b[49m\u001b[43maxes\u001b[49m\u001b[43m,\u001b[49m\u001b[43m \u001b[49m\u001b[43mthis\u001b[49m\u001b[43m,\u001b[49m\u001b[43m \u001b[49m\u001b[43mkwargs\u001b[49m\u001b[43m,\u001b[49m\u001b[43m \u001b[49m\u001b[43mambiguous_fmt_datakey\u001b[49m\u001b[38;5;241;43m=\u001b[39;49m\u001b[43mambiguous_fmt_datakey\u001b[49m\u001b[43m)\u001b[49m\n",
      "File \u001b[0;32m~/Olive/env_evo2/lib/python3.10/site-packages/matplotlib/axes/_base.py:494\u001b[0m, in \u001b[0;36m_process_plot_var_args._plot_args\u001b[0;34m(self, axes, tup, kwargs, return_kwargs, ambiguous_fmt_datakey)\u001b[0m\n\u001b[1;32m    491\u001b[0m     x, y \u001b[38;5;241m=\u001b[39m index_of(xy[\u001b[38;5;241m-\u001b[39m\u001b[38;5;241m1\u001b[39m])\n\u001b[1;32m    493\u001b[0m \u001b[38;5;28;01mif\u001b[39;00m axes\u001b[38;5;241m.\u001b[39mxaxis \u001b[38;5;129;01mis\u001b[39;00m \u001b[38;5;129;01mnot\u001b[39;00m \u001b[38;5;28;01mNone\u001b[39;00m:\n\u001b[0;32m--> 494\u001b[0m     \u001b[43maxes\u001b[49m\u001b[38;5;241;43m.\u001b[39;49m\u001b[43mxaxis\u001b[49m\u001b[38;5;241;43m.\u001b[39;49m\u001b[43mupdate_units\u001b[49m\u001b[43m(\u001b[49m\u001b[43mx\u001b[49m\u001b[43m)\u001b[49m\n\u001b[1;32m    495\u001b[0m \u001b[38;5;28;01mif\u001b[39;00m axes\u001b[38;5;241m.\u001b[39myaxis \u001b[38;5;129;01mis\u001b[39;00m \u001b[38;5;129;01mnot\u001b[39;00m \u001b[38;5;28;01mNone\u001b[39;00m:\n\u001b[1;32m    496\u001b[0m     axes\u001b[38;5;241m.\u001b[39myaxis\u001b[38;5;241m.\u001b[39mupdate_units(y)\n",
      "File \u001b[0;32m~/Olive/env_evo2/lib/python3.10/site-packages/matplotlib/axis.py:1706\u001b[0m, in \u001b[0;36mAxis.update_units\u001b[0;34m(self, data)\u001b[0m\n\u001b[1;32m   1700\u001b[0m \u001b[38;5;28;01mdef\u001b[39;00m \u001b[38;5;21mupdate_units\u001b[39m(\u001b[38;5;28mself\u001b[39m, data):\n\u001b[1;32m   1701\u001b[0m \u001b[38;5;250m    \u001b[39m\u001b[38;5;124;03m\"\"\"\u001b[39;00m\n\u001b[1;32m   1702\u001b[0m \u001b[38;5;124;03m    Introspect *data* for units converter and update the\u001b[39;00m\n\u001b[1;32m   1703\u001b[0m \u001b[38;5;124;03m    ``axis.converter`` instance if necessary. Return *True*\u001b[39;00m\n\u001b[1;32m   1704\u001b[0m \u001b[38;5;124;03m    if *data* is registered for unit conversion.\u001b[39;00m\n\u001b[1;32m   1705\u001b[0m \u001b[38;5;124;03m    \"\"\"\u001b[39;00m\n\u001b[0;32m-> 1706\u001b[0m     converter \u001b[38;5;241m=\u001b[39m \u001b[43mmunits\u001b[49m\u001b[38;5;241;43m.\u001b[39;49m\u001b[43mregistry\u001b[49m\u001b[38;5;241;43m.\u001b[39;49m\u001b[43mget_converter\u001b[49m\u001b[43m(\u001b[49m\u001b[43mdata\u001b[49m\u001b[43m)\u001b[49m\n\u001b[1;32m   1707\u001b[0m     \u001b[38;5;28;01mif\u001b[39;00m converter \u001b[38;5;129;01mis\u001b[39;00m \u001b[38;5;28;01mNone\u001b[39;00m:\n\u001b[1;32m   1708\u001b[0m         \u001b[38;5;28;01mreturn\u001b[39;00m \u001b[38;5;28;01mFalse\u001b[39;00m\n",
      "File \u001b[0;32m~/Olive/env_evo2/lib/python3.10/site-packages/matplotlib/units.py:183\u001b[0m, in \u001b[0;36mRegistry.get_converter\u001b[0;34m(self, x)\u001b[0m\n\u001b[1;32m    181\u001b[0m         \u001b[38;5;28;01mpass\u001b[39;00m\n\u001b[1;32m    182\u001b[0m \u001b[38;5;28;01mtry\u001b[39;00m:  \u001b[38;5;66;03m# If cache lookup fails, look up based on first element...\u001b[39;00m\n\u001b[0;32m--> 183\u001b[0m     first \u001b[38;5;241m=\u001b[39m \u001b[43mcbook\u001b[49m\u001b[38;5;241;43m.\u001b[39;49m\u001b[43m_safe_first_finite\u001b[49m\u001b[43m(\u001b[49m\u001b[43mx\u001b[49m\u001b[43m)\u001b[49m\n\u001b[1;32m    184\u001b[0m \u001b[38;5;28;01mexcept\u001b[39;00m (\u001b[38;5;167;01mTypeError\u001b[39;00m, \u001b[38;5;167;01mStopIteration\u001b[39;00m):\n\u001b[1;32m    185\u001b[0m     \u001b[38;5;28;01mpass\u001b[39;00m\n",
      "File \u001b[0;32m~/Olive/env_evo2/lib/python3.10/site-packages/matplotlib/cbook.py:1729\u001b[0m, in \u001b[0;36m_safe_first_finite\u001b[0;34m(obj, skip_nonfinite)\u001b[0m\n\u001b[1;32m   1726\u001b[0m     \u001b[38;5;28;01mraise\u001b[39;00m \u001b[38;5;167;01mRuntimeError\u001b[39;00m(\u001b[38;5;124m\"\u001b[39m\u001b[38;5;124mmatplotlib does not \u001b[39m\u001b[38;5;124m\"\u001b[39m\n\u001b[1;32m   1727\u001b[0m                        \u001b[38;5;124m\"\u001b[39m\u001b[38;5;124msupport generators as input\u001b[39m\u001b[38;5;124m\"\u001b[39m)\n\u001b[1;32m   1728\u001b[0m \u001b[38;5;28;01melse\u001b[39;00m:\n\u001b[0;32m-> 1729\u001b[0m     \u001b[38;5;28;01mfor\u001b[39;00m val \u001b[38;5;129;01min\u001b[39;00m obj:\n\u001b[1;32m   1730\u001b[0m         \u001b[38;5;28;01mif\u001b[39;00m safe_isfinite(val):\n\u001b[1;32m   1731\u001b[0m             \u001b[38;5;28;01mreturn\u001b[39;00m val\n",
      "File \u001b[0;32m~/Olive/env_evo2/lib/python3.10/site-packages/jax/_src/array.py:354\u001b[0m, in \u001b[0;36m<genexpr>\u001b[0;34m(.0)\u001b[0m\n\u001b[1;32m    352\u001b[0m \u001b[38;5;28;01massert\u001b[39;00m \u001b[38;5;28mself\u001b[39m\u001b[38;5;241m.\u001b[39mis_fully_replicated \u001b[38;5;129;01mor\u001b[39;00m \u001b[38;5;28mself\u001b[39m\u001b[38;5;241m.\u001b[39mis_fully_addressable\n\u001b[1;32m    353\u001b[0m \u001b[38;5;28;01mif\u001b[39;00m dispatch\u001b[38;5;241m.\u001b[39mis_single_device_sharding(\u001b[38;5;28mself\u001b[39m\u001b[38;5;241m.\u001b[39msharding) \u001b[38;5;129;01mor\u001b[39;00m \u001b[38;5;28mself\u001b[39m\u001b[38;5;241m.\u001b[39mis_fully_replicated:\n\u001b[0;32m--> 354\u001b[0m   \u001b[38;5;28;01mreturn\u001b[39;00m (sl \u001b[38;5;28;01mfor\u001b[39;00m chunk \u001b[38;5;129;01min\u001b[39;00m \u001b[38;5;28mself\u001b[39m\u001b[38;5;241m.\u001b[39m_chunk_iter(\u001b[38;5;241m100\u001b[39m) \u001b[38;5;28;01mfor\u001b[39;00m sl \u001b[38;5;129;01min\u001b[39;00m \u001b[43mchunk\u001b[49m\u001b[38;5;241;43m.\u001b[39;49m\u001b[43m_unstack\u001b[49m\u001b[43m(\u001b[49m\u001b[43m)\u001b[49m)  \u001b[38;5;66;03m# type: ignore\u001b[39;00m\n\u001b[1;32m    355\u001b[0m \u001b[38;5;28;01melif\u001b[39;00m \u001b[38;5;28misinstance\u001b[39m(\u001b[38;5;28mself\u001b[39m\u001b[38;5;241m.\u001b[39msharding, PmapSharding):\n\u001b[1;32m    356\u001b[0m   \u001b[38;5;28;01mreturn\u001b[39;00m (\u001b[38;5;28mself\u001b[39m[i] \u001b[38;5;28;01mfor\u001b[39;00m i \u001b[38;5;129;01min\u001b[39;00m \u001b[38;5;28mrange\u001b[39m(\u001b[38;5;28mself\u001b[39m\u001b[38;5;241m.\u001b[39mshape[\u001b[38;5;241m0\u001b[39m]))  \u001b[38;5;66;03m# type: ignore\u001b[39;00m\n",
      "    \u001b[0;31m[... skipping hidden 10 frame]\u001b[0m\n",
      "File \u001b[0;32m~/Olive/env_evo2/lib/python3.10/site-packages/jax/_src/interpreters/pxla.py:1209\u001b[0m, in \u001b[0;36mExecuteReplicated.__call__\u001b[0;34m(self, *args)\u001b[0m\n\u001b[1;32m   1207\u001b[0m   \u001b[38;5;28mself\u001b[39m\u001b[38;5;241m.\u001b[39m_handle_token_bufs(result_token_bufs, sharded_runtime_token)\n\u001b[1;32m   1208\u001b[0m \u001b[38;5;28;01melse\u001b[39;00m:\n\u001b[0;32m-> 1209\u001b[0m   results \u001b[38;5;241m=\u001b[39m \u001b[38;5;28;43mself\u001b[39;49m\u001b[38;5;241;43m.\u001b[39;49m\u001b[43mxla_executable\u001b[49m\u001b[38;5;241;43m.\u001b[39;49m\u001b[43mexecute_sharded\u001b[49m\u001b[43m(\u001b[49m\u001b[43minput_bufs\u001b[49m\u001b[43m)\u001b[49m\n\u001b[1;32m   1210\u001b[0m \u001b[38;5;28;01mif\u001b[39;00m dispatch\u001b[38;5;241m.\u001b[39mneeds_check_special():\n\u001b[1;32m   1211\u001b[0m   out_arrays \u001b[38;5;241m=\u001b[39m results\u001b[38;5;241m.\u001b[39mdisassemble_into_single_device_arrays()\n",
      "\u001b[0;31mXlaRuntimeError\u001b[0m: RESOURCE_EXHAUSTED: CUDA driver ran out of memory trying to instantiate CUDA graph with 100 nodes and 0 conditionals (total of 0 alive CUDA graphs in the process). You can try to (a) Give more memory to CUDA driver by reducing XLA_PYTHON_CLIENT_MEM_FRACTION (b) Disable CUDA graph with 'XLA_FLAGS=--xla_gpu_enable_command_buffer=' (empty set). Original error: Failed to instantiate CUDA graph:CUDA_ERROR_OUT_OF_MEMORY: out of memory"
     ]
    },
    {
     "data": {
      "image/png": "[encoded data removed]",
      "text/plain": [
       "<Figure size 640x480 with 1 Axes>"
      ]
     },
     "metadata": {},
     "output_type": "display_data"
    }
   ],
   "source": [
    "plt.plot(ts[0], ys[:, :, 2].T, color='g', alpha=0.1)\n",
    "plt.show()"
   ]
  },
  {
   "cell_type": "code",
   "execution_count": null,
   "metadata": {},
   "outputs": [
    {
     "data": {
      "text/plain": [
       "<Axes: >"
      ]
     },
     "execution_count": 43,
     "metadata": {},
     "output_type": "execute_result"
    },
    {
     "data": {
      "image/png": "[encoded data removed]",
      "text/plain": [
       "<Figure size 640x480 with 1 Axes>"
      ]
     },
     "metadata": {},
     "output_type": "display_data"
    }
   ],
   "source": [
    "df = pd.DataFrame(data=ys.reshape((np.product(ys.shape[:-1]), ys.shape[-1])), index=ts.reshape(ts.size), columns=tf_names)\n",
    "\n",
    "sns.lineplot(df, alpha=1, dashes=False)"
   ]
  },
  {
   "cell_type": "markdown",
   "metadata": {},
   "source": [
    "## Set up optimisation"
   ]
  },
  {
   "cell_type": "code",
   "execution_count": null,
   "metadata": {},
   "outputs": [],
   "source": [
    "class TrainingParams(NamedTuple):\n",
    "    l2_reg_alpha = 0.1\n",
    "    learning_rate = 0.01\n",
    "    warmup_epochs = 1\n",
    "    epochs = 10\n",
    "\n",
    "\n",
    "training_params = TrainingParams()\n",
    "cosine_epochs = max(training_params.epochs - training_params.warmup_epochs, 1)\n",
    "cosine_fn = optax.cosine_decay_schedule(\n",
    "    init_value=training_params.learning_rate, decay_steps=1000)  # , alpha=l2_reg_alpha)\n",
    "schedule_fn = cosine_fn\n",
    "optimiser = optax.sgd(learning_rate=schedule_fn)"
   ]
  },
  {
   "cell_type": "code",
   "execution_count": null,
   "metadata": {},
   "outputs": [],
   "source": [
    "class TrainingState(NamedTuple):\n",
    "    \"\"\"Container for the training state.\"\"\"\n",
    "    params: jax.Array  # Current network parameters.\n",
    "    opt_state: optax.OptState  # Optimiser state (e.g. gradient moments).\n",
    "    rng_key: jax.Array  # RNG used for e.g. dropout. Split on each update step.\n",
    "    step: jax.Array  # Tracks the number of training steps.\n",
    "\n",
    "\n",
    "@jax.jit\n",
    "def init_train(rng: jax.Array, initial_params) -> TrainingState:\n",
    "    \"\"\"Makes an initial training state (random parameters).\"\"\"\n",
    "    # rng, init_rng = jax.random.split(rng)\n",
    "    initial_opt_state = optimiser.init(initial_params)\n",
    "    return TrainingState(\n",
    "        params=initial_params,\n",
    "        opt_state=initial_opt_state,\n",
    "        rng_key=rng,\n",
    "        step=jnp.array(0),\n",
    "    )\n",
    "\n",
    "\n",
    "# @jax.jit\n",
    "def loss_fn(params, y0, kt, kd, species_idx_in, species_idx_out, directions):\n",
    "\n",
    "    ys, ts = jax.vmap(partial(train_loop, use_jax=True))(\n",
    "        y0, \n",
    "        jnp.abs(params) * directions, \n",
    "        kt, kd)\n",
    "    \n",
    "    loss = jax.vmap(partial(cost_f, signal_idx=species_idx_in, output_idx=species_idx_out))(ys).sum()\n",
    "    \n",
    "    return loss\n",
    "\n",
    "\n",
    "def make_scan_f(y0, kt, kd, species_idx_in, species_idx_out, directions):\n",
    "    def f_scan(inp, cr):\n",
    "\n",
    "        state = inp\n",
    "        params, optimiser_state = state.params, state.opt_state\n",
    "        \n",
    "        cost, grads = jax.value_and_grad(loss_fn, argnums=0)(params, y0, kt, kd, species_idx_in, species_idx_out, directions)\n",
    "        updates, new_opt_state = optimiser.update(grads, optimiser_state)\n",
    "        \n",
    "        new_params = optax.apply_updates(params, updates[0])\n",
    "        new_state = TrainingState(\n",
    "            params=new_params,\n",
    "            opt_state=new_opt_state,\n",
    "            rng_key=rng,\n",
    "            step=state.step + 1,\n",
    "        )\n",
    "        \n",
    "        return new_state, [cost, params]\n",
    "    return f_scan\n",
    "    "
   ]
  },
  {
   "cell_type": "markdown",
   "metadata": {},
   "source": [
    "## Run"
   ]
  },
  {
   "cell_type": "code",
   "execution_count": null,
   "metadata": {},
   "outputs": [],
   "source": [
    "cs = np.zeros([training_params.epochs, n_circ])\n",
    "rs = np.zeros([training_params.epochs, *params.shape])\n",
    "\n",
    "seed = 0\n",
    "state = init_train(jax.random.PRNGKey(seed), params)\n",
    "\n",
    "f_scan = jax.jit(make_scan_f(y0, kt, kd, species_idx_in, species_idx_out, directions))\n",
    "cs_all, rs_all = jax.lax.scan(f_scan, init=state, xs=[cs, rs])\n"
   ]
  },
  {
   "cell_type": "code",
   "execution_count": null,
   "metadata": {},
   "outputs": [],
   "source": [
    "cs_all[0]"
   ]
  },
  {
   "cell_type": "code",
   "execution_count": null,
   "metadata": {},
   "outputs": [
    {
     "data": {
      "text/plain": [
       "Array([ -32.853325, -131.91194 ,  -37.51441 ,  -33.04284 ,  -14.623327,\n",
       "        -18.97548 ,  -20.97094 ,  -23.075497,  -29.73783 ,  -34.987946],      dtype=float32)"
      ]
     },
     "execution_count": 47,
     "metadata": {},
     "output_type": "execute_result"
    }
   ],
   "source": [
    "rs_all[0]"
   ]
  },
  {
   "cell_type": "code",
   "execution_count": null,
   "metadata": {},
   "outputs": [],
   "source": [
    "\n",
    "# params, optimiser_state = state.params, state.opt_state\n",
    "\n",
    "# cost, grads = jax.value_and_grad(loss_fn, argnums=0)(params, y0, kt, kd, species_idx_in, species_idx_out, directions)\n",
    "# updates, new_opt_state = optimiser.update(grads, optimiser_state)\n"
   ]
  },
  {
   "cell_type": "code",
   "execution_count": null,
   "metadata": {},
   "outputs": [],
   "source": []
  }
 ],
 "metadata": {
  "kernelspec": {
   "display_name": "env_evo2",
   "language": "python",
   "name": "python3"
  },
  "language_info": {
   "codemirror_mode": {
    "name": "ipython",
    "version": 3
   },
   "file_extension": ".py",
   "mimetype": "text/x-python",
   "name": "python",
   "nbconvert_exporter": "python",
   "pygments_lexer": "ipython3",
   "version": "3.10.13"
  }
 },
 "nbformat": 4,
 "nbformat_minor": 2
}
