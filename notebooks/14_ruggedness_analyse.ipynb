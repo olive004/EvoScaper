{
 "cells": [
  {
   "cell_type": "code",
   "execution_count": 1,
   "metadata": {},
   "outputs": [],
   "source": [
    "%load_ext autoreload\n",
    "%autoreload 2"
   ]
  },
  {
   "cell_type": "markdown",
   "metadata": {},
   "source": [
    "# Analyse ruggedness for different datasets"
   ]
  },
  {
   "cell_type": "code",
   "execution_count": 17,
   "metadata": {},
   "outputs": [
    {
     "data": {
      "text/plain": [
       "[cuda(id=1)]"
      ]
     },
     "execution_count": 17,
     "metadata": {},
     "output_type": "execute_result"
    }
   ],
   "source": [
    "from sklearn.manifold import TSNE\n",
    "import itertools\n",
    "from functools import partial\n",
    "import json\n",
    "import jax.numpy as jnp\n",
    "import numpy as np\n",
    "import os\n",
    "import pandas as pd\n",
    "import jax\n",
    "import seaborn as sns\n",
    "import matplotlib.pyplot as plt\n",
    "from synbio_morpher.utils.data.data_format_tools.common import load_json_as_dict, write_json\n",
    "from synbio_morpher.utils.results.analytics.naming import get_true_interaction_cols\n",
    "from evoscaper.scripts.init_from_hpos import init_from_hpos\n",
    "\n",
    "\n",
    "jax.config.update('jax_platform_name', 'cpu')\n",
    "\n",
    "jax.devices()"
   ]
  },
  {
   "cell_type": "markdown",
   "metadata": {},
   "source": [
    "# Biological resim: dataset 0211"
   ]
  },
  {
   "cell_type": "markdown",
   "metadata": {},
   "source": [
    "## Add ruggedness to og dataset"
   ]
  },
  {
   "cell_type": "code",
   "execution_count": null,
   "metadata": {},
   "outputs": [],
   "source": [
    "fn_ds0211 = 'data/simulate_circuits/2025_02_11__13_56_51/tabulated_mutation_info.json'\n",
    "dir_ds0211_rug1 = 'data/07_ruggedness/2025_03_05__15_19_07'\n",
    "dir_ds0211_rug2 = 'data/07_ruggedness/2025_03_06__22_11_21'\n",
    "\n",
    "data = pd.read_json(fn_ds0211)\n",
    "analytics1 = load_json_as_dict(os.path.join(dir_ds0211_rug1, 'analytics.json'))\n",
    "analytics2 = load_json_as_dict(os.path.join(dir_ds0211_rug2, 'analytics.json'))\n",
    "config = load_json_as_dict(os.path.join(dir_ds0211_rug1, 'config.json'))"
   ]
  },
  {
   "cell_type": "code",
   "execution_count": 14,
   "metadata": {},
   "outputs": [],
   "source": [
    "analytics = {}\n",
    "for k in analytics1:\n",
    "    if k in analytics2:\n",
    "        analytics[k] = np.concatenate([analytics1[k], analytics2[k]])\n",
    "    else: print(k)"
   ]
  },
  {
   "cell_type": "code",
   "execution_count": 20,
   "metadata": {},
   "outputs": [
    {
     "name": "stderr",
     "output_type": "stream",
     "text": [
      "/usr/local/lib/python3.10/dist-packages/pandas/core/arraylike.py:399: RuntimeWarning: divide by zero encountered in log10\n",
      "  result = getattr(ufunc, method)(*inputs, **kwargs)\n"
     ]
    }
   ],
   "source": [
    "hpos = pd.Series(load_json_as_dict(os.path.join(os.path.dirname(config['fn_saves']), 'hpos_all.json')))\n",
    "(\n",
    "    rng, rng_model, rng_dataset,\n",
    "    config_norm_x, config_norm_y, config_filter, config_optimisation, config_dataset, config_training, config_model,\n",
    "    data, x_cols, df,\n",
    "    x, cond, y, x_train, cond_train, y_train, x_val, cond_val, y_val,\n",
    "    total_ds, n_batches, BATCH_SIZE, x_datanormaliser, x_methods_preprocessing, y_datanormaliser, y_methods_preprocessing,\n",
    "    params, encoder, decoder, model, h2mu, h2logvar, reparam\n",
    ") = init_from_hpos(hpos)"
   ]
  },
  {
   "cell_type": "code",
   "execution_count": 21,
   "metadata": {},
   "outputs": [
    {
     "data": {
      "text/plain": [
       "(2579790, 2579790)"
      ]
     },
     "execution_count": 21,
     "metadata": {},
     "output_type": "execute_result"
    }
   ],
   "source": [
    "data_og = pd.read_json(fn_ds0211)\n",
    "len(data), len(data_og)"
   ]
  },
  {
   "cell_type": "code",
   "execution_count": null,
   "metadata": {},
   "outputs": [],
   "source": [
    "species = data['sample_name'].dropna().unique()\n",
    "\n",
    "def add_rugg(analytics: dict, analytic: str):\n",
    "    \n",
    "    n_samples = interactions.shape[0]\n",
    "    n_interactions = interactions.shape[1]\n",
    "    n_perturbs = n_interactions + resimulate_analytics\n",
    "    \n",
    "    analytic_perturbed = jnp.array(\n",
    "        analytics_perturbed[analytic]).reshape(n_samples, n_perturbs, -1)\n",
    "    if resimulate_analytics:\n",
    "        analytic_perturbed = analytic_perturbed[:, :-1, :]\n",
    "        analytic_og = analytic_perturbed[:, -1, :]\n",
    "    else:\n",
    "        analytic_og = np.array(analytics_original[analytic][:n_samples])\n",
    "        \n",
    "    # If loaded from previous data where not all analytics were saved\n",
    "    if analytic_perturbed.shape[-1] != analytic_og.shape[-1]: \n",
    "        analytic_perturbed = analytic_perturbed[..., -analytic_og.shape[-1]:]\n",
    "\n",
    "    ruggedness = jax.vmap(partial(calculate_ruggedness_from_perturbations, eps=eps))(\n",
    "        analytic_perturbed, analytic_og[:, None, :])\n",
    "\n",
    "ruggedness1 = np.load(os.path.join(dir_ds0211_rug1, 'ruggedness.npy'))\n",
    "ruggedness2 = np.load(os.path.join(dir_ds0211_rug2, 'ruggedness.npy'))\n",
    "ruggedness = np.concatenate([ruggedness1, ruggedness2])\n",
    "ruggedness = ruggedness[..., -len(species):]\n",
    "data['ruggedness']"
   ]
  },
  {
   "cell_type": "code",
   "execution_count": 10,
   "metadata": {},
   "outputs": [
    {
     "data": {
      "text/plain": [
       "(array([0.        , 0.4044732 , 0.40420768], dtype=float32),\n",
       " array([0.        , 0.4044732 , 0.40420768, 0.        ], dtype=float32))"
      ]
     },
     "execution_count": 10,
     "metadata": {},
     "output_type": "execute_result"
    }
   ],
   "source": [
    "ruggedness[0], ruggedness.flatten()[:4]"
   ]
  },
  {
   "cell_type": "code",
   "execution_count": null,
   "metadata": {},
   "outputs": [],
   "source": []
  }
 ],
 "metadata": {
  "kernelspec": {
   "display_name": "Python 3",
   "language": "python",
   "name": "python3"
  },
  "language_info": {
   "codemirror_mode": {
    "name": "ipython",
    "version": 3
   },
   "file_extension": ".py",
   "mimetype": "text/x-python",
   "name": "python",
   "nbconvert_exporter": "python",
   "pygments_lexer": "ipython3",
   "version": "3.10.12"
  }
 },
 "nbformat": 4,
 "nbformat_minor": 2
}
