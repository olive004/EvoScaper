{
 "cells": [
  {
   "cell_type": "code",
   "execution_count": 168,
   "metadata": {},
   "outputs": [
    {
     "name": "stdout",
     "output_type": "stream",
     "text": [
      "The autoreload extension is already loaded. To reload it, use:\n",
      "  %reload_ext autoreload\n"
     ]
    }
   ],
   "source": [
    "%load_ext autoreload\n",
    "%autoreload 2"
   ]
  },
  {
   "cell_type": "markdown",
   "metadata": {},
   "source": [
    "# Encoder & Decoder of genetic circuits\n",
    "\n",
    "In this notebook, we will construct an encoder-decoder to create a representation space that correlates with topologies or motifs in a genetic circuit.\n",
    "\n",
    "Inspired by [Generative aptamer discovery using RaptGen](https://www.nature.com/articles/s43588-022-00249-6#Fig1)."
   ]
  },
  {
   "cell_type": "markdown",
   "metadata": {},
   "source": [
    "## Imports"
   ]
  },
  {
   "cell_type": "code",
   "execution_count": 169,
   "metadata": {},
   "outputs": [
    {
     "data": {
      "text/plain": [
       "[gpu(id=0)]"
      ]
     },
     "execution_count": 169,
     "metadata": {},
     "output_type": "execute_result"
    }
   ],
   "source": [
    "from synbio_morpher.utils.data.data_format_tools.common import load_json_as_dict\n",
    "from synbio_morpher.utils.results.analytics.naming import get_true_interaction_cols\n",
    "from synbio_morpher.utils.data.data_format_tools.common import write_json\n",
    "from synbio_morpher.utils.misc.string_handling import prettify_keys_for_label\n",
    "from typing import List\n",
    "from functools import partial\n",
    "\n",
    "import os\n",
    "import sys\n",
    "import numpy as np\n",
    "import haiku as hk\n",
    "import jax\n",
    "import jax.numpy as jnp\n",
    "import equinox as eqx\n",
    "import optax  # https://github.com/deepmind/optax\n",
    "from jaxtyping import Array, Float, Int  # https://github.com/google/jaxtyping\n",
    "\n",
    "from sklearn.preprocessing import MinMaxScaler\n",
    "from sklearn.utils import shuffle\n",
    "from sklearn.metrics import r2_score  \n",
    "                \n",
    "import wandb\n",
    "\n",
    "from datetime import datetime\n",
    "import pandas as pd\n",
    "import seaborn as sns\n",
    "import matplotlib.pyplot as plt\n",
    "\n",
    "jax.config.update('jax_platform_name', 'gpu')\n",
    "\n",
    "\n",
    "# if __package__ is None:\n",
    "\n",
    "module_path = os.path.abspath(os.path.join('..'))\n",
    "sys.path.append(module_path)\n",
    "\n",
    "__package__ = os.path.basename(module_path)\n",
    "\n",
    "\n",
    "jax.devices()"
   ]
  },
  {
   "cell_type": "code",
   "execution_count": 170,
   "metadata": {},
   "outputs": [],
   "source": [
    "from src.models.mlp import MLP, MLP_fn\n",
    "from src.losses.losses import loss_fn, compute_accuracy_categorical, compute_accuracy_regression\n",
    "from src.utils.math import custom_round, convert_to_scientific_exponent\n",
    "from src.utils.data_preprocessing import drop_duplicates_keep_first_n"
   ]
  },
  {
   "cell_type": "markdown",
   "metadata": {},
   "source": [
    "## Load data"
   ]
  },
  {
   "cell_type": "code",
   "execution_count": 171,
   "metadata": {},
   "outputs": [],
   "source": [
    "fn = '../data/processed/ensemble_mutation_effect_analysis/2023_07_17_105328/tabulated_mutation_info.csv'\n",
    "fn_test_data = '../data/raw/ensemble_mutation_effect_analysis/2023_10_03_204819/tabulated_mutation_info.csv'\n",
    "data = pd.read_csv(fn)\n",
    "try:\n",
    "    data.drop(columns=['Unnamed: 0'], inplace=True)\n",
    "except:\n",
    "    pass"
   ]
  },
  {
   "cell_type": "markdown",
   "metadata": {},
   "source": [
    "# Encoder\n",
    "\n",
    "We will use a simple MLP for the encoder and decoder. There are several options for the head, but for now, we will use regression."
   ]
  },
  {
   "cell_type": "markdown",
   "metadata": {},
   "source": [
    "## Hyperparameters"
   ]
  },
  {
   "cell_type": "code",
   "execution_count": 182,
   "metadata": {},
   "outputs": [],
   "source": [
    "BATCH_SIZE = 128\n",
    "N_BATCHES = 1200\n",
    "TOTAL_DS = BATCH_SIZE * N_BATCHES\n",
    "MAX_TOTAL_DS = TOTAL_DS\n",
    "TRAIN_SPLIT = 0.8\n",
    "LEARNING_RATE = 5e-4\n",
    "LEARNING_RATE_SCHED = 'cosine_decay'\n",
    "# LEARNING_RATE_SCHED = 'constant'\n",
    "WARMUP_EPOCHS = 20\n",
    "L2_REG_ALPHA = 0.01\n",
    "EPOCHS = 100\n",
    "PRINT_EVERY = EPOCHS // 10\n",
    "SEED = 1\n",
    "INPUT_SPECIES = 'RNA_1'\n",
    "target_circ_func = 'sensitivity_wrt_species-6'\n",
    "input_concat_diffs = False\n",
    "input_concat_axis = 0\n",
    "\n",
    "# MLP Architecture\n",
    "LAYER_SIZES = [128, 64, 32, 64, 128]\n",
    "USE_CATEGORICAL = False\n",
    "USE_DROPOUT = False\n",
    "USE_L2_REG = False\n",
    "USE_WARMUP = False\n",
    "\n",
    "loss_fn = partial(\n",
    "    loss_fn, loss_type='categorical' if USE_CATEGORICAL else 'mse', use_l2_reg=USE_L2_REG)\n",
    "compute_accuracy = compute_accuracy_categorical if USE_CATEGORICAL else compute_accuracy_regression\n",
    "\n",
    "subtask = 'test_'\n",
    "save_path = 'saves_' + subtask + str(datetime.now()).split(' ')[0].replace(\n",
    "    '-', '_') + '__' + str(datetime.now()).split(' ')[-1].split('.')[0].replace(':', '_')\n",
    "save_path = os.path.join('weight_saves', '08_encoder_decoder', save_path)\n",
    "\n",
    "rng = jax.random.PRNGKey(SEED)"
   ]
  },
  {
   "cell_type": "markdown",
   "metadata": {},
   "source": [
    "## Initialise"
   ]
  },
  {
   "cell_type": "markdown",
   "metadata": {},
   "source": [
    "### Input"
   ]
  },
  {
   "cell_type": "code",
   "execution_count": 183,
   "metadata": {},
   "outputs": [],
   "source": [
    "vectorized_convert_to_scientific_exponent = np.vectorize(\n",
    "    convert_to_scientific_exponent)\n",
    "filt = data['sample_name'] == INPUT_SPECIES\n",
    "numerical_resolution = 2\n",
    "\n",
    "# Balance the dataset\n",
    "df = drop_duplicates_keep_first_n(data[filt], get_true_interaction_cols(\n",
    "    data, 'energies', remove_symmetrical=True), n=100)\n",
    "df[target_circ_func] = df[target_circ_func].round(\n",
    "    np.abs(int(f'{df[target_circ_func].min():.0e}'.split('e')[1]))-1)\n",
    "df = drop_duplicates_keep_first_n(\n",
    "    df, column=target_circ_func, n=200)\n",
    "\n",
    "TOTAL_DS = np.min([TOTAL_DS, MAX_TOTAL_DS, len(df)])\n",
    "N_BATCHES = TOTAL_DS // BATCH_SIZE\n",
    "TOTAL_DS = N_BATCHES * BATCH_SIZE"
   ]
  },
  {
   "cell_type": "code",
   "execution_count": 184,
   "metadata": {},
   "outputs": [],
   "source": [
    "x_cols = [get_true_interaction_cols(data, 'energies', remove_symmetrical=True)]\n",
    "\n",
    "x = [df[i].iloc[:TOTAL_DS].values[:, :, None] for i in x_cols]\n",
    "x = np.concatenate(x, axis=input_concat_axis+1).squeeze()\n",
    "\n",
    "y = x\n",
    "\n",
    "x, y = shuffle(x, y, random_state=SEED)\n",
    "\n",
    "N_HEAD = x.shape[1]\n",
    "\n",
    "\n",
    "if x.shape[0] < TOTAL_DS:\n",
    "    print(\n",
    "        f'WARNING: The filtered data is not as large as the requested total dataset size: {x.shape[0]} vs. requested {TOTAL_DS}')"
   ]
  },
  {
   "cell_type": "markdown",
   "metadata": {},
   "source": [
    "### Initialise WandB"
   ]
  },
  {
   "cell_type": "code",
   "execution_count": 185,
   "metadata": {},
   "outputs": [],
   "source": [
    "# wandb.init(\n",
    "#     # set the wandb project where this run will be logged\n",
    "#     project=\"test_encoder_decoder\",\n",
    "#     # track hyperparameters and run metadata\n",
    "#     config={\n",
    "#         \"architecture\": \"MLP\",\n",
    "#         \"dataset\": \"Circuits\",\n",
    "#         \"epochs\": EPOCHS,\n",
    "#         \"input_species\": INPUT_SPECIES,\n",
    "#         \"input_concat_diffs\": input_concat_diffs,\n",
    "#         \"input_concat_axis\": input_concat_axis,\n",
    "#         \"layer_sizes\": LAYER_SIZES,\n",
    "#         \"learning_rate\": LEARNING_RATE,\n",
    "#         \"learning_rate_schedule\": LEARNING_RATE_SCHED,\n",
    "#         \"n_head\": N_HEAD,\n",
    "#         \"seed\": SEED,\n",
    "#         \"target_circuit_function\": target_circ_func,\n",
    "#         \"total_dataset_size\": TOTAL_DS,\n",
    "#         \"train_split_percentage\": TRAIN_SPLIT,\n",
    "#         \"use_categorical\": USE_CATEGORICAL,\n",
    "#         \"use_dropout\": USE_DROPOUT,\n",
    "#         \"use_L2_reg\": USE_L2_REG,\n",
    "#         \"use_warmup\": USE_WARMUP,\n",
    "#         \"warmup_epochs\": WARMUP_EPOCHS\n",
    "#     }\n",
    "# )"
   ]
  },
  {
   "cell_type": "markdown",
   "metadata": {},
   "source": [
    "### Initialise model"
   ]
  },
  {
   "cell_type": "code",
   "execution_count": 186,
   "metadata": {},
   "outputs": [
    {
     "name": "stderr",
     "output_type": "stream",
     "text": [
      "/home/wadh6511/Kode/env_evo/lib/python3.10/site-packages/haiku/_src/initializers.py:126: UserWarning: Explicitly requested dtype float64  is not available, and will be truncated to dtype float32. To enable more dtypes, set the jax_enable_x64 configuration option or the JAX_ENABLE_X64 shell environment variable. See https://github.com/google/jax#current-gotchas for more.\n",
      "  unscaled = jax.random.truncated_normal(\n",
      "/home/wadh6511/Kode/env_evo/lib/python3.10/site-packages/haiku/_src/base.py:682: UserWarning: Explicitly requested dtype float64 requested in zeros is not available, and will be truncated to dtype float32. To enable more dtypes, set the jax_enable_x64 configuration option or the JAX_ENABLE_X64 shell environment variable. See https://github.com/google/jax#current-gotchas for more.\n",
      "  param = init(shape, dtype)\n"
     ]
    }
   ],
   "source": [
    "model = hk.transform(partial(MLP_fn, init_kwargs={\n",
    "                     'layer_sizes': LAYER_SIZES, 'n_head': N_HEAD, 'use_categorical': USE_CATEGORICAL}))\n",
    "\n",
    "params = model.init(rng, x[:2])"
   ]
  },
  {
   "cell_type": "markdown",
   "metadata": {},
   "source": [
    "### Optimiser"
   ]
  },
  {
   "cell_type": "code",
   "execution_count": 187,
   "metadata": {},
   "outputs": [],
   "source": [
    "if LEARNING_RATE_SCHED == 'cosine_decay':\n",
    "    learning_rate_scheduler = optax.cosine_decay_schedule(\n",
    "        LEARNING_RATE, decay_steps=EPOCHS, alpha=L2_REG_ALPHA)\n",
    "else:\n",
    "    learning_rate_scheduler = LEARNING_RATE\n",
    "optimiser = optax.sgd(learning_rate=learning_rate_scheduler)\n",
    "\n",
    "if USE_WARMUP:\n",
    "    warmup_fn = optax.linear_schedule(\n",
    "        init_value=0., end_value=LEARNING_RATE,\n",
    "        transition_steps=WARMUP_EPOCHS * N_BATCHES)\n",
    "    cosine_epochs = max(EPOCHS - WARMUP_EPOCHS, 1)\n",
    "    cosine_fn = optax.cosine_decay_schedule(\n",
    "        init_value=LEARNING_RATE,\n",
    "        decay_steps=cosine_epochs * N_BATCHES)\n",
    "    schedule_fn = optax.join_schedules(\n",
    "        schedules=[warmup_fn, cosine_fn],\n",
    "        boundaries=[WARMUP_EPOCHS * N_BATCHES])\n",
    "    optimiser = optax.sgd(learning_rate=schedule_fn)\n",
    "\n",
    "optimiser_state = optimiser.init(x)"
   ]
  },
  {
   "cell_type": "markdown",
   "metadata": {},
   "source": [
    "# Train"
   ]
  },
  {
   "cell_type": "code",
   "execution_count": 188,
   "metadata": {},
   "outputs": [],
   "source": [
    "# [i_batch, xy, Batches, *content]\n",
    "        \n",
    "x = x.reshape(N_BATCHES, 1, BATCH_SIZE, x.shape[-1])\n",
    "y = y.reshape(N_BATCHES, 1, BATCH_SIZE, y.shape[-1])\n",
    "\n",
    "x_train, y_train = x[:int(TRAIN_SPLIT * N_BATCHES)], y[:int(TRAIN_SPLIT * N_BATCHES)]\n",
    "x_val, y_val = x[int(TRAIN_SPLIT * N_BATCHES):], y[int(TRAIN_SPLIT * N_BATCHES):]\n",
    "xy_train = np.concatenate([x_train, y_train], axis=1)\n"
   ]
  },
  {
   "cell_type": "code",
   "execution_count": 189,
   "metadata": {},
   "outputs": [],
   "source": [
    "def train_step(params, x, y, optimiser_state, model, rng, l2_reg_alpha, optimiser):\n",
    "\n",
    "    loss, grads = jax.value_and_grad(loss_fn)(\n",
    "        params, rng, model, x, y, l2_reg_alpha=l2_reg_alpha)\n",
    "\n",
    "    updates, optimiser_state = optimiser.update(grads, optimiser_state)\n",
    "    params = optax.apply_updates(params, updates)\n",
    "\n",
    "    return params, optimiser_state, loss, grads\n",
    "\n",
    "\n",
    "def eval_step(params, rng, model: MLP, x, y, l2_reg_alpha):\n",
    "    \"\"\" Return the average of loss and accuracy on validation data \"\"\"\n",
    "    # pred_y = model.apply(params, rng, x)\n",
    "    # return accuracy_score(y, jnp.argmax(pred_y, axis=1))\n",
    "    loss = loss_fn(params, rng, model, x, y, l2_reg_alpha=l2_reg_alpha)\n",
    "    acc = compute_accuracy(params, rng, model, x, y)\n",
    "    return acc, loss\n",
    "\n",
    "\n",
    "def run_batches(params, model, xy_train, rng, l2_reg_alpha, n_batches, optimiser, optimiser_state):\n",
    "\n",
    "    f_train_step = partial(train_step, model=model, rng=rng,\n",
    "                           l2_reg_alpha=l2_reg_alpha, optimiser=optimiser)\n",
    "\n",
    "    def f(carry, inp):\n",
    "\n",
    "        params, optimiser_state = carry[0], carry[1]\n",
    "        x_batch, y_batch = inp[0], inp[1]\n",
    "\n",
    "        params, optimiser_state, loss, grads = f_train_step(\n",
    "            params, x_batch, y_batch, optimiser_state)\n",
    "        return (params, optimiser_state), (loss, grads)\n",
    "\n",
    "    # for x_batch, y_batch in xy_train:\n",
    "    (params, optimiser_state), (train_loss, grads) = jax.lax.scan(\n",
    "        f, (params, optimiser_state), xy_train, length=n_batches)\n",
    "    return params, optimiser_state, train_loss, grads\n",
    "\n",
    "\n",
    "def train(params, rng, model, xy_train, x_val, y_val,\n",
    "          optimiser, optimiser_state,\n",
    "          l2_reg_alpha, epochs,\n",
    "          save_every: int = 50):\n",
    "    saves = {}\n",
    "    n_batches = x_train.shape[0]\n",
    "    for e in range(epochs):\n",
    "        params, optimiser_state, train_loss, grads = run_batches(\n",
    "            params, model, xy_train, rng, l2_reg_alpha, n_batches, optimiser, optimiser_state)\n",
    "\n",
    "        val_acc, val_loss = eval_step(\n",
    "            params, rng, model, x_val, y_val, l2_reg_alpha)\n",
    "\n",
    "        if np.mod(e, save_every) == 0:\n",
    "            saves[e] = {\n",
    "                'params': params,\n",
    "                'grads': grads,\n",
    "                'train_loss': np.mean(train_loss),\n",
    "                'val_loss': val_loss,\n",
    "                'val_accuracy': val_acc\n",
    "            }\n",
    "            print(\n",
    "                f'Epoch {e} / {epochs} -\\t\\t Train loss: {train_loss[-1]}\\tVal loss: {val_loss}\\tVal accuracy: {val_acc}')\n",
    "\n",
    "    return params, saves"
   ]
  },
  {
   "cell_type": "code",
   "execution_count": 190,
   "metadata": {},
   "outputs": [
    {
     "name": "stdout",
     "output_type": "stream",
     "text": [
      "Epoch 0 / 100 -\t\t Train loss: 12.935722351074219\tVal loss: 15.818431854248047\tVal accuracy: 0.0022555214818567038\n"
     ]
    },
    {
     "name": "stdout",
     "output_type": "stream",
     "text": [
      "Epoch 10 / 100 -\t\t Train loss: 12.161361694335938\tVal loss: 14.763789176940918\tVal accuracy: 0.0021914844401180744\n",
      "Epoch 20 / 100 -\t\t Train loss: 12.062145233154297\tVal loss: 14.561148643493652\tVal accuracy: 0.0022982126101851463\n",
      "Epoch 30 / 100 -\t\t Train loss: 12.001487731933594\tVal loss: 14.463573455810547\tVal accuracy: 0.0027108946815133095\n",
      "Epoch 40 / 100 -\t\t Train loss: 11.93957805633545\tVal loss: 14.388443946838379\tVal accuracy: 0.0027820467948913574\n",
      "Epoch 50 / 100 -\t\t Train loss: 11.872943878173828\tVal loss: 14.315180778503418\tVal accuracy: 0.0029599270783364773\n",
      "Epoch 60 / 100 -\t\t Train loss: 11.806676864624023\tVal loss: 14.244997024536133\tVal accuracy: 0.003059539943933487\n",
      "Epoch 70 / 100 -\t\t Train loss: 11.736948013305664\tVal loss: 14.172248840332031\tVal accuracy: 0.00308088562451303\n",
      "Epoch 80 / 100 -\t\t Train loss: 11.661959648132324\tVal loss: 14.09460163116455\tVal accuracy: 0.0029670423828065395\n",
      "Epoch 90 / 100 -\t\t Train loss: 11.580167770385742\tVal loss: 14.008868217468262\tVal accuracy: 0.0028745445888489485\n"
     ]
    }
   ],
   "source": [
    "params, saves = train(params, rng, model, xy_train, x_val, y_val, optimiser, optimiser_state,\n",
    "                      l2_reg_alpha=L2_REG_ALPHA, epochs=EPOCHS,\n",
    "                      save_every=PRINT_EVERY)"
   ]
  },
  {
   "cell_type": "markdown",
   "metadata": {},
   "source": [
    "# Visualise"
   ]
  },
  {
   "cell_type": "code",
   "execution_count": 191,
   "metadata": {},
   "outputs": [
    {
     "data": {
      "text/plain": [
       "Text(0.5, 0, 'step')"
      ]
     },
     "execution_count": 191,
     "metadata": {},
     "output_type": "execute_result"
    },
    {
     "data": {
      "image/png": "[encoded data removed]",
      "text/plain": [
       "<Figure size 2100x600 with 3 Axes>"
      ]
     },
     "metadata": {},
     "output_type": "display_data"
    }
   ],
   "source": [
    "plt.figure(figsize=(7*3, 6))\n",
    "ax = plt.subplot(1, 3, 1)\n",
    "plt.plot(list(saves.keys()), [v['train_loss'] for v in saves.values()])\n",
    "plt.ylabel('train_loss')\n",
    "plt.xlabel('step')\n",
    "ax = plt.subplot(1, 3, 2)\n",
    "plt.plot(list(saves.keys()), [v['val_loss'] for v in saves.values()])\n",
    "plt.ylabel('val_loss')\n",
    "plt.xlabel('step')\n",
    "ax = plt.subplot(1, 3, 3)\n",
    "plt.plot(list(saves.keys()), [v['val_accuracy'] for v in saves.values()])\n",
    "plt.ylabel('val_accuracy')\n",
    "plt.xlabel('step')"
   ]
  },
  {
   "cell_type": "markdown",
   "metadata": {},
   "source": []
  }
 ],
 "metadata": {
  "kernelspec": {
   "display_name": "env_evo",
   "language": "python",
   "name": "python3"
  },
  "language_info": {
   "codemirror_mode": {
    "name": "ipython",
    "version": 3
   },
   "file_extension": ".py",
   "mimetype": "text/x-python",
   "name": "python",
   "nbconvert_exporter": "python",
   "pygments_lexer": "ipython3",
   "version": "3.10.12"
  }
 },
 "nbformat": 4,
 "nbformat_minor": 2
}
