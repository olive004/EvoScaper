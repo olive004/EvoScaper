{
 "cells": [
  {
   "cell_type": "code",
   "execution_count": 1,
   "metadata": {},
   "outputs": [],
   "source": [
    "%load_ext autoreload\n",
    "%autoreload 2"
   ]
  },
  {
   "cell_type": "markdown",
   "metadata": {},
   "source": [
    "# Encoder & Decoder of genetic circuits\n",
    "\n",
    "In this notebook, we will construct an encoder-decoder to create a representation space that correlates with topologies or motifs in a genetic circuit.\n",
    "\n",
    "Inspired by [Generative aptamer discovery using RaptGen](https://www.nature.com/articles/s43588-022-00249-6#Fig1)."
   ]
  },
  {
   "cell_type": "markdown",
   "metadata": {},
   "source": [
    "## Imports"
   ]
  },
  {
   "cell_type": "code",
   "execution_count": 2,
   "metadata": {},
   "outputs": [
    {
     "name": "stderr",
     "output_type": "stream",
     "text": [
      "WARNING: All log messages before absl::InitializeLog() is called are written to STDERR\n",
      "I0000 00:00:1701906829.862382  168224 tfrt_cpu_pjrt_client.cc:349] TfrtCpuClient created.\n"
     ]
    },
    {
     "data": {
      "text/plain": [
       "[gpu(id=0)]"
      ]
     },
     "execution_count": 2,
     "metadata": {},
     "output_type": "execute_result"
    }
   ],
   "source": [
    "from synbio_morpher.utils.data.data_format_tools.common import load_json_as_dict\n",
    "from synbio_morpher.utils.results.analytics.naming import get_true_interaction_cols\n",
    "from synbio_morpher.utils.data.data_format_tools.common import write_json\n",
    "from synbio_morpher.utils.misc.string_handling import prettify_keys_for_label\n",
    "from typing import List\n",
    "from functools import partial\n",
    "\n",
    "import os\n",
    "import sys\n",
    "import numpy as np\n",
    "import haiku as hk\n",
    "import jax\n",
    "import jax.numpy as jnp\n",
    "import equinox as eqx\n",
    "import optax  # https://github.com/deepmind/optax\n",
    "from jaxtyping import Array, Float, Int  # https://github.com/google/jaxtyping\n",
    "\n",
    "from sklearn.preprocessing import MinMaxScaler\n",
    "from sklearn.utils import shuffle\n",
    "from sklearn.metrics import r2_score  \n",
    "                \n",
    "import wandb\n",
    "\n",
    "from datetime import datetime\n",
    "import pandas as pd\n",
    "import seaborn as sns\n",
    "import matplotlib.pyplot as plt\n",
    "\n",
    "jax.config.update('jax_platform_name', 'gpu')\n",
    "\n",
    "\n",
    "# if __package__ is None:\n",
    "\n",
    "module_path = os.path.abspath(os.path.join('..'))\n",
    "sys.path.append(module_path)\n",
    "\n",
    "__package__ = os.path.basename(module_path)\n",
    "\n",
    "\n",
    "jax.devices()"
   ]
  },
  {
   "cell_type": "code",
   "execution_count": 3,
   "metadata": {},
   "outputs": [],
   "source": [
    "from src.models.mlp import MLP, MLP_fn\n",
    "from src.losses.losses import loss_fn, compute_accuracy_categorical, compute_accuracy_regression\n",
    "from src.utils.math import custom_round, convert_to_scientific_exponent\n",
    "from src.utils.data_preprocessing import drop_duplicates_keep_first_n"
   ]
  },
  {
   "cell_type": "markdown",
   "metadata": {},
   "source": [
    "## Load data"
   ]
  },
  {
   "cell_type": "code",
   "execution_count": 4,
   "metadata": {},
   "outputs": [],
   "source": [
    "fn = '../data/processed/ensemble_mutation_effect_analysis/2023_07_17_105328/tabulated_mutation_info.csv'\n",
    "fn_test_data = '../data/raw/ensemble_mutation_effect_analysis/2023_10_03_204819/tabulated_mutation_info.csv'\n",
    "data = pd.read_csv(fn)\n",
    "try:\n",
    "    data.drop(columns=['Unnamed: 0'], inplace=True)\n",
    "except:\n",
    "    pass"
   ]
  },
  {
   "cell_type": "markdown",
   "metadata": {},
   "source": [
    "# Encoder\n",
    "\n",
    "We will use a simple MLP for the encoder and decoder. There are several options for the head, but for now, we will use regression."
   ]
  },
  {
   "cell_type": "markdown",
   "metadata": {},
   "source": [
    "## Hyperparameters"
   ]
  },
  {
   "cell_type": "code",
   "execution_count": 25,
   "metadata": {},
   "outputs": [],
   "source": [
    "BATCH_SIZE = 128\n",
    "N_BATCHES = 1200\n",
    "TOTAL_DS = BATCH_SIZE * N_BATCHES\n",
    "MAX_TOTAL_DS = TOTAL_DS\n",
    "TRAIN_SPLIT = 0.8\n",
    "LEARNING_RATE = 5e-4\n",
    "LEARNING_RATE_SCHED = 'cosine_decay'\n",
    "# LEARNING_RATE_SCHED = 'constant'\n",
    "WARMUP_EPOCHS = 20\n",
    "L2_REG_ALPHA = 0.01\n",
    "EPOCHS = 5000\n",
    "PRINT_EVERY = EPOCHS // 10\n",
    "SEED = 1\n",
    "INPUT_SPECIES = 'RNA_1'\n",
    "target_circ_func = 'sensitivity_wrt_species-6'\n",
    "input_concat_diffs = False\n",
    "input_concat_axis = 0\n",
    "\n",
    "# MLP Architecture\n",
    "LAYER_SIZES = [128, 64, 32, 64, 128]\n",
    "USE_CATEGORICAL = False\n",
    "USE_DROPOUT = False\n",
    "USE_L2_REG = False\n",
    "USE_WARMUP = False\n",
    "\n",
    "loss_fn = partial(\n",
    "    loss_fn, loss_type='categorical' if USE_CATEGORICAL else 'mse', use_l2_reg=USE_L2_REG)\n",
    "compute_accuracy = compute_accuracy_categorical if USE_CATEGORICAL else compute_accuracy_regression\n",
    "\n",
    "subtask = 'test_'\n",
    "save_path = 'saves_' + subtask + str(datetime.now()).split(' ')[0].replace(\n",
    "    '-', '_') + '__' + str(datetime.now()).split(' ')[-1].split('.')[0].replace(':', '_')\n",
    "save_path = os.path.join('weight_saves', '08_encoder_decoder', save_path)\n",
    "\n",
    "rng = jax.random.PRNGKey(SEED)"
   ]
  },
  {
   "cell_type": "markdown",
   "metadata": {},
   "source": [
    "## Initialise"
   ]
  },
  {
   "cell_type": "markdown",
   "metadata": {},
   "source": [
    "### Input"
   ]
  },
  {
   "cell_type": "code",
   "execution_count": 26,
   "metadata": {},
   "outputs": [],
   "source": [
    "vectorized_convert_to_scientific_exponent = np.vectorize(\n",
    "    convert_to_scientific_exponent)\n",
    "filt = data['sample_name'] == INPUT_SPECIES\n",
    "numerical_resolution = 2\n",
    "\n",
    "# Balance the dataset\n",
    "df = drop_duplicates_keep_first_n(data[filt], get_true_interaction_cols(\n",
    "    data, 'energies', remove_symmetrical=True), n=100)\n",
    "df[target_circ_func] = df[target_circ_func].round(\n",
    "    np.abs(int(f'{df[target_circ_func].min():.0e}'.split('e')[1]))-1)\n",
    "df = drop_duplicates_keep_first_n(\n",
    "    df, column=target_circ_func, n=200)\n",
    "\n",
    "TOTAL_DS = np.min([TOTAL_DS, MAX_TOTAL_DS, len(df)])\n",
    "N_BATCHES = TOTAL_DS // BATCH_SIZE\n",
    "TOTAL_DS = N_BATCHES * BATCH_SIZE"
   ]
  },
  {
   "cell_type": "code",
   "execution_count": 27,
   "metadata": {},
   "outputs": [],
   "source": [
    "x_cols = [get_true_interaction_cols(data, 'energies', remove_symmetrical=True)]\n",
    "\n",
    "x = [df[i].iloc[:TOTAL_DS].values[:, :, None] for i in x_cols]\n",
    "x = np.concatenate(x, axis=input_concat_axis+1).squeeze()\n",
    "\n",
    "y = x\n",
    "\n",
    "x, y = shuffle(x, y, random_state=SEED)\n",
    "\n",
    "N_HEAD = x.shape[1]\n",
    "\n",
    "\n",
    "if x.shape[0] < TOTAL_DS:\n",
    "    print(\n",
    "        f'WARNING: The filtered data is not as large as the requested total dataset size: {x.shape[0]} vs. requested {TOTAL_DS}')"
   ]
  },
  {
   "cell_type": "markdown",
   "metadata": {},
   "source": [
    "### Initialise WandB"
   ]
  },
  {
   "cell_type": "code",
   "execution_count": 28,
   "metadata": {},
   "outputs": [],
   "source": [
    "# wandb.init(\n",
    "#     # set the wandb project where this run will be logged\n",
    "#     project=\"test_encoder_decoder\",\n",
    "#     # track hyperparameters and run metadata\n",
    "#     config={\n",
    "#         \"architecture\": \"MLP\",\n",
    "#         \"dataset\": \"Circuits\",\n",
    "#         \"epochs\": EPOCHS,\n",
    "#         \"input_species\": INPUT_SPECIES,\n",
    "#         \"input_concat_diffs\": input_concat_diffs,\n",
    "#         \"input_concat_axis\": input_concat_axis,\n",
    "#         \"layer_sizes\": LAYER_SIZES,\n",
    "#         \"learning_rate\": LEARNING_RATE,\n",
    "#         \"learning_rate_schedule\": LEARNING_RATE_SCHED,\n",
    "#         \"n_head\": N_HEAD,\n",
    "#         \"seed\": SEED,\n",
    "#         \"target_circuit_function\": target_circ_func,\n",
    "#         \"total_dataset_size\": TOTAL_DS,\n",
    "#         \"train_split_percentage\": TRAIN_SPLIT,\n",
    "#         \"use_categorical\": USE_CATEGORICAL,\n",
    "#         \"use_dropout\": USE_DROPOUT,\n",
    "#         \"use_L2_reg\": USE_L2_REG,\n",
    "#         \"use_warmup\": USE_WARMUP,\n",
    "#         \"warmup_epochs\": WARMUP_EPOCHS\n",
    "#     }\n",
    "# )"
   ]
  },
  {
   "cell_type": "markdown",
   "metadata": {},
   "source": [
    "### Initialise model"
   ]
  },
  {
   "cell_type": "code",
   "execution_count": 29,
   "metadata": {},
   "outputs": [
    {
     "name": "stderr",
     "output_type": "stream",
     "text": [
      "/home/wadh6511/Kode/env_evo/lib/python3.10/site-packages/haiku/_src/initializers.py:126: UserWarning: Explicitly requested dtype float64  is not available, and will be truncated to dtype float32. To enable more dtypes, set the jax_enable_x64 configuration option or the JAX_ENABLE_X64 shell environment variable. See https://github.com/google/jax#current-gotchas for more.\n",
      "  unscaled = jax.random.truncated_normal(\n",
      "/home/wadh6511/Kode/env_evo/lib/python3.10/site-packages/haiku/_src/base.py:682: UserWarning: Explicitly requested dtype float64 requested in zeros is not available, and will be truncated to dtype float32. To enable more dtypes, set the jax_enable_x64 configuration option or the JAX_ENABLE_X64 shell environment variable. See https://github.com/google/jax#current-gotchas for more.\n",
      "  param = init(shape, dtype)\n"
     ]
    }
   ],
   "source": [
    "model = hk.transform(partial(MLP_fn, init_kwargs={\n",
    "                     'layer_sizes': LAYER_SIZES, 'n_head': N_HEAD, 'use_categorical': USE_CATEGORICAL}))\n",
    "\n",
    "params = model.init(rng, x[:2])"
   ]
  },
  {
   "cell_type": "markdown",
   "metadata": {},
   "source": [
    "### Optimiser"
   ]
  },
  {
   "cell_type": "code",
   "execution_count": 30,
   "metadata": {},
   "outputs": [],
   "source": [
    "if LEARNING_RATE_SCHED == 'cosine_decay':\n",
    "    learning_rate_scheduler = optax.cosine_decay_schedule(\n",
    "        LEARNING_RATE, decay_steps=EPOCHS, alpha=L2_REG_ALPHA)\n",
    "else:\n",
    "    learning_rate_scheduler = LEARNING_RATE\n",
    "optimiser = optax.sgd(learning_rate=learning_rate_scheduler)\n",
    "\n",
    "if USE_WARMUP:\n",
    "    warmup_fn = optax.linear_schedule(\n",
    "        init_value=0., end_value=LEARNING_RATE,\n",
    "        transition_steps=WARMUP_EPOCHS * N_BATCHES)\n",
    "    cosine_epochs = max(EPOCHS - WARMUP_EPOCHS, 1)\n",
    "    cosine_fn = optax.cosine_decay_schedule(\n",
    "        init_value=LEARNING_RATE,\n",
    "        decay_steps=cosine_epochs * N_BATCHES)\n",
    "    schedule_fn = optax.join_schedules(\n",
    "        schedules=[warmup_fn, cosine_fn],\n",
    "        boundaries=[WARMUP_EPOCHS * N_BATCHES])\n",
    "    optimiser = optax.sgd(learning_rate=schedule_fn)\n",
    "\n",
    "optimiser_state = optimiser.init(x)"
   ]
  },
  {
   "cell_type": "markdown",
   "metadata": {},
   "source": [
    "# Train"
   ]
  },
  {
   "cell_type": "code",
   "execution_count": 31,
   "metadata": {},
   "outputs": [],
   "source": [
    "# [i_batch, xy, Batches, *content]\n",
    "        \n",
    "x = x.reshape(N_BATCHES, 1, BATCH_SIZE, x.shape[-1])\n",
    "y = y.reshape(N_BATCHES, 1, BATCH_SIZE, y.shape[-1])\n",
    "\n",
    "x_train, y_train = x[:int(TRAIN_SPLIT * N_BATCHES)], y[:int(TRAIN_SPLIT * N_BATCHES)]\n",
    "x_val, y_val = x[int(TRAIN_SPLIT * N_BATCHES):], y[int(TRAIN_SPLIT * N_BATCHES):]\n",
    "xy_train = np.concatenate([x_train, y_train], axis=1)\n"
   ]
  },
  {
   "cell_type": "code",
   "execution_count": 32,
   "metadata": {},
   "outputs": [],
   "source": [
    "def train_step(params, x, y, optimiser_state, model, rng, l2_reg_alpha, optimiser):\n",
    "\n",
    "    loss, grads = jax.value_and_grad(loss_fn)(\n",
    "        params, rng, model, x, y, l2_reg_alpha=l2_reg_alpha)\n",
    "\n",
    "    updates, optimiser_state = optimiser.update(grads, optimiser_state)\n",
    "    params = optax.apply_updates(params, updates)\n",
    "\n",
    "    return params, optimiser_state, loss, grads\n",
    "\n",
    "\n",
    "def eval_step(params, rng, model: MLP, x, y, l2_reg_alpha):\n",
    "    \"\"\" Return the average of loss and accuracy on validation data \"\"\"\n",
    "    loss = loss_fn(params, rng, model, x, y, l2_reg_alpha=l2_reg_alpha)\n",
    "    acc = compute_accuracy(params, rng, model, x, y)\n",
    "    return acc, loss\n",
    "\n",
    "\n",
    "def run_batches(params, model, xy_train, rng, l2_reg_alpha, optimiser, optimiser_state):\n",
    "\n",
    "    f_train_step = partial(train_step, model=model, rng=rng,\n",
    "                           l2_reg_alpha=l2_reg_alpha, optimiser=optimiser)\n",
    "\n",
    "    def f(carry, inp):\n",
    "\n",
    "        params, optimiser_state = carry[0], carry[1]\n",
    "        x_batch, y_batch = inp[0], inp[1]\n",
    "\n",
    "        params, optimiser_state, loss, grads = f_train_step(\n",
    "            params, x_batch, y_batch, optimiser_state)\n",
    "        return (params, optimiser_state), (loss, grads)\n",
    "\n",
    "    # for x_batch, y_batch in xy_train:\n",
    "    (params, optimiser_state), (train_loss, grads) = jax.lax.scan(\n",
    "        f, (params, optimiser_state), xy_train)\n",
    "    return params, optimiser_state, train_loss, grads\n",
    "\n",
    "\n",
    "# def run_batches(params, model, xy_train, rng, l2_reg_alpha, optimiser, optimiser_state):\n",
    "\n",
    "#     f_train_step = partial(train_step, model=model, rng=rng,\n",
    "#                            l2_reg_alpha=l2_reg_alpha, optimiser=optimiser)\n",
    "\n",
    "#     for x_batch, y_batch in xy_train:\n",
    "\n",
    "#         if len(x_batch) and len(y_batch):\n",
    "#             params, optimiser_state, train_loss, grads = f_train_step(\n",
    "#                 params, x_batch, y_batch, optimiser_state)\n",
    "\n",
    "#     return params, optimiser_state, train_loss, grads\n",
    "\n",
    "\n",
    "def train(params, rng, model, xy_train, x_val, y_val,\n",
    "          optimiser, optimiser_state,\n",
    "          l2_reg_alpha, epochs,\n",
    "          save_every: int = 50):\n",
    "\n",
    "    def f(carry, _):\n",
    "        params, optimiser_state = carry[0], carry[1]\n",
    "\n",
    "        params, optimiser_state, train_loss, grads = run_batches(\n",
    "            params, model, xy_train, rng, l2_reg_alpha, optimiser, optimiser_state)\n",
    "\n",
    "        val_acc, val_loss = eval_step(\n",
    "            params, rng, model, x_val, y_val, l2_reg_alpha)\n",
    "\n",
    "        return (params, optimiser_state), (params, grads, train_loss, val_loss, val_acc)\n",
    "\n",
    "    try:\n",
    "        (params, optimiser_state), (params_stack, grads, train_loss, val_loss, val_acc) = jax.lax.scan(\n",
    "            f, init=(params, optimiser_state), xs=None, length=epochs)\n",
    "        saves = {\n",
    "            'params': params_stack,\n",
    "            'grads': grads,\n",
    "            'train_loss': train_loss,\n",
    "            'val_loss': val_loss,\n",
    "            'val_accuracy': val_acc\n",
    "        }\n",
    "    except:\n",
    "        saves = {}\n",
    "        for e in range(epochs):\n",
    "            (params, optimiser_state), (params_stack, grads, train_loss,\n",
    "                                        val_loss, val_acc) = f((params, optimiser_state), None)\n",
    "            \n",
    "            if np.mod(e, save_every) == 0:\n",
    "                saves[e] = {\n",
    "                    'params': params_stack,\n",
    "                    'grads': grads,\n",
    "                    'train_loss': train_loss,\n",
    "                    'val_loss': val_loss,\n",
    "                    'val_accuracy': val_acc\n",
    "                }\n",
    "                print(\n",
    "                    f'Epoch {e} / {epochs} -\\t\\t Train loss: {np.mean(train_loss)}\\tVal loss: {val_loss}\\tVal accuracy: {val_acc}')\n",
    "\n",
    "    return params, saves"
   ]
  },
  {
   "cell_type": "code",
   "execution_count": 33,
   "metadata": {},
   "outputs": [
    {
     "name": "stderr",
     "output_type": "stream",
     "text": [
      "W0000 00:00:1701907428.046993  168224 hlo_rematerialization.cc:2946] Can't reduce memory use below -281.32GiB (-302068888450 bytes) by rematerialization; only reduced to 305.63GiB (328171781772 bytes), down from 305.63GiB (328171781772 bytes) originally\n",
      "2023-12-07 00:03:58.450269: W external/tsl/tsl/framework/bfc_allocator.cc:485] Allocator (GPU_0_bfc) ran out of memory trying to allocate 111.39GiB (rounded to 119603200000)requested by op \n",
      "2023-12-07 00:03:58.450710: W external/tsl/tsl/framework/bfc_allocator.cc:497] ***********************************************************************_____________________________\n",
      "2023-12-07 00:03:58.451297: E external/xla/xla/pjrt/pjrt_stream_executor_client.cc:2644] Execution of replica 0 failed: RESOURCE_EXHAUSTED: Out of memory while trying to allocate 119603200000 bytes.\n",
      "BufferAssignment OOM Debugging.\n",
      "BufferAssignment stats:\n",
      "             parameter allocation:    5.43MiB\n",
      "              constant allocation:        36B\n",
      "        maybe_live_out allocation:  305.53GiB\n",
      "     preallocated temp allocation:  108.24MiB\n",
      "                 total allocation:  305.64GiB\n",
      "Peak buffers:\n",
      "\tBuffer 1:\n",
      "\t\tSize: 111.39GiB\n",
      "\t\tOperator: op_name=\"jit(scan)/jit(main)/while/body/dynamic_update_slice\" source_file=\"/tmp/ipykernel_168224/3825306338.py\" source_line=70\n",
      "\t\tXLA Label: fusion\n",
      "\t\tShape: f32[5000,730,64,128]\n",
      "\t\t==========================\n",
      "\n",
      "\tBuffer 2:\n",
      "\t\tSize: 111.39GiB\n",
      "\t\tOperator: op_name=\"jit(scan)/jit(main)/while/body/dynamic_update_slice\" source_file=\"/tmp/ipykernel_168224/3825306338.py\" source_line=70\n",
      "\t\tXLA Label: fusion\n",
      "\t\tShape: f32[5000,730,128,64]\n",
      "\t\t==========================\n",
      "\n",
      "\tBuffer 3:\n",
      "\t\tSize: 27.85GiB\n",
      "\t\tOperator: op_name=\"jit(scan)/jit(main)/while/body/dynamic_update_slice\" source_file=\"/tmp/ipykernel_168224/3825306338.py\" source_line=70\n",
      "\t\tXLA Label: fusion\n",
      "\t\tShape: f32[5000,730,32,64]\n",
      "\t\t==========================\n",
      "\n",
      "\tBuffer 4:\n",
      "\t\tSize: 27.85GiB\n",
      "\t\tOperator: op_name=\"jit(scan)/jit(main)/while/body/dynamic_update_slice\" source_file=\"/tmp/ipykernel_168224/3825306338.py\" source_line=70\n",
      "\t\tXLA Label: fusion\n",
      "\t\tShape: f32[5000,730,64,32]\n",
      "\t\t==========================\n",
      "\n",
      "\tBuffer 5:\n",
      "\t\tSize: 10.44GiB\n",
      "\t\tOperator: op_name=\"jit(scan)/jit(main)/while/body/dynamic_update_slice\" source_file=\"/tmp/ipykernel_168224/3825306338.py\" source_line=70\n",
      "\t\tXLA Label: fusion\n",
      "\t\tShape: f32[5000,730,128,6]\n",
      "\t\t==========================\n",
      "\n",
      "\tBuffer 6:\n",
      "\t\tSize: 10.44GiB\n",
      "\t\tOperator: op_name=\"jit(scan)/jit(main)/while/body/dynamic_update_slice\" source_file=\"/tmp/ipykernel_168224/3825306338.py\" source_line=70\n",
      "\t\tXLA Label: fusion\n",
      "\t\tShape: f32[5000,730,6,128]\n",
      "\t\t==========================\n",
      "\n",
      "\tBuffer 7:\n",
      "\t\tSize: 1.74GiB\n",
      "\t\tOperator: op_name=\"jit(scan)/jit(main)/while/body/dynamic_update_slice\" source_file=\"/tmp/ipykernel_168224/3825306338.py\" source_line=70 deduplicated_name=\"fusion.62\"\n",
      "\t\tXLA Label: fusion\n",
      "\t\tShape: f32[5000,730,128]\n",
      "\t\t==========================\n",
      "\n",
      "\tBuffer 8:\n",
      "\t\tSize: 1.74GiB\n",
      "\t\tOperator: op_name=\"jit(scan)/jit(main)/while/body/dynamic_update_slice\" source_file=\"/tmp/ipykernel_168224/3825306338.py\" source_line=70 deduplicated_name=\"fusion.62\"\n",
      "\t\tXLA Label: fusion\n",
      "\t\tShape: f32[5000,730,128]\n",
      "\t\t==========================\n",
      "\n",
      "\tBuffer 9:\n",
      "\t\tSize: 891.11MiB\n",
      "\t\tOperator: op_name=\"jit(scan)/jit(main)/while/body/dynamic_update_slice\" source_file=\"/tmp/ipykernel_168224/3825306338.py\" source_line=70 deduplicated_name=\"fusion.64\"\n",
      "\t\tXLA Label: fusion\n",
      "\t\tShape: f32[5000,730,64]\n",
      "\t\t==========================\n",
      "\n",
      "\tBuffer 10:\n",
      "\t\tSize: 891.11MiB\n",
      "\t\tOperator: op_name=\"jit(scan)/jit(main)/while/body/dynamic_update_slice\" source_file=\"/tmp/ipykernel_168224/3825306338.py\" source_line=70 deduplicated_name=\"fusion.64\"\n",
      "\t\tXLA Label: fusion\n",
      "\t\tShape: f32[5000,730,64]\n",
      "\t\t==========================\n",
      "\n",
      "\tBuffer 11:\n",
      "\t\tSize: 445.56MiB\n",
      "\t\tOperator: op_name=\"jit(scan)/jit(main)/while/body/dynamic_update_slice\" source_file=\"/tmp/ipykernel_168224/3825306338.py\" source_line=70\n",
      "\t\tXLA Label: fusion\n",
      "\t\tShape: f32[5000,730,32]\n",
      "\t\t==========================\n",
      "\n",
      "\tBuffer 12:\n",
      "\t\tSize: 156.25MiB\n",
      "\t\tOperator: op_name=\"jit(scan)/jit(main)/while/body/dynamic_update_slice\" source_file=\"/tmp/ipykernel_168224/3825306338.py\" source_line=70\n",
      "\t\tXLA Label: fusion\n",
      "\t\tShape: f32[5000,64,128]\n",
      "\t\t==========================\n",
      "\n",
      "\tBuffer 13:\n",
      "\t\tSize: 156.25MiB\n",
      "\t\tOperator: op_name=\"jit(scan)/jit(main)/while/body/dynamic_update_slice\" source_file=\"/tmp/ipykernel_168224/3825306338.py\" source_line=70\n",
      "\t\tXLA Label: fusion\n",
      "\t\tShape: f32[5000,128,64]\n",
      "\t\t==========================\n",
      "\n",
      "\tBuffer 14:\n",
      "\t\tSize: 83.54MiB\n",
      "\t\tOperator: op_name=\"jit(scan)/jit(main)/while/body/dynamic_update_slice\" source_file=\"/tmp/ipykernel_168224/3825306338.py\" source_line=70\n",
      "\t\tXLA Label: fusion\n",
      "\t\tShape: f32[5000,730,6]\n",
      "\t\t==========================\n",
      "\n",
      "\tBuffer 15:\n",
      "\t\tSize: 39.06MiB\n",
      "\t\tOperator: op_name=\"jit(scan)/jit(main)/while/body/dynamic_update_slice\" source_file=\"/tmp/ipykernel_168224/3825306338.py\" source_line=70\n",
      "\t\tXLA Label: fusion\n",
      "\t\tShape: f32[5000,64,32]\n",
      "\t\t==========================\n",
      "\n",
      "\n"
     ]
    },
    {
     "name": "stdout",
     "output_type": "stream",
     "text": [
      "Epoch 0 / 5000 -\t\t Train loss: 14.57142448425293\tVal loss: 14.00648021697998\tVal accuracy: 0.0029599270783364773\n",
      "Epoch 500 / 5000 -\t\t Train loss: 7.585797309875488\tVal loss: 7.6465840339660645\tVal accuracy: 0.01891222596168518\n",
      "Epoch 1000 / 5000 -\t\t Train loss: 4.285400390625\tVal loss: 4.306591510772705\tVal accuracy: 0.04694615304470062\n",
      "Epoch 1500 / 5000 -\t\t Train loss: 2.805971145629883\tVal loss: 2.801469564437866\tVal accuracy: 0.10410262644290924\n",
      "Epoch 2000 / 5000 -\t\t Train loss: 2.1839683055877686\tVal loss: 2.1748478412628174\tVal accuracy: 0.10983037203550339\n",
      "Epoch 2500 / 5000 -\t\t Train loss: 1.928215503692627\tVal loss: 1.9192010164260864\tVal accuracy: 0.11695269495248795\n",
      "Epoch 3000 / 5000 -\t\t Train loss: 1.700813889503479\tVal loss: 1.6921613216400146\tVal accuracy: 0.13616375625133514\n",
      "Epoch 3500 / 5000 -\t\t Train loss: 1.4203041791915894\tVal loss: 1.4125937223434448\tVal accuracy: 0.1542506217956543\n",
      "Epoch 4000 / 5000 -\t\t Train loss: 1.0447938442230225\tVal loss: 1.0384917259216309\tVal accuracy: 0.21945440769195557\n",
      "Epoch 4500 / 5000 -\t\t Train loss: 0.716334879398346\tVal loss: 0.7123602628707886\tVal accuracy: 0.23828125\n"
     ]
    }
   ],
   "source": [
    "params, saves = train(params, rng, model, xy_train, x_val, y_val, optimiser, optimiser_state,\n",
    "                      l2_reg_alpha=L2_REG_ALPHA, epochs=EPOCHS,\n",
    "                      save_every=PRINT_EVERY)"
   ]
  },
  {
   "cell_type": "code",
   "execution_count": null,
   "metadata": {},
   "outputs": [],
   "source": [
    "write_json(saves, out_path=save_path)"
   ]
  },
  {
   "cell_type": "markdown",
   "metadata": {},
   "source": [
    "# Visualise"
   ]
  },
  {
   "cell_type": "code",
   "execution_count": 14,
   "metadata": {},
   "outputs": [
    {
     "ename": "KeyError",
     "evalue": "'train_loss'",
     "output_type": "error",
     "traceback": [
      "\u001b[0;31m---------------------------------------------------------------------------\u001b[0m",
      "\u001b[0;31mKeyError\u001b[0m                                  Traceback (most recent call last)",
      "\u001b[1;32m/home/wadh6511/Kode/EvoScaper/notebooks/08_encoder_decoder.ipynb Cell 26\u001b[0m line \u001b[0;36m3\n\u001b[1;32m      <a href='vscode-notebook-cell://ssh-remote%2B7b22686f73744e616d65223a2277616468363531312d50432d425832333638312d5453227d/home/wadh6511/Kode/EvoScaper/notebooks/08_encoder_decoder.ipynb#X36sdnNjb2RlLXJlbW90ZQ%3D%3D?line=0'>1</a>\u001b[0m plt\u001b[39m.\u001b[39mfigure(figsize\u001b[39m=\u001b[39m(\u001b[39m7\u001b[39m\u001b[39m*\u001b[39m\u001b[39m3\u001b[39m, \u001b[39m6\u001b[39m))\n\u001b[1;32m      <a href='vscode-notebook-cell://ssh-remote%2B7b22686f73744e616d65223a2277616468363531312d50432d425832333638312d5453227d/home/wadh6511/Kode/EvoScaper/notebooks/08_encoder_decoder.ipynb#X36sdnNjb2RlLXJlbW90ZQ%3D%3D?line=1'>2</a>\u001b[0m ax \u001b[39m=\u001b[39m plt\u001b[39m.\u001b[39msubplot(\u001b[39m1\u001b[39m, \u001b[39m3\u001b[39m, \u001b[39m1\u001b[39m)\n\u001b[0;32m----> <a href='vscode-notebook-cell://ssh-remote%2B7b22686f73744e616d65223a2277616468363531312d50432d425832333638312d5453227d/home/wadh6511/Kode/EvoScaper/notebooks/08_encoder_decoder.ipynb#X36sdnNjb2RlLXJlbW90ZQ%3D%3D?line=2'>3</a>\u001b[0m plt\u001b[39m.\u001b[39mplot(\u001b[39mlist\u001b[39m(saves\u001b[39m.\u001b[39mkeys()), [v[\u001b[39m'\u001b[39m\u001b[39mtrain_loss\u001b[39m\u001b[39m'\u001b[39m] \u001b[39mfor\u001b[39;00m v \u001b[39min\u001b[39;00m saves\u001b[39m.\u001b[39mvalues()])\n\u001b[1;32m      <a href='vscode-notebook-cell://ssh-remote%2B7b22686f73744e616d65223a2277616468363531312d50432d425832333638312d5453227d/home/wadh6511/Kode/EvoScaper/notebooks/08_encoder_decoder.ipynb#X36sdnNjb2RlLXJlbW90ZQ%3D%3D?line=3'>4</a>\u001b[0m plt\u001b[39m.\u001b[39mylabel(\u001b[39m'\u001b[39m\u001b[39mtrain_loss\u001b[39m\u001b[39m'\u001b[39m)\n\u001b[1;32m      <a href='vscode-notebook-cell://ssh-remote%2B7b22686f73744e616d65223a2277616468363531312d50432d425832333638312d5453227d/home/wadh6511/Kode/EvoScaper/notebooks/08_encoder_decoder.ipynb#X36sdnNjb2RlLXJlbW90ZQ%3D%3D?line=4'>5</a>\u001b[0m plt\u001b[39m.\u001b[39mxlabel(\u001b[39m'\u001b[39m\u001b[39mstep\u001b[39m\u001b[39m'\u001b[39m)\n",
      "\u001b[1;32m/home/wadh6511/Kode/EvoScaper/notebooks/08_encoder_decoder.ipynb Cell 26\u001b[0m line \u001b[0;36m3\n\u001b[1;32m      <a href='vscode-notebook-cell://ssh-remote%2B7b22686f73744e616d65223a2277616468363531312d50432d425832333638312d5453227d/home/wadh6511/Kode/EvoScaper/notebooks/08_encoder_decoder.ipynb#X36sdnNjb2RlLXJlbW90ZQ%3D%3D?line=0'>1</a>\u001b[0m plt\u001b[39m.\u001b[39mfigure(figsize\u001b[39m=\u001b[39m(\u001b[39m7\u001b[39m\u001b[39m*\u001b[39m\u001b[39m3\u001b[39m, \u001b[39m6\u001b[39m))\n\u001b[1;32m      <a href='vscode-notebook-cell://ssh-remote%2B7b22686f73744e616d65223a2277616468363531312d50432d425832333638312d5453227d/home/wadh6511/Kode/EvoScaper/notebooks/08_encoder_decoder.ipynb#X36sdnNjb2RlLXJlbW90ZQ%3D%3D?line=1'>2</a>\u001b[0m ax \u001b[39m=\u001b[39m plt\u001b[39m.\u001b[39msubplot(\u001b[39m1\u001b[39m, \u001b[39m3\u001b[39m, \u001b[39m1\u001b[39m)\n\u001b[0;32m----> <a href='vscode-notebook-cell://ssh-remote%2B7b22686f73744e616d65223a2277616468363531312d50432d425832333638312d5453227d/home/wadh6511/Kode/EvoScaper/notebooks/08_encoder_decoder.ipynb#X36sdnNjb2RlLXJlbW90ZQ%3D%3D?line=2'>3</a>\u001b[0m plt\u001b[39m.\u001b[39mplot(\u001b[39mlist\u001b[39m(saves\u001b[39m.\u001b[39mkeys()), [v[\u001b[39m'\u001b[39;49m\u001b[39mtrain_loss\u001b[39;49m\u001b[39m'\u001b[39;49m] \u001b[39mfor\u001b[39;00m v \u001b[39min\u001b[39;00m saves\u001b[39m.\u001b[39mvalues()])\n\u001b[1;32m      <a href='vscode-notebook-cell://ssh-remote%2B7b22686f73744e616d65223a2277616468363531312d50432d425832333638312d5453227d/home/wadh6511/Kode/EvoScaper/notebooks/08_encoder_decoder.ipynb#X36sdnNjb2RlLXJlbW90ZQ%3D%3D?line=3'>4</a>\u001b[0m plt\u001b[39m.\u001b[39mylabel(\u001b[39m'\u001b[39m\u001b[39mtrain_loss\u001b[39m\u001b[39m'\u001b[39m)\n\u001b[1;32m      <a href='vscode-notebook-cell://ssh-remote%2B7b22686f73744e616d65223a2277616468363531312d50432d425832333638312d5453227d/home/wadh6511/Kode/EvoScaper/notebooks/08_encoder_decoder.ipynb#X36sdnNjb2RlLXJlbW90ZQ%3D%3D?line=4'>5</a>\u001b[0m plt\u001b[39m.\u001b[39mxlabel(\u001b[39m'\u001b[39m\u001b[39mstep\u001b[39m\u001b[39m'\u001b[39m)\n",
      "\u001b[0;31mKeyError\u001b[0m: 'train_loss'"
     ]
    },
    {
     "data": {
      "image/png": "[encoded data removed]",
      "text/plain": [
       "<Figure size 2100x600 with 1 Axes>"
      ]
     },
     "metadata": {},
     "output_type": "display_data"
    }
   ],
   "source": [
    "plt.figure(figsize=(7*3, 6))\n",
    "ax = plt.subplot(1, 3, 1)\n",
    "plt.plot(list(saves.keys()), [v['train_loss'] for v in saves.values()])\n",
    "plt.ylabel('train_loss')\n",
    "plt.xlabel('step')\n",
    "ax = plt.subplot(1, 3, 2)\n",
    "plt.plot(list(saves.keys()), [v['val_loss'] for v in saves.values()])\n",
    "plt.ylabel('val_loss')\n",
    "plt.xlabel('step')\n",
    "ax = plt.subplot(1, 3, 3)\n",
    "plt.plot(list(saves.keys()), [v['val_accuracy'] for v in saves.values()])\n",
    "plt.ylabel('val_accuracy')\n",
    "plt.xlabel('step')"
   ]
  },
  {
   "cell_type": "markdown",
   "metadata": {},
   "source": []
  }
 ],
 "metadata": {
  "kernelspec": {
   "display_name": "env_evo",
   "language": "python",
   "name": "python3"
  },
  "language_info": {
   "codemirror_mode": {
    "name": "ipython",
    "version": 3
   },
   "file_extension": ".py",
   "mimetype": "text/x-python",
   "name": "python",
   "nbconvert_exporter": "python",
   "pygments_lexer": "ipython3",
   "version": "3.10.12"
  }
 },
 "nbformat": 4,
 "nbformat_minor": 2
}
