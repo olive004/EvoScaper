{
 "cells": [
  {
   "cell_type": "code",
   "execution_count": 29,
   "metadata": {},
   "outputs": [
    {
     "name": "stdout",
     "output_type": "stream",
     "text": [
      "The autoreload extension is already loaded. To reload it, use:\n",
      "  %reload_ext autoreload\n"
     ]
    }
   ],
   "source": [
    "%load_ext autoreload\n",
    "%autoreload 2"
   ]
  },
  {
   "cell_type": "markdown",
   "metadata": {},
   "source": [
    "# Optimisation with Stochastic Gradient Descent\n",
    "\n",
    "The reaction rates of the circuits can be directly optimised with the automatic differentiation provided by jax"
   ]
  },
  {
   "cell_type": "code",
   "execution_count": 30,
   "metadata": {},
   "outputs": [],
   "source": [
    "from datetime import datetime \n",
    "import jax \n",
    "import jax.numpy as jnp\n",
    "import numpy as np\n",
    "import seaborn as sns\n",
    "import matplotlib.pyplot as plt\n",
    "import optax\n",
    "from scipy.special import factorial\n",
    "import diffrax as dfx\n",
    "from functools import partial\n",
    "from bioreaction.misc.misc import flatten_listlike\n",
    "from synbio_morpher.utils.misc.helper import processor\n",
    "\n",
    "jax.config.update('jax_platform_name', 'gpu')\n",
    "\n",
    "np.random.seed(0)\n"
   ]
  },
  {
   "cell_type": "code",
   "execution_count": 31,
   "metadata": {},
   "outputs": [],
   "source": [
    "def one_step_de_sim_expanded(spec_conc, inputs, outputs, forward_rates, reverse_rates):\n",
    "    concentration_factors_in = jnp.prod(\n",
    "        jnp.power(spec_conc, (inputs)), axis=1)\n",
    "    concentration_factors_out = jnp.prod(\n",
    "        jnp.power(spec_conc, (outputs)), axis=1)\n",
    "    forward_delta = concentration_factors_in * forward_rates\n",
    "    reverse_delta = concentration_factors_out * reverse_rates\n",
    "    return (forward_delta - reverse_delta) @ (outputs - inputs)\n",
    "\n",
    "\n",
    "# ODE Terms\n",
    "def bioreaction_sim_expanded(t, y,\n",
    "                             args,\n",
    "                             inputs, outputs,\n",
    "                             #  signal, signal_onehot: jnp.ndarray,\n",
    "                             forward_rates=None, reverse_rates=None):\n",
    "    return one_step_de_sim_expanded(\n",
    "        spec_conc=y, inputs=inputs,\n",
    "        outputs=outputs,\n",
    "        forward_rates=forward_rates,\n",
    "        reverse_rates=reverse_rates)  # + signal(t) * signal_onehot\n",
    "\n",
    "\n",
    "def bioreaction_sim_dfx_expanded(y0, t0, t1, dt0,\n",
    "                                 inputs, outputs, forward_rates, reverse_rates,\n",
    "                                 solver=dfx.Tsit5(),\n",
    "                                 saveat=dfx.SaveAt(\n",
    "                                     t0=True, t1=True, steps=True),\n",
    "                                 max_steps=16**5,\n",
    "                                 stepsize_controller=dfx.ConstantStepSize()):\n",
    "    term = dfx.ODETerm(\n",
    "        partial(bioreaction_sim_expanded,\n",
    "                inputs=inputs, outputs=outputs,\n",
    "                forward_rates=forward_rates.squeeze(), reverse_rates=reverse_rates.squeeze()\n",
    "                )\n",
    "    )\n",
    "    return dfx.diffeqsolve(term, solver,\n",
    "                           t0=t0, t1=t1, dt0=dt0,\n",
    "                           y0=y0.squeeze(),\n",
    "                           saveat=saveat, max_steps=max_steps,\n",
    "                           stepsize_controller=stepsize_controller)\n",
    "\n",
    "\n",
    "def f(reverse_rates, y0, t0, t1, dt0,\n",
    "      inputs, outputs, forward_rates):\n",
    "    s = bioreaction_sim_dfx_expanded(y0, t0, t1, dt0,\n",
    "                                     inputs, outputs, forward_rates, reverse_rates,\n",
    "                                     saveat=dfx.SaveAt(ts=np.linspace(t0, t1, 100)))\n",
    "    ys = s.ys\n",
    "    # ys = s.ys[:np.argmax(s.ts >= np.inf), :]\n",
    "    # ts = s.ts[:np.argmax(s.ts >= np.inf)]\n",
    "    \n",
    "    return ys\n",
    "\n",
    "def cost_f(ys, output_idxs):\n",
    "    cost = jnp.sum(jnp.abs(jnp.max(ys, axis=0)[\n",
    "        output_idxs] - ys[-1, output_idxs]))\n",
    "    return -cost"
   ]
  },
  {
   "cell_type": "code",
   "execution_count": 32,
   "metadata": {},
   "outputs": [],
   "source": [
    "n_species = 3\n",
    "n_circuits = 5\n",
    "n_reactions = np.sum(np.arange(n_species+1))\n",
    "tot_species = n_species + n_reactions\n",
    "signal_idxs = np.array([0])\n",
    "output_idxs = np.array([1, 2])\n",
    "y0 = np.array([200.0] * n_species + [0.0] * n_reactions) # [None, :] * np.ones((n_circuits, 1))\n",
    "k1 = 0.00150958097\n",
    "t0, t1, dt0 = 0, 20, 0.001\n",
    "inputs, outputs = np.zeros((n_reactions, tot_species)), np.zeros(\n",
    "    (n_reactions, tot_species))\n",
    "inds = flatten_listlike([[(i, j) for j in range(i, n_species)]\n",
    "                        for i in range(n_species)])\n",
    "for i in range(n_reactions):\n",
    "    inputs[i, inds[i][0]] += 1\n",
    "    inputs[i, inds[i][1]] += 1\n",
    "    outputs[i, i+n_species] += 1\n",
    "    \n",
    "forward_rates = np.ones(n_reactions) * k1\n",
    "reverse_rates = np.random.rand(n_circuits, n_reactions) * 2 * k1\n",
    "\n",
    "f_t = partial(f, y0=y0, t0=t0, t1=t1, dt0=dt0, inputs=inputs, outputs=outputs, forward_rates=forward_rates)\n",
    "c_t = partial(cost_f, output_idxs=output_idxs)\n",
    "f_full = partial(processor, funcs = [f_t, c_t])\n"
   ]
  },
  {
   "cell_type": "code",
   "execution_count": 33,
   "metadata": {},
   "outputs": [],
   "source": [
    "# Test it\n",
    "cost = jax.vmap(f_full)(reverse_rates)\n"
   ]
  },
  {
   "cell_type": "code",
   "execution_count": 34,
   "metadata": {},
   "outputs": [
    {
     "data": {
      "text/plain": [
       "Array([-379.9097 , -379.2887 , -381.55658, -378.7838 , -379.63678],      dtype=float32)"
      ]
     },
     "execution_count": 34,
     "metadata": {},
     "output_type": "execute_result"
    }
   ],
   "source": [
    "cost"
   ]
  },
  {
   "cell_type": "code",
   "execution_count": 35,
   "metadata": {},
   "outputs": [],
   "source": [
    "l2_reg_alpha = 0.1\n",
    "learning_rate = 0.0001\n",
    "warmup_epochs = 3\n",
    "epochs = 30\n",
    "n_batches = 1\n",
    "warmup_fn = optax.linear_schedule(\n",
    "    init_value=0., end_value=learning_rate,\n",
    "    transition_steps=warmup_epochs * n_batches)\n",
    "cosine_epochs = max(epochs - warmup_epochs, 1)\n",
    "cosine_fn = optax.cosine_decay_schedule(\n",
    "    init_value=0.01, decay_steps=1000) #, alpha=l2_reg_alpha)\n",
    "schedule_fn = optax.join_schedules(\n",
    "    schedules=[warmup_fn, cosine_fn],\n",
    "    boundaries=[warmup_epochs * n_batches])\n",
    "optimiser = optax.sgd(learning_rate=schedule_fn)\n",
    "optimiser_state = optimiser.init(reverse_rates[0])"
   ]
  },
  {
   "cell_type": "code",
   "execution_count": 36,
   "metadata": {},
   "outputs": [],
   "source": [
    "def f_scan(inp, cr, f):\n",
    "    c, r = cr\n",
    "    reverse_rates, optimiser_state = inp\n",
    "    c, grads = jax.vmap(jax.value_and_grad(f, argnums=0))(reverse_rates)\n",
    "    updates, optimiser_state = optimiser.update(grads, optimiser_state)\n",
    "    new_reverse_rates = optax.apply_updates(reverse_rates, updates)\n",
    "    # Slow down gradient if negatives appear\n",
    "    new_reverse_rates = jnp.where(new_reverse_rates <= 0, optax.apply_updates(reverse_rates, 0.01 * updates), new_reverse_rates)\n",
    "    reverse_rates = jnp.where(new_reverse_rates <= 0, reverse_rates / 10, new_reverse_rates)\n",
    "    return [reverse_rates, optimiser_state], [c, reverse_rates]\n",
    "\n",
    "cs = np.zeros([epochs, n_circuits])\n",
    "rs = np.zeros([epochs, *reverse_rates.shape])"
   ]
  },
  {
   "cell_type": "code",
   "execution_count": 37,
   "metadata": {},
   "outputs": [],
   "source": [
    "# 3 mins\n",
    "\n",
    "ro, crs = jax.lax.scan(partial(f_scan, f=f_full), init=[reverse_rates, optimiser_state], xs=[cs, rs])\n",
    "\n",
    "all_reverse_rates = np.concatenate([reverse_rates[None, :, :], np.zeros_like(rs)])\n",
    "fin_reverse_rates, optimiser_state = ro\n",
    "cs, all_reverse_rates1 = crs\n",
    "all_reverse_rates[1:] = all_reverse_rates1"
   ]
  },
  {
   "cell_type": "code",
   "execution_count": 38,
   "metadata": {},
   "outputs": [
    {
     "data": {
      "text/plain": [
       "Array([[-379.9097 , -379.2887 , -381.55658, -378.7838 , -379.63678],\n",
       "       [-379.9097 , -379.2887 , -381.55658, -378.7838 , -379.63678],\n",
       "       [-380.94464, -380.31134, -382.49158, -379.77124, -380.7387 ],\n",
       "       [-382.7312 , -382.07214, -383.70264, -381.48053, -382.60364],\n",
       "       [-393.5287 , -393.45093, -393.62238, -393.38602, -393.5625 ],\n",
       "       [-393.80243, -393.7945 , -393.80997, -393.78415, -393.82385],\n",
       "       [-393.83356, -393.83264, -393.83246, -393.82788, -393.85318],\n",
       "       [-393.84015, -393.83997, -393.83826, -393.83588, -393.85913],\n",
       "       [-393.84424, -393.8441 , -393.8423 , -393.8402 , -393.8626 ],\n",
       "       [-393.8479 , -393.8478 , -393.846  , -393.84406, -393.8658 ],\n",
       "       [-393.8515 , -393.85138, -393.84967, -393.84772, -393.86893],\n",
       "       [-393.85498, -393.8549 , -393.85318, -393.8513 , -393.87195],\n",
       "       [-393.85834, -393.85825, -393.85663, -393.8548 , -393.87494],\n",
       "       [-393.86166, -393.86157, -393.85995, -393.85815, -393.8778 ],\n",
       "       [-393.86484, -393.86472, -393.8632 , -393.86145, -393.8806 ],\n",
       "       [-393.86798, -393.8679 , -393.8664 , -393.86465, -393.88333],\n",
       "       [-393.87106, -393.87094, -393.8695 , -393.86783, -393.886  ],\n",
       "       [-393.87402, -393.87393, -393.87247, -393.87085, -393.8886 ],\n",
       "       [-393.87686, -393.8768 , -393.87543, -393.87387, -393.89117],\n",
       "       [-393.87973, -393.87967, -393.8783 , -393.87674, -393.8937 ],\n",
       "       [-393.88248, -393.8824 , -393.88107, -393.87958, -393.89615],\n",
       "       [-393.8852 , -393.8851 , -393.8838 , -393.88235, -393.89853],\n",
       "       [-393.88782, -393.88773, -393.88644, -393.88504, -393.90088],\n",
       "       [-393.89038, -393.89032, -393.88907, -393.88766, -393.90317],\n",
       "       [-393.8929 , -393.89282, -393.8916 , -393.89026, -393.90536],\n",
       "       [-393.8954 , -393.8953 , -393.8941 , -393.89276, -393.9076 ],\n",
       "       [-393.89777, -393.8977 , -393.89658, -393.89523, -393.90973],\n",
       "       [-393.90015, -393.90005, -393.89893, -393.89764, -393.91183],\n",
       "       [-393.9024 , -393.90237, -393.90128, -393.9    , -393.91394],\n",
       "       [-393.9047 , -393.90463, -393.90353, -393.90228, -393.9159 ]],      dtype=float32)"
      ]
     },
     "execution_count": 38,
     "metadata": {},
     "output_type": "execute_result"
    }
   ],
   "source": [
    "cs"
   ]
  },
  {
   "cell_type": "code",
   "execution_count": 39,
   "metadata": {},
   "outputs": [
    {
     "data": {
      "text/plain": [
       "array([[1.11971354e+00, 1.90146443e-30, 1.55962277e-30, 9.96157547e-31,\n",
       "        6.23864286e-31, 1.30603582e-30],\n",
       "       [1.11957169e+00, 2.44073215e-30, 2.66006341e-30, 5.06399910e-31,\n",
       "        1.75988149e-30, 9.53522837e-31],\n",
       "       [1.11730027e+00, 2.53307184e-30, 1.22501381e-32, 3.47001488e-33,\n",
       "        6.10426456e-34, 1.86564533e-30],\n",
       "       [1.11474299e+00, 2.37725921e-30, 2.70768503e-30, 1.78800082e-30,\n",
       "        7.51904632e-31, 1.73117912e-30],\n",
       "       [1.14398146e+00, 1.67657694e-30, 1.62427835e-31, 2.22106799e-30,\n",
       "        9.21688475e-31, 5.90744780e-31]])"
      ]
     },
     "execution_count": 39,
     "metadata": {},
     "output_type": "execute_result"
    }
   ],
   "source": [
    "all_reverse_rates[-1]"
   ]
  },
  {
   "cell_type": "code",
   "execution_count": 44,
   "metadata": {},
   "outputs": [
    {
     "data": {
      "image/png": "[encoded data removed]",
      "text/plain": [
       "<Figure size 2500x300 with 10 Axes>"
      ]
     },
     "metadata": {},
     "output_type": "display_data"
    }
   ],
   "source": [
    "fig = plt.figure(figsize=(5*n_circuits, 3))\n",
    "for c in range(n_circuits):\n",
    "    ax = plt.subplot(1, n_circuits, c+1)\n",
    "    sns.heatmap(all_reverse_rates[:, c, :])"
   ]
  },
  {
   "cell_type": "code",
   "execution_count": 45,
   "metadata": {},
   "outputs": [
    {
     "data": {
      "text/plain": [
       "<Axes: >"
      ]
     },
     "execution_count": 45,
     "metadata": {},
     "output_type": "execute_result"
    },
    {
     "data": {
      "image/png": "[encoded data removed]",
      "text/plain": [
       "<Figure size 640x480 with 2 Axes>"
      ]
     },
     "metadata": {},
     "output_type": "display_data"
    }
   ],
   "source": [
    "sns.heatmap(cs)"
   ]
  },
  {
   "cell_type": "markdown",
   "metadata": {},
   "source": [
    "### Unpacked scan (for loop)"
   ]
  },
  {
   "cell_type": "code",
   "execution_count": 42,
   "metadata": {},
   "outputs": [],
   "source": [
    "# cs = np.zeros([epochs, n_circuits])\n",
    "# rs = np.zeros([epochs + 1, *reverse_rates.shape])\n",
    "# rs[0] = reverse_rates\n",
    "# inp = [reverse_rates, optimiser_state]\n",
    "# for i, cr in enumerate(zip(cs, rs)):\n",
    "#     if i == 1:\n",
    "#         print(i)\n",
    "#     inp, crs = f_scan(inp, cr)\n",
    "#     fin_reverse_rates, optimiser_state = inp\n",
    "#     cs[i] = np.array(crs[0])\n",
    "#     rs[i+1] = crs[1]\n",
    "#     if np.sum(np.isnan(rs[:, 3, :])) > 0:\n",
    "#         print(rs)"
   ]
  },
  {
   "cell_type": "code",
   "execution_count": 43,
   "metadata": {},
   "outputs": [],
   "source": [
    "# fig = plt.figure(figsize=(5*n_circuits, 3))\n",
    "# for c in range(n_circuits):\n",
    "#     ax = plt.subplot(1, n_circuits, c+1)\n",
    "#     sns.heatmap(np.log10(rs[1:, c, :]))"
   ]
  },
  {
   "cell_type": "code",
   "execution_count": null,
   "metadata": {},
   "outputs": [],
   "source": []
  }
 ],
 "metadata": {
  "kernelspec": {
   "display_name": "env_evo",
   "language": "python",
   "name": "python3"
  },
  "language_info": {
   "codemirror_mode": {
    "name": "ipython",
    "version": 3
   },
   "file_extension": ".py",
   "mimetype": "text/x-python",
   "name": "python",
   "nbconvert_exporter": "python",
   "pygments_lexer": "ipython3",
   "version": "3.10.12"
  }
 },
 "nbformat": 4,
 "nbformat_minor": 2
}
