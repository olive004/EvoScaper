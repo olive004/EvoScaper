{
 "cells": [
  {
   "cell_type": "code",
   "execution_count": null,
   "id": "676469cc",
   "metadata": {},
   "outputs": [],
   "source": [
    "%load_ext autoreload\n",
    "%autoreload 2"
   ]
  },
  {
   "cell_type": "markdown",
   "id": "745b63cd",
   "metadata": {},
   "source": [
    "# UMAPS for cvae multi of adaptation model"
   ]
  },
  {
   "cell_type": "code",
   "execution_count": null,
   "id": "c18216bb",
   "metadata": {},
   "outputs": [],
   "source": [
    "from evoscaper.scripts.init_from_hpos import init_from_hpos\n",
    "from evoscaper.utils.math import arrayise\n",
    "from synbio_morpher.utils.data.data_format_tools.common import load_json_as_dict\n",
    "from common import get_model_latent_space_dimred, load_stitch_ys, load_stitch_analytics\n",
    "from evoscaper.utils.visualise import visualize_dimred_adapt_sp\n",
    "from evoscaper.utils.preprocess import make_datetime_str, format_with_subscript\n",
    "\n",
    "import numpy as np\n",
    "import pandas as pd\n",
    "import seaborn as sns\n",
    "import matplotlib.pyplot as plt\n",
    "import itertools\n",
    "import os\n",
    "\n",
    "sns.set_style('whitegrid')\n"
   ]
  },
  {
   "cell_type": "code",
   "execution_count": null,
   "id": "4c27113e",
   "metadata": {},
   "outputs": [],
   "source": [
    "top_write_dir = os.path.join('data', '22_umaps_multi', make_datetime_str())\n",
    "os.makedirs(top_write_dir, exist_ok=True)\n",
    "\n",
    "idx_output = -1"
   ]
  },
  {
   "cell_type": "markdown",
   "id": "d09315a4",
   "metadata": {},
   "source": [
    "# Load data "
   ]
  },
  {
   "cell_type": "code",
   "execution_count": null,
   "id": "6d98c7fb",
   "metadata": {},
   "outputs": [],
   "source": [
    "# fn_dataset = 'data/simulate_circuits/2025_02_11__13_56_51/tabulated_mutation_info.json'\n",
    "# dataset = load_json_as_dict(fn_dataset)"
   ]
  },
  {
   "cell_type": "markdown",
   "id": "c5bf6066",
   "metadata": {},
   "source": [
    "# Functions for loading models"
   ]
  },
  {
   "cell_type": "code",
   "execution_count": null,
   "id": "18d82b75",
   "metadata": {},
   "outputs": [],
   "source": [
    "dir_verify = 'data/cvae_multi/2025_09_01__22_52_46'\n",
    "fn_hpos = os.path.join(dir_verify, 'df_hpos.json')\n",
    "hpos = pd.DataFrame(load_json_as_dict(fn_hpos))\n",
    "for k in hpos.columns:\n",
    "    if 'filename' in k:\n",
    "        hpos.loc[:, k] = hpos[k].apply(lambda x: '../' + x if x.startswith('data') else x)\n",
    "        hpos.loc[:, k] = hpos[k].apply(lambda x: x.replace('notebooks/', '') if isinstance(x, str) else x)\n",
    "(\n",
    "    rng, rng_model, rng_dataset,\n",
    "    config_norm_x, config_norm_y, config_filter, config_optimisation, config_dataset, config_training, config_model,\n",
    "    data, x_cols, df,\n",
    "    x, cond, y, x_train, cond_train, y_train, x_val, cond_val, y_val,\n",
    "    total_ds, n_batches, BATCH_SIZE, x_datanormaliser, x_methods_preprocessing, y_datanormaliser, y_methods_preprocessing,\n",
    "    params, encoder, decoder, model, h2mu, h2logvar, reparam\n",
    ") = init_from_hpos(hpos.iloc[1])"
   ]
  },
  {
   "cell_type": "code",
   "execution_count": null,
   "id": "3e07cf34",
   "metadata": {},
   "outputs": [],
   "source": [
    "def load_params(hpo):\n",
    "\n",
    "    fn_saves = hpo['filename_saved_model']\n",
    "    saves_loaded = load_json_as_dict(fn_saves)\n",
    "    p = saves_loaded[str(list(saves_loaded.keys())[-1])]['params']\n",
    "    p = arrayise(p)\n",
    "    \n",
    "    return p"
   ]
  },
  {
   "cell_type": "markdown",
   "id": "f6d8884e",
   "metadata": {},
   "source": [
    "# Function for visualising KDE"
   ]
  },
  {
   "cell_type": "code",
   "execution_count": null,
   "id": "98550010",
   "metadata": {},
   "outputs": [],
   "source": [
    "all_fake_circuits = np.load(os.path.join(dir_verify, 'fake_circuits.npy'))\n",
    "all_sampled_cond = np.concatenate([np.load(os.path.join(dir_verify, 'sampled_cond', fn))\n",
    "                                  for fn in sorted(os.listdir(os.path.join(dir_verify, 'sampled_cond')),\n",
    "                                                   key=lambda x: int(x.split('_')[-1].split('.')[0]))], axis=0)\n",
    "analytics = load_stitch_analytics(os.path.join(\n",
    "    dir_verify, 'batch_results'), last_idx=idx_output)\n",
    "\n",
    "# n_interactions = make_flat_triangle(all_fake_circuits).shape[-1]\n",
    "# n_perturbs = config_bio['n_perturbs'] if not config_rugg['perturb_once'] else n_interactions + config_rugg['resimulate_analytics']\n",
    "\n",
    "# ys_out, ts = load_stitch_ys(os.path.join(\n",
    "#     dir_verify, 'batch_results'), idx_output, len(all_fake_circuits))"
   ]
  },
  {
   "cell_type": "code",
   "execution_count": null,
   "id": "7547ba7a",
   "metadata": {},
   "outputs": [],
   "source": [
    "import matplotlib.pyplot as plt\n",
    "df_plot = pd.DataFrame()\n",
    "df_plot['Model'] = np.repeat(np.arange(len(hpos)), repeats=np.array(analytics['Log sensitivity']).reshape(len(hpos), -1).shape[-1]) \n",
    "df_plot['Prompt'] = all_sampled_cond.flatten().round(2)\n",
    "df_plot['adaptation'] = np.array(analytics['adaptation']).reshape(len(hpos), -1).flatten()\n",
    "\n",
    "midxs = sorted(df_plot['Model'].unique())[1:]\n",
    "nrows=int(np.sqrt(len(midxs)))\n",
    "ncols=int(np.ceil(len(midxs) / np.sqrt(len(midxs))))\n",
    "fig, axs = plt.subplots(nrows=nrows, ncols=ncols, figsize=(4*ncols, 4*nrows), constrained_layout=True)\n",
    "for m, ax in zip(midxs, axs.flatten()):\n",
    "    sns.kdeplot(data=df_plot[df_plot['Model'] == m], x='adaptation', hue='Prompt', palette='viridis', ax=ax, legend=False)\n",
    "    ax.set_title(hpos.iloc[m]['seed_train'])"
   ]
  },
  {
   "cell_type": "markdown",
   "id": "6a6eb37e",
   "metadata": {},
   "source": [
    "# Functions for UMAP + visualisation"
   ]
  },
  {
   "cell_type": "code",
   "execution_count": null,
   "id": "022f5b32",
   "metadata": {},
   "outputs": [],
   "source": [
    "use_h = False\n",
    "perplexity = 30\n",
    "n_show = 20000\n",
    "random_state = 0\n",
    "method = 'UMAP'\n",
    "input_species = data['sample_name'].dropna().unique()\n",
    "labels_x = list(itertools.product(input_species, input_species))\n",
    "labels_x = sorted(set(tuple(sorted(labels_x[i]))\n",
    "                for i in range(len(labels_x))))\n",
    "labels_cond = ['adaptation', 'Log sensitivity', 'Log precision']\n"
   ]
  },
  {
   "cell_type": "code",
   "execution_count": null,
   "id": "b21365dc",
   "metadata": {},
   "outputs": [],
   "source": [
    "def run_umap(hpo):\n",
    "    p = load_params(hpo)\n",
    "    result_dimred, idxs_show, cond_unique, cond_binned, x_bin_all, x_rev_all, cond_rev_all, emb, h_all, z_all = get_model_latent_space_dimred(\n",
    "        p, rng, encoder, h2mu, h2logvar,\n",
    "        x, cond, use_h,\n",
    "        y_datanormaliser, y_methods_preprocessing,\n",
    "        config_dataset, x_datanormaliser, x_methods_preprocessing,\n",
    "        hpo,\n",
    "        method=method, n_show=n_show, random_state=random_state,\n",
    "        perplexity=perplexity\n",
    "    )\n",
    "    print(idxs_show.shape)\n",
    "\n",
    "    visualize_dimred_adapt_sp(result_dimred, df[labels_cond].values[idxs_show],\n",
    "                              np.log10(\n",
    "                                  x_bin_all[idxs_show]) if config_norm_x.logscale else x_bin_all[idxs_show],\n",
    "                              labels_cond=labels_cond,\n",
    "                              labels_x=labels_x, method=method,\n",
    "                              save_path=os.path.join(top_write_dir, f'umap_big_{hpo[\"index\"]}.png'), s=70, sort=False, sort_random=True)"
   ]
  },
  {
   "cell_type": "markdown",
   "id": "bf6f949f",
   "metadata": {},
   "source": [
    "# Loop for loading and visualising"
   ]
  },
  {
   "cell_type": "code",
   "execution_count": null,
   "id": "a29aa73b",
   "metadata": {},
   "outputs": [],
   "source": [
    "for i in hpos.index:\n",
    "    hpo = hpos.iloc[[i]].reset_index().iloc[0].to_dict()\n",
    "    p = run_umap(hpo)\n",
    "    plt.close()"
   ]
  },
  {
   "cell_type": "code",
   "execution_count": null,
   "id": "cd2c1eec",
   "metadata": {},
   "outputs": [],
   "source": []
  }
 ],
 "metadata": {
  "kernelspec": {
   "display_name": "Python 3",
   "language": "python",
   "name": "python3"
  },
  "language_info": {
   "codemirror_mode": {
    "name": "ipython",
    "version": 3
   },
   "file_extension": ".py",
   "mimetype": "text/x-python",
   "name": "python",
   "nbconvert_exporter": "python",
   "pygments_lexer": "ipython3",
   "version": "3.10.12"
  }
 },
 "nbformat": 4,
 "nbformat_minor": 5
}
