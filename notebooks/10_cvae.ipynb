{
 "cells": [
  {
   "cell_type": "code",
   "execution_count": 1,
   "metadata": {},
   "outputs": [],
   "source": [
    "%load_ext autoreload\n",
    "%autoreload 2"
   ]
  },
  {
   "cell_type": "markdown",
   "metadata": {},
   "source": [
    "# Conditional VAE for genetic circuits\n",
    "\n",
    "This notebook follows the previous VAE notebook very closely, but implementing a conditional VAE instead. Loosely following [this blog post](https://agustinus.kristia.de/techblog/2016/12/17/conditional-vae/)."
   ]
  },
  {
   "cell_type": "markdown",
   "metadata": {},
   "source": [
    "## Imports "
   ]
  },
  {
   "cell_type": "code",
   "execution_count": 2,
   "metadata": {},
   "outputs": [
    {
     "data": {
      "text/plain": [
       "[CpuDevice(id=0)]"
      ]
     },
     "execution_count": 2,
     "metadata": {},
     "output_type": "execute_result"
    }
   ],
   "source": [
    "# %env XLA_PYTHON_CLIENT_ALLOCATOR=platform\n",
    "\n",
    "from synbio_morpher.utils.data.data_format_tools.common import load_json_as_dict\n",
    "from synbio_morpher.utils.results.analytics.naming import get_true_interaction_cols\n",
    "from synbio_morpher.utils.data.data_format_tools.common import write_json\n",
    "from synbio_morpher.utils.misc.string_handling import prettify_keys_for_label\n",
    "from functools import partial\n",
    "\n",
    "from sklearn.metrics import r2_score  \n",
    "import os\n",
    "import sys\n",
    "import numpy as np\n",
    "import haiku as hk\n",
    "import jax\n",
    "\n",
    "from sklearn.preprocessing import MinMaxScaler\n",
    "from sklearn.utils import shuffle\n",
    "                \n",
    "import wandb\n",
    "\n",
    "from datetime import datetime\n",
    "import pandas as pd\n",
    "import seaborn as sns\n",
    "import matplotlib.pyplot as plt\n",
    "\n",
    "jax.config.update('jax_platform_name', 'cpu')\n",
    "\n",
    "\n",
    "# if __package__ is None:\n",
    "\n",
    "module_path = os.path.abspath(os.path.join('..'))\n",
    "sys.path.append(module_path)\n",
    "\n",
    "__package__ = os.path.basename(module_path)\n",
    "\n",
    "\n",
    "jax.devices()"
   ]
  },
  {
   "cell_type": "code",
   "execution_count": 3,
   "metadata": {},
   "outputs": [],
   "source": [
    "from src.models.vae import VAE\n",
    "from src.models.mlp import MLP\n",
    "from src.models.shared import arrayise\n",
    "from src.losses.losses import loss_fn, compute_accuracy_regression\n",
    "from src.utils.data_preprocessing import drop_duplicates_keep_first_n\n",
    "from src.utils.optimiser import make_optimiser\n",
    "from src.utils.train import train"
   ]
  },
  {
   "cell_type": "markdown",
   "metadata": {},
   "source": [
    "## Load data"
   ]
  },
  {
   "cell_type": "code",
   "execution_count": 4,
   "metadata": {},
   "outputs": [],
   "source": [
    "fn = '../data/processed/ensemble_mutation_effect_analysis/2023_07_17_105328/tabulated_mutation_info.csv'\n",
    "fn_test_data = '../data/raw/ensemble_mutation_effect_analysis/2023_10_03_204819/tabulated_mutation_info.csv'\n",
    "data = pd.read_csv(fn)\n",
    "try:\n",
    "    data.drop(columns=['Unnamed: 0'], inplace=True)\n",
    "except:\n",
    "    pass"
   ]
  },
  {
   "cell_type": "markdown",
   "metadata": {},
   "source": [
    "## Hyperparameters"
   ]
  },
  {
   "cell_type": "code",
   "execution_count": null,
   "metadata": {},
   "outputs": [],
   "source": [
    "# Architecture\n",
    "HIDDEN_SIZE = 32\n",
    "NUM_ENC_LAYERS = 3\n",
    "NUM_DEC_LAYERS = 3\n",
    "\n",
    "\n",
    "BATCH_SIZE = 128\n",
    "N_BATCHES = 1200\n",
    "TOTAL_DS = BATCH_SIZE * N_BATCHES\n",
    "MAX_TOTAL_DS = TOTAL_DS\n",
    "TRAIN_SPLIT = 0.8\n",
    "SCALE_X = False\n",
    "LEARNING_RATE = 5e-4\n",
    "LEARNING_RATE_SCHED = 'cosine_decay'\n",
    "# LEARNING_RATE_SCHED = 'constant'\n",
    "WARMUP_EPOCHS = 20\n",
    "L2_REG_ALPHA = 0.01\n",
    "EPOCHS = 1000\n",
    "PRINT_EVERY = EPOCHS // 1000\n",
    "SEED = 1\n",
    "target_circ_func = 'sensitivity_wrt_species-6'\n",
    "input_concat_diffs = False\n",
    "input_concat_axis = 0\n",
    "\n",
    "USE_DROPOUT = False\n",
    "USE_L2_REG = False\n",
    "USE_WARMUP = True\n",
    "\n",
    "loss_fn = partial(\n",
    "    loss_fn, loss_type='mse', use_l2_reg=USE_L2_REG) \n",
    "compute_accuracy = compute_accuracy_regression\n",
    "\n",
    "subtask = '_test'\n",
    "save_path = str(datetime.now()).split(' ')[0].replace(\n",
    "    '-', '_') + '__' + str(datetime.now()).split(' ')[-1].split('.')[0].replace(':', '_') + '_saves' + subtask\n",
    "save_path = os.path.join('weight_saves', '09_vae', save_path)\n",
    "\n",
    "rng = jax.random.PRNGKey(SEED)"
   ]
  },
  {
   "cell_type": "markdown",
   "metadata": {},
   "source": [
    "# Initialise"
   ]
  },
  {
   "cell_type": "markdown",
   "metadata": {},
   "source": [
    "## Init data"
   ]
  },
  {
   "cell_type": "code",
   "execution_count": null,
   "metadata": {},
   "outputs": [],
   "source": [
    "filt = data['sample_name'] == data['sample_name'].unique()[0]\n",
    "\n",
    "# Balance the dataset\n",
    "df = drop_duplicates_keep_first_n(data[filt], get_true_interaction_cols(\n",
    "    data, 'energies', remove_symmetrical=True), n=100)\n",
    "\n",
    "TOTAL_DS = np.min([TOTAL_DS, MAX_TOTAL_DS, len(df)])\n",
    "N_BATCHES = TOTAL_DS // BATCH_SIZE\n",
    "TOTAL_DS = N_BATCHES * BATCH_SIZE\n",
    "\n",
    "x_cols = [get_true_interaction_cols(data, 'energies', remove_symmetrical=True)]\n",
    "\n",
    "x = [df[i].iloc[:TOTAL_DS].values[:, :, None] for i in x_cols]\n",
    "x = np.concatenate(x, axis=input_concat_axis+1).squeeze()\n",
    "\n",
    "y = x\n",
    "\n",
    "x, y = shuffle(x, y, random_state=SEED)\n",
    "\n",
    "N_HEAD = x.shape[-1]\n",
    "\n",
    "\n",
    "if x.shape[0] < TOTAL_DS:\n",
    "    print(\n",
    "        f'WARNING: The filtered data is not as large as the requested total dataset size: {x.shape[0]} vs. requested {TOTAL_DS}')\n",
    "    \n",
    "if SCALE_X:\n",
    "    xscaler, yscaler = MinMaxScaler(), MinMaxScaler()\n",
    "    x = xscaler.fit_transform(x)\n",
    "    y = xscaler.fit_transform(y)"
   ]
  },
  {
   "cell_type": "markdown",
   "metadata": {},
   "source": [
    "## Init model"
   ]
  },
  {
   "cell_type": "code",
   "execution_count": null,
   "metadata": {},
   "outputs": [],
   "source": [
    "enc_layers = [64] * NUM_ENC_LAYERS\n",
    "dec_layers = [64] * NUM_DEC_LAYERS\n",
    "\n",
    "def VAE_fn(x: np.ndarray, enc_layers: list, dec_layers: list, call_kwargs: dict = {}):\n",
    "    encoder = MLP(layer_sizes=enc_layers, n_head=dec_layers[0], use_categorical=False, name='encoder')\n",
    "    decoder = MLP(layer_sizes=dec_layers, n_head=x.shape[-1], use_categorical=False, name='decoder')\n",
    "    model = VAE(encoder=encoder, decoder=decoder, embed_size=HIDDEN_SIZE)\n",
    "    \n",
    "    def init(x):\n",
    "        h = model.encoder(x)\n",
    "\n",
    "        mu = model.h2mu(h)\n",
    "        logvar = model.h2logvar(h)\n",
    "        z = model.reparameterize(mu, logvar, hk.next_rng_key(), deterministic=False)\n",
    "\n",
    "        y = model.decoder(z)\n",
    "        \n",
    "        return y\n",
    "        \n",
    "    return model(x, **call_kwargs)\n",
    "\n",
    "model_fn = partial(VAE_fn, enc_layers=enc_layers, dec_layers=dec_layers, call_kwargs={'key': rng})\n",
    "# model = hk.transform(model_fn)\n",
    "model = hk.multi_transform(model_fn)\n",
    "params = model.init(rng, x[:2])\n"
   ]
  },
  {
   "cell_type": "markdown",
   "metadata": {},
   "source": [
    "## Init optimiser"
   ]
  },
  {
   "cell_type": "code",
   "execution_count": null,
   "metadata": {},
   "outputs": [],
   "source": [
    "optimiser = make_optimiser(LEARNING_RATE_SCHED, LEARNING_RATE,\n",
    "                           EPOCHS, L2_REG_ALPHA, USE_WARMUP, WARMUP_EPOCHS, N_BATCHES)\n",
    "optimiser_state = optimiser.init(x)"
   ]
  },
  {
   "cell_type": "markdown",
   "metadata": {},
   "source": [
    "# Train"
   ]
  },
  {
   "cell_type": "code",
   "execution_count": null,
   "metadata": {},
   "outputs": [],
   "source": [
    "# [i_batch, xy, Batches, *content]\n",
    "        \n",
    "x = x.reshape(N_BATCHES, 1, BATCH_SIZE, x.shape[-1])\n",
    "y = y.reshape(N_BATCHES, 1, BATCH_SIZE, y.shape[-1])\n",
    "\n",
    "x_train, y_train = x[:int(TRAIN_SPLIT * N_BATCHES)], y[:int(TRAIN_SPLIT * N_BATCHES)]\n",
    "x_val, y_val = x[int(TRAIN_SPLIT * N_BATCHES):], y[int(TRAIN_SPLIT * N_BATCHES):]\n",
    "xy_train = np.concatenate([x_train, y_train], axis=1)"
   ]
  },
  {
   "cell_type": "code",
   "execution_count": null,
   "metadata": {},
   "outputs": [],
   "source": [
    "params, saves = train(params, rng, model, xy_train, x_val, y_val, optimiser, optimiser_state,\n",
    "                      l2_reg_alpha=L2_REG_ALPHA, epochs=EPOCHS,\n",
    "                      loss_fn=loss_fn, compute_accuracy=loss_fn,\n",
    "                      save_every=PRINT_EVERY, include_params_in_saves=False) "
   ]
  }
 ],
 "metadata": {
  "kernelspec": {
   "display_name": "env_evo",
   "language": "python",
   "name": "python3"
  },
  "language_info": {
   "codemirror_mode": {
    "name": "ipython",
    "version": 3
   },
   "file_extension": ".py",
   "mimetype": "text/x-python",
   "name": "python",
   "nbconvert_exporter": "python",
   "pygments_lexer": "ipython3",
   "version": "3.10.12"
  }
 },
 "nbformat": 4,
 "nbformat_minor": 2
}
