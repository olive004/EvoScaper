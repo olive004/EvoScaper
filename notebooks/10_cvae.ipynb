{
 "cells": [
  {
   "cell_type": "code",
   "execution_count": 15,
   "metadata": {},
   "outputs": [
    {
     "name": "stdout",
     "output_type": "stream",
     "text": [
      "The autoreload extension is already loaded. To reload it, use:\n",
      "  %reload_ext autoreload\n"
     ]
    }
   ],
   "source": [
    "%load_ext autoreload\n",
    "%autoreload 2"
   ]
  },
  {
   "cell_type": "markdown",
   "metadata": {},
   "source": [
    "# Conditional VAE for genetic circuits\n",
    "\n",
    "This notebook follows the previous VAE notebook very closely, but implementing a conditional VAE instead. Loosely following [this blog post](https://agustinus.kristia.de/techblog/2016/12/17/conditional-vae/)."
   ]
  },
  {
   "cell_type": "markdown",
   "metadata": {},
   "source": [
    "## Imports "
   ]
  },
  {
   "cell_type": "code",
   "execution_count": 16,
   "metadata": {},
   "outputs": [
    {
     "data": {
      "text/plain": [
       "[CpuDevice(id=0)]"
      ]
     },
     "execution_count": 16,
     "metadata": {},
     "output_type": "execute_result"
    }
   ],
   "source": [
    "# %env XLA_PYTHON_CLIENT_ALLOCATOR=platform\n",
    "\n",
    "from synbio_morpher.utils.data.data_format_tools.common import load_json_as_dict\n",
    "from synbio_morpher.utils.results.analytics.naming import get_true_interaction_cols\n",
    "from synbio_morpher.utils.data.data_format_tools.common import write_json\n",
    "from synbio_morpher.utils.misc.string_handling import prettify_keys_for_label\n",
    "from functools import partial\n",
    "\n",
    "from sklearn.metrics import r2_score  \n",
    "import os\n",
    "import sys\n",
    "import numpy as np\n",
    "import haiku as hk\n",
    "import jax\n",
    "\n",
    "from sklearn.preprocessing import MinMaxScaler\n",
    "from sklearn.utils import shuffle\n",
    "                \n",
    "import wandb\n",
    "\n",
    "from datetime import datetime\n",
    "import pandas as pd\n",
    "import seaborn as sns\n",
    "import matplotlib.pyplot as plt\n",
    "\n",
    "jax.config.update('jax_platform_name', 'cpu')\n",
    "\n",
    "\n",
    "# if __package__ is None:\n",
    "\n",
    "module_path = os.path.abspath(os.path.join('..'))\n",
    "sys.path.append(module_path)\n",
    "\n",
    "__package__ = os.path.basename(module_path)\n",
    "\n",
    "\n",
    "jax.devices()"
   ]
  },
  {
   "cell_type": "code",
   "execution_count": 17,
   "metadata": {},
   "outputs": [],
   "source": [
    "from src.models.vae import VAE\n",
    "from src.models.mlp import MLP\n",
    "from src.models.shared import arrayise\n",
    "from src.losses.losses import loss_wrapper, compute_accuracy_regression\n",
    "from src.utils.data_preprocessing import drop_duplicates_keep_first_n\n",
    "from src.utils.optimiser import make_optimiser\n",
    "from src.utils.train import train"
   ]
  },
  {
   "cell_type": "markdown",
   "metadata": {},
   "source": [
    "## Load data"
   ]
  },
  {
   "cell_type": "code",
   "execution_count": 18,
   "metadata": {},
   "outputs": [],
   "source": [
    "fn = '../data/processed/ensemble_mutation_effect_analysis/2023_07_17_105328/tabulated_mutation_info.csv'\n",
    "fn_test_data = '../data/raw/ensemble_mutation_effect_analysis/2023_10_03_204819/tabulated_mutation_info.csv'\n",
    "data = pd.read_csv(fn)\n",
    "try:\n",
    "    data.drop(columns=['Unnamed: 0'], inplace=True)\n",
    "except:\n",
    "    pass"
   ]
  },
  {
   "cell_type": "markdown",
   "metadata": {},
   "source": [
    "## Hyperparameters"
   ]
  },
  {
   "cell_type": "code",
   "execution_count": null,
   "metadata": {},
   "outputs": [],
   "source": [
    "# Architecture\n",
    "HIDDEN_SIZE = 32\n",
    "NUM_ENC_LAYERS = 3\n",
    "NUM_DEC_LAYERS = 3\n",
    "\n",
    "\n",
    "BATCH_SIZE = 128\n",
    "N_BATCHES = 1200\n",
    "TOTAL_DS = BATCH_SIZE * N_BATCHES\n",
    "MAX_TOTAL_DS = TOTAL_DS\n",
    "TRAIN_SPLIT = 0.8\n",
    "SCALE_X = False\n",
    "LEARNING_RATE = 5e-4\n",
    "LEARNING_RATE_SCHED = 'cosine_decay'\n",
    "# LEARNING_RATE_SCHED = 'constant'\n",
    "WARMUP_EPOCHS = 20\n",
    "L2_REG_ALPHA = 0.01\n",
    "EPOCHS = 2\n",
    "PRINT_EVERY = EPOCHS // 1000\n",
    "SEED = 1\n",
    "target_circ_func = 'sensitivity_wrt_species-6'\n",
    "input_concat_diffs = False\n",
    "input_concat_axis = 0\n",
    "\n",
    "USE_DROPOUT = False\n",
    "USE_L2_REG = False\n",
    "USE_WARMUP = True\n",
    "\n",
    "loss_fn = partial(\n",
    "    loss_fn, loss_type='mse', use_l2_reg=USE_L2_REG) \n",
    "compute_accuracy = compute_accuracy_regression\n",
    "\n",
    "subtask = '_test'\n",
    "save_path = str(datetime.now()).split(' ')[0].replace(\n",
    "    '-', '_') + '__' + str(datetime.now()).split(' ')[-1].split('.')[0].replace(':', '_') + '_saves' + subtask\n",
    "save_path = os.path.join('weight_saves', '09_vae', save_path)\n",
    "\n",
    "rng = jax.random.PRNGKey(SEED)"
   ]
  },
  {
   "cell_type": "markdown",
   "metadata": {},
   "source": [
    "# Initialise"
   ]
  },
  {
   "cell_type": "markdown",
   "metadata": {},
   "source": [
    "## Init data"
   ]
  },
  {
   "cell_type": "code",
   "execution_count": null,
   "metadata": {},
   "outputs": [],
   "source": [
    "filt = data['sample_name'] == data['sample_name'].unique()[0]\n",
    "\n",
    "# Balance the dataset\n",
    "df = drop_duplicates_keep_first_n(data[filt], get_true_interaction_cols(\n",
    "    data, 'energies', remove_symmetrical=True), n=100)\n",
    "\n",
    "TOTAL_DS = np.min([TOTAL_DS, MAX_TOTAL_DS, len(df)])\n",
    "N_BATCHES = TOTAL_DS // BATCH_SIZE\n",
    "TOTAL_DS = N_BATCHES * BATCH_SIZE\n",
    "\n",
    "x_cols = [get_true_interaction_cols(data, 'energies', remove_symmetrical=True)]\n",
    "\n",
    "x = [df[i].iloc[:TOTAL_DS].values[:, :, None] for i in x_cols]\n",
    "x = np.concatenate(x, axis=input_concat_axis+1).squeeze()\n",
    "\n",
    "y = x\n",
    "\n",
    "x, y = shuffle(x, y, random_state=SEED)\n",
    "\n",
    "N_HEAD = x.shape[-1]\n",
    "\n",
    "\n",
    "if x.shape[0] < TOTAL_DS:\n",
    "    print(\n",
    "        f'WARNING: The filtered data is not as large as the requested total dataset size: {x.shape[0]} vs. requested {TOTAL_DS}')\n",
    "    \n",
    "if SCALE_X:\n",
    "    xscaler, yscaler = MinMaxScaler(), MinMaxScaler()\n",
    "    x = xscaler.fit_transform(x)\n",
    "    y = xscaler.fit_transform(y)"
   ]
  },
  {
   "cell_type": "code",
   "execution_count": null,
   "metadata": {},
   "outputs": [],
   "source": [
    "x_cols = [get_true_interaction_cols(data, 'energies', remove_symmetrical=True)]\n",
    "if input_concat_diffs:\n",
    "    x_cols = x_cols + \\\n",
    "        [[f'{i}_diffs' for i in get_true_interaction_cols(\n",
    "            data, k, remove_symmetrical=True)]]\n",
    "\n",
    "x = [df[i].iloc[:TOTAL_DS].values[:, :, None] for i in x_cols]\n",
    "x = np.concatenate(x, axis=input_concat_axis+1).squeeze()\n",
    "\n",
    "y = df[target_circ_func].iloc[:TOTAL_DS].to_numpy()\n",
    "\n",
    "if USE_CATEGORICAL:\n",
    "    y_map = {k: numerical_resolution for k in np.arange(int(f'{y[y != 0].min():.0e}'.split(\n",
    "        'e')[1])-1, np.max([int(f'{y.max():.0e}'.split('e')[1])+1, 0 + 1]))}\n",
    "    y_map[-6] = 1\n",
    "    y_map[-5] = 1\n",
    "    y_map[-4] = 4\n",
    "    y_map[-3] = 2\n",
    "    y_map[-1] = 3\n",
    "    y = jax.tree_util.tree_map(partial(\n",
    "        vectorized_convert_to_scientific_exponent, numerical_resolution=y_map), y)\n",
    "    y = np.interp(y, sorted(np.unique(y)), np.arange(\n",
    "        len(sorted(np.unique(y))))).astype(int)\n",
    "else:\n",
    "    zero_log_replacement = -10.0\n",
    "    y = np.where(y != 0, np.log10(y), zero_log_replacement)\n",
    "\n",
    "x, y = shuffle(x, y, random_state=SEED)\n",
    "\n",
    "N_HEAD = len(np.unique(y)) if USE_CATEGORICAL else 1\n",
    "\n",
    "\n",
    "if x.shape[0] < TOTAL_DS:\n",
    "    print(\n",
    "        f'WARNING: The filtered data is not as large as the requested total dataset size: {x.shape[0]} vs. requested {TOTAL_DS}')"
   ]
  },
  {
   "cell_type": "markdown",
   "metadata": {},
   "source": [
    "## Init model"
   ]
  },
  {
   "cell_type": "code",
   "execution_count": null,
   "metadata": {},
   "outputs": [
    {
     "name": "stderr",
     "output_type": "stream",
     "text": [
      "/home/wadh6511/Kode/env_evo/lib/python3.10/site-packages/haiku/_src/initializers.py:126: UserWarning: Explicitly requested dtype float64  is not available, and will be truncated to dtype float32. To enable more dtypes, set the jax_enable_x64 configuration option or the JAX_ENABLE_X64 shell environment variable. See https://github.com/google/jax#current-gotchas for more.\n",
      "  unscaled = jax.random.truncated_normal(\n",
      "/home/wadh6511/Kode/env_evo/lib/python3.10/site-packages/haiku/_src/base.py:682: UserWarning: Explicitly requested dtype float64 requested in zeros is not available, and will be truncated to dtype float32. To enable more dtypes, set the jax_enable_x64 configuration option or the JAX_ENABLE_X64 shell environment variable. See https://github.com/google/jax#current-gotchas for more.\n",
      "  param = init(shape, dtype)\n"
     ]
    }
   ],
   "source": [
    "enc_layers = [64] * NUM_ENC_LAYERS\n",
    "dec_layers = [64] * NUM_DEC_LAYERS\n",
    "\n",
    "def VAE_fn(enc_layers: list, dec_layers: list, call_kwargs: dict = {}):\n",
    "    encoder = MLP(layer_sizes=enc_layers, n_head=dec_layers[0], use_categorical=False, name='encoder')\n",
    "    decoder = MLP(layer_sizes=dec_layers, n_head=x.shape[-1], use_categorical=False, name='decoder')\n",
    "    model = VAE(encoder=encoder, decoder=decoder, embed_size=HIDDEN_SIZE)\n",
    "    \n",
    "    def init(x: np.ndarray, deterministic: bool):\n",
    "        h = model.encoder(x)\n",
    "\n",
    "        mu = model.h2mu(h)\n",
    "        logvar = model.h2logvar(h)\n",
    "        z = model.reparameterize(mu, logvar, hk.next_rng_key(), deterministic)\n",
    "\n",
    "        y = model.decoder(z)\n",
    "        \n",
    "        return y\n",
    "        \n",
    "    return init, (encoder, decoder, model) #model(x, **call_kwargs)\n",
    "\n",
    "model_fn = partial(VAE_fn, enc_layers=enc_layers, dec_layers=dec_layers, call_kwargs={'key': rng})\n",
    "# model = hk.transform(model_fn)\n",
    "model_t = hk.multi_transform(model_fn)\n",
    "params = model_t.init(rng, x[:2], deterministic=False)\n"
   ]
  },
  {
   "cell_type": "code",
   "execution_count": null,
   "metadata": {},
   "outputs": [],
   "source": [
    "encoder, decoder, model = model_t.apply"
   ]
  },
  {
   "cell_type": "code",
   "execution_count": null,
   "metadata": {},
   "outputs": [],
   "source": [
    "h = encoder(params, rng, x)"
   ]
  },
  {
   "cell_type": "code",
   "execution_count": null,
   "metadata": {},
   "outputs": [
    {
     "data": {
      "text/plain": [
       "Array([[ 1.2200505 ,  0.56759536, -0.17559402,  0.38360912,  0.91138595,\n",
       "         0.9836584 ],\n",
       "       [ 0.93897206,  0.39088452, -0.07145118,  0.36647606,  1.1440954 ,\n",
       "         0.79225576],\n",
       "       [ 0.9203401 ,  0.44798788, -0.15981165,  0.42806238,  0.79410064,\n",
       "         0.8846526 ],\n",
       "       ...,\n",
       "       [ 1.0310407 ,  0.7607218 , -0.15593469,  0.427303  ,  1.2034185 ,\n",
       "         0.8617574 ],\n",
       "       [ 0.7840745 ,  0.49800652,  0.03180542,  0.27787185,  0.6302647 ,\n",
       "         0.5866081 ],\n",
       "       [ 1.2556453 ,  0.40852782, -0.12452329,  0.28039137,  1.1396322 ,\n",
       "         0.5093984 ]], dtype=float32)"
      ]
     },
     "execution_count": 10,
     "metadata": {},
     "output_type": "execute_result"
    }
   ],
   "source": [
    "model(params, rng, x, key=rng)"
   ]
  },
  {
   "cell_type": "markdown",
   "metadata": {},
   "source": [
    "## Init optimiser"
   ]
  },
  {
   "cell_type": "code",
   "execution_count": null,
   "metadata": {},
   "outputs": [],
   "source": [
    "optimiser = make_optimiser(LEARNING_RATE_SCHED, LEARNING_RATE,\n",
    "                           EPOCHS, L2_REG_ALPHA, USE_WARMUP, WARMUP_EPOCHS, N_BATCHES)\n",
    "optimiser_state = optimiser.init(x)"
   ]
  },
  {
   "cell_type": "markdown",
   "metadata": {},
   "source": [
    "# Train"
   ]
  },
  {
   "cell_type": "code",
   "execution_count": null,
   "metadata": {},
   "outputs": [],
   "source": [
    "# [i_batch, xy, Batches, *content]\n",
    "        \n",
    "x = x.reshape(N_BATCHES, 1, BATCH_SIZE, x.shape[-1])\n",
    "y = y.reshape(N_BATCHES, 1, BATCH_SIZE, y.shape[-1])\n",
    "\n",
    "x_train, y_train = x[:int(TRAIN_SPLIT * N_BATCHES)], y[:int(TRAIN_SPLIT * N_BATCHES)]\n",
    "x_val, y_val = x[int(TRAIN_SPLIT * N_BATCHES):], y[int(TRAIN_SPLIT * N_BATCHES):]\n",
    "xy_train = np.concatenate([x_train, y_train], axis=1)"
   ]
  },
  {
   "cell_type": "code",
   "execution_count": null,
   "metadata": {},
   "outputs": [
    {
     "name": "stderr",
     "output_type": "stream",
     "text": [
      "[autoreload of src.losses.losses failed: Traceback (most recent call last):\n",
      "  File \"/home/wadh6511/Kode/env_evo/lib/python3.10/site-packages/IPython/extensions/autoreload.py\", line 276, in check\n",
      "    superreload(m, reload, self.old_objects)\n",
      "  File \"/home/wadh6511/Kode/env_evo/lib/python3.10/site-packages/IPython/extensions/autoreload.py\", line 475, in superreload\n",
      "    module = reload(module)\n",
      "  File \"/usr/lib/python3.10/importlib/__init__.py\", line 169, in reload\n",
      "    _bootstrap._exec(spec, module)\n",
      "  File \"<frozen importlib._bootstrap>\", line 619, in _exec\n",
      "  File \"<frozen importlib._bootstrap_external>\", line 883, in exec_module\n",
      "  File \"<frozen importlib._bootstrap>\", line 241, in _call_with_frames_removed\n",
      "  File \"/home/wadh6511/Kode/EvoScaper/src/losses/losses.py\", line 75, in <module>\n",
      "    params, rng, model: MLP, x: Float[Array, \"batch num_interactions\"], y: Int[Array, \" batch n_head\"]\n",
      "NameError: name 'MLP' is not defined\n",
      "]\n"
     ]
    },
    {
     "ename": "NameError",
     "evalue": "name 'loss_wrapper' is not defined",
     "output_type": "error",
     "traceback": [
      "\u001b[0;31m---------------------------------------------------------------------------\u001b[0m",
      "\u001b[0;31mNameError\u001b[0m                                 Traceback (most recent call last)",
      "\u001b[1;32m/home/wadh6511/Kode/EvoScaper/notebooks/10_cvae.ipynb Cell 23\u001b[0m line \u001b[0;36m3\n\u001b[1;32m      <a href='vscode-notebook-cell://ssh-remote%2B7b22686f73744e616d65223a2277616468363531312d50432d425832333638312d5453227d/home/wadh6511/Kode/EvoScaper/notebooks/10_cvae.ipynb#X24sdnNjb2RlLXJlbW90ZQ%3D%3D?line=0'>1</a>\u001b[0m params, saves \u001b[39m=\u001b[39m train(params, rng, model, xy_train, x_val, y_val, optimiser, optimiser_state,\n\u001b[1;32m      <a href='vscode-notebook-cell://ssh-remote%2B7b22686f73744e616d65223a2277616468363531312d50432d425832333638312d5453227d/home/wadh6511/Kode/EvoScaper/notebooks/10_cvae.ipynb#X24sdnNjb2RlLXJlbW90ZQ%3D%3D?line=1'>2</a>\u001b[0m                       l2_reg_alpha\u001b[39m=\u001b[39mL2_REG_ALPHA, epochs\u001b[39m=\u001b[39mEPOCHS,\n\u001b[0;32m----> <a href='vscode-notebook-cell://ssh-remote%2B7b22686f73744e616d65223a2277616468363531312d50432d425832333638312d5453227d/home/wadh6511/Kode/EvoScaper/notebooks/10_cvae.ipynb#X24sdnNjb2RlLXJlbW90ZQ%3D%3D?line=2'>3</a>\u001b[0m                       loss_fn\u001b[39m=\u001b[39mloss_wrapper, compute_accuracy\u001b[39m=\u001b[39mcompute_accuracy_regression,\n\u001b[1;32m      <a href='vscode-notebook-cell://ssh-remote%2B7b22686f73744e616d65223a2277616468363531312d50432d425832333638312d5453227d/home/wadh6511/Kode/EvoScaper/notebooks/10_cvae.ipynb#X24sdnNjb2RlLXJlbW90ZQ%3D%3D?line=3'>4</a>\u001b[0m                       save_every\u001b[39m=\u001b[39mPRINT_EVERY, include_params_in_saves\u001b[39m=\u001b[39m\u001b[39mFalse\u001b[39;00m) \n",
      "\u001b[0;31mNameError\u001b[0m: name 'loss_wrapper' is not defined"
     ]
    }
   ],
   "source": [
    "params, saves = train(params, rng, model, xy_train, x_val, y_val, optimiser, optimiser_state,\n",
    "                      l2_reg_alpha=L2_REG_ALPHA, epochs=EPOCHS,\n",
    "                      loss_fn=loss_wrapper, compute_accuracy=compute_accuracy_regression,\n",
    "                      save_every=PRINT_EVERY, include_params_in_saves=False) "
   ]
  },
  {
   "cell_type": "code",
   "execution_count": null,
   "metadata": {},
   "outputs": [],
   "source": []
  }
 ],
 "metadata": {
  "kernelspec": {
   "display_name": "env_evo",
   "language": "python",
   "name": "python3"
  },
  "language_info": {
   "codemirror_mode": {
    "name": "ipython",
    "version": 3
   },
   "file_extension": ".py",
   "mimetype": "text/x-python",
   "name": "python",
   "nbconvert_exporter": "python",
   "pygments_lexer": "ipython3",
   "version": "3.10.12"
  }
 },
 "nbformat": 4,
 "nbformat_minor": 2
}
