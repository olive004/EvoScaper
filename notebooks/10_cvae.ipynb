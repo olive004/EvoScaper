{
 "cells": [
  {
   "cell_type": "code",
   "execution_count": 1,
   "metadata": {},
   "outputs": [],
   "source": [
    "%load_ext autoreload\n",
    "%autoreload 2"
   ]
  },
  {
   "cell_type": "markdown",
   "metadata": {},
   "source": [
    "# Conditional VAE for genetic circuits\n",
    "\n",
    "This notebook follows the previous VAE notebook very closely, but implementing a conditional VAE instead. Loosely following [this blog post](https://agustinus.kristia.de/techblog/2016/12/17/conditional-vae/)."
   ]
  },
  {
   "cell_type": "markdown",
   "metadata": {},
   "source": [
    "## Imports "
   ]
  },
  {
   "cell_type": "code",
   "execution_count": 2,
   "metadata": {},
   "outputs": [
    {
     "name": "stderr",
     "output_type": "stream",
     "text": [
      "WARNING: All log messages before absl::InitializeLog() is called are written to STDERR\n",
      "I0000 00:00:1702549660.546714  476195 tfrt_cpu_pjrt_client.cc:349] TfrtCpuClient created.\n"
     ]
    },
    {
     "data": {
      "text/plain": [
       "[gpu(id=0)]"
      ]
     },
     "execution_count": 2,
     "metadata": {},
     "output_type": "execute_result"
    }
   ],
   "source": [
    "# %env XLA_PYTHON_CLIENT_ALLOCATOR=platform\n",
    "\n",
    "from synbio_morpher.utils.data.data_format_tools.common import load_json_as_dict\n",
    "from synbio_morpher.utils.results.analytics.naming import get_true_interaction_cols\n",
    "from synbio_morpher.utils.data.data_format_tools.common import write_json\n",
    "from synbio_morpher.utils.misc.string_handling import prettify_keys_for_label\n",
    "from functools import partial\n",
    "\n",
    "from sklearn.metrics import r2_score  \n",
    "import os\n",
    "import sys\n",
    "import numpy as np\n",
    "import haiku as hk\n",
    "import jax\n",
    "import optax\n",
    "\n",
    "from sklearn.preprocessing import MinMaxScaler\n",
    "from sklearn.utils import shuffle\n",
    "                \n",
    "import wandb\n",
    "\n",
    "from datetime import datetime\n",
    "import pandas as pd\n",
    "import seaborn as sns\n",
    "import matplotlib.pyplot as plt\n",
    "\n",
    "jax.config.update('jax_platform_name', 'gpu')\n",
    "\n",
    "\n",
    "# if __package__ is None:\n",
    "\n",
    "module_path = os.path.abspath(os.path.join('..'))\n",
    "sys.path.append(module_path)\n",
    "\n",
    "__package__ = os.path.basename(module_path)\n",
    "\n",
    "\n",
    "jax.devices()"
   ]
  },
  {
   "cell_type": "code",
   "execution_count": 3,
   "metadata": {},
   "outputs": [
    {
     "name": "stderr",
     "output_type": "stream",
     "text": [
      "/home/wadh6511/Kode/env_evo/lib/python3.10/site-packages/jaxtyping/__init__.py:221: UserWarning: jaxtyping version >=0.2.23 should be used with Equinox version >=0.11.1\n",
      "  warnings.warn(\n"
     ]
    }
   ],
   "source": [
    "from src.models.vae import CVAE\n",
    "from src.models.mlp import MLP\n",
    "from src.models.shared import arrayise\n",
    "from src.losses.losses import loss_wrapper, compute_accuracy_regression, mse_loss, accuracy_regression\n",
    "from src.utils.data_preprocessing import drop_duplicates_keep_first_n\n",
    "from src.utils.optimiser import make_optimiser\n",
    "from src.utils.train import make_saves"
   ]
  },
  {
   "cell_type": "markdown",
   "metadata": {},
   "source": [
    "## Load data"
   ]
  },
  {
   "cell_type": "code",
   "execution_count": 4,
   "metadata": {},
   "outputs": [],
   "source": [
    "fn = '../data/processed/ensemble_mutation_effect_analysis/2023_07_17_105328/tabulated_mutation_info.csv'\n",
    "fn_test_data = '../data/raw/ensemble_mutation_effect_analysis/2023_10_03_204819/tabulated_mutation_info.csv'\n",
    "data = pd.read_csv(fn)\n",
    "try:\n",
    "    data.drop(columns=['Unnamed: 0'], inplace=True)\n",
    "except:\n",
    "    pass"
   ]
  },
  {
   "cell_type": "markdown",
   "metadata": {},
   "source": [
    "## Hyperparameters"
   ]
  },
  {
   "cell_type": "code",
   "execution_count": 5,
   "metadata": {},
   "outputs": [],
   "source": [
    "# Architecture\n",
    "HIDDEN_SIZE = 32\n",
    "NUM_ENC_LAYERS = 3\n",
    "NUM_DEC_LAYERS = 3\n",
    "\n",
    "\n",
    "BATCH_SIZE = 128\n",
    "N_BATCHES = 1200\n",
    "TOTAL_DS = BATCH_SIZE * N_BATCHES\n",
    "MAX_TOTAL_DS = TOTAL_DS\n",
    "TRAIN_SPLIT = 0.8\n",
    "SCALE_X = False\n",
    "LEARNING_RATE = 5e-4\n",
    "LEARNING_RATE_SCHED = 'cosine_decay'\n",
    "# LEARNING_RATE_SCHED = 'constant'\n",
    "WARMUP_EPOCHS = 20\n",
    "L2_REG_ALPHA = 0.01\n",
    "EPOCHS = 5\n",
    "PRINT_EVERY = EPOCHS // 1000\n",
    "SEED = 1\n",
    "USE_CATEGORICAL = False\n",
    "target_circ_func = 'sensitivity_wrt_species-6'\n",
    "input_concat_diffs = False\n",
    "input_concat_axis = 0\n",
    "\n",
    "# Training\n",
    "USE_DROPOUT = False\n",
    "USE_L2_REG = False\n",
    "USE_WARMUP = False\n",
    "\n",
    "loss_fn = partial(\n",
    "    loss_wrapper, loss_f=mse_loss, use_l2_reg=USE_L2_REG) \n",
    "compute_accuracy = compute_accuracy_regression\n",
    "\n",
    "subtask = '_test'\n",
    "save_path = str(datetime.now()).split(' ')[0].replace(\n",
    "    '-', '_') + '__' + str(datetime.now()).split(' ')[-1].split('.')[0].replace(':', '_') + '_saves' + subtask\n",
    "save_path = os.path.join('weight_saves', '09_vae', save_path)\n",
    "\n",
    "rng = jax.random.PRNGKey(SEED)"
   ]
  },
  {
   "cell_type": "markdown",
   "metadata": {},
   "source": [
    "# Initialise"
   ]
  },
  {
   "cell_type": "markdown",
   "metadata": {},
   "source": [
    "## Init data"
   ]
  },
  {
   "cell_type": "code",
   "execution_count": 6,
   "metadata": {},
   "outputs": [],
   "source": [
    "filt = data['sample_name'] == data['sample_name'].unique()[0]\n",
    "\n",
    "# Balance the dataset\n",
    "df = drop_duplicates_keep_first_n(data[filt], get_true_interaction_cols(\n",
    "    data, 'energies', remove_symmetrical=True), n=100)\n",
    "\n",
    "TOTAL_DS = np.min([TOTAL_DS, MAX_TOTAL_DS, len(df)])\n",
    "N_BATCHES = TOTAL_DS // BATCH_SIZE\n",
    "TOTAL_DS = N_BATCHES * BATCH_SIZE\n",
    "\n",
    "x_cols = [get_true_interaction_cols(data, 'energies', remove_symmetrical=True)]\n",
    "if input_concat_diffs:\n",
    "    k = 'energies'\n",
    "    x_cols = x_cols + \\\n",
    "        [[f'{i}_diffs' for i in get_true_interaction_cols(\n",
    "            data, k, remove_symmetrical=True)]]\n",
    "\n",
    "x = [df[i].iloc[:TOTAL_DS].values[:, :, None] for i in x_cols]\n",
    "x = np.concatenate(x, axis=input_concat_axis+1).squeeze()\n",
    "\n",
    "if SCALE_X:\n",
    "    xscaler = MinMaxScaler()\n",
    "    x = xscaler.fit_transform(x)"
   ]
  },
  {
   "cell_type": "code",
   "execution_count": 7,
   "metadata": {},
   "outputs": [],
   "source": [
    "cond = df[target_circ_func].iloc[:TOTAL_DS].to_numpy()\n",
    "\n",
    "if USE_CATEGORICAL:\n",
    "    from src.utils.math import convert_to_scientific_exponent\n",
    "\n",
    "    vectorized_convert_to_scientific_exponent = np.vectorize(\n",
    "        convert_to_scientific_exponent)\n",
    "    numerical_resolution = 2\n",
    "    cond_map = {k: numerical_resolution for k in np.arange(int(f'{cond[cond != 0].min():.0e}'.split(\n",
    "        'e')[1])-1, np.max([int(f'{cond.max():.0e}'.split('e')[1])+1, 0 + 1]))}\n",
    "    cond_map[-6] = 1\n",
    "    cond_map[-5] = 1\n",
    "    cond_map[-4] = 4\n",
    "    cond_map[-3] = 2\n",
    "    cond_map[-1] = 3\n",
    "    cond = jax.tree_util.tree_map(partial(\n",
    "        vectorized_convert_to_scientific_exponent, numerical_resolution=cond_map), cond)\n",
    "    cond = np.interp(cond, sorted(np.unique(cond)), np.arange(\n",
    "        len(sorted(np.unique(cond))))).astype(int)\n",
    "else:\n",
    "    zero_log_replacement = -10.0\n",
    "    cond = np.where(cond != 0, np.log10(cond), zero_log_replacement)\n",
    "\n",
    "cond = cond[:, None]\n",
    "N_HEAD = x.shape[-1]\n",
    "\n",
    "x, cond = shuffle(x, cond, random_state=SEED)\n",
    "\n",
    "if x.shape[0] < TOTAL_DS:\n",
    "    print(\n",
    "        f'WARNING: The filtered data is not as large as the requested total dataset size: {x.shape[0]} vs. requested {TOTAL_DS}')"
   ]
  },
  {
   "cell_type": "code",
   "execution_count": 8,
   "metadata": {},
   "outputs": [
    {
     "data": {
      "text/plain": [
       "(153600, 7)"
      ]
     },
     "execution_count": 8,
     "metadata": {},
     "output_type": "execute_result"
    }
   ],
   "source": [
    "np.concatenate([x, cond], axis=1).shape"
   ]
  },
  {
   "cell_type": "markdown",
   "metadata": {},
   "source": [
    "## Init model"
   ]
  },
  {
   "cell_type": "code",
   "execution_count": 9,
   "metadata": {},
   "outputs": [
    {
     "name": "stderr",
     "output_type": "stream",
     "text": [
      "/home/wadh6511/Kode/env_evo/lib/python3.10/site-packages/haiku/_src/initializers.py:126: UserWarning: Explicitly requested dtype float64  is not available, and will be truncated to dtype float32. To enable more dtypes, set the jax_enable_x64 configuration option or the JAX_ENABLE_X64 shell environment variable. See https://github.com/google/jax#current-gotchas for more.\n",
      "  unscaled = jax.random.truncated_normal(\n",
      "/home/wadh6511/Kode/env_evo/lib/python3.10/site-packages/haiku/_src/base.py:682: UserWarning: Explicitly requested dtype float64 requested in zeros is not available, and will be truncated to dtype float32. To enable more dtypes, set the jax_enable_x64 configuration option or the JAX_ENABLE_X64 shell environment variable. See https://github.com/google/jax#current-gotchas for more.\n",
      "  param = init(shape, dtype)\n"
     ]
    }
   ],
   "source": [
    "enc_layers = [64] * NUM_ENC_LAYERS\n",
    "dec_layers = [64] * NUM_DEC_LAYERS\n",
    "\n",
    "def VAE_fn(enc_layers: list, dec_layers: list, call_kwargs: dict = {}):\n",
    "    encoder = MLP(layer_sizes=enc_layers, n_head=dec_layers[0], use_categorical=False, name='encoder')\n",
    "    decoder = MLP(layer_sizes=dec_layers, n_head=x.shape[-1], use_categorical=False, name='decoder')\n",
    "    model = CVAE(encoder=encoder, decoder=decoder, embed_size=HIDDEN_SIZE)\n",
    "    \n",
    "    def init(x: np.ndarray, cond: np.ndarray, deterministic: bool):\n",
    "        h = model.encoder(np.concatenate([x, cond], axis=-1))\n",
    "\n",
    "        mu = model.h2mu(h)\n",
    "        logvar = model.h2logvar(h)\n",
    "        z = model.reparameterize(mu, logvar, hk.next_rng_key(), deterministic)\n",
    "        z_cond = np.concatenate([z, cond], axis=-1)\n",
    "\n",
    "        y = model.decoder(z_cond)\n",
    "        return y\n",
    "        \n",
    "    return init, (encoder, decoder, model) #model(x, **call_kwargs)\n",
    "\n",
    "model_fn = partial(VAE_fn, enc_layers=enc_layers, dec_layers=dec_layers, call_kwargs={'key': rng})\n",
    "# model = hk.transform(model_fn)\n",
    "model_t = hk.multi_transform(model_fn)\n",
    "params = model_t.init(rng, x, cond, deterministic=False)\n"
   ]
  },
  {
   "cell_type": "code",
   "execution_count": 10,
   "metadata": {},
   "outputs": [],
   "source": [
    "encoder, decoder, model = model_t.apply"
   ]
  },
  {
   "cell_type": "code",
   "execution_count": 11,
   "metadata": {},
   "outputs": [],
   "source": [
    "h = encoder(params, rng, np.concatenate([x, cond], axis=-1))"
   ]
  },
  {
   "cell_type": "code",
   "execution_count": 12,
   "metadata": {},
   "outputs": [
    {
     "data": {
      "text/plain": [
       "Array([[ 0.82784826,  0.4404419 ,  0.12714294,  0.22062692,  1.0385995 ,\n",
       "         0.64580923],\n",
       "       [ 1.2034786 ,  0.40335447, -0.02307892,  0.4063047 ,  1.0215791 ,\n",
       "         0.7701513 ],\n",
       "       [ 1.2043823 ,  0.52515024,  0.05376959,  0.4019768 ,  0.81173486,\n",
       "         0.94905376],\n",
       "       ...,\n",
       "       [ 0.86559814,  0.39743975,  0.2708708 ,  0.36654013,  0.9355792 ,\n",
       "         0.8020615 ],\n",
       "       [ 1.1065849 ,  0.11027247,  0.09968159,  0.5402143 ,  0.9874739 ,\n",
       "         0.98084295],\n",
       "       [ 1.1596351 ,  0.5367333 ,  0.05196697,  0.2566617 ,  0.9819162 ,\n",
       "         0.93189126]], dtype=float32)"
      ]
     },
     "execution_count": 12,
     "metadata": {},
     "output_type": "execute_result"
    }
   ],
   "source": [
    "model(params, rng, x, cond)"
   ]
  },
  {
   "cell_type": "markdown",
   "metadata": {},
   "source": [
    "## Init optimiser"
   ]
  },
  {
   "cell_type": "code",
   "execution_count": 13,
   "metadata": {},
   "outputs": [],
   "source": [
    "optimiser = make_optimiser(LEARNING_RATE_SCHED, LEARNING_RATE,\n",
    "                           EPOCHS, L2_REG_ALPHA, USE_WARMUP, WARMUP_EPOCHS, N_BATCHES)\n",
    "optimiser_state = optimiser.init(x)"
   ]
  },
  {
   "cell_type": "markdown",
   "metadata": {},
   "source": [
    "# Train"
   ]
  },
  {
   "cell_type": "code",
   "execution_count": 14,
   "metadata": {},
   "outputs": [],
   "source": [
    "# [i_batch, Batches, *content]\n",
    "\n",
    "x = x.reshape(N_BATCHES, BATCH_SIZE, x.shape[-1])\n",
    "cond = cond.reshape(N_BATCHES, BATCH_SIZE, cond.shape[-1])\n",
    "y = x.reshape(N_BATCHES, BATCH_SIZE, x.shape[-1])\n",
    "\n",
    "x_train, cond_train, y_train = x[:int(TRAIN_SPLIT * N_BATCHES)], cond[:int(TRAIN_SPLIT * N_BATCHES)], y[:int(TRAIN_SPLIT * N_BATCHES)]\n",
    "x_val, cond_val, y_val = x[int(TRAIN_SPLIT * N_BATCHES):], cond[int(TRAIN_SPLIT * N_BATCHES):], y[int(TRAIN_SPLIT * N_BATCHES):]"
   ]
  },
  {
   "cell_type": "code",
   "execution_count": 15,
   "metadata": {},
   "outputs": [],
   "source": [
    "def train_step(params, x, y, cond, optimiser_state, model, rng, use_l2_reg, l2_reg_alpha, optimiser, loss_fn):\n",
    "\n",
    "    pred_y = model(params, rng, x, cond)\n",
    "    loss, grads = jax.value_and_grad(loss_fn)(\n",
    "        params, pred_y, y, use_l2_reg=use_l2_reg, l2_reg_alpha=l2_reg_alpha)\n",
    "\n",
    "    updates, optimiser_state = optimiser.update(grads, optimiser_state)\n",
    "    params = optax.apply_updates(params, updates)\n",
    "\n",
    "    return params, optimiser_state, loss, grads\n",
    "\n",
    "\n",
    "def eval_step(params, rng, model, x, y, cond, use_l2_reg, l2_reg_alpha, loss_fn, compute_accuracy):\n",
    "    \"\"\" Return the average of loss and accuracy on validation data \"\"\"\n",
    "    pred_y = model(params, rng, x, cond)\n",
    "    loss = loss_fn(params, pred_y, y, use_l2_reg=use_l2_reg, l2_reg_alpha=l2_reg_alpha)\n",
    "    acc = compute_accuracy(pred_y, y)\n",
    "    return acc, loss\n",
    "\n",
    "\n",
    "def run_batches(params, model, rng,\n",
    "                x_batch, y_batch, cond_batch,\n",
    "                use_l2_reg, l2_reg_alpha, optimiser, optimiser_state, loss_fn):\n",
    "\n",
    "    f_train_step = partial(train_step, model=model, rng=rng,\n",
    "                           use_l2_reg=use_l2_reg, l2_reg_alpha=l2_reg_alpha, optimiser=optimiser,\n",
    "                           loss_fn=loss_fn)\n",
    "\n",
    "    def f(carry, inp):\n",
    "\n",
    "        params, optimiser_state = carry[0], carry[1]\n",
    "        x_batch, y_batch, cond_batch = inp[0], inp[1], inp[2]\n",
    "\n",
    "        params, optimiser_state, loss, grads = f_train_step(\n",
    "            params, x_batch, y_batch, cond_batch, optimiser_state)\n",
    "        return (params, optimiser_state), (loss, grads)\n",
    "\n",
    "    # for x_batch, y_batch in xy_train:\n",
    "    (params, optimiser_state), (train_loss, grads) = jax.lax.scan(\n",
    "        f, (params, optimiser_state), (x_batch, y_batch, cond_batch))\n",
    "    return params, optimiser_state, train_loss, grads\n",
    "\n",
    "\n",
    "def train(params, rng, model,\n",
    "          x_train, cond_train, y_train, x_val, cond_val, y_val,\n",
    "          optimiser, optimiser_state,\n",
    "          use_l2_reg, l2_reg_alpha, epochs,\n",
    "          loss_fn, compute_accuracy,\n",
    "          save_every, include_params_in_saves):\n",
    "\n",
    "    def f(carry, _):\n",
    "        params, optimiser_state = carry[0], carry[1]\n",
    "\n",
    "        params, optimiser_state, train_loss, grads = run_batches(\n",
    "            params, model, rng, x_train, y_train, cond_train, use_l2_reg, l2_reg_alpha, optimiser, optimiser_state, loss_fn)\n",
    "\n",
    "        val_acc, val_loss = eval_step(\n",
    "            params, rng, model, x_val, y_val, cond_val, use_l2_reg, l2_reg_alpha, loss_fn, compute_accuracy)\n",
    "\n",
    "        return (params, optimiser_state), (params, grads, train_loss, val_loss, val_acc)\n",
    "\n",
    "    saves = {}\n",
    "    for e in range(epochs):\n",
    "        (params, optimiser_state), (params_stack, grads, train_loss,\n",
    "                                    val_loss, val_acc) = f((params, optimiser_state), None)\n",
    "\n",
    "        if np.mod(e, save_every) == 0:\n",
    "            saves[e] = make_saves(\n",
    "                train_loss, val_loss, val_acc, include_params_in_saves, params_stack, grads)\n",
    "            print(\n",
    "                f'Epoch {e} / {epochs} -\\t\\t Train loss: {np.mean(train_loss)}\\tVal loss: {val_loss}\\tVal accuracy: {val_acc}')\n",
    "\n",
    "    saves[list(saves.keys())[-1]]['params'] = params\n",
    "    return params, saves"
   ]
  },
  {
   "cell_type": "code",
   "execution_count": 17,
   "metadata": {},
   "outputs": [
    {
     "name": "stderr",
     "output_type": "stream",
     "text": [
      "/tmp/ipykernel_476195/2752060759.py:67: RuntimeWarning: divide by zero encountered in remainder\n",
      "  if np.mod(e, save_every) == 0:\n"
     ]
    },
    {
     "name": "stdout",
     "output_type": "stream",
     "text": [
      "Epoch 0 / 30 -\t\t Train loss: 19.778484344482422\tVal loss: 19.715730667114258\tVal accuracy: 0.07190755754709244\n",
      "Epoch 1 / 30 -\t\t Train loss: 19.778484344482422\tVal loss: 19.715730667114258\tVal accuracy: 0.07190755754709244\n",
      "Epoch 2 / 30 -\t\t Train loss: 19.778484344482422\tVal loss: 19.715730667114258\tVal accuracy: 0.07190755754709244\n",
      "Epoch 3 / 30 -\t\t Train loss: 19.778484344482422\tVal loss: 19.715730667114258\tVal accuracy: 0.07190755754709244\n",
      "Epoch 4 / 30 -\t\t Train loss: 19.778484344482422\tVal loss: 19.715730667114258\tVal accuracy: 0.07190755754709244\n",
      "Epoch 5 / 30 -\t\t Train loss: 19.778484344482422\tVal loss: 19.715730667114258\tVal accuracy: 0.07190755754709244\n",
      "Epoch 6 / 30 -\t\t Train loss: 19.778484344482422\tVal loss: 19.715730667114258\tVal accuracy: 0.07190755754709244\n",
      "Epoch 7 / 30 -\t\t Train loss: 19.778484344482422\tVal loss: 19.715730667114258\tVal accuracy: 0.07190755754709244\n",
      "Epoch 8 / 30 -\t\t Train loss: 19.778484344482422\tVal loss: 19.715730667114258\tVal accuracy: 0.07190755754709244\n",
      "Epoch 9 / 30 -\t\t Train loss: 19.778484344482422\tVal loss: 19.715730667114258\tVal accuracy: 0.07190755754709244\n",
      "Epoch 10 / 30 -\t\t Train loss: 19.778484344482422\tVal loss: 19.715730667114258\tVal accuracy: 0.07190755754709244\n",
      "Epoch 11 / 30 -\t\t Train loss: 19.778484344482422\tVal loss: 19.715730667114258\tVal accuracy: 0.07190755754709244\n",
      "Epoch 12 / 30 -\t\t Train loss: 19.778484344482422\tVal loss: 19.715730667114258\tVal accuracy: 0.07190755754709244\n",
      "Epoch 13 / 30 -\t\t Train loss: 19.778484344482422\tVal loss: 19.715730667114258\tVal accuracy: 0.07190755754709244\n",
      "Epoch 14 / 30 -\t\t Train loss: 19.778484344482422\tVal loss: 19.715730667114258\tVal accuracy: 0.07190755754709244\n",
      "Epoch 15 / 30 -\t\t Train loss: 19.778484344482422\tVal loss: 19.715730667114258\tVal accuracy: 0.07190755754709244\n",
      "Epoch 16 / 30 -\t\t Train loss: 19.778484344482422\tVal loss: 19.715730667114258\tVal accuracy: 0.07190755754709244\n",
      "Epoch 17 / 30 -\t\t Train loss: 19.778484344482422\tVal loss: 19.715730667114258\tVal accuracy: 0.07190755754709244\n",
      "Epoch 18 / 30 -\t\t Train loss: 19.778484344482422\tVal loss: 19.715730667114258\tVal accuracy: 0.07190755754709244\n",
      "Epoch 19 / 30 -\t\t Train loss: 19.778484344482422\tVal loss: 19.715730667114258\tVal accuracy: 0.07190755754709244\n",
      "Epoch 20 / 30 -\t\t Train loss: 19.778484344482422\tVal loss: 19.715730667114258\tVal accuracy: 0.07190755754709244\n",
      "Epoch 21 / 30 -\t\t Train loss: 19.778484344482422\tVal loss: 19.715730667114258\tVal accuracy: 0.07190755754709244\n",
      "Epoch 22 / 30 -\t\t Train loss: 19.778484344482422\tVal loss: 19.715730667114258\tVal accuracy: 0.07190755754709244\n",
      "Epoch 23 / 30 -\t\t Train loss: 19.778484344482422\tVal loss: 19.715730667114258\tVal accuracy: 0.07190755754709244\n",
      "Epoch 24 / 30 -\t\t Train loss: 19.778484344482422\tVal loss: 19.715730667114258\tVal accuracy: 0.07190755754709244\n",
      "Epoch 25 / 30 -\t\t Train loss: 19.778484344482422\tVal loss: 19.715730667114258\tVal accuracy: 0.07190755754709244\n",
      "Epoch 26 / 30 -\t\t Train loss: 19.778484344482422\tVal loss: 19.715730667114258\tVal accuracy: 0.07190755754709244\n",
      "Epoch 27 / 30 -\t\t Train loss: 19.778484344482422\tVal loss: 19.715730667114258\tVal accuracy: 0.07190755754709244\n",
      "Epoch 28 / 30 -\t\t Train loss: 19.778484344482422\tVal loss: 19.715730667114258\tVal accuracy: 0.07190755754709244\n",
      "Epoch 29 / 30 -\t\t Train loss: 19.778484344482422\tVal loss: 19.715730667114258\tVal accuracy: 0.07190755754709244\n"
     ]
    }
   ],
   "source": [
    "params, saves = train(params, rng, model, \n",
    "                      x_train, cond_train, y_train, x_val, cond_val, y_val, \n",
    "                      optimiser, optimiser_state,\n",
    "                      use_l2_reg=USE_L2_REG, l2_reg_alpha=L2_REG_ALPHA, epochs=EPOCHS,\n",
    "                      loss_fn=loss_fn, compute_accuracy=accuracy_regression,\n",
    "                      save_every=PRINT_EVERY, include_params_in_saves=False) "
   ]
  },
  {
   "cell_type": "code",
   "execution_count": null,
   "metadata": {},
   "outputs": [],
   "source": []
  }
 ],
 "metadata": {
  "kernelspec": {
   "display_name": "env_evo",
   "language": "python",
   "name": "python3"
  },
  "language_info": {
   "codemirror_mode": {
    "name": "ipython",
    "version": 3
   },
   "file_extension": ".py",
   "mimetype": "text/x-python",
   "name": "python",
   "nbconvert_exporter": "python",
   "pygments_lexer": "ipython3",
   "version": "3.10.12"
  }
 },
 "nbformat": 4,
 "nbformat_minor": 2
}
