{
 "cells": [
  {
   "cell_type": "code",
   "execution_count": 1,
   "metadata": {},
   "outputs": [],
   "source": [
    "%load_ext autoreload\n",
    "%autoreload 2"
   ]
  },
  {
   "cell_type": "markdown",
   "metadata": {},
   "source": [
    "# Visualise ruggedness verified for trained models"
   ]
  },
  {
   "cell_type": "code",
   "execution_count": null,
   "metadata": {},
   "outputs": [
    {
     "name": "stderr",
     "output_type": "stream",
     "text": [
      "xla_bridge.py:backends():900: Unable to initialize backend 'rocm': NOT_FOUND: Could not find registered platform with name: \"rocm\". Available platform names are: CUDA INFO\n",
      "xla_bridge.py:backends():900: Unable to initialize backend 'tpu': INTERNAL: Failed to open libtpu.so: libtpu.so: cannot open shared object file: No such file or directory INFO\n"
     ]
    },
    {
     "data": {
      "text/plain": [
       "[CpuDevice(id=0)]"
      ]
     },
     "execution_count": 2,
     "metadata": {},
     "output_type": "execute_result"
    }
   ],
   "source": [
    "from synbio_morpher.utils.data.data_format_tools.common import load_json_as_dict\n",
    "from synbio_morpher.utils.results.analytics.naming import get_true_interaction_cols\n",
    "from synbio_morpher.utils.results.analytics.timeseries import calculate_adaptation\n",
    "from evoscaper.utils.dataset import embellish_data\n",
    "from evoscaper.model.evaluation import calc_prompt_adherence\n",
    "from evoscaper.scripts.init_from_hpos import init_from_hpos\n",
    "from evoscaper.scripts.verify import verify\n",
    "from evoscaper.utils.math import arrayise\n",
    "from evoscaper.utils.preprocess import make_datetime_str\n",
    "from evoscaper.utils.evolution import calculate_ruggedness_core\n",
    "\n",
    "from functools import partial\n",
    "import os\n",
    "import json\n",
    "import sys\n",
    "import numpy as np\n",
    "import jax\n",
    "import jax.numpy as jnp\n",
    "\n",
    "import pandas as pd\n",
    "import seaborn as sns\n",
    "import matplotlib.pyplot as plt\n",
    "\n",
    "jax.config.update('jax_platform_name', 'cpu')\n",
    "\n",
    "\n",
    "# if __package__ is None:\n",
    "\n",
    "module_path = os.path.abspath(os.path.join('..'))\n",
    "sys.path.append(module_path)\n",
    "\n",
    "__package__ = os.path.basename(module_path)\n",
    "\n",
    "\n",
    "np.random.seed(0)\n",
    "PRNG = jax.random.PRNGKey(0)\n",
    "\n",
    "jax.devices()\n",
    "\n",
    "# jupyter nbconvert --to notebook --execute 02_cvae_verify.ipynb --output=02_cvae_verify_2.ipynb --ExecutePreprocessor.timeout=-1\n",
    "\n"
   ]
  },
  {
   "cell_type": "markdown",
   "metadata": {},
   "source": [
    "# Settings + load params"
   ]
  },
  {
   "cell_type": "code",
   "execution_count": 3,
   "metadata": {},
   "outputs": [
    {
     "name": "stdout",
     "output_type": "stream",
     "text": [
      "top_write_dir: data/02_cvae_verify/2025_03_18__14_47_35\n"
     ]
    }
   ],
   "source": [
    "dir_src = os.path.join('data', '01_cvae', '2025_03_16__17_28_06')\n",
    "hpos = pd.Series(load_json_as_dict(os.path.join(dir_src, 'hpos_all.json')))\n",
    "fn_saves = os.path.join(dir_src, 'saves_2025_03_16__17_28_06_ds0129_a_hs32_nl3_KL2e4_cont01ts095pd3_lr1e3_teva97_eqcLogNoneg')\n",
    "dir_src_rugg = os.path.join('data', 'ruggedness', '2025_03_14__16_42_13')\n",
    "\n",
    "cfg = {'fn_saves': fn_saves,\n",
    "       'dir_src_rugg': dir_src_rugg}\n",
    "top_write_dir = os.path.join('data', '02_cvae_verify', make_datetime_str())\n",
    "os.makedirs(top_write_dir, exist_ok=True)\n",
    "with open(os.path.join(top_write_dir, 'cfg.json'), 'w') as f:\n",
    "    json.dump(cfg, f)\n",
    "print('top_write_dir:', top_write_dir)\n",
    "    "
   ]
  },
  {
   "cell_type": "code",
   "execution_count": null,
   "metadata": {},
   "outputs": [
    {
     "name": "stderr",
     "output_type": "stream",
     "text": [
      "/usr/local/lib/python3.10/dist-packages/pandas/core/arraylike.py:399: RuntimeWarning: divide by zero encountered in log10\n",
      "  result = getattr(ufunc, method)(*inputs, **kwargs)\n"
     ]
    }
   ],
   "source": [
    "saves_loaded = load_json_as_dict(fn_saves)\n",
    "(\n",
    "    rng, rng_model, rng_dataset,\n",
    "    config_norm_x, config_norm_y, config_filter, config_optimisation, config_dataset, config_training, config_model,\n",
    "    data, x_cols, df,\n",
    "    x, cond, y, x_train, cond_train, y_train, x_val, cond_val, y_val,\n",
    "    total_ds, n_batches, BATCH_SIZE, x_datanormaliser, x_methods_preprocessing, y_datanormaliser, y_methods_preprocessing,\n",
    "    params, encoder, decoder, model, h2mu, h2logvar, reparam\n",
    ") = init_from_hpos(hpos)\n",
    "\n",
    "params = saves_loaded[str(list(saves_loaded.keys())[-1])]['params']\n",
    "params = arrayise(params)\n",
    "\n",
    "config_bio = load_json_as_dict(config_dataset.filenames_verify_config)\n",
    "if 'base_configs_ensemble' in config_bio:\n",
    "    val_config = config_bio['base_configs_ensemble']['generate_species_templates']\n",
    "    val_config.update(config_bio['base_configs_ensemble']['mutation_effect_on_interactions_signal'])\n",
    "else:\n",
    "    val_config = config_bio\n",
    "    \n",
    "analytics = load_json_as_dict(os.path.join(dir_src_rugg, 'analytics.json'))\n",
    "config_rugg = load_json_as_dict(os.path.join(dir_src_rugg, 'config.json'))\n",
    "\n",
    "for k, v in analytics.items():\n",
    "    analytics[k] = np.array(v)\n",
    "    "
   ]
  },
  {
   "cell_type": "code",
   "execution_count": null,
   "metadata": {},
   "outputs": [],
   "source": [
    "from evoscaper.utils.simulation import load_config_bio, sim, prep_cfg, setup_model_brn, compute_analytics\n",
    "from evoscaper.scripts.cvae_scan import generate_all_fake_circuits\n",
    "\n",
    "df_hpos = pd.read_json(os.path.join(dir_src, 'hpos_all.json'))\n",
    "df_hpos['eval_n_to_sample'] = 14284 # config_rugg['eval_n_to_sample']\n",
    "df_hpos['eval_cond_min'] = config_rugg['eval_cond_min']\n",
    "df_hpos['eval_cond_max'] = config_rugg['eval_cond_max']\n",
    "df_hpos['eval_n_categories'] = config_rugg['eval_n_categories']\n",
    "\n",
    "datasets = {v: pd.read_json(\n",
    "    v) for v in df_hpos['filenames_train_table'].unique() if os.path.exists(v)}\n",
    "input_species = datasets[list(datasets.keys())[\n",
    "    0]]['sample_name'].dropna().unique()\n",
    "fn_config_bio = df_hpos['filenames_verify_config'].dropna().unique()[0]\n",
    "\n",
    "config_bio = load_config_bio(\n",
    "    fn_config_bio, input_species, '../' + config_rugg.get('fn_simulation_settings'))\n",
    "\n",
    "model_brn, qreactions, postprocs, ordered_species = setup_model_brn(\n",
    "    config_bio, input_species)\n",
    "\n",
    "df_hpos['output_species'] = df_hpos['output_species'].apply(lambda x: [x])\n",
    "\n",
    "all_fake_circuits, all_forward_rates, all_reverse_rates, all_sampled_cond = generate_all_fake_circuits(\n",
    "    df_hpos, datasets, input_species, postprocs)"
   ]
  },
  {
   "cell_type": "code",
   "execution_count": 24,
   "metadata": {},
   "outputs": [],
   "source": [
    "analytics['adaptation'] = calculate_adaptation(analytics['sensitivity'], analytics['precision'])"
   ]
  },
  {
   "cell_type": "code",
   "execution_count": null,
   "metadata": {},
   "outputs": [
    {
     "data": {
      "text/plain": [
       "14284.0"
      ]
     },
     "execution_count": 26,
     "metadata": {},
     "output_type": "execute_result"
    }
   ],
   "source": [
    "analytics_1 = load_json_as_dict(os.path.join(dir_src, 'batch_1', 'analytics.json'))"
   ]
  },
  {
   "cell_type": "code",
   "execution_count": 28,
   "metadata": {},
   "outputs": [
    {
     "name": "stderr",
     "output_type": "stream",
     "text": [
      "/usr/local/lib/python3.10/dist-packages/pandas/core/arraylike.py:399: RuntimeWarning: divide by zero encountered in log10\n",
      "  result = getattr(ufunc, method)(*inputs, **kwargs)\n"
     ]
    },
    {
     "ename": "TypeError",
     "evalue": "cannot reshape array of shape (99988, 9) (size 899892) into shape (14280, 4, -1) because the product of specified axis sizes (57120) does not evenly divide 899892",
     "output_type": "error",
     "traceback": [
      "\u001b[0;31m---------------------------------------------------------------------------\u001b[0m",
      "\u001b[0;31mTypeError\u001b[0m                                 Traceback (most recent call last)",
      "Cell \u001b[0;32mIn[28], line 12\u001b[0m\n\u001b[1;32m      9\u001b[0m eps \u001b[38;5;241m=\u001b[39m config_rugg[\u001b[38;5;124m'\u001b[39m\u001b[38;5;124meps_perc\u001b[39m\u001b[38;5;124m'\u001b[39m] \u001b[38;5;241m*\u001b[39m np\u001b[38;5;241m.\u001b[39mabs(all_fake_circuits)\u001b[38;5;241m.\u001b[39mmax()\n\u001b[1;32m     11\u001b[0m \u001b[38;5;28;01mfor\u001b[39;00m analytic \u001b[38;5;129;01min\u001b[39;00m config_dataset\u001b[38;5;241m.\u001b[39mobjective_col:\n\u001b[0;32m---> 12\u001b[0m     ruggedness \u001b[38;5;241m=\u001b[39m \u001b[43mcalculate_ruggedness_core\u001b[49m\u001b[43m(\u001b[49m\u001b[43manalytics\u001b[49m\u001b[43m,\u001b[49m\u001b[43m \u001b[49m\u001b[38;5;28;43;01mNone\u001b[39;49;00m\u001b[43m,\u001b[49m\u001b[43m \u001b[49m\u001b[43manalytic\u001b[49m\u001b[43m,\u001b[49m\n\u001b[1;32m     13\u001b[0m \u001b[43m                                       \u001b[49m\u001b[43mconfig_rugg\u001b[49m\u001b[43m[\u001b[49m\u001b[38;5;124;43m'\u001b[39;49m\u001b[38;5;124;43mresimulate_analytics\u001b[39;49m\u001b[38;5;124;43m'\u001b[39;49m\u001b[43m]\u001b[49m\u001b[43m,\u001b[49m\u001b[43m \u001b[49m\u001b[43mn_samples\u001b[49m\u001b[43m,\u001b[49m\u001b[43m \u001b[49m\u001b[43mn_perturbs\u001b[49m\u001b[43m,\u001b[49m\u001b[43m \u001b[49m\u001b[43meps\u001b[49m\u001b[43m)\u001b[49m\n\u001b[1;32m     14\u001b[0m     \u001b[38;5;28;01mbreak\u001b[39;00m\n",
      "File \u001b[0;32m/workdir/src/evoscaper/utils/evolution.py:31\u001b[0m, in \u001b[0;36mcalculate_ruggedness_core\u001b[0;34m(analytics_perturbed, analytics_original, analytic, resimulate_analytics, n_samples, n_perturbs, eps)\u001b[0m\n\u001b[1;32m     27\u001b[0m \u001b[38;5;28;01mdef\u001b[39;00m\u001b[38;5;250m \u001b[39m\u001b[38;5;21mcalculate_ruggedness_core\u001b[39m(analytics_perturbed, analytics_original, analytic,\n\u001b[1;32m     28\u001b[0m                               resimulate_analytics, n_samples, n_perturbs, eps):\n\u001b[1;32m     30\u001b[0m     analytic_perturbed \u001b[38;5;241m=\u001b[39m \u001b[43mjnp\u001b[49m\u001b[38;5;241;43m.\u001b[39;49m\u001b[43marray\u001b[49m\u001b[43m(\u001b[49m\n\u001b[0;32m---> 31\u001b[0m \u001b[43m        \u001b[49m\u001b[43manalytics_perturbed\u001b[49m\u001b[43m[\u001b[49m\u001b[43manalytic\u001b[49m\u001b[43m]\u001b[49m\u001b[43m)\u001b[49m\u001b[38;5;241;43m.\u001b[39;49m\u001b[43mreshape\u001b[49m\u001b[43m(\u001b[49m\u001b[43mn_samples\u001b[49m\u001b[43m,\u001b[49m\u001b[43m \u001b[49m\u001b[43mn_perturbs\u001b[49m\u001b[43m,\u001b[49m\u001b[43m \u001b[49m\u001b[38;5;241;43m-\u001b[39;49m\u001b[38;5;241;43m1\u001b[39;49m\u001b[43m)\u001b[49m\n\u001b[1;32m     32\u001b[0m     \u001b[38;5;28;01mif\u001b[39;00m resimulate_analytics:\n\u001b[1;32m     33\u001b[0m         analytic_perturbed \u001b[38;5;241m=\u001b[39m analytic_perturbed[:, :\u001b[38;5;241m-\u001b[39m\u001b[38;5;241m1\u001b[39m, :]\n",
      "    \u001b[0;31m[... skipping hidden 1 frame]\u001b[0m\n",
      "File \u001b[0;32m/usr/local/lib/python3.10/dist-packages/jax/_src/numpy/array_methods.py:127\u001b[0m, in \u001b[0;36m_compute_newshape\u001b[0;34m(a, newshape)\u001b[0m\n\u001b[1;32m    124\u001b[0m other_sizes \u001b[38;5;241m=\u001b[39m (\u001b[38;5;241m*\u001b[39mnewshape[:i], \u001b[38;5;241m*\u001b[39mnewshape[i\u001b[38;5;241m+\u001b[39m\u001b[38;5;241m1\u001b[39m:])\n\u001b[1;32m    125\u001b[0m \u001b[38;5;28;01mif\u001b[39;00m (\u001b[38;5;28mall\u001b[39m(\u001b[38;5;28misinstance\u001b[39m(d, \u001b[38;5;28mint\u001b[39m) \u001b[38;5;28;01mfor\u001b[39;00m d \u001b[38;5;129;01min\u001b[39;00m (\u001b[38;5;241m*\u001b[39mnp\u001b[38;5;241m.\u001b[39mshape(a), \u001b[38;5;241m*\u001b[39mother_sizes)) \u001b[38;5;129;01mand\u001b[39;00m\n\u001b[1;32m    126\u001b[0m     np\u001b[38;5;241m.\u001b[39msize(a) \u001b[38;5;241m%\u001b[39m math\u001b[38;5;241m.\u001b[39mprod(other_sizes) \u001b[38;5;241m!=\u001b[39m \u001b[38;5;241m0\u001b[39m):\n\u001b[0;32m--> 127\u001b[0m   \u001b[38;5;28;01mraise\u001b[39;00m \u001b[38;5;167;01mTypeError\u001b[39;00m(\u001b[38;5;124mf\u001b[39m\u001b[38;5;124m\"\u001b[39m\u001b[38;5;124mcannot reshape array of shape \u001b[39m\u001b[38;5;132;01m{\u001b[39;00mnp\u001b[38;5;241m.\u001b[39mshape(a)\u001b[38;5;132;01m}\u001b[39;00m\u001b[38;5;124m (size \u001b[39m\u001b[38;5;132;01m{\u001b[39;00mnp\u001b[38;5;241m.\u001b[39msize(a)\u001b[38;5;132;01m}\u001b[39;00m\u001b[38;5;124m) \u001b[39m\u001b[38;5;124m\"\u001b[39m\n\u001b[1;32m    128\u001b[0m                   \u001b[38;5;124mf\u001b[39m\u001b[38;5;124m\"\u001b[39m\u001b[38;5;124minto shape \u001b[39m\u001b[38;5;132;01m{\u001b[39;00morig_newshape\u001b[38;5;132;01m}\u001b[39;00m\u001b[38;5;124m because the product of \u001b[39m\u001b[38;5;124m\"\u001b[39m\n\u001b[1;32m    129\u001b[0m                   \u001b[38;5;124mf\u001b[39m\u001b[38;5;124m\"\u001b[39m\u001b[38;5;124mspecified axis sizes (\u001b[39m\u001b[38;5;132;01m{\u001b[39;00mmath\u001b[38;5;241m.\u001b[39mprod(other_sizes)\u001b[38;5;132;01m}\u001b[39;00m\u001b[38;5;124m) does \u001b[39m\u001b[38;5;124m\"\u001b[39m\n\u001b[1;32m    130\u001b[0m                   \u001b[38;5;124mf\u001b[39m\u001b[38;5;124m\"\u001b[39m\u001b[38;5;124mnot evenly divide \u001b[39m\u001b[38;5;132;01m{\u001b[39;00mnp\u001b[38;5;241m.\u001b[39msize(a)\u001b[38;5;132;01m}\u001b[39;00m\u001b[38;5;124m\"\u001b[39m)\n\u001b[1;32m    131\u001b[0m sz \u001b[38;5;241m=\u001b[39m core\u001b[38;5;241m.\u001b[39mcancel_divide_tracers(np\u001b[38;5;241m.\u001b[39mshape(a), other_sizes)\n\u001b[1;32m    132\u001b[0m \u001b[38;5;28;01mif\u001b[39;00m sz \u001b[38;5;129;01mis\u001b[39;00m \u001b[38;5;129;01mnot\u001b[39;00m \u001b[38;5;28;01mNone\u001b[39;00m:\n",
      "\u001b[0;31mTypeError\u001b[0m: cannot reshape array of shape (99988, 9) (size 899892) into shape (14280, 4, -1) because the product of specified axis sizes (57120) does not evenly divide 899892"
     ]
    }
   ],
   "source": [
    "df_hpos['eval_n_to_sample'] = 14284 # config_rugg['eval_n_to_sample']\n",
    "all_fake_circuits, all_forward_rates, all_reverse_rates, all_sampled_cond = generate_all_fake_circuits(\n",
    "    df_hpos, datasets, input_species, postprocs)\n",
    "\n",
    "n_samples = all_fake_circuits.shape[0]\n",
    "n_interactions = all_fake_circuits.shape[1]\n",
    "n_perturbs = n_interactions + config_rugg['resimulate_analytics']\n",
    "eps = config_rugg['eps_perc'] * np.abs(all_fake_circuits).max()\n",
    "\n",
    "for analytic in config_dataset.objective_col:\n",
    "    ruggedness = calculate_ruggedness_core(analytics, None, analytic,\n",
    "                                       config_rugg['resimulate_analytics'], n_samples, n_perturbs, eps)\n",
    "    break"
   ]
  },
  {
   "cell_type": "code",
   "execution_count": null,
   "metadata": {},
   "outputs": [],
   "source": []
  }
 ],
 "metadata": {
  "kernelspec": {
   "display_name": "Python 3",
   "language": "python",
   "name": "python3"
  },
  "language_info": {
   "codemirror_mode": {
    "name": "ipython",
    "version": 3
   },
   "file_extension": ".py",
   "mimetype": "text/x-python",
   "name": "python",
   "nbconvert_exporter": "python",
   "pygments_lexer": "ipython3",
   "version": "3.10.12"
  }
 },
 "nbformat": 4,
 "nbformat_minor": 2
}
