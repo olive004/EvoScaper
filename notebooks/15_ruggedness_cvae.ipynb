{
 "cells": [
  {
   "cell_type": "code",
   "execution_count": null,
   "metadata": {},
   "outputs": [],
   "source": [
    "%load_ext autoreload\n",
    "%autoreload 2"
   ]
  },
  {
   "cell_type": "markdown",
   "metadata": {},
   "source": [
    "# Comparing model-generated ruggedness and sequence-level ruggedness"
   ]
  },
  {
   "cell_type": "code",
   "execution_count": null,
   "metadata": {},
   "outputs": [],
   "source": [
    "# Load dataset 1127\n",
    "\n",
    "# Load dataset 0211\n",
    "\n",
    "# Load model for ruggedness\n",
    "\n",
    "# Load previously verified ruggedness fake circuits\n",
    "\n",
    "# Calculate approximate ruggedness score for all circuits based on difference to mutated circuits\n",
    "# Weight the metric by the number of sequence mutations, eg: dm = d1m / 1 + d2m / 2 + d5m / 5\n",
    "\n",
    "# Plot seq-based rugg and param-based rugg on x y plot -> should be linear\n",
    "\n",
    "# Plot intensity of energy changed vs. sequence change\n",
    "\n",
    "# Run full model on ds 0211 + 1127 and compare latent spaces\n",
    "# Do clusters of motifs\n"
   ]
  },
  {
   "cell_type": "code",
   "execution_count": null,
   "metadata": {},
   "outputs": [],
   "source": []
  }
 ],
 "metadata": {
  "kernelspec": {
   "display_name": "Python 3",
   "language": "python",
   "name": "python3"
  },
  "language_info": {
   "codemirror_mode": {
    "name": "ipython",
    "version": 3
   },
   "file_extension": ".py",
   "mimetype": "text/x-python",
   "name": "python",
   "nbconvert_exporter": "python",
   "pygments_lexer": "ipython3",
   "version": "3.10.12"
  }
 },
 "nbformat": 4,
 "nbformat_minor": 2
}
