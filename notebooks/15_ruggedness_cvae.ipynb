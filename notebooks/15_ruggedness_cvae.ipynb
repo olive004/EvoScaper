{
 "cells": [
  {
   "cell_type": "code",
   "execution_count": 1,
   "metadata": {},
   "outputs": [],
   "source": [
    "%load_ext autoreload\n",
    "%autoreload 2"
   ]
  },
  {
   "cell_type": "markdown",
   "metadata": {},
   "source": [
    "# Comparing model-generated ruggedness and sequence-level ruggedness"
   ]
  },
  {
   "cell_type": "code",
   "execution_count": 2,
   "metadata": {},
   "outputs": [],
   "source": [
    "import os\n",
    "import pandas as pd\n",
    "import jax\n",
    "import numpy as np\n",
    "from synbio_morpher.utils.results.analytics.naming import get_true_interaction_cols\n",
    "\n",
    "\n",
    "jax.config.update('jax_platform_name', 'cpu')"
   ]
  },
  {
   "cell_type": "code",
   "execution_count": 3,
   "metadata": {},
   "outputs": [],
   "source": [
    "# Load dataset 1127\n",
    "fn_1127 = os.path.join('..', 'data', 'raw', 'summarise_simulation', '2024_11_27_145142', 'tabulated_mutation_info.csv')\n",
    "ds_1127 = pd.read_csv(fn_1127)\n",
    "\n",
    "# Load dataset 0211\n",
    "fn_0211 = os.path.join('data', 'simulate_circuits', '2025_02_11__13_56_51', 'tabulated_mutation_info.json')\n",
    "ds_0211 = pd.read_json(fn_0211)\n",
    "\n",
    "# Load model for ruggedness\n",
    "\n",
    "\n",
    "# Load previously verified ruggedness fake circuits\n"
   ]
  },
  {
   "cell_type": "code",
   "execution_count": 26,
   "metadata": {},
   "outputs": [
    {
     "name": "stderr",
     "output_type": "stream",
     "text": [
      "/tmp/ipykernel_3824909/885465338.py:2: DeprecationWarning: DataFrameGroupBy.apply operated on the grouping columns. This behavior is deprecated, and in a future version of pandas the grouping columns will be excluded from the operation. Either pass `include_groups=False` to exclude the groupings or explicitly select the grouping columns after groupby to silence this warning.\n",
      "  np.array(ds_1127[(ds_1127['sample_name'] == 'RNA_2') & (ds_1127['mutation_num'] > 0)].groupby('circuit_name').apply(lambda x: x['mutation_num'].values).to_list()).shape\n"
     ]
    },
    {
     "data": {
      "text/plain": [
       "(5000, 168)"
      ]
     },
     "execution_count": 26,
     "metadata": {},
     "output_type": "execute_result"
    }
   ],
   "source": [
    "# ds_1127.melt(id_vars='circuit_name', value_vars='mutation_num', var_name='interaction', value_name='interaction_value')\n",
    "np.array(ds_1127[(ds_1127['sample_name'] == 'RNA_2') & (ds_1127['mutation_num'] > 0)].groupby('circuit_name').apply(lambda x: x['mutation_num'].values).to_list()).shape"
   ]
  },
  {
   "cell_type": "code",
   "execution_count": 28,
   "metadata": {},
   "outputs": [
    {
     "name": "stderr",
     "output_type": "stream",
     "text": [
      "/tmp/ipykernel_3824909/1205016581.py:6: DeprecationWarning: DataFrameGroupBy.apply operated on the grouping columns. This behavior is deprecated, and in a future version of pandas the grouping columns will be excluded from the operation. Either pass `include_groups=False` to exclude the groupings or explicitly select the grouping columns after groupby to silence this warning.\n",
      "  diffs_e = ds_1127[ds_1127['sample_name'] == 'RNA_2'].groupby('circuit_name').apply(\n",
      "/tmp/ipykernel_3824909/1205016581.py:11: DeprecationWarning: DataFrameGroupBy.apply operated on the grouping columns. This behavior is deprecated, and in a future version of pandas the grouping columns will be excluded from the operation. Either pass `include_groups=False` to exclude the groupings or explicitly select the grouping columns after groupby to silence this warning.\n",
      "  'circuit_name').apply(lambda x: x['mutation_num'].values).to_list())\n"
     ]
    }
   ],
   "source": [
    "# Calculate approximate ruggedness score for all circuits based on difference to mutated circuits\n",
    "# Weight the metric by the number of sequence mutations, eg: dm = d1m / 1 + d2m / 2 + d5m / 5\n",
    "\n",
    "cols_e = get_true_interaction_cols(\n",
    "    ds_1127, 'energies', remove_symmetrical=True)\n",
    "diffs_e = ds_1127[ds_1127['sample_name'] == 'RNA_2'].groupby('circuit_name').apply(\n",
    "    lambda x: x[x['mutation_name'] == 'ref_circuit'][cols_e].values\n",
    "    - x[x['mutation_name'] != 'ref_circuit'][cols_e].values)\n",
    "diffs_e = np.array(diffs_e.to_list())\n",
    "mut_nums = np.array(ds_1127[(ds_1127['sample_name'] == 'RNA_2') & (ds_1127['mutation_num'] > 0)].groupby(\n",
    "    'circuit_name').apply(lambda x: x['mutation_num'].values).to_list())\n",
    "rugg_seq = np.sum(diffs_e / mut_nums[..., None], axis=-1)\n",
    "\n",
    "# Plot seq-based rugg and param-based rugg on x y plot -> should be linear\n",
    "\n",
    "# Plot intensity of energy changed vs. sequence change\n",
    "\n",
    "# Run full model on ds 0211 + 1127 and compare latent spaces\n",
    "# Do clusters of motifs"
   ]
  },
  {
   "cell_type": "code",
   "execution_count": null,
   "metadata": {},
   "outputs": [],
   "source": []
  }
 ],
 "metadata": {
  "kernelspec": {
   "display_name": "Python 3",
   "language": "python",
   "name": "python3"
  },
  "language_info": {
   "codemirror_mode": {
    "name": "ipython",
    "version": 3
   },
   "file_extension": ".py",
   "mimetype": "text/x-python",
   "name": "python",
   "nbconvert_exporter": "python",
   "pygments_lexer": "ipython3",
   "version": "3.10.12"
  }
 },
 "nbformat": 4,
 "nbformat_minor": 2
}
