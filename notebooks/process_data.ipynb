{
 "cells": [
  {
   "attachments": {},
   "cell_type": "markdown",
   "metadata": {},
   "source": [
    "## Imports"
   ]
  },
  {
   "cell_type": "code",
   "execution_count": 1,
   "metadata": {},
   "outputs": [],
   "source": [
    "%load_ext autoreload\n",
    "%autoreload 2"
   ]
  },
  {
   "cell_type": "code",
   "execution_count": 2,
   "metadata": {},
   "outputs": [],
   "source": [
    "import os\n",
    "import sys\n",
    "import jax\n",
    "import pandas as pd\n",
    "import numpy as np\n",
    "import jax.numpy as jnp\n",
    "import haiku as hk\n",
    "import seaborn as sns\n",
    "import matplotlib.pyplot as plt\n",
    "from synbio_morpher.utils.data.data_format_tools.manipulate_fasta import load_seq_from_FASTA\n",
    "from synbio_morpher.utils.evolution.mutation import get_mutation_type_mapping\n",
    "from synbio_morpher.utils.misc.string_handling import convert_liststr_to_list\n",
    "from synbio_morpher.utils.results.analytics.naming import get_true_names_analytics, get_true_interaction_cols\n",
    "\n",
    "\n",
    "if __package__ is None:\n",
    "\n",
    "    module_path = os.path.abspath(os.path.join('..'))\n",
    "    sys.path.append(module_path)\n",
    "\n",
    "    __package__ = os.path.basename(module_path)\n",
    "    \n",
    "\n",
    "# from src.models.nucleotide_transformer import NucleotideTransformerConfig, build_nucleotide_transformer_fn\n",
    "# from src.models.pretrained import FixedSizeNucleotidesKmersTokenizer\n",
    "from src.utils.data_proc import proc_info\n",
    "\n",
    "\n",
    "root_dir = '..'"
   ]
  },
  {
   "attachments": {},
   "cell_type": "markdown",
   "metadata": {},
   "source": [
    "# Processing"
   ]
  },
  {
   "cell_type": "code",
   "execution_count": 3,
   "metadata": {},
   "outputs": [],
   "source": [
    "rel_fn = 'data/raw/ensemble_mutation_effect_analysis/2023_07_17_105328/tabulated_mutation_info.csv'\n",
    "fn = os.path.join(root_dir, rel_fn)"
   ]
  },
  {
   "cell_type": "code",
   "execution_count": 4,
   "metadata": {},
   "outputs": [
    {
     "data": {
      "text/html": [
       "<div>\n",
       "<style scoped>\n",
       "    .dataframe tbody tr th:only-of-type {\n",
       "        vertical-align: middle;\n",
       "    }\n",
       "\n",
       "    .dataframe tbody tr th {\n",
       "        vertical-align: top;\n",
       "    }\n",
       "\n",
       "    .dataframe thead th {\n",
       "        text-align: right;\n",
       "    }\n",
       "</style>\n",
       "<table border=\"1\" class=\"dataframe\">\n",
       "  <thead>\n",
       "    <tr style=\"text-align: right;\">\n",
       "      <th></th>\n",
       "      <th>circuit_name</th>\n",
       "      <th>mutation_name</th>\n",
       "      <th>mutation_num</th>\n",
       "      <th>mutation_type</th>\n",
       "      <th>mutation_positions</th>\n",
       "      <th>path_to_template_circuit</th>\n",
       "      <th>index</th>\n",
       "      <th>name</th>\n",
       "      <th>interacting</th>\n",
       "      <th>self_interacting</th>\n",
       "      <th>...</th>\n",
       "      <th>RMSE_diff_to_base_circuit</th>\n",
       "      <th>steady_states_diff_to_base_circuit</th>\n",
       "      <th>fold_change_ratio_from_mutation_to_base</th>\n",
       "      <th>initial_steady_states_ratio_from_mutation_to_base</th>\n",
       "      <th>max_amount_ratio_from_mutation_to_base</th>\n",
       "      <th>min_amount_ratio_from_mutation_to_base</th>\n",
       "      <th>overshoot_ratio_from_mutation_to_base</th>\n",
       "      <th>RMSE_ratio_from_mutation_to_base</th>\n",
       "      <th>steady_states_ratio_from_mutation_to_base</th>\n",
       "      <th>sample_name</th>\n",
       "    </tr>\n",
       "  </thead>\n",
       "  <tbody>\n",
       "    <tr>\n",
       "      <th>0</th>\n",
       "      <td>toy_mRNA_circuit_0</td>\n",
       "      <td>ref_circuit</td>\n",
       "      <td>0</td>\n",
       "      <td>[]</td>\n",
       "      <td>[]</td>\n",
       "      <td>data/ensemble_mutation_effect_analysis/2023_07...</td>\n",
       "      <td>0.0</td>\n",
       "      <td>toy_mRNA_circuit_0</td>\n",
       "      <td>[[0 1]]</td>\n",
       "      <td>[[1 1]]</td>\n",
       "      <td>...</td>\n",
       "      <td>0.000000</td>\n",
       "      <td>0.000000</td>\n",
       "      <td>1.000000</td>\n",
       "      <td>1.000000</td>\n",
       "      <td>1.000000</td>\n",
       "      <td>1.000000</td>\n",
       "      <td>1.000000</td>\n",
       "      <td>inf</td>\n",
       "      <td>1.000000</td>\n",
       "      <td>RNA_0</td>\n",
       "    </tr>\n",
       "    <tr>\n",
       "      <th>1</th>\n",
       "      <td>toy_mRNA_circuit_0</td>\n",
       "      <td>ref_circuit</td>\n",
       "      <td>0</td>\n",
       "      <td>[]</td>\n",
       "      <td>[]</td>\n",
       "      <td>data/ensemble_mutation_effect_analysis/2023_07...</td>\n",
       "      <td>0.0</td>\n",
       "      <td>toy_mRNA_circuit_0</td>\n",
       "      <td>[[0 1]]</td>\n",
       "      <td>[[1 1]]</td>\n",
       "      <td>...</td>\n",
       "      <td>0.000000</td>\n",
       "      <td>0.000000</td>\n",
       "      <td>1.000000</td>\n",
       "      <td>1.000000</td>\n",
       "      <td>1.000000</td>\n",
       "      <td>1.000000</td>\n",
       "      <td>1.000000</td>\n",
       "      <td>inf</td>\n",
       "      <td>1.000000</td>\n",
       "      <td>RNA_1</td>\n",
       "    </tr>\n",
       "    <tr>\n",
       "      <th>2</th>\n",
       "      <td>toy_mRNA_circuit_0</td>\n",
       "      <td>ref_circuit</td>\n",
       "      <td>0</td>\n",
       "      <td>[]</td>\n",
       "      <td>[]</td>\n",
       "      <td>data/ensemble_mutation_effect_analysis/2023_07...</td>\n",
       "      <td>0.0</td>\n",
       "      <td>toy_mRNA_circuit_0</td>\n",
       "      <td>[[0 1]]</td>\n",
       "      <td>[[1 1]]</td>\n",
       "      <td>...</td>\n",
       "      <td>0.000000</td>\n",
       "      <td>0.000000</td>\n",
       "      <td>1.000000</td>\n",
       "      <td>1.000000</td>\n",
       "      <td>1.000000</td>\n",
       "      <td>1.000000</td>\n",
       "      <td>inf</td>\n",
       "      <td>inf</td>\n",
       "      <td>1.000000</td>\n",
       "      <td>RNA_2</td>\n",
       "    </tr>\n",
       "    <tr>\n",
       "      <th>3</th>\n",
       "      <td>toy_mRNA_circuit_0</td>\n",
       "      <td>RNA_0_m1-0</td>\n",
       "      <td>1</td>\n",
       "      <td>[10]</td>\n",
       "      <td>[14]</td>\n",
       "      <td>data/ensemble_mutation_effect_analysis/2023_07...</td>\n",
       "      <td>0.0</td>\n",
       "      <td>toy_mRNA_circuit_0</td>\n",
       "      <td>[[0 1]]</td>\n",
       "      <td>[[1 1]]</td>\n",
       "      <td>...</td>\n",
       "      <td>8.533630</td>\n",
       "      <td>8.585205</td>\n",
       "      <td>0.976079</td>\n",
       "      <td>1.047200</td>\n",
       "      <td>1.000000</td>\n",
       "      <td>1.047200</td>\n",
       "      <td>0.307851</td>\n",
       "      <td>inf</td>\n",
       "      <td>1.022150</td>\n",
       "      <td>RNA_0</td>\n",
       "    </tr>\n",
       "    <tr>\n",
       "      <th>4</th>\n",
       "      <td>toy_mRNA_circuit_0</td>\n",
       "      <td>RNA_0_m1-0</td>\n",
       "      <td>1</td>\n",
       "      <td>[10]</td>\n",
       "      <td>[14]</td>\n",
       "      <td>data/ensemble_mutation_effect_analysis/2023_07...</td>\n",
       "      <td>0.0</td>\n",
       "      <td>toy_mRNA_circuit_0</td>\n",
       "      <td>[[0 1]]</td>\n",
       "      <td>[[1 1]]</td>\n",
       "      <td>...</td>\n",
       "      <td>5.955922</td>\n",
       "      <td>5.909309</td>\n",
       "      <td>1.033255</td>\n",
       "      <td>1.031187</td>\n",
       "      <td>1.031187</td>\n",
       "      <td>1.087942</td>\n",
       "      <td>0.473072</td>\n",
       "      <td>inf</td>\n",
       "      <td>1.065479</td>\n",
       "      <td>RNA_1</td>\n",
       "    </tr>\n",
       "  </tbody>\n",
       "</table>\n",
       "<p>5 rows × 83 columns</p>\n",
       "</div>"
      ],
      "text/plain": [
       "         circuit_name mutation_name  mutation_num mutation_type  \\\n",
       "0  toy_mRNA_circuit_0   ref_circuit             0            []   \n",
       "1  toy_mRNA_circuit_0   ref_circuit             0            []   \n",
       "2  toy_mRNA_circuit_0   ref_circuit             0            []   \n",
       "3  toy_mRNA_circuit_0    RNA_0_m1-0             1          [10]   \n",
       "4  toy_mRNA_circuit_0    RNA_0_m1-0             1          [10]   \n",
       "\n",
       "  mutation_positions                           path_to_template_circuit  \\\n",
       "0                 []  data/ensemble_mutation_effect_analysis/2023_07...   \n",
       "1                 []  data/ensemble_mutation_effect_analysis/2023_07...   \n",
       "2                 []  data/ensemble_mutation_effect_analysis/2023_07...   \n",
       "3               [14]  data/ensemble_mutation_effect_analysis/2023_07...   \n",
       "4               [14]  data/ensemble_mutation_effect_analysis/2023_07...   \n",
       "\n",
       "   index                name interacting self_interacting  ...  \\\n",
       "0    0.0  toy_mRNA_circuit_0     [[0 1]]          [[1 1]]  ...   \n",
       "1    0.0  toy_mRNA_circuit_0     [[0 1]]          [[1 1]]  ...   \n",
       "2    0.0  toy_mRNA_circuit_0     [[0 1]]          [[1 1]]  ...   \n",
       "3    0.0  toy_mRNA_circuit_0     [[0 1]]          [[1 1]]  ...   \n",
       "4    0.0  toy_mRNA_circuit_0     [[0 1]]          [[1 1]]  ...   \n",
       "\n",
       "   RMSE_diff_to_base_circuit  steady_states_diff_to_base_circuit  \\\n",
       "0                   0.000000                            0.000000   \n",
       "1                   0.000000                            0.000000   \n",
       "2                   0.000000                            0.000000   \n",
       "3                   8.533630                            8.585205   \n",
       "4                   5.955922                            5.909309   \n",
       "\n",
       "  fold_change_ratio_from_mutation_to_base  \\\n",
       "0                                1.000000   \n",
       "1                                1.000000   \n",
       "2                                1.000000   \n",
       "3                                0.976079   \n",
       "4                                1.033255   \n",
       "\n",
       "  initial_steady_states_ratio_from_mutation_to_base  \\\n",
       "0                                          1.000000   \n",
       "1                                          1.000000   \n",
       "2                                          1.000000   \n",
       "3                                          1.047200   \n",
       "4                                          1.031187   \n",
       "\n",
       "  max_amount_ratio_from_mutation_to_base  \\\n",
       "0                               1.000000   \n",
       "1                               1.000000   \n",
       "2                               1.000000   \n",
       "3                               1.000000   \n",
       "4                               1.031187   \n",
       "\n",
       "  min_amount_ratio_from_mutation_to_base  \\\n",
       "0                               1.000000   \n",
       "1                               1.000000   \n",
       "2                               1.000000   \n",
       "3                               1.047200   \n",
       "4                               1.087942   \n",
       "\n",
       "  overshoot_ratio_from_mutation_to_base RMSE_ratio_from_mutation_to_base  \\\n",
       "0                              1.000000                              inf   \n",
       "1                              1.000000                              inf   \n",
       "2                                   inf                              inf   \n",
       "3                              0.307851                              inf   \n",
       "4                              0.473072                              inf   \n",
       "\n",
       "  steady_states_ratio_from_mutation_to_base sample_name  \n",
       "0                                  1.000000       RNA_0  \n",
       "1                                  1.000000       RNA_1  \n",
       "2                                  1.000000       RNA_2  \n",
       "3                                  1.022150       RNA_0  \n",
       "4                                  1.065479       RNA_1  \n",
       "\n",
       "[5 rows x 83 columns]"
      ]
     },
     "execution_count": 4,
     "metadata": {},
     "output_type": "execute_result"
    }
   ],
   "source": [
    "data = pd.read_csv(fn)\n",
    "data.head()"
   ]
  },
  {
   "cell_type": "code",
   "execution_count": 5,
   "metadata": {},
   "outputs": [],
   "source": [
    "data, num_group_cols, num_bs_cols, numerical_cols, key_cols, bs_range_cols = proc_info(data, include_log=False)"
   ]
  },
  {
   "cell_type": "code",
   "execution_count": 6,
   "metadata": {},
   "outputs": [],
   "source": [
    "cols_rem = [i for i in get_true_interaction_cols(\n",
    "    data, 'eqconstants', remove_symmetrical=False) if i not in get_true_interaction_cols(data, 'eqconstants', remove_symmetrical=True)] + [i for i in get_true_interaction_cols(\n",
    "        data, 'energies', remove_symmetrical=False) if i not in get_true_interaction_cols(data, 'energies', remove_symmetrical=True)] + [i for i in get_true_interaction_cols(\n",
    "        data, 'binding_rates_dissociation', remove_symmetrical=False) if i not in get_true_interaction_cols(data, 'binding_rates_dissociation', remove_symmetrical=True)] + [i for i in get_true_interaction_cols(\n",
    "        data, 'binding_sites', remove_symmetrical=False) if i not in get_true_interaction_cols(data, 'binding_sites', remove_symmetrical=True)]\n",
    "data.drop(columns=['name', 'index'] + cols_rem, inplace=True)"
   ]
  },
  {
   "cell_type": "code",
   "execution_count": 7,
   "metadata": {},
   "outputs": [
    {
     "data": {
      "text/plain": [
       "['circuit_name',\n",
       " 'mutation_name',\n",
       " 'mutation_num',\n",
       " 'mutation_type',\n",
       " 'mutation_positions',\n",
       " 'path_to_template_circuit',\n",
       " 'interacting',\n",
       " 'self_interacting',\n",
       " 'num_interacting',\n",
       " 'num_self_interacting',\n",
       " 'binding_sites_0-0',\n",
       " 'binding_sites_0-1',\n",
       " 'binding_sites_0-2',\n",
       " 'binding_sites_1-1',\n",
       " 'binding_sites_1-2',\n",
       " 'binding_sites_2-2',\n",
       " 'binding_rates_dissociation_0-0',\n",
       " 'binding_rates_dissociation_0-1',\n",
       " 'binding_rates_dissociation_0-2',\n",
       " 'binding_rates_dissociation_1-1',\n",
       " 'binding_rates_dissociation_1-2',\n",
       " 'binding_rates_dissociation_2-2',\n",
       " 'energies_0-0',\n",
       " 'energies_0-1',\n",
       " 'energies_0-2',\n",
       " 'energies_1-1',\n",
       " 'energies_1-2',\n",
       " 'energies_2-2',\n",
       " 'eqconstants_0-0',\n",
       " 'eqconstants_0-1',\n",
       " 'eqconstants_0-2',\n",
       " 'eqconstants_1-1',\n",
       " 'eqconstants_1-2',\n",
       " 'eqconstants_2-2',\n",
       " 'num_interacting_diff_to_base_circuit',\n",
       " 'num_self_interacting_diff_to_base_circuit',\n",
       " 'num_interacting_ratio_from_mutation_to_base',\n",
       " 'num_self_interacting_ratio_from_mutation_to_base',\n",
       " 'fold_change',\n",
       " 'initial_steady_states',\n",
       " 'max_amount',\n",
       " 'min_amount',\n",
       " 'overshoot',\n",
       " 'RMSE',\n",
       " 'steady_states',\n",
       " 'response_time_wrt_species-6',\n",
       " 'response_time_wrt_species-6_diff_to_base_circuit',\n",
       " 'response_time_wrt_species-6_ratio_from_mutation_to_base',\n",
       " 'precision_wrt_species-6',\n",
       " 'precision_wrt_species-6_diff_to_base_circuit',\n",
       " 'precision_wrt_species-6_ratio_from_mutation_to_base',\n",
       " 'sensitivity_wrt_species-6',\n",
       " 'sensitivity_wrt_species-6_diff_to_base_circuit',\n",
       " 'sensitivity_wrt_species-6_ratio_from_mutation_to_base',\n",
       " 'fold_change_diff_to_base_circuit',\n",
       " 'initial_steady_states_diff_to_base_circuit',\n",
       " 'max_amount_diff_to_base_circuit',\n",
       " 'min_amount_diff_to_base_circuit',\n",
       " 'overshoot_diff_to_base_circuit',\n",
       " 'RMSE_diff_to_base_circuit',\n",
       " 'steady_states_diff_to_base_circuit',\n",
       " 'fold_change_ratio_from_mutation_to_base',\n",
       " 'initial_steady_states_ratio_from_mutation_to_base',\n",
       " 'max_amount_ratio_from_mutation_to_base',\n",
       " 'min_amount_ratio_from_mutation_to_base',\n",
       " 'overshoot_ratio_from_mutation_to_base',\n",
       " 'RMSE_ratio_from_mutation_to_base',\n",
       " 'steady_states_ratio_from_mutation_to_base',\n",
       " 'sample_name',\n",
       " 'num_interacting_all',\n",
       " 'sp_distance',\n",
       " 'binding_sites_count_0-0',\n",
       " 'binding_sites_idxs_0-0',\n",
       " 'binding_sites_groups_0-0',\n",
       " 'binding_site_group_range_0-0',\n",
       " 'binding_sites_count_0-1',\n",
       " 'binding_sites_idxs_0-1',\n",
       " 'binding_sites_groups_0-1',\n",
       " 'binding_site_group_range_0-1',\n",
       " 'binding_sites_count_0-2',\n",
       " 'binding_sites_idxs_0-2',\n",
       " 'binding_sites_groups_0-2',\n",
       " 'binding_site_group_range_0-2',\n",
       " 'binding_sites_count_1-0',\n",
       " 'binding_sites_idxs_1-0',\n",
       " 'binding_sites_groups_1-0',\n",
       " 'binding_site_group_range_1-0',\n",
       " 'binding_sites_count_1-1',\n",
       " 'binding_sites_idxs_1-1',\n",
       " 'binding_sites_groups_1-1',\n",
       " 'binding_site_group_range_1-1',\n",
       " 'binding_sites_count_1-2',\n",
       " 'binding_sites_idxs_1-2',\n",
       " 'binding_sites_groups_1-2',\n",
       " 'binding_site_group_range_1-2',\n",
       " 'binding_sites_count_2-0',\n",
       " 'binding_sites_idxs_2-0',\n",
       " 'binding_sites_groups_2-0',\n",
       " 'binding_site_group_range_2-0',\n",
       " 'binding_sites_count_2-1',\n",
       " 'binding_sites_idxs_2-1',\n",
       " 'binding_sites_groups_2-1',\n",
       " 'binding_site_group_range_2-1',\n",
       " 'binding_sites_count_2-2',\n",
       " 'binding_sites_idxs_2-2',\n",
       " 'binding_sites_groups_2-2',\n",
       " 'binding_site_group_range_2-2']"
      ]
     },
     "execution_count": 7,
     "metadata": {},
     "output_type": "execute_result"
    }
   ],
   "source": [
    "list(data.columns)"
   ]
  },
  {
   "cell_type": "code",
   "execution_count": 8,
   "metadata": {},
   "outputs": [
    {
     "data": {
      "text/plain": [
       "[(3, 9), (4, 8), (5, 7), (6, 6), (7, 5), (8, 4), (9, 3), (10, 2)]"
      ]
     },
     "execution_count": 8,
     "metadata": {},
     "output_type": "execute_result"
    }
   ],
   "source": [
    "data['binding_sites_idxs_0-1'].iloc[0]"
   ]
  },
  {
   "attachments": {},
   "cell_type": "markdown",
   "metadata": {},
   "source": [
    "Preprocess"
   ]
  },
  {
   "cell_type": "code",
   "execution_count": 9,
   "metadata": {},
   "outputs": [],
   "source": [
    "# data['mutation_type'] = convert_liststr_to_list(data['mutation_type'].str)\n",
    "# data['mutation_positions'] = convert_liststr_to_list(data['mutation_positions'].str)"
   ]
  },
  {
   "attachments": {},
   "cell_type": "markdown",
   "metadata": {},
   "source": [
    "## Mode 1 - string of RNA"
   ]
  },
  {
   "attachments": {},
   "cell_type": "markdown",
   "metadata": {},
   "source": [
    "Add the actual sequence pre-mutation to as a field"
   ]
  },
  {
   "cell_type": "code",
   "execution_count": 10,
   "metadata": {},
   "outputs": [],
   "source": [
    "data['mutation_species'] = data['mutation_name'].str[:5]\n",
    "data.loc[data['mutation_species'] == 'ref_c', 'mutation_species'] = None"
   ]
  },
  {
   "attachments": {},
   "cell_type": "markdown",
   "metadata": {},
   "source": [
    "Load RNA sequences."
   ]
  },
  {
   "cell_type": "code",
   "execution_count": 11,
   "metadata": {},
   "outputs": [],
   "source": [
    "mutation_species = data['mutation_species'].unique()\n",
    "circuit_name = data['circuit_name'].unique()\n",
    "path_to_template_circuit = list(data[data['mutation_num'] > 0]['path_to_template_circuit'].unique())\n",
    "# path_to_template_circuit = jax.tree_util.tree_map(lambda x: x.replace('..', '../../synbio_morpher'),path_to_template_circuit)\n",
    "# circuit_paths = jax.tree_util.tree_map(lambda x: os.path.join(root_dir, 'data', 'raw', str(x.split('data/')[-1])), path_to_template_circuit)\n",
    "circuit_paths = jax.tree_util.tree_map(lambda x: os.path.join('..', '..', 'synbio_morpher', x), path_to_template_circuit)\n",
    "fastas = jax.tree_util.tree_map(lambda cp: load_seq_from_FASTA(cp, as_type='dict'), circuit_paths)\n",
    "fasta_d = dict(zip(circuit_name, fastas))"
   ]
  },
  {
   "cell_type": "code",
   "execution_count": 12,
   "metadata": {},
   "outputs": [],
   "source": [
    "# data['src_sequence'] = jax.tree_util.tree_map(lambda cn, ms, sn: fasta_d[cn][ms] if ms != 'ref_c' else fasta_d[cn][sn], data['circuit_name'].to_list(), data['mutation_species'].to_list(), data['sample_name'].to_list())"
   ]
  },
  {
   "attachments": {},
   "cell_type": "markdown",
   "metadata": {},
   "source": [
    "Simplify mutation types, which are categorised into 11 different integers based on the original nucleotide and what it transitions into upon mutating. This can be simplified by re-codifying the mutation type into the nucleotide that it transitions into, thus omitting information about the starting nucleotides completely."
   ]
  },
  {
   "cell_type": "code",
   "execution_count": 14,
   "metadata": {},
   "outputs": [],
   "source": [
    "data['mutation_types_simp'] = data['mutation_type']\n",
    "\n",
    "mutation_type_mapping = get_mutation_type_mapping('RNA')\n",
    "# mutation_type_mapping_simp = {k: v for k, v in zip(mutation_type_mapping.keys(), np.arange(1, len(mutation_type_mapping)+1))}\n",
    "mutation_map_translation = {}\n",
    "for (ka, kb), v in jax.tree_util.tree_flatten_with_path(mutation_type_mapping)[0]:\n",
    "    mutation_map_translation[v] = kb.key\n",
    "\n",
    "data['mutation_types_simp'] = data['mutation_types_simp'].apply(lambda x: jax.tree_util.tree_map(lambda y: mutation_map_translation[y] if x else [], x))"
   ]
  },
  {
   "cell_type": "code",
   "execution_count": 15,
   "metadata": {},
   "outputs": [
    {
     "data": {
      "text/plain": [
       "array([1., 0., 0., 0., 0., 1., 3.])"
      ]
     },
     "execution_count": 15,
     "metadata": {},
     "output_type": "execute_result"
    }
   ],
   "source": [
    "def apply_values(sequence, indices, values):\n",
    "    # GCG\n",
    "    result = np.zeros(len(sequence))\n",
    "    list(map(lambda idx, val: result.__setitem__(idx, val), indices, values))\n",
    "    return result\n",
    "\n",
    "sequence = 'ABDSAFD'\n",
    "indices = (0, 5, 6)\n",
    "values = (1, 1, 3)\n",
    "\n",
    "output = apply_values(sequence, indices, values)\n",
    "output\n",
    "\n",
    "# Expected output: [1., 0., 0., 0., 0., 1., 3.]"
   ]
  },
  {
   "attachments": {},
   "cell_type": "markdown",
   "metadata": {},
   "source": [
    "### Combine into input"
   ]
  },
  {
   "attachments": {},
   "cell_type": "markdown",
   "metadata": {},
   "source": [
    "Circuit represented as $n$ RNA sequences"
   ]
  },
  {
   "cell_type": "code",
   "execution_count": 16,
   "metadata": {},
   "outputs": [],
   "source": [
    "def reverse_mut_mapping(mut_encoding: int, sequence_type: str = 'RNA'):\n",
    "    for k, v in get_mutation_type_mapping(sequence_type).items():\n",
    "        if mut_encoding in list(v.values()):\n",
    "            for mut, enc in v.items():\n",
    "                if enc == mut_encoding:\n",
    "                    return mut\n",
    "    raise ValueError(\n",
    "        f'Could not find mutation for mapping key {mut_encoding}.')\n",
    "    \n",
    "def apply_values(sequence, indices, values):\n",
    "    result = np.array(list(sequence))\n",
    "    list(map(lambda idx, val: result.__setitem__(idx, val), indices, values))\n",
    "    return ''.join(result)\n",
    "# data['src_sequence'] = jax.tree_util.tree_map(lambda cn, ms, sn: fasta_d[cn][ms] if ms != 'ref_c' else fasta_d[cn][sn], data['circuit_name'].to_list(), data['mutation_species'].to_list(), data['sample_name'].to_list())\n",
    "\n",
    "d = {v: v for v in jax.tree_util.tree_flatten(get_mutation_type_mapping('RNA'))[0]}\n",
    "mutation_type_mapping_rev = jax.tree_util.tree_map(lambda x: reverse_mut_mapping(x), d)\n",
    "\n"
   ]
  },
  {
   "cell_type": "code",
   "execution_count": 18,
   "metadata": {},
   "outputs": [],
   "source": [
    "# data['mutation_type_explicit'] = jax.tree_util.tree_map(lambda mt: mutation_type_mapping_rev[mt], data['mutation_type'].to_list())\n",
    "data['sample_seq'] = jax.tree_util.tree_map(lambda cn, sn, ms, mp, mt: fasta_d[cn][sn] if sn != ms else apply_values(fasta_d[cn][sn], mp, mt), \n",
    "                                            *[data[x].to_list() for x in ['circuit_name', 'sample_name', 'mutation_species', 'mutation_positions', 'mutation_types_simp']])\n",
    "# data['sample_seq'] = jax.tree_util.tree_map(lambda cn, sn: fasta_d[cn][sn], data['circuit_name'].to_list(), data['sample_name'].to_list())"
   ]
  },
  {
   "cell_type": "code",
   "execution_count": 19,
   "metadata": {},
   "outputs": [
    {
     "data": {
      "text/plain": [
       "0          CGGCGGUCGAAGAAUUCCCG\n",
       "1          CACGGCCGUUAUAUCACGUG\n",
       "2          GUUCGCCCCAGAUGCAGGUG\n",
       "3          CGGCGGUCGAAGAACUCCCG\n",
       "4          CACGGCCGUUAUAUCACGUG\n",
       "                   ...         \n",
       "1628995    UAAUCCACUCACCGACAGAG\n",
       "1628996    GCUGCCACGGGGGUCCAGAA\n",
       "1628997    CUUAACAUUCAUCGGCUUCA\n",
       "1628998    UAAUCCACUCACCGACAGAG\n",
       "1628999    ACUAACGACGGGGCCCAGCA\n",
       "Name: sample_seq, Length: 1629000, dtype: object"
      ]
     },
     "execution_count": 19,
     "metadata": {},
     "output_type": "execute_result"
    }
   ],
   "source": [
    "data['sample_seq']"
   ]
  },
  {
   "attachments": {},
   "cell_type": "markdown",
   "metadata": {},
   "source": [
    "## Labels\n",
    "\n",
    "For now, we will discretise the labels on a log scale to accommodate sensitivity and precision. "
   ]
  },
  {
   "cell_type": "code",
   "execution_count": 20,
   "metadata": {},
   "outputs": [
    {
     "data": {
      "text/plain": [
       "['fold_change',\n",
       " 'initial_steady_states',\n",
       " 'max_amount',\n",
       " 'min_amount',\n",
       " 'overshoot',\n",
       " 'RMSE',\n",
       " 'steady_states',\n",
       " 'response_time_wrt_species-6',\n",
       " 'response_time_wrt_species-6_diff_to_base_circuit',\n",
       " 'response_time_wrt_species-6_ratio_from_mutation_to_base',\n",
       " 'precision_wrt_species-6',\n",
       " 'precision_wrt_species-6_diff_to_base_circuit',\n",
       " 'precision_wrt_species-6_ratio_from_mutation_to_base',\n",
       " 'sensitivity_wrt_species-6',\n",
       " 'sensitivity_wrt_species-6_diff_to_base_circuit',\n",
       " 'sensitivity_wrt_species-6_ratio_from_mutation_to_base',\n",
       " 'fold_change_diff_to_base_circuit',\n",
       " 'initial_steady_states_diff_to_base_circuit',\n",
       " 'max_amount_diff_to_base_circuit',\n",
       " 'min_amount_diff_to_base_circuit',\n",
       " 'overshoot_diff_to_base_circuit',\n",
       " 'RMSE_diff_to_base_circuit',\n",
       " 'steady_states_diff_to_base_circuit',\n",
       " 'fold_change_ratio_from_mutation_to_base',\n",
       " 'initial_steady_states_ratio_from_mutation_to_base',\n",
       " 'max_amount_ratio_from_mutation_to_base',\n",
       " 'min_amount_ratio_from_mutation_to_base',\n",
       " 'overshoot_ratio_from_mutation_to_base',\n",
       " 'RMSE_ratio_from_mutation_to_base',\n",
       " 'steady_states_ratio_from_mutation_to_base']"
      ]
     },
     "execution_count": 20,
     "metadata": {},
     "output_type": "execute_result"
    }
   ],
   "source": [
    "get_true_names_analytics(data)"
   ]
  },
  {
   "cell_type": "code",
   "execution_count": 21,
   "metadata": {},
   "outputs": [],
   "source": [
    "dirlist = [root_dir, 'data', 'processed'] + fn.split('raw/')[-1].split(os.sep)\n",
    "for i, d in enumerate(dirlist[:-1]):\n",
    "    if not os.path.isdir(os.path.join(*dirlist[:i+1])):\n",
    "        print('Making directory ', os.path.join(*dirlist[:i+1]))\n",
    "        os.makedirs(os.path.join(*dirlist[:i+1]), mode=0o777)\n",
    "    \n",
    "# os.path.join(*dirlist)"
   ]
  },
  {
   "cell_type": "code",
   "execution_count": 25,
   "metadata": {},
   "outputs": [],
   "source": [
    "data[['circuit_name', 'mutation_name', 'mutation_species', 'mutation_num', 'sample_seq', 'sample_name'] + [\n",
    "    'fold_change',\n",
    "    'initial_steady_states',\n",
    "    'max_amount',\n",
    "    'min_amount',\n",
    "    'overshoot',\n",
    "    'RMSE',\n",
    "    'steady_states',\n",
    "    'response_time_wrt_species-6',\n",
    "    # 'response_time_wrt_species-6_diff_to_base_circuit',\n",
    "    'response_time_wrt_species-6_ratio_from_mutation_to_base',\n",
    "    'precision_wrt_species-6',\n",
    "    # 'precision_wrt_species-6_diff_to_base_circuit',\n",
    "    'precision_wrt_species-6_ratio_from_mutation_to_base',\n",
    "    'sensitivity_wrt_species-6',\n",
    "    # 'sensitivity_wrt_species-6_diff_to_base_circuit',\n",
    "    'sensitivity_wrt_species-6_ratio_from_mutation_to_base',\n",
    "    # 'fold_change_diff_to_base_circuit',\n",
    "    # 'initial_steady_states_diff_to_base_circuit',\n",
    "    # 'max_amount_diff_to_base_circuit',\n",
    "    # 'min_amount_diff_to_base_circuit',\n",
    "    # 'overshoot_diff_to_base_circuit',\n",
    "    # 'RMSE_diff_to_base_circuit',\n",
    "    # 'steady_states_diff_to_base_circuit',\n",
    "    'fold_change_ratio_from_mutation_to_base',\n",
    "    'initial_steady_states_ratio_from_mutation_to_base',\n",
    "    'max_amount_ratio_from_mutation_to_base',\n",
    "    'min_amount_ratio_from_mutation_to_base',\n",
    "    'overshoot_ratio_from_mutation_to_base',\n",
    "    # 'RMSE_ratio_from_mutation_to_base',\n",
    "    'steady_states_ratio_from_mutation_to_base'\n",
    "] + get_true_interaction_cols(data, interaction_attr='binding_rates_dissociation', remove_symmetrical=True) +\n",
    "    get_true_interaction_cols(data, interaction_attr='energies', remove_symmetrical=True) +\n",
    "    get_true_interaction_cols(data, interaction_attr='eqconstants', remove_symmetrical=True) + \n",
    "    get_true_interaction_cols(data, interaction_attr='binding_sites_idxs', remove_symmetrical=True) +\n",
    "    get_true_interaction_cols(data, interaction_attr='binding_sites_groups', remove_symmetrical=True) +\n",
    "    get_true_interaction_cols(data, interaction_attr='binding_site_group_range', remove_symmetrical=True)].to_csv(os.path.join(*dirlist))\n"
   ]
  },
  {
   "cell_type": "code",
   "execution_count": null,
   "metadata": {},
   "outputs": [],
   "source": []
  }
 ],
 "metadata": {
  "kernelspec": {
   "display_name": "env_evo",
   "language": "python",
   "name": "python3"
  },
  "language_info": {
   "codemirror_mode": {
    "name": "ipython",
    "version": 3
   },
   "file_extension": ".py",
   "mimetype": "text/x-python",
   "name": "python",
   "nbconvert_exporter": "python",
   "pygments_lexer": "ipython3",
   "version": "3.10.12"
  },
  "orig_nbformat": 4
 },
 "nbformat": 4,
 "nbformat_minor": 2
}
