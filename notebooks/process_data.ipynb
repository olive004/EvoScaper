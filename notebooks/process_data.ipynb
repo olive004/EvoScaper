{
 "cells": [
  {
   "attachments": {},
   "cell_type": "markdown",
   "metadata": {},
   "source": [
    "## Imports"
   ]
  },
  {
   "cell_type": "code",
   "execution_count": 1,
   "metadata": {},
   "outputs": [],
   "source": [
    "%load_ext autoreload\n",
    "%autoreload 2"
   ]
  },
  {
   "cell_type": "code",
   "execution_count": 2,
   "metadata": {},
   "outputs": [],
   "source": [
    "import os\n",
    "import sys\n",
    "import jax\n",
    "import pandas as pd\n",
    "import numpy as np\n",
    "import jax.numpy as jnp\n",
    "import haiku as hk\n",
    "import seaborn as sns\n",
    "import matplotlib.pyplot as plt\n",
    "from synbio_morpher.utils.data.data_format_tools.manipulate_fasta import load_seq_from_FASTA\n",
    "from synbio_morpher.utils.evolution.mutation import get_mutation_type_mapping\n",
    "from synbio_morpher.utils.misc.string_handling import convert_liststr_to_list\n",
    "\n",
    "\n",
    "if __package__ is None:\n",
    "\n",
    "    module_path = os.path.abspath(os.path.join('..'))\n",
    "    sys.path.append(module_path)\n",
    "\n",
    "    __package__ = os.path.basename(module_path)\n",
    "    \n",
    "\n",
    "from src.models.nucleotide_transformer import NucleotideTransformerConfig, build_nucleotide_transformer_fn\n",
    "from src.models.pretrained import FixedSizeNucleotidesKmersTokenizer\n",
    "\n",
    "root_dir = '..'"
   ]
  },
  {
   "attachments": {},
   "cell_type": "markdown",
   "metadata": {},
   "source": [
    "# Processing"
   ]
  },
  {
   "cell_type": "code",
   "execution_count": 31,
   "metadata": {},
   "outputs": [],
   "source": [
    "rel_fn = 'data/raw/ensemble_mutation_effect_analysis/2023_07_17_105328/tabulated_mutation_info.csv'\n",
    "# rel_fn = 'data/raw/ensemble_mutation_effect_analysis/2023_06_05_164913/tabulated_mutation_info.csv'\n",
    "# rel_fn = 'data/raw/ensemble_mutation_effect_analysis/2023_05_16_174613/tabulated_mutation_info.csv'\n",
    "fn = os.path.join(root_dir, rel_fn)"
   ]
  },
  {
   "cell_type": "code",
   "execution_count": 32,
   "metadata": {},
   "outputs": [
    {
     "data": {
      "text/html": [
       "<div>\n",
       "<style scoped>\n",
       "    .dataframe tbody tr th:only-of-type {\n",
       "        vertical-align: middle;\n",
       "    }\n",
       "\n",
       "    .dataframe tbody tr th {\n",
       "        vertical-align: top;\n",
       "    }\n",
       "\n",
       "    .dataframe thead th {\n",
       "        text-align: right;\n",
       "    }\n",
       "</style>\n",
       "<table border=\"1\" class=\"dataframe\">\n",
       "  <thead>\n",
       "    <tr style=\"text-align: right;\">\n",
       "      <th></th>\n",
       "      <th>circuit_name</th>\n",
       "      <th>mutation_name</th>\n",
       "      <th>mutation_num</th>\n",
       "      <th>mutation_type</th>\n",
       "      <th>mutation_positions</th>\n",
       "      <th>path_to_template_circuit</th>\n",
       "      <th>index</th>\n",
       "      <th>name</th>\n",
       "      <th>interacting</th>\n",
       "      <th>self_interacting</th>\n",
       "      <th>...</th>\n",
       "      <th>RMSE_diff_to_base_circuit</th>\n",
       "      <th>steady_states_diff_to_base_circuit</th>\n",
       "      <th>fold_change_ratio_from_mutation_to_base</th>\n",
       "      <th>initial_steady_states_ratio_from_mutation_to_base</th>\n",
       "      <th>max_amount_ratio_from_mutation_to_base</th>\n",
       "      <th>min_amount_ratio_from_mutation_to_base</th>\n",
       "      <th>overshoot_ratio_from_mutation_to_base</th>\n",
       "      <th>RMSE_ratio_from_mutation_to_base</th>\n",
       "      <th>steady_states_ratio_from_mutation_to_base</th>\n",
       "      <th>sample_name</th>\n",
       "    </tr>\n",
       "  </thead>\n",
       "  <tbody>\n",
       "    <tr>\n",
       "      <th>0</th>\n",
       "      <td>toy_mRNA_circuit_0</td>\n",
       "      <td>ref_circuit</td>\n",
       "      <td>0</td>\n",
       "      <td>[]</td>\n",
       "      <td>[]</td>\n",
       "      <td>data/ensemble_mutation_effect_analysis/2023_07...</td>\n",
       "      <td>0.0</td>\n",
       "      <td>toy_mRNA_circuit_0</td>\n",
       "      <td>[[0 1]]</td>\n",
       "      <td>[[1 1]]</td>\n",
       "      <td>...</td>\n",
       "      <td>0.000000</td>\n",
       "      <td>0.000000</td>\n",
       "      <td>1.000000</td>\n",
       "      <td>1.000000</td>\n",
       "      <td>1.000000</td>\n",
       "      <td>1.000000</td>\n",
       "      <td>1.000000</td>\n",
       "      <td>inf</td>\n",
       "      <td>1.000000</td>\n",
       "      <td>RNA_0</td>\n",
       "    </tr>\n",
       "    <tr>\n",
       "      <th>1</th>\n",
       "      <td>toy_mRNA_circuit_0</td>\n",
       "      <td>ref_circuit</td>\n",
       "      <td>0</td>\n",
       "      <td>[]</td>\n",
       "      <td>[]</td>\n",
       "      <td>data/ensemble_mutation_effect_analysis/2023_07...</td>\n",
       "      <td>0.0</td>\n",
       "      <td>toy_mRNA_circuit_0</td>\n",
       "      <td>[[0 1]]</td>\n",
       "      <td>[[1 1]]</td>\n",
       "      <td>...</td>\n",
       "      <td>0.000000</td>\n",
       "      <td>0.000000</td>\n",
       "      <td>1.000000</td>\n",
       "      <td>1.000000</td>\n",
       "      <td>1.000000</td>\n",
       "      <td>1.000000</td>\n",
       "      <td>1.000000</td>\n",
       "      <td>inf</td>\n",
       "      <td>1.000000</td>\n",
       "      <td>RNA_1</td>\n",
       "    </tr>\n",
       "    <tr>\n",
       "      <th>2</th>\n",
       "      <td>toy_mRNA_circuit_0</td>\n",
       "      <td>ref_circuit</td>\n",
       "      <td>0</td>\n",
       "      <td>[]</td>\n",
       "      <td>[]</td>\n",
       "      <td>data/ensemble_mutation_effect_analysis/2023_07...</td>\n",
       "      <td>0.0</td>\n",
       "      <td>toy_mRNA_circuit_0</td>\n",
       "      <td>[[0 1]]</td>\n",
       "      <td>[[1 1]]</td>\n",
       "      <td>...</td>\n",
       "      <td>0.000000</td>\n",
       "      <td>0.000000</td>\n",
       "      <td>1.000000</td>\n",
       "      <td>1.000000</td>\n",
       "      <td>1.000000</td>\n",
       "      <td>1.000000</td>\n",
       "      <td>inf</td>\n",
       "      <td>inf</td>\n",
       "      <td>1.000000</td>\n",
       "      <td>RNA_2</td>\n",
       "    </tr>\n",
       "    <tr>\n",
       "      <th>3</th>\n",
       "      <td>toy_mRNA_circuit_0</td>\n",
       "      <td>RNA_0_m1-0</td>\n",
       "      <td>1</td>\n",
       "      <td>[10]</td>\n",
       "      <td>[14]</td>\n",
       "      <td>data/ensemble_mutation_effect_analysis/2023_07...</td>\n",
       "      <td>0.0</td>\n",
       "      <td>toy_mRNA_circuit_0</td>\n",
       "      <td>[[0 1]]</td>\n",
       "      <td>[[1 1]]</td>\n",
       "      <td>...</td>\n",
       "      <td>8.533630</td>\n",
       "      <td>8.585205</td>\n",
       "      <td>0.976079</td>\n",
       "      <td>1.047200</td>\n",
       "      <td>1.000000</td>\n",
       "      <td>1.047200</td>\n",
       "      <td>0.307851</td>\n",
       "      <td>inf</td>\n",
       "      <td>1.022150</td>\n",
       "      <td>RNA_0</td>\n",
       "    </tr>\n",
       "    <tr>\n",
       "      <th>4</th>\n",
       "      <td>toy_mRNA_circuit_0</td>\n",
       "      <td>RNA_0_m1-0</td>\n",
       "      <td>1</td>\n",
       "      <td>[10]</td>\n",
       "      <td>[14]</td>\n",
       "      <td>data/ensemble_mutation_effect_analysis/2023_07...</td>\n",
       "      <td>0.0</td>\n",
       "      <td>toy_mRNA_circuit_0</td>\n",
       "      <td>[[0 1]]</td>\n",
       "      <td>[[1 1]]</td>\n",
       "      <td>...</td>\n",
       "      <td>5.955922</td>\n",
       "      <td>5.909309</td>\n",
       "      <td>1.033255</td>\n",
       "      <td>1.031187</td>\n",
       "      <td>1.031187</td>\n",
       "      <td>1.087942</td>\n",
       "      <td>0.473072</td>\n",
       "      <td>inf</td>\n",
       "      <td>1.065479</td>\n",
       "      <td>RNA_1</td>\n",
       "    </tr>\n",
       "  </tbody>\n",
       "</table>\n",
       "<p>5 rows × 83 columns</p>\n",
       "</div>"
      ],
      "text/plain": [
       "         circuit_name mutation_name  mutation_num mutation_type  \\\n",
       "0  toy_mRNA_circuit_0   ref_circuit             0            []   \n",
       "1  toy_mRNA_circuit_0   ref_circuit             0            []   \n",
       "2  toy_mRNA_circuit_0   ref_circuit             0            []   \n",
       "3  toy_mRNA_circuit_0    RNA_0_m1-0             1          [10]   \n",
       "4  toy_mRNA_circuit_0    RNA_0_m1-0             1          [10]   \n",
       "\n",
       "  mutation_positions                           path_to_template_circuit  \\\n",
       "0                 []  data/ensemble_mutation_effect_analysis/2023_07...   \n",
       "1                 []  data/ensemble_mutation_effect_analysis/2023_07...   \n",
       "2                 []  data/ensemble_mutation_effect_analysis/2023_07...   \n",
       "3               [14]  data/ensemble_mutation_effect_analysis/2023_07...   \n",
       "4               [14]  data/ensemble_mutation_effect_analysis/2023_07...   \n",
       "\n",
       "   index                name interacting self_interacting  ...  \\\n",
       "0    0.0  toy_mRNA_circuit_0     [[0 1]]          [[1 1]]  ...   \n",
       "1    0.0  toy_mRNA_circuit_0     [[0 1]]          [[1 1]]  ...   \n",
       "2    0.0  toy_mRNA_circuit_0     [[0 1]]          [[1 1]]  ...   \n",
       "3    0.0  toy_mRNA_circuit_0     [[0 1]]          [[1 1]]  ...   \n",
       "4    0.0  toy_mRNA_circuit_0     [[0 1]]          [[1 1]]  ...   \n",
       "\n",
       "   RMSE_diff_to_base_circuit  steady_states_diff_to_base_circuit  \\\n",
       "0                   0.000000                            0.000000   \n",
       "1                   0.000000                            0.000000   \n",
       "2                   0.000000                            0.000000   \n",
       "3                   8.533630                            8.585205   \n",
       "4                   5.955922                            5.909309   \n",
       "\n",
       "  fold_change_ratio_from_mutation_to_base  \\\n",
       "0                                1.000000   \n",
       "1                                1.000000   \n",
       "2                                1.000000   \n",
       "3                                0.976079   \n",
       "4                                1.033255   \n",
       "\n",
       "  initial_steady_states_ratio_from_mutation_to_base  \\\n",
       "0                                          1.000000   \n",
       "1                                          1.000000   \n",
       "2                                          1.000000   \n",
       "3                                          1.047200   \n",
       "4                                          1.031187   \n",
       "\n",
       "  max_amount_ratio_from_mutation_to_base  \\\n",
       "0                               1.000000   \n",
       "1                               1.000000   \n",
       "2                               1.000000   \n",
       "3                               1.000000   \n",
       "4                               1.031187   \n",
       "\n",
       "  min_amount_ratio_from_mutation_to_base  \\\n",
       "0                               1.000000   \n",
       "1                               1.000000   \n",
       "2                               1.000000   \n",
       "3                               1.047200   \n",
       "4                               1.087942   \n",
       "\n",
       "  overshoot_ratio_from_mutation_to_base RMSE_ratio_from_mutation_to_base  \\\n",
       "0                              1.000000                              inf   \n",
       "1                              1.000000                              inf   \n",
       "2                                   inf                              inf   \n",
       "3                              0.307851                              inf   \n",
       "4                              0.473072                              inf   \n",
       "\n",
       "  steady_states_ratio_from_mutation_to_base sample_name  \n",
       "0                                  1.000000       RNA_0  \n",
       "1                                  1.000000       RNA_1  \n",
       "2                                  1.000000       RNA_2  \n",
       "3                                  1.022150       RNA_0  \n",
       "4                                  1.065479       RNA_1  \n",
       "\n",
       "[5 rows x 83 columns]"
      ]
     },
     "execution_count": 32,
     "metadata": {},
     "output_type": "execute_result"
    }
   ],
   "source": [
    "data = pd.read_csv(fn)\n",
    "data.head()"
   ]
  },
  {
   "attachments": {},
   "cell_type": "markdown",
   "metadata": {},
   "source": [
    "Preprocess"
   ]
  },
  {
   "cell_type": "code",
   "execution_count": 33,
   "metadata": {},
   "outputs": [],
   "source": [
    "data['mutation_type'] = convert_liststr_to_list(data['mutation_type'].str)\n",
    "data['mutation_positions'] = convert_liststr_to_list(data['mutation_positions'].str)"
   ]
  },
  {
   "cell_type": "code",
   "execution_count": 7,
   "metadata": {},
   "outputs": [],
   "source": [
    "# source_dir = '/home/wadh6511/Kode/gene-circuit-glitch-prediction'\n",
    "# paths = data['path_to_template_circuit'].unique()\n",
    "# for p in paths:\n",
    "#     if type(p) != str:\n",
    "#         continue\n",
    "#     fp = os.path.join(source_dir, p)\n",
    "    \n",
    "#     p_spl = str(p.split('data/')[-1])\n",
    "#     dst = os.path.join(root_dir, 'data', 'raw', p_spl)\n",
    "#     # print(dst)\n",
    "#     shutil.copyfile(fp, dst)\n"
   ]
  },
  {
   "attachments": {},
   "cell_type": "markdown",
   "metadata": {},
   "source": [
    "## Mode 1 - string of RNA"
   ]
  },
  {
   "attachments": {},
   "cell_type": "markdown",
   "metadata": {},
   "source": [
    "Add the actual sequence pre-mutation to as a field"
   ]
  },
  {
   "cell_type": "code",
   "execution_count": 34,
   "metadata": {},
   "outputs": [],
   "source": [
    "data['mutation_species'] = data['mutation_name'].str[:5]\n",
    "data.loc[data['mutation_species'] == 'ref_c', 'mutation_species'] = None\n",
    "# data['src_sequence'] = np.nan\n",
    "\n"
   ]
  },
  {
   "attachments": {},
   "cell_type": "markdown",
   "metadata": {},
   "source": [
    "Load RNA sequences."
   ]
  },
  {
   "cell_type": "code",
   "execution_count": 36,
   "metadata": {},
   "outputs": [],
   "source": [
    "mutation_species = data['mutation_species'].unique()\n",
    "circuit_name = data['circuit_name'].unique()\n",
    "path_to_template_circuit = list(data[data['mutation_num'] > 0]['path_to_template_circuit'].unique())\n",
    "# path_to_template_circuit = jax.tree_util.tree_map(lambda x: x.replace('..', '../../synbio_morpher'),path_to_template_circuit)\n",
    "# circuit_paths = jax.tree_util.tree_map(lambda x: os.path.join(root_dir, 'data', 'raw', str(x.split('data/')[-1])), path_to_template_circuit)\n",
    "circuit_paths = jax.tree_util.tree_map(lambda x: os.path.join('..', '..', 'synbio_morpher', x), path_to_template_circuit)\n",
    "fastas = jax.tree_util.tree_map(lambda cp: load_seq_from_FASTA(cp, as_type='dict'), circuit_paths)\n",
    "fasta_d = dict(zip(circuit_name, fastas))"
   ]
  },
  {
   "cell_type": "code",
   "execution_count": 37,
   "metadata": {},
   "outputs": [],
   "source": [
    "# data['src_sequence'] = jax.tree_util.tree_map(lambda cn, ms, sn: fasta_d[cn][ms] if ms != 'ref_c' else fasta_d[cn][sn], data['circuit_name'].to_list(), data['mutation_species'].to_list(), data['sample_name'].to_list())"
   ]
  },
  {
   "attachments": {},
   "cell_type": "markdown",
   "metadata": {},
   "source": [
    "Simplify mutation_types"
   ]
  },
  {
   "cell_type": "code",
   "execution_count": 38,
   "metadata": {},
   "outputs": [
    {
     "data": {
      "text/plain": [
       "{0: 2, 1: 3, 2: 4, 3: 1, 4: 3, 5: 4, 6: 1, 7: 2, 8: 4, 9: 1, 10: 2, 11: 3}"
      ]
     },
     "execution_count": 38,
     "metadata": {},
     "output_type": "execute_result"
    }
   ],
   "source": [
    "\n",
    "\n",
    "data['mutation_types_simp'] = data['mutation_type']\n",
    "\n",
    "mutation_type_mapping = get_mutation_type_mapping('RNA')\n",
    "mutation_type_mapping_simp = {k: v for k, v in zip(mutation_type_mapping.keys(), np.arange(1, len(mutation_type_mapping)+1))}\n",
    "mutation_map_translation = {}\n",
    "for (ka, kb), v in jax.tree_util.tree_flatten_with_path(mutation_type_mapping)[0]:\n",
    "    mutation_map_translation[v] = mutation_type_mapping_simp[kb.key]\n",
    "\n",
    "data['mutation_types_simp'] = data['mutation_types_simp'].apply(lambda x: jax.tree_util.tree_map(lambda y: mutation_map_translation[y] if x else [], x))\n",
    "mutation_map_translation\n"
   ]
  },
  {
   "cell_type": "code",
   "execution_count": 39,
   "metadata": {},
   "outputs": [
    {
     "data": {
      "text/plain": [
       "array([1., 0., 0., 0., 0., 1., 3.])"
      ]
     },
     "execution_count": 39,
     "metadata": {},
     "output_type": "execute_result"
    }
   ],
   "source": [
    "def apply_values(sequence, indices, values):\n",
    "    # GCG\n",
    "    result = np.zeros(len(sequence))\n",
    "    list(map(lambda idx, val: result.__setitem__(idx, val), indices, values))\n",
    "    return result\n",
    "\n",
    "sequence = 'ABDSAFD'\n",
    "indices = (0, 5, 6)\n",
    "values = (1, 1, 3)\n",
    "\n",
    "output = apply_values(sequence, indices, values)\n",
    "output\n",
    "\n",
    "# Expected output: [1., 0., 0., 0., 0., 1., 3.]"
   ]
  },
  {
   "cell_type": "code",
   "execution_count": 40,
   "metadata": {},
   "outputs": [],
   "source": [
    "# data['mutation_types_seq'] = jax.tree_util.tree_map(lambda seq, typs, pos: apply_values(seq, pos, typs) if typs else np.zeros(len(seq)), data['src_sequence'].to_list(), data['mutation_types_simp'].to_list(), data['mutation_positions'].to_list())"
   ]
  },
  {
   "attachments": {},
   "cell_type": "markdown",
   "metadata": {},
   "source": [
    "### Combine into input"
   ]
  },
  {
   "attachments": {},
   "cell_type": "markdown",
   "metadata": {},
   "source": [
    "Circuit represented as $n$ RNA sequences"
   ]
  },
  {
   "cell_type": "code",
   "execution_count": 41,
   "metadata": {},
   "outputs": [],
   "source": [
    "\n",
    "\n",
    "def reverse_mut_mapping(mut_encoding: int, sequence_type: str = 'RNA'):\n",
    "    for k, v in get_mutation_type_mapping(sequence_type).items():\n",
    "        if mut_encoding in list(v.values()):\n",
    "            for mut, enc in v.items():\n",
    "                if enc == mut_encoding:\n",
    "                    return mut\n",
    "    raise ValueError(\n",
    "        f'Could not find mutation for mapping key {mut_encoding}.')\n",
    "    \n",
    "def apply_values(sequence, indices, values):\n",
    "    result = np.array(list(sequence))\n",
    "    list(map(lambda idx, val: result.__setitem__(idx, val), indices, values))\n",
    "    return ''.join(result)\n",
    "# data['src_sequence'] = jax.tree_util.tree_map(lambda cn, ms, sn: fasta_d[cn][ms] if ms != 'ref_c' else fasta_d[cn][sn], data['circuit_name'].to_list(), data['mutation_species'].to_list(), data['sample_name'].to_list())\n",
    "\n",
    "d = {v: v for v in jax.tree_util.tree_flatten(get_mutation_type_mapping('RNA'))[0]}\n",
    "mutation_type_mapping_rev = jax.tree_util.tree_map(lambda x: reverse_mut_mapping(x), d)\n",
    "\n"
   ]
  },
  {
   "cell_type": "code",
   "execution_count": null,
   "metadata": {},
   "outputs": [],
   "source": [
    "[data[x].iloc[:5].to_list() for x in ['circuit_name', 'sample_name', 'mutation_species', 'mutation_positions', 'mutation_type_explicit']]"
   ]
  },
  {
   "cell_type": "code",
   "execution_count": 43,
   "metadata": {},
   "outputs": [],
   "source": [
    "data['mutation_type_explicit'] = jax.tree_util.tree_map(lambda mt: mutation_type_mapping_rev[mt], data['mutation_type'].to_list())\n",
    "data['sample_seq'] = jax.tree_util.tree_map(lambda cn, sn, ms, mp, mt: fasta_d[cn][sn] if sn != ms else apply_values(fasta_d[cn][sn], mp, mt), \n",
    "                                            *[data[x].to_list() for x in ['circuit_name', 'sample_name', 'mutation_species', 'mutation_positions', 'mutation_type_explicit']])\n",
    "# data['sample_seq'] = jax.tree_util.tree_map(lambda cn, sn: fasta_d[cn][sn], data['circuit_name'].to_list(), data['sample_name'].to_list())"
   ]
  },
  {
   "cell_type": "code",
   "execution_count": null,
   "metadata": {},
   "outputs": [],
   "source": [
    "\n",
    "\n",
    "# data['sample_seq_mut'] = jax.tree_util.tree_map(\n",
    "#     lambda ms, sn, seq, mp, mt: apply_values(seq, mp, [mutation_type_mapping_rev[t] for t in mt]) if mp and ms == sn else seq, \n",
    "#     *[data[x].to_list() for x in ['mutation_species', 'sample_name', 'sample_seq', 'mutation_positions', 'mutation_type']])\n"
   ]
  },
  {
   "attachments": {},
   "cell_type": "markdown",
   "metadata": {},
   "source": [
    "## Labels\n",
    "\n",
    "For now, we will discretise the labels on a log scale to accommodate sensitivity and precision. "
   ]
  },
  {
   "cell_type": "code",
   "execution_count": 44,
   "metadata": {},
   "outputs": [
    {
     "data": {
      "text/plain": [
       "0          1.000000\n",
       "1          1.000000\n",
       "2          1.000000\n",
       "3          1.000000\n",
       "4          0.385668\n",
       "             ...   \n",
       "1628995    1.000000\n",
       "1628996    1.000000\n",
       "1628997    1.000000\n",
       "1628998    1.000000\n",
       "1628999    1.000000\n",
       "Name: sensitivity_wrt_species-6_ratio_from_mutation_to_base, Length: 1629000, dtype: float64"
      ]
     },
     "execution_count": 44,
     "metadata": {},
     "output_type": "execute_result"
    }
   ],
   "source": [
    "data['sensitivity_wrt_species-6_ratio_from_mutation_to_base']"
   ]
  },
  {
   "cell_type": "code",
   "execution_count": null,
   "metadata": {},
   "outputs": [],
   "source": [
    "from synbio_morpher.utils.results.analytics.naming import get_true_names_analytics\n",
    "\n",
    "get_true_names_analytics(data)"
   ]
  },
  {
   "cell_type": "code",
   "execution_count": 46,
   "metadata": {},
   "outputs": [
    {
     "name": "stdout",
     "output_type": "stream",
     "text": [
      "Making directory  ../data/processed/ensemble_mutation_effect_analysis/2023_07_17_105328\n"
     ]
    }
   ],
   "source": [
    "dirlist = [root_dir, 'data', 'processed'] + fn.split('raw/')[-1].split(os.sep)\n",
    "for i, d in enumerate(dirlist[:-1]):\n",
    "    if not os.path.isdir(os.path.join(*dirlist[:i+1])):\n",
    "        print('Making directory ', os.path.join(*dirlist[:i+1]))\n",
    "        os.makedirs(os.path.join(*dirlist[:i+1]), mode=0o777)\n",
    "    \n",
    "# os.path.join(*dirlist)"
   ]
  },
  {
   "cell_type": "code",
   "execution_count": 47,
   "metadata": {},
   "outputs": [],
   "source": [
    "data[['circuit_name', 'mutation_name', 'mutation_species', 'mutation_num', 'sample_seq', 'sample_name'] + [\n",
    "    'fold_change',\n",
    "    'initial_steady_states',\n",
    "    'max_amount',\n",
    "    'min_amount',\n",
    "    'overshoot',\n",
    "    'RMSE',\n",
    "    'steady_states',\n",
    "    'response_time_wrt_species-6',\n",
    "    # 'response_time_wrt_species-6_diff_to_base_circuit',\n",
    "    'response_time_wrt_species-6_ratio_from_mutation_to_base',\n",
    "    'precision_wrt_species-6',\n",
    "    # 'precision_wrt_species-6_diff_to_base_circuit',\n",
    "    'precision_wrt_species-6_ratio_from_mutation_to_base',\n",
    "    'sensitivity_wrt_species-6',\n",
    "    # 'sensitivity_wrt_species-6_diff_to_base_circuit',\n",
    "    'sensitivity_wrt_species-6_ratio_from_mutation_to_base',\n",
    "    # 'fold_change_diff_to_base_circuit',\n",
    "    # 'initial_steady_states_diff_to_base_circuit',\n",
    "    # 'max_amount_diff_to_base_circuit',\n",
    "    # 'min_amount_diff_to_base_circuit',\n",
    "    # 'overshoot_diff_to_base_circuit',\n",
    "    # 'RMSE_diff_to_base_circuit',\n",
    "    # 'steady_states_diff_to_base_circuit',\n",
    "    'fold_change_ratio_from_mutation_to_base',\n",
    "    'initial_steady_states_ratio_from_mutation_to_base',\n",
    "    'max_amount_ratio_from_mutation_to_base',\n",
    "    'min_amount_ratio_from_mutation_to_base',\n",
    "    'overshoot_ratio_from_mutation_to_base',\n",
    "    # 'RMSE_ratio_from_mutation_to_base',\n",
    "    'steady_states_ratio_from_mutation_to_base'\n",
    "]].to_csv(os.path.join(*dirlist))"
   ]
  }
 ],
 "metadata": {
  "kernelspec": {
   "display_name": "env_evo",
   "language": "python",
   "name": "python3"
  },
  "language_info": {
   "codemirror_mode": {
    "name": "ipython",
    "version": 3
   },
   "file_extension": ".py",
   "mimetype": "text/x-python",
   "name": "python",
   "nbconvert_exporter": "python",
   "pygments_lexer": "ipython3",
   "version": "3.9.16"
  },
  "orig_nbformat": 4
 },
 "nbformat": 4,
 "nbformat_minor": 2
}
