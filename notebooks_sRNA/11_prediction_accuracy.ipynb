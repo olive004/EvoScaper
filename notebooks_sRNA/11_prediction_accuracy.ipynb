{
 "cells": [
  {
   "cell_type": "code",
   "execution_count": null,
   "metadata": {},
   "outputs": [],
   "source": [
    "%load_ext autoreload\n",
    "%autoreload 2"
   ]
  },
  {
   "cell_type": "markdown",
   "metadata": {},
   "source": [
    "# Hfq competition modelling in E. coli\n",
    "\n",
    "Goal\n",
    "1. understand how Hfq competition changes the dynamics of sRNA networks\n",
    "2. is Hfq a limiting factor\n",
    "    - or are there some sRNAs that are more limiting\n",
    "3. which interactions are most sensitive to Hfq\n",
    "4. is activation / repression more sensitive to Hfq limitation\n",
    "5. Hfq binding\n",
    "    - AU binding site prediction\n",
    "    - Can we predict how Hfq is going to bind to an RNA\n",
    "    - can we predict if Hfq is going to recruit RNAse E with an sRNA\n",
    "6. mutational sensitivity\n",
    "    - are there mutations that both disrupt the key AU content and the sRNA functionality\n",
    "    - AU site predi\n",
    "\n",
    "Expectations\n",
    "\n"
   ]
  },
  {
   "cell_type": "markdown",
   "metadata": {},
   "source": [
    "## Imports"
   ]
  },
  {
   "cell_type": "code",
   "execution_count": null,
   "metadata": {},
   "outputs": [],
   "source": []
  }
 ],
 "metadata": {
  "language_info": {
   "name": "python"
  }
 },
 "nbformat": 4,
 "nbformat_minor": 2
}
