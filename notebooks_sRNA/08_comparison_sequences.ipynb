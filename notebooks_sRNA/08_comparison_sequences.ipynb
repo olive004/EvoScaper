{
 "cells": [
  {
   "cell_type": "code",
   "execution_count": 8,
   "metadata": {},
   "outputs": [],
   "source": [
    "%load_ext autoreload\n",
    "%autoreload 2"
   ]
  },
  {
   "cell_type": "markdown",
   "metadata": {},
   "source": [
    "# Comparison of binding sequences for documented and predicted sRNA-mRNA interactions"
   ]
  },
  {
   "cell_type": "markdown",
   "metadata": {},
   "source": [
    "## Imports"
   ]
  },
  {
   "cell_type": "code",
   "execution_count": 9,
   "metadata": {},
   "outputs": [],
   "source": [
    "import os\n",
    "import pandas as pd\n",
    "\n",
    "from synbio_morpher.utils.misc.type_handling import flatten_listlike\n",
    "from synbio_morpher.utils.data.data_format_tools.common import load_json_as_dict\n",
    "from synbio_morpher.srv.io.manage.script_manager import script_preamble\n",
    "\n",
    "import seaborn as sns\n",
    "import matplotlib.pyplot as plt\n",
    "import numpy as np\n",
    "import jax\n",
    "import subprocess\n",
    "\n"
   ]
  },
  {
   "cell_type": "markdown",
   "metadata": {},
   "source": [
    "# Load data"
   ]
  },
  {
   "cell_type": "markdown",
   "metadata": {},
   "source": [
    "### Database"
   ]
  },
  {
   "cell_type": "code",
   "execution_count": 10,
   "metadata": {},
   "outputs": [],
   "source": [
    "fn_RNAInter = os.path.join('..', 'data', 'sRNA', 'RNAInter', 'Download_data_RR.csv')\n",
    "fn_merged = os.path.join('..', 'data', 'sRNA', 'merged_EcoCyc_RNAInter.csv')\n",
    "data = pd.read_csv(fn_RNAInter)\n",
    "merged = pd.read_csv(fn_merged)\n",
    "try:\n",
    "    data = data.drop(columns=['Unnamed: 0'])\n",
    "    merged = merged.drop(columns=['Unnamed: 0'])\n",
    "except:\n",
    "    pass\n"
   ]
  },
  {
   "cell_type": "markdown",
   "metadata": {},
   "source": [
    "### Predicted interactions"
   ]
  },
  {
   "cell_type": "code",
   "execution_count": 11,
   "metadata": {},
   "outputs": [
    {
     "data": {
      "text/plain": [
       "['id1', 'id2', 'E', 'E_norm', 'bpList', 'hybridDPfull']"
      ]
     },
     "execution_count": 11,
     "metadata": {},
     "output_type": "execute_result"
    }
   ],
   "source": [
    "fn = './data/05_orthogonality_mRNA_official/2023_11_21_095238/inter_data_raw.json'\n",
    "\n",
    "sim_data_l = load_json_as_dict(fn)\n",
    "\n",
    "k1 = list(sim_data_l.keys())[0]\n",
    "k2 = list(sim_data_l[k1].keys())[0]\n",
    "header = list(sim_data_l[k1][k2].keys())\n",
    "default_vals = {\n",
    "    'id1': '', 'id2': '', 'E': 0.0, 'E_norm': 0.0, 'bpList': '', 'hybridDPfull': ''\n",
    "}\n",
    "for s, v in sim_data_l.items():\n",
    "    if len(v.values()) < len(sim_data_l[k1]):\n",
    "        diffs = set(sim_data_l[k1].keys()) - set(v.keys())\n",
    "        for d in diffs:\n",
    "            sim_data_l[s][d] = default_vals\n",
    "        \n",
    "header"
   ]
  },
  {
   "cell_type": "markdown",
   "metadata": {},
   "source": [
    "# Get interaction subsequences "
   ]
  },
  {
   "cell_type": "code",
   "execution_count": 12,
   "metadata": {},
   "outputs": [
    {
     "data": {
      "text/html": [
       "<div>\n",
       "<style scoped>\n",
       "    .dataframe tbody tr th:only-of-type {\n",
       "        vertical-align: middle;\n",
       "    }\n",
       "\n",
       "    .dataframe tbody tr th {\n",
       "        vertical-align: top;\n",
       "    }\n",
       "\n",
       "    .dataframe thead th {\n",
       "        text-align: right;\n",
       "    }\n",
       "</style>\n",
       "<table border=\"1\" class=\"dataframe\">\n",
       "  <thead>\n",
       "    <tr style=\"text-align: right;\">\n",
       "      <th></th>\n",
       "      <th>Name</th>\n",
       "      <th>ID</th>\n",
       "      <th>Category</th>\n",
       "      <th>Symbol</th>\n",
       "      <th>Sequence</th>\n",
       "      <th>Database</th>\n",
       "    </tr>\n",
       "  </thead>\n",
       "  <tbody>\n",
       "    <tr>\n",
       "      <th>0</th>\n",
       "      <td>acnA</td>\n",
       "      <td>NCBI:946724</td>\n",
       "      <td>mRNA</td>\n",
       "      <td>acnA</td>\n",
       "      <td>ATTCGGAACGAGGCCTGAAGCAGTGTCGCCGTCCCTCTGCCTTGCA...</td>\n",
       "      <td>RNAInter</td>\n",
       "    </tr>\n",
       "    <tr>\n",
       "      <th>1</th>\n",
       "      <td>acrZ</td>\n",
       "      <td>NCBI:945365</td>\n",
       "      <td>mRNA</td>\n",
       "      <td>acrZ</td>\n",
       "      <td>ACTTACTACTGTCTTCGGGGGGTCCGAGGTTTCTGGGGGGTCGTAC...</td>\n",
       "      <td>RNAInter</td>\n",
       "    </tr>\n",
       "    <tr>\n",
       "      <th>2</th>\n",
       "      <td>arcZ</td>\n",
       "      <td>NCBI:2847690</td>\n",
       "      <td>sRNA</td>\n",
       "      <td>arcZ</td>\n",
       "      <td>CTCATGTTGACCGCTTGTTTAGCAGCTTCAAGGAAGCTGAAGGGCA...</td>\n",
       "      <td>RNAInter</td>\n",
       "    </tr>\n",
       "    <tr>\n",
       "      <th>3</th>\n",
       "      <td>argR</td>\n",
       "      <td>NCBI:947861</td>\n",
       "      <td>mRNA</td>\n",
       "      <td>argR</td>\n",
       "      <td>GACAATGGCGATAGTATGGCGGTTGTTTCTTTCCCATCTCTACTCA...</td>\n",
       "      <td>RNAInter</td>\n",
       "    </tr>\n",
       "    <tr>\n",
       "      <th>4</th>\n",
       "      <td>arrS</td>\n",
       "      <td>NCBI:11115378</td>\n",
       "      <td>sRNA</td>\n",
       "      <td>arrS</td>\n",
       "      <td>CTCTCCCTCTCTTTCTCTCTTCTCCGCGGCGATACGATCCGAGATG...</td>\n",
       "      <td>RNAInter</td>\n",
       "    </tr>\n",
       "    <tr>\n",
       "      <th>...</th>\n",
       "      <td>...</td>\n",
       "      <td>...</td>\n",
       "      <td>...</td>\n",
       "      <td>...</td>\n",
       "      <td>...</td>\n",
       "      <td>...</td>\n",
       "    </tr>\n",
       "    <tr>\n",
       "      <th>344</th>\n",
       "      <td>small regulatory RNA SroC</td>\n",
       "      <td>RNA0-124</td>\n",
       "      <td>sRNA</td>\n",
       "      <td>sroC</td>\n",
       "      <td>ACTAATTACAAGAACCAGGGGCGGAAATTCCAGCCCTCTCGATTGT...</td>\n",
       "      <td>EcoCyc</td>\n",
       "    </tr>\n",
       "    <tr>\n",
       "      <th>345</th>\n",
       "      <td>small regulatory RNA ZbiJ</td>\n",
       "      <td>RNA0-417</td>\n",
       "      <td>sRNA</td>\n",
       "      <td>zbiJ</td>\n",
       "      <td>TTTCCCTGTCTGTTTGCCGACAGACGCATATGCTCTAACCCTCATT...</td>\n",
       "      <td>EcoCyc</td>\n",
       "    </tr>\n",
       "    <tr>\n",
       "      <th>346</th>\n",
       "      <td>small RNA SibB</td>\n",
       "      <td>RYED-RNA</td>\n",
       "      <td>sRNA</td>\n",
       "      <td>sibB</td>\n",
       "      <td>GAGGGTAGAGCGGGGTTTCCCCCGCCCTGGTAGTCTTAGTAAGCGG...</td>\n",
       "      <td>EcoCyc</td>\n",
       "    </tr>\n",
       "    <tr>\n",
       "      <th>347</th>\n",
       "      <td>small RNA SibD</td>\n",
       "      <td>C0730-RNA</td>\n",
       "      <td>sRNA</td>\n",
       "      <td>sibD</td>\n",
       "      <td>ACAAGGGTGAGGGAGGATTTCTCCCCCCTCTGATTGGCTGTTAATA...</td>\n",
       "      <td>EcoCyc</td>\n",
       "    </tr>\n",
       "    <tr>\n",
       "      <th>348</th>\n",
       "      <td>small RNA SibE</td>\n",
       "      <td>RNA0-332</td>\n",
       "      <td>sRNA</td>\n",
       "      <td>sibE</td>\n",
       "      <td>ACAAGGGTAAGGGAGGATTTCTCCCCCCTCTGATGAGTTGTTAGTA...</td>\n",
       "      <td>EcoCyc</td>\n",
       "    </tr>\n",
       "  </tbody>\n",
       "</table>\n",
       "<p>349 rows × 6 columns</p>\n",
       "</div>"
      ],
      "text/plain": [
       "                          Name             ID Category Symbol  \\\n",
       "0                         acnA    NCBI:946724     mRNA   acnA   \n",
       "1                         acrZ    NCBI:945365     mRNA   acrZ   \n",
       "2                         arcZ   NCBI:2847690     sRNA   arcZ   \n",
       "3                         argR    NCBI:947861     mRNA   argR   \n",
       "4                         arrS  NCBI:11115378     sRNA   arrS   \n",
       "..                         ...            ...      ...    ...   \n",
       "344  small regulatory RNA SroC       RNA0-124     sRNA   sroC   \n",
       "345  small regulatory RNA ZbiJ       RNA0-417     sRNA   zbiJ   \n",
       "346             small RNA SibB       RYED-RNA     sRNA   sibB   \n",
       "347             small RNA SibD      C0730-RNA     sRNA   sibD   \n",
       "348             small RNA SibE       RNA0-332     sRNA   sibE   \n",
       "\n",
       "                                              Sequence  Database  \n",
       "0    ATTCGGAACGAGGCCTGAAGCAGTGTCGCCGTCCCTCTGCCTTGCA...  RNAInter  \n",
       "1    ACTTACTACTGTCTTCGGGGGGTCCGAGGTTTCTGGGGGGTCGTAC...  RNAInter  \n",
       "2    CTCATGTTGACCGCTTGTTTAGCAGCTTCAAGGAAGCTGAAGGGCA...  RNAInter  \n",
       "3    GACAATGGCGATAGTATGGCGGTTGTTTCTTTCCCATCTCTACTCA...  RNAInter  \n",
       "4    CTCTCCCTCTCTTTCTCTCTTCTCCGCGGCGATACGATCCGAGATG...  RNAInter  \n",
       "..                                                 ...       ...  \n",
       "344  ACTAATTACAAGAACCAGGGGCGGAAATTCCAGCCCTCTCGATTGT...    EcoCyc  \n",
       "345  TTTCCCTGTCTGTTTGCCGACAGACGCATATGCTCTAACCCTCATT...    EcoCyc  \n",
       "346  GAGGGTAGAGCGGGGTTTCCCCCGCCCTGGTAGTCTTAGTAAGCGG...    EcoCyc  \n",
       "347  ACAAGGGTGAGGGAGGATTTCTCCCCCCTCTGATTGGCTGTTAATA...    EcoCyc  \n",
       "348  ACAAGGGTAAGGGAGGATTTCTCCCCCCTCTGATGAGTTGTTAGTA...    EcoCyc  \n",
       "\n",
       "[349 rows x 6 columns]"
      ]
     },
     "execution_count": 12,
     "metadata": {},
     "output_type": "execute_result"
    }
   ],
   "source": [
    "merged"
   ]
  },
  {
   "cell_type": "code",
   "execution_count": 13,
   "metadata": {},
   "outputs": [],
   "source": [
    "def process_bplist(bplist, idx):\n",
    "    return [int(i.replace(')', ',').split(',')[idx]) for i in bplist.split('(')[1:]]\n",
    "\n",
    "\n",
    "def create_groups(x, y):\n",
    "    \"\"\" CGPT \"\"\"\n",
    "    groups = []\n",
    "    group = []\n",
    "    for i, num in enumerate(x):\n",
    "        if i in y:\n",
    "            if group:\n",
    "                groups.append(group)\n",
    "                group = []\n",
    "            group.append(num)\n",
    "        else:\n",
    "            group.append(num)\n",
    "    groups.append(group)\n",
    "    return groups"
   ]
  },
  {
   "cell_type": "code",
   "execution_count": 14,
   "metadata": {},
   "outputs": [],
   "source": [
    "for k1 in sim_data_l:\n",
    "    for k2, v in sim_data_l[k1].items():\n",
    "        if v['id1'] == '' or v['id2'] == '':\n",
    "            sim_data_l[k1][k2]['subsequence_groups'] = []\n",
    "            continue\n",
    "        seq1, cat1 = merged[(merged['Name'] == v['id1']) | (merged['Symbol'] == v['id1'])][['Sequence', 'Category']].iloc[0].to_list()\n",
    "        seq2, cat2 = merged[(merged['Name'] == v['id2']) | (merged['Symbol'] == v['id2'])][['Sequence', 'Category']].iloc[0].to_list()\n",
    "        \n",
    "        if (cat1 == 'mRNA') and (cat2 == 'mRNA'):\n",
    "            print(k1, k2)\n",
    "            break\n",
    "        \n",
    "        subsequence, i = (seq1, 0) if cat1 == 'mRNA' else (seq2, 1)\n",
    "        idxs = np.array(sorted(process_bplist(v['bpList'], i)))\n",
    "        breakup = np.where(idxs[1:] - idxs[:-1] > 1)[0] + 1\n",
    "        subsequence_groups = []\n",
    "        for g in create_groups(idxs, breakup):\n",
    "            subsequence_groups.append(''.join(np.array(list(subsequence))[np.array(g) - 1]))\n",
    "        \n",
    "        sim_data_l[k1][k2]['subsequence_groups'] = subsequence_groups\n",
    "        "
   ]
  },
  {
   "cell_type": "code",
   "execution_count": 15,
   "metadata": {},
   "outputs": [
    {
     "data": {
      "text/plain": [
       "['CTCA', 'C', 'CACCT', 'GTGGG', 'CCAGCACACT', 'TCGGAGGCCA', 'GC']"
      ]
     },
     "execution_count": 15,
     "metadata": {},
     "output_type": "execute_result"
    }
   ],
   "source": [
    "sim_data_l['arcZ']['acnA']['subsequence_groups']"
   ]
  },
  {
   "cell_type": "markdown",
   "metadata": {},
   "source": [
    "# Run bpRNA on all sequences"
   ]
  },
  {
   "cell_type": "code",
   "execution_count": 16,
   "metadata": {},
   "outputs": [],
   "source": [
    "config = {\n",
    "    \"experiment\": {\n",
    "        \"purpose\": \"tests\",\n",
    "        \"no_visualisations\": False,\n",
    "        \"no_numerical\": False,\n",
    "        \"debug_mode\": False\n",
    "    }\n",
    "}\n",
    "data_writer = None\n",
    "config, data_writer = script_preamble(config, data_writer)"
   ]
  },
  {
   "cell_type": "code",
   "execution_count": 80,
   "metadata": {},
   "outputs": [
    {
     "name": "stderr",
     "output_type": "stream",
     "text": [
      "zone3 at ./bpRNA.pl line 1566, <IN> line 3.\n",
      "zone3 at ./bpRNA.pl line 1566, <IN> line 3.\n",
      "zone3 at ./bpRNA.pl line 1566, <IN> line 3.\n",
      "zone3 at ./bpRNA.pl line 1566, <IN> line 3.\n",
      "zone3 at ./bpRNA.pl line 1566, <IN> line 3.\n",
      "zone3 at ./bpRNA.pl line 1566, <IN> line 3.\n",
      "zone3 at ./bpRNA.pl line 1566, <IN> line 3.\n"
     ]
    }
   ],
   "source": [
    "def write_dbn(outname, outdir, id_name, seq, db):\n",
    "    fn = os.path.join(outdir, outname + '.dbn')\n",
    "    with open(fn, 'w') as f:\n",
    "        f.writelines('>' + id_name + '\\n' +\n",
    "                     seq + '\\n' +\n",
    "                     db + '\\n')\n",
    "    return fn\n",
    "\n",
    "\n",
    "# def make_db(bplist, seq_len):\n",
    "#     db = np.array(list('.' * seq_len))\n",
    "#     db[process_bplist(bplist, idx=0)] = '('\n",
    "#     db[process_bplist(bplist, idx=1)] = ')'\n",
    "#     return ''.join(db)\n",
    "\n",
    "\n",
    "def execute_perl_script(*args):\n",
    "    \"\"\" Bard \"\"\"\n",
    "    script_path = './bpRNA.pl'\n",
    "    try:\n",
    "        subprocess.run([\"perl\", script_path, *args])\n",
    "    except Exception as e:\n",
    "        print(f\"Error executing Perl script: {e}\")\n",
    "\n",
    "\n",
    "for k1 in sim_data_l:\n",
    "    data_writer.subdivide_writing('st')\n",
    "    data_writer.subdivide_writing(k1, safe_dir_change=False)\n",
    "    data_writer.unsubdivide()\n",
    "    data_writer.subdivide_writing('dbn')\n",
    "    data_writer.subdivide_writing(k1, safe_dir_change=False)\n",
    "    \n",
    "    for k2 in sim_data_l[k1]:\n",
    "        bplist = sim_data_l[k1][k2]['bpList']\n",
    "        # make_db(bplist, seq_len=len(db))\n",
    "        db = sim_data_l[k1][k2]['hybridDPfull'].replace('&', '')\n",
    "        seq = merged[merged['Symbol'] == k1]['Sequence'].iloc[0] + \\\n",
    "            merged[merged['Symbol'] == k2]['Sequence'].iloc[0]\n",
    "        fn = write_dbn(k1 + '_' + k2, data_writer.write_dir, id_name='arcZ', seq=seq, db=db)\n",
    "        execute_perl_script(fn, fn.replace('.dbn', '').replace('dbn', 'st'))"
   ]
  },
  {
   "cell_type": "code",
   "execution_count": null,
   "metadata": {},
   "outputs": [],
   "source": [
    "import difflib\n",
    "\n",
    "def longest_common_substring(x, y):\n",
    "    \"\"\" Bard \"\"\"\n",
    "    # Create a sequence matcher object\n",
    "    matcher = difflib.SequenceMatcher(None, x, y)\n",
    "\n",
    "    # Find the longest common substring match\n",
    "    match = matcher.find_longest_match()\n",
    "\n",
    "    # Extract the longest common substring\n",
    "    if match.size != 0:\n",
    "        substring = x[match.a:match.a + match.size]\n",
    "        return substring\n",
    "    else:\n",
    "        return \"\"\n",
    "    "
   ]
  },
  {
   "cell_type": "code",
   "execution_count": null,
   "metadata": {},
   "outputs": [],
   "source": [
    "# motifs = {}\n",
    "# for s in sim_data_l:\n",
    "    \n",
    "#     subsequences = flatten_listlike([[vv['subsequence_groups'] for vv in v.values()] for v in sim_data_l.values()])\n",
    "    \n",
    "#     motifs[s] = []\n",
    "#     for subseq1 in subsequences:\n",
    "#         for subseq2 in subsequences:\n",
    "        \n",
    "#             if subseq1 != subseq2:\n",
    "#                 motifs[s].append(longest_common_substring(subseq1, subseq2))\n",
    "    "
   ]
  },
  {
   "cell_type": "code",
   "execution_count": null,
   "metadata": {},
   "outputs": [],
   "source": []
  }
 ],
 "metadata": {
  "kernelspec": {
   "display_name": "env_evo",
   "language": "python",
   "name": "python3"
  },
  "language_info": {
   "codemirror_mode": {
    "name": "ipython",
    "version": 3
   },
   "file_extension": ".py",
   "mimetype": "text/x-python",
   "name": "python",
   "nbconvert_exporter": "python",
   "pygments_lexer": "ipython3",
   "version": "3.10.12"
  }
 },
 "nbformat": 4,
 "nbformat_minor": 2
}
