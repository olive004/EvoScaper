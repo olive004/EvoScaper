{
 "cells": [
  {
   "cell_type": "code",
   "execution_count": 1,
   "metadata": {},
   "outputs": [],
   "source": [
    "%load_ext autoreload\n",
    "%autoreload 2"
   ]
  },
  {
   "cell_type": "markdown",
   "metadata": {},
   "source": [
    "# Download and process Lenski dataset"
   ]
  },
  {
   "cell_type": "markdown",
   "metadata": {},
   "source": [
    "## Imports"
   ]
  },
  {
   "cell_type": "code",
   "execution_count": 2,
   "metadata": {},
   "outputs": [],
   "source": [
    "from synbio_morpher.utils.data.data_format_tools.manipulate_fasta import load_seq_from_FASTA\n"
   ]
  },
  {
   "cell_type": "code",
   "execution_count": 4,
   "metadata": {},
   "outputs": [
    {
     "data": {
      "text/plain": [
       "0"
      ]
     },
     "execution_count": 4,
     "metadata": {},
     "output_type": "execute_result"
    }
   ],
   "source": [
    "fn = '../data/raw/Lenski/REL10938/SRR030258.fasta'\n",
    "\n",
    "g1 = load_seq_from_FASTA(fn, as_type='dict')\n",
    "\n",
    "len(g1)"
   ]
  },
  {
   "cell_type": "code",
   "execution_count": 13,
   "metadata": {},
   "outputs": [
    {
     "name": "stdout",
     "output_type": "stream",
     "text": [
      "@SRR030258.1.1 HWI-EAS_4_PE-FC20GCB:7:1:88:712 length=36\n",
      "\n",
      "AAAAAAAAAAAAAAAAAAAAAAAAAAAAAAAAAAAA\n",
      "\n",
      "@SRR030258.1.2 HWI-EAS_4_PE-FC20GCB:7:1:88:712 length=36\n",
      "\n",
      "AAAAAAAAAAAAAAAAAAAAAAAAAAAAAAAAAAAA\n",
      "\n",
      "@SRR030258.2.1 HWI-EAS_4_PE-FC20GCB:7:1:86:887 length=36\n",
      "\n",
      "AAAAAAAAAAAAAAAAAAAAAAAAAAAAAAAAAAAA\n",
      "\n",
      "@SRR030258.2.2 HWI-EAS_4_PE-FC20GCB:7:1:86:887 length=36\n",
      "\n",
      "AAAAAAAAAAAAAAAAAAAAAAAAAAAAAAAAAAAA\n",
      "\n",
      "@SRR030258.3.1 HWI-EAS_4_PE-FC20GCB:7:1:86:727 length=36\n",
      "\n",
      "AAAAAAAAAAAAAAAAAAAAAAAAAAAAAAAAAAAA\n",
      "\n"
     ]
    }
   ],
   "source": [
    "with open(fn, 'r') as f:\n",
    "    i = 0\n",
    "    for l in f:\n",
    "        print(l)\n",
    "        i += 1\n",
    "        if i == 10:\n",
    "            break"
   ]
  },
  {
   "cell_type": "code",
   "execution_count": null,
   "metadata": {},
   "outputs": [],
   "source": [
    "g1 = 'CGCAAAGCGGACGTGGTTCCTACTGGAGTGCGCATAACGAACACAAGCACTCCCGTGGATAAATTGAGAACGAAAGATCAAAAAAAAA'\n",
    "g1 = 'GCGTTTCGCCTGCACCAAGGATGACCTCACGCGTATTGCTTGTGTTCGTGAGGGCACCTATTTAACTCTTGCTTTCTAGTTTTTTTTT'\n",
    "go = 'GCGATCAGGAAGACCCTCGCGGAGAACCTGAAAGCACGACATTGCTCACATTGCTTCCAGTATTACTTAGCCAGCCGGGTGCTGGCTTTTTTTTT'"
   ]
  },
  {
   "cell_type": "code",
   "execution_count": null,
   "metadata": {},
   "outputs": [],
   "source": [
    "from Bio import AlignIO"
   ]
  }
 ],
 "metadata": {
  "kernelspec": {
   "display_name": "env_evo",
   "language": "python",
   "name": "python3"
  },
  "language_info": {
   "codemirror_mode": {
    "name": "ipython",
    "version": 3
   },
   "file_extension": ".py",
   "mimetype": "text/x-python",
   "name": "python",
   "nbconvert_exporter": "python",
   "pygments_lexer": "ipython3",
   "version": "3.8.10"
  }
 },
 "nbformat": 4,
 "nbformat_minor": 2
}
