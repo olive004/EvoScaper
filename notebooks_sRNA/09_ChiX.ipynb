{
 "cells": [
  {
   "cell_type": "code",
   "execution_count": 11,
   "metadata": {},
   "outputs": [
    {
     "name": "stdout",
     "output_type": "stream",
     "text": [
      "The autoreload extension is already loaded. To reload it, use:\n",
      "  %reload_ext autoreload\n"
     ]
    }
   ],
   "source": [
    "%load_ext autoreload\n",
    "%autoreload 2"
   ]
  },
  {
   "cell_type": "markdown",
   "metadata": {},
   "source": [
    "# Examining ChiX"
   ]
  },
  {
   "cell_type": "markdown",
   "metadata": {},
   "source": [
    "## Imports"
   ]
  },
  {
   "cell_type": "code",
   "execution_count": 12,
   "metadata": {},
   "outputs": [],
   "source": [
    "import ViennaRNA\n",
    "from varnaapi import Structure\n",
    "import os\n",
    "from synbio_morpher.utils.data.data_format_tools.manipulate_fasta import load_seq_from_FASTA\n",
    "\n",
    "import numpy as np\n",
    "import pandas as pd"
   ]
  },
  {
   "cell_type": "code",
   "execution_count": 13,
   "metadata": {},
   "outputs": [],
   "source": [
    "fn = os.path.join('..', 'data', 'sRNA', 'merged_inter.csv')\n",
    "fn_merged = os.path.join('..', 'data', 'sRNA', 'merged_EcoCyc_RNAInter_sRNATarBase.csv')\n",
    "data = pd.read_csv(fn)\n",
    "data_merged = pd.read_csv(fn_merged)\n",
    "\n",
    "try:\n",
    "    data = data.drop(columns='Unnamed: 0')\n",
    "    data_merged = data_merged.drop(columns='Unnamed: 0')\n",
    "except:\n",
    "    pass"
   ]
  },
  {
   "cell_type": "code",
   "execution_count": 14,
   "metadata": {},
   "outputs": [],
   "source": [
    "chix = data[(data['Interactor 1'] == 'chiX') | (data['Interactor 2'] == 'chiX')]"
   ]
  },
  {
   "cell_type": "code",
   "execution_count": 15,
   "metadata": {},
   "outputs": [
    {
     "name": "stdout",
     "output_type": "stream",
     "text": [
      "['java', '-cp', './VARNAv3-93.jar', 'fr.orsay.lri.varna.applications.VARNAcmd', '-sequenceDBN', 'ACACCGTCGCTTAAAGTGACGGCATAATAATAAAAAAATGAAATTCCTCTTTGACGGGCCAATAGCGATATTGGCCATTTTTTT', '-structureDBN', '...((((((((...)))))))).........(((((((((.....((........))(((((((....))))))))))))))))', '-o', '/tmp/tmpbvpcczym.png', '-resolution', '3']\n"
     ]
    }
   ],
   "source": [
    "s = ''\n",
    "# ChiX\n",
    "seq = chix['Sequence 1'].iloc[0] if chix['Interactor 1'].iloc[0] == 'chiX' else chix['Sequence 2'].iloc[0]\n",
    "folded = ViennaRNA.fold(seq, s)\n",
    "folded\n",
    "\n",
    "try:\n",
    "    v = Structure(structure=folded[0], sequence=seq)\n",
    "    v._params['resolution'] = 3\n",
    "    v.show()\n",
    "except FileNotFoundError:\n",
    "    pass\n",
    "# v.savefig(\"example.png\", show=True)"
   ]
  },
  {
   "cell_type": "markdown",
   "metadata": {},
   "source": [
    "# Scott's mutations"
   ]
  },
  {
   "cell_type": "code",
   "execution_count": 16,
   "metadata": {},
   "outputs": [],
   "source": [
    "fn_mutations = os.path.join('data', 'scott_mutations.fasta')\n",
    "\n",
    "muts = load_seq_from_FASTA(fn_mutations, as_type='dict')\n"
   ]
  },
  {
   "cell_type": "code",
   "execution_count": 17,
   "metadata": {},
   "outputs": [
    {
     "name": "stdout",
     "output_type": "stream",
     "text": [
      "Synthetic sequence \t ACACCGTCGCTTAAAGTGACGGCATAATAATAAAAAAATGAAATTCTTCTCCTTTACGCATATGGCCAATAGCGATATTGGCCATTTTTTT\n",
      "Normal sequence \t ACACCGTCGCTTAAAGTGACGGCATAATAATAAAAAAATGAAATTCCTCTTTGACGGGCCAATAGCGATATTGGCCATTTTTTT\n"
     ]
    }
   ],
   "source": [
    "print('Synthetic sequence \\t', muts['Syn_ChiX_20-D'])\n",
    "print('Normal sequence \\t', chix['Sequence 1'].iloc[0] if chix['Interactor 1'].iloc[0] == 'chiX' else chix['Sequence 2'].iloc[0])"
   ]
  },
  {
   "cell_type": "code",
   "execution_count": 18,
   "metadata": {},
   "outputs": [
    {
     "name": "stdout",
     "output_type": "stream",
     "text": [
      "['java', '-cp', './VARNAv3-93.jar', 'fr.orsay.lri.varna.applications.VARNAcmd', '-sequenceDBN', 'ACACCGTCGCTTAAAGTGACGGCATAATAATAAAAAAATGAAATTCTTCTCCTTTACGCATATGGCCAATAGCGATATTGGCCATTTTTTT', '-structureDBN', '...((((((((...)))))))).......................................((((((((((....))))))))))......', '-o', '/tmp/tmpfe7kucyw.png', '-resolution', '3']\n"
     ]
    }
   ],
   "source": [
    "s = ''\n",
    "# Synthetic ChiX\n",
    "seq = muts['Syn_ChiX_20-D']\n",
    "folded = ViennaRNA.fold(seq, s)\n",
    "folded\n",
    "\n",
    "try:\n",
    "    v = Structure(structure=folded[0], sequence=seq)\n",
    "    v._params['resolution'] = 3\n",
    "    v.show()\n",
    "except FileNotFoundError:\n",
    "    pass\n",
    "\n",
    "# v.savefig(\"example.png\", show=True)"
   ]
  },
  {
   "cell_type": "code",
   "execution_count": 19,
   "metadata": {},
   "outputs": [
    {
     "data": {
      "text/html": [
       "<div>\n",
       "<style scoped>\n",
       "    .dataframe tbody tr th:only-of-type {\n",
       "        vertical-align: middle;\n",
       "    }\n",
       "\n",
       "    .dataframe tbody tr th {\n",
       "        vertical-align: top;\n",
       "    }\n",
       "\n",
       "    .dataframe thead th {\n",
       "        text-align: right;\n",
       "    }\n",
       "</style>\n",
       "<table border=\"1\" class=\"dataframe\">\n",
       "  <thead>\n",
       "    <tr style=\"text-align: right;\">\n",
       "      <th></th>\n",
       "      <th>Interactor 1</th>\n",
       "      <th>Interactor 2</th>\n",
       "      <th>ID 1</th>\n",
       "      <th>ID 2</th>\n",
       "      <th>Category 1</th>\n",
       "      <th>Category 2</th>\n",
       "      <th>Regulation</th>\n",
       "      <th>Binding position 1</th>\n",
       "      <th>Binding position 2</th>\n",
       "      <th>Sequence 1</th>\n",
       "      <th>Sequence 2</th>\n",
       "      <th>Source DB</th>\n",
       "    </tr>\n",
       "  </thead>\n",
       "  <tbody>\n",
       "    <tr>\n",
       "      <th>279</th>\n",
       "      <td>chiX</td>\n",
       "      <td>rpoS</td>\n",
       "      <td>chromosome:NC_000913.3, Gene ID:5061500</td>\n",
       "      <td>chromosome:NC_000913.3, Gene ID:947210</td>\n",
       "      <td>NaN</td>\n",
       "      <td>mRNA</td>\n",
       "      <td>No Interaction</td>\n",
       "      <td>['NA']</td>\n",
       "      <td>['NA']</td>\n",
       "      <td>ACACCGTCGCTTAAAGTGACGGCATAATAATAAAAAAATGAAATTC...</td>\n",
       "      <td>ATGAGTCAGAATACGCTGAAAGTTCATGATTTAAATGAAGATGCGG...</td>\n",
       "      <td>sRNATarBase</td>\n",
       "    </tr>\n",
       "    <tr>\n",
       "      <th>353</th>\n",
       "      <td>chiX</td>\n",
       "      <td>citA</td>\n",
       "      <td>chromosome:NC_000913.3, Gene ID:5061500</td>\n",
       "      <td>chromosome:NC_000913.3, Gene ID:945233</td>\n",
       "      <td>trans-encoded antisense RNA</td>\n",
       "      <td>mRNA</td>\n",
       "      <td>Repression</td>\n",
       "      <td>['46..57']</td>\n",
       "      <td>['-37..-26']</td>\n",
       "      <td>ACACCGTCGCTTAAAGTGACGGCATAATAATAAAAAAATGAAATTC...</td>\n",
       "      <td>ATGTTGCAGCTTAACGAGAATAAACAGTTTGCATTTTTCCAAAGAC...</td>\n",
       "      <td>sRNATarBase</td>\n",
       "    </tr>\n",
       "    <tr>\n",
       "      <th>374</th>\n",
       "      <td>chiX</td>\n",
       "      <td>chiP</td>\n",
       "      <td>chromosome:NC_000913.3, Gene ID:5061500</td>\n",
       "      <td>chromosome:NC_000913.3, Gene ID:945296</td>\n",
       "      <td>trans-encoded antisense RNA</td>\n",
       "      <td>mRNA</td>\n",
       "      <td>Repression</td>\n",
       "      <td>['81..92']</td>\n",
       "      <td>['45..56']</td>\n",
       "      <td>ACACCGTCGCTTAAAGTGACGGCATAATAATAAAAAAATGAAATTC...</td>\n",
       "      <td>ATGCGTACGTTTAGTGGCAAACGTAGTACGCTGGCGCTGGCTATCG...</td>\n",
       "      <td>sRNATarBase</td>\n",
       "    </tr>\n",
       "    <tr>\n",
       "      <th>408</th>\n",
       "      <td>chiX</td>\n",
       "      <td>chbC</td>\n",
       "      <td>chromosome:NC_000913.3, Gene ID:5061500</td>\n",
       "      <td>chromosome:NC_000913.3, Gene ID:945982</td>\n",
       "      <td>trans-encoded antisense RNA</td>\n",
       "      <td>mRNA</td>\n",
       "      <td>Repression</td>\n",
       "      <td>['NA']</td>\n",
       "      <td>['NA']</td>\n",
       "      <td>ACACCGTCGCTTAAAGTGACGGCATAATAATAAAAAAATGAAATTC...</td>\n",
       "      <td>ATGAGTAATGTTATTGCATCGCTTGAAAAGGTACTCCTCCCTTTTG...</td>\n",
       "      <td>sRNATarBase</td>\n",
       "    </tr>\n",
       "  </tbody>\n",
       "</table>\n",
       "</div>"
      ],
      "text/plain": [
       "    Interactor 1 Interactor 2                                     ID 1  \\\n",
       "279         chiX         rpoS  chromosome:NC_000913.3, Gene ID:5061500   \n",
       "353         chiX         citA  chromosome:NC_000913.3, Gene ID:5061500   \n",
       "374         chiX         chiP  chromosome:NC_000913.3, Gene ID:5061500   \n",
       "408         chiX         chbC  chromosome:NC_000913.3, Gene ID:5061500   \n",
       "\n",
       "                                       ID 2                   Category 1  \\\n",
       "279  chromosome:NC_000913.3, Gene ID:947210                          NaN   \n",
       "353  chromosome:NC_000913.3, Gene ID:945233  trans-encoded antisense RNA   \n",
       "374  chromosome:NC_000913.3, Gene ID:945296  trans-encoded antisense RNA   \n",
       "408  chromosome:NC_000913.3, Gene ID:945982  trans-encoded antisense RNA   \n",
       "\n",
       "    Category 2      Regulation Binding position 1 Binding position 2  \\\n",
       "279       mRNA  No Interaction             ['NA']             ['NA']   \n",
       "353       mRNA      Repression         ['46..57']       ['-37..-26']   \n",
       "374       mRNA      Repression         ['81..92']         ['45..56']   \n",
       "408       mRNA      Repression             ['NA']             ['NA']   \n",
       "\n",
       "                                            Sequence 1  \\\n",
       "279  ACACCGTCGCTTAAAGTGACGGCATAATAATAAAAAAATGAAATTC...   \n",
       "353  ACACCGTCGCTTAAAGTGACGGCATAATAATAAAAAAATGAAATTC...   \n",
       "374  ACACCGTCGCTTAAAGTGACGGCATAATAATAAAAAAATGAAATTC...   \n",
       "408  ACACCGTCGCTTAAAGTGACGGCATAATAATAAAAAAATGAAATTC...   \n",
       "\n",
       "                                            Sequence 2    Source DB  \n",
       "279  ATGAGTCAGAATACGCTGAAAGTTCATGATTTAAATGAAGATGCGG...  sRNATarBase  \n",
       "353  ATGTTGCAGCTTAACGAGAATAAACAGTTTGCATTTTTCCAAAGAC...  sRNATarBase  \n",
       "374  ATGCGTACGTTTAGTGGCAAACGTAGTACGCTGGCGCTGGCTATCG...  sRNATarBase  \n",
       "408  ATGAGTAATGTTATTGCATCGCTTGAAAAGGTACTCCTCCCTTTTG...  sRNATarBase  "
      ]
     },
     "execution_count": 19,
     "metadata": {},
     "output_type": "execute_result"
    }
   ],
   "source": [
    "chix"
   ]
  },
  {
   "cell_type": "markdown",
   "metadata": {},
   "source": [
    "# Analyse synthetic chiX binding to all targets"
   ]
  },
  {
   "cell_type": "code",
   "execution_count": 24,
   "metadata": {},
   "outputs": [
    {
     "data": {
      "text/plain": [
       "'ACACCGTCGCTTAAAGTGACGGCATAATAATAAAAAAATGAAATTCCTCTTTGACGGGCCAATAGCGATATTGGCCATTTTTTT'"
      ]
     },
     "execution_count": 24,
     "metadata": {},
     "output_type": "execute_result"
    }
   ],
   "source": [
    "chix['Sequence 1'].iloc[0]"
   ]
  },
  {
   "cell_type": "code",
   "execution_count": 25,
   "metadata": {},
   "outputs": [
    {
     "data": {
      "text/plain": [
       "'ATGAGTCAGAATACGCTGAAAGTTCATGATTTAAATGAAGATGCGGAATTTGATGAGAACGGAGTTGAGGTTTTTGACGAAAAGGCCTTAGTAGAACAGGAACCCAGTGATAACGATTTGGCCGAAGAGGAACTGTTATCGCAGGGAGCCACACAGCGTGTGTTGGACGCGACTCAGCTTTACCTTGGTGAGATTGGTTATTCACCACTGTTAACGGCCGAAGAAGAAGTTTATTTTGCGCGTCGCGCACTGCGTGGAGATGTCGCCTCTCGCCGCCGGATGATCGAGAGTAACTTGCGTCTGGTGGTAAAAATTGCCCGCCGTTATGGCAATCGTGGTCTGGCGTTGCTGGACCTTATCGAAGAGGGCAACCTGGGGCTGATCCGCGCGGTAGAGAAGTTTGACCCGGAACGTGGTTTCCGCTTCTCAACATACGCAACCTGGTGGATTCGCCAGACGATTGAACGGGCGATTATGAACCAAACCCGTACTATTCGTTTGCCGATTCACATCGTAAAGGAGCTGAACGTTTACCTGCGAACCGCACGTGAGTTGTCCCATAAGCTGGACCATGAACCAAGTGCGGAAGAGATCGCAGAGCAACTGGATAAGCCAGTTGATGACGTCAGCCGTATGCTTCGTCTTAACGAGCGCATTACCTCGGTAGACACCCCGCTGGGTGGTGATTCCGAAAAAGCGTTGCTGGACATCCTGGCCGATGAAAAAGAGAACGGTCCGGAAGATACCACGCAAGATGACGATATGAAGCAGAGCATCGTCAAATGGCTGTTCGAGCTGAACGCCAAACAGCGTGAAGTGCTGGCACGTCGATTCGGTTTGCTGGGGTACGAAGCGGCAACACTGGAAGATGTAGGTCGTGAAATTGGCCTCACCCGTGAACGTGTTCGCCAGATTCAGGTTGAAGGCCTGCGCCGTTTGCGCGAAATCCTGCAAACGCAGGGGCTGAATATCGAAGCGCTGTTCCGCGAGTAA'"
      ]
     },
     "execution_count": 25,
     "metadata": {},
     "output_type": "execute_result"
    }
   ],
   "source": [
    "chix['Sequence 2'].iloc[0]"
   ]
  },
  {
   "cell_type": "code",
   "execution_count": 20,
   "metadata": {},
   "outputs": [
    {
     "data": {
      "text/plain": [
       "['...((((((((...))))))))........................(((((((((.((((((((....))))))))............))))))............(((((.......)))))((((((...((((.(((((.((((((((((((((((.....))))))))))........((..(((.(((((((((......((.....))...))))))))).)))..)).....(((((((((.((((((....((((((..((((((((.(.((((.....)))).).))....))).)))..)))))).......))))))....((((((((((....(((((((..(((((((((((..((((.....))))))))))))))).....(((((((((.....)))..(((.((((((((...))))))))....)))...))))))...))))).)))))))))))).(((((((..((((((...)).))))...))))))))))))))))...((((((....))))))(((((((((..(((((..(((((..............))))))))))..)))).)))))..(.(.(((((.((((...((((((.((((((.((.(((((((........))))....))))).))))))......))))))..(((((((.....)))))))..)))))))))).)..))))))))))).))))))))))(((((((((((((((((....)).))))...(((((...((((.(((((((.(((.(((((.............))))).)))......(((((....(((((((............)))))))..((((.((((.....))))))))....)))))..)).)))))))))...)))))))))))))))).....((((.((((.((...(((((.((((........(((((((.((.((((..((.....))..)))))).)).)))))(((((.....)))))....(((((....)))))))))..)))))....)).)))))))))))...',\n",
       " -379.6000061035156]"
      ]
     },
     "execution_count": 20,
     "metadata": {},
     "output_type": "execute_result"
    }
   ],
   "source": [
    "s = ''\n",
    "ViennaRNA.cofold(chix['Sequence 1'].iloc[0] + '&' + chix['Sequence 2'].iloc[0], s)"
   ]
  },
  {
   "cell_type": "code",
   "execution_count": null,
   "metadata": {},
   "outputs": [],
   "source": [
    "\n",
    "\n",
    "ViennaRNA.fold()\n",
    "\n"
   ]
  }
 ],
 "metadata": {
  "kernelspec": {
   "display_name": "env_evo",
   "language": "python",
   "name": "python3"
  },
  "language_info": {
   "codemirror_mode": {
    "name": "ipython",
    "version": 3
   },
   "file_extension": ".py",
   "mimetype": "text/x-python",
   "name": "python",
   "nbconvert_exporter": "python",
   "pygments_lexer": "ipython3",
   "version": "3.10.12"
  }
 },
 "nbformat": 4,
 "nbformat_minor": 2
}
