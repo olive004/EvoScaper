{
 "cells": [
  {
   "cell_type": "code",
   "execution_count": 31,
   "metadata": {},
   "outputs": [
    {
     "name": "stdout",
     "output_type": "stream",
     "text": [
      "The autoreload extension is already loaded. To reload it, use:\n",
      "  %reload_ext autoreload\n"
     ]
    }
   ],
   "source": [
    "%load_ext autoreload\n",
    "%autoreload 2"
   ]
  },
  {
   "cell_type": "markdown",
   "metadata": {},
   "source": [
    "# Comparison of mutational robustness of sRNA's vs. randomly generated RNA"
   ]
  },
  {
   "cell_type": "markdown",
   "metadata": {},
   "source": [
    "## Imports"
   ]
  },
  {
   "cell_type": "code",
   "execution_count": 32,
   "metadata": {},
   "outputs": [
    {
     "data": {
      "text/plain": [
       "[CpuDevice(id=0)]"
      ]
     },
     "execution_count": 32,
     "metadata": {},
     "output_type": "execute_result"
    }
   ],
   "source": [
    "import os\n",
    "from Bio import SeqIO\n",
    "from Bio.SeqRecord import SeqRecord\n",
    "import pandas as pd\n",
    "\n",
    "from synbio_morpher.srv.io.manage.script_manager import script_preamble\n",
    "from synbio_morpher.utils.common.setup import construct_circuit_from_cfg, prepare_config, expand_config\n",
    "from synbio_morpher.utils.evolution.evolver import Evolver\n",
    "from synbio_morpher.utils.circuit.agnostic_circuits.circuit_manager import CircuitModeller\n",
    "\n",
    "import seaborn as sns\n",
    "import matplotlib.pyplot as plt\n",
    "import numpy as np\n",
    "import jax\n",
    "jax.config.update('jax_platform_name', 'cpu')\n",
    "\n",
    "jax.devices()\n",
    "\n"
   ]
  },
  {
   "cell_type": "code",
   "execution_count": 33,
   "metadata": {},
   "outputs": [],
   "source": [
    "fn = '../data/sRNA/merged_EcoCyc_RNAInter.csv'\n",
    "data = pd.read_csv(fn)\n",
    "data = data[data['Database'] == 'EcoCyc']\n",
    "try:\n",
    "    data = data.drop(columns=['Unnamed: 0'])\n",
    "except:\n",
    "    pass\n"
   ]
  },
  {
   "cell_type": "code",
   "execution_count": 34,
   "metadata": {},
   "outputs": [],
   "source": [
    "circuit_fasta = os.path.join('data', 'merged.fasta')\n",
    "circuit_fasta_d = {}\n",
    "with open(circuit_fasta, 'w') as f:\n",
    "\n",
    "    for n in list(data['Name'].unique())[:3]:\n",
    "        circuit_fasta_d[n] = data[data['Name'] == n]['Sequence'].iloc[0]\n",
    "        f.write('>' + n.replace(' ', '_') + '\\n')\n",
    "        f.write(circuit_fasta_d[n])\n",
    "        f.write('\\n')"
   ]
  },
  {
   "cell_type": "code",
   "execution_count": 39,
   "metadata": {},
   "outputs": [
    {
     "name": "stdout",
     "output_type": "stream",
     "text": [
      "Expected number of species:  9\n"
     ]
    }
   ],
   "source": [
    "nn = np.sum(np.arange(1, len(circuit_fasta_d)+1)) + len(circuit_fasta_d)\n",
    "print('Expected number of species: ', nn)"
   ]
  },
  {
   "cell_type": "markdown",
   "metadata": {},
   "source": [
    "# Config"
   ]
  },
  {
   "cell_type": "code",
   "execution_count": 40,
   "metadata": {},
   "outputs": [],
   "source": [
    "config = {\n",
    "    \"experiment\": {\n",
    "        \"purpose\": \"tests\",\n",
    "        \"no_visualisations\": False,\n",
    "        \"no_numerical\": False,\n",
    "        \"debug_mode\": False\n",
    "    },\n",
    "    \"data_path\": circuit_fasta,\n",
    "    \"system_type\": \"RNA\",\n",
    "    \"include_prod_deg\": False,\n",
    "    \"interaction_simulator\": {\n",
    "        \"name\": \"IntaRNA\",\n",
    "        \"postprocess\": True\n",
    "    },\n",
    "    \"mutations_args\": {\n",
    "        \"algorithm\": \"all\",\n",
    "        \"mutation_counts\": 0,\n",
    "        \"mutation_nums_within_sequence\": [1],\n",
    "        \"mutation_nums_per_position\": 1,\n",
    "        \"concurrent_species_to_mutate\": \"single_species_at_a_time\",\n",
    "        \"seed\": 0\n",
    "    },\n",
    "    \"signal\": {\n",
    "        \"inputs\": [data['Name'].iloc[0]],\n",
    "        \"outputs\": [],\n",
    "        \"function_name\": \"step_function\",\n",
    "        \"function_kwargs\": {\n",
    "            \"impulse_center\": 1,\n",
    "            \"impulse_halfwidth\": 5,\n",
    "            \"target\": 2\n",
    "        }\n",
    "    },\n",
    "    \"simulation\": {\n",
    "        \"dt0\": 0.1,\n",
    "        \"t0\": 0,\n",
    "        \"t1\": 100,\n",
    "        \"tmax\": 2000,\n",
    "        \"solver\": \"diffrax\",\n",
    "        \"use_batch_mutations\": True,\n",
    "        \"interaction_factor\": 1,\n",
    "        \"batch_size\": 20000,\n",
    "        \"max_circuits\": 60000,\n",
    "        \"device\": \"cpu\",\n",
    "        \"threshold_steady_states\": 0.05,\n",
    "        \"use_rate_scaling\": True\n",
    "    },\n",
    "    \"molecular_params_factor\": 1,\n",
    "    \"molecular_params\": {\n",
    "        \"avg_mRNA_per_cell\": 100,\n",
    "        \"cell_doubling_time\": 1200,\n",
    "        \"creation_rate\": 2.35,\n",
    "        \"starting_copynumbers\": 200,\n",
    "        \"degradation_rate\": 0.01175,\n",
    "        \"association_binding_rate\": 1000000\n",
    "    }\n",
    "}"
   ]
  },
  {
   "cell_type": "markdown",
   "metadata": {},
   "source": [
    "# Simulate"
   ]
  },
  {
   "cell_type": "code",
   "execution_count": 41,
   "metadata": {},
   "outputs": [
    {
     "data": {
      "text/plain": [
       "9"
      ]
     },
     "execution_count": 41,
     "metadata": {},
     "output_type": "execute_result"
    }
   ],
   "source": [
    "data_writer = None\n",
    "config, data_writer = script_preamble(config, data_writer)\n",
    "config_file = expand_config(config=config)\n",
    "config_file = prepare_config(config_file)\n",
    "circuit = construct_circuit_from_cfg(prev_configs=None, config_file=config_file)\n",
    "\n",
    "len(circuit.model.species)\n"
   ]
  },
  {
   "cell_type": "code",
   "execution_count": 38,
   "metadata": {},
   "outputs": [
    {
     "ename": "ModuleNotFoundError",
     "evalue": "No module named 'synbio_morpher.srv.parameter_prediction.IntaRNA'",
     "output_type": "error",
     "traceback": [
      "\u001b[0;31m---------------------------------------------------------------------------\u001b[0m",
      "\u001b[0;31mModuleNotFoundError\u001b[0m                       Traceback (most recent call last)",
      "\u001b[1;32m/home/wadh6511/Kode/EvoScaper/notebooks_sRNA/05_distribution_mutational_robusness.ipynb Cell 12\u001b[0m line \u001b[0;36m1\n\u001b[0;32m----> <a href='vscode-notebook-cell://ssh-remote%2B7b22686f73744e616d65223a2277616468363531312d50432d425832333638312d5453227d/home/wadh6511/Kode/EvoScaper/notebooks_sRNA/05_distribution_mutational_robusness.ipynb#X12sdnNjb2RlLXJlbW90ZQ%3D%3D?line=0'>1</a>\u001b[0m modeller \u001b[39m=\u001b[39m CircuitModeller(result_writer\u001b[39m=\u001b[39;49mdata_writer, config\u001b[39m=\u001b[39;49mconfig_file)\n\u001b[1;32m      <a href='vscode-notebook-cell://ssh-remote%2B7b22686f73744e616d65223a2277616468363531312d50432d425832333638312d5453227d/home/wadh6511/Kode/EvoScaper/notebooks_sRNA/05_distribution_mutational_robusness.ipynb#X12sdnNjb2RlLXJlbW90ZQ%3D%3D?line=1'>2</a>\u001b[0m circuits \u001b[39m=\u001b[39m modeller\u001b[39m.\u001b[39mbatch_circuits(\n\u001b[1;32m      <a href='vscode-notebook-cell://ssh-remote%2B7b22686f73744e616d65223a2277616468363531312d50432d425832333638312d5453227d/home/wadh6511/Kode/EvoScaper/notebooks_sRNA/05_distribution_mutational_robusness.ipynb#X12sdnNjb2RlLXJlbW90ZQ%3D%3D?line=2'>3</a>\u001b[0m     circuits\u001b[39m=\u001b[39m[circuit],\n\u001b[1;32m      <a href='vscode-notebook-cell://ssh-remote%2B7b22686f73744e616d65223a2277616468363531312d50432d425832333638312d5453227d/home/wadh6511/Kode/EvoScaper/notebooks_sRNA/05_distribution_mutational_robusness.ipynb#X12sdnNjb2RlLXJlbW90ZQ%3D%3D?line=3'>4</a>\u001b[0m     write_to_subsystem\u001b[39m=\u001b[39m\u001b[39mTrue\u001b[39;00m, batch_size\u001b[39m=\u001b[39mconfig_file[\u001b[39m'\u001b[39m\u001b[39msimulation\u001b[39m\u001b[39m'\u001b[39m]\u001b[39m.\u001b[39mget(\u001b[39m'\u001b[39m\u001b[39mbatch_size\u001b[39m\u001b[39m'\u001b[39m, \u001b[39m100\u001b[39m),\n\u001b[0;32m   (...)\u001b[0m\n\u001b[1;32m     <a href='vscode-notebook-cell://ssh-remote%2B7b22686f73744e616d65223a2277616468363531312d50432d425832333638312d5453227d/home/wadh6511/Kode/EvoScaper/notebooks_sRNA/05_distribution_mutational_robusness.ipynb#X12sdnNjb2RlLXJlbW90ZQ%3D%3D?line=10'>11</a>\u001b[0m                           \u001b[39m'\u001b[39m\u001b[39mno_numerical\u001b[39m\u001b[39m'\u001b[39m: config_file[\u001b[39m'\u001b[39m\u001b[39mexperiment\u001b[39m\u001b[39m'\u001b[39m]\u001b[39m.\u001b[39mget(\u001b[39m'\u001b[39m\u001b[39mno_numerical\u001b[39m\u001b[39m'\u001b[39m, \u001b[39mFalse\u001b[39;00m)}\n\u001b[1;32m     <a href='vscode-notebook-cell://ssh-remote%2B7b22686f73744e616d65223a2277616468363531312d50432d425832333638312d5453227d/home/wadh6511/Kode/EvoScaper/notebooks_sRNA/05_distribution_mutational_robusness.ipynb#X12sdnNjb2RlLXJlbW90ZQ%3D%3D?line=11'>12</a>\u001b[0m     })\n",
      "File \u001b[0;32m~/Kode/env_evo/lib/python3.10/site-packages/synbio_morpher/utils/circuit/agnostic_circuits/circuit_manager.py:50\u001b[0m, in \u001b[0;36mCircuitModeller.__init__\u001b[0;34m(self, result_writer, config)\u001b[0m\n\u001b[1;32m     48\u001b[0m \u001b[39mself\u001b[39m\u001b[39m.\u001b[39msimulator_args \u001b[39m=\u001b[39m config[\u001b[39m'\u001b[39m\u001b[39minteraction_simulator\u001b[39m\u001b[39m'\u001b[39m]\n\u001b[1;32m     49\u001b[0m \u001b[39mself\u001b[39m\u001b[39m.\u001b[39msimulation_args \u001b[39m=\u001b[39m config\u001b[39m.\u001b[39mget(\u001b[39m'\u001b[39m\u001b[39msimulation\u001b[39m\u001b[39m'\u001b[39m, {})\n\u001b[0;32m---> 50\u001b[0m \u001b[39mself\u001b[39m\u001b[39m.\u001b[39minteraction_simulator \u001b[39m=\u001b[39m InteractionSimulator(\n\u001b[1;32m     51\u001b[0m     sim_args\u001b[39m=\u001b[39;49m\u001b[39mself\u001b[39;49m\u001b[39m.\u001b[39;49msimulator_args)\n\u001b[1;32m     52\u001b[0m \u001b[39mself\u001b[39m\u001b[39m.\u001b[39minteraction_factor \u001b[39m=\u001b[39m \u001b[39mself\u001b[39m\u001b[39m.\u001b[39msimulation_args\u001b[39m.\u001b[39mget(\n\u001b[1;32m     53\u001b[0m     \u001b[39m'\u001b[39m\u001b[39minteraction_factor\u001b[39m\u001b[39m'\u001b[39m, \u001b[39m1\u001b[39m)\n\u001b[1;32m     54\u001b[0m \u001b[39mself\u001b[39m\u001b[39m.\u001b[39mdiscard_numerical_mutations \u001b[39m=\u001b[39m config[\u001b[39m'\u001b[39m\u001b[39mexperiment\u001b[39m\u001b[39m'\u001b[39m]\u001b[39m.\u001b[39mget(\n\u001b[1;32m     55\u001b[0m     \u001b[39m'\u001b[39m\u001b[39mno_numerical\u001b[39m\u001b[39m'\u001b[39m, \u001b[39mFalse\u001b[39;00m)\n",
      "File \u001b[0;32m~/Kode/env_evo/lib/python3.10/site-packages/synbio_morpher/srv/parameter_prediction/interactions.py:213\u001b[0m, in \u001b[0;36mInteractionSimulator.__init__\u001b[0;34m(self, sim_args, allow_self_interaction)\u001b[0m\n\u001b[1;32m    210\u001b[0m \u001b[39mdef\u001b[39;00m \u001b[39m__init__\u001b[39m(\u001b[39mself\u001b[39m, sim_args: \u001b[39mdict\u001b[39m \u001b[39m=\u001b[39m \u001b[39mNone\u001b[39;00m, allow_self_interaction: \u001b[39mbool\u001b[39m \u001b[39m=\u001b[39m \u001b[39mTrue\u001b[39;00m):\n\u001b[1;32m    212\u001b[0m     \u001b[39mself\u001b[39m\u001b[39m.\u001b[39msimulation_handler \u001b[39m=\u001b[39m RawSimulationHandling(sim_args)\n\u001b[0;32m--> 213\u001b[0m     \u001b[39mself\u001b[39m\u001b[39m.\u001b[39msimulator \u001b[39m=\u001b[39m \u001b[39mself\u001b[39;49m\u001b[39m.\u001b[39;49msimulation_handler\u001b[39m.\u001b[39;49mget_simulator(\n\u001b[1;32m    214\u001b[0m         allow_self_interaction)\n",
      "File \u001b[0;32m~/Kode/env_evo/lib/python3.10/site-packages/synbio_morpher/srv/parameter_prediction/simulator.py:81\u001b[0m, in \u001b[0;36mRawSimulationHandling.get_simulator\u001b[0;34m(self, allow_self_interaction)\u001b[0m\n\u001b[1;32m     78\u001b[0m \u001b[39mdef\u001b[39;00m \u001b[39mget_simulator\u001b[39m(\u001b[39mself\u001b[39m, allow_self_interaction: \u001b[39mbool\u001b[39m):\n\u001b[1;32m     80\u001b[0m     \u001b[39mif\u001b[39;00m \u001b[39mself\u001b[39m\u001b[39m.\u001b[39msimulator_name \u001b[39m==\u001b[39m \u001b[39m\"\u001b[39m\u001b[39mIntaRNA\u001b[39m\u001b[39m\"\u001b[39m:\n\u001b[0;32m---> 81\u001b[0m         \u001b[39mfrom\u001b[39;00m \u001b[39msynbio_morpher\u001b[39;00m\u001b[39m.\u001b[39;00m\u001b[39msrv\u001b[39;00m\u001b[39m.\u001b[39;00m\u001b[39mparameter_prediction\u001b[39;00m\u001b[39m.\u001b[39;00m\u001b[39mIntaRNA\u001b[39;00m\u001b[39m.\u001b[39;00m\u001b[39mbin\u001b[39;00m\u001b[39m.\u001b[39;00m\u001b[39mcopomus\u001b[39;00m\u001b[39m.\u001b[39;00m\u001b[39mIntaRNA\u001b[39;00m \u001b[39mimport\u001b[39;00m IntaRNA\n\u001b[1;32m     82\u001b[0m         \u001b[39mself\u001b[39m\u001b[39m.\u001b[39munits \u001b[39m=\u001b[39m SIMULATOR_UNITS[\u001b[39mself\u001b[39m\u001b[39m.\u001b[39msimulator_name][\u001b[39m'\u001b[39m\u001b[39menergy\u001b[39m\u001b[39m'\u001b[39m]\n\u001b[1;32m     83\u001b[0m         \u001b[39mif\u001b[39;00m check_IntaRNA_path():\n",
      "\u001b[0;31mModuleNotFoundError\u001b[0m: No module named 'synbio_morpher.srv.parameter_prediction.IntaRNA'"
     ]
    }
   ],
   "source": [
    "modeller = CircuitModeller(result_writer=data_writer, config=config_file)\n",
    "circuits = modeller.batch_circuits(\n",
    "    circuits=[circuit],\n",
    "    write_to_subsystem=True, batch_size=config_file['simulation'].get('batch_size', 100),\n",
    "    methods={\n",
    "        \"compute_interactions\": {},\n",
    "        # \"init_circuits\": {'batch': True},\n",
    "        # \"simulate_signal_batch\": {'ref_circuit': None,\n",
    "        #                           'batch': True},\n",
    "        \"write_results\": {'no_visualisations': config_file['experiment'].get('no_visualisations', True),\n",
    "                          'no_numerical': config_file['experiment'].get('no_numerical', False)}\n",
    "    })"
   ]
  },
  {
   "cell_type": "markdown",
   "metadata": {},
   "source": [
    "# Compare"
   ]
  }
 ],
 "metadata": {
  "kernelspec": {
   "display_name": "env_evo",
   "language": "python",
   "name": "python3"
  },
  "language_info": {
   "codemirror_mode": {
    "name": "ipython",
    "version": 3
   },
   "file_extension": ".py",
   "mimetype": "text/x-python",
   "name": "python",
   "nbconvert_exporter": "python",
   "pygments_lexer": "ipython3",
   "version": "3.10.12"
  }
 },
 "nbformat": 4,
 "nbformat_minor": 2
}
