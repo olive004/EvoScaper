{
 "cells": [
  {
   "cell_type": "code",
   "execution_count": 28,
   "metadata": {},
   "outputs": [
    {
     "name": "stdout",
     "output_type": "stream",
     "text": [
      "The autoreload extension is already loaded. To reload it, use:\n",
      "  %reload_ext autoreload\n"
     ]
    }
   ],
   "source": [
    "%load_ext autoreload\n",
    "%autoreload 2"
   ]
  },
  {
   "cell_type": "markdown",
   "metadata": {},
   "source": [
    "# Orthogonality of all known sRNAs to all known mRNAs, recorded as transcription units, in E. coli"
   ]
  },
  {
   "cell_type": "markdown",
   "metadata": {},
   "source": [
    "Previously, we looked at how the sRNAs documented in the RNAInter database interact with all of the mRNAs in the RNAInter database, in other words the activity of the sRNAs on the mRNAs known to be regulated by sRNAs in general. Now we will look at how orthogonal the sRNAs are to any mRNA present in E. coli. The transcriptional units from the EcoCyc database represent all known mRNAs and the sRNAs are pulled from both the RNAInter and EcoCyc databases. "
   ]
  },
  {
   "cell_type": "markdown",
   "metadata": {},
   "source": [
    "# Imports"
   ]
  },
  {
   "cell_type": "code",
   "execution_count": 29,
   "metadata": {},
   "outputs": [],
   "source": [
    "import os\n",
    "from Bio import SeqIO\n",
    "from Bio.SeqRecord import SeqRecord\n",
    "import pandas as pd\n",
    "\n",
    "from synbio_morpher.srv.io.manage.script_manager import script_preamble\n",
    "from synbio_morpher.srv.parameter_prediction.IntaRNA.bin.copomus.IntaRNA import IntaRNA\n",
    "from synbio_morpher.srv.parameter_prediction.simulator import process_raw_stdout\n",
    "from synbio_morpher.utils.circuit.common.config_setup import retrieve_default_args, load_simulator_kwargs\n",
    "\n",
    "from subprocess import Popen, PIPE, run\n",
    "from datetime import datetime\n",
    "import seaborn as sns\n",
    "import matplotlib.pyplot as plt\n",
    "import numpy as np\n",
    "import jax\n",
    "\n"
   ]
  },
  {
   "cell_type": "code",
   "execution_count": 30,
   "metadata": {},
   "outputs": [],
   "source": [
    "fn_tus = os.path.join('..', 'data', 'sRNA', 'EcoCyc', 'EcoCyc_TUs.csv')\n",
    "fn_merged = os.path.join('..', 'data', 'sRNA', 'merged_EcoCyc_RNAInter.csv')\n",
    "d_tus = pd.read_csv(fn_tus)\n",
    "d_merged = pd.read_csv(fn_merged)\n",
    "try:\n",
    "    d_tus = d_tus.drop(columns=['Unnamed: 0'])\n",
    "    d_merged = d_merged.drop(columns=['Unnamed: 0'])\n",
    "except:\n",
    "    pass\n"
   ]
  },
  {
   "cell_type": "code",
   "execution_count": 31,
   "metadata": {},
   "outputs": [
    {
     "data": {
      "text/html": [
       "<div>\n",
       "<style scoped>\n",
       "    .dataframe tbody tr th:only-of-type {\n",
       "        vertical-align: middle;\n",
       "    }\n",
       "\n",
       "    .dataframe tbody tr th {\n",
       "        vertical-align: top;\n",
       "    }\n",
       "\n",
       "    .dataframe thead th {\n",
       "        text-align: right;\n",
       "    }\n",
       "</style>\n",
       "<table border=\"1\" class=\"dataframe\">\n",
       "  <thead>\n",
       "    <tr style=\"text-align: right;\">\n",
       "      <th></th>\n",
       "      <th>Name</th>\n",
       "      <th>ID</th>\n",
       "      <th>Category</th>\n",
       "      <th>Symbol</th>\n",
       "      <th>Sequence</th>\n",
       "      <th>Database</th>\n",
       "    </tr>\n",
       "  </thead>\n",
       "  <tbody>\n",
       "    <tr>\n",
       "      <th>0</th>\n",
       "      <td>acnA</td>\n",
       "      <td>NCBI:946724</td>\n",
       "      <td>mRNA</td>\n",
       "      <td>acnA</td>\n",
       "      <td>ATTCGGAACGAGGCCTGAAGCAGTGTCGCCGTCCCTCTGCCTTGCA...</td>\n",
       "      <td>RNAInter</td>\n",
       "    </tr>\n",
       "    <tr>\n",
       "      <th>1</th>\n",
       "      <td>acrZ</td>\n",
       "      <td>NCBI:945365</td>\n",
       "      <td>mRNA</td>\n",
       "      <td>acrZ</td>\n",
       "      <td>ACTTACTACTGTCTTCGGGGGGTCCGAGGTTTCTGGGGGGTCGTAC...</td>\n",
       "      <td>RNAInter</td>\n",
       "    </tr>\n",
       "    <tr>\n",
       "      <th>2</th>\n",
       "      <td>argR</td>\n",
       "      <td>NCBI:947861</td>\n",
       "      <td>mRNA</td>\n",
       "      <td>argR</td>\n",
       "      <td>GACAATGGCGATAGTATGGCGGTTGTTTCTTTCCCATCTCTACTCA...</td>\n",
       "      <td>RNAInter</td>\n",
       "    </tr>\n",
       "    <tr>\n",
       "      <th>3</th>\n",
       "      <td>asr</td>\n",
       "      <td>NCBI:945103</td>\n",
       "      <td>mRNA</td>\n",
       "      <td>asr</td>\n",
       "      <td>TGCTCCTTCTGCTGATGCCCCCATGTTTGTGATGGGCGTGAACCAT...</td>\n",
       "      <td>RNAInter</td>\n",
       "    </tr>\n",
       "    <tr>\n",
       "      <th>4</th>\n",
       "      <td>chbC</td>\n",
       "      <td>NCBI:945982</td>\n",
       "      <td>mRNA</td>\n",
       "      <td>chbC</td>\n",
       "      <td>NCTATCATACTTTAGAAAAGCCATAGAGGGAAATTTTGTGAATAAG...</td>\n",
       "      <td>RNAInter</td>\n",
       "    </tr>\n",
       "  </tbody>\n",
       "</table>\n",
       "</div>"
      ],
      "text/plain": [
       "   Name  ...  Database\n",
       "0  acnA  ...  RNAInter\n",
       "1  acrZ  ...  RNAInter\n",
       "2  argR  ...  RNAInter\n",
       "3   asr  ...  RNAInter\n",
       "4  chbC  ...  RNAInter\n",
       "\n",
       "[5 rows x 6 columns]"
      ]
     },
     "execution_count": 31,
     "metadata": {},
     "output_type": "execute_result"
    }
   ],
   "source": [
    "d_merged.head()"
   ]
  },
  {
   "cell_type": "code",
   "execution_count": 32,
   "metadata": {},
   "outputs": [
    {
     "name": "stdout",
     "output_type": "stream",
     "text": [
      "3698\n",
      "Expected number of species:  6843149\n",
      "Expected number of circuits:  144\n"
     ]
    },
    {
     "data": {
      "text/html": [
       "<div>\n",
       "<style scoped>\n",
       "    .dataframe tbody tr th:only-of-type {\n",
       "        vertical-align: middle;\n",
       "    }\n",
       "\n",
       "    .dataframe tbody tr th {\n",
       "        vertical-align: top;\n",
       "    }\n",
       "\n",
       "    .dataframe thead th {\n",
       "        text-align: right;\n",
       "    }\n",
       "</style>\n",
       "<table border=\"1\" class=\"dataframe\">\n",
       "  <thead>\n",
       "    <tr style=\"text-align: right;\">\n",
       "      <th></th>\n",
       "      <th>Common-Name</th>\n",
       "      <th>Transcription-Units</th>\n",
       "      <th>Sequence - DNA sequence</th>\n",
       "      <th>Regulated-By</th>\n",
       "      <th>Regulator</th>\n",
       "    </tr>\n",
       "  </thead>\n",
       "  <tbody>\n",
       "    <tr>\n",
       "      <th>0</th>\n",
       "      <td>ygdG</td>\n",
       "      <td>TU0-13740</td>\n",
       "      <td>GTGGCTGTTCATTTGCTTATTGTCGATGCACTGAATCTTATTCGTC...</td>\n",
       "      <td>NaN</td>\n",
       "      <td>NaN</td>\n",
       "    </tr>\n",
       "    <tr>\n",
       "      <th>1</th>\n",
       "      <td>ahpCF</td>\n",
       "      <td>TU0-14761</td>\n",
       "      <td>GTTGTTGCATTTGTAAGGGCAACACCTCAGCCTGCAGGCAGGCACT...</td>\n",
       "      <td>NaN</td>\n",
       "      <td>NaN</td>\n",
       "    </tr>\n",
       "    <tr>\n",
       "      <th>2</th>\n",
       "      <td>fur</td>\n",
       "      <td>TU00121</td>\n",
       "      <td>ATTATCTCAAGAGCAAATTCTGTCACTTCTTCTAATGAAGTGAACC...</td>\n",
       "      <td>NaN</td>\n",
       "      <td>NaN</td>\n",
       "    </tr>\n",
       "    <tr>\n",
       "      <th>3</th>\n",
       "      <td>ymdAB-clsC</td>\n",
       "      <td>TU0-42664</td>\n",
       "      <td>CCGGACGATCGGGTGAAAATAGTTGTTACTGTTTCTGATGGACAGT...</td>\n",
       "      <td>REG0-16016</td>\n",
       "      <td>CPLX0-3930</td>\n",
       "    </tr>\n",
       "    <tr>\n",
       "      <th>4</th>\n",
       "      <td>ydeTSR</td>\n",
       "      <td>TU0-13294</td>\n",
       "      <td>ATGAGTGGTTACACCGTCAAGCCTCCTACCGGAGACACCAATGAGC...</td>\n",
       "      <td>NaN</td>\n",
       "      <td>NaN</td>\n",
       "    </tr>\n",
       "  </tbody>\n",
       "</table>\n",
       "</div>"
      ],
      "text/plain": [
       "  Common-Name Transcription-Units  ... Regulated-By   Regulator\n",
       "0        ygdG           TU0-13740  ...          NaN         NaN\n",
       "1       ahpCF           TU0-14761  ...          NaN         NaN\n",
       "2         fur             TU00121  ...          NaN         NaN\n",
       "3  ymdAB-clsC           TU0-42664  ...   REG0-16016  CPLX0-3930\n",
       "4      ydeTSR           TU0-13294  ...          NaN         NaN\n",
       "\n",
       "[5 rows x 5 columns]"
      ]
     },
     "execution_count": 32,
     "metadata": {},
     "output_type": "execute_result"
    }
   ],
   "source": [
    "print(len(d_tus))\n",
    "nn = np.sum(np.arange(1, len(d_tus)+1)) + len(d_tus)\n",
    "print('Expected number of species: ', nn)\n",
    "print('Expected number of circuits: ', len(d_merged))\n",
    "d_tus.head()"
   ]
  },
  {
   "cell_type": "code",
   "execution_count": 33,
   "metadata": {},
   "outputs": [],
   "source": [
    "srnas = dict(list(d_merged[d_merged['Category'] == 'sRNA'][['Name', 'Sequence']].to_numpy()))\n",
    "mrnas = dict(list(d_tus[['Common-Name', 'Sequence - DNA sequence']].to_numpy()))"
   ]
  },
  {
   "cell_type": "code",
   "execution_count": 18,
   "metadata": {},
   "outputs": [],
   "source": [
    "config = {\n",
    "    \"experiment\": {\n",
    "        \"purpose\": \"tests\",\n",
    "        \"no_visualisations\": False,\n",
    "        \"no_numerical\": False,\n",
    "        \"debug_mode\": False\n",
    "    },\n",
    "    \"data\": {},\n",
    "    \"system_type\": \"RNA\",\n",
    "    \"interaction_simulator\": {\n",
    "        \"name\": \"IntaRNA\",\n",
    "        \"postprocess\": True\n",
    "    }\n",
    "}\n",
    "data_writer = None\n",
    "config, data_writer = script_preamble(config, data_writer)\n",
    "default_args = retrieve_default_args()\n",
    "simulator_kwargs = load_simulator_kwargs(default_args, config)\n",
    "config['interaction_simulator']['simulator_kwargs'] = simulator_kwargs\n"
   ]
  },
  {
   "cell_type": "code",
   "execution_count": 35,
   "metadata": {},
   "outputs": [
    {
     "ename": "FileNotFoundError",
     "evalue": "[Errno 2] No such file or directory: 'IntaRNA'",
     "output_type": "error",
     "traceback": [
      "\u001b[0;31m---------------------------------------------------------------------------\u001b[0m",
      "\u001b[0;31mFileNotFoundError\u001b[0m                         Traceback (most recent call last)",
      "\u001b[1;32m/home/wadh6511/Kode/EvoScaper/notebooks_sRNA/07_orthogonality_mRNA_all.ipynb Cell 11\u001b[0m line \u001b[0;36m2\n\u001b[1;32m     <a href='vscode-notebook-cell://ssh-remote%2B7b22686f73744e616d65223a2277616468363531312d50432d425832333638312d5453227d/home/wadh6511/Kode/EvoScaper/notebooks_sRNA/07_orthogonality_mRNA_all.ipynb#X13sdnNjb2RlLXJlbW90ZQ%3D%3D?line=25'>26</a>\u001b[0m sim_data[s] \u001b[39m=\u001b[39m {}\n\u001b[1;32m     <a href='vscode-notebook-cell://ssh-remote%2B7b22686f73744e616d65223a2277616468363531312d50432d425832333638312d5453227d/home/wadh6511/Kode/EvoScaper/notebooks_sRNA/07_orthogonality_mRNA_all.ipynb#X13sdnNjb2RlLXJlbW90ZQ%3D%3D?line=26'>27</a>\u001b[0m t \u001b[39m=\u001b[39m datetime\u001b[39m.\u001b[39mnow()\n\u001b[0;32m---> <a href='vscode-notebook-cell://ssh-remote%2B7b22686f73744e616d65223a2277616468363531312d50432d425832333638312d5453227d/home/wadh6511/Kode/EvoScaper/notebooks_sRNA/07_orthogonality_mRNA_all.ipynb#X13sdnNjb2RlLXJlbW90ZQ%3D%3D?line=28'>29</a>\u001b[0m sim_data[s] \u001b[39m=\u001b[39m simulate_IntaRNA_local(query\u001b[39m=\u001b[39;49m{s: sseq},\n\u001b[1;32m     <a href='vscode-notebook-cell://ssh-remote%2B7b22686f73744e616d65223a2277616468363531312d50432d425832333638312d5453227d/home/wadh6511/Kode/EvoScaper/notebooks_sRNA/07_orthogonality_mRNA_all.ipynb#X13sdnNjb2RlLXJlbW90ZQ%3D%3D?line=29'>30</a>\u001b[0m                                      fn_targets\u001b[39m=\u001b[39;49mfn_targets,\n\u001b[1;32m     <a href='vscode-notebook-cell://ssh-remote%2B7b22686f73744e616d65223a2277616468363531312d50432d425832333638312d5453227d/home/wadh6511/Kode/EvoScaper/notebooks_sRNA/07_orthogonality_mRNA_all.ipynb#X13sdnNjb2RlLXJlbW90ZQ%3D%3D?line=30'>31</a>\u001b[0m                                      sim_kwargs\u001b[39m=\u001b[39;49mconfig[\u001b[39m'\u001b[39;49m\u001b[39minteraction_simulator\u001b[39;49m\u001b[39m'\u001b[39;49m][\u001b[39m'\u001b[39;49m\u001b[39msimulator_kwargs\u001b[39;49m\u001b[39m'\u001b[39;49m])\n\u001b[1;32m     <a href='vscode-notebook-cell://ssh-remote%2B7b22686f73744e616d65223a2277616468363531312d50432d425832333638312d5453227d/home/wadh6511/Kode/EvoScaper/notebooks_sRNA/07_orthogonality_mRNA_all.ipynb#X13sdnNjb2RlLXJlbW90ZQ%3D%3D?line=31'>32</a>\u001b[0m \u001b[39mprint\u001b[39m(\u001b[39m'\u001b[39m\u001b[39mFinished \u001b[39m\u001b[39m'\u001b[39m, s, \u001b[39m'\u001b[39m\u001b[39m in \u001b[39m\u001b[39m'\u001b[39m, (datetime\u001b[39m.\u001b[39mnow() \u001b[39m-\u001b[39m t)\u001b[39m.\u001b[39mtotal_seconds(), \u001b[39m'\u001b[39m\u001b[39m s\u001b[39m\u001b[39m'\u001b[39m)\n\u001b[1;32m     <a href='vscode-notebook-cell://ssh-remote%2B7b22686f73744e616d65223a2277616468363531312d50432d425832333638312d5453227d/home/wadh6511/Kode/EvoScaper/notebooks_sRNA/07_orthogonality_mRNA_all.ipynb#X13sdnNjb2RlLXJlbW90ZQ%3D%3D?line=33'>34</a>\u001b[0m data_writer\u001b[39m.\u001b[39moutput(data\u001b[39m=\u001b[39msim_data, out_type\u001b[39m=\u001b[39m\u001b[39m'\u001b[39m\u001b[39mjson\u001b[39m\u001b[39m'\u001b[39m,\n\u001b[1;32m     <a href='vscode-notebook-cell://ssh-remote%2B7b22686f73744e616d65223a2277616468363531312d50432d425832333638312d5453227d/home/wadh6511/Kode/EvoScaper/notebooks_sRNA/07_orthogonality_mRNA_all.ipynb#X13sdnNjb2RlLXJlbW90ZQ%3D%3D?line=34'>35</a>\u001b[0m                    out_name\u001b[39m=\u001b[39m\u001b[39m'\u001b[39m\u001b[39minter_data_raw\u001b[39m\u001b[39m'\u001b[39m, overwrite\u001b[39m=\u001b[39m\u001b[39mTrue\u001b[39;00m)\n",
      "\u001b[1;32m/home/wadh6511/Kode/EvoScaper/notebooks_sRNA/07_orthogonality_mRNA_all.ipynb Cell 11\u001b[0m line \u001b[0;36m2\n\u001b[1;32m     <a href='vscode-notebook-cell://ssh-remote%2B7b22686f73744e616d65223a2277616468363531312d50432d425832333638312d5453227d/home/wadh6511/Kode/EvoScaper/notebooks_sRNA/07_orthogonality_mRNA_all.ipynb#X13sdnNjb2RlLXJlbW90ZQ%3D%3D?line=16'>17</a>\u001b[0m     stdout, stderr \u001b[39m=\u001b[39m p\u001b[39m.\u001b[39mcommunicate()\n\u001b[1;32m     <a href='vscode-notebook-cell://ssh-remote%2B7b22686f73744e616d65223a2277616468363531312d50432d425832333638312d5453227d/home/wadh6511/Kode/EvoScaper/notebooks_sRNA/07_orthogonality_mRNA_all.ipynb#X13sdnNjb2RlLXJlbW90ZQ%3D%3D?line=17'>18</a>\u001b[0m     \u001b[39mreturn\u001b[39;00m process_raw_stdout(stdout)\n\u001b[0;32m---> <a href='vscode-notebook-cell://ssh-remote%2B7b22686f73744e616d65223a2277616468363531312d50432d425832333638312d5453227d/home/wadh6511/Kode/EvoScaper/notebooks_sRNA/07_orthogonality_mRNA_all.ipynb#X13sdnNjb2RlLXJlbW90ZQ%3D%3D?line=19'>20</a>\u001b[0m \u001b[39mreturn\u001b[39;00m run(\u001b[39m*\u001b[39;49m\u001b[39m*\u001b[39;49msim_kwargs)\n",
      "\u001b[1;32m/home/wadh6511/Kode/EvoScaper/notebooks_sRNA/07_orthogonality_mRNA_all.ipynb Cell 11\u001b[0m line \u001b[0;36m1\n\u001b[1;32m      <a href='vscode-notebook-cell://ssh-remote%2B7b22686f73744e616d65223a2277616468363531312d50432d425832333638312d5453227d/home/wadh6511/Kode/EvoScaper/notebooks_sRNA/07_orthogonality_mRNA_all.ipynb#X13sdnNjb2RlLXJlbW90ZQ%3D%3D?line=7'>8</a>\u001b[0m \u001b[39mdef\u001b[39;00m \u001b[39mrun\u001b[39m(query: \u001b[39mstr\u001b[39m, target: \u001b[39mstr\u001b[39m, qidxpos0: \u001b[39mint\u001b[39m, tidxpos0: \u001b[39mint\u001b[39m, outcsvcols: \u001b[39mstr\u001b[39m, threads: \u001b[39mint\u001b[39m, n: \u001b[39mint\u001b[39m \u001b[39m=\u001b[39m \u001b[39m1\u001b[39m,\n\u001b[1;32m      <a href='vscode-notebook-cell://ssh-remote%2B7b22686f73744e616d65223a2277616468363531312d50432d425832333638312d5453227d/home/wadh6511/Kode/EvoScaper/notebooks_sRNA/07_orthogonality_mRNA_all.ipynb#X13sdnNjb2RlLXJlbW90ZQ%3D%3D?line=8'>9</a>\u001b[0m         param_file: \u001b[39mstr\u001b[39m \u001b[39m=\u001b[39m \u001b[39m'\u001b[39m\u001b[39m'\u001b[39m, extra_params: \u001b[39mlist\u001b[39m \u001b[39m=\u001b[39m [], raw_stdout: \u001b[39mbool\u001b[39m \u001b[39m=\u001b[39m \u001b[39mFalse\u001b[39;00m):\n\u001b[0;32m---> <a href='vscode-notebook-cell://ssh-remote%2B7b22686f73744e616d65223a2277616468363531312d50432d425832333638312d5453227d/home/wadh6511/Kode/EvoScaper/notebooks_sRNA/07_orthogonality_mRNA_all.ipynb#X13sdnNjb2RlLXJlbW90ZQ%3D%3D?line=9'>10</a>\u001b[0m     p \u001b[39m=\u001b[39m Popen([\u001b[39m'\u001b[39;49m\u001b[39mIntaRNA\u001b[39;49m\u001b[39m'\u001b[39;49m, \u001b[39m'\u001b[39;49m\u001b[39m-q\u001b[39;49m\u001b[39m'\u001b[39;49m, query, \u001b[39m'\u001b[39;49m\u001b[39m-t\u001b[39;49m\u001b[39m'\u001b[39;49m, target,\n\u001b[1;32m     <a href='vscode-notebook-cell://ssh-remote%2B7b22686f73744e616d65223a2277616468363531312d50432d425832333638312d5453227d/home/wadh6511/Kode/EvoScaper/notebooks_sRNA/07_orthogonality_mRNA_all.ipynb#X13sdnNjb2RlLXJlbW90ZQ%3D%3D?line=10'>11</a>\u001b[0m                 \u001b[39m'\u001b[39;49m\u001b[39m--outMode=C\u001b[39;49m\u001b[39m'\u001b[39;49m, \u001b[39mf\u001b[39;49m\u001b[39m'\u001b[39;49m\u001b[39m--outcsvcols=\u001b[39;49m\u001b[39m{\u001b[39;49;00moutcsvcols\u001b[39m}\u001b[39;49;00m\u001b[39m'\u001b[39;49m,\n\u001b[1;32m     <a href='vscode-notebook-cell://ssh-remote%2B7b22686f73744e616d65223a2277616468363531312d50432d425832333638312d5453227d/home/wadh6511/Kode/EvoScaper/notebooks_sRNA/07_orthogonality_mRNA_all.ipynb#X13sdnNjb2RlLXJlbW90ZQ%3D%3D?line=11'>12</a>\u001b[0m                 \u001b[39mf\u001b[39;49m\u001b[39m'\u001b[39;49m\u001b[39m--qIdxPos0=\u001b[39;49m\u001b[39m{\u001b[39;49;00mqidxpos0\u001b[39m}\u001b[39;49;00m\u001b[39m'\u001b[39;49m,\n\u001b[1;32m     <a href='vscode-notebook-cell://ssh-remote%2B7b22686f73744e616d65223a2277616468363531312d50432d425832333638312d5453227d/home/wadh6511/Kode/EvoScaper/notebooks_sRNA/07_orthogonality_mRNA_all.ipynb#X13sdnNjb2RlLXJlbW90ZQ%3D%3D?line=12'>13</a>\u001b[0m                 \u001b[39mf\u001b[39;49m\u001b[39m'\u001b[39;49m\u001b[39m--tIdxPos0=\u001b[39;49m\u001b[39m{\u001b[39;49;00mtidxpos0\u001b[39m}\u001b[39;49;00m\u001b[39m'\u001b[39;49m,\n\u001b[1;32m     <a href='vscode-notebook-cell://ssh-remote%2B7b22686f73744e616d65223a2277616468363531312d50432d425832333638312d5453227d/home/wadh6511/Kode/EvoScaper/notebooks_sRNA/07_orthogonality_mRNA_all.ipynb#X13sdnNjb2RlLXJlbW90ZQ%3D%3D?line=13'>14</a>\u001b[0m                 \u001b[39mf\u001b[39;49m\u001b[39m'\u001b[39;49m\u001b[39m--outNumber=\u001b[39;49m\u001b[39m{\u001b[39;49;00mn\u001b[39m}\u001b[39;49;00m\u001b[39m'\u001b[39;49m,\n\u001b[1;32m     <a href='vscode-notebook-cell://ssh-remote%2B7b22686f73744e616d65223a2277616468363531312d50432d425832333638312d5453227d/home/wadh6511/Kode/EvoScaper/notebooks_sRNA/07_orthogonality_mRNA_all.ipynb#X13sdnNjb2RlLXJlbW90ZQ%3D%3D?line=14'>15</a>\u001b[0m                 \u001b[39mf\u001b[39;49m\u001b[39m'\u001b[39;49m\u001b[39m--threads=\u001b[39;49m\u001b[39m{\u001b[39;49;00mthreads\u001b[39m}\u001b[39;49;00m\u001b[39m'\u001b[39;49m, param_file]\n\u001b[1;32m     <a href='vscode-notebook-cell://ssh-remote%2B7b22686f73744e616d65223a2277616468363531312d50432d425832333638312d5453227d/home/wadh6511/Kode/EvoScaper/notebooks_sRNA/07_orthogonality_mRNA_all.ipynb#X13sdnNjb2RlLXJlbW90ZQ%3D%3D?line=15'>16</a>\u001b[0m                 \u001b[39m+\u001b[39;49m extra_params, stdout\u001b[39m=\u001b[39;49mPIPE, stderr\u001b[39m=\u001b[39;49mPIPE, universal_newlines\u001b[39m=\u001b[39;49m\u001b[39mTrue\u001b[39;49;00m)\n\u001b[1;32m     <a href='vscode-notebook-cell://ssh-remote%2B7b22686f73744e616d65223a2277616468363531312d50432d425832333638312d5453227d/home/wadh6511/Kode/EvoScaper/notebooks_sRNA/07_orthogonality_mRNA_all.ipynb#X13sdnNjb2RlLXJlbW90ZQ%3D%3D?line=16'>17</a>\u001b[0m     stdout, stderr \u001b[39m=\u001b[39m p\u001b[39m.\u001b[39mcommunicate()\n\u001b[1;32m     <a href='vscode-notebook-cell://ssh-remote%2B7b22686f73744e616d65223a2277616468363531312d50432d425832333638312d5453227d/home/wadh6511/Kode/EvoScaper/notebooks_sRNA/07_orthogonality_mRNA_all.ipynb#X13sdnNjb2RlLXJlbW90ZQ%3D%3D?line=17'>18</a>\u001b[0m     \u001b[39mreturn\u001b[39;00m process_raw_stdout(stdout)\n",
      "File \u001b[0;32m/usr/lib/python3.10/subprocess.py:971\u001b[0m, in \u001b[0;36mPopen.__init__\u001b[0;34m(self, args, bufsize, executable, stdin, stdout, stderr, preexec_fn, close_fds, shell, cwd, env, universal_newlines, startupinfo, creationflags, restore_signals, start_new_session, pass_fds, user, group, extra_groups, encoding, errors, text, umask, pipesize)\u001b[0m\n\u001b[1;32m    967\u001b[0m         \u001b[39mif\u001b[39;00m \u001b[39mself\u001b[39m\u001b[39m.\u001b[39mtext_mode:\n\u001b[1;32m    968\u001b[0m             \u001b[39mself\u001b[39m\u001b[39m.\u001b[39mstderr \u001b[39m=\u001b[39m io\u001b[39m.\u001b[39mTextIOWrapper(\u001b[39mself\u001b[39m\u001b[39m.\u001b[39mstderr,\n\u001b[1;32m    969\u001b[0m                     encoding\u001b[39m=\u001b[39mencoding, errors\u001b[39m=\u001b[39merrors)\n\u001b[0;32m--> 971\u001b[0m     \u001b[39mself\u001b[39;49m\u001b[39m.\u001b[39;49m_execute_child(args, executable, preexec_fn, close_fds,\n\u001b[1;32m    972\u001b[0m                         pass_fds, cwd, env,\n\u001b[1;32m    973\u001b[0m                         startupinfo, creationflags, shell,\n\u001b[1;32m    974\u001b[0m                         p2cread, p2cwrite,\n\u001b[1;32m    975\u001b[0m                         c2pread, c2pwrite,\n\u001b[1;32m    976\u001b[0m                         errread, errwrite,\n\u001b[1;32m    977\u001b[0m                         restore_signals,\n\u001b[1;32m    978\u001b[0m                         gid, gids, uid, umask,\n\u001b[1;32m    979\u001b[0m                         start_new_session)\n\u001b[1;32m    980\u001b[0m \u001b[39mexcept\u001b[39;00m:\n\u001b[1;32m    981\u001b[0m     \u001b[39m# Cleanup if the child failed starting.\u001b[39;00m\n\u001b[1;32m    982\u001b[0m     \u001b[39mfor\u001b[39;00m f \u001b[39min\u001b[39;00m \u001b[39mfilter\u001b[39m(\u001b[39mNone\u001b[39;00m, (\u001b[39mself\u001b[39m\u001b[39m.\u001b[39mstdin, \u001b[39mself\u001b[39m\u001b[39m.\u001b[39mstdout, \u001b[39mself\u001b[39m\u001b[39m.\u001b[39mstderr)):\n",
      "File \u001b[0;32m/usr/lib/python3.10/subprocess.py:1863\u001b[0m, in \u001b[0;36mPopen._execute_child\u001b[0;34m(self, args, executable, preexec_fn, close_fds, pass_fds, cwd, env, startupinfo, creationflags, shell, p2cread, p2cwrite, c2pread, c2pwrite, errread, errwrite, restore_signals, gid, gids, uid, umask, start_new_session)\u001b[0m\n\u001b[1;32m   1861\u001b[0m     \u001b[39mif\u001b[39;00m errno_num \u001b[39m!=\u001b[39m \u001b[39m0\u001b[39m:\n\u001b[1;32m   1862\u001b[0m         err_msg \u001b[39m=\u001b[39m os\u001b[39m.\u001b[39mstrerror(errno_num)\n\u001b[0;32m-> 1863\u001b[0m     \u001b[39mraise\u001b[39;00m child_exception_type(errno_num, err_msg, err_filename)\n\u001b[1;32m   1864\u001b[0m \u001b[39mraise\u001b[39;00m child_exception_type(err_msg)\n",
      "\u001b[0;31mFileNotFoundError\u001b[0m: [Errno 2] No such file or directory: 'IntaRNA'"
     ]
    }
   ],
   "source": [
    "def simulate_IntaRNA_local(query: dict,\n",
    "                           fn_targets: str,\n",
    "                           sim_kwargs={}):\n",
    "    fn1 = data_writer.output(data=query, out_type='fasta', out_name='query', byseq=True, return_path=True)\n",
    "    sim_kwargs['query'] = fn1\n",
    "    sim_kwargs['target'] = fn_targets\n",
    "    \n",
    "    def run(query: str, target: str, qidxpos0: int, tidxpos0: int, outcsvcols: str, threads: int, n: int = 1,\n",
    "            param_file: str = '', extra_params: list = [], raw_stdout: bool = False):\n",
    "        p = Popen(['IntaRNA', '-q', query, '-t', target,\n",
    "                    '--outMode=C', f'--outcsvcols={outcsvcols}',\n",
    "                    f'--qIdxPos0={qidxpos0}',\n",
    "                    f'--tIdxPos0={tidxpos0}',\n",
    "                    f'--outNumber={n}',\n",
    "                    f'--threads={threads}', param_file]\n",
    "                    + extra_params, stdout=PIPE, stderr=PIPE, universal_newlines=True)\n",
    "        stdout, stderr = p.communicate()\n",
    "        return process_raw_stdout(stdout)\n",
    "    \n",
    "    return run(**sim_kwargs)\n",
    "\n",
    "\n",
    "fn_targets = data_writer.output(data=mrnas, out_type='fasta', out_name='query', byseq=True, return_path=True)\n",
    "sim_data = {}\n",
    "for s, sseq in srnas.items():\n",
    "    sim_data[s] = {}\n",
    "    t = datetime.now()\n",
    "\n",
    "    sim_data[s] = simulate_IntaRNA_local(query={s: sseq},\n",
    "                                         fn_targets=fn_targets,\n",
    "                                         sim_kwargs=config['interaction_simulator']['simulator_kwargs'])\n",
    "    print('Finished ', s, ' in ', (datetime.now() - t).total_seconds(), ' s')\n",
    "\n",
    "    data_writer.output(data=sim_data, out_type='json',\n",
    "                       out_name='inter_data_raw', overwrite=True)"
   ]
  },
  {
   "cell_type": "code",
   "execution_count": null,
   "metadata": {},
   "outputs": [],
   "source": []
  }
 ],
 "metadata": {
  "kernelspec": {
   "display_name": "env_evo",
   "language": "python",
   "name": "python3"
  },
  "language_info": {
   "codemirror_mode": {
    "name": "ipython",
    "version": 3
   },
   "file_extension": ".py",
   "mimetype": "text/x-python",
   "name": "python",
   "nbconvert_exporter": "python",
   "pygments_lexer": "ipython3",
   "version": "3.10.12"
  }
 },
 "nbformat": 4,
 "nbformat_minor": 2
}
