{
 "cells": [
  {
   "cell_type": "code",
   "execution_count": 3,
   "metadata": {},
   "outputs": [
    {
     "name": "stdout",
     "output_type": "stream",
     "text": [
      "The autoreload extension is already loaded. To reload it, use:\n",
      "  %reload_ext autoreload\n"
     ]
    }
   ],
   "source": [
    "%load_ext autoreload\n",
    "%autoreload 2"
   ]
  },
  {
   "cell_type": "markdown",
   "metadata": {},
   "source": [
    "# Orthogonality of all known sRNAs to all known mRNAs, recorded as transcription units, in E. coli"
   ]
  },
  {
   "cell_type": "markdown",
   "metadata": {},
   "source": [
    "Previously, we looked at how the sRNAs documented in the RNAInter database interact with all of the mRNAs in the RNAInter database, in other words the activity of the sRNAs on the mRNAs known to be regulated by sRNAs in general. Now we will look at how orthogonal the sRNAs are to any mRNA present in E. coli. The transcriptional units from the EcoCyc database represent all known mRNAs and the sRNAs are pulled from both the RNAInter and EcoCyc databases. "
   ]
  },
  {
   "cell_type": "markdown",
   "metadata": {},
   "source": [
    "# Imports"
   ]
  },
  {
   "cell_type": "code",
   "execution_count": 4,
   "metadata": {},
   "outputs": [
    {
     "name": "stderr",
     "output_type": "stream",
     "text": [
      "font_manager.py:_load_fontmanager():1624: generated new fontManager INFO\n"
     ]
    }
   ],
   "source": [
    "import os\n",
    "from Bio import SeqIO\n",
    "from Bio.SeqRecord import SeqRecord\n",
    "import pandas as pd\n",
    "\n",
    "from synbio_morpher.srv.io.manage.script_manager import script_preamble\n",
    "from synbio_morpher.srv.parameter_prediction.IntaRNA.bin.copomus.IntaRNA import IntaRNA\n",
    "from synbio_morpher.srv.parameter_prediction.simulator import process_raw_stdout\n",
    "from synbio_morpher.utils.circuit.common.config_setup import retrieve_default_args, load_simulator_kwargs\n",
    "\n",
    "from subprocess import Popen, PIPE, run\n",
    "from datetime import datetime\n",
    "import seaborn as sns\n",
    "import matplotlib.pyplot as plt\n",
    "import numpy as np\n",
    "import jax\n",
    "\n"
   ]
  },
  {
   "cell_type": "code",
   "execution_count": 5,
   "metadata": {},
   "outputs": [],
   "source": [
    "fn_tus = os.path.join('..', 'data', 'sRNA', 'EcoCyc', 'EcoCyc_TUs.csv')\n",
    "fn_merged = os.path.join('..', 'data', 'sRNA', 'merged_EcoCyc_RNAInter.csv')\n",
    "d_tus = pd.read_csv(fn_tus)\n",
    "d_merged = pd.read_csv(fn_merged)\n",
    "try:\n",
    "    d_tus = d_tus.drop(columns=['Unnamed: 0'])\n",
    "    d_merged = d_merged.drop(columns=['Unnamed: 0'])\n",
    "except:\n",
    "    pass\n"
   ]
  },
  {
   "cell_type": "code",
   "execution_count": 6,
   "metadata": {},
   "outputs": [
    {
     "data": {
      "text/html": [
       "<div>\n",
       "<style scoped>\n",
       "    .dataframe tbody tr th:only-of-type {\n",
       "        vertical-align: middle;\n",
       "    }\n",
       "\n",
       "    .dataframe tbody tr th {\n",
       "        vertical-align: top;\n",
       "    }\n",
       "\n",
       "    .dataframe thead th {\n",
       "        text-align: right;\n",
       "    }\n",
       "</style>\n",
       "<table border=\"1\" class=\"dataframe\">\n",
       "  <thead>\n",
       "    <tr style=\"text-align: right;\">\n",
       "      <th></th>\n",
       "      <th>Name</th>\n",
       "      <th>ID</th>\n",
       "      <th>Category</th>\n",
       "      <th>Symbol</th>\n",
       "      <th>Sequence</th>\n",
       "      <th>Database</th>\n",
       "    </tr>\n",
       "  </thead>\n",
       "  <tbody>\n",
       "    <tr>\n",
       "      <th>0</th>\n",
       "      <td>acnA</td>\n",
       "      <td>NCBI:946724</td>\n",
       "      <td>mRNA</td>\n",
       "      <td>acnA</td>\n",
       "      <td>ATTCGGAACGAGGCCTGAAGCAGTGTCGCCGTCCCTCTGCCTTGCA...</td>\n",
       "      <td>RNAInter</td>\n",
       "    </tr>\n",
       "    <tr>\n",
       "      <th>1</th>\n",
       "      <td>acrZ</td>\n",
       "      <td>NCBI:945365</td>\n",
       "      <td>mRNA</td>\n",
       "      <td>acrZ</td>\n",
       "      <td>ACTTACTACTGTCTTCGGGGGGTCCGAGGTTTCTGGGGGGTCGTAC...</td>\n",
       "      <td>RNAInter</td>\n",
       "    </tr>\n",
       "    <tr>\n",
       "      <th>2</th>\n",
       "      <td>argR</td>\n",
       "      <td>NCBI:947861</td>\n",
       "      <td>mRNA</td>\n",
       "      <td>argR</td>\n",
       "      <td>GACAATGGCGATAGTATGGCGGTTGTTTCTTTCCCATCTCTACTCA...</td>\n",
       "      <td>RNAInter</td>\n",
       "    </tr>\n",
       "    <tr>\n",
       "      <th>3</th>\n",
       "      <td>asr</td>\n",
       "      <td>NCBI:945103</td>\n",
       "      <td>mRNA</td>\n",
       "      <td>asr</td>\n",
       "      <td>TGCTCCTTCTGCTGATGCCCCCATGTTTGTGATGGGCGTGAACCAT...</td>\n",
       "      <td>RNAInter</td>\n",
       "    </tr>\n",
       "    <tr>\n",
       "      <th>4</th>\n",
       "      <td>chbC</td>\n",
       "      <td>NCBI:945982</td>\n",
       "      <td>mRNA</td>\n",
       "      <td>chbC</td>\n",
       "      <td>NCTATCATACTTTAGAAAAGCCATAGAGGGAAATTTTGTGAATAAG...</td>\n",
       "      <td>RNAInter</td>\n",
       "    </tr>\n",
       "  </tbody>\n",
       "</table>\n",
       "</div>"
      ],
      "text/plain": [
       "   Name           ID Category Symbol  \\\n",
       "0  acnA  NCBI:946724     mRNA   acnA   \n",
       "1  acrZ  NCBI:945365     mRNA   acrZ   \n",
       "2  argR  NCBI:947861     mRNA   argR   \n",
       "3   asr  NCBI:945103     mRNA    asr   \n",
       "4  chbC  NCBI:945982     mRNA   chbC   \n",
       "\n",
       "                                            Sequence  Database  \n",
       "0  ATTCGGAACGAGGCCTGAAGCAGTGTCGCCGTCCCTCTGCCTTGCA...  RNAInter  \n",
       "1  ACTTACTACTGTCTTCGGGGGGTCCGAGGTTTCTGGGGGGTCGTAC...  RNAInter  \n",
       "2  GACAATGGCGATAGTATGGCGGTTGTTTCTTTCCCATCTCTACTCA...  RNAInter  \n",
       "3  TGCTCCTTCTGCTGATGCCCCCATGTTTGTGATGGGCGTGAACCAT...  RNAInter  \n",
       "4  NCTATCATACTTTAGAAAAGCCATAGAGGGAAATTTTGTGAATAAG...  RNAInter  "
      ]
     },
     "execution_count": 6,
     "metadata": {},
     "output_type": "execute_result"
    }
   ],
   "source": [
    "d_merged.head()"
   ]
  },
  {
   "cell_type": "code",
   "execution_count": 7,
   "metadata": {},
   "outputs": [
    {
     "name": "stdout",
     "output_type": "stream",
     "text": [
      "3698\n",
      "Expected number of species:  6843149\n",
      "Expected number of circuits:  144\n"
     ]
    },
    {
     "data": {
      "text/html": [
       "<div>\n",
       "<style scoped>\n",
       "    .dataframe tbody tr th:only-of-type {\n",
       "        vertical-align: middle;\n",
       "    }\n",
       "\n",
       "    .dataframe tbody tr th {\n",
       "        vertical-align: top;\n",
       "    }\n",
       "\n",
       "    .dataframe thead th {\n",
       "        text-align: right;\n",
       "    }\n",
       "</style>\n",
       "<table border=\"1\" class=\"dataframe\">\n",
       "  <thead>\n",
       "    <tr style=\"text-align: right;\">\n",
       "      <th></th>\n",
       "      <th>Common-Name</th>\n",
       "      <th>Transcription-Units</th>\n",
       "      <th>Sequence - DNA sequence</th>\n",
       "      <th>Regulated-By</th>\n",
       "      <th>Regulator</th>\n",
       "    </tr>\n",
       "  </thead>\n",
       "  <tbody>\n",
       "    <tr>\n",
       "      <th>0</th>\n",
       "      <td>ygdG</td>\n",
       "      <td>TU0-13740</td>\n",
       "      <td>GTGGCTGTTCATTTGCTTATTGTCGATGCACTGAATCTTATTCGTC...</td>\n",
       "      <td>NaN</td>\n",
       "      <td>NaN</td>\n",
       "    </tr>\n",
       "    <tr>\n",
       "      <th>1</th>\n",
       "      <td>ahpCF</td>\n",
       "      <td>TU0-14761</td>\n",
       "      <td>GTTGTTGCATTTGTAAGGGCAACACCTCAGCCTGCAGGCAGGCACT...</td>\n",
       "      <td>NaN</td>\n",
       "      <td>NaN</td>\n",
       "    </tr>\n",
       "    <tr>\n",
       "      <th>2</th>\n",
       "      <td>fur</td>\n",
       "      <td>TU00121</td>\n",
       "      <td>ATTATCTCAAGAGCAAATTCTGTCACTTCTTCTAATGAAGTGAACC...</td>\n",
       "      <td>NaN</td>\n",
       "      <td>NaN</td>\n",
       "    </tr>\n",
       "    <tr>\n",
       "      <th>3</th>\n",
       "      <td>ymdAB-clsC</td>\n",
       "      <td>TU0-42664</td>\n",
       "      <td>CCGGACGATCGGGTGAAAATAGTTGTTACTGTTTCTGATGGACAGT...</td>\n",
       "      <td>REG0-16016</td>\n",
       "      <td>CPLX0-3930</td>\n",
       "    </tr>\n",
       "    <tr>\n",
       "      <th>4</th>\n",
       "      <td>ydeTSR</td>\n",
       "      <td>TU0-13294</td>\n",
       "      <td>ATGAGTGGTTACACCGTCAAGCCTCCTACCGGAGACACCAATGAGC...</td>\n",
       "      <td>NaN</td>\n",
       "      <td>NaN</td>\n",
       "    </tr>\n",
       "  </tbody>\n",
       "</table>\n",
       "</div>"
      ],
      "text/plain": [
       "  Common-Name Transcription-Units  \\\n",
       "0        ygdG           TU0-13740   \n",
       "1       ahpCF           TU0-14761   \n",
       "2         fur             TU00121   \n",
       "3  ymdAB-clsC           TU0-42664   \n",
       "4      ydeTSR           TU0-13294   \n",
       "\n",
       "                             Sequence - DNA sequence Regulated-By   Regulator  \n",
       "0  GTGGCTGTTCATTTGCTTATTGTCGATGCACTGAATCTTATTCGTC...          NaN         NaN  \n",
       "1  GTTGTTGCATTTGTAAGGGCAACACCTCAGCCTGCAGGCAGGCACT...          NaN         NaN  \n",
       "2  ATTATCTCAAGAGCAAATTCTGTCACTTCTTCTAATGAAGTGAACC...          NaN         NaN  \n",
       "3  CCGGACGATCGGGTGAAAATAGTTGTTACTGTTTCTGATGGACAGT...   REG0-16016  CPLX0-3930  \n",
       "4  ATGAGTGGTTACACCGTCAAGCCTCCTACCGGAGACACCAATGAGC...          NaN         NaN  "
      ]
     },
     "execution_count": 7,
     "metadata": {},
     "output_type": "execute_result"
    }
   ],
   "source": [
    "print(len(d_tus))\n",
    "nn = np.sum(np.arange(1, len(d_tus)+1)) + len(d_tus)\n",
    "print('Expected number of species: ', nn)\n",
    "print('Expected number of circuits: ', len(d_merged))\n",
    "d_tus.head()"
   ]
  },
  {
   "cell_type": "code",
   "execution_count": 8,
   "metadata": {},
   "outputs": [],
   "source": [
    "srnas = dict(list(d_merged[d_merged['Category'] == 'sRNA'][['Name', 'Sequence']].to_numpy()))\n",
    "mrnas = dict(list(d_tus[['Common-Name', 'Sequence - DNA sequence']].to_numpy()))"
   ]
  },
  {
   "cell_type": "code",
   "execution_count": 9,
   "metadata": {},
   "outputs": [],
   "source": [
    "config = {\n",
    "    \"experiment\": {\n",
    "        \"purpose\": \"tests\",\n",
    "        \"no_visualisations\": False,\n",
    "        \"no_numerical\": False,\n",
    "        \"debug_mode\": False\n",
    "    },\n",
    "    \"data\": {},\n",
    "    \"system_type\": \"RNA\",\n",
    "    \"interaction_simulator\": {\n",
    "        \"name\": \"IntaRNA\",\n",
    "        \"postprocess\": True\n",
    "    }\n",
    "}\n",
    "data_writer = None\n",
    "config, data_writer = script_preamble(config, data_writer)\n",
    "default_args = retrieve_default_args()\n",
    "simulator_kwargs = load_simulator_kwargs(default_args, config)\n",
    "config['interaction_simulator']['simulator_kwargs'] = simulator_kwargs\n"
   ]
  },
  {
   "cell_type": "code",
   "execution_count": 11,
   "metadata": {},
   "outputs": [],
   "source": [
    "config['interaction_simulator']['simulator_kwargs']['threads'] = 8"
   ]
  },
  {
   "cell_type": "markdown",
   "metadata": {},
   "source": [
    "# Simulate"
   ]
  },
  {
   "cell_type": "code",
   "execution_count": 13,
   "metadata": {},
   "outputs": [],
   "source": [
    "def simulate_IntaRNA_local(query: dict,\n",
    "                           fn_targets: str,\n",
    "                           sim_kwargs={}):\n",
    "    fn1 = data_writer.output(data=query, out_type='fasta', out_name='query', byseq=True, return_path=True)\n",
    "    sim_kwargs['query'] = fn1\n",
    "    sim_kwargs['target'] = fn_targets\n",
    "    \n",
    "    def run(query: str, target: str, qidxpos0: int, tidxpos0: int, outcsvcols: str, threads: int, n: int = 1,\n",
    "            param_file: str = '', extra_params: list = [], raw_stdout: bool = False):\n",
    "        p = Popen(['IntaRNA', '-q', query, '-t', target,\n",
    "                    '--outMode=C', f'--outcsvcols={outcsvcols}',\n",
    "                    f'--qIdxPos0={qidxpos0}',\n",
    "                    f'--tIdxPos0={tidxpos0}',\n",
    "                    f'--outNumber={n}',\n",
    "                    f'--threads={threads}', param_file]\n",
    "                    + extra_params, stdout=PIPE, stderr=PIPE, universal_newlines=True)\n",
    "        stdout, stderr = p.communicate()\n",
    "        return process_raw_stdout(stdout)\n",
    "    \n",
    "    return run(**sim_kwargs)\n",
    "\n",
    "\n",
    "fn_targets = data_writer.output(data=mrnas, out_type='fasta', out_name='target', byseq=True, return_path=True)\n",
    "sim_data = {}\n",
    "for s, sseq in srnas.items():\n",
    "    sim_data[s] = {}\n",
    "    t = datetime.now()\n",
    "\n",
    "    sim_data[s] = simulate_IntaRNA_local(query={s: sseq},\n",
    "                                         fn_targets=fn_targets,\n",
    "                                         sim_kwargs=config['interaction_simulator']['simulator_kwargs'])\n",
    "    print('Finished ', s, ' in ', (datetime.now() - t).total_seconds(), ' s')\n",
    "\n",
    "    data_writer.output(data=sim_data, out_type='json',\n",
    "                       out_name='inter_data_raw', overwrite=True)"
   ]
  },
  {
   "cell_type": "code",
   "execution_count": null,
   "metadata": {},
   "outputs": [],
   "source": []
  }
 ],
 "metadata": {
  "kernelspec": {
   "display_name": "env_evo",
   "language": "python",
   "name": "python3"
  },
  "language_info": {
   "codemirror_mode": {
    "name": "ipython",
    "version": 3
   },
   "file_extension": ".py",
   "mimetype": "text/x-python",
   "name": "python",
   "nbconvert_exporter": "python",
   "pygments_lexer": "ipython3",
   "version": "3.10.12"
  }
 },
 "nbformat": 4,
 "nbformat_minor": 2
}
