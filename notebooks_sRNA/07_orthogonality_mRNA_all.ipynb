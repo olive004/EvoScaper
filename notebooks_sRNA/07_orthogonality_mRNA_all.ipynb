{
 "cells": [
  {
   "cell_type": "code",
   "execution_count": 6,
   "metadata": {},
   "outputs": [
    {
     "name": "stdout",
     "output_type": "stream",
     "text": [
      "The autoreload extension is already loaded. To reload it, use:\n",
      "  %reload_ext autoreload\n"
     ]
    }
   ],
   "source": [
    "%load_ext autoreload\n",
    "%autoreload 2"
   ]
  },
  {
   "cell_type": "markdown",
   "metadata": {},
   "source": [
    "# Orthogonality of all known sRNAs to all known mRNAs, recorded as transcription units, in E. coli"
   ]
  },
  {
   "cell_type": "markdown",
   "metadata": {},
   "source": [
    "Previously, we looked at how the sRNAs documented in the RNAInter database interact with all of the mRNAs in the RNAInter database, in other words the activity of the sRNAs on the mRNAs known to be regulated by sRNAs in general. Now we will look at how orthogonal the sRNAs are to any mRNA present in E. coli. The transcriptional units from the EcoCyc database represent all known mRNAs and the sRNAs are pulled from both the RNAInter and EcoCyc databases. "
   ]
  },
  {
   "cell_type": "markdown",
   "metadata": {},
   "source": [
    "# Imports"
   ]
  },
  {
   "cell_type": "code",
   "execution_count": 7,
   "metadata": {},
   "outputs": [],
   "source": [
    "import os\n",
    "from Bio import SeqIO\n",
    "from Bio.SeqRecord import SeqRecord\n",
    "import pandas as pd\n",
    "\n",
    "from synbio_morpher.srv.io.manage.script_manager import script_preamble\n",
    "from synbio_morpher.srv.parameter_prediction.IntaRNA.bin.copomus.IntaRNA import IntaRNA\n",
    "from synbio_morpher.srv.parameter_prediction.simulator import process_raw_stdout\n",
    "from synbio_morpher.utils.circuit.common.config_setup import retrieve_default_args, load_simulator_kwargs\n",
    "\n",
    "from subprocess import Popen, PIPE, run\n",
    "from datetime import datetime\n",
    "import seaborn as sns\n",
    "import matplotlib.pyplot as plt\n",
    "import numpy as np\n",
    "import jax\n",
    "\n"
   ]
  },
  {
   "cell_type": "code",
   "execution_count": 8,
   "metadata": {},
   "outputs": [],
   "source": [
    "fn_tus = os.path.join('..', 'data', 'sRNA', 'EcoCyc', 'EcoCyc_TUs.csv')\n",
    "fn_merged = os.path.join('..', 'data', 'sRNA', 'merged_EcoCyc_RNAInter.csv')\n",
    "d_tus = pd.read_csv(fn_tus)\n",
    "d_merged = pd.read_csv(fn_merged)\n",
    "try:\n",
    "    d_tus = d_tus.drop(columns=['Unnamed: 0'])\n",
    "    d_merged = d_merged.drop(columns=['Unnamed: 0'])\n",
    "except:\n",
    "    pass\n"
   ]
  },
  {
   "cell_type": "code",
   "execution_count": 9,
   "metadata": {},
   "outputs": [
    {
     "data": {
      "text/html": [
       "<div>\n",
       "<style scoped>\n",
       "    .dataframe tbody tr th:only-of-type {\n",
       "        vertical-align: middle;\n",
       "    }\n",
       "\n",
       "    .dataframe tbody tr th {\n",
       "        vertical-align: top;\n",
       "    }\n",
       "\n",
       "    .dataframe thead th {\n",
       "        text-align: right;\n",
       "    }\n",
       "</style>\n",
       "<table border=\"1\" class=\"dataframe\">\n",
       "  <thead>\n",
       "    <tr style=\"text-align: right;\">\n",
       "      <th></th>\n",
       "      <th>Name</th>\n",
       "      <th>ID</th>\n",
       "      <th>Category</th>\n",
       "      <th>Symbol</th>\n",
       "      <th>Sequence</th>\n",
       "      <th>Database</th>\n",
       "    </tr>\n",
       "  </thead>\n",
       "  <tbody>\n",
       "    <tr>\n",
       "      <th>0</th>\n",
       "      <td>acnA</td>\n",
       "      <td>NCBI:946724</td>\n",
       "      <td>mRNA</td>\n",
       "      <td>acnA</td>\n",
       "      <td>ATTCGGAACGAGGCCTGAAGCAGTGTCGCCGTCCCTCTGCCTTGCA...</td>\n",
       "      <td>RNAInter</td>\n",
       "    </tr>\n",
       "    <tr>\n",
       "      <th>1</th>\n",
       "      <td>acrZ</td>\n",
       "      <td>NCBI:945365</td>\n",
       "      <td>mRNA</td>\n",
       "      <td>acrZ</td>\n",
       "      <td>ACTTACTACTGTCTTCGGGGGGTCCGAGGTTTCTGGGGGGTCGTAC...</td>\n",
       "      <td>RNAInter</td>\n",
       "    </tr>\n",
       "    <tr>\n",
       "      <th>2</th>\n",
       "      <td>argR</td>\n",
       "      <td>NCBI:947861</td>\n",
       "      <td>mRNA</td>\n",
       "      <td>argR</td>\n",
       "      <td>GACAATGGCGATAGTATGGCGGTTGTTTCTTTCCCATCTCTACTCA...</td>\n",
       "      <td>RNAInter</td>\n",
       "    </tr>\n",
       "    <tr>\n",
       "      <th>3</th>\n",
       "      <td>asr</td>\n",
       "      <td>NCBI:945103</td>\n",
       "      <td>mRNA</td>\n",
       "      <td>asr</td>\n",
       "      <td>TGCTCCTTCTGCTGATGCCCCCATGTTTGTGATGGGCGTGAACCAT...</td>\n",
       "      <td>RNAInter</td>\n",
       "    </tr>\n",
       "    <tr>\n",
       "      <th>4</th>\n",
       "      <td>chbC</td>\n",
       "      <td>NCBI:945982</td>\n",
       "      <td>mRNA</td>\n",
       "      <td>chbC</td>\n",
       "      <td>NCTATCATACTTTAGAAAAGCCATAGAGGGAAATTTTGTGAATAAG...</td>\n",
       "      <td>RNAInter</td>\n",
       "    </tr>\n",
       "  </tbody>\n",
       "</table>\n",
       "</div>"
      ],
      "text/plain": [
       "   Name  ...  Database\n",
       "0  acnA  ...  RNAInter\n",
       "1  acrZ  ...  RNAInter\n",
       "2  argR  ...  RNAInter\n",
       "3   asr  ...  RNAInter\n",
       "4  chbC  ...  RNAInter\n",
       "\n",
       "[5 rows x 6 columns]"
      ]
     },
     "execution_count": 9,
     "metadata": {},
     "output_type": "execute_result"
    }
   ],
   "source": [
    "d_merged.head()"
   ]
  },
  {
   "cell_type": "code",
   "execution_count": 10,
   "metadata": {},
   "outputs": [
    {
     "name": "stdout",
     "output_type": "stream",
     "text": [
      "3705\n",
      "Expected number of species:  6869070\n",
      "Expected number of circuits:  144\n"
     ]
    },
    {
     "data": {
      "text/html": [
       "<div>\n",
       "<style scoped>\n",
       "    .dataframe tbody tr th:only-of-type {\n",
       "        vertical-align: middle;\n",
       "    }\n",
       "\n",
       "    .dataframe tbody tr th {\n",
       "        vertical-align: top;\n",
       "    }\n",
       "\n",
       "    .dataframe thead th {\n",
       "        text-align: right;\n",
       "    }\n",
       "</style>\n",
       "<table border=\"1\" class=\"dataframe\">\n",
       "  <thead>\n",
       "    <tr style=\"text-align: right;\">\n",
       "      <th></th>\n",
       "      <th>Common-Name</th>\n",
       "      <th>Transcription-Units</th>\n",
       "      <th>Sequence - DNA sequence</th>\n",
       "      <th>Regulated-By</th>\n",
       "      <th>Regulator</th>\n",
       "    </tr>\n",
       "  </thead>\n",
       "  <tbody>\n",
       "    <tr>\n",
       "      <th>0</th>\n",
       "      <td>ygdG</td>\n",
       "      <td>TU0-13740</td>\n",
       "      <td>GTGGCTGTTCATTTGCTTATTGTCGATGCACTGAATCTTATTCGTC...</td>\n",
       "      <td>NaN</td>\n",
       "      <td>NaN</td>\n",
       "    </tr>\n",
       "    <tr>\n",
       "      <th>1</th>\n",
       "      <td>ahpCF</td>\n",
       "      <td>TU0-14761</td>\n",
       "      <td>GTTGTTGCATTTGTAAGGGCAACACCTCAGCCTGCAGGCAGGCACT...</td>\n",
       "      <td>NaN</td>\n",
       "      <td>NaN</td>\n",
       "    </tr>\n",
       "    <tr>\n",
       "      <th>2</th>\n",
       "      <td>fur</td>\n",
       "      <td>TU00121</td>\n",
       "      <td>ATTATCTCAAGAGCAAATTCTGTCACTTCTTCTAATGAAGTGAACC...</td>\n",
       "      <td>NaN</td>\n",
       "      <td>NaN</td>\n",
       "    </tr>\n",
       "    <tr>\n",
       "      <th>3</th>\n",
       "      <td>ymdAB-clsC</td>\n",
       "      <td>TU0-42664</td>\n",
       "      <td>CCGGACGATCGGGTGAAAATAGTTGTTACTGTTTCTGATGGACAGT...</td>\n",
       "      <td>REG0-16016</td>\n",
       "      <td>CPLX0-3930</td>\n",
       "    </tr>\n",
       "    <tr>\n",
       "      <th>4</th>\n",
       "      <td>ydeTSR</td>\n",
       "      <td>TU0-13294</td>\n",
       "      <td>ATGAGTGGTTACACCGTCAAGCCTCCTACCGGAGACACCAATGAGC...</td>\n",
       "      <td>NaN</td>\n",
       "      <td>NaN</td>\n",
       "    </tr>\n",
       "  </tbody>\n",
       "</table>\n",
       "</div>"
      ],
      "text/plain": [
       "  Common-Name Transcription-Units  ... Regulated-By   Regulator\n",
       "0        ygdG           TU0-13740  ...          NaN         NaN\n",
       "1       ahpCF           TU0-14761  ...          NaN         NaN\n",
       "2         fur             TU00121  ...          NaN         NaN\n",
       "3  ymdAB-clsC           TU0-42664  ...   REG0-16016  CPLX0-3930\n",
       "4      ydeTSR           TU0-13294  ...          NaN         NaN\n",
       "\n",
       "[5 rows x 5 columns]"
      ]
     },
     "execution_count": 10,
     "metadata": {},
     "output_type": "execute_result"
    }
   ],
   "source": [
    "print(len(d_tus))\n",
    "nn = np.sum(np.arange(1, len(d_tus)+1)) + len(d_tus)\n",
    "print('Expected number of species: ', nn)\n",
    "print('Expected number of circuits: ', len(d_merged))\n",
    "d_tus.head()"
   ]
  },
  {
   "cell_type": "code",
   "execution_count": null,
   "metadata": {},
   "outputs": [],
   "source": [
    "srnas = dict(list(d_merged[d_merged['Category'] == 'sRNA'][['Name', 'Sequence']].to_numpy()))\n",
    "mrnas = dict(list(d_tus[['Common-Name', 'Sequence - DNA sequence']].to_numpy()))"
   ]
  },
  {
   "cell_type": "code",
   "execution_count": 18,
   "metadata": {},
   "outputs": [],
   "source": [
    "config = {\n",
    "    \"experiment\": {\n",
    "        \"purpose\": \"tests\",\n",
    "        \"no_visualisations\": False,\n",
    "        \"no_numerical\": False,\n",
    "        \"debug_mode\": False\n",
    "    },\n",
    "    \"data\": {},\n",
    "    \"system_type\": \"RNA\",\n",
    "    \"interaction_simulator\": {\n",
    "        \"name\": \"IntaRNA\",\n",
    "        \"postprocess\": True\n",
    "    }\n",
    "}\n",
    "data_writer = None\n",
    "config, data_writer = script_preamble(config, data_writer)\n",
    "default_args = retrieve_default_args()\n",
    "simulator_kwargs = load_simulator_kwargs(default_args, config)\n",
    "config['interaction_simulator']['simulator_kwargs'] = simulator_kwargs\n"
   ]
  },
  {
   "cell_type": "code",
   "execution_count": 19,
   "metadata": {},
   "outputs": [
    {
     "ename": "TypeError",
     "evalue": "can only concatenate str (not \"float\") to str",
     "output_type": "error",
     "traceback": [
      "\u001b[0;31m---------------------------------------------------------------------------\u001b[0m",
      "\u001b[0;31mTypeError\u001b[0m                                 Traceback (most recent call last)",
      "\u001b[1;32m/home/wadh6511/Kode/EvoScaper/notebooks_sRNA/07_orthogonality_mRNA_all.ipynb Cell 11\u001b[0m line \u001b[0;36m2\n\u001b[1;32m     <a href='vscode-notebook-cell://ssh-remote%2B7b22686f73744e616d65223a2277616468363531312d50432d425832333638312d5453227d/home/wadh6511/Kode/EvoScaper/notebooks_sRNA/07_orthogonality_mRNA_all.ipynb#X13sdnNjb2RlLXJlbW90ZQ%3D%3D?line=17'>18</a>\u001b[0m         \u001b[39mreturn\u001b[39;00m process_raw_stdout(stdout)\n\u001b[1;32m     <a href='vscode-notebook-cell://ssh-remote%2B7b22686f73744e616d65223a2277616468363531312d50432d425832333638312d5453227d/home/wadh6511/Kode/EvoScaper/notebooks_sRNA/07_orthogonality_mRNA_all.ipynb#X13sdnNjb2RlLXJlbW90ZQ%3D%3D?line=19'>20</a>\u001b[0m     \u001b[39mreturn\u001b[39;00m run(\u001b[39m*\u001b[39m\u001b[39m*\u001b[39msim_kwargs)\n\u001b[0;32m---> <a href='vscode-notebook-cell://ssh-remote%2B7b22686f73744e616d65223a2277616468363531312d50432d425832333638312d5453227d/home/wadh6511/Kode/EvoScaper/notebooks_sRNA/07_orthogonality_mRNA_all.ipynb#X13sdnNjb2RlLXJlbW90ZQ%3D%3D?line=22'>23</a>\u001b[0m fn_targets \u001b[39m=\u001b[39m data_writer\u001b[39m.\u001b[39;49moutput(data\u001b[39m=\u001b[39;49mmrnas, out_type\u001b[39m=\u001b[39;49m\u001b[39m'\u001b[39;49m\u001b[39mfasta\u001b[39;49m\u001b[39m'\u001b[39;49m, out_name\u001b[39m=\u001b[39;49m\u001b[39m'\u001b[39;49m\u001b[39mquery\u001b[39;49m\u001b[39m'\u001b[39;49m, byseq\u001b[39m=\u001b[39;49m\u001b[39mTrue\u001b[39;49;00m, return_path\u001b[39m=\u001b[39;49m\u001b[39mTrue\u001b[39;49;00m)\n\u001b[1;32m     <a href='vscode-notebook-cell://ssh-remote%2B7b22686f73744e616d65223a2277616468363531312d50432d425832333638312d5453227d/home/wadh6511/Kode/EvoScaper/notebooks_sRNA/07_orthogonality_mRNA_all.ipynb#X13sdnNjb2RlLXJlbW90ZQ%3D%3D?line=23'>24</a>\u001b[0m sim_data \u001b[39m=\u001b[39m {}\n\u001b[1;32m     <a href='vscode-notebook-cell://ssh-remote%2B7b22686f73744e616d65223a2277616468363531312d50432d425832333638312d5453227d/home/wadh6511/Kode/EvoScaper/notebooks_sRNA/07_orthogonality_mRNA_all.ipynb#X13sdnNjb2RlLXJlbW90ZQ%3D%3D?line=24'>25</a>\u001b[0m \u001b[39mfor\u001b[39;00m s, sseq \u001b[39min\u001b[39;00m srnas\u001b[39m.\u001b[39mitems():\n",
      "File \u001b[0;32m~/Kode/env_evo/lib/python3.10/site-packages/synbio_morpher/utils/results/writer.py:92\u001b[0m, in \u001b[0;36mDataWriter.output\u001b[0;34m(self, out_type, out_name, overwrite, return_path, new_file, filename_addon, subfolder, write_master, write_func, write_to_top_dir, **writer_kwargs)\u001b[0m\n\u001b[1;32m     87\u001b[0m     \u001b[39mif\u001b[39;00m \u001b[39mnot\u001b[39;00m os\u001b[39m.\u001b[39mpath\u001b[39m.\u001b[39mexists(out_path):\n\u001b[1;32m     88\u001b[0m         \u001b[39mself\u001b[39m\u001b[39m.\u001b[39mwrite_to_output_summary(\n\u001b[1;32m     89\u001b[0m             out_name, out_name\u001b[39m=\u001b[39mbase_name, out_path\u001b[39m=\u001b[39mout_path,\n\u001b[1;32m     90\u001b[0m             filename_addon\u001b[39m=\u001b[39mfilename_addon, out_type\u001b[39m=\u001b[39mout_type)\n\u001b[0;32m---> 92\u001b[0m write_func(\u001b[39m*\u001b[39;49m\u001b[39m*\u001b[39;49mwriter_kwargs)\n\u001b[1;32m     93\u001b[0m \u001b[39mif\u001b[39;00m return_path:\n\u001b[1;32m     94\u001b[0m     \u001b[39mreturn\u001b[39;00m out_path\n",
      "File \u001b[0;32m~/Kode/env_evo/lib/python3.10/site-packages/synbio_morpher/utils/data/data_format_tools/manipulate_fasta.py:35\u001b[0m, in \u001b[0;36mwrite_fasta_file\u001b[0;34m(out_path, seq_generator, stype, count, data, byseq)\u001b[0m\n\u001b[1;32m     33\u001b[0m         write_fasta_file_byseq(seqs\u001b[39m=\u001b[39mdata, stype\u001b[39m=\u001b[39mstype, out_path\u001b[39m=\u001b[39mout_path)\n\u001b[1;32m     34\u001b[0m     \u001b[39melif\u001b[39;00m \u001b[39mtype\u001b[39m(data) \u001b[39m==\u001b[39m \u001b[39mdict\u001b[39m:\n\u001b[0;32m---> 35\u001b[0m         write_fasta_file_byseqdict(seqs\u001b[39m=\u001b[39;49mdata, out_path\u001b[39m=\u001b[39;49mout_path)\n\u001b[1;32m     36\u001b[0m \u001b[39melse\u001b[39;00m:\n\u001b[1;32m     37\u001b[0m     f \u001b[39m=\u001b[39m \u001b[39mopen\u001b[39m(out_path, \u001b[39m'\u001b[39m\u001b[39mw+\u001b[39m\u001b[39m'\u001b[39m)\n",
      "File \u001b[0;32m~/Kode/env_evo/lib/python3.10/site-packages/synbio_morpher/utils/data/data_format_tools/manipulate_fasta.py:57\u001b[0m, in \u001b[0;36mwrite_fasta_file_byseqdict\u001b[0;34m(seqs, out_path)\u001b[0m\n\u001b[1;32m     55\u001b[0m f \u001b[39m=\u001b[39m \u001b[39mopen\u001b[39m(out_path, \u001b[39m'\u001b[39m\u001b[39mw+\u001b[39m\u001b[39m'\u001b[39m)\n\u001b[1;32m     56\u001b[0m \u001b[39mfor\u001b[39;00m n, s \u001b[39min\u001b[39;00m seqs\u001b[39m.\u001b[39mitems():\n\u001b[0;32m---> 57\u001b[0m     seq_name \u001b[39m=\u001b[39m \u001b[39m'\u001b[39;49m\u001b[39m>\u001b[39;49m\u001b[39m'\u001b[39;49m \u001b[39m+\u001b[39;49m n \u001b[39m+\u001b[39m \u001b[39m'\u001b[39m\u001b[39m\\n\u001b[39;00m\u001b[39m'\u001b[39m\n\u001b[1;32m     58\u001b[0m     f\u001b[39m.\u001b[39mwrite(seq_name)\n\u001b[1;32m     59\u001b[0m     f\u001b[39m.\u001b[39mwrite(s \u001b[39m+\u001b[39m \u001b[39m'\u001b[39m\u001b[39m\\n\u001b[39;00m\u001b[39m'\u001b[39m)\n",
      "\u001b[0;31mTypeError\u001b[0m: can only concatenate str (not \"float\") to str"
     ]
    }
   ],
   "source": [
    "def simulate_IntaRNA_local(query: dict,\n",
    "                           fn_targets: str,\n",
    "                           sim_kwargs={}):\n",
    "    fn1 = data_writer.output(data=query, out_type='fasta', out_name='query', byseq=True, return_path=True)\n",
    "    sim_kwargs['query'] = fn1\n",
    "    sim_kwargs['target'] = fn_targets\n",
    "    \n",
    "    def run(query: str, target: str, qidxpos0: int, tidxpos0: int, outcsvcols: str, threads: int, n: int = 1,\n",
    "            param_file: str = '', extra_params: list = [], raw_stdout: bool = False):\n",
    "        p = Popen(['IntaRNA', '-q', query, '-t', target,\n",
    "                    '--outMode=C', f'--outcsvcols={outcsvcols}',\n",
    "                    f'--qIdxPos0={qidxpos0}',\n",
    "                    f'--tIdxPos0={tidxpos0}',\n",
    "                    f'--outNumber={n}',\n",
    "                    f'--threads={threads}', param_file]\n",
    "                    + extra_params, stdout=PIPE, stderr=PIPE, universal_newlines=True)\n",
    "        stdout, stderr = p.communicate()\n",
    "        return process_raw_stdout(stdout)\n",
    "    \n",
    "    return run(**sim_kwargs)\n",
    "\n",
    "\n",
    "fn_targets = data_writer.output(data=mrnas, out_type='fasta', out_name='query', byseq=True, return_path=True)\n",
    "sim_data = {}\n",
    "for s, sseq in srnas.items():\n",
    "    sim_data[s] = {}\n",
    "    t = datetime.now()\n",
    "\n",
    "    sim_data[s] = simulate_IntaRNA_local(query={s: sseq},\n",
    "                                         fn_targets=fn_targets,\n",
    "                                         sim_kwargs=config['interaction_simulator']['simulator_kwargs'],\n",
    "                                         simulator=IntaRNA())\n",
    "    print('Finished ', s, ' in ', (datetime.now() - t).total_seconds(), ' s')\n",
    "\n",
    "    data_writer.output(data=sim_data, out_type='json',\n",
    "                       out_name='inter_data_raw', overwrite=True)"
   ]
  },
  {
   "cell_type": "code",
   "execution_count": null,
   "metadata": {},
   "outputs": [],
   "source": []
  }
 ],
 "metadata": {
  "kernelspec": {
   "display_name": "env_evo",
   "language": "python",
   "name": "python3"
  },
  "language_info": {
   "codemirror_mode": {
    "name": "ipython",
    "version": 3
   },
   "file_extension": ".py",
   "mimetype": "text/x-python",
   "name": "python",
   "nbconvert_exporter": "python",
   "pygments_lexer": "ipython3",
   "version": "3.10.12"
  }
 },
 "nbformat": 4,
 "nbformat_minor": 2
}
