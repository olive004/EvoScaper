{
 "cells": [
  {
   "cell_type": "code",
   "execution_count": null,
   "metadata": {},
   "outputs": [],
   "source": [
    "%load_ext autoreload\n",
    "%autoreload 2"
   ]
  },
  {
   "cell_type": "markdown",
   "metadata": {},
   "source": [
    "# Simulate the interaction strengths of different sRNA pairs interacting"
   ]
  },
  {
   "cell_type": "markdown",
   "metadata": {},
   "source": [
    "## Imports"
   ]
  },
  {
   "cell_type": "code",
   "execution_count": null,
   "metadata": {},
   "outputs": [],
   "source": [
    "import os\n",
    "from Bio import SeqIO\n",
    "from Bio.SeqRecord import SeqRecord\n",
    "import pandas as pd\n",
    "\n",
    "from synbio_morpher.srv.io.manage.script_manager import script_preamble\n",
    "from synbio_morpher.utils.common.setup import construct_circuit_from_cfg, prepare_config, expand_config\n",
    "from synbio_morpher.utils.evolution.evolver import Evolver\n",
    "from synbio_morpher.utils.circuit.agnostic_circuits.circuit_manager import CircuitModeller\n",
    "\n",
    "import numpy as np\n",
    "import jax\n",
    "jax.config.update('jax_platform_name', 'gpu')\n",
    "\n"
   ]
  },
  {
   "cell_type": "markdown",
   "metadata": {},
   "source": [
    "# Choose sRNA species"
   ]
  },
  {
   "cell_type": "code",
   "execution_count": null,
   "metadata": {},
   "outputs": [],
   "source": [
    "fn_EcoCyc = '../data/sRNA/EcoCyc/EcoCyc_regulatory_RNAs.csv'\n",
    "data = pd.read_csv(fn_EcoCyc)\n",
    "fn_RNAInter = os.path.join('..', 'data', 'sRNA', 'RNAInter', 'Download_data_RR.csv')\n",
    "data = pd.concat([pd.read_csv(fn_RNAInter), pd.read_csv(fn_EcoCyc)])\n",
    "try:\n",
    "    data = data.drop(columns=['Unnamed: 0'])\n",
    "except:\n",
    "    pass\n"
   ]
  },
  {
   "cell_type": "code",
   "execution_count": null,
   "metadata": {},
   "outputs": [],
   "source": [
    "config = {\n",
    "    \"experiment\": {\n",
    "        \"purpose\": \"tests\",\n",
    "        \"no_visualisations\": False,\n",
    "        \"no_numerical\": False,\n",
    "        \"debug_mode\": False\n",
    "    },\n",
    "    \"data_path\": circuit_fasta,\n",
    "    \"system_type\": \"RNA\",\n",
    "    \"include_prod_deg\": False,\n",
    "    \"interaction_simulator\": {\n",
    "        \"name\": \"IntaRNA\",\n",
    "        \"postprocess\": True\n",
    "    },\n",
    "    \"mutations_args\": {\n",
    "        \"algorithm\": \"random\",\n",
    "        \"mutation_counts\": 0,\n",
    "        \"mutation_nums_within_sequence\": [1, 3, 5, 20],\n",
    "        \"mutation_nums_per_position\": 1,\n",
    "        \"concurrent_species_to_mutate\": \"single_species_at_a_time\",\n",
    "        \"seed\": 0\n",
    "    },\n",
    "    \"signal\": {\n",
    "        \"inputs\": [sRNA1],\n",
    "        \"outputs\": [],\n",
    "        \"function_name\": \"step_function\",\n",
    "        \"function_kwargs\": {\n",
    "            \"impulse_center\": 1,\n",
    "            \"impulse_halfwidth\": 5,\n",
    "            \"target\": 2\n",
    "        }\n",
    "    },\n",
    "    \"simulation\": {\n",
    "        \"dt0\": 0.1,\n",
    "        \"t0\": 0,\n",
    "        \"t1\": 100,\n",
    "        \"tmax\": 2000,\n",
    "        \"solver\": \"diffrax\",\n",
    "        \"use_batch_mutations\": True,\n",
    "        \"interaction_factor\": 1,\n",
    "        \"batch_size\": 20000,\n",
    "        \"max_circuits\": 60000,\n",
    "        \"device\": \"gpu\",\n",
    "        \"threshold_steady_states\": 0.05,\n",
    "        \"use_rate_scaling\": True\n",
    "    },\n",
    "    \"molecular_params_factor\": 1,\n",
    "    \"molecular_params\": {\n",
    "        \"avg_mRNA_per_cell\": 100,\n",
    "        \"cell_doubling_time\": 1200,\n",
    "        \"creation_rate\": 2.35,\n",
    "        \"starting_copynumbers\": 200,\n",
    "        \"degradation_rate\": 0.01175,\n",
    "        \"association_binding_rate\": 1000000\n",
    "    }\n",
    "}"
   ]
  },
  {
   "cell_type": "code",
   "execution_count": null,
   "metadata": {},
   "outputs": [],
   "source": [
    "data_writer = None\n",
    "config, data_writer = script_preamble(config, data_writer)\n",
    "config_file = expand_config(config=config)\n",
    "config_file = prepare_config(config_file)\n",
    "circuit = construct_circuit_from_cfg(prev_configs=None, config_file=config_file)\n",
    "\n",
    "circuit = Evolver(data_writer=data_writer, sequence_type=config_file.get('system_type'), \n",
    "                seed=config_file.get('mutations_args', {}).get('seed', np.random.randint(1000))).mutate(\n",
    "                    circuit,\n",
    "                    write_to_subsystem=True, algorithm=config_file.get('mutations_args', {}).get('algorithm', 'random'))"
   ]
  }
 ],
 "metadata": {
  "language_info": {
   "name": "python"
  }
 },
 "nbformat": 4,
 "nbformat_minor": 2
}
