{
 "cells": [
  {
   "cell_type": "code",
   "execution_count": 1,
   "metadata": {},
   "outputs": [],
   "source": [
    "%load_ext autoreload\n",
    "%autoreload 2"
   ]
  },
  {
   "cell_type": "markdown",
   "metadata": {},
   "source": [
    "# Comparison of mutational robustness of sRNA's vs. randomly generated RNA"
   ]
  },
  {
   "cell_type": "markdown",
   "metadata": {},
   "source": [
    "## Imports"
   ]
  },
  {
   "cell_type": "code",
   "execution_count": 2,
   "metadata": {},
   "outputs": [
    {
     "name": "stderr",
     "output_type": "stream",
     "text": [
      "xla_bridge.py:backends():622: Unable to initialize backend 'rocm': NOT_FOUND: Could not find registered platform with name: \"rocm\". Available platform names are: CUDA Interpreter INFO\n",
      "xla_bridge.py:backends():622: Unable to initialize backend 'tpu': module 'jaxlib.xla_extension' has no attribute 'get_tpu_client' INFO\n"
     ]
    },
    {
     "data": {
      "text/plain": [
       "[CpuDevice(id=0)]"
      ]
     },
     "execution_count": 2,
     "metadata": {},
     "output_type": "execute_result"
    }
   ],
   "source": [
    "import os\n",
    "from Bio import SeqIO\n",
    "from Bio.SeqRecord import SeqRecord\n",
    "import pandas as pd\n",
    "import re\n",
    "import os\n",
    "from subprocess import Popen, PIPE\n",
    "from copy import deepcopy\n",
    "\n",
    "import numpy as np\n",
    "import seaborn as sns\n",
    "import matplotlib.pyplot as plt\n",
    "import pandas as pd\n",
    "from datetime import datetime\n",
    "from synbio_morpher.srv.io.manage.script_manager import script_preamble\n",
    "from synbio_morpher.srv.parameter_prediction.simulator import process_raw_stdout\n",
    "from synbio_morpher.utils.common.setup import expand_model_config, prepare_config, expand_config\n",
    "from synbio_morpher.utils.evolution.mutation import apply_mutation_to_sequence, get_mutation_type_mapping, reverse_mut_mapping\n",
    "from synbio_morpher.utils.circuit.agnostic_circuits.circuit_manager import CircuitModeller\n",
    "from synbio_morpher.utils.misc.type_handling import flatten_listlike, flatten_nested_dict\n",
    "from synbio_morpher.utils.data.data_format_tools.common import load_multiple_as_list, load_json_as_dict\n",
    "\n",
    "\n",
    "import seaborn as sns\n",
    "import matplotlib.pyplot as plt\n",
    "import numpy as np\n",
    "import jax\n",
    "jax.config.update('jax_platform_name', 'cpu')\n",
    "\n",
    "jax.devices()"
   ]
  },
  {
   "cell_type": "markdown",
   "metadata": {},
   "source": [
    "## Load data"
   ]
  },
  {
   "cell_type": "code",
   "execution_count": 3,
   "metadata": {},
   "outputs": [],
   "source": [
    "fn = '../data/sRNA/merged_inter.csv'\n",
    "data = pd.read_csv(fn)\n",
    "try:\n",
    "    data = data.drop(columns=['Unnamed: 0'])\n",
    "except:\n",
    "    pass\n",
    "data = data[data['Sequence 1'].apply(lambda x: type(x) == str)]\n",
    "data = data[data['Sequence 2'].apply(lambda x: type(x) == str)]\n"
   ]
  },
  {
   "cell_type": "code",
   "execution_count": 4,
   "metadata": {},
   "outputs": [
    {
     "data": {
      "text/html": [
       "<div>\n",
       "<style scoped>\n",
       "    .dataframe tbody tr th:only-of-type {\n",
       "        vertical-align: middle;\n",
       "    }\n",
       "\n",
       "    .dataframe tbody tr th {\n",
       "        vertical-align: top;\n",
       "    }\n",
       "\n",
       "    .dataframe thead th {\n",
       "        text-align: right;\n",
       "    }\n",
       "</style>\n",
       "<table border=\"1\" class=\"dataframe\">\n",
       "  <thead>\n",
       "    <tr style=\"text-align: right;\">\n",
       "      <th></th>\n",
       "      <th>Interactor 1</th>\n",
       "      <th>Interactor 2</th>\n",
       "      <th>ID 1</th>\n",
       "      <th>ID 2</th>\n",
       "      <th>Category 1</th>\n",
       "      <th>Category 2</th>\n",
       "      <th>Regulation</th>\n",
       "      <th>Binding position 1</th>\n",
       "      <th>Binding position 2</th>\n",
       "      <th>Sequence 1</th>\n",
       "      <th>Sequence 2</th>\n",
       "      <th>Source DB</th>\n",
       "      <th>Genome position 1</th>\n",
       "      <th>Genome position 2</th>\n",
       "      <th>Strand 1</th>\n",
       "      <th>Strand 2</th>\n",
       "      <th>Sequence before 1</th>\n",
       "      <th>Sequence before 2</th>\n",
       "      <th>Sequence after 1</th>\n",
       "      <th>Sequence after 2</th>\n",
       "    </tr>\n",
       "  </thead>\n",
       "  <tbody>\n",
       "    <tr>\n",
       "      <th>0</th>\n",
       "      <td>dsrA</td>\n",
       "      <td>dsrB</td>\n",
       "      <td>NCBI:946470</td>\n",
       "      <td>NCBI:946468</td>\n",
       "      <td>sRNA</td>\n",
       "      <td>mRNA</td>\n",
       "      <td>NaN</td>\n",
       "      <td>NaN</td>\n",
       "      <td>NaN</td>\n",
       "      <td>AACACATCAGATTTCCTGGTGTAACGAATTTTTTAAGTGCTTCTTG...</td>\n",
       "      <td>TAAATGNAAACAAGTTTTATTTTTATCATCAGAACATTCTAATAAA...</td>\n",
       "      <td>RNAInter</td>\n",
       "      <td>NaN</td>\n",
       "      <td>NaN</td>\n",
       "      <td>NaN</td>\n",
       "      <td>NaN</td>\n",
       "      <td>ttcatcaccttatccgcaatttttttcgctgacaagaaaatattcg...</td>\n",
       "      <td>atcgttttcctcctgtggctttgtgccagtgtagaacaatttcgtt...</td>\n",
       "      <td>cgtgaggtcagcgtcgatgtcgatgccctgctggcggcgatcaatg...</td>\n",
       "      <td>NaN</td>\n",
       "    </tr>\n",
       "    <tr>\n",
       "      <th>1</th>\n",
       "      <td>dsrA</td>\n",
       "      <td>ilvH</td>\n",
       "      <td>NCBI:946470</td>\n",
       "      <td>NCBI:947267</td>\n",
       "      <td>sRNA</td>\n",
       "      <td>mRNA</td>\n",
       "      <td>NaN</td>\n",
       "      <td>NaN</td>\n",
       "      <td>NaN</td>\n",
       "      <td>AACACATCAGATTTCCTGGTGTAACGAATTTTTTAAGTGCTTCTTG...</td>\n",
       "      <td>ATTCGCCACAACAAGGACAGGAAGGTTCGGCGCAAGGAGCCCAAGA...</td>\n",
       "      <td>RNAInter</td>\n",
       "      <td>NaN</td>\n",
       "      <td>NaN</td>\n",
       "      <td>NaN</td>\n",
       "      <td>NaN</td>\n",
       "      <td>ttcatcaccttatccgcaatttttttcgctgacaagaaaatattcg...</td>\n",
       "      <td>ATTCGCCACAACAAGGACAGGAAGGTTCGGCGCAAGGAGCCCAAGA...</td>\n",
       "      <td>cgtgaggtcagcgtcgatgtcgatgccctgctggcggcgatcaatg...</td>\n",
       "      <td>ATTCGCCACAACAAGGACAGGAAGGTTCGGCGCAAGGAGCCCAAGA...</td>\n",
       "    </tr>\n",
       "    <tr>\n",
       "      <th>2</th>\n",
       "      <td>oxyS</td>\n",
       "      <td>fhlA</td>\n",
       "      <td>NCBI:2847701</td>\n",
       "      <td>NCBI:947181</td>\n",
       "      <td>sRNA</td>\n",
       "      <td>mRNA</td>\n",
       "      <td>NaN</td>\n",
       "      <td>NaN</td>\n",
       "      <td>NaN</td>\n",
       "      <td>GAAACGGAGCGGCACCTCTTTTAACCCTTGAAGTCACTGCCCGTTT...</td>\n",
       "      <td>CACCAGATTGCCAAGCTGATGGTCGAGCTGTCCAAATCCCAGGATG...</td>\n",
       "      <td>RNAInter</td>\n",
       "      <td>NaN</td>\n",
       "      <td>NaN</td>\n",
       "      <td>NaN</td>\n",
       "      <td>NaN</td>\n",
       "      <td>TTTGCGAACTTATCGGTTTCGTATTGAGGGCAATAAACTCTCGAGG...</td>\n",
       "      <td>CACCAGATTGCCAAGCTGATGGTCGAGCTGTCCAAATCCCAGGATG...</td>\n",
       "      <td>TTTGCGAACTTATCGGTTTCGTATTGAGGGCAATAAACTCTCGAGG...</td>\n",
       "      <td>CACCAGATTGCCAAGCTGATGGTCGAGCTGTCCAAATCCCAGGATG...</td>\n",
       "    </tr>\n",
       "    <tr>\n",
       "      <th>3</th>\n",
       "      <td>sgrS</td>\n",
       "      <td>hfq</td>\n",
       "      <td>NCBI:4056038</td>\n",
       "      <td>NCBI:948689</td>\n",
       "      <td>sRNA</td>\n",
       "      <td>mRNA</td>\n",
       "      <td>NaN</td>\n",
       "      <td>NaN</td>\n",
       "      <td>NaN</td>\n",
       "      <td>GATGAAGCAAGGGGGTGCCCCATGCGTCAGTTTTATCAGCACTATT...</td>\n",
       "      <td>ATGGCTAAGGGGCAATCTTTACAAGATCCGTTCCTGAACGCACTGC...</td>\n",
       "      <td>RNAInter</td>\n",
       "      <td>NaN</td>\n",
       "      <td>NaN</td>\n",
       "      <td>NaN</td>\n",
       "      <td>NaN</td>\n",
       "      <td>ttgagcagggtgcgcatatgacgacgcgagcagctcaataacgctg...</td>\n",
       "      <td>cgaagcggcagataacctggctgcgtggttgggaaggggttcactg...</td>\n",
       "      <td>ttattctcgccgcgctaaaaagggaacgtatgatctggataatgac...</td>\n",
       "      <td>aaggtttcgggctgtttttttacacggggagccagcgatcctgcgt...</td>\n",
       "    </tr>\n",
       "    <tr>\n",
       "      <th>4</th>\n",
       "      <td>oxyS</td>\n",
       "      <td>nusG</td>\n",
       "      <td>NCBI:2847701</td>\n",
       "      <td>NCBI:948485</td>\n",
       "      <td>sRNA</td>\n",
       "      <td>mRNA</td>\n",
       "      <td>NaN</td>\n",
       "      <td>NaN</td>\n",
       "      <td>NaN</td>\n",
       "      <td>GAAACGGAGCGGCACCTCTTTTAACCCTTGAAGTCACTGCCCGTTT...</td>\n",
       "      <td>ATGTCTGAAGCTCCTAAAAAGCGCTGGTACGTCGTTCAGGCGTTTT...</td>\n",
       "      <td>RNAInter</td>\n",
       "      <td>NaN</td>\n",
       "      <td>NaN</td>\n",
       "      <td>NaN</td>\n",
       "      <td>NaN</td>\n",
       "      <td>TTTGCGAACTTATCGGTTTCGTATTGAGGGCAATAAACTCTCGAGG...</td>\n",
       "      <td>cgacaaaaggtaaagctaccgttgcttttgcccgtgaagcgcgtac...</td>\n",
       "      <td>TTTGCGAACTTATCGGTTTCGTATTGAGGGCAATAAACTCTCGAGG...</td>\n",
       "      <td>aacccagcgatcaaaaaagcggcgatttaatcgttgcacaaggcgt...</td>\n",
       "    </tr>\n",
       "    <tr>\n",
       "      <th>...</th>\n",
       "      <td>...</td>\n",
       "      <td>...</td>\n",
       "      <td>...</td>\n",
       "      <td>...</td>\n",
       "      <td>...</td>\n",
       "      <td>...</td>\n",
       "      <td>...</td>\n",
       "      <td>...</td>\n",
       "      <td>...</td>\n",
       "      <td>...</td>\n",
       "      <td>...</td>\n",
       "      <td>...</td>\n",
       "      <td>...</td>\n",
       "      <td>...</td>\n",
       "      <td>...</td>\n",
       "      <td>...</td>\n",
       "      <td>...</td>\n",
       "      <td>...</td>\n",
       "      <td>...</td>\n",
       "      <td>...</td>\n",
       "    </tr>\n",
       "    <tr>\n",
       "      <th>373</th>\n",
       "      <td>ryhB</td>\n",
       "      <td>msrA</td>\n",
       "      <td>chromosome:NC_000913.3, Gene ID:2847761</td>\n",
       "      <td>chromosome:NC_000913.3, Gene ID:948734</td>\n",
       "      <td>sRNA</td>\n",
       "      <td>mRNA</td>\n",
       "      <td>No Interaction</td>\n",
       "      <td>['NA']</td>\n",
       "      <td>['NA']</td>\n",
       "      <td>GCGATCAGGAAGACCCTCGCGGAGAACCTGAAAGCACGACATTGCT...</td>\n",
       "      <td>ATGAGTTTATTTGATAAAAAGCATCTGGTTTCCCCCGCCGATGCCC...</td>\n",
       "      <td>sRNATarBase</td>\n",
       "      <td>3580927..3581016</td>\n",
       "      <td>4441538..4442176</td>\n",
       "      <td>reverse</td>\n",
       "      <td>reverse</td>\n",
       "      <td>TTTGAGAGCGTCTCTGTCCCTCGTTTTGCGGTTAAGCCGCATCCAT...</td>\n",
       "      <td>atggtgtcgctctcccgaaaatcggtcattggggttaaggttgtaa...</td>\n",
       "      <td>TTTGAGAGCGTCTCTGTCCCTCGTTTTGCGGTTAAGCCGCATCCAT...</td>\n",
       "      <td>aggtactgtaaagccgccagagggttaaaattcagacagctgaaaa...</td>\n",
       "    </tr>\n",
       "    <tr>\n",
       "      <th>374</th>\n",
       "      <td>gcvB</td>\n",
       "      <td>hdeA</td>\n",
       "      <td>chromosome:NC_000913.3, Gene ID:2847720</td>\n",
       "      <td>chromosome:NC_000913.3, Gene ID:948025</td>\n",
       "      <td>trans-encoded antisense RNA</td>\n",
       "      <td>mRNA</td>\n",
       "      <td>Induction</td>\n",
       "      <td>['NA']</td>\n",
       "      <td>['NA']</td>\n",
       "      <td>ACTTCCTGAGCCGGAACGAAAAGTTTTATCGGAATGCGTGTTCTGG...</td>\n",
       "      <td>ATGAAAAAAGTATTAGGCGTTATTCTTGGTGGTCTGCTTCTTCTGC...</td>\n",
       "      <td>sRNATarBase</td>\n",
       "      <td>2942696..2942901</td>\n",
       "      <td>3656408..3656740</td>\n",
       "      <td>forward</td>\n",
       "      <td>reverse</td>\n",
       "      <td>GGTAGAGCGCCATTGCATTCTTTAGCGCCTCGATCCCTTTATTTTT...</td>\n",
       "      <td>atcgtaatatcctcaactataaagtgaaagagccgtcacgaatcaa...</td>\n",
       "      <td>GGTAGAGCGCCATTGCATTCTTTAGCGCCTCGATCCCTTTATTTTT...</td>\n",
       "      <td>gccaacgcagattgtgcgttcaccagtgacaaagccgctacagcgc...</td>\n",
       "    </tr>\n",
       "    <tr>\n",
       "      <th>375</th>\n",
       "      <td>gcvB</td>\n",
       "      <td>hdeB</td>\n",
       "      <td>chromosome:NC_000913.3, Gene ID:2847720</td>\n",
       "      <td>chromosome:NC_000913.3, Gene ID:948026</td>\n",
       "      <td>trans-encoded antisense RNA</td>\n",
       "      <td>mRNA</td>\n",
       "      <td>Induction</td>\n",
       "      <td>['NA']</td>\n",
       "      <td>['NA']</td>\n",
       "      <td>ACTTCCTGAGCCGGAACGAAAAGTTTTATCGGAATGCGTGTTCTGG...</td>\n",
       "      <td>ATGAATATTTCATCTCTCCGTAAAGCGTTTATTTTTATGGGCGCTG...</td>\n",
       "      <td>sRNATarBase</td>\n",
       "      <td>2942696..2942901</td>\n",
       "      <td>3655966..3656292</td>\n",
       "      <td>forward</td>\n",
       "      <td>reverse</td>\n",
       "      <td>GGTAGAGCGCCATTGCATTCTTTAGCGCCTCGATCCCTTTATTTTT...</td>\n",
       "      <td>attttgtaacccattcaatatagagattatatatgaacaggaggaa...</td>\n",
       "      <td>GGTAGAGCGCCATTGCATTCTTTAGCGCCTCGATCCCTTTATTTTT...</td>\n",
       "      <td>cataaacagggcgcttcccatgccaattaatacatgtgtgcgtaac...</td>\n",
       "    </tr>\n",
       "    <tr>\n",
       "      <th>376</th>\n",
       "      <td>Esr41</td>\n",
       "      <td>fliC</td>\n",
       "      <td>chromosome:NC_002695.1, Gene ID:</td>\n",
       "      <td>chromosome:NC_002695.1, Gene ID:</td>\n",
       "      <td>trans-encoded antisense RNA</td>\n",
       "      <td>mRNA</td>\n",
       "      <td>Induction</td>\n",
       "      <td>['NA']</td>\n",
       "      <td>['NA']</td>\n",
       "      <td>GATGCTCTAGGCATCACATTTTCTCCATGGGGTATTCCCTCCGCCG...</td>\n",
       "      <td>ATGGCACAAGTCATTAATACCAACAGCCTCTCGCTGATCACTCAAA...</td>\n",
       "      <td>sRNATarBase</td>\n",
       "      <td>1422406..1422479</td>\n",
       "      <td>2624379..2626136</td>\n",
       "      <td>forward</td>\n",
       "      <td>reverse</td>\n",
       "      <td>gatgctctaggcatcacattttctccatggggtattccctccgccg...</td>\n",
       "      <td>ttaaccctgcagcagagacagaacctgctgcggtacctggttagct...</td>\n",
       "      <td>gatgctctaggcatcacattttctccatggggtattccctccgccg...</td>\n",
       "      <td>ttaaccctgcagcagagacagaacctgctgcggtacctggttagct...</td>\n",
       "    </tr>\n",
       "    <tr>\n",
       "      <th>377</th>\n",
       "      <td>dsrA</td>\n",
       "      <td>mreB</td>\n",
       "      <td>chromosome:NC_000913.3, Gene ID:946470</td>\n",
       "      <td>chromosome:NC_000913.3, Gene ID:948588</td>\n",
       "      <td>trans-encoded antisense RNA</td>\n",
       "      <td>mRNA</td>\n",
       "      <td>Repression</td>\n",
       "      <td>['24..41']</td>\n",
       "      <td>['-3..18']</td>\n",
       "      <td>AACACATCAGATTTCCTGGTGTAACGAATTTTTTAAGTGCTTCTTG...</td>\n",
       "      <td>ATGTTGAAAAAATTTCGTGGCATGTTTTCCAATGACTTGTCCATTG...</td>\n",
       "      <td>sRNATarBase</td>\n",
       "      <td>2025227..2025313</td>\n",
       "      <td>3400044..3401087</td>\n",
       "      <td>reverse</td>\n",
       "      <td>reverse</td>\n",
       "      <td>ttcatcaccttatccgcaatttttttcgctgacaagaaaatattcg...</td>\n",
       "      <td>atactaagggataatcctgaaagctggggcggaaaagaaaatccgc...</td>\n",
       "      <td>cgtgaggtcagcgtcgatgtcgatgccctgctggcggcgatcaatg...</td>\n",
       "      <td>cggcggtatccatataagtacggatttgactgaacgtccccaggcg...</td>\n",
       "    </tr>\n",
       "  </tbody>\n",
       "</table>\n",
       "<p>378 rows × 20 columns</p>\n",
       "</div>"
      ],
      "text/plain": [
       "    Interactor 1 Interactor 2                                     ID 1  \\\n",
       "0           dsrA         dsrB                              NCBI:946470   \n",
       "1           dsrA         ilvH                              NCBI:946470   \n",
       "2           oxyS         fhlA                             NCBI:2847701   \n",
       "3           sgrS          hfq                             NCBI:4056038   \n",
       "4           oxyS         nusG                             NCBI:2847701   \n",
       "..           ...          ...                                      ...   \n",
       "373         ryhB         msrA  chromosome:NC_000913.3, Gene ID:2847761   \n",
       "374         gcvB         hdeA  chromosome:NC_000913.3, Gene ID:2847720   \n",
       "375         gcvB         hdeB  chromosome:NC_000913.3, Gene ID:2847720   \n",
       "376        Esr41         fliC         chromosome:NC_002695.1, Gene ID:   \n",
       "377         dsrA         mreB   chromosome:NC_000913.3, Gene ID:946470   \n",
       "\n",
       "                                       ID 2                   Category 1  \\\n",
       "0                               NCBI:946468                         sRNA   \n",
       "1                               NCBI:947267                         sRNA   \n",
       "2                               NCBI:947181                         sRNA   \n",
       "3                               NCBI:948689                         sRNA   \n",
       "4                               NCBI:948485                         sRNA   \n",
       "..                                      ...                          ...   \n",
       "373  chromosome:NC_000913.3, Gene ID:948734                         sRNA   \n",
       "374  chromosome:NC_000913.3, Gene ID:948025  trans-encoded antisense RNA   \n",
       "375  chromosome:NC_000913.3, Gene ID:948026  trans-encoded antisense RNA   \n",
       "376        chromosome:NC_002695.1, Gene ID:  trans-encoded antisense RNA   \n",
       "377  chromosome:NC_000913.3, Gene ID:948588  trans-encoded antisense RNA   \n",
       "\n",
       "    Category 2      Regulation Binding position 1 Binding position 2  \\\n",
       "0         mRNA             NaN                NaN                NaN   \n",
       "1         mRNA             NaN                NaN                NaN   \n",
       "2         mRNA             NaN                NaN                NaN   \n",
       "3         mRNA             NaN                NaN                NaN   \n",
       "4         mRNA             NaN                NaN                NaN   \n",
       "..         ...             ...                ...                ...   \n",
       "373       mRNA  No Interaction             ['NA']             ['NA']   \n",
       "374       mRNA       Induction             ['NA']             ['NA']   \n",
       "375       mRNA       Induction             ['NA']             ['NA']   \n",
       "376       mRNA       Induction             ['NA']             ['NA']   \n",
       "377       mRNA      Repression         ['24..41']         ['-3..18']   \n",
       "\n",
       "                                            Sequence 1  \\\n",
       "0    AACACATCAGATTTCCTGGTGTAACGAATTTTTTAAGTGCTTCTTG...   \n",
       "1    AACACATCAGATTTCCTGGTGTAACGAATTTTTTAAGTGCTTCTTG...   \n",
       "2    GAAACGGAGCGGCACCTCTTTTAACCCTTGAAGTCACTGCCCGTTT...   \n",
       "3    GATGAAGCAAGGGGGTGCCCCATGCGTCAGTTTTATCAGCACTATT...   \n",
       "4    GAAACGGAGCGGCACCTCTTTTAACCCTTGAAGTCACTGCCCGTTT...   \n",
       "..                                                 ...   \n",
       "373  GCGATCAGGAAGACCCTCGCGGAGAACCTGAAAGCACGACATTGCT...   \n",
       "374  ACTTCCTGAGCCGGAACGAAAAGTTTTATCGGAATGCGTGTTCTGG...   \n",
       "375  ACTTCCTGAGCCGGAACGAAAAGTTTTATCGGAATGCGTGTTCTGG...   \n",
       "376  GATGCTCTAGGCATCACATTTTCTCCATGGGGTATTCCCTCCGCCG...   \n",
       "377  AACACATCAGATTTCCTGGTGTAACGAATTTTTTAAGTGCTTCTTG...   \n",
       "\n",
       "                                            Sequence 2    Source DB  \\\n",
       "0    TAAATGNAAACAAGTTTTATTTTTATCATCAGAACATTCTAATAAA...     RNAInter   \n",
       "1    ATTCGCCACAACAAGGACAGGAAGGTTCGGCGCAAGGAGCCCAAGA...     RNAInter   \n",
       "2    CACCAGATTGCCAAGCTGATGGTCGAGCTGTCCAAATCCCAGGATG...     RNAInter   \n",
       "3    ATGGCTAAGGGGCAATCTTTACAAGATCCGTTCCTGAACGCACTGC...     RNAInter   \n",
       "4    ATGTCTGAAGCTCCTAAAAAGCGCTGGTACGTCGTTCAGGCGTTTT...     RNAInter   \n",
       "..                                                 ...          ...   \n",
       "373  ATGAGTTTATTTGATAAAAAGCATCTGGTTTCCCCCGCCGATGCCC...  sRNATarBase   \n",
       "374  ATGAAAAAAGTATTAGGCGTTATTCTTGGTGGTCTGCTTCTTCTGC...  sRNATarBase   \n",
       "375  ATGAATATTTCATCTCTCCGTAAAGCGTTTATTTTTATGGGCGCTG...  sRNATarBase   \n",
       "376  ATGGCACAAGTCATTAATACCAACAGCCTCTCGCTGATCACTCAAA...  sRNATarBase   \n",
       "377  ATGTTGAAAAAATTTCGTGGCATGTTTTCCAATGACTTGTCCATTG...  sRNATarBase   \n",
       "\n",
       "    Genome position 1 Genome position 2 Strand 1 Strand 2  \\\n",
       "0                 NaN               NaN      NaN      NaN   \n",
       "1                 NaN               NaN      NaN      NaN   \n",
       "2                 NaN               NaN      NaN      NaN   \n",
       "3                 NaN               NaN      NaN      NaN   \n",
       "4                 NaN               NaN      NaN      NaN   \n",
       "..                ...               ...      ...      ...   \n",
       "373  3580927..3581016  4441538..4442176  reverse  reverse   \n",
       "374  2942696..2942901  3656408..3656740  forward  reverse   \n",
       "375  2942696..2942901  3655966..3656292  forward  reverse   \n",
       "376  1422406..1422479  2624379..2626136  forward  reverse   \n",
       "377  2025227..2025313  3400044..3401087  reverse  reverse   \n",
       "\n",
       "                                     Sequence before 1  \\\n",
       "0    ttcatcaccttatccgcaatttttttcgctgacaagaaaatattcg...   \n",
       "1    ttcatcaccttatccgcaatttttttcgctgacaagaaaatattcg...   \n",
       "2    TTTGCGAACTTATCGGTTTCGTATTGAGGGCAATAAACTCTCGAGG...   \n",
       "3    ttgagcagggtgcgcatatgacgacgcgagcagctcaataacgctg...   \n",
       "4    TTTGCGAACTTATCGGTTTCGTATTGAGGGCAATAAACTCTCGAGG...   \n",
       "..                                                 ...   \n",
       "373  TTTGAGAGCGTCTCTGTCCCTCGTTTTGCGGTTAAGCCGCATCCAT...   \n",
       "374  GGTAGAGCGCCATTGCATTCTTTAGCGCCTCGATCCCTTTATTTTT...   \n",
       "375  GGTAGAGCGCCATTGCATTCTTTAGCGCCTCGATCCCTTTATTTTT...   \n",
       "376  gatgctctaggcatcacattttctccatggggtattccctccgccg...   \n",
       "377  ttcatcaccttatccgcaatttttttcgctgacaagaaaatattcg...   \n",
       "\n",
       "                                     Sequence before 2  \\\n",
       "0    atcgttttcctcctgtggctttgtgccagtgtagaacaatttcgtt...   \n",
       "1    ATTCGCCACAACAAGGACAGGAAGGTTCGGCGCAAGGAGCCCAAGA...   \n",
       "2    CACCAGATTGCCAAGCTGATGGTCGAGCTGTCCAAATCCCAGGATG...   \n",
       "3    cgaagcggcagataacctggctgcgtggttgggaaggggttcactg...   \n",
       "4    cgacaaaaggtaaagctaccgttgcttttgcccgtgaagcgcgtac...   \n",
       "..                                                 ...   \n",
       "373  atggtgtcgctctcccgaaaatcggtcattggggttaaggttgtaa...   \n",
       "374  atcgtaatatcctcaactataaagtgaaagagccgtcacgaatcaa...   \n",
       "375  attttgtaacccattcaatatagagattatatatgaacaggaggaa...   \n",
       "376  ttaaccctgcagcagagacagaacctgctgcggtacctggttagct...   \n",
       "377  atactaagggataatcctgaaagctggggcggaaaagaaaatccgc...   \n",
       "\n",
       "                                      Sequence after 1  \\\n",
       "0    cgtgaggtcagcgtcgatgtcgatgccctgctggcggcgatcaatg...   \n",
       "1    cgtgaggtcagcgtcgatgtcgatgccctgctggcggcgatcaatg...   \n",
       "2    TTTGCGAACTTATCGGTTTCGTATTGAGGGCAATAAACTCTCGAGG...   \n",
       "3    ttattctcgccgcgctaaaaagggaacgtatgatctggataatgac...   \n",
       "4    TTTGCGAACTTATCGGTTTCGTATTGAGGGCAATAAACTCTCGAGG...   \n",
       "..                                                 ...   \n",
       "373  TTTGAGAGCGTCTCTGTCCCTCGTTTTGCGGTTAAGCCGCATCCAT...   \n",
       "374  GGTAGAGCGCCATTGCATTCTTTAGCGCCTCGATCCCTTTATTTTT...   \n",
       "375  GGTAGAGCGCCATTGCATTCTTTAGCGCCTCGATCCCTTTATTTTT...   \n",
       "376  gatgctctaggcatcacattttctccatggggtattccctccgccg...   \n",
       "377  cgtgaggtcagcgtcgatgtcgatgccctgctggcggcgatcaatg...   \n",
       "\n",
       "                                      Sequence after 2  \n",
       "0                                                  NaN  \n",
       "1    ATTCGCCACAACAAGGACAGGAAGGTTCGGCGCAAGGAGCCCAAGA...  \n",
       "2    CACCAGATTGCCAAGCTGATGGTCGAGCTGTCCAAATCCCAGGATG...  \n",
       "3    aaggtttcgggctgtttttttacacggggagccagcgatcctgcgt...  \n",
       "4    aacccagcgatcaaaaaagcggcgatttaatcgttgcacaaggcgt...  \n",
       "..                                                 ...  \n",
       "373  aggtactgtaaagccgccagagggttaaaattcagacagctgaaaa...  \n",
       "374  gccaacgcagattgtgcgttcaccagtgacaaagccgctacagcgc...  \n",
       "375  cataaacagggcgcttcccatgccaattaatacatgtgtgcgtaac...  \n",
       "376  ttaaccctgcagcagagacagaacctgctgcggtacctggttagct...  \n",
       "377  cggcggtatccatataagtacggatttgactgaacgtccccaggcg...  \n",
       "\n",
       "[378 rows x 20 columns]"
      ]
     },
     "execution_count": 4,
     "metadata": {},
     "output_type": "execute_result"
    }
   ],
   "source": [
    "data"
   ]
  },
  {
   "cell_type": "code",
   "execution_count": 5,
   "metadata": {},
   "outputs": [
    {
     "data": {
      "text/plain": [
       "array(['dsrA', 'oxyS', 'sgrS', 'ryhB', 'yzgL', 'ygaY', 'yagJ', 'sdsR',\n",
       "       'micF', 'micC', 'istR', 'omrA', 'omrB', 'rprA', 'rseX', 'rybB',\n",
       "       'Spot_42', 'cyaR', 'dicF', 'gadY', 'symR', 'sokB', 'sokC', 'gcvB',\n",
       "       'rdlD', 'smpB', 'fnrS', 'sibC', 'arcZ', 'chiX', 'mgrR', 'sibB',\n",
       "       'mcaS', 'ohsC', 'OrzO', 'sibD', 'sibE', 'sibA', 'IpeX', 'rdlA',\n",
       "       'rdlB', 'rdlC', 'arrS', 'mntS', 'AfaR', 'Esr41'], dtype=object)"
      ]
     },
     "execution_count": 5,
     "metadata": {},
     "output_type": "execute_result"
    }
   ],
   "source": [
    "data['Interactor 1'].unique()"
   ]
  },
  {
   "cell_type": "code",
   "execution_count": 6,
   "metadata": {},
   "outputs": [
    {
     "data": {
      "text/html": [
       "<div>\n",
       "<style scoped>\n",
       "    .dataframe tbody tr th:only-of-type {\n",
       "        vertical-align: middle;\n",
       "    }\n",
       "\n",
       "    .dataframe tbody tr th {\n",
       "        vertical-align: top;\n",
       "    }\n",
       "\n",
       "    .dataframe thead th {\n",
       "        text-align: right;\n",
       "    }\n",
       "</style>\n",
       "<table border=\"1\" class=\"dataframe\">\n",
       "  <thead>\n",
       "    <tr style=\"text-align: right;\">\n",
       "      <th></th>\n",
       "      <th>Interactor 1</th>\n",
       "      <th>Interactor 2</th>\n",
       "      <th>ID 1</th>\n",
       "      <th>ID 2</th>\n",
       "      <th>Category 1</th>\n",
       "      <th>Category 2</th>\n",
       "      <th>Regulation</th>\n",
       "      <th>Binding position 1</th>\n",
       "      <th>Binding position 2</th>\n",
       "      <th>Sequence 1</th>\n",
       "      <th>Sequence 2</th>\n",
       "      <th>Source DB</th>\n",
       "      <th>Genome position 1</th>\n",
       "      <th>Genome position 2</th>\n",
       "      <th>Strand 1</th>\n",
       "      <th>Strand 2</th>\n",
       "      <th>Sequence before 1</th>\n",
       "      <th>Sequence before 2</th>\n",
       "      <th>Sequence after 1</th>\n",
       "      <th>Sequence after 2</th>\n",
       "    </tr>\n",
       "  </thead>\n",
       "  <tbody>\n",
       "    <tr>\n",
       "      <th>234</th>\n",
       "      <td>chiX</td>\n",
       "      <td>rpoS</td>\n",
       "      <td>chromosome:NC_000913.3, Gene ID:5061500</td>\n",
       "      <td>chromosome:NC_000913.3, Gene ID:947210</td>\n",
       "      <td>sRNA</td>\n",
       "      <td>mRNA</td>\n",
       "      <td>No Interaction</td>\n",
       "      <td>['NA']</td>\n",
       "      <td>['NA']</td>\n",
       "      <td>ACACCGTCGCTTAAAGTGACGGCATAATAATAAAAAAATGAAATTC...</td>\n",
       "      <td>ATGAGTCAGAATACGCTGAAAGTTCATGATTTAAATGAAGATGCGG...</td>\n",
       "      <td>sRNATarBase</td>\n",
       "      <td>507204..507287</td>\n",
       "      <td>2866559..2867551</td>\n",
       "      <td>forward</td>\n",
       "      <td>reverse</td>\n",
       "      <td>gtttcagccggatcgtgctcgtaggtatggatttgaaacgaaatct...</td>\n",
       "      <td>ATCCTCGGGTCTTGCAGGCCACACAGGACACCCTGAACCGTCATGG...</td>\n",
       "      <td>ttagcgcaacatttgcggcaaattcccttctccatacaggtgtagt...</td>\n",
       "      <td>ATCCTCGGGTCTTGCAGGCCACACAGGACACCCTGAACCGTCATGG...</td>\n",
       "    </tr>\n",
       "    <tr>\n",
       "      <th>290</th>\n",
       "      <td>chiX</td>\n",
       "      <td>citA</td>\n",
       "      <td>chromosome:NC_000913.3, Gene ID:5061500</td>\n",
       "      <td>chromosome:NC_000913.3, Gene ID:945233</td>\n",
       "      <td>trans-encoded antisense RNA</td>\n",
       "      <td>mRNA</td>\n",
       "      <td>Repression</td>\n",
       "      <td>['46..57']</td>\n",
       "      <td>['-37..-26']</td>\n",
       "      <td>ACACCGTCGCTTAAAGTGACGGCATAATAATAAAAAAATGAAATTC...</td>\n",
       "      <td>ATGTTGCAGCTTAACGAGAATAAACAGTTTGCATTTTTCCAAAGAC...</td>\n",
       "      <td>sRNATarBase</td>\n",
       "      <td>507204..507287</td>\n",
       "      <td>652235..653893</td>\n",
       "      <td>forward</td>\n",
       "      <td>forward</td>\n",
       "      <td>gtttcagccggatcgtgctcgtaggtatggatttgaaacgaaatct...</td>\n",
       "      <td>GCCTGTGACCGACGTACTGGGGGATACGCAGATAAACTCAT</td>\n",
       "      <td>ttagcgcaacatttgcggcaaattcccttctccatacaggtgtagt...</td>\n",
       "      <td>GCCTGTGACCGACGTACTGGGGGATACGCAGATAAACTCAT</td>\n",
       "    </tr>\n",
       "    <tr>\n",
       "      <th>308</th>\n",
       "      <td>chiX</td>\n",
       "      <td>chiP</td>\n",
       "      <td>chromosome:NC_000913.3, Gene ID:5061500</td>\n",
       "      <td>chromosome:NC_000913.3, Gene ID:945296</td>\n",
       "      <td>trans-encoded antisense RNA</td>\n",
       "      <td>mRNA</td>\n",
       "      <td>Repression</td>\n",
       "      <td>['81..92']</td>\n",
       "      <td>['45..56']</td>\n",
       "      <td>ACACCGTCGCTTAAAGTGACGGCATAATAATAAAAAAATGAAATTC...</td>\n",
       "      <td>ATGCGTACGTTTAGTGGCAAACGTAGTACGCTGGCGCTGGCTATCG...</td>\n",
       "      <td>sRNATarBase</td>\n",
       "      <td>507204..507287</td>\n",
       "      <td>708334..709740</td>\n",
       "      <td>forward</td>\n",
       "      <td>forward</td>\n",
       "      <td>gtttcagccggatcgtgctcgtaggtatggatttgaaacgaaatct...</td>\n",
       "      <td>GCCTGTGACGGGGTCGGTTTGTACACCGATAAACTCAT</td>\n",
       "      <td>ttagcgcaacatttgcggcaaattcccttctccatacaggtgtagt...</td>\n",
       "      <td>GCCTGTGACGGGGTCGGTTTGTACACCGATAAACTCAT</td>\n",
       "    </tr>\n",
       "    <tr>\n",
       "      <th>341</th>\n",
       "      <td>chiX</td>\n",
       "      <td>chbC</td>\n",
       "      <td>chromosome:NC_000913.3, Gene ID:5061500</td>\n",
       "      <td>chromosome:NC_000913.3, Gene ID:945982</td>\n",
       "      <td>trans-encoded antisense RNA</td>\n",
       "      <td>mRNA</td>\n",
       "      <td>Repression</td>\n",
       "      <td>['NA']</td>\n",
       "      <td>['NA']</td>\n",
       "      <td>ACACCGTCGCTTAAAGTGACGGCATAATAATAAAAAAATGAAATTC...</td>\n",
       "      <td>ATGAGTAATGTTATTGCATCGCTTGAAAAGGTACTCCTCCCTTTTG...</td>\n",
       "      <td>sRNATarBase</td>\n",
       "      <td>507204..507287</td>\n",
       "      <td>1819856..1821214</td>\n",
       "      <td>forward</td>\n",
       "      <td>reverse</td>\n",
       "      <td>gtttcagccggatcgtgctcgtaggtatggatttgaaacgaaatct...</td>\n",
       "      <td>atagaaaaatacccttaaaaaccgcaatttaaatattgcggtattg...</td>\n",
       "      <td>ttagcgcaacatttgcggcaaattcccttctccatacaggtgtagt...</td>\n",
       "      <td>ttgctgcggcaaaatcgccctgcttcgcctgtttcagtgccgcata...</td>\n",
       "    </tr>\n",
       "  </tbody>\n",
       "</table>\n",
       "</div>"
      ],
      "text/plain": [
       "    Interactor 1 Interactor 2                                     ID 1  \\\n",
       "234         chiX         rpoS  chromosome:NC_000913.3, Gene ID:5061500   \n",
       "290         chiX         citA  chromosome:NC_000913.3, Gene ID:5061500   \n",
       "308         chiX         chiP  chromosome:NC_000913.3, Gene ID:5061500   \n",
       "341         chiX         chbC  chromosome:NC_000913.3, Gene ID:5061500   \n",
       "\n",
       "                                       ID 2                   Category 1  \\\n",
       "234  chromosome:NC_000913.3, Gene ID:947210                         sRNA   \n",
       "290  chromosome:NC_000913.3, Gene ID:945233  trans-encoded antisense RNA   \n",
       "308  chromosome:NC_000913.3, Gene ID:945296  trans-encoded antisense RNA   \n",
       "341  chromosome:NC_000913.3, Gene ID:945982  trans-encoded antisense RNA   \n",
       "\n",
       "    Category 2      Regulation Binding position 1 Binding position 2  \\\n",
       "234       mRNA  No Interaction             ['NA']             ['NA']   \n",
       "290       mRNA      Repression         ['46..57']       ['-37..-26']   \n",
       "308       mRNA      Repression         ['81..92']         ['45..56']   \n",
       "341       mRNA      Repression             ['NA']             ['NA']   \n",
       "\n",
       "                                            Sequence 1  \\\n",
       "234  ACACCGTCGCTTAAAGTGACGGCATAATAATAAAAAAATGAAATTC...   \n",
       "290  ACACCGTCGCTTAAAGTGACGGCATAATAATAAAAAAATGAAATTC...   \n",
       "308  ACACCGTCGCTTAAAGTGACGGCATAATAATAAAAAAATGAAATTC...   \n",
       "341  ACACCGTCGCTTAAAGTGACGGCATAATAATAAAAAAATGAAATTC...   \n",
       "\n",
       "                                            Sequence 2    Source DB  \\\n",
       "234  ATGAGTCAGAATACGCTGAAAGTTCATGATTTAAATGAAGATGCGG...  sRNATarBase   \n",
       "290  ATGTTGCAGCTTAACGAGAATAAACAGTTTGCATTTTTCCAAAGAC...  sRNATarBase   \n",
       "308  ATGCGTACGTTTAGTGGCAAACGTAGTACGCTGGCGCTGGCTATCG...  sRNATarBase   \n",
       "341  ATGAGTAATGTTATTGCATCGCTTGAAAAGGTACTCCTCCCTTTTG...  sRNATarBase   \n",
       "\n",
       "    Genome position 1 Genome position 2 Strand 1 Strand 2  \\\n",
       "234    507204..507287  2866559..2867551  forward  reverse   \n",
       "290    507204..507287    652235..653893  forward  forward   \n",
       "308    507204..507287    708334..709740  forward  forward   \n",
       "341    507204..507287  1819856..1821214  forward  reverse   \n",
       "\n",
       "                                     Sequence before 1  \\\n",
       "234  gtttcagccggatcgtgctcgtaggtatggatttgaaacgaaatct...   \n",
       "290  gtttcagccggatcgtgctcgtaggtatggatttgaaacgaaatct...   \n",
       "308  gtttcagccggatcgtgctcgtaggtatggatttgaaacgaaatct...   \n",
       "341  gtttcagccggatcgtgctcgtaggtatggatttgaaacgaaatct...   \n",
       "\n",
       "                                     Sequence before 2  \\\n",
       "234  ATCCTCGGGTCTTGCAGGCCACACAGGACACCCTGAACCGTCATGG...   \n",
       "290          GCCTGTGACCGACGTACTGGGGGATACGCAGATAAACTCAT   \n",
       "308             GCCTGTGACGGGGTCGGTTTGTACACCGATAAACTCAT   \n",
       "341  atagaaaaatacccttaaaaaccgcaatttaaatattgcggtattg...   \n",
       "\n",
       "                                      Sequence after 1  \\\n",
       "234  ttagcgcaacatttgcggcaaattcccttctccatacaggtgtagt...   \n",
       "290  ttagcgcaacatttgcggcaaattcccttctccatacaggtgtagt...   \n",
       "308  ttagcgcaacatttgcggcaaattcccttctccatacaggtgtagt...   \n",
       "341  ttagcgcaacatttgcggcaaattcccttctccatacaggtgtagt...   \n",
       "\n",
       "                                      Sequence after 2  \n",
       "234  ATCCTCGGGTCTTGCAGGCCACACAGGACACCCTGAACCGTCATGG...  \n",
       "290          GCCTGTGACCGACGTACTGGGGGATACGCAGATAAACTCAT  \n",
       "308             GCCTGTGACGGGGTCGGTTTGTACACCGATAAACTCAT  \n",
       "341  ttgctgcggcaaaatcgccctgcttcgcctgtttcagtgccgcata...  "
      ]
     },
     "execution_count": 6,
     "metadata": {},
     "output_type": "execute_result"
    }
   ],
   "source": [
    "data[data['Interactor 1'] == 'chiX']"
   ]
  },
  {
   "cell_type": "code",
   "execution_count": 7,
   "metadata": {},
   "outputs": [
    {
     "data": {
      "text/plain": [
       "378"
      ]
     },
     "execution_count": 7,
     "metadata": {},
     "output_type": "execute_result"
    }
   ],
   "source": [
    "len(data)"
   ]
  },
  {
   "cell_type": "markdown",
   "metadata": {},
   "source": [
    "## Cut out the RNA's that are longer than 300bp"
   ]
  },
  {
   "cell_type": "code",
   "execution_count": 8,
   "metadata": {},
   "outputs": [
    {
     "data": {
      "text/plain": [
       "375"
      ]
     },
     "execution_count": 8,
     "metadata": {},
     "output_type": "execute_result"
    }
   ],
   "source": [
    "data = data[data['Sequence 1'].apply(len) <= 300]\n",
    "len(data)"
   ]
  },
  {
   "cell_type": "code",
   "execution_count": 9,
   "metadata": {},
   "outputs": [
    {
     "data": {
      "text/plain": [
       "43"
      ]
     },
     "execution_count": 9,
     "metadata": {},
     "output_type": "execute_result"
    }
   ],
   "source": [
    "len(data['Interactor 1'].unique())"
   ]
  },
  {
   "cell_type": "markdown",
   "metadata": {},
   "source": [
    "# Config"
   ]
  },
  {
   "cell_type": "code",
   "execution_count": 10,
   "metadata": {},
   "outputs": [],
   "source": [
    "config = {\n",
    "    \"experiment\": {\n",
    "        \"purpose\": \"tests\",\n",
    "        \"no_visualisations\": False,\n",
    "        \"no_numerical\": False,\n",
    "        \"debug_mode\": False\n",
    "    },\n",
    "    \"system_type\": \"RNA\",\n",
    "    \"include_prod_deg\": False,\n",
    "    \"interaction_simulator\": {\n",
    "        \"name\": \"IntaRNA\",\n",
    "        \"postprocess\": True,\n",
    "        \"multithread\": 0,\n",
    "        \"simulator_kwargs\": {\n",
    "            \"outcsvcols\": \"id1,id2,E,E_norm,subseqDB,Pu1,Pu2\"\n",
    "        }\n",
    "    },\n",
    "    \"mutations_args\": {\n",
    "        \"algorithm\": \"all\",\n",
    "        \"mutation_counts\": 0,\n",
    "        \"mutation_nums_within_sequence\": [1],\n",
    "        \"mutation_nums_per_position\": 1,\n",
    "        \"concurrent_species_to_mutate\": \"single_species_at_a_time\",\n",
    "        \"seed\": 0\n",
    "    },\n",
    "    \"signal\": {\n",
    "        \"inputs\": [data['Interactor 1'].iloc[0]],\n",
    "        \"outputs\": [],\n",
    "        \"function_name\": \"step_function\",\n",
    "        \"function_kwargs\": {\n",
    "            \"impulse_center\": 1,\n",
    "            \"impulse_halfwidth\": 5,\n",
    "            \"target\": 2\n",
    "        }\n",
    "    },\n",
    "    \"simulation\": {\n",
    "        \"dt0\": 0.1,\n",
    "        \"t0\": 0,\n",
    "        \"t1\": 100,\n",
    "        \"tmax\": 2000,\n",
    "        \"solver\": \"diffrax\",\n",
    "        \"use_batch_mutations\": True,\n",
    "        \"interaction_factor\": 1,\n",
    "        \"batch_size\": 200,\n",
    "        \"max_circuits\": 2000,\n",
    "        \"device\": \"cpu\",\n",
    "        \"threshold_steady_states\": 0.05,\n",
    "        \"use_rate_scaling\": True\n",
    "    },\n",
    "    \"molecular_params_factor\": 1,\n",
    "    \"molecular_params\": {\n",
    "        \"avg_mRNA_per_cell\": 100,\n",
    "        \"cell_doubling_time\": 1200,\n",
    "        \"creation_rate\": 2.35,\n",
    "        \"starting_copynumbers\": 200,\n",
    "        \"degradation_rate\": 0.01175,\n",
    "        \"association_binding_rate\": 1000000\n",
    "    }\n",
    "}\n",
    "\n"
   ]
  },
  {
   "cell_type": "markdown",
   "metadata": {},
   "source": [
    "# Simulate"
   ]
  },
  {
   "cell_type": "code",
   "execution_count": 11,
   "metadata": {},
   "outputs": [],
   "source": [
    "# from synbio_morpher.utils.results.writer import DataWriter\n",
    "# data_writer = DataWriter(purpose=config['experiment']['purpose'], out_location= 'data/04_distribution_mutational_robustness/2024_01_29_140340')\n",
    "data_writer = None\n",
    "config, data_writer = script_preamble(config, data_writer)\n",
    "config_file = expand_config(config=config)\n",
    "config_file = prepare_config(config_file)"
   ]
  },
  {
   "cell_type": "code",
   "execution_count": 12,
   "metadata": {},
   "outputs": [
    {
     "name": "stderr",
     "output_type": "stream",
     "text": [
      "/tmp/ipykernel_897355/232467086.py:14: SettingWithCopyWarning: \n",
      "A value is trying to be set on a copy of a slice from a DataFrame.\n",
      "Try using .loc[row_indexer,col_indexer] = value instead\n",
      "\n",
      "See the caveats in the documentation: https://pandas.pydata.org/pandas-docs/stable/user_guide/indexing.html#returning-a-view-versus-a-copy\n",
      "  data[f'Binding position {i}'] = list(map(lambda raw: flatten_listlike(\n"
     ]
    }
   ],
   "source": [
    "# Load previously simulated IntaRNA script\n",
    "fn = './data/05_orthogonality_mRNA_official/2024_01_04_105924/inter_data_raw.json'\n",
    "sim_data_l = load_json_as_dict(fn)\n",
    "default_vals = {\n",
    "    'id1': '', 'id2': '', 'E': 0.0, 'E_norm': 0.0, 'subseqDB': '', 'bpList': '', 'hybridDPfull': '', 'Pu1': 0.0, 'Pu2': 0.0, 'seedPu1': '', 'seedPu2': '', 'seedStart1': '', 'seedStart2': '', 'seedEnd1': '', 'seedEnd2': ''\n",
    "}\n",
    "for s, v in sim_data_l.items():\n",
    "    for s2 in v:\n",
    "        if v[s2] == {}:\n",
    "            v[s2].update(default_vals)\n",
    "\n",
    "pattern = r'\\s*\\([^)]*\\)'\n",
    "for i in [1, 2]:\n",
    "    data[f'Binding position {i}'] = list(map(lambda raw: flatten_listlike(\n",
    "        [[[int(re.sub(pattern, '', bp)) for bp in bps.split('..')]\n",
    "          for bps in re.sub(pattern, '', par).split('; ')] for par in raw if par.split('..')[0].strip('-').isnumeric()]), data[f'Binding position {i}'].apply(str).str.split(\"'\")))\n",
    "\n",
    "\n",
    "def get_srnas(data):\n",
    "    srnas, mrnas = [], []\n",
    "    filt_srna1 = data['Category 1'].isin(\n",
    "        ['sRNA', 'trans-encoded antisense RNA', 'protein binding small RNA'])\n",
    "    filt_srna2 = data['Category 2'].isin(\n",
    "        ['sRNA', 'trans-encoded antisense RNA', 'protein binding small RNA']) & (~data['Category 1'].isin(['Protein']))\n",
    "    for i in [1, 2]:\n",
    "        filt = filt_srna1 if i == 1 else filt_srna2\n",
    "        for s in data[f'Interactor {i}'].unique():\n",
    "            if s in data[data[f'Category {i}'] == 'mRNA'][f'Interactor {i}'].unique():\n",
    "                mrnas.append(s)\n",
    "            elif s in data[filt][f'Interactor {i}'].unique():\n",
    "                srnas.append(s)\n",
    "    return srnas, mrnas\n",
    "\n",
    "\n",
    "srnas, mrnas = get_srnas(data)\n",
    "sim_data_l = {s: {m: vv for m, vv in v.items() if m in mrnas and (\n",
    "    len(data[(data['Interactor 1'] == s) & (data['Interactor 2'] == m)]) or\n",
    "    len(data[(data['Interactor 2'] == s) & (data['Interactor 1'] == m)])\n",
    "    )} for s, v in sim_data_l.items() if s in srnas}"
   ]
  },
  {
   "cell_type": "markdown",
   "metadata": {},
   "source": [
    "## Mutate\n",
    "\n",
    "Only mutate the parts of the sequence that are already binding, otherwise the whole simulation will take way too long.\n",
    "\n",
    "First preprocess the binding sites curated from the interaction databases. If there are no documented binding "
   ]
  },
  {
   "cell_type": "code",
   "execution_count": 13,
   "metadata": {},
   "outputs": [
    {
     "data": {
      "text/plain": [
       "{'id1': 'dsrB',\n",
       " 'id2': 'dsrA',\n",
       " 'E': '-1.11',\n",
       " 'E_norm': '-0.108103',\n",
       " 'subseqDB': '131CCCUGAGG&71CCUCAGGG',\n",
       " 'Pu1': '0.00164667',\n",
       " 'Pu2': '3.86378e-08'}"
      ]
     },
     "execution_count": 13,
     "metadata": {},
     "output_type": "execute_result"
    }
   ],
   "source": [
    "k1 = list(sim_data_l.keys())[0]\n",
    "k2 = list(sim_data_l[k1].keys())[0]\n",
    "sim_data_l[k1][k2]"
   ]
  },
  {
   "cell_type": "code",
   "execution_count": 14,
   "metadata": {},
   "outputs": [
    {
     "data": {
      "text/plain": [
       "42"
      ]
     },
     "execution_count": 14,
     "metadata": {},
     "output_type": "execute_result"
    }
   ],
   "source": [
    "len(sim_data_l)"
   ]
  },
  {
   "cell_type": "code",
   "execution_count": 15,
   "metadata": {},
   "outputs": [
    {
     "data": {
      "text/plain": [
       "True"
      ]
     },
     "execution_count": 15,
     "metadata": {},
     "output_type": "execute_result"
    }
   ],
   "source": [
    "sim_data_l.keys() == (set(sim_data_l.keys()) - set(sim_data_l[k1].keys()))"
   ]
  },
  {
   "cell_type": "code",
   "execution_count": 16,
   "metadata": {},
   "outputs": [
    {
     "data": {
      "text/plain": [
       "True"
      ]
     },
     "execution_count": 16,
     "metadata": {},
     "output_type": "execute_result"
    }
   ],
   "source": [
    "sim_data_l[k1].keys() == (set(sim_data_l[k1].keys()) - set(sim_data_l.keys()))"
   ]
  },
  {
   "cell_type": "markdown",
   "metadata": {},
   "source": [
    "### Make binding site range"
   ]
  },
  {
   "cell_type": "code",
   "execution_count": 17,
   "metadata": {},
   "outputs": [],
   "source": [
    "def int_from_string_nums(text):\n",
    "    return int(''.join(re.findall(r'\\d', text)))\n",
    "\n",
    "def str_nonum(text):\n",
    "    return re.sub(r'\\d', '', text)\n",
    "\n",
    "bad_k1s = []\n",
    "bad_k2s = []\n",
    "for k1, v in sim_data_l.items():\n",
    "    if k1 not in data[['Interactor 1', 'Interactor 2']].melt()['value'].to_list():\n",
    "        bad_k1s.append(k1)\n",
    "    for k2, vv in v.items():\n",
    "        if k2 not in data[['Interactor 1', 'Interactor 2']].melt()['value'].to_list():\n",
    "            bad_k2s.append(k2)\n",
    "        for i, vvv in enumerate(vv['subseqDB'].split('&')):\n",
    "            dna_start = int_from_string_nums(vvv)\n",
    "            sim_data_l[k1][k2][f'binding_range_id{i + 1}'] = (dna_start, dna_start + len(str_nonum(vvv)) - 1)"
   ]
  },
  {
   "cell_type": "code",
   "execution_count": 18,
   "metadata": {},
   "outputs": [],
   "source": [
    "for k1 in bad_k1s:\n",
    "    del sim_data_l[k1]\n",
    "\n",
    "for k1 in sim_data_l:\n",
    "    for k2 in bad_k2s:\n",
    "        if k2 in sim_data_l[k1]:\n",
    "            del sim_data_l[k1][k2]"
   ]
  },
  {
   "cell_type": "code",
   "execution_count": 19,
   "metadata": {},
   "outputs": [],
   "source": [
    "\n",
    "def get_labels(vsim, data):\n",
    "    assert vsim['id1'] in data['Interactor 1'].to_list() + data['Interactor 2'].to_list(), 'id1 is not in data'\n",
    "    assert vsim['id2'] in data['Interactor 1'].to_list() + data['Interactor 2'].to_list(), 'id2 is not in data'\n",
    "    i = 1 if (vsim['id1'] in data['Interactor 1'].to_list()) else 2\n",
    "    j = 2 if (vsim['id2'] in data['Interactor 2'].to_list()) else 1\n",
    "    if i == j:\n",
    "        # print(f'Interactions {i} == {j} for species {vsim[\"id1\"]} and {vsim[\"id2\"]}')\n",
    "        pass\n",
    "    ri = data[(data[f'Interactor {i}'] == vsim['id1'])]\n",
    "    rj = data[(data[f'Interactor {j}'] == vsim['id2'])]\n",
    "    r = data[(data[f'Interactor {i}'] == vsim['id1']) & (data[f'Interactor {j}'] == vsim['id2'])]\n",
    "    id_srna = 1 if (ri[f'Category {i}'] != 'mRNA').any() else 2\n",
    "    id_mrna = 2 if (rj[f'Category {j}'] == 'mRNA').any() else 1\n",
    "    # assert r[f'Category {j}'] != 'mRNA', 'Label the sRNA better'\n",
    "    if id_srna == id_mrna:\n",
    "        # print(f'The sRNA and mRNA ids are the same: {i} == {j} for species {vsim[\"id1\"]} and {vsim[\"id2\"]}')\n",
    "        pass\n",
    "    return i, j, r, ri, rj, id_srna, id_mrna\n",
    "\n",
    "\n",
    "def make_seqs(i, j, r, ri, rj):\n",
    "    rs = [ri, rj]\n",
    "    seqs = [''] * 2\n",
    "    for idx, p in enumerate([i, j]):\n",
    "        seqs[idx] = rs[idx][f'Sequence {p}'].iloc[0]\n",
    "        if r[f'Binding position {p}'].any():\n",
    "            mins = r[f'Binding position {p}'].apply(lambda x: np.min(x) if x else 1)\n",
    "            if mins.min() < 0:\n",
    "                seqs[idx] = r[f'Sequence before {p}'].iloc[np.argmin(mins)] + seqs[idx]\n",
    "        seqs[idx] = seqs[idx].upper().replace('T', 'U')\n",
    "    return seqs\n",
    "\n",
    "\n",
    "def make_mutations(circuits, seqs, vsim, id_srna, id_mrna):\n",
    "    mutations = {k: [] for k in ['mutation_name', 'mutation_types', 'positions']}\n",
    "    for i, mutation_pos in enumerate(np.arange(vsim[f'binding_range_id{id_srna}'][0], vsim[f'binding_range_id{id_srna}'][1])):\n",
    "        i_mut = 0\n",
    "        for nuc in ['A', 'C', 'G', 'U']:\n",
    "            try:\n",
    "                if seqs[id_srna - 1][mutation_pos] == nuc:\n",
    "                    continue\n",
    "            except:\n",
    "                print('bad')\n",
    "            mutation_name = 'mutation_' + str(i) + '-' + str(i_mut)\n",
    "            circuits[vsim[f'id{id_srna}']][vsim[f'id{id_mrna}']][mutation_name] = {\n",
    "                vsim[f'id{id_srna}']: seqs[id_srna - 1][:mutation_pos] + nuc + seqs[id_srna - 1][mutation_pos+1:],\n",
    "                vsim[f'id{id_mrna}']: seqs[id_mrna - 1]\n",
    "            }\n",
    "            i_mut += 1\n",
    "            mutations['mutation_name'].append(mutation_name)\n",
    "            mutations['mutation_types'].append([get_mutation_type_mapping('RNA')[seqs[id_srna - 1][mutation_pos]][nuc]])\n",
    "            mutations['positions'].append([mutation_pos])\n",
    "    mutations = pd.DataFrame.from_dict(mutations)\n",
    "    mutations['count'] = 1\n",
    "    mutations['template_file'] = ''\n",
    "    return circuits, mutations\n",
    "\n",
    "circuits_all = {}\n",
    "mutations_all = {}\n",
    "for k1, v in sim_data_l.items():\n",
    "    for k2, vsim in v.items():\n",
    "        i, j, r, ri, rj, id_srna, id_mrna = get_labels(vsim, data)\n",
    "        if id_srna == id_mrna:\n",
    "            continue\n",
    "        circuits_all.setdefault(vsim[f'id{id_srna}'], {})\n",
    "        \n",
    "        seqs = make_seqs(i, j, r, ri, rj)\n",
    "        mutation_name = 'ref_circuit'\n",
    "        circuits_all[vsim[f'id{id_srna}']].setdefault(vsim[f'id{id_mrna}'], {})\n",
    "        circuits_all[vsim[f'id{id_srna}']][vsim[f'id{id_mrna}']][mutation_name] = {\n",
    "            vsim[f'id{id_srna}']: seqs[id_srna - 1],\n",
    "            vsim[f'id{id_mrna}']: seqs[id_mrna - 1]\n",
    "        }\n",
    "        circuits_all, mutations = make_mutations(circuits_all, seqs, vsim, id_srna, id_mrna)\n",
    "        mutations_all.setdefault(vsim[f'id{id_srna}'], {})\n",
    "        mutations_all[vsim[f'id{id_srna}']].setdefault(vsim[f'id{id_mrna}'], {})\n",
    "        mutations_all[vsim[f'id{id_srna}']][vsim[f'id{id_mrna}']] = mutations\n",
    "        \n"
   ]
  },
  {
   "cell_type": "code",
   "execution_count": 20,
   "metadata": {},
   "outputs": [
    {
     "data": {
      "text/plain": [
       "dict_keys(['ref_circuit', 'mutation_0-0', 'mutation_0-1', 'mutation_0-2', 'mutation_1-0', 'mutation_1-1', 'mutation_1-2', 'mutation_2-0', 'mutation_2-1', 'mutation_2-2', 'mutation_3-0', 'mutation_3-1', 'mutation_3-2', 'mutation_4-0', 'mutation_4-1', 'mutation_4-2', 'mutation_5-0', 'mutation_5-1', 'mutation_5-2', 'mutation_6-0', 'mutation_6-1', 'mutation_6-2', 'mutation_7-0', 'mutation_7-1', 'mutation_7-2', 'mutation_8-0', 'mutation_8-1', 'mutation_8-2', 'mutation_9-0', 'mutation_9-1', 'mutation_9-2', 'mutation_10-0', 'mutation_10-1', 'mutation_10-2', 'mutation_11-0', 'mutation_11-1', 'mutation_11-2', 'mutation_12-0', 'mutation_12-1', 'mutation_12-2', 'mutation_13-0', 'mutation_13-1', 'mutation_13-2', 'mutation_14-0', 'mutation_14-1', 'mutation_14-2', 'mutation_15-0', 'mutation_15-1', 'mutation_15-2', 'mutation_16-0', 'mutation_16-1', 'mutation_16-2', 'mutation_17-0', 'mutation_17-1', 'mutation_17-2', 'mutation_18-0', 'mutation_18-1', 'mutation_18-2', 'mutation_19-0', 'mutation_19-1', 'mutation_19-2', 'mutation_20-0', 'mutation_20-1', 'mutation_20-2', 'mutation_21-0', 'mutation_21-1', 'mutation_21-2', 'mutation_22-0', 'mutation_22-1', 'mutation_22-2', 'mutation_23-0', 'mutation_23-1', 'mutation_23-2', 'mutation_24-0', 'mutation_24-1', 'mutation_24-2', 'mutation_25-0', 'mutation_25-1', 'mutation_25-2', 'mutation_26-0', 'mutation_26-1', 'mutation_26-2', 'mutation_27-0', 'mutation_27-1', 'mutation_27-2', 'mutation_28-0', 'mutation_28-1', 'mutation_28-2', 'mutation_29-0', 'mutation_29-1', 'mutation_29-2', 'mutation_30-0', 'mutation_30-1', 'mutation_30-2', 'mutation_31-0', 'mutation_31-1', 'mutation_31-2', 'mutation_32-0', 'mutation_32-1', 'mutation_32-2', 'mutation_33-0', 'mutation_33-1', 'mutation_33-2', 'mutation_34-0', 'mutation_34-1', 'mutation_34-2', 'mutation_35-0', 'mutation_35-1', 'mutation_35-2', 'mutation_36-0', 'mutation_36-1', 'mutation_36-2', 'mutation_37-0', 'mutation_37-1', 'mutation_37-2', 'mutation_38-0', 'mutation_38-1', 'mutation_38-2', 'mutation_39-0', 'mutation_39-1', 'mutation_39-2', 'mutation_40-0', 'mutation_40-1', 'mutation_40-2', 'mutation_41-0', 'mutation_41-1', 'mutation_41-2', 'mutation_42-0', 'mutation_42-1', 'mutation_42-2', 'mutation_43-0', 'mutation_43-1', 'mutation_43-2', 'mutation_44-0', 'mutation_44-1', 'mutation_44-2', 'mutation_45-0', 'mutation_45-1', 'mutation_45-2', 'mutation_46-0', 'mutation_46-1', 'mutation_46-2', 'mutation_47-0', 'mutation_47-1', 'mutation_47-2', 'mutation_48-0', 'mutation_48-1', 'mutation_48-2', 'mutation_49-0', 'mutation_49-1', 'mutation_49-2', 'mutation_50-0', 'mutation_50-1', 'mutation_50-2'])"
      ]
     },
     "execution_count": 20,
     "metadata": {},
     "output_type": "execute_result"
    }
   ],
   "source": [
    "circuits_all['AfaR']['afaD'].keys()"
   ]
  },
  {
   "cell_type": "code",
   "execution_count": 21,
   "metadata": {},
   "outputs": [
    {
     "data": {
      "text/plain": [
       "dict_keys(['rpoS', 'chiP', 'citA', 'chbC'])"
      ]
     },
     "execution_count": 21,
     "metadata": {},
     "output_type": "execute_result"
    }
   ],
   "source": [
    "circuits_all['chiX'].keys()"
   ]
  },
  {
   "cell_type": "markdown",
   "metadata": {},
   "source": [
    "## Make circuits"
   ]
  },
  {
   "cell_type": "code",
   "execution_count": 22,
   "metadata": {},
   "outputs": [
    {
     "name": "stdout",
     "output_type": "stream",
     "text": [
      "Total circuits:  24103\n"
     ]
    }
   ],
   "source": [
    "tot_subcircuits = sum([sum([len(l) for m, l in ms.items()]) for s, ms in circuits_all.items()])\n",
    "print('Total circuits: ', tot_subcircuits)\n"
   ]
  },
  {
   "cell_type": "code",
   "execution_count": 23,
   "metadata": {},
   "outputs": [],
   "source": [
    "for srna, d_mrna in circuits_all.items():\n",
    "    data_writer.subdivide_writing(srna)\n",
    "    for mrna, muts in d_mrna.items():\n",
    "        mutations = mutations_all[srna][mrna]\n",
    "        data_writer.output(data=mutations, out_name='mutations',\n",
    "                           out_type='csv', subfolder=mrna)"
   ]
  },
  {
   "cell_type": "code",
   "execution_count": 24,
   "metadata": {},
   "outputs": [],
   "source": [
    "# circuits = []\n",
    "# for srna, d_mrna in circuits_all.items():\n",
    "#     for mrna, muts in d_mrna.items():\n",
    "#         circuit_name = srna + '_' + mrna\n",
    "#         mutations = mutations_all[srna][mrna]\n",
    "#         mutations['circuit_name'] = circuit_name\n",
    "#         data_writer.output(data=mutations, out_name='mutations',\n",
    "#                            out_type='csv', subfolder=circuit_name)\n",
    "\n",
    "#         for mutation_name, d_mutation in muts.items():\n",
    "\n",
    "#             config_file['data'] = d_mutation\n",
    "#             config_file['name'] = mutation_name\n",
    "#             config_file = expand_model_config(\n",
    "#                 config_file, config_file, sample_names=[srna, mrna])\n",
    "\n",
    "#             kwargs = compose_kwargs(prev_configs=None, config=config_file)\n",
    "#             kwargs['name'] = circuit_name\n",
    "#             circuit = instantiate_system(kwargs)\n",
    "#             circuit.subname = mutation_name\n",
    "#             circuits.append(circuit)\n",
    "\n",
    "# len(circuit.model.species)"
   ]
  },
  {
   "cell_type": "code",
   "execution_count": 25,
   "metadata": {},
   "outputs": [],
   "source": [
    "# # for circuit in circuits:\n",
    "# # num_subcircuits = [len(flatten_nested_dict(\n",
    "# #     c.mutations)) + 1 for c in circuits_all]\n",
    "# # tot_subcircuits = sum(num_subcircuits)\n",
    "# tot_subcircuits = len(circuits)\n",
    "\n",
    "# print('Total circuits: ', tot_subcircuits)\n",
    "# # print(num_subcircuits)"
   ]
  },
  {
   "cell_type": "code",
   "execution_count": 26,
   "metadata": {},
   "outputs": [
    {
     "name": "stdout",
     "output_type": "stream",
     "text": [
      "Number of different interactions: 38\n",
      "Number of subcircuits: 24103\n",
      "Estimated time:  8.369097222222221 days\n",
      "Estimated time:  200.85833333333332 hours\n",
      "Estimated time with multi:  0.3487123842592592 days\n",
      "Estimated time with multi:  8.369097222222221 hours\n"
     ]
    }
   ],
   "source": [
    "# A simulation where RNAs have lengths [1071, 828] (aroF, YagJ) takes 20s\n",
    "# A simulation where RNAs have lengths [1122, 828] (aroF, YagJ) takes 28s\n",
    "# A simulation where RNAs have lengths [1758, 828] (fliC, YagJ) takes 29s\n",
    "\n",
    "n_segs = 24\n",
    "ave_sim_per_inter = 30 #s\n",
    "\n",
    "print('Number of different interactions:', len(mutations_all))\n",
    "print('Number of subcircuits:', tot_subcircuits)\n",
    "print('Estimated time: ', tot_subcircuits * ave_sim_per_inter / 60 / 60 / 24, 'days')\n",
    "print('Estimated time: ', tot_subcircuits * ave_sim_per_inter / 60 / 60, 'hours')\n",
    "print('Estimated time with multi: ', tot_subcircuits * ave_sim_per_inter / 60 / 60 / 24 / n_segs, 'days')\n",
    "print('Estimated time with multi: ', tot_subcircuits * ave_sim_per_inter / 60 / 60 / n_segs, 'hours')"
   ]
  },
  {
   "cell_type": "code",
   "execution_count": 70,
   "metadata": {},
   "outputs": [
    {
     "data": {
      "text/plain": [
       "(3012, 4017)"
      ]
     },
     "execution_count": 70,
     "metadata": {},
     "output_type": "execute_result"
    }
   ],
   "source": [
    "i = 0\n",
    "\n",
    "start_i = int(np.floor((tot_subcircuits / n_segs) * np.arange(0, i+1))[i])\n",
    "end_i = int(np.floor((tot_subcircuits / n_segs) * np.arange(1, i+2))[i])\n",
    "\n",
    "start_i, end_i\n",
    "\n",
    "# end_i = int(np.floor(tot_subcircuits / n_segs) * (i+1))\n",
    "# circuits = circuits[i*int(len(circuits)/n_segs):(i+1)*int(len(circuits)/n_segs)]\n",
    "# circuits = circuits[:5]"
   ]
  },
  {
   "cell_type": "code",
   "execution_count": 71,
   "metadata": {},
   "outputs": [],
   "source": [
    "# # {c.name: (len(c.get_input_species()[0].physical_data), len(c.get_input_species()[1].physical_data)) for c in circuits}\n",
    "# data[data['Interactor 2'] == 'fliC']['Sequence 2'].iloc[0]\n",
    "# {c.name: list(len(s.physical_data) for s in c.get_input_species()) for c in circuits}"
   ]
  },
  {
   "cell_type": "code",
   "execution_count": 72,
   "metadata": {},
   "outputs": [],
   "source": [
    "# from synbio_morpher.utils.common.setup import compose_kwargs\n",
    "# modeller = CircuitModeller(result_writer=data_writer, config=config_file)\n",
    "# curr_subcircuits = []\n",
    "# for i, circuit in enumerate(circuits[:3]):\n",
    "#     curr_subcircuits.append(modeller.load_mutations(circuit))\n",
    "# curr_subcircuits = flatten_listlike(curr_subcircuits)\n"
   ]
  },
  {
   "cell_type": "markdown",
   "metadata": {},
   "source": [
    "## Run sim"
   ]
  },
  {
   "cell_type": "code",
   "execution_count": 73,
   "metadata": {},
   "outputs": [
    {
     "data": {
      "text/plain": [
       "'data/04_distribution_mutational_robustness/2024_01_29_140340'"
      ]
     },
     "execution_count": 73,
     "metadata": {},
     "output_type": "execute_result"
    }
   ],
   "source": [
    "data_writer.write_dir"
   ]
  },
  {
   "cell_type": "code",
   "execution_count": 79,
   "metadata": {},
   "outputs": [
    {
     "name": "stdout",
     "output_type": "stream",
     "text": [
      "Finished  sgrS manX  in  5.771625  s\n"
     ]
    }
   ],
   "source": [
    "def simulate_IntaRNA_local(query: dict,\n",
    "                           target: str,\n",
    "                           sim_kwargs={}):\n",
    "    fn1 = data_writer.output(data=query, out_type='fasta',\n",
    "                             out_name='query', byseq=True, return_path=True)\n",
    "    fn_targets = data_writer.output(\n",
    "        data=target, out_type='fasta', out_name='target', byseq=True, return_path=True)\n",
    "    sim_kwargs['query'] = fn1\n",
    "    sim_kwargs['target'] = fn_targets\n",
    "\n",
    "    def run(query: str, target: str, qidxpos0: int, tidxpos0: int, outcsvcols: str, threads: int, n: int = 1,\n",
    "            param_file: str = '', extra_params: list = [], raw_stdout: bool = False):\n",
    "        p = Popen(['IntaRNA', '-q', query, '-t', target,\n",
    "                   '--outMode=C', f'--outcsvcols={outcsvcols}',\n",
    "                   f'--qIdxPos0={qidxpos0}',\n",
    "                   f'--tIdxPos0={tidxpos0}',\n",
    "                   f'--outNumber={n}',\n",
    "                   f'--threads={threads}', param_file]\n",
    "                  + extra_params, stdout=PIPE, stderr=PIPE, universal_newlines=True)\n",
    "        stdout, stderr = p.communicate()\n",
    "        return process_raw_stdout(stdout)\n",
    "\n",
    "    res = run(**sim_kwargs)\n",
    "    os.remove(fn1)\n",
    "    os.remove(fn_targets)\n",
    "    return res\n",
    "\n",
    "\n",
    "circ_counter = 0\n",
    "for s, ms in circuits_all.items():\n",
    "    \n",
    "    # sim_data.setdefault(s, {})\n",
    "    data_writer.subdivide_writing(s)\n",
    "    for m, muts in ms.items():\n",
    "        \n",
    "        # sim_data.setdefault(m, {})\n",
    "        data_writer.subdivide_writing(m, safe_dir_change=False)\n",
    "        t = datetime.now()\n",
    "        sim_data = {}\n",
    "        for mut_name, mut in muts.items():\n",
    "            if circ_counter < start_i:\n",
    "                circ_counter += 1\n",
    "                continue\n",
    "            elif circ_counter == end_i:\n",
    "                break \n",
    "            \n",
    "            sim_data.setdefault(mut_name, {})\n",
    "\n",
    "            sim_data[mut_name] = simulate_IntaRNA_local(query={s: mut[s]},\n",
    "                                                        target={m: mut[m]},\n",
    "                                                        sim_kwargs=config['interaction_simulator']['simulator_kwargs'])\n",
    "            circ_counter += 1\n",
    "        \n",
    "        if sim_data:\n",
    "            print('Finished ', s, m, ' in ', (datetime.now() - t).total_seconds(), ' s')\n",
    "\n",
    "            if os.path.isfile(os.path.join(data_writer.write_dir, 'inter_data_raw.json')):\n",
    "                sim_data.update(load_json_as_dict(os.path.join(data_writer.write_dir, 'inter_data_raw.json')))\n",
    "            data_writer.output(data=sim_data, out_type='json',\n",
    "                            out_name='inter_data_raw', overwrite=False)\n",
    "        data_writer.unsubdivide_last_dir()\n",
    "    data_writer.unsubdivide()"
   ]
  },
  {
   "cell_type": "code",
   "execution_count": 76,
   "metadata": {},
   "outputs": [],
   "source": [
    "# modeller = CircuitModeller(result_writer=data_writer, config=config_file)\n",
    "# circuits_sim = modeller.batch_circuits(\n",
    "#     circuits=circuits[4:8],\n",
    "#     write_to_subsystem=True, batch_size=config_file['simulation'].get('batch_size', 100),\n",
    "#     methods={\n",
    "#         \"compute_interactions\": {},\n",
    "#         # \"compute_interactions_batch\": {'batch': True},\n",
    "#         # \"write_interactions\": {},\n",
    "#         # \"init_circuits\": {'batch': True},\n",
    "#         # \"simulate_signal_batch\": {'ref_circuit': None,\n",
    "#         #                           'batch': True},\n",
    "#         \"write_results\": {'no_visualisations': config_file['experiment'].get('no_visualisations', True),\n",
    "#                           'no_numerical': config_file['experiment'].get('no_numerical', False)}\n",
    "#     })"
   ]
  },
  {
   "cell_type": "markdown",
   "metadata": {},
   "source": [
    "## Save"
   ]
  },
  {
   "cell_type": "code",
   "execution_count": 107,
   "metadata": {},
   "outputs": [],
   "source": [
    "# fn = 'data/tests/2024_01_20_041436/dsrA_fhlA/mutations.csv'\n",
    "# m = pd.read_csv(fn)\n",
    "# m"
   ]
  },
  {
   "cell_type": "code",
   "execution_count": 108,
   "metadata": {},
   "outputs": [],
   "source": [
    "# source_dirs = [data_writer.top_write_dir]\n",
    "# # source_dirs = ['data/tests/2024_01_18_175210/']\n",
    "# tables = load_multiple_as_list(inputs_list=source_dirs, load_func=b_tabulate_mutation_info, \n",
    "#             data_writer=data_writer)\n",
    "# saves = pd.concat(tables, axis=0)\n",
    "# saves"
   ]
  },
  {
   "cell_type": "markdown",
   "metadata": {},
   "source": [
    "# Compare"
   ]
  },
  {
   "cell_type": "code",
   "execution_count": 109,
   "metadata": {},
   "outputs": [],
   "source": [
    "# print(f'Number simulated: {len(saves)}')"
   ]
  },
  {
   "cell_type": "code",
   "execution_count": null,
   "metadata": {},
   "outputs": [],
   "source": []
  }
 ],
 "metadata": {
  "kernelspec": {
   "display_name": "env_evo",
   "language": "python",
   "name": "python3"
  },
  "language_info": {
   "codemirror_mode": {
    "name": "ipython",
    "version": 3
   },
   "file_extension": ".py",
   "mimetype": "text/x-python",
   "name": "python",
   "nbconvert_exporter": "python",
   "pygments_lexer": "ipython3",
   "version": "3.10.12"
  }
 },
 "nbformat": 4,
 "nbformat_minor": 2
}
