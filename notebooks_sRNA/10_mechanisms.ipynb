{
 "cells": [
  {
   "cell_type": "code",
   "execution_count": 1,
   "metadata": {},
   "outputs": [],
   "source": [
    "%load_ext autoreload\n",
    "%autoreload 2"
   ]
  },
  {
   "cell_type": "markdown",
   "metadata": {},
   "source": [
    "# Activation vs repression"
   ]
  },
  {
   "cell_type": "markdown",
   "metadata": {},
   "source": [
    "## Imports"
   ]
  },
  {
   "cell_type": "code",
   "execution_count": 2,
   "metadata": {},
   "outputs": [],
   "source": [
    "import os\n",
    "import pandas as pd\n",
    "import re\n",
    "\n",
    "from synbio_morpher.utils.misc.type_handling import flatten_listlike\n",
    "from synbio_morpher.utils.data.data_format_tools.common import load_json_as_dict\n",
    "from synbio_morpher.srv.io.manage.script_manager import script_preamble\n",
    "\n",
    "import seaborn as sns\n",
    "import matplotlib.pyplot as plt\n",
    "import numpy as np\n",
    "import jax\n",
    "import subprocess\n",
    "\n"
   ]
  },
  {
   "cell_type": "markdown",
   "metadata": {},
   "source": [
    "## Load data"
   ]
  },
  {
   "cell_type": "code",
   "execution_count": 3,
   "metadata": {},
   "outputs": [],
   "source": [
    "fn_inter = os.path.join('..', 'data', 'sRNA', 'merged_inter.csv')\n",
    "fn_merged = os.path.join('..', 'data', 'sRNA', 'merged_EcoCyc_RNAInter_sRNATarBase.csv')\n",
    "data = pd.read_csv(fn_inter)\n",
    "merged = pd.read_csv(fn_merged)\n",
    "try:\n",
    "    data = data.drop(columns=['Unnamed: 0'])\n",
    "    merged = merged.drop(columns=['Unnamed: 0'])\n",
    "except:\n",
    "    pass\n"
   ]
  },
  {
   "cell_type": "markdown",
   "metadata": {},
   "source": [
    "# Binding energy differences "
   ]
  },
  {
   "cell_type": "code",
   "execution_count": 4,
   "metadata": {},
   "outputs": [
    {
     "data": {
      "text/plain": [
       "37"
      ]
     },
     "execution_count": 4,
     "metadata": {},
     "output_type": "execute_result"
    }
   ],
   "source": [
    "interaction_data = load_json_as_dict('./data/05_orthogonality_mRNA_official/2023_11_21_095238/inter_data_raw.json')\n",
    "len(interaction_data)"
   ]
  },
  {
   "cell_type": "code",
   "execution_count": 5,
   "metadata": {},
   "outputs": [
    {
     "data": {
      "text/html": [
       "<div>\n",
       "<style scoped>\n",
       "    .dataframe tbody tr th:only-of-type {\n",
       "        vertical-align: middle;\n",
       "    }\n",
       "\n",
       "    .dataframe tbody tr th {\n",
       "        vertical-align: top;\n",
       "    }\n",
       "\n",
       "    .dataframe thead th {\n",
       "        text-align: right;\n",
       "    }\n",
       "</style>\n",
       "<table border=\"1\" class=\"dataframe\">\n",
       "  <thead>\n",
       "    <tr style=\"text-align: right;\">\n",
       "      <th></th>\n",
       "      <th>Interactor 1</th>\n",
       "      <th>Interactor 2</th>\n",
       "      <th>ID 1</th>\n",
       "      <th>ID 2</th>\n",
       "      <th>Category 1</th>\n",
       "      <th>Category 2</th>\n",
       "      <th>Regulation</th>\n",
       "      <th>Binding position 1</th>\n",
       "      <th>Binding position 2</th>\n",
       "      <th>Sequence 1</th>\n",
       "      <th>Sequence 2</th>\n",
       "      <th>Source DB</th>\n",
       "      <th>Interaction Energy</th>\n",
       "    </tr>\n",
       "  </thead>\n",
       "  <tbody>\n",
       "    <tr>\n",
       "      <th>0</th>\n",
       "      <td>micA</td>\n",
       "      <td>dppA</td>\n",
       "      <td>NCBI:2847697</td>\n",
       "      <td>NCBI:948062</td>\n",
       "      <td>sRNA</td>\n",
       "      <td>mRNA</td>\n",
       "      <td>NaN</td>\n",
       "      <td>NaN</td>\n",
       "      <td>NaN</td>\n",
       "      <td>CAAAAATGGTGTCGCTCGTATTATTGTCGAGAAACCTTTCGGCAAG...</td>\n",
       "      <td>ATGCGTATTTCCTTGAAAAAGTCAGGGATGCTGAAGCTTGGTCTCA...</td>\n",
       "      <td>RNAInter</td>\n",
       "      <td>-16.08</td>\n",
       "    </tr>\n",
       "    <tr>\n",
       "      <th>1</th>\n",
       "      <td>dsrA</td>\n",
       "      <td>dsrB</td>\n",
       "      <td>NCBI:946470</td>\n",
       "      <td>NCBI:946468</td>\n",
       "      <td>sRNA</td>\n",
       "      <td>mRNA</td>\n",
       "      <td>NaN</td>\n",
       "      <td>NaN</td>\n",
       "      <td>NaN</td>\n",
       "      <td>AACACATCAGATTTCCTGGTGTAACGAATTTTTTAAGTGCTTCTTG...</td>\n",
       "      <td>TAAATGNAAACAAGTTTTATTTTTATCATCAGAACATTCTAATAAA...</td>\n",
       "      <td>RNAInter</td>\n",
       "      <td>-23.61</td>\n",
       "    </tr>\n",
       "    <tr>\n",
       "      <th>2</th>\n",
       "      <td>dsrA</td>\n",
       "      <td>ilvH</td>\n",
       "      <td>NCBI:946470</td>\n",
       "      <td>NCBI:947267</td>\n",
       "      <td>sRNA</td>\n",
       "      <td>mRNA</td>\n",
       "      <td>NaN</td>\n",
       "      <td>NaN</td>\n",
       "      <td>NaN</td>\n",
       "      <td>AACACATCAGATTTCCTGGTGTAACGAATTTTTTAAGTGCTTCTTG...</td>\n",
       "      <td>ATTCGCCACAACAAGGACAGGAAGGTTCGGCGCAAGGAGCCCAAGA...</td>\n",
       "      <td>RNAInter</td>\n",
       "      <td>-13.80</td>\n",
       "    </tr>\n",
       "    <tr>\n",
       "      <th>3</th>\n",
       "      <td>micA</td>\n",
       "      <td>ecnB</td>\n",
       "      <td>NCBI:2847697</td>\n",
       "      <td>NCBI:2847737</td>\n",
       "      <td>sRNA</td>\n",
       "      <td>mRNA</td>\n",
       "      <td>NaN</td>\n",
       "      <td>NaN</td>\n",
       "      <td>NaN</td>\n",
       "      <td>CAAAAATGGTGTCGCTCGTATTATTGTCGAGAAACCTTTCGGCAAG...</td>\n",
       "      <td>ATGGTGAAGAAGACAATTGCAGCGATCTTTTCTGTTCTGGTGCTTT...</td>\n",
       "      <td>RNAInter</td>\n",
       "      <td>-11.85</td>\n",
       "    </tr>\n",
       "    <tr>\n",
       "      <th>4</th>\n",
       "      <td>oxyS</td>\n",
       "      <td>fhlA</td>\n",
       "      <td>NCBI:2847701</td>\n",
       "      <td>NCBI:947181</td>\n",
       "      <td>sRNA</td>\n",
       "      <td>mRNA</td>\n",
       "      <td>NaN</td>\n",
       "      <td>NaN</td>\n",
       "      <td>NaN</td>\n",
       "      <td>GAAACGGAGCGGCACCTCTTTTAACCCTTGAAGTCACTGCCCGTTT...</td>\n",
       "      <td>CACCAGATTGCCAAGCTGATGGTCGAGCTGTCCAAATCCCAGGATG...</td>\n",
       "      <td>RNAInter</td>\n",
       "      <td>-13.31</td>\n",
       "    </tr>\n",
       "    <tr>\n",
       "      <th>...</th>\n",
       "      <td>...</td>\n",
       "      <td>...</td>\n",
       "      <td>...</td>\n",
       "      <td>...</td>\n",
       "      <td>...</td>\n",
       "      <td>...</td>\n",
       "      <td>...</td>\n",
       "      <td>...</td>\n",
       "      <td>...</td>\n",
       "      <td>...</td>\n",
       "      <td>...</td>\n",
       "      <td>...</td>\n",
       "      <td>...</td>\n",
       "    </tr>\n",
       "    <tr>\n",
       "      <th>444</th>\n",
       "      <td>ryhB</td>\n",
       "      <td>msrA</td>\n",
       "      <td>chromosome:NC_000913.3, Gene ID:2847761</td>\n",
       "      <td>chromosome:NC_000913.3, Gene ID:948734</td>\n",
       "      <td>NaN</td>\n",
       "      <td>mRNA</td>\n",
       "      <td>No Interaction</td>\n",
       "      <td>['NA']</td>\n",
       "      <td>['NA']</td>\n",
       "      <td>GCGATCAGGAAGACCCTCGCGGAGAACCTGAAAGCACGACATTGCT...</td>\n",
       "      <td>ATGAGTTTATTTGATAAAAAGCATCTGGTTTCCCCCGCCGATGCCC...</td>\n",
       "      <td>sRNATarBase</td>\n",
       "      <td>-15.83</td>\n",
       "    </tr>\n",
       "    <tr>\n",
       "      <th>445</th>\n",
       "      <td>gcvB</td>\n",
       "      <td>hdeA</td>\n",
       "      <td>chromosome:NC_000913.3, Gene ID:2847720</td>\n",
       "      <td>chromosome:NC_000913.3, Gene ID:948025</td>\n",
       "      <td>trans-encoded antisense RNA</td>\n",
       "      <td>mRNA</td>\n",
       "      <td>Induction</td>\n",
       "      <td>['NA']</td>\n",
       "      <td>['NA']</td>\n",
       "      <td>ACTTCCTGAGCCGGAACGAAAAGTTTTATCGGAATGCGTGTTCTGG...</td>\n",
       "      <td>ATGAAAAAAGTATTAGGCGTTATTCTTGGTGGTCTGCTTCTTCTGC...</td>\n",
       "      <td>sRNATarBase</td>\n",
       "      <td>-12.79</td>\n",
       "    </tr>\n",
       "    <tr>\n",
       "      <th>446</th>\n",
       "      <td>gcvB</td>\n",
       "      <td>hdeB</td>\n",
       "      <td>chromosome:NC_000913.3, Gene ID:2847720</td>\n",
       "      <td>chromosome:NC_000913.3, Gene ID:948026</td>\n",
       "      <td>trans-encoded antisense RNA</td>\n",
       "      <td>mRNA</td>\n",
       "      <td>Induction</td>\n",
       "      <td>['NA']</td>\n",
       "      <td>['NA']</td>\n",
       "      <td>ACTTCCTGAGCCGGAACGAAAAGTTTTATCGGAATGCGTGTTCTGG...</td>\n",
       "      <td>ATGAATATTTCATCTCTCCGTAAAGCGTTTATTTTTATGGGCGCTG...</td>\n",
       "      <td>sRNATarBase</td>\n",
       "      <td>-11.65</td>\n",
       "    </tr>\n",
       "    <tr>\n",
       "      <th>447</th>\n",
       "      <td>Esr41</td>\n",
       "      <td>fliC</td>\n",
       "      <td>chromosome:NC_002695.1, Gene ID:</td>\n",
       "      <td>chromosome:NC_002695.1, Gene ID:</td>\n",
       "      <td>trans-encoded antisense RNA</td>\n",
       "      <td>mRNA</td>\n",
       "      <td>Induction</td>\n",
       "      <td>['NA']</td>\n",
       "      <td>['NA']</td>\n",
       "      <td>GATGCTCTAGGCATCACATTTTCTCCATGGGGTATTCCCTCCGCCG...</td>\n",
       "      <td>ATGGCACAAGTCATTAATACCAACAGCCTCTCGCTGATCACTCAAA...</td>\n",
       "      <td>sRNATarBase</td>\n",
       "      <td>0.00</td>\n",
       "    </tr>\n",
       "    <tr>\n",
       "      <th>448</th>\n",
       "      <td>dsrA</td>\n",
       "      <td>mreB</td>\n",
       "      <td>chromosome:NC_000913.3, Gene ID:946470</td>\n",
       "      <td>chromosome:NC_000913.3, Gene ID:948588</td>\n",
       "      <td>trans-encoded antisense RNA</td>\n",
       "      <td>mRNA</td>\n",
       "      <td>Repression</td>\n",
       "      <td>['24..41']</td>\n",
       "      <td>['-3..18']</td>\n",
       "      <td>AACACATCAGATTTCCTGGTGTAACGAATTTTTTAAGTGCTTCTTG...</td>\n",
       "      <td>ATGTTGAAAAAATTTCGTGGCATGTTTTCCAATGACTTGTCCATTG...</td>\n",
       "      <td>sRNATarBase</td>\n",
       "      <td>-11.04</td>\n",
       "    </tr>\n",
       "  </tbody>\n",
       "</table>\n",
       "<p>449 rows × 13 columns</p>\n",
       "</div>"
      ],
      "text/plain": [
       "    Interactor 1 Interactor 2                                     ID 1  \\\n",
       "0           micA         dppA                             NCBI:2847697   \n",
       "1           dsrA         dsrB                              NCBI:946470   \n",
       "2           dsrA         ilvH                              NCBI:946470   \n",
       "3           micA         ecnB                             NCBI:2847697   \n",
       "4           oxyS         fhlA                             NCBI:2847701   \n",
       "..           ...          ...                                      ...   \n",
       "444         ryhB         msrA  chromosome:NC_000913.3, Gene ID:2847761   \n",
       "445         gcvB         hdeA  chromosome:NC_000913.3, Gene ID:2847720   \n",
       "446         gcvB         hdeB  chromosome:NC_000913.3, Gene ID:2847720   \n",
       "447        Esr41         fliC         chromosome:NC_002695.1, Gene ID:   \n",
       "448         dsrA         mreB   chromosome:NC_000913.3, Gene ID:946470   \n",
       "\n",
       "                                       ID 2                   Category 1  \\\n",
       "0                               NCBI:948062                         sRNA   \n",
       "1                               NCBI:946468                         sRNA   \n",
       "2                               NCBI:947267                         sRNA   \n",
       "3                              NCBI:2847737                         sRNA   \n",
       "4                               NCBI:947181                         sRNA   \n",
       "..                                      ...                          ...   \n",
       "444  chromosome:NC_000913.3, Gene ID:948734                          NaN   \n",
       "445  chromosome:NC_000913.3, Gene ID:948025  trans-encoded antisense RNA   \n",
       "446  chromosome:NC_000913.3, Gene ID:948026  trans-encoded antisense RNA   \n",
       "447        chromosome:NC_002695.1, Gene ID:  trans-encoded antisense RNA   \n",
       "448  chromosome:NC_000913.3, Gene ID:948588  trans-encoded antisense RNA   \n",
       "\n",
       "    Category 2      Regulation Binding position 1 Binding position 2  \\\n",
       "0         mRNA             NaN                NaN                NaN   \n",
       "1         mRNA             NaN                NaN                NaN   \n",
       "2         mRNA             NaN                NaN                NaN   \n",
       "3         mRNA             NaN                NaN                NaN   \n",
       "4         mRNA             NaN                NaN                NaN   \n",
       "..         ...             ...                ...                ...   \n",
       "444       mRNA  No Interaction             ['NA']             ['NA']   \n",
       "445       mRNA       Induction             ['NA']             ['NA']   \n",
       "446       mRNA       Induction             ['NA']             ['NA']   \n",
       "447       mRNA       Induction             ['NA']             ['NA']   \n",
       "448       mRNA      Repression         ['24..41']         ['-3..18']   \n",
       "\n",
       "                                            Sequence 1  \\\n",
       "0    CAAAAATGGTGTCGCTCGTATTATTGTCGAGAAACCTTTCGGCAAG...   \n",
       "1    AACACATCAGATTTCCTGGTGTAACGAATTTTTTAAGTGCTTCTTG...   \n",
       "2    AACACATCAGATTTCCTGGTGTAACGAATTTTTTAAGTGCTTCTTG...   \n",
       "3    CAAAAATGGTGTCGCTCGTATTATTGTCGAGAAACCTTTCGGCAAG...   \n",
       "4    GAAACGGAGCGGCACCTCTTTTAACCCTTGAAGTCACTGCCCGTTT...   \n",
       "..                                                 ...   \n",
       "444  GCGATCAGGAAGACCCTCGCGGAGAACCTGAAAGCACGACATTGCT...   \n",
       "445  ACTTCCTGAGCCGGAACGAAAAGTTTTATCGGAATGCGTGTTCTGG...   \n",
       "446  ACTTCCTGAGCCGGAACGAAAAGTTTTATCGGAATGCGTGTTCTGG...   \n",
       "447  GATGCTCTAGGCATCACATTTTCTCCATGGGGTATTCCCTCCGCCG...   \n",
       "448  AACACATCAGATTTCCTGGTGTAACGAATTTTTTAAGTGCTTCTTG...   \n",
       "\n",
       "                                            Sequence 2    Source DB  \\\n",
       "0    ATGCGTATTTCCTTGAAAAAGTCAGGGATGCTGAAGCTTGGTCTCA...     RNAInter   \n",
       "1    TAAATGNAAACAAGTTTTATTTTTATCATCAGAACATTCTAATAAA...     RNAInter   \n",
       "2    ATTCGCCACAACAAGGACAGGAAGGTTCGGCGCAAGGAGCCCAAGA...     RNAInter   \n",
       "3    ATGGTGAAGAAGACAATTGCAGCGATCTTTTCTGTTCTGGTGCTTT...     RNAInter   \n",
       "4    CACCAGATTGCCAAGCTGATGGTCGAGCTGTCCAAATCCCAGGATG...     RNAInter   \n",
       "..                                                 ...          ...   \n",
       "444  ATGAGTTTATTTGATAAAAAGCATCTGGTTTCCCCCGCCGATGCCC...  sRNATarBase   \n",
       "445  ATGAAAAAAGTATTAGGCGTTATTCTTGGTGGTCTGCTTCTTCTGC...  sRNATarBase   \n",
       "446  ATGAATATTTCATCTCTCCGTAAAGCGTTTATTTTTATGGGCGCTG...  sRNATarBase   \n",
       "447  ATGGCACAAGTCATTAATACCAACAGCCTCTCGCTGATCACTCAAA...  sRNATarBase   \n",
       "448  ATGTTGAAAAAATTTCGTGGCATGTTTTCCAATGACTTGTCCATTG...  sRNATarBase   \n",
       "\n",
       "     Interaction Energy  \n",
       "0                -16.08  \n",
       "1                -23.61  \n",
       "2                -13.80  \n",
       "3                -11.85  \n",
       "4                -13.31  \n",
       "..                  ...  \n",
       "444              -15.83  \n",
       "445              -12.79  \n",
       "446              -11.65  \n",
       "447                0.00  \n",
       "448              -11.04  \n",
       "\n",
       "[449 rows x 13 columns]"
      ]
     },
     "execution_count": 5,
     "metadata": {},
     "output_type": "execute_result"
    }
   ],
   "source": [
    "data['Interaction Energy'] = 0.0\n",
    "for k1 in interaction_data:\n",
    "    for k2, v in interaction_data[k1].items():\n",
    "        if k1 in data['Interactor 1'].to_list():\n",
    "            data.loc[(data['Interactor 1'] == k1) & (data['Interactor 2'] == k2), 'Interaction Energy'] = float(v['E'])\n",
    "        elif k2 in data['Interactor 1'].to_list():\n",
    "            data.loc[(data['Interactor 1'] == k2) & (data['Interactor 2'] == k1), 'Interaction Energy'] = float(v['E'])\n",
    "        else:\n",
    "            print(k1, k2)\n",
    "data\n",
    "\n",
    "        "
   ]
  },
  {
   "cell_type": "code",
   "execution_count": 6,
   "metadata": {},
   "outputs": [],
   "source": [
    "data['Regulation'] = data['Regulation'].apply(lambda x: x if type(x) == str else 'Unknown')"
   ]
  },
  {
   "cell_type": "code",
   "execution_count": 7,
   "metadata": {},
   "outputs": [
    {
     "data": {
      "image/png": "[encoded data removed]",
      "text/plain": [
       "<Figure size 640x480 with 1 Axes>"
      ]
     },
     "metadata": {},
     "output_type": "display_data"
    }
   ],
   "source": [
    "g = sns.histplot(data, x='Interaction Energy', hue='Regulation', element='step', bins=20, fill=False)\n",
    "plt.title('Interaction energy (kcal/mol) predicted by IntaRNA')\n",
    "sns.move_legend(g, \"upper left\", bbox_to_anchor=(1, 1))\n"
   ]
  },
  {
   "cell_type": "code",
   "execution_count": 21,
   "metadata": {},
   "outputs": [
    {
     "data": {
      "text/plain": [
       "Text(0.5, 1.0, 'Distal binding by regulation mechanism')"
      ]
     },
     "execution_count": 21,
     "metadata": {},
     "output_type": "execute_result"
    },
    {
     "data": {
      "image/png": "[encoded data removed]",
      "text/plain": [
       "<Figure size 640x480 with 1 Axes>"
      ]
     },
     "metadata": {},
     "output_type": "display_data"
    }
   ],
   "source": [
    "g = sns.histplot(data, x='Regulation', hue=data['Binding position 2'].apply(lambda x: '-' in x if type(x) == str else False), element='step')\n",
    "sns.move_legend(g, \"upper left\", bbox_to_anchor=(1, 1))\n",
    "g.legend_.set_title('Distal binding on mRNA')\n",
    "plt.title('Distal binding by regulation mechanism')"
   ]
  },
  {
   "cell_type": "markdown",
   "metadata": {},
   "source": [
    "# Motif differences between activation / repression"
   ]
  },
  {
   "cell_type": "code",
   "execution_count": null,
   "metadata": {},
   "outputs": [],
   "source": []
  },
  {
   "cell_type": "markdown",
   "metadata": {},
   "source": [
    "# Sequence differences"
   ]
  },
  {
   "cell_type": "markdown",
   "metadata": {},
   "source": [
    "# Binding site differences"
   ]
  },
  {
   "cell_type": "markdown",
   "metadata": {},
   "source": [
    "# Protein involvements"
   ]
  }
 ],
 "metadata": {
  "kernelspec": {
   "display_name": "env_evo",
   "language": "python",
   "name": "python3"
  },
  "language_info": {
   "codemirror_mode": {
    "name": "ipython",
    "version": 3
   },
   "file_extension": ".py",
   "mimetype": "text/x-python",
   "name": "python",
   "nbconvert_exporter": "python",
   "pygments_lexer": "ipython3",
   "version": "3.10.12"
  }
 },
 "nbformat": 4,
 "nbformat_minor": 2
}
