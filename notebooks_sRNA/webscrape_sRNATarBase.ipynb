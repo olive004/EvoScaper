{
 "cells": [
  {
   "cell_type": "code",
   "execution_count": 1,
   "metadata": {
    "execution": {
     "iopub.execute_input": "2023-11-23T16:27:14.081821Z",
     "iopub.status.busy": "2023-11-23T16:27:14.080203Z",
     "iopub.status.idle": "2023-11-23T16:27:14.095012Z",
     "shell.execute_reply": "2023-11-23T16:27:14.094660Z"
    }
   },
   "outputs": [],
   "source": [
    "%load_ext autoreload\n",
    "%autoreload 2"
   ]
  },
  {
   "cell_type": "markdown",
   "metadata": {},
   "source": [
    "# Downloading data from sRNATarBase\n",
    "\n",
    "This script works and webscrapes the sequences and interaction targets for each sRNA from [sRNATarBase](http://aibcenter.com/srnatarbase/index.php?r=srnaTarget/index).\n",
    "\n",
    "We also used [RNAInter](http://www.rnainter.org/showBrowse/?sType=Species&sItem=Escherichia+coli+str.+K-12+substr.+MG1655&number=Escherichia+coli+str.+K-12+substr.+MG1655%3A+436+entries) as a database for referencing RNA interactions.\n"
   ]
  },
  {
   "cell_type": "markdown",
   "metadata": {},
   "source": [
    "# Imports"
   ]
  },
  {
   "cell_type": "code",
   "execution_count": 2,
   "metadata": {
    "execution": {
     "iopub.execute_input": "2023-11-23T16:27:14.096740Z",
     "iopub.status.busy": "2023-11-23T16:27:14.096618Z",
     "iopub.status.idle": "2023-11-23T16:27:14.312464Z",
     "shell.execute_reply": "2023-11-23T16:27:14.312003Z"
    }
   },
   "outputs": [],
   "source": [
    "import os\n",
    "import requests\n",
    "from bs4 import BeautifulSoup\n",
    "\n",
    "import pandas as pd\n",
    "import numpy as np"
   ]
  },
  {
   "cell_type": "markdown",
   "metadata": {},
   "source": [
    "# Webscrape"
   ]
  },
  {
   "cell_type": "code",
   "execution_count": 3,
   "metadata": {
    "execution": {
     "iopub.execute_input": "2023-11-23T16:27:14.314302Z",
     "iopub.status.busy": "2023-11-23T16:27:14.314141Z",
     "iopub.status.idle": "2023-11-23T16:27:14.323813Z",
     "shell.execute_reply": "2023-11-23T16:27:14.323431Z"
    }
   },
   "outputs": [],
   "source": [
    "def find_lines_with_keyword(soup, keyword):\n",
    "    \"\"\" Bard \"\"\"\n",
    "    lines = []\n",
    "    for line in soup.find_all():\n",
    "        if keyword in line.text:\n",
    "            lines.append(line)\n",
    "    return lines\n",
    "\n",
    "def pull_table_info_srnatarbase(soup, rowname):\n",
    "    interaction_lines = find_lines_with_keyword(soup, rowname)\n",
    "    interaction_lines = [i for i in interaction_lines if 'width' in i.attrs.get('style', '') and (i.text == rowname)]\n",
    "    return [i.next_sibling.text for i in interaction_lines]\n",
    "\n",
    "def scrape_rna_sequences(url):\n",
    "    try:\n",
    "        # Send an HTTP GET request to the URL\n",
    "        response = requests.get(url)\n",
    "        \n",
    "        # Check if the request was successful (status code 200)\n",
    "        if response.status_code == 200:\n",
    "            # Parse the page content with BeautifulSoup\n",
    "            soup = BeautifulSoup(response.text, 'html.parser')\n",
    "            if 'Escherichia coli' not in pull_table_info_srnatarbase(soup, rowname='Strain Name')[0]:\n",
    "                return 0\n",
    "            \n",
    "            # Find elements containing RNA sequences\n",
    "            seqs = {}\n",
    "            seqs['sRNA'] = pull_table_info_srnatarbase(soup, rowname='sRNA')[-1]\n",
    "            seqs['Target'] = pull_table_info_srnatarbase(soup, rowname='Target')[-1]\n",
    "            seqs['Regulation'] = pull_table_info_srnatarbase(soup, rowname='Regulation')[-1]\n",
    "            seqs['sRNA Binding Position'] = pull_table_info_srnatarbase(soup, rowname='sRNA Binding Position')\n",
    "            seqs['Target Binding Position'] = pull_table_info_srnatarbase(soup, rowname='Target Binding Position')\n",
    "            seqs['sRNA Sequence'] = pull_table_info_srnatarbase(soup, rowname='sRNA Seq')[0]\n",
    "            seqs['Target Sequence'] = pull_table_info_srnatarbase(soup, rowname='Target Seq')[0]\n",
    "            \n",
    "            return pd.DataFrame.from_dict({k: [v] for k, v in seqs.items()})\n",
    "        # elif response.status_code == 500:\n",
    "        else:\n",
    "            print(f\"Failed to retrieve data. Status code: {response.status_code}. URL: {url}\")\n",
    "    except requests.exceptions.RequestException as e:\n",
    "        print(f\"An error occurred during the request: {e}\\nURL: {url}\")\n",
    "    except Exception as e:\n",
    "        print(f\"An error occurred: {e}\\nURL: {url}\")"
   ]
  },
  {
   "cell_type": "code",
   "execution_count": 4,
   "metadata": {
    "execution": {
     "iopub.execute_input": "2023-11-23T16:27:14.325522Z",
     "iopub.status.busy": "2023-11-23T16:27:14.325401Z",
     "iopub.status.idle": "2023-11-23T16:27:16.448434Z",
     "shell.execute_reply": "2023-11-23T16:27:16.448065Z"
    }
   },
   "outputs": [
    {
     "data": {
      "text/html": [
       "<div>\n",
       "<style scoped>\n",
       "    .dataframe tbody tr th:only-of-type {\n",
       "        vertical-align: middle;\n",
       "    }\n",
       "\n",
       "    .dataframe tbody tr th {\n",
       "        vertical-align: top;\n",
       "    }\n",
       "\n",
       "    .dataframe thead th {\n",
       "        text-align: right;\n",
       "    }\n",
       "</style>\n",
       "<table border=\"1\" class=\"dataframe\">\n",
       "  <thead>\n",
       "    <tr style=\"text-align: right;\">\n",
       "      <th></th>\n",
       "      <th>sRNA</th>\n",
       "      <th>Target</th>\n",
       "      <th>Regulation</th>\n",
       "      <th>sRNA Binding Position</th>\n",
       "      <th>Target Binding Position</th>\n",
       "      <th>sRNA Sequence</th>\n",
       "      <th>Target Sequence</th>\n",
       "    </tr>\n",
       "  </thead>\n",
       "  <tbody>\n",
       "    <tr>\n",
       "      <th>0</th>\n",
       "      <td>dsrA</td>\n",
       "      <td>hns</td>\n",
       "      <td>Repression</td>\n",
       "      <td>[31..43, NA, 31..54]</td>\n",
       "      <td>[7..19, NA, 7..19; 401..411]</td>\n",
       "      <td>AACACATCAGATTTCCTGGTGTAACGAATTTTTTAAGTGCTTCTTG...</td>\n",
       "      <td>ATGAGCGAAGCACTTAAAATTCTGAACAACATCCGTACTCTTCGTG...</td>\n",
       "    </tr>\n",
       "  </tbody>\n",
       "</table>\n",
       "</div>"
      ],
      "text/plain": [
       "   sRNA Target  Regulation sRNA Binding Position  \\\n",
       "0  dsrA    hns  Repression  [31..43, NA, 31..54]   \n",
       "\n",
       "        Target Binding Position  \\\n",
       "0  [7..19, NA, 7..19; 401..411]   \n",
       "\n",
       "                                       sRNA Sequence  \\\n",
       "0  AACACATCAGATTTCCTGGTGTAACGAATTTTTTAAGTGCTTCTTG...   \n",
       "\n",
       "                                     Target Sequence  \n",
       "0  ATGAGCGAAGCACTTAAAATTCTGAACAACATCCGTACTCTTCGTG...  "
      ]
     },
     "execution_count": 4,
     "metadata": {},
     "output_type": "execute_result"
    }
   ],
   "source": [
    "\n",
    "# URL of the page containing RNA sequences\n",
    "# url = \"http://aibcenter.com/srnatarbase/index.php?r=srnaTarget/index\"\n",
    "\n",
    "url = \"http://aibcenter.com/srnatarbase/index.php?r=srnaTarget/view&id=\" + '1'\n",
    "\n",
    "# Call the function to scrape RNA sequences\n",
    "seqs = scrape_rna_sequences(url)\n",
    "seqs"
   ]
  },
  {
   "cell_type": "markdown",
   "metadata": {},
   "source": [
    "### Run for all available sRNA targets"
   ]
  },
  {
   "cell_type": "code",
   "execution_count": 5,
   "metadata": {
    "execution": {
     "iopub.execute_input": "2023-11-23T16:27:16.469894Z",
     "iopub.status.busy": "2023-11-23T16:27:16.469673Z",
     "iopub.status.idle": "2023-11-23T16:39:45.904843Z",
     "shell.execute_reply": "2023-11-23T16:39:45.904319Z"
    }
   },
   "outputs": [
    {
     "name": "stdout",
     "output_type": "stream",
     "text": [
      "Failed to retrieve data. Status code: 500. URL: http://aibcenter.com/srnatarbase/index.php?r=srnaTarget/view&id=17\n",
      "Failed to retrieve data. Status code: 500. URL: http://aibcenter.com/srnatarbase/index.php?r=srnaTarget/view&id=394\n"
     ]
    }
   ],
   "source": [
    "url = \"http://aibcenter.com/srnatarbase/index.php?r=srnaTarget/view&id=\"\n",
    "df = pd.DataFrame()\n",
    "for i in range(1, 772):\n",
    "    seqs = scrape_rna_sequences(url + str(i))\n",
    "    if (seqs is not None) and (type(seqs) != int):\n",
    "        df = pd.concat([df, seqs])\n",
    "    \n",
    "    "
   ]
  },
  {
   "cell_type": "code",
   "execution_count": 6,
   "metadata": {
    "execution": {
     "iopub.execute_input": "2023-11-23T16:39:45.906673Z",
     "iopub.status.busy": "2023-11-23T16:39:45.906554Z",
     "iopub.status.idle": "2023-11-23T16:39:45.920593Z",
     "shell.execute_reply": "2023-11-23T16:39:45.920230Z"
    }
   },
   "outputs": [
    {
     "data": {
      "text/html": [
       "<div>\n",
       "<style scoped>\n",
       "    .dataframe tbody tr th:only-of-type {\n",
       "        vertical-align: middle;\n",
       "    }\n",
       "\n",
       "    .dataframe tbody tr th {\n",
       "        vertical-align: top;\n",
       "    }\n",
       "\n",
       "    .dataframe thead th {\n",
       "        text-align: right;\n",
       "    }\n",
       "</style>\n",
       "<table border=\"1\" class=\"dataframe\">\n",
       "  <thead>\n",
       "    <tr style=\"text-align: right;\">\n",
       "      <th></th>\n",
       "      <th>sRNA</th>\n",
       "      <th>Target</th>\n",
       "      <th>Regulation</th>\n",
       "      <th>sRNA Binding Position</th>\n",
       "      <th>Target Binding Position</th>\n",
       "      <th>sRNA Sequence</th>\n",
       "      <th>Target Sequence</th>\n",
       "    </tr>\n",
       "  </thead>\n",
       "  <tbody>\n",
       "    <tr>\n",
       "      <th>0</th>\n",
       "      <td>dsrA</td>\n",
       "      <td>hns</td>\n",
       "      <td>Repression</td>\n",
       "      <td>[31..43, NA, 31..54]</td>\n",
       "      <td>[7..19, NA, 7..19; 401..411]</td>\n",
       "      <td>AACACATCAGATTTCCTGGTGTAACGAATTTTTTAAGTGCTTCTTG...</td>\n",
       "      <td>ATGAGCGAAGCACTTAAAATTCTGAACAACATCCGTACTCTTCGTG...</td>\n",
       "    </tr>\n",
       "    <tr>\n",
       "      <th>1</th>\n",
       "      <td>dsrA</td>\n",
       "      <td>rbsD</td>\n",
       "      <td>Repression</td>\n",
       "      <td>[NA]</td>\n",
       "      <td>[NA]</td>\n",
       "      <td>AACACATCAGATTTCCTGGTGTAACGAATTTTTTAAGTGCTTCTTG...</td>\n",
       "      <td>ATGAAAAAAGGCACCGTTCTTAATTCTGATATTTCATCGGTGATCT...</td>\n",
       "    </tr>\n",
       "    <tr>\n",
       "      <th>2</th>\n",
       "      <td>dsrA</td>\n",
       "      <td>argR</td>\n",
       "      <td>Repression</td>\n",
       "      <td>[NA]</td>\n",
       "      <td>[NA]</td>\n",
       "      <td>AACACATCAGATTTCCTGGTGTAACGAATTTTTTAAGTGCTTCTTG...</td>\n",
       "      <td>ATGCGAAGCTCGGCTAAGCAAGAAGAACTAGTTAAAGCATTTAAAG...</td>\n",
       "    </tr>\n",
       "    <tr>\n",
       "      <th>3</th>\n",
       "      <td>dsrA</td>\n",
       "      <td>ilvI</td>\n",
       "      <td>Repression</td>\n",
       "      <td>[NA]</td>\n",
       "      <td>[NA]</td>\n",
       "      <td>AACACATCAGATTTCCTGGTGTAACGAATTTTTTAAGTGCTTCTTG...</td>\n",
       "      <td>ATGGAGATGTTGTCTGGAGCCGAGATGGTCGTCCGATCGCTTATCG...</td>\n",
       "    </tr>\n",
       "    <tr>\n",
       "      <th>4</th>\n",
       "      <td>dsrA</td>\n",
       "      <td>rpoS</td>\n",
       "      <td>Induction</td>\n",
       "      <td>[10..32, NA, NA]</td>\n",
       "      <td>[-119..-97, NA, NA]</td>\n",
       "      <td>AACACATCAGATTTCCTGGTGTAACGAATTTTTTAAGTGCTTCTTG...</td>\n",
       "      <td>ATGAGTCAGAATACGCTGAAAGTTCATGATTTAAATGAAGATGCGG...</td>\n",
       "    </tr>\n",
       "    <tr>\n",
       "      <th>...</th>\n",
       "      <td>...</td>\n",
       "      <td>...</td>\n",
       "      <td>...</td>\n",
       "      <td>...</td>\n",
       "      <td>...</td>\n",
       "      <td>...</td>\n",
       "      <td>...</td>\n",
       "    </tr>\n",
       "    <tr>\n",
       "      <th>406</th>\n",
       "      <td>ryhB</td>\n",
       "      <td>msrA</td>\n",
       "      <td>No Interaction</td>\n",
       "      <td>[NA]</td>\n",
       "      <td>[NA]</td>\n",
       "      <td>GCGATCAGGAAGACCCTCGCGGAGAACCTGAAAGCACGACATTGCT...</td>\n",
       "      <td>ATGAGTTTATTTGATAAAAAGCATCTGGTTTCCCCCGCCGATGCCC...</td>\n",
       "    </tr>\n",
       "    <tr>\n",
       "      <th>407</th>\n",
       "      <td>gcvB</td>\n",
       "      <td>hdeA</td>\n",
       "      <td>Induction</td>\n",
       "      <td>[NA]</td>\n",
       "      <td>[NA]</td>\n",
       "      <td>ACTTCCTGAGCCGGAACGAAAAGTTTTATCGGAATGCGTGTTCTGG...</td>\n",
       "      <td>ATGAAAAAAGTATTAGGCGTTATTCTTGGTGGTCTGCTTCTTCTGC...</td>\n",
       "    </tr>\n",
       "    <tr>\n",
       "      <th>408</th>\n",
       "      <td>gcvB</td>\n",
       "      <td>hdeB</td>\n",
       "      <td>Induction</td>\n",
       "      <td>[NA]</td>\n",
       "      <td>[NA]</td>\n",
       "      <td>ACTTCCTGAGCCGGAACGAAAAGTTTTATCGGAATGCGTGTTCTGG...</td>\n",
       "      <td>ATGAATATTTCATCTCTCCGTAAAGCGTTTATTTTTATGGGCGCTG...</td>\n",
       "    </tr>\n",
       "    <tr>\n",
       "      <th>409</th>\n",
       "      <td>Esr41</td>\n",
       "      <td>fliC</td>\n",
       "      <td>Induction</td>\n",
       "      <td>[NA]</td>\n",
       "      <td>[NA]</td>\n",
       "      <td>GATGCTCTAGGCATCACATTTTCTCCATGGGGTATTCCCTCCGCCG...</td>\n",
       "      <td>ATGGCACAAGTCATTAATACCAACAGCCTCTCGCTGATCACTCAAA...</td>\n",
       "    </tr>\n",
       "    <tr>\n",
       "      <th>410</th>\n",
       "      <td>dsrA</td>\n",
       "      <td>mreB</td>\n",
       "      <td>Repression</td>\n",
       "      <td>[24..41]</td>\n",
       "      <td>[-3..18]</td>\n",
       "      <td>AACACATCAGATTTCCTGGTGTAACGAATTTTTTAAGTGCTTCTTG...</td>\n",
       "      <td>ATGTTGAAAAAATTTCGTGGCATGTTTTCCAATGACTTGTCCATTG...</td>\n",
       "    </tr>\n",
       "  </tbody>\n",
       "</table>\n",
       "<p>411 rows × 7 columns</p>\n",
       "</div>"
      ],
      "text/plain": [
       "      sRNA Target      Regulation sRNA Binding Position  \\\n",
       "0     dsrA    hns      Repression  [31..43, NA, 31..54]   \n",
       "1     dsrA   rbsD      Repression                  [NA]   \n",
       "2     dsrA   argR      Repression                  [NA]   \n",
       "3     dsrA   ilvI      Repression                  [NA]   \n",
       "4     dsrA   rpoS       Induction      [10..32, NA, NA]   \n",
       "..     ...    ...             ...                   ...   \n",
       "406   ryhB   msrA  No Interaction                  [NA]   \n",
       "407   gcvB   hdeA       Induction                  [NA]   \n",
       "408   gcvB   hdeB       Induction                  [NA]   \n",
       "409  Esr41   fliC       Induction                  [NA]   \n",
       "410   dsrA   mreB      Repression              [24..41]   \n",
       "\n",
       "          Target Binding Position  \\\n",
       "0    [7..19, NA, 7..19; 401..411]   \n",
       "1                            [NA]   \n",
       "2                            [NA]   \n",
       "3                            [NA]   \n",
       "4             [-119..-97, NA, NA]   \n",
       "..                            ...   \n",
       "406                          [NA]   \n",
       "407                          [NA]   \n",
       "408                          [NA]   \n",
       "409                          [NA]   \n",
       "410                      [-3..18]   \n",
       "\n",
       "                                         sRNA Sequence  \\\n",
       "0    AACACATCAGATTTCCTGGTGTAACGAATTTTTTAAGTGCTTCTTG...   \n",
       "1    AACACATCAGATTTCCTGGTGTAACGAATTTTTTAAGTGCTTCTTG...   \n",
       "2    AACACATCAGATTTCCTGGTGTAACGAATTTTTTAAGTGCTTCTTG...   \n",
       "3    AACACATCAGATTTCCTGGTGTAACGAATTTTTTAAGTGCTTCTTG...   \n",
       "4    AACACATCAGATTTCCTGGTGTAACGAATTTTTTAAGTGCTTCTTG...   \n",
       "..                                                 ...   \n",
       "406  GCGATCAGGAAGACCCTCGCGGAGAACCTGAAAGCACGACATTGCT...   \n",
       "407  ACTTCCTGAGCCGGAACGAAAAGTTTTATCGGAATGCGTGTTCTGG...   \n",
       "408  ACTTCCTGAGCCGGAACGAAAAGTTTTATCGGAATGCGTGTTCTGG...   \n",
       "409  GATGCTCTAGGCATCACATTTTCTCCATGGGGTATTCCCTCCGCCG...   \n",
       "410  AACACATCAGATTTCCTGGTGTAACGAATTTTTTAAGTGCTTCTTG...   \n",
       "\n",
       "                                       Target Sequence  \n",
       "0    ATGAGCGAAGCACTTAAAATTCTGAACAACATCCGTACTCTTCGTG...  \n",
       "1    ATGAAAAAAGGCACCGTTCTTAATTCTGATATTTCATCGGTGATCT...  \n",
       "2    ATGCGAAGCTCGGCTAAGCAAGAAGAACTAGTTAAAGCATTTAAAG...  \n",
       "3    ATGGAGATGTTGTCTGGAGCCGAGATGGTCGTCCGATCGCTTATCG...  \n",
       "4    ATGAGTCAGAATACGCTGAAAGTTCATGATTTAAATGAAGATGCGG...  \n",
       "..                                                 ...  \n",
       "406  ATGAGTTTATTTGATAAAAAGCATCTGGTTTCCCCCGCCGATGCCC...  \n",
       "407  ATGAAAAAAGTATTAGGCGTTATTCTTGGTGGTCTGCTTCTTCTGC...  \n",
       "408  ATGAATATTTCATCTCTCCGTAAAGCGTTTATTTTTATGGGCGCTG...  \n",
       "409  ATGGCACAAGTCATTAATACCAACAGCCTCTCGCTGATCACTCAAA...  \n",
       "410  ATGTTGAAAAAATTTCGTGGCATGTTTTCCAATGACTTGTCCATTG...  \n",
       "\n",
       "[411 rows x 7 columns]"
      ]
     },
     "execution_count": 6,
     "metadata": {},
     "output_type": "execute_result"
    }
   ],
   "source": [
    "df = df.reset_index().drop(columns=['index'])\n",
    "df"
   ]
  },
  {
   "cell_type": "code",
   "execution_count": 7,
   "metadata": {
    "execution": {
     "iopub.execute_input": "2023-11-23T16:39:45.922150Z",
     "iopub.status.busy": "2023-11-23T16:39:45.922037Z",
     "iopub.status.idle": "2023-11-23T16:39:45.936840Z",
     "shell.execute_reply": "2023-11-23T16:39:45.936438Z"
    }
   },
   "outputs": [],
   "source": [
    "df.to_csv(os.path.join('..', 'data', 'sRNA', 'sRNATarBase', 'sRNATarBase.csv'))"
   ]
  },
  {
   "cell_type": "markdown",
   "metadata": {},
   "source": [
    "### A few stats"
   ]
  },
  {
   "cell_type": "code",
   "execution_count": 8,
   "metadata": {
    "execution": {
     "iopub.execute_input": "2023-11-23T16:39:45.938480Z",
     "iopub.status.busy": "2023-11-23T16:39:45.938332Z",
     "iopub.status.idle": "2023-11-23T16:39:45.950004Z",
     "shell.execute_reply": "2023-11-23T16:39:45.949657Z"
    }
   },
   "outputs": [
    {
     "name": "stdout",
     "output_type": "stream",
     "text": [
      "Number of sRNAs: 54\n",
      "\n",
      "Number of targets: 273\n",
      "\n",
      "Number of distal binding sites on target (negative binding position): 91\n",
      "\n",
      "Fraction of incomplete sequences:\n",
      "\tsRNA sequences: 0.004866180048661801\n",
      "\ttarget sequences: 0.0024330900243309003\n",
      "\n",
      "Fraction of unknown binding positions\n",
      "\tsRNA binding positions: 0.024330900243309004\n",
      "\ttarget binding positions: 0.024330900243309004\n",
      "\n",
      "Types of regulation:\n",
      " Regulation\n",
      "Repression           194\n",
      "No Interaction       191\n",
      "Induction             20\n",
      "Protein titration      6\n",
      "Name: count, dtype: int64 \n",
      "\n",
      "Types of regulation percent:\n",
      " Regulation\n",
      "Repression           0.472019\n",
      "No Interaction       0.464720\n",
      "Induction            0.048662\n",
      "Protein titration    0.014599\n",
      "Name: count, dtype: float64 \n",
      "\n"
     ]
    }
   ],
   "source": [
    "print('Number of sRNAs:', len(df['sRNA'].unique()))\n",
    "print('\\nNumber of targets:', len(df['Target'].unique()))\n",
    "print('\\nNumber of distal binding sites on target (negative binding position):', sum(df['Target Binding Position'].apply(lambda x: '-' in x[0])))\n",
    "print('\\nFraction of incomplete sequences:')\n",
    "print('\\tsRNA sequences:', len(df[df['sRNA Sequence'] == '']) / len(df))\n",
    "print('\\ttarget sequences:', len(df[df['Target Sequence'] == '']) / len(df))\n",
    "print('\\nFraction of unknown binding positions')\n",
    "print('\\tsRNA binding positions:', len(df[df['sRNA Binding Position'].apply(lambda x: x[0] == 'NA' and (len(x) > 1))]) / len(df))\n",
    "print('\\ttarget binding positions:', len(df[df['Target Binding Position'].apply(lambda x: x[0] == 'NA' and (len(x) > 1))]) / len(df))\n",
    "print('\\nTypes of regulation:\\n', df['Regulation'].value_counts(), '\\n')\n",
    "print('Types of regulation percent:\\n', df['Regulation'].value_counts() / len(df), '\\n')"
   ]
  },
  {
   "cell_type": "code",
   "execution_count": null,
   "metadata": {},
   "outputs": [],
   "source": []
  }
 ],
 "metadata": {
  "kernelspec": {
   "display_name": "env_evo",
   "language": "python",
   "name": "python3"
  },
  "language_info": {
   "codemirror_mode": {
    "name": "ipython",
    "version": 3
   },
   "file_extension": ".py",
   "mimetype": "text/x-python",
   "name": "python",
   "nbconvert_exporter": "python",
   "pygments_lexer": "ipython3",
   "version": "3.10.12"
  }
 },
 "nbformat": 4,
 "nbformat_minor": 2
}
