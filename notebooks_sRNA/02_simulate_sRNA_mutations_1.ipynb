{
 "cells": [
  {
   "cell_type": "code",
   "execution_count": 1,
   "metadata": {
    "execution": {
     "iopub.execute_input": "2023-10-25T20:57:34.893142Z",
     "iopub.status.busy": "2023-10-25T20:57:34.892921Z",
     "iopub.status.idle": "2023-10-25T20:57:34.908478Z",
     "shell.execute_reply": "2023-10-25T20:57:34.907963Z"
    }
   },
   "outputs": [],
   "source": [
    "%load_ext autoreload\n",
    "%autoreload 2"
   ]
  },
  {
   "cell_type": "markdown",
   "metadata": {},
   "source": [
    "# Simulating the effect of mutations on sRNA networks\n",
    "\n",
    "In this notebook we will demonstrate a workflow for simulating mutations in RNA and examining the effect that this would have on RNA networks / circuits. We will use the `synbio_morpher` to predict the interaction strength and simulate the effect on RNA."
   ]
  },
  {
   "cell_type": "markdown",
   "metadata": {},
   "source": [
    "## Imports"
   ]
  },
  {
   "cell_type": "code",
   "execution_count": 2,
   "metadata": {
    "execution": {
     "iopub.execute_input": "2023-10-25T20:57:34.911243Z",
     "iopub.status.busy": "2023-10-25T20:57:34.910834Z",
     "iopub.status.idle": "2023-10-25T20:57:36.442420Z",
     "shell.execute_reply": "2023-10-25T20:57:36.441813Z"
    }
   },
   "outputs": [],
   "source": [
    "import os\n",
    "from Bio import SeqIO\n",
    "from Bio.SeqRecord import SeqRecord\n",
    "import pandas as pd\n",
    "\n",
    "from synbio_morpher.srv.io.manage.script_manager import script_preamble\n",
    "from synbio_morpher.utils.common.setup import construct_circuit_from_cfg, prepare_config, expand_config\n",
    "from synbio_morpher.utils.evolution.evolver import Evolver\n",
    "from synbio_morpher.utils.circuit.agnostic_circuits.circuit_manager import CircuitModeller\n",
    "\n",
    "import numpy as np\n",
    "import jax\n",
    "jax.config.update('jax_platform_name', 'gpu')\n",
    "\n"
   ]
  },
  {
   "cell_type": "markdown",
   "metadata": {},
   "source": [
    "## Introduction to `synbio_morpher`\n",
    "\n",
    "The package `synbio_morpher` allows for easy construction of genetic circuits and their simulation. A genetic circuit can be created by putting all the component RNA species into a FASTA file, or by directly creating a dictionary that contains all the RNA component parts. A configuration file governs customisations involved in specifying the creation, mutation, and simulation of circuits, each of which are created as a `Circuit` object. The `CircuitModller` class can then be used on batched `Circuit` objects and simulate the time series of these circuits and their mutated counterparts in parallel."
   ]
  },
  {
   "cell_type": "markdown",
   "metadata": {},
   "source": [
    "### First let's make a FASTA for the intended toy circuit"
   ]
  },
  {
   "cell_type": "code",
   "execution_count": 3,
   "metadata": {
    "execution": {
     "iopub.execute_input": "2023-10-25T20:57:36.445811Z",
     "iopub.status.busy": "2023-10-25T20:57:36.445202Z",
     "iopub.status.idle": "2023-10-25T20:57:36.475198Z",
     "shell.execute_reply": "2023-10-25T20:57:36.474596Z"
    }
   },
   "outputs": [],
   "source": [
    "fn = os.path.join('..', 'data', 'sRNA', 'RNAInter', 'Download_data_RR.csv')\n",
    "data = pd.read_csv(fn)\n",
    "try:\n",
    "    data = data.drop(columns=['Unnamed: 0'])\n",
    "except:\n",
    "    pass"
   ]
  },
  {
   "cell_type": "code",
   "execution_count": 4,
   "metadata": {
    "execution": {
     "iopub.execute_input": "2023-10-25T20:57:36.477932Z",
     "iopub.status.busy": "2023-10-25T20:57:36.477678Z",
     "iopub.status.idle": "2023-10-25T20:57:36.505012Z",
     "shell.execute_reply": "2023-10-25T20:57:36.504504Z"
    }
   },
   "outputs": [
    {
     "data": {
      "text/plain": [
       "Interactor1.Symbol\n",
       "galK    4\n",
       "ompF    4\n",
       "flhD    4\n",
       "Name: count, dtype: int64"
      ]
     },
     "execution_count": 4,
     "metadata": {},
     "output_type": "execute_result"
    }
   ],
   "source": [
    "filt = ((~ data['Sequence1'].isna()) & (~ data['Sequence2'].isna()))\n",
    "data[filt]['Interactor1.Symbol'].value_counts()[data['Interactor1.Symbol'].value_counts() == 4]"
   ]
  },
  {
   "cell_type": "code",
   "execution_count": 5,
   "metadata": {
    "execution": {
     "iopub.execute_input": "2023-10-25T20:57:36.540297Z",
     "iopub.status.busy": "2023-10-25T20:57:36.539963Z",
     "iopub.status.idle": "2023-10-25T20:57:36.573552Z",
     "shell.execute_reply": "2023-10-25T20:57:36.572835Z"
    }
   },
   "outputs": [
    {
     "data": {
      "text/html": [
       "<div>\n",
       "<style scoped>\n",
       "    .dataframe tbody tr th:only-of-type {\n",
       "        vertical-align: middle;\n",
       "    }\n",
       "\n",
       "    .dataframe tbody tr th {\n",
       "        vertical-align: top;\n",
       "    }\n",
       "\n",
       "    .dataframe thead th {\n",
       "        text-align: right;\n",
       "    }\n",
       "</style>\n",
       "<table border=\"1\" class=\"dataframe\">\n",
       "  <thead>\n",
       "    <tr style=\"text-align: right;\">\n",
       "      <th></th>\n",
       "      <th>index</th>\n",
       "      <th>RNAInterID</th>\n",
       "      <th>Interactor1.Symbol</th>\n",
       "      <th>Category1</th>\n",
       "      <th>Species1</th>\n",
       "      <th>Interactor2.Symbol</th>\n",
       "      <th>Category2</th>\n",
       "      <th>Species2</th>\n",
       "      <th>Raw_ID1</th>\n",
       "      <th>Raw_ID2</th>\n",
       "      <th>score</th>\n",
       "      <th>strong</th>\n",
       "      <th>weak</th>\n",
       "      <th>predict</th>\n",
       "      <th>Sequence1</th>\n",
       "      <th>Sequence2</th>\n",
       "    </tr>\n",
       "  </thead>\n",
       "  <tbody>\n",
       "    <tr>\n",
       "      <th>110</th>\n",
       "      <td>1713510</td>\n",
       "      <td>RR05458723</td>\n",
       "      <td>galK</td>\n",
       "      <td>mRNA</td>\n",
       "      <td>Escherichia coli str. K-12 substr. MG1655</td>\n",
       "      <td>micA</td>\n",
       "      <td>sRNA</td>\n",
       "      <td>Escherichia coli str. K-12 substr. MG1655</td>\n",
       "      <td>NCBI:945358</td>\n",
       "      <td>NCBI:2847697</td>\n",
       "      <td>0.1983</td>\n",
       "      <td>Northern blot</td>\n",
       "      <td>NaN</td>\n",
       "      <td>NaN</td>\n",
       "      <td>ACTTACTACTGTGCCTTTCCTAGGCCTTACTGGGGGATCACCACCT...</td>\n",
       "      <td>CAAAAATGGTGTCGCTCGTATTATTGTCGAGAAACCTTTCGGCAAG...</td>\n",
       "    </tr>\n",
       "    <tr>\n",
       "      <th>111</th>\n",
       "      <td>1713511</td>\n",
       "      <td>RR05458724</td>\n",
       "      <td>galK</td>\n",
       "      <td>mRNA</td>\n",
       "      <td>Escherichia coli str. K-12 substr. MG1655</td>\n",
       "      <td>micC</td>\n",
       "      <td>sRNA</td>\n",
       "      <td>Escherichia coli str. K-12 substr. MG1655</td>\n",
       "      <td>NCBI:945358</td>\n",
       "      <td>NCBI:2847713</td>\n",
       "      <td>0.1983</td>\n",
       "      <td>Northern blot</td>\n",
       "      <td>NaN</td>\n",
       "      <td>NaN</td>\n",
       "      <td>ACTTACTACTGTGCCTTTCCTAGGCCTTACTGGGGGATCACCACCT...</td>\n",
       "      <td>ATTTACGCTCATTGCGCATGGGTGTTTGTCCAGCAATTCTTGAATC...</td>\n",
       "    </tr>\n",
       "    <tr>\n",
       "      <th>112</th>\n",
       "      <td>1713512</td>\n",
       "      <td>RR05458725</td>\n",
       "      <td>galK</td>\n",
       "      <td>mRNA</td>\n",
       "      <td>Escherichia coli str. K-12 substr. MG1655</td>\n",
       "      <td>micF</td>\n",
       "      <td>sRNA</td>\n",
       "      <td>Escherichia coli str. K-12 substr. MG1655</td>\n",
       "      <td>NCBI:945358</td>\n",
       "      <td>NCBI:2847742</td>\n",
       "      <td>0.1983</td>\n",
       "      <td>Northern blot</td>\n",
       "      <td>NaN</td>\n",
       "      <td>NaN</td>\n",
       "      <td>ACTTACTACTGTGCCTTTCCTAGGCCTTACTGGGGGATCACCACCT...</td>\n",
       "      <td>AAAGCCAACTCAACTCAACTCATCAAAATGCGCTTCATCGTCTCTC...</td>\n",
       "    </tr>\n",
       "    <tr>\n",
       "      <th>113</th>\n",
       "      <td>1713513</td>\n",
       "      <td>RR05458726</td>\n",
       "      <td>galK</td>\n",
       "      <td>mRNA</td>\n",
       "      <td>Escherichia coli str. K-12 substr. MG1655</td>\n",
       "      <td>ryhB</td>\n",
       "      <td>sRNA</td>\n",
       "      <td>Escherichia coli str. K-12 substr. MG1655</td>\n",
       "      <td>NCBI:945358</td>\n",
       "      <td>NCBI:2847761</td>\n",
       "      <td>0.1983</td>\n",
       "      <td>Northern blot</td>\n",
       "      <td>NaN</td>\n",
       "      <td>NaN</td>\n",
       "      <td>ACTTACTACTGTGCCTTTCCTAGGCCTTACTGGGGGATCACCACCT...</td>\n",
       "      <td>TTTGAGAGCGTCTCTGTCCCTCGTTTTGCGGTTAAGCCGCATCCAT...</td>\n",
       "    </tr>\n",
       "  </tbody>\n",
       "</table>\n",
       "</div>"
      ],
      "text/plain": [
       "       index  RNAInterID Interactor1.Symbol Category1  \\\n",
       "110  1713510  RR05458723               galK      mRNA   \n",
       "111  1713511  RR05458724               galK      mRNA   \n",
       "112  1713512  RR05458725               galK      mRNA   \n",
       "113  1713513  RR05458726               galK      mRNA   \n",
       "\n",
       "                                      Species1 Interactor2.Symbol Category2  \\\n",
       "110  Escherichia coli str. K-12 substr. MG1655               micA      sRNA   \n",
       "111  Escherichia coli str. K-12 substr. MG1655               micC      sRNA   \n",
       "112  Escherichia coli str. K-12 substr. MG1655               micF      sRNA   \n",
       "113  Escherichia coli str. K-12 substr. MG1655               ryhB      sRNA   \n",
       "\n",
       "                                      Species2      Raw_ID1       Raw_ID2  \\\n",
       "110  Escherichia coli str. K-12 substr. MG1655  NCBI:945358  NCBI:2847697   \n",
       "111  Escherichia coli str. K-12 substr. MG1655  NCBI:945358  NCBI:2847713   \n",
       "112  Escherichia coli str. K-12 substr. MG1655  NCBI:945358  NCBI:2847742   \n",
       "113  Escherichia coli str. K-12 substr. MG1655  NCBI:945358  NCBI:2847761   \n",
       "\n",
       "      score         strong weak  predict  \\\n",
       "110  0.1983  Northern blot  NaN      NaN   \n",
       "111  0.1983  Northern blot  NaN      NaN   \n",
       "112  0.1983  Northern blot  NaN      NaN   \n",
       "113  0.1983  Northern blot  NaN      NaN   \n",
       "\n",
       "                                             Sequence1  \\\n",
       "110  ACTTACTACTGTGCCTTTCCTAGGCCTTACTGGGGGATCACCACCT...   \n",
       "111  ACTTACTACTGTGCCTTTCCTAGGCCTTACTGGGGGATCACCACCT...   \n",
       "112  ACTTACTACTGTGCCTTTCCTAGGCCTTACTGGGGGATCACCACCT...   \n",
       "113  ACTTACTACTGTGCCTTTCCTAGGCCTTACTGGGGGATCACCACCT...   \n",
       "\n",
       "                                             Sequence2  \n",
       "110  CAAAAATGGTGTCGCTCGTATTATTGTCGAGAAACCTTTCGGCAAG...  \n",
       "111  ATTTACGCTCATTGCGCATGGGTGTTTGTCCAGCAATTCTTGAATC...  \n",
       "112  AAAGCCAACTCAACTCAACTCATCAAAATGCGCTTCATCGTCTCTC...  \n",
       "113  TTTGAGAGCGTCTCTGTCCCTCGTTTTGCGGTTAAGCCGCATCCAT...  "
      ]
     },
     "execution_count": 5,
     "metadata": {},
     "output_type": "execute_result"
    }
   ],
   "source": [
    "sRNA1 = 'galK'\n",
    "\n",
    "filt = (data['Interactor1.Symbol'] == sRNA1) & ((~ data['Sequence1'].isna()) & (~ data['Sequence2'].isna()))\n",
    "data[filt].head()"
   ]
  },
  {
   "cell_type": "markdown",
   "metadata": {},
   "source": [
    "Turn everything into RNA"
   ]
  },
  {
   "cell_type": "code",
   "execution_count": 6,
   "metadata": {
    "execution": {
     "iopub.execute_input": "2023-10-25T20:57:36.575944Z",
     "iopub.status.busy": "2023-10-25T20:57:36.575691Z",
     "iopub.status.idle": "2023-10-25T20:57:36.599134Z",
     "shell.execute_reply": "2023-10-25T20:57:36.598169Z"
    }
   },
   "outputs": [],
   "source": [
    "data['Sequence1'] = data['Sequence1'].str.replace('T', 'U')\n",
    "data['Sequence2'] = data['Sequence2'].str.replace('T', 'U')"
   ]
  },
  {
   "cell_type": "code",
   "execution_count": 7,
   "metadata": {
    "execution": {
     "iopub.execute_input": "2023-10-25T20:57:36.601665Z",
     "iopub.status.busy": "2023-10-25T20:57:36.601408Z",
     "iopub.status.idle": "2023-10-25T20:57:36.627555Z",
     "shell.execute_reply": "2023-10-25T20:57:36.626932Z"
    }
   },
   "outputs": [],
   "source": [
    "circuit_fasta = 'data/circuit.fasta'\n",
    "circuit_fasta_d = {}\n",
    "\n",
    "with open(circuit_fasta, 'w') as f:\n",
    "\n",
    "    for interactor, seqN in [('Interactor1.Symbol', 'Sequence1'), ('Interactor2.Symbol', 'Sequence2')]:\n",
    "        for r in list(data[filt][interactor].unique()):\n",
    "            circuit_fasta_d[r] = data[data[interactor] == r][seqN].iloc[0]\n",
    "            f.write('>' + r + '\\n')\n",
    "            f.write(data[data[interactor] == r][seqN].iloc[0])\n",
    "            f.write('\\n')"
   ]
  },
  {
   "cell_type": "code",
   "execution_count": 8,
   "metadata": {
    "execution": {
     "iopub.execute_input": "2023-10-25T20:57:36.630087Z",
     "iopub.status.busy": "2023-10-25T20:57:36.629835Z",
     "iopub.status.idle": "2023-10-25T20:57:36.652632Z",
     "shell.execute_reply": "2023-10-25T20:57:36.652164Z"
    }
   },
   "outputs": [
    {
     "name": "stdout",
     "output_type": "stream",
     "text": [
      "Length of each RNA molecule is the following:\n"
     ]
    },
    {
     "data": {
      "text/plain": [
       "{'galK': 57, 'micA': 447, 'micC': 166, 'micF': 488, 'ryhB': 490}"
      ]
     },
     "execution_count": 8,
     "metadata": {},
     "output_type": "execute_result"
    }
   ],
   "source": [
    "print('Length of each RNA molecule is the following:')\n",
    "{k: len(i) for k, i in circuit_fasta_d.items()}"
   ]
  },
  {
   "cell_type": "markdown",
   "metadata": {},
   "source": [
    "### Configuration for simulation"
   ]
  },
  {
   "cell_type": "code",
   "execution_count": 9,
   "metadata": {
    "execution": {
     "iopub.execute_input": "2023-10-25T20:57:36.655108Z",
     "iopub.status.busy": "2023-10-25T20:57:36.654667Z",
     "iopub.status.idle": "2023-10-25T20:57:36.678384Z",
     "shell.execute_reply": "2023-10-25T20:57:36.677825Z"
    }
   },
   "outputs": [],
   "source": [
    "config = {\n",
    "    \"experiment\": {\n",
    "        \"purpose\": \"tests\",\n",
    "        \"no_visualisations\": True,\n",
    "        \"no_numerical\": True,\n",
    "        \"debug_mode\": False\n",
    "    },\n",
    "    \"data_path\": circuit_fasta,\n",
    "    \"system_type\": \"RNA\",\n",
    "    \"include_prod_deg\": False,\n",
    "    \"interaction_simulator\": {\n",
    "        \"name\": \"IntaRNA\",\n",
    "        \"postprocess\": True\n",
    "    },\n",
    "    \"mutations_args\": {\n",
    "        \"algorithm\": \"random\",\n",
    "        \"mutation_counts\": 5,\n",
    "        \"mutation_nums_within_sequence\": [1, 3, 5, 20],\n",
    "        \"mutation_nums_per_position\": 1,\n",
    "        \"concurrent_species_to_mutate\": \"single_species_at_a_time\",\n",
    "        \"seed\": 0\n",
    "    },\n",
    "    \"signal\": {\n",
    "        \"inputs\": [sRNA1],\n",
    "        \"outputs\": [],\n",
    "        \"function_name\": \"step_function\",\n",
    "        \"function_kwargs\": {\n",
    "            \"impulse_center\": 1,\n",
    "            \"impulse_halfwidth\": 5,\n",
    "            \"target\": 2\n",
    "        }\n",
    "    },\n",
    "    \"simulation\": {\n",
    "        \"dt0\": 0.1,\n",
    "        \"t0\": 0,\n",
    "        \"t1\": 100,\n",
    "        \"tmax\": 2000,\n",
    "        \"solver\": \"diffrax\",\n",
    "        \"use_batch_mutations\": True,\n",
    "        \"interaction_factor\": 1,\n",
    "        \"batch_size\": 20000,\n",
    "        \"max_circuits\": 60000,\n",
    "        \"device\": \"gpu\",\n",
    "        \"threshold_steady_states\": 0.05,\n",
    "        \"use_rate_scaling\": True\n",
    "    },\n",
    "    \"molecular_params_factor\": 1,\n",
    "    \"molecular_params\": {\n",
    "        \"avg_mRNA_per_cell\": 100,\n",
    "        \"cell_doubling_time\": 1200,\n",
    "        \"creation_rate\": 2.35,\n",
    "        \"starting_copynumbers\": 200,\n",
    "        \"degradation_rate\": 0.01175,\n",
    "        \"association_binding_rate\": 1000000\n",
    "    }\n",
    "}"
   ]
  },
  {
   "cell_type": "markdown",
   "metadata": {},
   "source": [
    "### Circuit construction"
   ]
  },
  {
   "cell_type": "code",
   "execution_count": 10,
   "metadata": {
    "execution": {
     "iopub.execute_input": "2023-10-25T20:57:36.680966Z",
     "iopub.status.busy": "2023-10-25T20:57:36.680730Z",
     "iopub.status.idle": "2023-10-25T20:57:37.235310Z",
     "shell.execute_reply": "2023-10-25T20:57:37.234687Z"
    }
   },
   "outputs": [
    {
     "name": "stderr",
     "output_type": "stream",
     "text": [
      "xla_bridge.py:backends():622: Unable to initialize backend 'rocm': NOT_FOUND: Could not find registered platform with name: \"rocm\". Available platform names are: CUDA Interpreter INFO\n",
      "xla_bridge.py:backends():622: Unable to initialize backend 'tpu': module 'jaxlib.xla_extension' has no attribute 'get_tpu_client' INFO\n"
     ]
    }
   ],
   "source": [
    "data_writer=None\n",
    "config, data_writer = script_preamble(config, data_writer)\n",
    "config_file = expand_config(config=config)\n",
    "config_file = prepare_config(config_file)\n",
    "circuit = construct_circuit_from_cfg(prev_configs=None, config_file=config_file)\n",
    "\n",
    "circuit = Evolver(data_writer=data_writer, sequence_type=config_file.get('system_type'), \n",
    "                seed=config_file.get('mutations_args', {}).get('seed', np.random.randint(1000))).mutate(\n",
    "                    circuit,\n",
    "                    write_to_subsystem=True, algorithm=config_file.get('mutations_args', {}).get('algorithm', 'random'))"
   ]
  },
  {
   "cell_type": "code",
   "execution_count": 11,
   "metadata": {
    "execution": {
     "iopub.execute_input": "2023-10-25T20:57:37.238208Z",
     "iopub.status.busy": "2023-10-25T20:57:37.237931Z",
     "iopub.status.idle": "2023-10-25T20:57:37.260605Z",
     "shell.execute_reply": "2023-10-25T20:57:37.260077Z"
    }
   },
   "outputs": [
    {
     "data": {
      "text/plain": [
       "[Species: ('galK', 'galK'),\n",
       " Species: ('galK', 'micA'),\n",
       " Species: ('galK', 'micC'),\n",
       " Species: ('galK', 'micF'),\n",
       " Species: ('galK', 'ryhB'),\n",
       " Species: ('micA', 'micA'),\n",
       " Species: ('micA', 'micC'),\n",
       " Species: ('micA', 'micF'),\n",
       " Species: ('micA', 'ryhB'),\n",
       " Species: ('micC', 'micC'),\n",
       " Species: ('micC', 'micF'),\n",
       " Species: ('micC', 'ryhB'),\n",
       " Species: ('micF', 'micF'),\n",
       " Species: ('micF', 'ryhB'),\n",
       " Species: ('ryhB', 'ryhB'),\n",
       " Species: galK,\n",
       " Species: micA,\n",
       " Species: micC,\n",
       " Species: micF,\n",
       " Species: ryhB]"
      ]
     },
     "execution_count": 11,
     "metadata": {},
     "output_type": "execute_result"
    }
   ],
   "source": [
    "circuit.model.species"
   ]
  },
  {
   "cell_type": "code",
   "execution_count": 12,
   "metadata": {
    "execution": {
     "iopub.execute_input": "2023-10-25T20:57:37.262866Z",
     "iopub.status.busy": "2023-10-25T20:57:37.262623Z",
     "iopub.status.idle": "2023-10-25T20:57:37.284616Z",
     "shell.execute_reply": "2023-10-25T20:57:37.284117Z"
    }
   },
   "outputs": [
    {
     "data": {
      "text/plain": [
       "[Reaction(input=[Species: galK, Species: galK], output=[Species: ('galK', 'galK')], forward_rate=nan, reverse_rate=nan),\n",
       " Reaction(input=[Species: galK, Species: micA], output=[Species: ('galK', 'micA')], forward_rate=nan, reverse_rate=nan),\n",
       " Reaction(input=[Species: galK, Species: micC], output=[Species: ('galK', 'micC')], forward_rate=nan, reverse_rate=nan),\n",
       " Reaction(input=[Species: galK, Species: micF], output=[Species: ('galK', 'micF')], forward_rate=nan, reverse_rate=nan),\n",
       " Reaction(input=[Species: galK, Species: ryhB], output=[Species: ('galK', 'ryhB')], forward_rate=nan, reverse_rate=nan),\n",
       " Reaction(input=[Species: micA, Species: micA], output=[Species: ('micA', 'micA')], forward_rate=nan, reverse_rate=nan),\n",
       " Reaction(input=[Species: micA, Species: micC], output=[Species: ('micA', 'micC')], forward_rate=nan, reverse_rate=nan),\n",
       " Reaction(input=[Species: micA, Species: micF], output=[Species: ('micA', 'micF')], forward_rate=nan, reverse_rate=nan),\n",
       " Reaction(input=[Species: micA, Species: ryhB], output=[Species: ('micA', 'ryhB')], forward_rate=nan, reverse_rate=nan),\n",
       " Reaction(input=[Species: micC, Species: micC], output=[Species: ('micC', 'micC')], forward_rate=nan, reverse_rate=nan),\n",
       " Reaction(input=[Species: micC, Species: micF], output=[Species: ('micC', 'micF')], forward_rate=nan, reverse_rate=nan),\n",
       " Reaction(input=[Species: micC, Species: ryhB], output=[Species: ('micC', 'ryhB')], forward_rate=nan, reverse_rate=nan),\n",
       " Reaction(input=[Species: micF, Species: micF], output=[Species: ('micF', 'micF')], forward_rate=nan, reverse_rate=nan),\n",
       " Reaction(input=[Species: micF, Species: ryhB], output=[Species: ('micF', 'ryhB')], forward_rate=nan, reverse_rate=nan),\n",
       " Reaction(input=[Species: ryhB, Species: ryhB], output=[Species: ('ryhB', 'ryhB')], forward_rate=nan, reverse_rate=nan)]"
      ]
     },
     "execution_count": 12,
     "metadata": {},
     "output_type": "execute_result"
    }
   ],
   "source": [
    "circuit.model.reactions"
   ]
  },
  {
   "cell_type": "code",
   "execution_count": 13,
   "metadata": {
    "execution": {
     "iopub.execute_input": "2023-10-25T20:57:37.286875Z",
     "iopub.status.busy": "2023-10-25T20:57:37.286627Z",
     "iopub.status.idle": "2023-10-25T22:16:39.097790Z",
     "shell.execute_reply": "2023-10-25T22:16:39.097156Z"
    }
   },
   "outputs": [
    {
     "name": "stderr",
     "output_type": "stream",
     "text": [
      "circuit_manager.py:batch_circuits():600: \tFrom 1 circuits, a total of 101 mutated circuits will be simulated. WARNING\n",
      "circuit_manager.py:batch_circuits():607: \t\tStarting new round of viable circuits (0 - 1 / 1) WARNING\n",
      "circuit_manager.py:batch_circuits():625: \t\tMaking subcircuits 0 - 101 took 0.248878s WARNING\n",
      "circuit_manager.py:batch_circuits():631: \tBatching 0 - 20000 circuits (out of 0 - 101 (total: 101)) (Circuits: 0 - 1 of 1) WARNING\n",
      "circuit_manager.py:run_batch():662: \t\tRunning 101 Subcircuits - circuit: compute_interactions WARNING\n",
      "circuit_manager.py:run_batch():698: \t\tMethod compute_interactions took 3786.620808s WARNING\n",
      "circuit_manager.py:run_batch():662: \t\tRunning 101 Subcircuits - circuit: init_circuits WARNING\n"
     ]
    },
    {
     "name": "stdout",
     "output_type": "stream",
     "text": [
      "Steady states:  100  iterations.  571  left to steady out.  0:01:31.025998\n",
      "Steady states:  200  iterations.  40  left to steady out.  0:03:03.561122\n",
      "Steady states:  300  iterations.  12  left to steady out.  0:04:34.841132\n",
      "Steady states:  400  iterations.  4  left to steady out.  0:06:08.157712\n",
      "Steady states:  500  iterations.  2  left to steady out.  0:07:47.641448\n",
      "Steady states:  600  iterations.  2  left to steady out.  0:09:24.123607\n",
      "Steady states:  700  iterations.  1  left to steady out.  0:11:04.732546\n",
      "Steady states:  800  iterations.  1  left to steady out.  0:12:38.582809\n",
      "Done:  0:14:13.386875\n"
     ]
    },
    {
     "name": "stderr",
     "output_type": "stream",
     "text": [
      "circuit_manager.py:run_batch():698: \t\tMethod init_circuits took 854.342823s WARNING\n",
      "circuit_manager.py:run_batch():662: \t\tRunning 101 Subcircuits - circuit: simulate_signal_batch WARNING\n",
      "circuit_manager.py:simulate_signal_batch():343: \t\tSimulating signal took 95.875863s WARNING\n"
     ]
    },
    {
     "name": "stdout",
     "output_type": "stream",
     "text": [
      "Done:  0:01:35.793048\n"
     ]
    },
    {
     "name": "stderr",
     "output_type": "stream",
     "text": [
      "circuit_manager.py:simulate_signal_batch():401: \t\tCalculating analytics took 3.838558s WARNING\n",
      "circuit_manager.py:run_batch():698: \t\tMethod simulate_signal_batch took 100.241539s WARNING\n",
      "circuit_manager.py:run_batch():662: \t\tRunning 101 Subcircuits - circuit: write_results WARNING\n",
      "circuit_manager.py:run_batch():698: \t\tMethod write_results took 0.306749s WARNING\n",
      "circuit_manager.py:batch_circuits():645: Single batch: 1:19:01.765303 \n",
      "Projected time: 4741.765303s \n",
      "Total time: 1:19:01.765322 WARNING\n"
     ]
    }
   ],
   "source": [
    "modeller = CircuitModeller(result_writer=data_writer, config=config_file)\n",
    "circuits = modeller.batch_circuits(\n",
    "    circuits=[circuit],\n",
    "    write_to_subsystem=True, batch_size=config_file['simulation'].get('batch_size', 100),\n",
    "    methods={\n",
    "        \"compute_interactions\": {},\n",
    "        \"init_circuits\": {'batch': True},\n",
    "        \"simulate_signal_batch\": {'ref_circuit': None,\n",
    "                                  'batch': True},\n",
    "        \"write_results\": {'no_visualisations': config_file['experiment'].get('no_visualisations', True),\n",
    "                          'no_numerical': config_file['experiment'].get('no_numerical', False)}\n",
    "    })"
   ]
  },
  {
   "cell_type": "code",
   "execution_count": null,
   "metadata": {},
   "outputs": [],
   "source": []
  }
 ],
 "metadata": {
  "kernelspec": {
   "display_name": "env_evo",
   "language": "python",
   "name": "python3"
  },
  "language_info": {
   "codemirror_mode": {
    "name": "ipython",
    "version": 3
   },
   "file_extension": ".py",
   "mimetype": "text/x-python",
   "name": "python",
   "nbconvert_exporter": "python",
   "pygments_lexer": "ipython3",
   "version": "3.10.12"
  }
 },
 "nbformat": 4,
 "nbformat_minor": 2
}
