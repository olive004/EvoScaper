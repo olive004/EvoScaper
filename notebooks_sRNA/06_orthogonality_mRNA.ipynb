{
 "cells": [
  {
   "cell_type": "code",
   "execution_count": 1,
   "metadata": {},
   "outputs": [],
   "source": [
    "%load_ext autoreload\n",
    "%autoreload 2"
   ]
  },
  {
   "cell_type": "markdown",
   "metadata": {},
   "source": [
    "# Orthogonality of sRNA in mRNA targetting"
   ]
  },
  {
   "cell_type": "markdown",
   "metadata": {},
   "source": [
    "## Imports"
   ]
  },
  {
   "cell_type": "code",
   "execution_count": 2,
   "metadata": {},
   "outputs": [
    {
     "name": "stderr",
     "output_type": "stream",
     "text": [
      "2023-11-08 13:58:20.855391: E external/xla/xla/stream_executor/cuda/cuda_driver.cc:268] failed call to cuInit: CUDA_ERROR_NO_DEVICE: no CUDA-capable device is detected\n",
      "xla_bridge.py:backends():622: Unable to initialize backend 'cuda': FAILED_PRECONDITION: No visible GPU devices. INFO\n",
      "xla_bridge.py:backends():622: Unable to initialize backend 'rocm': NOT_FOUND: Could not find registered platform with name: \"rocm\". Available platform names are: CUDA Interpreter INFO\n",
      "xla_bridge.py:backends():622: Unable to initialize backend 'tpu': module 'jaxlib.xla_extension' has no attribute 'get_tpu_client' INFO\n"
     ]
    },
    {
     "data": {
      "text/plain": [
       "[CpuDevice(id=0)]"
      ]
     },
     "execution_count": 2,
     "metadata": {},
     "output_type": "execute_result"
    }
   ],
   "source": [
    "import os\n",
    "from Bio import SeqIO\n",
    "from Bio.SeqRecord import SeqRecord\n",
    "import pandas as pd\n",
    "\n",
    "from synbio_morpher.srv.io.manage.script_manager import script_preamble\n",
    "from synbio_morpher.srv.parameter_prediction.IntaRNA.bin.copomus.IntaRNA import IntaRNA\n",
    "from synbio_morpher.srv.parameter_prediction.simulator import simulate_IntaRNA\n",
    "from synbio_morpher.srv.sequence_exploration.sequence_analysis import b_tabulate_mutation_info\n",
    "from synbio_morpher.utils.common.setup import construct_circuit_from_cfg, prepare_config, expand_config\n",
    "from synbio_morpher.utils.evolution.evolver import Evolver\n",
    "from synbio_morpher.utils.circuit.agnostic_circuits.circuit_manager import CircuitModeller\n",
    "from synbio_morpher.utils.data.data_format_tools.common import load_multiple_as_list\n",
    "from synbio_morpher.utils.results.analytics.naming import get_true_interaction_cols\n",
    "\n",
    "import seaborn as sns\n",
    "import matplotlib.pyplot as plt\n",
    "import numpy as np\n",
    "import jax\n",
    "jax.config.update('jax_platform_name', 'cpu')\n",
    "\n",
    "jax.devices()\n",
    "\n"
   ]
  },
  {
   "cell_type": "code",
   "execution_count": 3,
   "metadata": {},
   "outputs": [],
   "source": [
    "fn_RNAInter = os.path.join('..', 'data', 'sRNA', 'RNAInter', 'Download_data_RR.csv')\n",
    "data = pd.read_csv(fn_RNAInter)\n",
    "try:\n",
    "    data = data.drop(columns=['Unnamed: 0'])\n",
    "except:\n",
    "    pass\n"
   ]
  },
  {
   "cell_type": "code",
   "execution_count": 4,
   "metadata": {},
   "outputs": [
    {
     "name": "stdout",
     "output_type": "stream",
     "text": [
      "354\n",
      "Expected number of species:  63189\n"
     ]
    },
    {
     "data": {
      "text/html": [
       "<div>\n",
       "<style scoped>\n",
       "    .dataframe tbody tr th:only-of-type {\n",
       "        vertical-align: middle;\n",
       "    }\n",
       "\n",
       "    .dataframe tbody tr th {\n",
       "        vertical-align: top;\n",
       "    }\n",
       "\n",
       "    .dataframe thead th {\n",
       "        text-align: right;\n",
       "    }\n",
       "</style>\n",
       "<table border=\"1\" class=\"dataframe\">\n",
       "  <thead>\n",
       "    <tr style=\"text-align: right;\">\n",
       "      <th></th>\n",
       "      <th>index</th>\n",
       "      <th>RNAInterID</th>\n",
       "      <th>Interactor1.Symbol</th>\n",
       "      <th>Category1</th>\n",
       "      <th>Species1</th>\n",
       "      <th>Interactor2.Symbol</th>\n",
       "      <th>Category2</th>\n",
       "      <th>Species2</th>\n",
       "      <th>Raw_ID1</th>\n",
       "      <th>Raw_ID2</th>\n",
       "      <th>score</th>\n",
       "      <th>strong</th>\n",
       "      <th>weak</th>\n",
       "      <th>predict</th>\n",
       "      <th>Sequence1</th>\n",
       "      <th>Sequence2</th>\n",
       "    </tr>\n",
       "  </thead>\n",
       "  <tbody>\n",
       "    <tr>\n",
       "      <th>0</th>\n",
       "      <td>1029724</td>\n",
       "      <td>RR05384747</td>\n",
       "      <td>acnA</td>\n",
       "      <td>mRNA</td>\n",
       "      <td>Escherichia coli str. K-12 substr. MG1655</td>\n",
       "      <td>ryhB</td>\n",
       "      <td>sRNA</td>\n",
       "      <td>Escherichia coli str. K-12 substr. MG1655</td>\n",
       "      <td>NCBI:946724</td>\n",
       "      <td>NCBI:2847761</td>\n",
       "      <td>0.2292</td>\n",
       "      <td>Northern blot//Reporter assay</td>\n",
       "      <td>NaN</td>\n",
       "      <td>NaN</td>\n",
       "      <td>ATTCGGAACGAGGCCTGAAGCAGTGTCGCCGTCCCTCTGCCTTGCA...</td>\n",
       "      <td>TTTGAGAGCGTCTCTGTCCCTCGTTTTGCGGTTAAGCCGCATCCAT...</td>\n",
       "    </tr>\n",
       "    <tr>\n",
       "      <th>1</th>\n",
       "      <td>1029725</td>\n",
       "      <td>RR05384845</td>\n",
       "      <td>acrZ</td>\n",
       "      <td>mRNA</td>\n",
       "      <td>Escherichia coli str. K-12 substr. MG1655</td>\n",
       "      <td>omrB</td>\n",
       "      <td>sRNA</td>\n",
       "      <td>Escherichia coli str. K-12 substr. MG1655</td>\n",
       "      <td>NCBI:945365</td>\n",
       "      <td>NCBI:2847747</td>\n",
       "      <td>0.1778</td>\n",
       "      <td>Northern blot</td>\n",
       "      <td>Microarray</td>\n",
       "      <td>NaN</td>\n",
       "      <td>ACTTACTACTGTCTTCGGGGGGTCCGAGGTTTCTGGGGGGTCGTAC...</td>\n",
       "      <td>TGTTCTATACTTGGGTTCGACTTGGGTTAGACTTGTCTTTACTGTC...</td>\n",
       "    </tr>\n",
       "    <tr>\n",
       "      <th>2</th>\n",
       "      <td>1029732</td>\n",
       "      <td>RR05387056</td>\n",
       "      <td>arcZ</td>\n",
       "      <td>sRNA</td>\n",
       "      <td>Escherichia coli str. K-12 substr. MG1655</td>\n",
       "      <td>flhD</td>\n",
       "      <td>mRNA</td>\n",
       "      <td>Escherichia coli str. K-12 substr. MG1655</td>\n",
       "      <td>NCBI:2847690</td>\n",
       "      <td>NCBI:945442</td>\n",
       "      <td>0.2314</td>\n",
       "      <td>Northern blot//Reporter assay</td>\n",
       "      <td>NaN</td>\n",
       "      <td>NaN</td>\n",
       "      <td>CTCATGTTGACCGCTTGTTTAGCAGCTTCAAGGAAGCTGAAGGGCA...</td>\n",
       "      <td>CTCGTGCCGAATTCGGCACGAGCGATATTTCATCAGTTATCGGTAA...</td>\n",
       "    </tr>\n",
       "    <tr>\n",
       "      <th>3</th>\n",
       "      <td>1029733</td>\n",
       "      <td>RR05387057</td>\n",
       "      <td>arcZ</td>\n",
       "      <td>sRNA</td>\n",
       "      <td>Escherichia coli str. K-12 substr. MG1655</td>\n",
       "      <td>rpoS</td>\n",
       "      <td>mRNA</td>\n",
       "      <td>Escherichia coli str. K-12 substr. MG1655</td>\n",
       "      <td>NCBI:2847690</td>\n",
       "      <td>NCBI:947210</td>\n",
       "      <td>0.1996</td>\n",
       "      <td>Northern blot//RACE//RT-PCR//Beta-galactosidas...</td>\n",
       "      <td>NaN</td>\n",
       "      <td>NaN</td>\n",
       "      <td>CTCATGTTGACCGCTTGTTTAGCAGCTTCAAGGAAGCTGAAGGGCA...</td>\n",
       "      <td>ATCCTCGGGTCTTGCAGGCCACACAGGACACCCTGAACCGTCATGG...</td>\n",
       "    </tr>\n",
       "    <tr>\n",
       "      <th>4</th>\n",
       "      <td>1029734</td>\n",
       "      <td>RR05387126</td>\n",
       "      <td>argR</td>\n",
       "      <td>mRNA</td>\n",
       "      <td>Escherichia coli str. K-12 substr. MG1655</td>\n",
       "      <td>dsrA</td>\n",
       "      <td>sRNA</td>\n",
       "      <td>Escherichia coli str. K-12 substr. MG1655</td>\n",
       "      <td>NCBI:947861</td>\n",
       "      <td>NCBI:946470</td>\n",
       "      <td>0.2139</td>\n",
       "      <td>Primer extension assay</td>\n",
       "      <td>NaN</td>\n",
       "      <td>NaN</td>\n",
       "      <td>GACAATGGCGATAGTATGGCGGTTGTTTCTTTCCCATCTCTACTCA...</td>\n",
       "      <td>TGAGCAACTTTATTCACATAATTTCTACACCAAGAACTCGAGGTTA...</td>\n",
       "    </tr>\n",
       "  </tbody>\n",
       "</table>\n",
       "</div>"
      ],
      "text/plain": [
       "     index  RNAInterID Interactor1.Symbol Category1  \\\n",
       "0  1029724  RR05384747               acnA      mRNA   \n",
       "1  1029725  RR05384845               acrZ      mRNA   \n",
       "2  1029732  RR05387056               arcZ      sRNA   \n",
       "3  1029733  RR05387057               arcZ      sRNA   \n",
       "4  1029734  RR05387126               argR      mRNA   \n",
       "\n",
       "                                    Species1 Interactor2.Symbol Category2  \\\n",
       "0  Escherichia coli str. K-12 substr. MG1655               ryhB      sRNA   \n",
       "1  Escherichia coli str. K-12 substr. MG1655               omrB      sRNA   \n",
       "2  Escherichia coli str. K-12 substr. MG1655               flhD      mRNA   \n",
       "3  Escherichia coli str. K-12 substr. MG1655               rpoS      mRNA   \n",
       "4  Escherichia coli str. K-12 substr. MG1655               dsrA      sRNA   \n",
       "\n",
       "                                    Species2       Raw_ID1       Raw_ID2  \\\n",
       "0  Escherichia coli str. K-12 substr. MG1655   NCBI:946724  NCBI:2847761   \n",
       "1  Escherichia coli str. K-12 substr. MG1655   NCBI:945365  NCBI:2847747   \n",
       "2  Escherichia coli str. K-12 substr. MG1655  NCBI:2847690   NCBI:945442   \n",
       "3  Escherichia coli str. K-12 substr. MG1655  NCBI:2847690   NCBI:947210   \n",
       "4  Escherichia coli str. K-12 substr. MG1655   NCBI:947861   NCBI:946470   \n",
       "\n",
       "    score                                             strong        weak  \\\n",
       "0  0.2292                      Northern blot//Reporter assay         NaN   \n",
       "1  0.1778                                      Northern blot  Microarray   \n",
       "2  0.2314                      Northern blot//Reporter assay         NaN   \n",
       "3  0.1996  Northern blot//RACE//RT-PCR//Beta-galactosidas...         NaN   \n",
       "4  0.2139                             Primer extension assay         NaN   \n",
       "\n",
       "   predict                                          Sequence1  \\\n",
       "0      NaN  ATTCGGAACGAGGCCTGAAGCAGTGTCGCCGTCCCTCTGCCTTGCA...   \n",
       "1      NaN  ACTTACTACTGTCTTCGGGGGGTCCGAGGTTTCTGGGGGGTCGTAC...   \n",
       "2      NaN  CTCATGTTGACCGCTTGTTTAGCAGCTTCAAGGAAGCTGAAGGGCA...   \n",
       "3      NaN  CTCATGTTGACCGCTTGTTTAGCAGCTTCAAGGAAGCTGAAGGGCA...   \n",
       "4      NaN  GACAATGGCGATAGTATGGCGGTTGTTTCTTTCCCATCTCTACTCA...   \n",
       "\n",
       "                                           Sequence2  \n",
       "0  TTTGAGAGCGTCTCTGTCCCTCGTTTTGCGGTTAAGCCGCATCCAT...  \n",
       "1  TGTTCTATACTTGGGTTCGACTTGGGTTAGACTTGTCTTTACTGTC...  \n",
       "2  CTCGTGCCGAATTCGGCACGAGCGATATTTCATCAGTTATCGGTAA...  \n",
       "3  ATCCTCGGGTCTTGCAGGCCACACAGGACACCCTGAACCGTCATGG...  \n",
       "4  TGAGCAACTTTATTCACATAATTTCTACACCAAGAACTCGAGGTTA...  "
      ]
     },
     "execution_count": 4,
     "metadata": {},
     "output_type": "execute_result"
    }
   ],
   "source": [
    "print(len(data))\n",
    "nn = np.sum(np.arange(1, len(data)+1)) + len(data)\n",
    "print('Expected number of species: ', nn)\n",
    "data.head()"
   ]
  },
  {
   "cell_type": "code",
   "execution_count": 50,
   "metadata": {},
   "outputs": [],
   "source": [
    "# srnas = list(set(data[data['Category1'] == 'sRNA']['Interactor1.Symbol'].to_list() + data[data['Category2'] == 'sRNA']['Interactor2.Symbol'].to_list()))\n",
    "# mrnas = list(set(data[data['Category1'] == 'mRNA']['Interactor1.Symbol'].to_list() + data[data['Category2'] == 'mRNA']['Interactor2.Symbol'].to_list()))\n",
    "\n",
    "srnas, mrnas = {}, {}\n",
    "for s in data[data['Category1'] == 'sRNA']['Interactor1.Symbol'].unique():\n",
    "    srnas[s] = data[data['Interactor1.Symbol'] == s]['Sequence1'].iloc[0]\n",
    "\n",
    "for s in data[data['Category2'] == 'sRNA']['Interactor2.Symbol'].unique():\n",
    "    srnas[s] = data[data['Interactor2.Symbol'] == s]['Sequence2'].iloc[0]\n",
    "\n",
    "for m in data[data['Category1'] == 'mRNA']['Interactor1.Symbol'].unique():\n",
    "    seq = data[data['Interactor1.Symbol'] == m]['Sequence1'].iloc[0]\n",
    "    if type(seq) == str:\n",
    "        mrnas[m] = seq\n",
    "\n",
    "for m in data[data['Category2'] == 'mRNA']['Interactor2.Symbol'].unique():\n",
    "    seq = data[data['Interactor2.Symbol'] == m]['Sequence2'].iloc[0]\n",
    "    if type(seq) == str:\n",
    "        mrnas[m] = seq"
   ]
  },
  {
   "cell_type": "code",
   "execution_count": 6,
   "metadata": {},
   "outputs": [
    {
     "data": {
      "text/plain": [
       "[]"
      ]
     },
     "execution_count": 6,
     "metadata": {},
     "output_type": "execute_result"
    }
   ],
   "source": [
    "[i for i in mrnas.keys() if i in list(srnas.keys())]"
   ]
  },
  {
   "cell_type": "code",
   "execution_count": 7,
   "metadata": {},
   "outputs": [],
   "source": [
    "\n",
    "config = {\n",
    "    \"experiment\": {\n",
    "        \"purpose\": \"tests\",\n",
    "        \"no_visualisations\": False,\n",
    "        \"no_numerical\": False,\n",
    "        \"debug_mode\": False\n",
    "    },\n",
    "    \"data\": {},\n",
    "    \"system_type\": \"RNA\",\n",
    "    \"include_prod_deg\": False,\n",
    "    \"interaction_simulator\": {\n",
    "        \"name\": \"IntaRNA\",\n",
    "        \"postprocess\": True\n",
    "    },\n",
    "    \"molecular_params_factor\": 1,\n",
    "    \"molecular_params\": {\n",
    "        \"avg_mRNA_per_cell\": 100,\n",
    "        \"cell_doubling_time\": 1200,\n",
    "        \"creation_rate\": 2.35,\n",
    "        \"starting_copynumbers\": 200,\n",
    "        \"degradation_rate\": 0.01175,\n",
    "        \"association_binding_rate\": 1000000\n",
    "    }\n",
    "}\n",
    "data_writer = None\n",
    "config, data_writer = script_preamble(config, data_writer)\n",
    "config_file = expand_config(config=config)\n",
    "config_file = prepare_config(config_file)\n"
   ]
  },
  {
   "cell_type": "markdown",
   "metadata": {},
   "source": [
    "## Create circuits"
   ]
  },
  {
   "cell_type": "code",
   "execution_count": 8,
   "metadata": {},
   "outputs": [
    {
     "data": {
      "text/plain": [
       "5180"
      ]
     },
     "execution_count": 8,
     "metadata": {},
     "output_type": "execute_result"
    }
   ],
   "source": [
    "len(srnas) * len(mrnas)"
   ]
  },
  {
   "cell_type": "code",
   "execution_count": 27,
   "metadata": {},
   "outputs": [],
   "source": [
    "config['interaction_simulator']['threads'] = 8\n",
    "config['interaction_simulator']['n'] = 2\n",
    "config['interaction_simulator']['raw_stdout'] = True"
   ]
  },
  {
   "cell_type": "code",
   "execution_count": 43,
   "metadata": {},
   "outputs": [],
   "source": [
    "def process_raw_stdout(stdout):\n",
    "    d = {}\n",
    "    header = stdout.split('\\n')[0].split(';')\n",
    "    for t in stdout.split('\\n')[1:-1]:\n",
    "        d[t.split(';')[0]] = {\n",
    "            header[2]: float(t.split(';')[2]),\n",
    "            header[3]: t.split(';')[3]\n",
    "        }\n",
    "    return d"
   ]
  },
  {
   "cell_type": "code",
   "execution_count": 51,
   "metadata": {},
   "outputs": [
    {
     "name": "stdout",
     "output_type": "stream",
     "text": [
      "Finished  arcZ  in  54.910919  s\n",
      "Finished  arrS  in  35.321667  s\n",
      "Finished  chiX  in  78.424952  s\n",
      "Finished  cyaR  in  71.926472  s\n",
      "Finished  dicF  in  48.124806  s\n",
      "Finished  dsrA  in  67.317026  s\n",
      "Finished  fnrS  in  40.348168  s\n"
     ]
    },
    {
     "ename": "KeyboardInterrupt",
     "evalue": "",
     "output_type": "error",
     "traceback": [
      "\u001b[0;31m---------------------------------------------------------------------------\u001b[0m",
      "\u001b[0;31mKeyboardInterrupt\u001b[0m                         Traceback (most recent call last)",
      "\u001b[1;32m/workdir/notebooks_sRNA/06_orthogonality_mRNA.ipynb Cell 14\u001b[0m line \u001b[0;36m3\n\u001b[1;32m     <a href='vscode-notebook-cell://attached-container%2B7b22636f6e7461696e65724e616d65223a222f676367227d@ssh-remote%2B7b22686f73744e616d65223a2277616468363531312d50432d425832333638312d5453227d/workdir/notebooks_sRNA/06_orthogonality_mRNA.ipynb#X31sdnNjb2RlLXJlbW90ZQ%3D%3D?line=30'>31</a>\u001b[0m sim_data[s] \u001b[39m=\u001b[39m {}\n\u001b[1;32m     <a href='vscode-notebook-cell://attached-container%2B7b22636f6e7461696e65724e616d65223a222f676367227d@ssh-remote%2B7b22686f73744e616d65223a2277616468363531312d50432d425832333638312d5453227d/workdir/notebooks_sRNA/06_orthogonality_mRNA.ipynb#X31sdnNjb2RlLXJlbW90ZQ%3D%3D?line=31'>32</a>\u001b[0m t \u001b[39m=\u001b[39m datetime\u001b[39m.\u001b[39mnow()\n\u001b[0;32m---> <a href='vscode-notebook-cell://attached-container%2B7b22636f6e7461696e65724e616d65223a222f676367227d@ssh-remote%2B7b22686f73744e616d65223a2277616468363531312d50432d425832333638312d5453227d/workdir/notebooks_sRNA/06_orthogonality_mRNA.ipynb#X31sdnNjb2RlLXJlbW90ZQ%3D%3D?line=33'>34</a>\u001b[0m sim_data[s] \u001b[39m=\u001b[39m simulate_IntaRNA_local(query\u001b[39m=\u001b[39;49m{s: sseq},\n\u001b[1;32m     <a href='vscode-notebook-cell://attached-container%2B7b22636f6e7461696e65724e616d65223a222f676367227d@ssh-remote%2B7b22686f73744e616d65223a2277616468363531312d50432d425832333638312d5453227d/workdir/notebooks_sRNA/06_orthogonality_mRNA.ipynb#X31sdnNjb2RlLXJlbW90ZQ%3D%3D?line=34'>35</a>\u001b[0m                                      targets\u001b[39m=\u001b[39;49mmrnas,\n\u001b[1;32m     <a href='vscode-notebook-cell://attached-container%2B7b22636f6e7461696e65724e616d65223a222f676367227d@ssh-remote%2B7b22686f73744e616d65223a2277616468363531312d50432d425832333638312d5453227d/workdir/notebooks_sRNA/06_orthogonality_mRNA.ipynb#X31sdnNjb2RlLXJlbW90ZQ%3D%3D?line=35'>36</a>\u001b[0m                                      sim_kwargs\u001b[39m=\u001b[39;49mconfig_file[\u001b[39m'\u001b[39;49m\u001b[39minteraction_simulator\u001b[39;49m\u001b[39m'\u001b[39;49m][\u001b[39m'\u001b[39;49m\u001b[39msimulator_kwargs\u001b[39;49m\u001b[39m'\u001b[39;49m],\n\u001b[1;32m     <a href='vscode-notebook-cell://attached-container%2B7b22636f6e7461696e65724e616d65223a222f676367227d@ssh-remote%2B7b22686f73744e616d65223a2277616468363531312d50432d425832333638312d5453227d/workdir/notebooks_sRNA/06_orthogonality_mRNA.ipynb#X31sdnNjb2RlLXJlbW90ZQ%3D%3D?line=36'>37</a>\u001b[0m                                      simulator\u001b[39m=\u001b[39;49mIntaRNA())\n\u001b[1;32m     <a href='vscode-notebook-cell://attached-container%2B7b22636f6e7461696e65724e616d65223a222f676367227d@ssh-remote%2B7b22686f73744e616d65223a2277616468363531312d50432d425832333638312d5453227d/workdir/notebooks_sRNA/06_orthogonality_mRNA.ipynb#X31sdnNjb2RlLXJlbW90ZQ%3D%3D?line=37'>38</a>\u001b[0m \u001b[39mprint\u001b[39m(\u001b[39m'\u001b[39m\u001b[39mFinished \u001b[39m\u001b[39m'\u001b[39m, s, \u001b[39m'\u001b[39m\u001b[39m in \u001b[39m\u001b[39m'\u001b[39m, (datetime\u001b[39m.\u001b[39mnow() \u001b[39m-\u001b[39m t)\u001b[39m.\u001b[39mtotal_seconds(), \u001b[39m'\u001b[39m\u001b[39m s\u001b[39m\u001b[39m'\u001b[39m)\n\u001b[1;32m     <a href='vscode-notebook-cell://attached-container%2B7b22636f6e7461696e65724e616d65223a222f676367227d@ssh-remote%2B7b22686f73744e616d65223a2277616468363531312d50432d425832333638312d5453227d/workdir/notebooks_sRNA/06_orthogonality_mRNA.ipynb#X31sdnNjb2RlLXJlbW90ZQ%3D%3D?line=39'>40</a>\u001b[0m data_writer\u001b[39m.\u001b[39moutput(data\u001b[39m=\u001b[39msim_data, out_type\u001b[39m=\u001b[39m\u001b[39m'\u001b[39m\u001b[39mjson\u001b[39m\u001b[39m'\u001b[39m,\n\u001b[1;32m     <a href='vscode-notebook-cell://attached-container%2B7b22636f6e7461696e65724e616d65223a222f676367227d@ssh-remote%2B7b22686f73744e616d65223a2277616468363531312d50432d425832333638312d5453227d/workdir/notebooks_sRNA/06_orthogonality_mRNA.ipynb#X31sdnNjb2RlLXJlbW90ZQ%3D%3D?line=40'>41</a>\u001b[0m                    out_name\u001b[39m=\u001b[39m\u001b[39m'\u001b[39m\u001b[39minter_data_raw\u001b[39m\u001b[39m'\u001b[39m, overwrite\u001b[39m=\u001b[39m\u001b[39mTrue\u001b[39;00m)\n",
      "\u001b[1;32m/workdir/notebooks_sRNA/06_orthogonality_mRNA.ipynb Cell 14\u001b[0m line \u001b[0;36m2\n\u001b[1;32m     <a href='vscode-notebook-cell://attached-container%2B7b22636f6e7461696e65724e616d65223a222f676367227d@ssh-remote%2B7b22686f73744e616d65223a2277616468363531312d50432d425832333638312d5453227d/workdir/notebooks_sRNA/06_orthogonality_mRNA.ipynb#X31sdnNjb2RlLXJlbW90ZQ%3D%3D?line=23'>24</a>\u001b[0m     stdout, stderr \u001b[39m=\u001b[39m p\u001b[39m.\u001b[39mcommunicate()\n\u001b[1;32m     <a href='vscode-notebook-cell://attached-container%2B7b22636f6e7461696e65724e616d65223a222f676367227d@ssh-remote%2B7b22686f73744e616d65223a2277616468363531312d50432d425832333638312d5453227d/workdir/notebooks_sRNA/06_orthogonality_mRNA.ipynb#X31sdnNjb2RlLXJlbW90ZQ%3D%3D?line=24'>25</a>\u001b[0m     \u001b[39mreturn\u001b[39;00m process_raw_stdout(stdout)\n\u001b[0;32m---> <a href='vscode-notebook-cell://attached-container%2B7b22636f6e7461696e65724e616d65223a222f676367227d@ssh-remote%2B7b22686f73744e616d65223a2277616468363531312d50432d425832333638312d5453227d/workdir/notebooks_sRNA/06_orthogonality_mRNA.ipynb#X31sdnNjb2RlLXJlbW90ZQ%3D%3D?line=26'>27</a>\u001b[0m \u001b[39mreturn\u001b[39;00m run(\u001b[39m*\u001b[39;49m\u001b[39m*\u001b[39;49msim_kwargs)\n",
      "\u001b[1;32m/workdir/notebooks_sRNA/06_orthogonality_mRNA.ipynb Cell 14\u001b[0m line \u001b[0;36m2\n\u001b[1;32m     <a href='vscode-notebook-cell://attached-container%2B7b22636f6e7461696e65724e616d65223a222f676367227d@ssh-remote%2B7b22686f73744e616d65223a2277616468363531312d50432d425832333638312d5453227d/workdir/notebooks_sRNA/06_orthogonality_mRNA.ipynb#X31sdnNjb2RlLXJlbW90ZQ%3D%3D?line=14'>15</a>\u001b[0m \u001b[39mdef\u001b[39;00m \u001b[39mrun\u001b[39m(query: \u001b[39mstr\u001b[39m, target: \u001b[39mstr\u001b[39m, qidxpos0: \u001b[39mint\u001b[39m, tidxpos0: \u001b[39mint\u001b[39m, outcsvcols: \u001b[39mstr\u001b[39m, threads: \u001b[39mint\u001b[39m, n: \u001b[39mint\u001b[39m \u001b[39m=\u001b[39m \u001b[39m1\u001b[39m,\n\u001b[1;32m     <a href='vscode-notebook-cell://attached-container%2B7b22636f6e7461696e65724e616d65223a222f676367227d@ssh-remote%2B7b22686f73744e616d65223a2277616468363531312d50432d425832333638312d5453227d/workdir/notebooks_sRNA/06_orthogonality_mRNA.ipynb#X31sdnNjb2RlLXJlbW90ZQ%3D%3D?line=15'>16</a>\u001b[0m         param_file: \u001b[39mstr\u001b[39m \u001b[39m=\u001b[39m \u001b[39m'\u001b[39m\u001b[39m'\u001b[39m, extra_params: \u001b[39mlist\u001b[39m \u001b[39m=\u001b[39m [], raw_stdout: \u001b[39mbool\u001b[39m \u001b[39m=\u001b[39m \u001b[39mFalse\u001b[39;00m):\n\u001b[1;32m     <a href='vscode-notebook-cell://attached-container%2B7b22636f6e7461696e65724e616d65223a222f676367227d@ssh-remote%2B7b22686f73744e616d65223a2277616468363531312d50432d425832333638312d5453227d/workdir/notebooks_sRNA/06_orthogonality_mRNA.ipynb#X31sdnNjb2RlLXJlbW90ZQ%3D%3D?line=16'>17</a>\u001b[0m     p \u001b[39m=\u001b[39m Popen([\u001b[39m'\u001b[39m\u001b[39mIntaRNA\u001b[39m\u001b[39m'\u001b[39m, \u001b[39m'\u001b[39m\u001b[39m-q\u001b[39m\u001b[39m'\u001b[39m, query, \u001b[39m'\u001b[39m\u001b[39m-t\u001b[39m\u001b[39m'\u001b[39m, target,\n\u001b[1;32m     <a href='vscode-notebook-cell://attached-container%2B7b22636f6e7461696e65724e616d65223a222f676367227d@ssh-remote%2B7b22686f73744e616d65223a2277616468363531312d50432d425832333638312d5453227d/workdir/notebooks_sRNA/06_orthogonality_mRNA.ipynb#X31sdnNjb2RlLXJlbW90ZQ%3D%3D?line=17'>18</a>\u001b[0m                 \u001b[39m'\u001b[39m\u001b[39m--outMode=C\u001b[39m\u001b[39m'\u001b[39m, \u001b[39mf\u001b[39m\u001b[39m'\u001b[39m\u001b[39m--outcsvcols=\u001b[39m\u001b[39m{\u001b[39;00moutcsvcols\u001b[39m}\u001b[39;00m\u001b[39m'\u001b[39m,\n\u001b[1;32m     <a href='vscode-notebook-cell://attached-container%2B7b22636f6e7461696e65724e616d65223a222f676367227d@ssh-remote%2B7b22686f73744e616d65223a2277616468363531312d50432d425832333638312d5453227d/workdir/notebooks_sRNA/06_orthogonality_mRNA.ipynb#X31sdnNjb2RlLXJlbW90ZQ%3D%3D?line=18'>19</a>\u001b[0m                 \u001b[39mf\u001b[39m\u001b[39m'\u001b[39m\u001b[39m--qIdxPos0=\u001b[39m\u001b[39m{\u001b[39;00mqidxpos0\u001b[39m}\u001b[39;00m\u001b[39m'\u001b[39m,\n\u001b[0;32m   (...)\u001b[0m\n\u001b[1;32m     <a href='vscode-notebook-cell://attached-container%2B7b22636f6e7461696e65724e616d65223a222f676367227d@ssh-remote%2B7b22686f73744e616d65223a2277616468363531312d50432d425832333638312d5453227d/workdir/notebooks_sRNA/06_orthogonality_mRNA.ipynb#X31sdnNjb2RlLXJlbW90ZQ%3D%3D?line=21'>22</a>\u001b[0m                 \u001b[39mf\u001b[39m\u001b[39m'\u001b[39m\u001b[39m--threads=\u001b[39m\u001b[39m{\u001b[39;00mthreads\u001b[39m}\u001b[39;00m\u001b[39m'\u001b[39m, param_file]\n\u001b[1;32m     <a href='vscode-notebook-cell://attached-container%2B7b22636f6e7461696e65724e616d65223a222f676367227d@ssh-remote%2B7b22686f73744e616d65223a2277616468363531312d50432d425832333638312d5453227d/workdir/notebooks_sRNA/06_orthogonality_mRNA.ipynb#X31sdnNjb2RlLXJlbW90ZQ%3D%3D?line=22'>23</a>\u001b[0m                 \u001b[39m+\u001b[39m extra_params, stdout\u001b[39m=\u001b[39mPIPE, stderr\u001b[39m=\u001b[39mPIPE, universal_newlines\u001b[39m=\u001b[39m\u001b[39mTrue\u001b[39;00m)\n\u001b[0;32m---> <a href='vscode-notebook-cell://attached-container%2B7b22636f6e7461696e65724e616d65223a222f676367227d@ssh-remote%2B7b22686f73744e616d65223a2277616468363531312d50432d425832333638312d5453227d/workdir/notebooks_sRNA/06_orthogonality_mRNA.ipynb#X31sdnNjb2RlLXJlbW90ZQ%3D%3D?line=23'>24</a>\u001b[0m     stdout, stderr \u001b[39m=\u001b[39m p\u001b[39m.\u001b[39;49mcommunicate()\n\u001b[1;32m     <a href='vscode-notebook-cell://attached-container%2B7b22636f6e7461696e65724e616d65223a222f676367227d@ssh-remote%2B7b22686f73744e616d65223a2277616468363531312d50432d425832333638312d5453227d/workdir/notebooks_sRNA/06_orthogonality_mRNA.ipynb#X31sdnNjb2RlLXJlbW90ZQ%3D%3D?line=24'>25</a>\u001b[0m     \u001b[39mreturn\u001b[39;00m process_raw_stdout(stdout)\n",
      "File \u001b[0;32m/usr/lib/python3.10/subprocess.py:1154\u001b[0m, in \u001b[0;36mPopen.communicate\u001b[0;34m(self, input, timeout)\u001b[0m\n\u001b[1;32m   1151\u001b[0m     endtime \u001b[39m=\u001b[39m \u001b[39mNone\u001b[39;00m\n\u001b[1;32m   1153\u001b[0m \u001b[39mtry\u001b[39;00m:\n\u001b[0;32m-> 1154\u001b[0m     stdout, stderr \u001b[39m=\u001b[39m \u001b[39mself\u001b[39;49m\u001b[39m.\u001b[39;49m_communicate(\u001b[39minput\u001b[39;49m, endtime, timeout)\n\u001b[1;32m   1155\u001b[0m \u001b[39mexcept\u001b[39;00m \u001b[39mKeyboardInterrupt\u001b[39;00m:\n\u001b[1;32m   1156\u001b[0m     \u001b[39m# https://bugs.python.org/issue25942\u001b[39;00m\n\u001b[1;32m   1157\u001b[0m     \u001b[39m# See the detailed comment in .wait().\u001b[39;00m\n\u001b[1;32m   1158\u001b[0m     \u001b[39mif\u001b[39;00m timeout \u001b[39mis\u001b[39;00m \u001b[39mnot\u001b[39;00m \u001b[39mNone\u001b[39;00m:\n",
      "File \u001b[0;32m/usr/lib/python3.10/subprocess.py:2021\u001b[0m, in \u001b[0;36mPopen._communicate\u001b[0;34m(self, input, endtime, orig_timeout)\u001b[0m\n\u001b[1;32m   2014\u001b[0m     \u001b[39mself\u001b[39m\u001b[39m.\u001b[39m_check_timeout(endtime, orig_timeout,\n\u001b[1;32m   2015\u001b[0m                         stdout, stderr,\n\u001b[1;32m   2016\u001b[0m                         skip_check_and_raise\u001b[39m=\u001b[39m\u001b[39mTrue\u001b[39;00m)\n\u001b[1;32m   2017\u001b[0m     \u001b[39mraise\u001b[39;00m \u001b[39mRuntimeError\u001b[39;00m(  \u001b[39m# Impossible :)\u001b[39;00m\n\u001b[1;32m   2018\u001b[0m         \u001b[39m'\u001b[39m\u001b[39m_check_timeout(..., skip_check_and_raise=True) \u001b[39m\u001b[39m'\u001b[39m\n\u001b[1;32m   2019\u001b[0m         \u001b[39m'\u001b[39m\u001b[39mfailed to raise TimeoutExpired.\u001b[39m\u001b[39m'\u001b[39m)\n\u001b[0;32m-> 2021\u001b[0m ready \u001b[39m=\u001b[39m selector\u001b[39m.\u001b[39;49mselect(timeout)\n\u001b[1;32m   2022\u001b[0m \u001b[39mself\u001b[39m\u001b[39m.\u001b[39m_check_timeout(endtime, orig_timeout, stdout, stderr)\n\u001b[1;32m   2024\u001b[0m \u001b[39m# XXX Rewrite these to use non-blocking I/O on the file\u001b[39;00m\n\u001b[1;32m   2025\u001b[0m \u001b[39m# objects; they are no longer using C stdio!\u001b[39;00m\n",
      "File \u001b[0;32m/usr/lib/python3.10/selectors.py:416\u001b[0m, in \u001b[0;36m_PollLikeSelector.select\u001b[0;34m(self, timeout)\u001b[0m\n\u001b[1;32m    414\u001b[0m ready \u001b[39m=\u001b[39m []\n\u001b[1;32m    415\u001b[0m \u001b[39mtry\u001b[39;00m:\n\u001b[0;32m--> 416\u001b[0m     fd_event_list \u001b[39m=\u001b[39m \u001b[39mself\u001b[39;49m\u001b[39m.\u001b[39;49m_selector\u001b[39m.\u001b[39;49mpoll(timeout)\n\u001b[1;32m    417\u001b[0m \u001b[39mexcept\u001b[39;00m \u001b[39mInterruptedError\u001b[39;00m:\n\u001b[1;32m    418\u001b[0m     \u001b[39mreturn\u001b[39;00m ready\n",
      "\u001b[0;31mKeyboardInterrupt\u001b[0m: "
     ]
    }
   ],
   "source": [
    "from subprocess import Popen, PIPE, run\n",
    "from datetime import datetime\n",
    "circuits = []\n",
    "sim_data = {}\n",
    "\n",
    "def simulate_IntaRNA_local(query: dict,\n",
    "                           targets: dict,\n",
    "                           sim_kwargs={},\n",
    "                           simulator=IntaRNA()):\n",
    "    fn1 = data_writer.output(data=query, out_type='fasta', out_name='query', byseq=True, return_path=True)\n",
    "    fn2 = data_writer.output(data=targets, out_type='fasta', out_name='targets', byseq=True, return_path=True)\n",
    "    sim_kwargs['query'] = fn1\n",
    "    sim_kwargs['target'] = fn2\n",
    "    \n",
    "    def run(query: str, target: str, qidxpos0: int, tidxpos0: int, outcsvcols: str, threads: int, n: int = 1,\n",
    "            param_file: str = '', extra_params: list = [], raw_stdout: bool = False):\n",
    "        p = Popen(['IntaRNA', '-q', query, '-t', target,\n",
    "                    '--outMode=C', f'--outcsvcols={outcsvcols}',\n",
    "                    f'--qIdxPos0={qidxpos0}',\n",
    "                    f'--tIdxPos0={tidxpos0}',\n",
    "                    f'--outNumber={n}',\n",
    "                    f'--threads={threads}', param_file]\n",
    "                    + extra_params, stdout=PIPE, stderr=PIPE, universal_newlines=True)\n",
    "        stdout, stderr = p.communicate()\n",
    "        return process_raw_stdout(stdout)\n",
    "    \n",
    "    return run(**sim_kwargs)\n",
    "\n",
    "\n",
    "for s, sseq in srnas.items():\n",
    "    sim_data[s] = {}\n",
    "    t = datetime.now()\n",
    "\n",
    "    sim_data[s] = simulate_IntaRNA_local(query={s: sseq},\n",
    "                                         targets=mrnas,\n",
    "                                         sim_kwargs=config_file['interaction_simulator']['simulator_kwargs'],\n",
    "                                         simulator=IntaRNA())\n",
    "    print('Finished ', s, ' in ', (datetime.now() - t).total_seconds(), ' s')\n",
    "\n",
    "    data_writer.output(data=sim_data, out_type='json',\n",
    "                       out_name='inter_data_raw', overwrite=True)"
   ]
  },
  {
   "cell_type": "code",
   "execution_count": null,
   "metadata": {},
   "outputs": [],
   "source": []
  }
 ],
 "metadata": {
  "kernelspec": {
   "display_name": "env_evo",
   "language": "python",
   "name": "python3"
  },
  "language_info": {
   "codemirror_mode": {
    "name": "ipython",
    "version": 3
   },
   "file_extension": ".py",
   "mimetype": "text/x-python",
   "name": "python",
   "nbconvert_exporter": "python",
   "pygments_lexer": "ipython3",
   "version": "3.10.12"
  }
 },
 "nbformat": 4,
 "nbformat_minor": 2
}
