{
 "cells": [
  {
   "cell_type": "code",
   "execution_count": 1,
   "metadata": {},
   "outputs": [],
   "source": [
    "%load_ext autoreload\n",
    "%autoreload 2"
   ]
  },
  {
   "cell_type": "markdown",
   "metadata": {},
   "source": [
    "# Imports"
   ]
  },
  {
   "cell_type": "code",
   "execution_count": 2,
   "metadata": {},
   "outputs": [],
   "source": [
    "import os\n",
    "from Bio import SeqIO, Entrez\n",
    "from urllib.error import HTTPError\n",
    "import pandas as pd\n",
    "\n",
    "import seaborn as sns\n",
    "import matplotlib.pyplot as plt\n"
   ]
  },
  {
   "cell_type": "code",
   "execution_count": 3,
   "metadata": {},
   "outputs": [],
   "source": [
    "def load_seq_from_FASTA(filename, as_type=\"list\"):\n",
    "    fasta_records = SeqIO.parse(open(filename),'fasta')\n",
    "    if as_type==\"dict\":\n",
    "        sequences = {}\n",
    "        for fasta_record in fasta_records:\n",
    "            sequences[fasta_record.id] = str(fasta_record.seq)\n",
    "        return sequences\n",
    "    elif as_type==\"list\":\n",
    "        sequences = []\n",
    "        for fasta_record in fasta_records:\n",
    "            sequences.append(str(fasta_record.seq))\n",
    "        return sequences\n",
    "    else:\n",
    "        raise ValueError(f\"Desired type {as_type} not supported.\")\n"
   ]
  },
  {
   "cell_type": "markdown",
   "metadata": {},
   "source": [
    "Download the RNA-RNA interactions file from http://www.rnainter.org/download/"
   ]
  },
  {
   "cell_type": "code",
   "execution_count": 8,
   "metadata": {},
   "outputs": [],
   "source": [
    "fn = os.path.join('..', 'data', 'sRNA', 'RNAInter', 'Download_data_RR.csv')\n",
    "data = pd.read_csv(fn)\n",
    "try:\n",
    "    data = data.drop(columns=['Unnamed: 0'])\n",
    "    data = data.drop(columns=['level_0'])\n",
    "except:\n",
    "    pass"
   ]
  },
  {
   "cell_type": "code",
   "execution_count": 9,
   "metadata": {},
   "outputs": [
    {
     "data": {
      "text/html": [
       "<div>\n",
       "<style scoped>\n",
       "    .dataframe tbody tr th:only-of-type {\n",
       "        vertical-align: middle;\n",
       "    }\n",
       "\n",
       "    .dataframe tbody tr th {\n",
       "        vertical-align: top;\n",
       "    }\n",
       "\n",
       "    .dataframe thead th {\n",
       "        text-align: right;\n",
       "    }\n",
       "</style>\n",
       "<table border=\"1\" class=\"dataframe\">\n",
       "  <thead>\n",
       "    <tr style=\"text-align: right;\">\n",
       "      <th></th>\n",
       "      <th>index</th>\n",
       "      <th>RNAInterID</th>\n",
       "      <th>Interactor1.Symbol</th>\n",
       "      <th>Category1</th>\n",
       "      <th>Species1</th>\n",
       "      <th>Interactor2.Symbol</th>\n",
       "      <th>Category2</th>\n",
       "      <th>Species2</th>\n",
       "      <th>Raw_ID1</th>\n",
       "      <th>Raw_ID2</th>\n",
       "      <th>score</th>\n",
       "      <th>strong</th>\n",
       "      <th>weak</th>\n",
       "      <th>predict</th>\n",
       "      <th>Sequence1</th>\n",
       "      <th>Sequence2</th>\n",
       "    </tr>\n",
       "  </thead>\n",
       "  <tbody>\n",
       "    <tr>\n",
       "      <th>0</th>\n",
       "      <td>1029724</td>\n",
       "      <td>RR05384747</td>\n",
       "      <td>acnA</td>\n",
       "      <td>mRNA</td>\n",
       "      <td>Escherichia coli str. K-12 substr. MG1655</td>\n",
       "      <td>ryhB</td>\n",
       "      <td>sRNA</td>\n",
       "      <td>Escherichia coli str. K-12 substr. MG1655</td>\n",
       "      <td>NCBI:946724</td>\n",
       "      <td>NCBI:2847761</td>\n",
       "      <td>0.2292</td>\n",
       "      <td>Northern blot//Reporter assay</td>\n",
       "      <td>NaN</td>\n",
       "      <td>NaN</td>\n",
       "      <td>ATTCGGAACGAGGCCTGAAGCAGTGTCGCCGTCCCTCTGCCTTGCA...</td>\n",
       "      <td>TTTGAGAGCGTCTCTGTCCCTCGTTTTGCGGTTAAGCCGCATCCAT...</td>\n",
       "    </tr>\n",
       "    <tr>\n",
       "      <th>1</th>\n",
       "      <td>1029725</td>\n",
       "      <td>RR05384845</td>\n",
       "      <td>acrZ</td>\n",
       "      <td>mRNA</td>\n",
       "      <td>Escherichia coli str. K-12 substr. MG1655</td>\n",
       "      <td>omrB</td>\n",
       "      <td>sRNA</td>\n",
       "      <td>Escherichia coli str. K-12 substr. MG1655</td>\n",
       "      <td>NCBI:945365</td>\n",
       "      <td>NCBI:2847747</td>\n",
       "      <td>0.1778</td>\n",
       "      <td>Northern blot</td>\n",
       "      <td>Microarray</td>\n",
       "      <td>NaN</td>\n",
       "      <td>ACTTACTACTGTCTTCGGGGGGTCCGAGGTTTCTGGGGGGTCGTAC...</td>\n",
       "      <td>TGTTCTATACTTGGGTTCGACTTGGGTTAGACTTGTCTTTACTGTC...</td>\n",
       "    </tr>\n",
       "    <tr>\n",
       "      <th>2</th>\n",
       "      <td>1029732</td>\n",
       "      <td>RR05387056</td>\n",
       "      <td>arcZ</td>\n",
       "      <td>sRNA</td>\n",
       "      <td>Escherichia coli str. K-12 substr. MG1655</td>\n",
       "      <td>flhD</td>\n",
       "      <td>mRNA</td>\n",
       "      <td>Escherichia coli str. K-12 substr. MG1655</td>\n",
       "      <td>NCBI:2847690</td>\n",
       "      <td>NCBI:945442</td>\n",
       "      <td>0.2314</td>\n",
       "      <td>Northern blot//Reporter assay</td>\n",
       "      <td>NaN</td>\n",
       "      <td>NaN</td>\n",
       "      <td>CTCATGTTGACCGCTTGTTTAGCAGCTTCAAGGAAGCTGAAGGGCA...</td>\n",
       "      <td>CTCGTGCCGAATTCGGCACGAGCGATATTTCATCAGTTATCGGTAA...</td>\n",
       "    </tr>\n",
       "    <tr>\n",
       "      <th>3</th>\n",
       "      <td>1029733</td>\n",
       "      <td>RR05387057</td>\n",
       "      <td>arcZ</td>\n",
       "      <td>sRNA</td>\n",
       "      <td>Escherichia coli str. K-12 substr. MG1655</td>\n",
       "      <td>rpoS</td>\n",
       "      <td>mRNA</td>\n",
       "      <td>Escherichia coli str. K-12 substr. MG1655</td>\n",
       "      <td>NCBI:2847690</td>\n",
       "      <td>NCBI:947210</td>\n",
       "      <td>0.1996</td>\n",
       "      <td>Northern blot//RACE//RT-PCR//Beta-galactosidas...</td>\n",
       "      <td>NaN</td>\n",
       "      <td>NaN</td>\n",
       "      <td>CTCATGTTGACCGCTTGTTTAGCAGCTTCAAGGAAGCTGAAGGGCA...</td>\n",
       "      <td>ATCCTCGGGTCTTGCAGGCCACACAGGACACCCTGAACCGTCATGG...</td>\n",
       "    </tr>\n",
       "    <tr>\n",
       "      <th>4</th>\n",
       "      <td>1029734</td>\n",
       "      <td>RR05387126</td>\n",
       "      <td>argR</td>\n",
       "      <td>mRNA</td>\n",
       "      <td>Escherichia coli str. K-12 substr. MG1655</td>\n",
       "      <td>dsrA</td>\n",
       "      <td>sRNA</td>\n",
       "      <td>Escherichia coli str. K-12 substr. MG1655</td>\n",
       "      <td>NCBI:947861</td>\n",
       "      <td>NCBI:946470</td>\n",
       "      <td>0.2139</td>\n",
       "      <td>Primer extension assay</td>\n",
       "      <td>NaN</td>\n",
       "      <td>NaN</td>\n",
       "      <td>GACAATGGCGATAGTATGGCGGTTGTTTCTTTCCCATCTCTACTCA...</td>\n",
       "      <td>TGAGCAACTTTATTCACATAATTTCTACACCAAGAACTCGAGGTTA...</td>\n",
       "    </tr>\n",
       "    <tr>\n",
       "      <th>...</th>\n",
       "      <td>...</td>\n",
       "      <td>...</td>\n",
       "      <td>...</td>\n",
       "      <td>...</td>\n",
       "      <td>...</td>\n",
       "      <td>...</td>\n",
       "      <td>...</td>\n",
       "      <td>...</td>\n",
       "      <td>...</td>\n",
       "      <td>...</td>\n",
       "      <td>...</td>\n",
       "      <td>...</td>\n",
       "      <td>...</td>\n",
       "      <td>...</td>\n",
       "      <td>...</td>\n",
       "      <td>...</td>\n",
       "    </tr>\n",
       "    <tr>\n",
       "      <th>349</th>\n",
       "      <td>8031771</td>\n",
       "      <td>RR05460721</td>\n",
       "      <td>ryhB</td>\n",
       "      <td>sRNA</td>\n",
       "      <td>Escherichia coli str. K-12 substr. MG1655</td>\n",
       "      <td>ynfF</td>\n",
       "      <td>mRNA</td>\n",
       "      <td>Escherichia coli str. K-12 substr. MG1655</td>\n",
       "      <td>NCBI:2847761</td>\n",
       "      <td>NCBI:945268</td>\n",
       "      <td>0.1778</td>\n",
       "      <td>Northern blot</td>\n",
       "      <td>Microarray</td>\n",
       "      <td>NaN</td>\n",
       "      <td>TTTGAGAGCGTCTCTGTCCCTCGTTTTGCGGTTAAGCCGCATCCAT...</td>\n",
       "      <td>ACTTACTACTGTGCCTTTAGGGTGGGGGGATACACCGTTTCCGCCG...</td>\n",
       "    </tr>\n",
       "    <tr>\n",
       "      <th>350</th>\n",
       "      <td>8031772</td>\n",
       "      <td>RR05460722</td>\n",
       "      <td>sdsR</td>\n",
       "      <td>sRNA</td>\n",
       "      <td>Escherichia coli str. K-12 substr. MG1655</td>\n",
       "      <td>tolC</td>\n",
       "      <td>mRNA</td>\n",
       "      <td>Escherichia coli str. K-12 substr. MG1655</td>\n",
       "      <td>NCBI:2847772</td>\n",
       "      <td>NCBI:947521</td>\n",
       "      <td>0.3292</td>\n",
       "      <td>Northern blot//Western blot</td>\n",
       "      <td>NaN</td>\n",
       "      <td>NaN</td>\n",
       "      <td>CTACCTCAACACCCAACAATCGTTGATTGAAAACATCTTCTATCGC...</td>\n",
       "      <td>ATGAAGAAATTGCTCCCCATTCTTATCGGCCTGAGCCTTTCTGGGT...</td>\n",
       "    </tr>\n",
       "    <tr>\n",
       "      <th>351</th>\n",
       "      <td>8031773</td>\n",
       "      <td>RR05460723</td>\n",
       "      <td>sgrS</td>\n",
       "      <td>sRNA</td>\n",
       "      <td>Escherichia coli str. K-12 substr. MG1655</td>\n",
       "      <td>sodB</td>\n",
       "      <td>mRNA</td>\n",
       "      <td>Escherichia coli str. K-12 substr. MG1655</td>\n",
       "      <td>NCBI:4056038</td>\n",
       "      <td>NCBI:944953</td>\n",
       "      <td>0.1983</td>\n",
       "      <td>Northern blot</td>\n",
       "      <td>NaN</td>\n",
       "      <td>NaN</td>\n",
       "      <td>CCAGAACATTGGCTTTCAAAAGTTTTTTAATTGATGGAAACTCTTT...</td>\n",
       "      <td>GAAGAGAAAAGAAAAAAAGACCTTATTTGCTTATCCTGCATCTCTC...</td>\n",
       "    </tr>\n",
       "    <tr>\n",
       "      <th>352</th>\n",
       "      <td>8031774</td>\n",
       "      <td>RR05460724</td>\n",
       "      <td>sgrS</td>\n",
       "      <td>sRNA</td>\n",
       "      <td>Escherichia coli str. K-12 substr. MG1655</td>\n",
       "      <td>yigL</td>\n",
       "      <td>mRNA</td>\n",
       "      <td>Escherichia coli str. K-12 substr. MG1655</td>\n",
       "      <td>NCBI:4056038</td>\n",
       "      <td>NCBI:2847768</td>\n",
       "      <td>0.3273</td>\n",
       "      <td>Northern blot//Reporter assay</td>\n",
       "      <td>NaN</td>\n",
       "      <td>NaN</td>\n",
       "      <td>CCAGAACATTGGCTTTCAAAAGTTTTTTAATTGATGGAAACTCTTT...</td>\n",
       "      <td>TGCCGCTGACGAGGGAGAGGATGAGGATTGCGAGCCAGAGCATCCA...</td>\n",
       "    </tr>\n",
       "    <tr>\n",
       "      <th>353</th>\n",
       "      <td>8051381</td>\n",
       "      <td>RR05460725</td>\n",
       "      <td>symE</td>\n",
       "      <td>mRNA</td>\n",
       "      <td>Escherichia coli str. K-12 substr. MG1655</td>\n",
       "      <td>symR</td>\n",
       "      <td>sRNA</td>\n",
       "      <td>Escherichia coli str. K-12 substr. MG1655</td>\n",
       "      <td>NCBI:949088</td>\n",
       "      <td>NCBI:5061533</td>\n",
       "      <td>0.3330</td>\n",
       "      <td>RT-PCR//Reporter assay//Western blot</td>\n",
       "      <td>NaN</td>\n",
       "      <td>NaN</td>\n",
       "      <td>ATGACTGACACGCATTCTATTGCACAACCGTTCGAAGCAGAAGTCT...</td>\n",
       "      <td>AGAAAAGATCTGATCGTTGAATTGATGACNCTCNANANCACCANNN...</td>\n",
       "    </tr>\n",
       "  </tbody>\n",
       "</table>\n",
       "<p>354 rows × 16 columns</p>\n",
       "</div>"
      ],
      "text/plain": [
       "       index  RNAInterID Interactor1.Symbol Category1  \\\n",
       "0    1029724  RR05384747               acnA      mRNA   \n",
       "1    1029725  RR05384845               acrZ      mRNA   \n",
       "2    1029732  RR05387056               arcZ      sRNA   \n",
       "3    1029733  RR05387057               arcZ      sRNA   \n",
       "4    1029734  RR05387126               argR      mRNA   \n",
       "..       ...         ...                ...       ...   \n",
       "349  8031771  RR05460721               ryhB      sRNA   \n",
       "350  8031772  RR05460722               sdsR      sRNA   \n",
       "351  8031773  RR05460723               sgrS      sRNA   \n",
       "352  8031774  RR05460724               sgrS      sRNA   \n",
       "353  8051381  RR05460725               symE      mRNA   \n",
       "\n",
       "                                      Species1 Interactor2.Symbol Category2  \\\n",
       "0    Escherichia coli str. K-12 substr. MG1655               ryhB      sRNA   \n",
       "1    Escherichia coli str. K-12 substr. MG1655               omrB      sRNA   \n",
       "2    Escherichia coli str. K-12 substr. MG1655               flhD      mRNA   \n",
       "3    Escherichia coli str. K-12 substr. MG1655               rpoS      mRNA   \n",
       "4    Escherichia coli str. K-12 substr. MG1655               dsrA      sRNA   \n",
       "..                                         ...                ...       ...   \n",
       "349  Escherichia coli str. K-12 substr. MG1655               ynfF      mRNA   \n",
       "350  Escherichia coli str. K-12 substr. MG1655               tolC      mRNA   \n",
       "351  Escherichia coli str. K-12 substr. MG1655               sodB      mRNA   \n",
       "352  Escherichia coli str. K-12 substr. MG1655               yigL      mRNA   \n",
       "353  Escherichia coli str. K-12 substr. MG1655               symR      sRNA   \n",
       "\n",
       "                                      Species2       Raw_ID1       Raw_ID2  \\\n",
       "0    Escherichia coli str. K-12 substr. MG1655   NCBI:946724  NCBI:2847761   \n",
       "1    Escherichia coli str. K-12 substr. MG1655   NCBI:945365  NCBI:2847747   \n",
       "2    Escherichia coli str. K-12 substr. MG1655  NCBI:2847690   NCBI:945442   \n",
       "3    Escherichia coli str. K-12 substr. MG1655  NCBI:2847690   NCBI:947210   \n",
       "4    Escherichia coli str. K-12 substr. MG1655   NCBI:947861   NCBI:946470   \n",
       "..                                         ...           ...           ...   \n",
       "349  Escherichia coli str. K-12 substr. MG1655  NCBI:2847761   NCBI:945268   \n",
       "350  Escherichia coli str. K-12 substr. MG1655  NCBI:2847772   NCBI:947521   \n",
       "351  Escherichia coli str. K-12 substr. MG1655  NCBI:4056038   NCBI:944953   \n",
       "352  Escherichia coli str. K-12 substr. MG1655  NCBI:4056038  NCBI:2847768   \n",
       "353  Escherichia coli str. K-12 substr. MG1655   NCBI:949088  NCBI:5061533   \n",
       "\n",
       "      score                                             strong        weak  \\\n",
       "0    0.2292                      Northern blot//Reporter assay         NaN   \n",
       "1    0.1778                                      Northern blot  Microarray   \n",
       "2    0.2314                      Northern blot//Reporter assay         NaN   \n",
       "3    0.1996  Northern blot//RACE//RT-PCR//Beta-galactosidas...         NaN   \n",
       "4    0.2139                             Primer extension assay         NaN   \n",
       "..      ...                                                ...         ...   \n",
       "349  0.1778                                      Northern blot  Microarray   \n",
       "350  0.3292                        Northern blot//Western blot         NaN   \n",
       "351  0.1983                                      Northern blot         NaN   \n",
       "352  0.3273                      Northern blot//Reporter assay         NaN   \n",
       "353  0.3330               RT-PCR//Reporter assay//Western blot         NaN   \n",
       "\n",
       "     predict                                          Sequence1  \\\n",
       "0        NaN  ATTCGGAACGAGGCCTGAAGCAGTGTCGCCGTCCCTCTGCCTTGCA...   \n",
       "1        NaN  ACTTACTACTGTCTTCGGGGGGTCCGAGGTTTCTGGGGGGTCGTAC...   \n",
       "2        NaN  CTCATGTTGACCGCTTGTTTAGCAGCTTCAAGGAAGCTGAAGGGCA...   \n",
       "3        NaN  CTCATGTTGACCGCTTGTTTAGCAGCTTCAAGGAAGCTGAAGGGCA...   \n",
       "4        NaN  GACAATGGCGATAGTATGGCGGTTGTTTCTTTCCCATCTCTACTCA...   \n",
       "..       ...                                                ...   \n",
       "349      NaN  TTTGAGAGCGTCTCTGTCCCTCGTTTTGCGGTTAAGCCGCATCCAT...   \n",
       "350      NaN  CTACCTCAACACCCAACAATCGTTGATTGAAAACATCTTCTATCGC...   \n",
       "351      NaN  CCAGAACATTGGCTTTCAAAAGTTTTTTAATTGATGGAAACTCTTT...   \n",
       "352      NaN  CCAGAACATTGGCTTTCAAAAGTTTTTTAATTGATGGAAACTCTTT...   \n",
       "353      NaN  ATGACTGACACGCATTCTATTGCACAACCGTTCGAAGCAGAAGTCT...   \n",
       "\n",
       "                                             Sequence2  \n",
       "0    TTTGAGAGCGTCTCTGTCCCTCGTTTTGCGGTTAAGCCGCATCCAT...  \n",
       "1    TGTTCTATACTTGGGTTCGACTTGGGTTAGACTTGTCTTTACTGTC...  \n",
       "2    CTCGTGCCGAATTCGGCACGAGCGATATTTCATCAGTTATCGGTAA...  \n",
       "3    ATCCTCGGGTCTTGCAGGCCACACAGGACACCCTGAACCGTCATGG...  \n",
       "4    TGAGCAACTTTATTCACATAATTTCTACACCAAGAACTCGAGGTTA...  \n",
       "..                                                 ...  \n",
       "349  ACTTACTACTGTGCCTTTAGGGTGGGGGGATACACCGTTTCCGCCG...  \n",
       "350  ATGAAGAAATTGCTCCCCATTCTTATCGGCCTGAGCCTTTCTGGGT...  \n",
       "351  GAAGAGAAAAGAAAAAAAGACCTTATTTGCTTATCCTGCATCTCTC...  \n",
       "352  TGCCGCTGACGAGGGAGAGGATGAGGATTGCGAGCCAGAGCATCCA...  \n",
       "353  AGAAAAGATCTGATCGTTGAATTGATGACNCTCNANANCACCANNN...  \n",
       "\n",
       "[354 rows x 16 columns]"
      ]
     },
     "execution_count": 9,
     "metadata": {},
     "output_type": "execute_result"
    }
   ],
   "source": [
    "data"
   ]
  },
  {
   "cell_type": "markdown",
   "metadata": {},
   "source": [
    "# Minor pre-processing"
   ]
  },
  {
   "cell_type": "markdown",
   "metadata": {},
   "source": [
    "## Filter species to only include E. coli"
   ]
  },
  {
   "cell_type": "code",
   "execution_count": 10,
   "metadata": {},
   "outputs": [],
   "source": [
    "filt = ((data['Species1'] == 'Escherichia coli') | (data['Species1'] == 'Escherichia coli str. K-12 substr. MG1655')\n",
    "        ) & ((data['Category1'] == 'sRNA') | (data['Category2'] == 'sRNA'))\n",
    "# data[filt].reset_index().to_csv(fn)"
   ]
  },
  {
   "cell_type": "code",
   "execution_count": 11,
   "metadata": {},
   "outputs": [],
   "source": [
    "data = data[filt].reset_index()"
   ]
  },
  {
   "cell_type": "markdown",
   "metadata": {},
   "source": [
    "### Check for duplicates (mirrored interaction 1 and 2)"
   ]
  },
  {
   "cell_type": "code",
   "execution_count": 12,
   "metadata": {},
   "outputs": [
    {
     "name": "stdout",
     "output_type": "stream",
     "text": [
      "Number of duplicate entries:\n"
     ]
    },
    {
     "data": {
      "text/plain": [
       "0"
      ]
     },
     "execution_count": 12,
     "metadata": {},
     "output_type": "execute_result"
    }
   ],
   "source": [
    "print('Number of duplicate entries:')\n",
    "sum([len(data[(data['Interactor2.Symbol'] == i1) & (data['Interactor1.Symbol'] == i2)]) for i1, i2 in zip(data['Interactor1.Symbol'], data['Interactor2.Symbol'])])"
   ]
  },
  {
   "cell_type": "code",
   "execution_count": 13,
   "metadata": {},
   "outputs": [
    {
     "name": "stdout",
     "output_type": "stream",
     "text": [
      "Number of unique raw IDs\n"
     ]
    },
    {
     "data": {
      "text/plain": [
       "308"
      ]
     },
     "execution_count": 13,
     "metadata": {},
     "output_type": "execute_result"
    }
   ],
   "source": [
    "print('Number of unique raw IDs')\n",
    "len(list(data['Raw_ID1'].unique()) + list(data['Raw_ID2'].unique()))"
   ]
  },
  {
   "cell_type": "code",
   "execution_count": 14,
   "metadata": {},
   "outputs": [
    {
     "data": {
      "text/plain": [
       "<Axes: xlabel='score', ylabel='Count'>"
      ]
     },
     "execution_count": 14,
     "metadata": {},
     "output_type": "execute_result"
    },
    {
     "data": {
      "image/png": "[encoded data removed]",
      "text/plain": [
       "<Figure size 640x480 with 1 Axes>"
      ]
     },
     "metadata": {},
     "output_type": "display_data"
    }
   ],
   "source": [
    "sns.histplot(data[filt], x='score', element='step', bins=50)"
   ]
  },
  {
   "cell_type": "markdown",
   "metadata": {},
   "source": [
    "# Get sequences"
   ]
  },
  {
   "cell_type": "code",
   "execution_count": 15,
   "metadata": {},
   "outputs": [],
   "source": [
    "Entrez.email = \"olivia.gallup@gmail.com\"  # Add your email address\n",
    "Entrez.api_key = \"8167226cf01abaa985a1c23d9b5283d22208\"  # Add your NCBI API key\n",
    "\n",
    "\n",
    "def get_seq_from_genome(gene_id):\n",
    "    try:\n",
    "        handle = Entrez.efetch(db=\"gene\", id=gene_id, rettype=\"fasta\", retmode=\"xml\")\n",
    "        record = Entrez.read(handle)\n",
    "        nuc_id = record[0]['Entrezgene_locus'][0]['Gene-commentary_accession'] + '.' + record[0]['Entrezgene_locus'][0]['Gene-commentary_version']\n",
    "\n",
    "        dna_start = record[0]['Entrezgene_locus'][0]['Gene-commentary_seqs'][0]['Seq-loc_int']['Seq-interval']['Seq-interval_from']\n",
    "        dna_end = record[0]['Entrezgene_locus'][0]['Gene-commentary_seqs'][0]['Seq-loc_int']['Seq-interval']['Seq-interval_to']\n",
    "\n",
    "        search_handle = Entrez.efetch(db=\"nuccore\", id=nuc_id, retmode=\"XML\", rettype='fasta_cds_na', strand=\"complement\", seq_start=int(dna_start), seq_stop=int(dna_end))\n",
    "        # dna_sequence = SeqIO.read(search_handle, \"fasta\").seq\n",
    "        r = search_handle.read()\n",
    "        if r:\n",
    "            dna_sequence = ''.join(r.split('>')[1].split('\\n')[1:])\n",
    "        else:\n",
    "            dna_sequence = ''\n",
    "        return dna_sequence\n",
    "    except HTTPError:\n",
    "        return ''\n",
    "\n",
    "\n",
    "def get_seq_info(gene_id):\n",
    "    try:\n",
    "        handle = Entrez.efetch(db=\"nucleotide\", id=gene_id, rettype=\"fasta\", retmode=\"text\")\n",
    "        fast = handle.read()\n",
    "        seq = ''.join(fast.split('\\n')[1:])\n",
    "        if not seq or ('N' in seq):\n",
    "            seq = get_seq_from_genome(gene_id)\n",
    "        return seq\n",
    "    except HTTPError:\n",
    "        seq = get_seq_from_genome(gene_id)\n",
    "        return seq\n"
   ]
  },
  {
   "cell_type": "code",
   "execution_count": 17,
   "metadata": {},
   "outputs": [],
   "source": [
    "# if ('Sequence1' not in data.columns) or ('Sequence2' not in data.columns):\n",
    "# data['Sequence1'] = data['Raw_ID1'].str.replace('NCBI:', '').apply(str).apply(get_fasta)\n",
    "d = {k: get_seq_info(k) for k in list(data['Raw_ID1'].str.replace('NCBI:', '').apply(str).unique()) + list(data['Raw_ID2'].str.replace('NCBI:', '').apply(str).unique())}\n",
    "\n",
    "for i, l in enumerate(zip(data['Raw_ID1'].str.replace('NCBI:', '').apply(str), data['Raw_ID2'].str.replace('NCBI:', '').apply(str))):\n",
    "    data[f'Sequence{i+1}'] = list(map(lambda x: d[x], l))\n",
    "    # data[f'Gene_Start{i+1}'] = list(map(lambda x: d[x][1], l))\n",
    "    # data[f'Gene_End{i+1}'] = list(map(lambda x: d[x][2], l))\n",
    "# data['Sequence1'] = data['Raw_ID1'].str.replace('NCBI:', '').apply(str).apply(get_fasta)\n",
    "\n",
    "print(sum((data['Sequence1'] != '') & (data['Sequence2'] != '')))\n",
    "data.to_csv(fn)\n"
   ]
  },
  {
   "cell_type": "code",
   "execution_count": null,
   "metadata": {},
   "outputs": [
    {
     "data": {
      "text/html": [
       "<div>\n",
       "<style scoped>\n",
       "    .dataframe tbody tr th:only-of-type {\n",
       "        vertical-align: middle;\n",
       "    }\n",
       "\n",
       "    .dataframe tbody tr th {\n",
       "        vertical-align: top;\n",
       "    }\n",
       "\n",
       "    .dataframe thead th {\n",
       "        text-align: right;\n",
       "    }\n",
       "</style>\n",
       "<table border=\"1\" class=\"dataframe\">\n",
       "  <thead>\n",
       "    <tr style=\"text-align: right;\">\n",
       "      <th></th>\n",
       "      <th>level_0</th>\n",
       "      <th>index</th>\n",
       "      <th>RNAInterID</th>\n",
       "      <th>Interactor1.Symbol</th>\n",
       "      <th>Category1</th>\n",
       "      <th>Species1</th>\n",
       "      <th>Interactor2.Symbol</th>\n",
       "      <th>Category2</th>\n",
       "      <th>Species2</th>\n",
       "      <th>Raw_ID1</th>\n",
       "      <th>Raw_ID2</th>\n",
       "      <th>score</th>\n",
       "      <th>strong</th>\n",
       "      <th>weak</th>\n",
       "      <th>predict</th>\n",
       "      <th>Sequence1</th>\n",
       "      <th>Sequence2</th>\n",
       "    </tr>\n",
       "  </thead>\n",
       "  <tbody>\n",
       "  </tbody>\n",
       "</table>\n",
       "</div>"
      ],
      "text/plain": [
       "Empty DataFrame\n",
       "Columns: [level_0, index, RNAInterID, Interactor1.Symbol, Category1, Species1, Interactor2.Symbol, Category2, Species2, Raw_ID1, Raw_ID2, score, strong, weak, predict, Sequence1, Sequence2]\n",
       "Index: []"
      ]
     },
     "execution_count": 134,
     "metadata": {},
     "output_type": "execute_result"
    }
   ],
   "source": [
    "data[data['Sequence1'].isna()]"
   ]
  },
  {
   "cell_type": "code",
   "execution_count": null,
   "metadata": {},
   "outputs": [],
   "source": []
  }
 ],
 "metadata": {
  "kernelspec": {
   "display_name": "env_evo",
   "language": "python",
   "name": "python3"
  },
  "language_info": {
   "codemirror_mode": {
    "name": "ipython",
    "version": 3
   },
   "file_extension": ".py",
   "mimetype": "text/x-python",
   "name": "python",
   "nbconvert_exporter": "python",
   "pygments_lexer": "ipython3",
   "version": "3.8.10"
  }
 },
 "nbformat": 4,
 "nbformat_minor": 2
}
